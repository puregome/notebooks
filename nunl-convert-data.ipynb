{
 "cells": [
  {
   "cell_type": "markdown",
   "metadata": {},
   "source": [
    "## Nu.nl Convert Data\n",
    "\n",
    "Convert nu.nl data to text data format"
   ]
  },
  {
   "cell_type": "code",
   "execution_count": 1,
   "metadata": {},
   "outputs": [],
   "source": [
    "import datetime\n",
    "import os\n",
    "import pandas as pd\n",
    "import re\n",
    "import matplotlib.pyplot as plt\n",
    "import matplotlib.dates as mdates\n",
    "from IPython.display import clear_output"
   ]
  },
  {
   "cell_type": "code",
   "execution_count": 2,
   "metadata": {},
   "outputs": [],
   "source": [
    "DATADIRIN1 = \"../data/nunl/downloads/\"\n",
    "DATADIRIN2 = \"../data/nunl/downloads2/\"\n",
    "DATADIROUT = \"../data/nunl/text/\"\n",
    "FILEPATTERN = r\".\"\n",
    "DATEPATTERNIN = \"%m/%d/%Y, %I:%M:%S %p\"\n",
    "DATEPATTERNOUT = \"%Y%m%d-%H\"\n",
    "FILESUFFIX = \".out.gz\"\n",
    "DATE = \"date\"\n",
    "TEXT = \"text\"\n",
    "NAME = \"name\"\n",
    "ID = \"id\"\n",
    "IDSTR = \"id_str\"\n",
    "PARENT = \"parent\"\n",
    "REPLYID = \"in_reply_to_status_id_str\"\n",
    "USER = \"user\"\n",
    "VERIFIED = \"verified\""
   ]
  },
  {
   "cell_type": "code",
   "execution_count": 3,
   "metadata": {},
   "outputs": [],
   "source": [
    "def squeal(text=None):\n",
    "    clear_output(wait=True)\n",
    "    if not text is None: print(text)"
   ]
  },
  {
   "cell_type": "markdown",
   "metadata": {},
   "source": [
    "## Get all comments from downloaded files"
   ]
  },
  {
   "cell_type": "code",
   "execution_count": 5,
   "metadata": {},
   "outputs": [
    {
     "name": "stdout",
     "output_type": "stream",
     "text": [
      "weekend-6065116-68.csv\n"
     ]
    }
   ],
   "source": [
    "idStr = \"\"\n",
    "replyId = \"\"\n",
    "verified = \"\"\n",
    "dataPerHour = {}\n",
    "inFileNames1 = sorted(os.listdir(DATADIRIN1))\n",
    "\n",
    "for inFileName in inFileNames1:\n",
    "    if re.search(FILEPATTERN,inFileName):\n",
    "        squeal(inFileName)\n",
    "        try:\n",
    "            dfIn = pd.read_csv(DATADIRIN1+inFileName)\n",
    "        except:\n",
    "            continue\n",
    "        for i in range(0,len(dfIn)):\n",
    "            try:\n",
    "                hourStringComplete = dfIn.iloc[i][DATE]\n",
    "                date = datetime.datetime.strptime(hourStringComplete,DATEPATTERNIN)\n",
    "                hourStringHour = date.strftime(DATEPATTERNOUT)\n",
    "            except: break\n",
    "            if not hourStringHour in dataPerHour: dataPerHour[hourStringHour] = []\n",
    "            dataPerHour[hourStringHour].append(dfIn.iloc[i])"
   ]
  },
  {
   "cell_type": "code",
   "execution_count": 6,
   "metadata": {},
   "outputs": [
    {
     "name": "stdout",
     "output_type": "stream",
     "text": [
      "nunl-wielrennen-6067382-109.csv\n"
     ]
    }
   ],
   "source": [
    "inFileNames2 = sorted(os.listdir(DATADIRIN2))\n",
    "\n",
    "for inFileName in inFileNames2:\n",
    "    if re.search(FILEPATTERN,inFileName):\n",
    "        squeal(inFileName)\n",
    "        try:\n",
    "            dfIn = pd.read_csv(DATADIRIN2+inFileName)\n",
    "        except:\n",
    "            continue\n",
    "        for i in range(0,len(dfIn)):\n",
    "            try:\n",
    "                hourStringComplete = dfIn.iloc[i][DATE]\n",
    "                date = datetime.datetime.strptime(hourStringComplete,DATEPATTERNIN)\n",
    "                hourStringHour = date.strftime(DATEPATTERNOUT)\n",
    "            except: break\n",
    "            if not hourStringHour in dataPerHour: dataPerHour[hourStringHour] = []\n",
    "            dataPerHour[hourStringHour].append(dfIn.iloc[i])"
   ]
  },
  {
   "cell_type": "markdown",
   "metadata": {},
   "source": [
    "## Store all comments in hour files"
   ]
  },
  {
   "cell_type": "code",
   "execution_count": 8,
   "metadata": {},
   "outputs": [
    {
     "name": "stdout",
     "output_type": "stream",
     "text": [
      "20200806-22\n"
     ]
    }
   ],
   "source": [
    "for hourString in sorted(dataPerHour.keys()):\n",
    "    squeal(hourString)\n",
    "    outFileName = hourString+FILESUFFIX\n",
    "    if len(dataPerHour[hourString]) > 0:\n",
    "        dfOut = pd.DataFrame(dataPerHour[hourString]).rename(columns={ID:IDSTR,NAME:USER,PARENT:REPLYID})\n",
    "        del(dfOut[DATE])\n",
    "        dfOut[VERIFIED] = [\"\" for i in range(0,len(dfOut))]\n",
    "        dfOut.to_csv(DATADIROUT+outFileName,index=False,compression=\"gzip\")"
   ]
  },
  {
   "cell_type": "markdown",
   "metadata": {},
   "source": [
    "## Visualize number of comments per day"
   ]
  },
  {
   "cell_type": "code",
   "execution_count": 11,
   "metadata": {},
   "outputs": [],
   "source": [
    "def movingAverage(numberList,size):\n",
    "    newList = []\n",
    "    for i in range(0,len(numberList)):\n",
    "        numberUsed = 1\n",
    "        newList.append(numberList[i])\n",
    "        for j in range(1,size):\n",
    "            if i-j >= 0:\n",
    "                newList[i] += numberList[i-j]\n",
    "                numberUsed += 1\n",
    "        newList[i] /= numberUsed\n",
    "    return(newList)"
   ]
  },
  {
   "cell_type": "code",
   "execution_count": 9,
   "metadata": {},
   "outputs": [],
   "source": [
    "countsPerDate = {}\n",
    "for hourString in sorted(dataPerHour.keys()):\n",
    "    dateString = hourString[0:8]\n",
    "    if not dateString in countsPerDate: countsPerDate[dateString] = 0\n",
    "    countsPerDate[dateString] += len(dataPerHour[hourString])"
   ]
  },
  {
   "cell_type": "code",
   "execution_count": 13,
   "metadata": {},
   "outputs": [
    {
     "data": {
      "image/png": "[encoded data removed]",
      "text/plain": [
       "<Figure size 720x360 with 1 Axes>"
      ]
     },
     "metadata": {
      "needs_background": "light"
     },
     "output_type": "display_data"
    }
   ],
   "source": [
    "DATEFORMATDAY = \"%Y%m%d\"\n",
    "PLOTFILENAME = \"frequency-nunl.png\"\n",
    "WEEKLENGTH = 7\n",
    "\n",
    "x = [datetime.datetime.strptime(d,DATEFORMATDAY) for d in countsPerDate if d < \"20200801\"]\n",
    "y = [countsPerDate[d] for d in countsPerDate if d < \"20200801\"]\n",
    "\n",
    "plt.subplots(figsize=(10,5))\n",
    "ax = plt.subplot(111)\n",
    "plt.plot_date(x,movingAverage(y,WEEKLENGTH),fmt=\"-\")\n",
    "plt.xlabel(\"month-year\")\n",
    "plt.title(f\"Nu.nl comments on the COVID-19 pandemic per day (average over {WEEKLENGTH} days)\")\n",
    "ax.xaxis.set_major_formatter(mdates.DateFormatter(\"%m-%Y\"))\n",
    "plt.savefig(PLOTFILENAME)\n",
    "plt.show()"
   ]
  },
  {
   "cell_type": "code",
   "execution_count": null,
   "metadata": {},
   "outputs": [],
   "source": []
  }
 ],
 "metadata": {
  "kernelspec": {
   "display_name": "Python 3",
   "language": "python",
   "name": "python3"
  },
  "language_info": {
   "codemirror_mode": {
    "name": "ipython",
    "version": 3
   },
   "file_extension": ".py",
   "mimetype": "text/x-python",
   "name": "python",
   "nbconvert_exporter": "python",
   "pygments_lexer": "ipython3",
   "version": "3.7.3"
  }
 },
 "nbformat": 4,
 "nbformat_minor": 4
}
