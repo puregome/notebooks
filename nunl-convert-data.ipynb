{
 "cells": [
  {
   "cell_type": "markdown",
   "metadata": {},
   "source": [
    "## Nu.nl Convert Data\n",
    "\n",
    "Convert nu.nl data to text data format"
   ]
  },
  {
   "cell_type": "code",
   "execution_count": 1,
   "metadata": {},
   "outputs": [],
   "source": [
    "import datetime\n",
    "import os\n",
    "import pandas as pd\n",
    "import re\n",
    "from IPython.display import clear_output"
   ]
  },
  {
   "cell_type": "code",
   "execution_count": 2,
   "metadata": {},
   "outputs": [],
   "source": [
    "DATADIRIN = \"../data/nunl/comments/\"\n",
    "DATADIROUT = \"../data/nunl/text/\"\n",
    "FILEPATTERN = r\".\"\n",
    "DATEPATTERNIN = \"%m/%d/%Y, %H:%M:%S %p\"\n",
    "DATEPATTERNOUT = \"%Y%m%d-%H\"\n",
    "FILESUFFIX = \".out.gz\"\n",
    "DATE = \"date\"\n",
    "TEXT = \"text\"\n",
    "NAME = \"name\"\n",
    "ID = \"id\"\n",
    "IDSTR = \"id_str\"\n",
    "REPLYID = \"in_reply_to_status_id_str\"\n",
    "USER = \"user\"\n",
    "VERIFIED = \"verified\""
   ]
  },
  {
   "cell_type": "code",
   "execution_count": null,
   "metadata": {},
   "outputs": [],
   "source": [
    "idStr = \"\"\n",
    "replyId = \"\"\n",
    "verified = \"\"\n",
    "dataPerHour = {}\n",
    "inFileNames = sorted(os.listdir(DATADIRIN))\n",
    "\n",
    "for inFileName in inFileNames:\n",
    "    if re.search(FILEPATTERN,inFileName):\n",
    "        clear_output(wait=True)\n",
    "        print(inFileName)\n",
    "        try:\n",
    "            dfIn = pd.read_csv(DATADIRIN+inFileName)\n",
    "        except:\n",
    "            continue\n",
    "        for i in range(0,len(dfIn)):\n",
    "            try:\n",
    "                dateStringComplete = dfIn.iloc[i][DATE]\n",
    "                date = datetime.datetime.strptime(dateStringComplete,DATEPATTERNIN)\n",
    "                dateStringHour = date.strftime(DATEPATTERNOUT)\n",
    "            except: break\n",
    "            if not dateStringHour in dataPerHour: dataPerHour[dateStringHour] = []\n",
    "            dataPerHour[dateStringHour].append(dfIn.iloc[i])"
   ]
  },
  {
   "cell_type": "code",
   "execution_count": 8,
   "metadata": {},
   "outputs": [
    {
     "name": "stdout",
     "output_type": "stream",
     "text": [
      "20200726-11\n"
     ]
    }
   ],
   "source": [
    "for dateString in sorted(dataPerHour.keys()):\n",
    "    clear_output(wait=True)\n",
    "    print(dateString)\n",
    "    outFileName = dateString+FILESUFFIX\n",
    "    if os.path.exists(DATADIROUT+outFileName):\n",
    "        dfOut = pd.read_csv(DATADIROUT+outFileName,compression=\"gzip\")\n",
    "        for d in dataPerHour[dateString]:\n",
    "            dfOut.loc[len(dfOut)] = [idStr,replyId,d[NAME],verified,d[TEXT]]\n",
    "    elif len(dataPerHour[dateString]) > 0:\n",
    "        dfOut = pd.DataFrame([{IDSTR:idStr,REPLYID:replyId,USER:dataPerHour[dateString][0][NAME],\\\n",
    "                                VERIFIED:verified,TEXT:dataPerHour[dateString][0][TEXT]}])\n",
    "        for d in dataPerHour[dateString][1:]:\n",
    "            dfOut.loc[len(dfOut)] = [idStr,replyId,d[NAME],verified,d[TEXT]]\n",
    "    dfOut.to_csv(DATADIROUT+outFileName,index=False,compression=\"gzip\")"
   ]
  },
  {
   "cell_type": "code",
   "execution_count": null,
   "metadata": {},
   "outputs": [],
   "source": []
  }
 ],
 "metadata": {
  "kernelspec": {
   "display_name": "Python 3",
   "language": "python",
   "name": "python3"
  },
  "language_info": {
   "codemirror_mode": {
    "name": "ipython",
    "version": 3
   },
   "file_extension": ".py",
   "mimetype": "text/x-python",
   "name": "python",
   "nbconvert_exporter": "python",
   "pygments_lexer": "ipython3",
   "version": "3.7.3"
  }
 },
 "nbformat": 4,
 "nbformat_minor": 4
}
