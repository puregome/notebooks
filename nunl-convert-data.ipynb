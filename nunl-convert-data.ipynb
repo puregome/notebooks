{
 "cells": [
  {
   "cell_type": "markdown",
   "metadata": {},
   "source": [
    "## Nu.nl Convert Data\n",
    "\n",
    "Convert nu.nl data to text data format\n",
    "\n",
    "Each month run ../../scripts/combineNunlComments.sh to include the comments in the existing set"
   ]
  },
  {
   "cell_type": "code",
   "execution_count": 34,
   "metadata": {},
   "outputs": [],
   "source": [
    "import datetime\n",
    "import os\n",
    "import pandas as pd\n",
    "import re\n",
    "import matplotlib.pyplot as plt\n",
    "import matplotlib.dates as mdates\n",
    "from IPython.display import clear_output\n",
    "from nltk.tokenize import TweetTokenizer\n",
    "\n",
    "from pandas.plotting import register_matplotlib_converters\n",
    "register_matplotlib_converters()"
   ]
  },
  {
   "cell_type": "code",
   "execution_count": 3,
   "metadata": {},
   "outputs": [],
   "source": [
    "BASEDIR = \"../data/nunl/\"\n",
    "DATADIRIN = BASEDIR+\"downloads/\"\n",
    "DATADIRTEXT = BASEDIR+\"text/\"\n",
    "FILEPATTERN = r\".csv$\"\n",
    "DATEPATTERNIN = \"%m/%d/%Y, %I:%M:%S %p\"\n",
    "DATEPATTERNOUT = \"%Y%m%d-%H\"\n",
    "FILESUFFIX = \".out.gz\"\n",
    "DATE = \"date\"\n",
    "TEXT = \"text\"\n",
    "NAME = \"name\"\n",
    "ID = \"id\"\n",
    "IDSTR = \"id_str\"\n",
    "PARENT = \"parent\"\n",
    "REPLYID = \"in_reply_to_status_id_str\"\n",
    "USER = \"user\"\n",
    "VERIFIED = \"verified\""
   ]
  },
  {
   "cell_type": "code",
   "execution_count": 4,
   "metadata": {},
   "outputs": [],
   "source": [
    "def cleanup(text):\n",
    "    text = re.sub(r\"\\n\",NEWLINE,re.sub(r\"\\r\",NEWLINE,text))\n",
    "    text = re.sub(r\"https://\\S+\",\"\",text)\n",
    "    text = re.sub(r\"\\s+\",\" \",text)\n",
    "    text = text.strip()\n",
    "    return(text)\n",
    "\n",
    "def tokenize(text):\n",
    "    return(\" \".join(TweetTokenizer().tokenize(text)))\n",
    "\n",
    "def preprocess(text):\n",
    "    return(tokenize(cleanup(text)).lower())"
   ]
  },
  {
   "cell_type": "code",
   "execution_count": 17,
   "metadata": {},
   "outputs": [],
   "source": [
    "def makeDateFromHour(hour):\n",
    "    return(hour[0:8])\n"
   ]
  },
  {
   "cell_type": "code",
   "execution_count": 5,
   "metadata": {},
   "outputs": [],
   "source": [
    "def squeal(text=None):\n",
    "    clear_output(wait=True)\n",
    "    if not text is None: print(text)"
   ]
  },
  {
   "cell_type": "markdown",
   "metadata": {},
   "source": [
    "## Get all comments from downloaded files (run once per month)"
   ]
  },
  {
   "cell_type": "code",
   "execution_count": null,
   "metadata": {},
   "outputs": [],
   "source": [
    "idStr = \"\"\n",
    "replyId = \"\"\n",
    "verified = \"\"\n",
    "dataPerHour = {}\n",
    "inFileNames = sorted(os.listdir(DATADIRIN))\n",
    "monthCounts = {}\n",
    "\n",
    "for inFileName in inFileNames:\n",
    "    if re.search(FILEPATTERN,inFileName):\n",
    "        squeal(inFileName)\n",
    "        try:\n",
    "            dfIn = pd.read_csv(DATADIRIN+inFileName)\n",
    "        except:\n",
    "            continue\n",
    "        for i in range(0,len(dfIn)):\n",
    "            try:\n",
    "                hourStringComplete = dfIn.iloc[i][DATE]\n",
    "                date = datetime.datetime.strptime(hourStringComplete,DATEPATTERNIN)\n",
    "                hourStringHour = date.strftime(DATEPATTERNOUT)\n",
    "            except: break\n",
    "            if not hourStringHour in dataPerHour: dataPerHour[hourStringHour] = []\n",
    "            dataPerHour[hourStringHour].append(dfIn.iloc[i])\n",
    "            month = hourStringHour[0:6]\n",
    "            if not month in monthCounts: monthCounts[month] = 0\n",
    "            monthCounts[month] += 1"
   ]
  },
  {
   "cell_type": "code",
   "execution_count": null,
   "metadata": {},
   "outputs": [],
   "source": [
    "for month in sorted(monthCounts.keys()):\n",
    "    print(f\"{month}: {monthCounts[month]}\")\n",
    "print(\" total:\", sum(monthCounts.values())-monthCounts[list(monthCounts.keys())[-1]])"
   ]
  },
  {
   "cell_type": "markdown",
   "metadata": {},
   "source": [
    "## Store all comments in hour files (run once per month)"
   ]
  },
  {
   "cell_type": "code",
   "execution_count": null,
   "metadata": {},
   "outputs": [],
   "source": [
    "for hourString in sorted(dataPerHour.keys()):\n",
    "    squeal(hourString)\n",
    "    outFileName = hourString+FILESUFFIX\n",
    "    if len(dataPerHour[hourString]) > 0:\n",
    "        dfOut = pd.DataFrame(dataPerHour[hourString]).rename(columns={ID:IDSTR,NAME:USER,PARENT:REPLYID})\n",
    "        del(dfOut[DATE])\n",
    "        dfOut[VERIFIED] = [\"\" for i in range(0,len(dfOut))]\n",
    "        dfOut.to_csv(DATADIRTEXT+outFileName,index=False,compression=\"gzip\")"
   ]
  },
  {
   "cell_type": "markdown",
   "metadata": {},
   "source": [
    "## Read data"
   ]
  },
  {
   "cell_type": "code",
   "execution_count": 7,
   "metadata": {},
   "outputs": [
    {
     "name": "stdout",
     "output_type": "stream",
     "text": [
      "20210203-16.out.gz\n"
     ]
    }
   ],
   "source": [
    "def fileNameToHourString(fileName):\n",
    "    return(fileName[0:11])\n",
    "\n",
    "dataPerHour = {}\n",
    "inFileNames = sorted(os.listdir(DATADIRTEXT))\n",
    "for inFileName in inFileNames:\n",
    "    squeal(inFileName)\n",
    "    hourString = fileNameToHourString(inFileName)\n",
    "    df = pd.read_csv(DATADIRTEXT+inFileName).rename(columns={IDSTR:ID,USER:NAME,REPLYID:PARENT})\n",
    "    dataPerHour[hourString] = list(df.T.to_dict(orient=\"dict\").values())"
   ]
  },
  {
   "cell_type": "markdown",
   "metadata": {},
   "source": [
    "## Visualize number of comments per day"
   ]
  },
  {
   "cell_type": "code",
   "execution_count": 6,
   "metadata": {},
   "outputs": [],
   "source": [
    "def movingAverage(numberList,size):\n",
    "    newList = []\n",
    "    for i in range(0,len(numberList)):\n",
    "        numberUsed = 1\n",
    "        newList.append(numberList[i])\n",
    "        for j in range(1,size):\n",
    "            if i-j >= 0:\n",
    "                newList[i] += numberList[i-j]\n",
    "                numberUsed += 1\n",
    "        newList[i] /= numberUsed\n",
    "    return(newList)"
   ]
  },
  {
   "cell_type": "code",
   "execution_count": 7,
   "metadata": {},
   "outputs": [],
   "source": [
    "countsPerDate = {}\n",
    "for hourString in sorted(dataPerHour.keys()):\n",
    "    dateString = hourString[0:8]\n",
    "    if not dateString in countsPerDate: countsPerDate[dateString] = 0\n",
    "    countsPerDate[dateString] += len(dataPerHour[hourString])"
   ]
  },
  {
   "cell_type": "code",
   "execution_count": 8,
   "metadata": {},
   "outputs": [
    {
     "data": {
      "image/png": "[encoded data removed]",
      "text/plain": [
       "<Figure size 360x360 with 1 Axes>"
      ]
     },
     "metadata": {
      "needs_background": "light"
     },
     "output_type": "display_data"
    }
   ],
   "source": [
    "DATEFORMATDAY = \"%Y%m%d\"\n",
    "PLOTFILENAME = \"frequency-nunl.png\"\n",
    "COMBINEDDAYS = 1\n",
    "FIRSTDATE = \"20200301\"\n",
    "FINALDATE = \"20201231\"\n",
    "\n",
    "x = [datetime.datetime.strptime(d,DATEFORMATDAY) for d in countsPerDate if d >= FIRSTDATE and d <= FINALDATE]\n",
    "y = [countsPerDate[d] for d in countsPerDate if d >= FIRSTDATE and d <= FINALDATE]\n",
    "\n",
    "fig,ax = plt.subplots(figsize=(5,5))\n",
    "plt.plot_date(x,movingAverage(y,COMBINEDDAYS),fmt=\"-\")\n",
    "plt.xlabel(\"day/month\")\n",
    "plt.ylabel(\"count per day\")\n",
    "title = \"Nu.nl comments on the COVID-19 pandemic per day\"\n",
    "if COMBINEDDAYS > 1: title += f\" (average over {COMBINED} days)\"\n",
    "plt.title(title)\n",
    "ax.xaxis.set_major_formatter(mdates.DateFormatter(\"%-d/%-m\"))\n",
    "plt.savefig(PLOTFILENAME)\n",
    "plt.show()"
   ]
  },
  {
   "cell_type": "markdown",
   "metadata": {},
   "source": [
    "## Visualize query words"
   ]
  },
  {
   "cell_type": "code",
   "execution_count": 9,
   "metadata": {},
   "outputs": [
    {
     "name": "stdout",
     "output_type": "stream",
     "text": [
      "20200501 blijfthuis\n"
     ]
    },
    {
     "ename": "KeyboardInterrupt",
     "evalue": "",
     "output_type": "error",
     "traceback": [
      "\u001b[0;31m---------------------------------------------------------------------------\u001b[0m",
      "\u001b[0;31mKeyboardInterrupt\u001b[0m                         Traceback (most recent call last)",
      "\u001b[0;32m<ipython-input-9-b7e4fa74ca67>\u001b[0m in \u001b[0;36m<module>\u001b[0;34m\u001b[0m\n\u001b[1;32m     30\u001b[0m         \u001b[0;32mif\u001b[0m \u001b[0mre\u001b[0m\u001b[0;34m.\u001b[0m\u001b[0msearch\u001b[0m\u001b[0;34m(\u001b[0m\u001b[0;34m\"01-12$\"\u001b[0m\u001b[0;34m,\u001b[0m\u001b[0mhourString\u001b[0m\u001b[0;34m)\u001b[0m\u001b[0;34m:\u001b[0m \u001b[0msqueal\u001b[0m\u001b[0;34m(\u001b[0m\u001b[0mdate\u001b[0m\u001b[0;34m+\u001b[0m\u001b[0;34m\" \"\u001b[0m\u001b[0;34m+\u001b[0m\u001b[0mquery\u001b[0m\u001b[0;34m)\u001b[0m\u001b[0;34m\u001b[0m\u001b[0;34m\u001b[0m\u001b[0m\n\u001b[1;32m     31\u001b[0m         \u001b[0;32mfor\u001b[0m \u001b[0mi\u001b[0m \u001b[0;32min\u001b[0m \u001b[0mrange\u001b[0m\u001b[0;34m(\u001b[0m\u001b[0;36m0\u001b[0m\u001b[0;34m,\u001b[0m\u001b[0mlen\u001b[0m\u001b[0;34m(\u001b[0m\u001b[0mdataPerHour\u001b[0m\u001b[0;34m[\u001b[0m\u001b[0mhourString\u001b[0m\u001b[0;34m]\u001b[0m\u001b[0;34m)\u001b[0m\u001b[0;34m)\u001b[0m\u001b[0;34m:\u001b[0m\u001b[0;34m\u001b[0m\u001b[0;34m\u001b[0m\u001b[0m\n\u001b[0;32m---> 32\u001b[0;31m             \u001b[0;32mif\u001b[0m \u001b[0mre\u001b[0m\u001b[0;34m.\u001b[0m\u001b[0msearch\u001b[0m\u001b[0;34m(\u001b[0m\u001b[0mquerySearch\u001b[0m\u001b[0;34m,\u001b[0m\u001b[0mdataPerHour\u001b[0m\u001b[0;34m[\u001b[0m\u001b[0mhourString\u001b[0m\u001b[0;34m]\u001b[0m\u001b[0;34m[\u001b[0m\u001b[0mi\u001b[0m\u001b[0;34m]\u001b[0m\u001b[0;34m[\u001b[0m\u001b[0mTEXT\u001b[0m\u001b[0;34m]\u001b[0m\u001b[0;34m,\u001b[0m\u001b[0mflags\u001b[0m\u001b[0;34m=\u001b[0m\u001b[0mre\u001b[0m\u001b[0;34m.\u001b[0m\u001b[0mIGNORECASE\u001b[0m\u001b[0;34m)\u001b[0m\u001b[0;34m:\u001b[0m\u001b[0;34m\u001b[0m\u001b[0;34m\u001b[0m\u001b[0m\n\u001b[0m\u001b[1;32m     33\u001b[0m                 \u001b[0;32mif\u001b[0m \u001b[0;32mnot\u001b[0m \u001b[0mdate\u001b[0m \u001b[0;32min\u001b[0m \u001b[0mqueryCounts\u001b[0m\u001b[0;34m[\u001b[0m\u001b[0mquery\u001b[0m\u001b[0;34m]\u001b[0m\u001b[0;34m:\u001b[0m \u001b[0mqueryCounts\u001b[0m\u001b[0;34m[\u001b[0m\u001b[0mquery\u001b[0m\u001b[0;34m]\u001b[0m\u001b[0;34m[\u001b[0m\u001b[0mdate\u001b[0m\u001b[0;34m]\u001b[0m \u001b[0;34m=\u001b[0m \u001b[0;36m0\u001b[0m\u001b[0;34m\u001b[0m\u001b[0;34m\u001b[0m\u001b[0m\n\u001b[1;32m     34\u001b[0m                 \u001b[0mqueryCounts\u001b[0m\u001b[0;34m[\u001b[0m\u001b[0mquery\u001b[0m\u001b[0;34m]\u001b[0m\u001b[0;34m[\u001b[0m\u001b[0mdate\u001b[0m\u001b[0;34m]\u001b[0m \u001b[0;34m+=\u001b[0m \u001b[0;36m1\u001b[0m\u001b[0;34m\u001b[0m\u001b[0;34m\u001b[0m\u001b[0m\n",
      "\u001b[0;32m~/anaconda3/lib/python3.6/re.py\u001b[0m in \u001b[0;36msearch\u001b[0;34m(pattern, string, flags)\u001b[0m\n\u001b[1;32m    180\u001b[0m     \"\"\"Scan through string looking for a match to the pattern, returning\n\u001b[1;32m    181\u001b[0m     a match object, or None if no match was found.\"\"\"\n\u001b[0;32m--> 182\u001b[0;31m     \u001b[0;32mreturn\u001b[0m \u001b[0m_compile\u001b[0m\u001b[0;34m(\u001b[0m\u001b[0mpattern\u001b[0m\u001b[0;34m,\u001b[0m \u001b[0mflags\u001b[0m\u001b[0;34m)\u001b[0m\u001b[0;34m.\u001b[0m\u001b[0msearch\u001b[0m\u001b[0;34m(\u001b[0m\u001b[0mstring\u001b[0m\u001b[0;34m)\u001b[0m\u001b[0;34m\u001b[0m\u001b[0;34m\u001b[0m\u001b[0m\n\u001b[0m\u001b[1;32m    183\u001b[0m \u001b[0;34m\u001b[0m\u001b[0m\n\u001b[1;32m    184\u001b[0m \u001b[0;32mdef\u001b[0m \u001b[0msub\u001b[0m\u001b[0;34m(\u001b[0m\u001b[0mpattern\u001b[0m\u001b[0;34m,\u001b[0m \u001b[0mrepl\u001b[0m\u001b[0;34m,\u001b[0m \u001b[0mstring\u001b[0m\u001b[0;34m,\u001b[0m \u001b[0mcount\u001b[0m\u001b[0;34m=\u001b[0m\u001b[0;36m0\u001b[0m\u001b[0;34m,\u001b[0m \u001b[0mflags\u001b[0m\u001b[0;34m=\u001b[0m\u001b[0;36m0\u001b[0m\u001b[0;34m)\u001b[0m\u001b[0;34m:\u001b[0m\u001b[0;34m\u001b[0m\u001b[0;34m\u001b[0m\u001b[0m\n",
      "\u001b[0;31mKeyboardInterrupt\u001b[0m: "
     ]
    }
   ],
   "source": [
    "TOPIC = \"topic\"\n",
    "DISTANCE = \"distance\"\n",
    "LOCKDOWN =\"lockdown\"\n",
    "QUERYLIST = f\"corona covid mondkapje rivm blijfthuis houvol huisarts flattenthecurve {TOPIC} {DISTANCE} {LOCKDOWN} pandemic vaccin avondklok\".split()\n",
    "TOPICQUERY = \"corona|covid|mondkapje|rivm|blijfthuis|houvol|huisarts|flattenthecurve\"\n",
    "PANDEMICQUERY = \"|\".join([TOPICQUERY, r'virus|besmet|ziekenhui|\\bic\\b|intensive.care|^zorg|vaccin|[^ad]arts|uitbraak|uitbrak|pandemie|ggd|'+\n",
    "                                      r'mondkapje|quarantaine|\\bwho\\b|avondklok|variant|verple|sympto|e.golf|mutant|^omt$|umc|hcq|'+\n",
    "                                      r'hydroxychloroquine|virolo|zkh|oversterfte|patiënt|patient|intensivist|🦠|ivermectin'])\n",
    "VACCINQUERY = \"vaccin|ingeënt|ingeent|inent|prik|spuit|bijwerking|-->|💉|pfizer|moderna|astrazeneca|astra|zeneca|novavax|biontech\"\n",
    "TESTQUERY = r'\\btest|getest|sneltest|pcr'\n",
    "DISTANCEQUERY = \"1[.,]5[ -]*m|afstand.*hou|hou.*afstand|anderhalve[ -]*meter\"\n",
    "LOCKDOWNQUERY = \"lock.down|lockdown\"\n",
    "TOTAL = \"total\"\n",
    "PANDEMIC = \"pandemic\"\n",
    "\n",
    "queryCounts = {}\n",
    "for query in QUERYLIST:\n",
    "    queryCounts[query] = {}\n",
    "    if query == TOPIC: querySearch = TOPICQUERY\n",
    "    elif query == DISTANCE: querySearch = DISTANCEQUERY\n",
    "    elif query == LOCKDOWN: querySearch = LOCKDOWNQUERY\n",
    "    elif query == \"vaccin\": querySearch = VACCINQUERY\n",
    "    elif query == PANDEMIC: querySearch = \"|\".join([PANDEMICQUERY, TESTQUERY, VACCINQUERY, LOCKDOWNQUERY, DISTANCEQUERY])\n",
    "    else: querySearch = query\n",
    "    for hourString in sorted(dataPerHour.keys()):\n",
    "        date = makeDateFromHour(hourString)\n",
    "        if re.search(\"01-12$\",hourString): squeal(date+\" \"+query)\n",
    "        for i in range(0,len(dataPerHour[hourString])):\n",
    "            if re.search(querySearch,dataPerHour[hourString][i][TEXT],flags=re.IGNORECASE):\n",
    "                if not date in queryCounts[query]: queryCounts[query][date] = 0\n",
    "                queryCounts[query][date] += 1\n",
    "\n",
    "queryCounts[TOTAL] = {}\n",
    "for hourString in sorted(dataPerHour.keys()):\n",
    "    date = makeDateFromHour(hourString)\n",
    "    if re.search(\"-12$\",hourString): squeal(date+\" \"+TOTAL)\n",
    "    for i in range(0,len(dataPerHour[hourString])):\n",
    "        if not date in queryCounts[TOTAL]: queryCounts[TOTAL][date] = 0\n",
    "        queryCounts[TOTAL][date] += 1\n",
    "\n",
    "totals = {}\n",
    "for query in QUERYLIST+[TOTAL]:\n",
    "    totals[query] = sum(queryCounts[query].values())"
   ]
  },
  {
   "cell_type": "code",
   "execution_count": null,
   "metadata": {},
   "outputs": [],
   "source": [
    "def movingAverage(numberList,size):\n",
    "    newList = []\n",
    "    for i in range(0,len(numberList)):\n",
    "        numberUsed = 1\n",
    "        newList.append(numberList[i])\n",
    "        for j in range(1,size):\n",
    "            if i-j >= 0:\n",
    "                newList[i] += numberList[i-j]\n",
    "                numberUsed += 1\n",
    "        newList[i] /= numberUsed\n",
    "    return(newList)"
   ]
  },
  {
   "cell_type": "code",
   "execution_count": null,
   "metadata": {},
   "outputs": [],
   "source": [
    "WEEKSIZE = 7\n",
    "\n",
    "queryCounts7 = {}\n",
    "for query in QUERYLIST:\n",
    "    try:\n",
    "        sortedKeys = list(sorted(queryCounts[query].keys()))\n",
    "        sortedValues = [queryCounts[query][d] for d in sortedKeys]\n",
    "        newSortedValues = movingAverage(sortedValues,WEEKSIZE)\n",
    "        queryCounts7[query] = {sortedKeys[i]:newSortedValues[i] for i in range(0,len(sortedKeys))}\n",
    "    except: pass"
   ]
  },
  {
   "cell_type": "code",
   "execution_count": null,
   "metadata": {},
   "outputs": [],
   "source": [
    "def prettyPrintNumber(number):\n",
    "    digits = str(number)\n",
    "    prettyNumber = \"\"\n",
    "    for i in range(-1,-len(digits)-1,-1):\n",
    "        prettyNumber = digits[i]+prettyNumber\n",
    "        if i % 3 == 0 and i > -len(digits): prettyNumber = \",\"+prettyNumber\n",
    "    return(prettyNumber)\n",
    "\n",
    "def makeLabel(name,count):\n",
    "    if name == TOPIC: label = \"pandemic\"\n",
    "    elif name == DISTANCE: label = \"social distancing\"\n",
    "    elif name == \"rivm\": label = \"RIVM\"\n",
    "    elif name == \"vaccin\": label = \"vaccination\"\n",
    "    elif name == \"mondkapje\": label = \"face masks\"\n",
    "    else: label = name\n",
    "    return(label+\" (\"+prettyPrintNumber(count)+\")\")"
   ]
  },
  {
   "cell_type": "code",
   "execution_count": null,
   "metadata": {},
   "outputs": [],
   "source": [
    "PLOTFILENAME = \"term-frequency-nunl.png\"\n",
    "PLOTTOPICS = [PANDEMIC, \"corona\", \"vaccin\", \"covid\", \"mondkapje\", DISTANCE, \"avondklok\"]\n",
    "FIRSTDATE = \"20200201\"\n",
    "FINALDATE = \"20210131\"\n",
    "\n",
    "fig,ax = plt.subplots(figsize=(6,6))\n",
    "for query in PLOTTOPICS:\n",
    "    try:\n",
    "        x = [datetime.datetime.strptime(d,DATEFORMATDAY) for d in queryCounts7[query] if d >= FIRSTDATE and d <= FINALDATE]\n",
    "        y = [queryCounts7[query][d] for d in queryCounts7[query] if d >= FIRSTDATE and d <= FINALDATE]\n",
    "        plt.plot_date(x,y,fmt=\"-\",label=makeLabel(query,totals[query]))\n",
    "    except: pass\n",
    "plt.xlabel(\"day/month\")\n",
    "plt.ylabel(\"count per day\")\n",
    "plt.title(f\"Terms in Nu.nl comments (average over {WEEKSIZE} days)\")\n",
    "plt.legend(framealpha=0.2,loc=\"upper center\")\n",
    "ax.xaxis.set_major_formatter(mdates.DateFormatter(\"%-d/%-m\"))\n",
    "plt.savefig(PLOTFILENAME)\n",
    "plt.show()"
   ]
  },
  {
   "cell_type": "code",
   "execution_count": null,
   "metadata": {},
   "outputs": [],
   "source": [
    "NBROFCOMBINEDITEMS = 7\n",
    "\n",
    "def summarizeXY(x,y,nbrOfCombinedItems=NBROFCOMBINEDITEMS):\n",
    "    summarizedX = []\n",
    "    summarizedY = []\n",
    "    yCombined = 0\n",
    "    for i in range(0,len(y)):\n",
    "        yCombined += y[i]\n",
    "        if (i+1)%nbrOfCombinedItems == 0:\n",
    "            summarizedX.append(x[i])\n",
    "            summarizedY.append(yCombined)\n",
    "            yCombined = 0\n",
    "    if len(y)%nbrOfCombinedItems != 0:\n",
    "        summarizedX.append(x[i])\n",
    "        summarizedY.append(yCombined)\n",
    "    return(summarizedX,summarizedY)"
   ]
  },
  {
   "cell_type": "code",
   "execution_count": null,
   "metadata": {},
   "outputs": [],
   "source": [
    "INITDAYSSKIPPED = 0\n",
    "PLOTFILENAME = \"term-percentages-nunl.png\"\n",
    "\n",
    "fig,ax = plt.subplots(figsize=(6,6))\n",
    "for query in PLOTTOPICS:\n",
    "    try:\n",
    "        x = [datetime.datetime.strptime(d,DATEFORMATDAY) for d in queryCounts7[query]][INITDAYSSKIPPED:]\n",
    "        y = [queryCounts[query][d]/queryCounts[TOTAL][d] for d in queryCounts[query]][INITDAYSSKIPPED:]\n",
    "        summarizedX,summarizedY = summarizeXY(x,y)\n",
    "        plt.plot_date(summarizedX,summarizedY,fmt=\"-\",label=f\"{query} ({totals[query]})\")\n",
    "    except: pass\n",
    "plt.xlabel(\"day/month\")\n",
    "plt.ylabel(\"percentage\")\n",
    "plt.title(f\"Percentage of terms in Nu.nl comments (per week)\")\n",
    "plt.legend()\n",
    "ax.xaxis.set_major_formatter(mdates.DateFormatter(\"%-d/%-m\"))\n",
    "plt.savefig(PLOTFILENAME)\n",
    "plt.show()"
   ]
  },
  {
   "cell_type": "markdown",
   "metadata": {},
   "source": [
    "## Word clouds"
   ]
  },
  {
   "cell_type": "code",
   "execution_count": 12,
   "metadata": {},
   "outputs": [],
   "source": [
    "from wordcloud import WordCloud\n",
    "from collections import Counter"
   ]
  },
  {
   "cell_type": "code",
   "execution_count": 13,
   "metadata": {},
   "outputs": [],
   "source": [
    "def show_wordcloud(term_frequencies):\n",
    "    plt.figure(figsize=(30, 30))\n",
    "    plt.imshow(term_frequencies, interpolation=\"bilinear\")\n",
    "    plt.axis(\"off\")\n",
    "    plt.savefig(\"wordcloud.png\")\n",
    "    plt.show()"
   ]
  },
  {
   "cell_type": "code",
   "execution_count": 28,
   "metadata": {},
   "outputs": [],
   "source": [
    "stopwords = (\"aan aangezien absoluut achter af afgelopen al algemeen alle alleen allemaal allen alles als alsnog alsof altijd ander andere anders \"\n",
    "\"antwoord april art augustus basis beeld beetje begin beginnen begint begrijp behalve beide bekend belangrijk ben benieuwd bent bepaalde \"\n",
    "\"beperkt best beste betekent beter betreft bezig bij bijna bijv bijvoorbeeld blijf blijft blijkbaar blijkt blijven boven bovendien brengen buiten buurt \"\n",
    "\"buurten compleet daadwerkelijk daar daarbij daardoor daarmee daarna daarnaast daarom daarvan daarvoor dacht dag dagen dan dat de december deel denk \"\n",
    "\"denken denkt deze dezelfde die dingen direct dit doe doen doet door doordat drie duidelijk dus duurt echt echte echter edit een eens eerder eerlijk eerst \"\n",
    "\"eerste eigen eigenlijk eind eindelijk elk elkaar elke en ene enige enkel enkele enorm er erg ergens erger ervan ervoor etc even extra februari fijn flink fout \"\n",
    "\"ga gaan gaat gebeuren gebeurt gebruik gebruiken gebruikt gedaan geef geeft geen gegaan gegeven gehad gehouden gek geldt geleden gelijk gelukkig gemaakt genoeg genomen geval \"\n",
    "\"geven gevoel gevolgen geweest gewoon geworden gezegd gezien ging gisteren goed goede gooi gooien graag groep groot grootste  grote groter haar had hadden halen half hard heb hebben \"\n",
    "\"hebt heeft heel heen helaas hele helemaal helpt hem hen het hetzelfde hier hij hoe hoeft hoeveel hoeveelheid hoeven hoger hoog hoop hoor hopelijk hopen horen hou houd houden \"\n",
    "\"houdt huidige hun idee ieder iedere iedereen iemand iets ik in inderdaad ineens informatie ingevoerd inmiddels ipv is ivm ja januari jaren je jezelf jij jonge \"\n",
    "\"jou jouw juist juli jullie juni kan kans kant keer kijk kijken klaar klein kleine klinkt klopt kom komen komende komt kon kreeg krijg krijgen krijgt kun kunnen \"\n",
    "\"kunt kwam laag laat laatste land landen lang lange langer langs last lastig laten later leer lees lekker letterlijk leven lezen liever liggen ligt lijken lijkt \"\n",
    "\"logisch loopt lopen los m'n maak maakt maand maar maart mag maken makkelijk makkelijker man manier me mee meer meerdere meest meeste mei men mensen met \"\n",
    "\"meteen middel mij mijn minder misschien mocht moeilijk moest moet moeten mogelijk mogen moment momenteel morgen na naar naast namelijk \"\n",
    "\"natuurlijk nauwelijk nauwelijks nederland nederlander nederlanders nederlandse nee neem neemt nemen nergens net niemand niet niets nieuw nieuwe niks nl no \"\n",
    "\"nodig nog nogal nooit normaal normale nou november nu of ofzo oktober om omdat on ondanks onder ondertussen ongeveer ons onze ooit ook op openlijk open over overal \"\n",
    "\"overigens pa paar pakken pas per persoonlijk plek plekken praten precies prima probeer proberen punt qua raken redelijk relatief rest roepen rond samen september serieus simpelweg \"\n",
    "\"sinds slechts snap snel sneller som sommige soms soort sowieso staan staat steed steeds stel stellen sterk strak straks stuk te tegen ten terecht terug \"\n",
    "\"terwijl teveel the tijd tijden tijdens to toch toe toen tot totaal trouwens tussen twee u uit uiteindelijk uiteraard uur uw vaak vaker vallen valt van vanaf vandaag vanuit vanwege \"\n",
    "\"vast vd veel velen ver verder verhaal verkeerd verplicht verschil verschillende vertrouwen vervolgens verwacht verwachten via vind vinden vindt voelt vol \"\n",
    "\"voldoende volgen volgende volgens volledig vond voor vooral voorbij voordat voorkomen vorige vraag vrij vrijdag vrijwel vroeg vs waar waarbij waardoor waarin waarom \"\n",
    "\"waarschijnlijk waarvan wachten wanneer want waren was wat we week weer weet weg weinig wel welke wellicht werd werden werken werkt weten wie wij wil willen \"\n",
    "\"wilt woord word worden wordt x200b z'n zag zal zat ze zeer zeg zeggen zegt zei zeker zelf zelfs zetten zich zichzelf zie zien ziet zij zijn zin zit zitten zo zo'n \"\n",
    "\"zoal zoals zodat zodra zoeken zolang zonder zorgen zorgt zou zouden zoveel zover zowel zullen zwaar één\"\n",
    ")"
   ]
  },
  {
   "cell_type": "code",
   "execution_count": 21,
   "metadata": {},
   "outputs": [],
   "source": [
    "wordcloud = WordCloud(max_font_size=50, max_words=200, background_color=\"white\", width=600, height=300, collocations=False, normalize_plurals=False, relative_scaling=1, regexp=r\"\\w[\\w']+\",\n",
    "                      stopwords=(stopwords).split())"
   ]
  },
  {
   "cell_type": "code",
   "execution_count": 36,
   "metadata": {},
   "outputs": [],
   "source": [
    "text = \"\"\n",
    "for hourString in sorted(dataPerHour.keys()):\n",
    "    date = makeDateFromHour(hourString)\n",
    "    #if not re.search(\"202101\", date):\n",
    "    #    continue\n",
    "    for i in range(0, len(dataPerHour[hourString])):\n",
    "        text += \" \" + dataPerHour[hourString][i][TEXT]"
   ]
  },
  {
   "cell_type": "code",
   "execution_count": null,
   "metadata": {},
   "outputs": [],
   "source": [
    "NBR_OF_TOKENS = 200\n",
    "\n",
    "#token_freqs = Counter(tokenize(text.lower()).split())\n",
    "token_freqs = {}\n",
    "for token in tokenize(text.lower()).split():\n",
    "    if token in token_freqs:\n",
    "        token_freqs[token] += 1\n",
    "    else:\n",
    "        token_freqs[token] = 1\n",
    "top = dict([(t,token_freqs[t]) for t in sorted(token_freqs.keys(),key=lambda t:token_freqs[t], reverse=True) if t not in stopwords.split() and re.search(\"[a-z]\", t) and len(t) > 1][:NBR_OF_TOKENS])\n",
    "show_wordcloud(wordcloud.generate_from_frequencies(top))"
   ]
  },
  {
   "cell_type": "code",
   "execution_count": 1,
   "metadata": {},
   "outputs": [
    {
     "ename": "NameError",
     "evalue": "name 'token_freqs' is not defined",
     "output_type": "error",
     "traceback": [
      "\u001b[0;31m---------------------------------------------------------------------------\u001b[0m",
      "\u001b[0;31mNameError\u001b[0m                                 Traceback (most recent call last)",
      "\u001b[0;32m<ipython-input-1-46c21659d7ca>\u001b[0m in \u001b[0;36m<module>\u001b[0;34m\u001b[0m\n\u001b[0;32m----> 1\u001b[0;31m \u001b[0mtoken_freqs\u001b[0m\u001b[0;34m\u001b[0m\u001b[0;34m\u001b[0m\u001b[0m\n\u001b[0m",
      "\u001b[0;31mNameError\u001b[0m: name 'token_freqs' is not defined"
     ]
    }
   ],
   "source": [
    "token_freqs"
   ]
  },
  {
   "cell_type": "code",
   "execution_count": null,
   "metadata": {},
   "outputs": [],
   "source": []
  }
 ],
 "metadata": {
  "kernelspec": {
   "display_name": "Python 3",
   "language": "python",
   "name": "python3"
  },
  "language_info": {
   "codemirror_mode": {
    "name": "ipython",
    "version": 3
   },
   "file_extension": ".py",
   "mimetype": "text/x-python",
   "name": "python",
   "nbconvert_exporter": "python",
   "pygments_lexer": "ipython3",
   "version": "3.6.11"
  }
 },
 "nbformat": 4,
 "nbformat_minor": 4
}
