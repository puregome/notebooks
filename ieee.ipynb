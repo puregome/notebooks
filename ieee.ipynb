{
 "cells": [
  {
   "cell_type": "markdown",
   "metadata": {},
   "source": [
    "# IEEE eScience paper\n",
    "\n",
    "Compare stances over time derived from tweets with stances from other sources, for example RIVM behavioral studies.\n",
    "\n",
    "This notebook reuses code from the notebooks:\n",
    "* domain-adaptation.ipynb\n",
    "* fasttext.ipynb\n",
    "* tweet-counts.ipynb\n",
    "\n",
    "RIVM measures that were evaluated:\n",
    "* Naleving gedragsregels / Houden aan gedragsregels / Voldoende afstand houden van anderen\n",
    "* Naleving gedragsregels / Houden aan gedragsregels / Mondkapje in publieke binnenruimten\n",
    "* Naleving gedragsregels / Testen / Klachten totaal\n",
    "* Vaccinatiebereidheid / Totaal\n",
    "* Naleving gedragsregels / Houden aan gedragsregels / Avondklok niet naar buiten geweest"
   ]
  },
  {
   "cell_type": "markdown",
   "metadata": {},
   "source": [
    "## 1. Read data"
   ]
  },
  {
   "cell_type": "code",
   "execution_count": 1,
   "metadata": {},
   "outputs": [],
   "source": [
    "from nltk.tokenize import TweetTokenizer\n",
    "import pandas as pd\n",
    "import re"
   ]
  },
  {
   "cell_type": "code",
   "execution_count": 60,
   "metadata": {},
   "outputs": [],
   "source": [
    "DATA_DIR = \"../data/\"\n",
    "ANNOTATION_DIR = DATA_DIR + \"annotation/\"\n",
    "CURFEW = \"curfew\"\n",
    "DISTANCE = \"distance\"\n",
    "DISTANCE1000 = \"distance1000\"\n",
    "FACEMASK = \"mondkapje\"\n",
    "TESTING = \"testing\"\n",
    "VACCINATION = \"vaccin\"\n",
    "WORKFROMHOME = \"work-from-home\"\n",
    "TOPICS = [ CURFEW, DISTANCE1000, FACEMASK, TESTING, VACCINATION, WORKFROMHOME ]\n",
    "IDSTR = \"id_str\"\n",
    "IRRELEVANT = \"ANDERS\"\n",
    "TOTAL = \"total\""
   ]
  },
  {
   "cell_type": "code",
   "execution_count": 3,
   "metadata": {},
   "outputs": [],
   "source": [
    "def cleanup(text):\n",
    "    text = re.sub(r\"\\\\n\",\" \",text)\n",
    "    text = re.sub(r\"https://\\S+\",\"\",text)\n",
    "    text = re.sub(r\"\\s+\",\" \",text)\n",
    "    text = text.strip()\n",
    "    return(text)"
   ]
  },
  {
   "cell_type": "code",
   "execution_count": 4,
   "metadata": {},
   "outputs": [],
   "source": [
    "def tokenize(text):\n",
    "    return(\" \".join(TweetTokenizer().tokenize(text)))"
   ]
  },
  {
   "cell_type": "code",
   "execution_count": 5,
   "metadata": {},
   "outputs": [],
   "source": [
    "def preprocess(text):\n",
    "    return(tokenize(cleanup(text)).lower())"
   ]
  },
  {
   "cell_type": "code",
   "execution_count": 6,
   "metadata": {},
   "outputs": [],
   "source": [
    "def select_annotations(annotations_in, tweets, main_annotator):\n",
    "    annotations_out = {}\n",
    "    for i, row in annotations_in.iterrows():\n",
    "        if row[0]== main_annotator:\n",
    "            id_str = row[2]\n",
    "            label = row[4]\n",
    "            if id_str in tweets.index:\n",
    "                annotations_out[id_str] = { \"label\": label, \"text\": preprocess(tweets.loc[id_str][\"text\"]) }\n",
    "    return annotations_out"
   ]
  },
  {
   "cell_type": "code",
   "execution_count": 7,
   "metadata": {},
   "outputs": [],
   "source": [
    "def read_data_topic(topic):\n",
    "    if topic == TESTING:\n",
    "        tweet_file = ANNOTATION_DIR + topic + \"-202003-202012.csv\"\n",
    "    elif topic == FACEMASK:\n",
    "        tweet_file = ANNOTATION_DIR + topic + \"-202003-202103-1000.csv\"\n",
    "    elif topic == VACCINATION:\n",
    "        tweet_file = ANNOTATION_DIR + topic + \"-202001-202105.csv\"\n",
    "    elif topic == CURFEW:\n",
    "        tweet_file = ANNOTATION_DIR + topic + \"-202003-202105.csv\"\n",
    "    elif topic == WORKFROMHOME:\n",
    "        tweet_file = ANNOTATION_DIR + topic + \"-202003-202105.csv\"\n",
    "    elif topic == DISTANCE:\n",
    "        tweet_file = DATA_DIR + topic + \"-tweets.csv\"\n",
    "    else:\n",
    "        print(f\"read_fasttext_data: unknown topic: {topic}\")\n",
    "    tweets = pd.read_csv(tweet_file, index_col=IDSTR)\n",
    "    annotations = pd.read_csv(tweet_file + \".human-labels.txt\", header=None, sep=\" \")\n",
    "    main_annotator = annotations.iloc[0][0]\n",
    "    annotations = select_annotations(annotations, tweets, main_annotator)\n",
    "    return annotations, main_annotator"
   ]
  },
  {
   "cell_type": "code",
   "execution_count": 8,
   "metadata": {},
   "outputs": [],
   "source": [
    "def store_annotations(annotations, topic):\n",
    "    pd.DataFrame([[key, annotations[key][\"label\"]] for key in annotations], columns=[\"id_str\", \"label\"]).to_csv(f\"data-{topic}.csv\", \n",
    "                                                                                                                index=False)"
   ]
  },
  {
   "cell_type": "code",
   "execution_count": 9,
   "metadata": {},
   "outputs": [],
   "source": [
    "def read_all_data(topics):\n",
    "    annotations = {}\n",
    "    for topic in topics:\n",
    "        if topic != DISTANCE1000:\n",
    "            annotations[topic], main_annotator = read_data_topic(topic)\n",
    "            print(f\"read topic {topic}: {len(annotations[topic])} annotations from {main_annotator}\")\n",
    "    return annotations"
   ]
  },
  {
   "cell_type": "code",
   "execution_count": 10,
   "metadata": {},
   "outputs": [
    {
     "name": "stdout",
     "output_type": "stream",
     "text": [
      "read topic curfew: 750 annotations from erikt@xs4all.nl\n",
      "read topic distance: 5977 annotations from erikt@xs4all.nl\n",
      "read topic mondkapje: 1011 annotations from erikt@xs4all.nl\n",
      "read topic testing: 1181 annotations from erikt@xs4all.nl\n",
      "read topic vaccin: 1340 annotations from erikt@xs4all.nl\n",
      "read topic work-from-home: 1003 annotations from erikt@xs4all.nl\n"
     ]
    }
   ],
   "source": [
    "annotations = read_all_data(TOPICS)"
   ]
  },
  {
   "cell_type": "code",
   "execution_count": 35,
   "metadata": {},
   "outputs": [
    {
     "data": {
      "text/plain": [
       "1196"
      ]
     },
     "execution_count": 35,
     "metadata": {},
     "output_type": "execute_result"
    }
   ],
   "source": [
    "annotations[DISTANCE1000] = {}\n",
    "counter = 0\n",
    "for key in annotations[DISTANCE]:\n",
    "    if counter % 5 == 0:\n",
    "        annotations[DISTANCE1000][key] = annotations[DISTANCE][key]\n",
    "    counter += 1\n",
    "len(annotations[DISTANCE1000])"
   ]
  },
  {
   "cell_type": "markdown",
   "metadata": {},
   "source": [
    "## 2. Run fastText"
   ]
  },
  {
   "cell_type": "code",
   "execution_count": 11,
   "metadata": {},
   "outputs": [],
   "source": [
    "import fasttext\n",
    "import json\n",
    "import os\n",
    "import tempfile"
   ]
  },
  {
   "cell_type": "code",
   "execution_count": 37,
   "metadata": {},
   "outputs": [],
   "source": [
    "TEXT = \"text\"\n",
    "TEXT_DIR = DATA_DIR + \"text/\"\n",
    "CURFEW_QUERY = \"avondklok\"\n",
    "DISTANCE_QUERY = \"1[.,]5[ -]*m|afstand.*hou|hou.*afstand|anderhalve[ -]*meter\"\n",
    "FACEMASK_QUERY = \"mondkapje\"\n",
    "TEST_QUERY = r'\\btest|getest|sneltest|pcr'\n",
    "VACCIN_QUERY = \"vaccin|ingeënt|ingeent|inent|prik|spuit|bijwerking|-->|💉|pfizer|moderna|astrazeneca|astra|zeneca|novavax|biontech\"\n",
    "WORKFROMHOME_QUERY = \"(thuiswerk|thuis.werk|werk.thuis)\"\n",
    "RIVM_ROUNDS = [ \"^2020041[7-9]|^2020042[0-4]\", \"^2020050[7-9]|^2020051[0-2]\", \"^2020052[7-9]|^2020053|^20200601\", \"^2020061[7-9]|^2020062[0-1]\",\n",
    "                \"^2020070[8-9]|^2020071[0-2]\", \"^20200819|^2020082[0-3]\",     \"^20200930|^2020100[1-4]\",          \"^2020111[1-5]\",\n",
    "                \"^2020123|^2021010[1-3]\",      \"^2021021[0-4]\",               \"^2021032[4-8]\",                    \"^2021050[5-9]\" ]\n",
    "RIVM_MONTHS = [ \"Apr\", \"May\", \"\", \"Jun\", \"Jul\", \"Aug\", \"Sep\", \"Nov\", \"Jan\", \"Feb\", \"Mar\", \"May\" ]\n",
    "QUERIES = { CURFEW: CURFEW_QUERY, DISTANCE: DISTANCE_QUERY, DISTANCE1000: DISTANCE_QUERY, FACEMASK: FACEMASK_QUERY, \n",
    "            TESTING: TEST_QUERY, VACCINATION: VACCIN_QUERY, WORKFROMHOME: WORKFROMHOME_QUERY }"
   ]
  },
  {
   "cell_type": "code",
   "execution_count": 13,
   "metadata": {},
   "outputs": [],
   "source": [
    "def read_data_fasttext(date_pattern, query, data_directory=TEXT_DIR):\n",
    "    file_list = sorted(os.listdir(data_directory))\n",
    "    test_data = []\n",
    "    hours = 0\n",
    "    for in_file_name in file_list:\n",
    "        if re.search(date_pattern, in_file_name) and os.path.exists(data_directory + in_file_name):\n",
    "            try:\n",
    "                file_data = pd.read_csv(data_directory + in_file_name).drop_duplicates()\n",
    "                matched_text = file_data[file_data[TEXT].str.contains(query, case=False)]\n",
    "                matched_text_preprocessed = matched_text[TEXT].apply(lambda x: preprocess(x))\n",
    "                test_data.extend(list(matched_text_preprocessed))\n",
    "                hours += 1\n",
    "            except:\n",
    "                pass\n",
    "    return test_data, hours"
   ]
  },
  {
   "cell_type": "code",
   "execution_count": 32,
   "metadata": {},
   "outputs": [],
   "source": [
    "def classify(date_pattern, query, model, data_directory=TEXT_DIR):\n",
    "    test_data, hours = read_data_fasttext(date_pattern, query, data_directory)\n",
    "    if len(test_data) <= 0:\n",
    "        return {}\n",
    "    predicted_labels = model.predict(test_data)\n",
    "    predicted_groups = pd.DataFrame(predicted_labels[0]).groupby(0).groups\n",
    "    label_counts_predicted = { label: len(predicted_groups[label]) for label in predicted_groups}\n",
    "    nbr_of_labels = sum([ label_counts_predicted[label] for label in label_counts_predicted if label != IRRELEVANT ])\n",
    "    label_percentages = { label: round(100*label_counts_predicted[label] / nbr_of_labels, 1) for label in label_counts_predicted }\n",
    "    label_percentages[TOTAL] = nbr_of_labels\n",
    "    label_percentages[\"hours\"] = hours\n",
    "    return label_percentages"
   ]
  },
  {
   "cell_type": "code",
   "execution_count": 15,
   "metadata": {},
   "outputs": [],
   "source": [
    "def make_fasttext_model(annotations):\n",
    "    _, path = tempfile.mkstemp()\n",
    "    data_file = open(path, \"w\")\n",
    "    for id_str in annotations:\n",
    "        print(f'__label__{annotations[id_str][\"label\"]} {preprocess(annotations[id_str][\"text\"])}', \n",
    "              file=data_file)\n",
    "    data_file.close()\n",
    "    model = fasttext.train_supervised(path, dim=300, pretrainedVectors=\"twiqs-model-2020.vec\")\n",
    "    os.remove(path)\n",
    "    return model"
   ]
  },
  {
   "cell_type": "code",
   "execution_count": 16,
   "metadata": {},
   "outputs": [],
   "source": [
    "def get_relevant_tweets_count(classifications, topic):\n",
    "    return sum([ classifications[topic][key][\"total\"]*(classifications[topic][key][\"__label__EENS\"] + \n",
    "                                                       classifications[topic][key][\"__label__ONEENS\"]) / 100\n",
    "                 for key in classifications[topic] ])"
   ]
  },
  {
   "cell_type": "code",
   "execution_count": 33,
   "metadata": {},
   "outputs": [],
   "source": [
    "def compute_classifications(topics, classifications):\n",
    "    for topic in topics:\n",
    "        print(f\"processing topic: {topic}\")\n",
    "        model_file = f\"model-ieee-{topic}.bin\"\n",
    "        if os.path.isfile(model_file):\n",
    "            model = fasttext.load_model(model_file)\n",
    "        else:\n",
    "            model = make_fasttext_model(annotations[topic])\n",
    "            model.save_model(model_file)\n",
    "        classifications[topic] = {}\n",
    "        query = QUERIES[topic]\n",
    "        for date_pattern in RIVM_ROUNDS:\n",
    "            classifications[topic][date_pattern] = classify(date_pattern, query, model)\n",
    "            print(date_pattern)\n",
    "        write_classifications(\"ieee.json\", classifications)\n",
    "        #print(f\"number of relevant tweets used: {get_relevant_tweets_count(classifications, topic)}\")"
   ]
  },
  {
   "cell_type": "code",
   "execution_count": 18,
   "metadata": {},
   "outputs": [],
   "source": [
    "def read_classifications(file_name):\n",
    "    infile = open(file_name, \"r\")\n",
    "    lines = infile.readlines()\n",
    "    infile.close()\n",
    "    classifications = json.loads(\" \".join(lines))\n",
    "    return classifications"
   ]
  },
  {
   "cell_type": "code",
   "execution_count": 19,
   "metadata": {},
   "outputs": [],
   "source": [
    "def write_classifications(file_name, classifications):\n",
    "    outfile = open(file_name, \"w\")\n",
    "    outfile.write(json.dumps(classifications))\n",
    "    outfile.close()"
   ]
  },
  {
   "cell_type": "code",
   "execution_count": 71,
   "metadata": {},
   "outputs": [],
   "source": [
    "file_name = \"ieee.json\"\n",
    "\n",
    "if os.path.isfile(file_name):\n",
    "    classifications = read_classifications(file_name)\n",
    "else:\n",
    "    classifications = {}\n",
    "    compute_classifications(TOPICS, classifications)\n",
    "    write_classifications(file_name, classifications)"
   ]
  },
  {
   "cell_type": "code",
   "execution_count": 75,
   "metadata": {},
   "outputs": [],
   "source": [
    "for topic in classifications:\n",
    "    for key in classifications[topic]:\n",
    "        if \"__label__EENS\" not in classifications[topic][key]:\n",
    "            classifications[topic][key][\"__label__EENS\"] = 0\n",
    "        if \"__label__ONEENS\" not in classifications[topic][key]:\n",
    "            classifications[topic][key][\"__label__ONEENS\"] = 0"
   ]
  },
  {
   "cell_type": "code",
   "execution_count": 34,
   "metadata": {},
   "outputs": [
    {
     "name": "stdout",
     "output_type": "stream",
     "text": [
      "processing topic: curfew\n"
     ]
    },
    {
     "name": "stderr",
     "output_type": "stream",
     "text": [
      "Warning : `load_model` does not return WordVectorModel or SupervisedModel any more, but a `FastText` object which is very similar.\n"
     ]
    },
    {
     "name": "stdout",
     "output_type": "stream",
     "text": [
      "^2020041[7-9]|^2020042[0-4]\n",
      "^2020050[7-9]|^2020051[0-2]\n",
      "^2020052[7-9]|^2020053|^20200601\n",
      "^2020061[7-9]|^2020062[0-1]\n",
      "^2020070[8-9]|^2020071[0-2]\n",
      "^20200819|^2020082[0-3]\n",
      "^20200930|^2020100[1-4]\n",
      "^2020111[1-5]\n",
      "^2020123|^2021010[1-3]\n",
      "^2021021[0-4]\n",
      "^2021032[4-8]\n",
      "^2021050[5-9]\n",
      "processing topic: distance\n",
      "^2020041[7-9]|^2020042[0-4]\n",
      "^2020050[7-9]|^2020051[0-2]\n",
      "^2020052[7-9]|^2020053|^20200601\n",
      "^2020061[7-9]|^2020062[0-1]\n",
      "^2020070[8-9]|^2020071[0-2]\n",
      "^20200819|^2020082[0-3]\n",
      "^20200930|^2020100[1-4]\n",
      "^2020111[1-5]\n",
      "^2020123|^2021010[1-3]\n",
      "^2021021[0-4]\n",
      "^2021032[4-8]\n",
      "^2021050[5-9]\n",
      "processing topic: mondkapje\n",
      "^2020041[7-9]|^2020042[0-4]\n",
      "^2020050[7-9]|^2020051[0-2]\n",
      "^2020052[7-9]|^2020053|^20200601\n",
      "^2020061[7-9]|^2020062[0-1]\n",
      "^2020070[8-9]|^2020071[0-2]\n",
      "^20200819|^2020082[0-3]\n",
      "^20200930|^2020100[1-4]\n",
      "^2020111[1-5]\n",
      "^2020123|^2021010[1-3]\n",
      "^2021021[0-4]\n",
      "^2021032[4-8]\n",
      "^2021050[5-9]\n",
      "processing topic: testing\n",
      "^2020041[7-9]|^2020042[0-4]\n",
      "^2020050[7-9]|^2020051[0-2]\n",
      "^2020052[7-9]|^2020053|^20200601\n",
      "^2020061[7-9]|^2020062[0-1]\n",
      "^2020070[8-9]|^2020071[0-2]\n",
      "^20200819|^2020082[0-3]\n",
      "^20200930|^2020100[1-4]\n",
      "^2020111[1-5]\n",
      "^2020123|^2021010[1-3]\n",
      "^2021021[0-4]\n",
      "^2021032[4-8]\n",
      "^2021050[5-9]\n",
      "processing topic: vaccin\n",
      "^2020041[7-9]|^2020042[0-4]\n",
      "^2020050[7-9]|^2020051[0-2]\n",
      "^2020052[7-9]|^2020053|^20200601\n",
      "^2020061[7-9]|^2020062[0-1]\n",
      "^2020070[8-9]|^2020071[0-2]\n",
      "^20200819|^2020082[0-3]\n",
      "^20200930|^2020100[1-4]\n",
      "^2020111[1-5]\n",
      "^2020123|^2021010[1-3]\n",
      "^2021021[0-4]\n",
      "^2021032[4-8]\n",
      "^2021050[5-9]\n",
      "processing topic: work-from-home\n"
     ]
    },
    {
     "name": "stderr",
     "output_type": "stream",
     "text": [
      "/home/erikt/anaconda3/envs/python37/lib/python3.7/site-packages/pandas/core/strings.py:1843: UserWarning: This pattern has match groups. To actually get the groups, use str.extract.\n",
      "  return func(self, *args, **kwargs)\n"
     ]
    },
    {
     "name": "stdout",
     "output_type": "stream",
     "text": [
      "^2020041[7-9]|^2020042[0-4]\n",
      "^2020050[7-9]|^2020051[0-2]\n",
      "^2020052[7-9]|^2020053|^20200601\n",
      "^2020061[7-9]|^2020062[0-1]\n",
      "^2020070[8-9]|^2020071[0-2]\n",
      "^20200819|^2020082[0-3]\n",
      "^20200930|^2020100[1-4]\n",
      "^2020111[1-5]\n",
      "^2020123|^2021010[1-3]\n",
      "^2021021[0-4]\n",
      "^2021032[4-8]\n",
      "^2021050[5-9]\n"
     ]
    },
    {
     "ename": "NameError",
     "evalue": "name 'file_name' is not defined",
     "output_type": "error",
     "traceback": [
      "\u001b[0;31m---------------------------------------------------------------------------\u001b[0m",
      "\u001b[0;31mNameError\u001b[0m                                 Traceback (most recent call last)",
      "\u001b[0;32m<ipython-input-34-3285a39ece23>\u001b[0m in \u001b[0;36m<module>\u001b[0;34m\u001b[0m\n\u001b[1;32m      1\u001b[0m \u001b[0mclassifications\u001b[0m \u001b[0;34m=\u001b[0m \u001b[0;34m{\u001b[0m\u001b[0;34m}\u001b[0m\u001b[0;34m\u001b[0m\u001b[0;34m\u001b[0m\u001b[0m\n\u001b[1;32m      2\u001b[0m \u001b[0mcompute_classifications\u001b[0m\u001b[0;34m(\u001b[0m\u001b[0mTOPICS\u001b[0m\u001b[0;34m,\u001b[0m \u001b[0mclassifications\u001b[0m\u001b[0;34m)\u001b[0m\u001b[0;34m\u001b[0m\u001b[0;34m\u001b[0m\u001b[0m\n\u001b[0;32m----> 3\u001b[0;31m \u001b[0mwrite_classifications\u001b[0m\u001b[0;34m(\u001b[0m\u001b[0mfile_name\u001b[0m\u001b[0;34m,\u001b[0m \u001b[0mclassifications\u001b[0m\u001b[0;34m)\u001b[0m\u001b[0;34m\u001b[0m\u001b[0;34m\u001b[0m\u001b[0m\n\u001b[0m",
      "\u001b[0;31mNameError\u001b[0m: name 'file_name' is not defined"
     ]
    }
   ],
   "source": [
    "classifications = {}\n",
    "compute_classifications(TOPICS, classifications)\n",
    "write_classifications(file_name, classifications)"
   ]
  },
  {
   "cell_type": "code",
   "execution_count": 38,
   "metadata": {},
   "outputs": [
    {
     "name": "stdout",
     "output_type": "stream",
     "text": [
      "processing topic: distance1000\n"
     ]
    },
    {
     "name": "stderr",
     "output_type": "stream",
     "text": [
      "Warning : `load_model` does not return WordVectorModel or SupervisedModel any more, but a `FastText` object which is very similar.\n"
     ]
    },
    {
     "name": "stdout",
     "output_type": "stream",
     "text": [
      "^2020041[7-9]|^2020042[0-4]\n",
      "^2020050[7-9]|^2020051[0-2]\n",
      "^2020052[7-9]|^2020053|^20200601\n",
      "^2020061[7-9]|^2020062[0-1]\n",
      "^2020070[8-9]|^2020071[0-2]\n",
      "^20200819|^2020082[0-3]\n",
      "^20200930|^2020100[1-4]\n",
      "^2020111[1-5]\n",
      "^2020123|^2021010[1-3]\n",
      "^2021021[0-4]\n",
      "^2021032[4-8]\n",
      "^2021050[5-9]\n"
     ]
    }
   ],
   "source": [
    "compute_classifications([DISTANCE1000], classifications)"
   ]
  },
  {
   "cell_type": "markdown",
   "metadata": {},
   "source": [
    "## 3. Plot"
   ]
  },
  {
   "cell_type": "code",
   "execution_count": 39,
   "metadata": {},
   "outputs": [],
   "source": [
    "import matplotlib.pyplot as plt"
   ]
  },
  {
   "cell_type": "code",
   "execution_count": 48,
   "metadata": {},
   "outputs": [],
   "source": [
    "labels = { CURFEW: CURFEW, DISTANCE: \"social distancing\", FACEMASK: \"wearing face masks\", TESTING: TESTING, \n",
    "           VACCINATION: \"vaccination\", WORKFROMHOME: \"working from home\", DISTANCE1000: \"social distancing\" }"
   ]
  },
  {
   "cell_type": "code",
   "execution_count": 41,
   "metadata": {},
   "outputs": [],
   "source": [
    "rivm = {}\n",
    "rivm[CURFEW] = { 10: 0.932, 11: 0.900 }\n",
    "rivm[DISTANCE] = { 1: 0.707, 2: 0.663, 3: 0.625, 4: 0.608, 5: 0.587, 6: 0.616, 7: 0.638, 8: 0.665, 9: 0.667, 10: 0.678, 11: 0.658, 12: 0.658 }\n",
    "rivm[DISTANCE1000] = dict(rivm[DISTANCE])\n",
    "rivm[FACEMASK] = { 8: 0.767, 9: 0.931, 10: 0.916, 11: 0.905, 12: 0.904 }\n",
    "rivm[TESTING] = { 6: 0.319, 7: 0.318, 8: 0.450, 9: 0.527, 10: 0.370, 11: 0.454, 12: 0.493 }\n",
    "rivm[VACCINATION] = { 3: 0.742, 5: 0.650, 8: 0.583, 9: 0.803, 10: 0.859, 11: 0.876, 12: 0.915 }\n",
    "rivm[WORKFROMHOME] = { 7: 0.724, 8: 0.767, 9: 0.803, 10: 0.824, 11: 0.784, 12: 0.768 }"
   ]
  },
  {
   "cell_type": "code",
   "execution_count": 57,
   "metadata": {},
   "outputs": [],
   "source": [
    "ANNOTATION_MATRIX = {\n",
    "    CURFEW:       [ 1, 1, 1, 1, 1, 1, 1, 1, 1, 1, 1, 1 ],\n",
    "    DISTANCE:     [ 1, 1, 1, 1, 1, 0, 0, 0, 0, 0, 0, 0 ],\n",
    "    DISTANCE1000: [ 1, 1, 1, 1, 1, 0, 0, 0, 0, 0, 0, 0 ],\n",
    "    FACEMASK:     [ 1, 1, 1, 1, 1, 1, 1, 1, 1, 1, 1, 0 ],\n",
    "    TESTING:      [ 1, 1, 1, 1, 1, 1, 1, 1, 1, 0, 0, 0 ],\n",
    "    VACCINATION:  [ 1, 1, 1, 1, 1, 1, 1, 1, 1, 1, 1, 1 ],\n",
    "    WORKFROMHOME: [ 1, 1, 1, 1, 1, 1, 1, 1, 1, 1, 1, 1 ]\n",
    "}                 # 1  2  3  4  5  6  7  8  9 10 11 12"
   ]
  },
  {
   "cell_type": "code",
   "execution_count": 42,
   "metadata": {},
   "outputs": [],
   "source": [
    "support = { CURFEW: 16, DISTANCE: 74, FACEMASK: 47, TESTING: 62, VACCINATION: 29, WORKFROMHOME: 87, DISTANCE1000: 72 }"
   ]
  },
  {
   "cell_type": "code",
   "execution_count": 82,
   "metadata": {},
   "outputs": [],
   "source": [
    "def compute_offsets(classifications, support):\n",
    "    offsets = {}\n",
    "    for topic in TOPICS+[DISTANCE]:\n",
    "        offset = 0\n",
    "        counter = -1\n",
    "        for key in classifications[topic]:\n",
    "            counter += 1\n",
    "            if ANNOTATION_MATRIX[topic][counter] == 0:\n",
    "                continue\n",
    "            support_key = 100* classifications[topic][key][\"__label__EENS\"] / (classifications[topic][key][\"__label__EENS\"] + classifications[topic][key][\"__label__ONEENS\"])\n",
    "            offset += support[topic] - support_key\n",
    "        offsets[topic] = round(offset / len(classifications[topic]))\n",
    "    return offsets"
   ]
  },
  {
   "cell_type": "code",
   "execution_count": 44,
   "metadata": {},
   "outputs": [],
   "source": [
    "def make_x_y(classifications, offsets, topic):\n",
    "    if topic not in rivm:\n",
    "        print(f\"make_x_y: unknown topic {topic}!\")\n",
    "        return\n",
    "    x = range(1, 1+len(classifications[topic]))\n",
    "    y = [ offsets[topic] + 100*classifications[topic][date_pattern][\"__label__EENS\"] / (classifications[topic][date_pattern][\"__label__EENS\"] + \n",
    "                                                                                        classifications[topic][date_pattern][\"__label__ONEENS\"] ) \n",
    "          for date_pattern in classifications[topic]]\n",
    "    x_rivm = [ key for key in rivm[topic] ]\n",
    "    y_rivm = [ 100*rivm[topic][key] for key in rivm[topic]]\n",
    "    return x, y, x_rivm, y_rivm"
   ]
  },
  {
   "cell_type": "code",
   "execution_count": 45,
   "metadata": {},
   "outputs": [],
   "source": [
    "def plot_single(x, y, x_rivm, y_rivm, topic):\n",
    "    plt.ylim(0, 100)\n",
    "    plt.plot(x, y, label=\"tweets\")\n",
    "    plt.plot(x_rivm, y_rivm, label=\"questionnaires\")\n",
    "    plt.plot(x, [ support[topic] for i in x ], \"--\", color=\"grey\", label=\"annotation average\")\n",
    "    plt.legend()\n",
    "    plt.title(labels[topic])\n",
    "    plt.xticks(x, RIVM_MONTHS)\n",
    "    plt.xlabel(\"months in 2020 and 2021\")\n",
    "    plt.ylabel(\"support (%)\")\n",
    "    plt.savefig(f\"ieee-{topic}.png\")\n",
    "    plt.show()"
   ]
  },
  {
   "cell_type": "code",
   "execution_count": 83,
   "metadata": {},
   "outputs": [],
   "source": [
    "offsets = compute_offsets(classifications, support)"
   ]
  },
  {
   "cell_type": "code",
   "execution_count": 87,
   "metadata": {},
   "outputs": [
    {
     "data": {
      "image/png": "[encoded data removed]",
      "text/plain": [
       "<Figure size 432x288 with 1 Axes>"
      ]
     },
     "metadata": {
      "needs_background": "light"
     },
     "output_type": "display_data"
    },
    {
     "data": {
      "image/png": "[encoded data removed]",
      "text/plain": [
       "<Figure size 432x288 with 1 Axes>"
      ]
     },
     "metadata": {
      "needs_background": "light"
     },
     "output_type": "display_data"
    },
    {
     "data": {
      "image/png": "[encoded data removed]",
      "text/plain": [
       "<Figure size 432x288 with 1 Axes>"
      ]
     },
     "metadata": {
      "needs_background": "light"
     },
     "output_type": "display_data"
    },
    {
     "data": {
      "image/png": "[encoded data removed]",
      "text/plain": [
       "<Figure size 432x288 with 1 Axes>"
      ]
     },
     "metadata": {
      "needs_background": "light"
     },
     "output_type": "display_data"
    },
    {
     "data": {
      "image/png": "[encoded data removed]",
      "text/plain": [
       "<Figure size 432x288 with 1 Axes>"
      ]
     },
     "metadata": {
      "needs_background": "light"
     },
     "output_type": "display_data"
    },
    {
     "data": {
      "image/png": "[encoded data removed]",
      "text/plain": [
       "<Figure size 432x288 with 1 Axes>"
      ]
     },
     "metadata": {
      "needs_background": "light"
     },
     "output_type": "display_data"
    },
    {
     "data": {
      "image/png": "[encoded data removed]",
      "text/plain": [
       "<Figure size 432x288 with 1 Axes>"
      ]
     },
     "metadata": {
      "needs_background": "light"
     },
     "output_type": "display_data"
    }
   ],
   "source": [
    "for topic in TOPICS+[DISTANCE]:\n",
    "    x, y, x_rivm, y_rivm = make_x_y(classifications, offsets, topic)\n",
    "    plot_single(x, y, x_rivm, y_rivm, topic)"
   ]
  },
  {
   "cell_type": "code",
   "execution_count": null,
   "metadata": {},
   "outputs": [],
   "source": [
    "def plot_multi(ax, x, y, x_rivm, y_rivm, offsets, topic):\n",
    "    ax.set_ylim(0, 100)\n",
    "    ax.plot(x, y, label=\"tweets\")\n",
    "    ax.plot(x_rivm, y_rivm, label=\"questionnaires\")\n",
    "    ax.plot(x, [ support[topic] for i in x ], \"--\", color=\"grey\", label=\"annotation average\")\n",
    "    ax.legend()\n",
    "    ax.set_title(labels[topic])\n",
    "    #ax.set_xticks(x, RIVM_MONTHS)\n",
    "    ax.set_xlabel(\"months in 2020 and 2021\")\n",
    "    ax.set_ylabel(\"support (%)\")"
   ]
  },
  {
   "cell_type": "code",
   "execution_count": null,
   "metadata": {},
   "outputs": [],
   "source": [
    "fig = plt.figure(figsize=(20,8))\n",
    "gs = fig.add_gridspec(2, 3, hspace=0.3, wspace=0.3)\n",
    "axes = gs.subplots(sharex='col', sharey='row')\n",
    "\n",
    "for i in range(0, len(TOPICS)-1):\n",
    "    topic = [DISTANCE1000, TESTING, WORKFROMHOME, FACEMASK, VACCINATION, CURFEW][i]\n",
    "    axes_x = i % 3\n",
    "    axes_y = int(i/3)\n",
    "    x, y, x_rivm, y_rivm = make_x_y(classifications, offsets, topic)\n",
    "    plot_multi(axes[axes_y, axes_x], x, y, x_rivm, y_rivm, offsets, topic)\n",
    "fig.savefig(f\"ieee.png\")\n",
    "fig.show()"
   ]
  },
  {
   "cell_type": "markdown",
   "metadata": {},
   "source": [
    "## 4. Compare graphs"
   ]
  },
  {
   "cell_type": "code",
   "execution_count": 52,
   "metadata": {},
   "outputs": [],
   "source": [
    "import numpy as np"
   ]
  },
  {
   "cell_type": "code",
   "execution_count": 53,
   "metadata": {},
   "outputs": [],
   "source": [
    "def evaluate(x, y, x_rivm, y_rivm):\n",
    "    data = { x[i]: y[i] for i in range(0, len(x)) }\n",
    "    data_rivm = { x_rivm[i]: y_rivm[i] for i in range(0, len(x_rivm)) }\n",
    "    differences = [ abs(data[key] - data_rivm[key]) for key in data_rivm ]\n",
    "    delta =  np.average(differences)\n",
    "    std = np.std(differences)\n",
    "    r = np.corrcoef([data[i] for i in x_rivm], [data_rivm[i] for i in x_rivm])[0][1]\n",
    "    return delta, std, r"
   ]
  },
  {
   "cell_type": "code",
   "execution_count": 85,
   "metadata": {},
   "outputs": [
    {
     "name": "stdout",
     "output_type": "stream",
     "text": [
      "        curfew: delta: 75.0±2.0; r: 1.0; tweets: total: 63309; relevant: 15353 (24%); irrelevant: 47984 annotation: relevant: 27% support: 16%\n",
      "  distance1000: delta: 9.0±5.0; r: 0.7; tweets: total: 242351; relevant: 188539 (78%); irrelevant: 53760 annotation: relevant: 75% support: 72%\n",
      "     mondkapje: delta: 54.0±3.0; r: 0.9; tweets: total: 314748; relevant: 114726 (36%); irrelevant: 200060 annotation: relevant: 45% support: 47%\n",
      "       testing: delta: 9.0±4.0; r: 0.0; tweets: total: 436434; relevant: 123609 (28%); irrelevant: 312802 annotation: relevant: 47% support: 62%\n",
      "        vaccin: delta: 46.0±8.0; r: 0.7; tweets: total: 871358; relevant: 231689 (27%); irrelevant: 639559 annotation: relevant: 35% support: 29%\n",
      "work-from-home: delta: 9.0±4.0; r: -0.4; tweets: total: 34610; relevant: 8897 (26%); irrelevant: 25722 annotation: relevant: 34% support: 87%\n",
      "      distance: delta: 9.0±7.0; r: 0.4; tweets: total: 242351; relevant: 178316 (74%); irrelevant: 64025 annotation: relevant: 76% support: 74%\n"
     ]
    }
   ],
   "source": [
    "for topic in TOPICS+[DISTANCE]:\n",
    "    x, y, x_rivm, y_rivm = make_x_y(classifications, offsets, topic)\n",
    "    delta, std,r = evaluate(x, y, x_rivm, y_rivm)\n",
    "    nbr_of_relevant_tweets = round(sum([classifications[topic][key][\"total\"] * \n",
    "                                        (classifications[topic][key][\"__label__EENS\"] + \n",
    "                                         classifications[topic][key][\"__label__ONEENS\"]) for key in classifications[topic]])/100)\n",
    "    nbr_of_irrelevant_tweets = round(sum([classifications[topic][key][\"total\"] * classifications[topic][key][\"__label__ANDERS\"] for key in classifications[topic]])/100)\n",
    "    nbr_of_tweets = sum([classifications[topic][key][\"total\"] for key in classifications[topic]])\n",
    "    annotation_counts = pd.Series([ annotations[topic][key][\"label\"] for key in annotations[topic] ]).value_counts().to_dict()\n",
    "    print(f\"{topic:>14s}: delta: {round(delta)}±{round(std)}; r: {r:0.1f};\", end=\" \")\n",
    "    print(f\"tweets: total: {nbr_of_tweets}; relevant: {nbr_of_relevant_tweets} ({round((100*nbr_of_relevant_tweets)/(nbr_of_relevant_tweets+nbr_of_irrelevant_tweets))}%); irrelevant: {nbr_of_irrelevant_tweets}\", \n",
    "          end=\" \")\n",
    "    print(\"annotation: relevant: \" + str(round(100 * (annotation_counts[\"EENS\"] + annotation_counts[\"ONEENS\"])/len(annotations[topic]))) + \"%\", end=\" \")\n",
    "    print(\"support: \" + str(round(100 * annotation_counts[\"EENS\"]/(annotation_counts[\"EENS\"] + annotation_counts[\"ONEENS\"]))) + \"%\")"
   ]
  },
  {
   "cell_type": "markdown",
   "metadata": {},
   "source": [
    "| topic             |  tweets | relevant | annotated | relevant | support | time frame          | F     | delta          | r    |\n",
    "| -----             |  ------ | -------- | --------- | -------- | ------- | ------------------- | ----- |--------------- | ---  |\n",
    "| social distancing | 251,625 |      58% |     5,977 |      76% |     74% | Feb 2020 - Jul 2020 | 0.723 | 0.1&plusmn;0.1 | -0.3 |\n",
    "| testing           | 124,392 |      28% |     1,181 |      47% |     62% | Mar 2020 - Dec 2020 | 0.496 | 0.1&plusmn;0.1 | -0.1 |\n",
    "| work from home    |  37,486 |       9% |     1,003 |      34% |     87% | Mar 2020 - May 2021 | 0.492 | 0.1&plusmn;0.0 | -0.7 |\n",
    "| vaccination       |  64,927 |      15% |     1,340 |      35% |     29% | Jan 2020 - May 2021 | 0.354 | 0.5&plusmn;0.1 | -0.0 |\n",
    "| wearing facemasks |  98,702 |      23% |     1,011 |      45% |     47% | Mar 2020 - Mar 2021 | 0.472 | 0.5&plusmn;0.1 | -0.1 |\n",
    "| curfew            |  62,843 |      14% |       750 |      27% |     16% | Mar 2020 - May 2021 | 0.413 | 0.8&plusmn;0.0 | -1.0 |\n",
    "| social distancing | 204,574 |      47% |     1,186 |      75% |     72% | Feb 2020 - Jul 2020 | 0.685 | 0.1&plusmn;0.1 | -0.4 |"
   ]
  },
  {
   "cell_type": "markdown",
   "metadata": {},
   "source": [
    "## 5. Get dates of annotated social distancing tweets "
   ]
  },
  {
   "cell_type": "code",
   "execution_count": null,
   "metadata": {},
   "outputs": [],
   "source": [
    "tweet_data = pd.read_csv(DATA_DIR + \"distance-tweets.csv\")\n",
    "time_data = pd.read_csv(\"csv/first_tweet_ids.csv\")"
   ]
  },
  {
   "cell_type": "code",
   "execution_count": null,
   "metadata": {},
   "outputs": [],
   "source": [
    "months = {}\n",
    "time_data_index = 0\n",
    "for i, row in tweet_data.iterrows():\n",
    "    while str(row[\"id_str\"]) >= str(time_data.iloc[time_data_index+1][\"id_str\"]):\n",
    "        time_data_index += 1\n",
    "    while str(row[\"id_str\"]) < str(time_data.iloc[time_data_index][\"id_str\"]):\n",
    "        time_data_index -= 1\n",
    "    if str(row[\"id_str\"]) < str(time_data.iloc[time_data_index+1][\"id_str\"]) and str(row[\"id_str\"]) >= str(time_data.iloc[time_data_index][\"id_str\"]):\n",
    "        month = time_data.iloc[time_data_index][\"file_name\"].split(\"/\")[8]\n",
    "        if month not in months:\n",
    "            months[month] = 0\n",
    "        months[month] += 1\n",
    "    else:\n",
    "        print(f\"cannot happen: {row['id_str']} {time_data_index} {time_data.iloc[time_data_index]['id_str']}\")\n",
    "        break\n",
    "months"
   ]
  },
  {
   "cell_type": "markdown",
   "metadata": {},
   "source": [
    "## 6. Evaluate fastText"
   ]
  },
  {
   "cell_type": "code",
   "execution_count": null,
   "metadata": {},
   "outputs": [],
   "source": [
    "import sklearn"
   ]
  },
  {
   "cell_type": "code",
   "execution_count": null,
   "metadata": {},
   "outputs": [],
   "source": [
    "def store_fasttext_data(annotations):\n",
    "    _, path = tempfile.mkstemp()\n",
    "    data_file = open(path, \"w\")\n",
    "    for row in annotations:\n",
    "        print(f'__label__{row[\"label\"]} {preprocess(row[\"text\"])}', file=data_file)\n",
    "    data_file.close()\n",
    "    return path"
   ]
  },
  {
   "cell_type": "code",
   "execution_count": null,
   "metadata": {},
   "outputs": [],
   "source": [
    "def make_fasttext_model_np(annotations):\n",
    "    path = store_fasttext_data(annotations)\n",
    "    model = fasttext.train_supervised(path, dim=300, pretrainedVectors=\"twiqs-model-2020.vec\")\n",
    "    os.remove(path)\n",
    "    return model"
   ]
  },
  {
   "cell_type": "code",
   "execution_count": null,
   "metadata": {},
   "outputs": [],
   "source": [
    "def remove_label_prefix(label):\n",
    "    return re.sub(\"__label__\", \"\", label)"
   ]
  },
  {
   "cell_type": "code",
   "execution_count": null,
   "metadata": {},
   "outputs": [],
   "source": [
    "topic = DISTANCE1000\n",
    "predicted_labels = []\n",
    "for train, test in sklearn.model_selection.KFold(n_splits=10).split(annotations[topic]):\n",
    "    annotations_nparray = np.array([annotations[topic][key] for key in annotations[topic]])\n",
    "    model = make_fasttext_model_np(annotations_nparray[train])\n",
    "    test_data = [ row[\"text\"] for row in annotations_nparray[test] ] \n",
    "    predicted_labels.extend(model.predict(test_data)[0])\n",
    "    print(\"*\", end=\"\")       "
   ]
  },
  {
   "cell_type": "code",
   "execution_count": null,
   "metadata": {},
   "outputs": [],
   "source": [
    "correct = 0\n",
    "found = 0\n",
    "target = 0\n",
    "gold_labels = [ annotations[topic][key][\"label\"] for key in annotations[topic] ]\n",
    "for i in range(0, len(predicted_labels)):\n",
    "    if remove_label_prefix(predicted_labels[i][0]) != \"ANDERS\":\n",
    "        if remove_label_prefix(predicted_labels[i][0]) == gold_labels[i]:\n",
    "            correct += 1\n",
    "        found += 1\n",
    "    if gold_labels[i] != \"ANDERS\":\n",
    "        target += 1\n",
    "precision = correct/found\n",
    "recall = correct/target\n",
    "f = 2 * precision * recall / (precision + recall)\n",
    "print(f\"precision: {precision:0.3f}; recall: {recall:0.3f}; f: {f:0.3f}\")"
   ]
  },
  {
   "cell_type": "markdown",
   "metadata": {},
   "source": [
    "CURFEW: precision: 0.497; recall: 0.353; f: 0.413 \\\n",
    "DISTANCE: precision: 0.711; recall: 0.735; f: 0.723 \\\n",
    "DISTANCE1000: precision: 0.667; recall: 0.704; f: 0.685 \\\n",
    "FACEMASK: precision: 0.516; recall: 0.435; f: 0.472 \\\n",
    "TESTING: precision: 0.523; recall: 0.471; f: 0.496 \\\n",
    "VACCINATION: precision: 0.398; recall: 0.319; f: 0.354 \\\n",
    "WORKFROMHOME: precision: 0.544; recall: 0.449; f: 0.492"
   ]
  },
  {
   "cell_type": "markdown",
   "metadata": {},
   "source": [
    "## 7. Classify with one user one vote"
   ]
  },
  {
   "cell_type": "markdown",
   "metadata": {},
   "source": [
    "## 8. Optimize fastText parameters"
   ]
  },
  {
   "cell_type": "code",
   "execution_count": null,
   "metadata": {},
   "outputs": [],
   "source": []
  }
 ],
 "metadata": {
  "kernelspec": {
   "display_name": "python37",
   "language": "python",
   "name": "python37"
  },
  "language_info": {
   "codemirror_mode": {
    "name": "ipython",
    "version": 3
   },
   "file_extension": ".py",
   "mimetype": "text/x-python",
   "name": "python",
   "nbconvert_exporter": "python",
   "pygments_lexer": "ipython3",
   "version": "3.7.3"
  }
 },
 "nbformat": 4,
 "nbformat_minor": 4
}
