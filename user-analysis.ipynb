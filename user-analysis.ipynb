{
 "cells": [
  {
   "cell_type": "markdown",
   "metadata": {},
   "source": [
    "# User analysis\n",
    "\n",
    "Check the experience of the Twitter users involved in a topic, especially around volume peaks. Are the users new to the topic? Or did they participate in this topic earlier? "
   ]
  },
  {
   "cell_type": "code",
   "execution_count": 1,
   "metadata": {},
   "outputs": [],
   "source": [
    "import csv\n",
    "import os\n",
    "import pandas as pd\n",
    "import re\n",
    "from IPython.display import clear_output"
   ]
  },
  {
   "cell_type": "code",
   "execution_count": 2,
   "metadata": {},
   "outputs": [],
   "source": [
    "DATADIR = \"/home/erikt/projects/puregome/data/text/\"\n",
    "ID = \"id_str\"\n",
    "KNOWN = \"known\"\n",
    "NEW = \"new\"\n",
    "TEXT = \"text\"\n",
    "USER = \"user\""
   ]
  },
  {
   "cell_type": "code",
   "execution_count": 4,
   "metadata": {},
   "outputs": [],
   "source": [
    "def squeal(text=None):\n",
    "    clear_output(wait=True)\n",
    "    if not text is None:\n",
    "        print(text)"
   ]
  },
  {
   "cell_type": "code",
   "execution_count": 30,
   "metadata": {},
   "outputs": [],
   "source": [
    "QUERY = \"corona|covid|flattenthecurve|blijfthuis|rivm|mondkapje|huisarts|houvol|zorg\"\n",
    "\n",
    "def get_user_history_per_date(file_pattern):\n",
    "    file_list = sorted(os.listdir(DATADIR))\n",
    "    user_history = {}\n",
    "    user_history_per_date = {}\n",
    "    for file_name in file_list:\n",
    "        if re.search(file_pattern, file_name):\n",
    "            squeal(file_name)\n",
    "            date = file_name[0:8]\n",
    "            if not date in user_history_per_date: \n",
    "                for user in user_history: \n",
    "                    user_history[user] += 1\n",
    "                user_history_per_date[date] = {}\n",
    "            df = pd.read_csv(DATADIR+file_name, compression=\"gzip\", index_col=ID)\n",
    "            df = df[df[TEXT].str.contains(QUERY, flags=re.IGNORECASE)]\n",
    "            for user in df[USER]:\n",
    "                if not user in user_history:\n",
    "                    user_history[user] = 0\n",
    "                if not user_history[user] in user_history_per_date[date]: \n",
    "                    user_history_per_date[date][user_history[user]] = 0\n",
    "                user_history_per_date[date][user_history[user]] += 1\n",
    "    return(user_history_per_date)"
   ]
  },
  {
   "cell_type": "code",
   "execution_count": 49,
   "metadata": {},
   "outputs": [],
   "source": [
    "def print_user_history_per_date(user_history_per_date):\n",
    "    print(\"                   ......users......\")\n",
    "    print(\"date     tweets    new  1 day  older\")\n",
    "    for date in user_history_per_date:\n",
    "        date_total = sum(user_history_per_date[date].values())\n",
    "        print(f\"{date} {date_total:6} {round(user_history_per_date[date][0]/date_total,3)*100:5.1f}%\", end=\" \")\n",
    "        print(f\"{round(sum([user_history_per_date[date][i] for i in user_history_per_date[date] if i == 1])/date_total,3)*100:5.1f}%\", end=\" \")\n",
    "        print(f\"{round(sum([user_history_per_date[date][i] for i in user_history_per_date[date] if i > 1])/date_total,3)*100:5.1f}%\")"
   ]
  },
  {
   "cell_type": "code",
   "execution_count": 51,
   "metadata": {},
   "outputs": [
    {
     "name": "stdout",
     "output_type": "stream",
     "text": [
      "20200319-23.out.gz\n"
     ]
    }
   ],
   "source": [
    "user_history_per_date = get_user_history_per_date(\"^202003[01]\")"
   ]
  },
  {
   "cell_type": "code",
   "execution_count": 52,
   "metadata": {},
   "outputs": [
    {
     "name": "stdout",
     "output_type": "stream",
     "text": [
      "                   ......users......\n",
      "date     tweets    new  1 day  older\n",
      "20200301  48025 100.0%   0.0%   0.0%\n",
      "20200302  49016  41.2%  58.8%   0.0%\n",
      "20200303  42547  29.0%  13.2%  57.8%\n",
      "20200304  38970  25.1%   6.2%  68.7%\n",
      "20200305  46314  19.8%   3.9%  76.3%\n",
      "20200306  44433  19.3%   3.2%  77.5%\n",
      "20200307  33937  17.6%   2.5%  79.9%\n",
      "20200308  41273  14.2%   1.8%  84.1%\n",
      "20200309  53194  16.3%   1.9%  81.7%\n",
      "20200310  65645  15.8%   2.5%  81.7%\n",
      "20200311  84293  15.9%   2.5%  81.6%\n",
      "20200312 174358  19.7%   3.0%  77.2%\n",
      "20200313 166783  16.8%   5.1%  78.0%\n",
      "20200314 149481  13.3%   3.2%  83.4%\n",
      "20200315 211178  13.6%   2.8%  83.6%\n",
      "20200316 187122  11.4%   2.5%  86.1%\n",
      "20200317 194113  10.0%   2.1%  87.9%\n",
      "20200318 190260   8.7%   1.6%  89.6%\n",
      "20200319 163617   7.8%   1.2%  91.0%\n"
     ]
    }
   ],
   "source": [
    "print_user_history_per_date(user_history_per_date)"
   ]
  },
  {
   "cell_type": "code",
   "execution_count": 53,
   "metadata": {},
   "outputs": [
    {
     "name": "stdout",
     "output_type": "stream",
     "text": [
      "20200609-23.out.gz\n"
     ]
    }
   ],
   "source": [
    "user_history_per_date = get_user_history_per_date(\"^(202005[23]|2020060)\")"
   ]
  },
  {
   "cell_type": "code",
   "execution_count": 54,
   "metadata": {},
   "outputs": [
    {
     "name": "stdout",
     "output_type": "stream",
     "text": [
      "                   ......users......\n",
      "date     tweets    new  1 day  older\n",
      "20200520  62488 100.0%   0.0%   0.0%\n",
      "20200521  47424  37.7%  62.3%   0.0%\n",
      "20200522  45756  27.3%  10.1%  62.5%\n",
      "20200523  38822  22.4%   5.0%  72.6%\n",
      "20200524  37428  20.8%   3.5%  75.7%\n",
      "20200525  47379  18.7%   2.3%  79.0%\n",
      "20200526  48187  18.2%   2.6%  79.2%\n",
      "20200527  46211  17.1%   2.2%  80.7%\n",
      "20200528  53904  15.4%   1.8%  82.8%\n",
      "20200529  43215  16.2%   1.7%  82.0%\n",
      "20200530  35647  12.7%   1.2%  86.1%\n",
      "20200531  30894  13.8%   1.0%  85.2%\n",
      "20200601  91385  17.6%   1.1%  81.3%\n",
      "20200602  70442  14.7%   3.4%  81.9%\n",
      "20200603  52260  12.6%   1.8%  85.6%\n",
      "20200604  51228  11.0%   1.0%  87.9%\n",
      "20200605  41635  11.1%   1.0%  87.9%\n",
      "20200606  38832   9.9%   0.6%  89.5%\n",
      "20200607  47201  11.8%   0.8%  87.4%\n",
      "20200608  49212  13.7%   1.4%  84.9%\n",
      "20200609  44991   9.9%   1.5%  88.7%\n"
     ]
    }
   ],
   "source": [
    "print_user_history_per_date(user_history_per_date)"
   ]
  },
  {
   "cell_type": "markdown",
   "metadata": {},
   "source": [
    "## Analysis\n",
    "\n",
    "Most of the pandemic tweets were written by users that had contributed top the topic earlier. Of the first volume peak (20200312) 19.7% of the tweets were written by users new to the topic while in the week before about 15% of the tweets were written by new users. In the peak of 20200601 17.6% of the tweets were written by new users while in the days leading up to that event this number was also around 15%. Note that the measured percentage of new users also depends on the how long before the peak the measuring process was started. "
   ]
  },
  {
   "cell_type": "code",
   "execution_count": 9,
   "metadata": {},
   "outputs": [],
   "source": [
    "# pd.DataFrame(files).to_csv(\"users-202002-202003.csv\",index_label=\"n\")"
   ]
  },
  {
   "cell_type": "code",
   "execution_count": null,
   "metadata": {},
   "outputs": [],
   "source": []
  }
 ],
 "metadata": {
  "kernelspec": {
   "display_name": "Python 3",
   "language": "python",
   "name": "python3"
  },
  "language_info": {
   "codemirror_mode": {
    "name": "ipython",
    "version": 3
   },
   "file_extension": ".py",
   "mimetype": "text/x-python",
   "name": "python",
   "nbconvert_exporter": "python",
   "pygments_lexer": "ipython3",
   "version": "3.6.11"
  }
 },
 "nbformat": 4,
 "nbformat_minor": 4
}
