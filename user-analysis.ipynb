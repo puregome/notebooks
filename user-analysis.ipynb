{
 "cells": [
  {
   "cell_type": "markdown",
   "metadata": {},
   "source": [
    "# User analysis\n",
    "\n",
    "Check the experience of the Twitter users involved in a topic, especially around volume peaks. Are the users new to the topic? Or did they participate in this topic earlier? "
   ]
  },
  {
   "cell_type": "code",
   "execution_count": 2,
   "metadata": {},
   "outputs": [],
   "source": [
    "import csv\n",
    "import os\n",
    "import pandas as pd\n",
    "import re\n",
    "from IPython.display import clear_output"
   ]
  },
  {
   "cell_type": "code",
   "execution_count": 3,
   "metadata": {},
   "outputs": [],
   "source": [
    "DATADIR = \"/home/erikt/projects/puregome/data/text/\"\n",
    "ID = \"id_str\"\n",
    "KNOWN = \"known\"\n",
    "NEW = \"new\"\n",
    "TEXT = \"text\"\n",
    "USER = \"user\""
   ]
  },
  {
   "cell_type": "code",
   "execution_count": 4,
   "metadata": {},
   "outputs": [
    {
     "name": "stdout",
     "output_type": "stream",
     "text": [
      "20200331-23.out.gz\n"
     ]
    }
   ],
   "source": [
    "FILEPATTERN = r\"20200[23]\"\n",
    "QUERY = \"corona|covid|flattenthecurve|blijfthuis|rivm|mondkapje|huisarts|houvol|zorg\"\n",
    "\n",
    "fileList = sorted(os.listdir(DATADIR))\n",
    "usersSeen = {}\n",
    "files = {}\n",
    "new = {}\n",
    "for inFileName in fileList:\n",
    "    if re.search(FILEPATTERN,inFileName):\n",
    "        clear_output(wait=True)\n",
    "        print(inFileName)\n",
    "        date = inFileName[0:8]\n",
    "        if not date in files: \n",
    "            for user in new: usersSeen[user] = 0\n",
    "            for user in usersSeen: usersSeen[user] += 1\n",
    "            new = {}\n",
    "            files[date] = {}\n",
    "        df = pd.read_csv(DATADIR+inFileName,compression=\"gzip\",index_col=ID)\n",
    "        for i in range(0,len(df)):\n",
    "            user = df.iloc[i][USER]\n",
    "            text = df.iloc[i][TEXT]\n",
    "            if re.search(QUERY,text,flags=re.IGNORECASE):\n",
    "                if user in usersSeen:\n",
    "                    if not usersSeen[user] in files[date]: files[date][usersSeen[user]] = 0\n",
    "                    files[date][usersSeen[user]] += 1\n",
    "                else:\n",
    "                    if not 0 in files[date]: files[date][0] = 0\n",
    "                    files[date][0] += 1\n",
    "                    new[user] = True"
   ]
  },
  {
   "cell_type": "code",
   "execution_count": 5,
   "metadata": {},
   "outputs": [
    {
     "name": "stdout",
     "output_type": "stream",
     "text": [
      "20200201 1.0 \n",
      "20200202 0.522 0.478 \n",
      "20200203 0.462 0.102 0.436 \n",
      "20200204 0.4 0.085 0.515 \n",
      "20200205 0.35 0.064 0.585 \n",
      "20200206 0.313 0.038 0.649 \n",
      "20200207 0.277 0.034 0.689 \n",
      "20200208 0.267 0.023 0.71 \n",
      "20200209 0.302 0.022 0.676 \n",
      "20200210 0.229 0.023 0.748 \n",
      "20200211 0.236 0.019 0.745 \n",
      "20200212 0.231 0.018 0.75 \n",
      "20200213 0.209 0.017 0.774 \n",
      "20200214 0.218 0.015 0.767 \n",
      "20200215 0.2 0.011 0.788 \n",
      "20200216 0.177 0.01 0.813 \n",
      "20200217 0.176 0.006 0.818 \n",
      "20200218 0.171 0.009 0.82 \n",
      "20200219 0.173 0.008 0.819 \n",
      "20200220 0.162 0.009 0.829 \n",
      "20200221 0.148 0.012 0.84 \n",
      "20200222 0.133 0.009 0.857 \n",
      "20200223 0.138 0.012 0.85 \n",
      "20200224 0.124 0.01 0.866 \n",
      "20200225 0.131 0.011 0.857 \n",
      "20200226 0.128 0.019 0.852 \n",
      "20200227 0.175 0.021 0.805 \n",
      "20200228 0.148 0.023 0.829 \n",
      "20200229 0.141 0.02 0.84 \n",
      "20200301 0.123 0.013 0.864 \n",
      "20200302 0.125 0.014 0.861 \n",
      "20200303 0.112 0.015 0.873 \n",
      "20200304 0.112 0.011 0.877 \n",
      "20200305 0.097 0.01 0.893 \n",
      "20200306 0.104 0.01 0.886 \n",
      "20200307 0.1 0.009 0.891 \n",
      "20200308 0.082 0.008 0.91 \n",
      "20200309 0.097 0.009 0.894 \n",
      "20200310 0.099 0.011 0.89 \n",
      "20200311 0.108 0.013 0.88 \n",
      "20200312 0.143 0.017 0.839 \n",
      "20200313 0.129 0.031 0.84 \n",
      "20200314 0.107 0.021 0.872 \n",
      "20200315 0.113 0.02 0.867 \n",
      "20200316 0.096 0.019 0.885 \n",
      "20200317 0.086 0.017 0.897 \n",
      "20200318 0.076 0.013 0.911 \n",
      "20200319 0.068 0.009 0.922 \n",
      "20200320 0.068 0.009 0.922 \n",
      "20200321 0.065 0.008 0.927 \n",
      "20200322 0.069 0.01 0.92 \n",
      "20200323 0.053 0.009 0.939 \n",
      "20200324 0.055 0.006 0.94 \n",
      "20200325 0.044 0.005 0.951 \n",
      "20200326 0.044 0.005 0.951 \n",
      "20200327 0.046 0.004 0.95 \n",
      "20200328 0.044 0.003 0.952 \n",
      "20200329 0.044 0.004 0.952 \n",
      "20200330 0.039 0.003 0.958 \n",
      "20200331 0.037 0.005 0.958 \n"
     ]
    }
   ],
   "source": [
    "filesCopy = dict(files)\n",
    "for date in filesCopy:\n",
    "    total = sum([filesCopy[date][i] for i in filesCopy[date]])\n",
    "    for i in filesCopy[date]:\n",
    "        if i > 2: filesCopy[date][2] += filesCopy[date][i]\n",
    "    print(date,round(filesCopy[date][0]/total,3),end=\" \")\n",
    "    try: print(round(filesCopy[date][1]/total,3),end=\" \")\n",
    "    except: pass\n",
    "    try: print(round(filesCopy[date][2]/total,3),end=\" \")\n",
    "    except: pass\n",
    "    print()"
   ]
  },
  {
   "cell_type": "markdown",
   "metadata": {},
   "source": [
    "## Analysis\n",
    "\n",
    "Most of the tweets in the topic (up to 96%) are written by users that had contributed top the topic earlier. The main volume peak (20200312) resulted in a small increase of tweets written by users new to the topic: about 30% more tweets by news users than usual.  "
   ]
  },
  {
   "cell_type": "code",
   "execution_count": 9,
   "metadata": {},
   "outputs": [],
   "source": [
    "pd.DataFrame(files).to_csv(\"users-202002-202003.csv\",index_label=\"n\")"
   ]
  },
  {
   "cell_type": "code",
   "execution_count": null,
   "metadata": {},
   "outputs": [],
   "source": []
  }
 ],
 "metadata": {
  "kernelspec": {
   "display_name": "Python 3",
   "language": "python",
   "name": "python3"
  },
  "language_info": {
   "codemirror_mode": {
    "name": "ipython",
    "version": 3
   },
   "file_extension": ".py",
   "mimetype": "text/x-python",
   "name": "python",
   "nbconvert_exporter": "python",
   "pygments_lexer": "ipython3",
   "version": "3.7.3"
  }
 },
 "nbformat": 4,
 "nbformat_minor": 4
}
