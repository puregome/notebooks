{
 "cells": [
  {
   "cell_type": "markdown",
   "id": "15174cd0-e539-458a-9da8-e17f06f3e6e5",
   "metadata": {},
   "source": [
    "# Keyword Frequencies\n",
    "\n",
    "Compute the frequencies of keywords over time"
   ]
  },
  {
   "cell_type": "code",
   "execution_count": 12,
   "id": "5ec0f07d-4687-402c-b1e7-2fb9c74349a7",
   "metadata": {},
   "outputs": [],
   "source": [
    "import os\n",
    "import pandas as pd\n",
    "import re\n",
    "from IPython.display import clear_output"
   ]
  },
  {
   "cell_type": "code",
   "execution_count": 30,
   "id": "cfd9f692-789a-42bf-a513-9e839f4fa4d2",
   "metadata": {},
   "outputs": [],
   "source": [
    "DATA_DIR = \"../data/text/\"\n",
    "DATE_COUNTS_FILE = \"../data/date-counts.csv\"\n",
    "ID_STR = \"id_str\"\n",
    "TEXT = \"text\""
   ]
  },
  {
   "cell_type": "code",
   "execution_count": 11,
   "id": "b5635fd6-8068-4b97-b72b-f22dada5cb6b",
   "metadata": {},
   "outputs": [],
   "source": [
    "def squeal(text=None):\n",
    "    clear_output(wait=True)\n",
    "    if not text is None: print(text)"
   ]
  },
  {
   "cell_type": "code",
   "execution_count": 22,
   "id": "1b25c804-17ed-4fcc-87ae-41cb2bb46cf8",
   "metadata": {},
   "outputs": [],
   "source": [
    "def search_text(query, date_pattern, counts):\n",
    "    file_names = sorted(os.listdir(DATA_DIR))\n",
    "    counts_new = {}\n",
    "    for file_name in file_names:\n",
    "        if re.search(date_pattern, file_name):\n",
    "            date = file_name[0:8]\n",
    "            if date not in counts:\n",
    "                if date not in counts_new: \n",
    "                    counts_new[date] = 0\n",
    "                    squeal(f\"{date} {query}\")\n",
    "                df = pd.read_csv(DATA_DIR + file_name, index_col=ID_STR)\n",
    "                counts_new[date] += len(df[df[TEXT].str.contains(r'\\b' + query + r'\\b', flags=re.IGNORECASE)])\n",
    "    counts.update(counts_new)\n",
    "    return "
   ]
  },
  {
   "cell_type": "code",
   "execution_count": 28,
   "id": "bcc24ff2-8ea8-4253-80e4-f37782d8d384",
   "metadata": {},
   "outputs": [],
   "source": [
    "def get_counts(queries, date_pattern):\n",
    "    counts = {}\n",
    "    for query in queries:\n",
    "        counts[query] = {}\n",
    "        search_text(query, date_pattern, counts[query])\n",
    "    return counts"
   ]
  },
  {
   "cell_type": "code",
   "execution_count": 70,
   "id": "5e5cf117-e68d-4c42-8f7d-b75d248610da",
   "metadata": {},
   "outputs": [],
   "source": [
    "def add_frequencies(counts):\n",
    "    date_counts = pd.read_csv(DATE_COUNTS_FILE, index_col=\"date\")\n",
    "    counts_extra = {}\n",
    "    counts_extra[\"aantal tweets\"] = {}\n",
    "    for query in counts:\n",
    "        frequency_query = f\"frequentie {query}\"\n",
    "        counts_extra[frequency_query] = {}\n",
    "        for date in counts[query]:\n",
    "            if date not in counts_extra[\"aantal tweets\"]:\n",
    "                counts_extra[\"aantal tweets\"][date] = date_counts.loc[int(date)][\"count\"]\n",
    "            counts_extra[frequency_query][date] = counts[query][date] / counts_extra[\"aantal tweets\"][date]\n",
    "    counts.update(counts_extra)"
   ]
  },
  {
   "cell_type": "code",
   "execution_count": 76,
   "id": "345759cf-bcab-43b1-a948-e4de62eb69e8",
   "metadata": {},
   "outputs": [
    {
     "name": "stdout",
     "output_type": "stream",
     "text": [
      "20191231 populistische\n"
     ]
    }
   ],
   "source": [
    "QUERIES = [ \"populisme\", \"populismes\", \"populist\", \"populisten\", \"populistisch\", \"populistische\" ]\n",
    "\n",
    "counts = get_counts(QUERIES, \"^2019\")"
   ]
  },
  {
   "cell_type": "code",
   "execution_count": 79,
   "id": "4ab44f44-298a-43ad-8017-0300f0635d82",
   "metadata": {},
   "outputs": [],
   "source": [
    "counts_copy = dict(counts)\n",
    "add_frequencies(counts_copy)"
   ]
  },
  {
   "cell_type": "code",
   "execution_count": 80,
   "id": "6cb0d352-6124-4a9c-b42c-bd83c10f0a9d",
   "metadata": {},
   "outputs": [],
   "source": [
    "pd.DataFrame(counts_copy).to_csv(\"keyword_frequencies.csv\", index_label=\"datum\")"
   ]
  },
  {
   "cell_type": "code",
   "execution_count": null,
   "id": "68de6c9e-bdd1-41d4-85c3-a6ecb2f47bc4",
   "metadata": {},
   "outputs": [],
   "source": []
  }
 ],
 "metadata": {
  "kernelspec": {
   "display_name": "python37",
   "language": "python",
   "name": "python37"
  },
  "language_info": {
   "codemirror_mode": {
    "name": "ipython",
    "version": 3
   },
   "file_extension": ".py",
   "mimetype": "text/x-python",
   "name": "python",
   "nbconvert_exporter": "python",
   "pygments_lexer": "ipython3",
   "version": "3.7.3"
  }
 },
 "nbformat": 4,
 "nbformat_minor": 5
}
