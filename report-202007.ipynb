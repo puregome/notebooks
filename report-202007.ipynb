{
 "cells": [
  {
   "cell_type": "markdown",
   "metadata": {},
   "source": [
    "# Code related to the 202007 progress report"
   ]
  },
  {
   "cell_type": "code",
   "execution_count": 1,
   "metadata": {},
   "outputs": [],
   "source": [
    "import os\n",
    "import pandas as pd\n",
    "import re\n",
    "import sys\n",
    "from IPython.display import clear_output"
   ]
  },
  {
   "cell_type": "code",
   "execution_count": 2,
   "metadata": {},
   "outputs": [],
   "source": [
    "DATADIR = \"../data/text/\""
   ]
  },
  {
   "cell_type": "code",
   "execution_count": 3,
   "metadata": {},
   "outputs": [],
   "source": [
    "def squeal(text=None):\n",
    "    clear_output(wait=True)\n",
    "    if not text is None: print(text)"
   ]
  },
  {
   "cell_type": "markdown",
   "metadata": {},
   "source": [
    "## Table 1: Count the tweets per month"
   ]
  },
  {
   "cell_type": "code",
   "execution_count": 4,
   "metadata": {},
   "outputs": [
    {
     "name": "stdout",
     "output_type": "stream",
     "text": [
      "20200731-12.out.gz []\n"
     ]
    },
    {
     "data": {
      "text/plain": [
       "[['202007', 21313872, 687544, 29078]]"
      ]
     },
     "execution_count": 4,
     "metadata": {},
     "output_type": "execute_result"
    }
   ],
   "source": [
    "fileNames = sorted(os.listdir(DATADIR))\n",
    "results = []\n",
    "for filePattern in \"202007\".split():\n",
    "    nbrOfHours = 0\n",
    "    dates = {}\n",
    "    nbrOfTweets = 0\n",
    "    for fileName in fileNames:\n",
    "        if re.search(filePattern,fileName):\n",
    "            nbrOfHours += 1\n",
    "            date = fileName[0:8]\n",
    "            dates[date] = True\n",
    "            nbrOfTweets += len(pd.read_csv(DATADIR+fileName))\n",
    "            squeal(fileName+\" \"+str([x[1] for x in results]))\n",
    "    results.append([filePattern,nbrOfTweets,round(nbrOfTweets/len(dates)),round(nbrOfTweets/nbrOfHours)])\n",
    "results"
   ]
  },
  {
   "cell_type": "markdown",
   "metadata": {},
   "source": [
    "## Table 3: Count tweets per month containing keywords\n",
    "\n",
    "Input files are constructed in notebook tweet-counts.ipynb"
   ]
  },
  {
   "cell_type": "code",
   "execution_count": 19,
   "metadata": {},
   "outputs": [
    {
     "name": "stdout",
     "output_type": "stream",
     "text": [
      "topic\n",
      "202002 278082\n",
      "202003 3152638\n",
      "202004 2115728\n",
      "202005 1264650\n",
      "202006 921481\n",
      "202007 907093\n"
     ]
    }
   ],
   "source": [
    "FILESUFFIX = \".csv\"\n",
    "\n",
    "for topic in \"topic\".split():\n",
    "    print(topic)\n",
    "    frequencies = pd.read_csv(topic+FILESUFFIX,header=None)\n",
    "    for month in \"202002 202003 202004 202005 202006 202007\".split():\n",
    "        count = 0\n",
    "        for i in range(0,len(frequencies)):\n",
    "            if re.search(month,str(frequencies.iloc[i][0])): count += frequencies.iloc[i][1]\n",
    "        print(month,count)"
   ]
  },
  {
   "cell_type": "code",
   "execution_count": null,
   "metadata": {},
   "outputs": [],
   "source": []
  }
 ],
 "metadata": {
  "kernelspec": {
   "display_name": "Python 3",
   "language": "python",
   "name": "python3"
  },
  "language_info": {
   "codemirror_mode": {
    "name": "ipython",
    "version": 3
   },
   "file_extension": ".py",
   "mimetype": "text/x-python",
   "name": "python",
   "nbconvert_exporter": "python",
   "pygments_lexer": "ipython3",
   "version": "3.7.3"
  }
 },
 "nbformat": 4,
 "nbformat_minor": 4
}
