{
 "cells": [
  {
   "cell_type": "markdown",
   "metadata": {},
   "source": [
    "# Code related to the 202007 progress report"
   ]
  },
  {
   "cell_type": "code",
   "execution_count": 5,
   "metadata": {},
   "outputs": [],
   "source": [
    "import os\n",
    "import pandas as pd\n",
    "import re\n",
    "import sys\n",
    "from IPython.display import clear_output"
   ]
  },
  {
   "cell_type": "code",
   "execution_count": 2,
   "metadata": {},
   "outputs": [],
   "source": [
    "DATADIR = \"../data/text/\""
   ]
  },
  {
   "cell_type": "code",
   "execution_count": 3,
   "metadata": {},
   "outputs": [],
   "source": [
    "def squeal(text=None):\n",
    "    clear_output(wait=True)\n",
    "    if not text is None: print(text)"
   ]
  },
  {
   "cell_type": "markdown",
   "metadata": {},
   "source": [
    "## Table 1: Count the tweets per month"
   ]
  },
  {
   "cell_type": "code",
   "execution_count": 13,
   "metadata": {},
   "outputs": [
    {
     "name": "stdout",
     "output_type": "stream",
     "text": [
      "20200728-14.out.gz []\n"
     ]
    },
    {
     "data": {
      "text/plain": [
       "[['202007', 19542149, 697934, 29475]]"
      ]
     },
     "execution_count": 13,
     "metadata": {},
     "output_type": "execute_result"
    }
   ],
   "source": [
    "fileNames = sorted(os.listdir(DATADIR))\n",
    "results = []\n",
    "for filePattern in \"202007\".split():\n",
    "    nbrOfHours = 0\n",
    "    dates = {}\n",
    "    nbrOfTweets = 0\n",
    "    for fileName in fileNames:\n",
    "        if re.search(filePattern,fileName):\n",
    "            nbrOfHours += 1\n",
    "            date = fileName[0:8]\n",
    "            dates[date] = True\n",
    "            nbrOfTweets += len(pd.read_csv(DATADIR+fileName))\n",
    "            squeal(fileName+\" \"+str([x[1] for x in results]))\n",
    "    results.append([filePattern,nbrOfTweets,round(nbrOfTweets/len(dates)),round(nbrOfTweets/nbrOfHours)])\n",
    "results"
   ]
  },
  {
   "cell_type": "markdown",
   "metadata": {},
   "source": [
    "## Table 3: Count tweets per month containing keywords"
   ]
  },
  {
   "cell_type": "code",
   "execution_count": null,
   "metadata": {},
   "outputs": [
    {
     "name": "stdout",
     "output_type": "stream",
     "text": [
      "20200321-14.out.gz []\n"
     ]
    }
   ],
   "source": [
    "QUERY = \"corona|covid|flattenthecurve|blijfthuis|rivm|mondkapje|huisarts|houvol\"\n",
    "TEXT = \"text\"\n",
    "\n",
    "fileNames = sorted(os.listdir(DATADIR))\n",
    "results = []\n",
    "for filePattern in \"202003 202004 202005 202006\".split():\n",
    "    nbrOfHours = 0\n",
    "    dates = {}\n",
    "    nbrOfTweets = 0\n",
    "    for fileName in fileNames:\n",
    "        if re.search(filePattern,fileName):\n",
    "            nbrOfHours += 1\n",
    "            date = fileName[0:8]\n",
    "            dates[date] = True\n",
    "            nbrOfTweets += len([tweet for index,tweet in pd.read_csv(DATADIR+fileName).iterrows() if re.search(QUERY,tweet[TEXT],flags=re.IGNORECASE)])\n",
    "            squeal(fileName+\" \"+str([x[1] for x in results]))\n",
    "    results.append([filePattern,nbrOfTweets,round(nbrOfTweets/len(dates)),round(nbrOfTweets/nbrOfHours)])\n",
    "results"
   ]
  },
  {
   "cell_type": "code",
   "execution_count": 12,
   "metadata": {},
   "outputs": [
    {
     "data": {
      "text/plain": [
       "[['202002', 278082, 9589, 400]]"
      ]
     },
     "execution_count": 12,
     "metadata": {},
     "output_type": "execute_result"
    }
   ],
   "source": [
    "results"
   ]
  },
  {
   "cell_type": "code",
   "execution_count": null,
   "metadata": {},
   "outputs": [],
   "source": []
  }
 ],
 "metadata": {
  "kernelspec": {
   "display_name": "Python 3",
   "language": "python",
   "name": "python3"
  },
  "language_info": {
   "codemirror_mode": {
    "name": "ipython",
    "version": 3
   },
   "file_extension": ".py",
   "mimetype": "text/x-python",
   "name": "python",
   "nbconvert_exporter": "python",
   "pygments_lexer": "ipython3",
   "version": "3.7.3"
  }
 },
 "nbformat": 4,
 "nbformat_minor": 4
}
