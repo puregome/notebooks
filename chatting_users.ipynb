{
 "cells": [
  {
   "cell_type": "markdown",
   "metadata": {},
   "source": [
    "# Chatting users\n",
    "\n",
    "Chatting users are defined as users which use many of the tweets to chat with other users. These chatting tweets can be identified by their contents, for example pronouns like *I* and *you* and specific verb forms like *am*."
   ]
  },
  {
   "cell_type": "code",
   "execution_count": 114,
   "metadata": {},
   "outputs": [],
   "source": [
    "import datetime\n",
    "import matplotlib.pyplot as plt\n",
    "import matplotlib.dates as mdates\n",
    "import numpy as np\n",
    "import os\n",
    "import pandas as pd\n",
    "import re\n",
    "from IPython.display import clear_output"
   ]
  },
  {
   "cell_type": "code",
   "execution_count": 3,
   "metadata": {},
   "outputs": [],
   "source": [
    "DATADIR = \"../data/text/\"\n",
    "QUERY_USERS = r'\\b(ik|mij|me|jij|je|jou|jouw|jullie|heb|ben)\\b'"
   ]
  },
  {
   "cell_type": "code",
   "execution_count": 4,
   "metadata": {},
   "outputs": [],
   "source": [
    "def squeal(text=None):\n",
    "    clear_output(wait=True)\n",
    "    if not text is None: print(text)"
   ]
  },
  {
   "cell_type": "markdown",
   "metadata": {},
   "source": [
    "## 1. Select users"
   ]
  },
  {
   "cell_type": "code",
   "execution_count": 152,
   "metadata": {},
   "outputs": [],
   "source": [
    "YEAR= \"2019\""
   ]
  },
  {
   "cell_type": "code",
   "execution_count": 154,
   "metadata": {},
   "outputs": [
    {
     "name": "stdout",
     "output_type": "stream",
     "text": [
      "20191231-23.out.gz\n"
     ]
    }
   ],
   "source": [
    "files = sorted(os.listdir(DATADIR))\n",
    "pattern = f\"^{YEAR}\"\n",
    "totals = {}\n",
    "matches = {}\n",
    "for file_name in files:\n",
    "    if re.search(pattern, file_name):\n",
    "        squeal(file_name)\n",
    "        df = pd.read_csv(DATADIR+file_name, index_col=\"id_str\")\n",
    "        user_counts = df[\"user\"].value_counts()\n",
    "        for user in user_counts.keys():\n",
    "            if user in totals:\n",
    "                totals[user] += user_counts[user]\n",
    "            else:\n",
    "                totals[user] = user_counts[user]\n",
    "        matching_rows = df[\"text\"].str.contains(QUERY_USERS, flags=re.IGNORECASE)\n",
    "        matching_counts = df[matching_rows][\"user\"].value_counts()\n",
    "        for user in matching_counts.keys():\n",
    "            if user in matches:\n",
    "                matches[user] += matching_counts[user]\n",
    "            else:\n",
    "                matches[user] = matching_counts[user]        "
   ]
  },
  {
   "cell_type": "code",
   "execution_count": 155,
   "metadata": {},
   "outputs": [],
   "source": [
    "chatting_users = {} \n",
    "for user in matches:\n",
    "    if matches[user] >= 0.5 * totals[user] and matches[user] > 10:\n",
    "        chatting_users[user] = True"
   ]
  },
  {
   "cell_type": "code",
   "execution_count": 156,
   "metadata": {},
   "outputs": [
    {
     "data": {
      "text/plain": [
       "144502"
      ]
     },
     "execution_count": 156,
     "metadata": {},
     "output_type": "execute_result"
    }
   ],
   "source": [
    "len(chatting_users)"
   ]
  },
  {
   "cell_type": "code",
   "execution_count": 157,
   "metadata": {},
   "outputs": [],
   "source": [
    "pd.DataFrame(chatting_users.keys()).to_csv(f\"csv/chatting_users_{YEAR}.csv\", index=None)"
   ]
  },
  {
   "cell_type": "markdown",
   "metadata": {},
   "source": [
    "## 2. Count tweets"
   ]
  },
  {
   "cell_type": "code",
   "execution_count": 96,
   "metadata": {},
   "outputs": [],
   "source": [
    "def process(df_merged, date, hours_matched):\n",
    "    matching_rows_topic = df_merged[\"text\"].str.contains(QUERY_TOPIC, flags=re.IGNORECASE)\n",
    "    matching_rows_i = df_merged[\"text\"].str.contains(QUERY_I, flags=re.IGNORECASE)\n",
    "    matches = len(df_merged[matching_rows_topic & matching_rows_i])\n",
    "    misses = len(df_merged[(matching_rows_topic == False) | (matching_rows_i == False)])\n",
    "    hours_matched[date] = (matches, misses)\n",
    "    \n",
    "date = \"20200301-00\"\n",
    "hours_matched = {}\n",
    "df_merged = pd.DataFrame([{\"user\":\"test\", \"text\": \"ik\"}, {\"user\":\"test\", \"text\": \"blij\"}])\n",
    "process(df_merged, date, hours_matched)\n",
    "assert hours_matched[date] == (0, 2)\n",
    "hours_matched = {}\n",
    "df_merged = pd.DataFrame([{\"user\":\"test\", \"text\": \"ik blij\"}, {\"user\":\"test\", \"text\": \"\"}])\n",
    "process(df_merged, date, hours_matched)\n",
    "assert hours_matched[date] == (1, 1)"
   ]
  },
  {
   "cell_type": "code",
   "execution_count": 279,
   "metadata": {},
   "outputs": [],
   "source": [
    "YEAR = \"2020\"\n",
    "pattern = f\"^{YEAR}\"\n",
    "chatting_users = { user: True for user in list(pd.read_csv(f\"csv/chatting_users_{YEAR}.csv\", index_col=None).iloc[:,0])}"
   ]
  },
  {
   "cell_type": "code",
   "execution_count": 280,
   "metadata": {},
   "outputs": [],
   "source": [
    "TOPIC = \"stress\"\n",
    "QUERY_TOPIC = r'\\b(blij)\\b'\n",
    "#TOPIC = \"eenzaam\"\n",
    "#QUERY_TOPIC = r'\\b(eenzaam)'\n",
    "#TOPIC = \"stress\"\n",
    "#QUERY_TOPIC = r'moe\\b|depress|depri|bang|angst|paniek|stress'\n",
    "QUERY_I = r'\\b(ik|mij|me)\\b'"
   ]
  },
  {
   "cell_type": "code",
   "execution_count": 281,
   "metadata": {},
   "outputs": [
    {
     "name": "stdout",
     "output_type": "stream",
     "text": [
      "20201231-23.out.gz\n"
     ]
    }
   ],
   "source": [
    "hours_matched = {}\n",
    "for file_name in files:\n",
    "    if re.search(pattern, file_name):\n",
    "        squeal(file_name)\n",
    "        date = re.sub(\".out.gz\", \"\", file_name)\n",
    "        df = pd.read_csv(DATADIR+file_name, index_col=\"id_str\")\n",
    "        df_merged = pd.merge(df, pd.DataFrame(chatting_users.keys(), columns=[\"user\"]), on=[\"user\"])\n",
    "        process(df_merged, date, hours_matched)"
   ]
  },
  {
   "cell_type": "code",
   "execution_count": 282,
   "metadata": {},
   "outputs": [],
   "source": [
    "pd.DataFrame([ [hour] + list(hours_matched[hour]) for hour in hours_matched ], columns=[\"hour\", \"matched\", \"missed\"]).to_csv(f\"csv/hours_matched_{YEAR}_{TOPIC}.csv\", index=None)"
   ]
  },
  {
   "cell_type": "markdown",
   "metadata": {},
   "source": [
    "## 3. Make graph"
   ]
  },
  {
   "cell_type": "code",
   "execution_count": 258,
   "metadata": {},
   "outputs": [],
   "source": [
    "def moving_median(number_list, size):\n",
    "    new_list = []\n",
    "    start_offset = int(size/2)\n",
    "    for i in range(0, len(number_list)):\n",
    "        start = max(0, i-start_offset)\n",
    "        end = min(len(number_list), i+start_offset+1)\n",
    "        new_list.append(np.median(number_list[start:end]))\n",
    "    return new_list"
   ]
  },
  {
   "cell_type": "code",
   "execution_count": 259,
   "metadata": {},
   "outputs": [],
   "source": [
    "def make_date_data_counts(hours_matched):\n",
    "    date_data_freqs = {}\n",
    "    date_data_counts = {}\n",
    "    for hour in hours_matched:\n",
    "        date = re.sub(\"-[0-9][0-9]$\", \"\", hour)\n",
    "        if date not in date_data_freqs:\n",
    "             date_data_freqs[date] = [0, 0]\n",
    "        date_data_freqs[date][0] += int(hours_matched[hour][0])\n",
    "        date_data_freqs[date][1] += int(hours_matched[hour][1])\n",
    "        if date_data_freqs[date][0] + date_data_freqs[date][1] > 0:\n",
    "            date_data_counts[date] = date_data_freqs[date][0] / ( date_data_freqs[date][0] + date_data_freqs[date][1] )\n",
    "    return date_data_counts"
   ]
  },
  {
   "cell_type": "code",
   "execution_count": 283,
   "metadata": {},
   "outputs": [
    {
     "data": {
      "image/png": "[encoded data removed]",
      "text/plain": [
       "<Figure size 432x288 with 1 Axes>"
      ]
     },
     "metadata": {
      "needs_background": "light"
     },
     "output_type": "display_data"
    }
   ],
   "source": [
    "WINDOW_SIZE = 60\n",
    "\n",
    "\n",
    "def make_plot_data(date_data_counts):\n",
    "    x = [datetime.datetime.strptime(date, f\"%Y%m%d\") for date in date_data_counts]\n",
    "    y = moving_median(list(date_data_counts.values()), WINDOW_SIZE)\n",
    "    return x, y\n",
    "\n",
    "\n",
    "def make_x_y(year, topic):\n",
    "    hours_matched_list = pd.read_csv(f\"csv/hours_matched_{year}_{topic}.csv\", index_col=None).to_dict(orient=\"records\")\n",
    "    hours_matched = {}\n",
    "    for row in hours_matched_list:\n",
    "        hours_matched[row[\"hour\"]] = [row[\"matched\"], row[\"missed\"]]\n",
    "    date_data_counts = make_date_data_counts(hours_matched)\n",
    "    x, y = make_plot_data(date_data_counts)\n",
    "    return x, y\n",
    "\n",
    "\n",
    "TOPIC = \"stress\"\n",
    "x_2019, y_2019 = make_x_y(\"2019\", TOPIC)\n",
    "x_2020, y_2020 = make_x_y(\"2020\", TOPIC)\n",
    "x_2021, y_2021 = make_x_y(\"2021\", TOPIC)\n",
    "x = x_2019 + x_2020 + x_2021\n",
    "y = y_2019 + y_2020 + y_2021\n",
    "\n",
    "fig, ax = plt.subplots()\n",
    "ax.xaxis.set_major_formatter(mdates.DateFormatter(\"%d-%m\"))\n",
    "ax.plot_date(x_2020[:365], y_2019, fmt=\"-\", label=\"2019\")\n",
    "ax.plot_date(x_2020, y_2020, fmt=\"-\", label=\"2020\")\n",
    "ax.plot_date(x_2020[:90], y_2021, fmt=\"-\", label=\"2021\")\n",
    "plt.title(f\"{TOPIC} (median of {WINDOW_SIZE} days)\")\n",
    "plt.xlabel(\"month\")\n",
    "plt.ylabel(\"\")\n",
    "plt.legend()\n",
    "plt.savefig(f\"{YEAR}-{TOPIC}.png\")\n",
    "plt.show()"
   ]
  },
  {
   "cell_type": "code",
   "execution_count": 265,
   "metadata": {},
   "outputs": [
    {
     "data": {
      "text/plain": [
       "(365, 366, 90, 365, 366, 90, 821, 820)"
      ]
     },
     "execution_count": 265,
     "metadata": {},
     "output_type": "execute_result"
    }
   ],
   "source": [
    "len(x_2019), len(x_2020), len(x_2021), len(y_2019), len(y_2020), len(y_2021), len(x), len(y)"
   ]
  },
  {
   "cell_type": "code",
   "execution_count": null,
   "metadata": {},
   "outputs": [],
   "source": []
  }
 ],
 "metadata": {
  "kernelspec": {
   "display_name": "python37",
   "language": "python",
   "name": "python37"
  },
  "language_info": {
   "codemirror_mode": {
    "name": "ipython",
    "version": 3
   },
   "file_extension": ".py",
   "mimetype": "text/x-python",
   "name": "python",
   "nbconvert_exporter": "python",
   "pygments_lexer": "ipython3",
   "version": "3.7.3"
  }
 },
 "nbformat": 4,
 "nbformat_minor": 4
}
