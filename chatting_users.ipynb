{
 "cells": [
  {
   "cell_type": "markdown",
   "metadata": {},
   "source": [
    "# Chatting users\n",
    "\n",
    "Chatting users are defined as users which use many of the tweets to chat with other users. These chatting tweets can be identified by their contents, for example pronouns like *I* and *you* and specific verb forms like *am*."
   ]
  },
  {
   "cell_type": "code",
   "execution_count": 57,
   "metadata": {},
   "outputs": [],
   "source": [
    "import datetime\n",
    "import matplotlib.pyplot as plt\n",
    "import matplotlib.dates as mdates\n",
    "import os\n",
    "import pandas as pd\n",
    "import re\n",
    "from IPython.display import clear_output"
   ]
  },
  {
   "cell_type": "code",
   "execution_count": 5,
   "metadata": {},
   "outputs": [],
   "source": [
    "DATADIR = \"../data/text/\"\n",
    "QUERY_USERS = r'\\b(ik|mij|me|jij|je|jou|jouw|jullie|heb|ben)\\b'"
   ]
  },
  {
   "cell_type": "code",
   "execution_count": 33,
   "metadata": {},
   "outputs": [],
   "source": [
    "def squeal(text=None):\n",
    "    clear_output(wait=True)\n",
    "    if not text is None: print(text)"
   ]
  },
  {
   "cell_type": "markdown",
   "metadata": {},
   "source": [
    "## 1. Select users"
   ]
  },
  {
   "cell_type": "code",
   "execution_count": 38,
   "metadata": {},
   "outputs": [
    {
     "name": "stdout",
     "output_type": "stream",
     "text": [
      "20210331-23.out.gz\n"
     ]
    }
   ],
   "source": [
    "files = sorted(os.listdir(DATADIR))\n",
    "pattern = \"^202103\"\n",
    "totals = {}\n",
    "matches = {}\n",
    "for file_name in files:\n",
    "    if re.search(pattern, file_name):\n",
    "        squeal(file_name)\n",
    "        df = pd.read_csv(DATADIR+file_name, index_col=\"id_str\")\n",
    "        user_counts = df[\"user\"].value_counts()\n",
    "        for user in user_counts.keys():\n",
    "            if user in totals:\n",
    "                totals[user] += user_counts[user]\n",
    "            else:\n",
    "                totals[user] = user_counts[user]\n",
    "        matching_rows = df[\"text\"].str.contains(QUERY_USERS, flags=re.IGNORECASE)\n",
    "        matching_counts = df[matching_rows][\"user\"].value_counts()\n",
    "        for user in matching_counts.keys():\n",
    "            if user in matches:\n",
    "                matches[user] += matching_counts[user]\n",
    "            else:\n",
    "                matches[user] = matching_counts[user]        "
   ]
  },
  {
   "cell_type": "code",
   "execution_count": 42,
   "metadata": {},
   "outputs": [],
   "source": [
    "chatting_users = {} \n",
    "for user in matches:\n",
    "    if matches[user] >= 0.5 * totals[user] and matches[user] > 10:\n",
    "        chatting_users[user] = True"
   ]
  },
  {
   "cell_type": "code",
   "execution_count": 43,
   "metadata": {},
   "outputs": [
    {
     "data": {
      "text/plain": [
       "39112"
      ]
     },
     "execution_count": 43,
     "metadata": {},
     "output_type": "execute_result"
    }
   ],
   "source": [
    "len(chatting_users)"
   ]
  },
  {
   "cell_type": "markdown",
   "metadata": {},
   "source": [
    "## 2. Count tweets"
   ]
  },
  {
   "cell_type": "code",
   "execution_count": 54,
   "metadata": {},
   "outputs": [],
   "source": [
    "QUERY_TOPIC = r'\\b(blij)\\b'"
   ]
  },
  {
   "cell_type": "code",
   "execution_count": 56,
   "metadata": {},
   "outputs": [
    {
     "name": "stdout",
     "output_type": "stream",
     "text": [
      "20210331-23.out.gz\n"
     ]
    }
   ],
   "source": [
    "dates_found = []\n",
    "for file_name in files:\n",
    "    if re.search(pattern, file_name):\n",
    "        squeal(file_name)\n",
    "        date = re.sub(\".out.gz\", \"\", file_name)\n",
    "        df = pd.read_csv(DATADIR+file_name, index_col=\"id_str\")\n",
    "        matching_rows = df[\"text\"].str.contains(QUERY_TOPIC, flags=re.IGNORECASE)\n",
    "        for id_str, row in df[matching_rows].iterrows():\n",
    "            if row[\"user\"] in chatting_users:\n",
    "                dates_found.append(date)"
   ]
  },
  {
   "cell_type": "markdown",
   "metadata": {},
   "source": [
    "## 3. Make graph"
   ]
  },
  {
   "cell_type": "code",
   "execution_count": 64,
   "metadata": {},
   "outputs": [
    {
     "data": {
      "text/plain": [
       "{'20210301': 993,\n",
       " '20210302': 946,\n",
       " '20210303': 1038,\n",
       " '20210304': 1032,\n",
       " '20210305': 1087,\n",
       " '20210306': 1009,\n",
       " '20210307': 1084,\n",
       " '20210308': 1012,\n",
       " '20210309': 928,\n",
       " '20210310': 955,\n",
       " '20210311': 1102,\n",
       " '20210312': 1077,\n",
       " '20210313': 966,\n",
       " '20210314': 994,\n",
       " '20210315': 1127,\n",
       " '20210316': 1167,\n",
       " '20210317': 1816,\n",
       " '20210318': 1710,\n",
       " '20210319': 1159,\n",
       " '20210320': 1076,\n",
       " '20210321': 983,\n",
       " '20210322': 945,\n",
       " '20210323': 1041,\n",
       " '20210324': 1267,\n",
       " '20210325': 992,\n",
       " '20210326': 996,\n",
       " '20210327': 943,\n",
       " '20210328': 864,\n",
       " '20210329': 1235,\n",
       " '20210330': 1102,\n",
       " '20210331': 1083}"
      ]
     },
     "execution_count": 64,
     "metadata": {},
     "output_type": "execute_result"
    }
   ],
   "source": [
    "dates = {}\n",
    "for hour in dates_found:\n",
    "    date = re.sub(\"-[0-9][0-9]$\", \"\", hour)\n",
    "    if date in dates:\n",
    "        dates[date] += 1\n",
    "    else:\n",
    "        dates[date] = 1\n",
    "dates"
   ]
  },
  {
   "cell_type": "code",
   "execution_count": null,
   "metadata": {},
   "outputs": [],
   "source": []
  }
 ],
 "metadata": {
  "kernelspec": {
   "display_name": "python37",
   "language": "python",
   "name": "python37"
  },
  "language_info": {
   "codemirror_mode": {
    "name": "ipython",
    "version": 3
   },
   "file_extension": ".py",
   "mimetype": "text/x-python",
   "name": "python",
   "nbconvert_exporter": "python",
   "pygments_lexer": "ipython3",
   "version": "3.7.3"
  }
 },
 "nbformat": 4,
 "nbformat_minor": 4
}
