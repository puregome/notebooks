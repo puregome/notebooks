{
 "cells": [
  {
   "cell_type": "markdown",
   "metadata": {},
   "source": [
    "# Chatting users\n",
    "\n",
    "Chatting users are defined as users which use many of the tweets to chat with other users. These chatting tweets can be identified by their contents, for example pronouns like *I* and *you* and specific verb forms like *am*."
   ]
  },
  {
   "cell_type": "code",
   "execution_count": 8,
   "metadata": {},
   "outputs": [],
   "source": [
    "import datetime\n",
    "import matplotlib.pyplot as plt\n",
    "import matplotlib.dates as mdates\n",
    "import matplotlib\n",
    "import numpy as np\n",
    "import os\n",
    "import pandas as pd\n",
    "import re\n",
    "from IPython.display import clear_output\n",
    "from pandas.plotting import register_matplotlib_converters\n",
    "register_matplotlib_converters()"
   ]
  },
  {
   "cell_type": "code",
   "execution_count": 2,
   "metadata": {},
   "outputs": [],
   "source": [
    "DATADIR = \"../data/text/\"\n",
    "QUERY_USERS = r'\\b(ik|mij|me|jij|je|jou|jouw|jullie|heb|ben)\\b'"
   ]
  },
  {
   "cell_type": "code",
   "execution_count": 3,
   "metadata": {},
   "outputs": [],
   "source": [
    "def squeal(text=None):\n",
    "    clear_output(wait=True)\n",
    "    if not text is None: print(text)"
   ]
  },
  {
   "cell_type": "markdown",
   "metadata": {},
   "source": [
    "## 1. Select users (skip)"
   ]
  },
  {
   "cell_type": "code",
   "execution_count": 17,
   "metadata": {},
   "outputs": [],
   "source": [
    "YEAR= \"2021\""
   ]
  },
  {
   "cell_type": "code",
   "execution_count": 18,
   "metadata": {},
   "outputs": [
    {
     "name": "stdout",
     "output_type": "stream",
     "text": [
      "20211031-23.out.gz\n"
     ]
    }
   ],
   "source": [
    "files = sorted(os.listdir(DATADIR))\n",
    "pattern = f\"^{YEAR}\"\n",
    "totals = {}\n",
    "matches = {}\n",
    "for file_name in files:\n",
    "    if re.search(pattern, file_name):\n",
    "        squeal(file_name)\n",
    "        df = pd.read_csv(DATADIR+file_name, index_col=\"id_str\")\n",
    "        user_counts = df[\"user\"].value_counts()\n",
    "        for user in user_counts.keys():\n",
    "            if user in totals:\n",
    "                totals[user] += user_counts[user]\n",
    "            else:\n",
    "                totals[user] = user_counts[user]\n",
    "        matching_rows = df[\"text\"].str.contains(QUERY_USERS, flags=re.IGNORECASE)\n",
    "        matching_counts = df[matching_rows][\"user\"].value_counts()\n",
    "        for user in matching_counts.keys():\n",
    "            if user in matches:\n",
    "                matches[user] += matching_counts[user]\n",
    "            else:\n",
    "                matches[user] = matching_counts[user]        "
   ]
  },
  {
   "cell_type": "code",
   "execution_count": 19,
   "metadata": {},
   "outputs": [],
   "source": [
    "chatting_users = {} \n",
    "for user in matches:\n",
    "    if matches[user] >= 0.5 * totals[user] and matches[user] > 10:\n",
    "        chatting_users[user] = True"
   ]
  },
  {
   "cell_type": "code",
   "execution_count": 20,
   "metadata": {},
   "outputs": [
    {
     "data": {
      "text/plain": [
       "126645"
      ]
     },
     "execution_count": 20,
     "metadata": {},
     "output_type": "execute_result"
    }
   ],
   "source": [
    "len(chatting_users)"
   ]
  },
  {
   "cell_type": "code",
   "execution_count": 22,
   "metadata": {},
   "outputs": [],
   "source": [
    "pd.DataFrame(chatting_users.keys()).to_csv(f\"csv/chatting_users_{YEAR}.csv\", index=None)"
   ]
  },
  {
   "cell_type": "markdown",
   "metadata": {},
   "source": [
    "## 2. Count tweets (skip)"
   ]
  },
  {
   "cell_type": "code",
   "execution_count": 30,
   "metadata": {},
   "outputs": [],
   "source": [
    "TOPIC_HAPPY = \"blij\"\n",
    "QUERY_TOPIC_HAPPY = r'(blij|blije)\\b'\n",
    "TOPIC_LONESOME = \"eenzaam\"\n",
    "QUERY_TOPIC_LONESOME = r'\\b(eenzaam|eenzam)'\n",
    "TOPIC_STRESS = \"stress\"\n",
    "QUERY_TOPIC_STRESS = r'moe\\b|depress|depri|bang|angst|paniek|stress'\n",
    "QUERY_I = r'\\b(ik|mij|me)\\b'\n",
    "\n",
    "TOPIC = TOPIC_HAPPY\n",
    "QUERY_TOPIC = QUERY_TOPIC_HAPPY"
   ]
  },
  {
   "cell_type": "code",
   "execution_count": 24,
   "metadata": {},
   "outputs": [],
   "source": [
    "def process(df_merged, date, hours_matched, tweets, query_topic):\n",
    "    matching_rows_topic = df_merged[\"text\"].str.contains(query_topic, flags=re.IGNORECASE)\n",
    "    matching_rows_i = df_merged[\"text\"].str.contains(QUERY_I, flags=re.IGNORECASE)\n",
    "    matches_df = df_merged[matching_rows_topic & matching_rows_i]\n",
    "    matches = len(matches_df)\n",
    "    misses = len(df_merged[(matching_rows_topic == False) | (matching_rows_i == False)])\n",
    "    hours_matched[date] = (matches, misses)\n",
    "    tweets.extend(matches_df.values.tolist())\n",
    "    \n",
    "date = \"20200301-00\"\n",
    "hours_matched = {}\n",
    "tweets = []\n",
    "df_merged = pd.DataFrame([{\"user\":\"test\", \"text\": \"ik\"}, {\"user\":\"test\", \"text\": \"blij\"}])\n",
    "process(df_merged, date, hours_matched, tweets, QUERY_TOPIC_LONESOME)\n",
    "assert hours_matched[date] == (0, 2)\n",
    "assert len(tweets) == 0\n",
    "hours_matched = {}\n",
    "tweets = []\n",
    "df_merged = pd.DataFrame([{\"user\":\"test\", \"text\": \"ik blij\"}, {\"user\":\"test\", \"text\": \"\"}])\n",
    "process(df_merged, date, hours_matched, tweets, QUERY_TOPIC_HAPPY)\n",
    "assert hours_matched[date] == (1, 1)\n",
    "assert len(tweets) == 1"
   ]
  },
  {
   "cell_type": "code",
   "execution_count": 25,
   "metadata": {},
   "outputs": [],
   "source": [
    "YEAR = \"2021\"\n",
    "pattern = f\"^{YEAR}\"\n",
    "chatting_users = { user: True for user in list(pd.read_csv(f\"csv/chatting_users_{YEAR}.csv\", index_col=None).iloc[:,0])}"
   ]
  },
  {
   "cell_type": "code",
   "execution_count": 31,
   "metadata": {},
   "outputs": [
    {
     "name": "stdout",
     "output_type": "stream",
     "text": [
      "20211031-23.out.gz\n"
     ]
    }
   ],
   "source": [
    "hours_matched = {}\n",
    "tweets = []\n",
    "files = sorted(os.listdir(DATADIR))\n",
    "for file_name in files:\n",
    "    if re.search(pattern, file_name):\n",
    "        squeal(file_name)\n",
    "        date = re.sub(\".out.gz\", \"\", file_name)\n",
    "        df = pd.read_csv(DATADIR+file_name)\n",
    "        df_merged = pd.merge(df, pd.DataFrame(chatting_users.keys(), columns=[\"user\"]), on=[\"user\"])\n",
    "        process(df_merged, date, hours_matched, tweets, QUERY_TOPIC)"
   ]
  },
  {
   "cell_type": "code",
   "execution_count": 34,
   "metadata": {},
   "outputs": [],
   "source": [
    "pd.DataFrame(tweets, columns=[\"id_str\", \"in_reply_to_status_id_str\", \"user\", \"verified\", \"text\", \"location\"]).to_csv(f\"csv/hours_matched_{YEAR}_{TOPIC}_tweets.csv\", index=None)"
   ]
  },
  {
   "cell_type": "code",
   "execution_count": 35,
   "metadata": {},
   "outputs": [],
   "source": [
    "pd.DataFrame([ [hour] + list(hours_matched[hour]) for hour in hours_matched ], columns=[\"hour\", \"matched\", \"missed\"]).to_csv(f\"csv/hours_matched_{YEAR}_{TOPIC}.csv\", index=None)"
   ]
  },
  {
   "cell_type": "markdown",
   "metadata": {},
   "source": [
    "## 3. Make graph"
   ]
  },
  {
   "cell_type": "code",
   "execution_count": 36,
   "metadata": {},
   "outputs": [],
   "source": [
    "def moving_median(number_list, size):\n",
    "    new_list = []\n",
    "    start_offset = int(size/2)\n",
    "    for i in range(0, len(number_list)):\n",
    "        start = max(0, i-start_offset)\n",
    "        end = min(len(number_list), i+start_offset+1)\n",
    "        new_list.append(np.median(number_list[start:end]))\n",
    "    return new_list"
   ]
  },
  {
   "cell_type": "code",
   "execution_count": 37,
   "metadata": {},
   "outputs": [],
   "source": [
    "def extract_date_data_counts(hours_matched):\n",
    "    date_data_freqs = {}\n",
    "    date_data_counts = {}\n",
    "    for hour in hours_matched:\n",
    "        date = re.sub(\"-[0-9][0-9]$\", \"\", hour)\n",
    "        if date not in date_data_freqs:\n",
    "             date_data_freqs[date] = [0, 0]\n",
    "        date_data_freqs[date][0] += int(hours_matched[hour][0])\n",
    "        date_data_freqs[date][1] += int(hours_matched[hour][1])\n",
    "        if date_data_freqs[date][0] + date_data_freqs[date][1] > 0:\n",
    "            date_data_counts[date] = date_data_freqs[date][0] / ( date_data_freqs[date][0] + date_data_freqs[date][1] )\n",
    "    return date_data_counts"
   ]
  },
  {
   "cell_type": "code",
   "execution_count": 38,
   "metadata": {},
   "outputs": [],
   "source": [
    "def make_plot_data(date_data_counts):\n",
    "    x = [datetime.datetime.strptime(date, f\"%Y%m%d\") for date in date_data_counts]\n",
    "    y = moving_median(list(date_data_counts.values()), WINDOW_SIZE)\n",
    "    return x, y\n",
    "\n",
    "\n",
    "def make_date_data_counts(year, topic):\n",
    "    hours_matched_list = pd.read_csv(f\"csv/hours_matched_{year}_{topic}.csv\", index_col=None).to_dict(orient=\"records\")\n",
    "    hours_matched = {}\n",
    "    for row in hours_matched_list:\n",
    "        hours_matched[row[\"hour\"]] = [row[\"matched\"], row[\"missed\"]]\n",
    "    date_data_counts = extract_date_data_counts(hours_matched)\n",
    "    return date_data_counts"
   ]
  },
  {
   "cell_type": "code",
   "execution_count": 41,
   "metadata": {},
   "outputs": [
    {
     "data": {
      "image/png": "[encoded data removed]",
      "text/plain": [
       "<Figure size 864x432 with 1 Axes>"
      ]
     },
     "metadata": {
      "needs_background": "light"
     },
     "output_type": "display_data"
    }
   ],
   "source": [
    "WINDOW_SIZE = 60\n",
    "\n",
    "TOPIC = \"blij\"\n",
    "TOPIC_EN = {\"blij\": \"happiness\", \"eenzaam\": \"loneliness\"}[TOPIC]\n",
    "\n",
    "date_data_counts_2018 = make_date_data_counts(\"2018\", TOPIC)\n",
    "date_data_counts_2019 = make_date_data_counts(\"2019\", TOPIC)\n",
    "date_data_counts_2020 = make_date_data_counts(\"2020\", TOPIC)\n",
    "date_data_counts_2021 = make_date_data_counts(\"2021\", TOPIC)\n",
    "date_data_counts = dict(date_data_counts_2018)\n",
    "date_data_counts.update(dict(date_data_counts_2019))\n",
    "date_data_counts.update(dict(date_data_counts_2020))\n",
    "date_data_counts.update(dict(date_data_counts_2021))\n",
    "\n",
    "x, y = make_plot_data(date_data_counts)\n",
    "x_2018 = x[:len(date_data_counts_2018)]\n",
    "x_2019 = x[len(date_data_counts_2018):len(date_data_counts_2018)+len(date_data_counts_2019)]\n",
    "x_2020 = x[len(date_data_counts_2018)+len(date_data_counts_2019):len(date_data_counts_2018)+len(date_data_counts_2019)+len(date_data_counts_2020)]\n",
    "x_2021 = x[len(date_data_counts_2018)+len(date_data_counts_2019)+len(date_data_counts_2020):]\n",
    "y_2018 = y[:len(date_data_counts_2018)]\n",
    "y_2019 = y[len(date_data_counts_2018):len(date_data_counts_2018)+len(date_data_counts_2019)]\n",
    "y_2020 = y[len(date_data_counts_2018)+len(date_data_counts_2019):len(date_data_counts_2018)+len(date_data_counts_2019)+len(date_data_counts_2020)]\n",
    "y_2021 = y[len(date_data_counts_2018)+len(date_data_counts_2019)+len(date_data_counts_2020):]\n",
    "\n",
    "font = {'family' : 'DejaVu Sans',\n",
    "        'weight' : 'normal',\n",
    "        'size'   : 16}\n",
    "matplotlib.rc('font', **font)\n",
    "\n",
    "fig, ax = plt.subplots(figsize=(12, 6))\n",
    "ax.xaxis.set_major_formatter(mdates.DateFormatter(\"%b\"))\n",
    "#ax.plot_date(x_2020[:len(y_2018)], y_2018, fmt=\"-\", label=\"2018\")\n",
    "ax.plot_date(x_2020[:len(y_2019)], [ 1000*y for y in y_2019 ], fmt=\"-\", label=\"2019\")\n",
    "ax.plot_date(x_2020, [ 1000*y for y in y_2020 ], fmt=\"-\", label=\"2020\")\n",
    "ax.plot_date(x_2020[:len(y_2021)], [ 1000*y for y in y_2021 ], fmt=\"-\", label=\"2021\")\n",
    "plt.title(f\"{TOPIC_EN} (relative frequency per 1000 tweets)\")\n",
    "plt.xlabel(\"month\")\n",
    "plt.ylabel(\"\")\n",
    "plt.legend()\n",
    "plt.savefig(f\"{TOPIC}.png\")\n",
    "plt.show()"
   ]
  },
  {
   "cell_type": "code",
   "execution_count": 42,
   "metadata": {},
   "outputs": [
    {
     "data": {
      "text/plain": [
       "(365, 366, 304, 365, 366, 304, 1400, 1400, 365, 366, 304)"
      ]
     },
     "execution_count": 42,
     "metadata": {},
     "output_type": "execute_result"
    }
   ],
   "source": [
    "len(x_2019), len(x_2020), len(x_2021), len(y_2019), len(y_2020), len(y_2021), len(x), len(y), len(date_data_counts_2019), len(date_data_counts_2020), len(date_data_counts_2021),"
   ]
  },
  {
   "cell_type": "code",
   "execution_count": null,
   "metadata": {},
   "outputs": [],
   "source": []
  },
  {
   "cell_type": "markdown",
   "metadata": {},
   "source": [
    "## 4.Process annotations"
   ]
  },
  {
   "cell_type": "code",
   "execution_count": null,
   "metadata": {},
   "outputs": [],
   "source": []
  },
  {
   "cell_type": "code",
   "execution_count": 15,
   "metadata": {},
   "outputs": [],
   "source": [
    "DATA_FILE = \"../data/annotation/eenzaam_2020.csv\"\n",
    "df_data = pd.read_csv(DATA_FILE, index_col=['id_str'])\n",
    "df_annotation = pd.read_csv(DATA_FILE + \".human-labels.txt\", header=None, sep=\" \")"
   ]
  },
  {
   "cell_type": "code",
   "execution_count": 13,
   "metadata": {},
   "outputs": [
    {
     "data": {
      "text/html": [
       "<div>\n",
       "<style scoped>\n",
       "    .dataframe tbody tr th:only-of-type {\n",
       "        vertical-align: middle;\n",
       "    }\n",
       "\n",
       "    .dataframe tbody tr th {\n",
       "        vertical-align: top;\n",
       "    }\n",
       "\n",
       "    .dataframe thead th {\n",
       "        text-align: right;\n",
       "    }\n",
       "</style>\n",
       "<table border=\"1\" class=\"dataframe\">\n",
       "  <thead>\n",
       "    <tr style=\"text-align: right;\">\n",
       "      <th></th>\n",
       "      <th>in_reply_to_status_id_str</th>\n",
       "      <th>user</th>\n",
       "      <th>verified</th>\n",
       "      <th>text</th>\n",
       "      <th>location</th>\n",
       "    </tr>\n",
       "    <tr>\n",
       "      <th>id_str</th>\n",
       "      <th></th>\n",
       "      <th></th>\n",
       "      <th></th>\n",
       "      <th></th>\n",
       "      <th></th>\n",
       "    </tr>\n",
       "  </thead>\n",
       "  <tbody>\n",
       "    <tr>\n",
       "      <td>1212168318007812096</td>\n",
       "      <td>1.212167e+18</td>\n",
       "      <td>Yazid_NL</td>\n",
       "      <td>NaN</td>\n",
       "      <td>@Orihime_Inoue27 Dat is toch lief van mij.. \\n...</td>\n",
       "      <td>The woods</td>\n",
       "    </tr>\n",
       "    <tr>\n",
       "      <td>1212306665040683009</td>\n",
       "      <td>NaN</td>\n",
       "      <td>MylifewithF</td>\n",
       "      <td>NaN</td>\n",
       "      <td>Onze Facebook groep heb ik gister opgestart en...</td>\n",
       "      <td>NaN</td>\n",
       "    </tr>\n",
       "    <tr>\n",
       "      <td>1212326477569634305</td>\n",
       "      <td>NaN</td>\n",
       "      <td>ekkendonk</td>\n",
       "      <td>NaN</td>\n",
       "      <td>#delen Ik vind het moeilijk om openlijk te ver...</td>\n",
       "      <td>Noord-Brabant, Nederland</td>\n",
       "    </tr>\n",
       "    <tr>\n",
       "      <td>1213658296000880640</td>\n",
       "      <td>NaN</td>\n",
       "      <td>WebCamBabesNL</td>\n",
       "      <td>NaN</td>\n",
       "      <td>Hello Lieverd van mij. Ik ben een lekkere jong...</td>\n",
       "      <td>WorldWide</td>\n",
       "    </tr>\n",
       "    <tr>\n",
       "      <td>1214256611608453120</td>\n",
       "      <td>1.213743e+18</td>\n",
       "      <td>J12011193</td>\n",
       "      <td>NaN</td>\n",
       "      <td>@EenzameH Volgende keer maar met mij😳😊</td>\n",
       "      <td>NaN</td>\n",
       "    </tr>\n",
       "    <tr>\n",
       "      <td>...</td>\n",
       "      <td>...</td>\n",
       "      <td>...</td>\n",
       "      <td>...</td>\n",
       "      <td>...</td>\n",
       "      <td>...</td>\n",
       "    </tr>\n",
       "    <tr>\n",
       "      <td>1343954639633473536</td>\n",
       "      <td>1.343954e+18</td>\n",
       "      <td>ThomasPruijsen</td>\n",
       "      <td>NaN</td>\n",
       "      <td>Ik sta nog steeds 100% achter mijn blog en ope...</td>\n",
       "      <td>Nijmegen</td>\n",
       "    </tr>\n",
       "    <tr>\n",
       "      <td>1343975651477512195</td>\n",
       "      <td>NaN</td>\n",
       "      <td>ellavangassen</td>\n",
       "      <td>NaN</td>\n",
       "      <td>Jaaroverzicht kijken: blijten bij BLM-beelden,...</td>\n",
       "      <td>Antwerpen, België</td>\n",
       "    </tr>\n",
       "    <tr>\n",
       "      <td>1343979622522900480</td>\n",
       "      <td>1.343949e+18</td>\n",
       "      <td>1903George</td>\n",
       "      <td>NaN</td>\n",
       "      <td>@TheAllSeeing4 @JoostNiemoller @Lies69616541 I...</td>\n",
       "      <td>NaN</td>\n",
       "    </tr>\n",
       "    <tr>\n",
       "      <td>1344626935905873921</td>\n",
       "      <td>1.344608e+18</td>\n",
       "      <td>Hendrikje01</td>\n",
       "      <td>NaN</td>\n",
       "      <td>@Inge_Happe 🤞maar ook als de test negatief is(...</td>\n",
       "      <td>NaN</td>\n",
       "    </tr>\n",
       "    <tr>\n",
       "      <td>1344644290438451203</td>\n",
       "      <td>1.344644e+18</td>\n",
       "      <td>SimoneTanner10</td>\n",
       "      <td>NaN</td>\n",
       "      <td>@BenWoldring Verpleegkundigen die ‘t rustig he...</td>\n",
       "      <td>NaN</td>\n",
       "    </tr>\n",
       "  </tbody>\n",
       "</table>\n",
       "<p>718 rows × 5 columns</p>\n",
       "</div>"
      ],
      "text/plain": [
       "                     in_reply_to_status_id_str            user  verified  \\\n",
       "id_str                                                                     \n",
       "1212168318007812096               1.212167e+18        Yazid_NL       NaN   \n",
       "1212306665040683009                        NaN     MylifewithF       NaN   \n",
       "1212326477569634305                        NaN       ekkendonk       NaN   \n",
       "1213658296000880640                        NaN   WebCamBabesNL       NaN   \n",
       "1214256611608453120               1.213743e+18       J12011193       NaN   \n",
       "...                                        ...             ...       ...   \n",
       "1343954639633473536               1.343954e+18  ThomasPruijsen       NaN   \n",
       "1343975651477512195                        NaN   ellavangassen       NaN   \n",
       "1343979622522900480               1.343949e+18      1903George       NaN   \n",
       "1344626935905873921               1.344608e+18     Hendrikje01       NaN   \n",
       "1344644290438451203               1.344644e+18  SimoneTanner10       NaN   \n",
       "\n",
       "                                                                  text  \\\n",
       "id_str                                                                   \n",
       "1212168318007812096  @Orihime_Inoue27 Dat is toch lief van mij.. \\n...   \n",
       "1212306665040683009  Onze Facebook groep heb ik gister opgestart en...   \n",
       "1212326477569634305  #delen Ik vind het moeilijk om openlijk te ver...   \n",
       "1213658296000880640  Hello Lieverd van mij. Ik ben een lekkere jong...   \n",
       "1214256611608453120             @EenzameH Volgende keer maar met mij😳😊   \n",
       "...                                                                ...   \n",
       "1343954639633473536  Ik sta nog steeds 100% achter mijn blog en ope...   \n",
       "1343975651477512195  Jaaroverzicht kijken: blijten bij BLM-beelden,...   \n",
       "1343979622522900480  @TheAllSeeing4 @JoostNiemoller @Lies69616541 I...   \n",
       "1344626935905873921  @Inge_Happe 🤞maar ook als de test negatief is(...   \n",
       "1344644290438451203  @BenWoldring Verpleegkundigen die ‘t rustig he...   \n",
       "\n",
       "                                     location  \n",
       "id_str                                         \n",
       "1212168318007812096                 The woods  \n",
       "1212306665040683009                       NaN  \n",
       "1212326477569634305  Noord-Brabant, Nederland  \n",
       "1213658296000880640                 WorldWide  \n",
       "1214256611608453120                       NaN  \n",
       "...                                       ...  \n",
       "1343954639633473536                  Nijmegen  \n",
       "1343975651477512195         Antwerpen, België  \n",
       "1343979622522900480                       NaN  \n",
       "1344626935905873921                       NaN  \n",
       "1344644290438451203                       NaN  \n",
       "\n",
       "[718 rows x 5 columns]"
      ]
     },
     "execution_count": 13,
     "metadata": {},
     "output_type": "execute_result"
    }
   ],
   "source": [
    "df_data"
   ]
  },
  {
   "cell_type": "code",
   "execution_count": 16,
   "metadata": {},
   "outputs": [
    {
     "data": {
      "text/html": [
       "<div>\n",
       "<style scoped>\n",
       "    .dataframe tbody tr th:only-of-type {\n",
       "        vertical-align: middle;\n",
       "    }\n",
       "\n",
       "    .dataframe tbody tr th {\n",
       "        vertical-align: top;\n",
       "    }\n",
       "\n",
       "    .dataframe thead th {\n",
       "        text-align: right;\n",
       "    }\n",
       "</style>\n",
       "<table border=\"1\" class=\"dataframe\">\n",
       "  <thead>\n",
       "    <tr style=\"text-align: right;\">\n",
       "      <th></th>\n",
       "      <th>0</th>\n",
       "      <th>1</th>\n",
       "      <th>2</th>\n",
       "      <th>3</th>\n",
       "      <th>4</th>\n",
       "    </tr>\n",
       "  </thead>\n",
       "  <tbody>\n",
       "    <tr>\n",
       "      <td>0</td>\n",
       "      <td>erikt@xs4all.nl</td>\n",
       "      <td>20210505204635</td>\n",
       "      <td>1212168318007812096</td>\n",
       "      <td>0</td>\n",
       "      <td>IRRELEVANT</td>\n",
       "    </tr>\n",
       "    <tr>\n",
       "      <td>1</td>\n",
       "      <td>erikt@xs4all.nl</td>\n",
       "      <td>20210505204635</td>\n",
       "      <td>1212326477569634305</td>\n",
       "      <td>2</td>\n",
       "      <td>RELEVANT</td>\n",
       "    </tr>\n",
       "    <tr>\n",
       "      <td>2</td>\n",
       "      <td>erikt@xs4all.nl</td>\n",
       "      <td>20210505204641</td>\n",
       "      <td>1212306665040683009</td>\n",
       "      <td>1</td>\n",
       "      <td>IRRELEVANT</td>\n",
       "    </tr>\n",
       "    <tr>\n",
       "      <td>3</td>\n",
       "      <td>erikt@xs4all.nl</td>\n",
       "      <td>20210505204715</td>\n",
       "      <td>1213658296000880640</td>\n",
       "      <td>3</td>\n",
       "      <td>IRRELEVANT</td>\n",
       "    </tr>\n",
       "    <tr>\n",
       "      <td>4</td>\n",
       "      <td>erikt@xs4all.nl</td>\n",
       "      <td>20210505204719</td>\n",
       "      <td>1214256611608453120</td>\n",
       "      <td>4</td>\n",
       "      <td>IRRELEVANT</td>\n",
       "    </tr>\n",
       "    <tr>\n",
       "      <td>...</td>\n",
       "      <td>...</td>\n",
       "      <td>...</td>\n",
       "      <td>...</td>\n",
       "      <td>...</td>\n",
       "      <td>...</td>\n",
       "    </tr>\n",
       "    <tr>\n",
       "      <td>615</td>\n",
       "      <td>erikt@xs4all.nl</td>\n",
       "      <td>20210506134319</td>\n",
       "      <td>1343954639633473536</td>\n",
       "      <td>607</td>\n",
       "      <td>IRRELEVANT</td>\n",
       "    </tr>\n",
       "    <tr>\n",
       "      <td>616</td>\n",
       "      <td>erikt@xs4all.nl</td>\n",
       "      <td>20210506134328</td>\n",
       "      <td>1343975651477512195</td>\n",
       "      <td>608</td>\n",
       "      <td>IRRELEVANT</td>\n",
       "    </tr>\n",
       "    <tr>\n",
       "      <td>617</td>\n",
       "      <td>erikt@xs4all.nl</td>\n",
       "      <td>20210506134403</td>\n",
       "      <td>1343979622522900480</td>\n",
       "      <td>609</td>\n",
       "      <td>IRRELEVANT</td>\n",
       "    </tr>\n",
       "    <tr>\n",
       "      <td>618</td>\n",
       "      <td>erikt@xs4all.nl</td>\n",
       "      <td>20210506134417</td>\n",
       "      <td>1344626935905873921</td>\n",
       "      <td>610</td>\n",
       "      <td>RELEVANT</td>\n",
       "    </tr>\n",
       "    <tr>\n",
       "      <td>619</td>\n",
       "      <td>erikt@xs4all.nl</td>\n",
       "      <td>20210506140437</td>\n",
       "      <td>1344644290438451203</td>\n",
       "      <td>611</td>\n",
       "      <td>IRRELEVANT</td>\n",
       "    </tr>\n",
       "  </tbody>\n",
       "</table>\n",
       "<p>620 rows × 5 columns</p>\n",
       "</div>"
      ],
      "text/plain": [
       "                   0               1                    2    3           4\n",
       "0    erikt@xs4all.nl  20210505204635  1212168318007812096    0  IRRELEVANT\n",
       "1    erikt@xs4all.nl  20210505204635  1212326477569634305    2    RELEVANT\n",
       "2    erikt@xs4all.nl  20210505204641  1212306665040683009    1  IRRELEVANT\n",
       "3    erikt@xs4all.nl  20210505204715  1213658296000880640    3  IRRELEVANT\n",
       "4    erikt@xs4all.nl  20210505204719  1214256611608453120    4  IRRELEVANT\n",
       "..               ...             ...                  ...  ...         ...\n",
       "615  erikt@xs4all.nl  20210506134319  1343954639633473536  607  IRRELEVANT\n",
       "616  erikt@xs4all.nl  20210506134328  1343975651477512195  608  IRRELEVANT\n",
       "617  erikt@xs4all.nl  20210506134403  1343979622522900480  609  IRRELEVANT\n",
       "618  erikt@xs4all.nl  20210506134417  1344626935905873921  610    RELEVANT\n",
       "619  erikt@xs4all.nl  20210506140437  1344644290438451203  611  IRRELEVANT\n",
       "\n",
       "[620 rows x 5 columns]"
      ]
     },
     "execution_count": 16,
     "metadata": {},
     "output_type": "execute_result"
    }
   ],
   "source": [
    "df_annotation"
   ]
  },
  {
   "cell_type": "code",
   "execution_count": null,
   "metadata": {},
   "outputs": [],
   "source": []
  }
 ],
 "metadata": {
  "kernelspec": {
   "display_name": "python37",
   "language": "python",
   "name": "python37"
  },
  "language_info": {
   "codemirror_mode": {
    "name": "ipython",
    "version": 3
   },
   "file_extension": ".py",
   "mimetype": "text/x-python",
   "name": "python",
   "nbconvert_exporter": "python",
   "pygments_lexer": "ipython3",
   "version": "3.7.3"
  }
 },
 "nbformat": 4,
 "nbformat_minor": 4
}
