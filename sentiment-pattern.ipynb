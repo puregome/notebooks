{
 "cells": [
  {
   "cell_type": "markdown",
   "metadata": {},
   "source": [
    "# Sentiment\n",
    "\n",
    "Visualize sentiment analysis"
   ]
  },
  {
   "cell_type": "code",
   "execution_count": 3,
   "metadata": {},
   "outputs": [],
   "source": [
    "import datetime\n",
    "import os\n",
    "import re\n",
    "import pandas as pd\n",
    "import matplotlib.pyplot as plt"
   ]
  },
  {
   "cell_type": "code",
   "execution_count": 26,
   "metadata": {},
   "outputs": [],
   "source": [
    "DATADIRECTORYALL = \"../data/sentiment/\"\n",
    "DATADIRECTORYRIVM = \"../data/rivm-sentiment/\"\n",
    "SENTIMENT = \"sentiment\"\n",
    "COUNT = \"count\"\n",
    "DATA = \"data\"\n",
    "LABEL = \"label\""
   ]
  },
  {
   "cell_type": "markdown",
   "metadata": {},
   "source": [
    "## Read hourly sentiment analysis by pattern's sentiment analysis"
   ]
  },
  {
   "cell_type": "code",
   "execution_count": 74,
   "metadata": {},
   "outputs": [],
   "source": [
    "def getSentimentPerHour(dataDirectory):\n",
    "    fileList = os.listdir(dataDirectory)\n",
    "    sentimentPerHour = {}\n",
    "    for inFileName in fileList:\n",
    "        if re.search(r\"2*z\",inFileName):\n",
    "            try: df = pd.read_csv(dataDirectory+inFileName,compression=\"gzip\",header=None)\n",
    "            except: continue\n",
    "            sentiment = sum(df[1])/len(df)\n",
    "            hour = inFileName[0:11]\n",
    "            sentimentPerHour[hour] = { SENTIMENT:sentiment, COUNT:len(df) }\n",
    "    sentimentPerHour = {key:sentimentPerHour[key] for key in sorted(sentimentPerHour.keys())}\n",
    "    return(sentimentPerHour)"
   ]
  },
  {
   "cell_type": "markdown",
   "metadata": {},
   "source": [
    "## Convert hourly analysis to day scores"
   ]
  },
  {
   "cell_type": "code",
   "execution_count": 75,
   "metadata": {},
   "outputs": [],
   "source": [
    "def makeSentimentPerDay(sentimentPerHour):\n",
    "    sentimentPerDay = {}\n",
    "    for hour in sentimentPerHour:\n",
    "        day = re.sub(\"..$\",\"12\",hour)\n",
    "        if not day in sentimentPerDay: sentimentPerDay[day] = {SENTIMENT:0,COUNT:0}\n",
    "        sentimentPerDay[day][SENTIMENT] += sentimentPerHour[hour][SENTIMENT]*sentimentPerHour[hour][COUNT]\n",
    "        sentimentPerDay[day][COUNT] += sentimentPerHour[hour][COUNT]\n",
    "    for day in sentimentPerDay:\n",
    "        sentimentPerDay[day][SENTIMENT] /= sentimentPerDay[day][COUNT]\n",
    "    return(sentimentPerDay)"
   ]
  },
  {
   "cell_type": "markdown",
   "metadata": {},
   "source": [
    "## Visualize"
   ]
  },
  {
   "cell_type": "code",
   "execution_count": 96,
   "metadata": {},
   "outputs": [],
   "source": [
    "DATEFORMATHOUR = \"%Y%m%d-%H\"\n",
    "DATEFORMATDAY = \"%Y%m%d\"\n",
    "DEFAULTTITLE = \"Sentiment scores of Dutch tweets over time\"\n",
    "\n",
    "def visualizeSentiment(dataSources,title=DEFAULTTITLE):\n",
    "    fig,ax = plt.subplots(figsize=(12,4))\n",
    "    for i in range(0,len(dataSources)):\n",
    "        data = dataSources[i][DATA]\n",
    "        label = dataSources[i][LABEL]\n",
    "        ax.plot_date([datetime.datetime.strptime(key,DATEFORMATHOUR) for key in data],\\\n",
    "                     [data[key][SENTIMENT] for key in data],xdate=True,fmt=\"-\",label=label)\n",
    "    plt.title(title)\n",
    "    plt.legend()\n",
    "    plt.show()"
   ]
  },
  {
   "cell_type": "markdown",
   "metadata": {},
   "source": [
    "## Process data obtained from all Dutch tweets"
   ]
  },
  {
   "cell_type": "code",
   "execution_count": 121,
   "metadata": {},
   "outputs": [
    {
     "ename": "FileNotFoundError",
     "evalue": "[Errno 2] No such file or directory: '../data/sentiment/'",
     "output_type": "error",
     "traceback": [
      "\u001b[0;31m---------------------------------------------------------------------------\u001b[0m",
      "\u001b[0;31mFileNotFoundError\u001b[0m                         Traceback (most recent call last)",
      "\u001b[0;32m<ipython-input-121-b7587a31d514>\u001b[0m in \u001b[0;36m<module>\u001b[0;34m\u001b[0m\n\u001b[0;32m----> 1\u001b[0;31m \u001b[0msentimentPerHour\u001b[0m \u001b[0;34m=\u001b[0m \u001b[0mgetSentimentPerHour\u001b[0m\u001b[0;34m(\u001b[0m\u001b[0mDATADIRECTORYALL\u001b[0m\u001b[0;34m)\u001b[0m\u001b[0;34m\u001b[0m\u001b[0;34m\u001b[0m\u001b[0m\n\u001b[0m\u001b[1;32m      2\u001b[0m \u001b[0msentimentPerDay\u001b[0m \u001b[0;34m=\u001b[0m \u001b[0mmakeSentimentPerDay\u001b[0m\u001b[0;34m(\u001b[0m\u001b[0msentimentPerHour\u001b[0m\u001b[0;34m)\u001b[0m\u001b[0;34m\u001b[0m\u001b[0;34m\u001b[0m\u001b[0m\n\u001b[1;32m      3\u001b[0m \u001b[0mvisualizeSentiment\u001b[0m\u001b[0;34m(\u001b[0m\u001b[0;34m[\u001b[0m\u001b[0;34m{\u001b[0m\u001b[0mDATA\u001b[0m\u001b[0;34m:\u001b[0m\u001b[0msentimentPerHour\u001b[0m\u001b[0;34m,\u001b[0m\u001b[0mLABEL\u001b[0m\u001b[0;34m:\u001b[0m\u001b[0;34m\"per hour\"\u001b[0m\u001b[0;34m}\u001b[0m\u001b[0;34m,\u001b[0m\u001b[0;34m{\u001b[0m\u001b[0mDATA\u001b[0m\u001b[0;34m:\u001b[0m\u001b[0msentimentPerDay\u001b[0m\u001b[0;34m,\u001b[0m\u001b[0mLABEL\u001b[0m\u001b[0;34m:\u001b[0m\u001b[0;34m\"per day\"\u001b[0m\u001b[0;34m}\u001b[0m\u001b[0;34m]\u001b[0m\u001b[0;34m,\u001b[0m\u001b[0mtitle\u001b[0m\u001b[0;34m=\u001b[0m\u001b[0mDEFAULTTITLE\u001b[0m\u001b[0;34m+\u001b[0m\u001b[0;34m\" (all Dutch tweets)\"\u001b[0m\u001b[0;34m)\u001b[0m\u001b[0;34m\u001b[0m\u001b[0;34m\u001b[0m\u001b[0m\n",
      "\u001b[0;32m<ipython-input-74-6f90c139dfb9>\u001b[0m in \u001b[0;36mgetSentimentPerHour\u001b[0;34m(dataDirectory)\u001b[0m\n\u001b[1;32m      1\u001b[0m \u001b[0;32mdef\u001b[0m \u001b[0mgetSentimentPerHour\u001b[0m\u001b[0;34m(\u001b[0m\u001b[0mdataDirectory\u001b[0m\u001b[0;34m)\u001b[0m\u001b[0;34m:\u001b[0m\u001b[0;34m\u001b[0m\u001b[0;34m\u001b[0m\u001b[0m\n\u001b[0;32m----> 2\u001b[0;31m     \u001b[0mfileList\u001b[0m \u001b[0;34m=\u001b[0m \u001b[0mos\u001b[0m\u001b[0;34m.\u001b[0m\u001b[0mlistdir\u001b[0m\u001b[0;34m(\u001b[0m\u001b[0mdataDirectory\u001b[0m\u001b[0;34m)\u001b[0m\u001b[0;34m\u001b[0m\u001b[0;34m\u001b[0m\u001b[0m\n\u001b[0m\u001b[1;32m      3\u001b[0m     \u001b[0msentimentPerHour\u001b[0m \u001b[0;34m=\u001b[0m \u001b[0;34m{\u001b[0m\u001b[0;34m}\u001b[0m\u001b[0;34m\u001b[0m\u001b[0;34m\u001b[0m\u001b[0m\n\u001b[1;32m      4\u001b[0m     \u001b[0;32mfor\u001b[0m \u001b[0minFileName\u001b[0m \u001b[0;32min\u001b[0m \u001b[0mfileList\u001b[0m\u001b[0;34m:\u001b[0m\u001b[0;34m\u001b[0m\u001b[0;34m\u001b[0m\u001b[0m\n\u001b[1;32m      5\u001b[0m         \u001b[0;32mif\u001b[0m \u001b[0mre\u001b[0m\u001b[0;34m.\u001b[0m\u001b[0msearch\u001b[0m\u001b[0;34m(\u001b[0m\u001b[0;34mr\"2*z\"\u001b[0m\u001b[0;34m,\u001b[0m\u001b[0minFileName\u001b[0m\u001b[0;34m)\u001b[0m\u001b[0;34m:\u001b[0m\u001b[0;34m\u001b[0m\u001b[0;34m\u001b[0m\u001b[0m\n",
      "\u001b[0;31mFileNotFoundError\u001b[0m: [Errno 2] No such file or directory: '../data/sentiment/'"
     ]
    }
   ],
   "source": [
    "sentimentPerHour = getSentimentPerHour(DATADIRECTORYALL)\n",
    "sentimentPerDay = makeSentimentPerDay(sentimentPerHour)\n",
    "visualizeSentiment([{DATA:sentimentPerHour,LABEL:\"per hour\"},{DATA:sentimentPerDay,LABEL:\"per day\"}],title=DEFAULTTITLE+\" (all Dutch tweets)\")"
   ]
  },
  {
   "cell_type": "markdown",
   "metadata": {},
   "source": [
    "## Sort days by sentiment score"
   ]
  },
  {
   "cell_type": "code",
   "execution_count": 78,
   "metadata": {},
   "outputs": [
    {
     "data": {
      "text/plain": [
       "{'20200312-12': -0.092,\n",
       " '20200322-12': -0.084,\n",
       " '20200315-12': -0.081,\n",
       " '20200314-12': -0.075,\n",
       " '20200313-12': -0.07,\n",
       " '20200302-12': -0.066,\n",
       " '20200323-12': -0.065,\n",
       " '20200311-12': -0.064,\n",
       " '20200310-12': -0.06,\n",
       " '20200321-12': -0.058,\n",
       " '20200331-12': -0.054,\n",
       " '20200325-12': -0.054,\n",
       " '20200316-12': -0.053,\n",
       " '20200330-12': -0.053,\n",
       " '20200301-12': -0.053,\n",
       " '20200309-12': -0.052,\n",
       " '20200304-12': -0.05,\n",
       " '20200303-12': -0.049,\n",
       " '20200317-12': -0.048,\n",
       " '20200318-12': -0.048,\n",
       " '20200305-12': -0.047,\n",
       " '20200306-12': -0.045,\n",
       " '20200324-12': -0.044,\n",
       " '20200329-12': -0.043,\n",
       " '20200326-12': -0.043,\n",
       " '20200319-12': -0.043,\n",
       " '20200307-12': -0.042,\n",
       " '20200308-12': -0.042,\n",
       " '20200328-12': -0.036,\n",
       " '20200320-12': -0.032,\n",
       " '20200327-12': -0.028}"
      ]
     },
     "execution_count": 78,
     "metadata": {},
     "output_type": "execute_result"
    }
   ],
   "source": [
    "{k:round(v[SENTIMENT],3) for k,v in sorted(sentimentPerDay.items(),key=lambda item:item[1][SENTIMENT])}"
   ]
  },
  {
   "cell_type": "markdown",
   "metadata": {},
   "source": [
    "## Process data from RIVM query"
   ]
  },
  {
   "cell_type": "code",
   "execution_count": 97,
   "metadata": {},
   "outputs": [
    {
     "data": {
      "image/png": "[encoded data removed]",
      "text/plain": [
       "<Figure size 864x288 with 1 Axes>"
      ]
     },
     "metadata": {
      "needs_background": "light"
     },
     "output_type": "display_data"
    }
   ],
   "source": [
    "sentimentPerHour = getSentimentPerHour(DATADIRECTORYRIVM)\n",
    "sentimentPerDay = makeSentimentPerDay(sentimentPerHour)\n",
    "visualizeSentiment([{DATA:sentimentPerHour,LABEL:\"per hour\"},{DATA:sentimentPerDay,LABEL:\"per day\"}],title=DEFAULTTITLE+\" (RIVM query)\")"
   ]
  },
  {
   "cell_type": "markdown",
   "metadata": {},
   "source": [
    "## Sort days by sentiment score"
   ]
  },
  {
   "cell_type": "code",
   "execution_count": 94,
   "metadata": {},
   "outputs": [
    {
     "data": {
      "text/plain": [
       "{'20200322-12': {'sentiment': -0.04297012630880684, 'count': 8637},\n",
       " '20200418-12': {'sentiment': -0.01314631195945318, 'count': 3964},\n",
       " '20200416-12': {'sentiment': -0.0077987618522368015, 'count': 5685},\n",
       " '20200424-12': {'sentiment': -0.0035841825018657386, 'count': 2731},\n",
       " '20200421-12': {'sentiment': -0.002453768637961215, 'count': 5276},\n",
       " '20200514-12': {'sentiment': -0.0020622697204521136, 'count': 223},\n",
       " '20200308-12': {'sentiment': -0.0007267400880460683, 'count': 3768},\n",
       " '20200509-12': {'sentiment': -0.000319871026704408, 'count': 2841},\n",
       " '20200317-12': {'sentiment': 0.0018961155003085271, 'count': 10474},\n",
       " '20200321-12': {'sentiment': 0.004071142643697075, 'count': 7353},\n",
       " '20200414-12': {'sentiment': 0.004631946169418988, 'count': 2944},\n",
       " '20200411-12': {'sentiment': 0.007448706110406927, 'count': 2638},\n",
       " '20200330-12': {'sentiment': 0.007678586780335376, 'count': 6736},\n",
       " '20200301-12': {'sentiment': 0.008460195459694607, 'count': 4472},\n",
       " '20200327-12': {'sentiment': 0.009103624192916894, 'count': 7128},\n",
       " '20200224-12': {'sentiment': 0.00911964783300991, 'count': 638},\n",
       " '20200501-12': {'sentiment': 0.009525519619069034, 'count': 2594},\n",
       " '20200309-12': {'sentiment': 0.00999083819902804, 'count': 5003},\n",
       " '20200422-12': {'sentiment': 0.010258903052485729, 'count': 5551},\n",
       " '20200305-12': {'sentiment': 0.015070772638767898, 'count': 3844},\n",
       " '20200226-12': {'sentiment': 0.016430549132033994, 'count': 2677},\n",
       " '20200401-12': {'sentiment': 0.01696688098050339, 'count': 5803},\n",
       " '20200430-12': {'sentiment': 0.017301707556525277, 'count': 2730},\n",
       " '20200410-12': {'sentiment': 0.01816063448432675, 'count': 3967},\n",
       " '20200423-12': {'sentiment': 0.018267717315230598, 'count': 3077},\n",
       " '20200419-12': {'sentiment': 0.01883569716571974, 'count': 2778},\n",
       " '20200312-12': {'sentiment': 0.019825233223559606, 'count': 11350},\n",
       " '20200402-12': {'sentiment': 0.02074914052318441, 'count': 4726},\n",
       " '20200407-12': {'sentiment': 0.023035026222220402, 'count': 3529},\n",
       " '20200403-12': {'sentiment': 0.02326680520050472, 'count': 6069},\n",
       " '20200328-12': {'sentiment': 0.023349913088407687, 'count': 4681},\n",
       " '20200404-12': {'sentiment': 0.023404943881795665, 'count': 3278},\n",
       " '20200311-12': {'sentiment': 0.02364418232301418, 'count': 6202},\n",
       " '20200412-12': {'sentiment': 0.02407717409294459, 'count': 2003},\n",
       " '20200511-12': {'sentiment': 0.02434778029018891, 'count': 2130},\n",
       " '20200315-12': {'sentiment': 0.0243835710246892, 'count': 10185},\n",
       " '20200510-12': {'sentiment': 0.025563450387287637, 'count': 2245},\n",
       " '20200313-12': {'sentiment': 0.027930869553624945, 'count': 8373},\n",
       " '20200225-12': {'sentiment': 0.028140312606524106, 'count': 1071},\n",
       " '20200502-12': {'sentiment': 0.02974924163332333, 'count': 2238},\n",
       " '20200417-12': {'sentiment': 0.029798934267978215, 'count': 3731},\n",
       " '20200329-12': {'sentiment': 0.030166822502194234, 'count': 6469},\n",
       " '20200318-12': {'sentiment': 0.03143831060275635, 'count': 8673},\n",
       " '20200302-12': {'sentiment': 0.03173263564981867, 'count': 4181},\n",
       " '20200229-12': {'sentiment': 0.03303021183294381, 'count': 1630},\n",
       " '20200406-12': {'sentiment': 0.03312011519607843, 'count': 2125},\n",
       " '20200508-12': {'sentiment': 0.03495684371153872, 'count': 2085},\n",
       " '20200316-12': {'sentiment': 0.035660231526123666, 'count': 10432},\n",
       " '20200504-12': {'sentiment': 0.04066327367789941, 'count': 1677},\n",
       " '20200506-12': {'sentiment': 0.04134090093402343, 'count': 2015},\n",
       " '20200303-12': {'sentiment': 0.04413080645295806, 'count': 3353},\n",
       " '20200503-12': {'sentiment': 0.044270334828596665, 'count': 1730},\n",
       " '20200331-12': {'sentiment': 0.045456118815064124, 'count': 6909},\n",
       " '20200326-12': {'sentiment': 0.04584640445093593, 'count': 8639},\n",
       " '20200426-12': {'sentiment': 0.048323664355701255, 'count': 2943},\n",
       " '20200310-12': {'sentiment': 0.04834036939665057, 'count': 5400},\n",
       " '20200307-12': {'sentiment': 0.05041314391060061, 'count': 2733},\n",
       " '20200304-12': {'sentiment': 0.05165584853615968, 'count': 2223},\n",
       " '20200507-12': {'sentiment': 0.05228281510602234, 'count': 3074},\n",
       " '20200325-12': {'sentiment': 0.0553296730000068, 'count': 9987},\n",
       " '20200413-12': {'sentiment': 0.0559455047439694, 'count': 1909},\n",
       " '20200415-12': {'sentiment': 0.05662484686006949, 'count': 3371},\n",
       " '20200512-12': {'sentiment': 0.05780158183252703, 'count': 2367},\n",
       " '20200513-12': {'sentiment': 0.05842647261377923, 'count': 2222},\n",
       " '20200405-12': {'sentiment': 0.06011562126308331, 'count': 2751},\n",
       " '20200227-12': {'sentiment': 0.06038978512974807, 'count': 2649},\n",
       " '20200319-12': {'sentiment': 0.06073383997765207, 'count': 6228},\n",
       " '20200323-12': {'sentiment': 0.062592275035167, 'count': 9259},\n",
       " '20200320-12': {'sentiment': 0.06403237039080445, 'count': 6803},\n",
       " '20200420-12': {'sentiment': 0.06479947675213102, 'count': 2654},\n",
       " '20200429-12': {'sentiment': 0.06768442220270188, 'count': 2507},\n",
       " '20200409-12': {'sentiment': 0.07185948749222447, 'count': 3005},\n",
       " '20200228-12': {'sentiment': 0.0723384592535303, 'count': 2740},\n",
       " '20200428-12': {'sentiment': 0.0757670472193842, 'count': 3755},\n",
       " '20200324-12': {'sentiment': 0.07581497679151927, 'count': 5539},\n",
       " '20200314-12': {'sentiment': 0.08213373977498664, 'count': 7327},\n",
       " '20200306-12': {'sentiment': 0.08434453264320602, 'count': 3699},\n",
       " '20200425-12': {'sentiment': 0.08545215832104536, 'count': 4049},\n",
       " '20200408-12': {'sentiment': 0.08719127335995745, 'count': 4729},\n",
       " '20200223-12': {'sentiment': 0.09792492419319906, 'count': 513},\n",
       " '20200427-12': {'sentiment': 0.11233252388697605, 'count': 1744},\n",
       " '20200505-12': {'sentiment': 0.12723867481867993, 'count': 1644}}"
      ]
     },
     "execution_count": 94,
     "metadata": {},
     "output_type": "execute_result"
    }
   ],
   "source": [
    "{k:v for k,v in sorted(sentimentPerDay.items(),key=lambda item:item[1][SENTIMENT])}"
   ]
  },
  {
   "cell_type": "markdown",
   "metadata": {},
   "source": [
    "## Examine tweet texts from day with extreme sentiment"
   ]
  },
  {
   "cell_type": "code",
   "execution_count": 124,
   "metadata": {},
   "outputs": [
    {
     "data": {
      "text/plain": [
       "Laat het even doordringen: België een land waarmee Nederland intensief samenwerkt in Benelux verband - een samenwerking waar @minpres veelvuldig naar verwijst - zet nu containers bij grensovergang om ons te weren. Hoe kan dit in hemelsnaam? #Coronavirusnl #coronanederland https://t.co/m32CjxHWnh                                  523\n",
       "#corona RIVM baas noemt ‘herd immunity’ nu een ‘bijeffect’. Was eerst het ei van Columbus. Geeft nu toe dat alleen een vaccin helpt. Wat heeft deze man allemaal op z’n geweten .... en wat is Rutte een onbenul geweest om deze man blindelings te volgen. https://t.co/hEgGqZrhRl                                                       174\n",
       "Na een paar maanden #coronavirus weten we een paar dingen.  - Het RIVM en het kabinet reageren te laat. - Aan de EU hebben we niets. - Mensen met het verstand van een aardbei gaan massaal opstap.  #covid19Nederland https://t.co/ESx2iKNq1y                                                                                            158\n",
       "RIVM cijfers:  Amsterdam heeft wéér de grootste toename (+34) en is nu de gemeente met de meeste besmettingen (161)  zie: Corona Locator Nederland  #covid19Nederland #blijfthuis #CoronaCrisis #Covid_19 #coronavirus #coronavirusNederland #COVID19NL #coronakaart #covid #corona https://t.co/TeuZ14UoQX                               149\n",
       "Heb jij onze video al gezien? Bekijk deze belangrijke boodschap en deel hem met jouw vrienden en familie. Ook vragen we iedereen: neem je verantwoordelijkheid en houd je aan de instructies van de veiligheidsregio’s en het RIVM #coronavirus #covid19 https://t.co/pubVrK1fyn                                                          127\n",
       "Graag uw reactie @RIVM. Alex Friedrich UMCG: Ieder laboratorium kan coronatest uitvoeren, maar RIVM gaf alleen zichzelf en ErasmusMC vergunning. Dáárom kan er te weinig getest worden, niks te maken met \"testkits\". Noord-Ned weigert deze lijn te volgen. https://t.co/p9BCeaXZOY                                                      120\n",
       "Blijf zoveel mogelijk thuis. Moet je naar buiten? Volg dan de richtlijnen van het RIVM en spreek elkaar hier ook op aan. Het virus verspreidt zichzelf niet; jij verspreidt het virus. #blijfthuis #houdafstand #samentegencorona #covid19 #corona                                                                                        115\n",
       "Is er meer bewijs nodig van de incompetentie van deze baas van het RIVM, die slaafs gevolgd wordt door Rutte?  #COVIDIOT #COVIDー19 #CoronaCrisis #buitenhof #WNLopZondag                                                                                                                                                                  104\n",
       "Op veel recreatieve plekken zoals het #kralingsebos en #zuiderpark is het druk. Wij staan daar samen met gemeentelijke handhavers om mensen aan te spreken op de richtlijnen van het @RIVM. Houd ook nu 1,5 meter afstand van elkaar! #coronavirus                                                                                         94\n",
       "RT @NOS: RIVM: komende week moeten we effect coronamaatregelen gaan zien https://t.co/p4kfdDXt93                                                                                                                                                                                                                                           90\n",
       "Mensen doe eens normaal, je gaat je huisdier toch niet weg doen omdat en of ander imbeciel van RIVM zeg dat huisdieren door corona virus besmet kunnen raken ?  Gebruik verdomme je eigen vestand toch eens !!!! 😡😡😡                                                                                                                       86\n",
       "Blijf zoveel mogelijk thuis. Moet je naar buiten? Volg dan de richtlijnen van het RIVM. En spreek elkaar hier op aan. Het virus verspreidt zichzelf niet, jij verspreidt het virus #blijfthuis #houafstand #samentegencorona                                                                                                               79\n",
       "De #lente is begonnen. Iedereen wil graag naar buiten. Maar voor de bestrijding van #corona moeten we allemaal de adviezen van @rivm volgen. Houd anderhalve meter afstand. Voor jezelf. Voor elkaar. #stopcorona #groningendoetmee #houdafstand #blijfgezond https://t.co/rcTXcXFWBS https://t.co/nupLYhDyc9                              77\n",
       "Zeg @hugodejonge kan je die Popie Jopie terugblikvlogjes van je even achterwege laten nu en gewoon aan het werk gaan! Forse tekorten aan IC-plekken en beademingsapparatuur heb je die al opgelost?   #covid19Nederland #coronavirus #Corona #Wilders #PVV                                                                                 75\n",
       "@DitisOnsLandPVV @Mirjam152 @Repelsteeltje21 Gerrit Broekens · 14 uur ·    Stikstof meting voor en tijdens Corona uitbraak. Het vreemde is dat de stikstof uitstoot bijna verdwenen is. Terwijl alle koeien er nog zijn. De landbouw is volgens het RIVM de grootste vervuiler. Het verhaal klopt niet.!!!!!!! https://t.co/dxKObvMtcL     70\n",
       "Lichtpuntje in een zware tijd. @HuaweiMobileNL biedt het @ErasmusMC 200.000 mondkapjes aan voor de #zorghelden . Zometeen neemt minister @hugodejonge ze in ontvangst. @RTV_Rijnmond #coronanederland #CoronaCrisis #Corona #SocialDistancing https://t.co/eblvLa62IF                                                                      69\n",
       "Het #RIVM is zo gek nog niet mensen. Echt niet! #WHO: een #lockdown verslaat het #coronavirus niet. Heb vertrouwen in onze overheid en in onze  wetenschappelijke instituten.   https://t.co/gyyY4jX7kh                                                                                                                                    64\n",
       "Italiaanse burgemeester flipt (en terecht) omdat sommige mensen nog steeds niet luisteren. #coronavirusnederland #coronanederland #rivm #rutte #martinvanrijn #bruins #thuiswerken #italiaanseburgemeester https://t.co/r7aCeXXOu7                                                                                                         59\n",
       "\"Dit is helemaal verkeerd, laten we duidelijk zijn. We hebben instructies die precies vertellen wat we moeten doen.\"  Minister @FerdGrapperhaus (@ministerieJenV) heeft geen goed woorden over voor mensen die zich niet houden aan de corona-adviezen van het @RIVM. https://t.co/hbYodP2ki6                                              53\n",
       "RIVM waarschuwt: YouTuber Tom Zwitser uit Groningen verspreidt nepnieuws met corona-video’s https://t.co/LQXEGLy83b cc @g900ap @ChrisAalberts                                                                                                                                                                                              52\n",
       "Name: 0, dtype: int64"
      ]
     },
     "execution_count": 124,
     "metadata": {},
     "output_type": "execute_result"
    }
   ],
   "source": [
    "import gzip\n",
    "import json\n",
    "import numpy as np\n",
    "from library import getTweetText\n",
    "\n",
    "def removeNewlines(text):\n",
    "    return(re.sub(r\"\\n\",r\" \",text))\n",
    "\n",
    "HOURSPERDAY = 24\n",
    "DATE = \"20200322\"\n",
    "TWEETDIRECTORYRIVM = \"../data/rivm/\"\n",
    "\n",
    "tweetTexts = []\n",
    "for hour in range(0,HOURSPERDAY):\n",
    "    hour = str(hour).zfill(2)\n",
    "    inFile = gzip.open(TWEETDIRECTORYRIVM+DATE+\"-\"+hour+\".rivm.gz\")\n",
    "    for line in inFile:\n",
    "        jsonData = json.loads(line)\n",
    "        tweetText = removeNewlines(getTweetText(jsonData))\n",
    "        tweetTexts.append(tweetText)\n",
    "    inFile.close()\n",
    "    \n",
    "pd.DataFrame(tweetTexts)[0].value_counts()[0:20]"
   ]
  },
  {
   "cell_type": "code",
   "execution_count": null,
   "metadata": {},
   "outputs": [],
   "source": []
  }
 ],
 "metadata": {
  "kernelspec": {
   "display_name": "Python 3",
   "language": "python",
   "name": "python3"
  },
  "language_info": {
   "codemirror_mode": {
    "name": "ipython",
    "version": 3
   },
   "file_extension": ".py",
   "mimetype": "text/x-python",
   "name": "python",
   "nbconvert_exporter": "python",
   "pygments_lexer": "ipython3",
   "version": "3.7.3"
  }
 },
 "nbformat": 4,
 "nbformat_minor": 4
}
