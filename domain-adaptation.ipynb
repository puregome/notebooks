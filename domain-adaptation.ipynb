{
 "cells": [
  {
   "cell_type": "markdown",
   "metadata": {},
   "source": [
    "## Domain adaptation"
   ]
  },
  {
   "cell_type": "code",
   "execution_count": 385,
   "metadata": {},
   "outputs": [],
   "source": [
    "import datetime\n",
    "import fasttext\n",
    "import matplotlib.pyplot as plt\n",
    "import matplotlib.dates as mdates\n",
    "import numpy as np\n",
    "import os\n",
    "import pandas as pd\n",
    "import pickle\n",
    "import random\n",
    "import re\n",
    "import scipy.stats\n",
    "import uuid\n",
    "from nltk.tokenize import TweetTokenizer\n",
    "from IPython.display import clear_output"
   ]
  },
  {
   "cell_type": "code",
   "execution_count": 3,
   "metadata": {},
   "outputs": [],
   "source": [
    "DATADIR = \"../data/\"\n",
    "ANNOTATION_DIR = DATADIR + \"annotation/\"\n",
    "DISTANCE = \"distance\"\n",
    "FACEMASK = \"mondkapje\"\n",
    "TESTING = \"testing\"\n",
    "VACCINATION = \"vaccin\"\n",
    "FILEFASTTEXT = \"fasttext.csv\"\n",
    "IDSTR = \"id_str\"\n",
    "IRRELEVANT = \"IRRELEVANT\"\n",
    "NEUTRAL = \"NEUTRAL\"\n",
    "ANDERS = \"ANDERS\"\n",
    "EENS = \"EENS\"\n",
    "ONEENS = \"ONEENS\"\n",
    "SUPPORTS = \"SUPPORTS\"\n",
    "REJECTS = \"REJECTS\"\n",
    "LABEL = \"label\"\n",
    "TEXT = \"text\"\n",
    "USER = \"user\"\n",
    "LABELPREFIX = \"__label__\"\n",
    "LARGEINT = 9999999999"
   ]
  },
  {
   "cell_type": "code",
   "execution_count": 4,
   "metadata": {},
   "outputs": [],
   "source": [
    "DIM = 300\n",
    "EPOCH = 200\n",
    "LR = 0.2\n",
    "N = 10\n",
    "TRAIN = \"TRAIN\"+str(int(random.random()*LARGEINT))\n",
    "TEST = \"TEST\"+str(int(random.random()*LARGEINT))\n",
    "VALIDATION = \"VALIDATION\"+str(int(random.random()*LARGEINT))"
   ]
  },
  {
   "cell_type": "code",
   "execution_count": 416,
   "metadata": {},
   "outputs": [],
   "source": [
    "def cleanup(text):\n",
    "    text = re.sub(r\"\\\\n\",\" \",text)\n",
    "    text = re.sub(r\"https://\\S+\",\"\",text)\n",
    "    text = re.sub(r\"\\s+\",\" \",text)\n",
    "    text = text.strip()\n",
    "    return(text)\n",
    "\n",
    "\n",
    "def tokenize(text):\n",
    "    return(\" \".join(TweetTokenizer().tokenize(text)))\n",
    "\n",
    "\n",
    "def preprocess(text):\n",
    "    return(tokenize(cleanup(text)).lower())\n",
    "\n",
    "\n",
    "def select_annotations(tweets, annotations, target_annotator):\n",
    "    fasttext_data = {}\n",
    "    for i in range(0,len(annotations)):\n",
    "        annotator = annotations.iloc[i][0]\n",
    "        tweet_id = annotations.iloc[i][2]\n",
    "        if annotator == target_annotator and tweet_id in list(tweets.index):\n",
    "            tweet_user = tweets.loc[tweet_id][1]\n",
    "            tweet_label = annotations.iloc[i][4]\n",
    "            if tweet_label == NEUTRAL: tweet_label = IRRELEVANT\n",
    "            if tweet_label == ANDERS: tweet_label = IRRELEVANT\n",
    "            if tweet_label == EENS: tweet_label = SUPPORTS\n",
    "            if tweet_label == ONEENS: tweet_label = REJECTS\n",
    "            fasttext_data[tweet_id] = { LABEL:LABELPREFIX+tweet_label,\n",
    "                                        USER:tweet_user,\n",
    "                                        TEXT:preprocess(tweets.loc[tweet_id][TEXT]) }\n",
    "    return({tweet_id: fasttext_data[tweet_id] for tweet_id in sorted(fasttext_data.keys())})\n",
    "\n",
    "\n",
    "def store_fasttext_data_fixed(fasttext_data):\n",
    "    outfile = open(FILEFASTTEXT, \"w\")\n",
    "    seen_texts = {}\n",
    "    fasttext_data_list = []\n",
    "    tweet_ids = []\n",
    "    for tweet_id in fasttext_data:\n",
    "        text = cleanup(fasttext_data[tweet_id][TEXT])\n",
    "        if not text in seen_texts:\n",
    "            print(fasttext_data[tweet_id][LABEL], text, file=outfile)\n",
    "            fasttext_data_list.append(\" \".join([fasttext_data[tweet_id][LABEL], text]))\n",
    "            tweet_ids.append(tweet_id)\n",
    "            seen_texts[text] = True\n",
    "    outfile.close()\n",
    "    return(fasttext_data_list, tweet_ids)"
   ]
  },
  {
   "cell_type": "code",
   "execution_count": 417,
   "metadata": {},
   "outputs": [],
   "source": [
    "def make_fasttext_data(topic):\n",
    "    if topic == TESTING:\n",
    "        tweet_file = ANNOTATION_DIR + topic + \"-202003-202012.csv\"\n",
    "    elif topic == FACEMASK:\n",
    "        tweet_file = ANNOTATION_DIR + topic + \"-202003-202103-1000.csv\"\n",
    "    elif topic == VACCINATION:\n",
    "        tweet_file = ANNOTATION_DIR + topic + \"-202001-202101-1000.csv\"\n",
    "    elif topic == DISTANCE:\n",
    "        tweet_file = DATADIR + topic + \"-tweets.csv\"\n",
    "    else:\n",
    "        print(f\"make_fasttext_data: cannot happen! ({topic})\")\n",
    "    tweets = pd.read_csv(tweet_file, index_col=IDSTR)\n",
    "    annotations = pd.read_csv(tweet_file + \".human-labels.txt\", header=None, sep=\" \")        \n",
    "    main_annotator = annotations.iloc[0][0]\n",
    "    fasttext_data = select_annotations(tweets, annotations, main_annotator)\n",
    "    fasttext_data_list, tweet_ids = store_fasttext_data_fixed(fasttext_data)\n",
    "    return(fasttext_data_list, tweet_ids)"
   ]
  },
  {
   "cell_type": "code",
   "execution_count": 481,
   "metadata": {},
   "outputs": [],
   "source": [
    "def makeConfusionMatrix(fasttextData,predictionLabels):\n",
    "    goldLabels = pd.Series([fasttextData[i].split()[0] for i in range(0,len(fasttextData))])\n",
    "    predictedLabels = pd.Series([x[0] for row in predictionLabels for x in row[0]])\n",
    "    return(pd.crosstab(goldLabels,predictedLabels))\n",
    "\n",
    "def evaluate(predictionCounts,predictionLabels,fasttextData,printResults=True,printMatrix=False):\n",
    "    caseTotal = 0\n",
    "    pTotal = 0\n",
    "    rTotal = 0\n",
    "    for i in range(0,len(predictionCounts)):\n",
    "        caseTotal += predictionCounts[i][0]\n",
    "        pTotal += predictionCounts[i][0]*predictionCounts[i][1]\n",
    "        rTotal += predictionCounts[i][0]*predictionCounts[i][2]\n",
    "    precision = round(pTotal/caseTotal,3)\n",
    "    recall = round(rTotal/caseTotal,3)\n",
    "    try:\n",
    "        cf = makeConfusionMatrix(fasttextData,predictionLabels)\n",
    "        if printMatrix:\n",
    "            print(cf)\n",
    "        for label in ['__label__REJECTS','__label__SUPPORTS','__label__IRRELEVANT']:\n",
    "            if not label in cf: cf[label] = [0 for i in range(0,len(cf))]\n",
    "        numberOfPredictedSupportLabels = sum([cf.iloc[i]['__label__SUPPORTS'] for i in range(0,len(cf))])\n",
    "        numberOfGoldSupportLabels = sum(cf.loc['__label__SUPPORTS'])\n",
    "        numberOfPredictedRejectLabels = sum([cf.iloc[i]['__label__REJECTS'] for i in range(0,len(cf))])\n",
    "        numberOfGoldRejectLabels = sum(cf.loc['__label__REJECTS'])\n",
    "        if numberOfPredictedSupportLabels > 0 and numberOfGoldRejectLabels > 0 and numberOfGoldSupportLabels > 0:\n",
    "            fraction = (numberOfPredictedRejectLabels/numberOfPredictedSupportLabels)/(numberOfGoldRejectLabels/numberOfGoldSupportLabels)\n",
    "        else:\n",
    "            fraction = LARGEINT\n",
    "    except:\n",
    "        fraction = 0\n",
    "    if printResults: \n",
    "        print(\"cases: {0}; precision: {1:0.3f}; recall: {2:0.3f}; fraction: {3:0.3f}\".format(caseTotal,precision,recall,fraction))\n",
    "    return((precision,fraction))\n",
    "\n",
    "def runFasttext(fasttextData1, fasttextData2, dim=DIM, epoch=EPOCH, lr=LR, n=N, squealFlag=True, maxTrain=None, pretrainedVectors=None):\n",
    "    print(f\"data size 1={len(fasttextData1)}, data size 2={len(fasttextData2)}, dim={dim}, epoch={epoch}, lr={lr}, pretrainedVectors={pretrainedVectors}\")\n",
    "    predictionCountsTest = []\n",
    "    predictionLabelsTest = []\n",
    "    predictionCountsValidation = []\n",
    "    predictionLabelsValidation = []\n",
    "    for fold in range(0,n):\n",
    "        if squealFlag:\n",
    "            clear_output(wait=True)\n",
    "            print(\"starting fold\",fold)\n",
    "        testStart1 = round(fold*len(fasttextData1)/n)\n",
    "        testEnd1 = round((fold+1)*len(fasttextData1)/n)\n",
    "        testStart2 = round(fold*len(fasttextData2)/n)\n",
    "        testEnd2 = round((fold+1)*len(fasttextData2)/n)\n",
    "        if fold < n-1: nextFold = fold+1\n",
    "        else: nextFold = 0\n",
    "        validationStart1 = round(nextFold*len(fasttextData1)/n)\n",
    "        validationEnd1 = round((nextFold+1)*len(fasttextData1)/n)\n",
    "        validationStart2 = round(nextFold*len(fasttextData2)/n)\n",
    "        validationEnd2 = round((nextFold+1)*len(fasttextData2)/n)\n",
    "        trainFile = open(TRAIN,\"w\")\n",
    "        testFile = open(TEST,\"w\")\n",
    "        validationFile = open(VALIDATION,\"w\")\n",
    "        trainData = []\n",
    "        validationData = []\n",
    "        testData = []\n",
    "        for i in range(0,len(fasttextData1)):\n",
    "            data = fasttextData1[i]\n",
    "            if i >= testStart1 and i < testEnd1: \n",
    "                pass\n",
    "            elif i >= validationStart1 and i < validationEnd1: \n",
    "                pass\n",
    "            else: \n",
    "                print(data,file=trainFile)\n",
    "                trainData.append(data)\n",
    "        for i in range(0,len(fasttextData2)):\n",
    "            data = fasttextData2[i]\n",
    "            if i >= testStart2 and i < testEnd2: \n",
    "                print(data,file=testFile)\n",
    "                testData.append(data)\n",
    "            elif i >= validationStart2 and i < validationEnd2: \n",
    "                print(data,file=validationFile)\n",
    "                validationData.append(data)\n",
    "        testFile.close()\n",
    "        trainFile.close()\n",
    "        validationFile.close()\n",
    "        if not maxTrain == None and maxTrain < len(trainData):\n",
    "            trainData = ranSelect(trainData,maxTrain)\n",
    "            trainFile = open(TRAIN,\"w\")\n",
    "            for i in range(0,len(trainData)):\n",
    "                print(trainData[i],file=trainFile)\n",
    "            trainFile.close()\n",
    "        if pretrainedVectors == None:\n",
    "            model = fasttext.train_supervised(TRAIN, dim=dim, epoch=epoch, lr=lr)\n",
    "        else:\n",
    "            model = fasttext.train_supervised(TRAIN, dim=dim, epoch=epoch, lr=lr, pretrainedVectors=pretrainedVectors)\n",
    "        predictionCountsValidation.append([*model.test(VALIDATION)])\n",
    "        predictionLabelsValidation.append(model.predict(validationData, k=3))\n",
    "        predictionCountsTest.append([*model.test(TEST)])\n",
    "        predictionLabelsTest.append(model.predict(testData, k=3))\n",
    "        print(fold, end=\" \")\n",
    "        evaluate([[*model.test(TEST)]], [model.predict(testData)], fasttextData2[testStart2:testEnd2])\n",
    "        os.unlink(TRAIN)\n",
    "        os.unlink(TEST)\n",
    "        os.unlink(VALIDATION)\n",
    "    print(\"\", end=\" \")\n",
    "    precision, fraction = evaluate(predictionCountsTest, predictionLabelsTest, fasttextData2, printMatrix=True)\n",
    "    if squealFlag:\n",
    "        clear_output(wait=True)\n",
    "        print(\"finished\")\n",
    "    return(predictionCountsValidation, predictionLabelsValidation, predictionCountsTest, predictionLabelsTest, precision)"
   ]
  },
  {
   "cell_type": "code",
   "execution_count": 418,
   "metadata": {},
   "outputs": [],
   "source": [
    "fasttext_data_list_distance, tweet_ids_distance = make_fasttext_data(DISTANCE)\n",
    "fasttext_data_list_facemask, tweet_ids_facemask = make_fasttext_data(FACEMASK)\n",
    "fasttext_data_list_testing, tweet_ids_testing = make_fasttext_data(TESTING)\n",
    "fasttext_data_list_vaccination, tweet_ids_vaccination = make_fasttext_data(VACCINATION)"
   ]
  },
  {
   "cell_type": "code",
   "execution_count": 9,
   "metadata": {},
   "outputs": [
    {
     "data": {
      "text/plain": [
       "(5731, 1011, 1181, 1007)"
      ]
     },
     "execution_count": 9,
     "metadata": {},
     "output_type": "execute_result"
    }
   ],
   "source": [
    "len(tweet_ids_distance), len(tweet_ids_facemask), len(tweet_ids_testing), len(tweet_ids_vaccination)"
   ]
  },
  {
   "cell_type": "code",
   "execution_count": 10,
   "metadata": {},
   "outputs": [],
   "source": [
    "def store_fasttext_data(data, file_name):\n",
    "    with open(file_name, \"wb\") as outfile:\n",
    "        pickle.dump(data, outfile)\n",
    "        outfile.close()\n",
    "        \n",
    "def read_fasttext_data(file_name):\n",
    "    with open(file_name, \"rb\") as infile:\n",
    "        data = pickle.load(infile)\n",
    "        infile.close()\n",
    "    return(data)"
   ]
  },
  {
   "cell_type": "markdown",
   "metadata": {},
   "source": [
    "## 1. Evaluation within domains (TGTONLY)"
   ]
  },
  {
   "cell_type": "code",
   "execution_count": 90,
   "metadata": {},
   "outputs": [],
   "source": [
    "def get_prediction_labels_list(prediction_labels_10cv):\n",
    "    prediction_labels = []\n",
    "    for i in range(0, len(prediction_labels_10cv)):\n",
    "        prediction_labels.extend([row[0] for row in prediction_labels_10cv[i][0]])\n",
    "    return prediction_labels\n",
    "\n",
    "\n",
    "def compute_accuracy(prediction_labels, fasttext_data_list):\n",
    "    correct = 0\n",
    "    for i in range(0, len(fasttext_data_list)):\n",
    "        gold_label = fasttext_data_list[i].split(\" \")[0]\n",
    "        if prediction_labels[i] == gold_label:\n",
    "            correct += 1\n",
    "    return(round(correct / len(fasttext_data_list), 3))"
   ]
  },
  {
   "cell_type": "code",
   "execution_count": 460,
   "metadata": {},
   "outputs": [
    {
     "name": "stdout",
     "output_type": "stream",
     "text": [
      "data size 1=5731, data size 2=5731, dim=300, epoch=200, lr=0.2, pretrainedVectors=twiqs-model-2020-exf.vec\n",
      "0 cases: 573; precision: 0.792; recall: 0.792; fraction: 1.143\n",
      "1 cases: 573; precision: 0.756; recall: 0.756; fraction: 1.665\n",
      "2 cases: 573; precision: 0.705; recall: 0.705; fraction: 0.742\n",
      "3 cases: 573; precision: 0.646; recall: 0.646; fraction: 0.937\n",
      "4 cases: 574; precision: 0.624; recall: 0.624; fraction: 0.848\n",
      "5 cases: 573; precision: 0.658; recall: 0.658; fraction: 1.019\n",
      "6 cases: 573; precision: 0.634; recall: 0.634; fraction: 0.657\n",
      "7 cases: 573; precision: 0.578; recall: 0.578; fraction: 0.782\n",
      "8 cases: 573; precision: 0.579; recall: 0.579; fraction: 0.769\n",
      "9 cases: 573; precision: 0.585; recall: 0.585; fraction: 0.835\n",
      " col_0                __label__IRRELEVANT  __label__REJECTS  __label__SUPPORTS\n",
      "row_0                                                                        \n",
      "__label__IRRELEVANT                  601               205                561\n",
      "__label__REJECTS                     216               604                315\n",
      "__label__SUPPORTS                    455               222               2552\n",
      "cases: 5731; precision: 0.656; recall: 0.656; fraction: 0.856\n"
     ]
    }
   ],
   "source": [
    "predictionCountsValidationDDT,predictionLabelsValidationDDT,predictionCountsTestDDT,predictionLabelsTestDDT = \\\n",
    "    runFasttext(fasttext_data_list_distance, fasttext_data_list_distance, squealFlag=False, pretrainedVectors=\"twiqs-model-2020-exf.vec\")"
   ]
  },
  {
   "cell_type": "code",
   "execution_count": 461,
   "metadata": {},
   "outputs": [],
   "source": [
    "store_fasttext_data(predictionLabelsTestDDT, f\"predictionLabelsTestDDT-{DIM}-{EPOCH}-{LR}.pickle\")"
   ]
  },
  {
   "cell_type": "code",
   "execution_count": 462,
   "metadata": {},
   "outputs": [
    {
     "name": "stdout",
     "output_type": "stream",
     "text": [
      "data size 1=1011, data size 2=1011, dim=300, epoch=200, lr=0.2, pretrainedVectors=twiqs-model-2020-exf.vec\n",
      "0 cases: 101; precision: 0.663; recall: 0.663; fraction: 6.176\n",
      "1 cases: 101; precision: 0.703; recall: 0.703; fraction: 0.567\n",
      "2 cases: 101; precision: 0.713; recall: 0.713; fraction: 0.926\n",
      "3 cases: 101; precision: 0.525; recall: 0.525; fraction: 1.351\n",
      "4 cases: 102; precision: 0.569; recall: 0.569; fraction: 2.786\n",
      "5 cases: 101; precision: 0.545; recall: 0.545; fraction: 1.458\n",
      "6 cases: 101; precision: 0.624; recall: 0.624; fraction: 0.876\n",
      "7 cases: 101; precision: 0.485; recall: 0.485; fraction: 0.983\n",
      "8 cases: 101; precision: 0.545; recall: 0.545; fraction: 0.897\n",
      "9 cases: 101; precision: 0.554; recall: 0.554; fraction: 0.265\n",
      " col_0                __label__IRRELEVANT  __label__REJECTS  __label__SUPPORTS\n",
      "row_0                                                                        \n",
      "__label__IRRELEVANT                  419                65                 74\n",
      "__label__REJECTS                     110               102                 27\n",
      "__label__SUPPORTS                    109                27                 78\n",
      "cases: 1011; precision: 0.592; recall: 0.592; fraction: 0.970\n"
     ]
    }
   ],
   "source": [
    "predictionCountsValidationFFT,predictionLabelsValidationFFT,predictionCountsTestFFT,predictionLabelsTestFFT = \\\n",
    "    runFasttext(fasttext_data_list_facemask, fasttext_data_list_facemask, squealFlag=False, pretrainedVectors=\"twiqs-model-2020-exf.vec\")"
   ]
  },
  {
   "cell_type": "code",
   "execution_count": 463,
   "metadata": {},
   "outputs": [],
   "source": [
    "store_fasttext_data(predictionLabelsTestFFT, f\"predictionLabelsTestFFT-{DIM}-{EPOCH}-{LR}.pickle\")"
   ]
  },
  {
   "cell_type": "code",
   "execution_count": 482,
   "metadata": {},
   "outputs": [
    {
     "name": "stdout",
     "output_type": "stream",
     "text": [
      "data size 1=1181, data size 2=1181, dim=300, epoch=200, lr=0.2, pretrainedVectors=twiqs-model-2020-exf.vec\n",
      "0 cases: 118; precision: 0.466; recall: 0.466; fraction: 3.450\n",
      "1 cases: 118; precision: 0.500; recall: 0.500; fraction: 1.079\n",
      "2 cases: 118; precision: 0.517; recall: 0.517; fraction: 4.033\n",
      "3 cases: 118; precision: 0.542; recall: 0.542; fraction: 0.769\n",
      "4 cases: 118; precision: 0.636; recall: 0.636; fraction: 0.874\n",
      "5 cases: 119; precision: 0.555; recall: 0.555; fraction: 0.391\n",
      "6 cases: 118; precision: 0.568; recall: 0.568; fraction: 0.767\n",
      "7 cases: 118; precision: 0.602; recall: 0.602; fraction: 0.538\n",
      "8 cases: 118; precision: 0.644; recall: 0.644; fraction: 0.607\n",
      "9 cases: 118; precision: 0.585; recall: 0.585; fraction: 0.827\n",
      " col_0                __label__IRRELEVANT  __label__REJECTS  __label__SUPPORTS\n",
      "row_0                                                                        \n",
      "__label__IRRELEVANT                  433                53                145\n",
      "__label__REJECTS                      95                87                 28\n",
      "__label__SUPPORTS                    167                30                143\n",
      "cases: 1181; precision: 0.561; recall: 0.561; fraction: 0.871\n",
      "data size 1=1181, data size 2=1181, dim=300, epoch=200, lr=0.2, pretrainedVectors=twiqs-model-2020-exf.vec\n",
      "0 cases: 118; precision: 0.466; recall: 0.466; fraction: 3.450\n",
      "1 cases: 118; precision: 0.500; recall: 0.500; fraction: 1.214\n",
      "2 cases: 118; precision: 0.517; recall: 0.517; fraction: 3.667\n",
      "3 cases: 118; precision: 0.551; recall: 0.551; fraction: 0.789\n",
      "4 cases: 118; precision: 0.636; recall: 0.636; fraction: 0.874\n",
      "5 cases: 119; precision: 0.563; recall: 0.563; fraction: 0.357\n",
      "6 cases: 118; precision: 0.559; recall: 0.559; fraction: 0.793\n",
      "7 cases: 118; precision: 0.585; recall: 0.585; fraction: 0.538\n",
      "8 cases: 118; precision: 0.653; recall: 0.653; fraction: 0.615\n",
      "9 cases: 118; precision: 0.585; recall: 0.585; fraction: 0.827\n",
      " col_0                __label__IRRELEVANT  __label__REJECTS  __label__SUPPORTS\n",
      "row_0                                                                        \n",
      "__label__IRRELEVANT                  435                52                144\n",
      "__label__REJECTS                      95                87                 28\n",
      "__label__SUPPORTS                    170                29                141\n",
      "cases: 1181; precision: 0.561; recall: 0.561; fraction: 0.869\n",
      "data size 1=1181, data size 2=1181, dim=300, epoch=200, lr=0.2, pretrainedVectors=twiqs-model-2020-exf.vec\n",
      "0 cases: 118; precision: 0.466; recall: 0.466; fraction: 3.450\n",
      "1 cases: 118; precision: 0.517; recall: 0.517; fraction: 1.079\n",
      "2 cases: 118; precision: 0.517; recall: 0.517; fraction: 4.033\n",
      "3 cases: 118; precision: 0.551; recall: 0.551; fraction: 0.750\n",
      "4 cases: 118; precision: 0.627; recall: 0.627; fraction: 0.855\n",
      "5 cases: 119; precision: 0.555; recall: 0.555; fraction: 0.391\n",
      "6 cases: 118; precision: 0.568; recall: 0.568; fraction: 0.767\n",
      "7 cases: 118; precision: 0.585; recall: 0.585; fraction: 0.538\n",
      "8 cases: 118; precision: 0.653; recall: 0.653; fraction: 0.615\n",
      "9 cases: 118; precision: 0.585; recall: 0.585; fraction: 0.827\n",
      " col_0                __label__IRRELEVANT  __label__REJECTS  __label__SUPPORTS\n",
      "row_0                                                                        \n",
      "__label__IRRELEVANT                  434                52                145\n",
      "__label__REJECTS                      95                87                 28\n",
      "__label__SUPPORTS                    167                30                143\n",
      "cases: 1181; precision: 0.562; recall: 0.562; fraction: 0.866\n",
      "data size 1=1181, data size 2=1181, dim=300, epoch=200, lr=0.2, pretrainedVectors=twiqs-model-2020-exf.vec\n",
      "0 cases: 118; precision: 0.458; recall: 0.458; fraction: 3.642\n",
      "1 cases: 118; precision: 0.500; recall: 0.500; fraction: 1.079\n",
      "2 cases: 118; precision: 0.517; recall: 0.517; fraction: 3.667\n",
      "3 cases: 118; precision: 0.542; recall: 0.542; fraction: 0.769\n",
      "4 cases: 118; precision: 0.644; recall: 0.644; fraction: 0.929\n",
      "5 cases: 119; precision: 0.563; recall: 0.563; fraction: 0.357\n",
      "6 cases: 118; precision: 0.568; recall: 0.568; fraction: 0.767\n",
      "7 cases: 118; precision: 0.593; recall: 0.593; fraction: 0.565\n",
      "8 cases: 118; precision: 0.636; recall: 0.636; fraction: 0.593\n",
      "9 cases: 118; precision: 0.585; recall: 0.585; fraction: 0.827\n",
      " col_0                __label__IRRELEVANT  __label__REJECTS  __label__SUPPORTS\n",
      "row_0                                                                        \n",
      "__label__IRRELEVANT                  433                54                144\n",
      "__label__REJECTS                      94                87                 29\n",
      "__label__SUPPORTS                    170                28                142\n",
      "cases: 1181; precision: 0.561; recall: 0.561; fraction: 0.869\n",
      "data size 1=1181, data size 2=1181, dim=300, epoch=200, lr=0.2, pretrainedVectors=twiqs-model-2020-exf.vec\n",
      "0 cases: 118; precision: 0.466; recall: 0.466; fraction: 3.450\n",
      "1 cases: 118; precision: 0.500; recall: 0.500; fraction: 1.079\n",
      "2 cases: 118; precision: 0.508; recall: 0.508; fraction: 4.172\n",
      "3 cases: 118; precision: 0.534; recall: 0.534; fraction: 0.750\n",
      "4 cases: 118; precision: 0.636; recall: 0.636; fraction: 0.874\n",
      "5 cases: 119; precision: 0.571; recall: 0.571; fraction: 0.379\n",
      "6 cases: 118; precision: 0.559; recall: 0.559; fraction: 0.793\n",
      "7 cases: 118; precision: 0.593; recall: 0.593; fraction: 0.565\n",
      "8 cases: 118; precision: 0.661; recall: 0.661; fraction: 0.593\n",
      "9 cases: 118; precision: 0.585; recall: 0.585; fraction: 0.827\n",
      " col_0                __label__IRRELEVANT  __label__REJECTS  __label__SUPPORTS\n",
      "row_0                                                                        \n",
      "__label__IRRELEVANT                  434                52                145\n",
      "__label__REJECTS                      94                88                 28\n",
      "__label__SUPPORTS                    170                29                141\n",
      "cases: 1181; precision: 0.561; recall: 0.561; fraction: 0.871\n",
      "data size 1=1181, data size 2=1181, dim=300, epoch=200, lr=0.2, pretrainedVectors=twiqs-model-2020-exf.vec\n",
      "0 cases: 118; precision: 0.458; recall: 0.458; fraction: 3.642\n",
      "1 cases: 118; precision: 0.500; recall: 0.500; fraction: 1.079\n",
      "2 cases: 118; precision: 0.517; recall: 0.517; fraction: 4.033\n",
      "3 cases: 118; precision: 0.542; recall: 0.542; fraction: 0.769\n",
      "4 cases: 118; precision: 0.636; recall: 0.636; fraction: 0.874\n",
      "5 cases: 119; precision: 0.563; recall: 0.563; fraction: 0.357\n",
      "6 cases: 118; precision: 0.576; recall: 0.576; fraction: 0.742\n",
      "7 cases: 118; precision: 0.593; recall: 0.593; fraction: 0.565\n",
      "8 cases: 118; precision: 0.644; recall: 0.644; fraction: 0.571\n",
      "9 cases: 118; precision: 0.585; recall: 0.585; fraction: 0.889\n",
      " col_0                __label__IRRELEVANT  __label__REJECTS  __label__SUPPORTS\n",
      "row_0                                                                        \n",
      "__label__IRRELEVANT                  433                55                143\n",
      "__label__REJECTS                      95                86                 29\n",
      "__label__SUPPORTS                    167                29                144\n",
      "cases: 1181; precision: 0.561; recall: 0.561; fraction: 0.871\n",
      "data size 1=1181, data size 2=1181, dim=300, epoch=200, lr=0.2, pretrainedVectors=twiqs-model-2020-exf.vec\n",
      "0 cases: 118; precision: 0.466; recall: 0.466; fraction: 3.450\n",
      "1 cases: 118; precision: 0.500; recall: 0.500; fraction: 1.079\n",
      "2 cases: 118; precision: 0.517; recall: 0.517; fraction: 3.667\n",
      "3 cases: 118; precision: 0.551; recall: 0.551; fraction: 0.750\n",
      "4 cases: 118; precision: 0.644; recall: 0.644; fraction: 0.929\n",
      "5 cases: 119; precision: 0.555; recall: 0.555; fraction: 0.391\n",
      "6 cases: 118; precision: 0.568; recall: 0.568; fraction: 0.767\n",
      "7 cases: 118; precision: 0.602; recall: 0.602; fraction: 0.538\n",
      "8 cases: 118; precision: 0.653; recall: 0.653; fraction: 0.615\n",
      "9 cases: 118; precision: 0.585; recall: 0.585; fraction: 0.827\n",
      " col_0                __label__IRRELEVANT  __label__REJECTS  __label__SUPPORTS\n",
      "row_0                                                                        \n",
      "__label__IRRELEVANT                  435                52                144\n",
      "__label__REJECTS                      94                88                 28\n",
      "__label__SUPPORTS                    168                29                143\n",
      "cases: 1181; precision: 0.564; recall: 0.564; fraction: 0.869\n",
      "data size 1=1181, data size 2=1181, dim=300, epoch=200, lr=0.2, pretrainedVectors=twiqs-model-2020-exf.vec\n",
      "0 cases: 118; precision: 0.466; recall: 0.466; fraction: 3.450\n",
      "1 cases: 118; precision: 0.500; recall: 0.500; fraction: 1.079\n",
      "2 cases: 118; precision: 0.517; recall: 0.517; fraction: 4.033\n",
      "3 cases: 118; precision: 0.542; recall: 0.542; fraction: 0.769\n",
      "4 cases: 118; precision: 0.636; recall: 0.636; fraction: 0.874\n",
      "5 cases: 119; precision: 0.563; recall: 0.563; fraction: 0.357\n",
      "6 cases: 118; precision: 0.576; recall: 0.576; fraction: 0.742\n",
      "7 cases: 118; precision: 0.585; recall: 0.585; fraction: 0.538\n",
      "8 cases: 118; precision: 0.661; recall: 0.661; fraction: 0.500\n",
      "9 cases: 118; precision: 0.585; recall: 0.585; fraction: 0.827\n",
      " col_0                __label__IRRELEVANT  __label__REJECTS  __label__SUPPORTS\n",
      "row_0                                                                        \n",
      "__label__IRRELEVANT                  435                51                145\n",
      "__label__REJECTS                      95                86                 29\n",
      "__label__SUPPORTS                    167                29                144\n",
      "cases: 1181; precision: 0.563; recall: 0.563; fraction: 0.845\n",
      "data size 1=1181, data size 2=1181, dim=300, epoch=200, lr=0.2, pretrainedVectors=twiqs-model-2020-exf.vec\n",
      "0 cases: 118; precision: 0.475; recall: 0.475; fraction: 3.339\n",
      "1 cases: 118; precision: 0.500; recall: 0.500; fraction: 1.079\n",
      "2 cases: 118; precision: 0.517; recall: 0.517; fraction: 4.033\n",
      "3 cases: 118; precision: 0.542; recall: 0.542; fraction: 0.769\n",
      "4 cases: 118; precision: 0.636; recall: 0.636; fraction: 0.874\n",
      "5 cases: 119; precision: 0.555; recall: 0.555; fraction: 0.391\n",
      "6 cases: 118; precision: 0.576; recall: 0.576; fraction: 0.733\n",
      "7 cases: 118; precision: 0.576; recall: 0.576; fraction: 0.565\n",
      "8 cases: 118; precision: 0.644; recall: 0.644; fraction: 0.556\n",
      "9 cases: 118; precision: 0.585; recall: 0.585; fraction: 0.827\n",
      " col_0                __label__IRRELEVANT  __label__REJECTS  __label__SUPPORTS\n",
      "row_0                                                                        \n",
      "__label__IRRELEVANT                  435                51                145\n",
      "__label__REJECTS                      95                86                 29\n",
      "__label__SUPPORTS                    169                30                141\n",
      "cases: 1181; precision: 0.561; recall: 0.561; fraction: 0.858\n",
      "data size 1=1181, data size 2=1181, dim=300, epoch=200, lr=0.2, pretrainedVectors=twiqs-model-2020-exf.vec\n",
      "0 cases: 118; precision: 0.466; recall: 0.466; fraction: 3.450\n",
      "1 cases: 118; precision: 0.500; recall: 0.500; fraction: 1.079\n",
      "2 cases: 118; precision: 0.517; recall: 0.517; fraction: 3.667\n",
      "3 cases: 118; precision: 0.542; recall: 0.542; fraction: 0.769\n",
      "4 cases: 118; precision: 0.636; recall: 0.636; fraction: 0.874\n",
      "5 cases: 119; precision: 0.563; recall: 0.563; fraction: 0.357\n",
      "6 cases: 118; precision: 0.568; recall: 0.568; fraction: 0.767\n",
      "7 cases: 118; precision: 0.593; recall: 0.593; fraction: 0.514\n",
      "8 cases: 118; precision: 0.644; recall: 0.644; fraction: 0.593\n",
      "9 cases: 118; precision: 0.585; recall: 0.585; fraction: 0.889\n",
      " col_0                __label__IRRELEVANT  __label__REJECTS  __label__SUPPORTS\n",
      "row_0                                                                        \n",
      "__label__IRRELEVANT                  433                53                145\n",
      "__label__REJECTS                      95                87                 28\n",
      "__label__SUPPORTS                    169                28                143\n",
      "cases: 1181; precision: 0.561; recall: 0.561; fraction: 0.861\n",
      "[0.561, 0.561, 0.562, 0.561, 0.561, 0.561, 0.564, 0.563, 0.561, 0.561]\n"
     ]
    }
   ],
   "source": [
    "accuracies = []\n",
    "for i in range(0, 10):\n",
    "    predictionCountsValidationTTT, predictionLabelsValidationTTT, predictionCountsTestTTT, predictionLabelsTestTTT, accuracy = \\\n",
    "        runFasttext(fasttext_data_list_testing, fasttext_data_list_testing, squealFlag=False, pretrainedVectors=\"twiqs-model-2020-exf.vec\")\n",
    "    accuracies.append(accuracy)\n",
    "print(accuracies)"
   ]
  },
  {
   "cell_type": "code",
   "execution_count": 430,
   "metadata": {},
   "outputs": [],
   "source": [
    "store_fasttext_data(predictionLabelsTestTTT, f\"predictionLabelsTestTTT-{DIM}-{EPOCH}-{LR}.pickle\")"
   ]
  },
  {
   "cell_type": "code",
   "execution_count": 464,
   "metadata": {},
   "outputs": [
    {
     "name": "stdout",
     "output_type": "stream",
     "text": [
      "data size 1=1007, data size 2=1007, dim=300, epoch=200, lr=0.2, pretrainedVectors=twiqs-model-2020-exf.vec\n",
      "0 cases: 101; precision: 0.663; recall: 0.663; fraction: 4.472\n",
      "1 cases: 100; precision: 0.710; recall: 0.710; fraction: 0.413\n",
      "2 cases: 101; precision: 0.663; recall: 0.663; fraction: 1.057\n",
      "3 cases: 101; precision: 0.693; recall: 0.693; fraction: 0.750\n",
      "4 cases: 101; precision: 0.535; recall: 0.535; fraction: 1.324\n",
      "5 cases: 100; precision: 0.570; recall: 0.570; fraction: 0.444\n",
      "6 cases: 101; precision: 0.624; recall: 0.624; fraction: 1.195\n",
      "7 cases: 101; precision: 0.525; recall: 0.525; fraction: 1.219\n",
      "8 cases: 100; precision: 0.510; recall: 0.510; fraction: 15.484\n",
      "9 cases: 101; precision: 0.584; recall: 0.584; fraction: 6.000\n",
      " col_0                __label__IRRELEVANT  __label__REJECTS  __label__SUPPORTS\n",
      "row_0                                                                        \n",
      "__label__IRRELEVANT                  500               103                 35\n",
      "__label__REJECTS                     158               100                  7\n",
      "__label__SUPPORTS                     76                16                 12\n",
      "cases: 1007; precision: 0.608; recall: 0.608; fraction: 1.592\n"
     ]
    }
   ],
   "source": [
    "predictionCountsValidationVVT,predictionLabelsValidationVVT,predictionCountsTestVVT,predictionLabelsTestVVT = \\\n",
    "    runFasttext(fasttext_data_list_vaccination, fasttext_data_list_vaccination, squealFlag=False, pretrainedVectors=\"twiqs-model-2020-exf.vec\")"
   ]
  },
  {
   "cell_type": "code",
   "execution_count": 465,
   "metadata": {},
   "outputs": [],
   "source": [
    "store_fasttext_data(predictionLabelsTestVVT, f\"predictionLabelsTestVVT-{DIM}-{EPOCH}-{LR}.pickle\")"
   ]
  },
  {
   "cell_type": "code",
   "execution_count": 434,
   "metadata": {},
   "outputs": [
    {
     "data": {
      "text/plain": [
       "0.561"
      ]
     },
     "execution_count": 434,
     "metadata": {},
     "output_type": "execute_result"
    }
   ],
   "source": [
    "compute_accuracy(get_prediction_labels_list(read_fasttext_data(f\"predictionLabelsTestTTT-{DIM}-{EPOCH}-{LR}.pickle\")), fasttext_data_list_testing)"
   ]
  },
  {
   "cell_type": "markdown",
   "metadata": {},
   "source": [
    "## 2. Evaluation of other domains with social distancing data (SRCONLY)"
   ]
  },
  {
   "cell_type": "code",
   "execution_count": 466,
   "metadata": {},
   "outputs": [],
   "source": [
    "model_distance = fasttext.train_supervised(\"fasttext-distance.csv\", dim=DIM, epoch=EPOCH, lr=LR, pretrainedVectors=\"twiqs-model-2020-exf.vec\")"
   ]
  },
  {
   "cell_type": "code",
   "execution_count": 467,
   "metadata": {},
   "outputs": [
    {
     "data": {
      "text/plain": [
       "1.0"
      ]
     },
     "execution_count": 467,
     "metadata": {},
     "output_type": "execute_result"
    }
   ],
   "source": [
    "compute_accuracy(get_prediction_labels_list([model_distance.predict(fasttext_data_list_distance)]), fasttext_data_list_distance)"
   ]
  },
  {
   "cell_type": "code",
   "execution_count": 468,
   "metadata": {},
   "outputs": [
    {
     "data": {
      "text/plain": [
       "0.414"
      ]
     },
     "execution_count": 468,
     "metadata": {},
     "output_type": "execute_result"
    }
   ],
   "source": [
    "compute_accuracy(get_prediction_labels_list([model_distance.predict(fasttext_data_list_facemask)]), fasttext_data_list_facemask)"
   ]
  },
  {
   "cell_type": "code",
   "execution_count": 469,
   "metadata": {},
   "outputs": [
    {
     "data": {
      "text/plain": [
       "0.452"
      ]
     },
     "execution_count": 469,
     "metadata": {},
     "output_type": "execute_result"
    }
   ],
   "source": [
    "compute_accuracy(get_prediction_labels_list([model_distance.predict(fasttext_data_list_testing)]), fasttext_data_list_testing)"
   ]
  },
  {
   "cell_type": "code",
   "execution_count": 470,
   "metadata": {},
   "outputs": [
    {
     "data": {
      "text/plain": [
       "0.488"
      ]
     },
     "execution_count": 470,
     "metadata": {},
     "output_type": "execute_result"
    }
   ],
   "source": [
    "compute_accuracy(get_prediction_labels_list([model_distance.predict(fasttext_data_list_vaccination)]), fasttext_data_list_vaccination)"
   ]
  },
  {
   "cell_type": "markdown",
   "metadata": {},
   "source": [
    "## Predicting social distancing with facemask data (old)"
   ]
  },
  {
   "cell_type": "code",
   "execution_count": null,
   "metadata": {},
   "outputs": [],
   "source": [
    "def count_labels(fasttext_data_list):\n",
    "    counts = {}\n",
    "    for i in range(0, len(fasttext_data_list)):\n",
    "        token_list = fasttext_data_list[i].split()\n",
    "        if token_list[0] in counts:\n",
    "            counts[token_list[0]] += 1\n",
    "        else:\n",
    "            counts[token_list[0]] = 1\n",
    "    return(counts)\n",
    "\n",
    "\n",
    "def swap_labels(fasttext_data_list_in):\n",
    "    fasttext_data_list_out = []\n",
    "    for i in range(0, len(fasttext_data_list_in)):\n",
    "        token_list = fasttext_data_list_in[i].split()\n",
    "        if token_list[0] == \"__label__REJECTS\":\n",
    "            token_list[0] = \"__label__SUPPORTS\"\n",
    "        elif token_list[0] == \"__label__SUPPORTS\":\n",
    "            token_list[0] = \"__label__REJECTS\"\n",
    "        fasttext_data_list_out.append(\" \".join(token_list))\n",
    "    return(fasttext_data_list_out)"
   ]
  },
  {
   "cell_type": "code",
   "execution_count": 101,
   "metadata": {},
   "outputs": [],
   "source": [
    "if False:\n",
    "    predictionCountsValidationFD,predictionLabelsValidationFD,predictionCountsTestFD,predictionLabelsTestFD = \\\n",
    "        runFasttext(fasttext_data_list_facemask, fasttext_data_list_distance, squealFlag=False, dim=300)"
   ]
  },
  {
   "cell_type": "code",
   "execution_count": 21,
   "metadata": {},
   "outputs": [
    {
     "name": "stdout",
     "output_type": "stream",
     "text": [
      "0 cases: 101; precision: 0.386; recall: 0.386; fraction: 4.725\n",
      "1 cases: 101; precision: 0.327; recall: 0.327; fraction: 0.833\n",
      "2 cases: 101; precision: 0.376; recall: 0.376; fraction: 0.561\n",
      "3 cases: 101; precision: 0.396; recall: 0.396; fraction: 1.067\n",
      "4 cases: 102; precision: 0.402; recall: 0.402; fraction: 1.899\n",
      "5 cases: 101; precision: 0.495; recall: 0.495; fraction: 0.580\n",
      "6 cases: 101; precision: 0.416; recall: 0.416; fraction: 0.201\n",
      "7 cases: 101; precision: 0.386; recall: 0.386; fraction: 0.164\n",
      "8 cases: 101; precision: 0.396; recall: 0.396; fraction: 0.270\n",
      "9 cases: 101; precision: 0.416; recall: 0.416; fraction: 0.198\n",
      " col_0                __label__IRRELEVANT  __label__REJECTS  __label__SUPPORTS\n",
      "row_0                                                                        \n",
      "__label__IRRELEVANT                  169               124                265\n",
      "__label__REJECTS                      46                99                 94\n",
      "__label__SUPPORTS                     34                44                136\n",
      "cases: 1011; precision: 0.400; recall: 0.400; fraction: 0.483\n"
     ]
    }
   ],
   "source": [
    "predictionCountsValidationDFT, predictionLabelsValidationDFT, predictionCountsTestDFT, predictionLabelsTestDFT = \\\n",
    "    runFasttext(fasttext_data_list_distance, fasttext_data_list_facemask, squealFlag=False, pretrainedVectors=\"twiqs-model-2020.vec\")"
   ]
  },
  {
   "cell_type": "code",
   "execution_count": 22,
   "metadata": {},
   "outputs": [],
   "source": [
    "store_fasttext_data(predictionLabelsTestDFT, f\"predictionLabelsTestDFT-{DIM}-{EPOCH}-{LR}.pickle\")"
   ]
  },
  {
   "cell_type": "code",
   "execution_count": 23,
   "metadata": {},
   "outputs": [
    {
     "name": "stdout",
     "output_type": "stream",
     "text": [
      "0 cases: 118; precision: 0.390; recall: 0.390; fraction: 0.432\n",
      "1 cases: 118; precision: 0.390; recall: 0.390; fraction: 0.478\n",
      "2 cases: 118; precision: 0.483; recall: 0.483; fraction: 0.731\n",
      "3 cases: 118; precision: 0.441; recall: 0.441; fraction: 0.594\n",
      "4 cases: 118; precision: 0.415; recall: 0.415; fraction: 0.762\n",
      "5 cases: 119; precision: 0.471; recall: 0.471; fraction: 0.428\n",
      "6 cases: 118; precision: 0.458; recall: 0.458; fraction: 0.246\n",
      "7 cases: 118; precision: 0.424; recall: 0.424; fraction: 0.211\n",
      "8 cases: 118; precision: 0.483; recall: 0.483; fraction: 0.991\n",
      "9 cases: 118; precision: 0.305; recall: 0.305; fraction: 1.523\n",
      " col_0                __label__IRRELEVANT  __label__REJECTS  __label__SUPPORTS\n",
      "row_0                                                                        \n",
      "__label__IRRELEVANT                  223                93                315\n",
      "__label__REJECTS                      66                65                 79\n",
      "__label__SUPPORTS                     84                41                215\n",
      "cases: 1181; precision: 0.426; recall: 0.426; fraction: 0.529\n"
     ]
    }
   ],
   "source": [
    "predictionCountsValidationDTT, predictionLabelsValidationDTT, predictionCountsTestDTT, predictionLabelsTestDTT = \\\n",
    "    runFasttext(fasttext_data_list_distance, fasttext_data_list_testing, squealFlag=False, pretrainedVectors=\"twiqs-model-2020.vec\")"
   ]
  },
  {
   "cell_type": "code",
   "execution_count": 24,
   "metadata": {},
   "outputs": [],
   "source": [
    "store_fasttext_data(predictionLabelsTestDTT, f\"predictionLabelsTestDTT-{DIM}-{EPOCH}-{LR}.pickle\")"
   ]
  },
  {
   "cell_type": "code",
   "execution_count": 25,
   "metadata": {},
   "outputs": [
    {
     "name": "stdout",
     "output_type": "stream",
     "text": [
      "0 cases: 101; precision: 0.554; recall: 0.554; fraction: 0.845\n",
      "1 cases: 100; precision: 0.530; recall: 0.530; fraction: 0.213\n",
      "2 cases: 101; precision: 0.495; recall: 0.495; fraction: 0.164\n",
      "3 cases: 101; precision: 0.545; recall: 0.545; fraction: 0.109\n",
      "4 cases: 101; precision: 0.426; recall: 0.426; fraction: 0.343\n",
      "5 cases: 100; precision: 0.480; recall: 0.480; fraction: 0.075\n",
      "6 cases: 101; precision: 0.515; recall: 0.515; fraction: 0.293\n",
      "7 cases: 101; precision: 0.465; recall: 0.465; fraction: 0.300\n",
      "8 cases: 100; precision: 0.460; recall: 0.460; fraction: 0.699\n",
      "9 cases: 101; precision: 0.436; recall: 0.436; fraction: 0.882\n",
      " col_0                __label__IRRELEVANT  __label__REJECTS  __label__SUPPORTS\n",
      "row_0                                                                        \n",
      "__label__IRRELEVANT                  336               126                176\n",
      "__label__REJECTS                      92               112                 61\n",
      "__label__SUPPORTS                     39                19                 46\n",
      "cases: 1007; precision: 0.491; recall: 0.491; fraction: 0.356\n"
     ]
    }
   ],
   "source": [
    "predictionCountsValidationDVT, predictionLabelsValidationDVT, predictionCountsTestDVT, predictionLabelsTestDVT = \\\n",
    "    runFasttext(fasttext_data_list_distance, fasttext_data_list_vaccination, squealFlag=False, pretrainedVectors=\"twiqs-model-2020.vec\")"
   ]
  },
  {
   "cell_type": "code",
   "execution_count": 26,
   "metadata": {},
   "outputs": [],
   "source": [
    "store_fasttext_data(predictionLabelsTestDVT, f\"predictionLabelsTestDVT-{DIM}-{EPOCH}-{LR}.pickle\")"
   ]
  },
  {
   "cell_type": "markdown",
   "metadata": {},
   "source": [
    "### Old code"
   ]
  },
  {
   "cell_type": "code",
   "execution_count": 104,
   "metadata": {},
   "outputs": [],
   "source": [
    "predictionLabelsTestFD = read_fasttext_data(\"predictionLabelsTestFD.pickle\")\n",
    "predictionLabelsTestDD = read_fasttext_data(\"predictionLabelsTestDD.pickle\")"
   ]
  },
  {
   "cell_type": "code",
   "execution_count": 105,
   "metadata": {},
   "outputs": [],
   "source": [
    "def convert(data):\n",
    "    plot_data =[]\n",
    "    for key in data:\n",
    "        if re.search(\"^[0-9]+$\", str(key)):\n",
    "            support_count = 0\n",
    "            reject_count = 0\n",
    "            for label in data[key]:\n",
    "                if label == \"__label__SUPPORTS\":\n",
    "                    support_count += 1\n",
    "                if label == \"__label__REJECTS\":\n",
    "                    reject_count += 1\n",
    "            if support_count+reject_count > 0:\n",
    "                plot_data.append((int(key), support_count/(support_count+reject_count)))\n",
    "    plot_data = [x for x in sorted(plot_data, key=lambda x:x[0])]\n",
    "    return(plot_data)"
   ]
  },
  {
   "cell_type": "code",
   "execution_count": 106,
   "metadata": {},
   "outputs": [],
   "source": [
    "def make_data_predicted(predictionLabelsTest, tweet_ids, time_factor=4):\n",
    "    predicted = []\n",
    "    for i in range(0, len(predictionLabelsTest)):\n",
    "        for j in range(0, len(predictionLabelsTest[i][0])):\n",
    "            predicted.append(predictionLabelsTest[i][0][j])\n",
    "    data_predicted = {}\n",
    "    for i in range(0, len(tweet_ids)):\n",
    "        summary = str(tweet_ids[i])[0:time_factor]\n",
    "        if summary not in data_predicted:\n",
    "            data_predicted[summary] = []\n",
    "        data_predicted[summary].append(predicted[i][0])\n",
    "    return(data_predicted)"
   ]
  },
  {
   "cell_type": "code",
   "execution_count": 107,
   "metadata": {},
   "outputs": [],
   "source": [
    "time_factor = 4\n",
    "data_predicted_fd = make_data_predicted(predictionLabelsTestFD, tweet_ids_distance, time_factor=time_factor)\n",
    "data_predicted_dd = make_data_predicted(predictionLabelsTestDD, tweet_ids_distance, time_factor=time_factor)"
   ]
  },
  {
   "cell_type": "code",
   "execution_count": 108,
   "metadata": {},
   "outputs": [],
   "source": [
    "gold = []\n",
    "for tweet in fasttext_data_list_distance:\n",
    "    gold.append(tweet.split()[0])\n",
    "\n",
    "data_gold = {}\n",
    "for i in range(0, len(tweet_ids_distance)):\n",
    "    summary = str(tweet_ids_distance[i])[0:time_factor]\n",
    "    if summary not in data_gold:\n",
    "        data_gold[summary] = []\n",
    "    data_gold[summary].append(gold[i])"
   ]
  },
  {
   "cell_type": "code",
   "execution_count": 109,
   "metadata": {},
   "outputs": [
    {
     "data": {
      "image/png": "[encoded data removed]",
      "text/plain": [
       "<Figure size 432x288 with 1 Axes>"
      ]
     },
     "metadata": {
      "needs_background": "light"
     },
     "output_type": "display_data"
    }
   ],
   "source": [
    "plot_data_predicted_fd = convert(data_predicted_fd)\n",
    "plot_data_predicted_dd = convert(data_predicted_dd)\n",
    "plot_data_gold = convert(data_gold)\n",
    "\n",
    "x_gold = [x[0] for x in plot_data_gold]\n",
    "y_gold = [x[1] for x in plot_data_gold]\n",
    "x_fd = [x[0] for x in plot_data_predicted_fd]\n",
    "y_fd = [x[1] for x in plot_data_predicted_fd]\n",
    "x_dd = [x[0] for x in plot_data_predicted_dd]\n",
    "y_dd = [x[1] for x in plot_data_predicted_dd]\n",
    "plt.plot(x_fd, y_fd, label=\"predicted (out-of-domain)\")\n",
    "plt.plot(x_dd, y_dd, label=\"predicted (in-domain)\")\n",
    "plt.plot(x_gold, y_gold, label=\"gold\")\n",
    "plt.legend()\n",
    "plt.title(\"predicting social distancing with facemask data\")\n",
    "plt.savefig(\"facemask-to-distancing.png\")\n",
    "plt.show()"
   ]
  },
  {
   "cell_type": "markdown",
   "metadata": {},
   "source": [
    "### Inflate predictions (old)"
   ]
  },
  {
   "cell_type": "code",
   "execution_count": 110,
   "metadata": {},
   "outputs": [],
   "source": [
    "def get_freqs(label_list):\n",
    "    freqs = {}\n",
    "    for label in label_list:\n",
    "        if label in freqs:\n",
    "            freqs[label] += 1\n",
    "        else:\n",
    "            freqs[label] = 1\n",
    "    for label in freqs:\n",
    "        freqs[label] /= len(label_list)\n",
    "    return(freqs)"
   ]
  },
  {
   "cell_type": "code",
   "execution_count": 111,
   "metadata": {},
   "outputs": [],
   "source": [
    "def inflate(predictionLabelsTestIn, source_label, target_label, factor):\n",
    "    predictionLabelsTestOut = list(predictionLabelsTestIn)\n",
    "    counter = 0\n",
    "    for fold in predictionLabelsTestOut:\n",
    "        for i in range(0, len(fold[0])):\n",
    "            if fold[0][i][0] == target_label:\n",
    "                for j in range(0, len(fold[0][i])):\n",
    "                    if fold[0][i][j] == source_label:\n",
    "                        break\n",
    "                if fold[0][i][j] != source_label:\n",
    "                    sys.exit(\"cannot happen\")\n",
    "                if fold[1][i][j]*factor > fold[1][i][0]:\n",
    "                    fold[0][i][0], fold[0][i][j] = fold[0][i][j], fold[0][i][0]\n",
    "    return(predictionLabelsTestOut)"
   ]
  },
  {
   "cell_type": "code",
   "execution_count": 112,
   "metadata": {},
   "outputs": [],
   "source": [
    "def inflate_plus(predictionLabelsTestIn, source_label, target_label, factor):\n",
    "    predictionLabelsTestOut = list(predictionLabelsTestIn)\n",
    "    counter = 0\n",
    "    for fold in predictionLabelsTestOut:\n",
    "        for i in range(0, len(fold[0])):\n",
    "            if fold[0][i][0] == target_label:\n",
    "                for j in range(0, len(fold[0][i])):\n",
    "                    if fold[0][i][j] == source_label:\n",
    "                        break\n",
    "                if fold[0][i][j] != source_label:\n",
    "                    sys.exit(\"cannot happen\")\n",
    "                if fold[1][i][j]+factor > fold[1][i][0]:\n",
    "                    fold[0][i][0], fold[0][i][j] = fold[0][i][j], fold[0][i][0]\n",
    "    return(predictionLabelsTestOut)"
   ]
  },
  {
   "cell_type": "code",
   "execution_count": 113,
   "metadata": {},
   "outputs": [
    {
     "name": "stdout",
     "output_type": "stream",
     "text": [
      "{'__label__REJECTS': 0.19822020589774908, '__label__SUPPORTS': 0.5632524864770546, '__label__IRRELEVANT': 0.2385273076251963}\n",
      "0.35192069392812886\n"
     ]
    }
   ],
   "source": [
    "freqs = get_freqs(gold)\n",
    "print(freqs)\n",
    "print(freqs['__label__REJECTS']/freqs['__label__SUPPORTS'])"
   ]
  },
  {
   "cell_type": "code",
   "execution_count": 114,
   "metadata": {},
   "outputs": [
    {
     "name": "stdout",
     "output_type": "stream",
     "text": [
      "{'__label__IRRELEVANT': 0.5379514918862328, '__label__SUPPORTS': 0.34252311987436745, '__label__REJECTS': 0.11952538823939976}\n",
      "0.34895568008150796\n"
     ]
    }
   ],
   "source": [
    "FACTOR = 0.9967\n",
    "\n",
    "predictionLabelsTestFDinflated = list(predictionLabelsTestFD)\n",
    "freqs = get_freqs([y[0] for x in inflate_plus(predictionLabelsTestFDinflated, '__label__SUPPORTS', '__label__REJECTS', FACTOR) for y in x[0]])\n",
    "print(freqs)\n",
    "print(freqs['__label__REJECTS']/freqs['__label__SUPPORTS'])"
   ]
  },
  {
   "cell_type": "code",
   "execution_count": 115,
   "metadata": {},
   "outputs": [
    {
     "data": {
      "image/png": "[encoded data removed]",
      "text/plain": [
       "<Figure size 432x288 with 1 Axes>"
      ]
     },
     "metadata": {
      "needs_background": "light"
     },
     "output_type": "display_data"
    }
   ],
   "source": [
    "data_predicted_fd_inflated = make_data_predicted(predictionLabelsTestFDinflated, tweet_ids_distance)\n",
    "plot_data_predicted_fd_inflated = convert(data_predicted_fd_inflated)\n",
    "\n",
    "x_gold = [x[0] for x in plot_data_gold]\n",
    "y_gold = [x[1] for x in plot_data_gold]\n",
    "x_fd = [x[0] for x in plot_data_predicted_fd]\n",
    "y_fd = [x[1] for x in plot_data_predicted_fd]\n",
    "x_dd = [x[0] for x in plot_data_predicted_dd]\n",
    "y_dd = [x[1] for x in plot_data_predicted_dd]\n",
    "x_fd_inflated = [x[0] for x in plot_data_predicted_fd_inflated]\n",
    "y_fd_inflated = [x[1] for x in plot_data_predicted_fd_inflated]\n",
    "plt.plot(x_fd, y_fd, label=\"predicted (out-of-domain)\")\n",
    "plt.plot(x_dd, y_dd, label=\"predicted (in-domain)\")\n",
    "plt.plot(x_gold, y_gold, label=\"gold\")\n",
    "plt.plot(x_fd_inflated, y_fd_inflated, label=\"predicted (out-of-domain, inflated\")\n",
    "plt.legend()\n",
    "plt.title(\"predicting social distancing with facemask data\")\n",
    "plt.savefig(\"facemask-to-distancing.png\")\n",
    "plt.show()"
   ]
  },
  {
   "cell_type": "markdown",
   "metadata": {},
   "source": [
    "### Numerical analysis of predictions (old)"
   ]
  },
  {
   "cell_type": "code",
   "execution_count": 116,
   "metadata": {},
   "outputs": [],
   "source": [
    "plot_data_predicted_fd_dict = { x[0]:x[1] for x in plot_data_predicted_fd }\n",
    "plot_data_predicted_dd_dict = { x[0]:x[1] for x in plot_data_predicted_dd }\n",
    "plot_data_gold_dict = { x[0]:x[1] for x in plot_data_gold }\n",
    "plot_data_predicted_fd_inflated_dict = { x[0]:x[1] for x in plot_data_predicted_fd_inflated }"
   ]
  },
  {
   "cell_type": "code",
   "execution_count": 117,
   "metadata": {},
   "outputs": [],
   "source": [
    "def get_common_key_values(dict1, dict2):\n",
    "    values1 = []\n",
    "    values2 = []\n",
    "    for key in sorted(dict1.keys()):\n",
    "        if key in dict2:\n",
    "            values1.append(dict1[key])\n",
    "            values2.append(dict2[key])\n",
    "    return(values1, values2)"
   ]
  },
  {
   "cell_type": "code",
   "execution_count": 118,
   "metadata": {},
   "outputs": [
    {
     "name": "stdout",
     "output_type": "stream",
     "text": [
      "Pearson r correlation gold vs in-domain: 0.88\n",
      "Pearson r correlation gold vs out-of-domain: 0.47\n",
      "Pearson r correlation gold vs out-of-domain (inflated): -0.06\n"
     ]
    }
   ],
   "source": [
    "values_dd, values_gold_dd = get_common_key_values(plot_data_predicted_dd_dict, plot_data_gold_dict)\n",
    "print(\"Pearson r correlation gold vs in-domain:\", round(scipy.stats.linregress(np.array(values_gold_dd), np.array(values_dd)).rvalue, 2))\n",
    "values_fd, values_gold_fd = get_common_key_values(plot_data_predicted_fd_dict, plot_data_gold_dict)\n",
    "print(\"Pearson r correlation gold vs out-of-domain:\", round(scipy.stats.linregress(np.array(values_gold_fd), np.array(values_fd)).rvalue, 2))\n",
    "values_fd_inflated, values_gold_fd_inflated = get_common_key_values(plot_data_predicted_fd_inflated_dict, plot_data_gold_dict)\n",
    "print(\"Pearson r correlation gold vs out-of-domain (inflated):\", round(scipy.stats.linregress(np.array(values_gold_fd), np.array(values_fd_inflated)).rvalue, 2))"
   ]
  },
  {
   "cell_type": "code",
   "execution_count": 119,
   "metadata": {},
   "outputs": [],
   "source": [
    "def absolute_difference(list1, list2):\n",
    "    absolute_difference = 0\n",
    "    for i in range(0, len(list1)):\n",
    "        absolute_difference += abs(list1[i]-list2[i])\n",
    "    return(absolute_difference/len(list1))"
   ]
  },
  {
   "cell_type": "code",
   "execution_count": 120,
   "metadata": {},
   "outputs": [
    {
     "name": "stdout",
     "output_type": "stream",
     "text": [
      "absolute difference gold vs in-domain: 0.06\n",
      "absolute difference gold vs out-of-domain: 0.42\n",
      "absolute difference gold vs out-of-domain (inflated): 0.18\n"
     ]
    }
   ],
   "source": [
    "print(\"absolute difference gold vs in-domain:\", round(absolute_difference(values_gold_dd, values_dd), 2))\n",
    "print(\"absolute difference gold vs out-of-domain:\", round(absolute_difference(values_gold_fd, values_fd),2))\n",
    "print(\"absolute difference gold vs out-of-domain (inflated):\", round(absolute_difference(values_gold_fd_inflated, values_fd_inflated),2)) "
   ]
  },
  {
   "cell_type": "markdown",
   "metadata": {},
   "source": [
    "## Predicting facemasks with social distancing data (old)"
   ]
  },
  {
   "cell_type": "code",
   "execution_count": 121,
   "metadata": {},
   "outputs": [],
   "source": [
    "if False:\n",
    "    predictionCountsValidationDF,predictionLabelsValidationDF,predictionCountsTestDF,predictionLabelsTestDF = \\\n",
    "        runFasttext(fasttext_data_list_distance, fasttext_data_list_facemask, squealFlag=False, dim=300)"
   ]
  },
  {
   "cell_type": "code",
   "execution_count": 122,
   "metadata": {},
   "outputs": [],
   "source": [
    "if False:\n",
    "    predictionCountsValidationDFT,predictionLabelsValidationDFT,predictionCountsTestDFT,predictionLabelsTestDFT = \\\n",
    "        runFasttext(fasttext_data_list_distance, fasttext_data_list_facemask, squealFlag=False, dim=300, pretrainedVectors=\"twiqs-model-2020.vec\")"
   ]
  },
  {
   "cell_type": "code",
   "execution_count": 123,
   "metadata": {},
   "outputs": [],
   "source": [
    "if False:\n",
    "    store_fasttext_data(predictionLabelsTestDFT, \"predictionLabelsTestDFT.pickle\")"
   ]
  },
  {
   "cell_type": "code",
   "execution_count": 124,
   "metadata": {},
   "outputs": [],
   "source": [
    "predictionLabelsTestDF = read_fasttext_data(\"predictionLabelsTestDF.pickle\")\n",
    "predictionLabelsTestFF = read_fasttext_data(\"predictionLabelsTestFF.pickle\")"
   ]
  },
  {
   "cell_type": "code",
   "execution_count": 125,
   "metadata": {},
   "outputs": [],
   "source": [
    "time_factor = 5\n",
    "data_predicted_df = make_data_predicted(predictionLabelsTestDF, tweet_ids_facemask, time_factor=time_factor)\n",
    "data_predicted_ff = make_data_predicted(predictionLabelsTestFF, tweet_ids_facemask, time_factor=time_factor)"
   ]
  },
  {
   "cell_type": "code",
   "execution_count": 126,
   "metadata": {},
   "outputs": [],
   "source": [
    "gold = []\n",
    "for tweet in fasttext_data_list_facemask:\n",
    "    gold.append(tweet.split()[0])\n",
    "\n",
    "data_gold = {}\n",
    "for i in range(0, len(tweet_ids_facemask)):\n",
    "    summary = str(tweet_ids_facemask[i])[0:time_factor]\n",
    "    if summary not in data_gold:\n",
    "        data_gold[summary] = []\n",
    "    data_gold[summary].append(gold[i])"
   ]
  },
  {
   "cell_type": "code",
   "execution_count": 127,
   "metadata": {},
   "outputs": [
    {
     "data": {
      "image/png": "[encoded data removed]",
      "text/plain": [
       "<Figure size 432x288 with 1 Axes>"
      ]
     },
     "metadata": {
      "needs_background": "light"
     },
     "output_type": "display_data"
    }
   ],
   "source": [
    "plot_data_predicted_df = convert(data_predicted_df)\n",
    "plot_data_predicted_ff = convert(data_predicted_ff)\n",
    "plot_data_gold = convert(data_gold)\n",
    "\n",
    "x_gold = [x[0] for x in plot_data_gold]\n",
    "y_gold = [x[1] for x in plot_data_gold]\n",
    "x_df = [x[0] for x in plot_data_predicted_df]\n",
    "y_df = [x[1] for x in plot_data_predicted_df]\n",
    "x_ff = [x[0] for x in plot_data_predicted_ff]\n",
    "y_ff = [x[1] for x in plot_data_predicted_ff]\n",
    "plt.plot(x_df, y_df, label=\"predicted (out-of-domain)\")\n",
    "plt.plot(x_ff, y_ff, label=\"predicted (in-domain)\")\n",
    "plt.plot(x_gold, y_gold, label=\"gold\")\n",
    "plt.legend()\n",
    "plt.title(\"predicting facemask with social distancing data\")\n",
    "plt.savefig(\"distancing-to-facemask.png\")\n",
    "plt.show()"
   ]
  },
  {
   "cell_type": "markdown",
   "metadata": {},
   "source": [
    "### Inflate predictions (old)"
   ]
  },
  {
   "cell_type": "code",
   "execution_count": 128,
   "metadata": {},
   "outputs": [
    {
     "name": "stdout",
     "output_type": "stream",
     "text": [
      "{'__label__IRRELEVANT': 0.4809688581314879, '__label__REJECTS': 0.46366782006920415, '__label__SUPPORTS': 0.05536332179930796}\n",
      "8.375\n"
     ]
    }
   ],
   "source": [
    "freqs = get_freqs(gold)\n",
    "print(freqs)\n",
    "print(freqs['__label__REJECTS']/freqs['__label__SUPPORTS'])"
   ]
  },
  {
   "cell_type": "code",
   "execution_count": 129,
   "metadata": {},
   "outputs": [
    {
     "name": "stdout",
     "output_type": "stream",
     "text": [
      "{'__label__IRRELEVANT': 0.27760968229954613, '__label__REJECTS': 0.518910741301059, '__label__SUPPORTS': 0.20347957639939485}\n",
      "2.550185873605948\n"
     ]
    }
   ],
   "source": [
    "FACTOR = 0.9893\n",
    "\n",
    "predictionLabelsTestDFinflated = list(predictionLabelsTestDF)\n",
    "freqs = get_freqs([y[0] for x in inflate_plus(predictionLabelsTestDFinflated, '__label__REJECTS', '__label__SUPPORTS', FACTOR) for y in x[0]])\n",
    "print(freqs)\n",
    "print(freqs['__label__REJECTS']/freqs['__label__SUPPORTS'])"
   ]
  },
  {
   "cell_type": "code",
   "execution_count": 130,
   "metadata": {},
   "outputs": [],
   "source": [
    "data_predicted_df_inflated = make_data_predicted(inflate(predictionLabelsTestDFinflated, '__label__REJECTS', '__label__SUPPORTS', FACTOR), tweet_ids_facemask, time_factor=1)"
   ]
  },
  {
   "cell_type": "code",
   "execution_count": 131,
   "metadata": {},
   "outputs": [
    {
     "data": {
      "image/png": "[encoded data removed]",
      "text/plain": [
       "<Figure size 432x288 with 1 Axes>"
      ]
     },
     "metadata": {
      "needs_background": "light"
     },
     "output_type": "display_data"
    }
   ],
   "source": [
    "plot_data_predicted_df = convert(data_predicted_df)\n",
    "plot_data_predicted_ff = convert(data_predicted_ff)\n",
    "plot_data_predicted_df_inflated = convert(data_predicted_df_inflated)\n",
    "plot_data_gold = convert(data_gold)\n",
    "\n",
    "x_gold = [x[0] for x in plot_data_gold]\n",
    "y_gold = [x[1] for x in plot_data_gold]\n",
    "x_df = [x[0] for x in plot_data_predicted_df]\n",
    "y_df = [x[1] for x in plot_data_predicted_df]\n",
    "x_ff = [x[0] for x in plot_data_predicted_ff]\n",
    "y_ff = [x[1] for x in plot_data_predicted_ff]\n",
    "x_df_inflated = [x[0] for x in plot_data_predicted_df_inflated]\n",
    "y_df_inflated = [x[1] for x in plot_data_predicted_df_inflated]\n",
    "plt.plot(x_df, y_df, label=\"predicted (out-of-domain)\")\n",
    "plt.plot(x_ff, y_ff, label=\"predicted (in-domain)\")\n",
    "plt.plot(x_gold, y_gold, label=\"gold\")\n",
    "plt.plot(x_df_inflated, y_df_inflated, label=\"predicted (out-of-domain, inflated)\")\n",
    "plt.legend()\n",
    "plt.title(\"predicting facemask with social distancing data\")\n",
    "plt.savefig(\"distancing-to-facemask.png\")\n",
    "plt.show()"
   ]
  },
  {
   "cell_type": "markdown",
   "metadata": {},
   "source": [
    "### Numerical analysis of predictions (old)"
   ]
  },
  {
   "cell_type": "code",
   "execution_count": 132,
   "metadata": {},
   "outputs": [],
   "source": [
    "plot_data_predicted_df_dict = { x[0]:x[1] for x in plot_data_predicted_df }\n",
    "plot_data_predicted_ff_dict = { x[0]:x[1] for x in plot_data_predicted_ff }\n",
    "plot_data_predicted_df_inflated_dict = { x[0]:x[1] for x in plot_data_predicted_df_inflated }\n",
    "plot_data_gold_dict = { x[0]:x[1] for x in plot_data_gold }"
   ]
  },
  {
   "cell_type": "code",
   "execution_count": 133,
   "metadata": {},
   "outputs": [
    {
     "name": "stdout",
     "output_type": "stream",
     "text": [
      "Pearson r correlation gold vs in-domain: 0.05\n",
      "Pearson r correlation gold vs out-of-domain: -0.11\n"
     ]
    },
    {
     "ename": "ValueError",
     "evalue": "Inputs must not be empty.",
     "output_type": "error",
     "traceback": [
      "\u001b[0;31m---------------------------------------------------------------------------\u001b[0m",
      "\u001b[0;31mValueError\u001b[0m                                Traceback (most recent call last)",
      "\u001b[0;32m<ipython-input-133-400f5530c8f8>\u001b[0m in \u001b[0;36m<module>\u001b[0;34m\u001b[0m\n\u001b[1;32m      4\u001b[0m \u001b[0mprint\u001b[0m\u001b[0;34m(\u001b[0m\u001b[0;34m\"Pearson r correlation gold vs out-of-domain:\"\u001b[0m\u001b[0;34m,\u001b[0m \u001b[0mround\u001b[0m\u001b[0;34m(\u001b[0m\u001b[0mscipy\u001b[0m\u001b[0;34m.\u001b[0m\u001b[0mstats\u001b[0m\u001b[0;34m.\u001b[0m\u001b[0mlinregress\u001b[0m\u001b[0;34m(\u001b[0m\u001b[0mnp\u001b[0m\u001b[0;34m.\u001b[0m\u001b[0marray\u001b[0m\u001b[0;34m(\u001b[0m\u001b[0mvalues_gold_df\u001b[0m\u001b[0;34m)\u001b[0m\u001b[0;34m,\u001b[0m \u001b[0mnp\u001b[0m\u001b[0;34m.\u001b[0m\u001b[0marray\u001b[0m\u001b[0;34m(\u001b[0m\u001b[0mvalues_df\u001b[0m\u001b[0;34m)\u001b[0m\u001b[0;34m)\u001b[0m\u001b[0;34m.\u001b[0m\u001b[0mrvalue\u001b[0m\u001b[0;34m,\u001b[0m \u001b[0;36m2\u001b[0m\u001b[0;34m)\u001b[0m\u001b[0;34m)\u001b[0m\u001b[0;34m\u001b[0m\u001b[0;34m\u001b[0m\u001b[0m\n\u001b[1;32m      5\u001b[0m \u001b[0mvalues_df_inflated\u001b[0m\u001b[0;34m,\u001b[0m \u001b[0mvalues_gold_df_inflated\u001b[0m \u001b[0;34m=\u001b[0m \u001b[0mget_common_key_values\u001b[0m\u001b[0;34m(\u001b[0m\u001b[0mplot_data_predicted_df_inflated_dict\u001b[0m\u001b[0;34m,\u001b[0m \u001b[0mplot_data_gold_dict\u001b[0m\u001b[0;34m)\u001b[0m\u001b[0;34m\u001b[0m\u001b[0;34m\u001b[0m\u001b[0m\n\u001b[0;32m----> 6\u001b[0;31m \u001b[0mprint\u001b[0m\u001b[0;34m(\u001b[0m\u001b[0;34m\"Pearson r correlation gold vs out-of-domain (inflated):\"\u001b[0m\u001b[0;34m,\u001b[0m \u001b[0mround\u001b[0m\u001b[0;34m(\u001b[0m\u001b[0mscipy\u001b[0m\u001b[0;34m.\u001b[0m\u001b[0mstats\u001b[0m\u001b[0;34m.\u001b[0m\u001b[0mlinregress\u001b[0m\u001b[0;34m(\u001b[0m\u001b[0mnp\u001b[0m\u001b[0;34m.\u001b[0m\u001b[0marray\u001b[0m\u001b[0;34m(\u001b[0m\u001b[0mvalues_gold_df_inflated\u001b[0m\u001b[0;34m)\u001b[0m\u001b[0;34m,\u001b[0m \u001b[0mnp\u001b[0m\u001b[0;34m.\u001b[0m\u001b[0marray\u001b[0m\u001b[0;34m(\u001b[0m\u001b[0mvalues_df_inflated\u001b[0m\u001b[0;34m)\u001b[0m\u001b[0;34m)\u001b[0m\u001b[0;34m.\u001b[0m\u001b[0mrvalue\u001b[0m\u001b[0;34m,\u001b[0m \u001b[0;36m2\u001b[0m\u001b[0;34m)\u001b[0m\u001b[0;34m)\u001b[0m\u001b[0;34m\u001b[0m\u001b[0;34m\u001b[0m\u001b[0m\n\u001b[0m",
      "\u001b[0;32m~/anaconda3/envs/python37/lib/python3.7/site-packages/scipy/stats/_stats_mstats_common.py\u001b[0m in \u001b[0;36mlinregress\u001b[0;34m(x, y)\u001b[0m\n\u001b[1;32m    107\u001b[0m \u001b[0;34m\u001b[0m\u001b[0m\n\u001b[1;32m    108\u001b[0m     \u001b[0;32mif\u001b[0m \u001b[0mx\u001b[0m\u001b[0;34m.\u001b[0m\u001b[0msize\u001b[0m \u001b[0;34m==\u001b[0m \u001b[0;36m0\u001b[0m \u001b[0;32mor\u001b[0m \u001b[0my\u001b[0m\u001b[0;34m.\u001b[0m\u001b[0msize\u001b[0m \u001b[0;34m==\u001b[0m \u001b[0;36m0\u001b[0m\u001b[0;34m:\u001b[0m\u001b[0;34m\u001b[0m\u001b[0;34m\u001b[0m\u001b[0m\n\u001b[0;32m--> 109\u001b[0;31m         \u001b[0;32mraise\u001b[0m \u001b[0mValueError\u001b[0m\u001b[0;34m(\u001b[0m\u001b[0;34m\"Inputs must not be empty.\"\u001b[0m\u001b[0;34m)\u001b[0m\u001b[0;34m\u001b[0m\u001b[0;34m\u001b[0m\u001b[0m\n\u001b[0m\u001b[1;32m    110\u001b[0m \u001b[0;34m\u001b[0m\u001b[0m\n\u001b[1;32m    111\u001b[0m     \u001b[0mn\u001b[0m \u001b[0;34m=\u001b[0m \u001b[0mlen\u001b[0m\u001b[0;34m(\u001b[0m\u001b[0mx\u001b[0m\u001b[0;34m)\u001b[0m\u001b[0;34m\u001b[0m\u001b[0;34m\u001b[0m\u001b[0m\n",
      "\u001b[0;31mValueError\u001b[0m: Inputs must not be empty."
     ]
    }
   ],
   "source": [
    "values_ff, values_gold_ff = get_common_key_values(plot_data_predicted_ff_dict, plot_data_gold_dict)\n",
    "print(\"Pearson r correlation gold vs in-domain:\", round(scipy.stats.linregress(np.array(values_gold_ff), np.array(values_ff)).rvalue, 2))\n",
    "values_df, values_gold_df = get_common_key_values(plot_data_predicted_df_dict, plot_data_gold_dict)\n",
    "print(\"Pearson r correlation gold vs out-of-domain:\", round(scipy.stats.linregress(np.array(values_gold_df), np.array(values_df)).rvalue, 2))\n",
    "values_df_inflated, values_gold_df_inflated = get_common_key_values(plot_data_predicted_df_inflated_dict, plot_data_gold_dict)\n",
    "print(\"Pearson r correlation gold vs out-of-domain (inflated):\", round(scipy.stats.linregress(np.array(values_gold_df_inflated), np.array(values_df_inflated)).rvalue, 2))"
   ]
  },
  {
   "cell_type": "code",
   "execution_count": 44,
   "metadata": {},
   "outputs": [
    {
     "name": "stdout",
     "output_type": "stream",
     "text": [
      "absolute difference gold vs in-domain: 0.07\n",
      "absolute difference gold vs out-of-domain: 0.37\n"
     ]
    },
    {
     "ename": "ZeroDivisionError",
     "evalue": "division by zero",
     "output_type": "error",
     "traceback": [
      "\u001b[0;31m---------------------------------------------------------------------------\u001b[0m",
      "\u001b[0;31mZeroDivisionError\u001b[0m                         Traceback (most recent call last)",
      "\u001b[0;32m<ipython-input-44-4eecf575709e>\u001b[0m in \u001b[0;36m<module>\u001b[0;34m\u001b[0m\n\u001b[1;32m      1\u001b[0m \u001b[0mprint\u001b[0m\u001b[0;34m(\u001b[0m\u001b[0;34m\"absolute difference gold vs in-domain:\"\u001b[0m\u001b[0;34m,\u001b[0m \u001b[0mround\u001b[0m\u001b[0;34m(\u001b[0m\u001b[0mabsolute_difference\u001b[0m\u001b[0;34m(\u001b[0m\u001b[0mvalues_gold_ff\u001b[0m\u001b[0;34m,\u001b[0m \u001b[0mvalues_ff\u001b[0m\u001b[0;34m)\u001b[0m\u001b[0;34m,\u001b[0m \u001b[0;36m2\u001b[0m\u001b[0;34m)\u001b[0m\u001b[0;34m)\u001b[0m\u001b[0;34m\u001b[0m\u001b[0;34m\u001b[0m\u001b[0m\n\u001b[1;32m      2\u001b[0m \u001b[0mprint\u001b[0m\u001b[0;34m(\u001b[0m\u001b[0;34m\"absolute difference gold vs out-of-domain:\"\u001b[0m\u001b[0;34m,\u001b[0m \u001b[0mround\u001b[0m\u001b[0;34m(\u001b[0m\u001b[0mabsolute_difference\u001b[0m\u001b[0;34m(\u001b[0m\u001b[0mvalues_gold_df\u001b[0m\u001b[0;34m,\u001b[0m \u001b[0mvalues_df\u001b[0m\u001b[0;34m)\u001b[0m\u001b[0;34m,\u001b[0m\u001b[0;36m2\u001b[0m\u001b[0;34m)\u001b[0m\u001b[0;34m)\u001b[0m\u001b[0;34m\u001b[0m\u001b[0;34m\u001b[0m\u001b[0m\n\u001b[0;32m----> 3\u001b[0;31m \u001b[0mprint\u001b[0m\u001b[0;34m(\u001b[0m\u001b[0;34m\"absolute difference gold vs out-of-domain (inflated):\"\u001b[0m\u001b[0;34m,\u001b[0m \u001b[0mround\u001b[0m\u001b[0;34m(\u001b[0m\u001b[0mabsolute_difference\u001b[0m\u001b[0;34m(\u001b[0m\u001b[0mvalues_gold_df_inflated\u001b[0m\u001b[0;34m,\u001b[0m \u001b[0mvalues_df_inflated\u001b[0m\u001b[0;34m)\u001b[0m\u001b[0;34m,\u001b[0m\u001b[0;36m2\u001b[0m\u001b[0;34m)\u001b[0m\u001b[0;34m)\u001b[0m\u001b[0;34m\u001b[0m\u001b[0;34m\u001b[0m\u001b[0m\n\u001b[0m",
      "\u001b[0;32m<ipython-input-29-5296738c6f95>\u001b[0m in \u001b[0;36mabsolute_difference\u001b[0;34m(list1, list2)\u001b[0m\n\u001b[1;32m      3\u001b[0m     \u001b[0;32mfor\u001b[0m \u001b[0mi\u001b[0m \u001b[0;32min\u001b[0m \u001b[0mrange\u001b[0m\u001b[0;34m(\u001b[0m\u001b[0;36m0\u001b[0m\u001b[0;34m,\u001b[0m \u001b[0mlen\u001b[0m\u001b[0;34m(\u001b[0m\u001b[0mlist1\u001b[0m\u001b[0;34m)\u001b[0m\u001b[0;34m)\u001b[0m\u001b[0;34m:\u001b[0m\u001b[0;34m\u001b[0m\u001b[0;34m\u001b[0m\u001b[0m\n\u001b[1;32m      4\u001b[0m         \u001b[0mabsolute_difference\u001b[0m \u001b[0;34m+=\u001b[0m \u001b[0mabs\u001b[0m\u001b[0;34m(\u001b[0m\u001b[0mlist1\u001b[0m\u001b[0;34m[\u001b[0m\u001b[0mi\u001b[0m\u001b[0;34m]\u001b[0m\u001b[0;34m-\u001b[0m\u001b[0mlist2\u001b[0m\u001b[0;34m[\u001b[0m\u001b[0mi\u001b[0m\u001b[0;34m]\u001b[0m\u001b[0;34m)\u001b[0m\u001b[0;34m\u001b[0m\u001b[0;34m\u001b[0m\u001b[0m\n\u001b[0;32m----> 5\u001b[0;31m     \u001b[0;32mreturn\u001b[0m\u001b[0;34m(\u001b[0m\u001b[0mabsolute_difference\u001b[0m\u001b[0;34m/\u001b[0m\u001b[0mlen\u001b[0m\u001b[0;34m(\u001b[0m\u001b[0mlist1\u001b[0m\u001b[0;34m)\u001b[0m\u001b[0;34m)\u001b[0m\u001b[0;34m\u001b[0m\u001b[0;34m\u001b[0m\u001b[0m\n\u001b[0m",
      "\u001b[0;31mZeroDivisionError\u001b[0m: division by zero"
     ]
    }
   ],
   "source": [
    "print(\"absolute difference gold vs in-domain:\", round(absolute_difference(values_gold_ff, values_ff), 2))\n",
    "print(\"absolute difference gold vs out-of-domain:\", round(absolute_difference(values_gold_df, values_df),2)) \n",
    "print(\"absolute difference gold vs out-of-domain (inflated):\", round(absolute_difference(values_gold_df_inflated, values_df_inflated),2)) "
   ]
  },
  {
   "cell_type": "markdown",
   "metadata": {},
   "source": [
    "### Predicting testing data with distance data (old)"
   ]
  },
  {
   "cell_type": "code",
   "execution_count": 134,
   "metadata": {},
   "outputs": [],
   "source": [
    "if False:\n",
    "    predictionCountsValidationDT, predictionLabelsValidationDT, predictionCountsTestDT, predictionLabelsTestDT = \\\n",
    "        runFasttext(fasttext_data_list_distance, fasttext_data_list_testing, squealFlag=False, dim=300)"
   ]
  },
  {
   "cell_type": "code",
   "execution_count": 135,
   "metadata": {},
   "outputs": [],
   "source": [
    "if False:\n",
    "    predictionCountsValidationDT, predictionLabelsValidationDT, predictionCountsTestDT, predictionLabelsTestDT = \\\n",
    "        runFasttext(fasttext_data_list_distance, \n",
    "                    fasttext_data_list_testing, \n",
    "                    squealFlag=False, \n",
    "                    dim=300, \n",
    "                    pretrainedVectors=\"twiqs-model-2020.vec\")"
   ]
  },
  {
   "cell_type": "code",
   "execution_count": 136,
   "metadata": {},
   "outputs": [],
   "source": [
    "if False:\n",
    "    store_fasttext_data(predictionLabelsTestDT, \"predictionLabelsTestDT.pickle\")"
   ]
  },
  {
   "cell_type": "code",
   "execution_count": 137,
   "metadata": {},
   "outputs": [],
   "source": [
    "predictionLabelsTestDT = read_fasttext_data(\"predictionLabelsTestDT.pickle\")\n",
    "predictionLabelsTestTT = read_fasttext_data(\"predictionLabelsTestTT.pickle\")"
   ]
  },
  {
   "cell_type": "code",
   "execution_count": 138,
   "metadata": {},
   "outputs": [],
   "source": [
    "time_factor = 3\n",
    "data_predicted_dt = make_data_predicted(predictionLabelsTestDT, tweet_ids_testing, time_factor=time_factor)\n",
    "data_predicted_tt = make_data_predicted(predictionLabelsTestTT, tweet_ids_testing, time_factor=time_factor)"
   ]
  },
  {
   "cell_type": "code",
   "execution_count": 139,
   "metadata": {},
   "outputs": [],
   "source": [
    "gold = []\n",
    "for tweet in fasttext_data_list_testing:\n",
    "    gold.append(tweet.split()[0])\n",
    "\n",
    "data_gold = {}\n",
    "for i in range(0, len(tweet_ids_testing)):\n",
    "    summary = str(tweet_ids_testing[i])[0:time_factor]\n",
    "    if summary not in data_gold:\n",
    "        data_gold[summary] = []\n",
    "    data_gold[summary].append(gold[i])"
   ]
  },
  {
   "cell_type": "code",
   "execution_count": 140,
   "metadata": {},
   "outputs": [
    {
     "data": {
      "image/png": "[encoded data removed]",
      "text/plain": [
       "<Figure size 432x288 with 1 Axes>"
      ]
     },
     "metadata": {
      "needs_background": "light"
     },
     "output_type": "display_data"
    }
   ],
   "source": [
    "plot_data_predicted_dt = convert(data_predicted_dt)\n",
    "plot_data_predicted_tt = convert(data_predicted_tt)\n",
    "plot_data_gold = convert(data_gold)\n",
    "\n",
    "x_gold = [x[0] for x in plot_data_gold]\n",
    "y_gold = [x[1] for x in plot_data_gold]\n",
    "x_df = [x[0] for x in plot_data_predicted_dt]\n",
    "y_df = [x[1] for x in plot_data_predicted_dt]\n",
    "x_ff = [x[0] for x in plot_data_predicted_tt]\n",
    "y_ff = [x[1] for x in plot_data_predicted_tt]\n",
    "plt.plot(x_df, y_df, label=\"predicted (out-of-domain)\")\n",
    "plt.plot(x_ff, y_ff, label=\"predicted (in-domain)\")\n",
    "plt.plot(x_gold, y_gold, label=\"gold\")\n",
    "plt.legend()\n",
    "plt.title(\"predicting testing with social distancing data\")\n",
    "plt.savefig(\"distancing-to-testing.png\")\n",
    "plt.show()"
   ]
  },
  {
   "cell_type": "markdown",
   "metadata": {},
   "source": [
    "## 3. Use extra data in training (ALL)"
   ]
  },
  {
   "cell_type": "code",
   "execution_count": 167,
   "metadata": {},
   "outputs": [],
   "source": [
    "def runFasttextPlus(fasttextData1,\n",
    "                    fasttextData2,\n",
    "                    dim=DIM,\n",
    "                    epoch=EPOCH,\n",
    "                    lr=LR,\n",
    "                    n=N,\n",
    "                    squealFlag=True,\n",
    "                    maxTrain=None,\n",
    "                    pretrainedVectors=None,\n",
    "                    extraFasttextData=None):\n",
    "    print(f\"data size 1={len(fasttextData1)}, data size 2={len(fasttextData2)}, dim={dim}, epoch={epoch}, lr={lr}, pretrainedVectors={pretrainedVectors}\")\n",
    "    predictionCountsTest = []\n",
    "    predictionLabelsTest = []\n",
    "    predictionCountsValidation = []\n",
    "    predictionLabelsValidation = []\n",
    "    for fold in range(0,n):\n",
    "        if squealFlag:\n",
    "            clear_output(wait=True)\n",
    "            print(\"starting fold\",fold)\n",
    "        testStart1 = round(fold*len(fasttextData1)/n)\n",
    "        testEnd1 = round((fold+1)*len(fasttextData1)/n)\n",
    "        testStart2 = round(fold*len(fasttextData2)/n)\n",
    "        testEnd2 = round((fold+1)*len(fasttextData2)/n)\n",
    "        if fold < n-1: nextFold = fold+1\n",
    "        else: nextFold = 0\n",
    "        validationStart1 = round(nextFold*len(fasttextData1)/n)\n",
    "        validationEnd1 = round((nextFold+1)*len(fasttextData1)/n)\n",
    "        validationStart2 = round(nextFold*len(fasttextData2)/n)\n",
    "        validationEnd2 = round((nextFold+1)*len(fasttextData2)/n)\n",
    "        trainFile = open(TRAIN,\"w\")\n",
    "        testFile = open(TEST,\"w\")\n",
    "        validationFile = open(VALIDATION,\"w\")\n",
    "        trainData = []\n",
    "        validationData = []\n",
    "        testData = []\n",
    "        for i in range(0,len(fasttextData1)):\n",
    "            data = fasttextData1[i]\n",
    "            if i >= testStart1 and i < testEnd1: \n",
    "                pass\n",
    "            elif i >= validationStart1 and i < validationEnd1: \n",
    "                pass\n",
    "            else: \n",
    "                print(data,file=trainFile)\n",
    "                trainData.append(data)\n",
    "        for i in range(0,len(fasttextData2)):\n",
    "            data = fasttextData2[i]\n",
    "            if i >= testStart2 and i < testEnd2: \n",
    "                print(data,file=testFile)\n",
    "                testData.append(data)\n",
    "            elif i >= validationStart2 and i < validationEnd2: \n",
    "                print(data,file=validationFile)\n",
    "                validationData.append(data)\n",
    "        if extraFasttextData != None:\n",
    "            for i in range(0,len(extraFasttextData)):\n",
    "                data = extraFasttextData[i]\n",
    "                print(data,file=trainFile)\n",
    "                trainData.append(data)\n",
    "        testFile.close()\n",
    "        trainFile.close()\n",
    "        validationFile.close()\n",
    "        if not maxTrain == None and maxTrain < len(trainData):\n",
    "            trainData = ranSelect(trainData,maxTrain)\n",
    "            trainFile = open(TRAIN,\"w\")\n",
    "            for i in range(0,len(trainData)):\n",
    "                print(trainData[i],file=trainFile)\n",
    "            trainFile.close()\n",
    "        if pretrainedVectors == None:\n",
    "            model = fasttext.train_supervised(TRAIN, dim=dim, epoch=epoch, lr=lr)\n",
    "        else:\n",
    "            model = fasttext.train_supervised(TRAIN, dim=dim, epoch=epoch, lr=lr, pretrainedVectors=pretrainedVectors)\n",
    "        predictionCountsValidation.append([*model.test(VALIDATION)])\n",
    "        predictionLabelsValidation.append(model.predict(validationData, k=3))\n",
    "        predictionCountsTest.append([*model.test(TEST)])\n",
    "        predictionLabelsTest.append(model.predict(testData, k=3))\n",
    "        print(fold, end=\" \")\n",
    "        evaluate([[*model.test(TEST)]], [model.predict(testData)], fasttextData2[testStart2:testEnd2])\n",
    "        os.unlink(TRAIN)\n",
    "        os.unlink(TEST)\n",
    "        os.unlink(VALIDATION)\n",
    "    print(\"\", end=\" \")\n",
    "    evaluate(predictionCountsTest, predictionLabelsTest, fasttextData2, printMatrix=True)\n",
    "    if squealFlag:\n",
    "        clear_output(wait=True)\n",
    "        print(\"finished\")\n",
    "    return(predictionCountsValidation,predictionLabelsValidation,predictionCountsTest,predictionLabelsTest)"
   ]
  },
  {
   "cell_type": "code",
   "execution_count": 440,
   "metadata": {},
   "outputs": [
    {
     "name": "stdout",
     "output_type": "stream",
     "text": [
      "data size 1=1181, data size 2=1181, dim=300, epoch=200, lr=0.2, pretrainedVectors=twiqs-model-2020-exf.vec\n",
      "0 cases: 118; precision: 0.449; recall: 0.449; fraction: 3.044\n",
      "1 cases: 118; precision: 0.424; recall: 0.424; fraction: 1.130\n",
      "2 cases: 118; precision: 0.525; recall: 0.525; fraction: 2.683\n",
      "3 cases: 118; precision: 0.517; recall: 0.517; fraction: 1.083\n",
      "4 cases: 118; precision: 0.576; recall: 0.576; fraction: 0.897\n",
      "5 cases: 119; precision: 0.538; recall: 0.538; fraction: 0.316\n",
      "6 cases: 118; precision: 0.602; recall: 0.602; fraction: 0.500\n",
      "7 cases: 118; precision: 0.551; recall: 0.551; fraction: 0.668\n",
      "8 cases: 118; precision: 0.602; recall: 0.602; fraction: 0.857\n",
      "9 cases: 118; precision: 0.627; recall: 0.627; fraction: 0.889\n",
      " col_0                __label__IRRELEVANT  __label__REJECTS  __label__SUPPORTS\n",
      "row_0                                                                        \n",
      "__label__IRRELEVANT                  376                77                178\n",
      "__label__REJECTS                      82                93                 35\n",
      "__label__SUPPORTS                    141                29                170\n",
      "cases: 1181; precision: 0.541; recall: 0.541; fraction: 0.841\n"
     ]
    }
   ],
   "source": [
    "predictionCountsValidationETT, predictionLabelsValidationETT, predictionCountsTestETT, predictionLabelsTestETT = \\\n",
    "    runFasttextPlus(fasttext_data_list_testing, \n",
    "                    fasttext_data_list_testing, \n",
    "                    squealFlag=False, \n",
    "                    pretrainedVectors=\"twiqs-model-2020-exf.vec\",\n",
    "                    extraFasttextData=fasttext_data_list_distance)"
   ]
  },
  {
   "cell_type": "code",
   "execution_count": 441,
   "metadata": {},
   "outputs": [],
   "source": [
    "store_fasttext_data(predictionLabelsTestETT, f\"predictionLabelsTestETT-{DIM}-{EPOCH}-{LR}.pickle\")"
   ]
  },
  {
   "cell_type": "code",
   "execution_count": 471,
   "metadata": {},
   "outputs": [
    {
     "name": "stdout",
     "output_type": "stream",
     "text": [
      "data size 1=1011, data size 2=1011, dim=300, epoch=200, lr=0.2, pretrainedVectors=twiqs-model-2020-exf.vec\n",
      "0 cases: 101; precision: 0.574; recall: 0.574; fraction: 6.667\n",
      "1 cases: 101; precision: 0.525; recall: 0.525; fraction: 0.879\n",
      "2 cases: 101; precision: 0.614; recall: 0.614; fraction: 0.649\n",
      "3 cases: 101; precision: 0.465; recall: 0.465; fraction: 2.122\n",
      "4 cases: 102; precision: 0.510; recall: 0.510; fraction: 3.028\n",
      "5 cases: 101; precision: 0.564; recall: 0.564; fraction: 0.875\n",
      "6 cases: 101; precision: 0.624; recall: 0.624; fraction: 0.383\n",
      "7 cases: 101; precision: 0.485; recall: 0.485; fraction: 0.393\n",
      "8 cases: 101; precision: 0.545; recall: 0.545; fraction: 0.421\n",
      "9 cases: 101; precision: 0.525; recall: 0.525; fraction: 0.263\n",
      " col_0                __label__IRRELEVANT  __label__REJECTS  __label__SUPPORTS\n",
      "row_0                                                                        \n",
      "__label__IRRELEVANT                  348                78                132\n",
      "__label__REJECTS                      90               105                 44\n",
      "__label__SUPPORTS                     76                42                 96\n",
      "cases: 1011; precision: 0.543; recall: 0.543; fraction: 0.741\n"
     ]
    }
   ],
   "source": [
    "predictionCountsValidationEFT, predictionLabelsValidationEFT, predictionCountsTestEFT, predictionLabelsTestEFT = \\\n",
    "    runFasttextPlus(fasttext_data_list_facemask, \n",
    "                    fasttext_data_list_facemask, \n",
    "                    squealFlag=False, \n",
    "                    pretrainedVectors=\"twiqs-model-2020-exf.vec\",\n",
    "                    extraFasttextData=fasttext_data_list_distance)"
   ]
  },
  {
   "cell_type": "code",
   "execution_count": 472,
   "metadata": {},
   "outputs": [],
   "source": [
    "store_fasttext_data(predictionLabelsTestEFT, f\"predictionLabelsTestEFT-{DIM}-{EPOCH}-{LR}.pickle\")"
   ]
  },
  {
   "cell_type": "code",
   "execution_count": 473,
   "metadata": {},
   "outputs": [
    {
     "name": "stdout",
     "output_type": "stream",
     "text": [
      "data size 1=1007, data size 2=1007, dim=300, epoch=200, lr=0.2, pretrainedVectors=twiqs-model-2020-exf.vec\n",
      "0 cases: 101; precision: 0.624; recall: 0.624; fraction: 1.138\n",
      "1 cases: 100; precision: 0.690; recall: 0.690; fraction: 0.406\n",
      "2 cases: 101; precision: 0.604; recall: 0.604; fraction: 0.296\n",
      "3 cases: 101; precision: 0.594; recall: 0.594; fraction: 0.181\n",
      "4 cases: 101; precision: 0.406; recall: 0.406; fraction: 0.416\n",
      "5 cases: 100; precision: 0.580; recall: 0.580; fraction: 0.165\n",
      "6 cases: 101; precision: 0.624; recall: 0.624; fraction: 0.478\n",
      "7 cases: 101; precision: 0.574; recall: 0.574; fraction: 0.671\n",
      "8 cases: 100; precision: 0.540; recall: 0.540; fraction: 0.903\n",
      "9 cases: 101; precision: 0.485; recall: 0.485; fraction: 1.300\n",
      " col_0                __label__IRRELEVANT  __label__REJECTS  __label__SUPPORTS\n",
      "row_0                                                                        \n",
      "__label__IRRELEVANT                  428               111                 99\n",
      "__label__REJECTS                     121               114                 30\n",
      "__label__SUPPORTS                     55                15                 34\n",
      "cases: 1007; precision: 0.572; recall: 0.572; fraction: 0.578\n"
     ]
    }
   ],
   "source": [
    "predictionCountsValidationEVT, predictionLabelsValidationEVT, predictionCountsTestEVT, predictionLabelsTestEVT = \\\n",
    "    runFasttextPlus(fasttext_data_list_vaccination, \n",
    "                    fasttext_data_list_vaccination, \n",
    "                    squealFlag=False, \n",
    "                    pretrainedVectors=\"twiqs-model-2020-exf.vec\",\n",
    "                    extraFasttextData=fasttext_data_list_distance)"
   ]
  },
  {
   "cell_type": "code",
   "execution_count": 474,
   "metadata": {},
   "outputs": [],
   "source": [
    "store_fasttext_data(predictionLabelsTestEVT, f\"predictionLabelsTestEVT-{DIM}-{EPOCH}-{LR}.pickle\")"
   ]
  },
  {
   "cell_type": "markdown",
   "metadata": {},
   "source": [
    "## 4. Relevance experiments\n",
    "\n",
    "For the Relevance Only (5. RLVONLY) experiment, we need relevance preprocessing. This is a easier (binary) task which is handled here. "
   ]
  },
  {
   "cell_type": "code",
   "execution_count": 162,
   "metadata": {},
   "outputs": [],
   "source": [
    "def make_binary_fasttext_data(fasttext_data_list_in):\n",
    "    fasttext_data_list_out = []\n",
    "    for text in fasttext_data_list_in:\n",
    "        text = re.sub(r'__label__SUPPORTS ', r'__label__RELEVANT ', text)\n",
    "        text = re.sub(r'__label__REJECTS ', r'__label__RELEVANT ', text)\n",
    "        fasttext_data_list_out.append(text)\n",
    "    return fasttext_data_list_out"
   ]
  },
  {
   "cell_type": "code",
   "execution_count": 165,
   "metadata": {},
   "outputs": [],
   "source": [
    "fasttext_data_list_facemask_binary = make_binary_fasttext_data(fasttext_data_list_facemask)"
   ]
  },
  {
   "cell_type": "code",
   "execution_count": 172,
   "metadata": {},
   "outputs": [
    {
     "name": "stdout",
     "output_type": "stream",
     "text": [
      "data size 1=1011, data size 2=1011, dim=300, epoch=200, lr=0.2, pretrainedVectors=twiqs-model-2020.vec\n",
      "0 cases: 101; precision: 0.663; recall: 0.663; fraction: 0.000\n",
      "1 cases: 101; precision: 0.713; recall: 0.713; fraction: 0.000\n",
      "2 cases: 101; precision: 0.703; recall: 0.703; fraction: 0.000\n",
      "3 cases: 101; precision: 0.594; recall: 0.594; fraction: 0.000\n",
      "4 cases: 102; precision: 0.686; recall: 0.686; fraction: 0.000\n",
      "5 cases: 101; precision: 0.584; recall: 0.584; fraction: 0.000\n",
      "6 cases: 101; precision: 0.634; recall: 0.634; fraction: 0.000\n",
      "7 cases: 101; precision: 0.554; recall: 0.554; fraction: 0.000\n",
      "8 cases: 101; precision: 0.604; recall: 0.604; fraction: 0.000\n",
      "9 cases: 101; precision: 0.604; recall: 0.604; fraction: 0.000\n",
      " col_0                __label__IRRELEVANT  __label__RELEVANT\n",
      "row_0                                                      \n",
      "__label__IRRELEVANT                  380                178\n",
      "__label__RELEVANT                    192                261\n",
      "cases: 1011; precision: 0.634; recall: 0.634; fraction: 0.000\n"
     ]
    }
   ],
   "source": [
    "predictionCountsValidationFFB, predictionLabelsValidationFFB, predictionCountsTestFFB, predictionLabelsTestFFB = \\\n",
    "    runFasttext(fasttext_data_list_facemask_binary, fasttext_data_list_facemask_binary, squealFlag=False, pretrainedVectors=\"twiqs-model-2020.vec\")"
   ]
  },
  {
   "cell_type": "code",
   "execution_count": 173,
   "metadata": {},
   "outputs": [],
   "source": [
    "store_fasttext_data(predictionLabelsTestFFB, f\"predictionLabelsTestFFB-{DIM}-{EPOCH}-{LR}.pickle\")"
   ]
  },
  {
   "cell_type": "code",
   "execution_count": 174,
   "metadata": {},
   "outputs": [],
   "source": [
    "fasttext_data_list_testing_binary = make_binary_fasttext_data(fasttext_data_list_testing)"
   ]
  },
  {
   "cell_type": "code",
   "execution_count": 175,
   "metadata": {},
   "outputs": [
    {
     "name": "stdout",
     "output_type": "stream",
     "text": [
      "data size 1=1181, data size 2=1181, dim=300, epoch=200, lr=0.2, pretrainedVectors=twiqs-model-2020.vec\n",
      "0 cases: 118; precision: 0.576; recall: 0.576; fraction: 0.000\n",
      "1 cases: 118; precision: 0.619; recall: 0.619; fraction: 0.000\n",
      "2 cases: 118; precision: 0.686; recall: 0.686; fraction: 0.000\n",
      "3 cases: 118; precision: 0.593; recall: 0.593; fraction: 0.000\n",
      "4 cases: 118; precision: 0.627; recall: 0.627; fraction: 0.000\n",
      "5 cases: 119; precision: 0.639; recall: 0.639; fraction: 0.000\n",
      "6 cases: 118; precision: 0.619; recall: 0.619; fraction: 0.000\n",
      "7 cases: 118; precision: 0.754; recall: 0.754; fraction: 0.000\n",
      "8 cases: 118; precision: 0.576; recall: 0.576; fraction: 0.000\n",
      "9 cases: 118; precision: 0.610; recall: 0.610; fraction: 0.000\n",
      " col_0                __label__IRRELEVANT  __label__RELEVANT\n",
      "row_0                                                      \n",
      "__label__IRRELEVANT                  428                203\n",
      "__label__RELEVANT                    234                316\n",
      "cases: 1181; precision: 0.630; recall: 0.630; fraction: 0.000\n"
     ]
    }
   ],
   "source": [
    "predictionCountsValidationTTB, predictionLabelsValidationTTB, predictionCountsTestTTB, predictionLabelsTestTTB = \\\n",
    "    runFasttext(fasttext_data_list_testing_binary, fasttext_data_list_testing_binary, squealFlag=False, pretrainedVectors=\"twiqs-model-2020.vec\")"
   ]
  },
  {
   "cell_type": "code",
   "execution_count": 176,
   "metadata": {},
   "outputs": [],
   "source": [
    "store_fasttext_data(predictionLabelsTestTTB, f\"predictionLabelsTestTTB-{DIM}-{EPOCH}-{LR}.pickle\")"
   ]
  },
  {
   "cell_type": "code",
   "execution_count": 177,
   "metadata": {},
   "outputs": [],
   "source": [
    "fasttext_data_list_vaccination_binary = make_binary_fasttext_data(fasttext_data_list_vaccination)"
   ]
  },
  {
   "cell_type": "code",
   "execution_count": 178,
   "metadata": {},
   "outputs": [
    {
     "name": "stdout",
     "output_type": "stream",
     "text": [
      "data size 1=1007, data size 2=1007, dim=300, epoch=200, lr=0.2, pretrainedVectors=twiqs-model-2020.vec\n",
      "0 cases: 101; precision: 0.663; recall: 0.663; fraction: 0.000\n",
      "1 cases: 100; precision: 0.680; recall: 0.680; fraction: 0.000\n",
      "2 cases: 101; precision: 0.713; recall: 0.713; fraction: 0.000\n",
      "3 cases: 101; precision: 0.673; recall: 0.673; fraction: 0.000\n",
      "4 cases: 101; precision: 0.574; recall: 0.574; fraction: 0.000\n",
      "5 cases: 100; precision: 0.570; recall: 0.570; fraction: 0.000\n",
      "6 cases: 101; precision: 0.584; recall: 0.584; fraction: 0.000\n",
      "7 cases: 101; precision: 0.515; recall: 0.515; fraction: 0.000\n",
      "8 cases: 100; precision: 0.580; recall: 0.580; fraction: 0.000\n",
      "9 cases: 101; precision: 0.594; recall: 0.594; fraction: 0.000\n",
      " col_0                __label__IRRELEVANT  __label__RELEVANT\n",
      "row_0                                                      \n",
      "__label__IRRELEVANT                  466                172\n",
      "__label__RELEVANT                    216                153\n",
      "cases: 1007; precision: 0.615; recall: 0.615; fraction: 0.000\n"
     ]
    }
   ],
   "source": [
    "predictionCountsValidationVVB, predictionLabelsValidationVVB, predictionCountsTestVVB, predictionLabelsTestVVB = \\\n",
    "    runFasttext(fasttext_data_list_vaccination_binary, fasttext_data_list_vaccination_binary, squealFlag=False, pretrainedVectors=\"twiqs-model-2020.vec\")"
   ]
  },
  {
   "cell_type": "code",
   "execution_count": 179,
   "metadata": {},
   "outputs": [],
   "source": [
    "store_fasttext_data(predictionLabelsTestVVB, f\"predictionLabelsTestVVB-{DIM}-{EPOCH}-{LR}.pickle\")"
   ]
  },
  {
   "cell_type": "markdown",
   "metadata": {},
   "source": [
    "## 5. Use relevant data only (RLVONLY)"
   ]
  },
  {
   "cell_type": "code",
   "execution_count": 151,
   "metadata": {},
   "outputs": [],
   "source": [
    "def remove_irrelevant_annotated_data(fasttext_data_list):\n",
    "    return [annotated_text for annotated_text in fasttext_data_list if not re.search(r'^__label__IRRELEVANT ', annotated_text)]\n",
    "\n",
    "\n",
    "def remove_irrelevant_predicted_data(predictionLabelsTest, fasttext_data_list):\n",
    "    prediction_labels = get_prediction_labels_list(predictionLabelsTest)\n",
    "    assert len(prediction_labels) == len(fasttext_data_list), \"remove_irrelevant_data: lists have different lengths\"\n",
    "    fasttext_data_list_selected = []\n",
    "    for i in range(0, len(prediction_labels)):\n",
    "        if prediction_labels[i] != \"__label__IRRELEVANT\":\n",
    "            fasttext_data_list_selected.append(fasttext_data_list[i])\n",
    "    return fasttext_data_list_selected\n",
    "\n",
    "\n",
    "def restore_irrelevant_predicted_data(prediction_labels_in, prediction_labels_relevant):\n",
    "    prediction_labels = list(prediction_labels_in)\n",
    "    prediction_labels_relevant_index = 0\n",
    "    for i in range(0, len(prediction_labels)):\n",
    "        if prediction_labels[i] != \"__label__IRRELEVANT\":\n",
    "            prediction_labels[i] = prediction_labels_relevant[prediction_labels_relevant_index]\n",
    "            prediction_labels_relevant_index += 1\n",
    "    assert prediction_labels_relevant_index == len(prediction_labels_relevant), \\\n",
    "           f\"restore_irrelevant_predicted_data: length mismatch: {prediction_labels_relevant_index} {len(prediction_labels_relevant)}\"\n",
    "    return prediction_labels\n",
    "\n",
    "\n",
    "def save_fasttext_data(fasttext_data_list, file_name):\n",
    "    out_file = open(file_name, \"w\")\n",
    "    for line in fasttext_data_list:\n",
    "        print(line, file=out_file)\n",
    "    out_file.close()"
   ]
  },
  {
   "cell_type": "code",
   "execution_count": 83,
   "metadata": {},
   "outputs": [],
   "source": [
    "def make_relevant_model(fasttext_data_list):\n",
    "    fasttext_data_list_selected = remove_irrelevant_annotated_data(fasttext_data_list)\n",
    "    print(f\"building relevant model from: data_size={len(fasttext_data_list_selected)}, dim={DIM}, epoch={EPOCH}, lr={LR}\")\n",
    "    tmp_file_name = str(uuid.uuid1())\n",
    "    save_fasttext_data(fasttext_data_list_distance_selected, tmp_file_name)\n",
    "    model_relevant = fasttext.train_supervised(tmp_file_name, dim=DIM, epoch=EPOCH, lr=LR, pretrainedVectors=\"twiqs-model-2020.vec\")\n",
    "    os.remove(tmp_file_name)\n",
    "    return model_relevant"
   ]
  },
  {
   "cell_type": "code",
   "execution_count": 66,
   "metadata": {},
   "outputs": [
    {
     "name": "stdout",
     "output_type": "stream",
     "text": [
      "building model from: data_size=4364, dim=300, epoch=200, lr=0.2\n"
     ]
    }
   ],
   "source": [
    "model_relevant = make_relevant_model(fasttext_data_list_distance)"
   ]
  },
  {
   "cell_type": "code",
   "execution_count": 447,
   "metadata": {},
   "outputs": [],
   "source": [
    "def run_relevant_experiment(model_relevant, result_file_name, fasttext_data_list):\n",
    "    predictionLabelsTest = read_fasttext_data(result_file_name)\n",
    "    fasttext_data_list_selected = remove_irrelevant_data(predictionLabelsTest, fasttext_data_list)\n",
    "    prediction_labels_relevant = model_relevant.predict(fasttext_data_list_selected)\n",
    "    prediction_labels_relevant_complete = restore_irrelevant_predicted_data(get_prediction_labels_list(predictionLabelsTest), get_prediction_labels_list([prediction_labels_relevant]))\n",
    "    accuracy = compute_accuracy(prediction_labels_relevant_complete, fasttext_data_list)\n",
    "    accuracy_phase_1 = compute_accuracy(get_prediction_labels_list(predictionLabelsTest), fasttext_data_list)\n",
    "    gold_labels_selected = [annotated_text.split(\" \")[0] for annotated_text in fasttext_data_list_selected]\n",
    "    accuracy_phase_1_plus_gold = compute_accuracy(restore_irrelevant_predicted_data(get_prediction_labels_list(predictionLabelsTest), gold_labels_selected), fasttext_data_list) \n",
    "    print(f\"accuracy (phase 1): {accuracy_phase_1}, accuracy (phase 1 plus gold): {accuracy_phase_1_plus_gold}, accuracy (phase 2): {accuracy}\")\n",
    "    \n",
    "    \n",
    "def run_relevant_experiment_binary(model_relevant, result_file_name, fasttext_data_list):\n",
    "    predictionLabelsTest = read_fasttext_data(result_file_name)\n",
    "    fasttext_data_list_selected = remove_irrelevant_data(predictionLabelsTest, fasttext_data_list)\n",
    "    prediction_labels_relevant = model_relevant.predict(fasttext_data_list_selected)\n",
    "    prediction_labels_relevant_complete = restore_irrelevant_predicted_data(get_prediction_labels_list(predictionLabelsTest), get_prediction_labels_list([prediction_labels_relevant]))\n",
    "    accuracy = compute_accuracy(prediction_labels_relevant_complete, fasttext_data_list)\n",
    "    accuracy_phase_1 = compute_accuracy(get_prediction_labels_list(predictionLabelsTest), make_binary_fasttext_data(fasttext_data_list))\n",
    "    gold_labels_selected = [annotated_text.split(\" \")[0] for annotated_text in fasttext_data_list_selected]\n",
    "    accuracy_phase_1_plus_gold = compute_accuracy(restore_irrelevant_predicted_data(get_prediction_labels_list(predictionLabelsTest), gold_labels_selected), fasttext_data_list) \n",
    "    print(f\"accuracy (phase 1): {accuracy_phase_1}, accuracy (phase 1 plus gold): {accuracy_phase_1_plus_gold}, accuracy (phase 2): {accuracy}\")\n",
    "    \n",
    "    \n",
    "def run_relevant_experiment_all(result_file_name, fasttext_data_list, fasttext_data_list_extra):\n",
    "    predictionLabelsTest = read_fasttext_data(result_file_name)\n",
    "    fasttext_data_list_selected = remove_irrelevant_data(predictionLabelsTest, fasttext_data_list)\n",
    "    fasttext_data_list_extra_selected = remove_irrelevant_annotated_data(fasttext_data_list_extra)\n",
    "    predictionCountsValidationRun, predictionLabelsValidationRun, predictionCountsTestRun, predictionLabelsTestRun = \\\n",
    "        runFasttextPlus(fasttext_data_list_selected, \n",
    "                        fasttext_data_list_selected, \n",
    "                        squealFlag=False, \n",
    "                        pretrainedVectors=\"twiqs-model-2020-exf.vec\",\n",
    "                        extraFasttextData=fasttext_data_list_extra_selected)\n",
    "    prediction_labels_relevant_complete = restore_irrelevant_predicted_data(get_prediction_labels_list(predictionLabelsTest), get_prediction_labels_list(predictionLabelsTestRun))\n",
    "    accuracy = compute_accuracy(prediction_labels_relevant_complete, fasttext_data_list)\n",
    "    store_fasttext_data(prediction_labels_relevant_complete, f\"{result_file_name}.RLV-{DIM}-{EPOCH}-{LR}.pickle\")\n",
    "    accuracy_phase_1 = compute_accuracy(get_prediction_labels_list(predictionLabelsTest), fasttext_data_list)\n",
    "    gold_labels_selected = [annotated_text.split(\" \")[0] for annotated_text in fasttext_data_list_selected]\n",
    "    accuracy_phase_1_plus_gold = compute_accuracy(restore_irrelevant_predicted_data(get_prediction_labels_list(predictionLabelsTest), gold_labels_selected), fasttext_data_list) \n",
    "    print(f\"accuracy (phase 1): {accuracy_phase_1}, accuracy (phase 1 plus gold): {accuracy_phase_1_plus_gold}, accuracy (phase 2): {accuracy}\")"
   ]
  },
  {
   "cell_type": "code",
   "execution_count": 189,
   "metadata": {},
   "outputs": [
    {
     "name": "stdout",
     "output_type": "stream",
     "text": [
      "accuracy (phase 1): 0.58, accuracy (phase 1 plus gold): 0.776, accuracy (phase 2): 0.55\n"
     ]
    }
   ],
   "source": [
    "run_relevant_experiment(model_relevant, f\"predictionLabelsTestFFT-{DIM}-{EPOCH}-{LR}.pickle\", fasttext_data_list_facemask)"
   ]
  },
  {
   "cell_type": "code",
   "execution_count": 184,
   "metadata": {},
   "outputs": [
    {
     "name": "stdout",
     "output_type": "stream",
     "text": [
      "accuracy (phase 1): 0.634, accuracy (phase 1 plus gold): 0.81, accuracy (phase 2): 0.525\n"
     ]
    }
   ],
   "source": [
    "run_relevant_experiment(model_relevant, f\"predictionLabelsTestFFB-{DIM}-{EPOCH}-{LR}.pickle\", fasttext_data_list_facemask)"
   ]
  },
  {
   "cell_type": "code",
   "execution_count": 475,
   "metadata": {},
   "outputs": [
    {
     "name": "stdout",
     "output_type": "stream",
     "text": [
      "data size 1=373, data size 2=373, dim=300, epoch=200, lr=0.2, pretrainedVectors=twiqs-model-2020-exf.vec\n",
      "0 cases: 37; precision: 0.243; recall: 0.243; fraction: 2.347\n",
      "1 cases: 38; precision: 0.395; recall: 0.395; fraction: 0.774\n",
      "2 cases: 37; precision: 0.378; recall: 0.378; fraction: 1.067\n",
      "3 cases: 37; precision: 0.432; recall: 0.432; fraction: 2.615\n",
      "4 cases: 37; precision: 0.459; recall: 0.459; fraction: 2.196\n",
      "5 cases: 38; precision: 0.553; recall: 0.553; fraction: 0.833\n",
      "6 cases: 37; precision: 0.486; recall: 0.486; fraction: 0.312\n",
      "7 cases: 37; precision: 0.432; recall: 0.432; fraction: 0.290\n",
      "8 cases: 38; precision: 0.316; recall: 0.316; fraction: 0.360\n",
      "9 cases: 37; precision: 0.486; recall: 0.486; fraction: 0.341\n",
      " col_0                __label__IRRELEVANT  __label__REJECTS  __label__SUPPORTS\n",
      "row_0                                                                        \n",
      "__label__IRRELEVANT                   23                51                 65\n",
      "__label__REJECTS                      25                72                 32\n",
      "__label__SUPPORTS                     22                22                 61\n",
      "cases: 373; precision: 0.418; recall: 0.418; fraction: 0.747\n",
      "accuracy (phase 1): 0.592, accuracy (phase 1 plus gold): 0.783, accuracy (phase 2): 0.569\n"
     ]
    }
   ],
   "source": [
    "run_relevant_experiment_all(f\"predictionLabelsTestFFT-{DIM}-{EPOCH}-{LR}.pickle\", fasttext_data_list_facemask, fasttext_data_list_distance)"
   ]
  },
  {
   "cell_type": "code",
   "execution_count": 448,
   "metadata": {},
   "outputs": [
    {
     "name": "stdout",
     "output_type": "stream",
     "text": [
      "accuracy (phase 1): 0.561, accuracy (phase 1 plus gold): 0.775, accuracy (phase 2): 0.547\n"
     ]
    }
   ],
   "source": [
    "run_relevant_experiment(model_relevant, f\"predictionLabelsTestTTT-{DIM}-{EPOCH}-{LR}.pickle\", fasttext_data_list_testing)"
   ]
  },
  {
   "cell_type": "code",
   "execution_count": 185,
   "metadata": {},
   "outputs": [
    {
     "name": "stdout",
     "output_type": "stream",
     "text": [
      "accuracy (phase 1): 0.63, accuracy (phase 1 plus gold): 0.802, accuracy (phase 2): 0.555\n"
     ]
    }
   ],
   "source": [
    "run_relevant_experiment(model_relevant, f\"predictionLabelsTestTTB-{DIM}-{EPOCH}-{LR}.pickle\", fasttext_data_list_testing)"
   ]
  },
  {
   "cell_type": "code",
   "execution_count": 476,
   "metadata": {},
   "outputs": [
    {
     "name": "stdout",
     "output_type": "stream",
     "text": [
      "data size 1=481, data size 2=481, dim=300, epoch=200, lr=0.2, pretrainedVectors=twiqs-model-2020-exf.vec\n",
      "0 cases: 48; precision: 0.188; recall: 0.188; fraction: 2.286\n",
      "1 cases: 48; precision: 0.438; recall: 0.438; fraction: 1.950\n",
      "2 cases: 48; precision: 0.417; recall: 0.417; fraction: 3.619\n",
      "3 cases: 48; precision: 0.500; recall: 0.500; fraction: 0.672\n",
      "4 cases: 48; precision: 0.562; recall: 0.562; fraction: 0.812\n",
      "5 cases: 49; precision: 0.592; recall: 0.592; fraction: 0.737\n",
      "6 cases: 48; precision: 0.521; recall: 0.521; fraction: 0.727\n",
      "7 cases: 48; precision: 0.688; recall: 0.688; fraction: 0.980\n",
      "8 cases: 48; precision: 0.542; recall: 0.542; fraction: 0.821\n",
      "9 cases: 48; precision: 0.562; recall: 0.562; fraction: 1.250\n",
      " col_0                __label__IRRELEVANT  __label__REJECTS  __label__SUPPORTS\n",
      "row_0                                                                        \n",
      "__label__IRRELEVANT                   65                49                 83\n",
      "__label__REJECTS                      19                74                 22\n",
      "__label__SUPPORTS                     47                20                102\n",
      "cases: 481; precision: 0.501; recall: 0.501; fraction: 1.015\n",
      "accuracy (phase 1): 0.561, accuracy (phase 1 plus gold): 0.775, accuracy (phase 2): 0.572\n"
     ]
    }
   ],
   "source": [
    "run_relevant_experiment_all(f\"predictionLabelsTestTTT-{DIM}-{EPOCH}-{LR}.pickle\", fasttext_data_list_testing, fasttext_data_list_distance)"
   ]
  },
  {
   "cell_type": "code",
   "execution_count": 160,
   "metadata": {},
   "outputs": [
    {
     "name": "stdout",
     "output_type": "stream",
     "text": [
      "accuracy (phase 1): 0.6, accuracy (phase 1 plus gold): 0.771, accuracy (phase 2): 0.576\n"
     ]
    }
   ],
   "source": [
    "run_relevant_experiment(model_relevant, f\"predictionLabelsTestVVT-{DIM}-{EPOCH}-{LR}.pickle\", fasttext_data_list_vaccination)"
   ]
  },
  {
   "cell_type": "code",
   "execution_count": 187,
   "metadata": {},
   "outputs": [
    {
     "name": "stdout",
     "output_type": "stream",
     "text": [
      "accuracy (phase 1): 0.615, accuracy (phase 1 plus gold): 0.786, accuracy (phase 2): 0.563\n"
     ]
    }
   ],
   "source": [
    "run_relevant_experiment(model_relevant, f\"predictionLabelsTestVVB-{DIM}-{EPOCH}-{LR}.pickle\", fasttext_data_list_vaccination)"
   ]
  },
  {
   "cell_type": "code",
   "execution_count": 477,
   "metadata": {},
   "outputs": [
    {
     "name": "stdout",
     "output_type": "stream",
     "text": [
      "data size 1=273, data size 2=273, dim=300, epoch=200, lr=0.2, pretrainedVectors=twiqs-model-2020-exf.vec\n",
      "0 cases: 27; precision: 0.222; recall: 0.222; fraction: 2.438\n",
      "1 cases: 28; precision: 0.179; recall: 0.179; fraction: 0.582\n",
      "2 cases: 27; precision: 0.407; recall: 0.407; fraction: 0.306\n",
      "3 cases: 27; precision: 0.370; recall: 0.370; fraction: 0.636\n",
      "4 cases: 27; precision: 0.556; recall: 0.556; fraction: 0.306\n",
      "5 cases: 28; precision: 0.464; recall: 0.464; fraction: 0.971\n",
      "6 cases: 27; precision: 0.296; recall: 0.296; fraction: 0.000\n",
      "7 cases: 27; precision: 0.259; recall: 0.259; fraction: 0.423\n",
      "8 cases: 28; precision: 0.143; recall: 0.143; fraction: 0.389\n",
      "9 cases: 27; precision: 0.370; recall: 0.370; fraction: 1.750\n",
      " col_0                __label__IRRELEVANT  __label__REJECTS  __label__SUPPORTS\n",
      "row_0                                                                        \n",
      "__label__IRRELEVANT                   31                64                 43\n",
      "__label__REJECTS                      46                50                 11\n",
      "__label__SUPPORTS                      6                14                  8\n",
      "cases: 273; precision: 0.326; recall: 0.326; fraction: 0.540\n",
      "accuracy (phase 1): 0.608, accuracy (phase 1 plus gold): 0.768, accuracy (phase 2): 0.585\n"
     ]
    }
   ],
   "source": [
    "run_relevant_experiment_all(f\"predictionLabelsTestVVT-{DIM}-{EPOCH}-{LR}.pickle\", fasttext_data_list_vaccination, fasttext_data_list_distance)"
   ]
  },
  {
   "cell_type": "markdown",
   "metadata": {},
   "source": [
    "## 6. Daume Feature Space Separation\n",
    "\n",
    "Schemes:\n",
    "1. [x] without setting initial word vectors for new vector spaces\n",
    "2. [ ] while also changing classes\n",
    "3. [x] while setting initial word vectors for new vector spaces"
   ]
  },
  {
   "cell_type": "code",
   "execution_count": 449,
   "metadata": {},
   "outputs": [],
   "source": [
    "def expand_features(fasttext_data_list_in, suffix):\n",
    "    fasttext_data_list_out = []\n",
    "    for text in fasttext_data_list_in:\n",
    "        tokens_in = text.split()\n",
    "        tokens_out = []\n",
    "        for token in tokens_in[1:]:\n",
    "            tokens_out.append(token + suffix)\n",
    "        fasttext_data_list_out.append(\" \".join(tokens_in + tokens_out))\n",
    "    return fasttext_data_list_out\n",
    "\n",
    "\n",
    "def run_relevant_experiment_expand_features(result_file_name, fasttext_data_list, fasttext_data_list_extra):\n",
    "    predictionLabelsTest = read_fasttext_data(result_file_name)\n",
    "    fasttext_data_list_selected = expand_features(remove_irrelevant_data(predictionLabelsTest, fasttext_data_list), \"@1\")\n",
    "    fasttext_data_list_extra_selected = expand_features(remove_irrelevant_annotated_data(fasttext_data_list_extra), \"@2\")\n",
    "    predictionCountsValidationRun, predictionLabelsValidationRun, predictionCountsTestRun, predictionLabelsTestRun = \\\n",
    "        runFasttextPlus(fasttext_data_list_selected, \n",
    "                        fasttext_data_list_selected, \n",
    "                        squealFlag=False, \n",
    "                        pretrainedVectors=\"twiqs-model-2020-exf.vec\",\n",
    "                        extraFasttextData=fasttext_data_list_extra_selected)\n",
    "    prediction_labels_relevant_complete = restore_irrelevant_predicted_data(get_prediction_labels_list(predictionLabelsTest), get_prediction_labels_list(predictionLabelsTestRun))\n",
    "    accuracy = compute_accuracy(prediction_labels_relevant_complete, fasttext_data_list)\n",
    "    accuracy_phase_1 = compute_accuracy(get_prediction_labels_list(predictionLabelsTest), fasttext_data_list)\n",
    "    gold_labels_selected = [annotated_text.split(\" \")[0] for annotated_text in fasttext_data_list_selected]\n",
    "    accuracy_phase_1_plus_gold = compute_accuracy(restore_irrelevant_predicted_data(get_prediction_labels_list(predictionLabelsTest), gold_labels_selected), fasttext_data_list) \n",
    "    print(f\"accuracy (phase 1): {accuracy_phase_1}, accuracy (phase 1 plus gold): {accuracy_phase_1_plus_gold}, accuracy (phase 2): {accuracy}\")"
   ]
  },
  {
   "cell_type": "code",
   "execution_count": 214,
   "metadata": {},
   "outputs": [],
   "source": [
    "def expand_features(fasttext_data_list_in, suffix):\n",
    "    fasttext_data_list_out = []\n",
    "    for text in fasttext_data_list_in:\n",
    "        tokens_in = text.split()\n",
    "        tokens_out = []\n",
    "        for token in tokens_in[1:]:\n",
    "            tokens_out.append(token + suffix)\n",
    "        fasttext_data_list_out.append(\" \".join(tokens_in + tokens_out))\n",
    "    return fasttext_data_list_out\n",
    "\n",
    "\n",
    "def run_relevant_experiment_expand_features(result_file_name, fasttext_data_list, fasttext_data_list_extra):\n",
    "    predictionLabelsTest = read_fasttext_data(result_file_name)\n",
    "    fasttext_data_list_selected = expand_features(remove_irrelevant_data(predictionLabelsTest, fasttext_data_list), \"@1\")\n",
    "    fasttext_data_list_extra_selected = expand_features(remove_irrelevant_annotated_data(fasttext_data_list_extra), \"@2\")\n",
    "    predictionCountsValidationRun, predictionLabelsValidationRun, predictionCountsTestRun, predictionLabelsTestRun = \\\n",
    "        runFasttextPlus(fasttext_data_list_selected, \n",
    "                        fasttext_data_list_selected, \n",
    "                        squealFlag=False, \n",
    "                        pretrainedVectors=\"twiqs-model-2020.vec\",\n",
    "                        extraFasttextData=fasttext_data_list_extra_selected)\n",
    "    prediction_labels_relevant_complete = restore_irrelevant_predicted_data(get_prediction_labels_list(predictionLabelsTest), get_prediction_labels_list(predictionLabelsTestRun))\n",
    "    accuracy = compute_accuracy(prediction_labels_relevant_complete, fasttext_data_list)\n",
    "    store_fasttext_data(prediction_labels_relevant_complete, f\"{result_file_name}.EXF-{DIM}-{EPOCH}-{LR}.pickle\")\n",
    "    accuracy_phase_1 = compute_accuracy(get_prediction_labels_list(predictionLabelsTest), fasttext_data_list)\n",
    "    gold_labels_selected = [annotated_text.split(\" \")[0] for annotated_text in fasttext_data_list_selected]\n",
    "    accuracy_phase_1_plus_gold = compute_accuracy(restore_irrelevant_predicted_data(get_prediction_labels_list(predictionLabelsTest), gold_labels_selected), fasttext_data_list) \n",
    "    print(f\"accuracy (phase 1): {accuracy_phase_1}, accuracy (phase 1 plus gold): {accuracy_phase_1_plus_gold}, accuracy (phase 2): {accuracy}\")\n",
    "    \n",
    "    \n",
    "def run_relevant_experiment_expand_features_new(result_file_name, fasttext_data_list, fasttext_data_list_extra, data_name):\n",
    "    predictionLabelsTest = read_fasttext_data(result_file_name)\n",
    "    fasttext_data_list_selected = expand_features(remove_irrelevant_data(predictionLabelsTest, fasttext_data_list), f\"@{data_name}\")\n",
    "    fasttext_data_list_extra_selected = expand_features(remove_irrelevant_annotated_data(fasttext_data_list_extra), \"@distance\")\n",
    "    predictionCountsValidationRun, predictionLabelsValidationRun, predictionCountsTestRun, predictionLabelsTestRun = \\\n",
    "        runFasttextPlus(fasttext_data_list_selected, \n",
    "                        fasttext_data_list_selected, \n",
    "                        squealFlag=False, \n",
    "                        pretrainedVectors=\"twiqs-model-2020-exf.vec\",\n",
    "                        extraFasttextData=fasttext_data_list_extra_selected)\n",
    "    prediction_labels_relevant_complete = restore_irrelevant_predicted_data(get_prediction_labels_list(predictionLabelsTest), get_prediction_labels_list(predictionLabelsTestRun))\n",
    "    accuracy = compute_accuracy(prediction_labels_relevant_complete, fasttext_data_list)\n",
    "    store_fasttext_data(prediction_labels_relevant_complete, f\"{result_file_name}.EXG-{DIM}-{EPOCH}-{LR}.pickle\")\n",
    "    accuracy_phase_1 = compute_accuracy(get_prediction_labels_list(predictionLabelsTest), fasttext_data_list)\n",
    "    gold_labels_selected = [annotated_text.split(\" \")[0] for annotated_text in fasttext_data_list_selected]\n",
    "    accuracy_phase_1_plus_gold = compute_accuracy(restore_irrelevant_predicted_data(get_prediction_labels_list(predictionLabelsTest), gold_labels_selected), fasttext_data_list) \n",
    "    print(f\"accuracy (phase 1): {accuracy_phase_1}, accuracy (phase 1 plus gold): {accuracy_phase_1_plus_gold}, accuracy (phase 2): {accuracy}\")"
   ]
  },
  {
   "cell_type": "code",
   "execution_count": 204,
   "metadata": {},
   "outputs": [
    {
     "name": "stdout",
     "output_type": "stream",
     "text": [
      "data size 1=371, data size 2=371, dim=300, epoch=200, lr=0.2, pretrainedVectors=twiqs-model-2020.vec\n",
      "0 cases: 37; precision: 0.405; recall: 0.405; fraction: 2.133\n",
      "1 cases: 37; precision: 0.378; recall: 0.378; fraction: 0.798\n",
      "2 cases: 37; precision: 0.459; recall: 0.459; fraction: 0.779\n",
      "3 cases: 37; precision: 0.351; recall: 0.351; fraction: 1.970\n",
      "4 cases: 38; precision: 0.368; recall: 0.368; fraction: 1.981\n",
      "5 cases: 37; precision: 0.378; recall: 0.378; fraction: 0.675\n",
      "6 cases: 37; precision: 0.486; recall: 0.486; fraction: 1.007\n",
      "7 cases: 37; precision: 0.486; recall: 0.486; fraction: 0.339\n",
      "8 cases: 37; precision: 0.378; recall: 0.378; fraction: 0.641\n",
      "9 cases: 37; precision: 0.432; recall: 0.432; fraction: 0.364\n",
      " col_0                __label__IRRELEVANT  __label__REJECTS  __label__SUPPORTS\n",
      "row_0                                                                        \n",
      "__label__IRRELEVANT                   46                39                 59\n",
      "__label__REJECTS                      42                61                 19\n",
      "__label__SUPPORTS                     41                18                 46\n",
      "cases: 371; precision: 0.412; recall: 0.412; fraction: 0.819\n",
      "accuracy (phase 1): 0.58, accuracy (phase 1 plus gold): 0.776, accuracy (phase 2): 0.561\n"
     ]
    }
   ],
   "source": [
    "run_relevant_experiment_expand_features(f\"predictionLabelsTestFFT-{DIM}-{EPOCH}-{LR}.pickle\", fasttext_data_list_facemask, fasttext_data_list_distance)"
   ]
  },
  {
   "cell_type": "code",
   "execution_count": 450,
   "metadata": {},
   "outputs": [
    {
     "name": "stdout",
     "output_type": "stream",
     "text": [
      "data size 1=481, data size 2=481, dim=300, epoch=200, lr=0.2, pretrainedVectors=twiqs-model-2020-exf.vec\n",
      "0 cases: 48; precision: 0.312; recall: 0.312; fraction: 2.800\n",
      "1 cases: 48; precision: 0.500; recall: 0.500; fraction: 0.867\n",
      "2 cases: 48; precision: 0.417; recall: 0.417; fraction: 3.800\n",
      "3 cases: 48; precision: 0.479; recall: 0.479; fraction: 0.886\n",
      "4 cases: 48; precision: 0.667; recall: 0.667; fraction: 0.645\n"
     ]
    },
    {
     "ename": "KeyboardInterrupt",
     "evalue": "",
     "output_type": "error",
     "traceback": [
      "\u001b[0;31m---------------------------------------------------------------------------\u001b[0m",
      "\u001b[0;31mKeyboardInterrupt\u001b[0m                         Traceback (most recent call last)",
      "\u001b[0;32m<ipython-input-450-cc4cfe11df0f>\u001b[0m in \u001b[0;36m<module>\u001b[0;34m\u001b[0m\n\u001b[0;32m----> 1\u001b[0;31m \u001b[0mrun_relevant_experiment_expand_features\u001b[0m\u001b[0;34m(\u001b[0m\u001b[0;34mf\"predictionLabelsTestTTT-{DIM}-{EPOCH}-{LR}.pickle\"\u001b[0m\u001b[0;34m,\u001b[0m \u001b[0mfasttext_data_list_testing\u001b[0m\u001b[0;34m,\u001b[0m \u001b[0mfasttext_data_list_distance\u001b[0m\u001b[0;34m)\u001b[0m\u001b[0;34m\u001b[0m\u001b[0;34m\u001b[0m\u001b[0m\n\u001b[0m",
      "\u001b[0;32m<ipython-input-449-201d0d6c2742>\u001b[0m in \u001b[0;36mrun_relevant_experiment_expand_features\u001b[0;34m(result_file_name, fasttext_data_list, fasttext_data_list_extra)\u001b[0m\n\u001b[1;32m     19\u001b[0m                         \u001b[0msquealFlag\u001b[0m\u001b[0;34m=\u001b[0m\u001b[0;32mFalse\u001b[0m\u001b[0;34m,\u001b[0m\u001b[0;34m\u001b[0m\u001b[0;34m\u001b[0m\u001b[0m\n\u001b[1;32m     20\u001b[0m                         \u001b[0mpretrainedVectors\u001b[0m\u001b[0;34m=\u001b[0m\u001b[0;34m\"twiqs-model-2020-exf.vec\"\u001b[0m\u001b[0;34m,\u001b[0m\u001b[0;34m\u001b[0m\u001b[0;34m\u001b[0m\u001b[0m\n\u001b[0;32m---> 21\u001b[0;31m                         extraFasttextData=fasttext_data_list_extra_selected)\n\u001b[0m\u001b[1;32m     22\u001b[0m     \u001b[0mprediction_labels_relevant_complete\u001b[0m \u001b[0;34m=\u001b[0m \u001b[0mrestore_irrelevant_predicted_data\u001b[0m\u001b[0;34m(\u001b[0m\u001b[0mget_prediction_labels_list\u001b[0m\u001b[0;34m(\u001b[0m\u001b[0mpredictionLabelsTest\u001b[0m\u001b[0;34m)\u001b[0m\u001b[0;34m,\u001b[0m \u001b[0mget_prediction_labels_list\u001b[0m\u001b[0;34m(\u001b[0m\u001b[0mpredictionLabelsTestRun\u001b[0m\u001b[0;34m)\u001b[0m\u001b[0;34m)\u001b[0m\u001b[0;34m\u001b[0m\u001b[0;34m\u001b[0m\u001b[0m\n\u001b[1;32m     23\u001b[0m     \u001b[0maccuracy\u001b[0m \u001b[0;34m=\u001b[0m \u001b[0mcompute_accuracy\u001b[0m\u001b[0;34m(\u001b[0m\u001b[0mprediction_labels_relevant_complete\u001b[0m\u001b[0;34m,\u001b[0m \u001b[0mfasttext_data_list\u001b[0m\u001b[0;34m)\u001b[0m\u001b[0;34m\u001b[0m\u001b[0;34m\u001b[0m\u001b[0m\n",
      "\u001b[0;32m<ipython-input-167-e85d180c4d6b>\u001b[0m in \u001b[0;36mrunFasttextPlus\u001b[0;34m(fasttextData1, fasttextData2, dim, epoch, lr, n, squealFlag, maxTrain, pretrainedVectors, extraFasttextData)\u001b[0m\n\u001b[1;32m     68\u001b[0m             \u001b[0mmodel\u001b[0m \u001b[0;34m=\u001b[0m \u001b[0mfasttext\u001b[0m\u001b[0;34m.\u001b[0m\u001b[0mtrain_supervised\u001b[0m\u001b[0;34m(\u001b[0m\u001b[0mTRAIN\u001b[0m\u001b[0;34m,\u001b[0m \u001b[0mdim\u001b[0m\u001b[0;34m=\u001b[0m\u001b[0mdim\u001b[0m\u001b[0;34m,\u001b[0m \u001b[0mepoch\u001b[0m\u001b[0;34m=\u001b[0m\u001b[0mepoch\u001b[0m\u001b[0;34m,\u001b[0m \u001b[0mlr\u001b[0m\u001b[0;34m=\u001b[0m\u001b[0mlr\u001b[0m\u001b[0;34m)\u001b[0m\u001b[0;34m\u001b[0m\u001b[0;34m\u001b[0m\u001b[0m\n\u001b[1;32m     69\u001b[0m         \u001b[0;32melse\u001b[0m\u001b[0;34m:\u001b[0m\u001b[0;34m\u001b[0m\u001b[0;34m\u001b[0m\u001b[0m\n\u001b[0;32m---> 70\u001b[0;31m             \u001b[0mmodel\u001b[0m \u001b[0;34m=\u001b[0m \u001b[0mfasttext\u001b[0m\u001b[0;34m.\u001b[0m\u001b[0mtrain_supervised\u001b[0m\u001b[0;34m(\u001b[0m\u001b[0mTRAIN\u001b[0m\u001b[0;34m,\u001b[0m \u001b[0mdim\u001b[0m\u001b[0;34m=\u001b[0m\u001b[0mdim\u001b[0m\u001b[0;34m,\u001b[0m \u001b[0mepoch\u001b[0m\u001b[0;34m=\u001b[0m\u001b[0mepoch\u001b[0m\u001b[0;34m,\u001b[0m \u001b[0mlr\u001b[0m\u001b[0;34m=\u001b[0m\u001b[0mlr\u001b[0m\u001b[0;34m,\u001b[0m \u001b[0mpretrainedVectors\u001b[0m\u001b[0;34m=\u001b[0m\u001b[0mpretrainedVectors\u001b[0m\u001b[0;34m)\u001b[0m\u001b[0;34m\u001b[0m\u001b[0;34m\u001b[0m\u001b[0m\n\u001b[0m\u001b[1;32m     71\u001b[0m         \u001b[0mpredictionCountsValidation\u001b[0m\u001b[0;34m.\u001b[0m\u001b[0mappend\u001b[0m\u001b[0;34m(\u001b[0m\u001b[0;34m[\u001b[0m\u001b[0;34m*\u001b[0m\u001b[0mmodel\u001b[0m\u001b[0;34m.\u001b[0m\u001b[0mtest\u001b[0m\u001b[0;34m(\u001b[0m\u001b[0mVALIDATION\u001b[0m\u001b[0;34m)\u001b[0m\u001b[0;34m]\u001b[0m\u001b[0;34m)\u001b[0m\u001b[0;34m\u001b[0m\u001b[0;34m\u001b[0m\u001b[0m\n\u001b[1;32m     72\u001b[0m         \u001b[0mpredictionLabelsValidation\u001b[0m\u001b[0;34m.\u001b[0m\u001b[0mappend\u001b[0m\u001b[0;34m(\u001b[0m\u001b[0mmodel\u001b[0m\u001b[0;34m.\u001b[0m\u001b[0mpredict\u001b[0m\u001b[0;34m(\u001b[0m\u001b[0mvalidationData\u001b[0m\u001b[0;34m,\u001b[0m \u001b[0mk\u001b[0m\u001b[0;34m=\u001b[0m\u001b[0;36m3\u001b[0m\u001b[0;34m)\u001b[0m\u001b[0;34m)\u001b[0m\u001b[0;34m\u001b[0m\u001b[0;34m\u001b[0m\u001b[0m\n",
      "\u001b[0;32m~/anaconda3/envs/python37/lib/python3.7/site-packages/fasttext/FastText.py\u001b[0m in \u001b[0;36mtrain_supervised\u001b[0;34m(*kargs, **kwargs)\u001b[0m\n\u001b[1;32m    531\u001b[0m     \u001b[0ma\u001b[0m \u001b[0;34m=\u001b[0m \u001b[0m_build_args\u001b[0m\u001b[0;34m(\u001b[0m\u001b[0margs\u001b[0m\u001b[0;34m,\u001b[0m \u001b[0mmanually_set_args\u001b[0m\u001b[0;34m)\u001b[0m\u001b[0;34m\u001b[0m\u001b[0;34m\u001b[0m\u001b[0m\n\u001b[1;32m    532\u001b[0m     \u001b[0mft\u001b[0m \u001b[0;34m=\u001b[0m \u001b[0m_FastText\u001b[0m\u001b[0;34m(\u001b[0m\u001b[0margs\u001b[0m\u001b[0;34m=\u001b[0m\u001b[0ma\u001b[0m\u001b[0;34m)\u001b[0m\u001b[0;34m\u001b[0m\u001b[0;34m\u001b[0m\u001b[0m\n\u001b[0;32m--> 533\u001b[0;31m     \u001b[0mfasttext\u001b[0m\u001b[0;34m.\u001b[0m\u001b[0mtrain\u001b[0m\u001b[0;34m(\u001b[0m\u001b[0mft\u001b[0m\u001b[0;34m.\u001b[0m\u001b[0mf\u001b[0m\u001b[0;34m,\u001b[0m \u001b[0ma\u001b[0m\u001b[0;34m)\u001b[0m\u001b[0;34m\u001b[0m\u001b[0;34m\u001b[0m\u001b[0m\n\u001b[0m\u001b[1;32m    534\u001b[0m     \u001b[0mft\u001b[0m\u001b[0;34m.\u001b[0m\u001b[0mset_args\u001b[0m\u001b[0;34m(\u001b[0m\u001b[0mft\u001b[0m\u001b[0;34m.\u001b[0m\u001b[0mf\u001b[0m\u001b[0;34m.\u001b[0m\u001b[0mgetArgs\u001b[0m\u001b[0;34m(\u001b[0m\u001b[0;34m)\u001b[0m\u001b[0;34m)\u001b[0m\u001b[0;34m\u001b[0m\u001b[0;34m\u001b[0m\u001b[0m\n\u001b[1;32m    535\u001b[0m     \u001b[0;32mreturn\u001b[0m \u001b[0mft\u001b[0m\u001b[0;34m\u001b[0m\u001b[0;34m\u001b[0m\u001b[0m\n",
      "\u001b[0;31mKeyboardInterrupt\u001b[0m: "
     ]
    }
   ],
   "source": [
    "run_relevant_experiment_expand_features(f\"predictionLabelsTestTTT-{DIM}-{EPOCH}-{LR}.pickle\", fasttext_data_list_testing, fasttext_data_list_distance)"
   ]
  },
  {
   "cell_type": "code",
   "execution_count": 215,
   "metadata": {},
   "outputs": [
    {
     "name": "stdout",
     "output_type": "stream",
     "text": [
      "data size 1=284, data size 2=284, dim=300, epoch=200, lr=0.2, pretrainedVectors=twiqs-model-2020.vec\n",
      "0 cases: 28; precision: 0.357; recall: 0.357; fraction: 2.143\n",
      "1 cases: 29; precision: 0.690; recall: 0.690; fraction: 0.700\n",
      "2 cases: 28; precision: 0.429; recall: 0.429; fraction: 9999999999.000\n",
      "3 cases: 29; precision: 0.345; recall: 0.345; fraction: 0.821\n",
      "4 cases: 28; precision: 0.464; recall: 0.464; fraction: 1.625\n",
      "5 cases: 28; precision: 0.571; recall: 0.571; fraction: 0.353\n",
      "6 cases: 29; precision: 0.517; recall: 0.517; fraction: 0.000\n",
      "7 cases: 28; precision: 0.357; recall: 0.357; fraction: 0.577\n",
      "8 cases: 29; precision: 0.345; recall: 0.345; fraction: 1.944\n",
      "9 cases: 28; precision: 0.429; recall: 0.429; fraction: 11.375\n",
      " col_0                __label__IRRELEVANT  __label__REJECTS  __label__SUPPORTS\n",
      "row_0                                                                        \n",
      "__label__IRRELEVANT                   72                55                 19\n",
      "__label__REJECTS                      55                51                  4\n",
      "__label__SUPPORTS                     14                 9                  5\n",
      "cases: 284; precision: 0.451; recall: 0.451; fraction: 1.045\n",
      "accuracy (phase 1): 0.6, accuracy (phase 1 plus gold): 0.771, accuracy (phase 2): 0.616\n"
     ]
    }
   ],
   "source": [
    "run_relevant_experiment_expand_features(f\"predictionLabelsTestVVT-{DIM}-{EPOCH}-{LR}.pickle\", fasttext_data_list_vaccination, fasttext_data_list_distance)"
   ]
  },
  {
   "cell_type": "markdown",
   "metadata": {},
   "source": [
    "### Make domain word vectors"
   ]
  },
  {
   "cell_type": "code",
   "execution_count": null,
   "metadata": {},
   "outputs": [],
   "source": [
    "def get_tokens(fasttext_data_list):\n",
    "    tokens = {}\n",
    "    for text in fasttext_data_list:\n",
    "        for token in text.split()[1:]:\n",
    "            tokens[token] = True\n",
    "    return tokens"
   ]
  },
  {
   "cell_type": "code",
   "execution_count": null,
   "metadata": {},
   "outputs": [],
   "source": [
    "tokens_distance = get_tokens(fasttext_data_list_distance)\n",
    "tokens_facemask = get_tokens(fasttext_data_list_facemask)\n",
    "tokens_testing = get_tokens(fasttext_data_list_testing)\n",
    "tokens_vaccination = get_tokens(fasttext_data_list_vaccination)"
   ]
  },
  {
   "cell_type": "code",
   "execution_count": null,
   "metadata": {},
   "outputs": [],
   "source": [
    "tokens_all = dict(tokens_distance)\n",
    "tokens_all.update(tokens_facemask)\n",
    "tokens_all.update(tokens_testing)\n",
    "tokens_all.update(tokens_vaccination)"
   ]
  },
  {
   "cell_type": "code",
   "execution_count": null,
   "metadata": {},
   "outputs": [],
   "source": [
    "# need to fix first line: number_of_tokens vector_length\n",
    "file_name_in = \"twiqs-model-2020.vec\"\n",
    "file_name_out = \"twiqs-model-2020-exf.vec\"\n",
    "infile = open(file_name_in, \"r\")\n",
    "outfile = open(file_name_out, \"w\")\n",
    "for line in infile:\n",
    "    token = line.strip().split()[0]\n",
    "    rest = \" \".join(line.strip().split()[1:])\n",
    "    if token in tokens_all:\n",
    "        print(f\"{token} {rest}\", file=outfile)\n",
    "        if token in tokens_distance:\n",
    "            print(f\"{token}@distance {rest}\", file=outfile)\n",
    "        if token in tokens_facemask:\n",
    "            print(f\"{token}@facemask {rest}\", file=outfile)\n",
    "        if token in tokens_testing:\n",
    "            print(f\"{token}@testing {rest}\", file=outfile)\n",
    "        if token in tokens_vaccination:\n",
    "            print(f\"{token}@vaccination {rest}\", file=outfile)\n",
    "outfile.close()\n",
    "infile.close()"
   ]
  },
  {
   "cell_type": "code",
   "execution_count": 478,
   "metadata": {},
   "outputs": [
    {
     "name": "stdout",
     "output_type": "stream",
     "text": [
      "data size 1=373, data size 2=373, dim=300, epoch=200, lr=0.2, pretrainedVectors=twiqs-model-2020-exf.vec\n",
      "0 cases: 37; precision: 0.351; recall: 0.351; fraction: 2.500\n",
      "1 cases: 38; precision: 0.474; recall: 0.474; fraction: 0.765\n",
      "2 cases: 37; precision: 0.405; recall: 0.405; fraction: 0.867\n",
      "3 cases: 37; precision: 0.459; recall: 0.459; fraction: 3.750\n",
      "4 cases: 37; precision: 0.378; recall: 0.378; fraction: 2.667\n",
      "5 cases: 38; precision: 0.395; recall: 0.395; fraction: 0.794\n",
      "6 cases: 37; precision: 0.676; recall: 0.676; fraction: 0.873\n",
      "7 cases: 37; precision: 0.486; recall: 0.486; fraction: 0.354\n",
      "8 cases: 38; precision: 0.447; recall: 0.447; fraction: 0.576\n",
      "9 cases: 37; precision: 0.486; recall: 0.486; fraction: 0.445\n",
      " col_0                __label__IRRELEVANT  __label__REJECTS  __label__SUPPORTS\n",
      "row_0                                                                        \n",
      "__label__IRRELEVANT                   51                37                 51\n",
      "__label__REJECTS                      37                73                 19\n",
      "__label__SUPPORTS                     38                21                 46\n",
      "cases: 373; precision: 0.456; recall: 0.456; fraction: 0.919\n",
      "accuracy (phase 1): 0.592, accuracy (phase 1 plus gold): 0.783, accuracy (phase 2): 0.583\n"
     ]
    }
   ],
   "source": [
    "run_relevant_experiment_expand_features_new(f\"predictionLabelsTestFFT-{DIM}-{EPOCH}-{LR}.pickle\", fasttext_data_list_facemask, fasttext_data_list_distance, \"facemask\")"
   ]
  },
  {
   "cell_type": "code",
   "execution_count": 451,
   "metadata": {},
   "outputs": [
    {
     "name": "stdout",
     "output_type": "stream",
     "text": [
      "data size 1=481, data size 2=481, dim=300, epoch=200, lr=0.2, pretrainedVectors=twiqs-model-2020-exf.vec\n",
      "0 cases: 48; precision: 0.354; recall: 0.354; fraction: 2.400\n",
      "1 cases: 48; precision: 0.438; recall: 0.438; fraction: 1.444\n",
      "2 cases: 48; precision: 0.396; recall: 0.396; fraction: 3.562\n",
      "3 cases: 48; precision: 0.500; recall: 0.500; fraction: 0.848\n",
      "4 cases: 48; precision: 0.729; recall: 0.729; fraction: 0.692\n",
      "5 cases: 49; precision: 0.490; recall: 0.490; fraction: 0.590\n",
      "6 cases: 48; precision: 0.417; recall: 0.417; fraction: 0.647\n",
      "7 cases: 48; precision: 0.583; recall: 0.583; fraction: 0.935\n",
      "8 cases: 48; precision: 0.583; recall: 0.583; fraction: 0.686\n",
      "9 cases: 48; precision: 0.521; recall: 0.521; fraction: 1.212\n",
      " col_0                __label__IRRELEVANT  __label__REJECTS  __label__SUPPORTS\n",
      "row_0                                                                        \n",
      "__label__IRRELEVANT                   88                39                 70\n",
      "__label__REJECTS                      38                62                 15\n",
      "__label__SUPPORTS                     65                13                 91\n",
      "cases: 481; precision: 0.501; recall: 0.501; fraction: 0.952\n",
      "accuracy (phase 1): 0.561, accuracy (phase 1 plus gold): 0.775, accuracy (phase 2): 0.572\n"
     ]
    }
   ],
   "source": [
    "run_relevant_experiment_expand_features_new(f\"predictionLabelsTestTTT-{DIM}-{EPOCH}-{LR}.pickle\", fasttext_data_list_testing, fasttext_data_list_distance, \"testing\")"
   ]
  },
  {
   "cell_type": "code",
   "execution_count": 479,
   "metadata": {},
   "outputs": [
    {
     "name": "stdout",
     "output_type": "stream",
     "text": [
      "data size 1=273, data size 2=273, dim=300, epoch=200, lr=0.2, pretrainedVectors=twiqs-model-2020-exf.vec\n",
      "0 cases: 27; precision: 0.296; recall: 0.296; fraction: 2.571\n",
      "1 cases: 28; precision: 0.464; recall: 0.464; fraction: 0.571\n",
      "2 cases: 27; precision: 0.593; recall: 0.593; fraction: 9999999999.000\n",
      "3 cases: 27; precision: 0.333; recall: 0.333; fraction: 1.273\n",
      "4 cases: 27; precision: 0.593; recall: 0.593; fraction: 0.524\n",
      "5 cases: 28; precision: 0.536; recall: 0.536; fraction: 0.397\n",
      "6 cases: 27; precision: 0.481; recall: 0.481; fraction: 0.000\n",
      "7 cases: 27; precision: 0.296; recall: 0.296; fraction: 0.564\n",
      "8 cases: 28; precision: 0.429; recall: 0.429; fraction: 6.000\n",
      "9 cases: 27; precision: 0.370; recall: 0.370; fraction: 12.250\n",
      " col_0                __label__IRRELEVANT  __label__REJECTS  __label__SUPPORTS\n",
      "row_0                                                                        \n",
      "__label__IRRELEVANT                   62                56                 20\n",
      "__label__REJECTS                      50                53                  4\n",
      "__label__SUPPORTS                     16                 7                  5\n",
      "cases: 273; precision: 0.440; recall: 0.440; fraction: 1.047\n",
      "accuracy (phase 1): 0.608, accuracy (phase 1 plus gold): 0.768, accuracy (phase 2): 0.616\n"
     ]
    }
   ],
   "source": [
    "run_relevant_experiment_expand_features_new(f\"predictionLabelsTestVVT-{DIM}-{EPOCH}-{LR}.pickle\", fasttext_data_list_vaccination, fasttext_data_list_distance, \"vaccination\")"
   ]
  },
  {
   "cell_type": "markdown",
   "metadata": {},
   "source": [
    "## 7. Multi-task learning"
   ]
  },
  {
   "cell_type": "markdown",
   "metadata": {},
   "source": [
    "## 8. Numeric analysis"
   ]
  },
  {
   "cell_type": "code",
   "execution_count": 396,
   "metadata": {},
   "outputs": [],
   "source": [
    "WINDOW_SIZE = 100\n",
    "\n",
    "\n",
    "def get_labels_from_fasttext_data(fasttext_data_list):\n",
    "    return([text.split()[0] for text in fasttext_data_list])\n",
    "\n",
    "\n",
    "def percentage(window):\n",
    "    total_count = 0\n",
    "    support_count = 0\n",
    "    for label in window:\n",
    "        total_count += 1\n",
    "        if label == \"__label__SUPPORTS\":\n",
    "            support_count += 1\n",
    "        else:\n",
    "            assert label == '__label__REJECTS', f\"percentage: unexpected label value: {label}\"\n",
    "    return(100 * support_count / total_count)\n",
    "\n",
    "\n",
    "def make_graph_data_make_relevant(label_list):\n",
    "    label_list_relevant = [ label for label in label_list if label != '__label__IRRELEVANT' ]\n",
    "    window = []\n",
    "    graph_data_relevant = len(label_list_relevant) * [None]\n",
    "    for i in range(0, len(label_list_relevant)):\n",
    "        window.append(label_list_relevant[i])\n",
    "        if len(window) >= WINDOW_SIZE:\n",
    "            index = round((i - WINDOW_SIZE + 1) * (len(label_list_relevant)-1)/(len(label_list_relevant)-WINDOW_SIZE))\n",
    "            assert index >= 0, f\"make_graph_data_make_relevant: index ({index}) cannot be negative!\"\n",
    "            graph_data_relevant[index] = percentage(window)        \n",
    "        while len(window) >= WINDOW_SIZE:\n",
    "            window.pop(0)\n",
    "    return graph_data_relevant\n",
    "            \n",
    "    \n",
    "def make_graph_data_fill_data(label_list, graph_data_relevant):\n",
    "    graph_data = len(label_list) * [None]\n",
    "    index_relevant = 0\n",
    "    for i in range(0, len(label_list)):\n",
    "        if label_list[i] != '__label__IRRELEVANT':\n",
    "            graph_data[i] = graph_data_relevant[index_relevant]\n",
    "            index_relevant += 1\n",
    "    assert index_relevant == len(graph_data_relevant), f\"make_graph_data: unexpected length: {index_relevant} {len(graph_data_relevant)}\"\n",
    "    return graph_data\n",
    "   \n",
    "    \n",
    "def make_graph_data_interpolate_center(graph_data):\n",
    "    for i in range(0, len(graph_data)):\n",
    "        if graph_data[i] != None and i+1 < len(graph_data) and graph_data[i+1] == None:\n",
    "            for j in range(i+1, len(graph_data)):\n",
    "                if graph_data[j] != None:\n",
    "                    break\n",
    "            if j < len(graph_data) and graph_data[j] != None:\n",
    "                for k in range(i+1, j):\n",
    "                    graph_data[k] = graph_data[i] + (k-i) * (graph_data[j] - graph_data[i])/(j - i)\n",
    "\n",
    "    return graph_data\n",
    "    \n",
    "    \n",
    "def make_graph_data_interpolate_start(graph_data):\n",
    "    for i in range(0, len(graph_data)):\n",
    "        if graph_data[i] != None:\n",
    "            break\n",
    "    if i > 0 and i+1 < len(graph_data):\n",
    "        for j in range(i-1, -1, -1):\n",
    "            graph_data[j] = graph_data[i] + (i - j) * (graph_data[i] - graph_data[i+1]) \n",
    "    return graph_data\n",
    "\n",
    "\n",
    "def make_graph_data_interpolate_end(graph_data):\n",
    "    for i in range(len(graph_data)-1, -1, -1):\n",
    "        if graph_data[i] != None:\n",
    "            break\n",
    "    if i > 0 and i < len(graph_data)-1:\n",
    "        for j in range(i+1, len(graph_data)):\n",
    "            graph_data[j] = graph_data[i] + (j - i) * (graph_data[i] - graph_data[i-1]) \n",
    "    return graph_data\n",
    "\n",
    "\n",
    "def make_graph_data_interpolate(graph_data):    \n",
    "    graph_data = make_graph_data_interpolate_center(graph_data)\n",
    "    graph_data = make_graph_data_interpolate_start(graph_data)\n",
    "    graph_data = make_graph_data_interpolate_end(graph_data)\n",
    "    return graph_data\n",
    "\n",
    "\n",
    "def make_graph_data(label_list):\n",
    "    graph_data_relevant = make_graph_data_make_relevant(label_list)\n",
    "    graph_data = make_graph_data_fill_data(label_list, graph_data_relevant)\n",
    "    graph_data = make_graph_data_interpolate(graph_data)\n",
    "    return graph_data\n",
    "\n",
    "\n",
    "def get_r_value(list1, list2):\n",
    "    return round(scipy.stats.linregress(np.array(list1), np.array(list2)).rvalue, 3)\n",
    "\n",
    "\n",
    "def absolute_difference(list1, list2):\n",
    "    absolute_difference = 0\n",
    "    for i in range(0, len(list1)):\n",
    "        absolute_difference += abs(list1[i]-list2[i])\n",
    "    return(round(0.01*absolute_difference/len(list1), 3))"
   ]
  },
  {
   "cell_type": "markdown",
   "metadata": {},
   "source": [
    "### 8.1 Face masks"
   ]
  },
  {
   "cell_type": "code",
   "execution_count": 483,
   "metadata": {},
   "outputs": [],
   "source": [
    "graph_data_facemask_gold = make_graph_data(get_labels_from_fasttext_data(fasttext_data_list_facemask))\n",
    "graph_data_facemask_FFT = make_graph_data(get_prediction_labels_list(read_fasttext_data(f\"predictionLabelsTestFFT-{DIM}-{EPOCH}-{LR}.pickle\")))\n",
    "graph_data_facemask_DFT = make_graph_data(get_prediction_labels_list([model_distance.predict(fasttext_data_list_facemask)]))\n",
    "graph_data_facemask_EFT = make_graph_data(get_prediction_labels_list(read_fasttext_data(f\"predictionLabelsTestEFT-{DIM}-{EPOCH}-{LR}.pickle\")))\n",
    "graph_data_facemask_RLV = make_graph_data(read_fasttext_data(\"predictionLabelsTestFFT-300-200-0.2.pickle.RLV-300-200-0.2.pickle\"))\n",
    "graph_data_facemask_EXG = make_graph_data(read_fasttext_data(\"predictionLabelsTestFFT-300-200-0.2.pickle.EXG-300-200-0.2.pickle\"))"
   ]
  },
  {
   "cell_type": "code",
   "execution_count": 484,
   "metadata": {},
   "outputs": [
    {
     "data": {
      "text/plain": [
       "(0.877, 0.533, 0.435, 0.743, 0.806)"
      ]
     },
     "execution_count": 484,
     "metadata": {},
     "output_type": "execute_result"
    }
   ],
   "source": [
    "(get_r_value(graph_data_facemask_gold, graph_data_facemask_FFT), \n",
    " get_r_value(graph_data_facemask_gold, graph_data_facemask_DFT),\n",
    " get_r_value(graph_data_facemask_gold, graph_data_facemask_EFT),\n",
    " get_r_value(graph_data_facemask_gold, graph_data_facemask_RLV),\n",
    " get_r_value(graph_data_facemask_gold, graph_data_facemask_EXG)\n",
    ")"
   ]
  },
  {
   "cell_type": "code",
   "execution_count": 485,
   "metadata": {},
   "outputs": [
    {
     "data": {
      "text/plain": [
       "(0.08, 0.177, 0.143, 0.133, 0.125)"
      ]
     },
     "execution_count": 485,
     "metadata": {},
     "output_type": "execute_result"
    }
   ],
   "source": [
    "(absolute_difference(graph_data_facemask_gold, graph_data_facemask_FFT), \n",
    " absolute_difference(graph_data_facemask_gold, graph_data_facemask_DFT),\n",
    " absolute_difference(graph_data_facemask_gold, graph_data_facemask_EFT),\n",
    " absolute_difference(graph_data_facemask_gold, graph_data_facemask_RLV),\n",
    " absolute_difference(graph_data_facemask_gold, graph_data_facemask_EXG)\n",
    ")"
   ]
  },
  {
   "cell_type": "code",
   "execution_count": 486,
   "metadata": {},
   "outputs": [],
   "source": [
    "TIME_FILE = \"csv/time_data.mondkapje-202003-202103-1000.csv\"\n",
    "\n",
    "time_data_facemask_all = pd.read_csv(TIME_FILE, index_col=\"id_str\").to_dict(orient=\"series\")['created_at']\n",
    "time_data_facemask = []\n",
    "for tweet_id in tweet_ids_facemask:\n",
    "    try:\n",
    "        time_data_facemask.append(datetime.datetime.strptime(time_data_facemask_all[tweet_id], \"%a %b %d %H:%M:%S %z %Y\"))\n",
    "    except:\n",
    "        print(f\"key not found {tweet_id}\")"
   ]
  },
  {
   "cell_type": "code",
   "execution_count": 487,
   "metadata": {},
   "outputs": [
    {
     "data": {
      "image/png": "[encoded data removed]",
      "text/plain": [
       "<Figure size 432x288 with 1 Axes>"
      ]
     },
     "metadata": {
      "needs_background": "light"
     },
     "output_type": "display_data"
    }
   ],
   "source": [
    "fig, ax = plt.subplots()\n",
    "ax.xaxis.set_major_formatter(mdates.DateFormatter(\"%m\"))\n",
    "ax.plot_date(time_data_facemask, graph_data_facemask_gold, fmt=\"-\", label=\"gold\")\n",
    "ax.plot_date(time_data_facemask, graph_data_facemask_FFT, fmt=\"-\", label=\"TGTONLY\")\n",
    "ax.plot_date(time_data_facemask, graph_data_facemask_DFT, fmt=\"-\", label=\"SRCONLY\")\n",
    "ax.plot_date(time_data_facemask, graph_data_facemask_EFT, fmt=\"-\", label=\"ALL\")\n",
    "ax.plot_date(time_data_facemask, graph_data_facemask_RLV, fmt=\"-\", label=\"RLVONLY\")\n",
    "ax.plot_date(time_data_facemask, graph_data_facemask_EXG, fmt=\"-\", label=\"FEATAUG\")\n",
    "plt.ylim(0, 100)\n",
    "plt.title(\"face masks\")\n",
    "plt.xlabel(\"months in the years 2020 and 2021\")\n",
    "plt.ylabel(\"percentage support\")\n",
    "plt.legend()\n",
    "plt.savefig(\"clin-facemask.png\")\n",
    "plt.show()"
   ]
  },
  {
   "cell_type": "markdown",
   "metadata": {},
   "source": [
    "### 8.2 Testing"
   ]
  },
  {
   "cell_type": "code",
   "execution_count": 488,
   "metadata": {},
   "outputs": [],
   "source": [
    "graph_data_testing_gold = make_graph_data(get_labels_from_fasttext_data(fasttext_data_list_testing))\n",
    "graph_data_testing_FFT = make_graph_data(get_prediction_labels_list(read_fasttext_data(f\"predictionLabelsTestTTT-{DIM}-{EPOCH}-{LR}.pickle\")))\n",
    "graph_data_testing_DFT = make_graph_data(get_prediction_labels_list([model_distance.predict(fasttext_data_list_testing)]))\n",
    "graph_data_testing_EFT = make_graph_data(get_prediction_labels_list(read_fasttext_data(f\"predictionLabelsTestETT-{DIM}-{EPOCH}-{LR}.pickle\")))\n",
    "graph_data_testing_RLV = make_graph_data(read_fasttext_data(\"predictionLabelsTestTTT-300-200-0.2.pickle.RLV-300-200-0.2.pickle\"))\n",
    "graph_data_testing_EXG = make_graph_data(read_fasttext_data(\"predictionLabelsTestTTT-300-200-0.2.pickle.EXG-300-200-0.2.pickle\"))"
   ]
  },
  {
   "cell_type": "code",
   "execution_count": 489,
   "metadata": {},
   "outputs": [
    {
     "data": {
      "text/plain": [
       "(0.949, 0.819, 0.882, 0.856, 0.848)"
      ]
     },
     "execution_count": 489,
     "metadata": {},
     "output_type": "execute_result"
    }
   ],
   "source": [
    "(get_r_value(graph_data_testing_gold, graph_data_testing_FFT), \n",
    " get_r_value(graph_data_testing_gold, graph_data_testing_DFT),\n",
    " get_r_value(graph_data_testing_gold, graph_data_testing_EFT),\n",
    " get_r_value(graph_data_testing_gold, graph_data_testing_RLV),\n",
    " get_r_value(graph_data_testing_gold, graph_data_testing_EXG)\n",
    ")"
   ]
  },
  {
   "cell_type": "code",
   "execution_count": 490,
   "metadata": {},
   "outputs": [
    {
     "data": {
      "text/plain": [
       "(0.093, 0.169, 0.097, 0.087, 0.102)"
      ]
     },
     "execution_count": 490,
     "metadata": {},
     "output_type": "execute_result"
    }
   ],
   "source": [
    "(absolute_difference(graph_data_testing_gold, graph_data_testing_FFT), \n",
    " absolute_difference(graph_data_testing_gold, graph_data_testing_DFT),\n",
    " absolute_difference(graph_data_testing_gold, graph_data_testing_EFT),\n",
    " absolute_difference(graph_data_testing_gold, graph_data_testing_RLV),\n",
    " absolute_difference(graph_data_testing_gold, graph_data_testing_EXG)\n",
    ")"
   ]
  },
  {
   "cell_type": "code",
   "execution_count": 491,
   "metadata": {},
   "outputs": [],
   "source": [
    "TIME_FILE = \"csv/time_data.testing-202003-202012.csv\"\n",
    "\n",
    "time_data_testing_all = pd.read_csv(TIME_FILE, index_col=\"id_str\").to_dict(orient=\"series\")['created_at']\n",
    "time_data_testing = []\n",
    "for tweet_id in tweet_ids_testing:\n",
    "    try:\n",
    "        time_data_testing.append(datetime.datetime.strptime(time_data_testing_all[tweet_id], \"%a %b %d %H:%M:%S %z %Y\"))\n",
    "    except:\n",
    "        print(f\"key not found {tweet_id}\")"
   ]
  },
  {
   "cell_type": "code",
   "execution_count": 492,
   "metadata": {},
   "outputs": [
    {
     "data": {
      "image/png": "[encoded data removed]",
      "text/plain": [
       "<Figure size 432x288 with 1 Axes>"
      ]
     },
     "metadata": {
      "needs_background": "light"
     },
     "output_type": "display_data"
    }
   ],
   "source": [
    "fig, ax = plt.subplots()\n",
    "ax.xaxis.set_major_formatter(mdates.DateFormatter(\"%m\"))\n",
    "ax.plot_date(time_data_testing, graph_data_testing_gold, fmt=\"-\", label=\"gold\")\n",
    "ax.plot_date(time_data_testing, graph_data_testing_FFT, fmt=\"-\", label=\"TGTONLY\")\n",
    "ax.plot_date(time_data_testing, graph_data_testing_DFT, fmt=\"-\", label=\"SRCONLY\")\n",
    "ax.plot_date(time_data_testing, graph_data_testing_EFT, fmt=\"-\", label=\"ALL\")\n",
    "ax.plot_date(time_data_testing, graph_data_testing_RLV, fmt=\"-\", label=\"RLVONLY\")\n",
    "ax.plot_date(time_data_testing, graph_data_testing_EXG, fmt=\"-\", label=\"FEATAUG\")\n",
    "plt.ylim(0, 100)\n",
    "plt.title(\"testing\")\n",
    "plt.xlabel(\"months in the years 2020 and 2021\")\n",
    "plt.ylabel(\"percentage support\")\n",
    "plt.legend()\n",
    "plt.savefig(\"clin-testing.png\")\n",
    "plt.show()"
   ]
  },
  {
   "cell_type": "markdown",
   "metadata": {},
   "source": [
    "### 8.3 Vaccination"
   ]
  },
  {
   "cell_type": "code",
   "execution_count": 493,
   "metadata": {},
   "outputs": [],
   "source": [
    "graph_data_vaccination_gold = make_graph_data(get_labels_from_fasttext_data(fasttext_data_list_vaccination))\n",
    "graph_data_vaccination_FFT = make_graph_data(get_prediction_labels_list(read_fasttext_data(f\"predictionLabelsTestVVT-{DIM}-{EPOCH}-{LR}.pickle\")))\n",
    "graph_data_vaccination_DFT = make_graph_data(get_prediction_labels_list([model_distance.predict(fasttext_data_list_vaccination)]))\n",
    "graph_data_vaccination_EFT = make_graph_data(get_prediction_labels_list(read_fasttext_data(f\"predictionLabelsTestEVT-{DIM}-{EPOCH}-{LR}.pickle\")))\n",
    "graph_data_vaccination_RLV = make_graph_data(read_fasttext_data(\"predictionLabelsTestVVT-300-200-0.2.pickle.RLV-300-200-0.2.pickle\"))\n",
    "graph_data_vaccination_EXG = make_graph_data(read_fasttext_data(\"predictionLabelsTestVVT-300-200-0.2.pickle.EXG-300-200-0.2.pickle\"))"
   ]
  },
  {
   "cell_type": "code",
   "execution_count": 494,
   "metadata": {},
   "outputs": [
    {
     "data": {
      "text/plain": [
       "(0.361, 0.586, 0.592, 0.528, -0.824)"
      ]
     },
     "execution_count": 494,
     "metadata": {},
     "output_type": "execute_result"
    }
   ],
   "source": [
    "(get_r_value(graph_data_vaccination_gold, graph_data_vaccination_FFT), \n",
    " get_r_value(graph_data_vaccination_gold, graph_data_vaccination_DFT),\n",
    " get_r_value(graph_data_vaccination_gold, graph_data_vaccination_EFT),\n",
    " get_r_value(graph_data_vaccination_gold, graph_data_vaccination_RLV),\n",
    " get_r_value(graph_data_vaccination_gold, graph_data_vaccination_EXG)\n",
    ")"
   ]
  },
  {
   "cell_type": "code",
   "execution_count": 495,
   "metadata": {},
   "outputs": [
    {
     "data": {
      "text/plain": [
       "(0.078, 0.26, 0.149, 0.107, 0.102)"
      ]
     },
     "execution_count": 495,
     "metadata": {},
     "output_type": "execute_result"
    }
   ],
   "source": [
    "(absolute_difference(graph_data_vaccination_gold, graph_data_vaccination_FFT), \n",
    " absolute_difference(graph_data_vaccination_gold, graph_data_vaccination_DFT),\n",
    " absolute_difference(graph_data_vaccination_gold, graph_data_vaccination_EFT),\n",
    " absolute_difference(graph_data_vaccination_gold, graph_data_vaccination_RLV),\n",
    " absolute_difference(graph_data_vaccination_gold, graph_data_vaccination_EXG)\n",
    ")"
   ]
  },
  {
   "cell_type": "code",
   "execution_count": 496,
   "metadata": {},
   "outputs": [],
   "source": [
    "TIME_FILE = \"csv/time_data.vaccin-202001-202101-1000.csv\"\n",
    "\n",
    "time_data_vaccination_all = pd.read_csv(TIME_FILE, index_col=\"id_str\").to_dict(orient=\"series\")['created_at']\n",
    "time_data_vaccination = []\n",
    "for tweet_id in tweet_ids_vaccination:\n",
    "    try:\n",
    "        time_data_vaccination.append(datetime.datetime.strptime(time_data_vaccination_all[tweet_id], \"%a %b %d %H:%M:%S %z %Y\"))\n",
    "    except:\n",
    "        print(f\"key not found {tweet_id}\")"
   ]
  },
  {
   "cell_type": "code",
   "execution_count": 497,
   "metadata": {},
   "outputs": [
    {
     "data": {
      "image/png": "[encoded data removed]",
      "text/plain": [
       "<Figure size 432x288 with 1 Axes>"
      ]
     },
     "metadata": {
      "needs_background": "light"
     },
     "output_type": "display_data"
    }
   ],
   "source": [
    "fig, ax = plt.subplots()\n",
    "ax.xaxis.set_major_formatter(mdates.DateFormatter(\"%m\"))\n",
    "ax.plot_date(time_data_vaccination, graph_data_vaccination_gold, fmt=\"-\", label=\"gold\")\n",
    "ax.plot_date(time_data_vaccination, graph_data_vaccination_FFT, fmt=\"-\", label=\"TGTONLY\")\n",
    "ax.plot_date(time_data_vaccination, graph_data_vaccination_DFT, fmt=\"-\", label=\"SRCONLY\")\n",
    "ax.plot_date(time_data_vaccination, graph_data_vaccination_EFT, fmt=\"-\", label=\"ALL\")\n",
    "ax.plot_date(time_data_vaccination, graph_data_vaccination_RLV, fmt=\"-\", label=\"RLVONLY\")\n",
    "ax.plot_date(time_data_vaccination, graph_data_vaccination_EXG, fmt=\"-\", label=\"FEATAUG\")\n",
    "plt.ylim(0, 100)\n",
    "plt.title(\"vaccination\")\n",
    "plt.xlabel(\"months in the years 2020 and 2021\")\n",
    "plt.ylabel(\"percentage support\")\n",
    "plt.legend()\n",
    "plt.savefig(\"clin-vaccination.png\")\n",
    "plt.show()"
   ]
  },
  {
   "cell_type": "markdown",
   "metadata": {},
   "source": [
    "## Old code"
   ]
  },
  {
   "cell_type": "code",
   "execution_count": 147,
   "metadata": {},
   "outputs": [],
   "source": [
    "predictionLabelsTestDT = read_fasttext_data(\"predictionLabelsTestDT.pickle\")\n",
    "predictionLabelsTestTT = read_fasttext_data(\"predictionLabelsTestTT.pickle\")\n",
    "predictionLabelsTestET = read_fasttext_data(\"predictionLabelsTestET.pickle\")"
   ]
  },
  {
   "cell_type": "code",
   "execution_count": 148,
   "metadata": {},
   "outputs": [],
   "source": [
    "time_factor = 3\n",
    "data_predicted_dt = make_data_predicted(predictionLabelsTestDT, tweet_ids_testing, time_factor=time_factor)\n",
    "data_predicted_tt = make_data_predicted(predictionLabelsTestTT, tweet_ids_testing, time_factor=time_factor)\n",
    "data_predicted_et = make_data_predicted(predictionLabelsTestET, tweet_ids_testing, time_factor=time_factor)"
   ]
  },
  {
   "cell_type": "code",
   "execution_count": 149,
   "metadata": {},
   "outputs": [],
   "source": [
    "gold = []\n",
    "for tweet in fasttext_data_list_testing:\n",
    "    gold.append(tweet.split()[0])\n",
    "\n",
    "data_gold = {}\n",
    "for i in range(0, len(tweet_ids_testing)):\n",
    "    summary = str(tweet_ids_testing[i])[0:time_factor]\n",
    "    if summary not in data_gold:\n",
    "        data_gold[summary] = []\n",
    "    data_gold[summary].append(gold[i])"
   ]
  },
  {
   "cell_type": "code",
   "execution_count": 150,
   "metadata": {},
   "outputs": [
    {
     "data": {
      "image/png": "[encoded data removed]",
      "text/plain": [
       "<Figure size 432x288 with 1 Axes>"
      ]
     },
     "metadata": {
      "needs_background": "light"
     },
     "output_type": "display_data"
    }
   ],
   "source": [
    "plot_data_predicted_dt = convert(data_predicted_dt)\n",
    "plot_data_predicted_tt = convert(data_predicted_tt)\n",
    "plot_data_predicted_et = convert(data_predicted_et)\n",
    "plot_data_gold = convert(data_gold)\n",
    "\n",
    "x_gold = [x[0] for x in plot_data_gold]\n",
    "y_gold = [x[1] for x in plot_data_gold]\n",
    "x_dt = [x[0] for x in plot_data_predicted_dt]\n",
    "y_dt = [x[1] for x in plot_data_predicted_dt]\n",
    "x_tt = [x[0] for x in plot_data_predicted_tt]\n",
    "y_tt = [x[1] for x in plot_data_predicted_tt]\n",
    "x_et = [x[0] for x in plot_data_predicted_et]\n",
    "y_et = [x[1] for x in plot_data_predicted_et]\n",
    "plt.plot(x_dt, y_dt, label=\"predicted (out-of-domain)\", c=\"C0\")\n",
    "plt.plot(x_tt, y_tt, label=\"predicted (in-domain)\", c=\"C1\")\n",
    "plt.plot(x_gold, y_gold, label=\"gold\", c=\"C2\")\n",
    "#plt.plot(x_et, y_et, label=\"predicted (added data)\", c=\"C3\")\n",
    "plt.legend()\n",
    "plt.title(\"predicting testing with social distancing data\")\n",
    "plt.savefig(\"distancing-to-testing.png\")\n",
    "plt.show()"
   ]
  },
  {
   "cell_type": "markdown",
   "metadata": {},
   "source": [
    "### Inflate predictions (old)"
   ]
  },
  {
   "cell_type": "code",
   "execution_count": 151,
   "metadata": {},
   "outputs": [
    {
     "name": "stdout",
     "output_type": "stream",
     "text": [
      "{'__label__SUPPORTS': 0.28789161727349705, '__label__IRRELEVANT': 0.5342929720575783, '__label__REJECTS': 0.17781541066892464}\n",
      "0.6176470588235294\n"
     ]
    }
   ],
   "source": [
    "freqs = get_freqs(gold)\n",
    "print(freqs)\n",
    "print(freqs['__label__REJECTS']/freqs['__label__SUPPORTS'])"
   ]
  },
  {
   "cell_type": "code",
   "execution_count": 152,
   "metadata": {},
   "outputs": [],
   "source": [
    "predictionLabelsTestDT = read_fasttext_data(\"predictionLabelsTestDT.pickle\")"
   ]
  },
  {
   "cell_type": "code",
   "execution_count": 153,
   "metadata": {},
   "outputs": [
    {
     "name": "stdout",
     "output_type": "stream",
     "text": [
      "{'__label__REJECTS': 0.26418289585097376, '__label__SUPPORTS': 0.42675698560541914, '__label__IRRELEVANT': 0.3090601185436071}\n",
      "0.6190476190476191\n"
     ]
    }
   ],
   "source": [
    "FACTOR = 0.7957\n",
    "\n",
    "predictionLabelsTestDTinflated = list(predictionLabelsTestDT)\n",
    "freqs = get_freqs([y[0] for x in inflate_plus(predictionLabelsTestDTinflated, '__label__REJECTS', '__label__SUPPORTS', FACTOR) for y in x[0]])\n",
    "print(freqs)\n",
    "print(freqs['__label__REJECTS']/freqs['__label__SUPPORTS'])"
   ]
  },
  {
   "cell_type": "code",
   "execution_count": 154,
   "metadata": {},
   "outputs": [],
   "source": [
    "data_predicted_dt_inflated = make_data_predicted(inflate(predictionLabelsTestDTinflated, \n",
    "                                                         '__label__REJECTS', \n",
    "                                                         '__label__SUPPORTS', \n",
    "                                                         FACTOR), \n",
    "                                                         tweet_ids_testing, \n",
    "                                                         time_factor=time_factor)"
   ]
  },
  {
   "cell_type": "code",
   "execution_count": 155,
   "metadata": {},
   "outputs": [
    {
     "data": {
      "image/png": "[encoded data removed]",
      "text/plain": [
       "<Figure size 432x288 with 1 Axes>"
      ]
     },
     "metadata": {
      "needs_background": "light"
     },
     "output_type": "display_data"
    }
   ],
   "source": [
    "plot_data_predicted_dt = convert(data_predicted_dt)\n",
    "plot_data_predicted_tt = convert(data_predicted_tt)\n",
    "plot_data_predicted_et = convert(data_predicted_et)\n",
    "plot_data_predicted_dt_inflated = convert(data_predicted_dt_inflated)\n",
    "plot_data_gold = convert(data_gold)\n",
    "\n",
    "x_gold = [x[0] for x in plot_data_gold]\n",
    "y_gold = [x[1] for x in plot_data_gold]\n",
    "x_dt = [x[0] for x in plot_data_predicted_dt]\n",
    "y_dt = [x[1] for x in plot_data_predicted_dt]\n",
    "x_tt = [x[0] for x in plot_data_predicted_tt]\n",
    "y_tt = [x[1] for x in plot_data_predicted_tt]\n",
    "x_et = [x[0] for x in plot_data_predicted_et]\n",
    "y_et = [x[1] for x in plot_data_predicted_et]\n",
    "x_dt_inflated = [x[0] for x in plot_data_predicted_dt_inflated]\n",
    "y_dt_inflated = [x[1] for x in plot_data_predicted_dt_inflated]\n",
    "\n",
    "#plt.plot(x_dt, y_dt, label=\"predicted (out-of-domain)\", c=\"C0\")\n",
    "#plt.plot(x_tt, y_tt, label=\"predicted (in-domain)\", c=\"C1\")\n",
    "plt.plot(x_gold, y_gold, label=\"gold\", c=\"C2\")\n",
    "plt.plot(x_et, y_et, label=\"predicted (added data)\", c=\"C3\")\n",
    "plt.plot(x_dt_inflated, y_dt_inflated, label=\"predicted (out-of-domain, inflated)\", c=\"C4\")\n",
    "\n",
    "plt.legend()\n",
    "plt.title(\"predicting COVID-19 testing with social distancing data\")\n",
    "plt.savefig(\"distancing-to-testing.png\")\n",
    "plt.show()"
   ]
  },
  {
   "cell_type": "markdown",
   "metadata": {},
   "source": [
    "### Removing domain-dependent words (old)"
   ]
  },
  {
   "cell_type": "code",
   "execution_count": 70,
   "metadata": {},
   "outputs": [
    {
     "name": "stdout",
     "output_type": "stream",
     "text": [
      "0 cases: 118; precision: 0.364; recall: 0.364; fraction: 0.462\n",
      "1 cases: 118; precision: 0.407; recall: 0.407; fraction: 0.614\n",
      "2 cases: 118; precision: 0.432; recall: 0.432; fraction: 0.719\n",
      "3 cases: 118; precision: 0.390; recall: 0.390; fraction: 0.465\n",
      "4 cases: 118; precision: 0.331; recall: 0.331; fraction: 0.626\n",
      "5 cases: 119; precision: 0.387; recall: 0.387; fraction: 0.553\n",
      "6 cases: 118; precision: 0.432; recall: 0.432; fraction: 0.194\n",
      "7 cases: 118; precision: 0.390; recall: 0.390; fraction: 0.099\n",
      "8 cases: 118; precision: 0.432; recall: 0.432; fraction: 0.991\n",
      "9 cases: 118; precision: 0.314; recall: 0.314; fraction: 1.359\n",
      " col_0                __label__IRRELEVANT  __label__REJECTS  __label__SUPPORTS\n",
      "row_0                                                                        \n",
      "__label__IRRELEVANT                  197                98                336\n",
      "__label__REJECTS                      70                51                 89\n",
      "__label__SUPPORTS                     92                38                210\n",
      "cases: 1181; precision: 0.388; recall: 0.388; fraction: 0.477\n"
     ]
    }
   ],
   "source": [
    "predictionCountsValidationDTD, predictionLabelsValidationDTD, predictionCountsTestDTD, predictionLabelsTestDTD = \\\n",
    "        runFasttext(fasttext_data_list_distance, fasttext_data_list_testing, squealFlag=False, dim=300)"
   ]
  },
  {
   "cell_type": "code",
   "execution_count": 156,
   "metadata": {},
   "outputs": [],
   "source": [
    "def count_tokens(tweet_list):\n",
    "    counts = {}\n",
    "    for tweet in tweet_list:\n",
    "        for token in tweet.split()[1:]:\n",
    "            if not token in counts:\n",
    "                counts[token] = 0\n",
    "            counts[token] += 1\n",
    "    return(counts)"
   ]
  },
  {
   "cell_type": "code",
   "execution_count": 159,
   "metadata": {},
   "outputs": [
    {
     "name": "stdout",
     "output_type": "stream",
     "text": [
      "196888 52387\n"
     ]
    }
   ],
   "source": [
    "counts_train = count_tokens(fasttext_data_list_distance)\n",
    "counts_test = count_tokens(fasttext_data_list_testing)\n",
    "counts_train_total = sum(counts_train.values())\n",
    "counts_test_total = sum(counts_test.values())\n",
    "print(counts_train_total, counts_test_total)"
   ]
  },
  {
   "cell_type": "code",
   "execution_count": 157,
   "metadata": {},
   "outputs": [],
   "source": [
    "def remove_infrequent_tokens(tweet_list_in, counts_train, counts_test, counts_train_total, counts_test_total, minimum_frequency=0):\n",
    "    tweet_list_out = []\n",
    "    token_count = 0\n",
    "    for tweet in tweet_list_in:\n",
    "        accepted_tokens = []\n",
    "        tweet_tokens = tweet.split()\n",
    "        for token in tweet_tokens[1:]:\n",
    "            if token in counts_train and token in counts_test and \\\n",
    "               counts_train[token] / counts_train_total > minimum_frequency and \\\n",
    "               counts_test[token] / counts_test_total > minimum_frequency:\n",
    "                accepted_tokens.append(token)\n",
    "        token_count += 1 + len(accepted_tokens)\n",
    "        if len(accepted_tokens) == 0:\n",
    "            accepted_tokens = [ \"DUMMY\" ]\n",
    "        tweet_list_out.append(\" \".join(tweet_tokens[:1]+accepted_tokens))\n",
    "    print(token_count)\n",
    "    return(tweet_list_out)"
   ]
  },
  {
   "cell_type": "code",
   "execution_count": 160,
   "metadata": {},
   "outputs": [
    {
     "name": "stdout",
     "output_type": "stream",
     "text": [
      "137571\n",
      "36390\n"
     ]
    }
   ],
   "source": [
    "MINFREQ = 0.0002\n",
    "fasttext_data_list_distance_filtered = remove_infrequent_tokens(fasttext_data_list_distance, counts_train, counts_test, counts_train_total, counts_test_total, minimum_frequency=MINFREQ)\n",
    "fasttext_data_list_testing_filtered = remove_infrequent_tokens(fasttext_data_list_testing, counts_train, counts_test, counts_train_total, counts_test_total, minimum_frequency=MINFREQ)"
   ]
  },
  {
   "cell_type": "code",
   "execution_count": 71,
   "metadata": {},
   "outputs": [],
   "source": [
    "if False:\n",
    "    predictionCountsValidationDTD, predictionLabelsValidationDTD, predictionCountsTestDTD, predictionLabelsTestDTD = \\\n",
    "        runFasttext(fasttext_data_list_distance_filtered, fasttext_data_list_testing, squealFlag=False, dim=300, pretrainedVectors=\"twiqs-model-2020.vec\")"
   ]
  },
  {
   "cell_type": "code",
   "execution_count": 72,
   "metadata": {},
   "outputs": [],
   "source": [
    "if False:\n",
    "    store_fasttext_data(predictionLabelsTestDTD, \"predictionLabelsTestDTD0.0002A.pickle\")"
   ]
  },
  {
   "cell_type": "code",
   "execution_count": 161,
   "metadata": {},
   "outputs": [],
   "source": [
    "predictionLabelsTestDTD = read_fasttext_data(\"predictionLabelsTestDTD0.0002A.pickle\")"
   ]
  },
  {
   "cell_type": "markdown",
   "metadata": {},
   "source": [
    "|  method | train | test | accuracy | fraction | comment |\n",
    "| ------- | ----- | ---- | -------- | -------- | ------- |\n",
    "| none        | 196888 | 52387 | 0.385 | 0.478 | |\n",
    "| M = 0       | 171520 | 49477 | 0.379 | 0.650 | |\n",
    "| M = 0.00001 | 170682 | 48139 | 0.375 | 0.650 | |\n",
    "| M = 0.0001  | 145771 | 39891 | 0.379 | 0.688 | |\n",
    "| M = 0.0002  | 137571 | 36390 | 0.390 | 0.833 | |\n",
    "| M = 0.0003  | 127440 | 34457 | 0.359 | 0.776 | |\n",
    "| M = 0.0004  | 119718 | 32913 | 0.346 | 0.764 | |\n",
    "| M = 0.001   |  99965 | 28123 | 0.327 | 0.186 | |\n",
    "| M = 0.01    |  46634 | 12909 | 0.289 | 0.006 | |\n",
    "| M = 0.1     |   5731 |  1181 | 0.288 | 0.000 | |\n",
    "| M = 0       | 171520 | 52387 | 0.381 | 0.635 | |\n",
    "| M = 0.00001 | 170682 | 52387 | 0.374 | 0.637 | |\n",
    "| M = 0.0001  | 145771 | 52387 | 0.378 | 0.665 | |\n",
    "| M = 0.0002  | 137571 | 52387 | 0.395 | 0.860 | |\n",
    "| M = 0.0003  | 127440 | 52387 | 0.358 | 0.764 | |\n",
    "| M = 0.0004  | 119718 | 52387 | 0.345 | 0.769 | |\n",
    "| M = 0.001   |  99965 | 52387 | 0.324 | 0.193 | |\n",
    "| M = 0.01    |  46634 | 52387 | 0.290 | 0.007 | |\n",
    "| M = 0.1     |   5731 | 52387 | 0.288 | 0.000 | |\n",
    "| M = 0       | 171520 | 49477 | 0.393 | 0.736 | +model |\n",
    "| M = 0.0002  | 137571 | 36390 | 0.385 | 0.841 | +model |\n",
    "| M = 0.0002  | 137571 | 52387 | 0.380 | 0.734 | +model |"
   ]
  },
  {
   "cell_type": "code",
   "execution_count": 162,
   "metadata": {},
   "outputs": [],
   "source": [
    "data_predicted_dtd = make_data_predicted(predictionLabelsTestDTD, tweet_ids_testing, time_factor=time_factor)"
   ]
  },
  {
   "cell_type": "code",
   "execution_count": 163,
   "metadata": {},
   "outputs": [
    {
     "data": {
      "image/png": "[encoded data removed]",
      "text/plain": [
       "<Figure size 432x288 with 1 Axes>"
      ]
     },
     "metadata": {
      "needs_background": "light"
     },
     "output_type": "display_data"
    }
   ],
   "source": [
    "plot_data_predicted_dt = convert(data_predicted_dt)\n",
    "plot_data_predicted_tt = convert(data_predicted_tt)\n",
    "plot_data_predicted_et = convert(data_predicted_et)\n",
    "plot_data_predicted_dt_inflated = convert(data_predicted_dt_inflated)\n",
    "plot_data_predicted_dtd = convert(data_predicted_dtd)\n",
    "plot_data_gold = convert(data_gold)\n",
    "\n",
    "x_gold = [x[0] for x in plot_data_gold]\n",
    "y_gold = [x[1] for x in plot_data_gold]\n",
    "x_dt = [x[0] for x in plot_data_predicted_dt]\n",
    "y_dt = [x[1] for x in plot_data_predicted_dt]\n",
    "x_tt = [x[0] for x in plot_data_predicted_tt]\n",
    "y_tt = [x[1] for x in plot_data_predicted_tt]\n",
    "x_et = [x[0] for x in plot_data_predicted_et]\n",
    "y_et = [x[1] for x in plot_data_predicted_et]\n",
    "x_dt_inflated = [x[0] for x in plot_data_predicted_dt_inflated]\n",
    "y_dt_inflated = [x[1] for x in plot_data_predicted_dt_inflated]\n",
    "x_dtd = [x[0] for x in plot_data_predicted_dtd]\n",
    "y_dtd = [x[1] for x in plot_data_predicted_dtd]\n",
    "\n",
    "plt.plot(x_dt, y_dt, label=\"predicted (out-of-domain)\", c=\"C0\")\n",
    "plt.plot(x_tt, y_tt, label=\"predicted (in-domain)\", c=\"C1\")\n",
    "plt.plot(x_gold, y_gold, label=\"gold\", c=\"C2\")\n",
    "#plt.plot(x_et, y_et, label=\"predicted (added data)\", c=\"C3\")\n",
    "#plt.plot(x_dt_inflated, y_dt_inflated, label=\"predicted (out-of-domain, inflated)\", c=\"C4\")\n",
    "plt.plot(x_dtd, y_dtd, label=\"predicted (out-of-domain, no domain words)\", c=\"C6\")\n",
    "\n",
    "plt.legend()\n",
    "plt.title(\"predicting COVID-19 testing with social distancing data\")\n",
    "plt.savefig(\"distancing-to-testing.png\")\n",
    "plt.show()"
   ]
  },
  {
   "cell_type": "markdown",
   "metadata": {},
   "source": [
    "### Training and testing on only relevant data (old)"
   ]
  },
  {
   "cell_type": "code",
   "execution_count": 164,
   "metadata": {},
   "outputs": [
    {
     "data": {
      "text/plain": [
       "4364"
      ]
     },
     "execution_count": 164,
     "metadata": {},
     "output_type": "execute_result"
    }
   ],
   "source": [
    "fasttext_data_list_distance_relevant = [ line for line in fasttext_data_list_distance if not re.search(\"^__label__IRRELEVANT\", line) ]\n",
    "len(fasttext_data_list_distance_relevant)"
   ]
  },
  {
   "cell_type": "code",
   "execution_count": 77,
   "metadata": {},
   "outputs": [
    {
     "name": "stdout",
     "output_type": "stream",
     "text": [
      "0 cases: 118; precision: 0.576; recall: 0.576; fraction: 0.604\n",
      "1 cases: 118; precision: 0.585; recall: 0.585; fraction: 1.217\n",
      "2 cases: 118; precision: 0.636; recall: 0.636; fraction: 1.166\n",
      "3 cases: 118; precision: 0.593; recall: 0.593; fraction: 0.697\n",
      "4 cases: 118; precision: 0.610; recall: 0.610; fraction: 1.067\n",
      "5 cases: 119; precision: 0.580; recall: 0.580; fraction: 0.549\n",
      "6 cases: 118; precision: 0.576; recall: 0.576; fraction: 0.441\n",
      "7 cases: 118; precision: 0.695; recall: 0.695; fraction: 0.588\n",
      "8 cases: 118; precision: 0.525; recall: 0.525; fraction: 2.698\n",
      "9 cases: 118; precision: 0.576; recall: 0.576; fraction: 0.549\n",
      " col_0                __label__IRRELEVANT  __label__REJECTS  __label__SUPPORTS\n",
      "row_0                                                                        \n",
      "__label__IRRELEVANT                  442                50                139\n",
      "__label__REJECTS                      85                95                 30\n",
      "__label__SUPPORTS                    152                22                166\n",
      "cases: 1181; precision: 0.595; recall: 0.595; fraction: 0.807\n"
     ]
    }
   ],
   "source": [
    "if False:\n",
    "    predictionCountsValidationT, predictionLabelsValidationT, predictionCountsTestT, predictionLabelsTestT = \\\n",
    "        runFasttext(fasttext_data_list_testing, fasttext_data_list_testing, squealFlag=False, dim=300, pretrainedVectors=\"twiqs-model-2020.vec\")"
   ]
  },
  {
   "cell_type": "code",
   "execution_count": 78,
   "metadata": {},
   "outputs": [],
   "source": [
    "if False:\n",
    "    store_fasttext_data(predictionLabelsTestT, \"predictionLabelsTestT.pickle\")"
   ]
  },
  {
   "cell_type": "code",
   "execution_count": 165,
   "metadata": {},
   "outputs": [],
   "source": [
    "predictionLabelsTestT = read_fasttext_data(\"predictionLabelsTestT.pickle\")"
   ]
  },
  {
   "cell_type": "code",
   "execution_count": 166,
   "metadata": {},
   "outputs": [],
   "source": [
    "fasttext_data_list_testing_relevant = []\n",
    "i = 0\n",
    "for fold in predictionLabelsTestT:\n",
    "    for prediction_order_list in fold[0]:\n",
    "        if prediction_order_list[0] != \"__label__IRRELEVANT\":\n",
    "            tweet = re.sub(\"^__label__IRRELEVANT\", \"__label__SUPPORTS\", fasttext_data_list_testing[i])\n",
    "            fasttext_data_list_testing_relevant.append(tweet)\n",
    "        i += 1"
   ]
  },
  {
   "cell_type": "code",
   "execution_count": 167,
   "metadata": {},
   "outputs": [
    {
     "data": {
      "text/plain": [
       "(4364, 502)"
      ]
     },
     "execution_count": 167,
     "metadata": {},
     "output_type": "execute_result"
    }
   ],
   "source": [
    "len(fasttext_data_list_distance_relevant), len(fasttext_data_list_testing_relevant)"
   ]
  },
  {
   "cell_type": "code",
   "execution_count": 181,
   "metadata": {},
   "outputs": [
    {
     "name": "stdout",
     "output_type": "stream",
     "text": [
      "0 cases: 50; precision: 0.660; recall: 0.660; fraction: 2.144\n",
      "1 cases: 50; precision: 0.800; recall: 0.800; fraction: 0.826\n",
      "2 cases: 51; precision: 0.725; recall: 0.725; fraction: 0.779\n",
      "3 cases: 50; precision: 0.820; recall: 0.820; fraction: 1.092\n",
      "4 cases: 50; precision: 0.660; recall: 0.660; fraction: 2.452\n",
      "5 cases: 50; precision: 0.840; recall: 0.840; fraction: 1.568\n",
      "6 cases: 50; precision: 0.760; recall: 0.760; fraction: 1.185\n",
      "7 cases: 51; precision: 0.627; recall: 0.627; fraction: 0.664\n",
      "8 cases: 50; precision: 0.740; recall: 0.740; fraction: 1.631\n",
      "9 cases: 50; precision: 0.580; recall: 0.580; fraction: 6.000\n",
      " col_0              __label__REJECTS  __label__SUPPORTS\n",
      "row_0                                                 \n",
      "__label__REJECTS                 71                 54\n",
      "__label__SUPPORTS                86                291\n",
      "cases: 502; precision: 0.721; recall: 0.721; fraction: 1.372\n"
     ]
    }
   ],
   "source": [
    "if False:\n",
    "    predictionCountsValidationDTR, predictionLabelsValidationDTR, predictionCountsTestDTR, predictionLabelsTestDTR = \\\n",
    "        runFasttext(fasttext_data_list_distance_relevant, fasttext_data_list_testing_relevant, squealFlag=False, dim=300, pretrainedVectors=\"twiqs-model-2020.vec\")"
   ]
  },
  {
   "cell_type": "code",
   "execution_count": 182,
   "metadata": {},
   "outputs": [],
   "source": [
    "if False:\n",
    "    store_fasttext_data(predictionLabelsTestDTR, \"predictionLabelsTestDTR.pickle\")"
   ]
  },
  {
   "cell_type": "code",
   "execution_count": 183,
   "metadata": {},
   "outputs": [],
   "source": [
    "predictionLabelsTestDTR = read_fasttext_data(\"predictionLabelsTestDTR.pickle\")"
   ]
  },
  {
   "cell_type": "code",
   "execution_count": 184,
   "metadata": {},
   "outputs": [
    {
     "data": {
      "text/plain": [
       "1181"
      ]
     },
     "execution_count": 184,
     "metadata": {},
     "output_type": "execute_result"
    }
   ],
   "source": [
    "predictionLabelsTestDTRrestored = []\n",
    "fold_count = 0\n",
    "for fold in predictionLabelsTestT:\n",
    "    predictionLabelsTestDTRrestored.append(([[]]))\n",
    "    tweet_count = 0\n",
    "    for prediction_order_list in fold[0]:\n",
    "        if prediction_order_list[0] == \"__label__IRRELEVANT\":\n",
    "            predictionLabelsTestDTRrestored[-1][0].append(prediction_order_list)\n",
    "        else:\n",
    "            if tweet_count >= len(predictionLabelsTestDTR[fold_count][0]):\n",
    "                break\n",
    "            predictionLabelsTestDTRrestored[-1][0].append(predictionLabelsTestDTR[fold_count][0][tweet_count])\n",
    "            tweet_count += 1\n",
    "    for i in range(len(predictionLabelsTestDTRrestored[-1][0]), len(fold[0])):\n",
    "        predictionLabelsTestDTRrestored[-1][0].append(fold[0][i])\n",
    "    fold_count += 1\n",
    "sum([len(fold[0]) for fold in predictionLabelsTestDTRrestored])"
   ]
  },
  {
   "cell_type": "code",
   "execution_count": 185,
   "metadata": {},
   "outputs": [],
   "source": [
    "data_predicted_dtr = make_data_predicted(predictionLabelsTestDTRrestored, tweet_ids_testing, time_factor=time_factor)"
   ]
  },
  {
   "cell_type": "code",
   "execution_count": 186,
   "metadata": {},
   "outputs": [
    {
     "data": {
      "image/png": "[encoded data removed]",
      "text/plain": [
       "<Figure size 432x288 with 1 Axes>"
      ]
     },
     "metadata": {
      "needs_background": "light"
     },
     "output_type": "display_data"
    }
   ],
   "source": [
    "plot_data_predicted_dt = convert(data_predicted_dt)\n",
    "plot_data_predicted_tt = convert(data_predicted_tt)\n",
    "plot_data_predicted_et = convert(data_predicted_et)\n",
    "plot_data_predicted_dt_inflated = convert(data_predicted_dt_inflated)\n",
    "plot_data_predicted_dtd = convert(data_predicted_dtd)\n",
    "plot_data_predicted_dtr = convert(data_predicted_dtr)\n",
    "plot_data_gold = convert(data_gold)\n",
    "\n",
    "x_gold = [x[0] for x in plot_data_gold]\n",
    "y_gold = [x[1] for x in plot_data_gold]\n",
    "x_dt = [x[0] for x in plot_data_predicted_dt]\n",
    "y_dt = [x[1] for x in plot_data_predicted_dt]\n",
    "x_tt = [x[0] for x in plot_data_predicted_tt]\n",
    "y_tt = [x[1] for x in plot_data_predicted_tt]\n",
    "x_et = [x[0] for x in plot_data_predicted_et]\n",
    "y_et = [x[1] for x in plot_data_predicted_et]\n",
    "x_dt_inflated = [x[0] for x in plot_data_predicted_dt_inflated]\n",
    "y_dt_inflated = [x[1] for x in plot_data_predicted_dt_inflated]\n",
    "x_dtd = [x[0] for x in plot_data_predicted_dtd]\n",
    "y_dtd = [x[1] for x in plot_data_predicted_dtd]\n",
    "x_dtr = [x[0] for x in plot_data_predicted_dtr]\n",
    "y_dtr = [x[1] for x in plot_data_predicted_dtr]\n",
    "\n",
    "plt.plot(x_gold, y_gold, label=\"gold\", c=\"C2\")\n",
    "#plt.plot(x_dt, y_dt, label=\"predicted (out-of-domain)\", c=\"C0\")\n",
    "#plt.plot(x_tt, y_tt, label=\"predicted (in-domain)\", c=\"C1\")\n",
    "#lt.plot(x_et, y_et, label=\"predicted (added data)\", c=\"C3\")\n",
    "#plt.plot(x_dt_inflated, y_dt_inflated, label=\"predicted (out-of-domain, inflated)\", c=\"C4\")\n",
    "plt.plot(x_dtd, y_dtd, label=\"predicted (no domain words)\", c=\"C6\")\n",
    "plt.plot(x_dtr, y_dtr, label=\"predicted (relevant data)\", c=\"C7\")\n",
    "\n",
    "plt.ylim(0.3, 1.0)\n",
    "plt.legend()\n",
    "plt.title(\"predicting COVID-19 testing with social distancing data\")\n",
    "plt.savefig(\"distancing-to-testing.png\")\n",
    "plt.show()"
   ]
  },
  {
   "cell_type": "markdown",
   "metadata": {},
   "source": [
    "### Numerical analysis of predictions (old)"
   ]
  },
  {
   "cell_type": "code",
   "execution_count": 187,
   "metadata": {},
   "outputs": [],
   "source": [
    "plot_data_predicted_dt_dict = { x[0]:x[1] for x in plot_data_predicted_dt }\n",
    "plot_data_predicted_tt_dict = { x[0]:x[1] for x in plot_data_predicted_tt }\n",
    "plot_data_predicted_dt_inflated_dict = { x[0]:x[1] for x in plot_data_predicted_dt_inflated }\n",
    "plot_data_predicted_dtd_dict = { x[0]:x[1] for x in plot_data_predicted_dtd }\n",
    "plot_data_predicted_dtr_dict = { x[0]:x[1] for x in plot_data_predicted_dtr }\n",
    "plot_data_predicted_et_dict = { x[0]:x[1] for x in plot_data_predicted_et }\n",
    "plot_data_gold_dict = { x[0]:x[1] for x in plot_data_gold }"
   ]
  },
  {
   "cell_type": "code",
   "execution_count": 188,
   "metadata": {},
   "outputs": [
    {
     "name": "stdout",
     "output_type": "stream",
     "text": [
      "Pearson r correlation gold vs in-domain: 0.93\n",
      "Pearson r correlation gold vs out-of-domain: 0.72\n",
      "Pearson r correlation gold vs out-of-domain (inflated): 0.73\n",
      "Pearson r correlation gold vs out-of-domain (no domain data): 0.59\n",
      "Pearson r correlation gold vs out-of-domain (relevant data): 0.71\n",
      "Pearson r correlation gold vs out-of-domain (extra data): 0.87\n"
     ]
    }
   ],
   "source": [
    "values_tt, values_gold_tt = get_common_key_values(plot_data_predicted_tt_dict, plot_data_gold_dict)\n",
    "print(\"Pearson r correlation gold vs in-domain:\", round(scipy.stats.linregress(np.array(values_gold_tt), np.array(values_tt)).rvalue, 2))\n",
    "values_dt, values_gold_dt = get_common_key_values(plot_data_predicted_dt_dict, plot_data_gold_dict)\n",
    "print(\"Pearson r correlation gold vs out-of-domain:\", round(scipy.stats.linregress(np.array(values_gold_dt), np.array(values_dt)).rvalue, 2))\n",
    "values_dt_inflated, values_gold_dt_inflated = get_common_key_values(plot_data_predicted_dt_inflated_dict, plot_data_gold_dict)\n",
    "print(\"Pearson r correlation gold vs out-of-domain (inflated):\", round(scipy.stats.linregress(np.array(values_gold_dt_inflated), np.array(values_dt_inflated)).rvalue, 2))\n",
    "values_dtd, values_gold_dtd = get_common_key_values(plot_data_predicted_dtd_dict, plot_data_gold_dict)\n",
    "print(\"Pearson r correlation gold vs out-of-domain (no domain data):\", round(scipy.stats.linregress(np.array(values_gold_dtd), np.array(values_dtd)).rvalue, 2))\n",
    "values_dtr, values_gold_dtr = get_common_key_values(plot_data_predicted_dtr_dict, plot_data_gold_dict)\n",
    "print(\"Pearson r correlation gold vs out-of-domain (relevant data):\", round(scipy.stats.linregress(np.array(values_gold_dtr), np.array(values_dtr)).rvalue, 2))\n",
    "values_et, values_gold_et = get_common_key_values(plot_data_predicted_et_dict, plot_data_gold_dict)\n",
    "print(\"Pearson r correlation gold vs out-of-domain (extra data):\", round(scipy.stats.linregress(np.array(values_gold_et), np.array(values_et)).rvalue, 2))"
   ]
  },
  {
   "cell_type": "code",
   "execution_count": 189,
   "metadata": {},
   "outputs": [
    {
     "name": "stdout",
     "output_type": "stream",
     "text": [
      "absolute difference gold vs in-domain: 0.07\n",
      "absolute difference gold vs out-of-domain: 0.18\n",
      "absolute difference gold vs out-of-domain (inflated): 0.12\n",
      "absolute difference gold vs out-of-domain (no domain data): 0.16\n",
      "absolute difference gold vs out-of-domain (relevant data): 0.15\n",
      "absolute difference gold vs out-of-domain (extra data): 0.08\n"
     ]
    }
   ],
   "source": [
    "print(\"absolute difference gold vs in-domain:\", round(absolute_difference(values_gold_tt, values_tt), 2))\n",
    "print(\"absolute difference gold vs out-of-domain:\", round(absolute_difference(values_gold_dt, values_dt),2)) \n",
    "print(\"absolute difference gold vs out-of-domain (inflated):\", round(absolute_difference(values_gold_dt_inflated, values_dt_inflated),2))\n",
    "print(\"absolute difference gold vs out-of-domain (no domain data):\", round(absolute_difference(values_gold_dtd, values_dtd),2))\n",
    "print(\"absolute difference gold vs out-of-domain (relevant data):\", round(absolute_difference(values_gold_dtr, values_dtr),2))\n",
    "print(\"absolute difference gold vs out-of-domain (extra data):\", round(absolute_difference(values_gold_et, values_et),2)) "
   ]
  },
  {
   "cell_type": "code",
   "execution_count": null,
   "metadata": {},
   "outputs": [],
   "source": []
  }
 ],
 "metadata": {
  "kernelspec": {
   "display_name": "python37",
   "language": "python",
   "name": "python37"
  },
  "language_info": {
   "codemirror_mode": {
    "name": "ipython",
    "version": 3
   },
   "file_extension": ".py",
   "mimetype": "text/x-python",
   "name": "python",
   "nbconvert_exporter": "python",
   "pygments_lexer": "ipython3",
   "version": "3.7.3"
  }
 },
 "nbformat": 4,
 "nbformat_minor": 4
}
