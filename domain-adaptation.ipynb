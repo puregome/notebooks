{
 "cells": [
  {
   "cell_type": "markdown",
   "metadata": {},
   "source": [
    "## Domain adaptation"
   ]
  },
  {
   "cell_type": "code",
   "execution_count": 1,
   "metadata": {},
   "outputs": [],
   "source": [
    "import fasttext\n",
    "import matplotlib.pyplot as plt\n",
    "import numpy as np\n",
    "import os\n",
    "import pandas as pd\n",
    "import pickle\n",
    "import random\n",
    "import re\n",
    "import scipy.stats\n",
    "from nltk.tokenize import TweetTokenizer\n",
    "from IPython.display import clear_output"
   ]
  },
  {
   "cell_type": "code",
   "execution_count": 2,
   "metadata": {},
   "outputs": [],
   "source": [
    "DATADIR = \"../data/\"\n",
    "DISTANCE = \"distance\"\n",
    "FILEFASTTEXT = \"fasttext.csv\"\n",
    "IDSTR = \"id_str\"\n",
    "IRRELEVANT = \"IRRELEVANT\"\n",
    "NEUTRAL = \"NEUTRAL\"\n",
    "ANDERS = \"ANDERS\"\n",
    "EENS = \"EENS\"\n",
    "ONEENS = \"ONEENS\"\n",
    "SUPPORTS = \"SUPPORTS\"\n",
    "REJECTS = \"REJECTS\"\n",
    "LABEL = \"label\"\n",
    "TEXT = \"text\"\n",
    "USER = \"user\"\n",
    "LABELPREFIX = \"__label__\"\n",
    "LARGEINT = 9999999999"
   ]
  },
  {
   "cell_type": "code",
   "execution_count": 3,
   "metadata": {},
   "outputs": [],
   "source": [
    "DIM = 100\n",
    "EPOCH = 100\n",
    "LR = 0.05\n",
    "N = 10\n",
    "TRAIN = \"TRAIN\"+str(int(random.random()*LARGEINT))\n",
    "TEST = \"TEST\"+str(int(random.random()*LARGEINT))\n",
    "VALIDATION = \"VALIDATION\"+str(int(random.random()*LARGEINT))"
   ]
  },
  {
   "cell_type": "code",
   "execution_count": 4,
   "metadata": {},
   "outputs": [],
   "source": [
    "def cleanup(text):\n",
    "    text = re.sub(r\"\\\\n\",\" \",text)\n",
    "    text = re.sub(r\"https://\\S+\",\"\",text)\n",
    "    text = re.sub(r\"\\s+\",\" \",text)\n",
    "    text = text.strip()\n",
    "    return(text)\n",
    "\n",
    "\n",
    "def tokenize(text):\n",
    "    return(\" \".join(TweetTokenizer().tokenize(text)))\n",
    "\n",
    "\n",
    "def preprocess(text):\n",
    "    return(tokenize(cleanup(text)).lower())\n",
    "\n",
    "\n",
    "def select_annotations(tweets, annotations, target_annotator):\n",
    "    fasttext_data = {}\n",
    "    for i in range(0,len(annotations)):\n",
    "        annotator = annotations.iloc[i][0]\n",
    "        tweet_id = annotations.iloc[i][2]\n",
    "        if annotator == target_annotator and tweet_id in list(tweets.index):\n",
    "            tweet_user = tweets.loc[tweet_id][1]\n",
    "            tweet_label = annotations.iloc[i][4]\n",
    "            if tweet_label == NEUTRAL: tweet_label = IRRELEVANT\n",
    "            if tweet_label == ANDERS: tweet_label = IRRELEVANT\n",
    "            if tweet_label == EENS: tweet_label = SUPPORTS\n",
    "            if tweet_label == ONEENS: tweet_label = REJECTS\n",
    "            fasttext_data[tweet_id] = { LABEL:LABELPREFIX+tweet_label,\n",
    "                                        USER:tweet_user,\n",
    "                                        TEXT:preprocess(tweets.loc[tweet_id][TEXT]) }\n",
    "    return(fasttext_data)\n",
    "\n",
    "\n",
    "def store_fasttext_data(fasttext_data):\n",
    "    outfile = open(FILEFASTTEXT, \"w\")\n",
    "    seen_texts = {}\n",
    "    fasttext_data_list = []\n",
    "    tweet_ids = []\n",
    "    for tweet_id in fasttext_data:\n",
    "        text = cleanup(fasttext_data[tweet_id][TEXT])\n",
    "        if not text in seen_texts:\n",
    "            print(fasttext_data[tweet_id][LABEL], text, file=outfile)\n",
    "            fasttext_data_list.append(\" \".join([fasttext_data[tweet_id][LABEL], text]))\n",
    "            tweet_ids.append(tweet_id)\n",
    "            seen_texts[text] = True\n",
    "    outfile.close()\n",
    "    return(fasttext_data_list, tweet_ids)"
   ]
  },
  {
   "cell_type": "code",
   "execution_count": 5,
   "metadata": {},
   "outputs": [],
   "source": [
    "def make_fasttext_data(topic):\n",
    "    if topic == DISTANCE:\n",
    "        tweet_file = DATADIR + topic + \"-tweets.csv\"\n",
    "    else:\n",
    "        tweet_file = DATADIR + topic + \"-tweets+nunl.csv\"\n",
    "    tweets = pd.read_csv(tweet_file, index_col=IDSTR)   \n",
    "    annotations = pd.read_csv(tweet_file + \".human-labels.txt\", header=None, sep=\" \")        \n",
    "    main_annotator = annotations.iloc[0][0]\n",
    "    fasttext_data = select_annotations(tweets, annotations, main_annotator)\n",
    "    fasttext_data_list, tweet_ids = store_fasttext_data(fasttext_data)\n",
    "    return(fasttext_data_list, tweet_ids)"
   ]
  },
  {
   "cell_type": "code",
   "execution_count": 6,
   "metadata": {},
   "outputs": [],
   "source": [
    "def makeConfusionMatrix(fasttextData,predictionLabels):\n",
    "    goldLabels = pd.Series([fasttextData[i].split()[0] for i in range(0,len(fasttextData))])\n",
    "    predictedLabels = pd.Series([x[0] for row in predictionLabels for x in row[0]])\n",
    "    return(pd.crosstab(goldLabels,predictedLabels))\n",
    "\n",
    "def evaluate(predictionCounts,predictionLabels,fasttextData,printResults=True,printMatrix=False):\n",
    "    caseTotal = 0\n",
    "    pTotal = 0\n",
    "    rTotal = 0\n",
    "    for i in range(0,len(predictionCounts)):\n",
    "        caseTotal += predictionCounts[i][0]\n",
    "        pTotal += predictionCounts[i][0]*predictionCounts[i][1]\n",
    "        rTotal += predictionCounts[i][0]*predictionCounts[i][2]\n",
    "    precision = round(pTotal/caseTotal,3)\n",
    "    recall = round(rTotal/caseTotal,3)\n",
    "    cf = makeConfusionMatrix(fasttextData,predictionLabels)\n",
    "    if printMatrix:\n",
    "        print(cf)\n",
    "    for label in ['__label__REJECTS','__label__SUPPORTS','__label__IRRELEVANT']:\n",
    "        if not label in cf: cf[label] = [0 for i in range(0,len(cf))]\n",
    "    numberOfPredictedSupportLabels = sum([cf.iloc[i]['__label__SUPPORTS'] for i in range(0,len(cf))])\n",
    "    numberOfGoldSupportLabels = sum(cf.loc['__label__SUPPORTS'])\n",
    "    numberOfPredictedRejectLabels = sum([cf.iloc[i]['__label__REJECTS'] for i in range(0,len(cf))])\n",
    "    numberOfGoldRejectLabels = sum(cf.loc['__label__REJECTS'])\n",
    "    if numberOfPredictedSupportLabels > 0 and numberOfGoldRejectLabels > 0 and numberOfGoldSupportLabels > 0:\n",
    "        fraction = (numberOfPredictedRejectLabels/numberOfPredictedSupportLabels)/(numberOfGoldRejectLabels/numberOfGoldSupportLabels)\n",
    "    else:\n",
    "        fraction = LARGEINT\n",
    "    if printResults: \n",
    "        print(\"cases: {0}; precision: {1:0.3f}; recall: {2:0.3f}; fraction: {3:0.3f}\".format(caseTotal,precision,recall,fraction))\n",
    "    return((precision,fraction))\n",
    "\n",
    "def runFasttext(fasttextData1,fasttextData2,dim=DIM,epoch=EPOCH,lr=LR,n=N,squealFlag=True,maxTrain=None,pretrainedVectors=None):\n",
    "    predictionCountsTest = []\n",
    "    predictionLabelsTest = []\n",
    "    predictionCountsValidation = []\n",
    "    predictionLabelsValidation = []\n",
    "    for fold in range(0,n):\n",
    "        if squealFlag:\n",
    "            clear_output(wait=True)\n",
    "            print(\"starting fold\",fold)\n",
    "        testStart1 = round(fold*len(fasttextData1)/n)\n",
    "        testEnd1 = round((fold+1)*len(fasttextData1)/n)\n",
    "        testStart2 = round(fold*len(fasttextData2)/n)\n",
    "        testEnd2 = round((fold+1)*len(fasttextData2)/n)\n",
    "        if fold < n-1: nextFold = fold+1\n",
    "        else: nextFold = 0\n",
    "        validationStart1 = round(nextFold*len(fasttextData1)/n)\n",
    "        validationEnd1 = round((nextFold+1)*len(fasttextData1)/n)\n",
    "        validationStart2 = round(nextFold*len(fasttextData2)/n)\n",
    "        validationEnd2 = round((nextFold+1)*len(fasttextData2)/n)\n",
    "        trainFile = open(TRAIN,\"w\")\n",
    "        testFile = open(TEST,\"w\")\n",
    "        validationFile = open(VALIDATION,\"w\")\n",
    "        trainData = []\n",
    "        validationData = []\n",
    "        testData = []\n",
    "        for i in range(0,len(fasttextData1)):\n",
    "            data = fasttextData1[i]\n",
    "            if i >= testStart1 and i < testEnd1: \n",
    "                pass\n",
    "            elif i >= validationStart1 and i < validationEnd1: \n",
    "                pass\n",
    "            else: \n",
    "                print(data,file=trainFile)\n",
    "                trainData.append(data)\n",
    "        for i in range(0,len(fasttextData2)):\n",
    "            data = fasttextData2[i]\n",
    "            if i >= testStart2 and i < testEnd2: \n",
    "                print(data,file=testFile)\n",
    "                testData.append(data)\n",
    "            elif i >= validationStart2 and i < validationEnd2: \n",
    "                print(data,file=validationFile)\n",
    "                validationData.append(data)\n",
    "        testFile.close()\n",
    "        trainFile.close()\n",
    "        validationFile.close()\n",
    "        if not maxTrain == None and maxTrain < len(trainData):\n",
    "            trainData = ranSelect(trainData,maxTrain)\n",
    "            trainFile = open(TRAIN,\"w\")\n",
    "            for i in range(0,len(trainData)):\n",
    "                print(trainData[i],file=trainFile)\n",
    "            trainFile.close()\n",
    "        if pretrainedVectors == None:\n",
    "            model = fasttext.train_supervised(TRAIN, dim=dim, epoch=epoch, lr=lr)\n",
    "        else:\n",
    "            model = fasttext.train_supervised(TRAIN, dim=dim, epoch=epoch, lr=lr, pretrainedVectors=pretrainedVectors)\n",
    "        predictionCountsValidation.append([*model.test(VALIDATION)])\n",
    "        predictionLabelsValidation.append(model.predict(validationData, k=3))\n",
    "        predictionCountsTest.append([*model.test(TEST)])\n",
    "        predictionLabelsTest.append(model.predict(testData, k=3))\n",
    "        print(fold, end=\" \")\n",
    "        evaluate([[*model.test(TEST)]], [model.predict(testData)], fasttextData2[testStart2:testEnd2])\n",
    "        os.unlink(TRAIN)\n",
    "        os.unlink(TEST)\n",
    "        os.unlink(VALIDATION)\n",
    "    print(\"\", end=\" \")\n",
    "    evaluate(predictionCountsTest, predictionLabelsTest, fasttextData2, printMatrix=True)\n",
    "    if squealFlag:\n",
    "        clear_output(wait=True)\n",
    "        print(\"finished\")\n",
    "    return(predictionCountsValidation,predictionLabelsValidation,predictionCountsTest,predictionLabelsTest)"
   ]
  },
  {
   "cell_type": "code",
   "execution_count": 7,
   "metadata": {},
   "outputs": [],
   "source": [
    "fasttext_data_list_distance, tweet_ids_distance = make_fasttext_data(\"distance\")\n",
    "fasttext_data_list_facemask, tweet_ids_facemask = make_fasttext_data(\"mondkapje\")"
   ]
  },
  {
   "cell_type": "markdown",
   "metadata": {},
   "source": [
    "## Evaluation within domains"
   ]
  },
  {
   "cell_type": "code",
   "execution_count": 8,
   "metadata": {},
   "outputs": [],
   "source": [
    "def store_fasttext_data(data, file_name):\n",
    "    with open(file_name, \"wb\") as outfile:\n",
    "        pickle.dump(data, outfile)\n",
    "        outfile.close()\n",
    "        \n",
    "def read_fasttext_data(file_name):\n",
    "    with open(file_name, \"rb\") as infile:\n",
    "        data = pickle.load(infile)\n",
    "        infile.close()\n",
    "    return(data)"
   ]
  },
  {
   "cell_type": "code",
   "execution_count": 39,
   "metadata": {},
   "outputs": [
    {
     "name": "stdout",
     "output_type": "stream",
     "text": [
      "0 cases: 573; precision: 0.691; recall: 0.691; fraction: 0.996\n",
      "1 cases: 573; precision: 0.754; recall: 0.754; fraction: 1.188\n",
      "2 cases: 573; precision: 0.555; recall: 0.555; fraction: 0.784\n",
      "3 cases: 573; precision: 0.628; recall: 0.628; fraction: 1.165\n",
      "4 cases: 574; precision: 0.622; recall: 0.622; fraction: 1.152\n",
      "5 cases: 573; precision: 0.640; recall: 0.640; fraction: 0.741\n",
      "6 cases: 573; precision: 0.660; recall: 0.660; fraction: 0.714\n",
      "7 cases: 573; precision: 0.695; recall: 0.695; fraction: 0.750\n",
      "8 cases: 573; precision: 0.663; recall: 0.663; fraction: 0.868\n",
      "9 cases: 573; precision: 0.660; recall: 0.660; fraction: 0.995\n",
      " col_0                __label__IRRELEVANT  __label__REJECTS  __label__SUPPORTS\n",
      "row_0                                                                        \n",
      "__label__IRRELEVANT                  575               201                591\n",
      "__label__REJECTS                     199               641                296\n",
      "__label__SUPPORTS                    433               247               2548\n",
      "cases: 5731; precision: 0.657; recall: 0.657; fraction: 0.901\n"
     ]
    }
   ],
   "source": [
    "predictionCountsValidationDD,predictionLabelsValidationDD,predictionCountsTestDD,predictionLabelsTestDD = \\\n",
    "    runFasttext(fasttext_data_list_distance, fasttext_data_list_distance, squealFlag=False, dim=300, pretrainedVectors=\"model-2020.vec\")"
   ]
  },
  {
   "cell_type": "code",
   "execution_count": 40,
   "metadata": {},
   "outputs": [],
   "source": [
    "store_fasttext_data(predictionLabelsTestDD, \"predictionLabelsTestDD.pickle\")"
   ]
  },
  {
   "cell_type": "code",
   "execution_count": 89,
   "metadata": {},
   "outputs": [
    {
     "name": "stdout",
     "output_type": "stream",
     "text": [
      "0 cases: 132; precision: 0.674; recall: 0.674; fraction: 1.266\n",
      "1 cases: 132; precision: 0.561; recall: 0.561; fraction: 0.829\n",
      "2 cases: 133; precision: 0.602; recall: 0.602; fraction: 3.656\n",
      "3 cases: 132; precision: 0.629; recall: 0.629; fraction: 2.941\n",
      "4 cases: 132; precision: 0.576; recall: 0.576; fraction: 0.729\n",
      "5 cases: 132; precision: 0.553; recall: 0.553; fraction: 1.485\n",
      "6 cases: 132; precision: 0.530; recall: 0.530; fraction: 1.360\n",
      "7 cases: 133; precision: 0.534; recall: 0.534; fraction: 1.042\n",
      "8 cases: 132; precision: 0.485; recall: 0.485; fraction: 1.400\n",
      "9 cases: 132; precision: 0.500; recall: 0.500; fraction: 2.209\n",
      " col_0                __label__IRRELEVANT  __label__REJECTS  __label__SUPPORTS\n",
      "row_0                                                                        \n",
      "__label__IRRELEVANT                  305               182                 71\n",
      "__label__REJECTS                     137               369                 43\n",
      "__label__SUPPORTS                     66                77                 72\n",
      "cases: 1322; precision: 0.564; recall: 0.564; fraction: 1.322\n"
     ]
    }
   ],
   "source": [
    "predictionCountsValidationFF,predictionLabelsValidationFF,predictionCountsTestFF,predictionLabelsTestFF = \\\n",
    "    runFasttext(fasttext_data_list_facemask, fasttext_data_list_facemask, squealFlag=False, dim=300, pretrainedVectors=\"model-2020.vec\")"
   ]
  },
  {
   "cell_type": "code",
   "execution_count": 90,
   "metadata": {},
   "outputs": [],
   "source": [
    "store_fasttext_data(predictionLabelsTestFF, \"predictionLabelsTestFF.pickle\")"
   ]
  },
  {
   "cell_type": "code",
   "execution_count": 233,
   "metadata": {},
   "outputs": [
    {
     "name": "stdout",
     "output_type": "stream",
     "text": [
      "0 cases: 132; precision: 0.636; recall: 0.636; fraction: 3.975\n",
      "1 cases: 132; precision: 0.583; recall: 0.583; fraction: 1.225\n",
      "2 cases: 133; precision: 0.594; recall: 0.594; fraction: 6.048\n",
      "3 cases: 132; precision: 0.629; recall: 0.629; fraction: 6.588\n",
      "4 cases: 132; precision: 0.545; recall: 0.545; fraction: 1.324\n",
      "5 cases: 132; precision: 0.530; recall: 0.530; fraction: 1.676\n",
      "6 cases: 132; precision: 0.508; recall: 0.508; fraction: 1.672\n",
      "7 cases: 133; precision: 0.549; recall: 0.549; fraction: 2.068\n",
      "8 cases: 132; precision: 0.492; recall: 0.492; fraction: 2.274\n",
      "9 cases: 132; precision: 0.455; recall: 0.455; fraction: 2.621\n",
      " col_0                __label__IRRELEVANT  __label__REJECTS  __label__SUPPORTS\n",
      "row_0                                                                        \n",
      "__label__IRRELEVANT                  300               210                 48\n",
      "__label__REJECTS                     146               374                 29\n",
      "__label__SUPPORTS                     70                89                 56\n",
      "cases: 1322; precision: 0.552; recall: 0.552; fraction: 1.982\n"
     ]
    }
   ],
   "source": [
    "predictionCountsValidationF, predictionLabelsValidationF, predictionCountsTestF, predictionLabelsTestF = \\\n",
    "    runFasttext(fasttext_data_list_facemask, fasttext_data_list_facemask, squealFlag=False, dim=300)"
   ]
  },
  {
   "cell_type": "code",
   "execution_count": 13,
   "metadata": {},
   "outputs": [
    {
     "name": "stdout",
     "output_type": "stream",
     "text": [
      "0 cases: 573; precision: 0.606; recall: 0.606; fraction: 1.160\n",
      "1 cases: 573; precision: 0.752; recall: 0.752; fraction: 1.186\n",
      "2 cases: 573; precision: 0.543; recall: 0.543; fraction: 0.710\n",
      "3 cases: 573; precision: 0.625; recall: 0.625; fraction: 1.120\n",
      "4 cases: 574; precision: 0.580; recall: 0.580; fraction: 1.006\n",
      "5 cases: 573; precision: 0.616; recall: 0.616; fraction: 0.686\n",
      "6 cases: 573; precision: 0.628; recall: 0.628; fraction: 0.591\n",
      "7 cases: 573; precision: 0.663; recall: 0.663; fraction: 0.730\n",
      "8 cases: 573; precision: 0.640; recall: 0.640; fraction: 0.716\n",
      "9 cases: 573; precision: 0.627; recall: 0.627; fraction: 0.919\n",
      " col_0                __label__IRRELEVANT  __label__REJECTS  __label__SUPPORTS\n",
      "row_0                                                                        \n",
      "__label__IRRELEVANT                  524               204                639\n",
      "__label__REJECTS                     222               570                344\n",
      "__label__SUPPORTS                    469               254               2505\n",
      "cases: 5731; precision: 0.628; recall: 0.628; fraction: 0.837\n"
     ]
    }
   ],
   "source": [
    "predictionCountsValidationD, predictionLabelsValidationD, predictionCountsTestD, predictionLabelsTestD = \\\n",
    "    runFasttext(fasttext_data_list_distance, fasttext_data_list_distance, squealFlag=False)"
   ]
  },
  {
   "cell_type": "markdown",
   "metadata": {},
   "source": [
    "## Predicting social distancing with facemask data"
   ]
  },
  {
   "cell_type": "code",
   "execution_count": 8,
   "metadata": {},
   "outputs": [],
   "source": [
    "def count_labels(fasttext_data_list):\n",
    "    counts = {}\n",
    "    for i in range(0, len(fasttext_data_list)):\n",
    "        token_list = fasttext_data_list[i].split()\n",
    "        if token_list[0] in counts:\n",
    "            counts[token_list[0]] += 1\n",
    "        else:\n",
    "            counts[token_list[0]] = 1\n",
    "    return(counts)\n",
    "\n",
    "\n",
    "def swap_labels(fasttext_data_list_in):\n",
    "    fasttext_data_list_out = []\n",
    "    for i in range(0, len(fasttext_data_list_in)):\n",
    "        token_list = fasttext_data_list_in[i].split()\n",
    "        if token_list[0] == \"__label__REJECTS\":\n",
    "            token_list[0] = \"__label__SUPPORTS\"\n",
    "        elif token_list[0] == \"__label__SUPPORTS\":\n",
    "            token_list[0] = \"__label__REJECTS\"\n",
    "        fasttext_data_list_out.append(\" \".join(token_list))\n",
    "    return(fasttext_data_list_out)"
   ]
  },
  {
   "cell_type": "code",
   "execution_count": 9,
   "metadata": {},
   "outputs": [
    {
     "name": "stdout",
     "output_type": "stream",
     "text": [
      "0 cases: 573; precision: 0.288; recall: 0.288; fraction: 15.135\n",
      "1 cases: 573; precision: 0.353; recall: 0.353; fraction: 9.480\n",
      "2 cases: 573; precision: 0.333; recall: 0.333; fraction: 4.495\n",
      "3 cases: 573; precision: 0.346; recall: 0.346; fraction: 5.920\n",
      "4 cases: 574; precision: 0.317; recall: 0.317; fraction: 8.528\n",
      "5 cases: 573; precision: 0.318; recall: 0.318; fraction: 5.422\n",
      "6 cases: 573; precision: 0.302; recall: 0.302; fraction: 4.305\n",
      "7 cases: 573; precision: 0.276; recall: 0.276; fraction: 7.672\n",
      "8 cases: 573; precision: 0.269; recall: 0.269; fraction: 7.857\n",
      "9 cases: 573; precision: 0.333; recall: 0.333; fraction: 7.981\n",
      " col_0                __label__IRRELEVANT  __label__REJECTS  __label__SUPPORTS\n",
      "row_0                                                                        \n",
      "__label__IRRELEVANT                  783               411                173\n",
      "__label__REJECTS                     645               422                 69\n",
      "__label__SUPPORTS                   1517              1120                591\n",
      "cases: 5731; precision: 0.313; recall: 0.313; fraction: 6.662\n"
     ]
    }
   ],
   "source": [
    "predictionCountsValidationFD,predictionLabelsValidationFD,predictionCountsTestFD,predictionLabelsTestFD = \\\n",
    "    runFasttext(fasttext_data_list_facemask, fasttext_data_list_distance, squealFlag=False, dim=300)"
   ]
  },
  {
   "cell_type": "code",
   "execution_count": 10,
   "metadata": {},
   "outputs": [
    {
     "name": "stdout",
     "output_type": "stream",
     "text": [
      "0 cases: 573; precision: 0.332; recall: 0.332; fraction: 10.222\n",
      "1 cases: 573; precision: 0.387; recall: 0.387; fraction: 8.120\n",
      "2 cases: 573; precision: 0.330; recall: 0.330; fraction: 3.401\n",
      "3 cases: 573; precision: 0.377; recall: 0.377; fraction: 5.854\n",
      "4 cases: 574; precision: 0.326; recall: 0.326; fraction: 9.692\n",
      "5 cases: 573; precision: 0.339; recall: 0.339; fraction: 5.261\n",
      "6 cases: 573; precision: 0.323; recall: 0.323; fraction: 4.733\n",
      "7 cases: 573; precision: 0.276; recall: 0.276; fraction: 5.834\n",
      "8 cases: 573; precision: 0.279; recall: 0.279; fraction: 7.697\n",
      "9 cases: 573; precision: 0.354; recall: 0.354; fraction: 8.472\n",
      " col_0                __label__IRRELEVANT  __label__REJECTS  __label__SUPPORTS\n",
      "row_0                                                                        \n",
      "__label__IRRELEVANT                  819               394                154\n",
      "__label__REJECTS                     620               450                 66\n",
      "__label__SUPPORTS                   1644               949                635\n",
      "cases: 5731; precision: 0.332; recall: 0.332; fraction: 5.959\n"
     ]
    }
   ],
   "source": [
    "predictionCountsValidationFD,predictionLabelsValidationFD,predictionCountsTestFD,predictionLabelsTestFD = \\\n",
    "    runFasttext(fasttext_data_list_facemask, fasttext_data_list_distance, squealFlag=False, dim=300, pretrainedVectors=\"model-2020.vec\")"
   ]
  },
  {
   "cell_type": "code",
   "execution_count": 38,
   "metadata": {},
   "outputs": [],
   "source": [
    "store_fasttext_data(predictionLabelsTestFD, \"predictionLabelsTestFD.pickle\")"
   ]
  },
  {
   "cell_type": "code",
   "execution_count": 166,
   "metadata": {},
   "outputs": [],
   "source": [
    "predictionLabelsTestFD = read_fasttext_data(\"predictionLabelsTestFD.pickle\")\n",
    "predictionLabelsTestDD = read_fasttext_data(\"predictionLabelsTestDD.pickle\")"
   ]
  },
  {
   "cell_type": "code",
   "execution_count": 167,
   "metadata": {},
   "outputs": [],
   "source": [
    "def convert(data):\n",
    "    plot_data =[]\n",
    "    for key in data:\n",
    "        if re.search(\"^[0-9]+$\", str(key)):\n",
    "            support_count = 0\n",
    "            reject_count = 0\n",
    "            for label in data[key]:\n",
    "                if label == \"__label__SUPPORTS\":\n",
    "                    support_count += 1\n",
    "                if label == \"__label__REJECTS\":\n",
    "                    reject_count += 1\n",
    "            if support_count+reject_count > 0:\n",
    "                plot_data.append((int(key), support_count/(support_count+reject_count)))\n",
    "    plot_data = [x for x in sorted(plot_data, key=lambda x:x[0])]\n",
    "    return(plot_data)"
   ]
  },
  {
   "cell_type": "code",
   "execution_count": 168,
   "metadata": {},
   "outputs": [],
   "source": [
    "def make_data_predicted(predictionLabelsTest, tweet_ids, time_factor=4):\n",
    "    predicted = []\n",
    "    for i in range(0, len(predictionLabelsTest)):\n",
    "        for j in range(0, len(predictionLabelsTest[i][0])):\n",
    "            predicted.append(predictionLabelsTest[i][0][j])\n",
    "    data_predicted = {}\n",
    "    for i in range(0, len(tweet_ids)):\n",
    "        summary = str(tweet_ids[i])[0:time_factor]\n",
    "        if summary not in data_predicted:\n",
    "            data_predicted[summary] = []\n",
    "        data_predicted[summary].append(predicted[i][0])\n",
    "    return(data_predicted)"
   ]
  },
  {
   "cell_type": "code",
   "execution_count": 169,
   "metadata": {},
   "outputs": [],
   "source": [
    "data_predicted_fd = make_data_predicted(predictionLabelsTestFD, tweet_ids_distance)\n",
    "data_predicted_dd = make_data_predicted(predictionLabelsTestDD, tweet_ids_distance)"
   ]
  },
  {
   "cell_type": "code",
   "execution_count": 170,
   "metadata": {},
   "outputs": [],
   "source": [
    "gold = []\n",
    "for tweet in fasttext_data_list_distance:\n",
    "    gold.append(tweet.split()[0])\n",
    "\n",
    "data_gold = {}\n",
    "for i in range(0, len(tweet_ids_distance)):\n",
    "    summary = str(tweet_ids_distance[i])[0:4]\n",
    "    if summary not in data_gold:\n",
    "        data_gold[summary] = []\n",
    "    data_gold[summary].append(gold[i])"
   ]
  },
  {
   "cell_type": "code",
   "execution_count": 171,
   "metadata": {},
   "outputs": [
    {
     "data": {
      "image/png": "[encoded data removed]",
      "text/plain": [
       "<Figure size 432x288 with 1 Axes>"
      ]
     },
     "metadata": {
      "needs_background": "light"
     },
     "output_type": "display_data"
    }
   ],
   "source": [
    "plot_data_predicted_fd = convert(data_predicted_fd)\n",
    "plot_data_predicted_dd = convert(data_predicted_dd)\n",
    "plot_data_gold = convert(data_gold)\n",
    "\n",
    "x_gold = [x[0] for x in plot_data_gold]\n",
    "y_gold = [x[1] for x in plot_data_gold]\n",
    "x_fd = [x[0] for x in plot_data_predicted_fd]\n",
    "y_fd = [x[1] for x in plot_data_predicted_fd]\n",
    "x_dd = [x[0] for x in plot_data_predicted_dd]\n",
    "y_dd = [x[1] for x in plot_data_predicted_dd]\n",
    "plt.plot(x_fd, y_fd, label=\"predicted (out-of-domain)\")\n",
    "plt.plot(x_dd, y_dd, label=\"predicted (in-domain)\")\n",
    "plt.plot(x_gold, y_gold, label=\"gold\")\n",
    "plt.legend()\n",
    "plt.title(\"predicting social distancing with facemask data\")\n",
    "plt.savefig(\"facemask-to-distancing.png\")\n",
    "plt.show()"
   ]
  },
  {
   "cell_type": "markdown",
   "metadata": {},
   "source": [
    "### Inflate predictions"
   ]
  },
  {
   "cell_type": "code",
   "execution_count": 150,
   "metadata": {},
   "outputs": [],
   "source": [
    "def get_freqs(label_list):\n",
    "    freqs = {}\n",
    "    for label in label_list:\n",
    "        if label in freqs:\n",
    "            freqs[label] += 1\n",
    "        else:\n",
    "            freqs[label] = 1\n",
    "    for label in freqs:\n",
    "        freqs[label] /= len(label_list)\n",
    "    return(freqs)"
   ]
  },
  {
   "cell_type": "code",
   "execution_count": 151,
   "metadata": {},
   "outputs": [],
   "source": [
    "def inflate(predictionLabelsTestIn, source_label, target_label, factor):\n",
    "    predictionLabelsTestOut = list(predictionLabelsTestIn)\n",
    "    counter = 0\n",
    "    for fold in predictionLabelsTestOut:\n",
    "        for i in range(0, len(fold[0])):\n",
    "            if fold[0][i][0] == target_label:\n",
    "                for j in range(0, len(fold[0][i])):\n",
    "                    if fold[0][i][j] == source_label:\n",
    "                        break\n",
    "                if fold[0][i][j] != source_label:\n",
    "                    sys.exit(\"cannot happen\")\n",
    "                if fold[1][i][j]*factor > fold[1][i][0]:\n",
    "                    fold[0][i][0], fold[0][i][j] = fold[0][i][j], fold[0][i][0]\n",
    "    return(predictionLabelsTestOut)"
   ]
  },
  {
   "cell_type": "code",
   "execution_count": 172,
   "metadata": {},
   "outputs": [],
   "source": [
    "def inflate_plus(predictionLabelsTestIn, source_label, target_label, factor):\n",
    "    predictionLabelsTestOut = list(predictionLabelsTestIn)\n",
    "    counter = 0\n",
    "    for fold in predictionLabelsTestOut:\n",
    "        for i in range(0, len(fold[0])):\n",
    "            if fold[0][i][0] == target_label:\n",
    "                for j in range(0, len(fold[0][i])):\n",
    "                    if fold[0][i][j] == source_label:\n",
    "                        break\n",
    "                if fold[0][i][j] != source_label:\n",
    "                    sys.exit(\"cannot happen\")\n",
    "                if fold[1][i][j]+factor > fold[1][i][0]:\n",
    "                    fold[0][i][0], fold[0][i][j] = fold[0][i][j], fold[0][i][0]\n",
    "    return(predictionLabelsTestOut)"
   ]
  },
  {
   "cell_type": "code",
   "execution_count": 173,
   "metadata": {},
   "outputs": [
    {
     "name": "stdout",
     "output_type": "stream",
     "text": [
      "{'__label__REJECTS': 0.19822020589774908, '__label__SUPPORTS': 0.5632524864770546, '__label__IRRELEVANT': 0.2385273076251963}\n",
      "0.35192069392812886\n"
     ]
    }
   ],
   "source": [
    "freqs = get_freqs(gold)\n",
    "print(freqs)\n",
    "print(freqs['__label__REJECTS']/freqs['__label__SUPPORTS'])"
   ]
  },
  {
   "cell_type": "code",
   "execution_count": 220,
   "metadata": {},
   "outputs": [
    {
     "name": "stdout",
     "output_type": "stream",
     "text": [
      "{'__label__IRRELEVANT': 0.5379514918862328, '__label__SUPPORTS': 0.34252311987436745, '__label__REJECTS': 0.11952538823939976}\n",
      "0.34895568008150796\n"
     ]
    }
   ],
   "source": [
    "FACTOR = 0.9967\n",
    "\n",
    "predictionLabelsTestFDinflated = list(predictionLabelsTestFD)\n",
    "freqs = get_freqs([y[0] for x in inflate_plus(predictionLabelsTestFDinflated, '__label__SUPPORTS', '__label__REJECTS', FACTOR) for y in x[0]])\n",
    "print(freqs)\n",
    "print(freqs['__label__REJECTS']/freqs['__label__SUPPORTS'])"
   ]
  },
  {
   "cell_type": "code",
   "execution_count": 221,
   "metadata": {},
   "outputs": [
    {
     "data": {
      "image/png": "[encoded data removed]",
      "text/plain": [
       "<Figure size 432x288 with 1 Axes>"
      ]
     },
     "metadata": {
      "needs_background": "light"
     },
     "output_type": "display_data"
    }
   ],
   "source": [
    "data_predicted_fd_inflated = make_data_predicted(predictionLabelsTestFDinflated, tweet_ids_distance)\n",
    "plot_data_predicted_fd_inflated = convert(data_predicted_fd_inflated)\n",
    "\n",
    "x_gold = [x[0] for x in plot_data_gold]\n",
    "y_gold = [x[1] for x in plot_data_gold]\n",
    "x_fd = [x[0] for x in plot_data_predicted_fd]\n",
    "y_fd = [x[1] for x in plot_data_predicted_fd]\n",
    "x_dd = [x[0] for x in plot_data_predicted_dd]\n",
    "y_dd = [x[1] for x in plot_data_predicted_dd]\n",
    "x_fd_inflated = [x[0] for x in plot_data_predicted_fd_inflated]\n",
    "y_fd_inflated = [x[1] for x in plot_data_predicted_fd_inflated]\n",
    "plt.plot(x_fd, y_fd, label=\"predicted (out-of-domain)\")\n",
    "plt.plot(x_dd, y_dd, label=\"predicted (in-domain)\")\n",
    "plt.plot(x_gold, y_gold, label=\"gold\")\n",
    "plt.plot(x_fd_inflated, y_fd_inflated, label=\"predicted (out-of-domain, inflated\")\n",
    "plt.legend()\n",
    "plt.title(\"predicting social distancing with facemask data\")\n",
    "plt.savefig(\"facemask-to-distancing.png\")\n",
    "plt.show()"
   ]
  },
  {
   "cell_type": "markdown",
   "metadata": {},
   "source": [
    "### Numerical analysis of predictions"
   ]
  },
  {
   "cell_type": "code",
   "execution_count": 222,
   "metadata": {},
   "outputs": [],
   "source": [
    "plot_data_predicted_fd_dict = { x[0]:x[1] for x in plot_data_predicted_fd }\n",
    "plot_data_predicted_dd_dict = { x[0]:x[1] for x in plot_data_predicted_dd }\n",
    "plot_data_gold_dict = { x[0]:x[1] for x in plot_data_gold }\n",
    "plot_data_predicted_fd_inflated_dict = { x[0]:x[1] for x in plot_data_predicted_fd_inflated }"
   ]
  },
  {
   "cell_type": "code",
   "execution_count": 223,
   "metadata": {},
   "outputs": [],
   "source": [
    "def get_common_key_values(dict1, dict2):\n",
    "    values1 = []\n",
    "    values2 = []\n",
    "    for key in sorted(dict1.keys()):\n",
    "        if key in dict2:\n",
    "            values1.append(dict1[key])\n",
    "            values2.append(dict2[key])\n",
    "    return(values1, values2)"
   ]
  },
  {
   "cell_type": "code",
   "execution_count": 224,
   "metadata": {},
   "outputs": [
    {
     "name": "stdout",
     "output_type": "stream",
     "text": [
      "Pearson r correlation gold vs in-domain: 0.88\n",
      "Pearson r correlation gold vs out-of-domain: 0.47\n",
      "Pearson r correlation gold vs out-of-domain (inflated): -0.06\n"
     ]
    }
   ],
   "source": [
    "values_dd, values_gold_dd = get_common_key_values(plot_data_predicted_dd_dict, plot_data_gold_dict)\n",
    "print(\"Pearson r correlation gold vs in-domain:\", round(scipy.stats.linregress(np.array(values_gold_dd), np.array(values_dd)).rvalue, 2))\n",
    "values_fd, values_gold_fd = get_common_key_values(plot_data_predicted_fd_dict, plot_data_gold_dict)\n",
    "print(\"Pearson r correlation gold vs out-of-domain:\", round(scipy.stats.linregress(np.array(values_gold_fd), np.array(values_fd)).rvalue, 2))\n",
    "values_fd_inflated, values_gold_fd_inflated = get_common_key_values(plot_data_predicted_fd_inflated_dict, plot_data_gold_dict)\n",
    "print(\"Pearson r correlation gold vs out-of-domain (inflated):\", round(scipy.stats.linregress(np.array(values_gold_fd), np.array(values_fd_inflated)).rvalue, 2))"
   ]
  },
  {
   "cell_type": "code",
   "execution_count": 225,
   "metadata": {},
   "outputs": [],
   "source": [
    "def absolute_difference(list1, list2):\n",
    "    absolute_difference = 0\n",
    "    for i in range(0, len(list1)):\n",
    "        absolute_difference += abs(list1[i]-list2[i])\n",
    "    return(absolute_difference/len(list1))"
   ]
  },
  {
   "cell_type": "code",
   "execution_count": 226,
   "metadata": {},
   "outputs": [
    {
     "name": "stdout",
     "output_type": "stream",
     "text": [
      "absolute difference gold vs in-domain: 0.06\n",
      "absolute difference gold vs out-of-domain: 0.42\n",
      "absolute difference gold vs out-of-domain (inflated): 0.18\n"
     ]
    }
   ],
   "source": [
    "print(\"absolute difference gold vs in-domain:\", round(absolute_difference(values_gold_dd, values_dd), 2))\n",
    "print(\"absolute difference gold vs out-of-domain:\", round(absolute_difference(values_gold_fd, values_fd),2))\n",
    "print(\"absolute difference gold vs out-of-domain (inflated):\", round(absolute_difference(values_gold_fd_inflated, values_fd_inflated),2)) "
   ]
  },
  {
   "cell_type": "markdown",
   "metadata": {},
   "source": [
    "## Predicting facemasks with social distancing data"
   ]
  },
  {
   "cell_type": "code",
   "execution_count": 17,
   "metadata": {},
   "outputs": [
    {
     "name": "stdout",
     "output_type": "stream",
     "text": [
      "0 cases: 132; precision: 0.508; recall: 0.508; fraction: 0.245\n",
      "1 cases: 132; precision: 0.447; recall: 0.447; fraction: 0.219\n",
      "2 cases: 133; precision: 0.398; recall: 0.398; fraction: 0.135\n",
      "3 cases: 132; precision: 0.515; recall: 0.515; fraction: 0.110\n",
      "4 cases: 132; precision: 0.356; recall: 0.356; fraction: 0.238\n",
      "5 cases: 132; precision: 0.402; recall: 0.402; fraction: 0.145\n",
      "6 cases: 132; precision: 0.356; recall: 0.356; fraction: 0.284\n",
      "7 cases: 133; precision: 0.391; recall: 0.391; fraction: 0.227\n",
      "8 cases: 132; precision: 0.379; recall: 0.379; fraction: 0.207\n",
      "9 cases: 132; precision: 0.417; recall: 0.417; fraction: 0.385\n",
      " col_0                __label__IRRELEVANT  __label__REJECTS  __label__SUPPORTS\n",
      "row_0                                                                        \n",
      "__label__IRRELEVANT                  208               144                206\n",
      "__label__REJECTS                      93               205                251\n",
      "__label__SUPPORTS                     37                40                138\n",
      "cases: 1322; precision: 0.417; recall: 0.417; fraction: 0.256\n"
     ]
    }
   ],
   "source": [
    "predictionCountsValidationDF,predictionLabelsValidationDF,predictionCountsTestDF,predictionLabelsTestDF = \\\n",
    "    runFasttext(fasttext_data_list_distance, fasttext_data_list_facemask, squealFlag=False, dim=300)"
   ]
  },
  {
   "cell_type": "code",
   "execution_count": 87,
   "metadata": {},
   "outputs": [
    {
     "name": "stdout",
     "output_type": "stream",
     "text": [
      "0 cases: 132; precision: 0.523; recall: 0.523; fraction: 0.259\n",
      "1 cases: 132; precision: 0.394; recall: 0.394; fraction: 0.148\n",
      "2 cases: 133; precision: 0.421; recall: 0.421; fraction: 0.143\n",
      "3 cases: 132; precision: 0.508; recall: 0.508; fraction: 0.109\n",
      "4 cases: 132; precision: 0.318; recall: 0.318; fraction: 0.234\n",
      "5 cases: 132; precision: 0.402; recall: 0.402; fraction: 0.143\n",
      "6 cases: 132; precision: 0.386; recall: 0.386; fraction: 0.247\n",
      "7 cases: 133; precision: 0.368; recall: 0.368; fraction: 0.205\n",
      "8 cases: 132; precision: 0.326; recall: 0.326; fraction: 0.163\n",
      "9 cases: 132; precision: 0.424; recall: 0.424; fraction: 0.262\n",
      " col_0                __label__IRRELEVANT  __label__REJECTS  __label__SUPPORTS\n",
      "row_0                                                                        \n",
      "__label__IRRELEVANT                  215               135                208\n",
      "__label__REJECTS                     101               189                259\n",
      "__label__SUPPORTS                     51                30                134\n",
      "cases: 1322; precision: 0.407; recall: 0.407; fraction: 0.231\n"
     ]
    }
   ],
   "source": [
    "predictionCountsValidationDF,predictionLabelsValidationDF,predictionCountsTestDF,predictionLabelsTestDF = \\\n",
    "    runFasttext(fasttext_data_list_distance, fasttext_data_list_facemask, squealFlag=False, dim=300, pretrainedVectors=\"model-2020.vec\")"
   ]
  },
  {
   "cell_type": "code",
   "execution_count": 88,
   "metadata": {},
   "outputs": [],
   "source": [
    "store_fasttext_data(predictionLabelsTestDF, \"predictionLabelsTestDF.pickle\")"
   ]
  },
  {
   "cell_type": "code",
   "execution_count": 247,
   "metadata": {},
   "outputs": [],
   "source": [
    "predictionLabelsTestDF = read_fasttext_data(\"predictionLabelsTestDF.pickle\")\n",
    "predictionLabelsTestFF = read_fasttext_data(\"predictionLabelsTestFF.pickle\")"
   ]
  },
  {
   "cell_type": "code",
   "execution_count": 248,
   "metadata": {},
   "outputs": [],
   "source": [
    "data_predicted_df = make_data_predicted(predictionLabelsTestDF, tweet_ids_facemask, time_factor=1)\n",
    "data_predicted_ff = make_data_predicted(predictionLabelsTestFF, tweet_ids_facemask, time_factor=1)"
   ]
  },
  {
   "cell_type": "code",
   "execution_count": 249,
   "metadata": {},
   "outputs": [],
   "source": [
    "gold = []\n",
    "for tweet in fasttext_data_list_facemask:\n",
    "    gold.append(tweet.split()[0])\n",
    "\n",
    "data_gold = {}\n",
    "for i in range(0, len(tweet_ids_facemask)):\n",
    "    summary = str(tweet_ids_facemask[i])[0:1]\n",
    "    if summary not in data_gold:\n",
    "        data_gold[summary] = []\n",
    "    data_gold[summary].append(gold[i])"
   ]
  },
  {
   "cell_type": "code",
   "execution_count": 250,
   "metadata": {},
   "outputs": [
    {
     "data": {
      "image/png": "[encoded data removed]",
      "text/plain": [
       "<Figure size 432x288 with 1 Axes>"
      ]
     },
     "metadata": {
      "needs_background": "light"
     },
     "output_type": "display_data"
    }
   ],
   "source": [
    "plot_data_predicted_df = convert(data_predicted_df)\n",
    "plot_data_predicted_ff = convert(data_predicted_ff)\n",
    "plot_data_gold = convert(data_gold)\n",
    "\n",
    "x_gold = [x[0] for x in plot_data_gold]\n",
    "y_gold = [x[1] for x in plot_data_gold]\n",
    "x_df = [x[0] for x in plot_data_predicted_df]\n",
    "y_df = [x[1] for x in plot_data_predicted_df]\n",
    "x_ff = [x[0] for x in plot_data_predicted_ff]\n",
    "y_ff = [x[1] for x in plot_data_predicted_ff]\n",
    "plt.plot(x_df, y_df, label=\"predicted (out-of-domain)\")\n",
    "plt.plot(x_ff, y_ff, label=\"predicted (in-domain)\")\n",
    "plt.plot(x_gold, y_gold, label=\"gold\")\n",
    "plt.legend()\n",
    "plt.title(\"predicting facemask with social distancing data\")\n",
    "plt.savefig(\"distancing-to-facemask.png\")\n",
    "plt.show()"
   ]
  },
  {
   "cell_type": "markdown",
   "metadata": {},
   "source": [
    "### Inflate predictions"
   ]
  },
  {
   "cell_type": "code",
   "execution_count": 251,
   "metadata": {},
   "outputs": [
    {
     "name": "stdout",
     "output_type": "stream",
     "text": [
      "{'__label__IRRELEVANT': 0.42208774583963693, '__label__REJECTS': 0.4152798789712557, '__label__SUPPORTS': 0.16263237518910742}\n",
      "2.5534883720930233\n"
     ]
    }
   ],
   "source": [
    "freqs = get_freqs(gold)\n",
    "print(freqs)\n",
    "print(freqs['__label__REJECTS']/freqs['__label__SUPPORTS'])"
   ]
  },
  {
   "cell_type": "code",
   "execution_count": 254,
   "metadata": {},
   "outputs": [
    {
     "name": "stdout",
     "output_type": "stream",
     "text": [
      "{'__label__IRRELEVANT': 0.27760968229954613, '__label__REJECTS': 0.518910741301059, '__label__SUPPORTS': 0.20347957639939485}\n",
      "2.550185873605948\n"
     ]
    }
   ],
   "source": [
    "FACTOR = 0.9893\n",
    "\n",
    "predictionLabelsTestDFinflated = list(predictionLabelsTestDF)\n",
    "freqs = get_freqs([y[0] for x in inflate_plus(predictionLabelsTestDFinflated, '__label__REJECTS', '__label__SUPPORTS', FACTOR) for y in x[0]])\n",
    "print(freqs)\n",
    "print(freqs['__label__REJECTS']/freqs['__label__SUPPORTS'])"
   ]
  },
  {
   "cell_type": "code",
   "execution_count": 255,
   "metadata": {},
   "outputs": [],
   "source": [
    "data_predicted_df_inflated = make_data_predicted(inflate(predictionLabelsTestDFinflated, '__label__REJECTS', '__label__SUPPORTS', FACTOR), tweet_ids_facemask, time_factor=1)"
   ]
  },
  {
   "cell_type": "code",
   "execution_count": 256,
   "metadata": {},
   "outputs": [
    {
     "data": {
      "image/png": "[encoded data removed]",
      "text/plain": [
       "<Figure size 432x288 with 1 Axes>"
      ]
     },
     "metadata": {
      "needs_background": "light"
     },
     "output_type": "display_data"
    }
   ],
   "source": [
    "plot_data_predicted_df = convert(data_predicted_df)\n",
    "plot_data_predicted_ff = convert(data_predicted_ff)\n",
    "plot_data_predicted_df_inflated = convert(data_predicted_df_inflated)\n",
    "plot_data_gold = convert(data_gold)\n",
    "\n",
    "x_gold = [x[0] for x in plot_data_gold]\n",
    "y_gold = [x[1] for x in plot_data_gold]\n",
    "x_df = [x[0] for x in plot_data_predicted_df]\n",
    "y_df = [x[1] for x in plot_data_predicted_df]\n",
    "x_ff = [x[0] for x in plot_data_predicted_ff]\n",
    "y_ff = [x[1] for x in plot_data_predicted_ff]\n",
    "x_df_inflated = [x[0] for x in plot_data_predicted_df_inflated]\n",
    "y_df_inflated = [x[1] for x in plot_data_predicted_df_inflated]\n",
    "plt.plot(x_df, y_df, label=\"predicted (out-of-domain)\")\n",
    "plt.plot(x_ff, y_ff, label=\"predicted (in-domain)\")\n",
    "plt.plot(x_gold, y_gold, label=\"gold\")\n",
    "plt.plot(x_df_inflated, y_df_inflated, label=\"predicted (out-of-domain, inflated)\")\n",
    "plt.legend()\n",
    "plt.title(\"predicting facemask with social distancing data\")\n",
    "plt.savefig(\"distancing-to-facemask.png\")\n",
    "plt.show()"
   ]
  },
  {
   "cell_type": "markdown",
   "metadata": {},
   "source": [
    "### Numerical analysis of predictions"
   ]
  },
  {
   "cell_type": "code",
   "execution_count": 257,
   "metadata": {},
   "outputs": [],
   "source": [
    "plot_data_predicted_df_dict = { x[0]:x[1] for x in plot_data_predicted_df }\n",
    "plot_data_predicted_ff_dict = { x[0]:x[1] for x in plot_data_predicted_ff }\n",
    "plot_data_predicted_df_inflated_dict = { x[0]:x[1] for x in plot_data_predicted_df_inflated }\n",
    "plot_data_gold_dict = { x[0]:x[1] for x in plot_data_gold }"
   ]
  },
  {
   "cell_type": "code",
   "execution_count": 258,
   "metadata": {},
   "outputs": [
    {
     "name": "stdout",
     "output_type": "stream",
     "text": [
      "Pearson r correlation gold vs in-domain: 0.32\n",
      "Pearson r correlation gold vs out-of-domain: 0.53\n",
      "Pearson r correlation gold vs out-of-domain (inflated): 0.65\n"
     ]
    }
   ],
   "source": [
    "values_ff, values_gold_ff = get_common_key_values(plot_data_predicted_ff_dict, plot_data_gold_dict)\n",
    "print(\"Pearson r correlation gold vs in-domain:\", round(scipy.stats.linregress(np.array(values_gold_ff), np.array(values_ff)).rvalue, 2))\n",
    "values_df, values_gold_df = get_common_key_values(plot_data_predicted_df_dict, plot_data_gold_dict)\n",
    "print(\"Pearson r correlation gold vs out-of-domain:\", round(scipy.stats.linregress(np.array(values_gold_df), np.array(values_df)).rvalue, 2))\n",
    "values_df_inflated, values_gold_df_inflated = get_common_key_values(plot_data_predicted_df_inflated_dict, plot_data_gold_dict)\n",
    "print(\"Pearson r correlation gold vs out-of-domain (inflated):\", round(scipy.stats.linregress(np.array(values_gold_df_inflated), np.array(values_df_inflated)).rvalue, 2))"
   ]
  },
  {
   "cell_type": "code",
   "execution_count": 259,
   "metadata": {},
   "outputs": [
    {
     "name": "stdout",
     "output_type": "stream",
     "text": [
      "absolute difference gold vs in-domain: 0.12\n",
      "absolute difference gold vs out-of-domain: 0.42\n",
      "absolute difference gold vs out-of-domain (inflated): 0.08\n"
     ]
    }
   ],
   "source": [
    "print(\"absolute difference gold vs in-domain:\", round(absolute_difference(values_gold_ff, values_ff), 2))\n",
    "print(\"absolute difference gold vs out-of-domain:\", round(absolute_difference(values_gold_df, values_df),2)) \n",
    "print(\"absolute difference gold vs out-of-domain (inflated):\", round(absolute_difference(values_gold_df_inflated, values_df_inflated),2)) "
   ]
  },
  {
   "cell_type": "markdown",
   "metadata": {},
   "source": [
    "### Stop here"
   ]
  },
  {
   "cell_type": "code",
   "execution_count": 113,
   "metadata": {},
   "outputs": [
    {
     "name": "stdout",
     "output_type": "stream",
     "text": [
      "{'__label__IRRELEVANT': 0.42208774583963693, '__label__REJECTS': 0.4152798789712557, '__label__SUPPORTS': 0.16263237518910742}\n",
      "{'__label__IRRELEVANT': 0.38502269288956126, '__label__REJECTS': 0.4750378214826021, '__label__SUPPORTS': 0.13993948562783662}\n",
      "{'__label__IRRELEVANT': 0.27760968229954613, '__label__REJECTS': 0.26777609682299547, '__label__SUPPORTS': 0.4546142208774584}\n"
     ]
    }
   ],
   "source": [
    "print(get_freqs(gold))\n",
    "print(get_freqs([y[0] for x in predictionLabelsTestFF for y in x[0]]))\n",
    "print(get_freqs([y[0] for x in predictionLabelsTestDF for y in x[0]]))"
   ]
  },
  {
   "cell_type": "code",
   "execution_count": 167,
   "metadata": {},
   "outputs": [
    {
     "name": "stdout",
     "output_type": "stream",
     "text": [
      "0 cases: 132; precision: 0.508; recall: 0.508; fraction: 0.245\n",
      "1 cases: 132; precision: 0.439; recall: 0.439; fraction: 0.213\n",
      "2 cases: 133; precision: 0.398; recall: 0.398; fraction: 0.135\n",
      "3 cases: 132; precision: 0.500; recall: 0.500; fraction: 0.116\n",
      "4 cases: 132; precision: 0.356; recall: 0.356; fraction: 0.238\n",
      "5 cases: 132; precision: 0.402; recall: 0.402; fraction: 0.142\n",
      "6 cases: 132; precision: 0.348; recall: 0.348; fraction: 0.264\n",
      "7 cases: 133; precision: 0.391; recall: 0.391; fraction: 0.215\n",
      "8 cases: 132; precision: 0.371; recall: 0.371; fraction: 0.192\n",
      "9 cases: 132; precision: 0.409; recall: 0.409; fraction: 0.405\n",
      " col_0                __label__IRRELEVANT  __label__REJECTS  __label__SUPPORTS\n",
      "row_0                                                                        \n",
      "__label__IRRELEVANT                  207               145                206\n",
      "__label__REJECTS                      96               201                252\n",
      "__label__SUPPORTS                     38                40                137\n",
      "cases: 1322; precision: 0.412; recall: 0.412; fraction: 0.254\n"
     ]
    }
   ],
   "source": [
    "predictionCountsValidationF,predictionLabelsValidationF,predictionCountsTestF,predictionLabelsTestF = \\\n",
    "    runFasttext(fasttext_data_list_distance, fasttext_data_list_facemask, squealFlag=False, dim=300)"
   ]
  },
  {
   "cell_type": "code",
   "execution_count": 151,
   "metadata": {},
   "outputs": [
    {
     "name": "stdout",
     "output_type": "stream",
     "text": [
      "{'__label__IRRELEVANT': 0.2586989409984871, '__label__REJECTS': 0.29122541603630864, '__label__SUPPORTS': 0.45007564296520425}\n"
     ]
    }
   ],
   "source": [
    "print(get_freqs([y[0] for x in predictionLabelsTestF for y in x[0]]))"
   ]
  },
  {
   "cell_type": "code",
   "execution_count": null,
   "metadata": {},
   "outputs": [],
   "source": []
  }
 ],
 "metadata": {
  "kernelspec": {
   "display_name": "python37",
   "language": "python",
   "name": "python37"
  },
  "language_info": {
   "codemirror_mode": {
    "name": "ipython",
    "version": 3
   },
   "file_extension": ".py",
   "mimetype": "text/x-python",
   "name": "python",
   "nbconvert_exporter": "python",
   "pygments_lexer": "ipython3",
   "version": "3.7.3"
  }
 },
 "nbformat": 4,
 "nbformat_minor": 4
}
