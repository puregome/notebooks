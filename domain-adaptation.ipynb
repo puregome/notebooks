{
 "cells": [
  {
   "cell_type": "markdown",
   "metadata": {},
   "source": [
    "## Domain adaptation"
   ]
  },
  {
   "cell_type": "code",
   "execution_count": 91,
   "metadata": {},
   "outputs": [],
   "source": [
    "import fasttext\n",
    "import matplotlib.pyplot as plt\n",
    "import numpy as np\n",
    "import os\n",
    "import pandas as pd\n",
    "import pickle\n",
    "import random\n",
    "import re\n",
    "import scipy.stats\n",
    "from nltk.tokenize import TweetTokenizer\n",
    "from IPython.display import clear_output"
   ]
  },
  {
   "cell_type": "code",
   "execution_count": 92,
   "metadata": {},
   "outputs": [],
   "source": [
    "DATADIR = \"../data/\"\n",
    "DISTANCE = \"distance\"\n",
    "FACEMASK = \"mondkapje\"\n",
    "TESTING = \"testing\"\n",
    "FILEFASTTEXT = \"fasttext.csv\"\n",
    "IDSTR = \"id_str\"\n",
    "IRRELEVANT = \"IRRELEVANT\"\n",
    "NEUTRAL = \"NEUTRAL\"\n",
    "ANDERS = \"ANDERS\"\n",
    "EENS = \"EENS\"\n",
    "ONEENS = \"ONEENS\"\n",
    "SUPPORTS = \"SUPPORTS\"\n",
    "REJECTS = \"REJECTS\"\n",
    "LABEL = \"label\"\n",
    "TEXT = \"text\"\n",
    "USER = \"user\"\n",
    "LABELPREFIX = \"__label__\"\n",
    "LARGEINT = 9999999999"
   ]
  },
  {
   "cell_type": "code",
   "execution_count": 93,
   "metadata": {},
   "outputs": [],
   "source": [
    "DIM = 100\n",
    "EPOCH = 100\n",
    "LR = 0.05\n",
    "N = 10\n",
    "TRAIN = \"TRAIN\"+str(int(random.random()*LARGEINT))\n",
    "TEST = \"TEST\"+str(int(random.random()*LARGEINT))\n",
    "VALIDATION = \"VALIDATION\"+str(int(random.random()*LARGEINT))"
   ]
  },
  {
   "cell_type": "code",
   "execution_count": 94,
   "metadata": {},
   "outputs": [],
   "source": [
    "def cleanup(text):\n",
    "    text = re.sub(r\"\\\\n\",\" \",text)\n",
    "    text = re.sub(r\"https://\\S+\",\"\",text)\n",
    "    text = re.sub(r\"\\s+\",\" \",text)\n",
    "    text = text.strip()\n",
    "    return(text)\n",
    "\n",
    "\n",
    "def tokenize(text):\n",
    "    return(\" \".join(TweetTokenizer().tokenize(text)))\n",
    "\n",
    "\n",
    "def preprocess(text):\n",
    "    return(tokenize(cleanup(text)).lower())\n",
    "\n",
    "\n",
    "def select_annotations(tweets, annotations, target_annotator):\n",
    "    fasttext_data = {}\n",
    "    for i in range(0,len(annotations)):\n",
    "        annotator = annotations.iloc[i][0]\n",
    "        tweet_id = annotations.iloc[i][2]\n",
    "        if annotator == target_annotator and tweet_id in list(tweets.index):\n",
    "            tweet_user = tweets.loc[tweet_id][1]\n",
    "            tweet_label = annotations.iloc[i][4]\n",
    "            if tweet_label == NEUTRAL: tweet_label = IRRELEVANT\n",
    "            if tweet_label == ANDERS: tweet_label = IRRELEVANT\n",
    "            if tweet_label == EENS: tweet_label = SUPPORTS\n",
    "            if tweet_label == ONEENS: tweet_label = REJECTS\n",
    "            fasttext_data[tweet_id] = { LABEL:LABELPREFIX+tweet_label,\n",
    "                                        USER:tweet_user,\n",
    "                                        TEXT:preprocess(tweets.loc[tweet_id][TEXT]) }\n",
    "    return(fasttext_data)\n",
    "\n",
    "\n",
    "def store_fasttext_data(fasttext_data):\n",
    "    outfile = open(FILEFASTTEXT, \"w\")\n",
    "    seen_texts = {}\n",
    "    fasttext_data_list = []\n",
    "    tweet_ids = []\n",
    "    for tweet_id in fasttext_data:\n",
    "        text = cleanup(fasttext_data[tweet_id][TEXT])\n",
    "        if not text in seen_texts:\n",
    "            print(fasttext_data[tweet_id][LABEL], text, file=outfile)\n",
    "            fasttext_data_list.append(\" \".join([fasttext_data[tweet_id][LABEL], text]))\n",
    "            tweet_ids.append(tweet_id)\n",
    "            seen_texts[text] = True\n",
    "    outfile.close()\n",
    "    return(fasttext_data_list, tweet_ids)"
   ]
  },
  {
   "cell_type": "code",
   "execution_count": 95,
   "metadata": {},
   "outputs": [],
   "source": [
    "def make_fasttext_data(topic):\n",
    "    if topic == TESTING:\n",
    "        tweet_file = DATADIR + topic + \"-202003-202012.csv\"\n",
    "    else:\n",
    "        tweet_file = DATADIR + topic + \"-tweets.csv\"\n",
    "    tweets = pd.read_csv(tweet_file, index_col=IDSTR)   \n",
    "    annotations = pd.read_csv(tweet_file + \".human-labels.txt\", header=None, sep=\" \")        \n",
    "    main_annotator = annotations.iloc[0][0]\n",
    "    fasttext_data = select_annotations(tweets, annotations, main_annotator)\n",
    "    fasttext_data_list, tweet_ids = store_fasttext_data(fasttext_data)\n",
    "    return(fasttext_data_list, tweet_ids)"
   ]
  },
  {
   "cell_type": "code",
   "execution_count": 96,
   "metadata": {},
   "outputs": [],
   "source": [
    "def makeConfusionMatrix(fasttextData,predictionLabels):\n",
    "    goldLabels = pd.Series([fasttextData[i].split()[0] for i in range(0,len(fasttextData))])\n",
    "    predictedLabels = pd.Series([x[0] for row in predictionLabels for x in row[0]])\n",
    "    return(pd.crosstab(goldLabels,predictedLabels))\n",
    "\n",
    "def evaluate(predictionCounts,predictionLabels,fasttextData,printResults=True,printMatrix=False):\n",
    "    caseTotal = 0\n",
    "    pTotal = 0\n",
    "    rTotal = 0\n",
    "    for i in range(0,len(predictionCounts)):\n",
    "        caseTotal += predictionCounts[i][0]\n",
    "        pTotal += predictionCounts[i][0]*predictionCounts[i][1]\n",
    "        rTotal += predictionCounts[i][0]*predictionCounts[i][2]\n",
    "    precision = round(pTotal/caseTotal,3)\n",
    "    recall = round(rTotal/caseTotal,3)\n",
    "    cf = makeConfusionMatrix(fasttextData,predictionLabels)\n",
    "    if printMatrix:\n",
    "        print(cf)\n",
    "    for label in ['__label__REJECTS','__label__SUPPORTS','__label__IRRELEVANT']:\n",
    "        if not label in cf: cf[label] = [0 for i in range(0,len(cf))]\n",
    "    numberOfPredictedSupportLabels = sum([cf.iloc[i]['__label__SUPPORTS'] for i in range(0,len(cf))])\n",
    "    numberOfGoldSupportLabels = sum(cf.loc['__label__SUPPORTS'])\n",
    "    numberOfPredictedRejectLabels = sum([cf.iloc[i]['__label__REJECTS'] for i in range(0,len(cf))])\n",
    "    numberOfGoldRejectLabels = sum(cf.loc['__label__REJECTS'])\n",
    "    if numberOfPredictedSupportLabels > 0 and numberOfGoldRejectLabels > 0 and numberOfGoldSupportLabels > 0:\n",
    "        fraction = (numberOfPredictedRejectLabels/numberOfPredictedSupportLabels)/(numberOfGoldRejectLabels/numberOfGoldSupportLabels)\n",
    "    else:\n",
    "        fraction = LARGEINT\n",
    "    if printResults: \n",
    "        print(\"cases: {0}; precision: {1:0.3f}; recall: {2:0.3f}; fraction: {3:0.3f}\".format(caseTotal,precision,recall,fraction))\n",
    "    return((precision,fraction))\n",
    "\n",
    "def runFasttext(fasttextData1,fasttextData2,dim=DIM,epoch=EPOCH,lr=LR,n=N,squealFlag=True,maxTrain=None,pretrainedVectors=None):\n",
    "    predictionCountsTest = []\n",
    "    predictionLabelsTest = []\n",
    "    predictionCountsValidation = []\n",
    "    predictionLabelsValidation = []\n",
    "    for fold in range(0,n):\n",
    "        if squealFlag:\n",
    "            clear_output(wait=True)\n",
    "            print(\"starting fold\",fold)\n",
    "        testStart1 = round(fold*len(fasttextData1)/n)\n",
    "        testEnd1 = round((fold+1)*len(fasttextData1)/n)\n",
    "        testStart2 = round(fold*len(fasttextData2)/n)\n",
    "        testEnd2 = round((fold+1)*len(fasttextData2)/n)\n",
    "        if fold < n-1: nextFold = fold+1\n",
    "        else: nextFold = 0\n",
    "        validationStart1 = round(nextFold*len(fasttextData1)/n)\n",
    "        validationEnd1 = round((nextFold+1)*len(fasttextData1)/n)\n",
    "        validationStart2 = round(nextFold*len(fasttextData2)/n)\n",
    "        validationEnd2 = round((nextFold+1)*len(fasttextData2)/n)\n",
    "        trainFile = open(TRAIN,\"w\")\n",
    "        testFile = open(TEST,\"w\")\n",
    "        validationFile = open(VALIDATION,\"w\")\n",
    "        trainData = []\n",
    "        validationData = []\n",
    "        testData = []\n",
    "        for i in range(0,len(fasttextData1)):\n",
    "            data = fasttextData1[i]\n",
    "            if i >= testStart1 and i < testEnd1: \n",
    "                pass\n",
    "            elif i >= validationStart1 and i < validationEnd1: \n",
    "                pass\n",
    "            else: \n",
    "                print(data,file=trainFile)\n",
    "                trainData.append(data)\n",
    "        for i in range(0,len(fasttextData2)):\n",
    "            data = fasttextData2[i]\n",
    "            if i >= testStart2 and i < testEnd2: \n",
    "                print(data,file=testFile)\n",
    "                testData.append(data)\n",
    "            elif i >= validationStart2 and i < validationEnd2: \n",
    "                print(data,file=validationFile)\n",
    "                validationData.append(data)\n",
    "        testFile.close()\n",
    "        trainFile.close()\n",
    "        validationFile.close()\n",
    "        if not maxTrain == None and maxTrain < len(trainData):\n",
    "            trainData = ranSelect(trainData,maxTrain)\n",
    "            trainFile = open(TRAIN,\"w\")\n",
    "            for i in range(0,len(trainData)):\n",
    "                print(trainData[i],file=trainFile)\n",
    "            trainFile.close()\n",
    "        if pretrainedVectors == None:\n",
    "            model = fasttext.train_supervised(TRAIN, dim=dim, epoch=epoch, lr=lr)\n",
    "        else:\n",
    "            model = fasttext.train_supervised(TRAIN, dim=dim, epoch=epoch, lr=lr, pretrainedVectors=pretrainedVectors)\n",
    "        predictionCountsValidation.append([*model.test(VALIDATION)])\n",
    "        predictionLabelsValidation.append(model.predict(validationData, k=3))\n",
    "        predictionCountsTest.append([*model.test(TEST)])\n",
    "        predictionLabelsTest.append(model.predict(testData, k=3))\n",
    "        print(fold, end=\" \")\n",
    "        evaluate([[*model.test(TEST)]], [model.predict(testData)], fasttextData2[testStart2:testEnd2])\n",
    "        os.unlink(TRAIN)\n",
    "        os.unlink(TEST)\n",
    "        os.unlink(VALIDATION)\n",
    "    print(\"\", end=\" \")\n",
    "    evaluate(predictionCountsTest, predictionLabelsTest, fasttextData2, printMatrix=True)\n",
    "    if squealFlag:\n",
    "        clear_output(wait=True)\n",
    "        print(\"finished\")\n",
    "    return(predictionCountsValidation,predictionLabelsValidation,predictionCountsTest,predictionLabelsTest)"
   ]
  },
  {
   "cell_type": "code",
   "execution_count": 97,
   "metadata": {},
   "outputs": [],
   "source": [
    "fasttext_data_list_distance, tweet_ids_distance = make_fasttext_data(\"distance\")\n",
    "fasttext_data_list_facemask, tweet_ids_facemask = make_fasttext_data(\"mondkapje\")\n",
    "fasttext_data_list_testing, tweet_ids_testing = make_fasttext_data(\"testing\")"
   ]
  },
  {
   "cell_type": "code",
   "execution_count": 98,
   "metadata": {},
   "outputs": [
    {
     "data": {
      "text/plain": [
       "(5731, 578, 1181)"
      ]
     },
     "execution_count": 98,
     "metadata": {},
     "output_type": "execute_result"
    }
   ],
   "source": [
    "len(tweet_ids_distance), len(tweet_ids_facemask), len(tweet_ids_testing)"
   ]
  },
  {
   "cell_type": "code",
   "execution_count": 99,
   "metadata": {},
   "outputs": [],
   "source": [
    "def store_fasttext_data(data, file_name):\n",
    "    with open(file_name, \"wb\") as outfile:\n",
    "        pickle.dump(data, outfile)\n",
    "        outfile.close()\n",
    "        \n",
    "def read_fasttext_data(file_name):\n",
    "    with open(file_name, \"rb\") as infile:\n",
    "        data = pickle.load(infile)\n",
    "        infile.close()\n",
    "    return(data)"
   ]
  },
  {
   "cell_type": "markdown",
   "metadata": {},
   "source": [
    "## Evaluation within domains (usually skipped)"
   ]
  },
  {
   "cell_type": "code",
   "execution_count": null,
   "metadata": {},
   "outputs": [],
   "source": [
    "predictionCountsValidationDD,predictionLabelsValidationDD,predictionCountsTestDD,predictionLabelsTestDD = \\\n",
    "    runFasttext(fasttext_data_list_distance, fasttext_data_list_distance, squealFlag=False, dim=300, pretrainedVectors=\"twiqs-model-2020.vec\")"
   ]
  },
  {
   "cell_type": "code",
   "execution_count": null,
   "metadata": {},
   "outputs": [],
   "source": [
    "store_fasttext_data(predictionLabelsTestDD, \"predictionLabelsTestDD.pickle\")"
   ]
  },
  {
   "cell_type": "code",
   "execution_count": 50,
   "metadata": {},
   "outputs": [
    {
     "name": "stdout",
     "output_type": "stream",
     "text": [
      "0 cases: 58; precision: 0.741; recall: 0.741; fraction: 9999999999.000\n",
      "1 cases: 58; precision: 0.655; recall: 0.655; fraction: 9999999999.000\n",
      "2 cases: 57; precision: 0.614; recall: 0.614; fraction: 0.586\n",
      "3 cases: 58; precision: 0.569; recall: 0.569; fraction: 9999999999.000\n",
      "4 cases: 58; precision: 0.638; recall: 0.638; fraction: 9999999999.000\n",
      "5 cases: 58; precision: 0.638; recall: 0.638; fraction: 9999999999.000\n",
      "6 cases: 58; precision: 0.741; recall: 0.741; fraction: 9999999999.000\n",
      "7 cases: 57; precision: 0.596; recall: 0.596; fraction: 1.192\n",
      "8 cases: 58; precision: 0.672; recall: 0.672; fraction: 9999999999.000\n",
      "9 cases: 58; precision: 0.586; recall: 0.586; fraction: 3.808\n",
      " col_0                __label__IRRELEVANT  __label__REJECTS  __label__SUPPORTS\n",
      "row_0                                                                        \n",
      "__label__IRRELEVANT                  182                94                  2\n",
      "__label__REJECTS                      73               191                  4\n",
      "__label__SUPPORTS                     11                21                  0\n",
      "cases: 578; precision: 0.645; recall: 0.645; fraction: 6.090\n"
     ]
    }
   ],
   "source": [
    "predictionCountsValidationFFT,predictionLabelsValidationFFT,predictionCountsTestFFT,predictionLabelsTestFFT = \\\n",
    "    runFasttext(fasttext_data_list_facemask, fasttext_data_list_facemask, squealFlag=False, dim=300, pretrainedVectors=\"twiqs-model-2020.vec\")"
   ]
  },
  {
   "cell_type": "code",
   "execution_count": 51,
   "metadata": {},
   "outputs": [],
   "source": [
    "store_fasttext_data(predictionLabelsTestFFT, \"predictionLabelsTestFFT.pickle\")"
   ]
  },
  {
   "cell_type": "code",
   "execution_count": null,
   "metadata": {},
   "outputs": [],
   "source": [
    "predictionCountsValidationTT, predictionLabelsValidationTT, predictionCountsTestTT, predictionLabelsTestTT = \\\n",
    "    runFasttext(fasttext_data_list_testing, fasttext_data_list_testing, squealFlag=False, dim=300, pretrainedVectors=\"twiqs-model-2020.vec\")"
   ]
  },
  {
   "cell_type": "code",
   "execution_count": null,
   "metadata": {},
   "outputs": [],
   "source": [
    "store_fasttext_data(predictionLabelsTestTT, \"predictionLabelsTestTT.pickle\")"
   ]
  },
  {
   "cell_type": "code",
   "execution_count": null,
   "metadata": {},
   "outputs": [],
   "source": [
    "predictionCountsValidationF, predictionLabelsValidationF, predictionCountsTestF, predictionLabelsTestF = \\\n",
    "    runFasttext(fasttext_data_list_facemask, fasttext_data_list_facemask, squealFlag=False, dim=300)"
   ]
  },
  {
   "cell_type": "code",
   "execution_count": null,
   "metadata": {},
   "outputs": [],
   "source": [
    "predictionCountsValidationD, predictionLabelsValidationD, predictionCountsTestD, predictionLabelsTestD = \\\n",
    "    runFasttext(fasttext_data_list_distance, fasttext_data_list_distance, squealFlag=False, dim=300)"
   ]
  },
  {
   "cell_type": "code",
   "execution_count": null,
   "metadata": {},
   "outputs": [],
   "source": [
    "predictionCountsValidationT, predictionLabelsValidationT, predictionCountsTestT, predictionLabelsTestT = \\\n",
    "    runFasttext(fasttext_data_list_testing, fasttext_data_list_testing, squealFlag=False, dim=300)"
   ]
  },
  {
   "cell_type": "markdown",
   "metadata": {},
   "source": [
    "## Predicting social distancing with facemask data"
   ]
  },
  {
   "cell_type": "code",
   "execution_count": 100,
   "metadata": {},
   "outputs": [],
   "source": [
    "def count_labels(fasttext_data_list):\n",
    "    counts = {}\n",
    "    for i in range(0, len(fasttext_data_list)):\n",
    "        token_list = fasttext_data_list[i].split()\n",
    "        if token_list[0] in counts:\n",
    "            counts[token_list[0]] += 1\n",
    "        else:\n",
    "            counts[token_list[0]] = 1\n",
    "    return(counts)\n",
    "\n",
    "\n",
    "def swap_labels(fasttext_data_list_in):\n",
    "    fasttext_data_list_out = []\n",
    "    for i in range(0, len(fasttext_data_list_in)):\n",
    "        token_list = fasttext_data_list_in[i].split()\n",
    "        if token_list[0] == \"__label__REJECTS\":\n",
    "            token_list[0] = \"__label__SUPPORTS\"\n",
    "        elif token_list[0] == \"__label__SUPPORTS\":\n",
    "            token_list[0] = \"__label__REJECTS\"\n",
    "        fasttext_data_list_out.append(\" \".join(token_list))\n",
    "    return(fasttext_data_list_out)"
   ]
  },
  {
   "cell_type": "code",
   "execution_count": 101,
   "metadata": {},
   "outputs": [],
   "source": [
    "if False:\n",
    "    predictionCountsValidationFD,predictionLabelsValidationFD,predictionCountsTestFD,predictionLabelsTestFD = \\\n",
    "        runFasttext(fasttext_data_list_facemask, fasttext_data_list_distance, squealFlag=False, dim=300)"
   ]
  },
  {
   "cell_type": "code",
   "execution_count": 102,
   "metadata": {},
   "outputs": [],
   "source": [
    "if False:\n",
    "    predictionCountsValidationFD,predictionLabelsValidationFD,predictionCountsTestFD,predictionLabelsTestFD = \\\n",
    "        runFasttext(fasttext_data_list_facemask, fasttext_data_list_distance, squealFlag=False, dim=300, pretrainedVectors=\"twiqs-model-2020.vec\")"
   ]
  },
  {
   "cell_type": "code",
   "execution_count": 103,
   "metadata": {},
   "outputs": [],
   "source": [
    "if False:\n",
    "    store_fasttext_data(predictionLabelsTestFD, \"predictionLabelsTestFD.pickle\")"
   ]
  },
  {
   "cell_type": "code",
   "execution_count": 104,
   "metadata": {},
   "outputs": [],
   "source": [
    "predictionLabelsTestFD = read_fasttext_data(\"predictionLabelsTestFD.pickle\")\n",
    "predictionLabelsTestDD = read_fasttext_data(\"predictionLabelsTestDD.pickle\")"
   ]
  },
  {
   "cell_type": "code",
   "execution_count": 105,
   "metadata": {},
   "outputs": [],
   "source": [
    "def convert(data):\n",
    "    plot_data =[]\n",
    "    for key in data:\n",
    "        if re.search(\"^[0-9]+$\", str(key)):\n",
    "            support_count = 0\n",
    "            reject_count = 0\n",
    "            for label in data[key]:\n",
    "                if label == \"__label__SUPPORTS\":\n",
    "                    support_count += 1\n",
    "                if label == \"__label__REJECTS\":\n",
    "                    reject_count += 1\n",
    "            if support_count+reject_count > 0:\n",
    "                plot_data.append((int(key), support_count/(support_count+reject_count)))\n",
    "    plot_data = [x for x in sorted(plot_data, key=lambda x:x[0])]\n",
    "    return(plot_data)"
   ]
  },
  {
   "cell_type": "code",
   "execution_count": 106,
   "metadata": {},
   "outputs": [],
   "source": [
    "def make_data_predicted(predictionLabelsTest, tweet_ids, time_factor=4):\n",
    "    predicted = []\n",
    "    for i in range(0, len(predictionLabelsTest)):\n",
    "        for j in range(0, len(predictionLabelsTest[i][0])):\n",
    "            predicted.append(predictionLabelsTest[i][0][j])\n",
    "    data_predicted = {}\n",
    "    for i in range(0, len(tweet_ids)):\n",
    "        summary = str(tweet_ids[i])[0:time_factor]\n",
    "        if summary not in data_predicted:\n",
    "            data_predicted[summary] = []\n",
    "        data_predicted[summary].append(predicted[i][0])\n",
    "    return(data_predicted)"
   ]
  },
  {
   "cell_type": "code",
   "execution_count": 107,
   "metadata": {},
   "outputs": [],
   "source": [
    "time_factor = 4\n",
    "data_predicted_fd = make_data_predicted(predictionLabelsTestFD, tweet_ids_distance, time_factor=time_factor)\n",
    "data_predicted_dd = make_data_predicted(predictionLabelsTestDD, tweet_ids_distance, time_factor=time_factor)"
   ]
  },
  {
   "cell_type": "code",
   "execution_count": 108,
   "metadata": {},
   "outputs": [],
   "source": [
    "gold = []\n",
    "for tweet in fasttext_data_list_distance:\n",
    "    gold.append(tweet.split()[0])\n",
    "\n",
    "data_gold = {}\n",
    "for i in range(0, len(tweet_ids_distance)):\n",
    "    summary = str(tweet_ids_distance[i])[0:time_factor]\n",
    "    if summary not in data_gold:\n",
    "        data_gold[summary] = []\n",
    "    data_gold[summary].append(gold[i])"
   ]
  },
  {
   "cell_type": "code",
   "execution_count": 109,
   "metadata": {},
   "outputs": [
    {
     "data": {
      "image/png": "[encoded data removed]",
      "text/plain": [
       "<Figure size 432x288 with 1 Axes>"
      ]
     },
     "metadata": {
      "needs_background": "light"
     },
     "output_type": "display_data"
    }
   ],
   "source": [
    "plot_data_predicted_fd = convert(data_predicted_fd)\n",
    "plot_data_predicted_dd = convert(data_predicted_dd)\n",
    "plot_data_gold = convert(data_gold)\n",
    "\n",
    "x_gold = [x[0] for x in plot_data_gold]\n",
    "y_gold = [x[1] for x in plot_data_gold]\n",
    "x_fd = [x[0] for x in plot_data_predicted_fd]\n",
    "y_fd = [x[1] for x in plot_data_predicted_fd]\n",
    "x_dd = [x[0] for x in plot_data_predicted_dd]\n",
    "y_dd = [x[1] for x in plot_data_predicted_dd]\n",
    "plt.plot(x_fd, y_fd, label=\"predicted (out-of-domain)\")\n",
    "plt.plot(x_dd, y_dd, label=\"predicted (in-domain)\")\n",
    "plt.plot(x_gold, y_gold, label=\"gold\")\n",
    "plt.legend()\n",
    "plt.title(\"predicting social distancing with facemask data\")\n",
    "plt.savefig(\"facemask-to-distancing.png\")\n",
    "plt.show()"
   ]
  },
  {
   "cell_type": "markdown",
   "metadata": {},
   "source": [
    "### Inflate predictions"
   ]
  },
  {
   "cell_type": "code",
   "execution_count": 110,
   "metadata": {},
   "outputs": [],
   "source": [
    "def get_freqs(label_list):\n",
    "    freqs = {}\n",
    "    for label in label_list:\n",
    "        if label in freqs:\n",
    "            freqs[label] += 1\n",
    "        else:\n",
    "            freqs[label] = 1\n",
    "    for label in freqs:\n",
    "        freqs[label] /= len(label_list)\n",
    "    return(freqs)"
   ]
  },
  {
   "cell_type": "code",
   "execution_count": 111,
   "metadata": {},
   "outputs": [],
   "source": [
    "def inflate(predictionLabelsTestIn, source_label, target_label, factor):\n",
    "    predictionLabelsTestOut = list(predictionLabelsTestIn)\n",
    "    counter = 0\n",
    "    for fold in predictionLabelsTestOut:\n",
    "        for i in range(0, len(fold[0])):\n",
    "            if fold[0][i][0] == target_label:\n",
    "                for j in range(0, len(fold[0][i])):\n",
    "                    if fold[0][i][j] == source_label:\n",
    "                        break\n",
    "                if fold[0][i][j] != source_label:\n",
    "                    sys.exit(\"cannot happen\")\n",
    "                if fold[1][i][j]*factor > fold[1][i][0]:\n",
    "                    fold[0][i][0], fold[0][i][j] = fold[0][i][j], fold[0][i][0]\n",
    "    return(predictionLabelsTestOut)"
   ]
  },
  {
   "cell_type": "code",
   "execution_count": 112,
   "metadata": {},
   "outputs": [],
   "source": [
    "def inflate_plus(predictionLabelsTestIn, source_label, target_label, factor):\n",
    "    predictionLabelsTestOut = list(predictionLabelsTestIn)\n",
    "    counter = 0\n",
    "    for fold in predictionLabelsTestOut:\n",
    "        for i in range(0, len(fold[0])):\n",
    "            if fold[0][i][0] == target_label:\n",
    "                for j in range(0, len(fold[0][i])):\n",
    "                    if fold[0][i][j] == source_label:\n",
    "                        break\n",
    "                if fold[0][i][j] != source_label:\n",
    "                    sys.exit(\"cannot happen\")\n",
    "                if fold[1][i][j]+factor > fold[1][i][0]:\n",
    "                    fold[0][i][0], fold[0][i][j] = fold[0][i][j], fold[0][i][0]\n",
    "    return(predictionLabelsTestOut)"
   ]
  },
  {
   "cell_type": "code",
   "execution_count": 113,
   "metadata": {},
   "outputs": [
    {
     "name": "stdout",
     "output_type": "stream",
     "text": [
      "{'__label__REJECTS': 0.19822020589774908, '__label__SUPPORTS': 0.5632524864770546, '__label__IRRELEVANT': 0.2385273076251963}\n",
      "0.35192069392812886\n"
     ]
    }
   ],
   "source": [
    "freqs = get_freqs(gold)\n",
    "print(freqs)\n",
    "print(freqs['__label__REJECTS']/freqs['__label__SUPPORTS'])"
   ]
  },
  {
   "cell_type": "code",
   "execution_count": 114,
   "metadata": {},
   "outputs": [
    {
     "name": "stdout",
     "output_type": "stream",
     "text": [
      "{'__label__IRRELEVANT': 0.5379514918862328, '__label__SUPPORTS': 0.34252311987436745, '__label__REJECTS': 0.11952538823939976}\n",
      "0.34895568008150796\n"
     ]
    }
   ],
   "source": [
    "FACTOR = 0.9967\n",
    "\n",
    "predictionLabelsTestFDinflated = list(predictionLabelsTestFD)\n",
    "freqs = get_freqs([y[0] for x in inflate_plus(predictionLabelsTestFDinflated, '__label__SUPPORTS', '__label__REJECTS', FACTOR) for y in x[0]])\n",
    "print(freqs)\n",
    "print(freqs['__label__REJECTS']/freqs['__label__SUPPORTS'])"
   ]
  },
  {
   "cell_type": "code",
   "execution_count": 115,
   "metadata": {},
   "outputs": [
    {
     "data": {
      "image/png": "[encoded data removed]",
      "text/plain": [
       "<Figure size 432x288 with 1 Axes>"
      ]
     },
     "metadata": {
      "needs_background": "light"
     },
     "output_type": "display_data"
    }
   ],
   "source": [
    "data_predicted_fd_inflated = make_data_predicted(predictionLabelsTestFDinflated, tweet_ids_distance)\n",
    "plot_data_predicted_fd_inflated = convert(data_predicted_fd_inflated)\n",
    "\n",
    "x_gold = [x[0] for x in plot_data_gold]\n",
    "y_gold = [x[1] for x in plot_data_gold]\n",
    "x_fd = [x[0] for x in plot_data_predicted_fd]\n",
    "y_fd = [x[1] for x in plot_data_predicted_fd]\n",
    "x_dd = [x[0] for x in plot_data_predicted_dd]\n",
    "y_dd = [x[1] for x in plot_data_predicted_dd]\n",
    "x_fd_inflated = [x[0] for x in plot_data_predicted_fd_inflated]\n",
    "y_fd_inflated = [x[1] for x in plot_data_predicted_fd_inflated]\n",
    "plt.plot(x_fd, y_fd, label=\"predicted (out-of-domain)\")\n",
    "plt.plot(x_dd, y_dd, label=\"predicted (in-domain)\")\n",
    "plt.plot(x_gold, y_gold, label=\"gold\")\n",
    "plt.plot(x_fd_inflated, y_fd_inflated, label=\"predicted (out-of-domain, inflated\")\n",
    "plt.legend()\n",
    "plt.title(\"predicting social distancing with facemask data\")\n",
    "plt.savefig(\"facemask-to-distancing.png\")\n",
    "plt.show()"
   ]
  },
  {
   "cell_type": "markdown",
   "metadata": {},
   "source": [
    "### Numerical analysis of predictions"
   ]
  },
  {
   "cell_type": "code",
   "execution_count": 116,
   "metadata": {},
   "outputs": [],
   "source": [
    "plot_data_predicted_fd_dict = { x[0]:x[1] for x in plot_data_predicted_fd }\n",
    "plot_data_predicted_dd_dict = { x[0]:x[1] for x in plot_data_predicted_dd }\n",
    "plot_data_gold_dict = { x[0]:x[1] for x in plot_data_gold }\n",
    "plot_data_predicted_fd_inflated_dict = { x[0]:x[1] for x in plot_data_predicted_fd_inflated }"
   ]
  },
  {
   "cell_type": "code",
   "execution_count": 117,
   "metadata": {},
   "outputs": [],
   "source": [
    "def get_common_key_values(dict1, dict2):\n",
    "    values1 = []\n",
    "    values2 = []\n",
    "    for key in sorted(dict1.keys()):\n",
    "        if key in dict2:\n",
    "            values1.append(dict1[key])\n",
    "            values2.append(dict2[key])\n",
    "    return(values1, values2)"
   ]
  },
  {
   "cell_type": "code",
   "execution_count": 118,
   "metadata": {},
   "outputs": [
    {
     "name": "stdout",
     "output_type": "stream",
     "text": [
      "Pearson r correlation gold vs in-domain: 0.88\n",
      "Pearson r correlation gold vs out-of-domain: 0.47\n",
      "Pearson r correlation gold vs out-of-domain (inflated): -0.06\n"
     ]
    }
   ],
   "source": [
    "values_dd, values_gold_dd = get_common_key_values(plot_data_predicted_dd_dict, plot_data_gold_dict)\n",
    "print(\"Pearson r correlation gold vs in-domain:\", round(scipy.stats.linregress(np.array(values_gold_dd), np.array(values_dd)).rvalue, 2))\n",
    "values_fd, values_gold_fd = get_common_key_values(plot_data_predicted_fd_dict, plot_data_gold_dict)\n",
    "print(\"Pearson r correlation gold vs out-of-domain:\", round(scipy.stats.linregress(np.array(values_gold_fd), np.array(values_fd)).rvalue, 2))\n",
    "values_fd_inflated, values_gold_fd_inflated = get_common_key_values(plot_data_predicted_fd_inflated_dict, plot_data_gold_dict)\n",
    "print(\"Pearson r correlation gold vs out-of-domain (inflated):\", round(scipy.stats.linregress(np.array(values_gold_fd), np.array(values_fd_inflated)).rvalue, 2))"
   ]
  },
  {
   "cell_type": "code",
   "execution_count": 119,
   "metadata": {},
   "outputs": [],
   "source": [
    "def absolute_difference(list1, list2):\n",
    "    absolute_difference = 0\n",
    "    for i in range(0, len(list1)):\n",
    "        absolute_difference += abs(list1[i]-list2[i])\n",
    "    return(absolute_difference/len(list1))"
   ]
  },
  {
   "cell_type": "code",
   "execution_count": 120,
   "metadata": {},
   "outputs": [
    {
     "name": "stdout",
     "output_type": "stream",
     "text": [
      "absolute difference gold vs in-domain: 0.06\n",
      "absolute difference gold vs out-of-domain: 0.42\n",
      "absolute difference gold vs out-of-domain (inflated): 0.18\n"
     ]
    }
   ],
   "source": [
    "print(\"absolute difference gold vs in-domain:\", round(absolute_difference(values_gold_dd, values_dd), 2))\n",
    "print(\"absolute difference gold vs out-of-domain:\", round(absolute_difference(values_gold_fd, values_fd),2))\n",
    "print(\"absolute difference gold vs out-of-domain (inflated):\", round(absolute_difference(values_gold_fd_inflated, values_fd_inflated),2)) "
   ]
  },
  {
   "cell_type": "markdown",
   "metadata": {},
   "source": [
    "## Predicting facemasks with social distancing data"
   ]
  },
  {
   "cell_type": "code",
   "execution_count": 121,
   "metadata": {},
   "outputs": [],
   "source": [
    "if False:\n",
    "    predictionCountsValidationDF,predictionLabelsValidationDF,predictionCountsTestDF,predictionLabelsTestDF = \\\n",
    "        runFasttext(fasttext_data_list_distance, fasttext_data_list_facemask, squealFlag=False, dim=300)"
   ]
  },
  {
   "cell_type": "code",
   "execution_count": 122,
   "metadata": {},
   "outputs": [],
   "source": [
    "if False:\n",
    "    predictionCountsValidationDFT,predictionLabelsValidationDFT,predictionCountsTestDFT,predictionLabelsTestDFT = \\\n",
    "        runFasttext(fasttext_data_list_distance, fasttext_data_list_facemask, squealFlag=False, dim=300, pretrainedVectors=\"twiqs-model-2020.vec\")"
   ]
  },
  {
   "cell_type": "code",
   "execution_count": 123,
   "metadata": {},
   "outputs": [],
   "source": [
    "if False:\n",
    "    store_fasttext_data(predictionLabelsTestDFT, \"predictionLabelsTestDFT.pickle\")"
   ]
  },
  {
   "cell_type": "code",
   "execution_count": 124,
   "metadata": {},
   "outputs": [],
   "source": [
    "predictionLabelsTestDF = read_fasttext_data(\"predictionLabelsTestDF.pickle\")\n",
    "predictionLabelsTestFF = read_fasttext_data(\"predictionLabelsTestFF.pickle\")"
   ]
  },
  {
   "cell_type": "code",
   "execution_count": 125,
   "metadata": {},
   "outputs": [],
   "source": [
    "time_factor = 5\n",
    "data_predicted_df = make_data_predicted(predictionLabelsTestDF, tweet_ids_facemask, time_factor=time_factor)\n",
    "data_predicted_ff = make_data_predicted(predictionLabelsTestFF, tweet_ids_facemask, time_factor=time_factor)"
   ]
  },
  {
   "cell_type": "code",
   "execution_count": 126,
   "metadata": {},
   "outputs": [],
   "source": [
    "gold = []\n",
    "for tweet in fasttext_data_list_facemask:\n",
    "    gold.append(tweet.split()[0])\n",
    "\n",
    "data_gold = {}\n",
    "for i in range(0, len(tweet_ids_facemask)):\n",
    "    summary = str(tweet_ids_facemask[i])[0:time_factor]\n",
    "    if summary not in data_gold:\n",
    "        data_gold[summary] = []\n",
    "    data_gold[summary].append(gold[i])"
   ]
  },
  {
   "cell_type": "code",
   "execution_count": 127,
   "metadata": {},
   "outputs": [
    {
     "data": {
      "image/png": "[encoded data removed]",
      "text/plain": [
       "<Figure size 432x288 with 1 Axes>"
      ]
     },
     "metadata": {
      "needs_background": "light"
     },
     "output_type": "display_data"
    }
   ],
   "source": [
    "plot_data_predicted_df = convert(data_predicted_df)\n",
    "plot_data_predicted_ff = convert(data_predicted_ff)\n",
    "plot_data_gold = convert(data_gold)\n",
    "\n",
    "x_gold = [x[0] for x in plot_data_gold]\n",
    "y_gold = [x[1] for x in plot_data_gold]\n",
    "x_df = [x[0] for x in plot_data_predicted_df]\n",
    "y_df = [x[1] for x in plot_data_predicted_df]\n",
    "x_ff = [x[0] for x in plot_data_predicted_ff]\n",
    "y_ff = [x[1] for x in plot_data_predicted_ff]\n",
    "plt.plot(x_df, y_df, label=\"predicted (out-of-domain)\")\n",
    "plt.plot(x_ff, y_ff, label=\"predicted (in-domain)\")\n",
    "plt.plot(x_gold, y_gold, label=\"gold\")\n",
    "plt.legend()\n",
    "plt.title(\"predicting facemask with social distancing data\")\n",
    "plt.savefig(\"distancing-to-facemask.png\")\n",
    "plt.show()"
   ]
  },
  {
   "cell_type": "markdown",
   "metadata": {},
   "source": [
    "### Inflate predictions"
   ]
  },
  {
   "cell_type": "code",
   "execution_count": 128,
   "metadata": {},
   "outputs": [
    {
     "name": "stdout",
     "output_type": "stream",
     "text": [
      "{'__label__IRRELEVANT': 0.4809688581314879, '__label__REJECTS': 0.46366782006920415, '__label__SUPPORTS': 0.05536332179930796}\n",
      "8.375\n"
     ]
    }
   ],
   "source": [
    "freqs = get_freqs(gold)\n",
    "print(freqs)\n",
    "print(freqs['__label__REJECTS']/freqs['__label__SUPPORTS'])"
   ]
  },
  {
   "cell_type": "code",
   "execution_count": 129,
   "metadata": {},
   "outputs": [
    {
     "name": "stdout",
     "output_type": "stream",
     "text": [
      "{'__label__IRRELEVANT': 0.27760968229954613, '__label__REJECTS': 0.518910741301059, '__label__SUPPORTS': 0.20347957639939485}\n",
      "2.550185873605948\n"
     ]
    }
   ],
   "source": [
    "FACTOR = 0.9893\n",
    "\n",
    "predictionLabelsTestDFinflated = list(predictionLabelsTestDF)\n",
    "freqs = get_freqs([y[0] for x in inflate_plus(predictionLabelsTestDFinflated, '__label__REJECTS', '__label__SUPPORTS', FACTOR) for y in x[0]])\n",
    "print(freqs)\n",
    "print(freqs['__label__REJECTS']/freqs['__label__SUPPORTS'])"
   ]
  },
  {
   "cell_type": "code",
   "execution_count": 130,
   "metadata": {},
   "outputs": [],
   "source": [
    "data_predicted_df_inflated = make_data_predicted(inflate(predictionLabelsTestDFinflated, '__label__REJECTS', '__label__SUPPORTS', FACTOR), tweet_ids_facemask, time_factor=1)"
   ]
  },
  {
   "cell_type": "code",
   "execution_count": 131,
   "metadata": {},
   "outputs": [
    {
     "data": {
      "image/png": "[encoded data removed]",
      "text/plain": [
       "<Figure size 432x288 with 1 Axes>"
      ]
     },
     "metadata": {
      "needs_background": "light"
     },
     "output_type": "display_data"
    }
   ],
   "source": [
    "plot_data_predicted_df = convert(data_predicted_df)\n",
    "plot_data_predicted_ff = convert(data_predicted_ff)\n",
    "plot_data_predicted_df_inflated = convert(data_predicted_df_inflated)\n",
    "plot_data_gold = convert(data_gold)\n",
    "\n",
    "x_gold = [x[0] for x in plot_data_gold]\n",
    "y_gold = [x[1] for x in plot_data_gold]\n",
    "x_df = [x[0] for x in plot_data_predicted_df]\n",
    "y_df = [x[1] for x in plot_data_predicted_df]\n",
    "x_ff = [x[0] for x in plot_data_predicted_ff]\n",
    "y_ff = [x[1] for x in plot_data_predicted_ff]\n",
    "x_df_inflated = [x[0] for x in plot_data_predicted_df_inflated]\n",
    "y_df_inflated = [x[1] for x in plot_data_predicted_df_inflated]\n",
    "plt.plot(x_df, y_df, label=\"predicted (out-of-domain)\")\n",
    "plt.plot(x_ff, y_ff, label=\"predicted (in-domain)\")\n",
    "plt.plot(x_gold, y_gold, label=\"gold\")\n",
    "plt.plot(x_df_inflated, y_df_inflated, label=\"predicted (out-of-domain, inflated)\")\n",
    "plt.legend()\n",
    "plt.title(\"predicting facemask with social distancing data\")\n",
    "plt.savefig(\"distancing-to-facemask.png\")\n",
    "plt.show()"
   ]
  },
  {
   "cell_type": "markdown",
   "metadata": {},
   "source": [
    "### Numerical analysis of predictions"
   ]
  },
  {
   "cell_type": "code",
   "execution_count": 132,
   "metadata": {},
   "outputs": [],
   "source": [
    "plot_data_predicted_df_dict = { x[0]:x[1] for x in plot_data_predicted_df }\n",
    "plot_data_predicted_ff_dict = { x[0]:x[1] for x in plot_data_predicted_ff }\n",
    "plot_data_predicted_df_inflated_dict = { x[0]:x[1] for x in plot_data_predicted_df_inflated }\n",
    "plot_data_gold_dict = { x[0]:x[1] for x in plot_data_gold }"
   ]
  },
  {
   "cell_type": "code",
   "execution_count": 133,
   "metadata": {},
   "outputs": [
    {
     "name": "stdout",
     "output_type": "stream",
     "text": [
      "Pearson r correlation gold vs in-domain: 0.05\n",
      "Pearson r correlation gold vs out-of-domain: -0.11\n"
     ]
    },
    {
     "ename": "ValueError",
     "evalue": "Inputs must not be empty.",
     "output_type": "error",
     "traceback": [
      "\u001b[0;31m---------------------------------------------------------------------------\u001b[0m",
      "\u001b[0;31mValueError\u001b[0m                                Traceback (most recent call last)",
      "\u001b[0;32m<ipython-input-133-400f5530c8f8>\u001b[0m in \u001b[0;36m<module>\u001b[0;34m\u001b[0m\n\u001b[1;32m      4\u001b[0m \u001b[0mprint\u001b[0m\u001b[0;34m(\u001b[0m\u001b[0;34m\"Pearson r correlation gold vs out-of-domain:\"\u001b[0m\u001b[0;34m,\u001b[0m \u001b[0mround\u001b[0m\u001b[0;34m(\u001b[0m\u001b[0mscipy\u001b[0m\u001b[0;34m.\u001b[0m\u001b[0mstats\u001b[0m\u001b[0;34m.\u001b[0m\u001b[0mlinregress\u001b[0m\u001b[0;34m(\u001b[0m\u001b[0mnp\u001b[0m\u001b[0;34m.\u001b[0m\u001b[0marray\u001b[0m\u001b[0;34m(\u001b[0m\u001b[0mvalues_gold_df\u001b[0m\u001b[0;34m)\u001b[0m\u001b[0;34m,\u001b[0m \u001b[0mnp\u001b[0m\u001b[0;34m.\u001b[0m\u001b[0marray\u001b[0m\u001b[0;34m(\u001b[0m\u001b[0mvalues_df\u001b[0m\u001b[0;34m)\u001b[0m\u001b[0;34m)\u001b[0m\u001b[0;34m.\u001b[0m\u001b[0mrvalue\u001b[0m\u001b[0;34m,\u001b[0m \u001b[0;36m2\u001b[0m\u001b[0;34m)\u001b[0m\u001b[0;34m)\u001b[0m\u001b[0;34m\u001b[0m\u001b[0;34m\u001b[0m\u001b[0m\n\u001b[1;32m      5\u001b[0m \u001b[0mvalues_df_inflated\u001b[0m\u001b[0;34m,\u001b[0m \u001b[0mvalues_gold_df_inflated\u001b[0m \u001b[0;34m=\u001b[0m \u001b[0mget_common_key_values\u001b[0m\u001b[0;34m(\u001b[0m\u001b[0mplot_data_predicted_df_inflated_dict\u001b[0m\u001b[0;34m,\u001b[0m \u001b[0mplot_data_gold_dict\u001b[0m\u001b[0;34m)\u001b[0m\u001b[0;34m\u001b[0m\u001b[0;34m\u001b[0m\u001b[0m\n\u001b[0;32m----> 6\u001b[0;31m \u001b[0mprint\u001b[0m\u001b[0;34m(\u001b[0m\u001b[0;34m\"Pearson r correlation gold vs out-of-domain (inflated):\"\u001b[0m\u001b[0;34m,\u001b[0m \u001b[0mround\u001b[0m\u001b[0;34m(\u001b[0m\u001b[0mscipy\u001b[0m\u001b[0;34m.\u001b[0m\u001b[0mstats\u001b[0m\u001b[0;34m.\u001b[0m\u001b[0mlinregress\u001b[0m\u001b[0;34m(\u001b[0m\u001b[0mnp\u001b[0m\u001b[0;34m.\u001b[0m\u001b[0marray\u001b[0m\u001b[0;34m(\u001b[0m\u001b[0mvalues_gold_df_inflated\u001b[0m\u001b[0;34m)\u001b[0m\u001b[0;34m,\u001b[0m \u001b[0mnp\u001b[0m\u001b[0;34m.\u001b[0m\u001b[0marray\u001b[0m\u001b[0;34m(\u001b[0m\u001b[0mvalues_df_inflated\u001b[0m\u001b[0;34m)\u001b[0m\u001b[0;34m)\u001b[0m\u001b[0;34m.\u001b[0m\u001b[0mrvalue\u001b[0m\u001b[0;34m,\u001b[0m \u001b[0;36m2\u001b[0m\u001b[0;34m)\u001b[0m\u001b[0;34m)\u001b[0m\u001b[0;34m\u001b[0m\u001b[0;34m\u001b[0m\u001b[0m\n\u001b[0m",
      "\u001b[0;32m~/anaconda3/envs/python37/lib/python3.7/site-packages/scipy/stats/_stats_mstats_common.py\u001b[0m in \u001b[0;36mlinregress\u001b[0;34m(x, y)\u001b[0m\n\u001b[1;32m    107\u001b[0m \u001b[0;34m\u001b[0m\u001b[0m\n\u001b[1;32m    108\u001b[0m     \u001b[0;32mif\u001b[0m \u001b[0mx\u001b[0m\u001b[0;34m.\u001b[0m\u001b[0msize\u001b[0m \u001b[0;34m==\u001b[0m \u001b[0;36m0\u001b[0m \u001b[0;32mor\u001b[0m \u001b[0my\u001b[0m\u001b[0;34m.\u001b[0m\u001b[0msize\u001b[0m \u001b[0;34m==\u001b[0m \u001b[0;36m0\u001b[0m\u001b[0;34m:\u001b[0m\u001b[0;34m\u001b[0m\u001b[0;34m\u001b[0m\u001b[0m\n\u001b[0;32m--> 109\u001b[0;31m         \u001b[0;32mraise\u001b[0m \u001b[0mValueError\u001b[0m\u001b[0;34m(\u001b[0m\u001b[0;34m\"Inputs must not be empty.\"\u001b[0m\u001b[0;34m)\u001b[0m\u001b[0;34m\u001b[0m\u001b[0;34m\u001b[0m\u001b[0m\n\u001b[0m\u001b[1;32m    110\u001b[0m \u001b[0;34m\u001b[0m\u001b[0m\n\u001b[1;32m    111\u001b[0m     \u001b[0mn\u001b[0m \u001b[0;34m=\u001b[0m \u001b[0mlen\u001b[0m\u001b[0;34m(\u001b[0m\u001b[0mx\u001b[0m\u001b[0;34m)\u001b[0m\u001b[0;34m\u001b[0m\u001b[0;34m\u001b[0m\u001b[0m\n",
      "\u001b[0;31mValueError\u001b[0m: Inputs must not be empty."
     ]
    }
   ],
   "source": [
    "values_ff, values_gold_ff = get_common_key_values(plot_data_predicted_ff_dict, plot_data_gold_dict)\n",
    "print(\"Pearson r correlation gold vs in-domain:\", round(scipy.stats.linregress(np.array(values_gold_ff), np.array(values_ff)).rvalue, 2))\n",
    "values_df, values_gold_df = get_common_key_values(plot_data_predicted_df_dict, plot_data_gold_dict)\n",
    "print(\"Pearson r correlation gold vs out-of-domain:\", round(scipy.stats.linregress(np.array(values_gold_df), np.array(values_df)).rvalue, 2))\n",
    "values_df_inflated, values_gold_df_inflated = get_common_key_values(plot_data_predicted_df_inflated_dict, plot_data_gold_dict)\n",
    "print(\"Pearson r correlation gold vs out-of-domain (inflated):\", round(scipy.stats.linregress(np.array(values_gold_df_inflated), np.array(values_df_inflated)).rvalue, 2))"
   ]
  },
  {
   "cell_type": "code",
   "execution_count": 44,
   "metadata": {},
   "outputs": [
    {
     "name": "stdout",
     "output_type": "stream",
     "text": [
      "absolute difference gold vs in-domain: 0.07\n",
      "absolute difference gold vs out-of-domain: 0.37\n"
     ]
    },
    {
     "ename": "ZeroDivisionError",
     "evalue": "division by zero",
     "output_type": "error",
     "traceback": [
      "\u001b[0;31m---------------------------------------------------------------------------\u001b[0m",
      "\u001b[0;31mZeroDivisionError\u001b[0m                         Traceback (most recent call last)",
      "\u001b[0;32m<ipython-input-44-4eecf575709e>\u001b[0m in \u001b[0;36m<module>\u001b[0;34m\u001b[0m\n\u001b[1;32m      1\u001b[0m \u001b[0mprint\u001b[0m\u001b[0;34m(\u001b[0m\u001b[0;34m\"absolute difference gold vs in-domain:\"\u001b[0m\u001b[0;34m,\u001b[0m \u001b[0mround\u001b[0m\u001b[0;34m(\u001b[0m\u001b[0mabsolute_difference\u001b[0m\u001b[0;34m(\u001b[0m\u001b[0mvalues_gold_ff\u001b[0m\u001b[0;34m,\u001b[0m \u001b[0mvalues_ff\u001b[0m\u001b[0;34m)\u001b[0m\u001b[0;34m,\u001b[0m \u001b[0;36m2\u001b[0m\u001b[0;34m)\u001b[0m\u001b[0;34m)\u001b[0m\u001b[0;34m\u001b[0m\u001b[0;34m\u001b[0m\u001b[0m\n\u001b[1;32m      2\u001b[0m \u001b[0mprint\u001b[0m\u001b[0;34m(\u001b[0m\u001b[0;34m\"absolute difference gold vs out-of-domain:\"\u001b[0m\u001b[0;34m,\u001b[0m \u001b[0mround\u001b[0m\u001b[0;34m(\u001b[0m\u001b[0mabsolute_difference\u001b[0m\u001b[0;34m(\u001b[0m\u001b[0mvalues_gold_df\u001b[0m\u001b[0;34m,\u001b[0m \u001b[0mvalues_df\u001b[0m\u001b[0;34m)\u001b[0m\u001b[0;34m,\u001b[0m\u001b[0;36m2\u001b[0m\u001b[0;34m)\u001b[0m\u001b[0;34m)\u001b[0m\u001b[0;34m\u001b[0m\u001b[0;34m\u001b[0m\u001b[0m\n\u001b[0;32m----> 3\u001b[0;31m \u001b[0mprint\u001b[0m\u001b[0;34m(\u001b[0m\u001b[0;34m\"absolute difference gold vs out-of-domain (inflated):\"\u001b[0m\u001b[0;34m,\u001b[0m \u001b[0mround\u001b[0m\u001b[0;34m(\u001b[0m\u001b[0mabsolute_difference\u001b[0m\u001b[0;34m(\u001b[0m\u001b[0mvalues_gold_df_inflated\u001b[0m\u001b[0;34m,\u001b[0m \u001b[0mvalues_df_inflated\u001b[0m\u001b[0;34m)\u001b[0m\u001b[0;34m,\u001b[0m\u001b[0;36m2\u001b[0m\u001b[0;34m)\u001b[0m\u001b[0;34m)\u001b[0m\u001b[0;34m\u001b[0m\u001b[0;34m\u001b[0m\u001b[0m\n\u001b[0m",
      "\u001b[0;32m<ipython-input-29-5296738c6f95>\u001b[0m in \u001b[0;36mabsolute_difference\u001b[0;34m(list1, list2)\u001b[0m\n\u001b[1;32m      3\u001b[0m     \u001b[0;32mfor\u001b[0m \u001b[0mi\u001b[0m \u001b[0;32min\u001b[0m \u001b[0mrange\u001b[0m\u001b[0;34m(\u001b[0m\u001b[0;36m0\u001b[0m\u001b[0;34m,\u001b[0m \u001b[0mlen\u001b[0m\u001b[0;34m(\u001b[0m\u001b[0mlist1\u001b[0m\u001b[0;34m)\u001b[0m\u001b[0;34m)\u001b[0m\u001b[0;34m:\u001b[0m\u001b[0;34m\u001b[0m\u001b[0;34m\u001b[0m\u001b[0m\n\u001b[1;32m      4\u001b[0m         \u001b[0mabsolute_difference\u001b[0m \u001b[0;34m+=\u001b[0m \u001b[0mabs\u001b[0m\u001b[0;34m(\u001b[0m\u001b[0mlist1\u001b[0m\u001b[0;34m[\u001b[0m\u001b[0mi\u001b[0m\u001b[0;34m]\u001b[0m\u001b[0;34m-\u001b[0m\u001b[0mlist2\u001b[0m\u001b[0;34m[\u001b[0m\u001b[0mi\u001b[0m\u001b[0;34m]\u001b[0m\u001b[0;34m)\u001b[0m\u001b[0;34m\u001b[0m\u001b[0;34m\u001b[0m\u001b[0m\n\u001b[0;32m----> 5\u001b[0;31m     \u001b[0;32mreturn\u001b[0m\u001b[0;34m(\u001b[0m\u001b[0mabsolute_difference\u001b[0m\u001b[0;34m/\u001b[0m\u001b[0mlen\u001b[0m\u001b[0;34m(\u001b[0m\u001b[0mlist1\u001b[0m\u001b[0;34m)\u001b[0m\u001b[0;34m)\u001b[0m\u001b[0;34m\u001b[0m\u001b[0;34m\u001b[0m\u001b[0m\n\u001b[0m",
      "\u001b[0;31mZeroDivisionError\u001b[0m: division by zero"
     ]
    }
   ],
   "source": [
    "print(\"absolute difference gold vs in-domain:\", round(absolute_difference(values_gold_ff, values_ff), 2))\n",
    "print(\"absolute difference gold vs out-of-domain:\", round(absolute_difference(values_gold_df, values_df),2)) \n",
    "print(\"absolute difference gold vs out-of-domain (inflated):\", round(absolute_difference(values_gold_df_inflated, values_df_inflated),2)) "
   ]
  },
  {
   "cell_type": "markdown",
   "metadata": {},
   "source": [
    "## Predicting testing data with distance data"
   ]
  },
  {
   "cell_type": "code",
   "execution_count": 134,
   "metadata": {},
   "outputs": [],
   "source": [
    "if False:\n",
    "    predictionCountsValidationDT, predictionLabelsValidationDT, predictionCountsTestDT, predictionLabelsTestDT = \\\n",
    "        runFasttext(fasttext_data_list_distance, fasttext_data_list_testing, squealFlag=False, dim=300)"
   ]
  },
  {
   "cell_type": "code",
   "execution_count": 135,
   "metadata": {},
   "outputs": [],
   "source": [
    "if False:\n",
    "    predictionCountsValidationDT, predictionLabelsValidationDT, predictionCountsTestDT, predictionLabelsTestDT = \\\n",
    "        runFasttext(fasttext_data_list_distance, \n",
    "                    fasttext_data_list_testing, \n",
    "                    squealFlag=False, \n",
    "                    dim=300, \n",
    "                    pretrainedVectors=\"twiqs-model-2020.vec\")"
   ]
  },
  {
   "cell_type": "code",
   "execution_count": 136,
   "metadata": {},
   "outputs": [],
   "source": [
    "if False:\n",
    "    store_fasttext_data(predictionLabelsTestDT, \"predictionLabelsTestDT.pickle\")"
   ]
  },
  {
   "cell_type": "code",
   "execution_count": 137,
   "metadata": {},
   "outputs": [],
   "source": [
    "predictionLabelsTestDT = read_fasttext_data(\"predictionLabelsTestDT.pickle\")\n",
    "predictionLabelsTestTT = read_fasttext_data(\"predictionLabelsTestTT.pickle\")"
   ]
  },
  {
   "cell_type": "code",
   "execution_count": 138,
   "metadata": {},
   "outputs": [],
   "source": [
    "time_factor = 3\n",
    "data_predicted_dt = make_data_predicted(predictionLabelsTestDT, tweet_ids_testing, time_factor=time_factor)\n",
    "data_predicted_tt = make_data_predicted(predictionLabelsTestTT, tweet_ids_testing, time_factor=time_factor)"
   ]
  },
  {
   "cell_type": "code",
   "execution_count": 139,
   "metadata": {},
   "outputs": [],
   "source": [
    "gold = []\n",
    "for tweet in fasttext_data_list_testing:\n",
    "    gold.append(tweet.split()[0])\n",
    "\n",
    "data_gold = {}\n",
    "for i in range(0, len(tweet_ids_testing)):\n",
    "    summary = str(tweet_ids_testing[i])[0:time_factor]\n",
    "    if summary not in data_gold:\n",
    "        data_gold[summary] = []\n",
    "    data_gold[summary].append(gold[i])"
   ]
  },
  {
   "cell_type": "code",
   "execution_count": 140,
   "metadata": {},
   "outputs": [
    {
     "data": {
      "image/png": "[encoded data removed]",
      "text/plain": [
       "<Figure size 432x288 with 1 Axes>"
      ]
     },
     "metadata": {
      "needs_background": "light"
     },
     "output_type": "display_data"
    }
   ],
   "source": [
    "plot_data_predicted_dt = convert(data_predicted_dt)\n",
    "plot_data_predicted_tt = convert(data_predicted_tt)\n",
    "plot_data_gold = convert(data_gold)\n",
    "\n",
    "x_gold = [x[0] for x in plot_data_gold]\n",
    "y_gold = [x[1] for x in plot_data_gold]\n",
    "x_df = [x[0] for x in plot_data_predicted_dt]\n",
    "y_df = [x[1] for x in plot_data_predicted_dt]\n",
    "x_ff = [x[0] for x in plot_data_predicted_tt]\n",
    "y_ff = [x[1] for x in plot_data_predicted_tt]\n",
    "plt.plot(x_df, y_df, label=\"predicted (out-of-domain)\")\n",
    "plt.plot(x_ff, y_ff, label=\"predicted (in-domain)\")\n",
    "plt.plot(x_gold, y_gold, label=\"gold\")\n",
    "plt.legend()\n",
    "plt.title(\"predicting testing with social distancing data\")\n",
    "plt.savefig(\"distancing-to-testing.png\")\n",
    "plt.show()"
   ]
  },
  {
   "cell_type": "markdown",
   "metadata": {},
   "source": [
    "### Use extra data in training"
   ]
  },
  {
   "cell_type": "code",
   "execution_count": 141,
   "metadata": {},
   "outputs": [],
   "source": [
    "def runFasttextPlus(fasttextData1,\n",
    "                    fasttextData2,\n",
    "                    dim=DIM,\n",
    "                    epoch=EPOCH,\n",
    "                    lr=LR,\n",
    "                    n=N,\n",
    "                    squealFlag=True,\n",
    "                    maxTrain=None,\n",
    "                    pretrainedVectors=None,\n",
    "                    extraFasttextData=None):\n",
    "    predictionCountsTest = []\n",
    "    predictionLabelsTest = []\n",
    "    predictionCountsValidation = []\n",
    "    predictionLabelsValidation = []\n",
    "    for fold in range(0,n):\n",
    "        if squealFlag:\n",
    "            clear_output(wait=True)\n",
    "            print(\"starting fold\",fold)\n",
    "        testStart1 = round(fold*len(fasttextData1)/n)\n",
    "        testEnd1 = round((fold+1)*len(fasttextData1)/n)\n",
    "        testStart2 = round(fold*len(fasttextData2)/n)\n",
    "        testEnd2 = round((fold+1)*len(fasttextData2)/n)\n",
    "        if fold < n-1: nextFold = fold+1\n",
    "        else: nextFold = 0\n",
    "        validationStart1 = round(nextFold*len(fasttextData1)/n)\n",
    "        validationEnd1 = round((nextFold+1)*len(fasttextData1)/n)\n",
    "        validationStart2 = round(nextFold*len(fasttextData2)/n)\n",
    "        validationEnd2 = round((nextFold+1)*len(fasttextData2)/n)\n",
    "        trainFile = open(TRAIN,\"w\")\n",
    "        testFile = open(TEST,\"w\")\n",
    "        validationFile = open(VALIDATION,\"w\")\n",
    "        trainData = []\n",
    "        validationData = []\n",
    "        testData = []\n",
    "        for i in range(0,len(fasttextData1)):\n",
    "            data = fasttextData1[i]\n",
    "            if i >= testStart1 and i < testEnd1: \n",
    "                pass\n",
    "            elif i >= validationStart1 and i < validationEnd1: \n",
    "                pass\n",
    "            else: \n",
    "                print(data,file=trainFile)\n",
    "                trainData.append(data)\n",
    "        for i in range(0,len(fasttextData2)):\n",
    "            data = fasttextData2[i]\n",
    "            if i >= testStart2 and i < testEnd2: \n",
    "                print(data,file=testFile)\n",
    "                testData.append(data)\n",
    "            elif i >= validationStart2 and i < validationEnd2: \n",
    "                print(data,file=validationFile)\n",
    "                validationData.append(data)\n",
    "        if extraFasttextData != None:\n",
    "            for i in range(0,len(extraFasttextData)):\n",
    "                data = extraFasttextData[i]\n",
    "                print(data,file=trainFile)\n",
    "                trainData.append(data)\n",
    "        testFile.close()\n",
    "        trainFile.close()\n",
    "        validationFile.close()\n",
    "        if not maxTrain == None and maxTrain < len(trainData):\n",
    "            trainData = ranSelect(trainData,maxTrain)\n",
    "            trainFile = open(TRAIN,\"w\")\n",
    "            for i in range(0,len(trainData)):\n",
    "                print(trainData[i],file=trainFile)\n",
    "            trainFile.close()\n",
    "        if pretrainedVectors == None:\n",
    "            model = fasttext.train_supervised(TRAIN, dim=dim, epoch=epoch, lr=lr)\n",
    "        else:\n",
    "            model = fasttext.train_supervised(TRAIN, dim=dim, epoch=epoch, lr=lr, pretrainedVectors=pretrainedVectors)\n",
    "        predictionCountsValidation.append([*model.test(VALIDATION)])\n",
    "        predictionLabelsValidation.append(model.predict(validationData, k=3))\n",
    "        predictionCountsTest.append([*model.test(TEST)])\n",
    "        predictionLabelsTest.append(model.predict(testData, k=3))\n",
    "        print(fold, end=\" \")\n",
    "        evaluate([[*model.test(TEST)]], [model.predict(testData)], fasttextData2[testStart2:testEnd2])\n",
    "        os.unlink(TRAIN)\n",
    "        os.unlink(TEST)\n",
    "        os.unlink(VALIDATION)\n",
    "    print(\"\", end=\" \")\n",
    "    evaluate(predictionCountsTest, predictionLabelsTest, fasttextData2, printMatrix=True)\n",
    "    if squealFlag:\n",
    "        clear_output(wait=True)\n",
    "        print(\"finished\")\n",
    "    return(predictionCountsValidation,predictionLabelsValidation,predictionCountsTest,predictionLabelsTest)"
   ]
  },
  {
   "cell_type": "code",
   "execution_count": 142,
   "metadata": {},
   "outputs": [],
   "source": [
    "if False:\n",
    "    predictionCountsValidationET, predictionLabelsValidationET, predictionCountsTestET, predictionLabelsTestET = \\\n",
    "        runFasttextPlus(fasttext_data_list_testing, \n",
    "                    fasttext_data_list_testing, \n",
    "                    squealFlag=False, \n",
    "                    dim=300, \n",
    "                    extraFasttextData=fasttext_data_list_distance)"
   ]
  },
  {
   "cell_type": "code",
   "execution_count": 143,
   "metadata": {},
   "outputs": [],
   "source": [
    "if False:\n",
    "    predictionCountsValidationET, predictionLabelsValidationET, predictionCountsTestET, predictionLabelsTestET = \\\n",
    "        runFasttextPlus(fasttext_data_list_testing, \n",
    "                        fasttext_data_list_testing, \n",
    "                        squealFlag=False, \n",
    "                        dim=300,\n",
    "                        pretrainedVectors=\"twiqs-model-2020.vec\",\n",
    "                        extraFasttextData=fasttext_data_list_distance)"
   ]
  },
  {
   "cell_type": "code",
   "execution_count": 144,
   "metadata": {},
   "outputs": [],
   "source": [
    "if False:\n",
    "    store_fasttext_data(predictionLabelsTestET, \"predictionLabelsTestET.pickle\")"
   ]
  },
  {
   "cell_type": "code",
   "execution_count": 145,
   "metadata": {},
   "outputs": [],
   "source": [
    "if False:\n",
    "    predictionCountsValidationEF, predictionLabelsValidationEF, predictionCountsTestEF, predictionLabelsTestEF = \\\n",
    "        runFasttextPlus(fasttext_data_list_facemask, \n",
    "                        fasttext_data_list_facemask, \n",
    "                        squealFlag=False, \n",
    "                        dim=300,\n",
    "                        pretrainedVectors=\"twiqs-model-2020.vec\",\n",
    "                        extraFasttextData=fasttext_data_list_distance)"
   ]
  },
  {
   "cell_type": "code",
   "execution_count": 146,
   "metadata": {},
   "outputs": [],
   "source": [
    "if False:\n",
    "    store_fasttext_data(predictionLabelsTestEF, \"predictionLabelsTestEF.pickle\")"
   ]
  },
  {
   "cell_type": "code",
   "execution_count": 147,
   "metadata": {},
   "outputs": [],
   "source": [
    "predictionLabelsTestDT = read_fasttext_data(\"predictionLabelsTestDT.pickle\")\n",
    "predictionLabelsTestTT = read_fasttext_data(\"predictionLabelsTestTT.pickle\")\n",
    "predictionLabelsTestET = read_fasttext_data(\"predictionLabelsTestET.pickle\")"
   ]
  },
  {
   "cell_type": "code",
   "execution_count": 148,
   "metadata": {},
   "outputs": [],
   "source": [
    "time_factor = 3\n",
    "data_predicted_dt = make_data_predicted(predictionLabelsTestDT, tweet_ids_testing, time_factor=time_factor)\n",
    "data_predicted_tt = make_data_predicted(predictionLabelsTestTT, tweet_ids_testing, time_factor=time_factor)\n",
    "data_predicted_et = make_data_predicted(predictionLabelsTestET, tweet_ids_testing, time_factor=time_factor)"
   ]
  },
  {
   "cell_type": "code",
   "execution_count": 149,
   "metadata": {},
   "outputs": [],
   "source": [
    "gold = []\n",
    "for tweet in fasttext_data_list_testing:\n",
    "    gold.append(tweet.split()[0])\n",
    "\n",
    "data_gold = {}\n",
    "for i in range(0, len(tweet_ids_testing)):\n",
    "    summary = str(tweet_ids_testing[i])[0:time_factor]\n",
    "    if summary not in data_gold:\n",
    "        data_gold[summary] = []\n",
    "    data_gold[summary].append(gold[i])"
   ]
  },
  {
   "cell_type": "code",
   "execution_count": 150,
   "metadata": {},
   "outputs": [
    {
     "data": {
      "image/png": "[encoded data removed]",
      "text/plain": [
       "<Figure size 432x288 with 1 Axes>"
      ]
     },
     "metadata": {
      "needs_background": "light"
     },
     "output_type": "display_data"
    }
   ],
   "source": [
    "plot_data_predicted_dt = convert(data_predicted_dt)\n",
    "plot_data_predicted_tt = convert(data_predicted_tt)\n",
    "plot_data_predicted_et = convert(data_predicted_et)\n",
    "plot_data_gold = convert(data_gold)\n",
    "\n",
    "x_gold = [x[0] for x in plot_data_gold]\n",
    "y_gold = [x[1] for x in plot_data_gold]\n",
    "x_dt = [x[0] for x in plot_data_predicted_dt]\n",
    "y_dt = [x[1] for x in plot_data_predicted_dt]\n",
    "x_tt = [x[0] for x in plot_data_predicted_tt]\n",
    "y_tt = [x[1] for x in plot_data_predicted_tt]\n",
    "x_et = [x[0] for x in plot_data_predicted_et]\n",
    "y_et = [x[1] for x in plot_data_predicted_et]\n",
    "plt.plot(x_dt, y_dt, label=\"predicted (out-of-domain)\", c=\"C0\")\n",
    "plt.plot(x_tt, y_tt, label=\"predicted (in-domain)\", c=\"C1\")\n",
    "plt.plot(x_gold, y_gold, label=\"gold\", c=\"C2\")\n",
    "#plt.plot(x_et, y_et, label=\"predicted (added data)\", c=\"C3\")\n",
    "plt.legend()\n",
    "plt.title(\"predicting testing with social distancing data\")\n",
    "plt.savefig(\"distancing-to-testing.png\")\n",
    "plt.show()"
   ]
  },
  {
   "cell_type": "markdown",
   "metadata": {},
   "source": [
    "### Inflate predictions"
   ]
  },
  {
   "cell_type": "code",
   "execution_count": 151,
   "metadata": {},
   "outputs": [
    {
     "name": "stdout",
     "output_type": "stream",
     "text": [
      "{'__label__SUPPORTS': 0.28789161727349705, '__label__IRRELEVANT': 0.5342929720575783, '__label__REJECTS': 0.17781541066892464}\n",
      "0.6176470588235294\n"
     ]
    }
   ],
   "source": [
    "freqs = get_freqs(gold)\n",
    "print(freqs)\n",
    "print(freqs['__label__REJECTS']/freqs['__label__SUPPORTS'])"
   ]
  },
  {
   "cell_type": "code",
   "execution_count": 152,
   "metadata": {},
   "outputs": [],
   "source": [
    "predictionLabelsTestDT = read_fasttext_data(\"predictionLabelsTestDT.pickle\")"
   ]
  },
  {
   "cell_type": "code",
   "execution_count": 153,
   "metadata": {},
   "outputs": [
    {
     "name": "stdout",
     "output_type": "stream",
     "text": [
      "{'__label__REJECTS': 0.26418289585097376, '__label__SUPPORTS': 0.42675698560541914, '__label__IRRELEVANT': 0.3090601185436071}\n",
      "0.6190476190476191\n"
     ]
    }
   ],
   "source": [
    "FACTOR = 0.7957\n",
    "\n",
    "predictionLabelsTestDTinflated = list(predictionLabelsTestDT)\n",
    "freqs = get_freqs([y[0] for x in inflate_plus(predictionLabelsTestDTinflated, '__label__REJECTS', '__label__SUPPORTS', FACTOR) for y in x[0]])\n",
    "print(freqs)\n",
    "print(freqs['__label__REJECTS']/freqs['__label__SUPPORTS'])"
   ]
  },
  {
   "cell_type": "code",
   "execution_count": 154,
   "metadata": {},
   "outputs": [],
   "source": [
    "data_predicted_dt_inflated = make_data_predicted(inflate(predictionLabelsTestDTinflated, \n",
    "                                                         '__label__REJECTS', \n",
    "                                                         '__label__SUPPORTS', \n",
    "                                                         FACTOR), \n",
    "                                                         tweet_ids_testing, \n",
    "                                                         time_factor=time_factor)"
   ]
  },
  {
   "cell_type": "code",
   "execution_count": 155,
   "metadata": {},
   "outputs": [
    {
     "data": {
      "image/png": "[encoded data removed]",
      "text/plain": [
       "<Figure size 432x288 with 1 Axes>"
      ]
     },
     "metadata": {
      "needs_background": "light"
     },
     "output_type": "display_data"
    }
   ],
   "source": [
    "plot_data_predicted_dt = convert(data_predicted_dt)\n",
    "plot_data_predicted_tt = convert(data_predicted_tt)\n",
    "plot_data_predicted_et = convert(data_predicted_et)\n",
    "plot_data_predicted_dt_inflated = convert(data_predicted_dt_inflated)\n",
    "plot_data_gold = convert(data_gold)\n",
    "\n",
    "x_gold = [x[0] for x in plot_data_gold]\n",
    "y_gold = [x[1] for x in plot_data_gold]\n",
    "x_dt = [x[0] for x in plot_data_predicted_dt]\n",
    "y_dt = [x[1] for x in plot_data_predicted_dt]\n",
    "x_tt = [x[0] for x in plot_data_predicted_tt]\n",
    "y_tt = [x[1] for x in plot_data_predicted_tt]\n",
    "x_et = [x[0] for x in plot_data_predicted_et]\n",
    "y_et = [x[1] for x in plot_data_predicted_et]\n",
    "x_dt_inflated = [x[0] for x in plot_data_predicted_dt_inflated]\n",
    "y_dt_inflated = [x[1] for x in plot_data_predicted_dt_inflated]\n",
    "\n",
    "#plt.plot(x_dt, y_dt, label=\"predicted (out-of-domain)\", c=\"C0\")\n",
    "#plt.plot(x_tt, y_tt, label=\"predicted (in-domain)\", c=\"C1\")\n",
    "plt.plot(x_gold, y_gold, label=\"gold\", c=\"C2\")\n",
    "plt.plot(x_et, y_et, label=\"predicted (added data)\", c=\"C3\")\n",
    "plt.plot(x_dt_inflated, y_dt_inflated, label=\"predicted (out-of-domain, inflated)\", c=\"C4\")\n",
    "\n",
    "plt.legend()\n",
    "plt.title(\"predicting COVID-19 testing with social distancing data\")\n",
    "plt.savefig(\"distancing-to-testing.png\")\n",
    "plt.show()"
   ]
  },
  {
   "cell_type": "markdown",
   "metadata": {},
   "source": [
    "### Removing domain-dependent words"
   ]
  },
  {
   "cell_type": "code",
   "execution_count": 70,
   "metadata": {},
   "outputs": [
    {
     "name": "stdout",
     "output_type": "stream",
     "text": [
      "0 cases: 118; precision: 0.364; recall: 0.364; fraction: 0.462\n",
      "1 cases: 118; precision: 0.407; recall: 0.407; fraction: 0.614\n",
      "2 cases: 118; precision: 0.432; recall: 0.432; fraction: 0.719\n",
      "3 cases: 118; precision: 0.390; recall: 0.390; fraction: 0.465\n",
      "4 cases: 118; precision: 0.331; recall: 0.331; fraction: 0.626\n",
      "5 cases: 119; precision: 0.387; recall: 0.387; fraction: 0.553\n",
      "6 cases: 118; precision: 0.432; recall: 0.432; fraction: 0.194\n",
      "7 cases: 118; precision: 0.390; recall: 0.390; fraction: 0.099\n",
      "8 cases: 118; precision: 0.432; recall: 0.432; fraction: 0.991\n",
      "9 cases: 118; precision: 0.314; recall: 0.314; fraction: 1.359\n",
      " col_0                __label__IRRELEVANT  __label__REJECTS  __label__SUPPORTS\n",
      "row_0                                                                        \n",
      "__label__IRRELEVANT                  197                98                336\n",
      "__label__REJECTS                      70                51                 89\n",
      "__label__SUPPORTS                     92                38                210\n",
      "cases: 1181; precision: 0.388; recall: 0.388; fraction: 0.477\n"
     ]
    }
   ],
   "source": [
    "predictionCountsValidationDTD, predictionLabelsValidationDTD, predictionCountsTestDTD, predictionLabelsTestDTD = \\\n",
    "        runFasttext(fasttext_data_list_distance, fasttext_data_list_testing, squealFlag=False, dim=300)"
   ]
  },
  {
   "cell_type": "code",
   "execution_count": 156,
   "metadata": {},
   "outputs": [],
   "source": [
    "def count_tokens(tweet_list):\n",
    "    counts = {}\n",
    "    for tweet in tweet_list:\n",
    "        for token in tweet.split()[1:]:\n",
    "            if not token in counts:\n",
    "                counts[token] = 0\n",
    "            counts[token] += 1\n",
    "    return(counts)"
   ]
  },
  {
   "cell_type": "code",
   "execution_count": 159,
   "metadata": {},
   "outputs": [
    {
     "name": "stdout",
     "output_type": "stream",
     "text": [
      "196888 52387\n"
     ]
    }
   ],
   "source": [
    "counts_train = count_tokens(fasttext_data_list_distance)\n",
    "counts_test = count_tokens(fasttext_data_list_testing)\n",
    "counts_train_total = sum(counts_train.values())\n",
    "counts_test_total = sum(counts_test.values())\n",
    "print(counts_train_total, counts_test_total)"
   ]
  },
  {
   "cell_type": "code",
   "execution_count": 157,
   "metadata": {},
   "outputs": [],
   "source": [
    "def remove_infrequent_tokens(tweet_list_in, counts_train, counts_test, counts_train_total, counts_test_total, minimum_frequency=0):\n",
    "    tweet_list_out = []\n",
    "    token_count = 0\n",
    "    for tweet in tweet_list_in:\n",
    "        accepted_tokens = []\n",
    "        tweet_tokens = tweet.split()\n",
    "        for token in tweet_tokens[1:]:\n",
    "            if token in counts_train and token in counts_test and \\\n",
    "               counts_train[token] / counts_train_total > minimum_frequency and \\\n",
    "               counts_test[token] / counts_test_total > minimum_frequency:\n",
    "                accepted_tokens.append(token)\n",
    "        token_count += 1 + len(accepted_tokens)\n",
    "        if len(accepted_tokens) == 0:\n",
    "            accepted_tokens = [ \"DUMMY\" ]\n",
    "        tweet_list_out.append(\" \".join(tweet_tokens[:1]+accepted_tokens))\n",
    "    print(token_count)\n",
    "    return(tweet_list_out)"
   ]
  },
  {
   "cell_type": "code",
   "execution_count": 160,
   "metadata": {},
   "outputs": [
    {
     "name": "stdout",
     "output_type": "stream",
     "text": [
      "137571\n",
      "36390\n"
     ]
    }
   ],
   "source": [
    "MINFREQ = 0.0002\n",
    "fasttext_data_list_distance_filtered = remove_infrequent_tokens(fasttext_data_list_distance, counts_train, counts_test, counts_train_total, counts_test_total, minimum_frequency=MINFREQ)\n",
    "fasttext_data_list_testing_filtered = remove_infrequent_tokens(fasttext_data_list_testing, counts_train, counts_test, counts_train_total, counts_test_total, minimum_frequency=MINFREQ)"
   ]
  },
  {
   "cell_type": "code",
   "execution_count": 71,
   "metadata": {},
   "outputs": [],
   "source": [
    "if False:\n",
    "    predictionCountsValidationDTD, predictionLabelsValidationDTD, predictionCountsTestDTD, predictionLabelsTestDTD = \\\n",
    "        runFasttext(fasttext_data_list_distance_filtered, fasttext_data_list_testing, squealFlag=False, dim=300, pretrainedVectors=\"twiqs-model-2020.vec\")"
   ]
  },
  {
   "cell_type": "code",
   "execution_count": 72,
   "metadata": {},
   "outputs": [],
   "source": [
    "if False:\n",
    "    store_fasttext_data(predictionLabelsTestDTD, \"predictionLabelsTestDTD0.0002A.pickle\")"
   ]
  },
  {
   "cell_type": "code",
   "execution_count": 161,
   "metadata": {},
   "outputs": [],
   "source": [
    "predictionLabelsTestDTD = read_fasttext_data(\"predictionLabelsTestDTD0.0002A.pickle\")"
   ]
  },
  {
   "cell_type": "markdown",
   "metadata": {},
   "source": [
    "|  method | train | test | accuracy | fraction | comment |\n",
    "| ------- | ----- | ---- | -------- | -------- | ------- |\n",
    "| none        | 196888 | 52387 | 0.385 | 0.478 | |\n",
    "| M = 0       | 171520 | 49477 | 0.379 | 0.650 | |\n",
    "| M = 0.00001 | 170682 | 48139 | 0.375 | 0.650 | |\n",
    "| M = 0.0001  | 145771 | 39891 | 0.379 | 0.688 | |\n",
    "| M = 0.0002  | 137571 | 36390 | 0.390 | 0.833 | |\n",
    "| M = 0.0003  | 127440 | 34457 | 0.359 | 0.776 | |\n",
    "| M = 0.0004  | 119718 | 32913 | 0.346 | 0.764 | |\n",
    "| M = 0.001   |  99965 | 28123 | 0.327 | 0.186 | |\n",
    "| M = 0.01    |  46634 | 12909 | 0.289 | 0.006 | |\n",
    "| M = 0.1     |   5731 |  1181 | 0.288 | 0.000 | |\n",
    "| M = 0       | 171520 | 52387 | 0.381 | 0.635 | |\n",
    "| M = 0.00001 | 170682 | 52387 | 0.374 | 0.637 | |\n",
    "| M = 0.0001  | 145771 | 52387 | 0.378 | 0.665 | |\n",
    "| M = 0.0002  | 137571 | 52387 | 0.395 | 0.860 | |\n",
    "| M = 0.0003  | 127440 | 52387 | 0.358 | 0.764 | |\n",
    "| M = 0.0004  | 119718 | 52387 | 0.345 | 0.769 | |\n",
    "| M = 0.001   |  99965 | 52387 | 0.324 | 0.193 | |\n",
    "| M = 0.01    |  46634 | 52387 | 0.290 | 0.007 | |\n",
    "| M = 0.1     |   5731 | 52387 | 0.288 | 0.000 | |\n",
    "| M = 0       | 171520 | 49477 | 0.393 | 0.736 | +model |\n",
    "| M = 0.0002  | 137571 | 36390 | 0.385 | 0.841 | +model |\n",
    "| M = 0.0002  | 137571 | 52387 | 0.380 | 0.734 | +model |"
   ]
  },
  {
   "cell_type": "code",
   "execution_count": 162,
   "metadata": {},
   "outputs": [],
   "source": [
    "data_predicted_dtd = make_data_predicted(predictionLabelsTestDTD, tweet_ids_testing, time_factor=time_factor)"
   ]
  },
  {
   "cell_type": "code",
   "execution_count": 163,
   "metadata": {},
   "outputs": [
    {
     "data": {
      "image/png": "[encoded data removed]",
      "text/plain": [
       "<Figure size 432x288 with 1 Axes>"
      ]
     },
     "metadata": {
      "needs_background": "light"
     },
     "output_type": "display_data"
    }
   ],
   "source": [
    "plot_data_predicted_dt = convert(data_predicted_dt)\n",
    "plot_data_predicted_tt = convert(data_predicted_tt)\n",
    "plot_data_predicted_et = convert(data_predicted_et)\n",
    "plot_data_predicted_dt_inflated = convert(data_predicted_dt_inflated)\n",
    "plot_data_predicted_dtd = convert(data_predicted_dtd)\n",
    "plot_data_gold = convert(data_gold)\n",
    "\n",
    "x_gold = [x[0] for x in plot_data_gold]\n",
    "y_gold = [x[1] for x in plot_data_gold]\n",
    "x_dt = [x[0] for x in plot_data_predicted_dt]\n",
    "y_dt = [x[1] for x in plot_data_predicted_dt]\n",
    "x_tt = [x[0] for x in plot_data_predicted_tt]\n",
    "y_tt = [x[1] for x in plot_data_predicted_tt]\n",
    "x_et = [x[0] for x in plot_data_predicted_et]\n",
    "y_et = [x[1] for x in plot_data_predicted_et]\n",
    "x_dt_inflated = [x[0] for x in plot_data_predicted_dt_inflated]\n",
    "y_dt_inflated = [x[1] for x in plot_data_predicted_dt_inflated]\n",
    "x_dtd = [x[0] for x in plot_data_predicted_dtd]\n",
    "y_dtd = [x[1] for x in plot_data_predicted_dtd]\n",
    "\n",
    "plt.plot(x_dt, y_dt, label=\"predicted (out-of-domain)\", c=\"C0\")\n",
    "plt.plot(x_tt, y_tt, label=\"predicted (in-domain)\", c=\"C1\")\n",
    "plt.plot(x_gold, y_gold, label=\"gold\", c=\"C2\")\n",
    "#plt.plot(x_et, y_et, label=\"predicted (added data)\", c=\"C3\")\n",
    "#plt.plot(x_dt_inflated, y_dt_inflated, label=\"predicted (out-of-domain, inflated)\", c=\"C4\")\n",
    "plt.plot(x_dtd, y_dtd, label=\"predicted (out-of-domain, no domain words)\", c=\"C6\")\n",
    "\n",
    "plt.legend()\n",
    "plt.title(\"predicting COVID-19 testing with social distancing data\")\n",
    "plt.savefig(\"distancing-to-testing.png\")\n",
    "plt.show()"
   ]
  },
  {
   "cell_type": "markdown",
   "metadata": {},
   "source": [
    "### Training and testing on only relevant data"
   ]
  },
  {
   "cell_type": "code",
   "execution_count": 164,
   "metadata": {},
   "outputs": [
    {
     "data": {
      "text/plain": [
       "4364"
      ]
     },
     "execution_count": 164,
     "metadata": {},
     "output_type": "execute_result"
    }
   ],
   "source": [
    "fasttext_data_list_distance_relevant = [ line for line in fasttext_data_list_distance if not re.search(\"^__label__IRRELEVANT\", line) ]\n",
    "len(fasttext_data_list_distance_relevant)"
   ]
  },
  {
   "cell_type": "code",
   "execution_count": 77,
   "metadata": {},
   "outputs": [
    {
     "name": "stdout",
     "output_type": "stream",
     "text": [
      "0 cases: 118; precision: 0.576; recall: 0.576; fraction: 0.604\n",
      "1 cases: 118; precision: 0.585; recall: 0.585; fraction: 1.217\n",
      "2 cases: 118; precision: 0.636; recall: 0.636; fraction: 1.166\n",
      "3 cases: 118; precision: 0.593; recall: 0.593; fraction: 0.697\n",
      "4 cases: 118; precision: 0.610; recall: 0.610; fraction: 1.067\n",
      "5 cases: 119; precision: 0.580; recall: 0.580; fraction: 0.549\n",
      "6 cases: 118; precision: 0.576; recall: 0.576; fraction: 0.441\n",
      "7 cases: 118; precision: 0.695; recall: 0.695; fraction: 0.588\n",
      "8 cases: 118; precision: 0.525; recall: 0.525; fraction: 2.698\n",
      "9 cases: 118; precision: 0.576; recall: 0.576; fraction: 0.549\n",
      " col_0                __label__IRRELEVANT  __label__REJECTS  __label__SUPPORTS\n",
      "row_0                                                                        \n",
      "__label__IRRELEVANT                  442                50                139\n",
      "__label__REJECTS                      85                95                 30\n",
      "__label__SUPPORTS                    152                22                166\n",
      "cases: 1181; precision: 0.595; recall: 0.595; fraction: 0.807\n"
     ]
    }
   ],
   "source": [
    "if False:\n",
    "    predictionCountsValidationT, predictionLabelsValidationT, predictionCountsTestT, predictionLabelsTestT = \\\n",
    "        runFasttext(fasttext_data_list_testing, fasttext_data_list_testing, squealFlag=False, dim=300, pretrainedVectors=\"twiqs-model-2020.vec\")"
   ]
  },
  {
   "cell_type": "code",
   "execution_count": 78,
   "metadata": {},
   "outputs": [],
   "source": [
    "if False:\n",
    "    store_fasttext_data(predictionLabelsTestT, \"predictionLabelsTestT.pickle\")"
   ]
  },
  {
   "cell_type": "code",
   "execution_count": 165,
   "metadata": {},
   "outputs": [],
   "source": [
    "predictionLabelsTestT = read_fasttext_data(\"predictionLabelsTestT.pickle\")"
   ]
  },
  {
   "cell_type": "code",
   "execution_count": 166,
   "metadata": {},
   "outputs": [],
   "source": [
    "fasttext_data_list_testing_relevant = []\n",
    "i = 0\n",
    "for fold in predictionLabelsTestT:\n",
    "    for prediction_order_list in fold[0]:\n",
    "        if prediction_order_list[0] != \"__label__IRRELEVANT\":\n",
    "            tweet = re.sub(\"^__label__IRRELEVANT\", \"__label__SUPPORTS\", fasttext_data_list_testing[i])\n",
    "            fasttext_data_list_testing_relevant.append(tweet)\n",
    "        i += 1"
   ]
  },
  {
   "cell_type": "code",
   "execution_count": 167,
   "metadata": {},
   "outputs": [
    {
     "data": {
      "text/plain": [
       "(4364, 502)"
      ]
     },
     "execution_count": 167,
     "metadata": {},
     "output_type": "execute_result"
    }
   ],
   "source": [
    "len(fasttext_data_list_distance_relevant), len(fasttext_data_list_testing_relevant)"
   ]
  },
  {
   "cell_type": "code",
   "execution_count": 181,
   "metadata": {},
   "outputs": [
    {
     "name": "stdout",
     "output_type": "stream",
     "text": [
      "0 cases: 50; precision: 0.660; recall: 0.660; fraction: 2.144\n",
      "1 cases: 50; precision: 0.800; recall: 0.800; fraction: 0.826\n",
      "2 cases: 51; precision: 0.725; recall: 0.725; fraction: 0.779\n",
      "3 cases: 50; precision: 0.820; recall: 0.820; fraction: 1.092\n",
      "4 cases: 50; precision: 0.660; recall: 0.660; fraction: 2.452\n",
      "5 cases: 50; precision: 0.840; recall: 0.840; fraction: 1.568\n",
      "6 cases: 50; precision: 0.760; recall: 0.760; fraction: 1.185\n",
      "7 cases: 51; precision: 0.627; recall: 0.627; fraction: 0.664\n",
      "8 cases: 50; precision: 0.740; recall: 0.740; fraction: 1.631\n",
      "9 cases: 50; precision: 0.580; recall: 0.580; fraction: 6.000\n",
      " col_0              __label__REJECTS  __label__SUPPORTS\n",
      "row_0                                                 \n",
      "__label__REJECTS                 71                 54\n",
      "__label__SUPPORTS                86                291\n",
      "cases: 502; precision: 0.721; recall: 0.721; fraction: 1.372\n"
     ]
    }
   ],
   "source": [
    "if False:\n",
    "    predictionCountsValidationDTR, predictionLabelsValidationDTR, predictionCountsTestDTR, predictionLabelsTestDTR = \\\n",
    "        runFasttext(fasttext_data_list_distance_relevant, fasttext_data_list_testing_relevant, squealFlag=False, dim=300, pretrainedVectors=\"twiqs-model-2020.vec\")"
   ]
  },
  {
   "cell_type": "code",
   "execution_count": 182,
   "metadata": {},
   "outputs": [],
   "source": [
    "if False:\n",
    "    store_fasttext_data(predictionLabelsTestDTR, \"predictionLabelsTestDTR.pickle\")"
   ]
  },
  {
   "cell_type": "code",
   "execution_count": 183,
   "metadata": {},
   "outputs": [],
   "source": [
    "predictionLabelsTestDTR = read_fasttext_data(\"predictionLabelsTestDTR.pickle\")"
   ]
  },
  {
   "cell_type": "code",
   "execution_count": 184,
   "metadata": {},
   "outputs": [
    {
     "data": {
      "text/plain": [
       "1181"
      ]
     },
     "execution_count": 184,
     "metadata": {},
     "output_type": "execute_result"
    }
   ],
   "source": [
    "predictionLabelsTestDTRrestored = []\n",
    "fold_count = 0\n",
    "for fold in predictionLabelsTestT:\n",
    "    predictionLabelsTestDTRrestored.append(([[]]))\n",
    "    tweet_count = 0\n",
    "    for prediction_order_list in fold[0]:\n",
    "        if prediction_order_list[0] == \"__label__IRRELEVANT\":\n",
    "            predictionLabelsTestDTRrestored[-1][0].append(prediction_order_list)\n",
    "        else:\n",
    "            if tweet_count >= len(predictionLabelsTestDTR[fold_count][0]):\n",
    "                break\n",
    "            predictionLabelsTestDTRrestored[-1][0].append(predictionLabelsTestDTR[fold_count][0][tweet_count])\n",
    "            tweet_count += 1\n",
    "    for i in range(len(predictionLabelsTestDTRrestored[-1][0]), len(fold[0])):\n",
    "        predictionLabelsTestDTRrestored[-1][0].append(fold[0][i])\n",
    "    fold_count += 1\n",
    "sum([len(fold[0]) for fold in predictionLabelsTestDTRrestored])"
   ]
  },
  {
   "cell_type": "code",
   "execution_count": 185,
   "metadata": {},
   "outputs": [],
   "source": [
    "data_predicted_dtr = make_data_predicted(predictionLabelsTestDTRrestored, tweet_ids_testing, time_factor=time_factor)"
   ]
  },
  {
   "cell_type": "code",
   "execution_count": 186,
   "metadata": {},
   "outputs": [
    {
     "data": {
      "image/png": "[encoded data removed]",
      "text/plain": [
       "<Figure size 432x288 with 1 Axes>"
      ]
     },
     "metadata": {
      "needs_background": "light"
     },
     "output_type": "display_data"
    }
   ],
   "source": [
    "plot_data_predicted_dt = convert(data_predicted_dt)\n",
    "plot_data_predicted_tt = convert(data_predicted_tt)\n",
    "plot_data_predicted_et = convert(data_predicted_et)\n",
    "plot_data_predicted_dt_inflated = convert(data_predicted_dt_inflated)\n",
    "plot_data_predicted_dtd = convert(data_predicted_dtd)\n",
    "plot_data_predicted_dtr = convert(data_predicted_dtr)\n",
    "plot_data_gold = convert(data_gold)\n",
    "\n",
    "x_gold = [x[0] for x in plot_data_gold]\n",
    "y_gold = [x[1] for x in plot_data_gold]\n",
    "x_dt = [x[0] for x in plot_data_predicted_dt]\n",
    "y_dt = [x[1] for x in plot_data_predicted_dt]\n",
    "x_tt = [x[0] for x in plot_data_predicted_tt]\n",
    "y_tt = [x[1] for x in plot_data_predicted_tt]\n",
    "x_et = [x[0] for x in plot_data_predicted_et]\n",
    "y_et = [x[1] for x in plot_data_predicted_et]\n",
    "x_dt_inflated = [x[0] for x in plot_data_predicted_dt_inflated]\n",
    "y_dt_inflated = [x[1] for x in plot_data_predicted_dt_inflated]\n",
    "x_dtd = [x[0] for x in plot_data_predicted_dtd]\n",
    "y_dtd = [x[1] for x in plot_data_predicted_dtd]\n",
    "x_dtr = [x[0] for x in plot_data_predicted_dtr]\n",
    "y_dtr = [x[1] for x in plot_data_predicted_dtr]\n",
    "\n",
    "plt.plot(x_gold, y_gold, label=\"gold\", c=\"C2\")\n",
    "#plt.plot(x_dt, y_dt, label=\"predicted (out-of-domain)\", c=\"C0\")\n",
    "#plt.plot(x_tt, y_tt, label=\"predicted (in-domain)\", c=\"C1\")\n",
    "#lt.plot(x_et, y_et, label=\"predicted (added data)\", c=\"C3\")\n",
    "#plt.plot(x_dt_inflated, y_dt_inflated, label=\"predicted (out-of-domain, inflated)\", c=\"C4\")\n",
    "plt.plot(x_dtd, y_dtd, label=\"predicted (no domain words)\", c=\"C6\")\n",
    "plt.plot(x_dtr, y_dtr, label=\"predicted (relevant data)\", c=\"C7\")\n",
    "\n",
    "plt.ylim(0.3, 1.0)\n",
    "plt.legend()\n",
    "plt.title(\"predicting COVID-19 testing with social distancing data\")\n",
    "plt.savefig(\"distancing-to-testing.png\")\n",
    "plt.show()"
   ]
  },
  {
   "cell_type": "markdown",
   "metadata": {},
   "source": [
    "### Numerical analysis of predictions"
   ]
  },
  {
   "cell_type": "code",
   "execution_count": 187,
   "metadata": {},
   "outputs": [],
   "source": [
    "plot_data_predicted_dt_dict = { x[0]:x[1] for x in plot_data_predicted_dt }\n",
    "plot_data_predicted_tt_dict = { x[0]:x[1] for x in plot_data_predicted_tt }\n",
    "plot_data_predicted_dt_inflated_dict = { x[0]:x[1] for x in plot_data_predicted_dt_inflated }\n",
    "plot_data_predicted_dtd_dict = { x[0]:x[1] for x in plot_data_predicted_dtd }\n",
    "plot_data_predicted_dtr_dict = { x[0]:x[1] for x in plot_data_predicted_dtr }\n",
    "plot_data_predicted_et_dict = { x[0]:x[1] for x in plot_data_predicted_et }\n",
    "plot_data_gold_dict = { x[0]:x[1] for x in plot_data_gold }"
   ]
  },
  {
   "cell_type": "code",
   "execution_count": 188,
   "metadata": {},
   "outputs": [
    {
     "name": "stdout",
     "output_type": "stream",
     "text": [
      "Pearson r correlation gold vs in-domain: 0.93\n",
      "Pearson r correlation gold vs out-of-domain: 0.72\n",
      "Pearson r correlation gold vs out-of-domain (inflated): 0.73\n",
      "Pearson r correlation gold vs out-of-domain (no domain data): 0.59\n",
      "Pearson r correlation gold vs out-of-domain (relevant data): 0.71\n",
      "Pearson r correlation gold vs out-of-domain (extra data): 0.87\n"
     ]
    }
   ],
   "source": [
    "values_tt, values_gold_tt = get_common_key_values(plot_data_predicted_tt_dict, plot_data_gold_dict)\n",
    "print(\"Pearson r correlation gold vs in-domain:\", round(scipy.stats.linregress(np.array(values_gold_tt), np.array(values_tt)).rvalue, 2))\n",
    "values_dt, values_gold_dt = get_common_key_values(plot_data_predicted_dt_dict, plot_data_gold_dict)\n",
    "print(\"Pearson r correlation gold vs out-of-domain:\", round(scipy.stats.linregress(np.array(values_gold_dt), np.array(values_dt)).rvalue, 2))\n",
    "values_dt_inflated, values_gold_dt_inflated = get_common_key_values(plot_data_predicted_dt_inflated_dict, plot_data_gold_dict)\n",
    "print(\"Pearson r correlation gold vs out-of-domain (inflated):\", round(scipy.stats.linregress(np.array(values_gold_dt_inflated), np.array(values_dt_inflated)).rvalue, 2))\n",
    "values_dtd, values_gold_dtd = get_common_key_values(plot_data_predicted_dtd_dict, plot_data_gold_dict)\n",
    "print(\"Pearson r correlation gold vs out-of-domain (no domain data):\", round(scipy.stats.linregress(np.array(values_gold_dtd), np.array(values_dtd)).rvalue, 2))\n",
    "values_dtr, values_gold_dtr = get_common_key_values(plot_data_predicted_dtr_dict, plot_data_gold_dict)\n",
    "print(\"Pearson r correlation gold vs out-of-domain (relevant data):\", round(scipy.stats.linregress(np.array(values_gold_dtr), np.array(values_dtr)).rvalue, 2))\n",
    "values_et, values_gold_et = get_common_key_values(plot_data_predicted_et_dict, plot_data_gold_dict)\n",
    "print(\"Pearson r correlation gold vs out-of-domain (extra data):\", round(scipy.stats.linregress(np.array(values_gold_et), np.array(values_et)).rvalue, 2))"
   ]
  },
  {
   "cell_type": "code",
   "execution_count": 189,
   "metadata": {},
   "outputs": [
    {
     "name": "stdout",
     "output_type": "stream",
     "text": [
      "absolute difference gold vs in-domain: 0.07\n",
      "absolute difference gold vs out-of-domain: 0.18\n",
      "absolute difference gold vs out-of-domain (inflated): 0.12\n",
      "absolute difference gold vs out-of-domain (no domain data): 0.16\n",
      "absolute difference gold vs out-of-domain (relevant data): 0.15\n",
      "absolute difference gold vs out-of-domain (extra data): 0.08\n"
     ]
    }
   ],
   "source": [
    "print(\"absolute difference gold vs in-domain:\", round(absolute_difference(values_gold_tt, values_tt), 2))\n",
    "print(\"absolute difference gold vs out-of-domain:\", round(absolute_difference(values_gold_dt, values_dt),2)) \n",
    "print(\"absolute difference gold vs out-of-domain (inflated):\", round(absolute_difference(values_gold_dt_inflated, values_dt_inflated),2))\n",
    "print(\"absolute difference gold vs out-of-domain (no domain data):\", round(absolute_difference(values_gold_dtd, values_dtd),2))\n",
    "print(\"absolute difference gold vs out-of-domain (relevant data):\", round(absolute_difference(values_gold_dtr, values_dtr),2))\n",
    "print(\"absolute difference gold vs out-of-domain (extra data):\", round(absolute_difference(values_gold_et, values_et),2)) "
   ]
  },
  {
   "cell_type": "code",
   "execution_count": null,
   "metadata": {},
   "outputs": [],
   "source": []
  }
 ],
 "metadata": {
  "kernelspec": {
   "display_name": "python37",
   "language": "python",
   "name": "python37"
  },
  "language_info": {
   "codemirror_mode": {
    "name": "ipython",
    "version": 3
   },
   "file_extension": ".py",
   "mimetype": "text/x-python",
   "name": "python",
   "nbconvert_exporter": "python",
   "pygments_lexer": "ipython3",
   "version": "3.7.3"
  }
 },
 "nbformat": 4,
 "nbformat_minor": 4
}
