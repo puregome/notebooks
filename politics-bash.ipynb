{
 "cells": [
  {
   "cell_type": "markdown",
   "metadata": {},
   "source": [
    "# Political parties\n",
    "\n",
    "Count the Dutch tweets that mention political parties and political leaders."
   ]
  },
  {
   "cell_type": "code",
   "execution_count": 1,
   "metadata": {},
   "outputs": [],
   "source": [
    "DATADIR=../data/text"
   ]
  },
  {
   "cell_type": "code",
   "execution_count": 6,
   "metadata": {},
   "outputs": [
    {
     "name": "stdout",
     "output_type": "stream",
     "text": [
      "154363,131023,111716,126246,142598,113473,10158,vvd\n",
      "86175,55291,64594,84122,127813,182623,8847,cda\n",
      "182536,134348,115800,161807,145185,102324,11716,d66\n",
      "24812,21451,12493,15211,23567,19557,1324,christenunie\n",
      "55680,87092,52011,59215,68440,41371,5749,pvda\n",
      "86585,83798,60018,79905,114053,58067,3931,groenlinks\n",
      "6961,6963,6357,7574,9633,9457,1146,pvdd\n",
      "9402,9191,11572,20105,8342,6584,1204,50plus\n",
      "12931,17082,10410,14241,15745,14309,958,sgp\n",
      "196153,267673,150033,160171,239062,218848,27060,pvv\n",
      "195182,186154,178475,180798,193655,137908,11169,fvd\n"
     ]
    }
   ],
   "source": [
    "for PARTY in vvd cda d66 christenunie pvda groenlinks pvdd 50plus sgp pvv fvd # denk sp\n",
    "do\n",
    "   for MONTH in {2..8}\n",
    "   do\n",
    "       gunzip -c $DATADIR/20200${MONTH}* | cut -d, -f5- | grep -i $PARTY | cut -c1 | wc -l | tr '\\n' ,\n",
    "   done\n",
    "   echo $PARTY\n",
    "done"
   ]
  },
  {
   "cell_type": "code",
   "execution_count": 7,
   "metadata": {},
   "outputs": [
    {
     "name": "stdout",
     "output_type": "stream",
     "text": [
      "17140,19628,17982,17379,25205,16977,1408,sp\n",
      "12039,9448,8278,8172,13080,11040,780,cu\n",
      "12522,10523,8309,10545,11982,7226,792,gl\n"
     ]
    }
   ],
   "source": [
    "for PARTY in sp cu gl\n",
    "do\n",
    "   for MONTH in {2..8}\n",
    "   do\n",
    "       gunzip -c $DATADIR/20200${MONTH}* | cut -d, -f5- | grep -i \"\\b$PARTY\\b\" | cut -c1 | wc -l | tr '\\n' ,\n",
    "   done\n",
    "   echo $PARTY\n",
    "done"
   ]
  },
  {
   "cell_type": "code",
   "execution_count": 8,
   "metadata": {},
   "outputs": [
    {
     "name": "stdout",
     "output_type": "stream",
     "text": [
      "134472,376298,298654,200364,258177,272957,21919,rutte\n",
      "21918,32523,48436,38890,64473,89653,8572,de.jonge\n",
      "137161,147386,75931,105316,53032,39212,2949,jetten\n",
      "16623,28491,18429,13843,20332,16414,1381,segers\n",
      "6741,24707,8234,5774,11500,6002,1551,asscher\n",
      "76231,103304,53322,42992,58325,58419,3903,klaver\n",
      "6905,6046,7614,7025,7458,13485,429,ouwehand\n",
      "9107,16086,15065,19237,8195,7045,950,krol\n",
      "4557,11495,5023,4020,5935,2660,110,staaij\n",
      "129375,233170,105837,100409,172276,176431,21587,wilders\n",
      "327127,332341,246227,125603,236273,91167,5394,baudet\n",
      "1861,2848,4536,7302,5030,8526,145,azarkan\n",
      "9813,17473,19569,12803,16826,5729,774,marijnissen\n"
     ]
    }
   ],
   "source": [
    "for LEADER in rutte de.jonge jetten segers asscher klaver ouwehand krol staaij wilders baudet azarkan marijnissen\n",
    "do\n",
    "   for MONTH in {2..8}\n",
    "   do\n",
    "       gunzip -c $DATADIR/20200${MONTH}* | cut -d, -f5- | grep -i $LEADER | cut -c1 | wc -l | tr '\\n' ,\n",
    "   done\n",
    "   echo $LEADER\n",
    "done"
   ]
  },
  {
   "cell_type": "code",
   "execution_count": null,
   "metadata": {},
   "outputs": [],
   "source": []
  }
 ],
 "metadata": {
  "kernelspec": {
   "display_name": "Bash",
   "language": "bash",
   "name": "bash"
  },
  "language_info": {
   "codemirror_mode": "shell",
   "file_extension": ".sh",
   "mimetype": "text/x-sh",
   "name": "bash"
  }
 },
 "nbformat": 4,
 "nbformat_minor": 4
}
