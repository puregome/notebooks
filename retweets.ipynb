{
 "cells": [
  {
   "cell_type": "markdown",
   "metadata": {},
   "source": [
    "# Analyze users by inspecting retweet counts"
   ]
  },
  {
   "cell_type": "code",
   "execution_count": null,
   "metadata": {},
   "outputs": [],
   "source": [
    "import pandas as pd\n",
    "from IPython.display import clear_output"
   ]
  },
  {
   "cell_type": "code",
   "execution_count": null,
   "metadata": {},
   "outputs": [],
   "source": [
    "DATADIR = \"/home/erikt/projects/puregome/data/retweets/\"\n",
    "DATAFILE = \"get-retweet-users.py.out.gz\"\n",
    "RIGHT = \"geertwilderspvv thierrybaudet fvdemocratie\".split(\" \")\n",
    "DUTCHPRESS = \"telegraaf NOS RTLnieuws NUnl ADnl nrc volkskrant trouw parool AT5\".split(\" \")\n",
    "FLEMISHPRESS = \"HLN_BE demorgen destandaard vrtnws Nieuwsblad_be\".split(\" \")"
   ]
  },
  {
   "cell_type": "code",
   "execution_count": null,
   "metadata": {},
   "outputs": [],
   "source": [
    "def squeal(text=None):\n",
    "    clear_output(wait=True)\n",
    "    if not text is None: print(text)"
   ]
  },
  {
   "cell_type": "code",
   "execution_count": null,
   "metadata": {},
   "outputs": [],
   "source": [
    "df = pd.read_csv(DATADIR+DATAFILE,sep=\" \",header=None,compression=\"gzip\")"
   ]
  },
  {
   "cell_type": "code",
   "execution_count": null,
   "metadata": {},
   "outputs": [],
   "source": [
    "groups = df.groupby([0,1]).groups"
   ]
  },
  {
   "cell_type": "code",
   "execution_count": null,
   "metadata": {},
   "outputs": [],
   "source": [
    "profiles = {}\n",
    "\n",
    "def add(user,group,count):\n",
    "    if not user in profiles: profiles[user] = {RIGHT[0]:0,DUTCHPRESS[0]:0,FLEMISHPRESS[0]:0}\n",
    "    if not group[0] in profiles[user]: profiles[user][group[0]] = count\n",
    "    else: profiles[user][group[0]] += count\n",
    "\n",
    "counter = 0\n",
    "for key in groups.keys():\n",
    "    counter += 1\n",
    "    if counter % 10000 == 0: squeal(str(counter)+\"/\"+str(len(groups)))\n",
    "    retweetedUser = key[1]\n",
    "    retweeter = key[0]\n",
    "    if retweetedUser in RIGHT: add(retweeter,RIGHT,len(groups[key]))\n",
    "    elif retweetedUser in DUTCHPRESS: add(retweeter,DUTCHPRESS,len(groups[key]))\n",
    "    elif retweetedUser in FLEMISHPRESS: add(retweeter,FLEMISHPRESS,len(groups[key]))"
   ]
  },
  {
   "cell_type": "code",
   "execution_count": null,
   "metadata": {},
   "outputs": [],
   "source": [
    "TARGET = FLEMISHPRESS[0]\n",
    "sortedP = {key:profiles[key] for key in sorted(profiles.keys(),key=lambda k:profiles[k][TARGET],reverse=True) if TARGET in profiles[key]}\n",
    "selectedP = {key:sortedP[key] for key in sortedP if sortedP[key][TARGET] > 0 and \\\n",
    "                                                    sortedP[key][RIGHT[0]] == 0 and \\\n",
    "                                                    sortedP[key][DUTCHPRESS[0]] == 0}\n",
    "results = [df.iloc[i][1] for i in range(0,len(df)) if df.iloc[i][0] in selectedP.keys()]"
   ]
  },
  {
   "cell_type": "code",
   "execution_count": null,
   "metadata": {},
   "outputs": [],
   "source": [
    "groupsF = pd.DataFrame(results).groupby(0).groups\n",
    "{key:len(groupsF[key]) for key in sorted(groupsF.keys(),key=lambda k:len(groupsF[k]),reverse=True)}"
   ]
  },
  {
   "cell_type": "code",
   "execution_count": null,
   "metadata": {},
   "outputs": [],
   "source": []
  }
 ],
 "metadata": {
  "kernelspec": {
   "display_name": "Python 3",
   "language": "python",
   "name": "python3"
  },
  "language_info": {
   "codemirror_mode": {
    "name": "ipython",
    "version": 3
   },
   "file_extension": ".py",
   "mimetype": "text/x-python",
   "name": "python",
   "nbconvert_exporter": "python",
   "pygments_lexer": "ipython3",
   "version": "3.7.3"
  }
 },
 "nbformat": 4,
 "nbformat_minor": 4
}
