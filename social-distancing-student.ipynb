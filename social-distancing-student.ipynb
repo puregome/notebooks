{
 "cells": [
  {
   "cell_type": "markdown",
   "metadata": {},
   "source": [
    "# Build social distancing data from tweets\n",
    "\n",
    "See email 15-07-2021 13:03"
   ]
  },
  {
   "cell_type": "markdown",
   "metadata": {},
   "source": [
    "## 1. Select social distancing tweets"
   ]
  },
  {
   "cell_type": "code",
   "execution_count": 1,
   "metadata": {},
   "outputs": [],
   "source": [
    "import os\n",
    "import numpy as np\n",
    "import pandas as pd\n",
    "import re\n",
    "from nltk.tokenize import TweetTokenizer\n",
    "from IPython.display import clear_output"
   ]
  },
  {
   "cell_type": "code",
   "execution_count": 2,
   "metadata": {},
   "outputs": [],
   "source": [
    "BASE_DIR = \"../data/text/\"\n",
    "DISTANCE_QUERY = \"1[.,]5[ -]*m|afstand.*hou|hou.*afstand|anderhalve[ -]*meter\"\n",
    "FILE_PATTERN = \"^(202010)\"\n",
    "TEXT = \"text\""
   ]
  },
  {
   "cell_type": "code",
   "execution_count": 3,
   "metadata": {},
   "outputs": [],
   "source": [
    "def squeal(text=None):\n",
    "    clear_output(wait=True)\n",
    "    if not text is None: print(text)\n",
    "\n",
    "\n",
    "def cleanup(text):\n",
    "    text = re.sub(r\"\\\\n\",\" \",text)\n",
    "    text = re.sub(r\"https://\\S+\",\"\",text)\n",
    "    text = re.sub(r\"\\s+\",\" \",text)\n",
    "    text = text.strip()\n",
    "    return(text)\n",
    "\n",
    "\n",
    "def tokenize(text):\n",
    "    return(\" \".join(TweetTokenizer().tokenize(text)))\n",
    "\n",
    "\n",
    "def preprocess(text):\n",
    "    return(tokenize(cleanup(text)).lower())"
   ]
  },
  {
   "cell_type": "code",
   "execution_count": 4,
   "metadata": {},
   "outputs": [
    {
     "name": "stdout",
     "output_type": "stream",
     "text": [
      "20201031-23.out.gz\n"
     ]
    }
   ],
   "source": [
    "query = DISTANCE_QUERY\n",
    "files = sorted(os.listdir(BASE_DIR))\n",
    "results_df = pd.DataFrame({})\n",
    "preprocessed_texts = []\n",
    "for file_name in files:\n",
    "    if re.search(FILE_PATTERN, file_name):\n",
    "        squeal(file_name)\n",
    "        file_data = pd.read_csv(BASE_DIR + file_name)\n",
    "        matched_text = file_data[file_data[TEXT].str.contains(query, case=False)]\n",
    "        preprocessed_texts.extend(matched_text[TEXT].apply(lambda x: preprocess(x)))\n",
    "        if len(results_df) == 0:\n",
    "            results_df = matched_text.copy()\n",
    "        else:\n",
    "            results_df = pd.concat([results_df, matched_text], ignore_index=True)"
   ]
  },
  {
   "cell_type": "code",
   "execution_count": 5,
   "metadata": {},
   "outputs": [
    {
     "data": {
      "text/plain": [
       "(76183, 76183)"
      ]
     },
     "execution_count": 5,
     "metadata": {},
     "output_type": "execute_result"
    }
   ],
   "source": [
    "len(results_df), len(preprocessed_texts)"
   ]
  },
  {
   "cell_type": "code",
   "execution_count": 6,
   "metadata": {},
   "outputs": [],
   "source": [
    "DATA_FILE = f\"csv/social_distancing_results_df_{FILE_PATTERN}.csv\"\n",
    "\n",
    "results_df.to_csv(DATA_FILE)"
   ]
  },
  {
   "cell_type": "markdown",
   "metadata": {},
   "source": [
    "## 2. Label tweets"
   ]
  },
  {
   "cell_type": "code",
   "execution_count": 7,
   "metadata": {},
   "outputs": [],
   "source": [
    "import fasttext"
   ]
  },
  {
   "cell_type": "code",
   "execution_count": 8,
   "metadata": {},
   "outputs": [],
   "source": [
    "BESTDIM = 200\n",
    "BESTEPOCH = 200\n",
    "BESTLR = 0.2\n",
    "DISTANCE = \"distance\"\n",
    "TOPIC = DISTANCE\n",
    "MODELFILE = f\"model-{TOPIC}-{BESTDIM}-{BESTEPOCH}-{BESTLR}.bin\""
   ]
  },
  {
   "cell_type": "code",
   "execution_count": 9,
   "metadata": {},
   "outputs": [
    {
     "name": "stderr",
     "output_type": "stream",
     "text": [
      "Warning : `load_model` does not return WordVectorModel or SupervisedModel any more, but a `FastText` object which is very similar.\n"
     ]
    }
   ],
   "source": [
    "model = fasttext.load_model(MODELFILE)"
   ]
  },
  {
   "cell_type": "code",
   "execution_count": 10,
   "metadata": {},
   "outputs": [],
   "source": [
    "labels = model.predict(preprocessed_texts, k=3)"
   ]
  },
  {
   "cell_type": "code",
   "execution_count": 11,
   "metadata": {},
   "outputs": [],
   "source": [
    "def shorten_label(label):\n",
    "    return re.sub(\"^__label__\", \"\", label)"
   ]
  },
  {
   "cell_type": "code",
   "execution_count": 12,
   "metadata": {},
   "outputs": [],
   "source": [
    "results_df[\"label\"] = [shorten_label(label[0]) for label in labels[0]]"
   ]
  },
  {
   "cell_type": "code",
   "execution_count": 13,
   "metadata": {},
   "outputs": [],
   "source": [
    "results_df[\"probabilities\"] = [ { shorten_label(labels[0][i][j]): labels[1][i][j] for j in range(0, 3)}\n",
    "                                for i in range(0, len(labels[0])) ]"
   ]
  },
  {
   "cell_type": "code",
   "execution_count": 14,
   "metadata": {},
   "outputs": [],
   "source": [
    "relevant_results_df = results_df[~results_df[\"label\"].isin([\"IRRELEVANT\"])].copy()"
   ]
  },
  {
   "cell_type": "code",
   "execution_count": 15,
   "metadata": {},
   "outputs": [
    {
     "data": {
      "text/plain": [
       "56173"
      ]
     },
     "execution_count": 15,
     "metadata": {},
     "output_type": "execute_result"
    }
   ],
   "source": [
    "len(relevant_results_df)"
   ]
  },
  {
   "cell_type": "code",
   "execution_count": 16,
   "metadata": {},
   "outputs": [],
   "source": [
    "relevant_results_df.to_csv(DATA_FILE)"
   ]
  },
  {
   "cell_type": "code",
   "execution_count": 17,
   "metadata": {},
   "outputs": [],
   "source": [
    "relevant_results_df = pd.read_csv(DATA_FILE)"
   ]
  },
  {
   "cell_type": "code",
   "execution_count": 18,
   "metadata": {},
   "outputs": [
    {
     "data": {
      "text/plain": [
       "Unnamed: 0                                                                   0\n",
       "id_str                                                     1311425852169744385\n",
       "in_reply_to_status_id_str                                          1.31135e+18\n",
       "user                                                                 filakimou\n",
       "verified                                                                   NaN\n",
       "text                         @NUnl Waarom niet de dove mens het mondkapje o...\n",
       "location                                                         Petra, Greece\n",
       "label                                                                 SUPPORTS\n",
       "probabilities                {'SUPPORTS': 0.98213124, 'IRRELEVANT': 0.01485...\n",
       "Name: 0, dtype: object"
      ]
     },
     "execution_count": 18,
     "metadata": {},
     "output_type": "execute_result"
    }
   ],
   "source": [
    "relevant_results_df.iloc[0]"
   ]
  },
  {
   "cell_type": "markdown",
   "metadata": {},
   "source": [
    "## 3. Get sentiment scores"
   ]
  },
  {
   "cell_type": "code",
   "execution_count": 19,
   "metadata": {},
   "outputs": [
    {
     "name": "stdout",
     "output_type": "stream",
     "text": [
      "20201031-23.out.gz\n"
     ]
    }
   ],
   "source": [
    "SENTIMENT_DIR = \"../data/sentiment/pattern/\"\n",
    "files = sorted(os.listdir(SENTIMENT_DIR))\n",
    "for file_name in files:\n",
    "    if re.search(FILE_PATTERN, file_name):\n",
    "        squeal(file_name)\n",
    "        file_data = pd.read_csv(os.path.join(SENTIMENT_DIR, file_name), header=None).astype({0: str}).set_index(0)\n",
    "        for id_str in relevant_results_df[\"id_str\"]:\n",
    "            if str(id_str) in file_data.index:\n",
    "                relevant_results_df[\"sentiment\"] = file_data.loc[str(id_str)][1]"
   ]
  },
  {
   "cell_type": "code",
   "execution_count": 20,
   "metadata": {},
   "outputs": [],
   "source": [
    "for index, row in relevant_results_df.iterrows():\n",
    "    if \"sentiment\" not in row or pd.isna(row[\"sentiment\"]):\n",
    "        print(row)"
   ]
  },
  {
   "cell_type": "code",
   "execution_count": 21,
   "metadata": {},
   "outputs": [],
   "source": [
    "relevant_results_df.to_csv(DATA_FILE)"
   ]
  },
  {
   "cell_type": "code",
   "execution_count": 29,
   "metadata": {},
   "outputs": [
    {
     "ename": "KeyError",
     "evalue": "\"None of ['id_str'] are in the columns\"",
     "output_type": "error",
     "traceback": [
      "\u001b[0;31m---------------------------------------------------------------------------\u001b[0m",
      "\u001b[0;31mKeyError\u001b[0m                                  Traceback (most recent call last)",
      "\u001b[0;32m<ipython-input-29-7bde3243ceba>\u001b[0m in \u001b[0;36m<module>\u001b[0;34m\u001b[0m\n\u001b[0;32m----> 1\u001b[0;31m \u001b[0mrelevant_results_df\u001b[0m \u001b[0;34m=\u001b[0m \u001b[0mrelevant_results_df\u001b[0m\u001b[0;34m.\u001b[0m\u001b[0mset_index\u001b[0m\u001b[0;34m(\u001b[0m\u001b[0;34m\"id_str\"\u001b[0m\u001b[0;34m)\u001b[0m\u001b[0;34m\u001b[0m\u001b[0;34m\u001b[0m\u001b[0m\n\u001b[0m\u001b[1;32m      2\u001b[0m \u001b[0;36m1311425852169744385\u001b[0m \u001b[0;32min\u001b[0m \u001b[0mrelevant_results_df\u001b[0m\u001b[0;34m.\u001b[0m\u001b[0mindex\u001b[0m\u001b[0;34m\u001b[0m\u001b[0;34m\u001b[0m\u001b[0m\n",
      "\u001b[0;32m~/anaconda3/envs/python37/lib/python3.7/site-packages/pandas/core/frame.py\u001b[0m in \u001b[0;36mset_index\u001b[0;34m(self, keys, drop, append, inplace, verify_integrity)\u001b[0m\n\u001b[1;32m   4394\u001b[0m \u001b[0;34m\u001b[0m\u001b[0m\n\u001b[1;32m   4395\u001b[0m         \u001b[0;32mif\u001b[0m \u001b[0mmissing\u001b[0m\u001b[0;34m:\u001b[0m\u001b[0;34m\u001b[0m\u001b[0;34m\u001b[0m\u001b[0m\n\u001b[0;32m-> 4396\u001b[0;31m             \u001b[0;32mraise\u001b[0m \u001b[0mKeyError\u001b[0m\u001b[0;34m(\u001b[0m\u001b[0;34m\"None of {} are in the columns\"\u001b[0m\u001b[0;34m.\u001b[0m\u001b[0mformat\u001b[0m\u001b[0;34m(\u001b[0m\u001b[0mmissing\u001b[0m\u001b[0;34m)\u001b[0m\u001b[0;34m)\u001b[0m\u001b[0;34m\u001b[0m\u001b[0;34m\u001b[0m\u001b[0m\n\u001b[0m\u001b[1;32m   4397\u001b[0m \u001b[0;34m\u001b[0m\u001b[0m\n\u001b[1;32m   4398\u001b[0m         \u001b[0;32mif\u001b[0m \u001b[0minplace\u001b[0m\u001b[0;34m:\u001b[0m\u001b[0;34m\u001b[0m\u001b[0;34m\u001b[0m\u001b[0m\n",
      "\u001b[0;31mKeyError\u001b[0m: \"None of ['id_str'] are in the columns\""
     ]
    }
   ],
   "source": [
    "relevant_results_df = relevant_results_df.set_index(\"id_str\")\n",
    "relevant_results_df.index"
   ]
  },
  {
   "cell_type": "markdown",
   "metadata": {},
   "source": [
    "## 4. Get user id and time stamp from json files"
   ]
  },
  {
   "cell_type": "code",
   "execution_count": 22,
   "metadata": {},
   "outputs": [],
   "source": [
    "import gzip\n",
    "import json\n",
    "import sys"
   ]
  },
  {
   "cell_type": "code",
   "execution_count": 23,
   "metadata": {},
   "outputs": [],
   "source": [
    "BASE_DIR_JSON = \"/home/erikt/media/20190525/files/cloud/twitter/\""
   ]
  },
  {
   "cell_type": "code",
   "execution_count": 37,
   "metadata": {},
   "outputs": [
    {
     "name": "stdout",
     "output_type": "stream",
     "text": [
      "20201031-23.out.gz 56119\n"
     ]
    }
   ],
   "source": [
    "tweet_data_keep = {}\n",
    "for month in \"202010\".split():\n",
    "    tweet_data = {}\n",
    "    files = sorted(os.listdir(BASE_DIR_JSON + month))\n",
    "    for file_name in files:\n",
    "        if re.search(FILE_PATTERN, file_name):\n",
    "            squeal(f\"{file_name} {len(tweet_data_keep)}\")\n",
    "            infile = gzip.open(BASE_DIR_JSON + month + \"/\" + file_name, \"r\")\n",
    "            for line in infile:\n",
    "                json_data = json.loads(line)\n",
    "                if int(json_data[\"id_str\"]) in relevant_results_df.index:\n",
    "                    if \"quoted_status_id_str\" in json_data:\n",
    "                        quoted_status_id_str = json_data[\"quoted_status_id_str\"]\n",
    "                    else:\n",
    "                        quoted_status_id_str = \"\"\n",
    "                    if \"extended_tweet\" in json_data and \"full_text\" in json_data[\"extended_tweet\"]:\n",
    "                        full_text = json_data[\"extended_tweet\"][\"full_text\"]\n",
    "                    else:\n",
    "                        full_text = \"\"\n",
    "                    tweet_data_keep[int(json_data[\"id_str\"])] = { \n",
    "                                                                 \"created_at\": json_data[\"created_at\"],\n",
    "                                                                 \"id_str\": json_data[\"id_str\"],\n",
    "                                                                 \"entities\": json_data[\"entities\"],\n",
    "                                                                 \"text\": json_data[\"text\"],\n",
    "                                                                 \"full_text\": full_text,\n",
    "                                                                 \"in_reply_to_user_id_str\": json_data[\"in_reply_to_user_id_str\"],\n",
    "                                                                 \"in_reply_to_status_id_str\": json_data[\"in_reply_to_status_id_str\"],\n",
    "                                                                 \"quoted_status_id_str\": quoted_status_id_str,\n",
    "                                                                 \"user\": {\n",
    "                                                                     \"id_str\": json_data[\"user\"][\"id_str\"],\n",
    "                                                                     \"name\": json_data[\"user\"][\"name\"],\n",
    "                                                                     \"screen_name\": json_data[\"user\"][\"screen_name\"],\n",
    "                                                                     \"verified\": json_data[\"user\"][\"verified\"],\n",
    "                                                                     \"followers_count\": json_data[\"user\"][\"followers_count\"],\n",
    "                                                                 },\n",
    "                                                               }\n",
    "            infile.close()"
   ]
  },
  {
   "cell_type": "code",
   "execution_count": 38,
   "metadata": {},
   "outputs": [
    {
     "data": {
      "text/plain": [
       "56173"
      ]
     },
     "execution_count": 38,
     "metadata": {},
     "output_type": "execute_result"
    }
   ],
   "source": [
    "len(tweet_data_keep)"
   ]
  },
  {
   "cell_type": "code",
   "execution_count": 48,
   "metadata": {},
   "outputs": [],
   "source": [
    "tweet_data_keep[list(tweet_data_keep.keys())[0]]"
   ]
  },
  {
   "cell_type": "code",
   "execution_count": 45,
   "metadata": {},
   "outputs": [],
   "source": [
    "for id_str in relevant_results_df.index:\n",
    "    tweet_data_keep[id_str][\"label_social_distancing\"] = relevant_results_df.loc[id_str][\"label\"]\n",
    "    tweet_data_keep[id_str][\"probabilities_social_distancing\"] = relevant_results_df.loc[id_str][\"probabilities\"]\n",
    "    tweet_data_keep[id_str][\"sentiment\"] = relevant_results_df.loc[id_str][\"sentiment\"]"
   ]
  },
  {
   "cell_type": "code",
   "execution_count": 47,
   "metadata": {},
   "outputs": [],
   "source": [
    "OUT_FILE_NAME = \"social-distancing-student.json\"\n",
    "out_file = open(OUT_FILE_NAME, \"w\")\n",
    "for id_str in tweet_data_keep:\n",
    "    print(json.dumps(tweet_data_keep[id_str]), file=out_file)\n",
    "out_file.close()"
   ]
  },
  {
   "cell_type": "code",
   "execution_count": null,
   "metadata": {},
   "outputs": [],
   "source": []
  }
 ],
 "metadata": {
  "kernelspec": {
   "display_name": "python37",
   "language": "python",
   "name": "python37"
  },
  "language_info": {
   "codemirror_mode": {
    "name": "ipython",
    "version": 3
   },
   "file_extension": ".py",
   "mimetype": "text/x-python",
   "name": "python",
   "nbconvert_exporter": "python",
   "pygments_lexer": "ipython3",
   "version": "3.7.3"
  }
 },
 "nbformat": 4,
 "nbformat_minor": 4
}
