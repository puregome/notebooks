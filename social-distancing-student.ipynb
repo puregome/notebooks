{
 "cells": [
  {
   "cell_type": "markdown",
   "metadata": {},
   "source": [
    "# Build social distancing data from tweets\n",
    "\n",
    "Required fields:\n",
    "\n",
    "1. tweet id\n",
    "2. user id\n",
    "3. time stamp\n",
    "4. municipality\n",
    "5. stance with respect to social distancing"
   ]
  },
  {
   "cell_type": "markdown",
   "metadata": {},
   "source": [
    "## 1. Select social distancing tweets"
   ]
  },
  {
   "cell_type": "code",
   "execution_count": 2,
   "metadata": {},
   "outputs": [],
   "source": [
    "import os\n",
    "import pandas as pd\n",
    "import re\n",
    "from nltk.tokenize import TweetTokenizer\n",
    "from IPython.display import clear_output"
   ]
  },
  {
   "cell_type": "code",
   "execution_count": 3,
   "metadata": {},
   "outputs": [],
   "source": [
    "BASE_DIR = \"../data/text/\"\n",
    "DISTANCE_QUERY = \"1[.,]5[ -]*m|afstand.*hou|hou.*afstand|anderhalve[ -]*meter\"\n",
    "FILE_PATTERN = \"^(20201001)\"\n",
    "TEXT = \"text\""
   ]
  },
  {
   "cell_type": "code",
   "execution_count": 4,
   "metadata": {},
   "outputs": [],
   "source": [
    "def squeal(text=None):\n",
    "    clear_output(wait=True)\n",
    "    if not text is None: print(text)\n",
    "\n",
    "\n",
    "def cleanup(text):\n",
    "    text = re.sub(r\"\\\\n\",\" \",text)\n",
    "    text = re.sub(r\"https://\\S+\",\"\",text)\n",
    "    text = re.sub(r\"\\s+\",\" \",text)\n",
    "    text = text.strip()\n",
    "    return(text)\n",
    "\n",
    "\n",
    "def tokenize(text):\n",
    "    return(\" \".join(TweetTokenizer().tokenize(text)))\n",
    "\n",
    "\n",
    "def preprocess(text):\n",
    "    return(tokenize(cleanup(text)).lower())"
   ]
  },
  {
   "cell_type": "code",
   "execution_count": 5,
   "metadata": {},
   "outputs": [
    {
     "name": "stdout",
     "output_type": "stream",
     "text": [
      "20201001-23.out.gz\n"
     ]
    }
   ],
   "source": [
    "query = DISTANCE_QUERY\n",
    "files = sorted(os.listdir(BASE_DIR))\n",
    "results_df = pd.DataFrame({})\n",
    "preprocessed_texts = []\n",
    "for file_name in files:\n",
    "    if re.search(FILE_PATTERN, file_name):\n",
    "        squeal(file_name)\n",
    "        file_data = pd.read_csv(BASE_DIR + file_name)\n",
    "        matched_text = file_data[file_data[TEXT].str.contains(query, case=False)]\n",
    "        preprocessed_texts.extend(matched_text[TEXT].apply(lambda x: preprocess(x)))\n",
    "        if len(results_df) == 0:\n",
    "            results_df = matched_text.copy()\n",
    "        else:\n",
    "            results_df = pd.concat([results_df, matched_text], ignore_index=True)"
   ]
  },
  {
   "cell_type": "code",
   "execution_count": 6,
   "metadata": {},
   "outputs": [
    {
     "data": {
      "text/plain": [
       "(3489, 3489)"
      ]
     },
     "execution_count": 6,
     "metadata": {},
     "output_type": "execute_result"
    }
   ],
   "source": [
    "len(results_df), len(preprocessed_texts)"
   ]
  },
  {
   "cell_type": "code",
   "execution_count": 7,
   "metadata": {},
   "outputs": [],
   "source": [
    "DATA_FILE = f\"csv/social_distancing_results_df_{FILE_PATTERN}.csv\"\n",
    "\n",
    "results_df.to_csv(DATA_FILE)"
   ]
  },
  {
   "cell_type": "markdown",
   "metadata": {},
   "source": [
    "## 2. Label tweets"
   ]
  },
  {
   "cell_type": "code",
   "execution_count": 8,
   "metadata": {},
   "outputs": [],
   "source": [
    "import fasttext"
   ]
  },
  {
   "cell_type": "code",
   "execution_count": 9,
   "metadata": {},
   "outputs": [],
   "source": [
    "BESTDIM = 200\n",
    "BESTEPOCH = 200\n",
    "BESTLR = 0.2\n",
    "DISTANCE = \"distance\"\n",
    "TOPIC = DISTANCE\n",
    "MODELFILE = f\"model-{TOPIC}-{BESTDIM}-{BESTEPOCH}-{BESTLR}.bin\""
   ]
  },
  {
   "cell_type": "code",
   "execution_count": 10,
   "metadata": {},
   "outputs": [
    {
     "name": "stderr",
     "output_type": "stream",
     "text": [
      "Warning : `load_model` does not return WordVectorModel or SupervisedModel any more, but a `FastText` object which is very similar.\n"
     ]
    }
   ],
   "source": [
    "model = fasttext.load_model(MODELFILE)"
   ]
  },
  {
   "cell_type": "code",
   "execution_count": 11,
   "metadata": {},
   "outputs": [],
   "source": [
    "labels = model.predict(preprocessed_texts)"
   ]
  },
  {
   "cell_type": "code",
   "execution_count": 12,
   "metadata": {},
   "outputs": [],
   "source": [
    "results_df[\"label\"] = [re.sub(\"^__label__\", \"\", label[0]) for label in labels[0]]"
   ]
  },
  {
   "cell_type": "code",
   "execution_count": 13,
   "metadata": {},
   "outputs": [],
   "source": [
    "relevant_results_df = results_df[~results_df[\"label\"].isin([\"IRRELEVANT\"])].copy()"
   ]
  },
  {
   "cell_type": "code",
   "execution_count": 14,
   "metadata": {},
   "outputs": [
    {
     "data": {
      "text/plain": [
       "2674"
      ]
     },
     "execution_count": 14,
     "metadata": {},
     "output_type": "execute_result"
    }
   ],
   "source": [
    "len(relevant_results_df)"
   ]
  },
  {
   "cell_type": "code",
   "execution_count": 15,
   "metadata": {},
   "outputs": [],
   "source": [
    "relevant_results_df.to_csv(DATA_FILE)"
   ]
  },
  {
   "cell_type": "code",
   "execution_count": 16,
   "metadata": {},
   "outputs": [],
   "source": [
    "relevant_results_df = pd.read_csv(DATA_FILE)"
   ]
  },
  {
   "cell_type": "code",
   "execution_count": 17,
   "metadata": {},
   "outputs": [
    {
     "data": {
      "text/plain": [
       "Unnamed: 0                                                                   0\n",
       "id_str                                                     1311425852169744385\n",
       "in_reply_to_status_id_str                                          1.31135e+18\n",
       "user                                                                 filakimou\n",
       "verified                                                                   NaN\n",
       "text                         @NUnl Waarom niet de dove mens het mondkapje o...\n",
       "location                                                         Petra, Greece\n",
       "label                                                                 SUPPORTS\n",
       "Name: 0, dtype: object"
      ]
     },
     "execution_count": 17,
     "metadata": {},
     "output_type": "execute_result"
    }
   ],
   "source": [
    "relevant_results_df.iloc[0]"
   ]
  },
  {
   "cell_type": "markdown",
   "metadata": {},
   "source": [
    "## 3. Get user id and time stamp from json files"
   ]
  },
  {
   "cell_type": "code",
   "execution_count": 18,
   "metadata": {},
   "outputs": [],
   "source": [
    "import gzip\n",
    "import json\n",
    "import sys"
   ]
  },
  {
   "cell_type": "code",
   "execution_count": 19,
   "metadata": {},
   "outputs": [],
   "source": [
    "BASE_DIR_JSON = \"/home/erikt/media/20190525/files/cloud/twitter/\""
   ]
  },
  {
   "cell_type": "code",
   "execution_count": 20,
   "metadata": {},
   "outputs": [
    {
     "name": "stdout",
     "output_type": "stream",
     "text": [
      "20201001-23.out.gz\n",
      "202010 2674\n"
     ]
    }
   ],
   "source": [
    "tweet_data_keep = {}\n",
    "for month in \"202010\".split():\n",
    "    tweet_data = {}\n",
    "    files = sorted(os.listdir(BASE_DIR_JSON + month))\n",
    "    for file_name in files:\n",
    "        if re.search(FILE_PATTERN, file_name):\n",
    "            squeal(file_name)\n",
    "            infile = gzip.open(BASE_DIR_JSON + month + \"/\" + file_name, \"r\")\n",
    "            for line in infile:\n",
    "                json_data = json.loads(line)\n",
    "                if \"quoted_status_id_str\" in json_data:\n",
    "                    quoted_status_id_str = json_data[\"quoted_status_id_str\"]\n",
    "                else:\n",
    "                    quoted_status_id_str = \"\"\n",
    "                if \"extended_tweet\" in json_data and \"full_text\" in json_data[\"extended_tweet\"]:\n",
    "                    full_text = json_data[\"extended_tweet\"][\"full_text\"]\n",
    "                else:\n",
    "                    full_text = \"\"\n",
    "                tweet_data[int(json_data[\"id_str\"])] = { \n",
    "                                                         \"created_at\": json_data[\"created_at\"],\n",
    "                                                         \"id_str\": json_data[\"id_str\"],\n",
    "                                                         \"entities\": json_data[\"entities\"],\n",
    "                                                         \"text\": json_data[\"text\"],\n",
    "                                                         \"full_text\": full_text,\n",
    "                                                         \"in_reply_to_user_id_str\": json_data[\"in_reply_to_user_id_str\"],\n",
    "                                                         \"in_reply_to_status_id_str\": json_data[\"in_reply_to_status_id_str\"],\n",
    "                                                         \"quoted_status_id_str\": quoted_status_id_str,\n",
    "                                                         \"user\": {\n",
    "                                                             \"id_str\": json_data[\"user\"][\"id_str\"],\n",
    "                                                             \"name\": json_data[\"user\"][\"name\"],\n",
    "                                                             \"screen_name\": json_data[\"user\"][\"screen_name\"],\n",
    "                                                             \"verified\": json_data[\"user\"][\"verified\"],\n",
    "                                                             \"followers_count\": json_data[\"user\"][\"followers_count\"],\n",
    "                                                         },\n",
    "                                                       }\n",
    "            infile.close()\n",
    "    for i in range(0, len(relevant_results_df)):\n",
    "        if relevant_results_df.iloc[i]['id_str'] in tweet_data:\n",
    "            tweet_data_keep[relevant_results_df.iloc[i]['id_str']] = tweet_data[relevant_results_df.iloc[i]['id_str']]\n",
    "    print(month, len(tweet_data_keep))"
   ]
  },
  {
   "cell_type": "code",
   "execution_count": 21,
   "metadata": {},
   "outputs": [
    {
     "data": {
      "text/plain": [
       "2674"
      ]
     },
     "execution_count": 21,
     "metadata": {},
     "output_type": "execute_result"
    }
   ],
   "source": [
    "len(tweet_data_keep)"
   ]
  },
  {
   "cell_type": "code",
   "execution_count": 23,
   "metadata": {},
   "outputs": [],
   "source": [
    "tweet_data_keep[list(tweet_data_keep.keys())[0]]"
   ]
  },
  {
   "cell_type": "code",
   "execution_count": null,
   "metadata": {},
   "outputs": [],
   "source": []
  }
 ],
 "metadata": {
  "kernelspec": {
   "display_name": "python37",
   "language": "python",
   "name": "python37"
  },
  "language_info": {
   "codemirror_mode": {
    "name": "ipython",
    "version": 3
   },
   "file_extension": ".py",
   "mimetype": "text/x-python",
   "name": "python",
   "nbconvert_exporter": "python",
   "pygments_lexer": "ipython3",
   "version": "3.7.3"
  }
 },
 "nbformat": 4,
 "nbformat_minor": 4
}
