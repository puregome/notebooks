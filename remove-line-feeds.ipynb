{
 "cells": [
  {
   "cell_type": "markdown",
   "metadata": {},
   "source": [
    "# Remove line feeds from tweet files"
   ]
  },
  {
   "cell_type": "code",
   "execution_count": 1,
   "metadata": {},
   "outputs": [],
   "source": [
    "import gzip\n",
    "import os\n",
    "import pandas as pd\n",
    "import re"
   ]
  },
  {
   "cell_type": "code",
   "execution_count": 2,
   "metadata": {},
   "outputs": [],
   "source": [
    "DATADIRIN = \"../data/text/\"\n",
    "DATADIRTEST = \"../data/text-unique/\""
   ]
  },
  {
   "cell_type": "code",
   "execution_count": 4,
   "metadata": {},
   "outputs": [
    {
     "name": "stdout",
     "output_type": "stream",
     "text": [
      "20200610-11.out.gz\n",
      "20200612-21.out.gz\n",
      "20200612-22.out.gz\n",
      "20200613-01.out.gz\n",
      "20200613-11.out.gz\n",
      "20200614-04.out.gz\n",
      "20200614-05.out.gz\n",
      "20200614-11.out.gz\n",
      "20200614-12.out.gz\n",
      "20200614-13.out.gz\n",
      "20200615-09.out.gz\n",
      "20200616-11.out.gz\n",
      "20200617-21.out.gz\n",
      "20200618-11.out.gz\n",
      "20200618-15.out.gz\n",
      "20200622-21.out.gz\n",
      "20200623-06.out.gz\n",
      "20200623-19.out.gz\n",
      "20200624-12.out.gz\n",
      "20200625-23.out.gz\n",
      "20200626-03.out.gz\n",
      "20200626-20.out.gz\n",
      "20200626-21.out.gz\n",
      "20200627-07.out.gz\n",
      "20200627-11.out.gz\n",
      "20200628-14.out.gz\n",
      "20200630-10.out.gz\n",
      "20200630-11.out.gz\n",
      "20200630-14.out.gz\n",
      "20200630-16.out.gz\n",
      "20200630-22.out.gz\n",
      "20200701-06.out.gz\n",
      "20200701-19.out.gz\n",
      "20200702-20.out.gz\n",
      "20200704-20.out.gz\n",
      "20200706-09.out.gz\n",
      "20200706-19.out.gz\n",
      "20200707-19.out.gz\n",
      "20200707-23.out.gz\n",
      "20200708-01.out.gz\n",
      "20200709-02.out.gz\n",
      "20200709-08.out.gz\n",
      "20200709-09.out.gz\n",
      "20200709-10.out.gz\n",
      "20200709-11.out.gz\n",
      "20200710-10.out.gz\n",
      "20200710-11.out.gz\n",
      "20200710-14.out.gz\n",
      "20200710-17.out.gz\n"
     ]
    }
   ],
   "source": [
    "FILEPATTERN = \"20200[67]\"\n",
    "\n",
    "fileNames = sorted(os.listdir(DATADIRIN))\n",
    "\n",
    "for inFileName in fileNames:\n",
    "    if re.search(FILEPATTERN,inFileName) and not os.path.exists(DATADIRTEST+inFileName):\n",
    "        print(inFileName)\n",
    "        inFile = gzip.open(DATADIRIN+inFileName,mode=\"rb\")\n",
    "        outFile = gzip.open(inFileName,mode=\"wt\")\n",
    "        for inLine in inFile:\n",
    "            outLine = re.sub(r\"\\015\",\" \",inLine.decode(\"utf8\"))\n",
    "            print(outLine,file=outFile,end=\"\")\n",
    "        outFile.close()\n",
    "        inFile.close()"
   ]
  },
  {
   "cell_type": "code",
   "execution_count": null,
   "metadata": {},
   "outputs": [],
   "source": []
  }
 ],
 "metadata": {
  "kernelspec": {
   "display_name": "Python 3",
   "language": "python",
   "name": "python3"
  },
  "language_info": {
   "codemirror_mode": {
    "name": "ipython",
    "version": 3
   },
   "file_extension": ".py",
   "mimetype": "text/x-python",
   "name": "python",
   "nbconvert_exporter": "python",
   "pygments_lexer": "ipython3",
   "version": "3.7.3"
  }
 },
 "nbformat": 4,
 "nbformat_minor": 4
}
