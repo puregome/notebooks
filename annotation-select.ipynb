{
 "cells": [
  {
   "cell_type": "markdown",
   "metadata": {},
   "source": [
    "# Select data for annotation"
   ]
  },
  {
   "cell_type": "code",
   "execution_count": 1,
   "metadata": {},
   "outputs": [],
   "source": [
    "import os\n",
    "import pandas as pd\n",
    "import random\n",
    "import re\n",
    "from IPython.display import clear_output"
   ]
  },
  {
   "cell_type": "code",
   "execution_count": 2,
   "metadata": {},
   "outputs": [],
   "source": [
    "BASEDIR = \"/home/erikt/projects/puregome/data/\"\n",
    "DISTANCE = \"distance\"\n",
    "FACEMASK = \"mondkapje\"\n",
    "IDSTR = \"id_str\"\n",
    "NUNL = \"nunl\"\n",
    "REDDIT = \"reddit\"\n",
    "TEXT = \"text\"\n",
    "TWITTER = \"twitter\"\n",
    "USER = \"user\""
   ]
  },
  {
   "cell_type": "code",
   "execution_count": 3,
   "metadata": {},
   "outputs": [],
   "source": [
    "def squeal(text=None):\n",
    "    clear_output(wait=True)\n",
    "    if not text is None: print(text)"
   ]
  },
  {
   "cell_type": "code",
   "execution_count": 4,
   "metadata": {},
   "outputs": [],
   "source": [
    "TOPIC = DISTANCE\n",
    "DATASOURCE = TWITTER\n",
    "DATADIR = BASEDIR+DATASOURCE+\"/text/\"\n",
    "\n",
    "if TOPIC == DISTANCE:\n",
    "    query = \"1[.,]5[ -]*m|afstand.*hou|hou.*afstand|anderhalve[ -]*meter\"\n",
    "elif TOPIC == FACEMASK:\n",
    "    query = TOPIC\n",
    "else:\n",
    "    print(f\"unknown topic! ({TOPIC})\",file=sys.stderr)\n",
    "    sys.exit(1)"
   ]
  },
  {
   "cell_type": "code",
   "execution_count": 5,
   "metadata": {},
   "outputs": [
    {
     "name": "stdout",
     "output_type": "stream",
     "text": [
      "20200731-23.out.gz\n"
     ]
    }
   ],
   "source": [
    "FILEPATTERN = \"202007\"\n",
    "\n",
    "inFileNames = sorted(os.listdir(DATADIR))\n",
    "\n",
    "matches = []\n",
    "for inFileName in inFileNames:\n",
    "    if re.search(FILEPATTERN,inFileName):\n",
    "        squeal(inFileName)\n",
    "        try:\n",
    "            fileData = pd.read_csv(DATADIR+inFileName).drop_duplicates()\n",
    "            for i in range(0,len(fileData)):\n",
    "                if re.search(query,fileData.iloc[i][TEXT],flags=re.IGNORECASE):\n",
    "                    matches.append(fileData.iloc[i])\n",
    "        except:\n",
    "            pass"
   ]
  },
  {
   "cell_type": "code",
   "execution_count": 6,
   "metadata": {},
   "outputs": [
    {
     "data": {
      "text/plain": [
       "84139"
      ]
     },
     "execution_count": 6,
     "metadata": {},
     "output_type": "execute_result"
    }
   ],
   "source": [
    "len(matches)"
   ]
  },
  {
   "cell_type": "code",
   "execution_count": 7,
   "metadata": {},
   "outputs": [],
   "source": [
    "ANNOTATIONFILEALL = f\"{TOPIC}-{DATASOURCE}-all.csv\"\n",
    "ANNOTATIONFILESELECTED = f\"{TOPIC}-{DATASOURCE}-selected.csv\"\n",
    "\n",
    "pd.DataFrame(matches).to_csv(ANNOTATIONFILEALL,index=False)"
   ]
  },
  {
   "cell_type": "code",
   "execution_count": 8,
   "metadata": {},
   "outputs": [],
   "source": [
    "PERCENTAGE = 2\n",
    "\n",
    "selected = []\n",
    "targetSize = round(len(matches)*PERCENTAGE/100)\n",
    "while len(selected) < targetSize and len(matches) > 0:\n",
    "    index = int(random.random()*len(matches))\n",
    "    selected.append(matches[index])\n",
    "    matches[index] = matches[-1]\n",
    "    del(matches[-1])\n",
    "    \n",
    "pd.DataFrame(selected).to_csv(ANNOTATIONFILESELECTED,index=False)\n",
    "len(selected)"
   ]
  },
  {
   "cell_type": "code",
   "execution_count": null,
   "metadata": {},
   "outputs": [],
   "source": []
  }
 ],
 "metadata": {
  "kernelspec": {
   "display_name": "Python 3",
   "language": "python",
   "name": "python3"
  },
  "language_info": {
   "codemirror_mode": {
    "name": "ipython",
    "version": 3
   },
   "file_extension": ".py",
   "mimetype": "text/x-python",
   "name": "python",
   "nbconvert_exporter": "python",
   "pygments_lexer": "ipython3",
   "version": "3.7.3"
  }
 },
 "nbformat": 4,
 "nbformat_minor": 4
}
