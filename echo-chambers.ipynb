{
 "cells": [
  {
   "cell_type": "markdown",
   "metadata": {},
   "source": [
    "# Echo chambers\n",
    "\n",
    "Find groups of users which often send out the same tweets"
   ]
  },
  {
   "cell_type": "code",
   "execution_count": 2,
   "metadata": {},
   "outputs": [],
   "source": [
    "import os\n",
    "import pandas as pd\n",
    "import re\n",
    "import sys\n",
    "\n",
    "from IPython.display import clear_output"
   ]
  },
  {
   "cell_type": "code",
   "execution_count": 3,
   "metadata": {},
   "outputs": [],
   "source": [
    "DATADIR = \"../data/text/\""
   ]
  },
  {
   "cell_type": "code",
   "execution_count": 5,
   "metadata": {},
   "outputs": [],
   "source": [
    "def squeal(text=None):\n",
    "    clear_output(wait=True)\n",
    "    if not text is None: print(text)\n",
    "\n",
    "def remove_url_suffix(tweet):\n",
    "    return(re.sub(\"\\s*https?://.*$\",\"\",tweet,flags=re.IGNORECASE))\n",
    "\n",
    "def remove_rt_prefix(tweet):\n",
    "    return(re.sub(\"^RT[^:]*:\\s*\",\"\",tweet))\n",
    "\n",
    "def read_tweets(file_pattern):\n",
    "    files = os.listdir(DATADIR)\n",
    "    users_per_tweet = {}\n",
    "    tweets_per_user = {}\n",
    "    nbr_of_tweets = 0\n",
    "    for file_name in files:\n",
    "        if re.search(file_pattern,file_name):\n",
    "            df = pd.read_csv(DATADIR+file_name)\n",
    "            nbr_of_tweets += len(df)\n",
    "            for i in range(0,len(df)):\n",
    "                user = df.iloc[i][\"user\"]\n",
    "                text = remove_rt_prefix(remove_url_suffix(df.iloc[i][\"text\"])).strip()\n",
    "                if not text in users_per_tweet: users_per_tweet[text] = [user]\n",
    "                elif not user in users_per_tweet[text]: users_per_tweet[text].append(user)\n",
    "                if not user in tweets_per_user: tweets_per_user[user] = 1\n",
    "                else: tweets_per_user[user] += 1\n",
    "    return(users_per_tweet,tweets_per_user,nbr_of_tweets)"
   ]
  },
  {
   "cell_type": "code",
   "execution_count": 6,
   "metadata": {},
   "outputs": [],
   "source": [
    "def get_user_pairs(users_per_tweet):\n",
    "    user_pairs = {}\n",
    "    for user_group in users_per_tweet.values():\n",
    "        for i in range(1,len(user_group)):\n",
    "            for j in range(i+1,len(user_group)):\n",
    "                pair = \" \".join([user_group[i],user_group[j]])\n",
    "                if not pair in user_pairs: user_pairs[pair] = 1\n",
    "                else: user_pairs[pair] += 1\n",
    "    return(user_pairs)"
   ]
  },
  {
   "cell_type": "code",
   "execution_count": 7,
   "metadata": {},
   "outputs": [],
   "source": [
    "def show_top_user_pairs(user_pairs):\n",
    "    for pair in sorted(user_pairs.keys(),key=lambda p:user_pairs[p],reverse=True)[:20]:\n",
    "        print(f\"{user_pairs[pair]} {pair}\")\n",
    "    return()"
   ]
  },
  {
   "cell_type": "code",
   "execution_count": 8,
   "metadata": {},
   "outputs": [],
   "source": [
    "THRESHOLD = 10\n",
    "\n",
    "def make_user_groups(user_pairs):\n",
    "    user_groups = {}\n",
    "    for pair in user_pairs:\n",
    "        if user_pairs[pair] >= THRESHOLD:\n",
    "            user1,user2 = pair.split()\n",
    "            if not user1 in user_groups and not user2 in user_groups:\n",
    "                user_groups[user1] = (user1,user2)\n",
    "                user_groups[user2] = (user1,user2)\n",
    "            elif user1 in user_groups and not user2 in user_groups:\n",
    "                user_groups[user1] = tuple(set(user_groups[user1]+(user2,)))\n",
    "                for e in user_groups[user1]: user_groups[e] = user_groups[user1]\n",
    "                user_groups[user2] = user_groups[user1]\n",
    "            elif not user1 in user_groups and user2 in user_groups:\n",
    "                user_groups[user2] = tuple(set(user_groups[user2]+(user1,)))\n",
    "                for e in user_groups[user2]: user_groups[e] = user_groups[user2]\n",
    "                user_groups[user1] = user_groups[user2]\n",
    "            else:\n",
    "                user_groups[user1] = tuple(set(user_groups[user1]+user_groups[user2]))\n",
    "                for e in user_groups[user1]: user_groups[e] = user_groups[user1]\n",
    "                for e in user_groups[user2]: user_groups[e] = user_groups[user1]\n",
    "    return(user_groups)"
   ]
  },
  {
   "cell_type": "code",
   "execution_count": 9,
   "metadata": {},
   "outputs": [],
   "source": [
    "def show_user_groups(user_groups):\n",
    "    seen = {}\n",
    "    for user in user_groups:\n",
    "        if not user in seen:\n",
    "            print(len(user_groups[user]),[u for u in sorted(user_groups[user],key=lambda u:u.lower())])\n",
    "            for u in user_groups[user]: seen[u] = True"
   ]
  },
  {
   "cell_type": "code",
   "execution_count": 10,
   "metadata": {},
   "outputs": [],
   "source": [
    "def get_largest_group(user_groups):\n",
    "    largest_group = []\n",
    "    for user in user_groups:\n",
    "        if len(user_groups[user]) > len(largest_group): \n",
    "            largest_group = user_groups[user]\n",
    "    return(largest_group)\n",
    "\n",
    "def compute_overlap(group1,group2):\n",
    "    return(len(set(group1) & set(group2)))\n",
    "\n",
    "def get_nbr_of_tweets(user_group,tweets_per_user):\n",
    "    nbr_of_tweets = 0\n",
    "    for user in user_group: nbr_of_tweets += tweets_per_user[user]\n",
    "    return(nbr_of_tweets)"
   ]
  },
  {
   "cell_type": "code",
   "execution_count": null,
   "metadata": {},
   "outputs": [],
   "source": [
    "MONTH = \"202010\"\n",
    "\n",
    "previous_user_group = []\n",
    "for day in range(1,32):\n",
    "    date = MONTH+str(day).zfill(2)\n",
    "    users_per_tweet,tweets_per_user,nbr_of_tweets = read_tweets(date)\n",
    "    user_pairs = get_user_pairs(users_per_tweet)\n",
    "    user_groups = make_user_groups(user_pairs)\n",
    "    largest_user_group = get_largest_group(user_groups)\n",
    "    largest_user_group_tweet_count = get_nbr_of_tweets(largest_user_group,tweets_per_user)\n",
    "    if len(previous_user_group) > 0:\n",
    "        print(date,len(largest_user_group),compute_overlap(previous_user_group,largest_user_group),\n",
    "              largest_user_group_tweet_count,nbr_of_tweets)\n",
    "    previous_user_group = largest_user_group"
   ]
  },
  {
   "cell_type": "markdown",
   "metadata": {},
   "source": [
    "20201002 393 245 38794 4660\n",
    "20201003 418 225 38764 40105\n",
    "20201004 383 233 38516 38335\n",
    "20201005 480 258 49555 46327\n",
    "20201006 356 243 40521 44316"
   ]
  }
 ],
 "metadata": {
  "kernelspec": {
   "display_name": "Python 3",
   "language": "python",
   "name": "python3"
  },
  "language_info": {
   "codemirror_mode": {
    "name": "ipython",
    "version": 3
   },
   "file_extension": ".py",
   "mimetype": "text/x-python",
   "name": "python",
   "nbconvert_exporter": "python",
   "pygments_lexer": "ipython3",
   "version": "3.7.3"
  }
 },
 "nbformat": 4,
 "nbformat_minor": 4
}
