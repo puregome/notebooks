{
 "cells": [
  {
   "cell_type": "markdown",
   "metadata": {},
   "source": [
    "# Echo chambers\n",
    "\n",
    "Find groups of users which often send out the same tweets"
   ]
  },
  {
   "cell_type": "code",
   "execution_count": 1,
   "metadata": {},
   "outputs": [],
   "source": [
    "import os\n",
    "import pandas as pd\n",
    "import re\n",
    "import sys\n",
    "\n",
    "from IPython.display import clear_output"
   ]
  },
  {
   "cell_type": "code",
   "execution_count": 2,
   "metadata": {},
   "outputs": [],
   "source": [
    "DATADIR = \"../data/text/\""
   ]
  },
  {
   "cell_type": "code",
   "execution_count": 3,
   "metadata": {},
   "outputs": [],
   "source": [
    "def squeal(text=None):\n",
    "    clear_output(wait=True)\n",
    "    if not text is None: print(text)\n",
    "\n",
    "def remove_url_suffix(tweet):\n",
    "    return(re.sub(\"\\s*https?://.*$\",\"\",tweet,flags=re.IGNORECASE))\n",
    "\n",
    "def remove_rt_prefix(tweet):\n",
    "    return(re.sub(\"^RT[^:]*:\\s*\",\"\",tweet))\n",
    "\n",
    "def read_tweets(file_pattern):\n",
    "    files = os.listdir(DATADIR)\n",
    "    users_per_tweet = {}\n",
    "    tweets_per_user = {}\n",
    "    nbr_of_tweets = 0\n",
    "    for file_name in files:\n",
    "        if re.search(file_pattern,file_name):\n",
    "            df = pd.read_csv(DATADIR+file_name)\n",
    "            nbr_of_tweets += len(df)\n",
    "            for i in range(0,len(df)):\n",
    "                user = df.iloc[i][\"user\"]\n",
    "                text = remove_rt_prefix(remove_url_suffix(df.iloc[i][\"text\"])).strip()\n",
    "                if not text in users_per_tweet: users_per_tweet[text] = [user]\n",
    "                elif not user in users_per_tweet[text]: users_per_tweet[text].append(user)\n",
    "                if not user in tweets_per_user: tweets_per_user[user] = 1\n",
    "                else: tweets_per_user[user] += 1\n",
    "    return(users_per_tweet,tweets_per_user,nbr_of_tweets)"
   ]
  },
  {
   "cell_type": "code",
   "execution_count": 4,
   "metadata": {},
   "outputs": [],
   "source": [
    "def get_user_pairs(users_per_tweet):\n",
    "    user_pairs = {}\n",
    "    for user_group in users_per_tweet.values():\n",
    "        for i in range(1,len(user_group)):\n",
    "            for j in range(i+1,len(user_group)):\n",
    "                pair = \" \".join([user_group[i],user_group[j]])\n",
    "                if not pair in user_pairs: user_pairs[pair] = 1\n",
    "                else: user_pairs[pair] += 1\n",
    "    return(user_pairs)"
   ]
  },
  {
   "cell_type": "code",
   "execution_count": 5,
   "metadata": {},
   "outputs": [],
   "source": [
    "def show_top_user_pairs(user_pairs):\n",
    "    for pair in sorted(user_pairs.keys(),key=lambda p:user_pairs[p],reverse=True)[:20]:\n",
    "        print(f\"{user_pairs[pair]} {pair}\")\n",
    "    return()"
   ]
  },
  {
   "cell_type": "code",
   "execution_count": 6,
   "metadata": {},
   "outputs": [],
   "source": [
    "THRESHOLD = 10\n",
    "\n",
    "def make_user_groups(user_pairs):\n",
    "    user_groups = {}\n",
    "    for pair in user_pairs:\n",
    "        if user_pairs[pair] >= THRESHOLD:\n",
    "            user1,user2 = pair.split()\n",
    "            if not user1 in user_groups and not user2 in user_groups:\n",
    "                user_groups[user1] = (user1,user2)\n",
    "                user_groups[user2] = (user1,user2)\n",
    "            elif user1 in user_groups and not user2 in user_groups:\n",
    "                user_groups[user1] = tuple(set(user_groups[user1]+(user2,)))\n",
    "                for e in user_groups[user1]: user_groups[e] = user_groups[user1]\n",
    "                user_groups[user2] = user_groups[user1]\n",
    "            elif not user1 in user_groups and user2 in user_groups:\n",
    "                user_groups[user2] = tuple(set(user_groups[user2]+(user1,)))\n",
    "                for e in user_groups[user2]: user_groups[e] = user_groups[user2]\n",
    "                user_groups[user1] = user_groups[user2]\n",
    "            else:\n",
    "                user_groups[user1] = tuple(set(user_groups[user1]+user_groups[user2]))\n",
    "                for e in user_groups[user1]: user_groups[e] = user_groups[user1]\n",
    "                for e in user_groups[user2]: user_groups[e] = user_groups[user1]\n",
    "    return(user_groups)"
   ]
  },
  {
   "cell_type": "code",
   "execution_count": 7,
   "metadata": {},
   "outputs": [],
   "source": [
    "def show_user_groups(user_groups):\n",
    "    seen = {}\n",
    "    for user in user_groups:\n",
    "        if not user in seen:\n",
    "            print(len(user_groups[user]),[u for u in sorted(user_groups[user],key=lambda u:u.lower())])\n",
    "            for u in user_groups[user]: seen[u] = True"
   ]
  },
  {
   "cell_type": "code",
   "execution_count": 8,
   "metadata": {},
   "outputs": [],
   "source": [
    "def get_largest_group(user_groups):\n",
    "    largest_group = []\n",
    "    for user in user_groups:\n",
    "        if len(user_groups[user]) > len(largest_group): \n",
    "            largest_group = user_groups[user]\n",
    "    return(largest_group)\n",
    "\n",
    "def compute_overlap(group1,group2):\n",
    "    return(len(set(group1) & set(group2)))\n",
    "\n",
    "def get_nbr_of_tweets(user_group,tweets_per_user):\n",
    "    nbr_of_tweets = 0\n",
    "    for user in user_group: nbr_of_tweets += tweets_per_user[user]\n",
    "    return(nbr_of_tweets)"
   ]
  },
  {
   "cell_type": "code",
   "execution_count": 16,
   "metadata": {},
   "outputs": [
    {
     "name": "stdout",
     "output_type": "stream",
     "text": [
      "20200504,274,0,39057,645085\n"
     ]
    }
   ],
   "source": [
    "OUTFILENAME = \"echo-chambers.txt\"\n",
    "\n",
    "previous_user_group = []\n",
    "last_seen = {}\n",
    "for month in range(202005,202006):\n",
    "    for day in range(4,5):\n",
    "        date = str(month)+str(day).zfill(2)\n",
    "        users_per_tweet,tweets_per_user,nbr_of_tweets = read_tweets(date)\n",
    "        if nbr_of_tweets == 0: continue\n",
    "        user_pairs = get_user_pairs(users_per_tweet)\n",
    "        user_groups = make_user_groups(user_pairs)\n",
    "        largest_user_group = get_largest_group(user_groups)\n",
    "        largest_user_group_tweet_count = get_nbr_of_tweets(largest_user_group,tweets_per_user)\n",
    "        if len(previous_user_group) == 0:\n",
    "            print(date,len(largest_user_group),0,largest_user_group_tweet_count,nbr_of_tweets,sep=\",\")\n",
    "        else:\n",
    "            print(date,len(largest_user_group),compute_overlap(previous_user_group,largest_user_group),\n",
    "                  largest_user_group_tweet_count,nbr_of_tweets,sep=\",\")\n",
    "        for user in largest_user_group: last_seen[user] = date\n",
    "        #out_file = open(OUTFILENAME,\"a\")\n",
    "        #print(date,nbr_of_tweets,largest_user_group_tweet_count,largest_user_group,file=out_file)\n",
    "        #out_file.close()\n",
    "        previous_user_group = largest_user_group"
   ]
  },
  {
   "cell_type": "code",
   "execution_count": 1,
   "metadata": {},
   "outputs": [],
   "source": [
    "show_user_groups(user_groups)"
   ]
  },
  {
   "cell_type": "code",
   "execution_count": 11,
   "metadata": {},
   "outputs": [
    {
     "data": {
      "text/plain": [
       "[(272, '20201031'),\n",
       " (192, '20201020'),\n",
       " (141, '20201030'),\n",
       " (134, '20201029'),\n",
       " (112, '20201017'),\n",
       " (101, '20201019'),\n",
       " (101, '20201013'),\n",
       " (94, '20201016'),\n",
       " (83, '20201021'),\n",
       " (83, '20201018')]"
      ]
     },
     "execution_count": 11,
     "metadata": {},
     "output_type": "execute_result"
    }
   ],
   "source": [
    "last_seen_dates = {}\n",
    "for user in last_seen:\n",
    "    date = last_seen[user]\n",
    "    if not date in last_seen_dates: last_seen_dates[date] = 1\n",
    "    else: last_seen_dates[date] += 1\n",
    "[(last_seen_dates[date],date) for date in sorted(last_seen_dates.keys(),key=lambda d:last_seen_dates[d],reverse=True)][:10]"
   ]
  },
  {
   "cell_type": "code",
   "execution_count": 12,
   "metadata": {},
   "outputs": [],
   "source": [
    "import pandas as pd \n",
    "import datetime\n",
    "import matplotlib.pyplot as plt\n",
    "\n",
    "from pandas.plotting import register_matplotlib_converters\n",
    "register_matplotlib_converters()"
   ]
  },
  {
   "cell_type": "code",
   "execution_count": 13,
   "metadata": {},
   "outputs": [],
   "source": [
    "DATEFORMAT = \"%Y%m%d\""
   ]
  },
  {
   "cell_type": "code",
   "execution_count": 14,
   "metadata": {},
   "outputs": [],
   "source": [
    "df = pd.read_csv(\"echo-chambers.csv\",index_col=\"date\")"
   ]
  },
  {
   "cell_type": "code",
   "execution_count": 15,
   "metadata": {},
   "outputs": [
    {
     "data": {
      "image/png": "[encoded data removed]",
      "text/plain": [
       "<Figure size 720x288 with 1 Axes>"
      ]
     },
     "metadata": {
      "needs_background": "light"
     },
     "output_type": "display_data"
    }
   ],
   "source": [
    "PLOTFILENAME = \"echo-chambers.png\"\n",
    "\n",
    "plt.subplots(figsize=(10,4))\n",
    "plt.plot_date([datetime.datetime.strptime(str(d),DATEFORMAT) for d in df.index],\n",
    "              [100*df.iloc[d][\"group_tweets\"]/df.iloc[d][\"all_tweets\"] for d in range(0,len(df))],\n",
    "              xdate=True,fmt=\"-\")\n",
    "plt.title(\"Percentage of tweets per day from largest echo team on Dutch Twitter\")\n",
    "plt.savefig(PLOTFILENAME)\n",
    "plt.show()"
   ]
  },
  {
   "cell_type": "code",
   "execution_count": null,
   "metadata": {},
   "outputs": [],
   "source": []
  }
 ],
 "metadata": {
  "kernelspec": {
   "display_name": "Python 3",
   "language": "python",
   "name": "python3"
  },
  "language_info": {
   "codemirror_mode": {
    "name": "ipython",
    "version": 3
   },
   "file_extension": ".py",
   "mimetype": "text/x-python",
   "name": "python",
   "nbconvert_exporter": "python",
   "pygments_lexer": "ipython3",
   "version": "3.7.3"
  }
 },
 "nbformat": 4,
 "nbformat_minor": 4
}
