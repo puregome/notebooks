{
 "cells": [
  {
   "cell_type": "markdown",
   "metadata": {},
   "source": [
    "# Hashtags"
   ]
  },
  {
   "cell_type": "code",
   "execution_count": 1,
   "metadata": {},
   "outputs": [],
   "source": [
    "from nltk.tokenize import TweetTokenizer\n",
    "import os\n",
    "import pandas as pd\n",
    "import re\n",
    "import sys\n",
    "from sklearn.feature_extraction.text import CountVectorizer\n",
    "from sklearn.decomposition import LatentDirichletAllocation\n",
    "from IPython.display import clear_output"
   ]
  },
  {
   "cell_type": "code",
   "execution_count": 2,
   "metadata": {},
   "outputs": [],
   "source": [
    "def squeal(text=None):\n",
    "    clear_output(wait=True)\n",
    "    if not text is None: print(text)"
   ]
  },
  {
   "cell_type": "code",
   "execution_count": 3,
   "metadata": {},
   "outputs": [],
   "source": [
    "DATADIR = \"../data/text/\"\n",
    "ID_STR = \"id_str\"\n",
    "TEXT = \"text\"\n",
    "TOPICQUERY = \"corona|covid|huisarts|mondkapje|rivm|blijfthuis|flattenthecurve|houvol\"\n",
    "PANDEMICQUERY = \"|\".join([TOPICQUERY, r'virus|besmet|ziekenhui|\\bic\\b|intensive.care|^zorg|vaccin|[^ad]arts|uitbraak|uitbrak|pandemie|ggd|'+\n",
    "                                      r'mondkapje|quarantaine|\\bwho\\b|avondklok|variant|verple|sympto|e.golf|mutant|^omt$|umc|hcq|'+\n",
    "                                      r'hydroxychloroquine|virolo|zkh|oversterfte|patiënt|patient|intensivist|🦠|ivermectin'])\n",
    "DISTANCEQUERY = \"1[.,]5[ -]*m|afstand.*hou|hou.*afstand|anderhalve[ -]*meter\"\n",
    "LOCKDOWNQUERY = \"lock.down|lockdown\"\n",
    "VACCINQUERY = \"vaccin|ingeënt|ingeent|inent|prik|spuit|bijwerking|-->|💉|pfizer|moderna|astrazeneca|astra|zeneca|novavax|biontech\"\n",
    "TESTQUERY = r'\\btest|getest|sneltest|pcr'\n",
    "QUERY = \"|\".join([PANDEMICQUERY, TESTQUERY, VACCINQUERY, LOCKDOWNQUERY, DISTANCEQUERY])\n",
    "BASEQUERY = \"corona|covid\"\n",
    "HAPPY_QUERY = r'\\b(geluk|gelukkig|gelukkige|blij|happy)\\b'\n",
    "LONELY_QUERY = r'eenza|alleen.*voel|voel.*alleen|lonely|loneli'\n",
    "IK_QUERY = r'\\b(ik|mij|mijn|me|mn|m\\'n|zelf|mezelf|mijzelf|i)\\b'"
   ]
  },
  {
   "cell_type": "code",
   "execution_count": 4,
   "metadata": {},
   "outputs": [],
   "source": [
    "def get_tweets(file_pattern, query, query2=\"\", spy=False):\n",
    "    tweets = []\n",
    "    file_names = sorted(os.listdir(DATADIR))\n",
    "    for file_name in file_names:\n",
    "        if re.search('^' + file_pattern, file_name):\n",
    "            if spy:\n",
    "                squeal(file_name)\n",
    "            df = pd.read_csv(DATADIR+file_name,index_col=ID_STR)\n",
    "            if query2 == \"\":\n",
    "                df_query = df[df[TEXT].str.contains(query, flags=re.IGNORECASE)]\n",
    "            else:\n",
    "                df_query = df[df[TEXT].str.contains(query, flags=re.IGNORECASE) & df[TEXT].str.contains(query2, flags=re.IGNORECASE)]\n",
    "            tweets.extend(list(df_query[TEXT]))\n",
    "    return(tweets)"
   ]
  },
  {
   "cell_type": "code",
   "execution_count": 5,
   "metadata": {},
   "outputs": [],
   "source": [
    "def get_hashtags(tweet):\n",
    "    hashtags = []\n",
    "    for token in TweetTokenizer().tokenize(tweet):\n",
    "        if re.search(r'#', token):\n",
    "            hashtags.append(token)\n",
    "    return(hashtags)"
   ]
  },
  {
   "cell_type": "code",
   "execution_count": 6,
   "metadata": {},
   "outputs": [],
   "source": [
    "def process_month(month, query=BASEQUERY, query2=\"\"):\n",
    "    tweets = [re.sub(r'\\\\n', ' ', tweet) for tweet in get_tweets(month, query, query2=query2, spy=False)]\n",
    "    hashtags = {}\n",
    "    for tweet in tweets:\n",
    "        if re.search(r'#', tweet):\n",
    "            for hashtag in get_hashtags(tweet):\n",
    "                if hashtag in hashtags:\n",
    "                    hashtags[hashtag] += 1\n",
    "                else:\n",
    "                    hashtags[hashtag] = 1\n",
    "    print(month, \" \".join([hashtag for hashtag in sorted(hashtags.keys(), key=lambda hashtag:hashtags[hashtag], reverse=True)][:200]))\n",
    "    return hashtags"
   ]
  },
  {
   "cell_type": "code",
   "execution_count": 7,
   "metadata": {},
   "outputs": [
    {
     "data": {
      "text/html": [
       "<div>\n",
       "<style scoped>\n",
       "    .dataframe tbody tr th:only-of-type {\n",
       "        vertical-align: middle;\n",
       "    }\n",
       "\n",
       "    .dataframe tbody tr th {\n",
       "        vertical-align: top;\n",
       "    }\n",
       "\n",
       "    .dataframe thead th {\n",
       "        text-align: right;\n",
       "    }\n",
       "</style>\n",
       "<table border=\"1\" class=\"dataframe\">\n",
       "  <thead>\n",
       "    <tr style=\"text-align: right;\">\n",
       "      <th></th>\n",
       "      <th>202105</th>\n",
       "      <th>202106</th>\n",
       "      <th>202107</th>\n",
       "      <th>202108</th>\n",
       "      <th>202109</th>\n",
       "      <th>202110</th>\n",
       "    </tr>\n",
       "  </thead>\n",
       "  <tbody>\n",
       "    <tr>\n",
       "      <th>0</th>\n",
       "      <td>measures</td>\n",
       "      <td>pandemic</td>\n",
       "      <td>measures</td>\n",
       "      <td>pandemic</td>\n",
       "      <td>entry pass</td>\n",
       "      <td>entry pass</td>\n",
       "    </tr>\n",
       "    <tr>\n",
       "      <th>1</th>\n",
       "      <td>pandemic</td>\n",
       "      <td>measures</td>\n",
       "      <td>pandemic</td>\n",
       "      <td>measures</td>\n",
       "      <td>measures</td>\n",
       "      <td>measures</td>\n",
       "    </tr>\n",
       "    <tr>\n",
       "      <th>2</th>\n",
       "      <td>vaccination</td>\n",
       "      <td>vaccination</td>\n",
       "      <td>vaccination</td>\n",
       "      <td>vaccination obligation</td>\n",
       "      <td>vaccination obligation</td>\n",
       "      <td>pandemic</td>\n",
       "    </tr>\n",
       "    <tr>\n",
       "      <th>3</th>\n",
       "      <td>entry pass</td>\n",
       "      <td>FVD</td>\n",
       "      <td>vaccination obligation</td>\n",
       "      <td>vaccination</td>\n",
       "      <td>pandemic</td>\n",
       "      <td>vaccination obligation</td>\n",
       "    </tr>\n",
       "    <tr>\n",
       "      <th>4</th>\n",
       "      <td>Netherlands</td>\n",
       "      <td>Netherlands</td>\n",
       "      <td>FVD</td>\n",
       "      <td>Netherlands</td>\n",
       "      <td>press conference</td>\n",
       "      <td>press conference</td>\n",
       "    </tr>\n",
       "    <tr>\n",
       "      <th>5</th>\n",
       "      <td>testing</td>\n",
       "      <td>facemasks</td>\n",
       "      <td>Netherlands</td>\n",
       "      <td>lockdown</td>\n",
       "      <td>FVD</td>\n",
       "      <td>unvaccinated</td>\n",
       "    </tr>\n",
       "    <tr>\n",
       "      <th>6</th>\n",
       "      <td>FVD</td>\n",
       "      <td>entry pass</td>\n",
       "      <td>lockdown</td>\n",
       "      <td>press conference</td>\n",
       "      <td>Hugo de Jonge</td>\n",
       "      <td>3 October protest</td>\n",
       "    </tr>\n",
       "    <tr>\n",
       "      <th>7</th>\n",
       "      <td>ivermectine</td>\n",
       "      <td>app</td>\n",
       "      <td>press conference</td>\n",
       "      <td>entry pass</td>\n",
       "      <td>hospitality business</td>\n",
       "      <td>Netherlands</td>\n",
       "    </tr>\n",
       "    <tr>\n",
       "      <th>8</th>\n",
       "      <td>long covid</td>\n",
       "      <td>variants</td>\n",
       "      <td>long covid</td>\n",
       "      <td>FVD</td>\n",
       "      <td>Mark Rutte</td>\n",
       "      <td>Hugo de Jonge</td>\n",
       "    </tr>\n",
       "    <tr>\n",
       "      <th>9</th>\n",
       "      <td>lockdown</td>\n",
       "      <td>lab leak</td>\n",
       "      <td>Hugo de Jonge</td>\n",
       "      <td>long covid</td>\n",
       "      <td>Mona Keizer</td>\n",
       "      <td>FVD</td>\n",
       "    </tr>\n",
       "  </tbody>\n",
       "</table>\n",
       "</div>"
      ],
      "text/plain": [
       "        202105       202106                  202107                  202108  \\\n",
       "0     measures     pandemic                measures                pandemic   \n",
       "1     pandemic     measures                pandemic                measures   \n",
       "2  vaccination  vaccination             vaccination  vaccination obligation   \n",
       "3   entry pass          FVD  vaccination obligation             vaccination   \n",
       "4  Netherlands  Netherlands                     FVD             Netherlands   \n",
       "5      testing    facemasks             Netherlands                lockdown   \n",
       "6          FVD   entry pass                lockdown        press conference   \n",
       "7  ivermectine          app        press conference              entry pass   \n",
       "8   long covid     variants              long covid                     FVD   \n",
       "9     lockdown     lab leak           Hugo de Jonge              long covid   \n",
       "\n",
       "                   202109                  202110  \n",
       "0              entry pass              entry pass  \n",
       "1                measures                measures  \n",
       "2  vaccination obligation                pandemic  \n",
       "3                pandemic  vaccination obligation  \n",
       "4        press conference        press conference  \n",
       "5                     FVD            unvaccinated  \n",
       "6           Hugo de Jonge       3 October protest  \n",
       "7    hospitality business             Netherlands  \n",
       "8              Mark Rutte           Hugo de Jonge  \n",
       "9             Mona Keizer                     FVD  "
      ]
     },
     "execution_count": 7,
     "metadata": {},
     "output_type": "execute_result"
    }
   ],
   "source": [
    "pd.DataFrame([{\"202105\": \"measures\", \"202106\": \"pandemic\", \"202107\": \"measures\", \n",
    "               \"202108\": \"pandemic\", \"202109\": \"entry pass\", \"202110\": \"entry pass\"},\n",
    "              {\"202105\": \"pandemic\", \"202106\": \"measures\", \"202107\": \"pandemic\", \n",
    "               \"202108\": \"measures\", \"202109\": \"measures\", \"202110\": \"measures\"},\n",
    "              {\"202105\": \"vaccination\", \"202106\": \"vaccination\", \"202107\": \"vaccination\", \n",
    "               \"202108\": \"vaccination obligation\", \"202109\": \"vaccination obligation\", \"202110\": \"pandemic\"},\n",
    "              {\"202105\": \"entry pass\", \"202106\": \"FVD\", \"202107\": \"vaccination obligation\", \n",
    "               \"202108\": \"vaccination\", \"202109\": \"pandemic\", \"202110\": \"vaccination obligation\"},\n",
    "              {\"202105\": \"Netherlands\", \"202106\": \"Netherlands\", \"202107\": \"FVD\", \n",
    "               \"202108\": \"Netherlands\", \"202109\": \"press conference\", \"202110\": \"press conference\"},\n",
    "              {\"202105\": \"testing\", \"202106\": \"facemasks\", \"202107\": \"Netherlands\", \n",
    "               \"202108\": \"lockdown\", \"202109\": \"FVD\", \"202110\": \"unvaccinated\"},\n",
    "              {\"202105\": \"FVD\", \"202106\": \"entry pass\", \"202107\": \"lockdown\", \n",
    "               \"202108\": \"press conference\", \"202109\": \"Hugo de Jonge\", \"202110\": \"3 October protest\"},\n",
    "              {\"202105\": \"ivermectine\", \"202106\": \"app\", \"202107\": \"press conference\", \n",
    "               \"202108\": \"entry pass\", \"202109\": \"hospitality business\", \"202110\": \"Netherlands\"},\n",
    "              {\"202105\": \"long covid\", \"202106\": \"variants\", \"202107\": \"long covid\", \n",
    "               \"202108\": \"FVD\", \"202109\": \"Mark Rutte\", \"202110\": \"Hugo de Jonge\"},\n",
    "              {\"202105\": \"lockdown\", \"202106\": \"lab leak\", \"202107\": \"Hugo de Jonge\", \n",
    "               \"202108\": \"long covid\", \"202109\": \"Mona Keizer\", \"202110\": \"FVD\"},\n",
    "             ])"
   ]
  },
  {
   "cell_type": "code",
   "execution_count": 22,
   "metadata": {},
   "outputs": [],
   "source": [
    "def save_hashtags(hashtags, month):\n",
    "    hashtags_sorted = { hashtag: hashtags[hashtag] \n",
    "                        for hashtag in sorted(hashtags.keys(), key=lambda hashtag:hashtags[hashtag], reverse=True) }\n",
    "    data_file = open(f\"csv/hashtags_{month}.txt\",\"w\")\n",
    "    for hashtag_data in list(hashtags_sorted.items())[0:200]:\n",
    "        print(hashtag_data[1], hashtag_data[0], file=data_file)\n",
    "    data_file.close()"
   ]
  },
  {
   "cell_type": "code",
   "execution_count": 25,
   "metadata": {},
   "outputs": [
    {
     "name": "stdout",
     "output_type": "stream",
     "text": [
      "202003 #coronavirus #corona #COVID19 #coronavirusNederland #Corona #coronanederland #Coronavirusnl #COVID19NL #coronadebat #CoronaCrisis #Covid_19 #coronacrisis #COVIDー19 #Coronavirus #COVID2019NL #covid19 #COVID2019 #lockdown #RIVM #coronahulp #PVV #blijfthuis #Rutte #covid19Nederland #samentegencorona #FVD #EU #COVID19BE #Wilders #coronanl #hamsteren #rivm #coronavirusnl #Covid19 #SocialDistancing #scholendicht #coronalied #dtv #coronavirusnetherlands #zorg #op1 #lockdownnl #Nieuwsuur #coronavirusnederland #covid19nl #COVID-19 #groepsimmuniteit #Nederland #persconferentie #Coronavid19 #samensterk #houdafstand # #thuiswerken #ikblijfthuis #CoronaVirusUpdate #Baudet #Coronalul #Op1 #CoronaVirus #StayAtHome #CoronaPandemie #jinek #applausvoordezorg #SocialDistance #Jinek #Rutte3 #mondkapjes #rutte #onderwijs #COVID19Belgium #vrtnws #VVD #Italië #covid_19 #blijfbinnen #NEXIT #buitenhof #quarantaine #CoronaVirusUpdates #coronalul #nieuwsuur #virus #terzaketv #Coronacrisis #covid #dwdd #Coronabelgie #kanker #deafspraak #Nexit #China #Amsterdam #scholensluiten #blijfinuwkot #FlattenTheCurve #AlleenSamen #Trump #LockdownHolland #pandemie #CoronaOutbreak #COVID #7dag #klimaat #Iran #FvD #CoronavirusPandemic #D66 #covid19be #CoronaUpdate #Brabant #coronavragen #Italie #Groningen #mondmaskers #Europa #eenvandaag #coronapocalypse #begov #KLM #zorgvoorelkaar #België #coronamaatregelen #covid19NL #vtmnieuws #nieuws #politie #coronavirusNL #Turkije #CoronavirusOutbreak #CoronaNederland #nexit #flattenthecurve #staysafe #Covid19NL #WHO #herdimmunity #Coronadebat #groningen #SamenTegenCorona #sluitdescholen #StayHome #toespraak #horeca #COVIDIOTS #CoronaLockdown #vvd #huisartsen #zzp #Bruins #klapcoronadewerelduit #klimaathysterie #alleensamen #GGD #solidariteit #Spanje #coronapocolypse #stayathome #CoronaVirusNL #zorghelden #thuisblijven #groepimmuniteit #blijfgezond #groenlinks #covid2019 #amsterdam #ouderen #Vindicat #NOS #CoronaNL #nosjournaal #Rotterdam #Griekenland #wcpapier #ondernemers #vindicat #Buitenhof #fvd #boeren #COVIDIOT #nederland #stopcorona #covid2019nl #stikstof #stayhome #DenHaag #Coronalied #nlalert #Schiphol #Rusland #Duitsland #lockdownnederland #grenzendicht #UAntwerpen #crisis #anderhalvemeter #toiletpapier #coronavirusBE #pvda #WNL\n",
      "202004 #coronavirus #corona #COVID19 #coronacrisis #Corona #CoronaCrisis #coronadebat #coronavirusNederland #coronanederland #coronamaatregelen #COVIDー19 #covid19 #blijfthuis #Coronavirusnl #Covid_19 #samentegencorona #COVID19NL #COVID2019 #RIVM #Rutte #Coronavirus #persconferentie #PVV #mondkapjes #FVD #CoronaApp #coronanl #lockdown #COVID2019NL #Covid19NL #Wilders #Covid19 #alleensamen #op1 #EU #dtv #samensterk #AlleenSamen #COVID19BE #Nieuwsuur #jinek #BlijfThuis #covid19nl #zorg #Op1 #Nederland #coronavirusnl #mondmaskers # #rivm #China #Coronacrisis #WHO #Trump #nieuwsuur #privacy #vrtnws #VVD #Jinek #deafspraak #blijfinuwkot #5G #ikblijfthuis #Eurobonds #covid19be #Rutte3 #stopdelockdown #coronavirusnederland #coronahulp #COVID #SOSMoria #onderwijs #appathon #thuiswerken #Baudet #D66 #rutte #terzaketv #houdafstand #covid #FvD #houvol #groepsimmuniteit #COVID19Belgium #klimaat #buitenhof #SamenTegenCorona #anderhalvemeter #CoronaVirus #COVID19Pandemic #coronavragen #StayHome #stikstof #klimaathysterie #ZondagMetLubach #België #blijfgezond #anderhalvemetersamenleving #staysafe #veiligheidsraad #eurobonds #quarantaine #KLM #Amsterdam #CoronaVirusUpdate #Pasen #testen #virus #telegraafpremium #vtmnieuws #economie #politie #nieuws #CoronavirusPandemic #CDA #goedemorgen #tweedekamer #CoronaLockdown #7dag #SocialDistancing #covid19Nederland #crisis #ouderen #Duitsland #Italië #blijfbinnen #Brussel #coronabonds #begov #COVID-19 #BeterNaCorona #nexit #ondernemers #covid_19 #mensenrechten #nosjournaal #NEXIT #StayAtHome #Op1npo #eenvandaag #Zembla #coronatijd #COVID19be #Koningsdag #VolgWyniasWeek #wnl #vvd #deochtend #pandemie #Groningen #coronaNL #WNL #wilders #OMT #app #horeca #stayhome #StaySafe #CoronaHoax #ouderenzorg #Rotterdam #medicijnen #FFP2 #coronadoden #koningsdag2020 #durftevragen #Spanje #5GCoronavirus #FD #fail #NWO #mondkapje #maatregelen #frontberichten #coronaapp #FFP3 #coronalul #coronajournaal #openheid #politiek #verpleeghuizen #HongKong #IC #klokkenluiders #nederland #coronaRotterdam #COVID19-uitbraak #Europa #zorgvoorelkaar #natuur #CoronaNederland #Alleensamen #112 #ramadan #gehandicaptenzorg #LockdownSA #paasweekend #HouVol #Nexit #DitIsM\n",
      "202005 #corona #coronavirus #COVID19 #Corona #coronacrisis #coronamaatregelen #CoronaCrisis #coronadebat #covid19 #Covid_19 #COVIDー19 #Coronavirusnl #Covid19NL #persconferentie #coronanederland #RIVM #coronavirusNederland #lockdown #Coronavirus #mondkapjes #Covid19 #samentegencorona #Rutte #stopdelockdown #Op1 #COVID__19 #FVD #AlleenSamen #anderhalvemetersamenleving #Wilders #PVV #Nederland # #Op1npo #EU #rivm #dtv #Nieuwsuur #anderhalvemeter #covid19nl #covid19be #COVID19NL #horeca #zorg #covid #op1 #coronavirusnl #blijfthuis #Trump #vrtnws #Hydroxychloroquine #alleensamen #COVID #China #WHO #BlijfThuis #mondkapje #versoepeling #Rutte3 #BidVoorHelden #4mei #mondmaskers #coronatijd #coronanl #deafspraak #coronavirusnederland #Coronacrisis #beau #VVD #onderwijs #rutte #hydroxychloroquine #vrijheid #buitenhof #privacy #samensterk #D66 #COVID2019NL #bevrijdingsdag #coronaproof #7dag #virus #HongKong #AfterCovid19 #klokkenluiders #CoronaVirus #terzaketv #vaccin #economie #StopDeLockdown #CoronaApp #klimaat #BeterNaCorona #politiek #KLM #nieuwsuur #LockdownSA #ondernemers #COVIDIOTS #FvD #Covid19SA #Nexit #5G #Lockdown #NWO #staysafe #SamenSterk #houdafstand #vermijddrukte #eenvandaag #coronavragen #NEXIT #nieuws #OM #België #thuiswerken #NOS #SamenTegenCorona #OMT #OV #WNL #belang #Hondenkattenhandel #Amsterdam #klimaathysterie #COVID2019 #DenHaag #moederdag #COVID-19 #Brussel #BillGates #jinek #1mei #politie #blijfgezond #scholenopen #NPO #YULIN #groepsimmuniteit #Dodenherdenking #biomassa #denhaag #nepnieuws #wnl #verpleeghuizen #schande #begov #Bevrijdingsdag #75jaarvrijheid #vaccinatie #Covid #pandemie #MSM #nosjournaal #CDA #testen #Beau #Rotterdam #Ramadan #scholendicht #cultuur #op1npo #cartoon #warmtepomp #Antwerpen #NL #media #durftevragen #luchtvaart #scholen #goedemorgen #vtmnieuws #veiligheidsraad #humor #ouderen #nexit #BREAKING #5mei #CoronavirusPandemic #EU-schulden #kapper #kinderen #coronaboete #coronahulp #COVID19be #uk #Onderwijs #crisis #Gates #webinar #Jensen #vvd #Vrijheid #ov #dagvandeverpleging #vakantie #Covid-19 #school #Virus #dictatuur\n",
      "202006 #corona #coronavirus #Corona #COVID19 #Halsema #coronamaatregelen #coronacrisis #coronadebat #Amsterdam #coronawet #covid19 #viruswaanzin #PVV #CoronaCrisis #Covid_19 #anderhalvemeter #Wilders #BlackLivesMatterNL #Rutte #Coronavirusnl #COVID19NL #Coronavirus #demonstratie #RIVM #Malieveld #halsema #Covid19 #FVD #blijfthuis #spoedwet #BlackLivesMatter # #Coronawet #COVIDー19 #Nieuwsuur #lockdown #covid19nl #zorg #coronanederland #Nederland #SocialDistancing #op1 #dtv #racisme #persconferentie #beau #corona-regels #Malieveld21juni #anderhalvemetersamenleving #HalsemaAftreden #AlleenSamen #coronavirusNederland #Op1 #samentegencorona #vrijheid #BLM #triest #COVID__19 #coronaise #Grapperhaus #esbeek #hugodejonge #mondkapjes #Spoedwet #FemkeHalsema #LiftTheTravelBan #LoveIsNotTourism #Loveisessential #horeca #DenHaag #luchtvaart #Rotterdam #amsterdam #kermisprotest #vaccin #rivm #stopdelockdown #malieveld #vrtnws #alleensamen #covid #rutte #EU #CDA #Coronacrisis #Op1npo #coronavirusnl #covid19be #Dam #VVD #5G #Hydroxychloroquine #politie #Antifa #coronaproof #coronaregels #KICKOUTRUTTE #coronanl #CoronaApp #virus #scholendicht #noodwet #nosjournaal #johanderksen #privacy #teamJohanDerksen #eenvandaag #deafspraak #Trump #politiek #Suriname #COVID #nieuwsuur #Covid-19 #coronatijd #BLMBelgium #NWO #klimaat #Covid19NL #mondmaskers #COVIDIOTS #KLM #Lockdown #teamvrijheid #COVID-19 #Brussel #zorgpersoneel #COVID2019NL #halsemagate #dejonge #onderwijs #burgemeester #coronahoax #nertsen #denhaag #ihoik #staycation #D66 #terzaketv #indenbak #ophetstrand #ikremvoorcorona #dam #WHO #Schiphol #dictatuur #JaapvanDissel #BlackLivesMatterNL-protesten #vakantie #mondkapje #Covid19SA #China #democratie #CoronaVirus #scholen #aftreden #BlackLivesMattters #HalsemaExit #scholenopen #ouderen #GGD #nosnieuws #FvD #LockdownSA #samensterk #NOS #NoExamsInCovid #Groenlinks #frontberichten #BillGates #Koning #HugodeJonge #vvd #AllLivesMatter #besmettingen #WNL #economie #malieveld28juni #coronatest #rechtsgeluid #LivesMatter #Beau #Flikker #anderhalvemeterdictatuur #StemZeWeg #NPO #Rutte3 #thuiswerken #16Juin2020 #Erasmusbrug #nieuws #pvda #kickoutrutte #KOZP #blm #rotterdam #durftevragen #verpleeghuizen #vliegen #7dag\n",
      "202007 #coronavirus #corona #COVID19 #Corona #coronamaatregelen #covid19 #coronacrisis #COVID19NL #RIVM #Rutte #viruswaanzin #Covid_19 #COVIDー19 #CoronaCrisis #Covid19 #mondkapjes #COVID__19 # #Coronavirus #Nieuwsuur #lockdown #HugoDeJonge #covid19nl #dtv #EU #coronawet #anderhalvemeter #spoedwet #Antwerpen #Coronavirusnl #covid #AlleenSamen #samentegencorona #mondkapje #mondmaskers #Nederland #WHO #Op1 #vrtnws #Hydroxychloroquine #mondkapjesplicht #Coronawet #PVV #boerenprotest #hugodejonge #coronavirusnl #veiligheidsraad #staysafe #Wilders #rivm #Op1npo #BillGates #Covid-19 #klimaat #StemZeWeg #pandemie #tweedegolf #coronacommissie #Gommers #CoronaApp #zorg #vaccin #CoronaMelder #vrijheid #vakantie #covid19be #CoronaVirus #Trump #terzaketv #HongKong #op1 #DeJonge #VVD #COVID19be #boeren #BLM #EUtop #peiling #COVID #nexit #anderhalvemeterdictatuur #BigPharma #nertsen #COVID-19 #virus #NEXIT #mondmasker #noodwet #coronatest #persconferentie #stopcorona #MSM #Vrijheid #Schiphol #OMT #Amsterdam #rutte #coronanederland #eurotop #boerenprotesten #coronavragen #besmettingen #CDA #coronaproof #BlackLivesMatter #CDA-lijsttrekker #asielzoekers #luchtvaart #België #NoordKorea #coronanl #WWG1WGA #coronahoax #Covid19NL #blijfthuis #coronavaccin #Covidioten #testen #horeca #HCQ #GiletsJaunes #media #scholendicht #DontTurnPrisonsIntoGraveyard #poll #COVID_19 #Lockdown #VanRanst #economie #alleensamen #avondklok #nosjournaal #politie #BREAKING #CDAdebat #offerfeest #spoedWET #Offerfeest #machtsgreep #COVID19BE #Netherlands #COVID19-pandemie #Mondkapjes #politiek #Coronacrisis #COVIDIOTS #eenvandaag #Macron #vvd #transferunie #anderhalvemetersamenleving #corona-uitbraak #Rutte3 #Beau #corona-besmettingen #herstelfonds #Covid #beau #SamenTegenCorona #RTLNieuws #SARSCoV2 #vtmnieuws #coronavirusNederland #racisme #EUCO #veto #gezondheid #KICKOUTRUTTE #nieuws #nieuwsuur #racistisch #begov #NWO #dieprespect #Politie #Rotterdam #RACISME #coronabeleid #Belgie #D66 #Brexit #stikstof #CoronaVirusHoax #USA #stopdelockdown #FVD #solidariteit #stemzeweg #kinderen #EU-landen #thuiswerken #telegraafpremium #SocialDistancing #coronawaanzin #quarantaine #niettegeloven #KLM #StilleLente #Vaccin #scholen\n",
      "202008 #corona #coronadebat #coronavirus #coronamaatregelen #Corona #COVID19 #COVID19NL #Covid_19 #persconferentie #Wilders #Grapperhaus #covid19 #coronacrisis #RIVM #viruswaanzin #CoronaCrisis #CoronaMelder #Rutte #covid19nl #coronawet #Coronavirusnl #spoedwet #GeenDorHout #Covid19 #hugodejonge # #Nederland #PVV2021 #Coronavirus #mondkapjes #anderhalvemeter #mondkapjesplicht #PVV #nexit #covid #lockdown #COVID__19 #AlleenSamen #Amsterdam #Berlin2908 #zorg #CDA #COVIDー19 #dtv #Coronaregels #FVD #coronahoax #scholenveilig #viruswaarheid #Rutte3 #Covidioten #EU #samentegencorona #Rotterdam #coronanederland #mondkapje #StemZeWeg #horeca #zorgmedewerkers #Malieveld #schande #Berlijn #coronavirusnl #Coronacrisis #Nieuwsuur #coronaregels #GGD #rivm #zorgpersoneel #GrapperhausCoronaGate #Op1 #zorghelden #virus #VVD #politie #noodwet #mondmaskers #coronatest #coronamelder #pandemie #nederland #Covid-19 #rutte #Hydroxychloroquine #scholen #WakeUp #vaccin #coronaboete #bruiloft #Schiphol #Spoedwet #FerdGrapperhaus #HugodeJongeKanNiks #vrtnws #coronanl #Coronadebat #LinkedIn #privacy #BerlinDemo #vrijheid #op1 #quarantaine #alleensamen #COVIDIOTS #OMT #ContainmentNu #Coronademo #coronaproof #stopdespoedwet #COVID #onderwijs #huisartsen #artsen #berlijn #nosjournaal #nertsen #CoronaApp #ventilatie #dictatuur #malieveld #denhaag #tweedekamer #hittegolf #MauricedeHond #nederlanders #teststraat #COVID_19 #geendorhout #wilders #coronawaanzin #WHO #DenHaag #Coronawet #codeoranje #vvd #wilders2021 #D66 #𝗭𝗮𝗮𝗻𝘀𝘁𝗮𝗱 #Op1npo #coronavirusNederland #testen #Spanje #Covid19NL #COVID-19 #coronabeleid #eenvandaag #GerechtigheidVoorBas #belastinggeld #telegraafpremium #ggd #Covid #Transferunie #WWG1WGA #nederlandsnieuws #Antwerpen #TK2021 #peiling #Netherlands #held #SPOEDWET #Halsema #VRIJHEID #Berlin #covid19be #Lockdown #besmettingen #tweedegolf #volksmanipulatie #Mondkapjes #stopdelockdown #MSM #HCQW0RKS #economie #terzaketv #poll #CovidHoax #londonprotest #politiek #SARSCoV2 #NWO #SpoedwetNee #Beiroet #bronencontactonderzoek #klimaat #kabinet #Beirut #hoax #NEDERLAND #willemengel #groepsimmuniteit #grapperhaus #vakantie #defensie #grondwet #coroNEE #nieuws #Onderwijs #EenVandaag #coronaisfakenews #Coronamaatregelen\n",
      "202009 #corona #coronadebat #coronamaatregelen #COVID19 #Corona #coronavirus #FVD #Grapperhaus #persconferentie #COVID19NL #ikdoenietmeermee #Covid_19 #covid19 #mondkapjes #coronacrisis #ikdoewelmee #Rutte #coronaregels #RIVM #PVV #coronawet #covid19nl #CoronaCrisis #Wilders #Covid19 #spoedwet #coronatest #COVIDー19 #PCRgate #Spoedwet #dtv #AlleenSamen #covid # #Nederland #jinek #mondkapje #Coronavirus #tweedegolf #Baudet #scholenveilig #COVID__19 #avondklok #Nieuwsuur #coronavaccin #lockdown #anderhalvemeter #coronatesten #hugodejonge #mondkapjesplicht #ikdoenietmee #peiling #grapperhaus #coronavirusnl #Op1 #virus #GrapperhausCoronaGate #samentegencorona #noodwet #rutte #zorg #kabinet #coronaproof #vaccin #aftreden #Rutte3 #PCR #nederland #FamkeLouise #horeca #Amsterdam #Coronavirusnl #rivm #viruswaanzin #coronanl #op1 #EU #nexit #Jinek #BreekDeGolf #coronahoax #Pfizer #GGD #APB2020 #LongCovid #nietmijnregering #Rotterdam #vrtnws #testen #alleensamen #Grapperhausaftreden #COVID #StemZeWeg #stopdespoedwet #PCRGATE #CoronaMelder #onderwijs #HydroxyChloroquine #thuiswerken #Covid #FvD #CDA #maatregelen #coronabeleid #ZondagMetLubach #PCRtest #viruswaarheid #persco #NWO #politiek #poll #WHO #Moria #Nijmegen #Covidioten #gewoonjebekhouden #deafspraak #prinsjesdag2020 #ContainmentNu #Coronadebat #Op1npo #coronaboete #Akwasi #pandemie #scholen #coronanederland #OMT #ZML #nosjournaal #nieuwsuur #quarantaine #nederlandsnieuws #hugodejongekanniks #besmettingen #guestpost #coronaboetes #poppenkast #grapperhausdebat #VVD #Trump #Tilburg #veiligheidsraad #politie #Lockdown2 #peilingen #NOS #tweedekamer #mondkappennou #Duitsland #wnlopzondag #SpoedwetNee #longcovid #DenHaag #voetbal #nieuws #HCQ #ferdgrapperhaus #dictatuur #zorgpersoneel #telegraafpremium #op1npo #buitenhof #Ikdoenietmeermee #Prinsjesdag #HugodeJongeKanNiks #hoax #Netherlands #Albert #Monaco #COVID_19 #TweedeKamer #wijdoenwelmee #SARSCoV2 #vrijheid #grappenhaus #Coronawet #deochtend #terzaketv #ggd #privacy #stopwillemengel #economie #zondagmetlubach #covid19be #Vaccin #ikdoeooknietmeermee #eenvandaag #herstelfonds #Onderwijs #kinderen #COVIDIOTS #luchtvaart #groningen #coronamelder-app #Coronastaatsgreep #fail #FVD-leider #Corona-regels #Coronamaatregelen #COVID-19\n",
      "202010 #coronamaatregelen #corona #COVID19 #Corona #coronavirus #coronadebat #COVID19NL #FVD #lockdown #persconferentie #spoedwet #covid19 #Covid_19 #coronawet #mondkapjes #Wilders #covid19nl #Rutte #PVV #COVID__19 #coronacrisis #horeca #coronaregels #Covid19 #CoronaMelder #CoronaCrisis #dtv #Spoedwet #AlleenSamen #RIVM #covid #samentegencorona #Trump #zorg #Coronapandemie #PCRGATE #PCRgate #mondkapje #mondkapjesplicht # #deafspraak #jinek #blijfthuis #scholendicht #Lockdown2 #Nederland #vrtnws #Staphorst #Nieuwsuur #Op1 #coronavirusnl #peiling #COVID #virus #rutte #avondklok #op1 #TrumpHasCovid #vaccin #zorgpersoneel #scholenveilig #Coronavirus #Rutte3 #COVIDIOTS #Coronavirusnl #coronavragen #ikdoenietmeermee #COVIDー19 #routekaart #coronanl #Jinek #wilders #rivm #coronatest #terzaketv #COVID19be #Covid #BREAKING #hydroxychloroquine #Coronadebat #hugodejonge #tweedegolf #mondkapjesadvies #onderwijs #coronaproof #scholen #alleensamen #nietmijnregering #noodwet #PCRtest #maatregelen #WHO #DenHaag #Brussel #horecadicht #vtmnieuws #LongCovid #coronahoax #veerkracht #covid19be #groepsimmuniteit #pandemie #begov #Coronalert #Coronamaatregelen #vierdagenextra #Griekenland #StaySafe #anderhalvemeter #TK2021 #7dag #coronamelder #NWO #Covidioten #TrumpCovid #CoronaApp #D66 #Amsterdam #OMT #dictatuur #mondmaskers #koningshuis #StemZeWeg #Op1npo #deochtend #democratie #VVD #EersteKamer #nosjournaal #denhaag #GERRITSEN #besmettingen #hydroxycholoroquine #poll #EU #hoax #vakantie #coronalert #islam #persco #coronamadness #coronatesten #hugodejongekanniks #WWG1WGA #thuiswerken #ikdoewelmee #viruswaarheid #coronabeleid #Zorgsalaris #peilingen #tweedekamer #WillemAlexander #Demmink #Verzet #NOS #nederland #trump #Remdesivir #Lockdown #Rotterdam #events #SamenTegenCorona #media #nieuws #viruswaanzin #briefing #kabinet #vvem #TweedeKamer #coronabesmettingen #OpenData #Aboutaleb #stopdelockdown #FvD #fail #Coronawet #nieuwsuur #ZondagMetLubach #Onderwijs #voetbal #Baudet #buitenhof #China #klimaat #wijdoenmee #coronanederland #Netherlands #vvd #ikdoenietmee #covid19NL #quarantaine #veiligheidsraad #alcoholverbod #koning #mondkappennou #PCR #eenzamejongeren #sluitnoutochdescholen #WelkomInDystopia #vrt\n",
      "202011 #coronamaatregelen #corona #COVID19 #coronavirus #Corona #COVID19NL #coronadebat #covid19nl #FVD #persconferentie #PCRgate #covid19 #coronavaccin #coronacrisis #mondkapjesplicht #Covid_19 #lockdown #ditismijnzorg #PVV #vaccinatieplicht #mondkapjes #vaccin #Wilders #Rutte #Covid19 #vaccinatie #AlleenSamen #covid #PCRtest #Vaccin #samentegencorona #dtv #RIVM #VVD #mondkapje #blijfthuis #CoronaCrisis #spoedwet #zorg # #coronavirusnl #virus #avondklok #Vaccinatie #Trump #Nederland #horeca #scholenveilig #vrtnws #tweedekamer #Nieuwsuur #EU #coronaproof #COVID #vuurwerkverbod #coronawet #nertsen #COVIDー19 #vrijheid #pandemie #coronatest #rutte #peiling #LongCovid #OMT #coronanl #7dag #Coronavirus #scholendicht #FvD #politie #D66 #Verzet #NWO #COVIDIOTS #alleensamen #hugodejonge #WEF #WHO #Pfizer #coronahoax #BlackFriday #Coronavirusnl #coronascam #jinek #maatregelen #deafspraak #PCRGATE #TK2021 #op1 #dictatuur #terzaketv #informeer #Elections2020 #Op1 #Lockdown2 #onderwijs #TheGreatReset #thuiswerken #rivm #Baudet #nietmijnregering #Rutte3 #CoronaMelder #Rotterdam #COVID1984 #Covidioten #scholen #Sinterklaas #Covid #coronaregels #kerst #Brussel #coronatijd #pcrtest #anderhalvemeter #Biden #ikdoenietmeermee #vuurwerk #SamenTegenCorona #COVID19be #nieuws #beau #vaccineren #toeslagenaffaire #OpenData #Jinek #Mondkapjes #Agenda2030 #coronazwendel #begov #wezijnjulliespuugzat #Coronapandemie #StemZeWeg #ikvaccineer #klimaat #overheid #Amsterdam #KLM #laatjeniettesten #durftevragen #covid19be #media #besmettingen #MSM #CDA #poll #fvd #StopCovid #ZeroCovid #PCR #vvd #demonstratie #persco #Coronamaatregelen #coronadictatuur #fitness #KOZP #verkiezingen #ikvaccineerniet #blijfgezond #telegraafpremium #deochtend #gezondheid #vivaldi #DitIsM #bpoc2020 #VeiligOnderwijs #testen #NEPcoronacrisis #nosjournaal #vtmnieuws #patenten #fakenews #groningen #Spoedwet #koopzondag #iklaatmeniettesten #Vivaldi #StaySafe #coronabesmettingen #covid19NL #economie #255 #hoax #downtheroad #viruswaanzin #DenHaag #quarantaine #kinderen #peilingen #privacy #samensterk #luchtvaart #horecadicht #Denemarken #ondernemers #kabinet #proximusepic #GGD\n",
      "202012 #coronamaatregelen #corona #coronavirus #COVID19 #Corona #lockdown #FVD #coronadebat #coronavaccin #COVID19NL #persconferentie #Rutte #covid19nl #Covid_19 #covid19 #mondkapjesplicht #coronacrisis #vaccin #Covid19 #horeca #Vaccinatie #coronabeleid #CoronaCrisis #vaccinatieplicht #AlleenSamen #Lockdownnl #covid #vaccinatie #toespraakrutte #Vaccin #VVD #PVV #mondkapjes #blijfthuis #avondklok #dtv #kerst #zorg #RIVM #mondkapje #CodeZwart #toeslagenaffaire #vaccineren #rutte #hugodejongekanniks #Nederland #PCRGATE #TheGreatReset #hugodejonge #virus #PCRtest # #Nieuwsuur #ikdoenietmeermee #LongCovid #coronahoax #samentegencorona #vaccinatiestrategie #CDA #D66 #codezwart #coronatest #COVIDー19 #Wilders #Covid #vaccinatiebewijs #StemZeWeg #Schiphol #COVID #CatshuisOverleg #peiling #OMT #coronazwendel #Rutte3 #vaccins #op1 #spoedwet #coronavirusnl #StemNederlandTerug #mutatie #vrijheid #persco #Lockdown #Coronavirus #tweedekamer #EU #Pfizer #Coronabeleid #coronavragen #maatregelen #coronaproof #lockdownnl #vaccinatiedebat #poll #vrtnws #beau #VeiligOnderwijs #FvD #besmettingen #Covidioten #scholen #PCRgate #viruswaanzin #arrogant #oudennieuw #kerstmis #rivm #alleensamen #politie #wappies #Op1 #coronapaspoort #peilingen #volksgezondheid #torentje #nosjournaal #Kerst #kabinet #CoronaVaccine #Lockdown2 #kerst2020 #covid19be #onderwijs #coronacircus #MinistryOfTruth #ZeroCovid #coronanl #gezondheid #pandemie #coronawet #HugodeJonge #Coronamaatregelen #Covid-19 #schiphol #CU #scholenveilig #GreatReset #WEF #BREAKING #Brexit #luchtvaart #Beau #CovidVaccine #covid1984 #7dag #vvd #AbOsterhaus #overheid #Influenza #fail #eenvandaag #Corona-besmettingen #thuiswerken #deafspraak #WHO #toespraak #Hydroxychloroquine #hoax #KerstZonderPiek #nieuwsuur #terzaketv #Pandemie #vuurwerkverbod #bezuinigingen #TK2021 #GGD #schandalig #feestdagen #Coronavirusnl #groepsimmuniteit #Avondklok #femkehalsema #Gommers #SARSCoV2 #brexit #StaySafe #Covid1984 #Coronacrisis #COVID-19 #griep #coronawaanzin #vaccindwang #kinderen #nieuws #dictatuur #anderhalvemeter #Demmink #Spoedwet #deochtend #Corona-virus #Amsterdam #DeJonge #IC #OudEnNieuw #ikvaccineer #scholendicht #BlijfThuis #buitenhof #COVID1984 #BigPharma\n"
     ]
    }
   ],
   "source": [
    "for month in \"202003 202004 202005 202006 202007 202008 202009 202010 202011 202012\".split():\n",
    "    hashtags = process_month(month)\n",
    "    save_hashtags(hashtags, month)"
   ]
  },
  {
   "cell_type": "code",
   "execution_count": 10,
   "metadata": {},
   "outputs": [
    {
     "name": "stdout",
     "output_type": "stream",
     "text": [
      "202105 #coronamaatregelen #coronavirus #COVID19 #corona #coronavaccin #Corona #coronapaspoort #COVID19NL #covid19nl #testsamenleving #vaccinatiepaspoort #vaccinatie #covid19 #Vaccinatie #covid #coronadebat #FVD #testmaatschappij #coronavaccinatie #ikweiger #Ivermectine #Covid_19 #vaccineren #vaccin #Covid19 #LongCovid #lockdown #vaccinatieplicht #dtv #testbewijzen #coronahoax #coronacrisis #vaccinaties #persconferentie #RIVM #versoepelingen # #Covid #Rutte #stopdelockdown #Baudet #mondkapjes #vrijheid #CoronaCrisis #Eurovision #nederland #klaarmetRutte #COVID #Nieuwsuur #londonprotest #vaccins #hugodejongekanniks #volksgezondheid #testwet #AstraZeneca #plandemie #Wilders #Wuhan #WuhanLab #Pfizer #IkPrikHetNiet #debat #zorg #India #nederlands #mondkapjesplicht #nederlandsnews #WHO #fvd #peilingen #peiling #politiegeweld #rutte #WEF #OMT #wappie #vanangstnaarvertrouwen #ZeroCovid #vaccinatiebewijs #TeHoog #hugodejonge #worldwidefreedomrally #aerosolen #EU #PVV #bevrijdingsdag #longcovid #ikdoenietmeermee #wappies #fucktheNWO #gentherapie #vaccinatiestrategie #covid1948 #avondklok #AlleenSamen #nosjournaal #Trump #vanranst #geleboekje #testbewijzendebat #politie #kinderen #ikvaccineer #nieuws #bpoc2020 #nieuwsuur #Ajax #FreePalestine #poll #toeslagenaffaire #Beau #coronawet #onderwijs #boek #Amsterdam #4mei #jurgenconings #coronabeleid #Kaag #beau #CoronaVaccine #Coronavirus #koningsdag #giro555 #ikprikhetniet #groepsimmuniteit #coronavaccins #GMO #ivermectine #coronacijfers #realitycheck #coronatest #rivm #Nederland #horeca #codezwart #LongCovidKids #besmettingen #HugodeJonge #viruswaarheid #CDA #vrtnws #laboum2 #ikwildieprik #7dag #covidpaspoort #mondkapje #privacy #QRcode #D66 #Barneveld #FvD #Bevrijdingsdag #complot #deafspraak #DEBAT #terzaketv #stopwillemengel #voorspellingen #eenvandaag #PoliceForFreedom #op1 #vaccinated #pandemie #baudet #Rotterdam #Vaccin #virus #1mei #Coronamaatregelen #infectieziekte #GGD #Op1 #coronazwendel #Giro555 #Hamas #ME #prullenbakvaccin #museumplein #Biden #telegraafextra #NPO #Malieveld #5mei #dictatuur #tweedekamer #nieuwsinperspectief #Hydroxychloroquine #telegraafpremium #Texas #thegreatreset #ventilatie #PCRtest #scholenveilig #IC #TheGreatReset #BREAKING #Followback #maatregelen #coronaprik\n",
      "202106 #coronavirus #coronamaatregelen #COVID19 #corona #coronavaccinatie #coronadebat #Corona #FVD #covid19nl #VoorWeinigCovid #COVID19NL #vaccinatie #Vaccinatie #mondkapjesplicht #Covid19 #vaccin #covid19 #coronapaspoort #coronavaccin #vaccineren #CoronaCheckApp #DeltaVariant #WuhanLabLeak #Ivermectine #versoepelingen #LongCovid #coronacheckapp #persconferentie #covid #mondkapjes #LabLeakTheory #FauciEmails #RIVM #coronacrisis #Wilders #vaccinatiebewijs #FauciLiedPeopleDied #vaccinaties #lockdown #Rutte #PVV #Covid_19 #Pfizer #CoronaCrisis #Nieuwsuur #nederland #mondkapje #peiling #persco #coronahoax #CoronaCheck #Fauci #nederlands #nederlandsnews #Covid #peilingen #COVID #dtv #wappies #BlijfVanOnzeKinderenAf #sywertvanlienden #volksgezondheid # #vanangstnaarvertrouwen #mRNA #nietgevaccineerdenclub #AstraZeneca #longcovid #OMT #vaccins #AlleenSamen #vrijheid #HugodeJonge #testsamenleving #D66 #klaarmetRutte #WuhanLab #testenvoortoegang #vaccinatiepaspoort #Vaccin #EU #CoronaVaccinatie #hugodejonge #nieuwsinperspectief #Koning #coronavaccins #Kaag #vaccinated #ikwildieprik #thegreatreset #Wuhan #coronabeleid #TestenvoorToegang #Nederland #MarionKoopmans #SARSCoV2 #Followback #boek #ivermectine #Moderna #Duitsland #stopdelockdown #opznkop #NooitMeerLockdown #WHO #vaccinatieplicht #Coronadebat #coronawet #zorg #nosjournaal #TheGreatReset #vakantie #IkPrikNiet #BuildBackBetter #TweedeKamer #hugodejongekanniks #anderhalvemeterfetisj #VVD #ANWB #persconferenties #IkPrikHetNiet #ZeroCovid #WEF #kinderen #coronazwendel #Sywert #rutte #censuur #Janssen #plandemie #Coronavirus #ChristianDrosten #IC #janssen #nieuws #ikvaccineer #overheid #ikweiger #deltavariant #HCQ #Op1 #VrijheidIsNietOnderhandelbaar #immigranten #vaccinatiepas #Trump #antistoffen #vrtnws #VaccinatieSchade #politiegeweld #myocarditis #Eriksen #InformeerJeOverJePrik #dictatuur #onderwijs #antilichamen #spoedwet #HydroxyChloroquine #BIJ1 #gevaccineerd #pandemie #VOLT #MSM #nos #vrijheidvooreenprikkie #Neurenberg2 #FvD #Janssen-vaccin #HugoDeJonge #BigPharma #FauciLeaks #maatregelen #buitenhof #Merkel #Covid19NL #politiek #bijwerkingen #LongCovidKids #Hongarije #nieuwsuur #FVD-Kamerlid #buildbackbetter #nieuwsvoorziening #gentherapie #Science #petitie #pfizer #rivm #Rotterdam #bewaartweet #Folllowback #GGD #geleboekje #ikprikwel #klausschwab #poll #griep #Lareb #telegraafpremium #goedemorgen #EK\n",
      "202107 #coronamaatregelen #coronadebat #coronavirus #COVID19 #corona #coronavaccinatie #Corona #vaccinatieplicht #FVD #COVID19NL #Vaccinatie #NooitMeerLockdown #persconferentie #covid19nl #vaccinatie #VoorWeinigCovid #LongCovid #covid19 #BVNL #hugodejongekanniks #Rutte #prikpooier #Astatus #coronavaccin #Covid19 #hugodejonge #covid #DeltaVariant #coronahoax #Covid_19 #Frankrijk #coronabesmettingen #rutte #BelangVanNederland #vaccinaties #klaarmetRutte #dtv #vaccin #RIVM #Nieuwsuur #besmettingen #IkPrikNiet #vaccineren #Coronamaatregelen #ongevaccineerden #TestenvoorToegang #fvd #lockdown #Covid #wappies #Pfizer #WuhanLabLeak #volksgezondheid #CoronaCrisis #coronacheckapp #CoronaVaccinatie #bpoc2020 #debat #OMT #nieuweverkiezingen #BlijfVanOnzeKinderenAf #migratie #longcovid #VaccinatieSchade #coronacrisis #toeslagenaffaire #DansenMetJanssen #PfizerLeak #nieuwsinperspectief #PVV #peiling #vakantie #coronapaspoort # #Hugodejongemoetweg #omtzigt #zelfnadenken #vrijheid #woningnood #vaccins #testsamenleving #peilingen #Griekenland #peterrdevries #TK #coronabeleid #ikprikwel #Op1 #RutteMoetWeg #baudet #Wilders #PCR #gideonvanmeijeren #persco #schwab #COVID #WEF #wappie #Coronadebat #deltavariant #nieuws #Ebola #ventilatie #Humberto #DeJonge #horeca #PCRtest #mondkapjes #Macron #Malta #jongeren #AlleenSamen #Followback #versoepelingen #vaccinatiebewijs #media #ZeroCovid #vaccinatiedwang #tweedekamer #Nederland #op1 #EU #Delta #vaccinated #BigPharma #mRNA #CoronaCheck #MedischeApartheid #Op1npo #mondkapje #vaccinatiepaspoort #testenvoorjereis #nosjournaal #mondkapjesplicht #lableak #ivermectine #AstraZeneca #KlausSchwab #ikprikniet #FVD-Kamerleden #BuildBackBetter #plandemie #coronazwendel #Coronavirus #pandemie #dezevariantiseenbitch #covidgeenAstatus #frankrijk #boek #rivm #MarionKoopmans #zorg #GreatReset #coronadictatuur #covidAstatus #VVD #gevaccineerd #VaccinatiePlicht #Vaccin #formatie #Sywert #Ivermectine #testen #covid19zwendel #olympischespelen #rechtszaak #coronapas #demonstratie #vaccinatieschade #politiegeweld #TestenVoorToegang #verplichtevaccinatie #pfizer #nieuwsuur #GGD #TheGreatReset #coronatest #Malieveld #stopmettesten #CoronaMaatregelen #Paris #kabinet #Janssen #testenvoortoegang #Amsterdam #NederlandisKapot #VWS #14Juillet #nooitmeerlockdown #klaarmetrutte #mnra #Nena #CoronaHoax #kinderen #medischeapartheid #WHO #gevaccineerden #VaccinatieHoax #grafeenoxide #astatus\n",
      "202108 #coronavirus #coronamaatregelen #vaccinatieplicht #COVID19 #coronabeleid #corona #vaccinatiedwang #coronadebat #Corona #coronavaccinatie #covid19nl #vaccinatie #CoronaBeleid #vaccinaties #COVID19NL #Covid_19 #NooitMeerLockdown #VaccinatieSchade #persconferentie #covid #Vaccinatie #VoorWeinigCovid #BVNL #Corona_Origin_Untold_Secret #Covid19 #medischeapartheid #coronavaccin #covid19 #FVD #vaccin #prikspijt #vrijheid #prikpooier #BelangVanNederland #LongCovid #COVID #VaccinatiePlicht #WEF #coronapaspoort #Rutte #TestenvoorToegang #VaccinatieDwang #coronacrisis #vaccinatiepaspoort #wappies #UnmuteUs #hugodejonge #Wilders #lockdown #coronapas #volksgezondheid #vaccineren #Pfizer #dtv #vaccins #opznkop #klaarmetRutte #ongevaccineerden #Covid #hugodejongekanniks #RIVM #bijwerkingen #rutte #gevaccineerden #TheGreatReset #thegreatreset #NoVaccinePassports #CoronaHoax #BPOC2020 #peiling #stopdewaanzin #coronahoax #peilingen # #gevaccineerd #DeltaVariant #Lareb #apartheid #Vaccinaties #pcrtest #kutland #verzet #D66 #PassSanitaire #Agenda2030 #apartheidspas #Kaag #vaccinschade #mondkapjes #burgerlijkeongehoorzaamheid #vaccinatiedrang #covid19zwendel #Coronadebat #CoronaCrisis #Amsterdam #vaccinatieschade #GiletJaunes #Apartheid #gevaccineerde #coronacheckapp #OMT #Vaccinatiepaspoort #demissionair #ivermectine #Duitsland #festivals #VaccinatieHoax #Afghanistan #Frankrijk #telegraafpremium #coronatoegangsbewijs #VeiligOnderwijs #FvD #frankrijk #longcovid #persco #Nieuwsuur #kinderen #kabinet #onlycovidcounts #Ivermectine #antivaxxers #Nederland #greenpass #klausschwab #zorg #horeca #nieuwsinperspectief #scholenveilig #LongCovidKids #op1 #overheid #hugodejongemoetweg #coronazwendel #CoronaVaccinatie #ScholenVeilig #politie #knettergek #Zandvoort #30 #klimaatverandering #nooitmeerlockdown #BigPharma #Vaccin #mondkapjesplicht #Totalitarisme #kutrabobank #Gommers #NOW #klimaat #F1 #coronavaccins #COVIDIOTS #coronacritici #vrtnws #onderwijs #AlleenSamen #boek #besmettingen #PCRtest #waanzin #Discriminatie #ongrondwettelijk #VVD #poll #Berlin #NOS #intensivecare #ZeroCovid #Op1 #Humberto #Berlijn #coronapaspoorten #IkPrikNiet #prik #wef #covid19be #Festivals #ongevaccineerde #Coronavirus #klimaatcrisis #introductieweken #testenvoortoegang #EU #genocide #vaccinatiespijt #voetbalstadions #kaag #bpoc2020 #eenvandaag #versoepelingen #NWO #formatie #Moderna #vaccination #wetenschap #dictatuur #Gevaccineerde #NoVaccinePassportsAnywhere #Denemarken\n",
      "202109 #coronapas #coronamaatregelen #coronadebat #coronapaspoort #vaccinatiedwang #coronatoegangsbewijs #coronavirus #medischeapartheid #persconferentie #QRCode #corona #FVD #COVID19 #Corona #vaccinatieplicht #HugoDeQRankzinnige #QRsamenleving #horeca #coronabeleid #ikweiger #apartheidspas #BVNL #Rutte #monakeizer #5septemberAmsterdam #covid19nl #DeTeringMetDeRegering #Coronapas #NooitMeerLockdown #Covid_19 #vrijheid #vaccinatie #QRcode #jinek #COVID19NL #ikdoenietmeermee #Amsterdam #VaccinatieSchade #Wilders #Zandvoort #D66 #rutte #discriminatie #wakuwaku #BelangVanNederland #hugodejonge #VVD #coronavaccinatie #nieuweverkiezingen #TestenvoorToegang #coronacheckapp #COVID #covid19 #AllesOpen #DutchGP #covid #vaccinatiepaspoort #ZonderVoorwaarden #TeamBartMaes #WAKUWAKU #LongCovid #StopQR #Kaag #vaccinatiebewijs #gevaccineerden #CDA #WEF #Vaccinatie #DDoS #vragenuurtje #toeslagenaffaire #VoorWeinigCovid #dtv #Covid19 #RIVM #wappies #vaccin #demonstratie #CoronaPas # #klaarmetRutte #vaccineren #UnmuteUs #ongevaccineerden #BuildBackBetter #politiek #apartheid #tweedeling #Keijzer #CoronaCheck #HugodeJonge #Afghanistandebat #VrijheidIsNietOnderhandelbaar #boeren #qrcode #waanzin #TheGreatReset #prikpooier #hugodejongekanniks #nieuwsinperspectief #coronaprotest #OMT #fvd #kabinet #tweedekamer #lockdown #Nieuwsuur #ZandvoortF1 #monakeijzer #Prinsjesdag #peilingen #Coronadebat #WakuWaku #onwettelijk #dictatuur #coronavaccin #peiling #onteigening #NoVaccinePassportsAnywhere #algemenebeschouwingen #coronacrisis #volksgezondheid #persco #hypocriet #MedischeApartheid #theater #SDGs #Kerkrade #MonaKeijzer #zorginfarct #apb21 #onteigenen #CoronaMaatregelen #nooitmeerlockdown #F1 #StopPolarisatie #kaag #uitsluiting #Omtzigt #coronahoax #PassSanitaire #VaccinePassports #op1 #baudet #longcovid #Apartheid #maatregelen #griep #Utrecht #coronadictatuur #Op1 #PvdA #Halsema #FvD #teambartmaes #groenlinks #PVV #nieuwsuur #stopdecoronaidiotie #kortgedingcoronapas #WeLevenNietInChina #QR-code #gehoorzaamheidspas #zandvoort #Baudet #5september #vrijekeuze #zorg #nosjournaal #discriminatiepas #Horeca #vaccinaties #Ivermectine #Hugo #Griep #GeenCoronapas #covid19zwendel #gevaccineerd #ivermectine #formatie #IC #Nederlander #vaccinatieschade #DenHaag #Op1npo #Nederland #7dag #geenvaccinatieplicht #Jinek #Rutte3 #Coronamaatregelen #Covid #VeiligOnderwijs #frankrijk #NazisRaus #LongCovidKids #QRoegentocht #stopcoronapas #COVIDIOTS #troonrede\n",
      "202110 #coronapas #coronamaatregelen #coronavirus #vaccinatiedwang #corona #COVID19 #Corona #persconferentie #QRcode #Coronapas #vaccinatieplicht #coronatoegangsbewijs #coronapaspoort #QRsamenleving #ongevaccineerden #covid19nl #QRCode #BVNL #VaccinatieSchade #3oktoberAmsterdam #COVID19NL #hugodejonge #FVD #zorginfarct #jinek #Covid_19 #CoronaPas #covid19 #covid #HugoDeQRankzinnige #apartheidspas #vaccinatie #Rutte #CoronaMaatregelen #vaccin #vaccinaties #coronabeleid #QRterreur #CoronaToegangsbewijs #griepprik #Covid19 #vaccinatiepaspoort #OMT #Jinek #NoVaccinePassportsAnywhere #medischeapartheid #prikpooier #lockdown #Nieuwsuur #qrcode #gevaccineerd #NooitMeerLockdown #coronavaccinatie #oversterfte #Gommers #TheGreatReset #horeca #persco #Vaccinatie #RIVM #LongCovid #Covid #terugvolgvrijdag #gevaccineerden #klaarmetRutte #QR #wappies #Hugo #VoorWeinigCovid #ikweiger #GeenQR #nieuwsinperspectief #rugrecht #discriminatie #Coronamaatregelen #nietmijnregering #bruls #qrankzinnig #COVID # #eenvandaag #vaccineren #Ivermectine #VaccinatiePlicht #zorg #Biblebelt #WEF #vrijheid #Pfizer #coronacrisis #vaccinatieschade #IkPrikNiet #nosjournaal #BelangVanNederland #nieuwsuur #Prikpooier #Op1npo #italië #toeslagenaffaire #Op1 #rutte #ZorgInfarct #dtv #ongevaccineerd #griep #Roma #nieuweverkiezingen #wappie #BuildBackBetter #Isala #wijzijnmetveelmeer #Italië #Italy #Bruls #buitenhof #op1 #zelfnadenken #thegreatreset #HugodeQRankzinnige #TestenVoorToegang #avondklok #volksgezondheid #groepsimmuniteit #mondkapjesplicht #GreatReset #Censuur #coronacheckapp #framing #WHORichtlijnen #ikdoenietmeermee #SocialCreditSystem #SociaalKredietSysteem #besmettingen #HaatHugo #BigPharma #NOS #apartheid #Nederland #uitsluiting #peiling #tweedeling #KNMG #galg #peilingen #retorischevraag #CovidSafeTicket #KlaarmetRutte #longcovid #coronavaccin #mondkapjes #klimaat #verzet #Amsterdam #vrtnws #greenpass #Kuipers #myocarditis #Staphorst #coronavaccins #coronahoax #BPOC2020 #demonstratie #WHO #dorhout #vaccins #Rutte3 #gevaccineerde #ICbedden #cda #AllesOpen #overlegcomite #demo #vaccinatiegraad #VrijheidIsNietOnderhandelbaar #Coronapaspoort #EU #7dag #QRankzinnig #CoronaDictatuur #qrsamenleving #InspectieGezondheidszorg #rivm #d66 #fvd #vvd #kortgedingcoronapas #NoGreenPass #LinkedIn #ikprikhetniet #baudet #omt #HugoDeJonge #pvv #tweedekamer #linkedin #formatie2021 #GeenCoronapas #coronopas #Vaccinatiedwang #vaccinatieDwang\n"
     ]
    }
   ],
   "source": [
    "for month in \"202105 202106 202107 202108 202109 202110\".split():\n",
    "    process_month(month)"
   ]
  },
  {
   "cell_type": "code",
   "execution_count": 11,
   "metadata": {},
   "outputs": [
    {
     "name": "stdout",
     "output_type": "stream",
     "text": [
      "202105 #maatjegezocht #eenzamejongeren #vrijheid #walgelijk #keeponmoving #durftevragen #eenzaamheid #dodenherdenking #hemels #Walgelijk #geile #kanker #bloomforjulie #mondkapje #rouw #AstraZeneca #Eurovision #liefde # #KunstvanhetSamenleven #Citaten #poems #poetry #Vaccinatie #mondneusmasker #faceshield #Jurgen #brommeropzee #eenzaam #wevergetenbekeniet #brabantmaatjes #corona #Arnhem #Baudet #GoVegan #nieuweburen #buuf #nieuwhuis #wereldibddag #breakthesilence #crohn #colitis #kiplekker #Janssen #Bedankt #WaarisWaldy #nieuwsenco #kutkaag #LonelyFans #moederdag #deugonderwijs #ikvaccineerniet #ikvaccineer #deverraders #Pfizer #zelf #bewonersinitiatief #buurthuis #ABCD #deochtend #leeftijdsdiscriminatie #Grondwet #esf21 #jurgenconings #NowPlaying #Corona #COVID19 #fvd #vaccinatiepaspoort #TolkenTerugInDeZorg #Stichting #songfestival #wandelenmetIddo #Eurovision2021 #samentegeneenzaamheid #vraaghetonzewetenschappers #vandaag #Vites #alleenwinsttelt #Mottenzedan #goedemorgen #NPO2 #Eenzaamheid #stigmatisering #burnout #ZieMij #twittelier #kijkersstaking #anderetijdenmoetblijven #natuur #team #VerGeetOnsNietHugo #VAR #KNVB #feyaja #Kamphuis #pannenkoek #alleenmaarliefde #persconferentie #ikdoenietmeermee #zeist #DeGraafschap #lldl #LongCovid #vaccinatie #EUROVISION #BroekinWaterland #Ictloketnoordkade #snelleleerling #92jaar #nooitteoudomteleren #zinvollestage #huiszoeking #BDSM #opsluiten #onderdanig #dominant #meesteres #geldslaaf #findom #femdom #findomslave #klaarmetRutte #coronamaatregelen #lonely #gezondverstand #fuckingnitwits #tonychocolonely #Rutte #vvvvenlo #ikhoopdathetgeholpenheeft #aandachttrekkenissowiesogelukt #ingeborgvraagt #Oegstgeest #ajaemm #35 #wiestaaterboven #thuiszitter #thuiswerkcultuur #anderhalvemetersamenleving #alleensamen #ramadan #coronatijd #solidariteit #ADA #VET #Bevrijdingsdag2021 #5mei #zorgvoorelkaar #wewillriseup #schildklier #man #ZwarteMuisjes #Nederland #kunstcultuurenentertainment #kunstenentertainment #onlythelonely #thuis #april21 #Eiland #Hebriden #eiland #overleving #EU #Europa #ClubCleven #justanothercommercialday #dtv #Tweedekamer #toeslagenaffaire #Werkgeluk #GelukkigLeiderschap #versoepelingstijden #spaces #vanHaga #fascistendekameruit #LangLeveDeLiefde #Covid_19 #100jaareenzaamheid #alleen #baudetmoetweg #creatief #eentegeneenzaamheid #sterkewijken #Songfestival #eenzaakvoorjou #feyutr #baudet #vluggertje #eurovision #wonen #Knarrenhof #omziennaarelkaar #rugzalvolervaringen #Joinus #Lldl #jurgenConing #verdriet #rijangst #jennygierveld\n"
     ]
    }
   ],
   "source": [
    "for month in \"202105\".split():\n",
    "    tweets = [re.sub(r'\\\\n', ' ', tweet) for tweet in get_tweets(month, LONELY_QUERY, query2=IK_QUERY, spy=False)]\n",
    "    hashtags = {}\n",
    "    for tweet in tweets:\n",
    "        if re.search(r'#', tweet):\n",
    "            for hashtag in get_hashtags(tweet):\n",
    "                if hashtag in hashtags:\n",
    "                    hashtags[hashtag] += 1\n",
    "                else:\n",
    "                    hashtags[hashtag] = 1\n",
    "    print(month, \" \".join([hashtag for hashtag in sorted(hashtags.keys(), key=lambda hashtag:hashtags[hashtag], reverse=True)][:200]))"
   ]
  },
  {
   "cell_type": "code",
   "execution_count": 20,
   "metadata": {},
   "outputs": [
    {
     "name": "stdout",
     "output_type": "stream",
     "text": [
      "202002 #coronavirus #corona #Coronavirus #COVID19 #coronavragen #Corona #COVID2019 #COVIDー19 #coronavirusNederland #CoronavirusOutbreak #virus #covid19 #RIVM #China #Coronavirius #FVD #Iran #CoronaVirus #Wuhan #EU #Covid_19 #ncov #COVID #patiënt #schengen #coronavirusus #Tilburg #Covid19 #Coronavius #CoronaVirusUpdates #Nederland #Italie #rivm #covid #dtv #PVV #Italië #china #Nieuwsuur #wuhan #WHO #sarscov2 #jinek #vrtnws #CoronaOutbreak #quarantaine #op1 #handenwassen #nieuws #coronavavirus #dwdd #Jinek #Erdogan #tilburg #coronaviruschina #coronarovirus #coronacrisis #boeren #nepnieuws #nieuwsuur #SARSCoV2 # #GGD #GoogleAlerts #griep #fakenews #COVID_19 #COVID19NL #Coronarivus #opengrenzen #terzaketv #Schengengrenscode #stikstofcrisis #Coronavid19 #waarschuwing #WhatsApp #nepbericht #telegraafpremium #nos #NOS #WuhanVirus #Baudet #coronavrees #Op1 #corona-virus #Rusland #NWO #Europa #vragen #FvD #Diemen #nosjournaal #antwoorden #F1 #vtmnieuws #Westerdam #coronavirus-besmetting #AEX #coronacoalitie #mondkapjes #carnaval #Bilderberg #Amsterdam #covid2019 #BNR #media #ggd #eenvandaag #kozp #coronauitbraak #CORONA #nederland #WNL #ncov2019 #Schiphol #pandemie #coronvirus #2019nCoV #coronarvirus #RodeKruis #coronavirusnederland #COVID-19 #coronaviruswuhan #globalisering #DWDD #Tenerife #D66 #delft #racisme #deafspraak #COVD19 #songfestival #Limburg #breaking #wuhanvirus #CoronaVirusitaly #Covid #FokSuk #SARS_CoV_2 #UAETour #Blok #Jankenomzwartepiet #Breaking #Wuhanvirus #Rutte #CORONAVIRUS #wnl #hypocriet #Trump #buitenhof #België #beurs #islamisering #islam #stikstof #economie #Chinezen #overheid #paniek #KLM #ChinaVirus #italie #zorg #Coronavirusnl #Beleggen #Duitsland #Update #FakeNews #besmet #npo1 #besmetting #diemen #babbeltruc #COVID19italia #covid-19 #Vilvoorde #RETWEET #Belgium #Coronavragen #Covid19-infectie #Japan #huisarts #coronarvirusitalia #Rotterdam #FD #politie #preventie #regering #nCoV2019 #Covid19Virus #NEXIT #nexit #kinderrechten #thuisquarantaine #onderwijs #Soros #AlgemeenNieuws #VVD #mondkapje #technews\n",
      "202003 #coronavirus #corona #COVID19 #coronavirusNederland #Corona #coronanederland #Coronavirusnl #COVID19NL #coronadebat #CoronaCrisis #Covid_19 #coronacrisis #COVIDー19 #Coronavirus #COVID2019NL #covid19 #COVID2019 #lockdown #RIVM #coronahulp #PVV #blijfthuis #Rutte #covid19Nederland #samentegencorona #FVD #EU #COVID19BE #Wilders #coronanl #hamsteren #rivm #coronavirusnl #Covid19 #SocialDistancing #scholendicht #coronalied #dtv #coronavirusnetherlands #zorg #op1 #lockdownnl #Nieuwsuur #coronavirusnederland #covid19nl #COVID-19 #groepsimmuniteit #Nederland #persconferentie #Coronavid19 #samensterk #houdafstand # #thuiswerken #ikblijfthuis #CoronaVirusUpdate #Baudet #Coronalul #Op1 #CoronaVirus #StayAtHome #CoronaPandemie #jinek #applausvoordezorg #SocialDistance #Jinek #Rutte3 #mondkapjes #rutte #onderwijs #COVID19Belgium #vrtnws #VVD #Italië #covid_19 #blijfbinnen #NEXIT #buitenhof #quarantaine #CoronaVirusUpdates #coronalul #nieuwsuur #virus #terzaketv #Coronacrisis #covid #dwdd #Coronabelgie #kanker #deafspraak #Nexit #China #Amsterdam #scholensluiten #blijfinuwkot #FlattenTheCurve #AlleenSamen #Trump #LockdownHolland #pandemie #CoronaOutbreak #COVID #7dag #klimaat #Iran #FvD #CoronavirusPandemic #D66 #covid19be #CoronaUpdate #Brabant #coronavragen #Italie #Groningen #mondmaskers #Europa #eenvandaag #coronapocalypse #begov #KLM #zorgvoorelkaar #België #coronamaatregelen #covid19NL #vtmnieuws #nieuws #politie #coronavirusNL #Turkije #CoronavirusOutbreak #CoronaNederland #nexit #flattenthecurve #staysafe #Covid19NL #WHO #herdimmunity #Coronadebat #groningen #SamenTegenCorona #sluitdescholen #StayHome #toespraak #horeca #COVIDIOTS #CoronaLockdown #vvd #huisartsen #zzp #Bruins #klapcoronadewerelduit #klimaathysterie #alleensamen #GGD #solidariteit #Spanje #coronapocolypse #stayathome #CoronaVirusNL #zorghelden #thuisblijven #groepimmuniteit #blijfgezond #groenlinks #covid2019 #amsterdam #ouderen #Vindicat #NOS #CoronaNL #nosjournaal #Rotterdam #Griekenland #wcpapier #ondernemers #vindicat #Buitenhof #fvd #boeren #COVIDIOT #nederland #stopcorona #covid2019nl #stikstof #stayhome #DenHaag #Coronalied #nlalert #Schiphol #Rusland #Duitsland #lockdownnederland #grenzendicht #UAntwerpen #crisis #anderhalvemeter #toiletpapier #coronavirusBE #pvda #WNL\n",
      "202004 #coronavirus #corona #COVID19 #coronacrisis #Corona #CoronaCrisis #coronadebat #coronavirusNederland #coronanederland #coronamaatregelen #COVIDー19 #covid19 #blijfthuis #Coronavirusnl #Covid_19 #samentegencorona #COVID19NL #COVID2019 #RIVM #Rutte #Coronavirus #persconferentie #PVV #mondkapjes #FVD #CoronaApp #coronanl #lockdown #COVID2019NL #Covid19NL #Wilders #Covid19 #alleensamen #op1 #EU #dtv #samensterk #AlleenSamen #COVID19BE #Nieuwsuur #jinek #BlijfThuis #covid19nl #zorg #Op1 #Nederland #coronavirusnl #mondmaskers # #rivm #China #Coronacrisis #WHO #Trump #nieuwsuur #privacy #vrtnws #VVD #Jinek #deafspraak #blijfinuwkot #5G #ikblijfthuis #Eurobonds #covid19be #Rutte3 #stopdelockdown #coronavirusnederland #coronahulp #COVID #SOSMoria #onderwijs #appathon #thuiswerken #Baudet #D66 #rutte #terzaketv #houdafstand #covid #FvD #houvol #groepsimmuniteit #COVID19Belgium #klimaat #buitenhof #SamenTegenCorona #anderhalvemeter #CoronaVirus #COVID19Pandemic #coronavragen #StayHome #stikstof #klimaathysterie #ZondagMetLubach #België #blijfgezond #anderhalvemetersamenleving #staysafe #veiligheidsraad #eurobonds #quarantaine #KLM #Amsterdam #CoronaVirusUpdate #Pasen #testen #virus #telegraafpremium #vtmnieuws #economie #politie #nieuws #CoronavirusPandemic #CDA #goedemorgen #tweedekamer #CoronaLockdown #7dag #SocialDistancing #covid19Nederland #crisis #ouderen #Duitsland #Italië #blijfbinnen #Brussel #coronabonds #begov #COVID-19 #BeterNaCorona #nexit #ondernemers #covid_19 #mensenrechten #nosjournaal #NEXIT #StayAtHome #Op1npo #eenvandaag #Zembla #coronatijd #COVID19be #Koningsdag #VolgWyniasWeek #wnl #vvd #deochtend #pandemie #Groningen #coronaNL #WNL #wilders #OMT #app #horeca #stayhome #StaySafe #CoronaHoax #ouderenzorg #Rotterdam #medicijnen #FFP2 #coronadoden #koningsdag2020 #durftevragen #Spanje #5GCoronavirus #FD #fail #NWO #mondkapje #maatregelen #frontberichten #coronaapp #FFP3 #coronalul #coronajournaal #openheid #politiek #verpleeghuizen #HongKong #IC #klokkenluiders #nederland #coronaRotterdam #COVID19-uitbraak #Europa #zorgvoorelkaar #natuur #CoronaNederland #Alleensamen #112 #ramadan #gehandicaptenzorg #LockdownSA #paasweekend #HouVol #Nexit #DitIsM\n",
      "202005 #corona #coronavirus #COVID19 #Corona #coronacrisis #coronamaatregelen #CoronaCrisis #coronadebat #covid19 #Covid_19 #COVIDー19 #Coronavirusnl #Covid19NL #persconferentie #coronanederland #RIVM #coronavirusNederland #lockdown #Coronavirus #mondkapjes #Covid19 #samentegencorona #Rutte #stopdelockdown #Op1 #COVID__19 #FVD #AlleenSamen #anderhalvemetersamenleving #Wilders #PVV #Nederland # #Op1npo #EU #rivm #dtv #Nieuwsuur #anderhalvemeter #covid19nl #covid19be #COVID19NL #horeca #zorg #covid #op1 #coronavirusnl #blijfthuis #Trump #vrtnws #Hydroxychloroquine #alleensamen #COVID #China #WHO #BlijfThuis #mondkapje #versoepeling #Rutte3 #BidVoorHelden #4mei #mondmaskers #coronatijd #coronanl #deafspraak #coronavirusnederland #Coronacrisis #beau #VVD #onderwijs #rutte #hydroxychloroquine #vrijheid #buitenhof #privacy #samensterk #D66 #COVID2019NL #bevrijdingsdag #coronaproof #7dag #virus #HongKong #AfterCovid19 #klokkenluiders #CoronaVirus #terzaketv #vaccin #economie #StopDeLockdown #CoronaApp #klimaat #BeterNaCorona #politiek #KLM #nieuwsuur #LockdownSA #ondernemers #COVIDIOTS #FvD #Covid19SA #Nexit #5G #Lockdown #NWO #staysafe #SamenSterk #houdafstand #vermijddrukte #eenvandaag #coronavragen #NEXIT #nieuws #OM #België #thuiswerken #NOS #SamenTegenCorona #OMT #OV #WNL #belang #Hondenkattenhandel #Amsterdam #klimaathysterie #COVID2019 #DenHaag #moederdag #COVID-19 #Brussel #BillGates #jinek #1mei #politie #blijfgezond #scholenopen #NPO #YULIN #groepsimmuniteit #Dodenherdenking #biomassa #denhaag #nepnieuws #wnl #verpleeghuizen #schande #begov #Bevrijdingsdag #75jaarvrijheid #vaccinatie #Covid #pandemie #MSM #nosjournaal #CDA #testen #Beau #Rotterdam #Ramadan #scholendicht #cultuur #op1npo #cartoon #warmtepomp #Antwerpen #NL #media #durftevragen #luchtvaart #scholen #goedemorgen #vtmnieuws #veiligheidsraad #humor #ouderen #nexit #BREAKING #5mei #CoronavirusPandemic #EU-schulden #kapper #kinderen #coronaboete #coronahulp #COVID19be #uk #Onderwijs #crisis #Gates #webinar #Jensen #vvd #Vrijheid #ov #dagvandeverpleging #vakantie #Covid-19 #school #Virus #dictatuur\n",
      "202006 #corona #coronavirus #Corona #COVID19 #Halsema #coronamaatregelen #coronacrisis #coronadebat #Amsterdam #coronawet #covid19 #viruswaanzin #PVV #CoronaCrisis #Covid_19 #anderhalvemeter #Wilders #BlackLivesMatterNL #Rutte #Coronavirusnl #COVID19NL #Coronavirus #demonstratie #RIVM #Malieveld #halsema #Covid19 #FVD #blijfthuis #spoedwet #BlackLivesMatter # #Coronawet #COVIDー19 #Nieuwsuur #lockdown #covid19nl #zorg #coronanederland #Nederland #SocialDistancing #op1 #dtv #racisme #persconferentie #beau #corona-regels #Malieveld21juni #anderhalvemetersamenleving #HalsemaAftreden #AlleenSamen #coronavirusNederland #Op1 #samentegencorona #vrijheid #BLM #triest #COVID__19 #coronaise #Grapperhaus #esbeek #hugodejonge #mondkapjes #Spoedwet #FemkeHalsema #LiftTheTravelBan #LoveIsNotTourism #Loveisessential #horeca #DenHaag #luchtvaart #Rotterdam #amsterdam #kermisprotest #vaccin #rivm #stopdelockdown #malieveld #vrtnws #alleensamen #covid #rutte #EU #CDA #Coronacrisis #Op1npo #coronavirusnl #covid19be #Dam #VVD #5G #Hydroxychloroquine #politie #Antifa #coronaproof #coronaregels #KICKOUTRUTTE #coronanl #CoronaApp #virus #scholendicht #noodwet #nosjournaal #johanderksen #privacy #teamJohanDerksen #eenvandaag #deafspraak #Trump #politiek #Suriname #COVID #nieuwsuur #Covid-19 #coronatijd #BLMBelgium #NWO #klimaat #Covid19NL #mondmaskers #COVIDIOTS #KLM #Lockdown #teamvrijheid #COVID-19 #Brussel #zorgpersoneel #COVID2019NL #halsemagate #dejonge #onderwijs #burgemeester #coronahoax #nertsen #denhaag #ihoik #staycation #D66 #terzaketv #indenbak #ophetstrand #ikremvoorcorona #dam #WHO #Schiphol #dictatuur #JaapvanDissel #BlackLivesMatterNL-protesten #vakantie #mondkapje #Covid19SA #China #democratie #CoronaVirus #scholen #aftreden #BlackLivesMattters #HalsemaExit #scholenopen #ouderen #GGD #nosnieuws #FvD #LockdownSA #samensterk #NOS #NoExamsInCovid #Groenlinks #frontberichten #BillGates #Koning #HugodeJonge #vvd #AllLivesMatter #besmettingen #WNL #economie #malieveld28juni #coronatest #rechtsgeluid #LivesMatter #Beau #Flikker #anderhalvemeterdictatuur #StemZeWeg #NPO #Rutte3 #thuiswerken #16Juin2020 #Erasmusbrug #nieuws #pvda #kickoutrutte #KOZP #blm #rotterdam #durftevragen #verpleeghuizen #vliegen #7dag\n",
      "202007 #coronavirus #corona #COVID19 #Corona #coronamaatregelen #covid19 #coronacrisis #COVID19NL #RIVM #Rutte #viruswaanzin #Covid_19 #COVIDー19 #CoronaCrisis #Covid19 #mondkapjes #COVID__19 # #Coronavirus #Nieuwsuur #lockdown #HugoDeJonge #covid19nl #dtv #EU #coronawet #anderhalvemeter #spoedwet #Antwerpen #Coronavirusnl #covid #AlleenSamen #samentegencorona #mondkapje #mondmaskers #Nederland #WHO #Op1 #vrtnws #Hydroxychloroquine #mondkapjesplicht #Coronawet #PVV #boerenprotest #hugodejonge #coronavirusnl #veiligheidsraad #staysafe #Wilders #rivm #Op1npo #BillGates #Covid-19 #klimaat #StemZeWeg #pandemie #tweedegolf #coronacommissie #Gommers #CoronaApp #zorg #vaccin #CoronaMelder #vrijheid #vakantie #covid19be #CoronaVirus #Trump #terzaketv #HongKong #op1 #DeJonge #VVD #COVID19be #boeren #BLM #EUtop #peiling #COVID #nexit #anderhalvemeterdictatuur #BigPharma #nertsen #COVID-19 #virus #NEXIT #mondmasker #noodwet #coronatest #persconferentie #stopcorona #MSM #Vrijheid #Schiphol #OMT #Amsterdam #rutte #coronanederland #eurotop #boerenprotesten #coronavragen #besmettingen #CDA #coronaproof #BlackLivesMatter #CDA-lijsttrekker #asielzoekers #luchtvaart #België #NoordKorea #coronanl #WWG1WGA #coronahoax #Covid19NL #blijfthuis #coronavaccin #Covidioten #testen #horeca #HCQ #GiletsJaunes #media #scholendicht #DontTurnPrisonsIntoGraveyard #poll #COVID_19 #Lockdown #VanRanst #economie #alleensamen #avondklok #nosjournaal #politie #BREAKING #CDAdebat #offerfeest #spoedWET #Offerfeest #machtsgreep #COVID19BE #Netherlands #COVID19-pandemie #Mondkapjes #politiek #Coronacrisis #COVIDIOTS #eenvandaag #Macron #vvd #transferunie #anderhalvemetersamenleving #corona-uitbraak #Rutte3 #Beau #corona-besmettingen #herstelfonds #Covid #beau #SamenTegenCorona #RTLNieuws #SARSCoV2 #vtmnieuws #coronavirusNederland #racisme #EUCO #veto #gezondheid #KICKOUTRUTTE #nieuws #nieuwsuur #racistisch #begov #NWO #dieprespect #Politie #Rotterdam #RACISME #coronabeleid #Belgie #D66 #Brexit #stikstof #CoronaVirusHoax #USA #stopdelockdown #FVD #solidariteit #stemzeweg #kinderen #EU-landen #thuiswerken #telegraafpremium #SocialDistancing #coronawaanzin #quarantaine #niettegeloven #KLM #StilleLente #Vaccin #scholen\n",
      "202008 #corona #coronadebat #coronavirus #coronamaatregelen #Corona #COVID19 #COVID19NL #Covid_19 #persconferentie #Wilders #Grapperhaus #covid19 #coronacrisis #RIVM #viruswaanzin #CoronaCrisis #CoronaMelder #Rutte #covid19nl #coronawet #Coronavirusnl #spoedwet #GeenDorHout #Covid19 #hugodejonge # #Nederland #PVV2021 #Coronavirus #mondkapjes #anderhalvemeter #mondkapjesplicht #PVV #nexit #covid #lockdown #COVID__19 #AlleenSamen #Amsterdam #Berlin2908 #zorg #CDA #COVIDー19 #dtv #Coronaregels #FVD #coronahoax #scholenveilig #viruswaarheid #Rutte3 #Covidioten #EU #samentegencorona #Rotterdam #coronanederland #mondkapje #StemZeWeg #horeca #zorgmedewerkers #Malieveld #schande #Berlijn #coronavirusnl #Coronacrisis #Nieuwsuur #coronaregels #GGD #rivm #zorgpersoneel #GrapperhausCoronaGate #Op1 #zorghelden #virus #VVD #politie #noodwet #mondmaskers #coronatest #coronamelder #pandemie #nederland #Covid-19 #rutte #Hydroxychloroquine #scholen #WakeUp #vaccin #coronaboete #bruiloft #Schiphol #Spoedwet #FerdGrapperhaus #HugodeJongeKanNiks #vrtnws #coronanl #Coronadebat #LinkedIn #privacy #BerlinDemo #vrijheid #op1 #quarantaine #alleensamen #COVIDIOTS #OMT #ContainmentNu #Coronademo #coronaproof #stopdespoedwet #COVID #onderwijs #huisartsen #artsen #berlijn #nosjournaal #nertsen #CoronaApp #ventilatie #dictatuur #malieveld #denhaag #tweedekamer #hittegolf #MauricedeHond #nederlanders #teststraat #COVID_19 #geendorhout #wilders #coronawaanzin #WHO #DenHaag #Coronawet #codeoranje #vvd #wilders2021 #D66 #𝗭𝗮𝗮𝗻𝘀𝘁𝗮𝗱 #Op1npo #coronavirusNederland #testen #Spanje #Covid19NL #COVID-19 #coronabeleid #eenvandaag #GerechtigheidVoorBas #belastinggeld #telegraafpremium #ggd #Covid #Transferunie #WWG1WGA #nederlandsnieuws #Antwerpen #TK2021 #peiling #Netherlands #held #SPOEDWET #Halsema #VRIJHEID #Berlin #covid19be #Lockdown #besmettingen #tweedegolf #volksmanipulatie #Mondkapjes #stopdelockdown #MSM #HCQW0RKS #economie #terzaketv #poll #CovidHoax #londonprotest #politiek #SARSCoV2 #NWO #SpoedwetNee #Beiroet #bronencontactonderzoek #klimaat #kabinet #Beirut #hoax #NEDERLAND #willemengel #groepsimmuniteit #grapperhaus #vakantie #defensie #grondwet #coroNEE #nieuws #Onderwijs #EenVandaag #coronaisfakenews #Coronamaatregelen\n",
      "202009 #corona #coronadebat #coronamaatregelen #COVID19 #Corona #coronavirus #FVD #Grapperhaus #persconferentie #COVID19NL #ikdoenietmeermee #Covid_19 #covid19 #mondkapjes #coronacrisis #ikdoewelmee #Rutte #coronaregels #RIVM #PVV #coronawet #covid19nl #CoronaCrisis #Wilders #Covid19 #spoedwet #coronatest #COVIDー19 #PCRgate #Spoedwet #dtv #AlleenSamen #covid # #Nederland #jinek #mondkapje #Coronavirus #tweedegolf #Baudet #scholenveilig #COVID__19 #avondklok #Nieuwsuur #coronavaccin #lockdown #anderhalvemeter #coronatesten #hugodejonge #mondkapjesplicht #ikdoenietmee #peiling #grapperhaus #coronavirusnl #Op1 #virus #GrapperhausCoronaGate #samentegencorona #noodwet #rutte #zorg #kabinet #coronaproof #vaccin #aftreden #Rutte3 #PCR #nederland #FamkeLouise #horeca #Amsterdam #Coronavirusnl #rivm #viruswaanzin #coronanl #op1 #EU #nexit #Jinek #BreekDeGolf #coronahoax #Pfizer #GGD #APB2020 #LongCovid #nietmijnregering #Rotterdam #vrtnws #testen #alleensamen #Grapperhausaftreden #COVID #StemZeWeg #stopdespoedwet #PCRGATE #CoronaMelder #onderwijs #HydroxyChloroquine #thuiswerken #Covid #FvD #CDA #maatregelen #coronabeleid #ZondagMetLubach #PCRtest #viruswaarheid #persco #NWO #politiek #poll #WHO #Moria #Nijmegen #Covidioten #gewoonjebekhouden #deafspraak #prinsjesdag2020 #ContainmentNu #Coronadebat #Op1npo #coronaboete #Akwasi #pandemie #scholen #coronanederland #OMT #ZML #nosjournaal #nieuwsuur #quarantaine #nederlandsnieuws #hugodejongekanniks #besmettingen #guestpost #coronaboetes #poppenkast #grapperhausdebat #VVD #Trump #Tilburg #veiligheidsraad #politie #Lockdown2 #peilingen #NOS #tweedekamer #mondkappennou #Duitsland #wnlopzondag #SpoedwetNee #longcovid #DenHaag #voetbal #nieuws #HCQ #ferdgrapperhaus #dictatuur #zorgpersoneel #telegraafpremium #op1npo #buitenhof #Ikdoenietmeermee #Prinsjesdag #HugodeJongeKanNiks #hoax #Netherlands #Albert #Monaco #COVID_19 #TweedeKamer #wijdoenwelmee #SARSCoV2 #vrijheid #grappenhaus #Coronawet #deochtend #terzaketv #ggd #privacy #stopwillemengel #economie #zondagmetlubach #covid19be #Vaccin #ikdoeooknietmeermee #eenvandaag #herstelfonds #Onderwijs #kinderen #COVIDIOTS #luchtvaart #groningen #coronamelder-app #Coronastaatsgreep #fail #FVD-leider #Corona-regels #Coronamaatregelen #COVID-19\n",
      "202010 #coronamaatregelen #corona #COVID19 #Corona #coronavirus #coronadebat #COVID19NL #FVD #lockdown #persconferentie #spoedwet #covid19 #Covid_19 #coronawet #mondkapjes #Wilders #covid19nl #Rutte #PVV #COVID__19 #coronacrisis #horeca #coronaregels #Covid19 #CoronaMelder #CoronaCrisis #dtv #Spoedwet #AlleenSamen #RIVM #covid #samentegencorona #Trump #zorg #Coronapandemie #PCRGATE #PCRgate #mondkapje #mondkapjesplicht # #deafspraak #jinek #blijfthuis #scholendicht #Lockdown2 #Nederland #vrtnws #Staphorst #Nieuwsuur #Op1 #coronavirusnl #peiling #COVID #virus #rutte #avondklok #op1 #TrumpHasCovid #vaccin #zorgpersoneel #scholenveilig #Coronavirus #Rutte3 #COVIDIOTS #Coronavirusnl #coronavragen #ikdoenietmeermee #COVIDー19 #routekaart #coronanl #Jinek #wilders #rivm #coronatest #terzaketv #COVID19be #Covid #BREAKING #hydroxychloroquine #Coronadebat #hugodejonge #tweedegolf #mondkapjesadvies #onderwijs #coronaproof #scholen #alleensamen #nietmijnregering #noodwet #PCRtest #maatregelen #WHO #DenHaag #Brussel #horecadicht #vtmnieuws #LongCovid #coronahoax #veerkracht #covid19be #groepsimmuniteit #pandemie #begov #Coronalert #Coronamaatregelen #vierdagenextra #Griekenland #StaySafe #anderhalvemeter #TK2021 #7dag #coronamelder #NWO #Covidioten #TrumpCovid #CoronaApp #D66 #Amsterdam #OMT #dictatuur #mondmaskers #koningshuis #StemZeWeg #Op1npo #deochtend #democratie #VVD #EersteKamer #nosjournaal #denhaag #GERRITSEN #besmettingen #hydroxycholoroquine #poll #EU #hoax #vakantie #coronalert #islam #persco #coronamadness #coronatesten #hugodejongekanniks #WWG1WGA #thuiswerken #ikdoewelmee #viruswaarheid #coronabeleid #Zorgsalaris #peilingen #tweedekamer #WillemAlexander #Demmink #Verzet #NOS #nederland #trump #Remdesivir #Lockdown #Rotterdam #events #SamenTegenCorona #media #nieuws #viruswaanzin #briefing #kabinet #vvem #TweedeKamer #coronabesmettingen #OpenData #Aboutaleb #stopdelockdown #FvD #fail #Coronawet #nieuwsuur #ZondagMetLubach #Onderwijs #voetbal #Baudet #buitenhof #China #klimaat #wijdoenmee #coronanederland #Netherlands #vvd #ikdoenietmee #covid19NL #quarantaine #veiligheidsraad #alcoholverbod #koning #mondkappennou #PCR #eenzamejongeren #sluitnoutochdescholen #WelkomInDystopia #vrt\n",
      "202011 #coronamaatregelen #corona #COVID19 #coronavirus #Corona #COVID19NL #coronadebat #covid19nl #FVD #persconferentie #PCRgate #covid19 #coronavaccin #coronacrisis #mondkapjesplicht #Covid_19 #lockdown #ditismijnzorg #PVV #vaccinatieplicht #mondkapjes #vaccin #Wilders #Rutte #Covid19 #vaccinatie #AlleenSamen #covid #PCRtest #Vaccin #samentegencorona #dtv #RIVM #VVD #mondkapje #blijfthuis #CoronaCrisis #spoedwet #zorg # #coronavirusnl #virus #avondklok #Vaccinatie #Trump #Nederland #horeca #scholenveilig #vrtnws #tweedekamer #Nieuwsuur #EU #coronaproof #COVID #vuurwerkverbod #coronawet #nertsen #COVIDー19 #vrijheid #pandemie #coronatest #rutte #peiling #LongCovid #OMT #coronanl #7dag #Coronavirus #scholendicht #FvD #politie #D66 #Verzet #NWO #COVIDIOTS #alleensamen #hugodejonge #WEF #WHO #Pfizer #coronahoax #BlackFriday #Coronavirusnl #coronascam #jinek #maatregelen #deafspraak #PCRGATE #TK2021 #op1 #dictatuur #terzaketv #informeer #Elections2020 #Op1 #Lockdown2 #onderwijs #TheGreatReset #thuiswerken #rivm #Baudet #nietmijnregering #Rutte3 #CoronaMelder #Rotterdam #COVID1984 #Covidioten #scholen #Sinterklaas #Covid #coronaregels #kerst #Brussel #coronatijd #pcrtest #anderhalvemeter #Biden #ikdoenietmeermee #vuurwerk #SamenTegenCorona #COVID19be #nieuws #beau #vaccineren #toeslagenaffaire #OpenData #Jinek #Mondkapjes #Agenda2030 #coronazwendel #begov #wezijnjulliespuugzat #Coronapandemie #StemZeWeg #ikvaccineer #klimaat #overheid #Amsterdam #KLM #laatjeniettesten #durftevragen #covid19be #media #besmettingen #MSM #CDA #poll #fvd #StopCovid #ZeroCovid #PCR #vvd #demonstratie #persco #Coronamaatregelen #coronadictatuur #fitness #KOZP #verkiezingen #ikvaccineerniet #blijfgezond #telegraafpremium #deochtend #gezondheid #vivaldi #DitIsM #bpoc2020 #VeiligOnderwijs #testen #NEPcoronacrisis #nosjournaal #vtmnieuws #patenten #fakenews #groningen #Spoedwet #koopzondag #iklaatmeniettesten #Vivaldi #StaySafe #coronabesmettingen #covid19NL #economie #255 #hoax #downtheroad #viruswaanzin #DenHaag #quarantaine #kinderen #peilingen #privacy #samensterk #luchtvaart #horecadicht #Denemarken #ondernemers #kabinet #proximusepic #GGD\n",
      "202012 #coronamaatregelen #corona #coronavirus #COVID19 #Corona #lockdown #FVD #coronadebat #coronavaccin #COVID19NL #persconferentie #Rutte #covid19nl #Covid_19 #covid19 #mondkapjesplicht #coronacrisis #vaccin #Covid19 #horeca #Vaccinatie #coronabeleid #CoronaCrisis #vaccinatieplicht #AlleenSamen #Lockdownnl #covid #vaccinatie #toespraakrutte #Vaccin #VVD #PVV #mondkapjes #blijfthuis #avondklok #dtv #kerst #zorg #RIVM #mondkapje #CodeZwart #toeslagenaffaire #vaccineren #rutte #hugodejongekanniks #Nederland #PCRGATE #TheGreatReset #hugodejonge #virus #PCRtest # #Nieuwsuur #ikdoenietmeermee #LongCovid #coronahoax #samentegencorona #vaccinatiestrategie #CDA #D66 #codezwart #coronatest #COVIDー19 #Wilders #Covid #vaccinatiebewijs #StemZeWeg #Schiphol #COVID #CatshuisOverleg #peiling #OMT #coronazwendel #Rutte3 #vaccins #op1 #spoedwet #coronavirusnl #StemNederlandTerug #mutatie #vrijheid #persco #Lockdown #Coronavirus #tweedekamer #EU #Pfizer #Coronabeleid #coronavragen #maatregelen #coronaproof #lockdownnl #vaccinatiedebat #poll #vrtnws #beau #VeiligOnderwijs #FvD #besmettingen #Covidioten #scholen #PCRgate #viruswaanzin #arrogant #oudennieuw #kerstmis #rivm #alleensamen #politie #wappies #Op1 #coronapaspoort #peilingen #volksgezondheid #torentje #nosjournaal #Kerst #kabinet #CoronaVaccine #Lockdown2 #kerst2020 #covid19be #onderwijs #coronacircus #MinistryOfTruth #ZeroCovid #coronanl #gezondheid #pandemie #coronawet #HugodeJonge #Coronamaatregelen #Covid-19 #schiphol #CU #scholenveilig #GreatReset #WEF #BREAKING #Brexit #luchtvaart #Beau #CovidVaccine #covid1984 #7dag #vvd #AbOsterhaus #overheid #Influenza #fail #eenvandaag #Corona-besmettingen #thuiswerken #deafspraak #WHO #toespraak #Hydroxychloroquine #hoax #KerstZonderPiek #nieuwsuur #terzaketv #Pandemie #vuurwerkverbod #bezuinigingen #TK2021 #GGD #schandalig #feestdagen #Coronavirusnl #groepsimmuniteit #Avondklok #femkehalsema #Gommers #SARSCoV2 #brexit #StaySafe #Covid1984 #Coronacrisis #COVID-19 #griep #coronawaanzin #vaccindwang #kinderen #nieuws #dictatuur #anderhalvemeter #Demmink #Spoedwet #deochtend #Corona-virus #Amsterdam #DeJonge #IC #OudEnNieuw #ikvaccineer #scholendicht #BlijfThuis #buitenhof #COVID1984 #BigPharma\n",
      "201201 #coronamaatregelen #corona #coronavirus #mondkapjesplicht #COVID19NL #COVID19 #Corona #femkehalsema #coronavaccin #covid19nl #mondkapjes #mondkapje #Covid19 #hugodejongekanniks #covid19 #coronacrisis #AlleenSamen #Covid #elite #PCRtest #Coronacrazy #HugodeJonge #Fidesz #CrimesAgainstHumanity #Rutte #lockdown #Nieuwsuur #F1 #poll #dtv #vaccinatie #LGBTQ'ers #vaccin #peilingen #peiling #PCRTestPandemic #SakhirGP #CoronaMelder-app #Spoedwet #Covid_19 #coronavirusnl #BahrainGP #pcrgate #coronafascisme #RIVM #samentegencorona #ZiggoSportF1 #vaccindwang #hugodejonge #covid #PCRGATE #Coronamaatregelen #besmettingen #horeca #COVID1984 #TK2021 #TotalControl #Amsterdam #PCRTest #PCRgate #BlackFriday #Rutte3 #vaccine #virus #CoronaCrisis #mijnbrief #VeiligOnderwijs #tweet #citeren #retweeten #liken #VRIJHEID #GERRITSEN #terzaketv #wereldaidsdag #wetenschap #COVID #Vaccin #VVD #testen #covID19 #begov #vivaldi #spoedwet #coronawet #alleensamen # #CovidInJeBroekje #Coronapandemie #coronatest #Otterlo #CDC #GGD #FVD #vaccinatieplicht #Coronavirus #_vvd #Nederland #kerst2020 #vuurwerkverbod #onderwijs #PCR-testen #USA #covid19NL #coronadebat #coronagate #Hamilton #coronanl #coronahoax #coronatijd #politie #vrijheid #Pfizer #Vaccinatie #BigPharma #teststraten #Vivaldi #OMT #blijfthuis #CovidVaccine #Denemarken #overheid #Mondkapjesplicht #verzet #downtheroad #covid19be #dictatuur #vrtnws #followback #pandemie #zorg #scholenveilig #WorldAIDSDay #top2000 #CoronaMelder #coronaproof #toeslagenaffaire #coronavaccins #vrijheidop1 #top2000agogo #nosjournaal #volger #supermarktmedewerkers #koekeerlijkverdelen #beau #Coronabedrog #kinderen #scholen #boek #nertsen #AstraZeneca #Ademtesten #vaccins #GivingTuesday #PVV #samensterk #nieuws #Coronamelder #omvolking #taboeisering #waardeeronswerk #WEF #VictorOrban #homofobe #nationalistische #EPP #Op1 #pcrtest #Top2000 #Alleensamen #Mondkapjes #BlackFriday2020 #CoronaCrazy #SARSCoV2 #rivm #anderhalvemeter #fitness #FixedItForYa #muilkorf #maatregelen #vuurwerk #Brexit #BlijfThuis #coronadictatuur #Mondkapje #Coronavirusnl #Coronacrisis #UGent-onderzoeker #AbOsterhaus #Amerika #StemZeWeg #PCR #emmen #coronazwendel #durftevragen #Wilders #fit #deafspraak #kerst #Followback\n"
     ]
    }
   ],
   "source": [
    "for month in \"202002 202003 202004 202005 202006 202007 202008 202009 202010 202011 202012 201201\".split():\n",
    "    tweets = [re.sub(r'\\\\n', ' ', tweet) for tweet in get_tweets(month, BASEQUERY, spy=False)]\n",
    "    hashtags = {}\n",
    "    for tweet in tweets:\n",
    "        if re.search(r'#', tweet):\n",
    "            for hashtag in get_hashtags(tweet):\n",
    "                if hashtag in hashtags:\n",
    "                    hashtags[hashtag] += 1\n",
    "                else:\n",
    "                    hashtags[hashtag] = 1\n",
    "    print(month, \" \".join([hashtag for hashtag in sorted(hashtags.keys(), key=lambda hashtag:hashtags[hashtag], reverse=True)][:200]))"
   ]
  },
  {
   "cell_type": "code",
   "execution_count": 7,
   "metadata": {},
   "outputs": [
    {
     "name": "stdout",
     "output_type": "stream",
     "text": [
      "202101 #coronamaatregelen #coronavirus #corona #avondklok #coronadebat #COVID19 #lockdown #Corona #FVD #coronavaccin #COVID19NL #coronaprotest #Rutte #covid19nl #vaccin #covid19 #avondklokrellen #persconferentie #vaccinatie #Covid19 #coronabeleid #Vaccinatie #rellen #museumplein #avondklokdebat #covid #stopdelockdown #Eindhoven #coronacrisis #toeslagenaffaire #Covid_19 #PVV #vaccinatiestrategie #Amsterdam #AlleenSamen #AvondklokProtest #dtv #CoronaCrisis #politie #Wilders #vaccineren #vrijheid #lockdown2021 #ikwildieprik #VVD #jinek #COVID #op1 #RIVM #OMT #coronarellen # #zorg #kabinet #rutte #mondkapjes #hugodejonge #Nederland #Urk #TheGreatReset #StemNederlandTerug #peiling #virus #Op1npo #ikdoenietmeermee #StemZeWeg #Ivermectine #samentegencorona #Nieuwsuur #coronavaccinatie #coronazwendel #opendebat #coronavirusnl #COVIDー19 #amsterdam #Pfizer #Coronavirus #Avondklok #D66 #coronanl #Vaccin #peilingen #ZeroCovid #onderwijs #blijfthuis #IkPrikHetNiet #LongCovid #vaccins #nosjournaal #scholen #coronatest #thegreatreset #CDA #vvd #Trump #mondkapjesplicht #EU #Covid #vaccinatieplicht #eindhoven #BuildBackBetter #mondkapje #wappies #tweedekamer #coronaspreekuur #demonstratie #Lockdownnl #rutteaftreden #Jinek #Museumplein #Baudet #WHO #pcrtest #pandemie #codezwart #vrtnws #horeca #persco #lockdownnl #ikvaccineer #coronahoax #relschoppers #nieuws #rivm #verkiezingen #GGD #scholendicht #TK2021 #coronawet #Ruttedoctrine #kinderen #PCRtest #informeer #FvD #deafspraak #avondklokprotest #durftevragen #CrimesAgainstHumanity #alleensamen #spoedwet #NEPcoronacrisis #GreatReset #Op1 #WEF #hugodejongekanniks #thuisonderwijs #op1npo #wijzijnmetmeer #vliegverbod #dictatuur #Gommers #toeslagenschandaal #vaccinaties #stemnederlandterug #urkers #klimaat #Lockdown #poll #B117 #thuiswerken #Enschede #Rutte3 #politiek #covID19 #Schiphol #NOS #nieuwsuur #viruswaanzin #gezondheid #maatregelen #DenHaag #britsevariant #coronaproof #luchtvaart #covid19be #overheid #CoronaVirus #geenavondklok #ivermectine #HugodeJonge #vuurwerkverbod #AstraZeneca #protest #mRNA #ME #vivaldi #Biden #Coronamaatregelen #StopDeLockdown #CovidMemorialDay #TheGreatResist #coronavaccins #wappie #verzet #vaccinatiedebat #NWO #urk #VanDissel #fail #lekkerrelatief\n",
      "202102 #coronamaatregelen #coronavirus #corona #avondklok #Corona #COVID19 #FVD #lockdown #coronadebat #klaarmetRutte #persconferentie #StemNederlandTerug #coronavaccin #COVID19NL #Rutte #coronaregels #covid19 #covid19nl #vaccinatie #stopdelockdown #PVV #horeca #ZeroCovid #Vaccinatie #Covid19 #RIVM #Wilders #vaccin #LongCovid #spoedwet #StopDeLockdown #coronacrisis #OMT #coronabeleid #BuildBackBetter #vanangstnaarvertrouwen #AlleenSamen #persco #museumplein #dtv #scholenopen #covid #VVD #CoronaCrisis #HerstelNL #jinek #mondkapjesplicht #vaccineren #TheGreatReset #Covid_19 #vaccinatiestrategie #kutcorona #Ivermectine #klaarmetdeJonge #lockdownnl # #Nieuwsuur #Baudet #hugodejonge #TK2021 #CDA #FvD #vrijheid #vaccinatiepaspoort #avondklokdebat #viruswaarheid #vaccinatiebewijs #StemZeWeg #verkiezingen #sneeuw #D66 #Avondklok #openNLnu #17maartFVD #Nederland #rutte #waarligtjouwgrens #Op1 #opendebat #COVID #coronavaccinatie #op1 #klaarmetRutte3 #hogerberoep #lockdown2021 #Vaccin #PandemiePremie #virus #toeslagenaffaire #coronatest #Spoedwet #vaccinatieplicht #hugodejongekanniks #Covid #coronawet #onderwijs #retweet #coronazwendel #Op1npo #Vondelpark #peiling #dictatuur #zorg #viruswaanzin #testen #wnl #GreatReset #scholendicht #AstraZeneca #horecaopen #overheid #TweedeKamer #kabinet #vaccins #volksgezondheid #rivm #nieuws #AvondklokProtest #COVIDー19 #longcovid #NOS #opennlnu #peilingen #nosjournaal #mondkapjes #scholen #WHO #Elfstedentocht #angstzaaierij #eerstekamer #schaatsen #Coronavirus #coronaproof #vrtnws #EU #StemPVV #kinderpersconferentie #BREAKING #coronavirusnl #Coronamaatregelen #kinderen #Jinek #telegraafpremium #coronahoax #bewaartweet #WinkelsOpen #GGD #mondkapje #leugen #pandemie #coronapaspoort #Ruttedoctrine #MKB #poll #jongeren #coronadictatuur #pcrtest #politie #ikdoenietmeermee #fvd #buitenhof #avondklokzaak #versoepelingen #FD #ziek #HorecaOpen #Amsterdam #Nexit #politiek #vaccine #Fact #China #tweedekamer #MSM #testsamenleving #vvd #avondklokwet #7dag #nature #WatNouLockdown #Duitsland #klaarmetRIVM #zerocovid #blijfthuis #klimaat #Pfizer #coronaprotest #ophokplicht #samentegencorona #ivermectine #scholenveilig #VergeetOnsNietHugo #pandemiepremie #BuildBackBetterDebat #kappers #deafspraak #baudet #eenvandaag #Verkiezingen2021 #wnlopzondag\n",
      "202103 #coronamaatregelen #coronavirus #corona #FVD #COVID19 #Corona #coronadebat #lockdown #avondklok #coronapaspoort #coronavaccin #StemNederlandTerug #COVID19NL #persconferentie #covid19nl #stopdelockdown #PVV #Rutte #museumplein #Verkiezingen2021 #Wilders #vaccinatie #TK2021 #covid19 #AstraZeneca #ZeroCovid #Museumplein #Malieveld #vaccinatiepaspoort #IkSpreekMeUit #RIVM #Covid19 #StemZeWeg #LongCovid #Vaccinatie #vaccin #mondkapjesplicht #vrijheid #coronacrisis #dtv #Ollongren #VVD #politie #D66 #StemFVD #horeca #covid #klaarmetRutte # #verkiezingen #politiegeweld #FvD #CDA #vaccinatieplicht #StopDeLockdown #hugodejonge #Nederland #testbewijs #COVID #Baudet #fvd #vaccinatiestrategie #mondkapjes #vrijheidskaravaan #17maartFVD #AlleenSamen #rutte #coronatribunaal #coronabeleid #TheGreatReset #malieveld #hugodejongekanniks #Covid #coronavaccinatie #Amsterdam #vaccineren #klaarmetdeJonge #Covid_19 #jinek #Kaag #BuildBackBetter #Op1 #testsamenleving #vaccins #CoronaCrisis #vanangstnaarvertrouwen #EU #vaccinatiegate #Nieuwsuur #pandemie #OMT #moederhart #TeHoog #ikbeneenwappie #versoepelingen #iktwijfel #griep #Pfizer #Ruttedoctrine #coronahoax #wappies #Coronavirus #SP #toeslagenaffaire #lockdown2021 #coronatest #coronawaanzin #PCRgate #PvdA #grondrechten #vrtnws #vaccinatiebewijs #aboutaleb #ivermectine #nederland #overlegcomite #Vaccin #coronaregels #verkiezingsuitslag #peiling #onderwijs #Avondklok #op1 #VergeetOnsNietHugo #censuur #covid19be #nieuws #SolidairNaarNul #exitpoll #JA21 #ikprikhetniet #TweedeKamer #rivm #longcovid #peilingen #uitslagenavond #CatshuisOverleg #stemzeweg #besmettingen #overlegcomité #nepnieuws #volksgezondheid #Zweden #zorg #Corona-virus #Groenlinks #coronavaccins #7dag #coronaproof #nosjournaal #transparantie #50Plus #Coronamaatregelen #NOS #vvd #deafspraak #TeamSamen #lockdowns #beau #kinderen #stopwillemengel #griepje #dictatuur #spoedwet #Op1npo #formatie #museumplein20maart #COVIDー19 #LongCovidKids #verkiezingen2021 #ikspreekmeuit #Omtzigt #onzekinderenonzekeuze #Jinek #Texas #maatregelen #tk2021 #GL #Mondkapjes #d66 #demonstratie #debat #persco #coronawet #WHO #wappie #testen #Ivermectine #horecaopen #PCR #klaarmetrutte #AstraZenaca #thegreatreset #politiek #Ramadan #Nexit #nederlandkiest #Urk #klaarmetRutte3 #terzaketv\n",
      "202104 #coronamaatregelen #coronavirus #corona #coronadebat #COVID19 #Corona #coronavaccin #FVD #lockdown #stopdelockdown #versoepelingen #COVID19NL #Rutte #covid19nl #vaccinatie #covid19 #AstraZeneca #ZeroCovid #avondklok #coronapaspoort #Vaccinatie #RIVM #covid #persconferentie #Covid19 #testsamenleving #coronacrisis #vaccin #horeca #coronavaccinatie #persco #vaccinatiestrategie #ZeroCovidDayOfAction #testmaatschappij # #LongCovid #dtv #codezwart #politie #PVV #Ivermectine #vrijheid #Coronadebat #TegenGecontroleerdVerspreiden #vaccinatiepaspoort #nederland #Covid #Nieuwsuur #zorg #Nederland #CoronaCrisis #Wilders #TestenvoorToegang #terrassen #India #Covid_19 #COVID #hugodejonge #rutte #museumplein #OMT #catshuis #AlleenSamen #vaccineren #TeHoog #vaccins #mondkapjes #Testsamenleving #beau #koningsdag #nederlands #politiegeweld #nederlandsnews #Koolmees #quarantaineplicht #vaccinatieplicht #omtzigtdebat #koningsdag2021 #wappies #peiling #Coronavirus #BPOC2020 #Op1 #coronatest #coronabeleid #WEF #notulen #lekkereten #bijnaopen #buiteneten #steunhoreca #bestaan #longcovid #op1 #testbewijs #mondkapjesplicht #peilingen #mondkapje #coronahoax #IC #Fieldlab #terrassenopen #mRNA #pandemie #toeslagenaffaire #fvd #Terrassen #beterschapthierry #ruttefunctieelders #coronatribunaal #fakenews #COVIDー19 #coronawet #vaccinaties #RutteLeugenaar #coronamaatregel #moederhart #hugodejongekanniks #Ruttedoctrine #zerocovid #VVD #nieuws #poll #fieldlabs #EU #Duitsland #astrazeneca #rivm #besmettingen #Vaccin #Pfizer #virus #vrtnws #TheGreatReset #Koningsdag #Museumplein #JA21-politica #kabinet #AstraZenaca #groepsimmuniteit #wappie #Hugomoetsnelweg #tweedekamer #WHO #ziekenhuis #durftevragen #Kaag #klaarmetRutte #Coronamaatregelen #coronawaanzin #coronavaccins #nosjournaal #terzaketv #griep #sneltesten #KlapVoorDeZorg #PCRtest #CDA #politieverhoren #LongCovidKids #COVIDIOTS #toeslagenschandaal #baudet #onderwijs #debat #Beau #Rotterdam #Amsterdam #nep #PCR #MSM #D66 #zelftest #anderhalvemeter #scholen #nieuweverkiezingen #coronaproof #ikdoenietmeermee #samentegencorona #covid19be #fuellmich #TweedeKamer #demonstratie #kinderen #vaccinatietempo #noodwet #sneltest #lockdown2021 #538koningsdag #ZeroCovidDayofAction #notulendebat #Baudet #volksgezondheid #ikwildieprik #kaag #DEBAT #Gommers #spoedwet #studiovoetbal #Covidioten\n"
     ]
    }
   ],
   "source": [
    "for month in \"202101 202102 202103 202104\".split():\n",
    "    tweets = [re.sub(r'\\\\n', ' ', tweet) for tweet in get_tweets(month, BASEQUERY, spy=False)]\n",
    "    hashtags = {}\n",
    "    for tweet in tweets:\n",
    "        if re.search(r'#', tweet):\n",
    "            for hashtag in get_hashtags(tweet):\n",
    "                if hashtag in hashtags:\n",
    "                    hashtags[hashtag] += 1\n",
    "                else:\n",
    "                    hashtags[hashtag] = 1\n",
    "    print(month, \" \".join([hashtag for hashtag in sorted(hashtags.keys(), key=lambda hashtag:hashtags[hashtag], reverse=True)][:200]))"
   ]
  },
  {
   "cell_type": "code",
   "execution_count": null,
   "metadata": {},
   "outputs": [],
   "source": []
  }
 ],
 "metadata": {
  "kernelspec": {
   "display_name": "Python 3",
   "language": "python",
   "name": "python3"
  },
  "language_info": {
   "codemirror_mode": {
    "name": "ipython",
    "version": 3
   },
   "file_extension": ".py",
   "mimetype": "text/x-python",
   "name": "python",
   "nbconvert_exporter": "python",
   "pygments_lexer": "ipython3",
   "version": "3.7.3"
  }
 },
 "nbformat": 4,
 "nbformat_minor": 4
}
