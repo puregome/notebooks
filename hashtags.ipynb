{
 "cells": [
  {
   "cell_type": "markdown",
   "metadata": {},
   "source": [
    "# Hashtags"
   ]
  },
  {
   "cell_type": "code",
   "execution_count": 1,
   "metadata": {},
   "outputs": [],
   "source": [
    "from nltk.tokenize import TweetTokenizer\n",
    "import os\n",
    "import pandas as pd\n",
    "import re\n",
    "import sys\n",
    "from sklearn.feature_extraction.text import CountVectorizer\n",
    "from sklearn.decomposition import LatentDirichletAllocation\n",
    "from IPython.display import clear_output"
   ]
  },
  {
   "cell_type": "code",
   "execution_count": 2,
   "metadata": {},
   "outputs": [],
   "source": [
    "def squeal(text=None):\n",
    "    clear_output(wait=True)\n",
    "    if not text is None: print(text)"
   ]
  },
  {
   "cell_type": "code",
   "execution_count": 7,
   "metadata": {},
   "outputs": [],
   "source": [
    "DATADIR = \"../data/text/\"\n",
    "ID_STR = \"id_str\"\n",
    "TEXT = \"text\"\n",
    "TOPICQUERY = \"corona|covid|huisarts|mondkapje|rivm|blijfthuis|flattenthecurve|houvol\"\n",
    "PANDEMICQUERY = \"|\".join([TOPICQUERY, r'virus|besmet|ziekenhui|\\bic\\b|intensive.care|^zorg|vaccin|[^ad]arts|uitbraak|uitbrak|pandemie|ggd|'+\n",
    "                                      r'mondkapje|quarantaine|\\bwho\\b|avondklok|variant|verple|sympto|e.golf|mutant|^omt$|umc|hcq|'+\n",
    "                                      r'hydroxychloroquine|virolo|zkh|oversterfte|patiënt|patient|intensivist|🦠|ivermectin'])\n",
    "DISTANCEQUERY = \"1[.,]5[ -]*m|afstand.*hou|hou.*afstand|anderhalve[ -]*meter\"\n",
    "LOCKDOWNQUERY = \"lock.down|lockdown\"\n",
    "VACCINQUERY = \"vaccin|ingeënt|ingeent|inent|prik|spuit|bijwerking|-->|💉|pfizer|moderna|astrazeneca|astra|zeneca|novavax|biontech\"\n",
    "TESTQUERY = r'\\btest|getest|sneltest|pcr'\n",
    "QUERY = \"|\".join([PANDEMICQUERY, TESTQUERY, VACCINQUERY, LOCKDOWNQUERY, DISTANCEQUERY])\n",
    "BASEQUERY = \"corona|covid\""
   ]
  },
  {
   "cell_type": "code",
   "execution_count": 19,
   "metadata": {},
   "outputs": [],
   "source": [
    "def get_tweets(file_pattern, query, spy=False):\n",
    "    tweets = []\n",
    "    file_names = sorted(os.listdir(DATADIR))\n",
    "    for file_name in file_names:\n",
    "        if re.search(file_pattern, file_name):\n",
    "            if spy:\n",
    "                squeal(file_name)\n",
    "            df = pd.read_csv(DATADIR+file_name,index_col=ID_STR)\n",
    "            df_query = df[df[TEXT].str.contains(query, flags=re.IGNORECASE)]\n",
    "            tweets.extend(list(df_query[TEXT]))\n",
    "    return(tweets)"
   ]
  },
  {
   "cell_type": "code",
   "execution_count": 5,
   "metadata": {},
   "outputs": [],
   "source": [
    "def get_hashtags(tweet):\n",
    "    hashtags = []\n",
    "    for token in TweetTokenizer().tokenize(tweet):\n",
    "        if re.search(r'#', token):\n",
    "            hashtags.append(token)\n",
    "    return(hashtags)"
   ]
  },
  {
   "cell_type": "code",
   "execution_count": 20,
   "metadata": {},
   "outputs": [
    {
     "name": "stdout",
     "output_type": "stream",
     "text": [
      "202002 #coronavirus #corona #Coronavirus #COVID19 #coronavragen #Corona #COVID2019 #COVIDー19 #coronavirusNederland #CoronavirusOutbreak #virus #covid19 #RIVM #China #Coronavirius #FVD #Iran #CoronaVirus #Wuhan #EU #Covid_19 #ncov #COVID #patiënt #schengen #coronavirusus #Tilburg #Covid19 #Coronavius #CoronaVirusUpdates #Nederland #Italie #rivm #covid #dtv #PVV #Italië #china #Nieuwsuur #wuhan #WHO #sarscov2 #jinek #vrtnws #CoronaOutbreak #quarantaine #op1 #handenwassen #nieuws #coronavavirus #dwdd #Jinek #Erdogan #tilburg #coronaviruschina #coronarovirus #coronacrisis #boeren #nepnieuws #nieuwsuur #SARSCoV2 # #GGD #GoogleAlerts #griep #fakenews #COVID_19 #COVID19NL #Coronarivus #opengrenzen #terzaketv #Schengengrenscode #stikstofcrisis #Coronavid19 #waarschuwing #WhatsApp #nepbericht #telegraafpremium #nos #NOS #WuhanVirus #Baudet #coronavrees #Op1 #corona-virus #Rusland #NWO #Europa #vragen #FvD #Diemen #nosjournaal #antwoorden #F1 #vtmnieuws #Westerdam #coronavirus-besmetting #AEX #coronacoalitie #mondkapjes #carnaval #Bilderberg #Amsterdam #covid2019 #BNR #media #ggd #eenvandaag #kozp #coronauitbraak #CORONA #nederland #WNL #ncov2019 #Schiphol #pandemie #coronvirus #2019nCoV #coronarvirus #RodeKruis #coronavirusnederland #COVID-19 #coronaviruswuhan #globalisering #DWDD #Tenerife #D66 #delft #racisme #deafspraak #COVD19 #songfestival #Limburg #breaking #wuhanvirus #CoronaVirusitaly #Covid #FokSuk #SARS_CoV_2 #UAETour #Blok #Jankenomzwartepiet #Breaking #Wuhanvirus #Rutte #CORONAVIRUS #wnl #hypocriet #Trump #buitenhof #België #beurs #islamisering #islam #stikstof #economie #Chinezen #overheid #paniek #KLM #ChinaVirus #italie #zorg #Coronavirusnl #Beleggen #Duitsland #Update #FakeNews #besmet #npo1 #besmetting #diemen #babbeltruc #COVID19italia #covid-19 #Vilvoorde #RETWEET #Belgium #Coronavragen #Covid19-infectie #Japan #huisarts #coronarvirusitalia #Rotterdam #FD #politie #preventie #regering #nCoV2019 #Covid19Virus #NEXIT #nexit #kinderrechten #thuisquarantaine #onderwijs #Soros #AlgemeenNieuws #VVD #mondkapje #technews\n",
      "202003 #coronavirus #corona #COVID19 #coronavirusNederland #Corona #coronanederland #Coronavirusnl #COVID19NL #coronadebat #CoronaCrisis #Covid_19 #coronacrisis #COVIDー19 #Coronavirus #COVID2019NL #covid19 #COVID2019 #lockdown #RIVM #coronahulp #PVV #blijfthuis #Rutte #covid19Nederland #samentegencorona #FVD #EU #COVID19BE #Wilders #coronanl #hamsteren #rivm #coronavirusnl #Covid19 #SocialDistancing #scholendicht #coronalied #dtv #coronavirusnetherlands #zorg #op1 #lockdownnl #Nieuwsuur #coronavirusnederland #covid19nl #COVID-19 #groepsimmuniteit #Nederland #persconferentie #Coronavid19 #samensterk #houdafstand # #thuiswerken #ikblijfthuis #CoronaVirusUpdate #Baudet #Coronalul #Op1 #CoronaVirus #StayAtHome #CoronaPandemie #jinek #applausvoordezorg #SocialDistance #Jinek #Rutte3 #mondkapjes #rutte #onderwijs #COVID19Belgium #vrtnws #VVD #Italië #covid_19 #blijfbinnen #NEXIT #buitenhof #quarantaine #CoronaVirusUpdates #coronalul #nieuwsuur #virus #terzaketv #Coronacrisis #covid #dwdd #Coronabelgie #kanker #deafspraak #Nexit #China #Amsterdam #scholensluiten #blijfinuwkot #FlattenTheCurve #AlleenSamen #Trump #LockdownHolland #pandemie #CoronaOutbreak #COVID #7dag #klimaat #Iran #FvD #CoronavirusPandemic #D66 #covid19be #CoronaUpdate #Brabant #coronavragen #Italie #Groningen #mondmaskers #Europa #eenvandaag #coronapocalypse #begov #KLM #zorgvoorelkaar #België #coronamaatregelen #covid19NL #vtmnieuws #nieuws #politie #coronavirusNL #Turkije #CoronavirusOutbreak #CoronaNederland #nexit #flattenthecurve #staysafe #Covid19NL #WHO #herdimmunity #Coronadebat #groningen #SamenTegenCorona #sluitdescholen #StayHome #toespraak #horeca #COVIDIOTS #CoronaLockdown #vvd #huisartsen #zzp #Bruins #klapcoronadewerelduit #klimaathysterie #alleensamen #GGD #solidariteit #Spanje #coronapocolypse #stayathome #CoronaVirusNL #zorghelden #thuisblijven #groepimmuniteit #blijfgezond #groenlinks #covid2019 #amsterdam #ouderen #Vindicat #NOS #CoronaNL #nosjournaal #Rotterdam #Griekenland #wcpapier #ondernemers #vindicat #Buitenhof #fvd #boeren #COVIDIOT #nederland #stopcorona #covid2019nl #stikstof #stayhome #DenHaag #Coronalied #nlalert #Schiphol #Rusland #Duitsland #lockdownnederland #grenzendicht #UAntwerpen #crisis #anderhalvemeter #toiletpapier #coronavirusBE #pvda #WNL\n",
      "202004 #coronavirus #corona #COVID19 #coronacrisis #Corona #CoronaCrisis #coronadebat #coronavirusNederland #coronanederland #coronamaatregelen #COVIDー19 #covid19 #blijfthuis #Coronavirusnl #Covid_19 #samentegencorona #COVID19NL #COVID2019 #RIVM #Rutte #Coronavirus #persconferentie #PVV #mondkapjes #FVD #CoronaApp #coronanl #lockdown #COVID2019NL #Covid19NL #Wilders #Covid19 #alleensamen #op1 #EU #dtv #samensterk #AlleenSamen #COVID19BE #Nieuwsuur #jinek #BlijfThuis #covid19nl #zorg #Op1 #Nederland #coronavirusnl #mondmaskers # #rivm #China #Coronacrisis #WHO #Trump #nieuwsuur #privacy #vrtnws #VVD #Jinek #deafspraak #blijfinuwkot #5G #ikblijfthuis #Eurobonds #covid19be #Rutte3 #stopdelockdown #coronavirusnederland #coronahulp #COVID #SOSMoria #onderwijs #appathon #thuiswerken #Baudet #D66 #rutte #terzaketv #houdafstand #covid #FvD #houvol #groepsimmuniteit #COVID19Belgium #klimaat #buitenhof #SamenTegenCorona #anderhalvemeter #CoronaVirus #COVID19Pandemic #coronavragen #StayHome #stikstof #klimaathysterie #ZondagMetLubach #België #blijfgezond #anderhalvemetersamenleving #staysafe #veiligheidsraad #eurobonds #quarantaine #KLM #Amsterdam #CoronaVirusUpdate #Pasen #testen #virus #telegraafpremium #vtmnieuws #economie #politie #nieuws #CoronavirusPandemic #CDA #goedemorgen #tweedekamer #CoronaLockdown #7dag #SocialDistancing #covid19Nederland #crisis #ouderen #Duitsland #Italië #blijfbinnen #Brussel #coronabonds #begov #COVID-19 #BeterNaCorona #nexit #ondernemers #covid_19 #mensenrechten #nosjournaal #NEXIT #StayAtHome #Op1npo #eenvandaag #Zembla #coronatijd #COVID19be #Koningsdag #VolgWyniasWeek #wnl #vvd #deochtend #pandemie #Groningen #coronaNL #WNL #wilders #OMT #app #horeca #stayhome #StaySafe #CoronaHoax #ouderenzorg #Rotterdam #medicijnen #FFP2 #coronadoden #koningsdag2020 #durftevragen #Spanje #5GCoronavirus #FD #fail #NWO #mondkapje #maatregelen #frontberichten #coronaapp #FFP3 #coronalul #coronajournaal #openheid #politiek #verpleeghuizen #HongKong #IC #klokkenluiders #nederland #coronaRotterdam #COVID19-uitbraak #Europa #zorgvoorelkaar #natuur #CoronaNederland #Alleensamen #112 #ramadan #gehandicaptenzorg #LockdownSA #paasweekend #HouVol #Nexit #DitIsM\n",
      "202005 #corona #coronavirus #COVID19 #Corona #coronacrisis #coronamaatregelen #CoronaCrisis #coronadebat #covid19 #Covid_19 #COVIDー19 #Coronavirusnl #Covid19NL #persconferentie #coronanederland #RIVM #coronavirusNederland #lockdown #Coronavirus #mondkapjes #Covid19 #samentegencorona #Rutte #stopdelockdown #Op1 #COVID__19 #FVD #AlleenSamen #anderhalvemetersamenleving #Wilders #PVV #Nederland # #Op1npo #EU #rivm #dtv #Nieuwsuur #anderhalvemeter #covid19nl #covid19be #COVID19NL #horeca #zorg #covid #op1 #coronavirusnl #blijfthuis #Trump #vrtnws #Hydroxychloroquine #alleensamen #COVID #China #WHO #BlijfThuis #mondkapje #versoepeling #Rutte3 #BidVoorHelden #4mei #mondmaskers #coronatijd #coronanl #deafspraak #coronavirusnederland #Coronacrisis #beau #VVD #onderwijs #rutte #hydroxychloroquine #vrijheid #buitenhof #privacy #samensterk #D66 #COVID2019NL #bevrijdingsdag #coronaproof #7dag #virus #HongKong #AfterCovid19 #klokkenluiders #CoronaVirus #terzaketv #vaccin #economie #StopDeLockdown #CoronaApp #klimaat #BeterNaCorona #politiek #KLM #nieuwsuur #LockdownSA #ondernemers #COVIDIOTS #FvD #Covid19SA #Nexit #5G #Lockdown #NWO #staysafe #SamenSterk #houdafstand #vermijddrukte #eenvandaag #coronavragen #NEXIT #nieuws #OM #België #thuiswerken #NOS #SamenTegenCorona #OMT #OV #WNL #belang #Hondenkattenhandel #Amsterdam #klimaathysterie #COVID2019 #DenHaag #moederdag #COVID-19 #Brussel #BillGates #jinek #1mei #politie #blijfgezond #scholenopen #NPO #YULIN #groepsimmuniteit #Dodenherdenking #biomassa #denhaag #nepnieuws #wnl #verpleeghuizen #schande #begov #Bevrijdingsdag #75jaarvrijheid #vaccinatie #Covid #pandemie #MSM #nosjournaal #CDA #testen #Beau #Rotterdam #Ramadan #scholendicht #cultuur #op1npo #cartoon #warmtepomp #Antwerpen #NL #media #durftevragen #luchtvaart #scholen #goedemorgen #vtmnieuws #veiligheidsraad #humor #ouderen #nexit #BREAKING #5mei #CoronavirusPandemic #EU-schulden #kapper #kinderen #coronaboete #coronahulp #COVID19be #uk #Onderwijs #crisis #Gates #webinar #Jensen #vvd #Vrijheid #ov #dagvandeverpleging #vakantie #Covid-19 #school #Virus #dictatuur\n",
      "202006 #corona #coronavirus #Corona #COVID19 #Halsema #coronamaatregelen #coronacrisis #coronadebat #Amsterdam #coronawet #covid19 #viruswaanzin #PVV #CoronaCrisis #Covid_19 #anderhalvemeter #Wilders #BlackLivesMatterNL #Rutte #Coronavirusnl #COVID19NL #Coronavirus #demonstratie #RIVM #Malieveld #halsema #Covid19 #FVD #blijfthuis #spoedwet #BlackLivesMatter # #Coronawet #COVIDー19 #Nieuwsuur #lockdown #covid19nl #zorg #coronanederland #Nederland #SocialDistancing #op1 #dtv #racisme #persconferentie #beau #corona-regels #Malieveld21juni #anderhalvemetersamenleving #HalsemaAftreden #AlleenSamen #coronavirusNederland #Op1 #samentegencorona #vrijheid #BLM #triest #COVID__19 #coronaise #Grapperhaus #esbeek #hugodejonge #mondkapjes #Spoedwet #FemkeHalsema #LiftTheTravelBan #LoveIsNotTourism #Loveisessential #horeca #DenHaag #luchtvaart #Rotterdam #amsterdam #kermisprotest #vaccin #rivm #stopdelockdown #malieveld #vrtnws #alleensamen #covid #rutte #EU #CDA #Coronacrisis #Op1npo #coronavirusnl #covid19be #Dam #VVD #5G #Hydroxychloroquine #politie #Antifa #coronaproof #coronaregels #KICKOUTRUTTE #coronanl #CoronaApp #virus #scholendicht #noodwet #nosjournaal #johanderksen #privacy #teamJohanDerksen #eenvandaag #deafspraak #Trump #politiek #Suriname #COVID #nieuwsuur #Covid-19 #coronatijd #BLMBelgium #NWO #klimaat #Covid19NL #mondmaskers #COVIDIOTS #KLM #Lockdown #teamvrijheid #COVID-19 #Brussel #zorgpersoneel #COVID2019NL #halsemagate #dejonge #onderwijs #burgemeester #coronahoax #nertsen #denhaag #ihoik #staycation #D66 #terzaketv #indenbak #ophetstrand #ikremvoorcorona #dam #WHO #Schiphol #dictatuur #JaapvanDissel #BlackLivesMatterNL-protesten #vakantie #mondkapje #Covid19SA #China #democratie #CoronaVirus #scholen #aftreden #BlackLivesMattters #HalsemaExit #scholenopen #ouderen #GGD #nosnieuws #FvD #LockdownSA #samensterk #NOS #NoExamsInCovid #Groenlinks #frontberichten #BillGates #Koning #HugodeJonge #vvd #AllLivesMatter #besmettingen #WNL #economie #malieveld28juni #coronatest #rechtsgeluid #LivesMatter #Beau #Flikker #anderhalvemeterdictatuur #StemZeWeg #NPO #Rutte3 #thuiswerken #16Juin2020 #Erasmusbrug #nieuws #pvda #kickoutrutte #KOZP #blm #rotterdam #durftevragen #verpleeghuizen #vliegen #7dag\n",
      "202007 #coronavirus #corona #COVID19 #Corona #coronamaatregelen #covid19 #coronacrisis #COVID19NL #RIVM #Rutte #viruswaanzin #Covid_19 #COVIDー19 #CoronaCrisis #Covid19 #mondkapjes #COVID__19 # #Coronavirus #Nieuwsuur #lockdown #HugoDeJonge #covid19nl #dtv #EU #coronawet #anderhalvemeter #spoedwet #Antwerpen #Coronavirusnl #covid #AlleenSamen #samentegencorona #mondkapje #mondmaskers #Nederland #WHO #Op1 #vrtnws #Hydroxychloroquine #mondkapjesplicht #Coronawet #PVV #boerenprotest #hugodejonge #coronavirusnl #veiligheidsraad #staysafe #Wilders #rivm #Op1npo #BillGates #Covid-19 #klimaat #StemZeWeg #pandemie #tweedegolf #coronacommissie #Gommers #CoronaApp #zorg #vaccin #CoronaMelder #vrijheid #vakantie #covid19be #CoronaVirus #Trump #terzaketv #HongKong #op1 #DeJonge #VVD #COVID19be #boeren #BLM #EUtop #peiling #COVID #nexit #anderhalvemeterdictatuur #BigPharma #nertsen #COVID-19 #virus #NEXIT #mondmasker #noodwet #coronatest #persconferentie #stopcorona #MSM #Vrijheid #Schiphol #OMT #Amsterdam #rutte #coronanederland #eurotop #boerenprotesten #coronavragen #besmettingen #CDA #coronaproof #BlackLivesMatter #CDA-lijsttrekker #asielzoekers #luchtvaart #België #NoordKorea #coronanl #WWG1WGA #coronahoax #Covid19NL #blijfthuis #coronavaccin #Covidioten #testen #horeca #HCQ #GiletsJaunes #media #scholendicht #DontTurnPrisonsIntoGraveyard #poll #COVID_19 #Lockdown #VanRanst #economie #alleensamen #avondklok #nosjournaal #politie #BREAKING #CDAdebat #offerfeest #spoedWET #Offerfeest #machtsgreep #COVID19BE #Netherlands #COVID19-pandemie #Mondkapjes #politiek #Coronacrisis #COVIDIOTS #eenvandaag #Macron #vvd #transferunie #anderhalvemetersamenleving #corona-uitbraak #Rutte3 #Beau #corona-besmettingen #herstelfonds #Covid #beau #SamenTegenCorona #RTLNieuws #SARSCoV2 #vtmnieuws #coronavirusNederland #racisme #EUCO #veto #gezondheid #KICKOUTRUTTE #nieuws #nieuwsuur #racistisch #begov #NWO #dieprespect #Politie #Rotterdam #RACISME #coronabeleid #Belgie #D66 #Brexit #stikstof #CoronaVirusHoax #USA #stopdelockdown #FVD #solidariteit #stemzeweg #kinderen #EU-landen #thuiswerken #telegraafpremium #SocialDistancing #coronawaanzin #quarantaine #niettegeloven #KLM #StilleLente #Vaccin #scholen\n",
      "202008 #corona #coronadebat #coronavirus #coronamaatregelen #Corona #COVID19 #COVID19NL #Covid_19 #persconferentie #Wilders #Grapperhaus #covid19 #coronacrisis #RIVM #viruswaanzin #CoronaCrisis #CoronaMelder #Rutte #covid19nl #coronawet #Coronavirusnl #spoedwet #GeenDorHout #Covid19 #hugodejonge # #Nederland #PVV2021 #Coronavirus #mondkapjes #anderhalvemeter #mondkapjesplicht #PVV #nexit #covid #lockdown #COVID__19 #AlleenSamen #Amsterdam #Berlin2908 #zorg #CDA #COVIDー19 #dtv #Coronaregels #FVD #coronahoax #scholenveilig #viruswaarheid #Rutte3 #Covidioten #EU #samentegencorona #Rotterdam #coronanederland #mondkapje #StemZeWeg #horeca #zorgmedewerkers #Malieveld #schande #Berlijn #coronavirusnl #Coronacrisis #Nieuwsuur #coronaregels #GGD #rivm #zorgpersoneel #GrapperhausCoronaGate #Op1 #zorghelden #virus #VVD #politie #noodwet #mondmaskers #coronatest #coronamelder #pandemie #nederland #Covid-19 #rutte #Hydroxychloroquine #scholen #WakeUp #vaccin #coronaboete #bruiloft #Schiphol #Spoedwet #FerdGrapperhaus #HugodeJongeKanNiks #vrtnws #coronanl #Coronadebat #LinkedIn #privacy #BerlinDemo #vrijheid #op1 #quarantaine #alleensamen #COVIDIOTS #OMT #ContainmentNu #Coronademo #coronaproof #stopdespoedwet #COVID #onderwijs #huisartsen #artsen #berlijn #nosjournaal #nertsen #CoronaApp #ventilatie #dictatuur #malieveld #denhaag #tweedekamer #hittegolf #MauricedeHond #nederlanders #teststraat #COVID_19 #geendorhout #wilders #coronawaanzin #WHO #DenHaag #Coronawet #codeoranje #vvd #wilders2021 #D66 #𝗭𝗮𝗮𝗻𝘀𝘁𝗮𝗱 #Op1npo #coronavirusNederland #testen #Spanje #Covid19NL #COVID-19 #coronabeleid #eenvandaag #GerechtigheidVoorBas #belastinggeld #telegraafpremium #ggd #Covid #Transferunie #WWG1WGA #nederlandsnieuws #Antwerpen #TK2021 #peiling #Netherlands #held #SPOEDWET #Halsema #VRIJHEID #Berlin #covid19be #Lockdown #besmettingen #tweedegolf #volksmanipulatie #Mondkapjes #stopdelockdown #MSM #HCQW0RKS #economie #terzaketv #poll #CovidHoax #londonprotest #politiek #SARSCoV2 #NWO #SpoedwetNee #Beiroet #bronencontactonderzoek #klimaat #kabinet #Beirut #hoax #NEDERLAND #willemengel #groepsimmuniteit #grapperhaus #vakantie #defensie #grondwet #coroNEE #nieuws #Onderwijs #EenVandaag #coronaisfakenews #Coronamaatregelen\n",
      "202009 #corona #coronadebat #coronamaatregelen #COVID19 #Corona #coronavirus #FVD #Grapperhaus #persconferentie #COVID19NL #ikdoenietmeermee #Covid_19 #covid19 #mondkapjes #coronacrisis #ikdoewelmee #Rutte #coronaregels #RIVM #PVV #coronawet #covid19nl #CoronaCrisis #Wilders #Covid19 #spoedwet #coronatest #COVIDー19 #PCRgate #Spoedwet #dtv #AlleenSamen #covid # #Nederland #jinek #mondkapje #Coronavirus #tweedegolf #Baudet #scholenveilig #COVID__19 #avondklok #Nieuwsuur #coronavaccin #lockdown #anderhalvemeter #coronatesten #hugodejonge #mondkapjesplicht #ikdoenietmee #peiling #grapperhaus #coronavirusnl #Op1 #virus #GrapperhausCoronaGate #samentegencorona #noodwet #rutte #zorg #kabinet #coronaproof #vaccin #aftreden #Rutte3 #PCR #nederland #FamkeLouise #horeca #Amsterdam #Coronavirusnl #rivm #viruswaanzin #coronanl #op1 #EU #nexit #Jinek #BreekDeGolf #coronahoax #Pfizer #GGD #APB2020 #LongCovid #nietmijnregering #Rotterdam #vrtnws #testen #alleensamen #Grapperhausaftreden #COVID #StemZeWeg #stopdespoedwet #PCRGATE #CoronaMelder #onderwijs #HydroxyChloroquine #thuiswerken #Covid #FvD #CDA #maatregelen #coronabeleid #ZondagMetLubach #PCRtest #viruswaarheid #persco #NWO #politiek #poll #WHO #Moria #Nijmegen #Covidioten #gewoonjebekhouden #deafspraak #prinsjesdag2020 #ContainmentNu #Coronadebat #Op1npo #coronaboete #Akwasi #pandemie #scholen #coronanederland #OMT #ZML #nosjournaal #nieuwsuur #quarantaine #nederlandsnieuws #hugodejongekanniks #besmettingen #guestpost #coronaboetes #poppenkast #grapperhausdebat #VVD #Trump #Tilburg #veiligheidsraad #politie #Lockdown2 #peilingen #NOS #tweedekamer #mondkappennou #Duitsland #wnlopzondag #SpoedwetNee #longcovid #DenHaag #voetbal #nieuws #HCQ #ferdgrapperhaus #dictatuur #zorgpersoneel #telegraafpremium #op1npo #buitenhof #Ikdoenietmeermee #Prinsjesdag #HugodeJongeKanNiks #hoax #Netherlands #Albert #Monaco #COVID_19 #TweedeKamer #wijdoenwelmee #SARSCoV2 #vrijheid #grappenhaus #Coronawet #deochtend #terzaketv #ggd #privacy #stopwillemengel #economie #zondagmetlubach #covid19be #Vaccin #ikdoeooknietmeermee #eenvandaag #herstelfonds #Onderwijs #kinderen #COVIDIOTS #luchtvaart #groningen #coronamelder-app #Coronastaatsgreep #fail #FVD-leider #Corona-regels #Coronamaatregelen #COVID-19\n",
      "202010 #coronamaatregelen #corona #COVID19 #Corona #coronavirus #coronadebat #COVID19NL #FVD #lockdown #persconferentie #spoedwet #covid19 #Covid_19 #coronawet #mondkapjes #Wilders #covid19nl #Rutte #PVV #COVID__19 #coronacrisis #horeca #coronaregels #Covid19 #CoronaMelder #CoronaCrisis #dtv #Spoedwet #AlleenSamen #RIVM #covid #samentegencorona #Trump #zorg #Coronapandemie #PCRGATE #PCRgate #mondkapje #mondkapjesplicht # #deafspraak #jinek #blijfthuis #scholendicht #Lockdown2 #Nederland #vrtnws #Staphorst #Nieuwsuur #Op1 #coronavirusnl #peiling #COVID #virus #rutte #avondklok #op1 #TrumpHasCovid #vaccin #zorgpersoneel #scholenveilig #Coronavirus #Rutte3 #COVIDIOTS #Coronavirusnl #coronavragen #ikdoenietmeermee #COVIDー19 #routekaart #coronanl #Jinek #wilders #rivm #coronatest #terzaketv #COVID19be #Covid #BREAKING #hydroxychloroquine #Coronadebat #hugodejonge #tweedegolf #mondkapjesadvies #onderwijs #coronaproof #scholen #alleensamen #nietmijnregering #noodwet #PCRtest #maatregelen #WHO #DenHaag #Brussel #horecadicht #vtmnieuws #LongCovid #coronahoax #veerkracht #covid19be #groepsimmuniteit #pandemie #begov #Coronalert #Coronamaatregelen #vierdagenextra #Griekenland #StaySafe #anderhalvemeter #TK2021 #7dag #coronamelder #NWO #Covidioten #TrumpCovid #CoronaApp #D66 #Amsterdam #OMT #dictatuur #mondmaskers #koningshuis #StemZeWeg #Op1npo #deochtend #democratie #VVD #EersteKamer #nosjournaal #denhaag #GERRITSEN #besmettingen #hydroxycholoroquine #poll #EU #hoax #vakantie #coronalert #islam #persco #coronamadness #coronatesten #hugodejongekanniks #WWG1WGA #thuiswerken #ikdoewelmee #viruswaarheid #coronabeleid #Zorgsalaris #peilingen #tweedekamer #WillemAlexander #Demmink #Verzet #NOS #nederland #trump #Remdesivir #Lockdown #Rotterdam #events #SamenTegenCorona #media #nieuws #viruswaanzin #briefing #kabinet #vvem #TweedeKamer #coronabesmettingen #OpenData #Aboutaleb #stopdelockdown #FvD #fail #Coronawet #nieuwsuur #ZondagMetLubach #Onderwijs #voetbal #Baudet #buitenhof #China #klimaat #wijdoenmee #coronanederland #Netherlands #vvd #ikdoenietmee #covid19NL #quarantaine #veiligheidsraad #alcoholverbod #koning #mondkappennou #PCR #eenzamejongeren #sluitnoutochdescholen #WelkomInDystopia #vrt\n",
      "202011 #coronamaatregelen #corona #COVID19 #coronavirus #Corona #COVID19NL #coronadebat #covid19nl #FVD #persconferentie #PCRgate #covid19 #coronavaccin #coronacrisis #mondkapjesplicht #Covid_19 #lockdown #ditismijnzorg #PVV #vaccinatieplicht #mondkapjes #vaccin #Wilders #Rutte #Covid19 #vaccinatie #AlleenSamen #covid #PCRtest #Vaccin #samentegencorona #dtv #RIVM #VVD #mondkapje #blijfthuis #CoronaCrisis #spoedwet #zorg # #coronavirusnl #virus #avondklok #Vaccinatie #Trump #Nederland #horeca #scholenveilig #vrtnws #tweedekamer #Nieuwsuur #EU #coronaproof #COVID #vuurwerkverbod #coronawet #nertsen #COVIDー19 #vrijheid #pandemie #coronatest #rutte #peiling #LongCovid #OMT #coronanl #7dag #Coronavirus #scholendicht #FvD #politie #D66 #Verzet #NWO #COVIDIOTS #alleensamen #hugodejonge #WEF #WHO #Pfizer #coronahoax #BlackFriday #Coronavirusnl #coronascam #jinek #maatregelen #deafspraak #PCRGATE #TK2021 #op1 #dictatuur #terzaketv #informeer #Elections2020 #Op1 #Lockdown2 #onderwijs #TheGreatReset #thuiswerken #rivm #Baudet #nietmijnregering #Rutte3 #CoronaMelder #Rotterdam #COVID1984 #Covidioten #scholen #Sinterklaas #Covid #coronaregels #kerst #Brussel #coronatijd #pcrtest #anderhalvemeter #Biden #ikdoenietmeermee #vuurwerk #SamenTegenCorona #COVID19be #nieuws #beau #vaccineren #toeslagenaffaire #OpenData #Jinek #Mondkapjes #Agenda2030 #coronazwendel #begov #wezijnjulliespuugzat #Coronapandemie #StemZeWeg #ikvaccineer #klimaat #overheid #Amsterdam #KLM #laatjeniettesten #durftevragen #covid19be #media #besmettingen #MSM #CDA #poll #fvd #StopCovid #ZeroCovid #PCR #vvd #demonstratie #persco #Coronamaatregelen #coronadictatuur #fitness #KOZP #verkiezingen #ikvaccineerniet #blijfgezond #telegraafpremium #deochtend #gezondheid #vivaldi #DitIsM #bpoc2020 #VeiligOnderwijs #testen #NEPcoronacrisis #nosjournaal #vtmnieuws #patenten #fakenews #groningen #Spoedwet #koopzondag #iklaatmeniettesten #Vivaldi #StaySafe #coronabesmettingen #covid19NL #economie #255 #hoax #downtheroad #viruswaanzin #DenHaag #quarantaine #kinderen #peilingen #privacy #samensterk #luchtvaart #horecadicht #Denemarken #ondernemers #kabinet #proximusepic #GGD\n",
      "202012 #coronamaatregelen #corona #coronavirus #COVID19 #Corona #lockdown #FVD #coronadebat #coronavaccin #COVID19NL #persconferentie #Rutte #covid19nl #Covid_19 #covid19 #mondkapjesplicht #coronacrisis #vaccin #Covid19 #horeca #Vaccinatie #coronabeleid #CoronaCrisis #vaccinatieplicht #AlleenSamen #Lockdownnl #covid #vaccinatie #toespraakrutte #Vaccin #VVD #PVV #mondkapjes #blijfthuis #avondklok #dtv #kerst #zorg #RIVM #mondkapje #CodeZwart #toeslagenaffaire #vaccineren #rutte #hugodejongekanniks #Nederland #PCRGATE #TheGreatReset #hugodejonge #virus #PCRtest # #Nieuwsuur #ikdoenietmeermee #LongCovid #coronahoax #samentegencorona #vaccinatiestrategie #CDA #D66 #codezwart #coronatest #COVIDー19 #Wilders #Covid #vaccinatiebewijs #StemZeWeg #Schiphol #COVID #CatshuisOverleg #peiling #OMT #coronazwendel #Rutte3 #vaccins #op1 #spoedwet #coronavirusnl #StemNederlandTerug #mutatie #vrijheid #persco #Lockdown #Coronavirus #tweedekamer #EU #Pfizer #Coronabeleid #coronavragen #maatregelen #coronaproof #lockdownnl #vaccinatiedebat #poll #vrtnws #beau #VeiligOnderwijs #FvD #besmettingen #Covidioten #scholen #PCRgate #viruswaanzin #arrogant #oudennieuw #kerstmis #rivm #alleensamen #politie #wappies #Op1 #coronapaspoort #peilingen #volksgezondheid #torentje #nosjournaal #Kerst #kabinet #CoronaVaccine #Lockdown2 #kerst2020 #covid19be #onderwijs #coronacircus #MinistryOfTruth #ZeroCovid #coronanl #gezondheid #pandemie #coronawet #HugodeJonge #Coronamaatregelen #Covid-19 #schiphol #CU #scholenveilig #GreatReset #WEF #BREAKING #Brexit #luchtvaart #Beau #CovidVaccine #covid1984 #7dag #vvd #AbOsterhaus #overheid #Influenza #fail #eenvandaag #Corona-besmettingen #thuiswerken #deafspraak #WHO #toespraak #Hydroxychloroquine #hoax #KerstZonderPiek #nieuwsuur #terzaketv #Pandemie #vuurwerkverbod #bezuinigingen #TK2021 #GGD #schandalig #feestdagen #Coronavirusnl #groepsimmuniteit #Avondklok #femkehalsema #Gommers #SARSCoV2 #brexit #StaySafe #Covid1984 #Coronacrisis #COVID-19 #griep #coronawaanzin #vaccindwang #kinderen #nieuws #dictatuur #anderhalvemeter #Demmink #Spoedwet #deochtend #Corona-virus #Amsterdam #DeJonge #IC #OudEnNieuw #ikvaccineer #scholendicht #BlijfThuis #buitenhof #COVID1984 #BigPharma\n",
      "201201 #coronamaatregelen #corona #coronavirus #mondkapjesplicht #COVID19NL #COVID19 #Corona #femkehalsema #coronavaccin #covid19nl #mondkapjes #mondkapje #Covid19 #hugodejongekanniks #covid19 #coronacrisis #AlleenSamen #Covid #elite #PCRtest #Coronacrazy #HugodeJonge #Fidesz #CrimesAgainstHumanity #Rutte #lockdown #Nieuwsuur #F1 #poll #dtv #vaccinatie #LGBTQ'ers #vaccin #peilingen #peiling #PCRTestPandemic #SakhirGP #CoronaMelder-app #Spoedwet #Covid_19 #coronavirusnl #BahrainGP #pcrgate #coronafascisme #RIVM #samentegencorona #ZiggoSportF1 #vaccindwang #hugodejonge #covid #PCRGATE #Coronamaatregelen #besmettingen #horeca #COVID1984 #TK2021 #TotalControl #Amsterdam #PCRTest #PCRgate #BlackFriday #Rutte3 #vaccine #virus #CoronaCrisis #mijnbrief #VeiligOnderwijs #tweet #citeren #retweeten #liken #VRIJHEID #GERRITSEN #terzaketv #wereldaidsdag #wetenschap #COVID #Vaccin #VVD #testen #covID19 #begov #vivaldi #spoedwet #coronawet #alleensamen # #CovidInJeBroekje #Coronapandemie #coronatest #Otterlo #CDC #GGD #FVD #vaccinatieplicht #Coronavirus #_vvd #Nederland #kerst2020 #vuurwerkverbod #onderwijs #PCR-testen #USA #covid19NL #coronadebat #coronagate #Hamilton #coronanl #coronahoax #coronatijd #politie #vrijheid #Pfizer #Vaccinatie #BigPharma #teststraten #Vivaldi #OMT #blijfthuis #CovidVaccine #Denemarken #overheid #Mondkapjesplicht #verzet #downtheroad #covid19be #dictatuur #vrtnws #followback #pandemie #zorg #scholenveilig #WorldAIDSDay #top2000 #CoronaMelder #coronaproof #toeslagenaffaire #coronavaccins #vrijheidop1 #top2000agogo #nosjournaal #volger #supermarktmedewerkers #koekeerlijkverdelen #beau #Coronabedrog #kinderen #scholen #boek #nertsen #AstraZeneca #Ademtesten #vaccins #GivingTuesday #PVV #samensterk #nieuws #Coronamelder #omvolking #taboeisering #waardeeronswerk #WEF #VictorOrban #homofobe #nationalistische #EPP #Op1 #pcrtest #Top2000 #Alleensamen #Mondkapjes #BlackFriday2020 #CoronaCrazy #SARSCoV2 #rivm #anderhalvemeter #fitness #FixedItForYa #muilkorf #maatregelen #vuurwerk #Brexit #BlijfThuis #coronadictatuur #Mondkapje #Coronavirusnl #Coronacrisis #UGent-onderzoeker #AbOsterhaus #Amerika #StemZeWeg #PCR #emmen #coronazwendel #durftevragen #Wilders #fit #deafspraak #kerst #Followback\n"
     ]
    }
   ],
   "source": [
    "for month in \"202002 202003 202004 202005 202006 202007 202008 202009 202010 202011 202012 201201\".split():\n",
    "    tweets = [re.sub(r'\\\\n', ' ', tweet) for tweet in get_tweets(month, BASEQUERY, spy=False)]\n",
    "    hashtags = {}\n",
    "    for tweet in tweets:\n",
    "        if re.search(r'#', tweet):\n",
    "            for hashtag in get_hashtags(tweet):\n",
    "                if hashtag in hashtags:\n",
    "                    hashtags[hashtag] += 1\n",
    "                else:\n",
    "                    hashtags[hashtag] = 1\n",
    "    print(month, \" \".join([hashtag for hashtag in sorted(hashtags.keys(), key=lambda hashtag:hashtags[hashtag], reverse=True)][:200]))"
   ]
  },
  {
   "cell_type": "code",
   "execution_count": null,
   "metadata": {},
   "outputs": [],
   "source": []
  }
 ],
 "metadata": {
  "kernelspec": {
   "display_name": "Python 3",
   "language": "python",
   "name": "python3"
  },
  "language_info": {
   "codemirror_mode": {
    "name": "ipython",
    "version": 3
   },
   "file_extension": ".py",
   "mimetype": "text/x-python",
   "name": "python",
   "nbconvert_exporter": "python",
   "pygments_lexer": "ipython3",
   "version": "3.6.11"
  }
 },
 "nbformat": 4,
 "nbformat_minor": 4
}
