{
 "cells": [
  {
   "cell_type": "markdown",
   "metadata": {},
   "source": [
    "# Double-check tweet language with TextCat\n",
    "\n",
    "Source: http://www.let.rug.nl/~vannoord/TextCat/"
   ]
  },
  {
   "cell_type": "code",
   "execution_count": 2,
   "metadata": {},
   "outputs": [],
   "source": [
    "import os\n",
    "import pandas as pd\n",
    "import pipes\n",
    "import re\n",
    "import tempfile\n",
    "from nltk.classify import textcat\n",
    "from IPython.display import clear_output\n",
    "from langdetect import detect,DetectorFactory\n",
    "\n",
    "DetectorFactory.seed = 0"
   ]
  },
  {
   "cell_type": "code",
   "execution_count": 19,
   "metadata": {},
   "outputs": [],
   "source": [
    "DATADIR = \"/home/erikt/projects/puregome/data/text-202006/\"\n",
    "DATADIRTEXTCAT = \"/home/erikt/projects/puregome/data/textcat/\"\n",
    "IDSTR = \"id_str\"\n",
    "TEXT = \"text\"\n",
    "TEXTCATDIR = \"/home/erikt/software/textcat/\"\n",
    "TEXTCAT = \"text_cat\"\n",
    "PERL = \"/usr/bin/perl\"\n",
    "TEXTUNKNOWN = \"I don't know; Perhaps this is a language I haven't seen before?\"\n",
    "UNKNOWN = \"unknown\"\n",
    "OR = \" or \"\n",
    "DUTCH = \"dutch\"\n",
    "LANG = \"lang\"\n",
    "OTHER = \"other\"\n",
    "DUTCHTEXTCAT = \"nld\""
   ]
  },
  {
   "cell_type": "code",
   "execution_count": 4,
   "metadata": {},
   "outputs": [],
   "source": [
    "def squeal(text=None):\n",
    "    clear_output(wait=True)\n",
    "    if not text is None: print(text)"
   ]
  },
  {
   "cell_type": "code",
   "execution_count": 5,
   "metadata": {},
   "outputs": [],
   "source": [
    "def createPipe(command):\n",
    "    pipe  = pipes.Template()\n",
    "    pipe.append(command,\"--\")\n",
    "    return(pipe)\n",
    "\n",
    "def writeAllPipeInput(pipe,text):\n",
    "    tmpFile = tempfile.NamedTemporaryFile(delete=False)\n",
    "    f = pipe.open(tmpFile.name,\"w\")\n",
    "    f.write(text)\n",
    "    f.close()\n",
    "    return(tmpFile.name)\n",
    "\n",
    "def readPipeOutput(tmpFileName):\n",
    "    tmpFile = open(tmpFileName,\"r\")\n",
    "    textOut = \"\"\n",
    "    for line in tmpFile: textOut += line\n",
    "    tmpFile.close()\n",
    "    os.unlink(tmpFileName)\n",
    "    return(textOut)\n",
    "\n",
    "def textcatString2List(text):\n",
    "    if text == TEXTUNKNOWN: return([UNKNOWN])\n",
    "    else: return(text.split(OR))\n",
    "\n",
    "def textcatLocal(textIn):\n",
    "    pipe = createPipe(PERL+\" \"+TEXTCATDIR+TEXTCAT)\n",
    "    tmpFileName = writeAllPipeInput(pipe,textIn)\n",
    "    textOut = readPipeOutput(tmpFileName)\n",
    "    return(textcatString2List(textOut.strip()))"
   ]
  },
  {
   "cell_type": "markdown",
   "metadata": {},
   "source": [
    "## Language detection with TextCat"
   ]
  },
  {
   "cell_type": "code",
   "execution_count": 20,
   "metadata": {},
   "outputs": [
    {
     "name": "stdout",
     "output_type": "stream",
     "text": [
      "200 200 0.980 20200601-07.out.gz\n",
      "200 200 0.956 20200602-07.out.gz\n",
      "200 200 0.986 20200603-07.out.gz\n",
      "200 200 0.960 20200604-07.out.gz\n",
      "200 200 0.969 20200605-07.out.gz\n",
      "200 200 0.979 20200606-07.out.gz\n",
      "200 200 0.969 20200607-07.out.gz\n",
      "200 200 0.954 20200608-07.out.gz\n",
      "200 200 0.968 20200609-07.out.gz\n",
      "200 200 0.922 20200610-07.out.gz\n",
      "200 200 0.944 20200611-07.out.gz\n",
      "200 200 0.908 20200612-07.out.gz\n",
      "200 200 0.911 20200613-07.out.gz\n",
      "200 200 0.902 20200614-07.out.gz\n",
      "200 200 0.866 20200615-07.out.gz\n",
      "200 200 0.901 20200616-07.out.gz\n",
      "200 200 0.889 20200617-07.out.gz\n",
      "200 200 0.854 20200618-07.out.gz\n",
      "200 200 0.914 20200619-07.out.gz\n",
      "200 200 0.873 20200620-07.out.gz\n",
      "200 200 0.808 20200621-07.out.gz\n",
      "200 200 0.844 20200622-07.out.gz\n",
      "200 200 0.897 20200623-07.out.gz\n",
      "200 200 0.894 20200624-07.out.gz\n",
      "200 200 0.902 20200625-07.out.gz\n",
      "200 200 0.928 20200626-07.out.gz\n",
      "200 200 0.926 20200627-07.out.gz\n",
      "200 200 0.941 20200628-07.out.gz\n",
      "200 200 0.915 20200629-07.out.gz\n",
      "200 200 0.858 20200630-07.out.gz\n"
     ]
    }
   ],
   "source": [
    "FILEPATTERN = \"20200[6]..-07\"\n",
    "MAXTWEETS = 200\n",
    "\n",
    "tc = textcat.TextCat()\n",
    "inFiles = sorted(os.listdir(DATADIR))\n",
    "outFiles = sorted(os.listdir(DATADIRTEXTCAT))\n",
    "for inFileName in inFiles:\n",
    "    if re.search(FILEPATTERN,inFileName): # and not inFileName in outFiles:\n",
    "        df = pd.read_csv(DATADIR+inFileName,index_col=IDSTR)[:MAXTWEETS]\n",
    "        dutchCount = 0\n",
    "        otherCount = 0\n",
    "        dutchPercentage = 0\n",
    "        lang = []\n",
    "        seen = {}\n",
    "        for i in range(0,len(df)):\n",
    "            text = re.sub(r\"\\\\n\",\" \",df.iloc[i][TEXT])\n",
    "            if text in seen: textcatOut = seen[text]\n",
    "            else:\n",
    "                textcatOut = textcatLocal(text.lower())\n",
    "                seen[text] = textcatOut\n",
    "            if DUTCH in textcatOut: \n",
    "                lang.append(DUTCH)\n",
    "                dutchCount += 1\n",
    "            elif UNKNOWN in textcatOut: \n",
    "                lang.append(UNKNOWN)\n",
    "            else: \n",
    "                lang.append(textcatOut[0])\n",
    "                otherCount += 1\n",
    "            if dutchCount > 0: \n",
    "                dutchPercentage = round(dutchCount/(dutchCount+otherCount),3)\n",
    "        df[LANG] = lang\n",
    "        df.to_csv(DATADIRTEXTCAT+inFileName,compression=\"gzip\")\n",
    "        print(\"{0} {1} {2:0.3f} {3}\".format(i+1,len(df),dutchPercentage,inFileName))"
   ]
  },
  {
   "cell_type": "markdown",
   "metadata": {},
   "source": [
    "## Language detection with langdetect"
   ]
  },
  {
   "cell_type": "code",
   "execution_count": null,
   "metadata": {},
   "outputs": [],
   "source": [
    "FILEPATTERN = \"202006..-05\"\n",
    "MAXTWEETS = 200\n",
    "\n",
    "tc = textcat.TextCat()\n",
    "inFiles = sorted(os.listdir(DATADIR))\n",
    "outFiles = sorted(os.listdir(DATADIRTEXTCAT))\n",
    "for inFileName in inFiles:\n",
    "    if re.search(FILEPATTERN,inFileName) and not inFileName in outFiles:\n",
    "        df = pd.read_csv(DATADIR+inFileName,index_col=IDSTR)[:MAXTWEETS]\n",
    "        dutchCount = 0\n",
    "        otherCount = 0\n",
    "        dutchPercentage = 0\n",
    "        lang = []\n",
    "        for i in range(0,len(df)):\n",
    "            text = re.sub(r\"\\\\n\",\" \",df.iloc[i][TEXT])\n",
    "            try:\n",
    "                textcatOut = detect(text.lower())\n",
    "            except: continue\n",
    "            if textcatOut == \"nl\":\n",
    "                lang.append(DUTCH)\n",
    "                dutchCount += 1\n",
    "            else: \n",
    "                lang.append(textcatOut)\n",
    "                otherCount += 1\n",
    "            if dutchCount > 0: \n",
    "                dutchPercentage = round(dutchCount/(dutchCount+otherCount),3)\n",
    "        df[LANG] = lang\n",
    "        df.to_csv(DATADIRTEXTCAT+inFileName,compression=\"gzip\")\n",
    "        print(\"{0} {1} {2:0.3f} {3}\".format(i+1,len(df),dutchPercentage,inFileName))"
   ]
  },
  {
   "cell_type": "code",
   "execution_count": null,
   "metadata": {},
   "outputs": [],
   "source": []
  }
 ],
 "metadata": {
  "kernelspec": {
   "display_name": "Python 3",
   "language": "python",
   "name": "python3"
  },
  "language_info": {
   "codemirror_mode": {
    "name": "ipython",
    "version": 3
   },
   "file_extension": ".py",
   "mimetype": "text/x-python",
   "name": "python",
   "nbconvert_exporter": "python",
   "pygments_lexer": "ipython3",
   "version": "3.7.3"
  }
 },
 "nbformat": 4,
 "nbformat_minor": 4
}
