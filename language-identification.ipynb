{
 "cells": [
  {
   "cell_type": "markdown",
   "metadata": {},
   "source": [
    "# Double-check tweet language with TextCat\n",
    "\n",
    "Source: http://www.let.rug.nl/~vannoord/TextCat/"
   ]
  },
  {
   "cell_type": "code",
   "execution_count": 1,
   "metadata": {},
   "outputs": [],
   "source": [
    "import os\n",
    "import pandas as pd\n",
    "import pipes\n",
    "import re\n",
    "import tempfile\n",
    "from nltk.classify import textcat\n",
    "from IPython.display import clear_output"
   ]
  },
  {
   "cell_type": "code",
   "execution_count": 2,
   "metadata": {},
   "outputs": [],
   "source": [
    "DATADIR = \"/home/erikt/projects/puregome/data/text/\"\n",
    "DATADIRTEXTCAT = \"/home/erikt/projects/puregome/data/textcat/\"\n",
    "IDSTR = \"id_str\"\n",
    "TEXT = \"text\"\n",
    "TEXTCATDIR = \"/home/erikt/software/textcat/\"\n",
    "TEXTCAT = \"text_cat\"\n",
    "PERL = \"/usr/bin/perl\"\n",
    "TEXTUNKNOWN = \"I don't know; Perhaps this is a language I haven't seen before?\"\n",
    "UNKNOWN = \"unknown\"\n",
    "OR = \" or \"\n",
    "DUTCH = \"dutch\"\n",
    "LANG = \"lang\"\n",
    "OTHER = \"other\"\n",
    "DUTCHTEXTCAT = \"nld\""
   ]
  },
  {
   "cell_type": "code",
   "execution_count": 3,
   "metadata": {},
   "outputs": [],
   "source": [
    "def squeal(text=None):\n",
    "    clear_output(wait=True)\n",
    "    if not text is None: print(text)"
   ]
  },
  {
   "cell_type": "code",
   "execution_count": 4,
   "metadata": {},
   "outputs": [],
   "source": [
    "def createPipe(command):\n",
    "    pipe  = pipes.Template()\n",
    "    pipe.append(command,\"--\")\n",
    "    return(pipe)\n",
    "\n",
    "def writeAllPipeInput(pipe,text):\n",
    "    tmpFile = tempfile.NamedTemporaryFile(delete=False)\n",
    "    f = pipe.open(tmpFile.name,\"w\")\n",
    "    f.write(text)\n",
    "    f.close()\n",
    "    return(tmpFile.name)\n",
    "\n",
    "def readPipeOutput(tmpFileName):\n",
    "    tmpFile = open(tmpFileName,\"r\")\n",
    "    textOut = \"\"\n",
    "    for line in tmpFile: textOut += line\n",
    "    tmpFile.close()\n",
    "    os.unlink(tmpFileName)\n",
    "    return(textOut)\n",
    "\n",
    "def textcatString2List(text):\n",
    "    if text == TEXTUNKNOWN: return([UNKNOWN])\n",
    "    else: return(text.split(OR))\n",
    "\n",
    "def textcatLocal(textIn):\n",
    "    pipe = createPipe(PERL+\" \"+TEXTCATDIR+TEXTCAT)\n",
    "    tmpFileName = writeAllPipeInput(pipe,textIn)\n",
    "    textOut = readPipeOutput(tmpFileName)\n",
    "    return(textcatString2List(textOut.strip()))"
   ]
  },
  {
   "cell_type": "code",
   "execution_count": 11,
   "metadata": {},
   "outputs": [
    {
     "name": "stdout",
     "output_type": "stream",
     "text": [
      "1000 1000 20200713-12.out.gz\n"
     ]
    }
   ],
   "source": [
    "FILEPATTERN = \"202007..-00|202007..-12\"\n",
    "MAXTWEETS = 1000\n",
    "\n",
    "tc = textcat.TextCat()\n",
    "inFiles = sorted(os.listdir(DATADIR))\n",
    "outFiles = sorted(os.listdir(DATADIRTEXTCAT))\n",
    "for inFileName in inFiles:\n",
    "    if re.search(FILEPATTERN,inFileName): # and not inFileName in outFiles:\n",
    "        df = pd.read_csv(DATADIR+inFileName,index_col=IDSTR)[:MAXTWEETS]\n",
    "        lang = []\n",
    "        for i in range(0,len(df)):\n",
    "            if (i+1) % 100 == 0: squeal(str(i+1)+\" \"+str(len(df))+\" \"+inFileName)\n",
    "            text = re.sub(r\"\\\\n\",\" \",df.iloc[i][TEXT])\n",
    "            textcatOut = textcatLocal(text.lower())\n",
    "            if DUTCH in textcatOut: lang.append(DUTCH)\n",
    "            elif TEXTUNKNOWN in textcatOut: lang.append(UNKNOWN)\n",
    "            else: lang.append(textcatOut[0])\n",
    "        df[LANG] = lang\n",
    "        df.to_csv(DATADIRTEXTCAT+inFileName,compression=\"gzip\")"
   ]
  },
  {
   "cell_type": "code",
   "execution_count": null,
   "metadata": {},
   "outputs": [],
   "source": []
  }
 ],
 "metadata": {
  "kernelspec": {
   "display_name": "Python 3",
   "language": "python",
   "name": "python3"
  },
  "language_info": {
   "codemirror_mode": {
    "name": "ipython",
    "version": 3
   },
   "file_extension": ".py",
   "mimetype": "text/x-python",
   "name": "python",
   "nbconvert_exporter": "python",
   "pygments_lexer": "ipython3",
   "version": "3.7.3"
  }
 },
 "nbformat": 4,
 "nbformat_minor": 4
}
