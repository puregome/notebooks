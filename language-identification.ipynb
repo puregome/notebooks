{
 "cells": [
  {
   "cell_type": "markdown",
   "metadata": {},
   "source": [
    "# Double-check tweet language with TextCat\n",
    "\n",
    "Source: http://www.let.rug.nl/~vannoord/TextCat/"
   ]
  },
  {
   "cell_type": "code",
   "execution_count": 53,
   "metadata": {},
   "outputs": [],
   "source": [
    "import os\n",
    "import pandas as pd\n",
    "import pipes\n",
    "import re\n",
    "import tempfile\n",
    "from IPython.display import clear_output"
   ]
  },
  {
   "cell_type": "code",
   "execution_count": 52,
   "metadata": {},
   "outputs": [],
   "source": [
    "DATADIR = \"/home/erikt/projects/puregome/data/text/\"\n",
    "IDSTR = \"id_str\"\n",
    "TEXT = \"text\"\n",
    "TEXTCATDIR = \"/home/erikt/software/textcat/\"\n",
    "TEXTCAT = \"text_cat\"\n",
    "PERL = \"/usr/bin/perl\"\n",
    "TEXTUNKNOWN = \"I don't know; Perhaps this is a language I haven't seen before?\"\n",
    "UNKNOWN = \"unknown\"\n",
    "OR = \" or \"\n",
    "DUTCH = \"dutch\"\n",
    "LANG = \"lang\"\n",
    "OTHER = \"other\""
   ]
  },
  {
   "cell_type": "code",
   "execution_count": 54,
   "metadata": {},
   "outputs": [],
   "source": [
    "def squeal(text=None):\n",
    "    clear_output(wait=True)\n",
    "    if not text is None: print(text)"
   ]
  },
  {
   "cell_type": "code",
   "execution_count": 40,
   "metadata": {},
   "outputs": [],
   "source": [
    "def createPipe(command):\n",
    "    pipe  = pipes.Template()\n",
    "    pipe.append(command,\"--\")\n",
    "    return(pipe)\n",
    "\n",
    "def writeAllPipeInput(pipe,text):\n",
    "    tmpFile = tempfile.NamedTemporaryFile(delete=False)\n",
    "    f = pipe.open(tmpFile.name,\"w\")\n",
    "    f.write(text)\n",
    "    f.close()\n",
    "    return(tmpFile.name)\n",
    "\n",
    "def readPipeOutput(tmpFileName):\n",
    "    tmpFile = open(tmpFileName,\"r\")\n",
    "    textOut = \"\"\n",
    "    for line in tmpFile: textOut += line\n",
    "    tmpFile.close()\n",
    "    os.unlink(tmpFileName)\n",
    "    return(textOut)\n",
    "\n",
    "def textcatString2List(text):\n",
    "    if text == TEXTUNKNOWN: return([UNKNOWN])\n",
    "    else: return(text.split(OR))\n",
    "\n",
    "def textcat(textIn):\n",
    "    pipe = createPipe(PERL+\" \"+TEXTCATDIR+TEXTCAT)\n",
    "    tmpFileName = writeAllPipeInput(pipe,textIn)\n",
    "    textOut = readPipeOutput(tmpFileName)\n",
    "    return(textcatString2List(textOut.strip()))"
   ]
  },
  {
   "cell_type": "code",
   "execution_count": null,
   "metadata": {},
   "outputs": [
    {
     "name": "stdout",
     "output_type": "stream",
     "text": [
      "47800 51943 20200701-09.out.gz\n"
     ]
    }
   ],
   "source": [
    "FILEPATTERN = \"20200701\"\n",
    "\n",
    "files = sorted(os.listdir(DATADIR))\n",
    "for inFileName in files:\n",
    "    if re.search(FILEPATTERN,inFileName):\n",
    "        df = pd.read_csv(DATADIR+inFileName,index_col=IDSTR)\n",
    "        lang = []\n",
    "        for i in range(0,len(df)):\n",
    "            if i % 100 == 0: squeal(str(i)+\" \"+str(len(df))+\" \"+inFileName)\n",
    "            text = re.sub(r\"\\\\n\",\" \",df.iloc[i][TEXT])\n",
    "            textcatOut = textcat(text.lower())\n",
    "            if DUTCH in textcatOut: lang.append(DUTCH)\n",
    "            elif UNKNOWN in textcatOut: lang.append(UNKNOWN)\n",
    "            else: lang.append(textcatOut[0])\n",
    "        df[LANG] = lang\n",
    "        df.to_csv(inFileName,compression=\"gzip\")"
   ]
  },
  {
   "cell_type": "code",
   "execution_count": null,
   "metadata": {},
   "outputs": [],
   "source": []
  }
 ],
 "metadata": {
  "kernelspec": {
   "display_name": "Python 3",
   "language": "python",
   "name": "python3"
  },
  "language_info": {
   "codemirror_mode": {
    "name": "ipython",
    "version": 3
   },
   "file_extension": ".py",
   "mimetype": "text/x-python",
   "name": "python",
   "nbconvert_exporter": "python",
   "pygments_lexer": "ipython3",
   "version": "3.7.3"
  }
 },
 "nbformat": 4,
 "nbformat_minor": 4
}
