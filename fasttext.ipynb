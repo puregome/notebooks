{
 "cells": [
  {
   "cell_type": "markdown",
   "metadata": {},
   "source": [
    "# Fasttext tweet classification"
   ]
  },
  {
   "cell_type": "markdown",
   "metadata": {},
   "source": [
    "## Data file creation"
   ]
  },
  {
   "cell_type": "code",
   "execution_count": 1,
   "metadata": {},
   "outputs": [],
   "source": [
    "import datetime\n",
    "import os\n",
    "import pandas as pd\n",
    "import random\n",
    "import re\n",
    "from nltk.tokenize import TweetTokenizer\n",
    "from IPython.display import clear_output"
   ]
  },
  {
   "cell_type": "code",
   "execution_count": 2,
   "metadata": {},
   "outputs": [],
   "source": [
    "TOPIC = \"mondkapje\"\n",
    "FILETWEETS = TOPIC+\"-tweets.csv\"\n",
    "FILEANNOTATIONS = \"human-labels-\"+TOPIC+\"-tweets.txt\"\n",
    "FILEFASTTEXT = \"fasttext-\"+TOPIC+\".csv\"\n",
    "LABELPREFIX = \"__label__\"\n",
    "LARGEINT = 9999999999\n",
    "LABEL = \"label\"\n",
    "TEXT = \"text\"\n",
    "USER = \"user\""
   ]
  },
  {
   "cell_type": "code",
   "execution_count": 3,
   "metadata": {},
   "outputs": [],
   "source": [
    "tweets = pd.read_csv(FILETWEETS,header=None,index_col=0)\n",
    "annotations = pd.read_csv(FILEANNOTATIONS,header=None,sep=\" \")"
   ]
  },
  {
   "cell_type": "code",
   "execution_count": 4,
   "metadata": {},
   "outputs": [],
   "source": [
    "fasttextData = {}\n",
    "for i in range(0,len(annotations)):\n",
    "    tweetId = annotations.iloc[i][2]\n",
    "    tweetLabel = annotations.iloc[i][4]\n",
    "    if tweetId in list(tweets.index):\n",
    "        tweetLabel = annotations.iloc[i][4]\n",
    "        tweetUser = tweets.loc[tweetId][1]\n",
    "        fasttextData[tweetId] = {LABEL:LABELPREFIX+tweetLabel,\\\n",
    "                                 USER:tweetUser,\\\n",
    "                                 TEXT:\" \".join(TweetTokenizer().tokenize(tweets.loc[tweetId][2]))}\n",
    "\n",
    "outFile = open(FILEFASTTEXT,\"w\")\n",
    "seenTexts = {}\n",
    "for tweetId in fasttextData:\n",
    "    if not fasttextData[tweetId][TEXT] in seenTexts:\n",
    "        print(fasttextData[tweetId][LABEL],fasttextData[tweetId][USER],fasttextData[tweetId][TEXT],file=outFile)\n",
    "        seenTexts[fasttextData[tweetId][TEXT]] = True\n",
    "outFile.close()"
   ]
  },
  {
   "cell_type": "markdown",
   "metadata": {},
   "source": [
    "## Fasttext run and evaluation"
   ]
  },
  {
   "cell_type": "code",
   "execution_count": 57,
   "metadata": {},
   "outputs": [],
   "source": [
    "import fasttext\n",
    "from IPython.display import clear_output"
   ]
  },
  {
   "cell_type": "code",
   "execution_count": 58,
   "metadata": {},
   "outputs": [],
   "source": [
    "PRETRAINEDDIR = \"/home/erikt/projects/newsgac/fasttext-runs/\"\n",
    "WIKIFILENAME = \"wiki.nl.vec\""
   ]
  },
  {
   "cell_type": "code",
   "execution_count": 59,
   "metadata": {},
   "outputs": [],
   "source": [
    "def print_results(N, p, r):\n",
    "    print(\"N\\t\" + str(N))\n",
    "    print(\"P@{}\\t{:.3f}\".format(1, p))\n",
    "    print(\"R@{}\\t{:.3f}\".format(1, r))"
   ]
  },
  {
   "cell_type": "code",
   "execution_count": 60,
   "metadata": {},
   "outputs": [],
   "source": [
    "fasttextData = []\n",
    "inFile = open(FILEFASTTEXT,\"r\")\n",
    "for line in inFile: fasttextData.append(line.strip())\n",
    "inFile.close()"
   ]
  },
  {
   "cell_type": "code",
   "execution_count": 61,
   "metadata": {},
   "outputs": [
    {
     "name": "stdout",
     "output_type": "stream",
     "text": [
      "finished\n"
     ]
    }
   ],
   "source": [
    "DIM = 300\n",
    "EPOCH = 100\n",
    "LR = 0.1\n",
    "N = 10\n",
    "TRAIN = \"TRAIN\"+str(int(random.random()*LARGEINT))\n",
    "TEST = \"TEST\"+str(int(random.random()*LARGEINT))\n",
    "\n",
    "predictionCounts = []\n",
    "predictionLabels = []\n",
    "for fold in range(0,N):\n",
    "    clear_output(wait=True)\n",
    "    print(\"starting fold\",fold)\n",
    "    testStart = round(fold*len(fasttextData)/N)\n",
    "    testEnd = round((fold+1)*len(fasttextData)/N)\n",
    "    trainFile = open(TRAIN,\"w\")\n",
    "    testFile = open(TEST,\"w\")\n",
    "    testData = []\n",
    "    for i in range(0,len(fasttextData)):\n",
    "        if i < testStart or i >= testEnd: print(fasttextData[i],file=trainFile)\n",
    "        else: \n",
    "            print(fasttextData[i],file=testFile)\n",
    "            testData.append(fasttextData[i])\n",
    "    testFile.close()\n",
    "    trainFile.close()\n",
    "    model = fasttext.train_supervised(TRAIN,dim=DIM,epoch=EPOCH,lr=LR) # ,pretrainedVectors=PRETRAINEDDIR+WIKIFILENAME)\n",
    "    predictionCounts.append([*model.test(TEST)])\n",
    "    predictionLabels.append(model.predict(testData))\n",
    "    os.unlink(TRAIN)\n",
    "    os.unlink(TEST)\n",
    "clear_output(wait=True)\n",
    "print(\"finished\")"
   ]
  },
  {
   "cell_type": "code",
   "execution_count": 62,
   "metadata": {},
   "outputs": [
    {
     "name": "stdout",
     "output_type": "stream",
     "text": [
      "cases: 593; precision: 0.637; recall: 0.637\n"
     ]
    }
   ],
   "source": [
    "caseTotal = 0\n",
    "pTotal = 0\n",
    "rTotal = 0\n",
    "for i in range(0,len(predictionCounts)):\n",
    "    caseTotal += predictionCounts[i][0]\n",
    "    pTotal += predictionCounts[i][0]*predictionCounts[i][1]\n",
    "    rTotal += predictionCounts[i][0]*predictionCounts[i][2]\n",
    "print(\"cases: {0}; precision: {1}; recall: {2}\".format(caseTotal,round(pTotal/caseTotal,3),round(rTotal/caseTotal,3)))"
   ]
  },
  {
   "cell_type": "code",
   "execution_count": 63,
   "metadata": {},
   "outputs": [],
   "source": [
    "labelCountsGold = {}\n",
    "for i in range(0,len(fasttextData)):\n",
    "    label = fasttextData[i].split()[0]\n",
    "    if label in labelCountsGold: labelCountsGold[label] += 1\n",
    "    else: labelCountsGold[label] = 1"
   ]
  },
  {
   "cell_type": "code",
   "execution_count": 64,
   "metadata": {},
   "outputs": [
    {
     "data": {
      "text/plain": [
       "{'__label__NEUTRAL': 53,\n",
       " '__label__IRRELEVANT': 235,\n",
       " '__label__NEGATIVE': 273,\n",
       " '__label__POSITIVE': 32}"
      ]
     },
     "execution_count": 64,
     "metadata": {},
     "output_type": "execute_result"
    }
   ],
   "source": [
    "labelCountsGold"
   ]
  },
  {
   "cell_type": "code",
   "execution_count": 65,
   "metadata": {},
   "outputs": [],
   "source": [
    "labelCountsPredicted = {}\n",
    "for i in range(0,len(predictionLabels)):\n",
    "    for label in predictionLabels[i][0]:\n",
    "        if label[0] in labelCountsPredicted: labelCountsPredicted[label[0]] += 1\n",
    "        else: labelCountsPredicted[label[0]] = 1"
   ]
  },
  {
   "cell_type": "code",
   "execution_count": 66,
   "metadata": {},
   "outputs": [
    {
     "data": {
      "text/plain": [
       "{'__label__NEUTRAL': 24,\n",
       " '__label__NEGATIVE': 330,\n",
       " '__label__IRRELEVANT': 235,\n",
       " '__label__POSITIVE': 4}"
      ]
     },
     "execution_count": 66,
     "metadata": {},
     "output_type": "execute_result"
    }
   ],
   "source": [
    "labelCountsPredicted"
   ]
  },
  {
   "cell_type": "markdown",
   "metadata": {},
   "source": [
    "Fasttext predicts 63% of the labels correctly without external dictionary and 66% with a Wikipedia dictionary (baseline: 46%). It overestimates the presence of negative labels and underestimates the level of positive and neutral labels. The amount of irrelevant labels is about right"
   ]
  },
  {
   "cell_type": "code",
   "execution_count": 67,
   "metadata": {},
   "outputs": [
    {
     "data": {
      "text/plain": [
       "{'__label__NEUTRAL': 2.2083333333333335,\n",
       " '__label__IRRELEVANT': 1.0,\n",
       " '__label__NEGATIVE': 0.8272727272727273,\n",
       " '__label__POSITIVE': 8.0}"
      ]
     },
     "execution_count": 67,
     "metadata": {},
     "output_type": "execute_result"
    }
   ],
   "source": [
    "multiplicationFactors = {}\n",
    "for label in labelCountsGold:\n",
    "    multiplicationFactors[label] = labelCountsGold[label]/labelCountsPredicted[label]\n",
    "multiplicationFactors"
   ]
  },
  {
   "cell_type": "markdown",
   "metadata": {},
   "source": [
    "The multiplication factor for the positive label is unrealistically high so we will not use these factors."
   ]
  },
  {
   "cell_type": "code",
   "execution_count": 68,
   "metadata": {},
   "outputs": [
    {
     "name": "stdout",
     "output_type": "stream",
     "text": [
      "593.0 593\n"
     ]
    }
   ],
   "source": [
    "predictedNumberOfLabels = 0\n",
    "for label in labelCountsGold:\n",
    "    predictedNumberOfLabels += multiplicationFactors[label]*labelCountsPredicted[label]\n",
    "print(predictedNumberOfLabels,sum(labelCountsGold.values()))"
   ]
  },
  {
   "cell_type": "markdown",
   "metadata": {},
   "source": [
    "## Classifying tweets"
   ]
  },
  {
   "cell_type": "code",
   "execution_count": 41,
   "metadata": {},
   "outputs": [],
   "source": [
    "import fasttext\n",
    "import matplotlib"
   ]
  },
  {
   "cell_type": "code",
   "execution_count": 17,
   "metadata": {},
   "outputs": [],
   "source": [
    "DATADIRECTORY = \"/home/erikt/projects/puregome/data/text/\"\n",
    "NEGATIVE = \"__label__NEGATIVE\"\n",
    "POSITIVE = \"__label__POSITIVE\"\n",
    "NEUTRAL = \"__label__NEUTRAL\"\n",
    "IRRELEVANT = \"__label__IRRELEVANT\"\n",
    "TEXT = \"text\"\n",
    "USER = \"user\"\n",
    "DIM = 300\n",
    "EPOCH = 100\n",
    "LR = 0.1"
   ]
  },
  {
   "cell_type": "code",
   "execution_count": 20,
   "metadata": {},
   "outputs": [],
   "source": [
    "def readData(datePattern,query):\n",
    "    fileList = sorted(os.listdir(DATADIRECTORY))\n",
    "    tmpFileName = \"classify.\"+str(int(random.random()*LARGEINT))+\".txt\"\n",
    "    testData = []\n",
    "    for inFileName in fileList:\n",
    "        if re.search(datePattern,inFileName):\n",
    "            os.system(\"gunzip -c \"+DATADIRECTORY+inFileName+\"| head -1 >\"+tmpFileName)\n",
    "            os.system(\"gunzip -c \"+DATADIRECTORY+inFileName+\"| grep \\\"\"+query+\"\\\" >> \"+tmpFileName)\n",
    "            try: df = pd.read_csv(tmpFileName)\n",
    "            except: continue\n",
    "            for i in range(0,len(df)):\n",
    "                if re.search(query,df.iloc[i][TEXT],flags=re.IGNORECASE):\n",
    "                    testData.append(df.iloc[i][USER]+\" \"+df.iloc[i][TEXT])\n",
    "    os.unlink(tmpFileName)\n",
    "    return(testData)\n",
    "    \n",
    "def classify(datePattern,query):\n",
    "    testData = readData(datePattern,query)\n",
    "    model = fasttext.train_supervised(FILEFASTTEXT,dim=DIM,epoch=EPOCH,lr=LR) # ,pretrainedVectors=PRETRAINEDDIR+WIKIFILENAME)\n",
    "    predictedLabels = model.predict(testData)\n",
    "    predictedGroups = pd.DataFrame(predictedLabels[0]).groupby(0).groups\n",
    "    labelCountsPredicted = {label:len(predictedGroups[label]) for label in predictedGroups}\n",
    "    nbrOfLabels = sum([labelCountsPredicted[label] for label in labelCountsPredicted if label != IRRELEVANT])\n",
    "    labelPercentages = { label:round(100*labelCountsPredicted[label]/nbrOfLabels,1) for label in labelCountsPredicted}\n",
    "    return(labelPercentages)"
   ]
  },
  {
   "cell_type": "code",
   "execution_count": 21,
   "metadata": {},
   "outputs": [
    {
     "name": "stdout",
     "output_type": "stream",
     "text": [
      "20200201 69.0 14.9 16.1 136.8\n",
      "20200202 53.7 18.5 27.8 62.0\n",
      "20200203 80.5 11.0 8.5 79.3\n",
      "20200204 64.7 19.0 16.4 43.1\n",
      "20200205 71.8 15.5 12.7 63.4\n",
      "20200206 80.0 12.0 8.0 84.0\n",
      "20200207 78.6 10.0 11.4 105.7\n",
      "20200208 82.3 7.6 10.1 72.2\n",
      "20200209 73.0 16.2 10.8 54.1\n",
      "20200210 89.7 3.4 6.9 50.0\n",
      "20200211 83.3 10.0 6.7 56.7\n",
      "20200212 69.4 16.7 13.9 61.1\n",
      "20200213 85.7 11.4 2.9 51.4\n",
      "20200214 59.1 22.7 18.2 59.1\n",
      "20200215 71.4 21.4 7.1 114.3\n",
      "20200216 72.7 18.2 9.1 54.5\n",
      "20200217 63.8 27.6 8.6 87.9\n",
      "20200218 82.7 13.5 3.8 144.2\n",
      "20200219 69.6 21.7 8.7 82.6\n",
      "20200220 61.5 7.7 30.8 61.5\n",
      "20200221 67.2 17.2 15.6 278.1\n",
      "20200222 80.6 12.4 7.0 168.2\n",
      "20200223 68.6 19.8 11.6 86.0\n",
      "20200224 70.6 13.7 15.7 48.0\n",
      "20200225 55.9 29.1 15.0 88.9\n",
      "20200226 73.4 16.1 10.5 75.5\n",
      "20200227 71.3 15.3 13.4 63.4\n",
      "20200228 77.5 12.1 10.4 61.1\n",
      "20200229 73.4 15.9 10.8 162.6\n",
      "20200230 error\n",
      "20200231 error\n",
      "20200301 75.8 17.5 6.8 97.7\n",
      "20200302 77.9 15.4 6.7 82.0\n",
      "20200303 73.7 17.1 9.2 149.5\n",
      "20200304 76.1 11.0 12.9 58.1\n",
      "20200305 73.4 18.3 8.3 73.2\n",
      "20200306 82.1 12.8 5.1 38.5\n",
      "20200307 74.8 18.4 6.9 61.1\n",
      "20200308 78.0 12.4 9.6 54.0\n",
      "20200309 72.9 14.3 12.8 55.7\n",
      "20200310 77.2 16.0 6.8 53.1\n",
      "20200311 90.8 5.1 4.1 30.1\n",
      "20200312 83.2 14.1 2.7 66.7\n",
      "20200313 78.5 16.4 5.2 214.6\n",
      "20200314 75.2 11.1 13.7 121.1\n",
      "20200315 59.2 20.1 20.6 56.8\n",
      "20200316 81.1 7.7 11.2 84.8\n",
      "20200317 87.2 8.4 4.4 90.6\n",
      "20200318 86.6 8.7 4.7 94.6\n",
      "20200319 85.3 6.9 7.8 69.6\n",
      "20200320 91.6 4.9 3.6 83.8\n",
      "20200321 80.4 14.7 4.8 119.3\n",
      "20200322 85.8 10.7 3.6 55.7\n",
      "20200323 68.1 27.3 4.6 100.4\n",
      "20200324 84.3 9.6 6.2 124.2\n",
      "20200325 84.9 9.3 5.8 80.6\n",
      "20200326 78.0 17.2 4.8 49.3\n",
      "20200327 85.8 10.4 3.8 80.5\n",
      "20200328 83.0 10.2 6.7 96.0\n",
      "20200329 78.5 15.3 6.3 84.3\n",
      "20200330 79.2 10.5 10.4 80.8\n",
      "20200331 83.1 8.0 8.9 83.5\n",
      "20200401 84.8 9.1 6.2 83.2\n",
      "20200402 77.3 14.6 8.0 57.4\n",
      "20200403 83.8 11.4 4.8 40.8\n",
      "20200404 82.3 12.4 5.2 38.6\n",
      "20200405 78.6 13.8 7.6 52.2\n",
      "20200406 81.9 10.8 7.3 81.0\n",
      "20200407 83.0 9.6 7.4 118.1\n",
      "20200408 70.3 14.1 15.6 46.6\n",
      "20200409 80.1 12.5 7.4 93.5\n",
      "20200410 83.1 11.3 5.6 97.4\n",
      "20200411 80.5 14.5 5.0 225.8\n",
      "20200412 77.4 16.7 5.9 124.1\n",
      "20200413 83.6 9.7 6.7 98.3\n",
      "20200414 83.3 9.1 7.6 100.9\n",
      "20200415 85.5 9.1 5.4 58.0\n",
      "20200416 81.8 12.6 5.6 53.3\n",
      "20200417 86.9 8.0 5.0 90.5\n",
      "20200418 86.7 7.7 5.6 65.1\n",
      "20200419 86.0 6.6 7.4 65.4\n",
      "20200420 84.7 8.9 6.4 77.2\n",
      "20200421 87.0 7.9 5.0 59.9\n",
      "20200422 83.7 7.4 8.8 51.7\n",
      "20200423 87.3 5.6 7.1 55.8\n",
      "20200424 71.1 9.9 19.0 61.6\n",
      "20200425 78.9 11.1 10.0 74.8\n",
      "20200426 82.8 9.7 7.6 88.3\n",
      "20200427 77.2 14.1 8.6 99.8\n",
      "20200428 79.8 12.7 7.6 105.6\n",
      "20200429 77.8 10.1 12.1 85.9\n",
      "20200430 82.1 10.0 7.8 97.3\n",
      "20200431 error\n",
      "20200501 78.9 13.1 8.0 68.5\n",
      "20200502 75.9 12.8 11.3 94.8\n",
      "20200503 80.6 10.8 8.6 56.6\n",
      "20200504 79.6 13.3 7.1 64.3\n",
      "20200505 75.7 13.2 11.1 61.8\n",
      "20200506 74.5 16.4 9.2 48.9\n",
      "20200507 74.5 17.7 7.8 50.7\n",
      "20200508 76.5 15.4 8.2 68.2\n",
      "20200509 69.4 23.0 7.6 63.3\n",
      "20200510 73.3 18.3 8.4 51.9\n",
      "20200511 78.3 11.4 10.2 80.3\n",
      "20200512 73.5 15.9 10.6 86.3\n",
      "20200513 71.8 18.1 10.0 88.1\n",
      "20200514 63.8 23.9 12.3 70.5\n",
      "20200515 65.5 24.7 9.8 68.3\n",
      "20200516 66.9 25.1 8.0 70.6\n",
      "20200517 66.3 27.6 6.1 54.6\n",
      "20200518 70.5 15.8 13.8 73.0\n",
      "20200519 78.5 11.6 9.9 53.9\n",
      "20200520 75.8 17.0 7.2 41.4\n",
      "20200521 76.9 15.8 7.2 72.6\n",
      "20200522 83.8 10.5 5.7 52.6\n",
      "20200523 82.2 11.1 6.7 73.4\n",
      "20200524 77.8 14.5 7.7 82.1\n",
      "20200525 72.5 19.9 7.6 87.1\n",
      "20200526 73.3 19.0 7.6 71.5\n",
      "20200527 75.7 15.3 8.9 59.3\n",
      "20200528 78.8 13.5 7.7 52.0\n",
      "20200529 75.7 14.1 10.3 69.0\n",
      "20200530 66.8 25.5 7.7 101.6\n",
      "20200531 64.7 24.1 11.2 58.3\n",
      "20200601 83.1 10.0 6.9 67.6\n",
      "20200602 80.5 9.1 10.3 93.3\n",
      "20200603 77.3 15.1 7.6 61.5\n",
      "20200604 77.5 14.1 8.4 58.2\n",
      "20200605 68.5 21.2 10.3 59.6\n",
      "20200606 76.9 13.5 9.6 68.6\n",
      "20200607 81.1 11.3 7.6 85.7\n",
      "20200608 70.0 21.8 8.2 83.1\n",
      "20200609 73.0 16.3 10.7 88.5\n",
      "20200610 75.8 15.7 8.5 81.7\n",
      "20200611 68.9 14.8 16.4 62.5\n",
      "20200612 65.7 19.0 15.3 50.8\n",
      "20200613 75.3 12.5 12.2 83.9\n",
      "20200614 78.5 11.1 10.4 47.4\n",
      "20200615 68.0 17.0 15.0 52.7\n",
      "20200616 77.1 14.9 8.0 78.2\n",
      "20200617 73.8 15.4 10.9 83.9\n",
      "20200618 61.5 27.6 10.9 73.7\n",
      "20200619 64.7 24.9 10.4 59.0\n",
      "20200620 70.9 18.9 10.2 54.2\n",
      "20200621 80.9 10.1 9.1 60.7\n",
      "20200622 79.4 11.5 9.1 46.1\n",
      "20200623 66.5 24.9 8.6 146.2\n",
      "20200624 64.1 25.6 10.3 80.8\n",
      "20200625 70.7 21.5 7.7 58.0\n",
      "20200626 error\n",
      "20200627 error\n",
      "20200628 error\n",
      "20200629 error\n",
      "20200630 error\n",
      "20200631 error\n"
     ]
    }
   ],
   "source": [
    "QUERY = \"mondkapje\"\n",
    "\n",
    "results = {}\n",
    "for month in \"202002 202003 202004 202005 202006\".split():\n",
    "    for day in range(1,32):\n",
    "        date = month+str(day).zfill(2)\n",
    "        try:\n",
    "            labels = classify(date,QUERY)\n",
    "            results[date] = labels\n",
    "            print(date,labels[NEGATIVE],labels[NEUTRAL],labels[POSITIVE],labels[IRRELEVANT])\n",
    "        except:\n",
    "            print(date,\"error\")"
   ]
  },
  {
   "cell_type": "code",
   "execution_count": 34,
   "metadata": {},
   "outputs": [
    {
     "data": {
      "text/plain": [
       "[1.0, 1.5, 2.0, 2.5, 3.0]"
      ]
     },
     "execution_count": 34,
     "metadata": {},
     "output_type": "execute_result"
    }
   ],
   "source": [
    "def movingAverage(numberList,size):\n",
    "    newList = []\n",
    "    for i in range(0,len(numberList)):\n",
    "        numberUsed = 1\n",
    "        newList.append(numberList[i])\n",
    "        for j in range(1,size):\n",
    "            if i-j >= 0:\n",
    "                newList[i] += numberList[i-j]\n",
    "                numberUsed += 1\n",
    "        newList[i] /= numberUsed\n",
    "    return(newList)"
   ]
  },
  {
   "cell_type": "code",
   "execution_count": 47,
   "metadata": {},
   "outputs": [
    {
     "data": {
      "image/png": "[encoded data removed]",
      "text/plain": [
       "<Figure size 864x432 with 1 Axes>"
      ]
     },
     "metadata": {
      "needs_background": "light"
     },
     "output_type": "display_data"
    }
   ],
   "source": [
    "import matplotlib.pyplot as plt\n",
    "\n",
    "DATEFORMAT = \"%Y%m%d\"\n",
    "DAYSCOMBINED = 7\n",
    "\n",
    "results ={k:results[k] for k in sorted(results.keys())}\n",
    "font = {\"size\":14}\n",
    "matplotlib.rc(\"font\",**font)\n",
    "plt.figure(figsize=(12,6))\n",
    "plt.plot_date([datetime.datetime.strptime(k,DATEFORMAT) for k in results.keys()],\\\n",
    "              movingAverage([labels[NEGATIVE] for labels in results.values()],DAYSCOMBINED),\\\n",
    "              fmt=\"-\",label=\"positive\")\n",
    "plt.plot_date([datetime.datetime.strptime(k,DATEFORMAT) for k in results.keys()],\\\n",
    "              movingAverage([labels[NEUTRAL] for labels in results.values()],DAYSCOMBINED),\\\n",
    "              fmt=\"-\",label=\"neutral\")\n",
    "plt.plot_date([datetime.datetime.strptime(k,DATEFORMAT) for k in results.keys()],\\\n",
    "              movingAverage([labels[POSITIVE] for labels in results.values()],DAYSCOMBINED),\\\n",
    "              fmt=\"-\",label=\"negative\")\n",
    "plt.legend()\n",
    "plt.title(\"stance on the RIVM policy on facemasks for the general public (average over \"+str(DAYSCOMBINED)+\" days)\")\n",
    "plt.ylabel(\"percentage\")\n",
    "plt.show()"
   ]
  },
  {
   "cell_type": "code",
   "execution_count": null,
   "metadata": {},
   "outputs": [],
   "source": []
  }
 ],
 "metadata": {
  "kernelspec": {
   "display_name": "Python 3",
   "language": "python",
   "name": "python3"
  },
  "language_info": {
   "codemirror_mode": {
    "name": "ipython",
    "version": 3
   },
   "file_extension": ".py",
   "mimetype": "text/x-python",
   "name": "python",
   "nbconvert_exporter": "python",
   "pygments_lexer": "ipython3",
   "version": "3.7.3"
  }
 },
 "nbformat": 4,
 "nbformat_minor": 4
}
