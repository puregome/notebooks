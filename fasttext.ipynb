{
 "cells": [
  {
   "cell_type": "markdown",
   "metadata": {},
   "source": [
    "# Fasttext tweet classification"
   ]
  },
  {
   "cell_type": "markdown",
   "metadata": {},
   "source": [
    "## Data file creation"
   ]
  },
  {
   "cell_type": "code",
   "execution_count": 1,
   "metadata": {},
   "outputs": [],
   "source": [
    "import datetime\n",
    "import matplotlib.pyplot as plt\n",
    "import matplotlib.dates as mdates\n",
    "import numpy as np\n",
    "import os\n",
    "import pandas as pd\n",
    "import pipes\n",
    "import random\n",
    "import re\n",
    "import tempfile\n",
    "from nltk.tokenize import TweetTokenizer\n",
    "from IPython.display import clear_output"
   ]
  },
  {
   "cell_type": "code",
   "execution_count": 2,
   "metadata": {},
   "outputs": [],
   "source": [
    "DATADIR = \"../data/\"\n",
    "TOPIC = \"distance\"\n",
    "TOPIC = \"mondkapje\"\n",
    "FILETWEETS = TOPIC+\"-tweets+nunl.csv\"\n",
    "FILEANNOTATIONS = FILETWEETS+\".human-labels.txt\"\n",
    "FILEFASTTEXT = \"fasttext-\"+TOPIC+\".csv\"\n",
    "LABELPREFIX = \"__label__\"\n",
    "LARGEINT = 9999999999\n",
    "LABEL = \"label\"\n",
    "TEXT = \"text\"\n",
    "USER = \"user\"\n",
    "IDSTR = \"id_str\"\n",
    "IRRELEVANT = \"IRRELEVANT\"\n",
    "NEUTRAL = \"NEUTRAL\""
   ]
  },
  {
   "cell_type": "code",
   "execution_count": 3,
   "metadata": {},
   "outputs": [],
   "source": [
    "tweets = pd.read_csv(DATADIR+FILETWEETS,index_col=IDSTR)\n",
    "annotations = pd.read_csv(DATADIR+FILEANNOTATIONS,header=None,sep=\" \")\n",
    "mainAnnotator = annotations.iloc[0][0]"
   ]
  },
  {
   "cell_type": "code",
   "execution_count": 4,
   "metadata": {},
   "outputs": [],
   "source": [
    "def cleanup(text):\n",
    "    text = re.sub(r\"\\\\n\",\" \",text)\n",
    "    text = re.sub(r\"https://\\S+\",\"\",text)\n",
    "    text = re.sub(r\"\\s+\",\" \",text)\n",
    "    text = text.strip()\n",
    "    return(text)\n",
    "\n",
    "def tokenize(text):\n",
    "    return(\" \".join(TweetTokenizer().tokenize(text)))\n",
    "\n",
    "def preprocess(text):\n",
    "    return(tokenize(cleanup(text)).lower())"
   ]
  },
  {
   "cell_type": "code",
   "execution_count": 5,
   "metadata": {},
   "outputs": [],
   "source": [
    "fasttextData = {}\n",
    "for i in range(0,len(annotations)):\n",
    "    annotator = annotations.iloc[i][0]\n",
    "    tweetId = annotations.iloc[i][2]\n",
    "    tweetLabel = annotations.iloc[i][4]\n",
    "    if tweetLabel == NEUTRAL: tweetLabel = IRRELEVANT\n",
    "    if annotator == mainAnnotator and tweetId in list(tweets.index):\n",
    "        tweetLabel = annotations.iloc[i][4]\n",
    "        tweetUser = tweets.loc[tweetId][1]\n",
    "        fasttextData[tweetId] = {LABEL:LABELPREFIX+tweetLabel,\\\n",
    "                                 USER:tweetUser,\\\n",
    "                                 TEXT:preprocess(tweets.loc[tweetId][TEXT])}"
   ]
  },
  {
   "cell_type": "code",
   "execution_count": 6,
   "metadata": {},
   "outputs": [
    {
     "data": {
      "text/plain": [
       "(2681, 8587, 2697)"
      ]
     },
     "execution_count": 6,
     "metadata": {},
     "output_type": "execute_result"
    }
   ],
   "source": [
    "len(fasttextData),len(tweets),len(annotations)"
   ]
  },
  {
   "cell_type": "code",
   "execution_count": 7,
   "metadata": {},
   "outputs": [],
   "source": [
    "outFile = open(FILEFASTTEXT,\"w\")\n",
    "seenTexts = {}\n",
    "for tweetId in fasttextData:\n",
    "    text = cleanup(fasttextData[tweetId][TEXT])\n",
    "    if not text in seenTexts:\n",
    "        print(fasttextData[tweetId][LABEL],text,file=outFile)\n",
    "        seenTexts[text] = True\n",
    "outFile.close()"
   ]
  },
  {
   "cell_type": "code",
   "execution_count": null,
   "metadata": {},
   "outputs": [],
   "source": [
    "annotations1 = annotations[annotations[0]==mainAnnotator]\n",
    "nbrOfAnnotationMinutes = len(set([str(x)[:12] for x in annotations1[1]]))\n",
    "nbrOfAnnotatedTweets = len(set([str(x)[:12] for x in annotations1[2]]))\n",
    "print(\"tweets annotated per minute:\",round(nbrOfAnnotatedTweets/nbrOfAnnotationMinutes,1),\"; 1000 tweets take:\",\\\n",
    "      round(1000/(nbrOfAnnotatedTweets/nbrOfAnnotationMinutes)),\"minutes\")"
   ]
  },
  {
   "cell_type": "code",
   "execution_count": null,
   "metadata": {},
   "outputs": [],
   "source": [
    "annotations2 = annotations[annotations[0]!=mainAnnotator]\n",
    "nbrOfAnnotationMinutes = len(set([str(x)[:12] for x in annotations2[1]]))\n",
    "nbrOfAnnotatedTweets = len(set([str(x)[:12] for x in annotations2[2]]))\n",
    "print(\"tweets annotated per minute:\",round(nbrOfAnnotatedTweets/nbrOfAnnotationMinutes,1),\"; 1000 tweets take:\",\\\n",
    "      round(1000/(nbrOfAnnotatedTweets/nbrOfAnnotationMinutes)),\"minutes\")"
   ]
  },
  {
   "cell_type": "markdown",
   "metadata": {},
   "source": [
    "## Fasttext run and evaluation"
   ]
  },
  {
   "cell_type": "code",
   "execution_count": 8,
   "metadata": {},
   "outputs": [],
   "source": [
    "import fasttext\n",
    "import random\n",
    "from IPython.display import clear_output"
   ]
  },
  {
   "cell_type": "code",
   "execution_count": 9,
   "metadata": {},
   "outputs": [],
   "source": [
    "PRETRAINEDDIR = \"/home/erikt/projects/newsgac/fasttext-runs/\"\n",
    "WIKIFILENAME = \"wiki.nl.vec\""
   ]
  },
  {
   "cell_type": "code",
   "execution_count": 10,
   "metadata": {},
   "outputs": [],
   "source": [
    "def print_results(N, p, r):\n",
    "    print(\"N\\t\" + str(N))\n",
    "    print(\"P@{}\\t{:.3f}\".format(1, p))\n",
    "    print(\"R@{}\\t{:.3f}\".format(1, r))"
   ]
  },
  {
   "cell_type": "code",
   "execution_count": 11,
   "metadata": {},
   "outputs": [
    {
     "data": {
      "text/plain": [
       "1322"
      ]
     },
     "execution_count": 11,
     "metadata": {},
     "output_type": "execute_result"
    }
   ],
   "source": [
    "fasttextData = []\n",
    "inFile = open(FILEFASTTEXT,\"r\")\n",
    "for line in inFile: fasttextData.append(line.strip())\n",
    "inFile.close()\n",
    "len(fasttextData)"
   ]
  },
  {
   "cell_type": "code",
   "execution_count": 12,
   "metadata": {},
   "outputs": [],
   "source": [
    "DIM = 100\n",
    "EPOCH = 100\n",
    "LR = 0.05\n",
    "N = 10\n",
    "TRAIN = \"TRAIN\"+str(int(random.random()*LARGEINT))\n",
    "TEST = \"TEST\"+str(int(random.random()*LARGEINT))"
   ]
  },
  {
   "cell_type": "code",
   "execution_count": 13,
   "metadata": {},
   "outputs": [],
   "source": [
    "def ranSelect(inList,size):\n",
    "    outList = []\n",
    "    selectionList = list(inList)\n",
    "    while len(outList) < size and len(selectionList) > 0:\n",
    "        index = int(random.random()*len(selectionList))\n",
    "        outList.append(selectionList[index])\n",
    "        del(selectionList[index])\n",
    "    return(outList)"
   ]
  },
  {
   "cell_type": "code",
   "execution_count": 14,
   "metadata": {},
   "outputs": [],
   "source": [
    "def runFasttext(fasttextData,dim=DIM,epoch=EPOCH,lr=LR,n=N,squealFlag=True,maxTrain=None):\n",
    "    predictionCounts = []\n",
    "    predictionLabels = []\n",
    "    for fold in range(0,n):\n",
    "        if squealFlag:\n",
    "            clear_output(wait=True)\n",
    "            print(\"starting fold\",fold)\n",
    "        testStart = round(fold*len(fasttextData)/n)\n",
    "        testEnd = round((fold+1)*len(fasttextData)/n)\n",
    "        trainFile = open(TRAIN,\"w\")\n",
    "        testFile = open(TEST,\"w\")\n",
    "        trainData = []\n",
    "        testData = []\n",
    "        for i in range(0,len(fasttextData)):\n",
    "            data = fasttextData[i]\n",
    "            if i < testStart or i >= testEnd: \n",
    "                print(data,file=trainFile)\n",
    "                trainData.append(data)\n",
    "            else: \n",
    "                print(data,file=testFile)\n",
    "                testData.append(data)\n",
    "        testFile.close()\n",
    "        trainFile.close()\n",
    "        if not maxTrain == None and maxTrain < len(trainData):\n",
    "            trainData = ranSelect(trainData,maxTrain)\n",
    "            trainFile = open(TRAIN,\"w\")\n",
    "            for i in range(0,len(trainData)):\n",
    "                print(trainData[i],file=trainFile)\n",
    "            trainFile.close()\n",
    "        model = fasttext.train_supervised(TRAIN,dim=dim,epoch=epoch,lr=lr)\n",
    "        predictionCounts.append([*model.test(TEST)])\n",
    "        predictionLabels.append(model.predict(testData))\n",
    "        os.unlink(TRAIN)\n",
    "        os.unlink(TEST)\n",
    "    if squealFlag:\n",
    "        clear_output(wait=True)\n",
    "        print(\"finished\")\n",
    "    return(predictionCounts,predictionLabels)"
   ]
  },
  {
   "cell_type": "code",
   "execution_count": 15,
   "metadata": {},
   "outputs": [],
   "source": [
    "def makeConfusionMatrix(fasttextData,predictionLabels):\n",
    "    goldLabels = pd.Series([fasttextData[i].split()[0] for i in range(0,len(fasttextData))])\n",
    "    predictedLabels = pd.Series([x[0] for row in predictionLabels for x in row[0]])\n",
    "    return(pd.crosstab(goldLabels,predictedLabels))"
   ]
  },
  {
   "cell_type": "code",
   "execution_count": 16,
   "metadata": {},
   "outputs": [],
   "source": [
    "def evaluate(predictionCounts,predictionLabels,fasttextData,printResults=True):\n",
    "    caseTotal = 0\n",
    "    pTotal = 0\n",
    "    rTotal = 0\n",
    "    for i in range(0,len(predictionCounts)):\n",
    "        caseTotal += predictionCounts[i][0]\n",
    "        pTotal += predictionCounts[i][0]*predictionCounts[i][1]\n",
    "        rTotal += predictionCounts[i][0]*predictionCounts[i][2]\n",
    "    precision = round(pTotal/caseTotal,3)\n",
    "    recall = round(rTotal/caseTotal,3)\n",
    "    cf = makeConfusionMatrix(fasttextData,predictionLabels)\n",
    "    for label in ['__label__REJECTS','__label__SUPPORTS','__label__IRRELEVANT']:\n",
    "        if not label in cf: cf[label] = [0 for i in range(0,len(cf))]\n",
    "    factor = sum(cf.loc['__label__SUPPORTS'])*sum([cf.iloc[i]['__label__REJECTS'] for i in range(0,len(cf))])/\\\n",
    "             (sum(cf.loc['__label__REJECTS'])*sum([cf.iloc[i]['__label__SUPPORTS'] for i in range(0,len(cf))]))\n",
    "    if printResults: print(\"cases: {0}; precision: {1}; recall: {2}; factor: {3:0.3f}\".format(caseTotal,precision,recall,factor))\n",
    "    return((precision,factor))"
   ]
  },
  {
   "cell_type": "markdown",
   "metadata": {},
   "source": [
    "## Grid search"
   ]
  },
  {
   "cell_type": "code",
   "execution_count": 17,
   "metadata": {},
   "outputs": [
    {
     "name": "stdout",
     "output_type": "stream",
     "text": [
      "10 10 0.05 cases: 1322; precision: 0.415; recall: 0.415; factor: inf\n"
     ]
    },
    {
     "name": "stderr",
     "output_type": "stream",
     "text": [
      "/home/erikt/anaconda3/envs/python37/lib/python3.7/site-packages/ipykernel_launcher.py:15: RuntimeWarning: divide by zero encountered in long_scalars\n",
      "  from ipykernel import kernelapp as app\n"
     ]
    },
    {
     "name": "stdout",
     "output_type": "stream",
     "text": [
      "10 10 0.1 cases: 1322; precision: 0.448; recall: 0.448; factor: 466.421\n",
      "10 10 0.2 cases: 1322; precision: 0.518; recall: 0.518; factor: 5.476\n",
      "10 20 0.05 cases: 1322; precision: 0.452; recall: 0.452; factor: 462.896\n",
      "10 20 0.1 cases: 1322; precision: 0.523; recall: 0.523; factor: 4.805\n",
      "10 20 0.2 cases: 1322; precision: 0.534; recall: 0.534; factor: 1.720\n",
      "10 50 0.05 cases: 1322; precision: 0.545; recall: 0.545; factor: 2.274\n",
      "10 50 0.1 cases: 1322; precision: 0.52; recall: 0.52; factor: 1.421\n",
      "10 50 0.2 cases: 1322; precision: 0.525; recall: 0.525; factor: 1.397\n",
      "10 100 0.05 cases: 1322; precision: 0.529; recall: 0.529; factor: 1.392\n",
      "10 100 0.1 cases: 1322; precision: 0.533; recall: 0.533; factor: 1.390\n",
      "10 100 0.2 cases: 1322; precision: 0.521; recall: 0.521; factor: 1.304\n",
      "10 200 0.05 cases: 1322; precision: 0.533; recall: 0.533; factor: 1.389\n",
      "10 200 0.1 cases: 1322; precision: 0.526; recall: 0.526; factor: 1.331\n",
      "10 200 0.2 cases: 1322; precision: 0.52; recall: 0.52; factor: 1.297\n",
      "10 300 0.05 cases: 1322; precision: 0.53; recall: 0.53; factor: 1.348\n",
      "10 300 0.1 cases: 1322; precision: 0.527; recall: 0.527; factor: 1.332\n",
      "10 300 0.2 cases: 1322; precision: 0.526; recall: 0.526; factor: 1.295\n",
      "20 10 0.05 cases: 1322; precision: 0.415; recall: 0.415; factor: inf\n",
      "20 10 0.1 cases: 1322; precision: 0.433; recall: 0.433; factor: inf\n",
      "20 10 0.2 cases: 1322; precision: 0.52; recall: 0.52; factor: 5.159\n",
      "20 20 0.05 cases: 1322; precision: 0.436; recall: 0.436; factor: 490.310\n",
      "20 20 0.1 cases: 1322; precision: 0.526; recall: 0.526; factor: 4.367\n",
      "20 20 0.2 cases: 1322; precision: 0.533; recall: 0.533; factor: 1.569\n",
      "20 50 0.05 cases: 1322; precision: 0.545; recall: 0.545; factor: 2.292\n",
      "20 50 0.1 cases: 1322; precision: 0.527; recall: 0.527; factor: 1.442\n",
      "20 50 0.2 cases: 1322; precision: 0.533; recall: 0.533; factor: 1.354\n",
      "20 100 0.05 cases: 1322; precision: 0.528; recall: 0.528; factor: 1.412\n",
      "20 100 0.1 cases: 1322; precision: 0.534; recall: 0.534; factor: 1.361\n",
      "20 100 0.2 cases: 1322; precision: 0.526; recall: 0.526; factor: 1.328\n",
      "20 200 0.05 cases: 1322; precision: 0.533; recall: 0.533; factor: 1.348\n",
      "20 200 0.1 cases: 1322; precision: 0.531; recall: 0.531; factor: 1.325\n",
      "20 200 0.2 cases: 1322; precision: 0.526; recall: 0.526; factor: 1.306\n",
      "20 300 0.05 cases: 1322; precision: 0.533; recall: 0.533; factor: 1.334\n",
      "20 300 0.1 cases: 1322; precision: 0.531; recall: 0.531; factor: 1.302\n",
      "20 300 0.2 cases: 1322; precision: 0.528; recall: 0.528; factor: 1.298\n",
      "50 10 0.05 cases: 1322; precision: 0.415; recall: 0.415; factor: inf\n",
      "50 10 0.1 cases: 1322; precision: 0.424; recall: 0.424; factor: inf\n",
      "50 10 0.2 cases: 1322; precision: 0.508; recall: 0.508; factor: 7.859\n",
      "50 20 0.05 cases: 1322; precision: 0.424; recall: 0.424; factor: 509.107\n",
      "50 20 0.1 cases: 1322; precision: 0.511; recall: 0.511; factor: 6.454\n",
      "50 20 0.2 cases: 1322; precision: 0.533; recall: 0.533; factor: 1.629\n",
      "50 50 0.05 cases: 1322; precision: 0.539; recall: 0.539; factor: 2.498\n",
      "50 50 0.1 cases: 1322; precision: 0.529; recall: 0.529; factor: 1.435\n",
      "50 50 0.2 cases: 1322; precision: 0.529; recall: 0.529; factor: 1.341\n",
      "50 100 0.05 cases: 1322; precision: 0.533; recall: 0.533; factor: 1.409\n",
      "50 100 0.1 cases: 1322; precision: 0.534; recall: 0.534; factor: 1.358\n",
      "50 100 0.2 cases: 1322; precision: 0.525; recall: 0.525; factor: 1.339\n",
      "50 200 0.05 cases: 1322; precision: 0.535; recall: 0.535; factor: 1.363\n",
      "50 200 0.1 cases: 1322; precision: 0.53; recall: 0.53; factor: 1.329\n",
      "50 200 0.2 cases: 1322; precision: 0.525; recall: 0.525; factor: 1.302\n",
      "50 300 0.05 cases: 1322; precision: 0.533; recall: 0.533; factor: 1.337\n",
      "50 300 0.1 cases: 1322; precision: 0.528; recall: 0.528; factor: 1.330\n",
      "50 300 0.2 cases: 1322; precision: 0.523; recall: 0.523; factor: 1.312\n",
      "100 10 0.05 cases: 1322; precision: 0.415; recall: 0.415; factor: inf\n",
      "100 10 0.1 cases: 1322; precision: 0.415; recall: 0.415; factor: 516.548\n",
      "100 10 0.2 cases: 1322; precision: 0.509; recall: 0.509; factor: 8.087\n",
      "100 20 0.05 cases: 1322; precision: 0.415; recall: 0.415; factor: inf\n",
      "100 20 0.1 cases: 1322; precision: 0.513; recall: 0.513; factor: 7.543\n",
      "100 20 0.2 cases: 1322; precision: 0.536; recall: 0.536; factor: 1.620\n",
      "100 50 0.05 cases: 1322; precision: 0.53; recall: 0.53; factor: 2.807\n",
      "100 50 0.1 cases: 1322; precision: 0.529; recall: 0.529; factor: 1.446\n",
      "100 50 0.2 cases: 1322; precision: 0.527; recall: 0.527; factor: 1.353\n",
      "100 100 0.05 cases: 1322; precision: 0.529; recall: 0.529; factor: 1.408\n",
      "100 100 0.1 cases: 1322; precision: 0.533; recall: 0.533; factor: 1.375\n",
      "100 100 0.2 cases: 1322; precision: 0.526; recall: 0.526; factor: 1.333\n",
      "100 200 0.05 cases: 1322; precision: 0.534; recall: 0.534; factor: 1.345\n",
      "100 200 0.1 cases: 1322; precision: 0.526; recall: 0.526; factor: 1.325\n",
      "100 200 0.2 cases: 1322; precision: 0.526; recall: 0.526; factor: 1.321\n",
      "100 300 0.05 cases: 1322; precision: 0.53; recall: 0.53; factor: 1.339\n",
      "100 300 0.1 cases: 1322; precision: 0.531; recall: 0.531; factor: 1.315\n",
      "100 300 0.2 cases: 1322; precision: 0.525; recall: 0.525; factor: 1.289\n",
      "200 10 0.05 cases: 1322; precision: 0.415; recall: 0.415; factor: inf\n",
      "200 10 0.1 cases: 1322; precision: 0.415; recall: 0.415; factor: inf\n",
      "200 10 0.2 cases: 1322; precision: 0.496; recall: 0.496; factor: 12.812\n",
      "200 20 0.05 cases: 1322; precision: 0.415; recall: 0.415; factor: inf\n",
      "200 20 0.1 cases: 1322; precision: 0.503; recall: 0.503; factor: 9.845\n",
      "200 20 0.2 cases: 1322; precision: 0.532; recall: 0.532; factor: 1.598\n",
      "200 50 0.05 cases: 1322; precision: 0.529; recall: 0.529; factor: 2.878\n",
      "200 50 0.1 cases: 1322; precision: 0.525; recall: 0.525; factor: 1.371\n",
      "200 50 0.2 cases: 1322; precision: 0.523; recall: 0.523; factor: 1.369\n",
      "200 100 0.05 cases: 1322; precision: 0.531; recall: 0.531; factor: 1.412\n",
      "200 100 0.1 cases: 1322; precision: 0.533; recall: 0.533; factor: 1.377\n",
      "200 100 0.2 cases: 1322; precision: 0.526; recall: 0.526; factor: 1.342\n",
      "200 200 0.05 cases: 1322; precision: 0.532; recall: 0.532; factor: 1.383\n",
      "200 200 0.1 cases: 1322; precision: 0.53; recall: 0.53; factor: 1.325\n",
      "200 200 0.2 cases: 1322; precision: 0.527; recall: 0.527; factor: 1.296\n",
      "200 300 0.05 cases: 1322; precision: 0.532; recall: 0.532; factor: 1.362\n",
      "200 300 0.1 cases: 1322; precision: 0.529; recall: 0.529; factor: 1.325\n",
      "200 300 0.2 cases: 1322; precision: 0.521; recall: 0.521; factor: 1.306\n",
      "300 10 0.05 cases: 1322; precision: 0.415; recall: 0.415; factor: inf\n",
      "300 10 0.1 cases: 1322; precision: 0.415; recall: 0.415; factor: inf\n",
      "300 10 0.2 cases: 1322; precision: 0.492; recall: 0.492; factor: 10.942\n",
      "300 20 0.05 cases: 1322; precision: 0.415; recall: 0.415; factor: inf\n",
      "300 20 0.1 cases: 1322; precision: 0.498; recall: 0.498; factor: 9.888\n",
      "300 20 0.2 cases: 1322; precision: 0.537; recall: 0.537; factor: 1.589\n",
      "300 50 0.05 cases: 1322; precision: 0.53; recall: 0.53; factor: 3.161\n",
      "300 50 0.1 cases: 1322; precision: 0.53; recall: 0.53; factor: 1.406\n",
      "300 50 0.2 cases: 1322; precision: 0.527; recall: 0.527; factor: 1.339\n",
      "300 100 0.05 cases: 1322; precision: 0.53; recall: 0.53; factor: 1.379\n",
      "300 100 0.1 cases: 1322; precision: 0.531; recall: 0.531; factor: 1.388\n",
      "300 100 0.2 cases: 1322; precision: 0.526; recall: 0.526; factor: 1.346\n",
      "300 200 0.05 cases: 1322; precision: 0.533; recall: 0.533; factor: 1.376\n",
      "300 200 0.1 cases: 1322; precision: 0.531; recall: 0.531; factor: 1.355\n",
      "300 200 0.2 cases: 1322; precision: 0.529; recall: 0.529; factor: 1.310\n",
      "300 300 0.05 cases: 1322; precision: 0.531; recall: 0.531; factor: 1.346\n",
      "300 300 0.1 cases: 1322; precision: 0.529; recall: 0.529; factor: 1.328\n",
      "300 300 0.2 cases: 1322; precision: 0.532; recall: 0.532; factor: 1.293\n"
     ]
    }
   ],
   "source": [
    "scores = {}\n",
    "for dim in [10,20,50,100,200,300]:\n",
    "    for epoch in [10,20,50,100,200,300]:\n",
    "        for lr in [0.05,0.1,0.2]:\n",
    "            predictionCounts,predictionLabels = runFasttext(fasttextData,dim=dim,epoch=epoch,lr=lr,squealFlag=False)\n",
    "            print(dim,epoch,lr,end=\" \")\n",
    "            key = \",\".join([str(dim),str(epoch),str(lr)])\n",
    "            scores[key] = evaluate(predictionCounts,predictionLabels,fasttextData)"
   ]
  },
  {
   "cell_type": "code",
   "execution_count": 18,
   "metadata": {},
   "outputs": [
    {
     "data": {
      "text/plain": [
       "[((0.545, 2.2744150203166598), '10 50 0.05'),\n",
       " ((0.545, 2.291595514571949), '20 50 0.05'),\n",
       " ((0.539, 2.4978187996510077), '50 50 0.05'),\n",
       " ((0.537, 1.5887357178340784), '300 20 0.2'),\n",
       " ((0.536, 1.6201925578974758), '100 20 0.2'),\n",
       " ((0.535, 1.3625992901808348), '50 200 0.05'),\n",
       " ((0.534, 1.7202498686960117), '10 20 0.2'),\n",
       " ((0.534, 1.3605806245657521), '20 100 0.1'),\n",
       " ((0.534, 1.357619914996964), '50 100 0.1'),\n",
       " ((0.534, 1.3446990818185198), '100 200 0.05')]"
      ]
     },
     "execution_count": 18,
     "metadata": {},
     "output_type": "execute_result"
    }
   ],
   "source": [
    "[(scores[k],k) for k in sorted(scores.keys(),key=lambda k:scores[k][0],reverse=True)][0:10]"
   ]
  },
  {
   "cell_type": "code",
   "execution_count": 25,
   "metadata": {},
   "outputs": [
    {
     "data": {
      "text/plain": [
       "[((0.526, 1.254322747551543), '10,900,0.2'),\n",
       " ((0.523, 1.2722910835665733), '10,1500,0.2'),\n",
       " ((0.523, 1.2761117775112176), '10,700,0.2'),\n",
       " ((0.525, 1.2761117775112176), '100,900,0.2'),\n",
       " ((0.526, 1.2867551392141556), '10,500,0.2'),\n",
       " ((0.525, 1.2886843073389145), '100 300 0.2'),\n",
       " ((0.532, 1.2931252141607603), '300 300 0.2'),\n",
       " ((0.526, 1.2950639326227704), '10 300 0.2'),\n",
       " ((0.527, 1.295661945282694), '200 200 0.2'),\n",
       " ((0.52, 1.2970026510847805), '10 200 0.2')]"
      ]
     },
     "execution_count": 25,
     "metadata": {},
     "output_type": "execute_result"
    }
   ],
   "source": [
    "[(scores[k],k) for k in sorted(scores.keys(),key=lambda k:scores[k][1])][0:10]"
   ]
  },
  {
   "cell_type": "code",
   "execution_count": 26,
   "metadata": {},
   "outputs": [
    {
     "name": "stdout",
     "output_type": "stream",
     "text": [
      "100 900 0.2 cases: 1322; precision: 0.527; recall: 0.527; factor: 1.280\n",
      "100 900 0.2 cases: 1322; precision: 0.526; recall: 0.526; factor: 1.294\n",
      "100 900 0.2 cases: 1322; precision: 0.52; recall: 0.52; factor: 1.259\n",
      "100 900 0.2 cases: 1322; precision: 0.524; recall: 0.524; factor: 1.285\n",
      "100 900 0.2 cases: 1322; precision: 0.524; recall: 0.524; factor: 1.278\n",
      "300 300 0.2 cases: 1322; precision: 0.526; recall: 0.526; factor: 1.291\n",
      "300 300 0.2 cases: 1322; precision: 0.523; recall: 0.523; factor: 1.297\n",
      "300 300 0.2 cases: 1322; precision: 0.526; recall: 0.526; factor: 1.264\n",
      "300 300 0.2 cases: 1322; precision: 0.523; recall: 0.523; factor: 1.334\n",
      "300 300 0.2 cases: 1322; precision: 0.528; recall: 0.528; factor: 1.323\n",
      "10 900 0.2 cases: 1322; precision: 0.526; recall: 0.526; factor: 1.252\n",
      "10 900 0.2 cases: 1322; precision: 0.523; recall: 0.523; factor: 1.276\n",
      "10 900 0.2 cases: 1322; precision: 0.525; recall: 0.525; factor: 1.254\n",
      "10 900 0.2 cases: 1322; precision: 0.523; recall: 0.523; factor: 1.278\n",
      "10 900 0.2 cases: 1322; precision: 0.527; recall: 0.527; factor: 1.258\n",
      "200 200 0.2 cases: 1322; precision: 0.527; recall: 0.527; factor: 1.304\n",
      "200 200 0.2 cases: 1322; precision: 0.529; recall: 0.529; factor: 1.302\n",
      "200 200 0.2 cases: 1322; precision: 0.529; recall: 0.529; factor: 1.287\n",
      "200 200 0.2 cases: 1322; precision: 0.525; recall: 0.525; factor: 1.326\n",
      "200 200 0.2 cases: 1322; precision: 0.524; recall: 0.524; factor: 1.289\n",
      "10 200 0.2 cases: 1322; precision: 0.523; recall: 0.523; factor: 1.304\n",
      "10 200 0.2 cases: 1322; precision: 0.526; recall: 0.526; factor: 1.303\n",
      "10 200 0.2 cases: 1322; precision: 0.526; recall: 0.526; factor: 1.302\n",
      "10 200 0.2 cases: 1322; precision: 0.523; recall: 0.523; factor: 1.310\n",
      "10 200 0.2 cases: 1322; precision: 0.528; recall: 0.528; factor: 1.287\n"
     ]
    }
   ],
   "source": [
    "N = 5\n",
    "scoresN = {} \n",
    "triplets = [(100,900,0.2),(300,300,0.2),(10,900,0.2),(200,200,0.2),(10,200,0.2)]\n",
    "\n",
    "for triplet in triplets:\n",
    "    dim,epoch,lr = triplet\n",
    "    key = \" \".join([str(dim),str(epoch),str(lr)])\n",
    "    scoresN[key] = []\n",
    "    for i in range(0,N): \n",
    "        predictionCounts,predictionLabels = runFasttext(fasttextData,dim=dim,epoch=epoch,lr=lr,squealFlag=False)\n",
    "        print(dim,epoch,lr,end=\" \")\n",
    "        scoresN[key].append(evaluate(predictionCounts,predictionLabels,fasttextData))"
   ]
  },
  {
   "cell_type": "code",
   "execution_count": 27,
   "metadata": {},
   "outputs": [
    {
     "data": {
      "text/plain": [
       "{'300 300 0.2': 1.302,\n",
       " '200 200 0.2': 1.302,\n",
       " '10 200 0.2': 1.301,\n",
       " '100 900 0.2': 1.279,\n",
       " '10 900 0.2': 1.264}"
      ]
     },
     "execution_count": 27,
     "metadata": {},
     "output_type": "execute_result"
    }
   ],
   "source": [
    "scoresNaverage = {}\n",
    "for key in scoresN: scoresNaverage[key] = round(np.average([x[1] for x in scoresN[key]]),3)\n",
    "{key:scoresNaverage[key] for key in sorted(scoresNaverage.keys(),key=lambda k:scoresNaverage[k],reverse=True)}"
   ]
  },
  {
   "cell_type": "code",
   "execution_count": 24,
   "metadata": {},
   "outputs": [
    {
     "name": "stdout",
     "output_type": "stream",
     "text": [
      "100 900 0.2 cases: 1322; precision: 0.525; recall: 0.525; factor: 1.276\n"
     ]
    }
   ],
   "source": [
    "for dim in [100]:\n",
    "    for epoch in [900]:\n",
    "        for lr in [0.2]:\n",
    "            predictionCounts,predictionLabels = runFasttext(fasttextData,dim=dim,epoch=epoch,lr=lr,squealFlag=False)\n",
    "            print(dim,epoch,lr,end=\" \")\n",
    "            key = \",\".join([str(dim),str(epoch),str(lr)])\n",
    "            scores[key] = evaluate(predictionCounts,predictionLabels,fasttextData)"
   ]
  },
  {
   "cell_type": "markdown",
   "metadata": {},
   "source": [
    "## Run with best parameters"
   ]
  },
  {
   "cell_type": "code",
   "execution_count": 28,
   "metadata": {},
   "outputs": [],
   "source": [
    "# social distancing\n",
    "BESTDIM = 20\n",
    "BESTEPOCH = 300\n",
    "BESTLR = 0.9\n",
    "# facemasks\n",
    "BESTDIM = 10\n",
    "BESTEPOCH = 900\n",
    "BESTLR = 0.2"
   ]
  },
  {
   "cell_type": "code",
   "execution_count": 29,
   "metadata": {},
   "outputs": [
    {
     "name": "stdout",
     "output_type": "stream",
     "text": [
      "finished\n"
     ]
    }
   ],
   "source": [
    "predictionCounts,predictionLabels = runFasttext(fasttextData,dim=BESTDIM,epoch=BESTEPOCH,lr=BESTLR)"
   ]
  },
  {
   "cell_type": "code",
   "execution_count": 30,
   "metadata": {},
   "outputs": [
    {
     "name": "stdout",
     "output_type": "stream",
     "text": [
      "cases: 1322; precision: 0.524; recall: 0.524; factor: 1.279\n"
     ]
    },
    {
     "data": {
      "text/plain": [
       "(0.524, 1.2785278045644488)"
      ]
     },
     "execution_count": 30,
     "metadata": {},
     "output_type": "execute_result"
    }
   ],
   "source": [
    "evaluate(predictionCounts,predictionLabels,fasttextData)"
   ]
  },
  {
   "cell_type": "code",
   "execution_count": 31,
   "metadata": {},
   "outputs": [
    {
     "data": {
      "text/plain": [
       "{'__label__NEUTRAL': 106,\n",
       " '__label__IRRELEVANT': 452,\n",
       " '__label__REJECTS': 549,\n",
       " '__label__SUPPORTS': 215}"
      ]
     },
     "execution_count": 31,
     "metadata": {},
     "output_type": "execute_result"
    }
   ],
   "source": [
    "labelCountsGold = {}\n",
    "for i in range(0,len(fasttextData)):\n",
    "    label = fasttextData[i].split()[0]\n",
    "    if label in labelCountsGold: labelCountsGold[label] += 1\n",
    "    else: labelCountsGold[label] = 1\n",
    "labelCountsGold"
   ]
  },
  {
   "cell_type": "code",
   "execution_count": 32,
   "metadata": {},
   "outputs": [
    {
     "name": "stdout",
     "output_type": "stream",
     "text": [
      "baseline accuracy: 0.415\n"
     ]
    }
   ],
   "source": [
    "print(\"baseline accuracy:\",round(max(labelCountsGold.values())/sum(labelCountsGold.values()),3))"
   ]
  },
  {
   "cell_type": "code",
   "execution_count": 33,
   "metadata": {},
   "outputs": [
    {
     "data": {
      "text/plain": [
       "{'__label__NEUTRAL': 66,\n",
       " '__label__REJECTS': 666,\n",
       " '__label__IRRELEVANT': 386,\n",
       " '__label__SUPPORTS': 204}"
      ]
     },
     "execution_count": 33,
     "metadata": {},
     "output_type": "execute_result"
    }
   ],
   "source": [
    "labelCountsPredicted = {}\n",
    "for i in range(0,len(predictionLabels)):\n",
    "    for label in predictionLabels[i][0]:\n",
    "        if label[0] in labelCountsPredicted: labelCountsPredicted[label[0]] += 1\n",
    "        else: labelCountsPredicted[label[0]] = 1\n",
    "labelCountsPredicted"
   ]
  },
  {
   "cell_type": "code",
   "execution_count": 34,
   "metadata": {},
   "outputs": [
    {
     "name": "stdout",
     "output_type": "stream",
     "text": [
      "total absolute deviation 234\n"
     ]
    }
   ],
   "source": [
    "print(\"total absolute deviation\",sum([abs(labelCountsPredicted[l]-labelCountsGold[l]) for l in labelCountsGold]))"
   ]
  },
  {
   "cell_type": "code",
   "execution_count": 35,
   "metadata": {},
   "outputs": [
    {
     "name": "stdout",
     "output_type": "stream",
     "text": [
      "relative deviation per label: {'__label__NEUTRAL': 0.377, '__label__IRRELEVANT': 0.146, '__label__REJECTS': 0.213, '__label__SUPPORTS': 0.051}\n"
     ]
    }
   ],
   "source": [
    "print(\"relative deviation per label:\",\\\n",
    "      {l:round(abs(labelCountsPredicted[l]-labelCountsGold[l])/labelCountsGold[l],3) for l in labelCountsGold})"
   ]
  },
  {
   "cell_type": "code",
   "execution_count": 36,
   "metadata": {},
   "outputs": [
    {
     "data": {
      "text/html": [
       "<div>\n",
       "<style scoped>\n",
       "    .dataframe tbody tr th:only-of-type {\n",
       "        vertical-align: middle;\n",
       "    }\n",
       "\n",
       "    .dataframe tbody tr th {\n",
       "        vertical-align: top;\n",
       "    }\n",
       "\n",
       "    .dataframe thead th {\n",
       "        text-align: right;\n",
       "    }\n",
       "</style>\n",
       "<table border=\"1\" class=\"dataframe\">\n",
       "  <thead>\n",
       "    <tr style=\"text-align: right;\">\n",
       "      <th>col_0</th>\n",
       "      <th>__label__IRRELEVANT</th>\n",
       "      <th>__label__NEUTRAL</th>\n",
       "      <th>__label__REJECTS</th>\n",
       "      <th>__label__SUPPORTS</th>\n",
       "    </tr>\n",
       "    <tr>\n",
       "      <th>row_0</th>\n",
       "      <th></th>\n",
       "      <th></th>\n",
       "      <th></th>\n",
       "      <th></th>\n",
       "    </tr>\n",
       "  </thead>\n",
       "  <tbody>\n",
       "    <tr>\n",
       "      <td>__label__IRRELEVANT</td>\n",
       "      <td>219</td>\n",
       "      <td>16</td>\n",
       "      <td>160</td>\n",
       "      <td>57</td>\n",
       "    </tr>\n",
       "    <tr>\n",
       "      <td>__label__NEUTRAL</td>\n",
       "      <td>24</td>\n",
       "      <td>9</td>\n",
       "      <td>52</td>\n",
       "      <td>21</td>\n",
       "    </tr>\n",
       "    <tr>\n",
       "      <td>__label__REJECTS</td>\n",
       "      <td>105</td>\n",
       "      <td>21</td>\n",
       "      <td>381</td>\n",
       "      <td>42</td>\n",
       "    </tr>\n",
       "    <tr>\n",
       "      <td>__label__SUPPORTS</td>\n",
       "      <td>38</td>\n",
       "      <td>20</td>\n",
       "      <td>73</td>\n",
       "      <td>84</td>\n",
       "    </tr>\n",
       "  </tbody>\n",
       "</table>\n",
       "</div>"
      ],
      "text/plain": [
       "col_0                __label__IRRELEVANT  __label__NEUTRAL  __label__REJECTS  \\\n",
       "row_0                                                                          \n",
       "__label__IRRELEVANT                  219                16               160   \n",
       "__label__NEUTRAL                      24                 9                52   \n",
       "__label__REJECTS                     105                21               381   \n",
       "__label__SUPPORTS                     38                20                73   \n",
       "\n",
       "col_0                __label__SUPPORTS  \n",
       "row_0                                   \n",
       "__label__IRRELEVANT                 57  \n",
       "__label__NEUTRAL                    21  \n",
       "__label__REJECTS                    42  \n",
       "__label__SUPPORTS                   84  "
      ]
     },
     "execution_count": 36,
     "metadata": {},
     "output_type": "execute_result"
    }
   ],
   "source": [
    "makeConfusionMatrix(fasttextData,predictionLabels)"
   ]
  },
  {
   "cell_type": "markdown",
   "metadata": {},
   "source": [
    "For the mondkapje data, fasttext predicts 63% of the labels correctly without external dictionary and 66% with a Wikipedia dictionary (baseline: 46%). It overestimates the presence of negative labels and underestimates the level of positive and neutral labels. The amount of irrelevant labels is about right"
   ]
  },
  {
   "cell_type": "code",
   "execution_count": 37,
   "metadata": {},
   "outputs": [
    {
     "data": {
      "text/plain": [
       "{'__label__NEUTRAL': 1.606060606060606,\n",
       " '__label__IRRELEVANT': 1.1709844559585492,\n",
       " '__label__REJECTS': 0.8243243243243243,\n",
       " '__label__SUPPORTS': 1.053921568627451}"
      ]
     },
     "execution_count": 37,
     "metadata": {},
     "output_type": "execute_result"
    }
   ],
   "source": [
    "multiplicationFactors = {}\n",
    "for label in labelCountsGold:\n",
    "    multiplicationFactors[label] = labelCountsGold[label]/labelCountsPredicted[label]\n",
    "multiplicationFactors"
   ]
  },
  {
   "cell_type": "markdown",
   "metadata": {},
   "source": [
    "For mondkapje tweets, the multiplication factor for the positive label is unrealistically high so we will not use these factors."
   ]
  },
  {
   "cell_type": "code",
   "execution_count": 38,
   "metadata": {},
   "outputs": [
    {
     "name": "stdout",
     "output_type": "stream",
     "text": [
      "1322.0 1322\n"
     ]
    }
   ],
   "source": [
    "predictedNumberOfLabels = 0\n",
    "for label in labelCountsGold:\n",
    "    predictedNumberOfLabels += multiplicationFactors[label]*labelCountsPredicted[label]\n",
    "print(predictedNumberOfLabels,sum(labelCountsGold.values()))"
   ]
  },
  {
   "cell_type": "markdown",
   "metadata": {},
   "source": [
    "## Relation data size - accuracy"
   ]
  },
  {
   "cell_type": "code",
   "execution_count": 39,
   "metadata": {},
   "outputs": [
    {
     "name": "stdout",
     "output_type": "stream",
     "text": [
      " 100 0.428 1.759\n",
      " 200 0.451 1.341\n",
      " 500 0.499 1.416\n",
      "1000 0.523 1.284\n",
      "1322 0.526 1.261\n"
     ]
    }
   ],
   "source": [
    "N = 5\n",
    "expResultsAll = {}\n",
    "for trainingSize in [100,200,500,1000,2000,5000,10000]:\n",
    "    expResultsTrainingSize = []\n",
    "    for i in range(0,N):\n",
    "        selection = ranSelect(fasttextData,trainingSize)\n",
    "        predictionCounts,predictionLabels = runFasttext(fasttextData,dim=BESTDIM,epoch=BESTEPOCH,lr=BESTLR,squealFlag=False,maxTrain=trainingSize)\n",
    "        expResultsTrainingSize.append(evaluate(predictionCounts,predictionLabels,fasttextData,printResults=False))\n",
    "    average = (np.average([x[0] for x in expResultsTrainingSize]),np.average([x[1] for x in expResultsTrainingSize]))\n",
    "    expResultsAll[len(selection)] = average\n",
    "    print(\"{0:4} {1:0.3f} {2:0.3f}\".format(len(selection),average[0],average[1]))\n",
    "    if len(selection) >= len(fasttextData): break"
   ]
  },
  {
   "cell_type": "code",
   "execution_count": 40,
   "metadata": {},
   "outputs": [],
   "source": [
    "del(expResultsAll[list(expResultsAll.keys())[-1]])"
   ]
  },
  {
   "cell_type": "code",
   "execution_count": 41,
   "metadata": {},
   "outputs": [
    {
     "data": {
      "image/png": "[encoded data removed]",
      "text/plain": [
       "<Figure size 1152x432 with 2 Axes>"
      ]
     },
     "metadata": {
      "needs_background": "light"
     },
     "output_type": "display_data"
    }
   ],
   "source": [
    "plt.figure(figsize=(16,6))\n",
    "\n",
    "ax1 = plt.subplot(121)\n",
    "plt.plot(list(expResultsAll.keys()),[x[0] for x in list(expResultsAll.values())])\n",
    "plt.xscale(\"log\")\n",
    "plt.ylabel(\"accuracy\")\n",
    "plt.xlabel(\"training data size\")\n",
    "plt.title(\"Accuracy related to training size\")\n",
    "\n",
    "ax1 = plt.subplot(122)\n",
    "plt.plot(list(expResultsAll.keys()),[x[1] for x in list(expResultsAll.values())])\n",
    "plt.xscale(\"log\")\n",
    "plt.ylabel(\"fraction\")\n",
    "plt.xlabel(\"training data size\")\n",
    "plt.title(\"Rejects/Supports fraction related to training size\")\n",
    "\n",
    "plt.show()"
   ]
  },
  {
   "cell_type": "markdown",
   "metadata": {},
   "source": [
    "## Classifying unlabeled tweets"
   ]
  },
  {
   "cell_type": "code",
   "execution_count": 42,
   "metadata": {},
   "outputs": [],
   "source": [
    "import fasttext\n",
    "import matplotlib\n",
    "import os\n",
    "import pandas as pd\n",
    "import re\n",
    "from nltk.tokenize import TweetTokenizer"
   ]
  },
  {
   "cell_type": "code",
   "execution_count": 43,
   "metadata": {},
   "outputs": [],
   "source": [
    "BASEDIR = \"/home/erikt/projects/puregome/data/\"\n",
    "DATADIRECTORY = BASEDIR+\"text/\"\n",
    "DATADIRECTORYREDDIT = BASEDIR+\"reddit/text/\"\n",
    "DATADIRECTORYNUNL = BASEDIR+\"nunl/text/\"\n",
    "TWITTER = \"twitter\"\n",
    "REDDIT = \"reddit\"\n",
    "NUNL = \"nunl\"\n",
    "SOURCES = [TWITTER,REDDIT,NUNL]\n",
    "DATADIRECTORIES = {TWITTER:DATADIRECTORY,REDDIT:DATADIRECTORYREDDIT,NUNL:DATADIRECTORYNUNL}\n",
    "TOPIC = \"distance\"\n",
    "TOPIC = \"mondkapje\"\n",
    "FILEFASTTEXT = \"fasttext-\"+TOPIC+\".csv\"\n",
    "LABELPREFIX = \"__label__\"\n",
    "NEGATIVE = LABELPREFIX+\"NEGATIVE\"\n",
    "POSITIVE = LABELPREFIX+\"POSITIVE\"\n",
    "NEUTRAL = LABELPREFIX+\"NEUTRAL\"\n",
    "IRRELEVANT = LABELPREFIX+\"IRRELEVANT\"\n",
    "SUPPORTS = LABELPREFIX+\"SUPPORTS\"\n",
    "REJECTS = LABELPREFIX+\"REJECTS\"\n",
    "TEXT = \"text\"\n",
    "USER = \"user\"\n",
    "TOTAL = \"total\"\n",
    "DIM = BESTDIM\n",
    "EPOCH = BESTEPOCH\n",
    "LR = BESTLR"
   ]
  },
  {
   "cell_type": "code",
   "execution_count": 44,
   "metadata": {},
   "outputs": [],
   "source": [
    "def cleanup(text):\n",
    "    text = re.sub(r\"\\\\n\",\" \",text)\n",
    "    text = re.sub(r\"https://\\S+\",\"\",text)\n",
    "    text = re.sub(r\"\\s+\",\" \",text)\n",
    "    text = text.strip()\n",
    "    return(text)\n",
    "\n",
    "def tokenize(text):\n",
    "    return(\" \".join(TweetTokenizer().tokenize(text)))\n",
    "\n",
    "def preprocess(text):\n",
    "    return(tokenize(cleanup(text)).lower())"
   ]
  },
  {
   "cell_type": "code",
   "execution_count": 45,
   "metadata": {},
   "outputs": [],
   "source": [
    "def makeGrepCommandFromQuery(query):\n",
    "    grepCommand = \"grep\"\n",
    "    for orPart in query.split(\"|\"):\n",
    "        grepCommand += ' -e \"'+orPart+'\"'\n",
    "    return(grepCommand)\n",
    "\n",
    "def readData(datePattern,query,dataDirectory=DATADIRECTORY):\n",
    "    fileList = sorted(os.listdir(dataDirectory))\n",
    "    testData = []\n",
    "    for inFileName in fileList:\n",
    "        if re.search(datePattern,inFileName) and os.path.exists(dataDirectory+inFileName):\n",
    "            try:\n",
    "                fileData = pd.read_csv(dataDirectory+inFileName).drop_duplicates()\n",
    "                matchedText = [line for line in fileData[TEXT] if re.search(query,line,flags=re.IGNORECASE)]\n",
    "                matchedTextPreprocessed = [preprocess(line) for line in matchedText]\n",
    "                testData.extend(matchedTextPreprocessed)\n",
    "            except:\n",
    "                pass\n",
    "    return(testData)\n",
    "    \n",
    "def classify(datePattern,query,model,dataDirectory=DATADIRECTORY):\n",
    "    testData = readData(datePattern,query,dataDirectory)\n",
    "    predictedLabels = model.predict(testData)\n",
    "    predictedGroups = pd.DataFrame(predictedLabels[0]).groupby(0).groups\n",
    "    labelCountsPredicted = {label:len(predictedGroups[label]) for label in predictedGroups}\n",
    "    nbrOfLabels = sum([labelCountsPredicted[label] for label in labelCountsPredicted if label != IRRELEVANT])\n",
    "    labelPercentages = { label:round(100*labelCountsPredicted[label]/nbrOfLabels,1) for label in labelCountsPredicted}\n",
    "    labelPercentages[TOTAL] = nbrOfLabels\n",
    "    return(labelPercentages)"
   ]
  },
  {
   "cell_type": "code",
   "execution_count": 46,
   "metadata": {},
   "outputs": [],
   "source": [
    "QUERY = \"1[.,]5[ -]*m|afstand.*hou|hou.*afstand|anderhalve[ -]*meter\"\n",
    "QUERY = TOPIC\n",
    "MAXDAYSPERMONTH = 31\n",
    "\n",
    "model = fasttext.train_supervised(FILEFASTTEXT,dim=BESTDIM,epoch=BESTEPOCH,lr=BESTLR)"
   ]
  },
  {
   "cell_type": "code",
   "execution_count": 47,
   "metadata": {},
   "outputs": [
    {
     "name": "stdout",
     "output_type": "stream",
     "text": [
      "twitter 20200201 73.8 11.3 73.8 168\n",
      "twitter 20200202 83.7 9.5 78.9 147\n",
      "twitter 20200203 68.6 14.3 61.9 105\n",
      "twitter 20200204 84.8 8.3 33.8 145\n",
      "twitter 20200205 59.6 31.9 40.4 94\n",
      "twitter 20200206 76.7 15.1 47.9 73\n",
      "twitter 20200207 64.6 20.5 29.9 127\n",
      "twitter 20200208 73.8 15.6 24.6 122\n",
      "twitter 20200209 73.9 15.2 32.6 46\n",
      "twitter 20200210 74.7 16.0 32.0 75\n",
      "twitter 20200211 79.5 2.6 46.2 39\n",
      "twitter 20200212 46.6 43.1 13.8 58\n",
      "twitter 20200213 77.3 11.4 34.1 44\n",
      "twitter 20200214 73.1 19.2 50.0 26\n",
      "twitter 20200215 73.5 17.6 17.6 34\n",
      "twitter 20200216 88.2 5.9 20.6 34\n",
      "twitter 20200217 71.3 11.5 29.9 87\n",
      "twitter 20200218 86.6 9.0 113.4 67\n",
      "twitter 20200219 86.2 10.3 51.7 29\n",
      "twitter 20200220 84.2 10.5 26.3 19\n",
      "twitter 20200221 81.7 6.7 109.2 120\n",
      "twitter 20200222 59.0 15.7 65.1 229\n",
      "twitter 20200223 67.8 16.1 50.0 118\n",
      "twitter 20200224 66.8 11.6 51.7 259\n",
      "twitter 20200225 69.5 13.6 25.9 999\n",
      "twitter 20200226 68.3 22.6 26.9 1142\n",
      "twitter 20200227 67.7 18.5 36.4 1387\n",
      "twitter 20200228 73.5 12.7 40.5 1266\n",
      "twitter 20200229 73.8 10.8 94.2 530\n",
      "twitter 20200230 error\n",
      "twitter 20200231 error\n",
      "twitter 20200301 72.5 11.0 81.7 509\n",
      "twitter 20200302 73.1 11.7 82.2 635\n",
      "twitter 20200303 71.7 12.4 116.9 516\n",
      "twitter 20200304 79.4 13.4 70.2 486\n",
      "twitter 20200305 68.9 10.7 34.9 691\n",
      "twitter 20200306 81.1 6.5 35.8 676\n",
      "twitter 20200307 81.1 7.0 53.8 359\n",
      "twitter 20200308 84.9 8.4 37.2 358\n",
      "twitter 20200309 66.3 23.8 28.1 555\n",
      "twitter 20200310 70.6 18.2 27.9 466\n",
      "twitter 20200311 90.3 4.7 37.1 1105\n",
      "twitter 20200312 79.9 8.6 32.7 1586\n",
      "twitter 20200313 77.8 8.1 151.4 1353\n",
      "twitter 20200314 74.1 14.4 68.2 958\n",
      "twitter 20200315 78.4 13.2 45.4 1155\n",
      "twitter 20200316 83.7 7.8 67.4 2260\n",
      "twitter 20200317 80.7 8.7 74.5 3649\n",
      "twitter 20200318 73.7 10.8 87.9 4225\n",
      "twitter 20200319 73.4 7.7 69.6 5059\n",
      "twitter 20200320 78.7 8.0 74.5 5010\n",
      "twitter 20200321 77.7 10.6 83.4 5316\n",
      "twitter 20200322 70.9 13.0 45.7 4087\n",
      "twitter 20200323 83.0 10.5 53.0 3081\n",
      "twitter 20200324 82.5 9.4 58.2 2149\n",
      "twitter 20200325 66.3 21.4 48.0 1723\n",
      "twitter 20200326 70.3 8.7 45.3 2085\n",
      "twitter 20200327 80.0 9.7 58.4 1693\n",
      "twitter 20200328 82.2 9.0 49.9 2070\n",
      "twitter 20200329 81.9 8.5 44.1 1756\n",
      "twitter 20200330 79.1 12.7 50.7 1935\n",
      "twitter 20200331 79.4 12.3 60.9 1523\n",
      "twitter 20200401 74.6 16.7 54.0 2731\n",
      "twitter 20200402 73.4 20.7 49.9 2989\n",
      "twitter 20200403 83.9 8.8 23.8 5073\n",
      "twitter 20200404 81.8 9.9 26.0 3699\n",
      "twitter 20200405 77.5 10.9 41.8 1492\n",
      "twitter 20200406 79.5 8.2 45.3 2005\n",
      "twitter 20200407 81.2 9.4 63.6 2044\n",
      "twitter 20200408 69.0 21.3 44.3 3027\n",
      "twitter 20200409 77.4 16.1 50.4 3574\n",
      "twitter 20200410 86.4 7.9 58.2 3392\n",
      "twitter 20200411 89.4 4.6 67.4 3898\n",
      "twitter 20200412 81.4 8.0 88.0 1216\n",
      "twitter 20200413 75.8 19.5 23.3 2488\n",
      "twitter 20200414 77.1 15.5 62.6 1602\n",
      "twitter 20200415 82.1 8.3 41.5 6226\n",
      "twitter 20200416 79.1 10.3 46.5 11590\n",
      "twitter 20200417 78.0 15.0 57.9 7077\n",
      "twitter 20200418 79.0 16.2 57.4 4795\n",
      "twitter 20200419 77.5 15.4 64.9 3990\n",
      "twitter 20200420 78.9 13.0 68.2 3842\n",
      "twitter 20200421 74.8 8.5 52.4 4286\n",
      "twitter 20200422 82.3 5.4 44.1 6266\n",
      "twitter 20200423 82.9 6.5 42.6 5810\n",
      "twitter 20200424 83.1 9.3 34.5 5452\n",
      "twitter 20200425 73.1 19.4 51.0 8999\n",
      "twitter 20200426 76.6 17.3 37.8 6315\n",
      "twitter 20200427 70.5 14.2 43.4 3103\n",
      "twitter 20200428 69.3 13.1 60.2 3975\n",
      "twitter 20200429 78.7 10.4 40.4 6680\n",
      "twitter 20200430 71.1 12.5 71.4 4863\n",
      "twitter 20200431 error\n",
      "twitter 20200501 79.5 9.0 39.4 3945\n",
      "twitter 20200502 78.8 8.6 73.8 3472\n",
      "twitter 20200503 74.9 8.5 40.5 3305\n",
      "twitter 20200504 79.2 12.9 53.6 3428\n",
      "twitter 20200505 77.7 14.0 41.2 2871\n",
      "twitter 20200506 82.0 10.8 44.5 10118\n",
      "twitter 20200507 77.0 15.8 52.3 10214\n",
      "twitter 20200508 77.2 13.1 51.1 3411\n",
      "twitter 20200509 77.4 13.3 51.7 2276\n",
      "twitter 20200510 79.0 12.4 44.4 1778\n",
      "twitter 20200511 79.8 12.3 51.2 2732\n",
      "twitter 20200512 73.8 15.9 46.8 2422\n",
      "twitter 20200513 77.0 11.8 43.4 2117\n",
      "twitter 20200514 77.1 11.9 41.4 2198\n",
      "twitter 20200515 77.2 10.6 41.9 2076\n",
      "twitter 20200516 75.8 13.2 28.9 3535\n",
      "twitter 20200517 70.0 10.9 40.2 2798\n",
      "twitter 20200518 78.6 11.5 41.0 2937\n",
      "twitter 20200519 84.6 9.8 45.7 5549\n",
      "twitter 20200520 79.6 13.7 34.1 4583\n",
      "twitter 20200521 81.9 10.9 45.9 2408\n",
      "twitter 20200522 78.2 12.1 58.1 1856\n",
      "twitter 20200523 82.6 10.2 63.5 1238\n",
      "twitter 20200524 78.1 13.9 33.5 1312\n",
      "twitter 20200525 75.9 14.2 73.7 1625\n",
      "twitter 20200526 77.0 14.1 34.7 1786\n",
      "twitter 20200527 78.8 12.3 39.6 1475\n",
      "twitter 20200528 79.0 14.7 36.0 1754\n",
      "twitter 20200529 79.7 12.9 36.3 1335\n",
      "twitter 20200530 65.8 7.1 45.4 1588\n",
      "twitter 20200531 77.2 8.9 28.9 1836\n",
      "twitter 20200601 79.4 12.0 58.7 6210\n",
      "twitter 20200602 78.5 14.4 77.8 4461\n",
      "twitter 20200603 80.4 12.0 49.9 2669\n",
      "twitter 20200604 81.9 9.7 32.7 1960\n",
      "twitter 20200605 73.0 15.8 43.8 1494\n",
      "twitter 20200606 77.9 15.7 45.4 1648\n",
      "twitter 20200607 76.5 15.3 53.3 1510\n",
      "twitter 20200608 78.7 12.8 54.0 1090\n",
      "twitter 20200609 84.8 9.0 33.1 1524\n",
      "twitter 20200610 79.6 13.4 44.3 1217\n",
      "twitter 20200611 76.0 16.5 53.4 861\n",
      "twitter 20200612 78.6 14.0 33.0 1241\n",
      "twitter 20200613 79.9 14.1 37.4 943\n",
      "twitter 20200614 55.4 39.4 21.7 775\n",
      "twitter 20200615 75.1 17.2 34.6 970\n",
      "twitter 20200616 81.9 11.1 41.3 1287\n",
      "twitter 20200617 73.6 15.1 55.5 849\n",
      "twitter 20200618 73.5 12.7 51.4 797\n",
      "twitter 20200619 74.9 16.2 46.7 1114\n",
      "twitter 20200620 76.5 14.0 49.7 843\n",
      "twitter 20200621 82.9 10.9 31.5 1365\n",
      "twitter 20200622 75.4 15.2 39.0 1109\n",
      "twitter 20200623 65.8 19.5 89.9 625\n",
      "twitter 20200624 77.1 12.2 43.1 1350\n",
      "twitter 20200625 73.0 17.1 38.5 883\n",
      "twitter 20200626 77.7 13.1 36.3 578\n",
      "twitter 20200627 75.7 15.7 35.0 523\n",
      "twitter 20200628 74.3 18.1 35.8 634\n",
      "twitter 20200629 69.6 21.4 29.4 991\n",
      "twitter 20200630 76.5 15.4 29.6 690\n",
      "twitter 20200631 error\n",
      "twitter 20200701 77.4 14.6 37.7 877\n",
      "twitter 20200702 77.2 11.5 43.8 950\n",
      "twitter 20200703 75.9 14.4 63.1 735\n",
      "twitter 20200704 73.3 16.8 46.8 602\n",
      "twitter 20200705 79.7 13.5 41.1 929\n",
      "twitter 20200706 85.4 8.6 26.3 1081\n",
      "twitter 20200707 83.8 11.2 66.0 724\n",
      "twitter 20200708 77.4 14.9 40.5 696\n",
      "twitter 20200709 73.1 14.4 34.9 687\n",
      "twitter 20200710 75.8 14.9 31.2 928\n",
      "twitter 20200711 69.6 10.2 37.7 1082\n",
      "twitter 20200712 82.7 8.3 23.6 2172\n",
      "twitter 20200713 75.8 13.0 59.3 1033\n",
      "twitter 20200714 79.1 13.2 40.2 1573\n",
      "twitter 20200715 71.2 14.3 54.7 1734\n",
      "twitter 20200716 77.2 12.0 47.2 1845\n",
      "twitter 20200717 74.0 18.1 59.5 2018\n",
      "twitter 20200718 75.2 14.6 46.4 1824\n",
      "twitter 20200719 68.6 20.6 31.5 1788\n",
      "twitter 20200720 72.8 18.0 35.5 1259\n",
      "twitter 20200721 74.8 12.5 32.4 2360\n",
      "twitter 20200722 71.6 16.0 36.1 5912\n",
      "twitter 20200723 76.8 14.2 35.5 10164\n",
      "twitter 20200724 76.3 16.4 36.2 10692\n",
      "twitter 20200725 78.3 13.6 36.9 5245\n",
      "twitter 20200726 74.0 18.0 36.1 4722\n",
      "twitter 20200727 74.3 17.6 39.1 3374\n",
      "twitter 20200728 76.6 13.4 45.4 4568\n",
      "twitter 20200729 74.9 15.5 43.2 7437\n",
      "twitter 20200730 75.1 15.2 49.9 10719\n",
      "twitter 20200731 76.8 14.4 49.5 6180\n",
      "total relevant found: 431216\n",
      "reddit 20200201 error\n",
      "reddit 20200202 error\n",
      "reddit 20200203 error\n",
      "reddit 20200204 error\n",
      "reddit 20200205 error\n",
      "reddit 20200206 error\n",
      "reddit 20200207 error\n",
      "reddit 20200208 error\n",
      "reddit 20200209 error\n",
      "reddit 20200210 error\n",
      "reddit 20200211 error\n",
      "reddit 20200212 error\n",
      "reddit 20200213 error\n",
      "reddit 20200214 error\n",
      "reddit 20200215 error\n",
      "reddit 20200216 error\n",
      "reddit 20200217 error\n",
      "reddit 20200218 error\n",
      "reddit 20200219 error\n",
      "reddit 20200220 error\n",
      "reddit 20200221 error\n",
      "reddit 20200222 error\n",
      "reddit 20200223 error\n",
      "reddit 20200224 error\n",
      "reddit 20200225 error\n",
      "reddit 20200226 error\n",
      "reddit 20200227 error\n",
      "reddit 20200228 error\n",
      "reddit 20200229 error\n",
      "reddit 20200230 error\n",
      "reddit 20200231 error\n",
      "reddit 20200301 error\n",
      "reddit 20200302 33.3 50.0 16.7 6\n",
      "reddit 20200303 100.0 0 50.0 2\n",
      "reddit 20200304 100.0 0 0 1\n",
      "reddit 20200305 100.0 0 0 1\n",
      "reddit 20200306 80.0 20.0 0 5\n",
      "reddit 20200307 error\n",
      "reddit 20200308 error\n",
      "reddit 20200309 error\n",
      "reddit 20200310 66.7 16.7 33.3 6\n",
      "reddit 20200311 75.0 12.5 25.0 8\n",
      "reddit 20200312 80.0 10.0 60.0 10\n",
      "reddit 20200313 80.0 0 0 5\n",
      "reddit 20200314 60.0 40.0 40.0 5\n",
      "reddit 20200315 71.4 28.6 28.6 7\n",
      "reddit 20200316 85.7 14.3 28.6 7\n",
      "reddit 20200317 71.4 28.6 14.3 7\n",
      "reddit 20200318 71.1 20.0 20.0 45\n",
      "reddit 20200319 25.0 25.0 75.0 8\n",
      "reddit 20200320 73.3 13.3 53.3 15\n",
      "reddit 20200321 72.7 18.2 36.4 22\n",
      "reddit 20200322 71.4 14.3 42.9 14\n",
      "reddit 20200323 55.6 11.1 16.7 18\n",
      "reddit 20200324 70.0 30.0 30.0 10\n",
      "reddit 20200325 100.0 0 200.0 1\n",
      "reddit 20200326 55.6 33.3 55.6 9\n",
      "reddit 20200327 50.0 50.0 300.0 2\n",
      "reddit 20200328 50.0 50.0 150.0 2\n",
      "reddit 20200329 60.0 20.0 80.0 10\n",
      "reddit 20200330 85.7 14.3 0 14\n",
      "reddit 20200331 41.2 47.1 76.5 17\n",
      "reddit 20200401 57.9 31.6 10.5 19\n",
      "reddit 20200402 60.0 40.0 40.0 5\n",
      "reddit 20200403 66.7 33.3 58.3 12\n",
      "reddit 20200404 25.0 25.0 0 4\n",
      "reddit 20200405 0 100.0 0 1\n",
      "reddit 20200406 error\n",
      "reddit 20200407 85.7 14.3 28.6 7\n",
      "reddit 20200408 75.0 0 75.0 4\n",
      "reddit 20200409 71.4 28.6 42.9 7\n",
      "reddit 20200410 42.9 42.9 71.4 7\n",
      "reddit 20200411 33.3 0 100.0 3\n",
      "reddit 20200412 50.0 50.0 100.0 2\n",
      "reddit 20200414 77.8 11.1 55.6 9\n",
      "reddit 20200415 86.7 6.7 26.7 15\n",
      "reddit 20200416 55.9 35.3 5.9 34\n",
      "reddit 20200417 62.5 25.0 25.0 8\n",
      "reddit 20200418 66.7 33.3 33.3 3\n",
      "reddit 20200419 100.0 0 0 1\n",
      "reddit 20200420 50.0 50.0 100.0 2\n",
      "reddit 20200421 error\n",
      "reddit 20200422 37.5 37.5 50.0 8\n",
      "reddit 20200423 78.9 15.8 10.5 19\n",
      "reddit 20200424 66.7 33.3 9.5 21\n",
      "reddit 20200425 42.9 28.6 85.7 7\n",
      "reddit 20200426 0 33.3 33.3 3\n",
      "reddit 20200427 50.0 0 100.0 2\n",
      "reddit 20200428 71.4 28.6 42.9 7\n",
      "reddit 20200429 70.0 15.0 15.0 20\n",
      "reddit 20200430 60.0 40.0 60.0 5\n",
      "reddit 20200431 error\n",
      "reddit 20200501 error\n",
      "reddit 20200502 0 100.0 0 1\n",
      "reddit 20200503 50.0 50.0 100.0 2\n",
      "reddit 20200504 75.0 12.5 37.5 8\n",
      "reddit 20200505 79.2 16.7 25.0 24\n",
      "reddit 20200506 70.0 18.3 35.0 60\n",
      "reddit 20200507 67.3 17.3 32.7 52\n",
      "reddit 20200508 55.2 17.2 17.2 29\n",
      "reddit 20200509 76.5 23.5 17.6 17\n",
      "reddit 20200510 57.1 14.3 57.1 7\n",
      "reddit 20200511 77.8 11.1 22.2 9\n",
      "reddit 20200512 100.0 0 200.0 2\n",
      "reddit 20200513 61.5 15.4 7.7 13\n",
      "reddit 20200514 66.7 33.3 166.7 3\n",
      "reddit 20200515 80.0 20.0 0 10\n",
      "reddit 20200516 71.4 14.3 7.1 14\n",
      "reddit 20200517 60.0 20.0 100.0 5\n",
      "reddit 20200519 61.5 23.1 46.2 13\n",
      "reddit 20200520 100.0 0 100.0 2\n",
      "reddit 20200521 100.0 0 33.3 3\n",
      "reddit 20200522 61.9 33.3 14.3 21\n",
      "reddit 20200523 100.0 0 0 1\n",
      "reddit 20200524 error\n",
      "reddit 20200525 100.0 0 33.3 3\n",
      "reddit 20200526 100.0 0 0 2\n",
      "reddit 20200527 error\n",
      "reddit 20200528 40.0 40.0 40.0 5\n",
      "reddit 20200529 33.3 0 133.3 3\n",
      "reddit 20200530 80.0 20.0 40.0 5\n",
      "reddit 20200531 100.0 0 200.0 1\n",
      "reddit 20200601 76.9 15.4 23.1 13\n",
      "reddit 20200602 57.1 28.6 50.0 14\n",
      "reddit 20200603 100.0 0 33.3 3\n",
      "reddit 20200604 100.0 0 0 2\n",
      "reddit 20200605 50.0 50.0 50.0 2\n",
      "reddit 20200606 90.9 9.1 36.4 11\n",
      "reddit 20200607 100.0 0 100.0 1\n",
      "reddit 20200608 error\n",
      "reddit 20200609 0 100.0 0 1\n",
      "reddit 20200610 100.0 0 200.0 1\n",
      "reddit 20200611 50.0 37.5 75.0 8\n",
      "reddit 20200612 66.7 33.3 0 3\n",
      "reddit 20200613 100.0 0 300.0 1\n",
      "reddit 20200614 100.0 0 100.0 1\n",
      "reddit 20200615 66.7 33.3 100.0 3\n",
      "reddit 20200616 80.0 0 0 5\n",
      "reddit 20200617 error\n",
      "reddit 20200618 50.0 33.3 83.3 6\n",
      "reddit 20200619 56.2 25.0 18.8 16\n",
      "reddit 20200620 100.0 0 50.0 2\n",
      "reddit 20200621 50.0 50.0 100.0 2\n",
      "reddit 20200622 100.0 0 100.0 2\n",
      "reddit 20200623 85.7 14.3 0 7\n",
      "reddit 20200624 0 100.0 0 2\n",
      "reddit 20200625 error\n",
      "reddit 20200626 error\n",
      "reddit 20200627 100.0 0 100.0 1\n",
      "reddit 20200628 100.0 0 200.0 1\n",
      "reddit 20200629 error\n",
      "reddit 20200630 0 100.0 0 1\n",
      "reddit 20200631 error\n",
      "reddit 20200701 66.7 33.3 66.7 3\n",
      "reddit 20200702 error\n",
      "reddit 20200703 100.0 0 0 3\n",
      "reddit 20200704 100.0 0 0 1\n",
      "reddit 20200705 error\n",
      "reddit 20200706 50.0 0 0 2\n",
      "reddit 20200707 85.7 14.3 14.3 7\n",
      "reddit 20200708 66.7 0 33.3 3\n",
      "reddit 20200709 100.0 0 100.0 3\n",
      "reddit 20200710 100.0 0 66.7 6\n",
      "reddit 20200711 50.0 25.0 50.0 4\n",
      "reddit 20200712 100.0 0 100.0 2\n",
      "reddit 20200713 91.7 8.3 16.7 12\n",
      "reddit 20200714 42.9 14.3 42.9 7\n",
      "reddit 20200715 80.0 20.0 60.0 5\n",
      "reddit 20200716 71.4 23.8 38.1 21\n",
      "reddit 20200717 100.0 0 50.0 2\n",
      "reddit 20200718 0 100.0 100.0 1\n",
      "reddit 20200719 50.0 0 50.0 2\n",
      "reddit 20200720 90.9 0 9.1 11\n",
      "reddit 20200721 88.2 11.8 17.6 17\n",
      "reddit 20200722 61.3 29.0 16.1 31\n",
      "reddit 20200723 81.4 14.0 30.2 43\n",
      "reddit 20200724 53.7 40.3 17.9 67\n",
      "reddit 20200725 54.5 45.5 45.5 11\n",
      "reddit 20200726 61.5 30.8 30.8 13\n",
      "reddit 20200727 78.6 21.4 0 14\n",
      "reddit 20200728 75.0 21.4 7.1 28\n",
      "reddit 20200729 60.7 32.1 28.6 28\n",
      "reddit 20200730 67.7 20.0 21.5 65\n",
      "reddit 20200731 68.8 15.6 31.2 32\n",
      "total relevant found: 1360\n",
      "nunl 20200201 error\n",
      "nunl 20200202 error\n",
      "nunl 20200203 error\n",
      "nunl 20200204 error\n",
      "nunl 20200205 error\n",
      "nunl 20200206 error\n",
      "nunl 20200207 error\n",
      "nunl 20200208 error\n",
      "nunl 20200209 error\n",
      "nunl 20200210 error\n",
      "nunl 20200211 error\n",
      "nunl 20200212 error\n",
      "nunl 20200213 error\n",
      "nunl 20200214 error\n",
      "nunl 20200215 error\n",
      "nunl 20200216 error\n",
      "nunl 20200217 error\n",
      "nunl 20200218 error\n",
      "nunl 20200219 error\n",
      "nunl 20200220 error\n",
      "nunl 20200221 error\n",
      "nunl 20200222 error\n",
      "nunl 20200223 error\n",
      "nunl 20200224 error\n",
      "nunl 20200225 error\n",
      "nunl 20200226 error\n",
      "nunl 20200227 error\n",
      "nunl 20200228 error\n",
      "nunl 20200229 error\n",
      "nunl 20200230 error\n",
      "nunl 20200231 error\n",
      "nunl 20200301 error\n",
      "nunl 20200302 error\n",
      "nunl 20200303 error\n",
      "nunl 20200304 error\n",
      "nunl 20200305 error\n",
      "nunl 20200306 error\n",
      "nunl 20200307 error\n",
      "nunl 20200308 error\n",
      "nunl 20200309 error\n",
      "nunl 20200310 error\n",
      "nunl 20200311 error\n",
      "nunl 20200312 error\n",
      "nunl 20200313 error\n",
      "nunl 20200314 error\n",
      "nunl 20200315 error\n",
      "nunl 20200316 error\n",
      "nunl 20200317 error\n",
      "nunl 20200318 error\n",
      "nunl 20200319 error\n",
      "nunl 20200320 error\n",
      "nunl 20200321 80.0 20.0 20.0 5\n",
      "nunl 20200322 74.0 21.9 34.2 73\n",
      "nunl 20200323 71.7 15.0 55.0 60\n",
      "nunl 20200324 73.2 18.3 63.4 71\n",
      "nunl 20200325 54.8 38.7 83.9 31\n",
      "nunl 20200326 68.9 15.6 71.1 45\n",
      "nunl 20200327 68.6 22.9 80.0 70\n",
      "nunl 20200328 74.6 20.6 45.2 126\n",
      "nunl 20200329 77.8 22.2 74.1 27\n",
      "nunl 20200330 78.2 14.5 105.5 55\n",
      "nunl 20200331 74.6 15.3 61.0 59\n",
      "nunl 20200401 73.1 23.1 69.2 52\n",
      "nunl 20200402 69.3 22.7 40.9 88\n",
      "nunl 20200403 60.8 29.6 20.8 355\n",
      "nunl 20200404 61.6 28.9 15.9 232\n",
      "nunl 20200405 70.3 27.0 27.0 37\n",
      "nunl 20200406 60.3 34.9 33.3 63\n",
      "nunl 20200407 67.2 29.7 53.1 64\n",
      "nunl 20200408 74.1 18.1 40.5 116\n",
      "nunl 20200409 71.8 21.8 63.5 170\n",
      "nunl 20200410 65.6 26.8 18.0 410\n",
      "nunl 20200411 75.2 21.7 35.4 161\n",
      "nunl 20200412 64.6 23.1 23.1 65\n",
      "nunl 20200413 76.9 16.9 27.7 65\n",
      "nunl 20200414 72.8 20.7 46.7 92\n",
      "nunl 20200415 69.7 16.2 38.4 99\n",
      "nunl 20200416 68.6 20.7 21.6 338\n",
      "nunl 20200417 74.8 21.3 40.6 155\n",
      "nunl 20200418 68.0 25.2 19.4 103\n",
      "nunl 20200419 61.1 33.3 50.0 36\n",
      "nunl 20200420 68.2 26.5 48.8 170\n",
      "nunl 20200421 68.4 21.9 36.0 114\n",
      "nunl 20200422 70.9 22.8 55.1 127\n",
      "nunl 20200423 72.2 19.4 86.1 36\n",
      "nunl 20200424 66.7 26.0 30.2 96\n",
      "nunl 20200425 58.2 31.9 36.3 91\n",
      "nunl 20200426 80.5 16.9 50.6 77\n",
      "nunl 20200427 74.5 23.4 42.6 47\n",
      "nunl 20200428 64.8 26.8 32.4 71\n",
      "nunl 20200429 71.1 25.4 27.5 142\n",
      "nunl 20200430 69.9 19.6 35.0 143\n",
      "nunl 20200431 error\n",
      "nunl 20200501 62.7 31.0 31.0 142\n",
      "nunl 20200502 82.8 10.3 44.8 29\n",
      "nunl 20200503 58.0 32.0 20.0 50\n",
      "nunl 20200504 62.2 25.5 25.5 251\n",
      "nunl 20200505 63.9 27.9 44.3 61\n",
      "nunl 20200506 68.4 23.7 22.1 456\n",
      "nunl 20200507 67.9 25.5 29.9 545\n",
      "nunl 20200508 66.9 27.2 29.1 151\n",
      "nunl 20200509 65.8 25.3 46.8 79\n",
      "nunl 20200510 69.6 22.6 18.3 115\n",
      "nunl 20200511 62.8 28.9 40.5 121\n",
      "nunl 20200512 63.6 30.9 32.7 55\n",
      "nunl 20200513 70.8 22.5 34.2 120\n",
      "nunl 20200514 74.5 22.3 36.2 94\n",
      "nunl 20200515 80.6 11.1 75.0 36\n",
      "nunl 20200516 67.1 25.9 38.8 85\n",
      "nunl 20200517 77.8 15.6 33.3 45\n",
      "nunl 20200518 67.2 25.9 22.4 58\n",
      "nunl 20200519 69.8 25.9 37.9 116\n",
      "nunl 20200520 57.9 31.6 46.1 76\n",
      "nunl 20200521 64.8 30.2 40.9 159\n",
      "nunl 20200522 63.8 34.8 36.2 69\n",
      "nunl 20200523 56.0 36.0 40.0 25\n",
      "nunl 20200524 44.4 55.6 222.2 9\n",
      "nunl 20200525 80.6 12.9 38.7 31\n",
      "nunl 20200526 78.6 21.4 32.1 28\n",
      "nunl 20200527 56.8 38.6 38.6 44\n",
      "nunl 20200528 63.6 15.2 54.5 33\n",
      "nunl 20200529 64.3 21.4 39.3 28\n",
      "nunl 20200530 58.1 25.8 38.7 31\n",
      "nunl 20200531 68.3 26.7 24.2 120\n",
      "nunl 20200601 63.4 29.3 51.2 41\n",
      "nunl 20200602 35.3 52.9 41.2 17\n",
      "nunl 20200603 64.5 29.0 38.7 31\n",
      "nunl 20200604 73.9 21.7 56.5 23\n",
      "nunl 20200605 40.9 50.0 40.9 22\n",
      "nunl 20200606 73.8 26.2 11.9 42\n",
      "nunl 20200607 64.9 26.3 31.6 57\n",
      "nunl 20200608 66.7 22.2 51.9 27\n",
      "nunl 20200609 69.8 24.5 60.4 53\n",
      "nunl 20200610 65.9 25.9 40.0 85\n",
      "nunl 20200611 50.0 16.7 116.7 6\n",
      "nunl 20200612 68.2 27.3 45.5 22\n",
      "nunl 20200613 25.0 75.0 300.0 4\n",
      "nunl 20200614 73.7 22.8 43.9 57\n",
      "nunl 20200615 63.3 26.7 53.3 30\n",
      "nunl 20200616 81.0 14.3 47.6 21\n",
      "nunl 20200617 72.7 18.2 45.5 22\n",
      "nunl 20200618 58.3 33.3 25.0 12\n",
      "nunl 20200619 61.9 28.6 49.2 63\n",
      "nunl 20200620 57.7 38.5 19.2 26\n",
      "nunl 20200621 63.3 36.7 30.0 30\n",
      "nunl 20200622 50.0 30.0 150.0 10\n",
      "nunl 20200623 74.4 25.6 30.2 43\n",
      "nunl 20200624 67.0 25.0 23.9 88\n",
      "nunl 20200625 70.8 29.2 125.0 24\n",
      "nunl 20200626 66.7 33.3 29.2 24\n",
      "nunl 20200627 69.2 30.8 115.4 13\n",
      "nunl 20200628 60.0 35.0 30.0 20\n",
      "nunl 20200629 68.4 21.1 68.4 19\n",
      "nunl 20200630 64.7 29.0 27.1 255\n",
      "nunl 20200631 error\n",
      "nunl 20200701 66.7 29.6 29.6 27\n",
      "nunl 20200702 83.3 16.7 8.3 12\n",
      "nunl 20200703 100.0 0 0 3\n",
      "nunl 20200704 75.0 25.0 0 4\n",
      "nunl 20200705 64.7 17.6 70.6 17\n",
      "nunl 20200706 65.5 31.0 10.3 29\n",
      "nunl 20200707 81.9 11.7 48.9 94\n",
      "nunl 20200708 73.1 23.1 57.7 26\n",
      "nunl 20200709 69.6 26.1 52.2 23\n",
      "nunl 20200710 68.4 22.1 21.3 136\n",
      "nunl 20200711 62.9 32.3 33.9 124\n",
      "nunl 20200712 63.9 33.3 27.8 36\n",
      "nunl 20200713 88.9 11.1 66.7 9\n",
      "nunl 20200714 56.8 37.8 59.5 37\n",
      "nunl 20200715 54.3 37.1 45.7 35\n",
      "nunl 20200716 70.2 25.3 28.7 289\n",
      "nunl 20200717 59.7 31.8 17.5 154\n",
      "nunl 20200718 73.4 21.0 26.6 124\n",
      "nunl 20200719 68.8 27.5 26.2 160\n",
      "nunl 20200720 62.3 37.7 41.5 53\n",
      "nunl 20200721 74.1 23.7 20.9 139\n",
      "nunl 20200722 63.3 30.1 38.5 286\n",
      "nunl 20200723 69.9 24.7 24.8 911\n",
      "nunl 20200724 65.9 27.2 22.2 850\n",
      "nunl 20200725 68.6 28.1 39.7 121\n",
      "nunl 20200726 60.0 40.0 80.0 5\n",
      "nunl 20200727 error\n",
      "nunl 20200728 error\n",
      "nunl 20200729 error\n",
      "nunl 20200730 error\n",
      "nunl 20200731 error\n",
      "total relevant found: 12590\n"
     ]
    }
   ],
   "source": [
    "results = {}\n",
    "for source in SOURCES:\n",
    "    dataDirectory = DATADIRECTORIES[source]\n",
    "    total = 0\n",
    "    results[source] = {}\n",
    "    for month in \"202002 202003 202004 202005 202006 202007\".split():\n",
    "        for day in range(1,MAXDAYSPERMONTH+1):\n",
    "            date = month+str(day).zfill(2)\n",
    "            try:\n",
    "                labels = classify(date,QUERY,model,dataDirectory=dataDirectory)\n",
    "                if not REJECTS in labels: labels[REJECTS] = 0\n",
    "                if not SUPPORTS in labels: labels[SUPPORTS] = 0\n",
    "                if not IRRELEVANT in labels: labels[IRRELEVANT] = 0\n",
    "                if labels[REJECTS]+labels[SUPPORTS]+labels[IRRELEVANT] > 0:\n",
    "                    results[source][date] = labels\n",
    "                    print(source,date,labels[REJECTS],labels[SUPPORTS],labels[IRRELEVANT],labels[TOTAL])\n",
    "                    total += labels[TOTAL]\n",
    "            except:\n",
    "                print(source,date,\"error\")\n",
    "    print(\"total relevant found:\",total)"
   ]
  },
  {
   "cell_type": "markdown",
   "metadata": {},
   "source": [
    "## Visualization over time"
   ]
  },
  {
   "cell_type": "code",
   "execution_count": 48,
   "metadata": {},
   "outputs": [],
   "source": [
    "import datetime\n",
    "import matplotlib.pyplot as plt\n",
    "import matplotlib.dates as mdates\n",
    "from pandas.plotting import register_matplotlib_converters\n",
    "register_matplotlib_converters()"
   ]
  },
  {
   "cell_type": "code",
   "execution_count": 49,
   "metadata": {},
   "outputs": [],
   "source": [
    "def movingAverage(numberList,size):\n",
    "    newList = []\n",
    "    for i in range(0,len(numberList)):\n",
    "        numberUsed = 1\n",
    "        newList.append(numberList[i])\n",
    "        for j in range(1,size):\n",
    "            if i-j >= 0:\n",
    "                newList[i] += numberList[i-j]\n",
    "                numberUsed += 1\n",
    "        newList[i] /= numberUsed\n",
    "    return(newList)"
   ]
  },
  {
   "cell_type": "code",
   "execution_count": 54,
   "metadata": {},
   "outputs": [
    {
     "data": {
      "image/png": "[encoded data removed]",
      "text/plain": [
       "<Figure size 864x432 with 1 Axes>"
      ]
     },
     "metadata": {
      "needs_background": "light"
     },
     "output_type": "display_data"
    }
   ],
   "source": [
    "DATEFORMAT = \"%Y%m%d\"\n",
    "DAYSCOMBINED = 7\n",
    "STARTDATE = \"20200310\"\n",
    "PLOTFILENAME = \"social-distancing-all.png\"\n",
    "PLOTFILENAME = \"mondkapje-all.png\"\n",
    "LABELS = {TWITTER:\"Twitter (431,216)\",NUNL:\"Nu.nl (12,590)\",REDDIT:\"Reddit (1,360)\"}\n",
    "\n",
    "x = {}\n",
    "ySupports = {}\n",
    "plt.subplots(figsize=(12,6))\n",
    "ax = plt.subplot(111)\n",
    "for source in [REDDIT,NUNL,TWITTER]:\n",
    "    x[source] = [datetime.datetime.strptime(k,DATEFORMAT) for k in results[source].keys()]\n",
    "    ySupports[source] = movingAverage([results[source][k][SUPPORTS] for k in results[source].keys()],DAYSCOMBINED)\n",
    "    xPart = [x[source][i] for i in range(0,len(x[source])) if x[source][i] >= datetime.datetime.strptime(STARTDATE,DATEFORMAT)] \n",
    "    ySupportsPart = [ySupports[source][i] for i in range(0,len(x[source])) if x[source][i] >= datetime.datetime.strptime(STARTDATE,DATEFORMAT)] \n",
    "    plt.plot_date(xPart,ySupportsPart,fmt=\"-\",label=LABELS[source])\n",
    "plt.legend()\n",
    "plt.ylabel(\"percentage\")\n",
    "plt.xlabel(\"day/month\")\n",
    "plt.title(\"Support for general public not wearing face masks per medium over time (average over \"+str(DAYSCOMBINED)+\" days)\")\n",
    "plt.xticks([datetime.datetime.strptime(d,DATEFORMAT) for d in \"20200301 2020401 20200501 20200601 20200701 20200801\".split()])\n",
    "ax.xaxis.set_major_formatter(mdates.DateFormatter(\"%-d/%-m\"))\n",
    "plt.savefig(PLOTFILENAME)\n",
    "plt.show()"
   ]
  },
  {
   "cell_type": "code",
   "execution_count": null,
   "metadata": {},
   "outputs": [],
   "source": [
    "allResults = results\n",
    "results = results[TWITTER]\n",
    "x = [datetime.datetime.strptime(k,DATEFORMAT) for k in results.keys()]\n",
    "ySupports = movingAverage([results[k][SUPPORTS] for k in results.keys()],DAYSCOMBINED)\n",
    "yRejects = movingAverage([results[k][REJECTS] for k in results.keys()],DAYSCOMBINED)\n",
    "yIrrelevant = movingAverage([results[k][IRRELEVANT] for k in results.keys()],DAYSCOMBINED)\n",
    "\n",
    "keyDates = []\n",
    "for i in range(0,len(yIrrelevant)):\n",
    "    if i < len(yIrrelevant)-1 and \\\n",
    "       (yIrrelevant[i] < 100 and yIrrelevant[i+1] >= 100 or yIrrelevant[i] >= 100 and yIrrelevant[i+1] < 100):\n",
    "        keyDates.append(list(results.keys())[i])\n",
    "        print(keyDates[-1])"
   ]
  },
  {
   "cell_type": "code",
   "execution_count": null,
   "metadata": {},
   "outputs": [],
   "source": [
    "STARTDATE = \"20200310\" # keyDates[0]\n",
    "ENDDATE = \"20201231\"\n",
    "PLOTFILEOUT = \"social-distancing.png\"\n",
    "\n",
    "results = {k:results[k] for k in sorted(results.keys())}\n",
    "font = {\"size\":14}\n",
    "matplotlib.rc(\"font\",**font)\n",
    "plt.subplots(figsize=(14,7))\n",
    "\n",
    "ax1 = plt.subplot(121)\n",
    "plt.plot_date(x,ySupports,fmt=\"-\",label=\"Supports\")\n",
    "plt.plot_date(x,yRejects,fmt=\"-\",label=\"Rejects\")\n",
    "plt.plot_date(x,yIrrelevant,fmt=\"-\",label=\"Other\")\n",
    "plt.plot_date(x,[100 for i in x],fmt=\"-\",label=\"100%\",color=\"black\")\n",
    "for date in [STARTDATE]:\n",
    "    plt.plot_date([datetime.datetime.strptime(date,DATEFORMAT)],[100],color=\"black\")\n",
    "plt.legend()\n",
    "plt.ylabel(\"percentage\")\n",
    "plt.xlabel(\"day/month\")\n",
    "plt.title(\"stance on the RIVM policy on \"+\"social\")\n",
    "\n",
    "dates = [d for d in results.keys()]\n",
    "xPart = [x[i] for i in range(0,len(dates)) if dates[i] >= STARTDATE and dates[i] <= ENDDATE]\n",
    "ySupportsPart = [ySupports[i] for i in range(0,len(dates)) if dates[i] >= STARTDATE and dates[i] <= ENDDATE] \n",
    "yRejectsPart = [yRejects[i] for i in range(0,len(dates)) if dates[i] >= STARTDATE and dates[i] <= ENDDATE]\n",
    "ax1.xaxis.set_major_formatter(mdates.DateFormatter(\"%-d/%-m\"))\n",
    "\n",
    "ax2 = plt.subplot(122)\n",
    "plt.plot_date(xPart,ySupportsPart,fmt=\"-\",label=\"Supports\")\n",
    "plt.plot_date(xPart,yRejectsPart,fmt=\"-\",label=\"Rejects\")\n",
    "plt.legend()\n",
    "plt.ylabel(\"percentage\")\n",
    "plt.xlabel(\"day/month\")\n",
    "plt.title(\"Nu.nl on social distancing (average over \"+str(DAYSCOMBINED)+\" days)\")\n",
    "plt.xticks([datetime.datetime.strptime(d,DATEFORMAT) for d in \"20200301 2020401 20200501 20200601 20200701 20200801\".split()])\n",
    "ax2.xaxis.set_major_formatter(mdates.DateFormatter(\"%-d/%-m\"))\n",
    "\n",
    "plt.savefig(PLOTFILEOUT)\n",
    "plt.show()"
   ]
  },
  {
   "cell_type": "code",
   "execution_count": null,
   "metadata": {},
   "outputs": [],
   "source": [
    "counts = {}\n",
    "for text in fasttextData:\n",
    "    label = text.split()[0]\n",
    "    if label in counts: counts[label] += 1\n",
    "    else: counts[label] = 1\n",
    "for label in counts: print(round(counts[label]/len(fasttextData),3),label)"
   ]
  },
  {
   "cell_type": "markdown",
   "metadata": {},
   "source": [
    "## Annotator comparison"
   ]
  },
  {
   "cell_type": "code",
   "execution_count": null,
   "metadata": {},
   "outputs": [],
   "source": [
    "NBROFTESTDATA = 100\n",
    "\n",
    "annotators = []\n",
    "annotatorData = {}\n",
    "kappaData = [{},{}]\n",
    "blockedTweetIds = {}\n",
    "for i in range(0,len(annotations)):\n",
    "    annotator = annotations.iloc[i][0]\n",
    "    tweetId = annotations.iloc[i][2]\n",
    "    tweetLabel = annotations.iloc[i][4]\n",
    "    if not annotator in annotatorData: \n",
    "        annotatorData[annotator] = {}\n",
    "        annotators.append(annotator)\n",
    "    annotatorData[annotator][tweetId] = tweetLabel\n",
    "    if len(annotatorData[annotator]) <= NBROFTESTDATA: blockedTweetIds[tweetId] = True\n",
    "    if len(annotators) >= 2 and not tweetId in blockedTweetIds and \\\n",
    "       tweetId in annotatorData[annotators[0]] and tweetId in annotatorData[annotators[1]]:\n",
    "        kappaData[0][tweetId] = annotatorData[annotators[0]][tweetId]\n",
    "        kappaData[1][tweetId] = annotatorData[annotators[1]][tweetId]"
   ]
  },
  {
   "cell_type": "code",
   "execution_count": null,
   "metadata": {},
   "outputs": [],
   "source": [
    "for annotator in annotatorData:\n",
    "    labelCount = {}\n",
    "    for tweetId in annotatorData[annotator]:\n",
    "        label = annotatorData[annotator][tweetId]\n",
    "        if not label in labelCount: labelCount[label] = 0\n",
    "        labelCount[label] += 1\n",
    "    print(len(annotatorData[annotator]))\n",
    "    for label in labelCount: print(round(labelCount[label]/len(annotatorData[annotator]),3),label)"
   ]
  },
  {
   "cell_type": "code",
   "execution_count": null,
   "metadata": {},
   "outputs": [],
   "source": [
    "from sklearn.metrics import cohen_kappa_score\n",
    "\n",
    "cohen_kappa_score([kappaData[0][tweetId] for tweetId in kappaData[0]],[kappaData[1][tweetId] for tweetId in kappaData[0]])"
   ]
  },
  {
   "cell_type": "code",
   "execution_count": null,
   "metadata": {},
   "outputs": [],
   "source": [
    "MAX = 100\n",
    "\n",
    "total = 0\n",
    "identical = 0\n",
    "for tweetId in annotatorData[mainAnnotator]:\n",
    "    for annotator in annotators:\n",
    "        if not annotator == mainAnnotator and tweetId in annotatorData[annotator]:\n",
    "            total += 1\n",
    "            if total <= MAX:\n",
    "                if annotatorData[annotator][tweetId] == annotatorData[mainAnnotator][tweetId]: identical += 1\n",
    "                else: \n",
    "                    print(tweetId,annotatorData[mainAnnotator][tweetId],annotatorData[annotator][tweetId])\n",
    "                    #print(tweets.loc[tweetId][TEXT])\n",
    "print(total,identical)"
   ]
  },
  {
   "cell_type": "code",
   "execution_count": null,
   "metadata": {},
   "outputs": [],
   "source": []
  }
 ],
 "metadata": {
  "kernelspec": {
   "display_name": "Python 3",
   "language": "python",
   "name": "python3"
  },
  "language_info": {
   "codemirror_mode": {
    "name": "ipython",
    "version": 3
   },
   "file_extension": ".py",
   "mimetype": "text/x-python",
   "name": "python",
   "nbconvert_exporter": "python",
   "pygments_lexer": "ipython3",
   "version": "3.7.3"
  }
 },
 "nbformat": 4,
 "nbformat_minor": 4
}
