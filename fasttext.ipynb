{
 "cells": [
  {
   "cell_type": "markdown",
   "metadata": {},
   "source": [
    "# Fasttext tweet classification"
   ]
  },
  {
   "cell_type": "markdown",
   "metadata": {},
   "source": [
    "## Data file creation"
   ]
  },
  {
   "cell_type": "code",
   "execution_count": 1,
   "metadata": {},
   "outputs": [],
   "source": [
    "import datetime\n",
    "import matplotlib.pyplot as plt\n",
    "import matplotlib.dates as mdates\n",
    "import numpy as np\n",
    "import os\n",
    "import pandas as pd\n",
    "import random\n",
    "import re\n",
    "from nltk.tokenize import TweetTokenizer\n",
    "from IPython.display import clear_output"
   ]
  },
  {
   "cell_type": "code",
   "execution_count": 2,
   "metadata": {},
   "outputs": [],
   "source": [
    "DATADIR = \"../data/\"\n",
    "TOPIC = \"distance\"\n",
    "FILETWEETS = TOPIC+\"-tweets.csv\"\n",
    "FILEANNOTATIONS = FILETWEETS+\".human-labels.txt\"\n",
    "FILEFASTTEXT = \"fasttext-\"+TOPIC+\".csv\"\n",
    "LABELPREFIX = \"__label__\"\n",
    "LARGEINT = 9999999999\n",
    "LABEL = \"label\"\n",
    "TEXT = \"text\"\n",
    "USER = \"user\"\n",
    "IDSTR = \"id_str\"\n",
    "ANNOTATOR = \"erikt@xs4all.nl\""
   ]
  },
  {
   "cell_type": "code",
   "execution_count": 3,
   "metadata": {},
   "outputs": [],
   "source": [
    "tweets = pd.read_csv(DATADIR+FILETWEETS,index_col=IDSTR)\n",
    "annotations = pd.read_csv(DATADIR+FILEANNOTATIONS,header=None,sep=\" \")"
   ]
  },
  {
   "cell_type": "code",
   "execution_count": 4,
   "metadata": {},
   "outputs": [],
   "source": [
    "def cleanup(text):\n",
    "    text = re.sub(r\"\\\\n\",\" \",text)\n",
    "    text = re.sub(r\"https://\\S+\",\"\",text)\n",
    "    text = re.sub(r\"\\s+\",\" \",text)\n",
    "    text = text.strip()\n",
    "    return(text)"
   ]
  },
  {
   "cell_type": "code",
   "execution_count": 5,
   "metadata": {},
   "outputs": [],
   "source": [
    "fasttextData = {}\n",
    "for i in range(0,len(annotations)):\n",
    "    annotator = annotations.iloc[i][0]\n",
    "    tweetId = annotations.iloc[i][2]\n",
    "    tweetLabel = annotations.iloc[i][4]\n",
    "    if annotator == ANNOTATOR and tweetId in list(tweets.index):\n",
    "        tweetLabel = annotations.iloc[i][4]\n",
    "        tweetUser = tweets.loc[tweetId][1]\n",
    "        fasttextData[tweetId] = {LABEL:LABELPREFIX+tweetLabel,\\\n",
    "                                 USER:tweetUser,\\\n",
    "                                 TEXT:\" \".join(TweetTokenizer().tokenize(cleanup(tweets.loc[tweetId][TEXT])))}"
   ]
  },
  {
   "cell_type": "code",
   "execution_count": 8,
   "metadata": {},
   "outputs": [
    {
     "data": {
      "text/plain": [
       "5977"
      ]
     },
     "execution_count": 8,
     "metadata": {},
     "output_type": "execute_result"
    }
   ],
   "source": [
    "len(fasttextData)"
   ]
  },
  {
   "cell_type": "code",
   "execution_count": null,
   "metadata": {},
   "outputs": [],
   "source": [
    "outFile = open(FILEFASTTEXT,\"w\")\n",
    "seenTexts = {}\n",
    "for tweetId in fasttextData:\n",
    "    text = cleanup(fasttextData[tweetId][TEXT])\n",
    "    if not text in seenTexts:\n",
    "        print(fasttextData[tweetId][LABEL],text,file=outFile)\n",
    "        seenTexts[text] = True\n",
    "outFile.close()"
   ]
  },
  {
   "cell_type": "code",
   "execution_count": 6,
   "metadata": {},
   "outputs": [
    {
     "name": "stdout",
     "output_type": "stream",
     "text": [
      "tweets annotated per minute: 5.3 ; 1000 tweets take: 189 minutes\n"
     ]
    }
   ],
   "source": [
    "annotations1 = annotations[annotations[0]==ANNOTATOR]\n",
    "nbrOfAnnotationMinutes = len(set([str(x)[:12] for x in annotations1[1]]))\n",
    "nbrOfAnnotatedTweets = len(set([str(x)[:12] for x in annotations1[2]]))\n",
    "print(\"tweets annotated per minute:\",round(nbrOfAnnotatedTweets/nbrOfAnnotationMinutes,1),\"; 1000 tweets take:\",\\\n",
    "      round(1000/(nbrOfAnnotatedTweets/nbrOfAnnotationMinutes)),\"minutes\")"
   ]
  },
  {
   "cell_type": "code",
   "execution_count": 7,
   "metadata": {},
   "outputs": [
    {
     "name": "stdout",
     "output_type": "stream",
     "text": [
      "tweets annotated per minute: 3.0 ; 1000 tweets take: 329 minutes\n"
     ]
    }
   ],
   "source": [
    "annotations2 = annotations[annotations[0]!=ANNOTATOR]\n",
    "nbrOfAnnotationMinutes = len(set([str(x)[:12] for x in annotations2[1]]))\n",
    "nbrOfAnnotatedTweets = len(set([str(x)[:12] for x in annotations2[2]]))\n",
    "print(\"tweets annotated per minute:\",round(nbrOfAnnotatedTweets/nbrOfAnnotationMinutes,1),\"; 1000 tweets take:\",\\\n",
    "      round(1000/(nbrOfAnnotatedTweets/nbrOfAnnotationMinutes)),\"minutes\")"
   ]
  },
  {
   "cell_type": "markdown",
   "metadata": {},
   "source": [
    "## Fasttext run and evaluation"
   ]
  },
  {
   "cell_type": "code",
   "execution_count": 9,
   "metadata": {},
   "outputs": [],
   "source": [
    "import fasttext\n",
    "import random\n",
    "from IPython.display import clear_output"
   ]
  },
  {
   "cell_type": "code",
   "execution_count": 10,
   "metadata": {},
   "outputs": [],
   "source": [
    "PRETRAINEDDIR = \"/home/erikt/projects/newsgac/fasttext-runs/\"\n",
    "WIKIFILENAME = \"wiki.nl.vec\""
   ]
  },
  {
   "cell_type": "code",
   "execution_count": 11,
   "metadata": {},
   "outputs": [],
   "source": [
    "def print_results(N, p, r):\n",
    "    print(\"N\\t\" + str(N))\n",
    "    print(\"P@{}\\t{:.3f}\".format(1, p))\n",
    "    print(\"R@{}\\t{:.3f}\".format(1, r))"
   ]
  },
  {
   "cell_type": "code",
   "execution_count": 12,
   "metadata": {},
   "outputs": [
    {
     "data": {
      "text/plain": [
       "5732"
      ]
     },
     "execution_count": 12,
     "metadata": {},
     "output_type": "execute_result"
    }
   ],
   "source": [
    "fasttextData = []\n",
    "inFile = open(FILEFASTTEXT,\"r\")\n",
    "for line in inFile: fasttextData.append(line.strip())\n",
    "inFile.close()\n",
    "len(fasttextData)"
   ]
  },
  {
   "cell_type": "code",
   "execution_count": 13,
   "metadata": {},
   "outputs": [],
   "source": [
    "DIM = 100\n",
    "EPOCH = 100\n",
    "LR = 0.05\n",
    "N = 10\n",
    "TRAIN = \"TRAIN\"+str(int(random.random()*LARGEINT))\n",
    "TEST = \"TEST\"+str(int(random.random()*LARGEINT))"
   ]
  },
  {
   "cell_type": "code",
   "execution_count": 14,
   "metadata": {},
   "outputs": [],
   "source": [
    "def ranSelect(inList,size):\n",
    "    outList = []\n",
    "    selectionList = list(inList)\n",
    "    while len(outList) < size and len(selectionList) > 0:\n",
    "        index = int(random.random()*len(selectionList))\n",
    "        outList.append(selectionList[index])\n",
    "        del(selectionList[index])\n",
    "    return(outList)"
   ]
  },
  {
   "cell_type": "code",
   "execution_count": 15,
   "metadata": {},
   "outputs": [],
   "source": [
    "def runFasttext(fasttextData,dim=DIM,epoch=EPOCH,lr=LR,n=N,squealFlag=True,maxTrain=None):\n",
    "    predictionCounts = []\n",
    "    predictionLabels = []\n",
    "    for fold in range(0,n):\n",
    "        if squealFlag:\n",
    "            clear_output(wait=True)\n",
    "            print(\"starting fold\",fold)\n",
    "        testStart = round(fold*len(fasttextData)/n)\n",
    "        testEnd = round((fold+1)*len(fasttextData)/n)\n",
    "        trainFile = open(TRAIN,\"w\")\n",
    "        testFile = open(TEST,\"w\")\n",
    "        trainData = []\n",
    "        testData = []\n",
    "        for i in range(0,len(fasttextData)):\n",
    "            data = fasttextData[i]\n",
    "            if i < testStart or i >= testEnd: \n",
    "                print(data,file=trainFile)\n",
    "                trainData.append(data)\n",
    "            else: \n",
    "                print(data,file=testFile)\n",
    "                testData.append(data)\n",
    "        testFile.close()\n",
    "        trainFile.close()\n",
    "        if not maxTrain == None and maxTrain < len(trainData):\n",
    "            trainData = ranSelect(trainData,maxTrain)\n",
    "            trainFile = open(TRAIN,\"w\")\n",
    "            for i in range(0,len(trainData)):\n",
    "                print(trainData[i],file=trainFile)\n",
    "            trainFile.close()\n",
    "        model = fasttext.train_supervised(TRAIN,dim=dim,epoch=epoch,lr=lr)\n",
    "        predictionCounts.append([*model.test(TEST)])\n",
    "        predictionLabels.append(model.predict(testData))\n",
    "        os.unlink(TRAIN)\n",
    "        os.unlink(TEST)\n",
    "    if squealFlag:\n",
    "        clear_output(wait=True)\n",
    "        print(\"finished\")\n",
    "    return(predictionCounts,predictionLabels)"
   ]
  },
  {
   "cell_type": "code",
   "execution_count": 16,
   "metadata": {},
   "outputs": [],
   "source": [
    "def makeConfusionMatrix(fasttextData,predictionLabels):\n",
    "    goldLabels = pd.Series([fasttextData[i].split()[0] for i in range(0,len(fasttextData))])\n",
    "    predictedLabels = pd.Series([x[0] for row in predictionLabels for x in row[0]])\n",
    "    return(pd.crosstab(goldLabels,predictedLabels))"
   ]
  },
  {
   "cell_type": "code",
   "execution_count": 17,
   "metadata": {},
   "outputs": [],
   "source": [
    "def evaluate(predictionCounts,predictionLabels,fasttextData,printResults=True):\n",
    "    caseTotal = 0\n",
    "    pTotal = 0\n",
    "    rTotal = 0\n",
    "    for i in range(0,len(predictionCounts)):\n",
    "        caseTotal += predictionCounts[i][0]\n",
    "        pTotal += predictionCounts[i][0]*predictionCounts[i][1]\n",
    "        rTotal += predictionCounts[i][0]*predictionCounts[i][2]\n",
    "    precision = round(pTotal/caseTotal,3)\n",
    "    recall = round(rTotal/caseTotal,3)\n",
    "    cf = makeConfusionMatrix(fasttextData,predictionLabels)\n",
    "    for label in ['__label__REJECTS','__label__REJECTS','__label__IRRELEVANT']:\n",
    "        if not label in cf: cf[label] = [0 for i in range(0,3)]\n",
    "    factor = sum(cf.loc['__label__SUPPORTS'])*sum([cf.iloc[i]['__label__REJECTS'] for i in range(0,len(cf))])/\\\n",
    "             (sum(cf.loc['__label__REJECTS'])*sum([cf.iloc[i]['__label__SUPPORTS'] for i in range(0,len(cf))]))\n",
    "    if printResults: print(\"cases: {0}; precision: {1}; recall: {2}; factor: {3:0.3f}\".format(caseTotal,precision,recall,factor))\n",
    "    return((precision,factor))"
   ]
  },
  {
   "cell_type": "markdown",
   "metadata": {},
   "source": [
    "## Grid search"
   ]
  },
  {
   "cell_type": "code",
   "execution_count": null,
   "metadata": {},
   "outputs": [],
   "source": [
    "scores = {}\n",
    "for dim in [10,20,50,100,200,300]:\n",
    "    for epoch in [10,20,50,100,200,300]:\n",
    "        for lr in [0.05,0.1,0.2]:\n",
    "            predictionCounts,predictionLabels = runFasttext(fasttextData,dim=dim,epoch=epoch,lr=lr,squealFlag=False)\n",
    "            print(dim,epoch,lr,end=\" \")\n",
    "            key = \" \".join([str(dim),str(epoch),str(lr)])\n",
    "            scores[key] = evaluate(predictionCounts,predictionLabels,fasttextData)"
   ]
  },
  {
   "cell_type": "code",
   "execution_count": null,
   "metadata": {},
   "outputs": [],
   "source": [
    "[(scores[k],k) for k in sorted(scores.keys(),key=lambda k:scores[k][0],reverse=True)][0:10]"
   ]
  },
  {
   "cell_type": "code",
   "execution_count": null,
   "metadata": {},
   "outputs": [],
   "source": [
    "[(scores[k],k) for k in sorted(scores.keys(),key=lambda k:scores[k][1],reverse=True)][0:10]"
   ]
  },
  {
   "cell_type": "code",
   "execution_count": null,
   "metadata": {},
   "outputs": [],
   "source": [
    "N = 5\n",
    "scoresN = {} \n",
    "triplets = [(10,300,0.9),(10,300,1.0),(10,500,0.9),(10,300,0.5),(20,300,0.9),(10,300,0.2),(20,300,0.2),(200,300,0.2)]\n",
    "\n",
    "for triplet in triplets:\n",
    "    dim,epoch,lr = triplet\n",
    "    key = \" \".join([str(dim),str(epoch),str(lr)])\n",
    "    scoresN[key] = []\n",
    "    for i in range(0,N): \n",
    "        predictionCounts,predictionLabels = runFasttext(fasttextData,dim=dim,epoch=epoch,lr=lr,squealFlag=False)\n",
    "        print(dim,epoch,lr,end=\" \")\n",
    "        scoresN[key].append(evaluate(predictionCounts,predictionLabels,fasttextData))"
   ]
  },
  {
   "cell_type": "code",
   "execution_count": null,
   "metadata": {},
   "outputs": [],
   "source": [
    "scoresNaverage = {}\n",
    "for key in scoresN: scoresNaverage[key] = round(np.average([x[1] for x in scoresN[key]]),3)\n",
    "{key:scoresNaverage[key] for key in sorted(scoresNaverage.keys(),key=lambda k:scoresNaverage[k],reverse=True)}"
   ]
  },
  {
   "cell_type": "markdown",
   "metadata": {},
   "source": [
    "## Run with best parameters"
   ]
  },
  {
   "cell_type": "code",
   "execution_count": 18,
   "metadata": {},
   "outputs": [
    {
     "name": "stdout",
     "output_type": "stream",
     "text": [
      "finished\n"
     ]
    }
   ],
   "source": [
    "BESTDIM = 20\n",
    "BESTEPOCH = 300\n",
    "BESTLR = 0.9\n",
    "\n",
    "predictionCounts,predictionLabels = runFasttext(fasttextData,dim=BESTDIM,epoch=BESTEPOCH,lr=BESTLR)"
   ]
  },
  {
   "cell_type": "code",
   "execution_count": 19,
   "metadata": {},
   "outputs": [
    {
     "name": "stdout",
     "output_type": "stream",
     "text": [
      "cases: 5732; precision: 0.638; recall: 0.638; factor: 0.840\n"
     ]
    },
    {
     "data": {
      "text/plain": [
       "(0.638, 0.8404354281558694)"
      ]
     },
     "execution_count": 19,
     "metadata": {},
     "output_type": "execute_result"
    }
   ],
   "source": [
    "evaluate(predictionCounts,predictionLabels,fasttextData)"
   ]
  },
  {
   "cell_type": "code",
   "execution_count": 20,
   "metadata": {},
   "outputs": [
    {
     "data": {
      "text/plain": [
       "{'__label__REJECTS': 1138,\n",
       " '__label__SUPPORTS': 3222,\n",
       " '__label__IRRELEVANT': 1372}"
      ]
     },
     "execution_count": 20,
     "metadata": {},
     "output_type": "execute_result"
    }
   ],
   "source": [
    "labelCountsGold = {}\n",
    "for i in range(0,len(fasttextData)):\n",
    "    label = fasttextData[i].split()[0]\n",
    "    if label in labelCountsGold: labelCountsGold[label] += 1\n",
    "    else: labelCountsGold[label] = 1\n",
    "labelCountsGold"
   ]
  },
  {
   "cell_type": "code",
   "execution_count": 21,
   "metadata": {},
   "outputs": [
    {
     "name": "stdout",
     "output_type": "stream",
     "text": [
      "baseline accuracy: 0.562\n"
     ]
    }
   ],
   "source": [
    "print(\"baseline accuracy:\",round(max(labelCountsGold.values())/sum(labelCountsGold.values()),3))"
   ]
  },
  {
   "cell_type": "code",
   "execution_count": 22,
   "metadata": {},
   "outputs": [
    {
     "data": {
      "text/plain": [
       "{'__label__IRRELEVANT': 1219,\n",
       " '__label__SUPPORTS': 3480,\n",
       " '__label__REJECTS': 1033}"
      ]
     },
     "execution_count": 22,
     "metadata": {},
     "output_type": "execute_result"
    }
   ],
   "source": [
    "labelCountsPredicted = {}\n",
    "for i in range(0,len(predictionLabels)):\n",
    "    for label in predictionLabels[i][0]:\n",
    "        if label[0] in labelCountsPredicted: labelCountsPredicted[label[0]] += 1\n",
    "        else: labelCountsPredicted[label[0]] = 1\n",
    "labelCountsPredicted"
   ]
  },
  {
   "cell_type": "code",
   "execution_count": 23,
   "metadata": {},
   "outputs": [
    {
     "name": "stdout",
     "output_type": "stream",
     "text": [
      "total absolute deviation 516\n"
     ]
    }
   ],
   "source": [
    "print(\"total absolute deviation\",sum([abs(labelCountsPredicted[l]-labelCountsGold[l]) for l in labelCountsGold]))"
   ]
  },
  {
   "cell_type": "code",
   "execution_count": 24,
   "metadata": {},
   "outputs": [
    {
     "name": "stdout",
     "output_type": "stream",
     "text": [
      "relative deviation per label: {'__label__REJECTS': 0.092, '__label__SUPPORTS': 0.08, '__label__IRRELEVANT': 0.112}\n"
     ]
    }
   ],
   "source": [
    "print(\"relative deviation per label:\",\\\n",
    "      {l:round(abs(labelCountsPredicted[l]-labelCountsGold[l])/labelCountsGold[l],3) for l in labelCountsGold})"
   ]
  },
  {
   "cell_type": "code",
   "execution_count": 25,
   "metadata": {},
   "outputs": [
    {
     "data": {
      "text/html": [
       "<div>\n",
       "<style scoped>\n",
       "    .dataframe tbody tr th:only-of-type {\n",
       "        vertical-align: middle;\n",
       "    }\n",
       "\n",
       "    .dataframe tbody tr th {\n",
       "        vertical-align: top;\n",
       "    }\n",
       "\n",
       "    .dataframe thead th {\n",
       "        text-align: right;\n",
       "    }\n",
       "</style>\n",
       "<table border=\"1\" class=\"dataframe\">\n",
       "  <thead>\n",
       "    <tr style=\"text-align: right;\">\n",
       "      <th>col_0</th>\n",
       "      <th>__label__IRRELEVANT</th>\n",
       "      <th>__label__REJECTS</th>\n",
       "      <th>__label__SUPPORTS</th>\n",
       "    </tr>\n",
       "    <tr>\n",
       "      <th>row_0</th>\n",
       "      <th></th>\n",
       "      <th></th>\n",
       "      <th></th>\n",
       "    </tr>\n",
       "  </thead>\n",
       "  <tbody>\n",
       "    <tr>\n",
       "      <td>__label__IRRELEVANT</td>\n",
       "      <td>548</td>\n",
       "      <td>204</td>\n",
       "      <td>620</td>\n",
       "    </tr>\n",
       "    <tr>\n",
       "      <td>__label__REJECTS</td>\n",
       "      <td>217</td>\n",
       "      <td>586</td>\n",
       "      <td>335</td>\n",
       "    </tr>\n",
       "    <tr>\n",
       "      <td>__label__SUPPORTS</td>\n",
       "      <td>454</td>\n",
       "      <td>243</td>\n",
       "      <td>2525</td>\n",
       "    </tr>\n",
       "  </tbody>\n",
       "</table>\n",
       "</div>"
      ],
      "text/plain": [
       "col_0                __label__IRRELEVANT  __label__REJECTS  __label__SUPPORTS\n",
       "row_0                                                                        \n",
       "__label__IRRELEVANT                  548               204                620\n",
       "__label__REJECTS                     217               586                335\n",
       "__label__SUPPORTS                    454               243               2525"
      ]
     },
     "execution_count": 25,
     "metadata": {},
     "output_type": "execute_result"
    }
   ],
   "source": [
    "makeConfusionMatrix(fasttextData,predictionLabels)"
   ]
  },
  {
   "cell_type": "markdown",
   "metadata": {},
   "source": [
    "For the mondkapje data, fasttext predicts 63% of the labels correctly without external dictionary and 66% with a Wikipedia dictionary (baseline: 46%). It overestimates the presence of negative labels and underestimates the level of positive and neutral labels. The amount of irrelevant labels is about right"
   ]
  },
  {
   "cell_type": "code",
   "execution_count": 26,
   "metadata": {},
   "outputs": [
    {
     "data": {
      "text/plain": [
       "{'__label__REJECTS': 1.101645692158761,\n",
       " '__label__SUPPORTS': 0.9258620689655173,\n",
       " '__label__IRRELEVANT': 1.125512715340443}"
      ]
     },
     "execution_count": 26,
     "metadata": {},
     "output_type": "execute_result"
    }
   ],
   "source": [
    "multiplicationFactors = {}\n",
    "for label in labelCountsGold:\n",
    "    multiplicationFactors[label] = labelCountsGold[label]/labelCountsPredicted[label]\n",
    "multiplicationFactors"
   ]
  },
  {
   "cell_type": "markdown",
   "metadata": {},
   "source": [
    "For mondkapje tweets, the multiplication factor for the positive label is unrealistically high so we will not use these factors."
   ]
  },
  {
   "cell_type": "code",
   "execution_count": 27,
   "metadata": {},
   "outputs": [
    {
     "name": "stdout",
     "output_type": "stream",
     "text": [
      "5732.0 5732\n"
     ]
    }
   ],
   "source": [
    "predictedNumberOfLabels = 0\n",
    "for label in labelCountsGold:\n",
    "    predictedNumberOfLabels += multiplicationFactors[label]*labelCountsPredicted[label]\n",
    "print(predictedNumberOfLabels,sum(labelCountsGold.values()))"
   ]
  },
  {
   "cell_type": "markdown",
   "metadata": {},
   "source": [
    "## Relation data size - accuracy"
   ]
  },
  {
   "cell_type": "code",
   "execution_count": 28,
   "metadata": {},
   "outputs": [
    {
     "name": "stdout",
     "output_type": "stream",
     "text": [
      " 100 0.530 0.404\n",
      " 200 0.545 0.583\n",
      " 500 0.567 0.701\n",
      "1000 0.590 0.746\n",
      "2000 0.607 0.796\n",
      "5000 0.631 0.856\n",
      "5732 0.634 0.846\n"
     ]
    }
   ],
   "source": [
    "N = 5\n",
    "expResultsAll = {}\n",
    "for trainingSize in [100,200,500,1000,2000,5000,10000]:\n",
    "    expResultsTrainingSize = []\n",
    "    for i in range(0,N):\n",
    "        selection = ranSelect(fasttextData,trainingSize)\n",
    "        predictionCounts,predictionLabels = runFasttext(fasttextData,dim=BESTDIM,epoch=BESTEPOCH,lr=BESTLR,squealFlag=False,maxTrain=trainingSize)\n",
    "        expResultsTrainingSize.append(evaluate(predictionCounts,predictionLabels,fasttextData,printResults=False))\n",
    "    average = (np.average([x[0] for x in expResultsTrainingSize]),np.average([x[1] for x in expResultsTrainingSize]))\n",
    "    expResultsAll[len(selection)] = average\n",
    "    print(\"{0:4} {1:0.3f} {2:0.3f}\".format(len(selection),average[0],average[1]))\n",
    "    if len(selection) >= len(fasttextData): break"
   ]
  },
  {
   "cell_type": "code",
   "execution_count": 30,
   "metadata": {},
   "outputs": [],
   "source": [
    "del(expResultsAll[5732])"
   ]
  },
  {
   "cell_type": "code",
   "execution_count": 73,
   "metadata": {},
   "outputs": [
    {
     "data": {
      "image/png": "[encoded data removed]",
      "text/plain": [
       "<Figure size 1152x432 with 2 Axes>"
      ]
     },
     "metadata": {
      "needs_background": "light"
     },
     "output_type": "display_data"
    }
   ],
   "source": [
    "plt.figure(figsize=(16,6))\n",
    "\n",
    "ax1 = plt.subplot(121)\n",
    "plt.plot(list(expResultsAll.keys()),[x[0] for x in list(expResultsAll.values())])\n",
    "plt.xscale(\"log\")\n",
    "plt.ylabel(\"accuracy\")\n",
    "plt.xlabel(\"training data size\")\n",
    "plt.title(\"Accuracy related to training size\")\n",
    "\n",
    "ax1 = plt.subplot(122)\n",
    "plt.plot(list(expResultsAll.keys()),[x[1] for x in list(expResultsAll.values())])\n",
    "plt.xscale(\"log\")\n",
    "plt.ylabel(\"fraction\")\n",
    "plt.xlabel(\"training data size\")\n",
    "plt.title(\"Rejects/Supports fraction related to training size\")\n",
    "\n",
    "plt.show()"
   ]
  },
  {
   "cell_type": "markdown",
   "metadata": {},
   "source": [
    "## Classifying unlabeled tweets"
   ]
  },
  {
   "cell_type": "code",
   "execution_count": 32,
   "metadata": {},
   "outputs": [],
   "source": [
    "import fasttext\n",
    "import matplotlib\n",
    "import os\n",
    "import pandas as pd\n",
    "import re"
   ]
  },
  {
   "cell_type": "code",
   "execution_count": 33,
   "metadata": {},
   "outputs": [],
   "source": [
    "DATADIRECTORY = \"/home/erikt/projects/puregome/data/text/\"\n",
    "LABELPREFIX = \"__label__\"\n",
    "NEGATIVE = LABELPREFIX+\"NEGATIVE\"\n",
    "POSITIVE = LABELPREFIX+\"POSITIVE\"\n",
    "NEUTRAL = LABELPREFIX+\"NEUTRAL\"\n",
    "IRRELEVANT = LABELPREFIX+\"IRRELEVANT\"\n",
    "SUPPORTS = LABELPREFIX+\"SUPPORTS\"\n",
    "REJECTS = LABELPREFIX+\"REJECTS\"\n",
    "SUPPORT = \"\"\n",
    "TEXT = \"text\"\n",
    "USER = \"user\"\n",
    "DIM = BESTDIM\n",
    "EPOCH = BESTEPOCH\n",
    "LR = BESTLR"
   ]
  },
  {
   "cell_type": "code",
   "execution_count": 74,
   "metadata": {},
   "outputs": [],
   "source": [
    "def makeGrepCommandFromQuery(query):\n",
    "    grepCommand = \"grep\"\n",
    "    for orPart in query.split(\"|\"):\n",
    "        grepCommand += ' -e \"'+orPart+'\"'\n",
    "    return(grepCommand)\n",
    "\n",
    "def readData(datePattern,query):\n",
    "    fileList = sorted(os.listdir(DATADIRECTORY))\n",
    "    tmpFileName = \"classify.\"+str(int(random.random()*LARGEINT))+\".txt\"\n",
    "    grepCommand = makeGrepCommandFromQuery(query)\n",
    "    testData = []\n",
    "    for inFileName in fileList:\n",
    "        if re.search(datePattern,inFileName):\n",
    "            os.system(\"gunzip -c \"+DATADIRECTORY+inFileName+\" 2>/dev/null| head -1 >\"+tmpFileName)\n",
    "            os.system(\"gunzip -c \"+DATADIRECTORY+inFileName+\" 2>/dev/null| \"+grepCommand+\" >> \"+tmpFileName)\n",
    "            try: df = pd.read_csv(tmpFileName)\n",
    "            except: continue\n",
    "            for i in range(0,len(df)):\n",
    "                if re.search(query,df.iloc[i][TEXT],flags=re.IGNORECASE):\n",
    "                    testData.append(df.iloc[i][TEXT])\n",
    "            os.unlink(tmpFileName)\n",
    "    return(testData)\n",
    "    \n",
    "def classify(datePattern,query,model):\n",
    "    testData = readData(datePattern,query)\n",
    "    predictedLabels = model.predict(testData)\n",
    "    predictedGroups = pd.DataFrame(predictedLabels[0]).groupby(0).groups\n",
    "    labelCountsPredicted = {label:len(predictedGroups[label]) for label in predictedGroups}\n",
    "    nbrOfLabels = sum([labelCountsPredicted[label] for label in labelCountsPredicted if label != IRRELEVANT])\n",
    "    labelPercentages = { label:round(100*labelCountsPredicted[label]/nbrOfLabels,1) for label in labelCountsPredicted}\n",
    "    return(labelPercentages)"
   ]
  },
  {
   "cell_type": "code",
   "execution_count": 75,
   "metadata": {},
   "outputs": [
    {
     "name": "stdout",
     "output_type": "stream",
     "text": [
      "building model...\n",
      "classifying...\n",
      "20200201 10.0 90.0 206.0\n",
      "20200202 2.0 98.0 255.1\n",
      "20200203 13.8 86.2 127.7\n",
      "20200204 7.4 92.6 139.5\n",
      "20200205 4.3 95.7 176.1\n",
      "20200206 8.3 91.7 250.0\n",
      "20200207 4.5 95.5 265.9\n",
      "20200208 4.2 95.8 225.0\n",
      "20200209 18.2 81.8 177.9\n",
      "20200210 14.8 85.2 157.4\n",
      "20200211 12.8 87.2 591.5\n",
      "20200212 2.9 97.1 155.9\n",
      "20200213 22.9 77.1 202.9\n",
      "20200214 21.8 78.2 221.8\n",
      "20200215 5.7 94.3 362.9\n",
      "20200216 4.5 95.5 245.5\n",
      "20200217 11.1 88.9 165.1\n",
      "20200218 8.3 91.7 173.3\n",
      "20200219 3.3 96.7 503.3\n",
      "20200220 7.3 92.7 934.1\n",
      "20200221 25.6 74.4 441.0\n",
      "20200222 16.2 83.8 316.2\n",
      "20200223 4.1 95.9 191.8\n",
      "20200224 3.7 96.3 375.9\n",
      "20200225 13.2 86.8 267.9\n",
      "20200226 18.6 81.4 333.9\n",
      "20200227 2.3 97.7 124.8\n",
      "20200228 15.2 84.8 126.3\n",
      "20200229 9.8 90.2 201.6\n",
      "20200230 error\n",
      "20200231 error\n",
      "20200301 11.8 88.2 193.4\n",
      "20200302 4.2 95.8 105.2\n",
      "20200303 2.5 97.5 108.8\n",
      "20200304 7.8 92.2 209.4\n",
      "20200305 8.5 91.5 218.3\n",
      "20200306 29.0 71.0 104.7\n",
      "20200307 1.2 98.8 166.7\n",
      "20200308 2.5 97.5 87.1\n",
      "20200309 3.4 96.6 66.7\n",
      "20200310 4.9 95.1 79.9\n",
      "20200311 4.3 95.7 58.1\n",
      "20200312 5.8 94.2 109.1\n",
      "20200313 4.1 95.9 54.4\n",
      "20200314 10.8 89.2 76.8\n",
      "20200315 2.7 97.3 25.3\n",
      "20200316 6.6 93.4 27.8\n",
      "20200317 5.0 95.0 29.3\n",
      "20200318 5.1 94.9 23.7\n",
      "20200319 8.4 91.6 29.9\n",
      "20200320 4.6 95.4 24.5\n",
      "20200321 4.6 95.4 15.5\n",
      "20200322 3.7 96.3 13.6\n",
      "20200323 7.7 92.3 28.5\n",
      "20200324 8.5 91.5 27.1\n",
      "20200325 5.9 94.1 27.1\n",
      "20200326 8.1 91.9 32.3\n",
      "20200327 6.3 93.7 29.9\n",
      "20200328 6.8 93.2 25.7\n",
      "20200329 11.8 88.2 31.3\n",
      "20200330 9.5 90.5 46.7\n",
      "20200331 8.6 91.4 55.3\n",
      "20200401 8.1 91.9 51.3\n",
      "20200402 20.6 79.4 28.1\n",
      "20200403 6.6 93.4 30.7\n",
      "20200404 7.4 92.6 28.0\n",
      "20200405 6.2 93.8 29.5\n",
      "20200406 7.5 92.5 32.9\n",
      "20200407 17.3 82.7 45.1\n",
      "20200408 12.6 87.4 31.8\n",
      "20200409 10.6 89.4 30.4\n",
      "20200410 8.7 91.3 24.1\n",
      "20200411 7.4 92.6 20.7\n",
      "20200412 12.3 87.7 28.1\n",
      "20200413 16.2 83.8 33.6\n",
      "20200414 12.7 87.3 32.4\n",
      "20200415 29.6 70.4 36.5\n",
      "20200416 35.8 64.2 37.5\n",
      "20200417 28.5 71.5 35.1\n",
      "20200418 28.0 72.0 46.2\n",
      "20200419 21.9 78.1 38.6\n",
      "20200420 18.9 81.1 36.1\n",
      "20200421 29.9 70.1 51.2\n",
      "20200422 25.9 74.1 51.3\n",
      "20200423 19.4 80.6 46.1\n",
      "20200424 21.2 78.8 52.3\n",
      "20200425 24.4 75.6 38.4\n",
      "20200426 21.0 79.0 33.9\n",
      "20200427 16.2 83.8 35.5\n",
      "20200428 21.5 78.5 39.2\n",
      "20200429 23.3 76.7 49.7\n",
      "20200430 25.7 74.3 41.9\n",
      "20200431 error\n",
      "20200501 29.4 70.6 36.9\n",
      "20200502 41.2 58.8 24.3\n",
      "20200503 44.9 55.1 30.9\n",
      "20200504 35.5 64.5 39.2\n",
      "20200505 27.4 72.6 31.2\n",
      "20200506 24.8 75.2 34.9\n",
      "20200507 24.4 75.6 33.6\n",
      "20200508 21.9 78.1 43.2\n",
      "20200509 20.0 80.0 34.5\n",
      "20200510 20.0 80.0 36.7\n",
      "20200511 18.1 81.9 32.4\n",
      "20200512 30.0 70.0 42.3\n",
      "20200513 19.4 80.6 47.7\n",
      "20200514 20.9 79.1 26.6\n",
      "20200515 26.4 73.6 38.8\n",
      "20200516 52.4 47.6 26.5\n",
      "20200517 41.4 58.6 36.4\n",
      "20200518 53.6 46.4 32.8\n",
      "20200519 39.1 60.9 33.8\n",
      "20200520 45.4 54.6 31.7\n",
      "20200521 38.3 61.7 26.6\n",
      "20200522 39.2 60.8 32.2\n",
      "20200523 41.2 58.8 30.8\n",
      "20200524 34.7 65.3 37.9\n",
      "20200525 30.4 69.6 44.7\n",
      "20200526 37.2 62.8 40.7\n",
      "20200527 37.1 62.9 33.5\n",
      "20200528 54.0 46.0 27.5\n",
      "20200529 34.6 65.4 40.5\n",
      "20200530 35.2 64.8 38.0\n",
      "20200531 30.0 70.0 37.6\n",
      "20200601 37.3 62.7 47.7\n",
      "20200602 36.4 63.6 48.8\n",
      "20200603 28.3 71.7 39.7\n",
      "20200604 32.4 67.6 49.8\n",
      "20200605 17.5 82.5 63.9\n",
      "20200606 44.4 55.6 31.4\n",
      "20200607 53.3 46.7 31.1\n",
      "20200608 46.8 53.2 32.7\n",
      "20200609 57.6 42.4 40.6\n",
      "20200610 47.2 52.8 41.4\n",
      "20200611 48.4 51.6 46.7\n",
      "20200612 45.2 54.8 43.7\n",
      "20200613 41.4 58.6 52.0\n",
      "20200614 45.0 55.0 27.6\n",
      "20200615 48.3 51.7 36.6\n",
      "20200616 45.3 54.7 31.4\n",
      "20200617 31.1 68.9 57.7\n",
      "20200618 65.5 34.5 30.1\n",
      "20200619 50.9 49.1 33.6\n",
      "20200620 55.7 44.3 48.0\n",
      "20200621 43.2 56.8 84.2\n",
      "20200622 28.5 71.5 65.8\n",
      "20200623 41.1 58.9 34.7\n",
      "20200624 40.6 59.4 42.9\n",
      "20200625 51.4 48.6 38.9\n",
      "20200626 44.3 55.7 28.1\n",
      "20200627 47.3 52.7 22.6\n",
      "20200628 42.0 58.0 55.2\n",
      "20200629 28.5 71.5 59.7\n",
      "20200630 37.4 62.6 44.2\n",
      "20200631 error\n",
      "20200701 45.6 54.4 33.6\n",
      "20200702 48.7 51.3 41.3\n",
      "20200703 34.6 65.4 45.6\n",
      "20200704 32.4 67.6 56.8\n",
      "20200705 33.8 66.2 35.6\n",
      "20200706 31.3 68.7 29.7\n",
      "20200707 28.9 71.1 70.7\n",
      "20200708 35.0 65.0 43.1\n",
      "20200709 35.1 64.9 53.6\n",
      "20200710 50.0 50.0 34.8\n",
      "20200711 34.8 65.2 38.6\n",
      "20200712 31.4 68.6 47.2\n",
      "20200713 34.9 65.1 50.5\n",
      "20200714 21.2 78.8 42.8\n",
      "20200715 21.5 78.5 34.4\n",
      "20200716 28.0 72.0 33.4\n",
      "20200717 30.7 69.3 57.2\n",
      "20200718 24.7 75.3 64.6\n",
      "20200719 27.6 72.4 51.8\n",
      "20200720 18.2 81.8 48.1\n",
      "20200721 23.2 76.8 27.4\n",
      "20200722 20.9 79.1 25.5\n",
      "20200723 21.1 78.9 31.4\n",
      "20200724 20.7 79.3 31.8\n",
      "20200725 23.6 76.4 25.9\n",
      "20200726 28.5 71.5 26.8\n",
      "20200727 error\n",
      "20200728 error\n",
      "20200729 error\n",
      "20200730 error\n",
      "20200731 error\n"
     ]
    }
   ],
   "source": [
    "QUERY = \"1[.,]5[ -]*m|afstand.*hou|hou.*afstand|anderhalve[ -]*meter\"\n",
    "MAXDAYSPERMONTH = 31\n",
    "\n",
    "results = {}\n",
    "print(\"building model...\")\n",
    "model = fasttext.train_supervised(FILEFASTTEXT,dim=DIM,epoch=EPOCH,lr=LR)\n",
    "print(\"classifying...\")\n",
    "for month in \"202002 202003 202004 202005 202006 202007\".split():\n",
    "    for day in range(1,MAXDAYSPERMONTH+1):\n",
    "        date = month+str(day).zfill(2)\n",
    "        try:\n",
    "            labels = classify(date,QUERY,model)\n",
    "            if not REJECTS in labels: labels[REJECTS] = 0\n",
    "            if not SUPPORTS in labels: labels[SUPPORTS] = 0\n",
    "            if not IRRELEVANT in labels: labels[IRRELEVANT] = 0\n",
    "            if labels[REJECTS]+labels[SUPPORTS]+labels[IRRELEVANT] > 0:\n",
    "                results[date] = labels\n",
    "            print(date,labels[REJECTS],labels[SUPPORTS],labels[IRRELEVANT])\n",
    "        except:\n",
    "            print(date,\"error\")"
   ]
  },
  {
   "cell_type": "markdown",
   "metadata": {},
   "source": [
    "## Visualization over time"
   ]
  },
  {
   "cell_type": "code",
   "execution_count": 76,
   "metadata": {},
   "outputs": [],
   "source": [
    "from pandas.plotting import register_matplotlib_converters\n",
    "register_matplotlib_converters()"
   ]
  },
  {
   "cell_type": "code",
   "execution_count": 77,
   "metadata": {},
   "outputs": [],
   "source": [
    "def movingAverage(numberList,size):\n",
    "    newList = []\n",
    "    for i in range(0,len(numberList)):\n",
    "        numberUsed = 1\n",
    "        newList.append(numberList[i])\n",
    "        for j in range(1,size):\n",
    "            if i-j >= 0:\n",
    "                newList[i] += numberList[i-j]\n",
    "                numberUsed += 1\n",
    "        newList[i] /= numberUsed\n",
    "    return(newList)"
   ]
  },
  {
   "cell_type": "code",
   "execution_count": 78,
   "metadata": {},
   "outputs": [
    {
     "name": "stdout",
     "output_type": "stream",
     "text": [
      "20200311\n"
     ]
    }
   ],
   "source": [
    "DATEFORMAT = \"%Y%m%d\"\n",
    "DAYSCOMBINED = 7\n",
    "\n",
    "x = [datetime.datetime.strptime(k,DATEFORMAT) for k in results.keys()]\n",
    "ySupports = movingAverage([results[k][SUPPORTS] for k in results.keys()],DAYSCOMBINED)\n",
    "yRejects = movingAverage([results[k][REJECTS] for k in results.keys()],DAYSCOMBINED)\n",
    "yIrrelevant = movingAverage([results[k][IRRELEVANT] for k in results.keys()],DAYSCOMBINED)\n",
    "\n",
    "keyDates = []\n",
    "for i in range(0,len(yIrrelevant)):\n",
    "    if i < len(yIrrelevant)-1 and \\\n",
    "       (yIrrelevant[i] < 100 and yIrrelevant[i+1] >= 100 or yIrrelevant[i] >= 100 and yIrrelevant[i+1] < 100):\n",
    "        keyDates.append(list(results.keys())[i])\n",
    "        print(keyDates[-1])"
   ]
  },
  {
   "cell_type": "code",
   "execution_count": 79,
   "metadata": {},
   "outputs": [
    {
     "data": {
      "image/png": "[encoded data removed]",
      "text/plain": [
       "<Figure size 1008x504 with 2 Axes>"
      ]
     },
     "metadata": {
      "needs_background": "light"
     },
     "output_type": "display_data"
    }
   ],
   "source": [
    "STARTDATE = keyDates[0]\n",
    "ENDDATE = \"20201231\"\n",
    "\n",
    "results = {k:results[k] for k in sorted(results.keys())}\n",
    "font = {\"size\":14}\n",
    "matplotlib.rc(\"font\",**font)\n",
    "plt.subplots(figsize=(14,7))\n",
    "\n",
    "ax1 = plt.subplot(121)\n",
    "plt.plot_date(x,ySupports,fmt=\"-\",label=\"Supports\")\n",
    "plt.plot_date(x,yRejects,fmt=\"-\",label=\"Rejects\")\n",
    "plt.plot_date(x,yIrrelevant,fmt=\"-\",label=\"Other\")\n",
    "plt.plot_date(x,[100 for i in x],fmt=\"-\",label=\"100%\",color=\"black\")\n",
    "for date in [STARTDATE]:\n",
    "    plt.plot_date([datetime.datetime.strptime(date,DATEFORMAT)],[100],color=\"black\")\n",
    "plt.legend()\n",
    "plt.ylabel(\"percentage\")\n",
    "plt.xlabel(\"day/month\")\n",
    "plt.title(\"                          stance on the RIVM policy on \"+\"social\")\n",
    "\n",
    "dates = [d for d in results.keys()]\n",
    "xPart = [x[i] for i in range(0,len(dates)) if dates[i] >= STARTDATE and dates[i] <= ENDDATE]\n",
    "ySupportsPart = [ySupports[i] for i in range(0,len(dates)) if dates[i] >= STARTDATE and dates[i] <= ENDDATE] \n",
    "yRejectsPart = [yRejects[i] for i in range(0,len(dates)) if dates[i] >= STARTDATE and dates[i] <= ENDDATE]\n",
    "ax1.xaxis.set_major_formatter(mdates.DateFormatter(\"%-d/%-m\"))\n",
    "\n",
    "ax2 = plt.subplot(122)\n",
    "plt.plot_date(xPart,ySupportsPart,fmt=\"-\",label=\"Supports\")\n",
    "plt.plot_date(xPart,yRejectsPart,fmt=\"-\",label=\"Rejects\")\n",
    "plt.legend()\n",
    "plt.xlabel(\"day/month\")\n",
    "plt.title(\"distancing (average over \"+str(DAYSCOMBINED)+\" days)                         \")\n",
    "plt.xticks([datetime.datetime.strptime(d,DATEFORMAT) for d in \"20200301 20200401 20200501 20200601 20200701 20200801\".split()])\n",
    "ax2.xaxis.set_major_formatter(mdates.DateFormatter(\"%-d/%-m\"))\n",
    "\n",
    "plt.show()"
   ]
  },
  {
   "cell_type": "code",
   "execution_count": 56,
   "metadata": {},
   "outputs": [
    {
     "name": "stdout",
     "output_type": "stream",
     "text": [
      "0.199 __label__REJECTS\n",
      "0.562 __label__SUPPORTS\n",
      "0.239 __label__IRRELEVANT\n"
     ]
    }
   ],
   "source": [
    "counts = {}\n",
    "for text in fasttextData:\n",
    "    label = text.split()[0]\n",
    "    if label in counts: counts[label] += 1\n",
    "    else: counts[label] = 1\n",
    "for label in counts: print(round(counts[label]/len(fasttextData),3),label)"
   ]
  },
  {
   "cell_type": "markdown",
   "metadata": {},
   "source": [
    "## Annotator comparison"
   ]
  },
  {
   "cell_type": "code",
   "execution_count": 68,
   "metadata": {},
   "outputs": [],
   "source": [
    "NBROFTESTDATA = 100\n",
    "\n",
    "annotators = []\n",
    "annotatorData = {}\n",
    "kappaData = [{},{}]\n",
    "blockedTweetIds = {}\n",
    "for i in range(0,len(annotations)):\n",
    "    annotator = annotations.iloc[i][0]\n",
    "    tweetId = annotations.iloc[i][2]\n",
    "    tweetLabel = annotations.iloc[i][4]\n",
    "    if not annotator in annotatorData: \n",
    "        annotatorData[annotator] = {}\n",
    "        annotators.append(annotator)\n",
    "    annotatorData[annotator][tweetId] = tweetLabel\n",
    "    if len(annotatorData[annotator]) <= NBROFTESTDATA: blockedTweetIds[tweetId] = True\n",
    "    if len(annotators) >= 2 and not tweetId in blockedTweetIds and \\\n",
    "       tweetId in annotatorData[annotators[0]] and tweetId in annotatorData[annotators[1]]:\n",
    "        kappaData[0][tweetId] = annotatorData[annotators[0]][tweetId]\n",
    "        kappaData[1][tweetId] = annotatorData[annotators[1]][tweetId]"
   ]
  },
  {
   "cell_type": "code",
   "execution_count": 41,
   "metadata": {},
   "outputs": [
    {
     "name": "stdout",
     "output_type": "stream",
     "text": [
      "5977\n",
      "0.2 ONEENS\n",
      "0.562 EENS\n",
      "0.238 ANDERS\n",
      "501\n",
      "0.214 ONEENS\n",
      "0.421 ANDERS\n",
      "0.361 EENS\n",
      "0.004 NEUTRAL\n",
      "100\n",
      "0.6 EENS\n",
      "0.21 ONEENS\n",
      "0.19 ANDERS\n"
     ]
    }
   ],
   "source": [
    "for annotator in annotatorData:\n",
    "    labelCount = {}\n",
    "    for tweetId in annotatorData[annotator]:\n",
    "        label = annotatorData[annotator][tweetId]\n",
    "        if not label in labelCount: labelCount[label] = 0\n",
    "        labelCount[label] += 1\n",
    "    print(len(annotatorData[annotator]))\n",
    "    for label in labelCount: print(round(labelCount[label]/len(annotatorData[annotator]),3),label)"
   ]
  },
  {
   "cell_type": "code",
   "execution_count": 72,
   "metadata": {},
   "outputs": [
    {
     "data": {
      "text/plain": [
       "0.595249310275217"
      ]
     },
     "execution_count": 72,
     "metadata": {},
     "output_type": "execute_result"
    }
   ],
   "source": [
    "from sklearn.metrics import cohen_kappa_score\n",
    "\n",
    "cohen_kappa_score([kappaData[0][tweetId] for tweetId in kappaData[0]],[kappaData[1][tweetId] for tweetId in kappaData[0]])"
   ]
  },
  {
   "cell_type": "code",
   "execution_count": 42,
   "metadata": {},
   "outputs": [
    {
     "name": "stdout",
     "output_type": "stream",
     "text": [
      "1255811493528027142 ONEENS EENS\n",
      "1268107342220005377 EENS ANDERS\n",
      "1267584204696702980 EENS ANDERS\n",
      "1275089022595956737 ONEENS EENS\n",
      "1278679339618439168 ONEENS EENS\n",
      "1262358344687329280 ONEENS EENS\n",
      "1261162132286189568 ONEENS ANDERS\n",
      "1269734750245306369 ANDERS EENS\n",
      "1268291329366220800 ONEENS EENS\n",
      "1264617033108467712 EENS ANDERS\n",
      "1268229980351279117 EENS ANDERS\n",
      "1271354707177623553 ONEENS EENS\n",
      "1260396460736229380 ONEENS ANDERS\n",
      "1239097671090143237 EENS ANDERS\n",
      "1268553585492733953 ANDERS EENS\n",
      "1242901282312126472 ANDERS EENS\n",
      "1226455377698607104 ANDERS ONEENS\n",
      "1242710941961256960 EENS ANDERS\n",
      "1242710941961256960 EENS ONEENS\n",
      "1265168472402771969 ONEENS ANDERS\n",
      "1256556830374977537 EENS ANDERS\n",
      "1263261354074480640 ANDERS EENS\n",
      "1252311452981112838 ONEENS EENS\n",
      "1267535134213001216 ANDERS ONEENS\n",
      "1267535134213001216 ANDERS ONEENS\n",
      "1266518198637256707 ONEENS ANDERS\n",
      "1266518198637256707 ONEENS ANDERS\n",
      "1246404764524523520 EENS ANDERS\n",
      "1246404764524523520 EENS ANDERS\n",
      "1262462245411459079 ANDERS ONEENS\n",
      "1246210326942679041 EENS ONEENS\n",
      "1274971384041615360 ONEENS ANDERS\n",
      "1258853219956072451 ONEENS ANDERS\n",
      "1269586384546926593 EENS ANDERS\n",
      "1267524808931147776 EENS ANDERS\n",
      "1267512403685773312 ONEENS EENS\n",
      "1241616504124293122 ANDERS EENS\n",
      "1243894817320550400 EENS ONEENS\n",
      "1241099558609960960 EENS ONEENS\n",
      "1256175537841635333 EENS ANDERS\n",
      "1256175537841635333 EENS ANDERS\n",
      "1240660892326526977 EENS ANDERS\n",
      "1273510057913782273 ANDERS EENS\n",
      "601 57\n"
     ]
    }
   ],
   "source": [
    "MAX = 100\n",
    "\n",
    "total = 0\n",
    "identical = 0\n",
    "for tweetId in annotatorData[ANNOTATOR]:\n",
    "    for annotator in annotators:\n",
    "        if not annotator == ANNOTATOR and tweetId in annotatorData[annotator]:\n",
    "            total += 1\n",
    "            if total <= MAX:\n",
    "                if annotatorData[annotator][tweetId] == annotatorData[ANNOTATOR][tweetId]: identical += 1\n",
    "                else: \n",
    "                    print(tweetId,annotatorData[ANNOTATOR][tweetId],annotatorData[annotator][tweetId])\n",
    "                    #print(tweets.loc[tweetId][TEXT])\n",
    "print(total,identical)"
   ]
  },
  {
   "cell_type": "code",
   "execution_count": null,
   "metadata": {},
   "outputs": [],
   "source": []
  }
 ],
 "metadata": {
  "kernelspec": {
   "display_name": "Python 3",
   "language": "python",
   "name": "python3"
  },
  "language_info": {
   "codemirror_mode": {
    "name": "ipython",
    "version": 3
   },
   "file_extension": ".py",
   "mimetype": "text/x-python",
   "name": "python",
   "nbconvert_exporter": "python",
   "pygments_lexer": "ipython3",
   "version": "3.7.3"
  }
 },
 "nbformat": 4,
 "nbformat_minor": 4
}
