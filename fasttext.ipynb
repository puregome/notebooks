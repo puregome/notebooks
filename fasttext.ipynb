{
 "cells": [
  {
   "cell_type": "markdown",
   "metadata": {},
   "source": [
    "# Fasttext tweet classification"
   ]
  },
  {
   "cell_type": "markdown",
   "metadata": {},
   "source": [
    "## Data file creation"
   ]
  },
  {
   "cell_type": "code",
   "execution_count": 1,
   "metadata": {},
   "outputs": [],
   "source": [
    "import datetime\n",
    "import math\n",
    "import matplotlib.pyplot as plt\n",
    "import matplotlib.dates as mdates\n",
    "import numpy as np\n",
    "import os\n",
    "import pandas as pd\n",
    "import pipes\n",
    "import random\n",
    "import re\n",
    "import tempfile\n",
    "from nltk.tokenize import TweetTokenizer\n",
    "from IPython.display import clear_output"
   ]
  },
  {
   "cell_type": "code",
   "execution_count": 2,
   "metadata": {},
   "outputs": [],
   "source": [
    "DISTANCE = \"distance\"\n",
    "FACEMASK = \"mondkapje\"\n",
    "TOPIC = DISTANCE # <====================================\n",
    "#TOPIC = FACEMASK\n",
    "\n",
    "DATADIR = \"../data/\"\n",
    "if TOPIC == FACEMASK: FILETWEETS = TOPIC+\"-tweets+nunl.csv\"\n",
    "else: FILETWEETS = TOPIC+\"-tweets.csv\"\n",
    "FILEANNOTATIONS = FILETWEETS+\".human-labels.txt\"\n",
    "FILEFASTTEXT = \"fasttext-\"+TOPIC+\".csv\"\n",
    "LABELPREFIX = \"__label__\"\n",
    "LARGEINT = 9999999999\n",
    "LABEL = \"label\"\n",
    "TEXT = \"text\"\n",
    "USER = \"user\"\n",
    "IDSTR = \"id_str\"\n",
    "IRRELEVANT = \"IRRELEVANT\"\n",
    "NEUTRAL = \"NEUTRAL\"\n",
    "ANDERS = \"ANDERS\"\n",
    "EENS = \"EENS\"\n",
    "ONEENS = \"ONEENS\"\n",
    "SUPPORTS = \"SUPPORTS\"\n",
    "REJECTS = \"REJECTS\"\n",
    "SOURCE = \"source\""
   ]
  },
  {
   "cell_type": "code",
   "execution_count": 3,
   "metadata": {},
   "outputs": [],
   "source": [
    "tweets = pd.read_csv(DATADIR+FILETWEETS,index_col=IDSTR)\n",
    "annotations = pd.read_csv(DATADIR+FILEANNOTATIONS,header=None,sep=\" \")\n",
    "mainAnnotator = annotations.iloc[0][0]"
   ]
  },
  {
   "cell_type": "code",
   "execution_count": 4,
   "metadata": {},
   "outputs": [],
   "source": [
    "def cleanup(text):\n",
    "    text = re.sub(r\"\\\\n\",\" \",text)\n",
    "    text = re.sub(r\"https://\\S+\",\"\",text)\n",
    "    text = re.sub(r\"\\s+\",\" \",text)\n",
    "    text = text.strip()\n",
    "    return(text)\n",
    "\n",
    "def tokenize(text):\n",
    "    return(\" \".join(TweetTokenizer().tokenize(text)))\n",
    "\n",
    "def preprocess(text):\n",
    "    return(tokenize(cleanup(text)).lower())"
   ]
  },
  {
   "cell_type": "code",
   "execution_count": 5,
   "metadata": {},
   "outputs": [],
   "source": [
    "fasttextData = {}\n",
    "for i in range(0,len(annotations)):\n",
    "    annotator = annotations.iloc[i][0]\n",
    "    tweetId = annotations.iloc[i][2]\n",
    "    if annotator == mainAnnotator and tweetId in list(tweets.index):\n",
    "        tweetUser = tweets.loc[tweetId][1]\n",
    "        tweetLabel = annotations.iloc[i][4]\n",
    "        if tweetLabel == NEUTRAL: tweetLabel = IRRELEVANT\n",
    "        if tweetLabel == ANDERS: tweetLabel = IRRELEVANT\n",
    "        if tweetLabel == EENS: tweetLabel = SUPPORTS\n",
    "        if tweetLabel == ONEENS: tweetLabel = REJECTS\n",
    "        fasttextData[tweetId] = {LABEL:LABELPREFIX+tweetLabel,\\\n",
    "                                 USER:tweetUser,\\\n",
    "                                 TEXT:preprocess(tweets.loc[tweetId][TEXT])}"
   ]
  },
  {
   "cell_type": "code",
   "execution_count": 6,
   "metadata": {},
   "outputs": [
    {
     "data": {
      "text/plain": [
       "(5977, 6835, 7286)"
      ]
     },
     "execution_count": 6,
     "metadata": {},
     "output_type": "execute_result"
    }
   ],
   "source": [
    "len(fasttextData),len(tweets),len(annotations)"
   ]
  },
  {
   "cell_type": "code",
   "execution_count": 7,
   "metadata": {},
   "outputs": [],
   "source": [
    "outFile = open(FILEFASTTEXT,\"w\")\n",
    "seenTexts = {}\n",
    "for tweetId in fasttextData:\n",
    "    text = cleanup(fasttextData[tweetId][TEXT])\n",
    "    if not text in seenTexts:\n",
    "        print(fasttextData[tweetId][LABEL],text,file=outFile)\n",
    "        seenTexts[text] = True\n",
    "outFile.close()"
   ]
  },
  {
   "cell_type": "code",
   "execution_count": 8,
   "metadata": {},
   "outputs": [
    {
     "name": "stdout",
     "output_type": "stream",
     "text": [
      "tweets annotated per minute: 5.3 ; 1000 tweets take: 189 minutes\n"
     ]
    }
   ],
   "source": [
    "annotations1 = annotations[annotations[0]==mainAnnotator]\n",
    "nbrOfAnnotationMinutes = len(set([str(x)[:12] for x in annotations1[1]]))\n",
    "nbrOfAnnotatedTweets = len(set([str(x)[:12] for x in annotations1[2]]))\n",
    "print(\"tweets annotated per minute:\",round(nbrOfAnnotatedTweets/nbrOfAnnotationMinutes,1),\"; 1000 tweets take:\",\\\n",
    "      round(1000/(nbrOfAnnotatedTweets/nbrOfAnnotationMinutes)),\"minutes\")"
   ]
  },
  {
   "cell_type": "code",
   "execution_count": 9,
   "metadata": {},
   "outputs": [
    {
     "name": "stdout",
     "output_type": "stream",
     "text": [
      "tweets annotated per minute: 3.6 ; 1000 tweets take: 278 minutes\n"
     ]
    }
   ],
   "source": [
    "annotations2 = annotations[annotations[0]!=mainAnnotator]\n",
    "nbrOfAnnotationMinutes = len(set([str(x)[:12] for x in annotations2[1]]))\n",
    "nbrOfAnnotatedTweets = len(set([str(x)[:12] for x in annotations2[2]]))\n",
    "print(\"tweets annotated per minute:\",round(nbrOfAnnotatedTweets/nbrOfAnnotationMinutes,1),\"; 1000 tweets take:\",\\\n",
    "      round(1000/(nbrOfAnnotatedTweets/nbrOfAnnotationMinutes)),\"minutes\")"
   ]
  },
  {
   "cell_type": "code",
   "execution_count": 10,
   "metadata": {},
   "outputs": [
    {
     "name": "stdout",
     "output_type": "stream",
     "text": [
      "19.95984607662707 __label__REJECTS\n",
      "56.232223523506775 __label__SUPPORTS\n",
      "23.807930399866155 __label__IRRELEVANT\n"
     ]
    },
    {
     "data": {
      "text/plain": [
       "0.41272759677251447"
      ]
     },
     "execution_count": 10,
     "metadata": {},
     "output_type": "execute_result"
    }
   ],
   "source": [
    "tmp_labels = {}\n",
    "for data in fasttextData:\n",
    "    label = fasttextData[data][\"label\"]\n",
    "    if label not in tmp_labels:\n",
    "        tmp_labels[label] = 0\n",
    "    tmp_labels[label] += 1\n",
    "guess_score = 0\n",
    "for label in tmp_labels:\n",
    "    print(f\"{100*tmp_labels[label]/len(fasttextData)} {label}\")\n",
    "    guess_score += tmp_labels[label]/len(fasttextData) * tmp_labels[label]/len(fasttextData)\n",
    "guess_score"
   ]
  },
  {
   "cell_type": "markdown",
   "metadata": {},
   "source": [
    "| label | percentage |\n",
    "| ---------- | ------- |\n",
    "| REJECT     | 20.0% |\n",
    "| SUPPORTS   | 56.2% |\n",
    "| IRRELEVANT | 23.8% |"
   ]
  },
  {
   "cell_type": "markdown",
   "metadata": {},
   "source": [
    "## Fasttext run and evaluation"
   ]
  },
  {
   "cell_type": "code",
   "execution_count": 11,
   "metadata": {},
   "outputs": [],
   "source": [
    "import fasttext\n",
    "import random\n",
    "from IPython.display import clear_output"
   ]
  },
  {
   "cell_type": "code",
   "execution_count": 12,
   "metadata": {},
   "outputs": [],
   "source": [
    "PRETRAINEDDIR = \"/home/erikt/projects/newsgac/fasttext-runs/\"\n",
    "WIKIFILENAME = \"wiki.nl.vec\""
   ]
  },
  {
   "cell_type": "code",
   "execution_count": 13,
   "metadata": {},
   "outputs": [],
   "source": [
    "def print_results(N, p, r):\n",
    "    print(\"N\\t\" + str(N))\n",
    "    print(\"P@{}\\t{:.3f}\".format(1, p))\n",
    "    print(\"R@{}\\t{:.3f}\".format(1, r))"
   ]
  },
  {
   "cell_type": "code",
   "execution_count": 14,
   "metadata": {},
   "outputs": [
    {
     "data": {
      "text/plain": [
       "5731"
      ]
     },
     "execution_count": 14,
     "metadata": {},
     "output_type": "execute_result"
    }
   ],
   "source": [
    "fasttextData = []\n",
    "inFile = open(FILEFASTTEXT,\"r\")\n",
    "for line in inFile: fasttextData.append(line.strip())\n",
    "inFile.close()\n",
    "len(fasttextData)"
   ]
  },
  {
   "cell_type": "code",
   "execution_count": 15,
   "metadata": {},
   "outputs": [],
   "source": [
    "DIM = 100\n",
    "EPOCH = 100\n",
    "LR = 0.05\n",
    "N = 10\n",
    "TRAIN = \"TRAIN\"+str(int(random.random()*LARGEINT))\n",
    "TEST = \"TEST\"+str(int(random.random()*LARGEINT))\n",
    "VALIDATION = \"VALIDATION\"+str(int(random.random()*LARGEINT))"
   ]
  },
  {
   "cell_type": "code",
   "execution_count": 16,
   "metadata": {},
   "outputs": [],
   "source": [
    "def ranSelect(inList,size):\n",
    "    outList = []\n",
    "    selectionList = list(inList)\n",
    "    while len(outList) < size and len(selectionList) > 0:\n",
    "        index = int(random.random()*len(selectionList))\n",
    "        outList.append(selectionList[index])\n",
    "        del(selectionList[index])\n",
    "    return(outList)"
   ]
  },
  {
   "cell_type": "code",
   "execution_count": 17,
   "metadata": {},
   "outputs": [],
   "source": [
    "def runFasttext(fasttextData,dim=DIM,epoch=EPOCH,lr=LR,n=N,squealFlag=True,maxTrain=None):\n",
    "    predictionCountsTest = []\n",
    "    predictionLabelsTest = []\n",
    "    predictionCountsValidation = []\n",
    "    predictionLabelsValidation = []\n",
    "    for fold in range(0,n):\n",
    "        if squealFlag:\n",
    "            clear_output(wait=True)\n",
    "            print(\"starting fold\",fold)\n",
    "        validationStart = round(fold*len(fasttextData)/n)\n",
    "        validationEnd = round((fold+1)*len(fasttextData)/n)\n",
    "        if fold < n-1: nextFold = fold+1\n",
    "        else: nextFold = 0\n",
    "        testStart = round(nextFold*len(fasttextData)/n)\n",
    "        testEnd = round((nextFold+1)*len(fasttextData)/n)\n",
    "        trainFile = open(TRAIN,\"w\")\n",
    "        testFile = open(TEST,\"w\")\n",
    "        validationFile = open(VALIDATION,\"w\")\n",
    "        trainData = []\n",
    "        validationData = []\n",
    "        testData = []\n",
    "        for i in range(0,len(fasttextData)):\n",
    "            data = fasttextData[i]\n",
    "            if i >= testStart and i < testEnd: \n",
    "                print(data,file=testFile)\n",
    "                testData.append(data)\n",
    "            elif i >= validationStart and i < validationEnd: \n",
    "                print(data,file=validationFile)\n",
    "                validationData.append(data)\n",
    "            else: \n",
    "                print(data,file=trainFile)\n",
    "                trainData.append(data)\n",
    "        testFile.close()\n",
    "        trainFile.close()\n",
    "        validationFile.close()\n",
    "        if not maxTrain == None and maxTrain < len(trainData):\n",
    "            trainData = ranSelect(trainData,maxTrain)\n",
    "            trainFile = open(TRAIN,\"w\")\n",
    "            for i in range(0,len(trainData)):\n",
    "                print(trainData[i],file=trainFile)\n",
    "            trainFile.close()\n",
    "        model = fasttext.train_supervised(TRAIN, dim=dim, epoch=epoch, lr=lr, pretrainedVectors=\"twiqs-model-2020.vec\")\n",
    "        predictionCountsValidation.append([*model.test(VALIDATION)])\n",
    "        predictionLabelsValidation.append(model.predict(validationData))\n",
    "        predictionCountsTest.append([*model.test(TEST)])\n",
    "        predictionLabelsTest.append(model.predict(testData))\n",
    "        print(fold, end=\" \")\n",
    "        evaluate(predictionCountsTest, predictionLabelsTest, fasttextData[testStart:testEnd])\n",
    "        os.unlink(TRAIN)\n",
    "        os.unlink(TEST)\n",
    "        os.unlink(VALIDATION)\n",
    "        pd.DataFrame(predictionCountsValidation).to_csv(\"csv/predictionCountsValidation.csv\")\n",
    "        pd.DataFrame(predictionCountsTest).to_csv(\"csv/predictionCountsTest.csv\")\n",
    "        pd.DataFrame(predictionLabelsValidation).to_csv(\"csv/predictionLabelsValidation.csv\")\n",
    "        pd.DataFrame(predictionLabelsTest).to_csv(\"csv/predictionLabelsTest.csv\")\n",
    "    if squealFlag:\n",
    "        clear_output(wait=True)\n",
    "        print(\"finished\")\n",
    "    return(predictionCountsValidation,predictionLabelsValidation,predictionCountsTest,predictionLabelsTest)"
   ]
  },
  {
   "cell_type": "code",
   "execution_count": 18,
   "metadata": {},
   "outputs": [],
   "source": [
    "def makeConfusionMatrix(fasttextData,predictionLabels):\n",
    "    goldLabels = pd.Series([fasttextData[i].split()[0] for i in range(0,len(fasttextData))])\n",
    "    predictedLabels = pd.Series([x[0] for row in predictionLabels for x in row[0]])\n",
    "    return(pd.crosstab(goldLabels,predictedLabels))"
   ]
  },
  {
   "cell_type": "code",
   "execution_count": 19,
   "metadata": {},
   "outputs": [],
   "source": [
    "def evaluate(predictionCounts,predictionLabels,fasttextData,printResults=True):\n",
    "    caseTotal = 0\n",
    "    pTotal = 0\n",
    "    rTotal = 0\n",
    "    for i in range(0,len(predictionCounts)):\n",
    "        caseTotal += predictionCounts[i][0]\n",
    "        pTotal += predictionCounts[i][0]*predictionCounts[i][1]\n",
    "        rTotal += predictionCounts[i][0]*predictionCounts[i][2]\n",
    "    precision = round(pTotal/caseTotal,3)\n",
    "    recall = round(rTotal/caseTotal,3)\n",
    "    cf = makeConfusionMatrix(fasttextData,predictionLabels)\n",
    "    for label in ['__label__REJECTS','__label__SUPPORTS','__label__IRRELEVANT']:\n",
    "        if not label in cf: cf[label] = [0 for i in range(0,len(cf))]\n",
    "    numberOfPredictedSupportLabels = sum([cf.iloc[i]['__label__SUPPORTS'] for i in range(0,len(cf))])\n",
    "    numberOfGoldSupportLabels = sum(cf.loc['__label__SUPPORTS'])\n",
    "    numberOfPredictedRejectLabels = sum([cf.iloc[i]['__label__REJECTS'] for i in range(0,len(cf))])\n",
    "    numberOfGoldRejectLabels = sum(cf.loc['__label__REJECTS'])\n",
    "    fraction = (numberOfPredictedRejectLabels/numberOfPredictedSupportLabels)/(numberOfGoldRejectLabels/numberOfGoldSupportLabels)\n",
    "    if printResults: \n",
    "        print(\"cases: {0}; precision: {1:0.3f}; recall: {2:0.3f}; fraction: {3:0.3f}\".format(caseTotal,precision,recall,fraction))\n",
    "    return((precision,fraction))"
   ]
  },
  {
   "cell_type": "markdown",
   "metadata": {},
   "source": [
    "## Grid search (skip)"
   ]
  },
  {
   "cell_type": "code",
   "execution_count": null,
   "metadata": {},
   "outputs": [],
   "source": [
    "scoresValidation = {}\n",
    "scoresTest = {}\n",
    "for dim in [10,20,50,100,200,300]:\n",
    "    for epoch in [10,20,50,100,200]:\n",
    "        for lr in [0.05,0.1,0.2]:\n",
    "            predictionCountsValidation,predictionLabelsValidation,predictionCountsTest,predictionLabelsTest = \\\n",
    "                runFasttext(fasttextData,dim=dim,epoch=epoch,lr=lr,squealFlag=False)\n",
    "            key = \",\".join([str(dim),str(epoch),str(lr)])\n",
    "            print(f\"{dim:3} {epoch:3} {lr:0.2f}\",end=\" validation: \")\n",
    "            scoresValidation[key] = evaluate(predictionCountsValidation,predictionLabelsValidation,fasttextData)\n",
    "            print(f\"{dim:3} {epoch:3} {lr:0.2f}\",end=\"       test: \")\n",
    "            scoresTest[key] = evaluate(predictionCountsTest,predictionLabelsTest,fasttextData)"
   ]
  },
  {
   "cell_type": "code",
   "execution_count": null,
   "metadata": {},
   "outputs": [],
   "source": [
    "print(\"optimizing accuracy via validation data\")\n",
    "[(scoresValidation[k],k) for k in sorted(scoresValidation.keys(),\\\n",
    "                                         key=lambda k:scoresValidation[k][0],reverse=True)][0:10]"
   ]
  },
  {
   "cell_type": "code",
   "execution_count": null,
   "metadata": {},
   "outputs": [],
   "source": [
    "print(\"checking best accuracy for test data\")\n",
    "[(scoresTest[k],k) for k in sorted(scoresTest.keys(),\\\n",
    "                                         key=lambda k:scoresTest[k][0],reverse=True)][0:10]"
   ]
  },
  {
   "cell_type": "markdown",
   "metadata": {},
   "source": [
    "Facemasks: best validation accuracy 0.56 for '20,50,0.1', associated test accuracy 0.56 (5th score).\n",
    "\n",
    "Social distancing: best validation accuracy 0.65 for '300,10,0.2', associated test accuracy 0.65 (top score)."
   ]
  },
  {
   "cell_type": "code",
   "execution_count": null,
   "metadata": {},
   "outputs": [],
   "source": [
    "print(\"optimizing fraction via validation data\")\n",
    "[(scoresValidation[k],k) for k in sorted(scoresValidation.keys(),\n",
    "                                         key=lambda k:scoresValidation[k][1],reverse=True)][0:10]"
   ]
  },
  {
   "cell_type": "code",
   "execution_count": null,
   "metadata": {},
   "outputs": [],
   "source": [
    "print(\"checking fraction for test data\")\n",
    "[(scoresTest[k],k) for k in sorted(scoresTest.keys(),\n",
    "                                         key=lambda k:scoresTest[k][1],reverse=True)][0:10]"
   ]
  },
  {
   "cell_type": "markdown",
   "metadata": {},
   "source": [
    "Facemasks: best validation ratio: 1.48 for '10,200,0.2'; associated test ratio: 1.70 (8th scsore)\n",
    "\n",
    "Social distancing: best validation ratio 0.88 for '200,200,0.2'; associated test accuracy 0.83 (top score)."
   ]
  },
  {
   "cell_type": "markdown",
   "metadata": {},
   "source": [
    "## Check relation accuracy and fraction (skip)"
   ]
  },
  {
   "cell_type": "code",
   "execution_count": null,
   "metadata": {},
   "outputs": [],
   "source": [
    "THRESHOLD = 0.62\n",
    "\n",
    "plt.figure(figsize=(6,3))\n",
    "ax1 = plt.subplot(121)\n",
    "x1 = [scoresTest[key][0] for key in scoresValidation]\n",
    "y1 = [scoresTest[key][1] for key in scoresValidation]\n",
    "ax1.scatter(x1,y1)\n",
    "ax2 = plt.subplot(122)\n",
    "x2 = [scoresTest[key][0] for key in scoresValidation if scoresTest[key][0] > THRESHOLD]\n",
    "y2 = [scoresTest[key][1] for key in scoresValidation if scoresTest[key][0] > THRESHOLD]\n",
    "ax2.scatter(x2,y2)\n",
    "plt.xlabel(\"fraction\")\n",
    "plt.ylabel(\"accuracy\")\n",
    "plt.show()"
   ]
  },
  {
   "cell_type": "code",
   "execution_count": null,
   "metadata": {},
   "outputs": [],
   "source": [
    "np.corrcoef(x1,y1)[0][1],np.corrcoef(x2,y2)[0][1]"
   ]
  },
  {
   "cell_type": "code",
   "execution_count": null,
   "metadata": {},
   "outputs": [],
   "source": [
    "N = 5\n",
    "scoresN = {} \n",
    "triplets = [(20,300,0.2),(50,200,0.2),(300,200,0.2),(20,200,0.05),(10,300,0.2)]\n",
    "\n",
    "for triplet in triplets:\n",
    "    dim,epoch,lr = triplet\n",
    "    key = \" \".join([str(dim),str(epoch),str(lr)])\n",
    "    scoresN[key] = []\n",
    "    for i in range(0,N): \n",
    "        predictionCounts,predictionLabels = runFasttext(fasttextData,dim=dim,epoch=epoch,lr=lr,squealFlag=False)\n",
    "        print(dim,epoch,lr,end=\" \")\n",
    "        scoresN[key].append(evaluate(predictionCounts,predictionLabels,fasttextData))"
   ]
  },
  {
   "cell_type": "code",
   "execution_count": null,
   "metadata": {},
   "outputs": [],
   "source": [
    "scoresNaverage = {}\n",
    "for key in scoresN: scoresNaverage[key] = round(np.average([x[1] for x in scoresN[key]]),3)\n",
    "{key:scoresNaverage[key] for key in sorted(scoresNaverage.keys(),key=lambda k:scoresNaverage[k],reverse=True)}"
   ]
  },
  {
   "cell_type": "code",
   "execution_count": null,
   "metadata": {},
   "outputs": [],
   "source": [
    "for dim in [10]:\n",
    "    for epoch in [900]:\n",
    "        for lr in [0.2]:\n",
    "            predictionCounts,predictionLabels = runFasttext(fasttextData,dim=dim,epoch=epoch,lr=lr,squealFlag=False)\n",
    "            print(dim,epoch,lr,end=\" \")\n",
    "            key = \",\".join([str(dim),str(epoch),str(lr)])\n",
    "            scores[key] = evaluate(predictionCounts,predictionLabels,fasttextData)"
   ]
  },
  {
   "cell_type": "markdown",
   "metadata": {},
   "source": [
    "## Run with best parameters (skip, except for first block)"
   ]
  },
  {
   "cell_type": "code",
   "execution_count": 20,
   "metadata": {},
   "outputs": [],
   "source": [
    "def setBestParameters():\n",
    "    if TOPIC == DISTANCE:\n",
    "        # social distancing (202008: 20,300,0.9) (202009a:20,10,0.05) (202009b:10,10,0.2) (202010:200,200,0.2) (emnlp:10,10,0.2)\n",
    "        BESTDIM = 300 # 20210304: was 200\n",
    "        BESTEPOCH = 200\n",
    "        BESTLR = 0.2\n",
    "    elif TOPIC == FACEMASK:\n",
    "        # facemasks (202008: 10,900,0.2) (202010:10,200,0.2) (emnlp:300,10,0.2)\n",
    "        BESTDIM = 300 # from emnlp\n",
    "        BESTEPOCH = 10\n",
    "        BESTLR = 0.2\n",
    "    else:\n",
    "        print(\"unknown topic!\",file=sys.stderr)\n",
    "        sys.exit(1)\n",
    "    return(BESTDIM,BESTEPOCH,BESTLR)\n",
    "        \n",
    "BESTDIM,BESTEPOCH,BESTLR = setBestParameters()"
   ]
  },
  {
   "cell_type": "markdown",
   "metadata": {},
   "source": [
    "The next block takes a lot of time to run so it is best to skip it"
   ]
  },
  {
   "cell_type": "code",
   "execution_count": 21,
   "metadata": {},
   "outputs": [
    {
     "name": "stderr",
     "output_type": "stream",
     "text": [
      "Read 0M words\n",
      "Number of words:  17915\n",
      "Number of labels: 3\n",
      "Progress: 100.0% words/sec/thread: 2039159 lr:  0.000000 avg.loss:  0.002489 ETA:   0h 0m 0s 1m59s 0.088623 avg.loss:  0.003195 ETA:   0h 0m58s\n"
     ]
    },
    {
     "name": "stdout",
     "output_type": "stream",
     "text": [
      "0 cases: 573; precision: 0.756; recall: 0.756; fraction: 1.123\n"
     ]
    },
    {
     "name": "stderr",
     "output_type": "stream",
     "text": [
      "Read 0M words\n",
      "Number of words:  17712\n",
      "Number of labels: 3\n",
      "Progress: 100.0% words/sec/thread: 2055572 lr:  0.000000 avg.loss:  0.002568 ETA:   0h 0m 0s\n"
     ]
    },
    {
     "name": "stdout",
     "output_type": "stream",
     "text": [
      "1 cases: 1146; precision: 0.661; recall: 0.661; fraction: 0.403\n"
     ]
    },
    {
     "name": "stderr",
     "output_type": "stream",
     "text": [
      "Read 0M words\n",
      "Number of words:  17526\n",
      "Number of labels: 3\n",
      "Progress: 100.0% words/sec/thread: 2074151 lr:  0.000000 avg.loss:  0.002276 ETA:   0h 0m 0s 56.8% words/sec/thread: 2076123 lr:  0.086492 avg.loss:  0.002951 ETA:   0h 0m55s\n"
     ]
    },
    {
     "name": "stdout",
     "output_type": "stream",
     "text": [
      "2 cases: 1719; precision: 0.657; recall: 0.657; fraction: 0.643\n"
     ]
    },
    {
     "name": "stderr",
     "output_type": "stream",
     "text": [
      "Read 0M words\n",
      "Number of words:  17711\n",
      "Number of labels: 3\n",
      "Progress: 100.0% words/sec/thread: 2066142 lr:  0.000000 avg.loss:  0.002257 ETA:   0h 0m 0s 0.002762 ETA:   0h 0m45s\n"
     ]
    },
    {
     "name": "stdout",
     "output_type": "stream",
     "text": [
      "3 cases: 2293; precision: 0.646; recall: 0.646; fraction: 0.573\n"
     ]
    },
    {
     "name": "stderr",
     "output_type": "stream",
     "text": [
      "Read 0M words\n",
      "Number of words:  17796\n",
      "Number of labels: 3\n",
      "Progress: 100.0% words/sec/thread: 2067199 lr:  0.000000 avg.loss:  0.002253 ETA:   0h 0m 0s\n"
     ]
    },
    {
     "name": "stdout",
     "output_type": "stream",
     "text": [
      "4 cases: 2866; precision: 0.648; recall: 0.648; fraction: 0.356\n"
     ]
    },
    {
     "name": "stderr",
     "output_type": "stream",
     "text": [
      "Read 0M words\n",
      "Number of words:  17704\n",
      "Number of labels: 3\n",
      "Progress: 100.0% words/sec/thread: 2048936 lr:  0.000000 avg.loss:  0.002711 ETA:   0h 0m 0s\n"
     ]
    },
    {
     "name": "stdout",
     "output_type": "stream",
     "text": [
      "5 cases: 3439; precision: 0.648; recall: 0.648; fraction: 0.384\n"
     ]
    },
    {
     "name": "stderr",
     "output_type": "stream",
     "text": [
      "Read 0M words\n",
      "Number of words:  17881\n",
      "Number of labels: 3\n",
      "Progress: 100.0% words/sec/thread: 2063991 lr:  0.000000 avg.loss:  0.002440 ETA:   0h 0m 0s\n"
     ]
    },
    {
     "name": "stdout",
     "output_type": "stream",
     "text": [
      "6 cases: 4012; precision: 0.653; recall: 0.653; fraction: 0.444\n"
     ]
    },
    {
     "name": "stderr",
     "output_type": "stream",
     "text": [
      "Read 0M words\n",
      "Number of words:  18290\n",
      "Number of labels: 3\n",
      "Progress: 100.0% words/sec/thread: 2060573 lr:  0.000000 avg.loss:  0.002478 ETA:   0h 0m 0s\n"
     ]
    },
    {
     "name": "stdout",
     "output_type": "stream",
     "text": [
      "7 cases: 4585; precision: 0.647; recall: 0.647; fraction: 0.376\n"
     ]
    },
    {
     "name": "stderr",
     "output_type": "stream",
     "text": [
      "Read 0M words\n",
      "Number of words:  18096\n",
      "Number of labels: 3\n",
      "Progress: 100.0% words/sec/thread: 2061920 lr:  0.000000 avg.loss:  0.002491 ETA:   0h 0m 0s 0.003638 avg.loss:  0.002510 ETA:   0h 0m 2s\n"
     ]
    },
    {
     "name": "stdout",
     "output_type": "stream",
     "text": [
      "8 cases: 5158; precision: 0.647; recall: 0.647; fraction: 0.388\n"
     ]
    },
    {
     "name": "stderr",
     "output_type": "stream",
     "text": [
      "Read 0M words\n",
      "Number of words:  17811\n",
      "Number of labels: 3\n",
      "Progress: 100.0% words/sec/thread: 2052718 lr:  0.000000 avg.loss:  0.002540 ETA:   0h 0m 0s\n"
     ]
    },
    {
     "name": "stdout",
     "output_type": "stream",
     "text": [
      "9 cases: 5731; precision: 0.649; recall: 0.649; fraction: 0.852\n"
     ]
    }
   ],
   "source": [
    "run_fasttext = True\n",
    "if run_fasttext:\n",
    "    predictionCountsValidation,predictionLabelsValidation,predictionCountsTest,predictionLabelsTest = \\\n",
    "        runFasttext(fasttextData, dim=BESTDIM, epoch=BESTEPOCH, lr=BESTLR, squealFlag=False)"
   ]
  },
  {
   "cell_type": "code",
   "execution_count": 22,
   "metadata": {},
   "outputs": [],
   "source": [
    "if not run_fasttext:\n",
    "    predictionCountsValidation = pd.read_csv(\"csv/predictionCountsValidation.csv\")\n",
    "    predictionCountsTest = pd.read_csv(\"csv/predictionCountsTest.csv\")\n",
    "    predictionLabelsValidation = pd.read_csv(\"csv/predictionLabelsValidation.csv\")\n",
    "    predictionLabelsTest = pd.read_csv(\"csv/predictionLabelsTest.csv\")"
   ]
  },
  {
   "cell_type": "code",
   "execution_count": 24,
   "metadata": {},
   "outputs": [
    {
     "name": "stdout",
     "output_type": "stream",
     "text": [
      "cases: 5731; precision: 0.653; recall: 0.653; fraction: 0.911\n",
      "cases: 5731; precision: 0.649; recall: 0.649; fraction: 0.846\n"
     ]
    },
    {
     "data": {
      "text/plain": [
       "(0.649, 0.8461392814824769)"
      ]
     },
     "execution_count": 24,
     "metadata": {},
     "output_type": "execute_result"
    }
   ],
   "source": [
    "evaluate(predictionCountsValidation,predictionLabelsValidation,fasttextData)\n",
    "evaluate(predictionCountsTest,predictionLabelsTest,fasttextData)"
   ]
  },
  {
   "cell_type": "code",
   "execution_count": 25,
   "metadata": {},
   "outputs": [],
   "source": [
    "gold = []\n",
    "for text in fasttextData:\n",
    "    gold.append(re.sub(\" .*\", \"\", text))"
   ]
  },
  {
   "cell_type": "code",
   "execution_count": 47,
   "metadata": {},
   "outputs": [],
   "source": [
    "predicted = []\n",
    "for fold in range(0, len(predictionLabelsValidation)):\n",
    "    for label in predictionLabelsValidation[fold][0]:\n",
    "        predicted.append(label[0])"
   ]
  },
  {
   "cell_type": "code",
   "execution_count": 27,
   "metadata": {},
   "outputs": [],
   "source": [
    "#predicted = []\n",
    "#for fold in range(0, len(predictionLabelsTest)):\n",
    "#    for label in predictionLabelsTest[fold-1][0]:\n",
    "#        predicted.append(label[0])"
   ]
  },
  {
   "cell_type": "code",
   "execution_count": 48,
   "metadata": {},
   "outputs": [
    {
     "data": {
      "text/plain": [
       "array([[ 564,  212,  591],\n",
       "       [ 202,  637,  297],\n",
       "       [ 434,  251, 2543]])"
      ]
     },
     "execution_count": 48,
     "metadata": {},
     "output_type": "execute_result"
    }
   ],
   "source": [
    "from sklearn import metrics\n",
    "\n",
    "metrics.confusion_matrix(gold, predicted, labels=['__label__IRRELEVANT', '__label__REJECTS', '__label__SUPPORTS'])"
   ]
  },
  {
   "cell_type": "code",
   "execution_count": 49,
   "metadata": {},
   "outputs": [
    {
     "name": "stdout",
     "output_type": "stream",
     "text": [
      "0.6532891292968068\n"
     ]
    }
   ],
   "source": [
    "print((564+637+2543)/(564+212+591+202+637+297+434+251+2543))"
   ]
  },
  {
   "cell_type": "code",
   "execution_count": 51,
   "metadata": {},
   "outputs": [
    {
     "name": "stdout",
     "output_type": "stream",
     "text": [
      "0.25109056011167336\n"
     ]
    }
   ],
   "source": [
    "print((212+591+202+434)/(564+212+591+202+637+297+434+251+2543))"
   ]
  },
  {
   "cell_type": "code",
   "execution_count": 52,
   "metadata": {},
   "outputs": [
    {
     "name": "stdout",
     "output_type": "stream",
     "text": [
      "0.0956203105915198\n"
     ]
    }
   ],
   "source": [
    "print((297+251)/(564+212+591+202+637+297+434+251+2543))"
   ]
  },
  {
   "cell_type": "code",
   "execution_count": 39,
   "metadata": {},
   "outputs": [
    {
     "name": "stdout",
     "output_type": "stream",
     "text": [
      "0.6487523992322457\n"
     ]
    }
   ],
   "source": [
    "print((568+601+2549)/(568+205+594+219+601+316+455+224+2549))"
   ]
  },
  {
   "cell_type": "code",
   "execution_count": 53,
   "metadata": {},
   "outputs": [
    {
     "name": "stdout",
     "output_type": "stream",
     "text": [
      "0.35192069392812886 0.3206062372486156\n"
     ]
    }
   ],
   "source": [
    "print((202+637+297)/(434+251+2543), (212+637+251)/(591+297+2543))"
   ]
  },
  {
   "cell_type": "code",
   "execution_count": 28,
   "metadata": {},
   "outputs": [],
   "source": [
    "correct = {}\n",
    "wrong = {}\n",
    "missed = {}\n",
    "for i in range(0, len(predicted)):\n",
    "    if predicted[i] == gold[i]:\n",
    "        if gold[i] not in correct:\n",
    "            correct[gold[i]] = 0\n",
    "        correct[gold[i]] += 1\n",
    "    else:\n",
    "        if gold[i] not in missed:\n",
    "            missed[gold[i]] = 0\n",
    "        missed[gold[i]] += 1\n",
    "        if predicted[i] not in wrong:\n",
    "            wrong[predicted[i]] = 0\n",
    "        wrong[predicted[i]] += 1"
   ]
  },
  {
   "cell_type": "code",
   "execution_count": 29,
   "metadata": {},
   "outputs": [
    {
     "name": "stdout",
     "output_type": "stream",
     "text": [
      "Preci Recal Label\n",
      "45.7% 41.6% IRRELEVANT\n",
      "58.3% 52.9% REJECTS\n",
      "73.7% 79.0% SUPPORTS\n"
     ]
    }
   ],
   "source": [
    "print(\"Preci Recal Label\")\n",
    "for label in sorted(set(list(missed.keys()) + list(wrong.keys()) + list(correct.keys()))):\n",
    "    if label not in correct:\n",
    "        correct[label] = 0\n",
    "    if label not in missed:\n",
    "        missed[label] = 0\n",
    "    if label not in wrong:\n",
    "        wrong[label] = 0\n",
    "    print(f\"{100*correct[label]/(correct[label]+wrong[label]):0.1f}% {100*correct[label]/(correct[label]+missed[label]):0.1f}%\", end=\" \")\n",
    "    print(re.sub(\"__label__\", \"\", label))"
   ]
  },
  {
   "cell_type": "markdown",
   "metadata": {},
   "source": [
    "| Precision | Recall | Label | dataset    |\n",
    "| --------- | ------ | ------| ---------- |\n",
    "| 46.6% | 40.8% | IRRELEVANT | validation |\n",
    "| 57.5% | 55.7% | REJECTS    | validation |\n",
    "| 73.9% | 78.7% | SUPPORTS   | validation |\n",
    "| 45.5% | 41.0% | IRRELEVANT | test       |\n",
    "| 58.5% | 52.9% | REJECTS    | test       |\n",
    "| 73.5% | 79.1% | SUPPORTS   | test       |"
   ]
  },
  {
   "cell_type": "code",
   "execution_count": null,
   "metadata": {},
   "outputs": [],
   "source": [
    "predictionCountsValidation,predictionLabelsValidation,predictionCountsTest,predictionLabelsTest = \\\n",
    "    runFasttext(fasttextData, dim=BESTDIM, epoch=BESTEPOCH, lr=BESTLR, squealFlag=False)"
   ]
  },
  {
   "cell_type": "code",
   "execution_count": null,
   "metadata": {},
   "outputs": [],
   "source": [
    "labelCountsGold = {}\n",
    "for i in range(0,len(fasttextData)):\n",
    "    label = fasttextData[i].split()[0]\n",
    "    if label in labelCountsGold: labelCountsGold[label] += 1\n",
    "    else: labelCountsGold[label] = 1\n",
    "labelCountsGold"
   ]
  },
  {
   "cell_type": "code",
   "execution_count": null,
   "metadata": {},
   "outputs": [],
   "source": [
    "print(\"baseline accuracy:\",round(max(labelCountsGold.values())/sum(labelCountsGold.values()),3))"
   ]
  },
  {
   "cell_type": "code",
   "execution_count": null,
   "metadata": {},
   "outputs": [],
   "source": [
    "labelCountsPredicted = {}\n",
    "for i in range(0,len(predictionLabelsTest)):\n",
    "    for label in predictionLabelsTest[i][0]:\n",
    "        if label[0] in labelCountsPredicted: labelCountsPredicted[label[0]] += 1\n",
    "        else: labelCountsPredicted[label[0]] = 1\n",
    "labelCountsPredicted"
   ]
  },
  {
   "cell_type": "code",
   "execution_count": null,
   "metadata": {},
   "outputs": [],
   "source": [
    "print(\"total absolute deviation\",sum([abs(labelCountsPredicted[l]-labelCountsGold[l]) for l in labelCountsGold]))"
   ]
  },
  {
   "cell_type": "code",
   "execution_count": null,
   "metadata": {},
   "outputs": [],
   "source": [
    "print(\"relative deviation per label:\",\\\n",
    "      {l:round(abs(labelCountsPredicted[l]-labelCountsGold[l])/labelCountsGold[l],3) for l in labelCountsGold})"
   ]
  },
  {
   "cell_type": "code",
   "execution_count": null,
   "metadata": {},
   "outputs": [],
   "source": [
    "makeConfusionMatrix(fasttextData,predictionLabelsTest)"
   ]
  },
  {
   "cell_type": "markdown",
   "metadata": {},
   "source": [
    "For the mondkapje data, fasttext predicts 63% of the labels correctly without external dictionary and 66% with a Wikipedia dictionary (baseline: 46%). It overestimates the presence of negative labels and underestimates the level of positive and neutral labels. The amount of irrelevant labels is about right"
   ]
  },
  {
   "cell_type": "code",
   "execution_count": null,
   "metadata": {},
   "outputs": [],
   "source": [
    "multiplicationFactors = {}\n",
    "for label in labelCountsGold:\n",
    "    multiplicationFactors[label] = labelCountsGold[label]/labelCountsPredicted[label]\n",
    "multiplicationFactors"
   ]
  },
  {
   "cell_type": "markdown",
   "metadata": {},
   "source": [
    "For mondkapje tweets, the multiplication factor for the positive label is unrealistically high so we will not use these factors."
   ]
  },
  {
   "cell_type": "code",
   "execution_count": null,
   "metadata": {},
   "outputs": [],
   "source": [
    "predictedNumberOfLabels = 0\n",
    "for label in labelCountsGold:\n",
    "    predictedNumberOfLabels += multiplicationFactors[label]*labelCountsPredicted[label]\n",
    "print(predictedNumberOfLabels,sum(labelCountsGold.values()))"
   ]
  },
  {
   "cell_type": "markdown",
   "metadata": {},
   "source": [
    "## Relation training data size - accuracy (skip)"
   ]
  },
  {
   "cell_type": "code",
   "execution_count": null,
   "metadata": {},
   "outputs": [],
   "source": [
    "N = 5\n",
    "expResultsAll = {}\n",
    "for trainingSize in [100,200,500,1000,2000,5000,10000]:\n",
    "    expResultsTrainingSize = []\n",
    "    for i in range(0,N):\n",
    "        selection = ranSelect(fasttextData,trainingSize)\n",
    "        predictionCountsValidation,predictionLabelsValidation,predictionCountsTest,predictionLabelsTest = \\\n",
    "            runFasttext(fasttextData,dim=BESTDIM,epoch=BESTEPOCH,lr=BESTLR,squealFlag=False,maxTrain=trainingSize)\n",
    "        expResultsTrainingSize.append(evaluate(predictionCountsTest,predictionLabelsTest,fasttextData,printResults=False))\n",
    "    average = (np.average([x[0] for x in expResultsTrainingSize]),np.average([x[1] for x in expResultsTrainingSize]))\n",
    "    expResultsAll[len(selection)] = average\n",
    "    print(\"{0:4} {1:0.3f} {2:0.3f}\".format(len(selection),average[0],average[1]))\n",
    "    if len(selection) >= len(fasttextData): break"
   ]
  },
  {
   "cell_type": "code",
   "execution_count": null,
   "metadata": {},
   "outputs": [],
   "source": [
    "del(expResultsAll[list(expResultsAll.keys())[-1]])"
   ]
  },
  {
   "cell_type": "code",
   "execution_count": null,
   "metadata": {},
   "outputs": [],
   "source": [
    "PLOTFILENAME = \"training-size.png\"\n",
    "\n",
    "plt.figure(figsize=(16,6))\n",
    "\n",
    "ax1 = plt.subplot(121)\n",
    "plt.plot(list(expResultsAll.keys()),[x[0] for x in list(expResultsAll.values())])\n",
    "plt.xscale(\"log\")\n",
    "plt.ylabel(\"accuracy\")\n",
    "plt.xlabel(\"training data size\")\n",
    "plt.title(\"Accuracy related to training size\")\n",
    "\n",
    "ax1 = plt.subplot(122)\n",
    "plt.plot(list(expResultsAll.keys()),[x[1] for x in list(expResultsAll.values())])\n",
    "plt.xscale(\"log\")\n",
    "plt.ylabel(\"fraction\")\n",
    "plt.xlabel(\"training data size\")\n",
    "plt.title(\"Fraction score related to training size\")\n",
    "plt.savefig(PLOTFILENAME)\n",
    "plt.show()"
   ]
  },
  {
   "cell_type": "markdown",
   "metadata": {},
   "source": [
    "## Classifying unlabeled tweets"
   ]
  },
  {
   "cell_type": "code",
   "execution_count": 20,
   "metadata": {},
   "outputs": [],
   "source": [
    "import fasttext\n",
    "import matplotlib\n",
    "import numpy as np\n",
    "import os\n",
    "import pandas as pd\n",
    "import re\n",
    "from nltk.tokenize import TweetTokenizer"
   ]
  },
  {
   "cell_type": "code",
   "execution_count": 21,
   "metadata": {},
   "outputs": [],
   "source": [
    "BESTDIM,BESTEPOCH,BESTLR = setBestParameters()"
   ]
  },
  {
   "cell_type": "code",
   "execution_count": 22,
   "metadata": {},
   "outputs": [],
   "source": [
    "BASEDIR = \"/home/erikt/projects/puregome/data/\"\n",
    "DATADIRECTORY = BASEDIR+\"text/\"\n",
    "DATADIRECTORYREDDIT = BASEDIR+\"reddit/text/\"\n",
    "DATADIRECTORYNUNL = BASEDIR+\"nunl/text/\"\n",
    "TWITTER = \"twitter\"\n",
    "REDDIT = \"reddit\"\n",
    "NUNL = \"nunl\"\n",
    "SOURCES = [TWITTER,REDDIT,NUNL]\n",
    "DATADIRECTORIES = {TWITTER:DATADIRECTORY,REDDIT:DATADIRECTORYREDDIT,NUNL:DATADIRECTORYNUNL}\n",
    "FILEFASTTEXT = \"fasttext-\"+TOPIC+\".csv\"\n",
    "LABELPREFIX = \"__label__\"\n",
    "NEGATIVE = LABELPREFIX+\"NEGATIVE\"\n",
    "POSITIVE = LABELPREFIX+\"POSITIVE\"\n",
    "NEUTRAL = LABELPREFIX+\"NEUTRAL\"\n",
    "IRRELEVANT = LABELPREFIX+\"IRRELEVANT\"\n",
    "SUPPORTS = LABELPREFIX+\"SUPPORTS\"\n",
    "REJECTS = LABELPREFIX+\"REJECTS\"\n",
    "TEXT = \"text\"\n",
    "USER = \"user\"\n",
    "TOTAL = \"total\"\n",
    "DIM = BESTDIM\n",
    "EPOCH = BESTEPOCH\n",
    "LR = BESTLR"
   ]
  },
  {
   "cell_type": "code",
   "execution_count": 23,
   "metadata": {},
   "outputs": [],
   "source": [
    "def cleanup(text):\n",
    "    text = re.sub(r\"\\\\n\",\" \",text)\n",
    "    text = re.sub(r\"https://\\S+\",\"\",text)\n",
    "    text = re.sub(r\"\\s+\",\" \",text)\n",
    "    text = text.strip()\n",
    "    return(text)\n",
    "\n",
    "def tokenize(text):\n",
    "    return(\" \".join(TweetTokenizer().tokenize(text)))\n",
    "\n",
    "def preprocess(text):\n",
    "    return(tokenize(cleanup(text)).lower())"
   ]
  },
  {
   "cell_type": "code",
   "execution_count": 24,
   "metadata": {},
   "outputs": [],
   "source": [
    "SCREENNAME = \"screenname\"\n",
    "\n",
    "def makeGrepCommandFromQuery(query):\n",
    "    grepCommand = \"grep\"\n",
    "    for orPart in query.split(\"|\"):\n",
    "        grepCommand += ' -e \"'+orPart+'\"'\n",
    "    return(grepCommand)\n",
    "\n",
    "def readData(datePattern,query,dataDirectory=DATADIRECTORY):\n",
    "    fileList = sorted(os.listdir(dataDirectory))\n",
    "    testData = []\n",
    "    for inFileName in fileList:\n",
    "        if re.search(datePattern,inFileName) and os.path.exists(dataDirectory+inFileName):\n",
    "            try:\n",
    "                fileData = pd.read_csv(dataDirectory+inFileName).drop_duplicates()\n",
    "                matchedText = fileData[fileData[TEXT].str.contains(query,case=False)]\n",
    "                matchedTextPreprocessed = matchedText[TEXT].apply(lambda x:preprocess(x))\n",
    "                testData.extend(list(matchedTextPreprocessed))\n",
    "            except:\n",
    "                pass\n",
    "    return(testData)\n",
    "\n",
    "def readDataGeo(datePattern,query,dataDirectory=DATADIRECTORY):\n",
    "    fileList = sorted(os.listdir(dataDirectory))\n",
    "    testData = []\n",
    "    locations = []\n",
    "    for inFileName in fileList:\n",
    "        if re.search(datePattern,inFileName) and os.path.exists(dataDirectory+inFileName):\n",
    "            try:\n",
    "                fileData = pd.read_csv(dataDirectory+inFileName).drop_duplicates()\n",
    "                matchedText = fileData[fileData[TEXT].str.contains(query,case=False)]\n",
    "                matchedTextPreprocessed = matchedText[TEXT].apply(lambda x:preprocess(x))\n",
    "                testData.extend(matchedTextPreprocessed)\n",
    "            except:\n",
    "                pass\n",
    "    return(testData)\n",
    "\n",
    "def classify(datePattern,query,model,dataDirectory=DATADIRECTORY):\n",
    "    testData = readData(datePattern,query,dataDirectory)\n",
    "    predictedLabels = model.predict(testData)\n",
    "    predictedGroups = pd.DataFrame(predictedLabels[0]).groupby(0).groups\n",
    "    labelCountsPredicted = {label:len(predictedGroups[label]) for label in predictedGroups}\n",
    "    nbrOfLabels = sum([labelCountsPredicted[label] for label in labelCountsPredicted if label != IRRELEVANT])\n",
    "    labelPercentages = { label:round(100*labelCountsPredicted[label]/nbrOfLabels,1) for label in labelCountsPredicted}\n",
    "    labelPercentages[TOTAL] = nbrOfLabels\n",
    "    return(labelPercentages)"
   ]
  },
  {
   "cell_type": "code",
   "execution_count": 4,
   "metadata": {},
   "outputs": [],
   "source": [
    "import ast\n",
    "\n",
    "\n",
    "RESULTSFILE = \"results-\"+TOPIC+\".csv\"\n",
    "\n",
    "\n",
    "def storeResults(results, results_file=RESULTSFILE):\n",
    "     pd.DataFrame(results).T.to_csv(results_file, index_label=SOURCE)\n",
    "\n",
    "        \n",
    "def readResults(results_file=RESULTSFILE):\n",
    "    try:\n",
    "        df = pd.read_csv(results_file, index_col=SOURCE)\n",
    "        for source in df.index:\n",
    "            for date in df.loc[source].index:\n",
    "                try:\n",
    "                    df.loc[source][date] = ast.literal_eval(df.loc[source][date])\n",
    "                except: pass\n",
    "        return(removeNan(df.T.to_dict()))\n",
    "    except:\n",
    "        return({})\n",
    "\n",
    "\n",
    "def combineResults(results_target, results_source):\n",
    "    for source in results_source:\n",
    "        if not source in results_target:\n",
    "            results_target[source] = {}\n",
    "        for date in results_source[source]:\n",
    "            if date in results_target[source]:\n",
    "                print(f\"duplicate date: {date}!\")\n",
    "            else:\n",
    "                results_target[source][date] = results_source[source][date]\n",
    "\n",
    "            \n",
    "def getTotals(results):\n",
    "    totals = {}\n",
    "    for source in results:\n",
    "        for date in results[source]:\n",
    "            try:\n",
    "                if not source in totals: totals[source] = 0\n",
    "                totals[source] += results[source][date][TOTAL]\n",
    "            except: pass\n",
    "    return(totals)\n",
    "\n",
    "\n",
    "def removeNan(results):\n",
    "    for source in results:\n",
    "        toBeDeleted = []\n",
    "        for date in results[source]:\n",
    "            if results[source][date] != results[source][date]:\n",
    "                toBeDeleted.append(date)\n",
    "        for date in toBeDeleted: del(results[source][date])\n",
    "    return(results)"
   ]
  },
  {
   "cell_type": "code",
   "execution_count": 26,
   "metadata": {},
   "outputs": [],
   "source": [
    "#results2021 = readResults()\n",
    "#results2020 = readResults(results_file=RESULTSFILE + \".20201231\")\n",
    "#results = {}\n",
    "#combineResults(results, results2020)\n",
    "#combineResults(results, results2021)\n",
    "#totals =  getTotals(results)"
   ]
  },
  {
   "cell_type": "code",
   "execution_count": 27,
   "metadata": {},
   "outputs": [
    {
     "name": "stderr",
     "output_type": "stream",
     "text": [
      "Read 0M words\n",
      "Number of words:  6489\n",
      "Number of labels: 3\n",
      "Progress: 100.0% words/sec/thread: 2274079 lr:  0.000000 avg.loss:  0.941615 ETA:   0h 0m 0s\n"
     ]
    }
   ],
   "source": [
    "MAXDAYSPERMONTH = 31\n",
    "MODELFILE = f\"model-{TOPIC}-{BESTDIM}-{BESTEPOCH}-{BESTLR}.bin\"\n",
    "\n",
    "if TOPIC == DISTANCE:\n",
    "    QUERY = \"1[.,]5[ -]*m|afstand.*hou|hou.*afstand|anderhalve[ -]*meter\"\n",
    "elif TOPIC == FACEMASK:\n",
    "    QUERY = TOPIC\n",
    "else:\n",
    "    print(\"unknown topic!\",file=sys.stderr)\n",
    "    sys.exit(1)\n",
    "MAXDAYSPERMONTH = 31\n",
    "\n",
    "model = fasttext.train_supervised(FILEFASTTEXT, dim=BESTDIM, epoch=BESTEPOCH, lr=BESTLR) #, pretrainedVectors=\"twiqs-model-2020.vec\")\n",
    "model.save_model(MODELFILE)"
   ]
  },
  {
   "cell_type": "code",
   "execution_count": 28,
   "metadata": {},
   "outputs": [
    {
     "name": "stderr",
     "output_type": "stream",
     "text": [
      "Warning : `load_model` does not return WordVectorModel or SupervisedModel any more, but a `FastText` object which is very similar.\n"
     ]
    }
   ],
   "source": [
    "model = fasttext.load_model(MODELFILE)"
   ]
  },
  {
   "cell_type": "markdown",
   "metadata": {},
   "source": [
    "### Recompute results per data source (run once per month)"
   ]
  },
  {
   "cell_type": "code",
   "execution_count": 29,
   "metadata": {},
   "outputs": [
    {
     "name": "stdout",
     "output_type": "stream",
     "text": [
      "twitter 20210401 82.3 17.7 134.4 1004\n",
      "twitter 20210402 77.9 22.1 99.6 970\n",
      "twitter 20210403 78.6 21.4 127.7 939\n",
      "twitter 20210404 68.8 31.2 188.7 679\n",
      "twitter 20210405 89.0 11.0 244.4 656\n",
      "twitter 20210406 89.0 11.0 142.8 919\n",
      "twitter 20210407 92.2 7.8 118.3 1135\n",
      "twitter 20210408 94.4 5.6 149.6 1400\n",
      "twitter 20210409 87.2 12.8 185.6 876\n",
      "twitter 20210410 87.0 13.0 156.4 801\n",
      "twitter 20210411 85.0 15.0 190.0 880\n",
      "twitter 20210412 85.6 14.4 185.3 1044\n",
      "twitter 20210413 91.0 9.0 160.8 955\n",
      "twitter 20210414 94.5 5.5 252.3 577\n",
      "twitter 20210415 91.5 8.5 216.2 493\n",
      "twitter 20210416 91.8 8.2 132.7 971\n",
      "twitter 20210417 80.4 19.6 189.8 738\n",
      "twitter 20210418 93.1 6.9 161.7 866\n",
      "twitter 20210419 92.5 7.5 184.9 967\n",
      "twitter 20210420 84.9 15.1 212.9 852\n",
      "twitter 20210421 90.1 9.9 108.4 1397\n",
      "twitter 20210422 95.7 4.3 101.1 1839\n",
      "twitter 20210423 81.9 18.1 191.3 1018\n",
      "twitter 20210424 89.2 10.8 161.6 1025\n",
      "twitter 20210425 93.8 6.2 113.6 1072\n",
      "twitter 20210426 93.1 6.9 93.3 821\n",
      "twitter 20210427 93.0 7.0 115.8 919\n",
      "twitter 20210428 91.8 8.2 120.2 1175\n",
      "twitter 20210429 93.6 6.4 161.9 1773\n",
      "twitter 20210430 89.4 10.6 164.8 928\n",
      "twitter 20210431 error\n",
      "twitter 20210501 90.5 9.5 91.3 1576\n",
      "twitter 20210502 92.6 7.4 89.9 1207\n",
      "twitter 20210503 88.6 11.4 94.9 1226\n",
      "twitter 20210504 92.9 7.1 125.3 1432\n",
      "twitter 20210505 92.2 7.8 145.1 752\n",
      "twitter 20210506 88.4 11.6 315.5 672\n",
      "twitter 20210507 87.8 12.2 233.4 649\n",
      "twitter 20210508 88.0 12.0 138.2 1073\n",
      "twitter 20210509 86.3 13.7 211.8 883\n",
      "twitter 20210510 90.7 9.3 185.5 868\n",
      "twitter 20210511 88.5 11.5 221.6 737\n",
      "twitter 20210512 84.6 15.4 193.2 858\n",
      "twitter 20210513 83.9 16.1 149.3 836\n",
      "twitter 20210514 88.5 11.5 151.9 736\n",
      "twitter 20210515 96.3 3.7 130.3 3654\n",
      "twitter 20210516 93.1 6.9 133.2 1537\n",
      "twitter 20210517 94.5 5.5 120.5 1757\n",
      "twitter 20210518 91.9 8.1 154.1 1158\n",
      "twitter 20210519 95.4 4.6 189.1 1796\n",
      "twitter 20210520 93.3 6.7 129.5 811\n",
      "twitter 20210521 94.6 5.4 92.0 1175\n",
      "twitter 20210522 88.1 11.9 172.9 1985\n",
      "twitter 20210523 91.8 8.2 165.4 976\n",
      "twitter 20210524 96.3 3.7 113.9 1422\n",
      "twitter 20210525 95.0 5.0 151.7 992\n",
      "twitter 20210526 87.0 13.0 144.1 848\n",
      "twitter 20210527 93.6 6.4 99.6 954\n",
      "twitter 20210528 93.8 6.2 170.0 867\n",
      "twitter 20210529 92.9 7.1 175.5 1559\n",
      "twitter 20210530 92.4 7.6 173.0 1072\n",
      "twitter 20210531 96.6 3.4 180.0 2670\n",
      "twitter 20210601 97.2 2.8 144.5 2863\n",
      "twitter 20210602 94.3 5.7 218.5 1128\n",
      "twitter 20210603 94.7 5.3 289.3 1258\n",
      "twitter 20210604 94.0 6.0 254.8 1282\n",
      "twitter 20210605 95.9 4.1 205.8 1546\n",
      "twitter 20210606 96.1 3.9 119.7 1836\n",
      "twitter 20210607 93.0 7.0 312.8 1031\n",
      "twitter 20210608 91.4 8.6 215.0 1363\n",
      "twitter 20210609 90.1 9.9 184.3 949\n",
      "twitter 20210610 94.5 5.5 197.9 1356\n",
      "twitter 20210611 92.4 7.6 140.1 994\n",
      "twitter 20210612 95.2 4.8 113.6 1424\n",
      "twitter 20210613 94.2 5.8 124.7 912\n",
      "twitter 20210614 88.5 11.5 161.5 3407\n",
      "twitter 20210615 91.1 8.9 172.6 1979\n",
      "twitter 20210616 90.9 9.1 158.2 4578\n",
      "twitter 20210617 91.7 8.3 153.1 2626\n",
      "twitter 20210618 90.7 9.3 180.8 2662\n",
      "twitter 20210619 88.6 11.4 152.3 1674\n",
      "twitter 20210620 92.5 7.5 154.6 942\n",
      "twitter 20210621 86.6 13.4 129.7 963\n",
      "twitter 20210622 92.5 7.5 110.9 1171\n",
      "twitter 20210623 90.0 10.0 150.8 884\n",
      "twitter 20210624 92.6 7.4 189.3 775\n",
      "twitter 20210625 88.9 11.1 208.4 1356\n",
      "twitter 20210626 86.8 13.2 167.3 4302\n",
      "twitter 20210627 86.3 13.7 149.8 1668\n",
      "twitter 20210628 77.1 22.9 215.1 1021\n",
      "twitter 20210629 77.7 22.3 119.1 1076\n",
      "twitter 20210630 90.4 9.6 130.4 596\n",
      "twitter 20210631 error\n",
      "twitter 20210701 82.8 17.2 158.7 458\n",
      "twitter 20210702 94.0 6.0 122.0 957\n",
      "twitter 20210703 93.3 6.7 141.8 593\n",
      "twitter 20210704 83.2 16.8 130.4 631\n",
      "twitter 20210705 88.5 11.5 128.7 610\n",
      "twitter 20210706 92.3 7.7 123.9 770\n",
      "twitter 20210707 90.7 9.3 155.3 514\n",
      "twitter 20210708 89.9 10.1 137.1 1177\n",
      "twitter 20210709 91.2 8.8 141.7 1102\n",
      "twitter 20210710 91.8 8.2 163.7 944\n",
      "twitter 20210711 93.2 6.8 95.1 1198\n",
      "twitter 20210712 92.8 7.2 111.9 917\n",
      "twitter 20210713 89.3 10.7 145.2 1994\n",
      "twitter 20210714 90.8 9.2 118.9 1277\n",
      "twitter 20210715 90.5 9.5 120.4 1142\n",
      "twitter 20210716 90.1 9.9 177.0 1002\n",
      "twitter 20210717 90.1 9.9 158.5 708\n",
      "twitter 20210718 92.6 7.4 128.4 651\n",
      "twitter 20210719 94.1 5.9 74.2 1153\n",
      "twitter 20210720 86.9 13.1 102.4 1007\n",
      "twitter 20210721 93.7 6.3 88.6 1560\n",
      "twitter 20210722 93.6 6.4 85.7 1359\n",
      "twitter 20210723 90.4 9.6 150.5 701\n",
      "twitter 20210724 82.4 17.6 182.8 459\n",
      "twitter 20210725 84.8 15.2 123.4 561\n",
      "twitter 20210726 93.3 6.7 103.8 906\n",
      "twitter 20210727 88.0 12.0 131.6 576\n",
      "twitter 20210728 85.3 14.7 142.8 633\n",
      "twitter 20210729 93.6 6.4 69.4 840\n",
      "twitter 20210730 87.4 12.6 70.4 1181\n",
      "twitter 20210731 88.2 11.8 134.4 950\n",
      "twitter 20210801 91.0 9.0 146.5 458\n",
      "twitter 20210802 85.7 14.3 183.1 350\n",
      "twitter 20210803 89.8 10.2 114.7 518\n",
      "twitter 20210804 86.8 13.2 164.7 334\n",
      "twitter 20210805 78.4 21.6 313.3 407\n",
      "twitter 20210806 81.0 19.0 204.1 531\n",
      "twitter 20210807 71.2 28.8 192.7 507\n",
      "twitter 20210808 84.5 15.5 207.2 374\n",
      "twitter 20210809 83.6 16.4 164.9 299\n",
      "twitter 20210810 91.7 8.3 241.1 399\n",
      "twitter 20210811 93.3 6.7 174.2 508\n",
      "twitter 20210812 90.4 9.6 182.3 509\n",
      "twitter 20210813 87.8 12.2 181.1 845\n",
      "twitter 20210814 93.4 6.6 156.4 649\n",
      "twitter 20210815 93.5 6.5 128.4 461\n",
      "twitter 20210816 91.5 8.5 123.5 469\n",
      "twitter 20210817 94.5 5.5 130.8 490\n",
      "twitter 20210818 92.5 7.5 165.6 451\n",
      "twitter 20210819 90.7 9.3 159.8 408\n",
      "twitter 20210820 90.6 9.4 148.4 477\n",
      "twitter 20210821 93.8 6.2 122.8 504\n",
      "twitter 20210822 92.6 7.4 92.0 961\n",
      "twitter 20210823 91.2 8.8 149.0 510\n",
      "twitter 20210824 93.1 6.9 70.6 838\n",
      "twitter 20210825 93.5 6.5 89.8 728\n",
      "twitter 20210826 89.7 10.3 62.6 939\n",
      "twitter 20210827 91.9 8.1 102.4 627\n",
      "twitter 20210828 88.2 11.8 114.8 508\n",
      "twitter 20210829 90.9 9.1 168.0 375\n",
      "twitter 20210830 94.4 5.6 90.3 732\n",
      "twitter 20210831 94.3 5.7 114.4 563\n",
      "twitter 20210901 91.1 8.9 132.1 526\n",
      "twitter 20210902 90.5 9.5 104.4 411\n",
      "twitter 20210903 88.4 11.6 139.9 747\n",
      "twitter 20210904 82.0 18.0 127.6 649\n",
      "twitter 20210905 85.2 14.8 157.4 1063\n",
      "twitter 20210906 89.5 10.5 146.7 600\n",
      "twitter 20210907 86.9 13.1 174.2 458\n",
      "twitter 20210908 91.2 8.8 221.6 569\n",
      "twitter 20210909 88.6 11.4 137.3 429\n",
      "twitter 20210910 88.6 11.4 160.0 888\n",
      "twitter 20210911 93.4 6.6 130.3 891\n",
      "twitter 20210912 93.2 6.8 105.4 1300\n",
      "twitter 20210913 91.4 8.6 153.5 708\n",
      "twitter 20210914 60.3 39.7 71.0 1868\n",
      "twitter 20210915 77.1 22.9 93.8 923\n",
      "twitter 20210916 88.1 11.9 226.3 570\n",
      "twitter 20210917 84.4 15.6 192.8 334\n",
      "twitter 20210918 89.4 10.6 199.8 453\n",
      "twitter 20210919 95.5 4.5 172.8 683\n",
      "twitter 20210920 94.0 6.0 203.6 448\n",
      "twitter 20210921 86.0 14.0 317.6 307\n",
      "twitter 20210922 89.2 10.8 220.6 296\n",
      "twitter 20210923 97.1 2.9 61.2 849\n",
      "twitter 20210924 91.3 8.7 118.3 608\n",
      "twitter 20210925 94.0 6.0 105.5 678\n",
      "twitter 20210926 94.9 5.1 128.7 700\n",
      "twitter 20210927 93.2 6.8 109.0 576\n",
      "twitter 20210928 91.6 8.4 115.1 405\n",
      "twitter 20210929 79.2 20.8 174.9 419\n",
      "twitter 20210930 91.1 8.9 149.6 836\n",
      "twitter 20210931 error\n",
      "twitter 20211001 91.8 8.2 219.4 413\n",
      "twitter 20211002 87.7 12.3 190.2 244\n",
      "twitter 20211003 93.6 6.4 96.8 469\n",
      "twitter 20211004 96.7 3.3 133.6 819\n",
      "twitter 20211005 90.9 9.1 216.8 475\n",
      "twitter 20211006 68.5 31.5 237.4 749\n",
      "twitter 20211007 86.8 13.2 247.1 257\n",
      "twitter 20211008 93.2 6.8 169.5 308\n",
      "twitter 20211009 92.7 7.3 354.2 260\n",
      "twitter 20211010 96.6 3.4 88.4 639\n",
      "twitter 20211011 91.9 8.1 131.4 347\n",
      "twitter 20211012 94.8 5.2 279.0 347\n",
      "twitter 20211013 91.3 8.7 200.5 391\n",
      "twitter 20211014 95.2 4.8 93.5 712\n",
      "twitter 20211015 90.2 9.8 300.0 388\n",
      "twitter 20211016 93.6 6.4 413.7 388\n",
      "twitter 20211017 86.9 13.1 419.9 282\n",
      "twitter 20211018 79.0 21.0 203.7 381\n",
      "twitter 20211019 89.6 10.4 137.2 376\n",
      "twitter 20211020 93.3 6.7 199.5 1283\n",
      "twitter 20211021 92.8 7.2 245.6 1262\n",
      "twitter 20211022 95.7 4.3 160.5 1132\n",
      "twitter 20211023 92.2 7.8 217.6 796\n",
      "twitter 20211024 93.4 6.6 125.6 899\n",
      "twitter 20211025 91.8 8.2 133.0 1362\n",
      "twitter 20211026 91.9 8.1 113.7 1247\n",
      "twitter 20211027 91.8 8.2 143.6 832\n",
      "twitter 20211028 95.8 4.2 94.6 1495\n",
      "twitter 20211029 89.9 10.1 85.9 1670\n",
      "twitter 20211030 84.4 15.6 79.9 4428\n",
      "twitter 20211031 72.6 27.4 77.2 2324\n",
      "twitter 20211101 83.8 16.2 148.3 4914\n",
      "twitter 20211102 79.1 20.9 158.4 6834\n",
      "twitter 20211103 82.7 17.3 110.0 4899\n",
      "twitter 20211104 91.5 8.5 130.9 2038\n",
      "twitter 20211105 88.6 11.4 103.2 3324\n",
      "twitter 20211106 88.6 11.4 171.8 5489\n",
      "twitter 20211107 89.6 10.4 192.8 2646\n",
      "twitter 20211108 87.8 12.2 178.9 2309\n",
      "twitter 20211109 89.7 10.3 137.8 2632\n",
      "twitter 20211110 89.3 10.7 178.4 1543\n",
      "twitter 20211111 84.9 15.1 263.1 1573\n",
      "twitter 20211112 79.1 20.9 172.9 1583\n",
      "twitter 20211113 73.5 26.5 91.6 1851\n",
      "twitter 20211114 67.5 32.5 119.0 1622\n",
      "twitter 20211115 80.0 20.0 163.4 965\n",
      "twitter 20211116 78.4 21.6 252.8 961\n",
      "twitter 20211117 90.2 9.8 134.3 902\n",
      "twitter 20211118 92.1 7.9 158.7 2114\n",
      "twitter 20211119 92.0 8.0 89.8 1835\n",
      "twitter 20211120 91.7 8.3 168.9 990\n",
      "twitter 20211121 88.7 11.3 143.5 1580\n",
      "twitter 20211122 89.4 10.6 150.4 1596\n",
      "twitter 20211123 91.3 8.7 164.0 1390\n",
      "twitter 20211124 90.9 9.1 195.1 1539\n",
      "twitter 20211125 90.2 9.8 207.1 1357\n",
      "twitter 20211126 90.2 9.8 230.7 2768\n",
      "twitter 20211127 84.6 15.4 201.6 2658\n",
      "twitter 20211128 77.5 22.5 105.6 2572\n",
      "twitter 20211129 85.0 15.0 114.4 3758\n",
      "twitter 20211130 85.3 14.7 147.5 3344\n",
      "twitter 20211131 error\n",
      "twitter 20211201 88.8 11.2 116.9 2483\n",
      "twitter 20211202 89.5 10.5 141.5 1486\n",
      "twitter 20211203 90.2 9.8 139.7 1356\n",
      "twitter 20211204 86.0 14.0 180.5 899\n",
      "twitter 20211205 57.9 42.1 94.7 1029\n",
      "twitter 20211206 82.8 17.2 213.5 914\n",
      "twitter 20211207 92.9 7.1 161.4 1152\n",
      "twitter 20211208 94.4 5.6 81.1 1427\n",
      "twitter 20211209 94.3 5.7 72.5 1534\n",
      "twitter 20211210 89.5 10.5 172.8 1009\n",
      "twitter 20211211 91.1 8.9 190.1 1247\n",
      "twitter 20211212 91.5 8.5 120.0 1417\n",
      "twitter 20211213 88.3 11.7 185.1 806\n",
      "twitter 20211214 92.1 7.9 142.4 1462\n",
      "twitter 20211215 45.4 54.6 111.9 1585\n",
      "twitter 20211216 75.9 24.1 203.6 673\n",
      "twitter 20211217 85.5 14.5 172.7 607\n",
      "twitter 20211218 92.6 7.4 196.3 1495\n",
      "twitter 20211219 93.3 6.7 165.3 1306\n",
      "twitter 20211220 93.8 6.2 144.4 994\n",
      "twitter 20211221 88.9 11.1 169.2 597\n",
      "twitter 20211222 90.5 9.5 197.3 693\n",
      "twitter 20211223 93.4 6.6 120.5 1178\n",
      "twitter 20211224 89.3 10.7 174.5 652\n",
      "twitter 20211225 85.9 14.1 231.4 290\n",
      "twitter 20211226 86.5 13.5 174.2 318\n",
      "twitter 20211227 96.1 3.9 67.1 1193\n",
      "twitter 20211228 89.7 10.3 188.6 795\n",
      "twitter 20211229 87.4 12.6 204.9 741\n",
      "twitter 20211230 92.1 7.9 81.7 1389\n",
      "twitter 20211231 92.3 7.7 158.9 842\n",
      "twitter 20220101 96.1 3.9 86.4 1581\n",
      "twitter 20220102 92.9 7.1 115.1 1308\n",
      "twitter 20220103 94.5 5.5 117.1 1244\n",
      "twitter 20220104 88.9 11.1 113.0 989\n",
      "twitter 20220105 94.8 5.2 100.7 1121\n",
      "twitter 20220106 90.8 9.2 170.3 824\n",
      "twitter 20220107 80.6 19.4 134.5 962\n",
      "twitter 20220108 86.1 13.9 170.4 832\n",
      "twitter 20220109 91.9 8.1 98.4 1219\n",
      "twitter 20220110 88.6 11.4 91.7 13485\n",
      "twitter 20220111 89.4 10.6 182.8 6737\n",
      "twitter 20220112 86.8 13.2 103.4 4812\n",
      "twitter 20220113 92.7 7.3 131.9 3273\n",
      "twitter 20220114 92.1 7.9 125.7 4575\n",
      "twitter 20220115 92.7 7.3 108.5 3985\n",
      "twitter 20220116 89.5 10.5 136.8 2668\n",
      "twitter 20220117 93.1 6.9 97.1 2329\n",
      "twitter 20220118 91.7 8.3 113.3 2188\n",
      "twitter 20220119 94.7 5.3 128.8 2351\n",
      "twitter 20220120 95.0 5.0 153.9 1637\n",
      "twitter 20220121 92.9 7.1 114.7 1567\n",
      "twitter 20220122 92.7 7.3 233.0 878\n",
      "twitter 20220123 89.1 10.9 189.7 912\n",
      "twitter 20220124 89.3 10.7 125.8 1255\n",
      "twitter 20220125 73.9 26.1 121.9 2816\n",
      "twitter 20220126 94.0 6.0 93.8 2499\n",
      "twitter 20220127 96.3 3.7 61.5 2077\n",
      "twitter 20220128 96.4 3.6 124.5 1594\n",
      "twitter 20220129 88.1 11.9 178.2 1131\n",
      "twitter 20220130 94.2 5.8 123.0 1728\n",
      "twitter 20220131 86.0 14.0 213.6 860\n",
      "twitter 20220201 94.6 5.4 146.8 1236\n",
      "twitter 20220202 92.7 7.3 188.4 1091\n",
      "twitter 20220203 91.4 8.6 233.4 613\n",
      "twitter 20220204 95.7 4.3 102.9 1222\n",
      "twitter 20220205 94.1 5.9 133.2 888\n",
      "twitter 20220206 94.7 5.3 94.7 1963\n",
      "twitter 20220207 95.2 4.8 81.9 1470\n",
      "twitter 20220208 96.3 3.7 78.0 1930\n",
      "twitter 20220209 82.6 17.4 153.0 2092\n",
      "twitter 20220210 94.9 5.1 215.9 1769\n",
      "twitter 20220211 97.3 2.7 122.9 2721\n",
      "twitter 20220212 97.3 2.7 99.6 1893\n",
      "twitter 20220213 93.7 6.3 126.1 1023\n",
      "twitter 20220214 95.4 4.6 71.1 2333\n",
      "twitter 20220215 88.6 11.4 133.3 2672\n",
      "twitter 20220216 92.3 7.7 118.1 4048\n",
      "twitter 20220217 85.7 14.3 149.6 2012\n",
      "twitter 20220218 90.3 9.7 110.5 1397\n",
      "twitter 20220219 93.8 6.2 100.8 955\n",
      "twitter 20220220 91.9 8.1 106.8 1027\n",
      "twitter 20220221 85.1 14.9 250.5 444\n",
      "twitter 20220222 91.6 8.4 169.5 370\n",
      "twitter 20220223 93.0 7.0 120.5 667\n",
      "twitter 20220224 92.2 7.8 246.5 516\n",
      "twitter 20220225 91.0 9.0 274.2 1379\n",
      "twitter 20220226 91.1 8.9 217.5 996\n",
      "twitter 20220227 92.0 8.0 129.2 576\n",
      "twitter 20220228 91.6 8.4 475.3 838\n",
      "twitter 20220229 error\n",
      "twitter 20220230 error\n",
      "twitter 20220231 error\n",
      "twitter 20220301 95.6 4.4 244.8 388\n",
      "twitter 20220302 87.8 12.2 131.1 639\n",
      "twitter 20220303 61.4 38.6 142.6 570\n",
      "twitter 20220304 91.8 8.2 87.4 613\n",
      "twitter 20220305 95.0 5.0 66.7 522\n",
      "twitter 20220306 94.0 6.0 103.3 419\n",
      "twitter 20220307 90.0 10.0 178.8 340\n",
      "twitter 20220308 89.1 10.9 194.5 220\n",
      "twitter 20220309 83.9 16.1 284.3 249\n",
      "twitter 20220310 89.9 10.1 137.1 563\n",
      "twitter 20220311 84.2 15.8 147.6 550\n",
      "twitter 20220312 86.2 13.8 99.6 544\n",
      "twitter 20220313 94.4 5.6 63.2 568\n",
      "twitter 20220314 92.2 7.8 110.8 592\n",
      "twitter 20220315 94.0 6.0 110.9 1701\n",
      "twitter 20220316 90.8 9.2 136.9 747\n",
      "twitter 20220317 81.3 18.7 178.7 555\n",
      "twitter 20220318 83.7 16.3 150.3 362\n",
      "twitter 20220319 95.5 4.5 269.3 651\n",
      "twitter 20220320 91.5 8.5 206.7 270\n",
      "twitter 20220321 91.0 9.0 272.6 223\n",
      "twitter 20220322 87.7 12.3 191.1 593\n",
      "twitter 20220323 95.4 4.6 196.6 4681\n",
      "twitter 20220324 94.4 5.6 156.2 2093\n",
      "twitter 20220325 92.4 7.6 204.4 748\n",
      "twitter 20220326 89.0 11.0 353.2 483\n",
      "twitter 20220327 89.1 10.9 261.6 302\n",
      "twitter 20220328 93.8 6.2 700.6 624\n",
      "twitter 20220329 96.5 3.5 533.0 1159\n",
      "twitter 20220330 94.6 5.4 358.8 894\n",
      "twitter 20220331 90.0 10.0 195.9 460\n",
      "twitter 20220401 95.7 4.3 127.9 556\n",
      "twitter 20220402 93.1 6.9 177.9 231\n",
      "twitter 20220403 91.5 8.5 244.8 317\n",
      "twitter 20220404 92.4 7.6 568.0 197\n",
      "twitter 20220405 87.0 13.0 555.0 638\n",
      "twitter 20220406 93.1 6.9 360.5 1766\n",
      "twitter 20220407 93.6 6.4 718.5 4913\n",
      "twitter 20220408 91.7 8.3 711.9 1655\n",
      "twitter 20220409 95.4 4.6 496.2 825\n",
      "twitter 20220410 94.0 6.0 615.0 433\n",
      "twitter 20220411 97.5 2.5 285.1 651\n",
      "twitter 20220412 97.3 2.7 306.3 819\n",
      "twitter 20220413 93.7 6.3 199.3 537\n",
      "twitter 20220414 88.1 11.9 179.9 478\n",
      "twitter 20220415 94.5 5.5 194.9 642\n",
      "twitter 20220416 95.3 4.7 254.1 255\n",
      "twitter 20220417 97.6 2.4 75.3 3113\n",
      "twitter 20220418 97.9 2.1 94.9 2310\n",
      "twitter 20220419 95.6 4.4 151.4 1003\n",
      "twitter 20220420 91.6 8.4 175.0 308\n",
      "twitter 20220421 94.0 6.0 314.7 448\n",
      "twitter 20220422 93.8 6.2 514.9 288\n",
      "twitter 20220423 91.8 8.2 299.0 195\n",
      "twitter 20220424 97.0 3.0 98.5 328\n",
      "twitter 20220425 98.0 2.0 60.5 446\n",
      "twitter 20220426 96.9 3.1 275.6 447\n",
      "twitter 20220427 96.4 3.6 319.6 250\n",
      "twitter 20220428 92.8 7.2 455.8 138\n",
      "twitter 20220429 90.7 9.3 364.9 151\n",
      "twitter 20220430 91.7 8.3 286.4 132\n",
      "twitter 20220431 error\n",
      "total relevant found: 481002\n",
      "reddit 20210401 error\n",
      "reddit 20210402 80.0 20.0 80.0 5\n",
      "reddit 20210403 error\n",
      "reddit 20210404 error\n",
      "reddit 20210405 100.0 0 0 2\n",
      "reddit 20210406 100.0 0 100.0 1\n",
      "reddit 20210407 100.0 0 0 1\n",
      "reddit 20210408 100.0 0 200.0 1\n",
      "reddit 20210409 100.0 0 33.3 3\n",
      "reddit 20210410 error\n",
      "reddit 20210411 100.0 0 200.0 1\n",
      "reddit 20210412 100.0 0 100.0 1\n",
      "reddit 20210413 100.0 0 133.3 3\n",
      "reddit 20210414 0 100.0 300.0 1\n",
      "reddit 20210415 100.0 0 66.7 3\n",
      "reddit 20210416 50.0 50.0 50.0 4\n",
      "reddit 20210417 100.0 0 16.7 6\n",
      "reddit 20210418 0 100.0 200.0 1\n",
      "reddit 20210419 100.0 0 100.0 1\n",
      "reddit 20210420 100.0 0 100.0 2\n",
      "reddit 20210421 100.0 0 50.0 4\n",
      "reddit 20210422 100.0 0 100.0 2\n",
      "reddit 20210423 87.5 12.5 62.5 8\n",
      "reddit 20210424 error\n",
      "reddit 20210425 100.0 0 0 1\n",
      "reddit 20210426 error\n",
      "reddit 20210427 100.0 0 0 1\n",
      "reddit 20210428 50.0 50.0 300.0 2\n",
      "reddit 20210429 error\n",
      "reddit 20210430 83.3 16.7 116.7 6\n",
      "reddit 20210431 error\n",
      "reddit 20210501 100.0 0 100.0 5\n",
      "reddit 20210502 100.0 0 0 2\n",
      "reddit 20210503 100.0 0 50.0 2\n",
      "reddit 20210504 100.0 0 100.0 1\n",
      "reddit 20210505 error\n",
      "reddit 20210506 error\n",
      "reddit 20210507 100.0 0 100.0 5\n",
      "reddit 20210508 error\n",
      "reddit 20210509 error\n",
      "reddit 20210510 75.0 25.0 50.0 4\n",
      "reddit 20210511 error\n",
      "reddit 20210512 error\n",
      "reddit 20210513 error\n",
      "reddit 20210514 100.0 0 50.0 4\n",
      "reddit 20210515 100.0 0 50.0 2\n",
      "reddit 20210516 error\n",
      "reddit 20210517 100.0 0 16.7 6\n",
      "reddit 20210518 error\n",
      "reddit 20210519 100.0 0 0 2\n",
      "reddit 20210520 55.6 44.4 88.9 9\n",
      "reddit 20210521 error\n",
      "reddit 20210522 100.0 0 200.0 1\n",
      "reddit 20210523 error\n",
      "reddit 20210524 error\n",
      "reddit 20210525 error\n",
      "reddit 20210526 error\n",
      "reddit 20210527 100.0 0 100.0 1\n",
      "reddit 20210528 error\n",
      "reddit 20210529 100.0 0 50.0 2\n",
      "reddit 20210530 100.0 0 50.0 4\n",
      "reddit 20210531 error\n",
      "reddit 20210601 0 100.0 100.0 1\n",
      "reddit 20210602 100.0 0 100.0 1\n",
      "reddit 20210603 100.0 0 0 1\n",
      "reddit 20210604 100.0 0 0 1\n",
      "reddit 20210605 100.0 0 0 1\n",
      "reddit 20210606 error\n",
      "reddit 20210607 100.0 0 63.6 11\n",
      "reddit 20210608 100.0 0 133.3 3\n",
      "reddit 20210609 100.0 0 100.0 1\n",
      "reddit 20210610 error\n",
      "reddit 20210611 100.0 0 100.0 3\n",
      "reddit 20210612 33.3 66.7 66.7 3\n",
      "reddit 20210613 100.0 0 100.0 1\n",
      "reddit 20210614 100.0 0 84.6 13\n",
      "reddit 20210615 66.7 33.3 16.7 6\n",
      "reddit 20210616 68.8 31.2 112.5 16\n",
      "reddit 20210617 80.0 20.0 30.0 10\n",
      "reddit 20210618 100.0 0 61.5 13\n",
      "reddit 20210619 87.5 12.5 112.5 8\n",
      "reddit 20210620 100.0 0 14.3 14\n",
      "reddit 20210621 100.0 0 200.0 1\n",
      "reddit 20210622 100.0 0 0 1\n",
      "reddit 20210623 0 100.0 200.0 1\n",
      "reddit 20210624 100.0 0 0 2\n",
      "reddit 20210625 60.0 40.0 60.0 5\n",
      "reddit 20210626 91.7 8.3 141.7 12\n",
      "reddit 20210627 78.6 21.4 107.1 14\n",
      "reddit 20210628 88.9 11.1 11.1 9\n",
      "reddit 20210629 100.0 0 100.0 2\n",
      "reddit 20210630 80.0 20.0 30.0 20\n",
      "reddit 20210631 error\n",
      "reddit 20210701 100.0 0 400.0 1\n",
      "reddit 20210702 error\n",
      "reddit 20210703 100.0 0 350.0 2\n",
      "reddit 20210704 100.0 0 114.3 7\n",
      "reddit 20210705 100.0 0 116.7 6\n",
      "reddit 20210706 100.0 0 150.0 2\n",
      "reddit 20210707 100.0 0 50.0 2\n",
      "reddit 20210708 100.0 0 250.0 2\n",
      "reddit 20210709 93.8 6.2 106.2 16\n",
      "reddit 20210710 58.3 41.7 83.3 12\n",
      "reddit 20210711 100.0 0 100.0 11\n",
      "reddit 20210712 66.7 33.3 200.0 3\n",
      "reddit 20210713 72.7 27.3 45.5 11\n",
      "reddit 20210714 100.0 0 166.7 3\n",
      "reddit 20210715 100.0 0 200.0 1\n",
      "reddit 20210716 75.0 25.0 50.0 4\n",
      "reddit 20210717 33.3 66.7 200.0 3\n",
      "reddit 20210718 100.0 0 200.0 1\n",
      "reddit 20210719 100.0 0 75.0 8\n",
      "reddit 20210720 100.0 0 100.0 2\n",
      "reddit 20210721 100.0 0 33.3 3\n",
      "reddit 20210722 100.0 0 0 2\n",
      "reddit 20210723 66.7 33.3 0 3\n",
      "reddit 20210724 100.0 0 133.3 3\n",
      "reddit 20210725 100.0 0 150.0 4\n",
      "reddit 20210726 66.7 33.3 66.7 6\n",
      "reddit 20210727 100.0 0 200.0 1\n",
      "reddit 20210728 error\n",
      "reddit 20210729 100.0 0 60.0 5\n",
      "reddit 20210730 error\n",
      "reddit 20210731 0 100.0 100.0 1\n",
      "reddit 20210801 100.0 0 100.0 1\n",
      "reddit 20210802 100.0 0 30.0 10\n",
      "reddit 20210803 100.0 0 166.7 3\n",
      "reddit 20210804 84.2 15.8 42.1 19\n",
      "reddit 20210805 80.0 20.0 20.0 5\n",
      "reddit 20210806 100.0 0 200.0 1\n",
      "reddit 20210807 100.0 0 100.0 1\n",
      "reddit 20210808 100.0 0 0 1\n",
      "reddit 20210809 100.0 0 100.0 4\n",
      "reddit 20210810 50.0 50.0 50.0 2\n",
      "reddit 20210811 error\n",
      "reddit 20210812 100.0 0 33.3 3\n",
      "reddit 20210813 100.0 0 233.3 3\n",
      "reddit 20210814 100.0 0 300.0 1\n",
      "reddit 20210815 100.0 0 0 1\n",
      "reddit 20210816 100.0 0 300.0 1\n",
      "reddit 20210817 error\n",
      "reddit 20210818 error\n",
      "reddit 20210819 83.3 16.7 116.7 6\n",
      "reddit 20210820 100.0 0 0 1\n",
      "reddit 20210821 error\n",
      "reddit 20210822 error\n",
      "reddit 20210823 75.0 25.0 25.0 4\n",
      "reddit 20210824 75.0 25.0 75.0 4\n",
      "reddit 20210825 100.0 0 0 1\n",
      "reddit 20210826 100.0 0 100.0 1\n",
      "reddit 20210827 error\n",
      "reddit 20210828 error\n",
      "reddit 20210829 100.0 0 0 1\n",
      "reddit 20210830 100.0 0 0 1\n",
      "reddit 20210831 100.0 0 100.0 3\n",
      "reddit 20210901 83.3 16.7 50.0 6\n",
      "reddit 20210902 80.0 20.0 100.0 5\n",
      "reddit 20210903 100.0 0 150.0 4\n",
      "reddit 20210904 error\n",
      "reddit 20210905 error\n",
      "reddit 20210906 error\n",
      "reddit 20210907 error\n",
      "reddit 20210908 100.0 0 57.1 7\n",
      "reddit 20210909 100.0 0 100.0 1\n",
      "reddit 20210910 80.0 20.0 60.0 5\n",
      "reddit 20210911 error\n",
      "reddit 20210912 100.0 0 133.3 3\n",
      "reddit 20210913 error\n",
      "reddit 20210914 100.0 0 100.0 4\n",
      "reddit 20210915 100.0 0 400.0 1\n",
      "reddit 20210916 100.0 0 0 1\n",
      "reddit 20210917 50.0 50.0 50.0 2\n",
      "reddit 20210918 100.0 0 0 1\n",
      "reddit 20210919 100.0 0 0 1\n",
      "reddit 20210920 100.0 0 100.0 2\n",
      "reddit 20210921 0 100.0 100.0 1\n",
      "reddit 20210922 error\n",
      "reddit 20210923 error\n",
      "reddit 20210924 100.0 0 0 2\n",
      "reddit 20210925 100.0 0 50.0 2\n",
      "reddit 20210926 100.0 0 200.0 1\n",
      "reddit 20210927 error\n",
      "reddit 20210928 error\n",
      "reddit 20210929 error\n",
      "reddit 20210930 error\n",
      "reddit 20210931 error\n",
      "reddit 20211001 error\n",
      "reddit 20211002 error\n",
      "reddit 20211003 error\n",
      "reddit 20211004 error\n",
      "reddit 20211005 100.0 0 100.0 2\n",
      "reddit 20211006 100.0 0 33.3 3\n",
      "reddit 20211007 error\n",
      "reddit 20211008 error\n",
      "reddit 20211009 100.0 0 0 1\n",
      "reddit 20211010 error\n",
      "reddit 20211011 100.0 0 0 1\n",
      "reddit 20211012 error\n",
      "reddit 20211013 100.0 0 300.0 1\n",
      "reddit 20211014 75.0 25.0 100.0 8\n",
      "reddit 20211015 100.0 0 300.0 1\n",
      "reddit 20211016 100.0 0 50.0 2\n",
      "reddit 20211017 75.0 25.0 50.0 4\n",
      "reddit 20211018 100.0 0 66.7 3\n",
      "reddit 20211019 100.0 0 50.0 4\n",
      "reddit 20211020 100.0 0 75.0 4\n",
      "reddit 20211021 100.0 0 85.7 7\n",
      "reddit 20211022 90.9 9.1 50.0 22\n",
      "reddit 20211023 100.0 0 300.0 1\n",
      "reddit 20211024 100.0 0 100.0 3\n",
      "reddit 20211025 90.9 9.1 81.8 11\n",
      "reddit 20211026 100.0 0 100.0 3\n",
      "reddit 20211027 100.0 0 125.0 4\n",
      "reddit 20211028 80.0 20.0 20.0 5\n",
      "reddit 20211029 100.0 0 250.0 2\n",
      "reddit 20211030 33.3 66.7 83.3 6\n",
      "reddit 20211031 100.0 0 100.0 2\n",
      "reddit 20211101 84.2 15.8 100.0 19\n",
      "reddit 20211102 82.1 17.9 75.0 28\n",
      "reddit 20211103 91.3 8.7 69.6 23\n",
      "reddit 20211104 100.0 0 47.1 17\n",
      "reddit 20211105 error\n",
      "reddit 20211106 100.0 0 115.4 13\n",
      "reddit 20211107 57.1 42.9 114.3 7\n",
      "reddit 20211108 81.0 19.0 61.9 21\n",
      "reddit 20211109 85.0 15.0 65.0 20\n",
      "reddit 20211110 100.0 0 100.0 4\n",
      "reddit 20211111 100.0 0 125.0 8\n",
      "reddit 20211112 89.5 10.5 68.4 19\n",
      "reddit 20211113 83.3 16.7 66.7 6\n",
      "reddit 20211114 100.0 0 11.1 9\n",
      "reddit 20211115 0 100.0 600.0 1\n",
      "reddit 20211116 100.0 0 40.0 5\n",
      "reddit 20211117 85.7 14.3 57.1 14\n",
      "reddit 20211118 100.0 0 30.0 20\n",
      "reddit 20211119 90.9 9.1 54.5 11\n",
      "reddit 20211120 66.7 33.3 333.3 3\n",
      "reddit 20211121 66.7 33.3 77.8 9\n",
      "reddit 20211122 50.0 50.0 100.0 4\n",
      "reddit 20211123 86.7 13.3 40.0 15\n",
      "reddit 20211124 85.7 14.3 57.1 21\n",
      "reddit 20211125 90.0 10.0 120.0 10\n",
      "reddit 20211126 81.8 18.2 163.6 11\n",
      "reddit 20211127 87.5 12.5 50.0 8\n",
      "reddit 20211128 94.1 5.9 58.8 17\n",
      "reddit 20211129 100.0 0 44.4 9\n",
      "reddit 20211130 80.0 20.0 80.0 5\n",
      "reddit 20211131 error\n",
      "reddit 20211201 100.0 0 33.3 3\n",
      "reddit 20211202 100.0 0 80.0 5\n",
      "reddit 20211203 100.0 0 166.7 6\n",
      "reddit 20211204 100.0 0 100.0 3\n",
      "reddit 20211205 100.0 0 33.3 3\n",
      "reddit 20211206 100.0 0 0 4\n",
      "reddit 20211207 100.0 0 150.0 2\n",
      "reddit 20211208 75.0 25.0 100.0 4\n",
      "reddit 20211209 100.0 0 33.3 3\n",
      "reddit 20211210 error\n",
      "reddit 20211211 error\n",
      "reddit 20211212 100.0 0 200.0 1\n",
      "reddit 20211213 error\n",
      "reddit 20211214 100.0 0 133.3 3\n",
      "reddit 20211215 100.0 0 0 1\n",
      "reddit 20211216 100.0 0 50.0 2\n",
      "reddit 20211217 100.0 0 100.0 2\n",
      "reddit 20211218 80.0 20.0 200.0 10\n",
      "reddit 20211219 90.9 9.1 72.7 11\n",
      "reddit 20211220 80.0 20.0 140.0 5\n",
      "reddit 20211221 75.0 25.0 75.0 4\n",
      "reddit 20211222 100.0 0 300.0 2\n",
      "reddit 20211223 100.0 0 0 2\n",
      "reddit 20211224 66.7 33.3 200.0 3\n",
      "reddit 20211225 100.0 0 57.1 7\n",
      "reddit 20211226 0 100.0 100.0 1\n",
      "reddit 20211227 error\n",
      "reddit 20211228 error\n",
      "reddit 20211229 100.0 0 50.0 2\n",
      "reddit 20211230 81.8 18.2 27.3 11\n",
      "reddit 20211231 100.0 0 300.0 1\n",
      "reddit 20220101 error\n",
      "reddit 20220102 100.0 0 0 2\n",
      "reddit 20220103 100.0 0 300.0 2\n",
      "reddit 20220104 80.0 20.0 80.0 10\n",
      "reddit 20220105 100.0 0 100.0 5\n",
      "reddit 20220106 100.0 0 66.7 12\n",
      "reddit 20220107 50.0 50.0 50.0 2\n",
      "reddit 20220108 error\n",
      "reddit 20220109 91.7 8.3 100.0 12\n",
      "reddit 20220110 80.9 19.1 61.7 47\n",
      "reddit 20220111 80.0 20.0 240.0 5\n",
      "reddit 20220112 85.7 14.3 14.3 7\n",
      "reddit 20220113 81.8 18.2 59.1 22\n",
      "reddit 20220114 83.3 16.7 150.0 12\n",
      "reddit 20220115 81.2 18.8 68.8 32\n",
      "reddit 20220116 83.3 16.7 66.7 18\n",
      "reddit 20220117 100.0 0 128.6 7\n",
      "reddit 20220118 100.0 0 38.1 21\n",
      "reddit 20220119 100.0 0 0 3\n",
      "reddit 20220120 100.0 0 50.0 2\n",
      "reddit 20220121 100.0 0 100.0 2\n",
      "reddit 20220122 100.0 0 120.0 5\n",
      "reddit 20220123 92.3 7.7 69.2 13\n",
      "reddit 20220124 81.2 18.8 31.2 16\n",
      "reddit 20220125 75.0 25.0 25.0 4\n",
      "reddit 20220126 100.0 0 100.0 6\n",
      "reddit 20220127 100.0 0 80.0 5\n",
      "reddit 20220128 81.2 18.8 62.5 16\n",
      "reddit 20220129 50.0 50.0 100.0 4\n",
      "reddit 20220130 100.0 0 100.0 1\n",
      "reddit 20220131 100.0 0 100.0 5\n",
      "reddit 20220201 100.0 0 100.0 1\n",
      "reddit 20220202 100.0 0 33.3 6\n",
      "reddit 20220203 50.0 50.0 50.0 2\n",
      "reddit 20220204 100.0 0 100.0 1\n",
      "reddit 20220205 100.0 0 250.0 2\n",
      "reddit 20220206 100.0 0 20.0 5\n",
      "reddit 20220207 100.0 0 100.0 2\n",
      "reddit 20220208 80.0 20.0 120.0 5\n",
      "reddit 20220209 75.0 25.0 125.0 4\n",
      "reddit 20220210 error\n",
      "reddit 20220211 error\n",
      "reddit 20220212 error\n",
      "reddit 20220213 error\n",
      "reddit 20220214 error\n",
      "reddit 20220215 error\n",
      "reddit 20220216 error\n",
      "reddit 20220217 error\n",
      "reddit 20220218 error\n",
      "reddit 20220219 error\n",
      "reddit 20220220 error\n",
      "reddit 20220221 error\n",
      "reddit 20220222 error\n",
      "reddit 20220223 error\n",
      "reddit 20220224 error\n",
      "reddit 20220225 error\n",
      "reddit 20220226 error\n",
      "reddit 20220227 error\n",
      "reddit 20220228 error\n",
      "reddit 20220229 error\n",
      "reddit 20220230 error\n",
      "reddit 20220231 error\n",
      "reddit 20220301 error\n",
      "reddit 20220302 error\n",
      "reddit 20220303 error\n",
      "reddit 20220304 error\n",
      "reddit 20220305 error\n",
      "reddit 20220306 error\n",
      "reddit 20220307 error\n",
      "reddit 20220308 error\n",
      "reddit 20220309 error\n",
      "reddit 20220310 error\n",
      "reddit 20220311 error\n",
      "reddit 20220312 error\n",
      "reddit 20220313 error\n",
      "reddit 20220314 error\n",
      "reddit 20220315 error\n",
      "reddit 20220316 error\n",
      "reddit 20220317 error\n",
      "reddit 20220318 error\n",
      "reddit 20220319 error\n",
      "reddit 20220320 error\n",
      "reddit 20220321 error\n",
      "reddit 20220322 error\n",
      "reddit 20220323 error\n",
      "reddit 20220324 error\n",
      "reddit 20220325 error\n",
      "reddit 20220326 error\n",
      "reddit 20220327 error\n",
      "reddit 20220328 error\n",
      "reddit 20220329 error\n",
      "reddit 20220330 error\n",
      "reddit 20220331 error\n",
      "reddit 20220401 error\n",
      "reddit 20220402 error\n",
      "reddit 20220403 error\n",
      "reddit 20220404 error\n",
      "reddit 20220405 error\n",
      "reddit 20220406 error\n",
      "reddit 20220407 error\n",
      "reddit 20220408 error\n",
      "reddit 20220409 error\n",
      "reddit 20220410 error\n",
      "reddit 20220411 error\n",
      "reddit 20220412 error\n",
      "reddit 20220413 error\n",
      "reddit 20220414 error\n",
      "reddit 20220415 error\n",
      "reddit 20220416 error\n",
      "reddit 20220417 error\n",
      "reddit 20220418 error\n",
      "reddit 20220419 error\n",
      "reddit 20220420 error\n",
      "reddit 20220421 error\n",
      "reddit 20220422 error\n",
      "reddit 20220423 error\n",
      "reddit 20220424 error\n",
      "reddit 20220425 error\n",
      "reddit 20220426 error\n",
      "reddit 20220427 error\n",
      "reddit 20220428 error\n",
      "reddit 20220429 error\n",
      "reddit 20220430 error\n",
      "reddit 20220431 error\n",
      "total relevant found: 1420\n",
      "nunl 20210401 85.0 15.0 75.0 20\n",
      "nunl 20210402 56.2 43.8 81.2 16\n",
      "nunl 20210403 76.0 24.0 52.0 25\n",
      "nunl 20210404 42.9 57.1 57.1 7\n",
      "nunl 20210405 71.4 28.6 128.6 7\n",
      "nunl 20210406 90.0 10.0 100.0 30\n",
      "nunl 20210407 87.0 13.0 121.7 23\n",
      "nunl 20210408 79.1 20.9 64.3 115\n",
      "nunl 20210409 96.3 3.7 66.7 27\n",
      "nunl 20210410 88.9 11.1 144.4 9\n",
      "nunl 20210411 80.5 19.5 92.7 41\n",
      "nunl 20210412 97.7 2.3 65.9 44\n",
      "nunl 20210413 90.3 9.7 72.6 62\n",
      "nunl 20210414 85.0 15.0 92.5 40\n",
      "nunl 20210415 50.0 50.0 183.3 6\n",
      "nunl 20210416 76.7 23.3 103.3 30\n",
      "nunl 20210417 90.0 10.0 170.0 10\n",
      "nunl 20210418 89.1 10.9 50.0 46\n",
      "nunl 20210419 86.4 13.6 95.5 44\n",
      "nunl 20210420 87.0 13.0 66.7 54\n",
      "nunl 20210421 82.6 17.4 63.0 46\n",
      "nunl 20210422 82.8 17.2 148.3 29\n",
      "nunl 20210423 95.7 4.3 73.9 23\n",
      "nunl 20210424 94.1 5.9 58.8 17\n",
      "nunl 20210425 73.1 26.9 126.9 26\n",
      "nunl 20210426 80.6 19.4 38.9 36\n",
      "nunl 20210427 87.5 12.5 137.5 8\n",
      "nunl 20210428 81.4 18.6 44.1 59\n",
      "nunl 20210429 89.6 10.4 55.2 96\n",
      "nunl 20210430 100.0 0 125.0 4\n",
      "nunl 20210431 error\n",
      "nunl 20210501 85.4 14.6 64.6 82\n",
      "nunl 20210502 76.9 23.1 92.3 13\n",
      "nunl 20210503 81.8 18.2 122.7 22\n",
      "nunl 20210504 85.1 14.9 62.7 67\n",
      "nunl 20210505 100.0 0 62.5 8\n",
      "nunl 20210506 91.4 8.6 71.4 35\n",
      "nunl 20210507 78.9 21.1 78.9 19\n",
      "nunl 20210508 100.0 0 106.2 16\n",
      "nunl 20210509 72.7 27.3 54.5 11\n",
      "nunl 20210510 94.3 5.7 74.3 35\n",
      "nunl 20210511 80.3 19.7 76.3 76\n",
      "nunl 20210512 88.4 11.6 97.7 43\n",
      "nunl 20210513 78.8 21.2 34.6 52\n",
      "nunl 20210514 90.2 9.8 68.3 41\n",
      "nunl 20210515 95.5 4.5 71.2 66\n",
      "nunl 20210516 87.5 12.5 75.0 8\n",
      "nunl 20210517 76.9 23.1 71.2 52\n",
      "nunl 20210518 100.0 0 75.0 12\n",
      "nunl 20210519 92.3 7.7 42.3 52\n",
      "nunl 20210520 100.0 0 71.4 7\n",
      "nunl 20210521 84.2 15.8 47.4 19\n",
      "nunl 20210522 82.6 17.4 65.2 23\n",
      "nunl 20210523 100.0 0 42.9 7\n",
      "nunl 20210524 93.8 6.2 50.0 16\n",
      "nunl 20210525 89.5 10.5 78.9 19\n",
      "nunl 20210526 90.5 9.5 64.3 42\n",
      "nunl 20210527 83.3 16.7 20.0 30\n",
      "nunl 20210528 83.0 17.0 55.3 47\n",
      "nunl 20210529 79.7 20.3 73.9 69\n",
      "nunl 20210530 92.9 7.1 76.2 42\n",
      "nunl 20210531 91.7 8.3 75.0 12\n",
      "nunl 20210601 94.1 5.9 41.2 51\n",
      "nunl 20210602 84.8 15.2 52.2 46\n",
      "nunl 20210603 80.3 19.7 54.1 61\n",
      "nunl 20210604 75.0 25.0 108.3 24\n",
      "nunl 20210605 64.3 35.7 50.0 28\n",
      "nunl 20210606 52.6 47.4 73.7 19\n",
      "nunl 20210607 91.6 8.4 104.8 83\n",
      "nunl 20210608 76.8 23.2 72.9 203\n",
      "nunl 20210609 88.0 12.0 102.0 50\n",
      "nunl 20210610 86.1 13.9 52.8 36\n",
      "nunl 20210611 85.7 14.3 61.4 70\n",
      "nunl 20210612 93.8 6.2 37.5 16\n",
      "nunl 20210613 60.0 40.0 80.0 25\n",
      "nunl 20210614 75.0 25.0 79.5 112\n",
      "nunl 20210615 87.0 13.0 63.8 69\n",
      "nunl 20210616 82.7 17.3 51.7 698\n",
      "nunl 20210617 100.0 0 46.7 15\n",
      "nunl 20210618 82.5 17.5 53.6 274\n",
      "nunl 20210619 75.0 25.0 100.0 4\n",
      "nunl 20210620 100.0 0 0 1\n",
      "nunl 20210621 error\n",
      "nunl 20210622 100.0 0 100.0 1\n",
      "nunl 20210623 error\n",
      "nunl 20210624 error\n",
      "nunl 20210625 100.0 0 0 2\n",
      "nunl 20210626 error\n",
      "nunl 20210627 100.0 0 0 2\n",
      "nunl 20210628 error\n",
      "nunl 20210629 100.0 0 200.0 1\n",
      "nunl 20210630 error\n",
      "nunl 20210631 error\n",
      "nunl 20210701 100.0 0 100.0 1\n",
      "nunl 20210702 66.7 33.3 133.3 3\n",
      "nunl 20210703 error\n",
      "nunl 20210704 error\n",
      "nunl 20210705 100.0 0 0 1\n",
      "nunl 20210706 100.0 0 33.3 3\n",
      "nunl 20210707 100.0 0 100.0 2\n",
      "nunl 20210708 60.0 40.0 20.0 5\n",
      "nunl 20210709 66.7 33.3 200.0 3\n",
      "nunl 20210710 100.0 0 50.0 2\n",
      "nunl 20210711 error\n",
      "nunl 20210712 83.3 16.7 16.7 6\n",
      "nunl 20210713 50.0 50.0 50.0 2\n",
      "nunl 20210714 100.0 0 100.0 2\n",
      "nunl 20210715 100.0 0 150.0 2\n",
      "nunl 20210716 83.3 16.7 16.7 6\n",
      "nunl 20210717 50.0 50.0 150.0 2\n",
      "nunl 20210718 100.0 0 0 2\n",
      "nunl 20210719 100.0 0 0 1\n",
      "nunl 20210720 100.0 0 50.0 2\n",
      "nunl 20210721 error\n",
      "nunl 20210722 error\n",
      "nunl 20210723 100.0 0 0 1\n",
      "nunl 20210724 error\n",
      "nunl 20210725 100.0 0 0 1\n",
      "nunl 20210726 error\n",
      "nunl 20210727 error\n",
      "nunl 20210728 100.0 0 300.0 1\n",
      "nunl 20210729 100.0 0 100.0 1\n",
      "nunl 20210730 error\n",
      "nunl 20210731 error\n",
      "nunl 20210801 75.0 25.0 0 4\n",
      "nunl 20210802 100.0 0 50.0 2\n",
      "nunl 20210803 error\n",
      "nunl 20210804 error\n",
      "nunl 20210805 error\n",
      "nunl 20210806 error\n",
      "nunl 20210807 100.0 0 200.0 1\n",
      "nunl 20210808 100.0 0 100.0 1\n",
      "nunl 20210809 error\n",
      "nunl 20210810 error\n",
      "nunl 20210811 error\n",
      "nunl 20210812 error\n",
      "nunl 20210813 100.0 0 100.0 3\n",
      "nunl 20210814 100.0 0 66.7 3\n",
      "nunl 20210815 0 100.0 0 1\n",
      "nunl 20210816 100.0 0 100.0 1\n",
      "nunl 20210817 100.0 0 100.0 1\n",
      "nunl 20210818 error\n",
      "nunl 20210819 100.0 0 100.0 1\n",
      "nunl 20210820 error\n",
      "nunl 20210821 error\n",
      "nunl 20210822 error\n",
      "nunl 20210823 error\n",
      "nunl 20210824 error\n",
      "nunl 20210825 100.0 0 200.0 1\n",
      "nunl 20210826 error\n",
      "nunl 20210827 error\n",
      "nunl 20210828 error\n",
      "nunl 20210829 error\n",
      "nunl 20210830 error\n",
      "nunl 20210831 100.0 0 0 1\n",
      "nunl 20210901 100.0 0 100.0 1\n",
      "nunl 20210902 error\n",
      "nunl 20210903 100.0 0 0 1\n",
      "nunl 20210904 error\n",
      "nunl 20210905 error\n",
      "nunl 20210906 100.0 0 0 1\n",
      "nunl 20210907 error\n",
      "nunl 20210908 error\n",
      "nunl 20210909 50.0 50.0 50.0 2\n",
      "nunl 20210910 0 100.0 200.0 1\n",
      "nunl 20210911 error\n",
      "nunl 20210912 error\n",
      "nunl 20210913 error\n",
      "nunl 20210914 100.0 0 100.0 1\n",
      "nunl 20210915 error\n",
      "nunl 20210916 100.0 0 0 1\n",
      "nunl 20210917 error\n",
      "nunl 20210918 error\n",
      "nunl 20210919 100.0 0 100.0 1\n",
      "nunl 20210920 error\n",
      "nunl 20210921 error\n",
      "nunl 20210922 error\n",
      "nunl 20210923 error\n",
      "nunl 20210924 100.0 0 200.0 1\n",
      "nunl 20210925 error\n",
      "nunl 20210926 error\n",
      "nunl 20210927 error\n",
      "nunl 20210928 100.0 0 100.0 2\n",
      "nunl 20210929 error\n",
      "nunl 20210930 error\n",
      "nunl 20210931 error\n",
      "nunl 20211001 error\n",
      "nunl 20211002 100.0 0 0 1\n",
      "nunl 20211003 error\n",
      "nunl 20211004 100.0 0 200.0 1\n",
      "nunl 20211005 error\n",
      "nunl 20211006 error\n",
      "nunl 20211007 error\n",
      "nunl 20211008 error\n",
      "nunl 20211009 error\n",
      "nunl 20211010 error\n",
      "nunl 20211011 error\n",
      "nunl 20211012 error\n",
      "nunl 20211013 error\n",
      "nunl 20211014 error\n",
      "nunl 20211015 100.0 0 0 1\n",
      "nunl 20211016 error\n",
      "nunl 20211017 error\n",
      "nunl 20211018 error\n",
      "nunl 20211019 error\n",
      "nunl 20211020 error\n",
      "nunl 20211021 100.0 0 0 1\n",
      "nunl 20211022 100.0 0 0 2\n",
      "nunl 20211023 error\n",
      "nunl 20211024 error\n",
      "nunl 20211025 66.7 33.3 33.3 3\n",
      "nunl 20211026 error\n",
      "nunl 20211027 error\n",
      "nunl 20211028 100.0 0 0 2\n",
      "nunl 20211029 100.0 0 0 1\n",
      "nunl 20211030 100.0 0 0 1\n",
      "nunl 20211031 error\n",
      "nunl 20211101 error\n",
      "nunl 20211102 100.0 0 0 2\n",
      "nunl 20211103 100.0 0 75.0 4\n",
      "nunl 20211104 0 100.0 0 1\n",
      "nunl 20211105 100.0 0 100.0 1\n",
      "nunl 20211106 100.0 0 100.0 1\n",
      "nunl 20211107 100.0 0 80.0 5\n",
      "nunl 20211108 error\n",
      "nunl 20211109 100.0 0 300.0 1\n",
      "nunl 20211110 100.0 0 100.0 1\n",
      "nunl 20211111 error\n",
      "nunl 20211112 100.0 0 300.0 1\n",
      "nunl 20211113 100.0 0 0 1\n",
      "nunl 20211114 100.0 0 0 2\n",
      "nunl 20211115 error\n",
      "nunl 20211116 error\n",
      "nunl 20211117 100.0 0 100.0 1\n",
      "nunl 20211118 100.0 0 50.0 2\n",
      "nunl 20211119 0 100.0 0 1\n",
      "nunl 20211120 100.0 0 25.0 4\n",
      "nunl 20211121 error\n",
      "nunl 20211122 error\n",
      "nunl 20211123 0 100.0 0 1\n",
      "nunl 20211124 100.0 0 66.7 3\n",
      "nunl 20211125 50.0 50.0 0 2\n",
      "nunl 20211126 error\n",
      "nunl 20211127 100.0 0 200.0 1\n",
      "nunl 20211128 error\n",
      "nunl 20211129 error\n",
      "nunl 20211130 0 100.0 0 1\n",
      "nunl 20211131 error\n",
      "nunl 20211201 error\n",
      "nunl 20211202 0 100.0 0 1\n",
      "nunl 20211203 error\n",
      "nunl 20211204 100.0 0 50.0 2\n",
      "nunl 20211205 error\n",
      "nunl 20211206 error\n",
      "nunl 20211207 error\n",
      "nunl 20211208 error\n",
      "nunl 20211209 100.0 0 0 1\n",
      "nunl 20211210 100.0 0 100.0 1\n",
      "nunl 20211211 error\n",
      "nunl 20211212 error\n",
      "nunl 20211213 error\n",
      "nunl 20211214 0 100.0 200.0 1\n",
      "nunl 20211215 error\n",
      "nunl 20211216 error\n",
      "nunl 20211217 error\n",
      "nunl 20211218 error\n",
      "nunl 20211219 50.0 50.0 0 2\n",
      "nunl 20211220 error\n",
      "nunl 20211221 error\n",
      "nunl 20211222 0 100.0 0 1\n",
      "nunl 20211223 100.0 0 100.0 1\n",
      "nunl 20211224 100.0 0 100.0 1\n",
      "nunl 20211225 100.0 0 0 1\n",
      "nunl 20211226 error\n",
      "nunl 20211227 error\n",
      "nunl 20211228 100.0 0 0 1\n",
      "nunl 20211229 error\n",
      "nunl 20211230 100.0 0 0 1\n",
      "nunl 20211231 0 100.0 0 1\n",
      "nunl 20220101 error\n",
      "nunl 20220102 error\n",
      "nunl 20220103 error\n",
      "nunl 20220104 error\n",
      "nunl 20220105 error\n",
      "nunl 20220106 error\n",
      "nunl 20220107 error\n",
      "nunl 20220108 error\n",
      "nunl 20220109 error\n",
      "nunl 20220110 error\n",
      "nunl 20220111 error\n",
      "nunl 20220112 error\n",
      "nunl 20220113 error\n",
      "nunl 20220114 error\n",
      "nunl 20220115 error\n",
      "nunl 20220116 error\n",
      "nunl 20220117 error\n",
      "nunl 20220118 error\n",
      "nunl 20220119 error\n",
      "nunl 20220120 error\n",
      "nunl 20220121 error\n",
      "nunl 20220122 error\n",
      "nunl 20220123 error\n",
      "nunl 20220124 error\n",
      "nunl 20220125 error\n",
      "nunl 20220126 error\n",
      "nunl 20220127 error\n",
      "nunl 20220128 error\n",
      "nunl 20220129 error\n",
      "nunl 20220130 error\n",
      "nunl 20220131 error\n",
      "nunl 20220201 error\n",
      "nunl 20220202 error\n",
      "nunl 20220203 error\n",
      "nunl 20220204 error\n",
      "nunl 20220205 error\n",
      "nunl 20220206 error\n",
      "nunl 20220207 error\n",
      "nunl 20220208 error\n",
      "nunl 20220209 error\n",
      "nunl 20220210 error\n",
      "nunl 20220211 error\n",
      "nunl 20220212 error\n",
      "nunl 20220213 error\n",
      "nunl 20220214 error\n",
      "nunl 20220215 error\n",
      "nunl 20220216 error\n",
      "nunl 20220217 error\n",
      "nunl 20220218 error\n",
      "nunl 20220219 error\n",
      "nunl 20220220 error\n",
      "nunl 20220221 error\n",
      "nunl 20220222 error\n",
      "nunl 20220223 error\n",
      "nunl 20220224 error\n",
      "nunl 20220225 error\n",
      "nunl 20220226 error\n",
      "nunl 20220227 error\n",
      "nunl 20220228 error\n",
      "nunl 20220229 error\n",
      "nunl 20220230 error\n",
      "nunl 20220231 error\n",
      "nunl 20220301 error\n",
      "nunl 20220302 error\n",
      "nunl 20220303 error\n",
      "nunl 20220304 error\n",
      "nunl 20220305 error\n",
      "nunl 20220306 error\n",
      "nunl 20220307 error\n",
      "nunl 20220308 error\n",
      "nunl 20220309 error\n",
      "nunl 20220310 error\n",
      "nunl 20220311 error\n",
      "nunl 20220312 error\n",
      "nunl 20220313 error\n",
      "nunl 20220314 error\n",
      "nunl 20220315 error\n",
      "nunl 20220316 error\n",
      "nunl 20220317 error\n",
      "nunl 20220318 error\n",
      "nunl 20220319 error\n",
      "nunl 20220320 error\n",
      "nunl 20220321 error\n",
      "nunl 20220322 error\n",
      "nunl 20220323 error\n",
      "nunl 20220324 error\n",
      "nunl 20220325 error\n",
      "nunl 20220326 error\n",
      "nunl 20220327 error\n",
      "nunl 20220328 error\n",
      "nunl 20220329 error\n",
      "nunl 20220330 error\n",
      "nunl 20220331 error\n",
      "nunl 20220401 error\n",
      "nunl 20220402 error\n",
      "nunl 20220403 error\n",
      "nunl 20220404 error\n",
      "nunl 20220405 error\n",
      "nunl 20220406 error\n",
      "nunl 20220407 error\n",
      "nunl 20220408 error\n",
      "nunl 20220409 error\n",
      "nunl 20220410 error\n",
      "nunl 20220411 error\n",
      "nunl 20220412 error\n",
      "nunl 20220413 error\n",
      "nunl 20220414 error\n",
      "nunl 20220415 error\n",
      "nunl 20220416 error\n",
      "nunl 20220417 error\n",
      "nunl 20220418 error\n",
      "nunl 20220419 error\n",
      "nunl 20220420 error\n",
      "nunl 20220421 error\n",
      "nunl 20220422 error\n",
      "nunl 20220423 error\n",
      "nunl 20220424 error\n",
      "nunl 20220425 error\n",
      "nunl 20220426 error\n",
      "nunl 20220427 error\n",
      "nunl 20220428 error\n",
      "nunl 20220429 error\n",
      "nunl 20220430 error\n",
      "nunl 20220431 error\n",
      "total relevant found: 4079\n"
     ]
    }
   ],
   "source": [
    "results = {}\n",
    "totals = {}\n",
    "for source in SOURCES:\n",
    "    dataDirectory = DATADIRECTORIES[source]\n",
    "    total = 0\n",
    "    results[source] = {}\n",
    "    for month in \"202104 202105 202106 202107 202108 202109 202110 202111 202112 202201 202202 202203 202204\".split():\n",
    "        for day in range(1,MAXDAYSPERMONTH+1):\n",
    "            date = month+str(day).zfill(2)\n",
    "            try:\n",
    "                labels = classify(date,QUERY,model,dataDirectory=dataDirectory)\n",
    "                if not REJECTS in labels: labels[REJECTS] = 0\n",
    "                if not SUPPORTS in labels: labels[SUPPORTS] = 0\n",
    "                if not IRRELEVANT in labels: labels[IRRELEVANT] = 0\n",
    "                if labels[REJECTS]+labels[SUPPORTS]+labels[IRRELEVANT] > 0:\n",
    "                    results[source][date] = labels\n",
    "                    print(source,date,labels[REJECTS],labels[SUPPORTS],labels[IRRELEVANT],labels[TOTAL])\n",
    "                    total += labels[TOTAL]\n",
    "            except:\n",
    "                print(source,date,\"error\")\n",
    "    totals[source] = total\n",
    "    print(\"total relevant found:\",total)"
   ]
  },
  {
   "cell_type": "code",
   "execution_count": 30,
   "metadata": {},
   "outputs": [],
   "source": [
    "storeResults(results)"
   ]
  },
  {
   "cell_type": "code",
   "execution_count": 10,
   "metadata": {},
   "outputs": [],
   "source": [
    "def combine_data(data1, data2):\n",
    "    for platform in data2:\n",
    "        if platform not in data1:\n",
    "            data1[platform] = {}\n",
    "        for date in data2[platform]:\n",
    "            data1[platform][date] = data2[platform][date]\n",
    "    return data1"
   ]
  },
  {
   "cell_type": "code",
   "execution_count": 14,
   "metadata": {},
   "outputs": [],
   "source": [
    "for topic in [\"distance\", \"mondkapje\"]:\n",
    "    data1 = readResults(results_file=f\"results-{topic}.csv.20210406\")\n",
    "    data2 = readResults(results_file=f\"results-{topic}.csv.20220513\")\n",
    "    storeResults(combine_data(data1, data2), results_file=f\"results-{topic}.csv\")"
   ]
  },
  {
   "cell_type": "markdown",
   "metadata": {},
   "source": [
    "## Continue here..."
   ]
  },
  {
   "cell_type": "code",
   "execution_count": 31,
   "metadata": {},
   "outputs": [
    {
     "data": {
      "text/plain": [
       "{'twitter': 481002, 'reddit': 1420, 'nunl': 4079}"
      ]
     },
     "execution_count": 31,
     "metadata": {},
     "output_type": "execute_result"
    }
   ],
   "source": [
    "totals"
   ]
  },
  {
   "cell_type": "code",
   "execution_count": 32,
   "metadata": {},
   "outputs": [
    {
     "name": "stdout",
     "output_type": "stream",
     "text": [
      "twitter {'__label__IRRELEVANT': 762248, '__label__REJECTS': 431639, '__label__SUPPORTS': 49363, 'total': 481002}\n",
      "reddit {'__label__IRRELEVANT': 1112, '__label__REJECTS': 1244, '__label__SUPPORTS': 176, 'total': 1420}\n",
      "nunl {'__label__IRRELEVANT': 2717, '__label__REJECTS': 3420, '__label__SUPPORTS': 659, 'total': 4079}\n"
     ]
    }
   ],
   "source": [
    "for platform in \"twitter reddit nunl\".split():\n",
    "    counts = {}\n",
    "    for date in results[platform]:\n",
    "        try:\n",
    "            if TOTAL in results[platform][date] and results[platform][date][TOTAL] > 0:\n",
    "                for label in results[platform][date].keys():\n",
    "                    if not label in counts: counts[label] = 0\n",
    "                    if label == TOTAL: counts[label] += results[platform][date][label]\n",
    "                    else: counts[label] += round(results[platform][date][TOTAL]*results[platform][date][label]/100.0)\n",
    "        except: pass\n",
    "    print(platform,counts)"
   ]
  },
  {
   "cell_type": "markdown",
   "metadata": {},
   "source": [
    "Social distancing:\n",
    "```\n",
    "twitter {'__label__IRRELEVANT': 321240, '__label__REJECTS': 292168, '__label__SUPPORTS': 707633, 'total': 999800}\n",
    "reddit {'__label__SUPPORTS': 2967, 'total': 3857, '__label__REJECTS': 890, '__label__IRRELEVANT': 411}\n",
    "nunl {'__label__IRRELEVANT': 7760, '__label__SUPPORTS': 39671, 'total': 53243, '__label__REJECTS': 13572}\n",
    "```\n",
    "Face masks:\n",
    "```\n",
    "twitter {'__label__IRRELEVANT': 821039, '__label__REJECTS': 791113, 'total': 910603, '__label__SUPPORTS': 119490}\n",
    "reddit {'__label__IRRELEVANT': 2368, '__label__REJECTS': 1697, '__label__SUPPORTS': 496, 'total': 2193}\n",
    "nunl {'__label__IRRELEVANT': 27926, '__label__REJECTS': 32008, '__label__SUPPORTS': 11438, 'total': 43446}\n",
    "```"
   ]
  },
  {
   "cell_type": "code",
   "execution_count": 33,
   "metadata": {},
   "outputs": [
    {
     "ename": "FileNotFoundError",
     "evalue": "[Errno 2] No such file or directory: 'results-mondkapje.csv'",
     "output_type": "error",
     "traceback": [
      "\u001b[0;31m---------------------------------------------------------------------------\u001b[0m",
      "\u001b[0;31mFileNotFoundError\u001b[0m                         Traceback (most recent call last)",
      "\u001b[0;32m/tmp/ipykernel_20135/1353735739.py\u001b[0m in \u001b[0;36m<module>\u001b[0;34m\u001b[0m\n\u001b[0;32m----> 1\u001b[0;31m \u001b[0mdf\u001b[0m \u001b[0;34m=\u001b[0m \u001b[0mpd\u001b[0m\u001b[0;34m.\u001b[0m\u001b[0mread_csv\u001b[0m\u001b[0;34m(\u001b[0m\u001b[0mRESULTSFILE\u001b[0m\u001b[0;34m,\u001b[0m\u001b[0mindex_col\u001b[0m\u001b[0;34m=\u001b[0m\u001b[0;34m\"source\"\u001b[0m\u001b[0;34m)\u001b[0m\u001b[0;34m.\u001b[0m\u001b[0mT\u001b[0m\u001b[0;34m\u001b[0m\u001b[0;34m\u001b[0m\u001b[0m\n\u001b[0m\u001b[1;32m      2\u001b[0m \u001b[0mtotalsIncludingIrrelevant\u001b[0m \u001b[0;34m=\u001b[0m \u001b[0;34m{\u001b[0m\u001b[0msource\u001b[0m\u001b[0;34m:\u001b[0m\u001b[0;36m0\u001b[0m \u001b[0;32mfor\u001b[0m \u001b[0msource\u001b[0m \u001b[0;32min\u001b[0m \u001b[0;34m[\u001b[0m\u001b[0mTWITTER\u001b[0m\u001b[0;34m,\u001b[0m\u001b[0mREDDIT\u001b[0m\u001b[0;34m,\u001b[0m\u001b[0mNUNL\u001b[0m\u001b[0;34m]\u001b[0m\u001b[0;34m}\u001b[0m\u001b[0;34m\u001b[0m\u001b[0;34m\u001b[0m\u001b[0m\n\u001b[1;32m      3\u001b[0m \u001b[0;32mfor\u001b[0m \u001b[0mi\u001b[0m \u001b[0;32min\u001b[0m \u001b[0mrange\u001b[0m\u001b[0;34m(\u001b[0m\u001b[0;36m0\u001b[0m\u001b[0;34m,\u001b[0m\u001b[0mlen\u001b[0m\u001b[0;34m(\u001b[0m\u001b[0mdf\u001b[0m\u001b[0;34m)\u001b[0m\u001b[0;34m)\u001b[0m\u001b[0;34m:\u001b[0m\u001b[0;34m\u001b[0m\u001b[0;34m\u001b[0m\u001b[0m\n\u001b[1;32m      4\u001b[0m     \u001b[0;32mfor\u001b[0m \u001b[0msource\u001b[0m \u001b[0;32min\u001b[0m \u001b[0;34m[\u001b[0m\u001b[0mTWITTER\u001b[0m\u001b[0;34m,\u001b[0m\u001b[0mREDDIT\u001b[0m\u001b[0;34m,\u001b[0m\u001b[0mNUNL\u001b[0m\u001b[0;34m]\u001b[0m\u001b[0;34m:\u001b[0m\u001b[0;34m\u001b[0m\u001b[0;34m\u001b[0m\u001b[0m\n\u001b[1;32m      5\u001b[0m         \u001b[0;32mtry\u001b[0m\u001b[0;34m:\u001b[0m\u001b[0;34m\u001b[0m\u001b[0;34m\u001b[0m\u001b[0m\n",
      "\u001b[0;32m~/anaconda3/envs/python37/lib/python3.7/site-packages/pandas/util/_decorators.py\u001b[0m in \u001b[0;36mwrapper\u001b[0;34m(*args, **kwargs)\u001b[0m\n\u001b[1;32m    309\u001b[0m                     \u001b[0mstacklevel\u001b[0m\u001b[0;34m=\u001b[0m\u001b[0mstacklevel\u001b[0m\u001b[0;34m,\u001b[0m\u001b[0;34m\u001b[0m\u001b[0;34m\u001b[0m\u001b[0m\n\u001b[1;32m    310\u001b[0m                 )\n\u001b[0;32m--> 311\u001b[0;31m             \u001b[0;32mreturn\u001b[0m \u001b[0mfunc\u001b[0m\u001b[0;34m(\u001b[0m\u001b[0;34m*\u001b[0m\u001b[0margs\u001b[0m\u001b[0;34m,\u001b[0m \u001b[0;34m**\u001b[0m\u001b[0mkwargs\u001b[0m\u001b[0;34m)\u001b[0m\u001b[0;34m\u001b[0m\u001b[0;34m\u001b[0m\u001b[0m\n\u001b[0m\u001b[1;32m    312\u001b[0m \u001b[0;34m\u001b[0m\u001b[0m\n\u001b[1;32m    313\u001b[0m         \u001b[0;32mreturn\u001b[0m \u001b[0mwrapper\u001b[0m\u001b[0;34m\u001b[0m\u001b[0;34m\u001b[0m\u001b[0m\n",
      "\u001b[0;32m~/anaconda3/envs/python37/lib/python3.7/site-packages/pandas/io/parsers/readers.py\u001b[0m in \u001b[0;36mread_csv\u001b[0;34m(filepath_or_buffer, sep, delimiter, header, names, index_col, usecols, squeeze, prefix, mangle_dupe_cols, dtype, engine, converters, true_values, false_values, skipinitialspace, skiprows, skipfooter, nrows, na_values, keep_default_na, na_filter, verbose, skip_blank_lines, parse_dates, infer_datetime_format, keep_date_col, date_parser, dayfirst, cache_dates, iterator, chunksize, compression, thousands, decimal, lineterminator, quotechar, quoting, doublequote, escapechar, comment, encoding, encoding_errors, dialect, error_bad_lines, warn_bad_lines, on_bad_lines, delim_whitespace, low_memory, memory_map, float_precision, storage_options)\u001b[0m\n\u001b[1;32m    584\u001b[0m     \u001b[0mkwds\u001b[0m\u001b[0;34m.\u001b[0m\u001b[0mupdate\u001b[0m\u001b[0;34m(\u001b[0m\u001b[0mkwds_defaults\u001b[0m\u001b[0;34m)\u001b[0m\u001b[0;34m\u001b[0m\u001b[0;34m\u001b[0m\u001b[0m\n\u001b[1;32m    585\u001b[0m \u001b[0;34m\u001b[0m\u001b[0m\n\u001b[0;32m--> 586\u001b[0;31m     \u001b[0;32mreturn\u001b[0m \u001b[0m_read\u001b[0m\u001b[0;34m(\u001b[0m\u001b[0mfilepath_or_buffer\u001b[0m\u001b[0;34m,\u001b[0m \u001b[0mkwds\u001b[0m\u001b[0;34m)\u001b[0m\u001b[0;34m\u001b[0m\u001b[0;34m\u001b[0m\u001b[0m\n\u001b[0m\u001b[1;32m    587\u001b[0m \u001b[0;34m\u001b[0m\u001b[0m\n\u001b[1;32m    588\u001b[0m \u001b[0;34m\u001b[0m\u001b[0m\n",
      "\u001b[0;32m~/anaconda3/envs/python37/lib/python3.7/site-packages/pandas/io/parsers/readers.py\u001b[0m in \u001b[0;36m_read\u001b[0;34m(filepath_or_buffer, kwds)\u001b[0m\n\u001b[1;32m    480\u001b[0m \u001b[0;34m\u001b[0m\u001b[0m\n\u001b[1;32m    481\u001b[0m     \u001b[0;31m# Create the parser.\u001b[0m\u001b[0;34m\u001b[0m\u001b[0;34m\u001b[0m\u001b[0;34m\u001b[0m\u001b[0m\n\u001b[0;32m--> 482\u001b[0;31m     \u001b[0mparser\u001b[0m \u001b[0;34m=\u001b[0m \u001b[0mTextFileReader\u001b[0m\u001b[0;34m(\u001b[0m\u001b[0mfilepath_or_buffer\u001b[0m\u001b[0;34m,\u001b[0m \u001b[0;34m**\u001b[0m\u001b[0mkwds\u001b[0m\u001b[0;34m)\u001b[0m\u001b[0;34m\u001b[0m\u001b[0;34m\u001b[0m\u001b[0m\n\u001b[0m\u001b[1;32m    483\u001b[0m \u001b[0;34m\u001b[0m\u001b[0m\n\u001b[1;32m    484\u001b[0m     \u001b[0;32mif\u001b[0m \u001b[0mchunksize\u001b[0m \u001b[0;32mor\u001b[0m \u001b[0miterator\u001b[0m\u001b[0;34m:\u001b[0m\u001b[0;34m\u001b[0m\u001b[0;34m\u001b[0m\u001b[0m\n",
      "\u001b[0;32m~/anaconda3/envs/python37/lib/python3.7/site-packages/pandas/io/parsers/readers.py\u001b[0m in \u001b[0;36m__init__\u001b[0;34m(self, f, engine, **kwds)\u001b[0m\n\u001b[1;32m    809\u001b[0m             \u001b[0mself\u001b[0m\u001b[0;34m.\u001b[0m\u001b[0moptions\u001b[0m\u001b[0;34m[\u001b[0m\u001b[0;34m\"has_index_names\"\u001b[0m\u001b[0;34m]\u001b[0m \u001b[0;34m=\u001b[0m \u001b[0mkwds\u001b[0m\u001b[0;34m[\u001b[0m\u001b[0;34m\"has_index_names\"\u001b[0m\u001b[0;34m]\u001b[0m\u001b[0;34m\u001b[0m\u001b[0;34m\u001b[0m\u001b[0m\n\u001b[1;32m    810\u001b[0m \u001b[0;34m\u001b[0m\u001b[0m\n\u001b[0;32m--> 811\u001b[0;31m         \u001b[0mself\u001b[0m\u001b[0;34m.\u001b[0m\u001b[0m_engine\u001b[0m \u001b[0;34m=\u001b[0m \u001b[0mself\u001b[0m\u001b[0;34m.\u001b[0m\u001b[0m_make_engine\u001b[0m\u001b[0;34m(\u001b[0m\u001b[0mself\u001b[0m\u001b[0;34m.\u001b[0m\u001b[0mengine\u001b[0m\u001b[0;34m)\u001b[0m\u001b[0;34m\u001b[0m\u001b[0;34m\u001b[0m\u001b[0m\n\u001b[0m\u001b[1;32m    812\u001b[0m \u001b[0;34m\u001b[0m\u001b[0m\n\u001b[1;32m    813\u001b[0m     \u001b[0;32mdef\u001b[0m \u001b[0mclose\u001b[0m\u001b[0;34m(\u001b[0m\u001b[0mself\u001b[0m\u001b[0;34m)\u001b[0m\u001b[0;34m:\u001b[0m\u001b[0;34m\u001b[0m\u001b[0;34m\u001b[0m\u001b[0m\n",
      "\u001b[0;32m~/anaconda3/envs/python37/lib/python3.7/site-packages/pandas/io/parsers/readers.py\u001b[0m in \u001b[0;36m_make_engine\u001b[0;34m(self, engine)\u001b[0m\n\u001b[1;32m   1038\u001b[0m             )\n\u001b[1;32m   1039\u001b[0m         \u001b[0;31m# error: Too many arguments for \"ParserBase\"\u001b[0m\u001b[0;34m\u001b[0m\u001b[0;34m\u001b[0m\u001b[0;34m\u001b[0m\u001b[0m\n\u001b[0;32m-> 1040\u001b[0;31m         \u001b[0;32mreturn\u001b[0m \u001b[0mmapping\u001b[0m\u001b[0;34m[\u001b[0m\u001b[0mengine\u001b[0m\u001b[0;34m]\u001b[0m\u001b[0;34m(\u001b[0m\u001b[0mself\u001b[0m\u001b[0;34m.\u001b[0m\u001b[0mf\u001b[0m\u001b[0;34m,\u001b[0m \u001b[0;34m**\u001b[0m\u001b[0mself\u001b[0m\u001b[0;34m.\u001b[0m\u001b[0moptions\u001b[0m\u001b[0;34m)\u001b[0m  \u001b[0;31m# type: ignore[call-arg]\u001b[0m\u001b[0;34m\u001b[0m\u001b[0;34m\u001b[0m\u001b[0m\n\u001b[0m\u001b[1;32m   1041\u001b[0m \u001b[0;34m\u001b[0m\u001b[0m\n\u001b[1;32m   1042\u001b[0m     \u001b[0;32mdef\u001b[0m \u001b[0m_failover_to_python\u001b[0m\u001b[0;34m(\u001b[0m\u001b[0mself\u001b[0m\u001b[0;34m)\u001b[0m\u001b[0;34m:\u001b[0m\u001b[0;34m\u001b[0m\u001b[0;34m\u001b[0m\u001b[0m\n",
      "\u001b[0;32m~/anaconda3/envs/python37/lib/python3.7/site-packages/pandas/io/parsers/c_parser_wrapper.py\u001b[0m in \u001b[0;36m__init__\u001b[0;34m(self, src, **kwds)\u001b[0m\n\u001b[1;32m     49\u001b[0m \u001b[0;34m\u001b[0m\u001b[0m\n\u001b[1;32m     50\u001b[0m         \u001b[0;31m# open handles\u001b[0m\u001b[0;34m\u001b[0m\u001b[0;34m\u001b[0m\u001b[0;34m\u001b[0m\u001b[0m\n\u001b[0;32m---> 51\u001b[0;31m         \u001b[0mself\u001b[0m\u001b[0;34m.\u001b[0m\u001b[0m_open_handles\u001b[0m\u001b[0;34m(\u001b[0m\u001b[0msrc\u001b[0m\u001b[0;34m,\u001b[0m \u001b[0mkwds\u001b[0m\u001b[0;34m)\u001b[0m\u001b[0;34m\u001b[0m\u001b[0;34m\u001b[0m\u001b[0m\n\u001b[0m\u001b[1;32m     52\u001b[0m         \u001b[0;32massert\u001b[0m \u001b[0mself\u001b[0m\u001b[0;34m.\u001b[0m\u001b[0mhandles\u001b[0m \u001b[0;32mis\u001b[0m \u001b[0;32mnot\u001b[0m \u001b[0;32mNone\u001b[0m\u001b[0;34m\u001b[0m\u001b[0;34m\u001b[0m\u001b[0m\n\u001b[1;32m     53\u001b[0m \u001b[0;34m\u001b[0m\u001b[0m\n",
      "\u001b[0;32m~/anaconda3/envs/python37/lib/python3.7/site-packages/pandas/io/parsers/base_parser.py\u001b[0m in \u001b[0;36m_open_handles\u001b[0;34m(self, src, kwds)\u001b[0m\n\u001b[1;32m    227\u001b[0m             \u001b[0mmemory_map\u001b[0m\u001b[0;34m=\u001b[0m\u001b[0mkwds\u001b[0m\u001b[0;34m.\u001b[0m\u001b[0mget\u001b[0m\u001b[0;34m(\u001b[0m\u001b[0;34m\"memory_map\"\u001b[0m\u001b[0;34m,\u001b[0m \u001b[0;32mFalse\u001b[0m\u001b[0;34m)\u001b[0m\u001b[0;34m,\u001b[0m\u001b[0;34m\u001b[0m\u001b[0;34m\u001b[0m\u001b[0m\n\u001b[1;32m    228\u001b[0m             \u001b[0mstorage_options\u001b[0m\u001b[0;34m=\u001b[0m\u001b[0mkwds\u001b[0m\u001b[0;34m.\u001b[0m\u001b[0mget\u001b[0m\u001b[0;34m(\u001b[0m\u001b[0;34m\"storage_options\"\u001b[0m\u001b[0;34m,\u001b[0m \u001b[0;32mNone\u001b[0m\u001b[0;34m)\u001b[0m\u001b[0;34m,\u001b[0m\u001b[0;34m\u001b[0m\u001b[0;34m\u001b[0m\u001b[0m\n\u001b[0;32m--> 229\u001b[0;31m             \u001b[0merrors\u001b[0m\u001b[0;34m=\u001b[0m\u001b[0mkwds\u001b[0m\u001b[0;34m.\u001b[0m\u001b[0mget\u001b[0m\u001b[0;34m(\u001b[0m\u001b[0;34m\"encoding_errors\"\u001b[0m\u001b[0;34m,\u001b[0m \u001b[0;34m\"strict\"\u001b[0m\u001b[0;34m)\u001b[0m\u001b[0;34m,\u001b[0m\u001b[0;34m\u001b[0m\u001b[0;34m\u001b[0m\u001b[0m\n\u001b[0m\u001b[1;32m    230\u001b[0m         )\n\u001b[1;32m    231\u001b[0m \u001b[0;34m\u001b[0m\u001b[0m\n",
      "\u001b[0;32m~/anaconda3/envs/python37/lib/python3.7/site-packages/pandas/io/common.py\u001b[0m in \u001b[0;36mget_handle\u001b[0;34m(path_or_buf, mode, encoding, compression, memory_map, is_text, errors, storage_options)\u001b[0m\n\u001b[1;32m    705\u001b[0m                 \u001b[0mencoding\u001b[0m\u001b[0;34m=\u001b[0m\u001b[0mioargs\u001b[0m\u001b[0;34m.\u001b[0m\u001b[0mencoding\u001b[0m\u001b[0;34m,\u001b[0m\u001b[0;34m\u001b[0m\u001b[0;34m\u001b[0m\u001b[0m\n\u001b[1;32m    706\u001b[0m                 \u001b[0merrors\u001b[0m\u001b[0;34m=\u001b[0m\u001b[0merrors\u001b[0m\u001b[0;34m,\u001b[0m\u001b[0;34m\u001b[0m\u001b[0;34m\u001b[0m\u001b[0m\n\u001b[0;32m--> 707\u001b[0;31m                 \u001b[0mnewline\u001b[0m\u001b[0;34m=\u001b[0m\u001b[0;34m\"\"\u001b[0m\u001b[0;34m,\u001b[0m\u001b[0;34m\u001b[0m\u001b[0;34m\u001b[0m\u001b[0m\n\u001b[0m\u001b[1;32m    708\u001b[0m             )\n\u001b[1;32m    709\u001b[0m         \u001b[0;32melse\u001b[0m\u001b[0;34m:\u001b[0m\u001b[0;34m\u001b[0m\u001b[0;34m\u001b[0m\u001b[0m\n",
      "\u001b[0;31mFileNotFoundError\u001b[0m: [Errno 2] No such file or directory: 'results-mondkapje.csv'"
     ]
    }
   ],
   "source": [
    "df = pd.read_csv(RESULTSFILE,index_col=\"source\").T\n",
    "totalsIncludingIrrelevant = {source:0 for source in [TWITTER,REDDIT,NUNL]}\n",
    "for i in range(0,len(df)):\n",
    "    for source in [TWITTER,REDDIT,NUNL]:\n",
    "        try:\n",
    "            dictionary = ast.literal_eval(df.iloc[i][source])\n",
    "        except:\n",
    "            dictionary = {TOTAL:0}\n",
    "        if dictionary[TOTAL] > 0:\n",
    "            totalsIncludingIrrelevant[source] += round((1+dictionary[IRRELEVANT]/100)*dictionary[TOTAL])\n",
    "totalsIncludingIrrelevant"
   ]
  },
  {
   "cell_type": "markdown",
   "metadata": {},
   "source": [
    "## Visualization over time"
   ]
  },
  {
   "cell_type": "code",
   "execution_count": 34,
   "metadata": {},
   "outputs": [],
   "source": [
    "import datetime\n",
    "import matplotlib\n",
    "import matplotlib.pyplot as plt\n",
    "import matplotlib.dates as mdates\n",
    "from pandas.plotting import register_matplotlib_converters\n",
    "register_matplotlib_converters()"
   ]
  },
  {
   "cell_type": "code",
   "execution_count": 35,
   "metadata": {},
   "outputs": [],
   "source": [
    "def movingAverage(numberList,size):\n",
    "    newList = []\n",
    "    start_offset = int(size/2)\n",
    "    for i in range(0,len(numberList)):\n",
    "        newList.append(numberList[i])\n",
    "        numbersUsed = 1\n",
    "        for j in range(-start_offset,size-start_offset):\n",
    "            if i+j >= 0 and i+j < len(numberList) and i+j != i:\n",
    "                newList[i] += numberList[i+j]\n",
    "                numbersUsed += 1\n",
    "        newList[i] /= numbersUsed\n",
    "    return(newList)"
   ]
  },
  {
   "cell_type": "code",
   "execution_count": 36,
   "metadata": {},
   "outputs": [],
   "source": [
    "def pretty_number(number):\n",
    "    digits = str(number)\n",
    "    pretty_digits = \"\"\n",
    "    for i in range(0,len(digits)):\n",
    "        if i > 0 and i % 3 == 0: pretty_digits = \",\"+pretty_digits\n",
    "        pretty_digits = digits[-1-i]+pretty_digits\n",
    "    return(pretty_digits)"
   ]
  },
  {
   "cell_type": "code",
   "execution_count": 41,
   "metadata": {},
   "outputs": [
    {
     "data": {
      "image/png": "[encoded data removed]",
      "text/plain": [
       "<Figure size 864x432 with 1 Axes>"
      ]
     },
     "metadata": {
      "needs_background": "light"
     },
     "output_type": "display_data"
    }
   ],
   "source": [
    "DATEFORMAT = \"%Y%m%d\"\n",
    "DAYSCOMBINED = 30\n",
    "EXTRASMOOTHDAYS = 7\n",
    "STARTDATE = \"20200310\"\n",
    "LABELS = {TWITTER: f\"Twitter ({pretty_number(totals[TWITTER])})\",\\\n",
    "          NUNL: f\"Nu.nl ({pretty_number(totals[NUNL])})\",\\\n",
    "          REDDIT: f\"Reddit ({pretty_number(totals[REDDIT])})\"}\n",
    "if TOPIC == DISTANCE:\n",
    "    PLOTFILENAME = \"social-distancing-all.png\"\n",
    "elif TOPIC == FACEMASK:\n",
    "    PLOTFILENAME = \"mondkapje-all.png\"\n",
    "else:\n",
    "    print(\"unknown topic!\",file=sys.stderr)\n",
    "    sys.exit(1)\n",
    "\n",
    "x = {}\n",
    "ySupports = {}\n",
    "plt.subplots(figsize=(12,6))\n",
    "font = {\"size\":16}\n",
    "matplotlib.rc(\"font\",**font)\n",
    "ax = plt.subplot(111)\n",
    "for source in [REDDIT,NUNL,TWITTER]:\n",
    "    x[source] = [datetime.datetime.strptime(k,DATEFORMAT) for k in results[source].keys()]\n",
    "    ySupports[source] = movingAverage(movingAverage([results[source][k][SUPPORTS] for k in results[source].keys()],DAYSCOMBINED),EXTRASMOOTHDAYS)\n",
    "    xPart = [x[source][i] for i in range(0,len(x[source])) if x[source][i] >= datetime.datetime.strptime(STARTDATE,DATEFORMAT)] \n",
    "    ySupportsPart = [ySupports[source][i] for i in range(0,len(x[source])) if x[source][i] >= datetime.datetime.strptime(STARTDATE,DATEFORMAT)] \n",
    "    plt.plot_date(xPart,ySupportsPart,fmt=\"-\",label=LABELS[source])\n",
    "plt.legend(framealpha=0.3,loc=\"lower right\")\n",
    "plt.ylabel(\"percentage\")\n",
    "plt.xlabel(\"day/month\")\n",
    "if TOPIC == FACEMASK:\n",
    "    plt.title(\"Support for general public not wearing face masks per medium over time\")\n",
    "elif TOPIC == DISTANCE:\n",
    "    plt.title(\"Support for social distancing per medium over time (average over \"+str(DAYSCOMBINED)+\" days)\")\n",
    "else:\n",
    "    print(\"unknown topic!\",file=sys.stderr)\n",
    "    sys.exit(1)    \n",
    "ax.xaxis.set_major_formatter(mdates.DateFormatter(\"%-d/%-m\"))\n",
    "plt.savefig(PLOTFILENAME)\n",
    "plt.show()"
   ]
  },
  {
   "cell_type": "markdown",
   "metadata": {},
   "source": [
    "## Do not run any further code"
   ]
  },
  {
   "cell_type": "code",
   "execution_count": null,
   "metadata": {},
   "outputs": [],
   "source": [
    "ANNOTATED = \"annotated\"\n",
    "ANNOTATEDFILE = \"manual-annotation.csv\"\n",
    "DATE = \"date\"\n",
    "EENS = \"EENS\"\n",
    "ONEENS = \"ONEENS\"\n",
    "ANDERS = \"ANDERS\"\n",
    "TOTAL = \"total\""
   ]
  },
  {
   "cell_type": "code",
   "execution_count": null,
   "metadata": {},
   "outputs": [],
   "source": [
    "df = pd.read_csv(ANNOTATEDFILE,index_col=DATE,dtype={EENS:\"float\",ONEENS:\"float\",ANDERS:\"float\"})\n",
    "totals = []\n",
    "for i in range(0,len(df)):\n",
    "    total = df.iloc[i][EENS]+df.iloc[i][ONEENS]+df.iloc[i][ANDERS]\n",
    "    if df.iloc[i][EENS]+df.iloc[i][ONEENS] > 0:\n",
    "        df.iloc[i][EENS] = 100*df.iloc[i][EENS]/(total-df.iloc[i][ANDERS])\n",
    "        df.iloc[i][ONEENS] = 100*df.iloc[i][ONEENS]/(total-df.iloc[i][ANDERS])\n",
    "        df.iloc[i][ANDERS] = 100*df.iloc[i][ANDERS]/(total-df.iloc[i][ANDERS])\n",
    "    else: \n",
    "        df.iloc[i][ANDERS] = 100\n",
    "    totals.append(total)\n",
    "df[TOTAL] = totals\n",
    "annotatedDict = df.T.to_dict(orient=\"dict\")\n",
    "annotatedDict = {d:annotatedDict[d] for d in sorted(annotatedDict.keys())}\n",
    "results[ANNOTATED] = annotatedDict"
   ]
  },
  {
   "cell_type": "code",
   "execution_count": null,
   "metadata": {},
   "outputs": [],
   "source": [
    "PLOTFILEANNOTATED = \"manual-annotation.png\"\n",
    "\n",
    "x = {}\n",
    "ySupports = {}\n",
    "plt.subplots(figsize=(12,6))\n",
    "font = {\"size\":12}\n",
    "matplotlib.rc(\"font\",**font)\n",
    "ax = plt.subplot(111)\n",
    "for source in [TWITTER]:\n",
    "    x[source] = [datetime.datetime.strptime(k,DATEFORMAT) for k in results[source].keys()]\n",
    "    ySupports[source] = movingAverage([results[source][k][SUPPORTS] for k in results[source].keys()],DAYSCOMBINED)\n",
    "    xPart = [x[source][i] for i in range(0,len(x[source])) if x[source][i] >= datetime.datetime.strptime(STARTDATE,DATEFORMAT)] \n",
    "    ySupportsPart = [ySupports[source][i] for i in range(0,len(x[source])) if x[source][i] >= datetime.datetime.strptime(STARTDATE,DATEFORMAT)] \n",
    "    plt.plot_date(xPart,ySupportsPart,fmt=\"-\",label=\"predicted\")\n",
    "for source in [ANNOTATED]:\n",
    "    x[source] = [datetime.datetime.strptime(str(k),DATEFORMAT) for k in results[source].keys()]\n",
    "    ySupports[source] = movingAverage([results[source][k][EENS] for k in results[source].keys()],DAYSCOMBINED)\n",
    "    xPart = [x[source][i] for i in range(0,len(x[source])) if x[source][i] >= datetime.datetime.strptime(STARTDATE,DATEFORMAT)] \n",
    "    ySupportsPart = [ySupports[source][i] for i in range(0,len(x[source])) if x[source][i] >= datetime.datetime.strptime(STARTDATE,DATEFORMAT)] \n",
    "    plt.plot_date(xPart,ySupportsPart,fmt=\"-\",label=ANNOTATED)\n",
    "plt.title(\"Support for social distancing per medium over time (average over \"+str(DAYSCOMBINED)+\" days)\")\n",
    "plt.legend()\n",
    "plt.savefig(PLOTFILEANNOTATED)\n",
    "plt.show()"
   ]
  },
  {
   "cell_type": "code",
   "execution_count": null,
   "metadata": {},
   "outputs": [],
   "source": [
    "annotatedValues = []\n",
    "twitterValues = []\n",
    "\n",
    "for i in range(0,len(x[TWITTER])):\n",
    "    date = x[TWITTER][i]\n",
    "    if date >= datetime.datetime.strptime(\"20200310\",DATEFORMAT):\n",
    "        for j in range(0,len(x[ANNOTATED])):\n",
    "            if x[ANNOTATED][j] == date:\n",
    "                twitterValues.append(ySupports[TWITTER][i])\n",
    "                annotatedValues.append(ySupports[ANNOTATED][j])\n",
    "np.corrcoef(annotatedValues,twitterValues)[1][0]"
   ]
  },
  {
   "cell_type": "code",
   "execution_count": null,
   "metadata": {},
   "outputs": [],
   "source": [
    "PLOTFILENAME = \"plot.png\"\n",
    "\n",
    "plt.figure()\n",
    "plt.scatter(annotatedValues,twitterValues)\n",
    "plt.ylabel(\"Predicted support percentages\")\n",
    "plt.xlabel(\"Annotated support percentages\")\n",
    "plt.title(\"Annotated and predicted support for social distancing\")\n",
    "plt.savefig(PLOTFILENAME)\n",
    "plt.show()"
   ]
  },
  {
   "cell_type": "code",
   "execution_count": null,
   "metadata": {},
   "outputs": [],
   "source": [
    "allResults = results\n",
    "results = results[TWITTER]\n",
    "\n",
    "x = [datetime.datetime.strptime(k,DATEFORMAT) for k in results.keys()]\n",
    "ySupports = movingAverage([results[k][SUPPORTS] for k in results.keys()],DAYSCOMBINED)\n",
    "yRejects = movingAverage([results[k][REJECTS] for k in results.keys()],DAYSCOMBINED)\n",
    "yIrrelevant = movingAverage([results[k][IRRELEVANT] for k in results.keys()],DAYSCOMBINED)\n",
    "\n",
    "keyDates = []\n",
    "for i in range(0,len(yIrrelevant)):\n",
    "    if i < len(yIrrelevant)-1 and \\\n",
    "       (yIrrelevant[i] < 100 and yIrrelevant[i+1] >= 100 or yIrrelevant[i] >= 100 and yIrrelevant[i+1] < 100):\n",
    "        keyDates.append(list(results.keys())[i])\n",
    "        print(keyDates[-1])"
   ]
  },
  {
   "cell_type": "code",
   "execution_count": null,
   "metadata": {},
   "outputs": [],
   "source": [
    "STARTDATE = \"20200310\" # keyDates[0]\n",
    "ENDDATE = \"20201231\"\n",
    "\n",
    "results = {k:results[k] for k in sorted(results.keys())}\n",
    "font = {\"size\":14}\n",
    "matplotlib.rc(\"font\",**font)\n",
    "plt.subplots(figsize=(14,7))\n",
    "\n",
    "ax1 = plt.subplot(111)\n",
    "plt.plot_date(x,ySupports,fmt=\"-\",label=\"Supports\")\n",
    "plt.plot_date(x,yRejects,fmt=\"-\",label=\"Rejects\")\n",
    "plt.plot_date(x,yIrrelevant,fmt=\"-\",label=\"Other\")\n",
    "plt.plot_date(x,[100 for i in x],fmt=\"-\",label=\"100%\",color=\"black\")\n",
    "for date in [STARTDATE]:\n",
    "    plt.plot_date([datetime.datetime.strptime(date,DATEFORMAT)],[100],color=\"black\")\n",
    "plt.legend()\n",
    "plt.ylabel(\"percentage\")\n",
    "plt.xlabel(\"day/month\")\n",
    "plt.title(\"stance on the RIVM policy on \"+\"social\")\n",
    "plt.show()"
   ]
  },
  {
   "cell_type": "code",
   "execution_count": null,
   "metadata": {},
   "outputs": [],
   "source": [
    "PLOTFILEOUT = \"social-distancing.png\"\n",
    "#PLOTFILEOUT = \"mondkapje.png\"\n",
    "\n",
    "plt.subplots(figsize=(14,7))\n",
    "\n",
    "dates = [d for d in results.keys()]\n",
    "xPart = [x[i] for i in range(0,len(dates)) if dates[i] >= STARTDATE and dates[i] <= ENDDATE]\n",
    "ySupportsPart = [ySupports[i] for i in range(0,len(dates)) if dates[i] >= STARTDATE and dates[i] <= ENDDATE] \n",
    "yRejectsPart = [yRejects[i] for i in range(0,len(dates)) if dates[i] >= STARTDATE and dates[i] <= ENDDATE]\n",
    "ax1.xaxis.set_major_formatter(mdates.DateFormatter(\"%-d/%-m\"))\n",
    "\n",
    "ax2 = plt.subplot(111)\n",
    "plt.plot_date(xPart,ySupportsPart,fmt=\"-\",label=\"Supports\")\n",
    "plt.plot_date(xPart,yRejectsPart,fmt=\"-\",label=\"Rejects\")\n",
    "plt.legend()\n",
    "plt.ylabel(\"percentage\")\n",
    "plt.xlabel(\"day/month\")\n",
    "plt.title(\"Twitter stance on the RIVM policy on social distancing (average over \"+str(DAYSCOMBINED)+\" days)\")\n",
    "plt.xticks([datetime.datetime.strptime(d,DATEFORMAT) for d in \"20200301 2020401 20200501 20200601 20200701 20200801\".split()])\n",
    "ax2.xaxis.set_major_formatter(mdates.DateFormatter(\"%-d/%-m\"))\n",
    "\n",
    "plt.savefig(PLOTFILEOUT)\n",
    "plt.show()"
   ]
  },
  {
   "cell_type": "code",
   "execution_count": null,
   "metadata": {},
   "outputs": [],
   "source": [
    "counts = {}\n",
    "for text in fasttextData:\n",
    "    label = text.split()[0]\n",
    "    if label in counts: counts[label] += 1\n",
    "    else: counts[label] = 1\n",
    "for label in counts: print(round(counts[label]/len(fasttextData),3),label)"
   ]
  },
  {
   "cell_type": "markdown",
   "metadata": {},
   "source": [
    "## Annotator comparison"
   ]
  },
  {
   "cell_type": "code",
   "execution_count": null,
   "metadata": {},
   "outputs": [],
   "source": [
    "NBROFTESTDATA = 100\n",
    "\n",
    "annotators = []\n",
    "annotator_data = {}\n",
    "kappa_data = [{},{}]\n",
    "blocked_tweet_ids = {}\n",
    "tweet_labels = {}\n",
    "main_annotator = \"\"\n",
    "for row in annotations.iterrows():\n",
    "    annotator = row[1][0]\n",
    "    tweet_id = row[1][2]\n",
    "    tweet_label = row[1][4]\n",
    "    if main_annotator == \"\":\n",
    "        main_annotator = annotator\n",
    "    if tweet_label == \"NEUTRAL\":\n",
    "        tweet_label = \"ANDERS\"\n",
    "    if not annotator in annotator_data: \n",
    "        annotator_data[annotator] = {}\n",
    "        annotators.append(annotator)\n",
    "    annotator_data[annotator][tweet_id] = tweet_label\n",
    "    if len(annotator_data[annotator]) <= NBROFTESTDATA: \n",
    "        blocked_tweet_ids[tweet_id] = True\n",
    "    if tweet_id not in blocked_tweet_ids:\n",
    "        if tweet_id not in tweet_labels:\n",
    "            tweet_labels[tweet_id] = {}\n",
    "        tweet_labels[tweet_id][annotator] = tweet_label"
   ]
  },
  {
   "cell_type": "code",
   "execution_count": null,
   "metadata": {},
   "outputs": [],
   "source": [
    "results = []\n",
    "\n",
    "for annotator in annotator_data:\n",
    "    label_count = {}\n",
    "    for tweet_id in annotator_data[annotator]:\n",
    "        label = annotator_data[annotator][tweet_id]\n",
    "        if not label in label_count: \n",
    "            label_count[label] = 0\n",
    "        label_count[label] += 1\n",
    "    results.append({\"total\": len(annotator_data[annotator])})\n",
    "    for label in sorted(label_count):\n",
    "        results[-1][label] = round(label_count[label] / len(annotator_data[annotator]),3)\n",
    "pd.DataFrame(results)"
   ]
  },
  {
   "cell_type": "code",
   "execution_count": null,
   "metadata": {},
   "outputs": [],
   "source": [
    "len({id_str: tweet_labels[id_str] for id_str in tweet_labels if len(tweet_labels[id_str]) > 1 })"
   ]
  },
  {
   "cell_type": "code",
   "execution_count": null,
   "metadata": {},
   "outputs": [],
   "source": [
    "from sklearn.metrics import cohen_kappa_score\n",
    "\n",
    "kappa_data_0 = [ tweet_labels[id_str][annotators[0]] for id_str in sorted(tweet_labels.keys()) if len(tweet_labels[id_str]) > 1 ]\n",
    "kappa_data_1 = [ tweet_labels[id_str][annotators[1]] for id_str in sorted(tweet_labels.keys()) if len(tweet_labels[id_str]) > 1 ]\n",
    "cohen_kappa_score(kappa_data_0, kappa_data_1)"
   ]
  },
  {
   "cell_type": "code",
   "execution_count": null,
   "metadata": {},
   "outputs": [],
   "source": [
    "MAX = 100\n",
    "\n",
    "for annotator in annotators:\n",
    "    if not annotator == main_annotator:\n",
    "        total = 0\n",
    "        identical = 0\n",
    "        matrix = {}\n",
    "        for tweet_id in annotator_data[main_annotator]:\n",
    "            if tweet_id in annotatorData[annotator]:\n",
    "                label_annotator = annotator_data[annotator][tweet_id]\n",
    "                label_main_annotator = annotator_data[main_annotator][tweet_id]\n",
    "                if label_main_annotator not in matrix:\n",
    "                    matrix[label_main_annotator] = {}\n",
    "                if label_annotator not in matrix[label_main_annotator]:\n",
    "                    matrix[label_main_annotator][label_annotator] = 0\n",
    "                matrix[label_main_annotator][label_annotator] += 1\n",
    "        matrix = { label:matrix[label] for label in sorted(matrix.keys()) }\n",
    "        for label in matrix:\n",
    "            matrix[label] = { l:matrix[label][l] for l in sorted(matrix[label].keys()) }\n",
    "        print(pd.DataFrame(matrix))"
   ]
  },
  {
   "cell_type": "code",
   "execution_count": null,
   "metadata": {},
   "outputs": [],
   "source": []
  }
 ],
 "metadata": {
  "kernelspec": {
   "display_name": "python37",
   "language": "python",
   "name": "python37"
  },
  "language_info": {
   "codemirror_mode": {
    "name": "ipython",
    "version": 3
   },
   "file_extension": ".py",
   "mimetype": "text/x-python",
   "name": "python",
   "nbconvert_exporter": "python",
   "pygments_lexer": "ipython3",
   "version": "3.7.3"
  }
 },
 "nbformat": 4,
 "nbformat_minor": 4
}
