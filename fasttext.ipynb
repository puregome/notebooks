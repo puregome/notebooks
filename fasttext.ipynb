{
 "cells": [
  {
   "cell_type": "markdown",
   "metadata": {},
   "source": [
    "# Fasttext tweet classification"
   ]
  },
  {
   "cell_type": "markdown",
   "metadata": {},
   "source": [
    "## Data file creation"
   ]
  },
  {
   "cell_type": "code",
   "execution_count": 1,
   "metadata": {},
   "outputs": [],
   "source": [
    "import datetime\n",
    "import matplotlib.pyplot as plt\n",
    "import matplotlib.dates as mdates\n",
    "import numpy as np\n",
    "import os\n",
    "import pandas as pd\n",
    "import random\n",
    "import re\n",
    "from nltk.tokenize import TweetTokenizer\n",
    "from IPython.display import clear_output"
   ]
  },
  {
   "cell_type": "code",
   "execution_count": 2,
   "metadata": {},
   "outputs": [],
   "source": [
    "DATADIR = \"../data/\"\n",
    "TOPIC = \"distance\"\n",
    "FILETWEETS = TOPIC+\"-tweets.csv\"\n",
    "FILEANNOTATIONS = FILETWEETS+\".human-labels.txt\"\n",
    "FILEFASTTEXT = \"fasttext-\"+TOPIC+\".csv\"\n",
    "LABELPREFIX = \"__label__\"\n",
    "LARGEINT = 9999999999\n",
    "LABEL = \"label\"\n",
    "TEXT = \"text\"\n",
    "USER = \"user\"\n",
    "IDSTR = \"id_str\"\n",
    "ANNOTATOR = \"erikt@xs4all.nl\""
   ]
  },
  {
   "cell_type": "code",
   "execution_count": 3,
   "metadata": {},
   "outputs": [],
   "source": [
    "tweets = pd.read_csv(DATADIR+FILETWEETS,index_col=IDSTR)\n",
    "annotations = pd.read_csv(DATADIR+FILEANNOTATIONS,header=None,sep=\" \")"
   ]
  },
  {
   "cell_type": "code",
   "execution_count": 4,
   "metadata": {},
   "outputs": [],
   "source": [
    "fasttextData = {}\n",
    "for i in range(0,len(annotations)):\n",
    "    annotator = annotations.iloc[i][0]\n",
    "    tweetId = annotations.iloc[i][2]\n",
    "    tweetLabel = annotations.iloc[i][4]\n",
    "    if annotator == ANNOTATOR and tweetId in list(tweets.index):\n",
    "        tweetLabel = annotations.iloc[i][4]\n",
    "        tweetUser = tweets.loc[tweetId][1]\n",
    "        fasttextData[tweetId] = {LABEL:LABELPREFIX+tweetLabel,\\\n",
    "                                 USER:tweetUser,\\\n",
    "                                 TEXT:\" \".join(TweetTokenizer().tokenize(tweets.loc[tweetId][TEXT]))}"
   ]
  },
  {
   "cell_type": "code",
   "execution_count": 5,
   "metadata": {},
   "outputs": [],
   "source": [
    "outFile = open(FILEFASTTEXT,\"w\")\n",
    "seenTexts = {}\n",
    "for tweetId in fasttextData:\n",
    "    if not fasttextData[tweetId][TEXT] in seenTexts:\n",
    "        print(fasttextData[tweetId][LABEL],fasttextData[tweetId][TEXT],file=outFile)\n",
    "        seenTexts[fasttextData[tweetId][TEXT]] = True\n",
    "outFile.close()"
   ]
  },
  {
   "cell_type": "code",
   "execution_count": 6,
   "metadata": {},
   "outputs": [
    {
     "name": "stdout",
     "output_type": "stream",
     "text": [
      "tweets annotated per minute: 5.3 ; 1000 tweets take: 190 minutes\n"
     ]
    }
   ],
   "source": [
    "nbrOfAnnotationMinutes = len(set([str(x)[:12] for x in annotations[1]]))\n",
    "nbrOfAnnotatedTweets = len(set([str(x)[:12] for x in annotations[2]]))\n",
    "print(\"tweets annotated per minute:\",round(nbrOfAnnotatedTweets/nbrOfAnnotationMinutes,1),\"; 1000 tweets take:\",round(1000/(nbrOfAnnotatedTweets/nbrOfAnnotationMinutes)),\"minutes\")"
   ]
  },
  {
   "cell_type": "markdown",
   "metadata": {},
   "source": [
    "## Fasttext run and evaluation"
   ]
  },
  {
   "cell_type": "code",
   "execution_count": 8,
   "metadata": {},
   "outputs": [],
   "source": [
    "import fasttext\n",
    "import random\n",
    "from IPython.display import clear_output"
   ]
  },
  {
   "cell_type": "code",
   "execution_count": 9,
   "metadata": {},
   "outputs": [],
   "source": [
    "PRETRAINEDDIR = \"/home/erikt/projects/newsgac/fasttext-runs/\"\n",
    "WIKIFILENAME = \"wiki.nl.vec\""
   ]
  },
  {
   "cell_type": "code",
   "execution_count": 10,
   "metadata": {},
   "outputs": [],
   "source": [
    "def print_results(N, p, r):\n",
    "    print(\"N\\t\" + str(N))\n",
    "    print(\"P@{}\\t{:.3f}\".format(1, p))\n",
    "    print(\"R@{}\\t{:.3f}\".format(1, r))"
   ]
  },
  {
   "cell_type": "code",
   "execution_count": 21,
   "metadata": {},
   "outputs": [
    {
     "data": {
      "text/plain": [
       "2080"
      ]
     },
     "execution_count": 21,
     "metadata": {},
     "output_type": "execute_result"
    }
   ],
   "source": [
    "fasttextData = []\n",
    "inFile = open(FILEFASTTEXT,\"r\")\n",
    "for line in inFile: fasttextData.append(line.strip())\n",
    "inFile.close()\n",
    "len(fasttextData)"
   ]
  },
  {
   "cell_type": "code",
   "execution_count": 12,
   "metadata": {},
   "outputs": [],
   "source": [
    "DIM = 100\n",
    "EPOCH = 100\n",
    "LR = 0.05\n",
    "N = 10\n",
    "TRAIN = \"TRAIN\"+str(int(random.random()*LARGEINT))\n",
    "TEST = \"TEST\"+str(int(random.random()*LARGEINT))"
   ]
  },
  {
   "cell_type": "code",
   "execution_count": 13,
   "metadata": {},
   "outputs": [],
   "source": [
    "def runFasttext(fasttextData,dim=DIM,epoch=EPOCH,lr=LR,n=N,squealFlag=True):\n",
    "    predictionCounts = []\n",
    "    predictionLabels = []\n",
    "    for fold in range(0,n):\n",
    "        if squealFlag:\n",
    "            clear_output(wait=True)\n",
    "            print(\"starting fold\",fold)\n",
    "        testStart = round(fold*len(fasttextData)/n)\n",
    "        testEnd = round((fold+1)*len(fasttextData)/n)\n",
    "        trainFile = open(TRAIN,\"w\")\n",
    "        testFile = open(TEST,\"w\")\n",
    "        testData = []\n",
    "        for i in range(0,len(fasttextData)):\n",
    "            data = fasttextData[i]\n",
    "            if i < testStart or i >= testEnd: \n",
    "                print(data,file=trainFile)\n",
    "            else: \n",
    "                print(data,file=testFile)\n",
    "                testData.append(data)\n",
    "        testFile.close()\n",
    "        trainFile.close()\n",
    "        model = fasttext.train_supervised(TRAIN,dim=dim,epoch=epoch,lr=lr)\n",
    "        predictionCounts.append([*model.test(TEST)])\n",
    "        predictionLabels.append(model.predict(testData))\n",
    "        os.unlink(TRAIN)\n",
    "        os.unlink(TEST)\n",
    "    if squealFlag:\n",
    "        clear_output(wait=True)\n",
    "        print(\"finished\")\n",
    "    return(predictionCounts,predictionLabels)"
   ]
  },
  {
   "cell_type": "code",
   "execution_count": 14,
   "metadata": {},
   "outputs": [],
   "source": [
    "def evaluate(predictionCounts,printResults=True):\n",
    "    caseTotal = 0\n",
    "    pTotal = 0\n",
    "    rTotal = 0\n",
    "    for i in range(0,len(predictionCounts)):\n",
    "        caseTotal += predictionCounts[i][0]\n",
    "        pTotal += predictionCounts[i][0]*predictionCounts[i][1]\n",
    "        rTotal += predictionCounts[i][0]*predictionCounts[i][2]\n",
    "    precision = round(pTotal/caseTotal,3)\n",
    "    recall = round(rTotal/caseTotal,3)\n",
    "    if printResults: print(\"cases: {0}; precision: {1}; recall: {2}\".format(caseTotal,precision,recall))\n",
    "    return(precision)"
   ]
  },
  {
   "cell_type": "markdown",
   "metadata": {},
   "source": [
    "## Grid search"
   ]
  },
  {
   "cell_type": "code",
   "execution_count": 15,
   "metadata": {},
   "outputs": [
    {
     "name": "stdout",
     "output_type": "stream",
     "text": [
      "10 10 0.05 cases: 2079; precision: 0.595; recall: 0.595\n",
      "10 10 0.1 cases: 2079; precision: 0.606; recall: 0.606\n",
      "10 10 0.2 cases: 2079; precision: 0.646; recall: 0.646\n",
      "10 20 0.05 cases: 2079; precision: 0.608; recall: 0.608\n",
      "10 20 0.1 cases: 2079; precision: 0.649; recall: 0.649\n",
      "10 20 0.2 cases: 2079; precision: 0.655; recall: 0.655\n",
      "10 50 0.05 cases: 2079; precision: 0.656; recall: 0.656\n",
      "10 50 0.1 cases: 2079; precision: 0.646; recall: 0.646\n",
      "10 50 0.2 cases: 2079; precision: 0.648; recall: 0.648\n",
      "10 100 0.05 cases: 2079; precision: 0.647; recall: 0.647\n",
      "10 100 0.1 cases: 2079; precision: 0.646; recall: 0.646\n",
      "10 100 0.2 cases: 2079; precision: 0.647; recall: 0.647\n",
      "10 200 0.05 cases: 2079; precision: 0.644; recall: 0.644\n",
      "10 200 0.1 cases: 2079; precision: 0.647; recall: 0.647\n",
      "10 200 0.2 cases: 2079; precision: 0.645; recall: 0.645\n",
      "10 300 0.05 cases: 2079; precision: 0.646; recall: 0.646\n",
      "10 300 0.1 cases: 2079; precision: 0.647; recall: 0.647\n",
      "10 300 0.2 cases: 2079; precision: 0.644; recall: 0.644\n",
      "20 10 0.05 cases: 2079; precision: 0.595; recall: 0.595\n",
      "20 10 0.1 cases: 2079; precision: 0.609; recall: 0.609\n",
      "20 10 0.2 cases: 2079; precision: 0.644; recall: 0.644\n",
      "20 20 0.05 cases: 2079; precision: 0.601; recall: 0.601\n",
      "20 20 0.1 cases: 2079; precision: 0.646; recall: 0.646\n",
      "20 20 0.2 cases: 2079; precision: 0.653; recall: 0.653\n",
      "20 50 0.05 cases: 2079; precision: 0.65; recall: 0.65\n",
      "20 50 0.1 cases: 2079; precision: 0.651; recall: 0.651\n",
      "20 50 0.2 cases: 2079; precision: 0.647; recall: 0.647\n",
      "20 100 0.05 cases: 2079; precision: 0.649; recall: 0.649\n",
      "20 100 0.1 cases: 2079; precision: 0.646; recall: 0.646\n",
      "20 100 0.2 cases: 2079; precision: 0.645; recall: 0.645\n",
      "20 200 0.05 cases: 2079; precision: 0.646; recall: 0.646\n",
      "20 200 0.1 cases: 2079; precision: 0.645; recall: 0.645\n",
      "20 200 0.2 cases: 2079; precision: 0.646; recall: 0.646\n",
      "20 300 0.05 cases: 2079; precision: 0.646; recall: 0.646\n",
      "20 300 0.1 cases: 2079; precision: 0.644; recall: 0.644\n",
      "20 300 0.2 cases: 2079; precision: 0.643; recall: 0.643\n",
      "50 10 0.05 cases: 2079; precision: 0.595; recall: 0.595\n",
      "50 10 0.1 cases: 2079; precision: 0.605; recall: 0.605\n",
      "50 10 0.2 cases: 2079; precision: 0.631; recall: 0.631\n",
      "50 20 0.05 cases: 2079; precision: 0.601; recall: 0.601\n",
      "50 20 0.1 cases: 2079; precision: 0.642; recall: 0.642\n",
      "50 20 0.2 cases: 2079; precision: 0.656; recall: 0.656\n",
      "50 50 0.05 cases: 2079; precision: 0.653; recall: 0.653\n",
      "50 50 0.1 cases: 2079; precision: 0.651; recall: 0.651\n",
      "50 50 0.2 cases: 2079; precision: 0.646; recall: 0.646\n",
      "50 100 0.05 cases: 2079; precision: 0.652; recall: 0.652\n",
      "50 100 0.1 cases: 2079; precision: 0.646; recall: 0.646\n",
      "50 100 0.2 cases: 2079; precision: 0.645; recall: 0.645\n",
      "50 200 0.05 cases: 2079; precision: 0.646; recall: 0.646\n",
      "50 200 0.1 cases: 2079; precision: 0.643; recall: 0.643\n",
      "50 200 0.2 cases: 2079; precision: 0.643; recall: 0.643\n",
      "50 300 0.05 cases: 2079; precision: 0.645; recall: 0.645\n",
      "50 300 0.1 cases: 2079; precision: 0.643; recall: 0.643\n",
      "50 300 0.2 cases: 2079; precision: 0.641; recall: 0.641\n",
      "100 10 0.05 cases: 2079; precision: 0.595; recall: 0.595\n",
      "100 10 0.1 cases: 2079; precision: 0.603; recall: 0.603\n",
      "100 10 0.2 cases: 2079; precision: 0.635; recall: 0.635\n",
      "100 20 0.05 cases: 2079; precision: 0.598; recall: 0.598\n",
      "100 20 0.1 cases: 2079; precision: 0.637; recall: 0.637\n",
      "100 20 0.2 cases: 2079; precision: 0.658; recall: 0.658\n",
      "100 50 0.05 cases: 2079; precision: 0.655; recall: 0.655\n",
      "100 50 0.1 cases: 2079; precision: 0.652; recall: 0.652\n",
      "100 50 0.2 cases: 2079; precision: 0.646; recall: 0.646\n",
      "100 100 0.05 cases: 2079; precision: 0.652; recall: 0.652\n",
      "100 100 0.1 cases: 2079; precision: 0.649; recall: 0.649\n",
      "100 100 0.2 cases: 2079; precision: 0.646; recall: 0.646\n",
      "100 200 0.05 cases: 2079; precision: 0.648; recall: 0.648\n",
      "100 200 0.1 cases: 2079; precision: 0.645; recall: 0.645\n",
      "100 200 0.2 cases: 2079; precision: 0.645; recall: 0.645\n",
      "100 300 0.05 cases: 2079; precision: 0.646; recall: 0.646\n",
      "100 300 0.1 cases: 2079; precision: 0.644; recall: 0.644\n",
      "100 300 0.2 cases: 2079; precision: 0.642; recall: 0.642\n",
      "200 10 0.05 cases: 2079; precision: 0.595; recall: 0.595\n",
      "200 10 0.1 cases: 2079; precision: 0.603; recall: 0.603\n",
      "200 10 0.2 cases: 2079; precision: 0.632; recall: 0.632\n",
      "200 20 0.05 cases: 2079; precision: 0.604; recall: 0.604\n",
      "200 20 0.1 cases: 2079; precision: 0.635; recall: 0.635\n",
      "200 20 0.2 cases: 2079; precision: 0.657; recall: 0.657\n",
      "200 50 0.05 cases: 2079; precision: 0.655; recall: 0.655\n",
      "200 50 0.1 cases: 2079; precision: 0.652; recall: 0.652\n",
      "200 50 0.2 cases: 2079; precision: 0.646; recall: 0.646\n",
      "200 100 0.05 cases: 2079; precision: 0.653; recall: 0.653\n",
      "200 100 0.1 cases: 2079; precision: 0.649; recall: 0.649\n",
      "200 100 0.2 cases: 2079; precision: 0.645; recall: 0.645\n",
      "200 200 0.05 cases: 2079; precision: 0.646; recall: 0.646\n",
      "200 200 0.1 cases: 2079; precision: 0.644; recall: 0.644\n",
      "200 200 0.2 cases: 2079; precision: 0.646; recall: 0.646\n",
      "200 300 0.05 cases: 2079; precision: 0.645; recall: 0.645\n",
      "200 300 0.1 cases: 2079; precision: 0.643; recall: 0.643\n",
      "200 300 0.2 cases: 2079; precision: 0.643; recall: 0.643\n",
      "300 10 0.05 cases: 2079; precision: 0.595; recall: 0.595\n",
      "300 10 0.1 cases: 2079; precision: 0.601; recall: 0.601\n",
      "300 10 0.2 cases: 2079; precision: 0.629; recall: 0.629\n",
      "300 20 0.05 cases: 2079; precision: 0.603; recall: 0.603\n",
      "300 20 0.1 cases: 2079; precision: 0.637; recall: 0.637\n",
      "300 20 0.2 cases: 2079; precision: 0.654; recall: 0.654\n",
      "300 50 0.05 cases: 2079; precision: 0.653; recall: 0.653\n",
      "300 50 0.1 cases: 2079; precision: 0.653; recall: 0.653\n",
      "300 50 0.2 cases: 2079; precision: 0.646; recall: 0.646\n",
      "300 100 0.05 cases: 2079; precision: 0.654; recall: 0.654\n",
      "300 100 0.1 cases: 2079; precision: 0.647; recall: 0.647\n",
      "300 100 0.2 cases: 2079; precision: 0.648; recall: 0.648\n",
      "300 200 0.05 cases: 2079; precision: 0.647; recall: 0.647\n",
      "300 200 0.1 cases: 2079; precision: 0.645; recall: 0.645\n",
      "300 200 0.2 cases: 2079; precision: 0.644; recall: 0.644\n",
      "300 300 0.05 cases: 2079; precision: 0.646; recall: 0.646\n",
      "300 300 0.1 cases: 2079; precision: 0.642; recall: 0.642\n",
      "300 300 0.2 cases: 2079; precision: 0.643; recall: 0.643\n"
     ]
    }
   ],
   "source": [
    "scores = {}\n",
    "for dim in [10,20,50,100,200,300]:\n",
    "    for epoch in [10,20,50,100,200,300]:\n",
    "        for lr in [0.05,0.1,0.2]:\n",
    "            predictionCounts,predictionLabels = runFasttext(fasttextData,dim=dim,epoch=epoch,lr=lr,squealFlag=False)\n",
    "            print(dim,epoch,lr,end=\" \")\n",
    "            key = \" \".join([str(dim),str(epoch),str(lr)])\n",
    "            scores[key] = evaluate(predictionCounts)"
   ]
  },
  {
   "cell_type": "code",
   "execution_count": 16,
   "metadata": {},
   "outputs": [
    {
     "data": {
      "text/plain": [
       "[(0.658, '100 20 0.2'),\n",
       " (0.657, '200 20 0.2'),\n",
       " (0.656, '10 50 0.05'),\n",
       " (0.656, '50 20 0.2'),\n",
       " (0.655, '10 20 0.2'),\n",
       " (0.655, '100 50 0.05'),\n",
       " (0.655, '200 50 0.05'),\n",
       " (0.654, '300 20 0.2'),\n",
       " (0.654, '300 100 0.05'),\n",
       " (0.653, '20 20 0.2')]"
      ]
     },
     "execution_count": 16,
     "metadata": {},
     "output_type": "execute_result"
    }
   ],
   "source": [
    "[(scores[k],k) for k in sorted(scores.keys(),key=lambda k:scores[k],reverse=True)][0:10]"
   ]
  },
  {
   "cell_type": "markdown",
   "metadata": {},
   "source": [
    "## Run with best parameters"
   ]
  },
  {
   "cell_type": "code",
   "execution_count": 22,
   "metadata": {},
   "outputs": [
    {
     "name": "stdout",
     "output_type": "stream",
     "text": [
      "finished\n"
     ]
    }
   ],
   "source": [
    "BESTDIM = 100\n",
    "BESTEPOCH = 20\n",
    "BESTLR = 0.2\n",
    "\n",
    "predictionCounts,predictionLabels = runFasttext(fasttextData,dim=BESTDIM,epoch=BESTEPOCH,lr=BESTLR)"
   ]
  },
  {
   "cell_type": "code",
   "execution_count": 23,
   "metadata": {},
   "outputs": [
    {
     "name": "stdout",
     "output_type": "stream",
     "text": [
      "cases: 2080; precision: 0.657; recall: 0.657\n"
     ]
    },
    {
     "data": {
      "text/plain": [
       "0.657"
      ]
     },
     "execution_count": 23,
     "metadata": {},
     "output_type": "execute_result"
    }
   ],
   "source": [
    "evaluate(predictionCounts)"
   ]
  },
  {
   "cell_type": "code",
   "execution_count": 24,
   "metadata": {},
   "outputs": [
    {
     "data": {
      "text/plain": [
       "{'__label__REJECTS': 314,\n",
       " '__label__SUPPORTS': 1238,\n",
       " '__label__IRRELEVANT': 528}"
      ]
     },
     "execution_count": 24,
     "metadata": {},
     "output_type": "execute_result"
    }
   ],
   "source": [
    "labelCountsGold = {}\n",
    "for i in range(0,len(fasttextData)):\n",
    "    label = fasttextData[i].split()[0]\n",
    "    if label in labelCountsGold: labelCountsGold[label] += 1\n",
    "    else: labelCountsGold[label] = 1\n",
    "labelCountsGold"
   ]
  },
  {
   "cell_type": "code",
   "execution_count": 25,
   "metadata": {},
   "outputs": [
    {
     "name": "stdout",
     "output_type": "stream",
     "text": [
      "baseline accuracy: 0.595\n"
     ]
    }
   ],
   "source": [
    "print(\"baseline accuracy:\",round(max(labelCountsGold.values())/sum(labelCountsGold.values()),3))"
   ]
  },
  {
   "cell_type": "code",
   "execution_count": 26,
   "metadata": {},
   "outputs": [
    {
     "data": {
      "text/plain": [
       "{'__label__IRRELEVANT': 466,\n",
       " '__label__REJECTS': 228,\n",
       " '__label__SUPPORTS': 1386}"
      ]
     },
     "execution_count": 26,
     "metadata": {},
     "output_type": "execute_result"
    }
   ],
   "source": [
    "labelCountsPredicted = {}\n",
    "for i in range(0,len(predictionLabels)):\n",
    "    for label in predictionLabels[i][0]:\n",
    "        if label[0] in labelCountsPredicted: labelCountsPredicted[label[0]] += 1\n",
    "        else: labelCountsPredicted[label[0]] = 1\n",
    "labelCountsPredicted"
   ]
  },
  {
   "cell_type": "code",
   "execution_count": 27,
   "metadata": {},
   "outputs": [
    {
     "name": "stdout",
     "output_type": "stream",
     "text": [
      "total absolute deviation 296\n"
     ]
    }
   ],
   "source": [
    "print(\"total absolute deviation\",sum([abs(labelCountsPredicted[l]-labelCountsGold[l]) for l in labelCountsGold]))"
   ]
  },
  {
   "cell_type": "code",
   "execution_count": 28,
   "metadata": {},
   "outputs": [
    {
     "name": "stdout",
     "output_type": "stream",
     "text": [
      "relative deviation per label: {'__label__REJECTS': 0.274, '__label__SUPPORTS': 0.12, '__label__IRRELEVANT': 0.117}\n"
     ]
    }
   ],
   "source": [
    "print(\"relative deviation per label:\",\\\n",
    "      {l:round(abs(labelCountsPredicted[l]-labelCountsGold[l])/labelCountsGold[l],3) for l in labelCountsGold})"
   ]
  },
  {
   "cell_type": "code",
   "execution_count": 29,
   "metadata": {},
   "outputs": [
    {
     "data": {
      "text/html": [
       "<div>\n",
       "<style scoped>\n",
       "    .dataframe tbody tr th:only-of-type {\n",
       "        vertical-align: middle;\n",
       "    }\n",
       "\n",
       "    .dataframe tbody tr th {\n",
       "        vertical-align: top;\n",
       "    }\n",
       "\n",
       "    .dataframe thead th {\n",
       "        text-align: right;\n",
       "    }\n",
       "</style>\n",
       "<table border=\"1\" class=\"dataframe\">\n",
       "  <thead>\n",
       "    <tr style=\"text-align: right;\">\n",
       "      <th>col_0</th>\n",
       "      <th>__label__IRRELEVANT</th>\n",
       "      <th>__label__REJECTS</th>\n",
       "      <th>__label__SUPPORTS</th>\n",
       "    </tr>\n",
       "    <tr>\n",
       "      <th>row_0</th>\n",
       "      <th></th>\n",
       "      <th></th>\n",
       "      <th></th>\n",
       "    </tr>\n",
       "  </thead>\n",
       "  <tbody>\n",
       "    <tr>\n",
       "      <td>__label__IRRELEVANT</td>\n",
       "      <td>227</td>\n",
       "      <td>58</td>\n",
       "      <td>243</td>\n",
       "    </tr>\n",
       "    <tr>\n",
       "      <td>__label__REJECTS</td>\n",
       "      <td>90</td>\n",
       "      <td>110</td>\n",
       "      <td>114</td>\n",
       "    </tr>\n",
       "    <tr>\n",
       "      <td>__label__SUPPORTS</td>\n",
       "      <td>149</td>\n",
       "      <td>60</td>\n",
       "      <td>1029</td>\n",
       "    </tr>\n",
       "  </tbody>\n",
       "</table>\n",
       "</div>"
      ],
      "text/plain": [
       "col_0                __label__IRRELEVANT  __label__REJECTS  __label__SUPPORTS\n",
       "row_0                                                                        \n",
       "__label__IRRELEVANT                  227                58                243\n",
       "__label__REJECTS                      90               110                114\n",
       "__label__SUPPORTS                    149                60               1029"
      ]
     },
     "execution_count": 29,
     "metadata": {},
     "output_type": "execute_result"
    }
   ],
   "source": [
    "def makeConfusionMatrix(fasttextData,predictionLabels):\n",
    "    goldLabels = pd.Series([fasttextData[i].split()[0] for i in range(0,len(fasttextData))])\n",
    "    predictedLabels = pd.Series([x[0] for row in predictionLabels for x in row[0]])\n",
    "    return(pd.crosstab(goldLabels,predictedLabels))\n",
    "\n",
    "makeConfusionMatrix(fasttextData,predictionLabels)"
   ]
  },
  {
   "cell_type": "markdown",
   "metadata": {},
   "source": [
    "For the mondkapje data, fasttext predicts 63% of the labels correctly without external dictionary and 66% with a Wikipedia dictionary (baseline: 46%). It overestimates the presence of negative labels and underestimates the level of positive and neutral labels. The amount of irrelevant labels is about right"
   ]
  },
  {
   "cell_type": "code",
   "execution_count": 30,
   "metadata": {},
   "outputs": [
    {
     "data": {
      "text/plain": [
       "{'__label__REJECTS': 1.3771929824561404,\n",
       " '__label__SUPPORTS': 0.8932178932178932,\n",
       " '__label__IRRELEVANT': 1.1330472103004292}"
      ]
     },
     "execution_count": 30,
     "metadata": {},
     "output_type": "execute_result"
    }
   ],
   "source": [
    "multiplicationFactors = {}\n",
    "for label in labelCountsGold:\n",
    "    multiplicationFactors[label] = labelCountsGold[label]/labelCountsPredicted[label]\n",
    "multiplicationFactors"
   ]
  },
  {
   "cell_type": "markdown",
   "metadata": {},
   "source": [
    "The multiplication factor for the positive label is unrealistically high so we will not use these factors."
   ]
  },
  {
   "cell_type": "code",
   "execution_count": 31,
   "metadata": {},
   "outputs": [
    {
     "name": "stdout",
     "output_type": "stream",
     "text": [
      "2080.0 2080\n"
     ]
    }
   ],
   "source": [
    "predictedNumberOfLabels = 0\n",
    "for label in labelCountsGold:\n",
    "    predictedNumberOfLabels += multiplicationFactors[label]*labelCountsPredicted[label]\n",
    "print(predictedNumberOfLabels,sum(labelCountsGold.values()))"
   ]
  },
  {
   "cell_type": "markdown",
   "metadata": {},
   "source": [
    "## Relation data size - accuracy"
   ]
  },
  {
   "cell_type": "code",
   "execution_count": 32,
   "metadata": {},
   "outputs": [],
   "source": [
    "def ranSelect(inList,size):\n",
    "    outList = []\n",
    "    selectionList = list(inList)\n",
    "    while len(outList) < size and len(selectionList) > 0:\n",
    "        index = int(random.random()*len(selectionList))\n",
    "        outList.append(selectionList[index])\n",
    "        del(selectionList[index])\n",
    "    return(outList)"
   ]
  },
  {
   "cell_type": "code",
   "execution_count": 33,
   "metadata": {},
   "outputs": [
    {
     "name": "stdout",
     "output_type": "stream",
     "text": [
      " 100 59.6%\n",
      " 200 57.7%\n",
      " 500 61.0%\n",
      "1000 65.3%\n",
      "2000 66.9%\n",
      "2080 67.1%\n"
     ]
    }
   ],
   "source": [
    "N = 5\n",
    "expResultsAll = {}\n",
    "for trainingSize in [100,200,500,1000,2000,5000]:\n",
    "    expResultsTrainingSize = []\n",
    "    for i in range(0,N):\n",
    "        selection = ranSelect(fasttextData,trainingSize)\n",
    "        predictionCounts,predictionLabels = runFasttext(selection,dim=BESTDIM,epoch=BESTEPOCH,lr=BESTLR,squealFlag=False)\n",
    "        expResultsTrainingSize.append(evaluate(predictionCounts,printResults=False))\n",
    "    expResultsAll[len(selection)] = 100*round(np.average(expResultsTrainingSize),3)\n",
    "    print(\"{0:4} {1:0.1f}%\".format(len(selection),expResultsAll[len(selection)]))\n",
    "    if len(selection) >= len(fasttextData): break"
   ]
  },
  {
   "cell_type": "code",
   "execution_count": 34,
   "metadata": {},
   "outputs": [
    {
     "data": {
      "image/png": "[encoded data removed]",
      "text/plain": [
       "<Figure size 432x288 with 1 Axes>"
      ]
     },
     "metadata": {
      "needs_background": "light"
     },
     "output_type": "display_data"
    }
   ],
   "source": [
    "plt.figure(figsize=(6,4))\n",
    "plt.plot(list(expResultsAll.keys()),list(expResultsAll.values()))\n",
    "plt.xscale(\"log\")\n",
    "plt.ylabel(\"percentage\")\n",
    "plt.xlabel(\"training data size\")\n",
    "plt.show()"
   ]
  },
  {
   "cell_type": "markdown",
   "metadata": {},
   "source": [
    "## Classifying unlabeled tweets"
   ]
  },
  {
   "cell_type": "code",
   "execution_count": 35,
   "metadata": {},
   "outputs": [],
   "source": [
    "import fasttext\n",
    "import matplotlib\n",
    "import os\n",
    "import pandas as pd\n",
    "import re"
   ]
  },
  {
   "cell_type": "code",
   "execution_count": 36,
   "metadata": {},
   "outputs": [],
   "source": [
    "DATADIRECTORY = \"/home/erikt/projects/puregome/data/text/\"\n",
    "LABELPREFIX = \"__label__\"\n",
    "NEGATIVE = LABELPREFIX+\"NEGATIVE\"\n",
    "POSITIVE = LABELPREFIX+\"POSITIVE\"\n",
    "NEUTRAL = LABELPREFIX+\"NEUTRAL\"\n",
    "IRRELEVANT = LABELPREFIX+\"IRRELEVANT\"\n",
    "SUPPORTS = LABELPREFIX+\"SUPPORTS\"\n",
    "REJECTS = LABELPREFIX+\"REJECTS\"\n",
    "SUPPORT = \"\"\n",
    "TEXT = \"text\"\n",
    "USER = \"user\"\n",
    "DIM = BESTDIM\n",
    "EPOCH = BESTEPOCH\n",
    "LR = BESTLR"
   ]
  },
  {
   "cell_type": "code",
   "execution_count": 37,
   "metadata": {},
   "outputs": [],
   "source": [
    "def makeGrepCommandFromQuery(query):\n",
    "    grepCommand = \"grep\"\n",
    "    for orPart in query.split(\"|\"):\n",
    "        grepCommand += ' -e \"'+orPart+'\"'\n",
    "    return(grepCommand)\n",
    "\n",
    "def readData(datePattern,query):\n",
    "    fileList = sorted(os.listdir(DATADIRECTORY))\n",
    "    tmpFileName = \"classify.\"+str(int(random.random()*LARGEINT))+\".txt\"\n",
    "    testData = []\n",
    "    for inFileName in fileList:\n",
    "        if re.search(datePattern,inFileName):\n",
    "            os.system(\"gunzip -c \"+DATADIRECTORY+inFileName+\" 2>/dev/null| head -1 >\"+tmpFileName)\n",
    "            os.system(\"gunzip -c \"+DATADIRECTORY+inFileName+\" 2>/dev/null| \"+makeGrepCommandFromQuery(query)+\" >> \"+tmpFileName)\n",
    "            try: df = pd.read_csv(tmpFileName)\n",
    "            except: continue\n",
    "            for i in range(0,len(df)):\n",
    "                if re.search(query,df.iloc[i][TEXT],flags=re.IGNORECASE):\n",
    "                    testData.append(df.iloc[i][USER]+\" \"+df.iloc[i][TEXT])\n",
    "            os.unlink(tmpFileName)\n",
    "    return(testData)\n",
    "    \n",
    "def classify(datePattern,query):\n",
    "    testData = readData(datePattern,query)\n",
    "    model = fasttext.train_supervised(FILEFASTTEXT,dim=DIM,epoch=EPOCH,lr=LR)\n",
    "    predictedLabels = model.predict(testData)\n",
    "    predictedGroups = pd.DataFrame(predictedLabels[0]).groupby(0).groups\n",
    "    labelCountsPredicted = {label:len(predictedGroups[label]) for label in predictedGroups}\n",
    "    nbrOfLabels = sum([labelCountsPredicted[label] for label in labelCountsPredicted if label != IRRELEVANT])\n",
    "    labelPercentages = { label:round(100*labelCountsPredicted[label]/nbrOfLabels,1) for label in labelCountsPredicted}\n",
    "    return(labelPercentages)"
   ]
  },
  {
   "cell_type": "code",
   "execution_count": 38,
   "metadata": {},
   "outputs": [
    {
     "name": "stdout",
     "output_type": "stream",
     "text": [
      "20200201 0 100.0 232.6\n",
      "20200202 4.3 95.7 278.3\n",
      "20200203 3.1 96.9 127.7\n",
      "20200204 4.8 95.2 212.9\n",
      "20200205 1.9 98.1 139.6\n",
      "20200206 25.5 74.5 168.1\n",
      "20200207 6.0 94.0 140.3\n",
      "20200208 1.8 98.2 183.6\n",
      "20200209 5.0 95.0 167.5\n",
      "20200210 3.6 96.4 89.2\n",
      "20200211 3.4 96.6 450.8\n",
      "20200212 5.7 94.3 148.6\n",
      "20200213 8.5 91.5 198.6\n",
      "20200214 0 100.0 172.3\n",
      "20200215 2.4 97.6 295.1\n",
      "20200216 1.9 98.1 192.3\n",
      "20200217 1.5 98.5 149.3\n",
      "20200218 5.4 94.6 121.6\n",
      "20200219 2.7 97.3 144.6\n",
      "20200220 2.0 98.0 731.4\n",
      "20200221 8.5 91.5 348.9\n",
      "20200222 17.4 82.6 234.8\n",
      "20200223 4.8 95.2 156.6\n",
      "20200224 1.0 99.0 157.0\n",
      "20200225 22.6 77.4 109.7\n",
      "20200226 2.6 97.4 236.8\n",
      "20200227 2.2 97.8 114.8\n",
      "20200228 6.1 93.9 94.8\n",
      "20200229 10.1 89.9 166.7\n",
      "20200230 error\n",
      "20200231 error\n",
      "20200301 10.0 90.0 85.8\n",
      "20200302 3.6 96.4 77.5\n",
      "20200303 8.2 91.8 72.2\n",
      "20200304 0 100.0 157.1\n",
      "20200305 37.9 62.1 110.5\n",
      "20200306 44.7 55.3 73.9\n",
      "20200307 27.1 72.9 73.6\n",
      "20200308 17.5 82.5 40.5\n",
      "20200309 2.9 97.1 43.2\n",
      "20200310 1.0 99.0 54.7\n",
      "20200311 1.7 98.3 47.0\n",
      "20200312 2.0 98.0 97.3\n",
      "20200313 4.1 95.9 50.6\n",
      "20200314 2.4 97.6 65.6\n",
      "20200315 1.8 98.2 32.1\n",
      "20200316 2.5 97.5 28.2\n",
      "20200317 2.4 97.6 31.7\n",
      "20200318 2.7 97.3 25.8\n",
      "20200319 5.3 94.7 33.8\n",
      "20200320 4.2 95.8 21.4\n",
      "20200321 3.3 96.7 21.9\n",
      "20200322 2.4 97.6 17.9\n",
      "20200323 5.4 94.6 34.3\n",
      "20200324 4.1 95.9 30.6\n",
      "20200325 3.6 96.4 35.4\n",
      "20200326 4.3 95.7 36.7\n",
      "20200327 12.0 88.0 29.0\n",
      "20200328 6.3 93.7 28.9\n",
      "20200329 6.6 93.4 39.9\n",
      "20200330 6.1 93.9 41.6\n",
      "20200331 5.8 94.2 67.8\n",
      "20200401 3.6 96.4 35.6\n",
      "20200402 5.9 94.1 35.3\n",
      "20200403 3.8 96.2 27.9\n",
      "20200404 5.1 94.9 28.7\n",
      "20200405 4.5 95.5 27.1\n",
      "20200406 5.8 94.2 40.9\n",
      "20200407 9.5 90.5 57.5\n",
      "20200408 7.8 92.2 42.3\n",
      "20200409 6.7 93.3 44.5\n",
      "20200410 7.0 93.0 42.1\n",
      "20200411 6.9 93.1 69.3\n",
      "20200412 7.5 92.5 42.2\n",
      "20200413 8.9 91.1 49.4\n",
      "20200414 15.5 84.5 41.2\n",
      "20200415 15.9 84.1 64.0\n",
      "20200416 22.7 77.3 73.6\n",
      "20200417 14.2 85.8 82.8\n",
      "20200418 12.7 87.3 77.8\n",
      "20200419 11.6 88.4 59.3\n",
      "20200420 10.0 90.0 59.2\n",
      "20200421 26.5 73.5 61.9\n",
      "20200422 22.0 78.0 66.7\n",
      "20200423 13.7 86.3 63.3\n",
      "20200424 11.3 88.7 82.5\n",
      "20200425 15.0 85.0 55.7\n",
      "20200426 13.9 86.1 45.0\n",
      "20200427 11.1 88.9 54.3\n",
      "20200428 18.0 82.0 59.8\n",
      "20200429 13.4 86.6 73.2\n",
      "20200430 20.4 79.6 63.3\n",
      "20200431 error\n",
      "20200501 25.0 75.0 54.2\n",
      "20200502 28.2 71.8 44.8\n",
      "20200503 21.2 78.8 55.5\n",
      "20200504 23.3 76.7 57.1\n",
      "20200505 21.3 78.7 48.4\n",
      "20200506 13.2 86.8 64.2\n",
      "20200507 19.6 80.4 57.2\n",
      "20200508 15.0 85.0 64.5\n",
      "20200509 12.8 87.2 50.2\n",
      "20200510 14.4 85.6 33.0\n",
      "20200511 10.9 89.1 42.1\n",
      "20200512 19.0 81.0 71.4\n",
      "20200513 14.8 85.2 71.1\n",
      "20200514 9.2 90.8 41.5\n",
      "20200515 16.0 84.0 57.6\n",
      "20200516 20.4 79.6 78.9\n",
      "20200517 22.8 77.2 71.8\n",
      "20200518 42.6 57.4 58.3\n",
      "20200519 34.0 66.0 49.7\n",
      "20200520 36.9 63.1 50.9\n",
      "20200521 24.7 75.3 54.3\n",
      "20200522 28.4 71.6 53.2\n",
      "20200523 16.8 83.2 62.3\n",
      "20200524 15.1 84.9 68.3\n",
      "20200525 17.6 82.4 73.0\n",
      "20200526 19.6 80.4 92.9\n",
      "20200527 19.3 80.7 62.5\n",
      "20200528 27.0 73.0 54.3\n",
      "20200529 20.3 79.7 57.8\n",
      "20200530 14.5 85.5 72.3\n",
      "20200531 21.5 78.5 55.9\n",
      "20200601 27.1 72.9 106.0\n",
      "20200602 24.7 75.3 81.6\n",
      "20200603 16.7 83.3 72.9\n",
      "20200604 28.0 72.0 63.5\n",
      "20200605 23.1 76.9 61.8\n",
      "20200606 25.1 74.9 87.9\n",
      "20200607 30.5 69.5 61.5\n",
      "20200608 33.9 66.1 60.7\n",
      "20200609 27.3 72.7 116.8\n",
      "20200610 29.9 70.1 84.2\n",
      "20200611 38.4 61.6 70.7\n",
      "20200612 14.3 85.7 54.8\n",
      "20200613 15.3 84.7 49.7\n",
      "20200614 24.1 75.9 60.3\n",
      "20200615 26.0 74.0 85.3\n",
      "20200616 26.9 73.1 84.5\n",
      "20200617 15.9 84.1 49.3\n",
      "20200618 47.4 52.6 44.4\n",
      "20200619 37.2 62.8 67.4\n",
      "20200620 26.1 73.9 72.2\n",
      "20200621 25.3 74.7 109.7\n",
      "20200622 16.4 83.6 59.1\n",
      "20200623 23.9 76.1 82.6\n",
      "20200624 21.1 78.9 68.1\n",
      "20200625 26.2 73.8 84.9\n",
      "20200626 24.3 75.7 98.0\n",
      "20200627 33.0 67.0 85.7\n",
      "20200628 28.1 71.9 63.0\n",
      "20200629 21.8 78.2 77.5\n",
      "20200630 24.0 76.0 80.0\n",
      "20200631 error\n",
      "20200701 29.4 70.6 53.5\n",
      "20200702 25.4 74.6 90.0\n",
      "20200703 18.9 81.1 76.3\n",
      "20200704 29.7 70.3 69.0\n",
      "20200705 16.1 83.9 58.4\n",
      "20200706 15.2 84.8 54.5\n",
      "20200707 29.3 70.7 77.7\n",
      "20200708 12.0 88.0 71.3\n",
      "20200709 16.7 83.3 102.8\n",
      "20200710 42.9 57.1 68.6\n",
      "20200711 24.8 75.2 71.4\n",
      "20200712 20.2 79.8 56.3\n",
      "20200713 17.6 82.4 75.7\n",
      "20200714 11.4 88.6 59.8\n",
      "20200715 14.3 85.7 79.1\n",
      "20200716 error\n",
      "20200717 error\n",
      "20200718 error\n",
      "20200719 error\n",
      "20200720 error\n",
      "20200721 error\n",
      "20200722 error\n",
      "20200723 error\n",
      "20200724 error\n",
      "20200725 error\n",
      "20200726 error\n",
      "20200727 error\n",
      "20200728 error\n",
      "20200729 error\n",
      "20200730 error\n",
      "20200731 error\n"
     ]
    }
   ],
   "source": [
    "QUERY = \"1[.,]5[ -]*m|afstand.*hou|hou.*afstand|anderhalve[ -]*meter\"\n",
    "MAXDAYSPERMONTH = 31\n",
    "\n",
    "results = {}\n",
    "for month in \"202002 202003 202004 202005 202006 202007\".split():\n",
    "    for day in range(1,MAXDAYSPERMONTH+1):\n",
    "        date = month+str(day).zfill(2)\n",
    "        try:\n",
    "            labels = classify(date,QUERY)\n",
    "            if not REJECTS in labels: labels[REJECTS] = 0\n",
    "            if not SUPPORTS in labels: labels[SUPPORTS] = 0\n",
    "            if not IRRELEVANT in labels: labels[IRRELEVANT] = 0\n",
    "            if labels[REJECTS]+labels[SUPPORTS]+labels[IRRELEVANT] > 0:\n",
    "                results[date] = labels\n",
    "            print(date,labels[REJECTS],labels[SUPPORTS],labels[IRRELEVANT])\n",
    "        except:\n",
    "            print(date,\"error\")"
   ]
  },
  {
   "cell_type": "markdown",
   "metadata": {},
   "source": [
    "## Visualization over time"
   ]
  },
  {
   "cell_type": "code",
   "execution_count": 39,
   "metadata": {},
   "outputs": [],
   "source": [
    "def movingAverage(numberList,size):\n",
    "    newList = []\n",
    "    for i in range(0,len(numberList)):\n",
    "        numberUsed = 1\n",
    "        newList.append(numberList[i])\n",
    "        for j in range(1,size):\n",
    "            if i-j >= 0:\n",
    "                newList[i] += numberList[i-j]\n",
    "                numberUsed += 1\n",
    "        newList[i] /= numberUsed\n",
    "    return(newList)"
   ]
  },
  {
   "cell_type": "code",
   "execution_count": 48,
   "metadata": {},
   "outputs": [
    {
     "data": {
      "image/png": "[encoded data removed]",
      "text/plain": [
       "<Figure size 720x432 with 2 Axes>"
      ]
     },
     "metadata": {
      "needs_background": "light"
     },
     "output_type": "display_data"
    }
   ],
   "source": [
    "DATEFORMAT = \"%Y%m%d\"\n",
    "DAYSCOMBINED = 7\n",
    "STARTDATE = \"20200306\"\n",
    "ENDDATE = \"20201231\"\n",
    "\n",
    "results = {k:results[k] for k in sorted(results.keys())}\n",
    "font = {\"size\":14}\n",
    "matplotlib.rc(\"font\",**font)\n",
    "plt.subplots(figsize=(10,6))\n",
    "x = [datetime.datetime.strptime(k,DATEFORMAT) for k in results.keys()]\n",
    "ySupports = movingAverage([results[k][SUPPORTS] for k in results.keys()],DAYSCOMBINED)\n",
    "yRejects = movingAverage([results[k][REJECTS] for k in results.keys()],DAYSCOMBINED)\n",
    "yIrrelevant = movingAverage([results[k][IRRELEVANT] for k in results.keys()],DAYSCOMBINED)\n",
    "\n",
    "ax1 = plt.subplot(121)\n",
    "plt.plot_date(x,ySupports,fmt=\"-\",label=\"supports\")\n",
    "plt.plot_date(x,yRejects,fmt=\"-\",label=\"rejects\")\n",
    "plt.plot_date(x,yIrrelevant,fmt=\"-\",label=\"irrelevant\")\n",
    "plt.plot_date(x,[100 for i in x],fmt=\"-\",label=\"100%\",color=\"black\")\n",
    "for date in [STARTDATE]:\n",
    "    plt.plot_date([datetime.datetime.strptime(date,DATEFORMAT)],[100],color=\"black\")\n",
    "plt.legend()\n",
    "plt.ylabel(\"percentage\")\n",
    "plt.xlabel(\"day/month\")\n",
    "plt.title(\"   stance on the RIVM policy on \"+\"social\")\n",
    "\n",
    "dates = [d for d in results.keys()]\n",
    "xPart = [x[i] for i in range(0,len(dates)) if dates[i] >= STARTDATE and dates[i] <= ENDDATE]\n",
    "ySupportsPart = [ySupports[i] for i in range(0,len(dates)) if dates[i] >= STARTDATE and dates[i] <= ENDDATE] \n",
    "yRejectsPart = [yRejects[i] for i in range(0,len(dates)) if dates[i] >= STARTDATE and dates[i] <= ENDDATE]\n",
    "ax1.xaxis.set_major_formatter(mdates.DateFormatter(\"%-d/%-m\"))\n",
    "\n",
    "ax2 = plt.subplot(122)\n",
    "plt.plot_date(xPart,ySupportsPart,fmt=\"-\",label=\"supports\")\n",
    "plt.plot_date(xPart,yRejectsPart,fmt=\"-\",label=\"rejects\")\n",
    "plt.legend()\n",
    "plt.xlabel(\"day/month\")\n",
    "plt.title(\"distancing (average over \"+str(DAYSCOMBINED)+\" days)  \")\n",
    "plt.xticks([datetime.datetime.strptime(d,DATEFORMAT) for d in \"20200301 20200401 20200501 20200601 20200701\".split()])\n",
    "ax2.xaxis.set_major_formatter(mdates.DateFormatter(\"%-d/%-m\"))\n",
    "\n",
    "plt.show()"
   ]
  },
  {
   "cell_type": "code",
   "execution_count": 41,
   "metadata": {},
   "outputs": [
    {
     "name": "stdout",
     "output_type": "stream",
     "text": [
      "20200306\n"
     ]
    }
   ],
   "source": [
    "for i in range(0,len(yIrrelevant)):\n",
    "    if i < len(yIrrelevant)-1 and \\\n",
    "       (yIrrelevant[i] < 100 and yIrrelevant[i+1] >= 100 or yIrrelevant[i] >= 100 and yIrrelevant[i+1] < 100):\n",
    "        print(list(results.keys())[i])"
   ]
  },
  {
   "cell_type": "code",
   "execution_count": null,
   "metadata": {},
   "outputs": [],
   "source": []
  }
 ],
 "metadata": {
  "kernelspec": {
   "display_name": "Python 3",
   "language": "python",
   "name": "python3"
  },
  "language_info": {
   "codemirror_mode": {
    "name": "ipython",
    "version": 3
   },
   "file_extension": ".py",
   "mimetype": "text/x-python",
   "name": "python",
   "nbconvert_exporter": "python",
   "pygments_lexer": "ipython3",
   "version": "3.7.3"
  }
 },
 "nbformat": 4,
 "nbformat_minor": 4
}
