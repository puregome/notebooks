{
 "cells": [
  {
   "cell_type": "markdown",
   "metadata": {},
   "source": [
    "# Fasttext tweet classification"
   ]
  },
  {
   "cell_type": "markdown",
   "metadata": {},
   "source": [
    "## Data file creation"
   ]
  },
  {
   "cell_type": "code",
   "execution_count": 1,
   "metadata": {},
   "outputs": [],
   "source": [
    "import datetime\n",
    "import matplotlib.pyplot as plt\n",
    "import matplotlib.dates as mdates\n",
    "import numpy as np\n",
    "import os\n",
    "import pandas as pd\n",
    "import random\n",
    "import re\n",
    "from nltk.tokenize import TweetTokenizer\n",
    "from IPython.display import clear_output"
   ]
  },
  {
   "cell_type": "code",
   "execution_count": 2,
   "metadata": {},
   "outputs": [],
   "source": [
    "DATADIR = \"../data/\"\n",
    "TOPIC = \"distance\"\n",
    "FILETWEETS = TOPIC+\"-tweets.csv\"\n",
    "FILEANNOTATIONS = FILETWEETS+\".human-labels.txt\"\n",
    "FILEFASTTEXT = \"fasttext-\"+TOPIC+\".csv\"\n",
    "LABELPREFIX = \"__label__\"\n",
    "LARGEINT = 9999999999\n",
    "LABEL = \"label\"\n",
    "TEXT = \"text\"\n",
    "USER = \"user\"\n",
    "IDSTR = \"id_str\"\n",
    "ANNOTATOR = \"erikt@xs4all.nl\""
   ]
  },
  {
   "cell_type": "code",
   "execution_count": 3,
   "metadata": {},
   "outputs": [],
   "source": [
    "tweets = pd.read_csv(DATADIR+FILETWEETS,index_col=IDSTR)\n",
    "annotations = pd.read_csv(DATADIR+FILEANNOTATIONS,header=None,sep=\" \")"
   ]
  },
  {
   "cell_type": "code",
   "execution_count": 4,
   "metadata": {},
   "outputs": [],
   "source": [
    "def cleanup(text):\n",
    "    text = re.sub(r\"\\\\n\",\" \",text)\n",
    "    text = re.sub(r\"https://\\S+\",\"\",text)\n",
    "    text = re.sub(r\"\\s+\",\" \",text)\n",
    "    text = text.strip()\n",
    "    return(text)"
   ]
  },
  {
   "cell_type": "code",
   "execution_count": 5,
   "metadata": {},
   "outputs": [],
   "source": [
    "fasttextData = {}\n",
    "for i in range(0,len(annotations)):\n",
    "    annotator = annotations.iloc[i][0]\n",
    "    tweetId = annotations.iloc[i][2]\n",
    "    tweetLabel = annotations.iloc[i][4]\n",
    "    if annotator == ANNOTATOR and tweetId in list(tweets.index):\n",
    "        tweetLabel = annotations.iloc[i][4]\n",
    "        tweetUser = tweets.loc[tweetId][1]\n",
    "        fasttextData[tweetId] = {LABEL:LABELPREFIX+tweetLabel,\\\n",
    "                                 USER:tweetUser,\\\n",
    "                                 TEXT:\" \".join(TweetTokenizer().tokenize(cleanup(tweets.loc[tweetId][TEXT])))}"
   ]
  },
  {
   "cell_type": "code",
   "execution_count": 6,
   "metadata": {},
   "outputs": [],
   "source": [
    "outFile = open(FILEFASTTEXT,\"w\")\n",
    "seenTexts = {}\n",
    "for tweetId in fasttextData:\n",
    "    text = cleanup(fasttextData[tweetId][TEXT])\n",
    "    if not text in seenTexts:\n",
    "        print(fasttextData[tweetId][LABEL],text,file=outFile)\n",
    "        seenTexts[text] = True\n",
    "outFile.close()"
   ]
  },
  {
   "cell_type": "code",
   "execution_count": 7,
   "metadata": {},
   "outputs": [
    {
     "name": "stdout",
     "output_type": "stream",
     "text": [
      "tweets annotated per minute: 5.0 ; 1000 tweets take: 200 minutes\n"
     ]
    }
   ],
   "source": [
    "nbrOfAnnotationMinutes = len(set([str(x)[:12] for x in annotations[1]]))\n",
    "nbrOfAnnotatedTweets = len(set([str(x)[:12] for x in annotations[2]]))\n",
    "print(\"tweets annotated per minute:\",round(nbrOfAnnotatedTweets/nbrOfAnnotationMinutes,1),\"; 1000 tweets take:\",round(1000/(nbrOfAnnotatedTweets/nbrOfAnnotationMinutes)),\"minutes\")"
   ]
  },
  {
   "cell_type": "markdown",
   "metadata": {},
   "source": [
    "## Fasttext run and evaluation"
   ]
  },
  {
   "cell_type": "code",
   "execution_count": 8,
   "metadata": {},
   "outputs": [],
   "source": [
    "import fasttext\n",
    "import random\n",
    "from IPython.display import clear_output"
   ]
  },
  {
   "cell_type": "code",
   "execution_count": 9,
   "metadata": {},
   "outputs": [],
   "source": [
    "PRETRAINEDDIR = \"/home/erikt/projects/newsgac/fasttext-runs/\"\n",
    "WIKIFILENAME = \"wiki.nl.vec\""
   ]
  },
  {
   "cell_type": "code",
   "execution_count": 10,
   "metadata": {},
   "outputs": [],
   "source": [
    "def print_results(N, p, r):\n",
    "    print(\"N\\t\" + str(N))\n",
    "    print(\"P@{}\\t{:.3f}\".format(1, p))\n",
    "    print(\"R@{}\\t{:.3f}\".format(1, r))"
   ]
  },
  {
   "cell_type": "code",
   "execution_count": 11,
   "metadata": {},
   "outputs": [
    {
     "data": {
      "text/plain": [
       "4501"
      ]
     },
     "execution_count": 11,
     "metadata": {},
     "output_type": "execute_result"
    }
   ],
   "source": [
    "fasttextData = []\n",
    "inFile = open(FILEFASTTEXT,\"r\")\n",
    "for line in inFile: fasttextData.append(line.strip())\n",
    "inFile.close()\n",
    "len(fasttextData)"
   ]
  },
  {
   "cell_type": "code",
   "execution_count": 12,
   "metadata": {},
   "outputs": [],
   "source": [
    "DIM = 100\n",
    "EPOCH = 100\n",
    "LR = 0.05\n",
    "N = 10\n",
    "TRAIN = \"TRAIN\"+str(int(random.random()*LARGEINT))\n",
    "TEST = \"TEST\"+str(int(random.random()*LARGEINT))"
   ]
  },
  {
   "cell_type": "code",
   "execution_count": 13,
   "metadata": {},
   "outputs": [],
   "source": [
    "def ranSelect(inList,size):\n",
    "    outList = []\n",
    "    selectionList = list(inList)\n",
    "    while len(outList) < size and len(selectionList) > 0:\n",
    "        index = int(random.random()*len(selectionList))\n",
    "        outList.append(selectionList[index])\n",
    "        del(selectionList[index])\n",
    "    return(outList)"
   ]
  },
  {
   "cell_type": "code",
   "execution_count": 14,
   "metadata": {},
   "outputs": [],
   "source": [
    "def runFasttext(fasttextData,dim=DIM,epoch=EPOCH,lr=LR,n=N,squealFlag=True,maxTrain=None):\n",
    "    predictionCounts = []\n",
    "    predictionLabels = []\n",
    "    for fold in range(0,n):\n",
    "        if squealFlag:\n",
    "            clear_output(wait=True)\n",
    "            print(\"starting fold\",fold)\n",
    "        testStart = round(fold*len(fasttextData)/n)\n",
    "        testEnd = round((fold+1)*len(fasttextData)/n)\n",
    "        trainFile = open(TRAIN,\"w\")\n",
    "        testFile = open(TEST,\"w\")\n",
    "        trainData = []\n",
    "        testData = []\n",
    "        for i in range(0,len(fasttextData)):\n",
    "            data = fasttextData[i]\n",
    "            if i < testStart or i >= testEnd: \n",
    "                print(data,file=trainFile)\n",
    "                trainData.append(data)\n",
    "            else: \n",
    "                print(data,file=testFile)\n",
    "                testData.append(data)\n",
    "        testFile.close()\n",
    "        trainFile.close()\n",
    "        if not maxTrain == None and maxTrain < len(trainData):\n",
    "            trainData = ranSelect(trainData,maxTrain)\n",
    "            trainFile = open(TRAIN,\"w\")\n",
    "            for i in range(0,len(trainData)):\n",
    "                print(trainData[i],file=trainFile)\n",
    "            trainFile.close()\n",
    "        model = fasttext.train_supervised(TRAIN,dim=dim,epoch=epoch,lr=lr)\n",
    "        predictionCounts.append([*model.test(TEST)])\n",
    "        predictionLabels.append(model.predict(testData))\n",
    "        os.unlink(TRAIN)\n",
    "        os.unlink(TEST)\n",
    "    if squealFlag:\n",
    "        clear_output(wait=True)\n",
    "        print(\"finished\")\n",
    "    return(predictionCounts,predictionLabels)"
   ]
  },
  {
   "cell_type": "code",
   "execution_count": 15,
   "metadata": {},
   "outputs": [],
   "source": [
    "def makeConfusionMatrix(fasttextData,predictionLabels):\n",
    "    goldLabels = pd.Series([fasttextData[i].split()[0] for i in range(0,len(fasttextData))])\n",
    "    predictedLabels = pd.Series([x[0] for row in predictionLabels for x in row[0]])\n",
    "    return(pd.crosstab(goldLabels,predictedLabels))"
   ]
  },
  {
   "cell_type": "code",
   "execution_count": 16,
   "metadata": {},
   "outputs": [],
   "source": [
    "def evaluate(predictionCounts,predictionLabels,fasttextData,printResults=True):\n",
    "    caseTotal = 0\n",
    "    pTotal = 0\n",
    "    rTotal = 0\n",
    "    for i in range(0,len(predictionCounts)):\n",
    "        caseTotal += predictionCounts[i][0]\n",
    "        pTotal += predictionCounts[i][0]*predictionCounts[i][1]\n",
    "        rTotal += predictionCounts[i][0]*predictionCounts[i][2]\n",
    "    precision = round(pTotal/caseTotal,3)\n",
    "    recall = round(rTotal/caseTotal,3)\n",
    "    cf = makeConfusionMatrix(fasttextData,predictionLabels)\n",
    "    for label in ['__label__REJECTS','__label__REJECTS','__label__IRRELEVANT']:\n",
    "        if not label in cf: cf[label] = [0 for i in range(0,3)]\n",
    "    factor = sum(cf.loc['__label__SUPPORTS'])*sum([cf.iloc[i]['__label__REJECTS'] for i in range(0,len(cf))])/\\\n",
    "             (sum(cf.loc['__label__REJECTS'])*sum([cf.iloc[i]['__label__SUPPORTS'] for i in range(0,len(cf))]))\n",
    "    if printResults: print(\"cases: {0}; precision: {1}; recall: {2}; factor: {3:0.3f}\".format(caseTotal,precision,recall,factor))\n",
    "    return((precision,factor))"
   ]
  },
  {
   "cell_type": "markdown",
   "metadata": {},
   "source": [
    "## Grid search"
   ]
  },
  {
   "cell_type": "code",
   "execution_count": 17,
   "metadata": {},
   "outputs": [
    {
     "name": "stdout",
     "output_type": "stream",
     "text": [
      "10 10 0.05 cases: 4501; precision: 0.611; recall: 0.611; factor: 0.275\n",
      "10 10 0.1 cases: 4501; precision: 0.643; recall: 0.643; factor: 0.534\n",
      "10 10 0.2 cases: 4501; precision: 0.648; recall: 0.648; factor: 0.734\n",
      "10 20 0.05 cases: 4501; precision: 0.645; recall: 0.645; factor: 0.587\n",
      "10 20 0.1 cases: 4501; precision: 0.647; recall: 0.647; factor: 0.691\n",
      "10 20 0.2 cases: 4501; precision: 0.642; recall: 0.642; factor: 0.748\n",
      "10 50 0.05 cases: 4501; precision: 0.645; recall: 0.645; factor: 0.731\n",
      "10 50 0.1 cases: 4501; precision: 0.639; recall: 0.639; factor: 0.766\n",
      "10 50 0.2 cases: 4501; precision: 0.634; recall: 0.634; factor: 0.776\n",
      "10 100 0.05 cases: 4501; precision: 0.637; recall: 0.637; factor: 0.761\n",
      "10 100 0.1 cases: 4501; precision: 0.638; recall: 0.638; factor: 0.794\n",
      "10 100 0.2 cases: 4501; precision: 0.637; recall: 0.637; factor: 0.794\n",
      "10 200 0.05 cases: 4501; precision: 0.636; recall: 0.636; factor: 0.787\n",
      "10 200 0.1 cases: 4501; precision: 0.636; recall: 0.636; factor: 0.788\n",
      "10 200 0.2 cases: 4501; precision: 0.636; recall: 0.636; factor: 0.790\n",
      "10 300 0.05 cases: 4501; precision: 0.636; recall: 0.636; factor: 0.779\n",
      "10 300 0.1 cases: 4501; precision: 0.635; recall: 0.635; factor: 0.792\n",
      "10 300 0.2 cases: 4501; precision: 0.635; recall: 0.635; factor: 0.793\n",
      "20 10 0.05 cases: 4501; precision: 0.607; recall: 0.607; factor: 0.325\n",
      "20 10 0.1 cases: 4501; precision: 0.648; recall: 0.648; factor: 0.584\n",
      "20 10 0.2 cases: 4501; precision: 0.649; recall: 0.649; factor: 0.697\n",
      "20 20 0.05 cases: 4501; precision: 0.65; recall: 0.65; factor: 0.605\n",
      "20 20 0.1 cases: 4501; precision: 0.648; recall: 0.648; factor: 0.724\n",
      "20 20 0.2 cases: 4501; precision: 0.64; recall: 0.64; factor: 0.718\n",
      "20 50 0.05 cases: 4501; precision: 0.646; recall: 0.646; factor: 0.744\n",
      "20 50 0.1 cases: 4501; precision: 0.639; recall: 0.639; factor: 0.770\n",
      "20 50 0.2 cases: 4501; precision: 0.633; recall: 0.633; factor: 0.775\n",
      "20 100 0.05 cases: 4501; precision: 0.637; recall: 0.637; factor: 0.764\n",
      "20 100 0.1 cases: 4501; precision: 0.637; recall: 0.637; factor: 0.787\n",
      "20 100 0.2 cases: 4501; precision: 0.635; recall: 0.635; factor: 0.784\n",
      "20 200 0.05 cases: 4501; precision: 0.637; recall: 0.637; factor: 0.786\n",
      "20 200 0.1 cases: 4501; precision: 0.635; recall: 0.635; factor: 0.790\n",
      "20 200 0.2 cases: 4501; precision: 0.637; recall: 0.637; factor: 0.790\n",
      "20 300 0.05 cases: 4501; precision: 0.638; recall: 0.638; factor: 0.793\n",
      "20 300 0.1 cases: 4501; precision: 0.634; recall: 0.634; factor: 0.797\n",
      "20 300 0.2 cases: 4501; precision: 0.633; recall: 0.633; factor: 0.807\n",
      "50 10 0.05 cases: 4501; precision: 0.604; recall: 0.604; factor: 0.355\n",
      "50 10 0.1 cases: 4501; precision: 0.647; recall: 0.647; factor: 0.573\n",
      "50 10 0.2 cases: 4501; precision: 0.644; recall: 0.644; factor: 0.720\n",
      "50 20 0.05 cases: 4501; precision: 0.647; recall: 0.647; factor: 0.595\n",
      "50 20 0.1 cases: 4501; precision: 0.646; recall: 0.646; factor: 0.779\n",
      "50 20 0.2 cases: 4501; precision: 0.642; recall: 0.642; factor: 0.770\n",
      "50 50 0.05 cases: 4501; precision: 0.645; recall: 0.645; factor: 0.742\n",
      "50 50 0.1 cases: 4501; precision: 0.636; recall: 0.636; factor: 0.795\n",
      "50 50 0.2 cases: 4501; precision: 0.635; recall: 0.635; factor: 0.775\n",
      "50 100 0.05 cases: 4501; precision: 0.638; recall: 0.638; factor: 0.771\n",
      "50 100 0.1 cases: 4501; precision: 0.636; recall: 0.636; factor: 0.785\n",
      "50 100 0.2 cases: 4501; precision: 0.633; recall: 0.633; factor: 0.794\n",
      "50 200 0.05 cases: 4501; precision: 0.635; recall: 0.635; factor: 0.788\n",
      "50 200 0.1 cases: 4501; precision: 0.636; recall: 0.636; factor: 0.796\n",
      "50 200 0.2 cases: 4501; precision: 0.636; recall: 0.636; factor: 0.795\n",
      "50 300 0.05 cases: 4501; precision: 0.636; recall: 0.636; factor: 0.790\n",
      "50 300 0.1 cases: 4501; precision: 0.636; recall: 0.636; factor: 0.791\n",
      "50 300 0.2 cases: 4501; precision: 0.633; recall: 0.633; factor: 0.799\n",
      "100 10 0.05 cases: 4501; precision: 0.599; recall: 0.599; factor: 0.398\n",
      "100 10 0.1 cases: 4501; precision: 0.646; recall: 0.646; factor: 0.541\n",
      "100 10 0.2 cases: 4501; precision: 0.647; recall: 0.647; factor: 0.701\n",
      "100 20 0.05 cases: 4501; precision: 0.646; recall: 0.646; factor: 0.568\n",
      "100 20 0.1 cases: 4501; precision: 0.648; recall: 0.648; factor: 0.701\n",
      "100 20 0.2 cases: 4501; precision: 0.639; recall: 0.639; factor: 0.774\n",
      "100 50 0.05 cases: 4501; precision: 0.645; recall: 0.645; factor: 0.731\n",
      "100 50 0.1 cases: 4501; precision: 0.636; recall: 0.636; factor: 0.763\n",
      "100 50 0.2 cases: 4501; precision: 0.635; recall: 0.635; factor: 0.778\n",
      "100 100 0.05 cases: 4501; precision: 0.635; recall: 0.635; factor: 0.771\n",
      "100 100 0.1 cases: 4501; precision: 0.636; recall: 0.636; factor: 0.783\n",
      "100 100 0.2 cases: 4501; precision: 0.632; recall: 0.632; factor: 0.787\n",
      "100 200 0.05 cases: 4501; precision: 0.636; recall: 0.636; factor: 0.779\n",
      "100 200 0.1 cases: 4501; precision: 0.637; recall: 0.637; factor: 0.793\n",
      "100 200 0.2 cases: 4501; precision: 0.635; recall: 0.635; factor: 0.796\n",
      "100 300 0.05 cases: 4501; precision: 0.637; recall: 0.637; factor: 0.791\n",
      "100 300 0.1 cases: 4501; precision: 0.636; recall: 0.636; factor: 0.794\n",
      "100 300 0.2 cases: 4501; precision: 0.635; recall: 0.635; factor: 0.799\n",
      "200 10 0.05 cases: 4501; precision: 0.599; recall: 0.599; factor: 0.413\n",
      "200 10 0.1 cases: 4501; precision: 0.649; recall: 0.649; factor: 0.589\n",
      "200 10 0.2 cases: 4501; precision: 0.647; recall: 0.647; factor: 0.744\n",
      "200 20 0.05 cases: 4501; precision: 0.647; recall: 0.647; factor: 0.519\n",
      "200 20 0.1 cases: 4501; precision: 0.649; recall: 0.649; factor: 0.691\n",
      "200 20 0.2 cases: 4501; precision: 0.645; recall: 0.645; factor: 0.768\n",
      "200 50 0.05 cases: 4501; precision: 0.644; recall: 0.644; factor: 0.746\n",
      "200 50 0.1 cases: 4501; precision: 0.638; recall: 0.638; factor: 0.752\n",
      "200 50 0.2 cases: 4501; precision: 0.633; recall: 0.633; factor: 0.776\n",
      "200 100 0.05 cases: 4501; precision: 0.636; recall: 0.636; factor: 0.760\n",
      "200 100 0.1 cases: 4501; precision: 0.634; recall: 0.634; factor: 0.784\n",
      "200 100 0.2 cases: 4501; precision: 0.635; recall: 0.635; factor: 0.792\n",
      "200 200 0.05 cases: 4501; precision: 0.636; recall: 0.636; factor: 0.781\n",
      "200 200 0.1 cases: 4501; precision: 0.635; recall: 0.635; factor: 0.798\n",
      "200 200 0.2 cases: 4501; precision: 0.633; recall: 0.633; factor: 0.802\n",
      "200 300 0.05 cases: 4501; precision: 0.637; recall: 0.637; factor: 0.791\n",
      "200 300 0.1 cases: 4501; precision: 0.636; recall: 0.636; factor: 0.794\n",
      "200 300 0.2 cases: 4501; precision: 0.63; recall: 0.63; factor: 0.802\n",
      "300 10 0.05 cases: 4501; precision: 0.596; recall: 0.596; factor: 0.408\n",
      "300 10 0.1 cases: 4501; precision: 0.645; recall: 0.645; factor: 0.528\n",
      "300 10 0.2 cases: 4501; precision: 0.646; recall: 0.646; factor: 0.717\n",
      "300 20 0.05 cases: 4501; precision: 0.646; recall: 0.646; factor: 0.532\n",
      "300 20 0.1 cases: 4501; precision: 0.646; recall: 0.646; factor: 0.699\n",
      "300 20 0.2 cases: 4501; precision: 0.641; recall: 0.641; factor: 0.733\n",
      "300 50 0.05 cases: 4501; precision: 0.645; recall: 0.645; factor: 0.725\n",
      "300 50 0.1 cases: 4501; precision: 0.636; recall: 0.636; factor: 0.750\n",
      "300 50 0.2 cases: 4501; precision: 0.637; recall: 0.637; factor: 0.795\n",
      "300 100 0.05 cases: 4501; precision: 0.636; recall: 0.636; factor: 0.759\n",
      "300 100 0.1 cases: 4501; precision: 0.635; recall: 0.635; factor: 0.784\n",
      "300 100 0.2 cases: 4501; precision: 0.634; recall: 0.634; factor: 0.797\n",
      "300 200 0.05 cases: 4501; precision: 0.636; recall: 0.636; factor: 0.781\n",
      "300 200 0.1 cases: 4501; precision: 0.638; recall: 0.638; factor: 0.790\n",
      "300 200 0.2 cases: 4501; precision: 0.634; recall: 0.634; factor: 0.800\n",
      "300 300 0.05 cases: 4501; precision: 0.636; recall: 0.636; factor: 0.788\n",
      "300 300 0.1 cases: 4501; precision: 0.635; recall: 0.635; factor: 0.785\n",
      "300 300 0.2 cases: 4501; precision: 0.634; recall: 0.634; factor: 0.802\n"
     ]
    }
   ],
   "source": [
    "scores = {}\n",
    "for dim in [10,20,50,100,200,300]:\n",
    "    for epoch in [10,20,50,100,200,300]:\n",
    "        for lr in [0.05,0.1,0.2]:\n",
    "            predictionCounts,predictionLabels = runFasttext(fasttextData,dim=dim,epoch=epoch,lr=lr,squealFlag=False)\n",
    "            print(dim,epoch,lr,end=\" \")\n",
    "            key = \" \".join([str(dim),str(epoch),str(lr)])\n",
    "            scores[key] = evaluate(predictionCounts,predictionLabels,fasttextData)"
   ]
  },
  {
   "cell_type": "code",
   "execution_count": 18,
   "metadata": {},
   "outputs": [
    {
     "data": {
      "text/plain": [
       "[((0.65, 0.6049783212318292), '20 20 0.05'),\n",
       " ((0.649, 0.6968082193986828), '20 10 0.2'),\n",
       " ((0.649, 0.588786435345016), '200 10 0.1'),\n",
       " ((0.649, 0.6906425364758698), '200 20 0.1'),\n",
       " ((0.648, 0.7339147099946965), '10 10 0.2'),\n",
       " ((0.648, 0.5840518455903071), '20 10 0.1'),\n",
       " ((0.648, 0.7235954827136334), '20 20 0.1'),\n",
       " ((0.648, 0.7009807237064593), '100 20 0.1'),\n",
       " ((0.647, 0.6913408605774632), '10 20 0.1'),\n",
       " ((0.647, 0.5730861544369609), '50 10 0.1')]"
      ]
     },
     "execution_count": 18,
     "metadata": {},
     "output_type": "execute_result"
    }
   ],
   "source": [
    "[(scores[k],k) for k in sorted(scores.keys(),key=lambda k:scores[k][0],reverse=True)][0:10]"
   ]
  },
  {
   "cell_type": "code",
   "execution_count": 26,
   "metadata": {},
   "outputs": [
    {
     "data": {
      "text/plain": [
       "[((0.633, 0.8202823586941859), '20 500 0.3'),\n",
       " ((0.631, 0.809251832795265), '20 300 0.3'),\n",
       " ((0.633, 0.8074385938493458), '20 300 0.2'),\n",
       " ((0.634, 0.8055540212570089), '10 500 0.3'),\n",
       " ((0.63, 0.8053672103090708), '20 700 0.3'),\n",
       " ((0.633, 0.8048000503018109), '20 500 0.2'),\n",
       " ((0.633, 0.8024777390631049), '200 200 0.2'),\n",
       " ((0.63, 0.8023453344731064), '200 300 0.2'),\n",
       " ((0.634, 0.8020630173251566), '300 300 0.2'),\n",
       " ((0.634, 0.8000143025408043), '300 200 0.2')]"
      ]
     },
     "execution_count": 26,
     "metadata": {},
     "output_type": "execute_result"
    }
   ],
   "source": [
    "[(scores[k],k) for k in sorted(scores.keys(),key=lambda k:scores[k][1],reverse=True)][0:10]"
   ]
  },
  {
   "cell_type": "code",
   "execution_count": 25,
   "metadata": {},
   "outputs": [
    {
     "name": "stdout",
     "output_type": "stream",
     "text": [
      "10 500 0.3 cases: 4501; precision: 0.634; recall: 0.634; factor: 0.806\n"
     ]
    }
   ],
   "source": [
    "dim,epoch,lr = (10,500,0.3)\n",
    "predictionCounts,predictionLabels = runFasttext(fasttextData,dim=dim,epoch=epoch,lr=lr,squealFlag=False)\n",
    "print(dim,epoch,lr,end=\" \")\n",
    "key = \" \".join([str(dim),str(epoch),str(lr)])\n",
    "scores[key] = evaluate(predictionCounts,predictionLabels,fasttextData)"
   ]
  },
  {
   "cell_type": "markdown",
   "metadata": {},
   "source": [
    "## Run with best parameters"
   ]
  },
  {
   "cell_type": "code",
   "execution_count": 27,
   "metadata": {},
   "outputs": [
    {
     "name": "stdout",
     "output_type": "stream",
     "text": [
      "finished\n"
     ]
    }
   ],
   "source": [
    "BESTDIM = 20\n",
    "BESTEPOCH = 500\n",
    "BESTLR = 0.3\n",
    "\n",
    "predictionCounts,predictionLabels = runFasttext(fasttextData,dim=BESTDIM,epoch=BESTEPOCH,lr=BESTLR)"
   ]
  },
  {
   "cell_type": "code",
   "execution_count": 28,
   "metadata": {},
   "outputs": [
    {
     "name": "stdout",
     "output_type": "stream",
     "text": [
      "cases: 4501; precision: 0.63; recall: 0.63; factor: 0.823\n"
     ]
    },
    {
     "data": {
      "text/plain": [
       "(0.63, 0.8226127063041125)"
      ]
     },
     "execution_count": 28,
     "metadata": {},
     "output_type": "execute_result"
    }
   ],
   "source": [
    "evaluate(predictionCounts,predictionLabels,fasttextData)"
   ]
  },
  {
   "cell_type": "code",
   "execution_count": 29,
   "metadata": {},
   "outputs": [
    {
     "data": {
      "text/plain": [
       "{'__label__REJECTS': 840,\n",
       " '__label__SUPPORTS': 2591,\n",
       " '__label__IRRELEVANT': 1070}"
      ]
     },
     "execution_count": 29,
     "metadata": {},
     "output_type": "execute_result"
    }
   ],
   "source": [
    "labelCountsGold = {}\n",
    "for i in range(0,len(fasttextData)):\n",
    "    label = fasttextData[i].split()[0]\n",
    "    if label in labelCountsGold: labelCountsGold[label] += 1\n",
    "    else: labelCountsGold[label] = 1\n",
    "labelCountsGold"
   ]
  },
  {
   "cell_type": "code",
   "execution_count": 30,
   "metadata": {},
   "outputs": [
    {
     "name": "stdout",
     "output_type": "stream",
     "text": [
      "baseline accuracy: 0.576\n"
     ]
    }
   ],
   "source": [
    "print(\"baseline accuracy:\",round(max(labelCountsGold.values())/sum(labelCountsGold.values()),3))"
   ]
  },
  {
   "cell_type": "code",
   "execution_count": 31,
   "metadata": {},
   "outputs": [
    {
     "data": {
      "text/plain": [
       "{'__label__REJECTS': 751,\n",
       " '__label__SUPPORTS': 2816,\n",
       " '__label__IRRELEVANT': 934}"
      ]
     },
     "execution_count": 31,
     "metadata": {},
     "output_type": "execute_result"
    }
   ],
   "source": [
    "labelCountsPredicted = {}\n",
    "for i in range(0,len(predictionLabels)):\n",
    "    for label in predictionLabels[i][0]:\n",
    "        if label[0] in labelCountsPredicted: labelCountsPredicted[label[0]] += 1\n",
    "        else: labelCountsPredicted[label[0]] = 1\n",
    "labelCountsPredicted"
   ]
  },
  {
   "cell_type": "code",
   "execution_count": 32,
   "metadata": {},
   "outputs": [
    {
     "name": "stdout",
     "output_type": "stream",
     "text": [
      "total absolute deviation 450\n"
     ]
    }
   ],
   "source": [
    "print(\"total absolute deviation\",sum([abs(labelCountsPredicted[l]-labelCountsGold[l]) for l in labelCountsGold]))"
   ]
  },
  {
   "cell_type": "code",
   "execution_count": 33,
   "metadata": {},
   "outputs": [
    {
     "name": "stdout",
     "output_type": "stream",
     "text": [
      "relative deviation per label: {'__label__REJECTS': 0.106, '__label__SUPPORTS': 0.087, '__label__IRRELEVANT': 0.127}\n"
     ]
    }
   ],
   "source": [
    "print(\"relative deviation per label:\",\\\n",
    "      {l:round(abs(labelCountsPredicted[l]-labelCountsGold[l])/labelCountsGold[l],3) for l in labelCountsGold})"
   ]
  },
  {
   "cell_type": "code",
   "execution_count": 34,
   "metadata": {},
   "outputs": [
    {
     "data": {
      "text/html": [
       "<div>\n",
       "<style scoped>\n",
       "    .dataframe tbody tr th:only-of-type {\n",
       "        vertical-align: middle;\n",
       "    }\n",
       "\n",
       "    .dataframe tbody tr th {\n",
       "        vertical-align: top;\n",
       "    }\n",
       "\n",
       "    .dataframe thead th {\n",
       "        text-align: right;\n",
       "    }\n",
       "</style>\n",
       "<table border=\"1\" class=\"dataframe\">\n",
       "  <thead>\n",
       "    <tr style=\"text-align: right;\">\n",
       "      <th>col_0</th>\n",
       "      <th>__label__IRRELEVANT</th>\n",
       "      <th>__label__REJECTS</th>\n",
       "      <th>__label__SUPPORTS</th>\n",
       "    </tr>\n",
       "    <tr>\n",
       "      <th>row_0</th>\n",
       "      <th></th>\n",
       "      <th></th>\n",
       "      <th></th>\n",
       "    </tr>\n",
       "  </thead>\n",
       "  <tbody>\n",
       "    <tr>\n",
       "      <td>__label__IRRELEVANT</td>\n",
       "      <td>397</td>\n",
       "      <td>153</td>\n",
       "      <td>520</td>\n",
       "    </tr>\n",
       "    <tr>\n",
       "      <td>__label__REJECTS</td>\n",
       "      <td>176</td>\n",
       "      <td>403</td>\n",
       "      <td>261</td>\n",
       "    </tr>\n",
       "    <tr>\n",
       "      <td>__label__SUPPORTS</td>\n",
       "      <td>361</td>\n",
       "      <td>195</td>\n",
       "      <td>2035</td>\n",
       "    </tr>\n",
       "  </tbody>\n",
       "</table>\n",
       "</div>"
      ],
      "text/plain": [
       "col_0                __label__IRRELEVANT  __label__REJECTS  __label__SUPPORTS\n",
       "row_0                                                                        \n",
       "__label__IRRELEVANT                  397               153                520\n",
       "__label__REJECTS                     176               403                261\n",
       "__label__SUPPORTS                    361               195               2035"
      ]
     },
     "execution_count": 34,
     "metadata": {},
     "output_type": "execute_result"
    }
   ],
   "source": [
    "makeConfusionMatrix(fasttextData,predictionLabels)"
   ]
  },
  {
   "cell_type": "markdown",
   "metadata": {},
   "source": [
    "For the mondkapje data, fasttext predicts 63% of the labels correctly without external dictionary and 66% with a Wikipedia dictionary (baseline: 46%). It overestimates the presence of negative labels and underestimates the level of positive and neutral labels. The amount of irrelevant labels is about right"
   ]
  },
  {
   "cell_type": "code",
   "execution_count": 35,
   "metadata": {},
   "outputs": [
    {
     "data": {
      "text/plain": [
       "{'__label__REJECTS': 1.118508655126498,\n",
       " '__label__SUPPORTS': 0.9200994318181818,\n",
       " '__label__IRRELEVANT': 1.145610278372591}"
      ]
     },
     "execution_count": 35,
     "metadata": {},
     "output_type": "execute_result"
    }
   ],
   "source": [
    "multiplicationFactors = {}\n",
    "for label in labelCountsGold:\n",
    "    multiplicationFactors[label] = labelCountsGold[label]/labelCountsPredicted[label]\n",
    "multiplicationFactors"
   ]
  },
  {
   "cell_type": "markdown",
   "metadata": {},
   "source": [
    "For mondkapje tweets, the multiplication factor for the positive label is unrealistically high so we will not use these factors."
   ]
  },
  {
   "cell_type": "code",
   "execution_count": 36,
   "metadata": {},
   "outputs": [
    {
     "name": "stdout",
     "output_type": "stream",
     "text": [
      "4501.0 4501\n"
     ]
    }
   ],
   "source": [
    "predictedNumberOfLabels = 0\n",
    "for label in labelCountsGold:\n",
    "    predictedNumberOfLabels += multiplicationFactors[label]*labelCountsPredicted[label]\n",
    "print(predictedNumberOfLabels,sum(labelCountsGold.values()))"
   ]
  },
  {
   "cell_type": "markdown",
   "metadata": {},
   "source": [
    "## Relation data size - accuracy"
   ]
  },
  {
   "cell_type": "code",
   "execution_count": 37,
   "metadata": {},
   "outputs": [
    {
     "name": "stdout",
     "output_type": "stream",
     "text": [
      " 100 0.542 0.411\n",
      " 200 0.554 0.568\n",
      " 500 0.579 0.618\n",
      "1000 0.601 0.706\n",
      "2000 0.618 0.758\n",
      "4501 0.632 0.810\n"
     ]
    }
   ],
   "source": [
    "N = 5\n",
    "expResultsAll = {}\n",
    "for trainingSize in [100,200,500,1000,2000,5000]:\n",
    "    expResultsTrainingSize = []\n",
    "    for i in range(0,N):\n",
    "        selection = ranSelect(fasttextData,trainingSize)\n",
    "        predictionCounts,predictionLabels = runFasttext(fasttextData,dim=BESTDIM,epoch=BESTEPOCH,lr=BESTLR,squealFlag=False,maxTrain=trainingSize)\n",
    "        expResultsTrainingSize.append(evaluate(predictionCounts,predictionLabels,fasttextData,printResults=False))\n",
    "    average = (np.average([x[0] for x in expResultsTrainingSize]),np.average([x[1] for x in expResultsTrainingSize]))\n",
    "    expResultsAll[len(selection)] = average\n",
    "    print(\"{0:4} {1:0.3f} {2:0.3f}\".format(len(selection),average[0],average[1]))\n",
    "    if len(selection) >= len(fasttextData): break"
   ]
  },
  {
   "cell_type": "code",
   "execution_count": 38,
   "metadata": {},
   "outputs": [
    {
     "data": {
      "image/png": "[encoded data removed]",
      "text/plain": [
       "<Figure size 864x288 with 2 Axes>"
      ]
     },
     "metadata": {
      "needs_background": "light"
     },
     "output_type": "display_data"
    }
   ],
   "source": [
    "plt.figure(figsize=(12,4))\n",
    "\n",
    "ax1 = plt.subplot(121)\n",
    "plt.plot(list(expResultsAll.keys()),[x[0] for x in list(expResultsAll.values())])\n",
    "plt.xscale(\"log\")\n",
    "plt.ylabel(\"percentage\")\n",
    "plt.xlabel(\"training data size\")\n",
    "plt.title(\"accuracy related to training size\")\n",
    "\n",
    "ax1 = plt.subplot(122)\n",
    "plt.plot(list(expResultsAll.keys()),[x[1] for x in list(expResultsAll.values())])\n",
    "plt.xscale(\"log\")\n",
    "plt.ylabel(\"percentage\")\n",
    "plt.xlabel(\"training data size\")\n",
    "plt.title(\"support/reject fraction related to training size\")\n",
    "\n",
    "plt.show()"
   ]
  },
  {
   "cell_type": "markdown",
   "metadata": {},
   "source": [
    "## Classifying unlabeled tweets"
   ]
  },
  {
   "cell_type": "code",
   "execution_count": 39,
   "metadata": {},
   "outputs": [],
   "source": [
    "import fasttext\n",
    "import matplotlib\n",
    "import os\n",
    "import pandas as pd\n",
    "import re"
   ]
  },
  {
   "cell_type": "code",
   "execution_count": 40,
   "metadata": {},
   "outputs": [],
   "source": [
    "DATADIRECTORY = \"/home/erikt/projects/puregome/data/text/\"\n",
    "LABELPREFIX = \"__label__\"\n",
    "NEGATIVE = LABELPREFIX+\"NEGATIVE\"\n",
    "POSITIVE = LABELPREFIX+\"POSITIVE\"\n",
    "NEUTRAL = LABELPREFIX+\"NEUTRAL\"\n",
    "IRRELEVANT = LABELPREFIX+\"IRRELEVANT\"\n",
    "SUPPORTS = LABELPREFIX+\"SUPPORTS\"\n",
    "REJECTS = LABELPREFIX+\"REJECTS\"\n",
    "SUPPORT = \"\"\n",
    "TEXT = \"text\"\n",
    "USER = \"user\"\n",
    "DIM = BESTDIM\n",
    "EPOCH = BESTEPOCH\n",
    "LR = BESTLR"
   ]
  },
  {
   "cell_type": "code",
   "execution_count": 41,
   "metadata": {},
   "outputs": [],
   "source": [
    "def makeGrepCommandFromQuery(query):\n",
    "    grepCommand = \"grep\"\n",
    "    for orPart in query.split(\"|\"):\n",
    "        grepCommand += ' -e \"'+orPart+'\"'\n",
    "    return(grepCommand)\n",
    "\n",
    "def readData(datePattern,query):\n",
    "    fileList = sorted(os.listdir(DATADIRECTORY))\n",
    "    tmpFileName = \"classify.\"+str(int(random.random()*LARGEINT))+\".txt\"\n",
    "    testData = []\n",
    "    for inFileName in fileList:\n",
    "        if re.search(datePattern,inFileName):\n",
    "            os.system(\"gunzip -c \"+DATADIRECTORY+inFileName+\" 2>/dev/null| head -1 >\"+tmpFileName)\n",
    "            os.system(\"gunzip -c \"+DATADIRECTORY+inFileName+\" 2>/dev/null| \"+makeGrepCommandFromQuery(query)+\" >> \"+tmpFileName)\n",
    "            try: df = pd.read_csv(tmpFileName)\n",
    "            except: continue\n",
    "            for i in range(0,len(df)):\n",
    "                if re.search(query,df.iloc[i][TEXT],flags=re.IGNORECASE):\n",
    "                    testData.append(df.iloc[i][USER]+\" \"+df.iloc[i][TEXT])\n",
    "            os.unlink(tmpFileName)\n",
    "    return(testData)\n",
    "    \n",
    "def classify(datePattern,query):\n",
    "    testData = readData(datePattern,query)\n",
    "    model = fasttext.train_supervised(FILEFASTTEXT,dim=DIM,epoch=EPOCH,lr=LR)\n",
    "    predictedLabels = model.predict(testData)\n",
    "    predictedGroups = pd.DataFrame(predictedLabels[0]).groupby(0).groups\n",
    "    labelCountsPredicted = {label:len(predictedGroups[label]) for label in predictedGroups}\n",
    "    nbrOfLabels = sum([labelCountsPredicted[label] for label in labelCountsPredicted if label != IRRELEVANT])\n",
    "    labelPercentages = { label:round(100*labelCountsPredicted[label]/nbrOfLabels,1) for label in labelCountsPredicted}\n",
    "    return(labelPercentages)"
   ]
  },
  {
   "cell_type": "code",
   "execution_count": 42,
   "metadata": {},
   "outputs": [
    {
     "name": "stdout",
     "output_type": "stream",
     "text": [
      "20200201 6.7 93.3 240.0\n",
      "20200202 14.0 86.0 304.7\n",
      "20200203 3.2 96.8 138.7\n",
      "20200204 4.7 95.3 125.6\n",
      "20200205 8.3 91.7 164.6\n",
      "20200206 41.0 59.0 223.1\n",
      "20200207 6.7 93.3 257.8\n",
      "20200208 7.8 92.2 205.9\n",
      "20200209 22.4 77.6 181.6\n",
      "20200210 9.3 90.7 109.3\n",
      "20200211 7.1 92.9 673.8\n",
      "20200212 5.0 95.0 190.0\n",
      "20200213 9.3 90.7 292.6\n",
      "20200214 10.7 89.3 216.1\n",
      "20200215 10.8 89.2 337.8\n",
      "20200216 4.1 95.9 210.2\n",
      "20200217 9.3 90.7 209.3\n",
      "20200218 14.3 85.7 160.3\n",
      "20200219 11.8 88.2 432.4\n",
      "20200220 9.3 90.7 886.0\n",
      "20200221 18.2 81.8 539.4\n",
      "20200222 24.4 75.6 275.6\n",
      "20200223 4.1 95.9 191.8\n",
      "20200224 11.5 88.5 394.2\n",
      "20200225 39.1 60.9 182.6\n",
      "20200226 20.8 79.2 232.5\n",
      "20200227 3.3 96.7 137.7\n",
      "20200228 14.6 85.4 117.5\n",
      "20200229 17.5 82.5 222.8\n",
      "20200230 error\n",
      "20200231 error\n",
      "20200301 18.4 81.6 156.3\n",
      "20200302 5.4 94.6 111.8\n",
      "20200303 3.6 96.4 101.2\n",
      "20200304 12.5 87.5 253.6\n",
      "20200305 10.0 90.0 272.9\n",
      "20200306 7.9 92.1 172.4\n",
      "20200307 7.4 92.6 135.8\n",
      "20200308 4.0 96.0 87.1\n",
      "20200309 6.0 94.0 71.6\n",
      "20200310 3.7 96.3 75.9\n",
      "20200311 6.5 93.5 59.8\n",
      "20200312 7.7 92.3 104.0\n",
      "20200313 5.4 94.6 42.5\n",
      "20200314 7.8 92.2 72.0\n",
      "20200315 4.8 95.2 29.7\n",
      "20200316 8.1 91.9 32.0\n",
      "20200317 5.8 94.2 28.6\n",
      "20200318 5.8 94.2 24.5\n",
      "20200319 8.8 91.2 29.0\n",
      "20200320 5.2 94.8 18.3\n",
      "20200321 5.0 95.0 16.7\n",
      "20200322 4.0 96.0 14.3\n",
      "20200323 11.3 88.7 24.6\n",
      "20200324 9.4 90.6 26.7\n",
      "20200325 8.6 91.4 25.3\n",
      "20200326 10.5 89.5 36.0\n",
      "20200327 6.7 93.3 26.2\n",
      "20200328 7.6 92.4 26.0\n",
      "20200329 13.3 86.7 34.1\n",
      "20200330 9.4 90.6 40.2\n",
      "20200331 9.0 91.0 59.1\n",
      "20200401 8.7 91.3 39.3\n",
      "20200402 20.4 79.6 23.0\n",
      "20200403 8.1 91.9 30.9\n",
      "20200404 8.6 91.4 27.8\n",
      "20200405 7.6 92.4 31.6\n",
      "20200406 10.3 89.7 33.0\n",
      "20200407 18.2 81.8 51.0\n",
      "20200408 11.9 88.1 33.1\n",
      "20200409 12.5 87.5 30.2\n",
      "20200410 10.3 89.7 25.3\n",
      "20200411 7.5 92.5 21.3\n",
      "20200412 13.3 86.7 27.5\n",
      "20200413 18.3 81.7 36.6\n",
      "20200414 13.9 86.1 31.6\n",
      "20200415 36.2 63.8 35.6\n",
      "20200416 38.9 61.1 37.4\n",
      "20200417 28.0 72.0 38.1\n",
      "20200418 32.5 67.5 48.5\n",
      "20200419 22.7 77.3 38.8\n",
      "20200420 20.7 79.3 36.7\n",
      "20200421 31.5 68.5 55.4\n",
      "20200422 31.0 69.0 50.2\n",
      "20200423 27.5 72.5 57.9\n",
      "20200424 24.1 75.9 53.3\n",
      "20200425 23.0 77.0 37.5\n",
      "20200426 22.8 77.2 34.3\n",
      "20200427 16.3 83.7 37.7\n",
      "20200428 23.7 76.3 38.0\n",
      "20200429 27.5 72.5 50.2\n",
      "20200430 25.9 74.1 41.3\n",
      "20200431 error\n",
      "20200501 30.5 69.5 37.3\n",
      "20200502 36.3 63.7 27.0\n",
      "20200503 42.7 57.3 35.1\n",
      "20200504 37.7 62.3 43.8\n",
      "20200505 28.6 71.4 34.5\n",
      "20200506 26.3 73.7 36.6\n",
      "20200507 28.6 71.4 40.4\n",
      "20200508 22.2 77.8 44.1\n",
      "20200509 21.4 78.6 33.7\n",
      "20200510 22.4 77.6 35.8\n",
      "20200511 19.9 80.1 29.6\n",
      "20200512 30.7 69.3 40.5\n",
      "20200513 23.9 76.1 47.5\n",
      "20200514 26.4 73.6 68.8\n",
      "20200515 32.3 67.7 46.7\n",
      "20200516 47.5 52.5 48.7\n",
      "20200517 39.5 60.5 43.3\n",
      "20200518 55.1 44.9 34.2\n",
      "20200519 37.6 62.4 32.9\n",
      "20200520 46.8 53.2 32.0\n",
      "20200521 34.4 65.6 31.6\n",
      "20200522 37.3 62.7 33.0\n",
      "20200523 43.5 56.5 31.8\n",
      "20200524 36.1 63.9 34.3\n",
      "20200525 31.6 68.4 46.1\n",
      "20200526 40.2 59.8 40.4\n",
      "20200527 36.8 63.2 38.1\n",
      "20200528 43.4 56.6 28.3\n",
      "20200529 29.6 70.4 42.9\n",
      "20200530 33.7 66.3 47.8\n",
      "20200531 25.1 74.9 39.1\n",
      "20200601 39.2 60.8 52.3\n",
      "20200602 37.5 62.5 48.7\n",
      "20200603 28.3 71.7 43.4\n",
      "20200604 37.6 62.4 48.7\n",
      "20200605 18.8 81.2 66.5\n",
      "20200606 42.3 57.7 39.1\n",
      "20200607 51.2 48.8 39.9\n",
      "20200608 48.3 51.7 30.1\n",
      "20200609 52.0 48.0 60.0\n",
      "20200610 46.9 53.1 55.8\n",
      "20200611 49.0 51.0 53.2\n",
      "20200612 49.8 50.2 43.5\n",
      "20200613 48.6 51.4 56.4\n",
      "20200614 52.5 47.5 28.6\n",
      "20200615 44.8 55.2 45.9\n",
      "20200616 43.5 56.5 36.6\n",
      "20200617 40.7 59.3 39.9\n",
      "20200618 62.0 38.0 34.4\n",
      "20200619 50.0 50.0 33.8\n",
      "20200620 54.7 45.3 49.1\n",
      "20200621 33.8 66.2 86.9\n",
      "20200622 28.7 71.3 38.4\n",
      "20200623 45.1 54.9 45.4\n",
      "20200624 41.1 58.9 50.9\n",
      "20200625 50.6 49.4 54.8\n",
      "20200626 44.6 55.4 57.4\n",
      "20200627 56.9 43.1 44.6\n",
      "20200628 38.4 61.6 48.6\n",
      "20200629 29.2 70.8 66.6\n",
      "20200630 37.1 62.9 51.0\n",
      "20200631 error\n",
      "20200701 43.6 56.4 36.0\n",
      "20200702 46.1 53.9 45.1\n",
      "20200703 29.9 70.1 54.8\n",
      "20200704 35.6 64.4 41.7\n",
      "20200705 32.1 67.9 62.8\n",
      "20200706 26.3 73.7 35.3\n",
      "20200707 38.4 61.6 59.2\n",
      "20200708 44.1 55.9 73.5\n",
      "20200709 35.5 64.5 50.0\n",
      "20200710 48.8 51.2 36.3\n",
      "20200711 40.9 59.1 41.5\n",
      "20200712 31.4 68.6 59.1\n",
      "20200713 33.5 66.5 53.6\n",
      "20200714 23.2 76.8 42.3\n",
      "20200715 23.6 76.4 60.8\n",
      "20200716 error\n",
      "20200717 error\n",
      "20200718 error\n",
      "20200719 error\n",
      "20200720 error\n",
      "20200721 error\n",
      "20200722 error\n",
      "20200723 error\n",
      "20200724 error\n",
      "20200725 error\n",
      "20200726 error\n",
      "20200727 error\n",
      "20200728 error\n",
      "20200729 error\n",
      "20200730 error\n",
      "20200731 error\n"
     ]
    }
   ],
   "source": [
    "QUERY = \"1[.,]5[ -]*m|afstand.*hou|hou.*afstand|anderhalve[ -]*meter\"\n",
    "MAXDAYSPERMONTH = 31\n",
    "\n",
    "results = {}\n",
    "for month in \"202002 202003 202004 202005 202006 202007\".split():\n",
    "    for day in range(1,MAXDAYSPERMONTH+1):\n",
    "        date = month+str(day).zfill(2)\n",
    "        try:\n",
    "            labels = classify(date,QUERY)\n",
    "            if not REJECTS in labels: labels[REJECTS] = 0\n",
    "            if not SUPPORTS in labels: labels[SUPPORTS] = 0\n",
    "            if not IRRELEVANT in labels: labels[IRRELEVANT] = 0\n",
    "            if labels[REJECTS]+labels[SUPPORTS]+labels[IRRELEVANT] > 0:\n",
    "                results[date] = labels\n",
    "            print(date,labels[REJECTS],labels[SUPPORTS],labels[IRRELEVANT])\n",
    "        except:\n",
    "            print(date,\"error\")"
   ]
  },
  {
   "cell_type": "markdown",
   "metadata": {},
   "source": [
    "## Visualization over time"
   ]
  },
  {
   "cell_type": "code",
   "execution_count": 43,
   "metadata": {},
   "outputs": [],
   "source": [
    "from pandas.plotting import register_matplotlib_converters\n",
    "register_matplotlib_converters()"
   ]
  },
  {
   "cell_type": "code",
   "execution_count": 44,
   "metadata": {},
   "outputs": [],
   "source": [
    "def movingAverage(numberList,size):\n",
    "    newList = []\n",
    "    for i in range(0,len(numberList)):\n",
    "        numberUsed = 1\n",
    "        newList.append(numberList[i])\n",
    "        for j in range(1,size):\n",
    "            if i-j >= 0:\n",
    "                newList[i] += numberList[i-j]\n",
    "                numberUsed += 1\n",
    "        newList[i] /= numberUsed\n",
    "    return(newList)"
   ]
  },
  {
   "cell_type": "code",
   "execution_count": 46,
   "metadata": {},
   "outputs": [
    {
     "name": "stdout",
     "output_type": "stream",
     "text": [
      "20200312\n"
     ]
    }
   ],
   "source": [
    "DATEFORMAT = \"%Y%m%d\"\n",
    "DAYSCOMBINED = 7\n",
    "\n",
    "x = [datetime.datetime.strptime(k,DATEFORMAT) for k in results.keys()]\n",
    "ySupports = movingAverage([results[k][SUPPORTS] for k in results.keys()],DAYSCOMBINED)\n",
    "yRejects = movingAverage([results[k][REJECTS] for k in results.keys()],DAYSCOMBINED)\n",
    "yIrrelevant = movingAverage([results[k][IRRELEVANT] for k in results.keys()],DAYSCOMBINED)\n",
    "\n",
    "keyDates = []\n",
    "for i in range(0,len(yIrrelevant)):\n",
    "    if i < len(yIrrelevant)-1 and \\\n",
    "       (yIrrelevant[i] < 100 and yIrrelevant[i+1] >= 100 or yIrrelevant[i] >= 100 and yIrrelevant[i+1] < 100):\n",
    "        keyDates.append(list(results.keys())[i])\n",
    "        print(keyDates[-1])"
   ]
  },
  {
   "cell_type": "code",
   "execution_count": 47,
   "metadata": {},
   "outputs": [
    {
     "data": {
      "image/png": "[encoded data removed]",
      "text/plain": [
       "<Figure size 720x432 with 2 Axes>"
      ]
     },
     "metadata": {
      "needs_background": "light"
     },
     "output_type": "display_data"
    }
   ],
   "source": [
    "STARTDATE = keyDates[0]\n",
    "ENDDATE = \"20201231\"\n",
    "\n",
    "results = {k:results[k] for k in sorted(results.keys())}\n",
    "font = {\"size\":14}\n",
    "matplotlib.rc(\"font\",**font)\n",
    "plt.subplots(figsize=(10,6))\n",
    "\n",
    "ax1 = plt.subplot(121)\n",
    "plt.plot_date(x,ySupports,fmt=\"-\",label=\"supports\")\n",
    "plt.plot_date(x,yRejects,fmt=\"-\",label=\"rejects\")\n",
    "plt.plot_date(x,yIrrelevant,fmt=\"-\",label=\"irrelevant\")\n",
    "plt.plot_date(x,[100 for i in x],fmt=\"-\",label=\"100%\",color=\"black\")\n",
    "for date in [STARTDATE]:\n",
    "    plt.plot_date([datetime.datetime.strptime(date,DATEFORMAT)],[100],color=\"black\")\n",
    "plt.legend()\n",
    "plt.ylabel(\"percentage\")\n",
    "plt.xlabel(\"day/month\")\n",
    "plt.title(\"   stance on the RIVM policy on \"+\"social\")\n",
    "\n",
    "dates = [d for d in results.keys()]\n",
    "xPart = [x[i] for i in range(0,len(dates)) if dates[i] >= STARTDATE and dates[i] <= ENDDATE]\n",
    "ySupportsPart = [ySupports[i] for i in range(0,len(dates)) if dates[i] >= STARTDATE and dates[i] <= ENDDATE] \n",
    "yRejectsPart = [yRejects[i] for i in range(0,len(dates)) if dates[i] >= STARTDATE and dates[i] <= ENDDATE]\n",
    "ax1.xaxis.set_major_formatter(mdates.DateFormatter(\"%-d/%-m\"))\n",
    "\n",
    "ax2 = plt.subplot(122)\n",
    "plt.plot_date(xPart,ySupportsPart,fmt=\"-\",label=\"supports\")\n",
    "plt.plot_date(xPart,yRejectsPart,fmt=\"-\",label=\"rejects\")\n",
    "plt.legend()\n",
    "plt.xlabel(\"day/month\")\n",
    "plt.title(\"distancing (average over \"+str(DAYSCOMBINED)+\" days)  \")\n",
    "plt.xticks([datetime.datetime.strptime(d,DATEFORMAT) for d in \"20200301 20200401 20200501 20200601 20200701\".split()])\n",
    "ax2.xaxis.set_major_formatter(mdates.DateFormatter(\"%-d/%-m\"))\n",
    "\n",
    "plt.show()"
   ]
  },
  {
   "cell_type": "markdown",
   "metadata": {},
   "source": [
    "## Annotator comparison"
   ]
  },
  {
   "cell_type": "code",
   "execution_count": 50,
   "metadata": {},
   "outputs": [],
   "source": [
    "annotators = []\n",
    "annotatorData = {}\n",
    "for i in range(0,len(annotations)):\n",
    "    annotator = annotations.iloc[i][0]\n",
    "    tweetId = annotations.iloc[i][2]\n",
    "    tweetLabel = annotations.iloc[i][4]\n",
    "    if not annotator in annotatorData: \n",
    "        annotatorData[annotator] = {}\n",
    "        annotators.append(annotator)\n",
    "    annotatorData[annotator][tweetId] = tweetLabel"
   ]
  },
  {
   "cell_type": "code",
   "execution_count": 60,
   "metadata": {},
   "outputs": [
    {
     "name": "stdout",
     "output_type": "stream",
     "text": [
      "1268107342220005377 SUPPORTS IRRELEVANT\n",
      "1267584204696702980 SUPPORTS IRRELEVANT\n",
      "1268229980351279117 SUPPORTS IRRELEVANT\n",
      "1242710941961256960 SUPPORTS IRRELEVANT\n",
      "1256556830374977537 SUPPORTS IRRELEVANT\n",
      "1267535134213001216 IRRELEVANT REJECTS\n",
      "1266518198637256707 REJECTS IRRELEVANT\n",
      "1246404764524523520 SUPPORTS IRRELEVANT\n",
      "1269586384546926593 REJECTS IRRELEVANT\n",
      "1267524808931147776 SUPPORTS IRRELEVANT\n",
      "1241616504124293122 REJECTS IRRELEVANT\n",
      "1256175537841635333 SUPPORTS IRRELEVANT\n",
      "1254430467471933445 SUPPORTS IRRELEVANT\n",
      "1247498941983227904 SUPPORTS IRRELEVANT\n",
      "1248537579579944960 IRRELEVANT SUPPORTS\n",
      "1267702998811238400 REJECTS IRRELEVANT\n",
      "1270803382391975945 SUPPORTS IRRELEVANT\n",
      "1266632200453337090 SUPPORTS IRRELEVANT\n",
      "1269328728045256705 IRRELEVANT REJECTS\n",
      "1245075282391900166 SUPPORTS REJECTS\n",
      "1241801334346723329 SUPPORTS IRRELEVANT\n",
      "1266703642687606786 IRRELEVANT REJECTS\n",
      "1266712890586943488 IRRELEVANT NEUTRAL\n",
      "1274768593838891013 REJECTS IRRELEVANT\n",
      "98 74\n"
     ]
    }
   ],
   "source": [
    "total = 0\n",
    "identical = 0\n",
    "for tweetId in annotatorData[ANNOTATOR]:\n",
    "    for annotator in annotators:\n",
    "        if not annotator == ANNOTATOR and tweetId in annotatorData[annotator]:\n",
    "            total += 1\n",
    "            if annotatorData[annotator][tweetId] == annotatorData[ANNOTATOR][tweetId]: identical += 1\n",
    "            else: \n",
    "                print(tweetId,annotatorData[ANNOTATOR][tweetId],annotatorData[annotator][tweetId])\n",
    "                #print(tweets.loc[tweetId][TEXT])\n",
    "print(total,identical)"
   ]
  },
  {
   "cell_type": "code",
   "execution_count": null,
   "metadata": {},
   "outputs": [],
   "source": []
  }
 ],
 "metadata": {
  "kernelspec": {
   "display_name": "Python 3",
   "language": "python",
   "name": "python3"
  },
  "language_info": {
   "codemirror_mode": {
    "name": "ipython",
    "version": 3
   },
   "file_extension": ".py",
   "mimetype": "text/x-python",
   "name": "python",
   "nbconvert_exporter": "python",
   "pygments_lexer": "ipython3",
   "version": "3.7.3"
  }
 },
 "nbformat": 4,
 "nbformat_minor": 4
}
