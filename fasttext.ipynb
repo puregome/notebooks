{
 "cells": [
  {
   "cell_type": "markdown",
   "metadata": {},
   "source": [
    "# Fasttext tweet classification"
   ]
  },
  {
   "cell_type": "markdown",
   "metadata": {},
   "source": [
    "## Data file creation"
   ]
  },
  {
   "cell_type": "code",
   "execution_count": 1,
   "metadata": {},
   "outputs": [],
   "source": [
    "import datetime\n",
    "import math\n",
    "import matplotlib.pyplot as plt\n",
    "import matplotlib.dates as mdates\n",
    "import numpy as np\n",
    "import os\n",
    "import pandas as pd\n",
    "import pipes\n",
    "import random\n",
    "import re\n",
    "import tempfile\n",
    "from nltk.tokenize import TweetTokenizer\n",
    "from IPython.display import clear_output"
   ]
  },
  {
   "cell_type": "code",
   "execution_count": 2,
   "metadata": {},
   "outputs": [],
   "source": [
    "DATADIR = \"../data/\"\n",
    "DISTANCE = \"distance\"\n",
    "FACEMASK = \"mondkapje\"\n",
    "TOPIC = DISTANCE\n",
    "TOPIC = FACEMASK\n",
    "if TOPIC == FACEMASK: FILETWEETS = TOPIC+\"-tweets+nunl.csv\"\n",
    "else: FILETWEETS = TOPIC+\"-tweets.csv\"\n",
    "FILEANNOTATIONS = FILETWEETS+\".human-labels.txt\"\n",
    "FILEFASTTEXT = \"fasttext-\"+TOPIC+\".csv\"\n",
    "LABELPREFIX = \"__label__\"\n",
    "LARGEINT = 9999999999\n",
    "LABEL = \"label\"\n",
    "TEXT = \"text\"\n",
    "USER = \"user\"\n",
    "IDSTR = \"id_str\"\n",
    "IRRELEVANT = \"IRRELEVANT\"\n",
    "NEUTRAL = \"NEUTRAL\"\n",
    "ANDERS = \"ANDERS\"\n",
    "EENS = \"EENS\"\n",
    "ONEENS = \"ONEENS\"\n",
    "SUPPORTS = \"SUPPORTS\"\n",
    "REJECTS = \"REJECTS\"\n",
    "SOURCE = \"source\""
   ]
  },
  {
   "cell_type": "code",
   "execution_count": 3,
   "metadata": {},
   "outputs": [],
   "source": [
    "tweets = pd.read_csv(DATADIR+FILETWEETS,index_col=IDSTR)\n",
    "annotations = pd.read_csv(DATADIR+FILEANNOTATIONS,header=None,sep=\" \")\n",
    "mainAnnotator = annotations.iloc[0][0]"
   ]
  },
  {
   "cell_type": "code",
   "execution_count": 4,
   "metadata": {},
   "outputs": [],
   "source": [
    "def cleanup(text):\n",
    "    text = re.sub(r\"\\\\n\",\" \",text)\n",
    "    text = re.sub(r\"https://\\S+\",\"\",text)\n",
    "    text = re.sub(r\"\\s+\",\" \",text)\n",
    "    text = text.strip()\n",
    "    return(text)\n",
    "\n",
    "def tokenize(text):\n",
    "    return(\" \".join(TweetTokenizer().tokenize(text)))\n",
    "\n",
    "def preprocess(text):\n",
    "    return(tokenize(cleanup(text)).lower())"
   ]
  },
  {
   "cell_type": "code",
   "execution_count": 5,
   "metadata": {},
   "outputs": [],
   "source": [
    "fasttextData = {}\n",
    "for i in range(0,len(annotations)):\n",
    "    annotator = annotations.iloc[i][0]\n",
    "    tweetId = annotations.iloc[i][2]\n",
    "    if annotator == mainAnnotator and tweetId in list(tweets.index):\n",
    "        tweetUser = tweets.loc[tweetId][1]\n",
    "        tweetLabel = annotations.iloc[i][4]\n",
    "        if tweetLabel == NEUTRAL: tweetLabel = IRRELEVANT\n",
    "        if tweetLabel == ANDERS: tweetLabel = IRRELEVANT\n",
    "        if tweetLabel == EENS: tweetLabel = SUPPORTS\n",
    "        if tweetLabel == ONEENS: tweetLabel = REJECTS\n",
    "        fasttextData[tweetId] = {LABEL:LABELPREFIX+tweetLabel,\\\n",
    "                                 USER:tweetUser,\\\n",
    "                                 TEXT:preprocess(tweets.loc[tweetId][TEXT])}"
   ]
  },
  {
   "cell_type": "code",
   "execution_count": 6,
   "metadata": {},
   "outputs": [
    {
     "data": {
      "text/plain": [
       "(2681, 8587, 2697)"
      ]
     },
     "execution_count": 6,
     "metadata": {},
     "output_type": "execute_result"
    }
   ],
   "source": [
    "len(fasttextData),len(tweets),len(annotations)"
   ]
  },
  {
   "cell_type": "code",
   "execution_count": 7,
   "metadata": {},
   "outputs": [],
   "source": [
    "outFile = open(FILEFASTTEXT,\"w\")\n",
    "seenTexts = {}\n",
    "for tweetId in fasttextData:\n",
    "    text = cleanup(fasttextData[tweetId][TEXT])\n",
    "    if not text in seenTexts:\n",
    "        print(fasttextData[tweetId][LABEL],text,file=outFile)\n",
    "        seenTexts[text] = True\n",
    "outFile.close()"
   ]
  },
  {
   "cell_type": "code",
   "execution_count": 8,
   "metadata": {},
   "outputs": [
    {
     "name": "stdout",
     "output_type": "stream",
     "text": [
      "tweets annotated per minute: 6.7 ; 1000 tweets take: 149 minutes\n"
     ]
    }
   ],
   "source": [
    "annotations1 = annotations[annotations[0]==mainAnnotator]\n",
    "nbrOfAnnotationMinutes = len(set([str(x)[:12] for x in annotations1[1]]))\n",
    "nbrOfAnnotatedTweets = len(set([str(x)[:12] for x in annotations1[2]]))\n",
    "print(\"tweets annotated per minute:\",round(nbrOfAnnotatedTweets/nbrOfAnnotationMinutes,1),\"; 1000 tweets take:\",\\\n",
    "      round(1000/(nbrOfAnnotatedTweets/nbrOfAnnotationMinutes)),\"minutes\")"
   ]
  },
  {
   "cell_type": "code",
   "execution_count": 9,
   "metadata": {},
   "outputs": [
    {
     "name": "stdout",
     "output_type": "stream",
     "text": [
      "tweets annotated per minute: 1.0 ; 1000 tweets take: 1000 minutes\n"
     ]
    }
   ],
   "source": [
    "annotations2 = annotations[annotations[0]!=mainAnnotator]\n",
    "nbrOfAnnotationMinutes = len(set([str(x)[:12] for x in annotations2[1]]))\n",
    "nbrOfAnnotatedTweets = len(set([str(x)[:12] for x in annotations2[2]]))\n",
    "print(\"tweets annotated per minute:\",round(nbrOfAnnotatedTweets/nbrOfAnnotationMinutes,1),\"; 1000 tweets take:\",\\\n",
    "      round(1000/(nbrOfAnnotatedTweets/nbrOfAnnotationMinutes)),\"minutes\")"
   ]
  },
  {
   "cell_type": "markdown",
   "metadata": {},
   "source": [
    "## Fasttext run and evaluation"
   ]
  },
  {
   "cell_type": "code",
   "execution_count": 10,
   "metadata": {},
   "outputs": [],
   "source": [
    "import fasttext\n",
    "import random\n",
    "from IPython.display import clear_output"
   ]
  },
  {
   "cell_type": "code",
   "execution_count": 11,
   "metadata": {},
   "outputs": [],
   "source": [
    "PRETRAINEDDIR = \"/home/erikt/projects/newsgac/fasttext-runs/\"\n",
    "WIKIFILENAME = \"wiki.nl.vec\""
   ]
  },
  {
   "cell_type": "code",
   "execution_count": 12,
   "metadata": {},
   "outputs": [],
   "source": [
    "def print_results(N, p, r):\n",
    "    print(\"N\\t\" + str(N))\n",
    "    print(\"P@{}\\t{:.3f}\".format(1, p))\n",
    "    print(\"R@{}\\t{:.3f}\".format(1, r))"
   ]
  },
  {
   "cell_type": "code",
   "execution_count": 13,
   "metadata": {},
   "outputs": [
    {
     "data": {
      "text/plain": [
       "1322"
      ]
     },
     "execution_count": 13,
     "metadata": {},
     "output_type": "execute_result"
    }
   ],
   "source": [
    "fasttextData = []\n",
    "inFile = open(FILEFASTTEXT,\"r\")\n",
    "for line in inFile: fasttextData.append(line.strip())\n",
    "inFile.close()\n",
    "len(fasttextData)"
   ]
  },
  {
   "cell_type": "code",
   "execution_count": 14,
   "metadata": {},
   "outputs": [],
   "source": [
    "DIM = 100\n",
    "EPOCH = 100\n",
    "LR = 0.05\n",
    "N = 10\n",
    "TRAIN = \"TRAIN\"+str(int(random.random()*LARGEINT))\n",
    "TEST = \"TEST\"+str(int(random.random()*LARGEINT))\n",
    "VALIDATION = \"VALIDATION\"+str(int(random.random()*LARGEINT))"
   ]
  },
  {
   "cell_type": "code",
   "execution_count": 15,
   "metadata": {},
   "outputs": [],
   "source": [
    "def ranSelect(inList,size):\n",
    "    outList = []\n",
    "    selectionList = list(inList)\n",
    "    while len(outList) < size and len(selectionList) > 0:\n",
    "        index = int(random.random()*len(selectionList))\n",
    "        outList.append(selectionList[index])\n",
    "        del(selectionList[index])\n",
    "    return(outList)"
   ]
  },
  {
   "cell_type": "code",
   "execution_count": 16,
   "metadata": {},
   "outputs": [],
   "source": [
    "def runFasttext(fasttextData,dim=DIM,epoch=EPOCH,lr=LR,n=N,squealFlag=True,maxTrain=None):\n",
    "    predictionCountsTest = []\n",
    "    predictionLabelsTest = []\n",
    "    predictionCountsValidation = []\n",
    "    predictionLabelsValidation = []\n",
    "    for fold in range(0,n):\n",
    "        if squealFlag:\n",
    "            clear_output(wait=True)\n",
    "            print(\"starting fold\",fold)\n",
    "        validationStart = round(fold*len(fasttextData)/n)\n",
    "        validationEnd = round((fold+1)*len(fasttextData)/n)\n",
    "        if fold < n-1: nextFold = fold+1\n",
    "        else: nextFold = 0\n",
    "        testStart = round(nextFold*len(fasttextData)/n)\n",
    "        testEnd = round((nextFold+1)*len(fasttextData)/n)\n",
    "        trainFile = open(TRAIN,\"w\")\n",
    "        testFile = open(TEST,\"w\")\n",
    "        validationFile = open(VALIDATION,\"w\")\n",
    "        trainData = []\n",
    "        validationData = []\n",
    "        testData = []\n",
    "        for i in range(0,len(fasttextData)):\n",
    "            data = fasttextData[i]\n",
    "            if i >= testStart and i < testEnd: \n",
    "                print(data,file=testFile)\n",
    "                testData.append(data)\n",
    "            elif i >= validationStart and i < validationEnd: \n",
    "                print(data,file=validationFile)\n",
    "                validationData.append(data)\n",
    "            else: \n",
    "                print(data,file=trainFile)\n",
    "                trainData.append(data)\n",
    "        testFile.close()\n",
    "        trainFile.close()\n",
    "        validationFile.close()\n",
    "        if not maxTrain == None and maxTrain < len(trainData):\n",
    "            trainData = ranSelect(trainData,maxTrain)\n",
    "            trainFile = open(TRAIN,\"w\")\n",
    "            for i in range(0,len(trainData)):\n",
    "                print(trainData[i],file=trainFile)\n",
    "            trainFile.close()\n",
    "        model = fasttext.train_supervised(TRAIN,dim=dim,epoch=epoch,lr=lr)\n",
    "        predictionCountsValidation.append([*model.test(VALIDATION)])\n",
    "        predictionLabelsValidation.append(model.predict(validationData))\n",
    "        predictionCountsTest.append([*model.test(TEST)])\n",
    "        predictionLabelsTest.append(model.predict(testData))\n",
    "        os.unlink(TRAIN)\n",
    "        os.unlink(TEST)\n",
    "        os.unlink(VALIDATION)\n",
    "    if squealFlag:\n",
    "        clear_output(wait=True)\n",
    "        print(\"finished\")\n",
    "    return(predictionCountsValidation,predictionLabelsValidation,predictionCountsTest,predictionLabelsTest)"
   ]
  },
  {
   "cell_type": "code",
   "execution_count": 17,
   "metadata": {},
   "outputs": [],
   "source": [
    "def makeConfusionMatrix(fasttextData,predictionLabels):\n",
    "    goldLabels = pd.Series([fasttextData[i].split()[0] for i in range(0,len(fasttextData))])\n",
    "    predictedLabels = pd.Series([x[0] for row in predictionLabels for x in row[0]])\n",
    "    return(pd.crosstab(goldLabels,predictedLabels))"
   ]
  },
  {
   "cell_type": "code",
   "execution_count": 18,
   "metadata": {},
   "outputs": [],
   "source": [
    "def evaluate(predictionCounts,predictionLabels,fasttextData,printResults=True):\n",
    "    caseTotal = 0\n",
    "    pTotal = 0\n",
    "    rTotal = 0\n",
    "    for i in range(0,len(predictionCounts)):\n",
    "        caseTotal += predictionCounts[i][0]\n",
    "        pTotal += predictionCounts[i][0]*predictionCounts[i][1]\n",
    "        rTotal += predictionCounts[i][0]*predictionCounts[i][2]\n",
    "    precision = round(pTotal/caseTotal,3)\n",
    "    recall = round(rTotal/caseTotal,3)\n",
    "    cf = makeConfusionMatrix(fasttextData,predictionLabels)\n",
    "    for label in ['__label__REJECTS','__label__SUPPORTS','__label__IRRELEVANT']:\n",
    "        if not label in cf: cf[label] = [0 for i in range(0,len(cf))]\n",
    "    fraction = sum(cf.loc['__label__SUPPORTS'])*sum([cf.iloc[i]['__label__REJECTS'] for i in range(0,len(cf))])/\\\n",
    "             (sum(cf.loc['__label__REJECTS'])*sum([cf.iloc[i]['__label__SUPPORTS'] for i in range(0,len(cf))]))\n",
    "    if printResults: print(\"cases: {0}; precision: {1:0.3f}; recall: {2:0.3f}; fraction: {3:0.3f}\".format(caseTotal,precision,recall,fraction))\n",
    "    return((precision,fraction))"
   ]
  },
  {
   "cell_type": "markdown",
   "metadata": {},
   "source": [
    "## Grid search"
   ]
  },
  {
   "cell_type": "code",
   "execution_count": 19,
   "metadata": {},
   "outputs": [
    {
     "name": "stdout",
     "output_type": "stream",
     "text": [
      " 10  10 0.05 validation: cases: 1322; precision: 0.391; recall: 0.391; fraction: inf\n",
      " 10  10 0.05       test: cases: 1322; precision: 0.385; recall: 0.385; fraction: inf\n"
     ]
    },
    {
     "name": "stderr",
     "output_type": "stream",
     "text": [
      "/home/erikt/anaconda3/envs/python37/lib/python3.7/site-packages/ipykernel_launcher.py:15: RuntimeWarning: divide by zero encountered in long_scalars\n",
      "  from ipykernel import kernelapp as app\n"
     ]
    },
    {
     "name": "stdout",
     "output_type": "stream",
     "text": [
      " 10  10 0.10 validation: cases: 1322; precision: 0.462; recall: 0.462; fraction: 147.445\n",
      " 10  10 0.10       test: cases: 1322; precision: 0.457; recall: 0.457; fraction: 153.711\n",
      " 10  10 0.20 validation: cases: 1322; precision: 0.530; recall: 0.530; fraction: 4.349\n",
      " 10  10 0.20       test: cases: 1322; precision: 0.525; recall: 0.525; fraction: 4.296\n",
      " 10  20 0.05 validation: cases: 1322; precision: 0.464; recall: 0.464; fraction: 60.623\n",
      " 10  20 0.05       test: cases: 1322; precision: 0.460; recall: 0.460; fraction: 80.184\n",
      " 10  20 0.10 validation: cases: 1322; precision: 0.532; recall: 0.532; fraction: 3.490\n",
      " 10  20 0.10       test: cases: 1322; precision: 0.532; recall: 0.532; fraction: 3.863\n",
      " 10  20 0.20 validation: cases: 1322; precision: 0.545; recall: 0.545; fraction: 2.064\n",
      " 10  20 0.20       test: cases: 1322; precision: 0.554; recall: 0.554; fraction: 2.003\n",
      " 10  50 0.05 validation: cases: 1322; precision: 0.545; recall: 0.545; fraction: 2.309\n",
      " 10  50 0.05       test: cases: 1322; precision: 0.548; recall: 0.548; fraction: 2.573\n",
      " 10  50 0.10 validation: cases: 1322; precision: 0.558; recall: 0.558; fraction: 1.893\n",
      " 10  50 0.10       test: cases: 1322; precision: 0.558; recall: 0.558; fraction: 1.793\n",
      " 10  50 0.20 validation: cases: 1322; precision: 0.546; recall: 0.546; fraction: 1.609\n",
      " 10  50 0.20       test: cases: 1322; precision: 0.547; recall: 0.547; fraction: 1.782\n",
      " 10 100 0.05 validation: cases: 1322; precision: 0.556; recall: 0.556; fraction: 1.877\n",
      " 10 100 0.05       test: cases: 1322; precision: 0.557; recall: 0.557; fraction: 1.789\n",
      " 10 100 0.10 validation: cases: 1322; precision: 0.548; recall: 0.548; fraction: 1.599\n",
      " 10 100 0.10       test: cases: 1322; precision: 0.549; recall: 0.549; fraction: 1.828\n",
      " 10 100 0.20 validation: cases: 1322; precision: 0.545; recall: 0.545; fraction: 1.538\n",
      " 10 100 0.20       test: cases: 1322; precision: 0.542; recall: 0.542; fraction: 1.714\n",
      " 10 200 0.05 validation: cases: 1322; precision: 0.548; recall: 0.548; fraction: 1.622\n",
      " 10 200 0.05       test: cases: 1322; precision: 0.551; recall: 0.551; fraction: 1.836\n",
      " 10 200 0.10 validation: cases: 1322; precision: 0.544; recall: 0.544; fraction: 1.491\n",
      " 10 200 0.10       test: cases: 1322; precision: 0.544; recall: 0.544; fraction: 1.805\n",
      " 10 200 0.20 validation: cases: 1322; precision: 0.543; recall: 0.543; fraction: 1.481\n",
      " 10 200 0.20       test: cases: 1322; precision: 0.543; recall: 0.543; fraction: 1.698\n",
      " 20  10 0.05 validation: cases: 1322; precision: 0.388; recall: 0.388; fraction: inf\n",
      " 20  10 0.05       test: cases: 1322; precision: 0.373; recall: 0.373; fraction: inf\n",
      " 20  10 0.10 validation: cases: 1322; precision: 0.448; recall: 0.448; fraction: 114.941\n",
      " 20  10 0.10       test: cases: 1322; precision: 0.430; recall: 0.430; fraction: 114.941\n",
      " 20  10 0.20 validation: cases: 1322; precision: 0.526; recall: 0.526; fraction: 3.976\n",
      " 20  10 0.20       test: cases: 1322; precision: 0.521; recall: 0.521; fraction: 4.534\n",
      " 20  20 0.05 validation: cases: 1322; precision: 0.449; recall: 0.449; fraction: 33.456\n",
      " 20  20 0.05       test: cases: 1322; precision: 0.433; recall: 0.433; fraction: 60.505\n",
      " 20  20 0.10 validation: cases: 1322; precision: 0.524; recall: 0.524; fraction: 3.341\n",
      " 20  20 0.10       test: cases: 1322; precision: 0.531; recall: 0.531; fraction: 3.471\n",
      " 20  20 0.20 validation: cases: 1322; precision: 0.548; recall: 0.548; fraction: 2.005\n",
      " 20  20 0.20       test: cases: 1322; precision: 0.560; recall: 0.560; fraction: 2.055\n",
      " 20  50 0.05 validation: cases: 1322; precision: 0.551; recall: 0.551; fraction: 2.264\n",
      " 20  50 0.05       test: cases: 1322; precision: 0.544; recall: 0.544; fraction: 2.486\n",
      " 20  50 0.10 validation: cases: 1322; precision: 0.559; recall: 0.559; fraction: 1.935\n",
      " 20  50 0.10       test: cases: 1322; precision: 0.558; recall: 0.558; fraction: 1.878\n",
      " 20  50 0.20 validation: cases: 1322; precision: 0.543; recall: 0.543; fraction: 1.638\n",
      " 20  50 0.20       test: cases: 1322; precision: 0.542; recall: 0.542; fraction: 1.764\n",
      " 20 100 0.05 validation: cases: 1322; precision: 0.555; recall: 0.555; fraction: 1.907\n",
      " 20 100 0.05       test: cases: 1322; precision: 0.559; recall: 0.559; fraction: 1.833\n",
      " 20 100 0.10 validation: cases: 1322; precision: 0.542; recall: 0.542; fraction: 1.601\n",
      " 20 100 0.10       test: cases: 1322; precision: 0.546; recall: 0.546; fraction: 1.782\n",
      " 20 100 0.20 validation: cases: 1322; precision: 0.543; recall: 0.543; fraction: 1.530\n",
      " 20 100 0.20       test: cases: 1322; precision: 0.544; recall: 0.544; fraction: 1.711\n",
      " 20 200 0.05 validation: cases: 1322; precision: 0.543; recall: 0.543; fraction: 1.616\n",
      " 20 200 0.05       test: cases: 1322; precision: 0.548; recall: 0.548; fraction: 1.802\n",
      " 20 200 0.10 validation: cases: 1322; precision: 0.540; recall: 0.540; fraction: 1.533\n",
      " 20 200 0.10       test: cases: 1322; precision: 0.542; recall: 0.542; fraction: 1.710\n",
      " 20 200 0.20 validation: cases: 1322; precision: 0.542; recall: 0.542; fraction: 1.484\n",
      " 20 200 0.20       test: cases: 1322; precision: 0.542; recall: 0.542; fraction: 1.659\n",
      " 50  10 0.05 validation: cases: 1322; precision: 0.388; recall: 0.388; fraction: inf\n",
      " 50  10 0.05       test: cases: 1322; precision: 0.371; recall: 0.371; fraction: inf\n",
      " 50  10 0.10 validation: cases: 1322; precision: 0.420; recall: 0.420; fraction: 211.867\n",
      " 50  10 0.10       test: cases: 1322; precision: 0.404; recall: 0.404; fraction: 187.195\n",
      " 50  10 0.20 validation: cases: 1322; precision: 0.521; recall: 0.521; fraction: 4.372\n",
      " 50  10 0.20       test: cases: 1322; precision: 0.517; recall: 0.517; fraction: 4.866\n",
      " 50  20 0.05 validation: cases: 1322; precision: 0.428; recall: 0.428; fraction: 208.342\n",
      " 50  20 0.05       test: cases: 1322; precision: 0.403; recall: 0.403; fraction: 100.059\n",
      " 50  20 0.10 validation: cases: 1322; precision: 0.523; recall: 0.523; fraction: 3.457\n",
      " 50  20 0.10       test: cases: 1322; precision: 0.523; recall: 0.523; fraction: 3.595\n",
      " 50  20 0.20 validation: cases: 1322; precision: 0.550; recall: 0.550; fraction: 2.230\n",
      " 50  20 0.20       test: cases: 1322; precision: 0.555; recall: 0.555; fraction: 2.093\n",
      " 50  50 0.05 validation: cases: 1322; precision: 0.550; recall: 0.550; fraction: 2.374\n",
      " 50  50 0.05       test: cases: 1322; precision: 0.544; recall: 0.544; fraction: 2.579\n",
      " 50  50 0.10 validation: cases: 1322; precision: 0.558; recall: 0.558; fraction: 1.941\n",
      " 50  50 0.10       test: cases: 1322; precision: 0.559; recall: 0.559; fraction: 1.894\n",
      " 50  50 0.20 validation: cases: 1322; precision: 0.542; recall: 0.542; fraction: 1.627\n",
      " 50  50 0.20       test: cases: 1322; precision: 0.543; recall: 0.543; fraction: 1.779\n",
      " 50 100 0.05 validation: cases: 1322; precision: 0.555; recall: 0.555; fraction: 1.893\n",
      " 50 100 0.05       test: cases: 1322; precision: 0.557; recall: 0.557; fraction: 1.830\n",
      " 50 100 0.10 validation: cases: 1322; precision: 0.545; recall: 0.545; fraction: 1.645\n",
      " 50 100 0.10       test: cases: 1322; precision: 0.548; recall: 0.548; fraction: 1.805\n",
      " 50 100 0.20 validation: cases: 1322; precision: 0.541; recall: 0.541; fraction: 1.524\n",
      " 50 100 0.20       test: cases: 1322; precision: 0.545; recall: 0.545; fraction: 1.724\n",
      " 50 200 0.05 validation: cases: 1322; precision: 0.542; recall: 0.542; fraction: 1.619\n",
      " 50 200 0.05       test: cases: 1322; precision: 0.545; recall: 0.545; fraction: 1.817\n",
      " 50 200 0.10 validation: cases: 1322; precision: 0.538; recall: 0.538; fraction: 1.562\n",
      " 50 200 0.10       test: cases: 1322; precision: 0.543; recall: 0.543; fraction: 1.689\n",
      " 50 200 0.20 validation: cases: 1322; precision: 0.535; recall: 0.535; fraction: 1.494\n",
      " 50 200 0.20       test: cases: 1322; precision: 0.545; recall: 0.545; fraction: 1.725\n",
      "100  10 0.05 validation: cases: 1322; precision: 0.388; recall: 0.388; fraction: inf\n",
      "100  10 0.05       test: cases: 1322; precision: 0.371; recall: 0.371; fraction: inf\n",
      "100  10 0.10 validation: cases: 1322; precision: 0.387; recall: 0.387; fraction: 173.488\n",
      "100  10 0.10       test: cases: 1322; precision: 0.400; recall: 0.400; fraction: 77.737\n",
      "100  10 0.20 validation: cases: 1322; precision: 0.520; recall: 0.520; fraction: 3.937\n",
      "100  10 0.20       test: cases: 1322; precision: 0.517; recall: 0.517; fraction: 4.179\n",
      "100  20 0.05 validation: cases: 1322; precision: 0.387; recall: 0.387; fraction: 172.705\n",
      "100  20 0.05       test: cases: 1322; precision: 0.398; recall: 0.398; fraction: 74.212\n",
      "100  20 0.10 validation: cases: 1322; precision: 0.522; recall: 0.522; fraction: 3.746\n",
      "100  20 0.10       test: cases: 1322; precision: 0.519; recall: 0.519; fraction: 4.151\n",
      "100  20 0.20 validation: cases: 1322; precision: 0.548; recall: 0.548; fraction: 2.043\n",
      "100  20 0.20       test: cases: 1322; precision: 0.555; recall: 0.555; fraction: 2.103\n",
      "100  50 0.05 validation: cases: 1322; precision: 0.548; recall: 0.548; fraction: 2.456\n",
      "100  50 0.05       test: cases: 1322; precision: 0.541; recall: 0.541; fraction: 2.677\n",
      "100  50 0.10 validation: cases: 1322; precision: 0.551; recall: 0.551; fraction: 1.904\n",
      "100  50 0.10       test: cases: 1322; precision: 0.554; recall: 0.554; fraction: 1.875\n",
      "100  50 0.20 validation: cases: 1322; precision: 0.543; recall: 0.543; fraction: 1.559\n",
      "100  50 0.20       test: cases: 1322; precision: 0.542; recall: 0.542; fraction: 1.764\n",
      "100 100 0.05 validation: cases: 1322; precision: 0.551; recall: 0.551; fraction: 1.952\n",
      "100 100 0.05       test: cases: 1322; precision: 0.555; recall: 0.555; fraction: 1.894\n",
      "100 100 0.10 validation: cases: 1322; precision: 0.541; recall: 0.541; fraction: 1.639\n",
      "100 100 0.10       test: cases: 1322; precision: 0.542; recall: 0.542; fraction: 1.785\n",
      "100 100 0.20 validation: cases: 1322; precision: 0.539; recall: 0.539; fraction: 1.562\n",
      "100 100 0.20       test: cases: 1322; precision: 0.542; recall: 0.542; fraction: 1.716\n",
      "100 200 0.05 validation: cases: 1322; precision: 0.542; recall: 0.542; fraction: 1.642\n",
      "100 200 0.05       test: cases: 1322; precision: 0.546; recall: 0.546; fraction: 1.802\n",
      "100 200 0.10 validation: cases: 1322; precision: 0.540; recall: 0.540; fraction: 1.554\n",
      "100 200 0.10       test: cases: 1322; precision: 0.543; recall: 0.543; fraction: 1.720\n",
      "100 200 0.20 validation: cases: 1322; precision: 0.539; recall: 0.539; fraction: 1.496\n",
      "100 200 0.20       test: cases: 1322; precision: 0.548; recall: 0.548; fraction: 1.669\n",
      "200  10 0.05 validation: cases: 1322; precision: 0.388; recall: 0.388; fraction: inf\n",
      "200  10 0.05       test: cases: 1322; precision: 0.371; recall: 0.371; fraction: inf\n",
      "200  10 0.10 validation: cases: 1322; precision: 0.378; recall: 0.378; fraction: 156.257\n",
      "200  10 0.10       test: cases: 1322; precision: 0.400; recall: 0.400; fraction: 149.208\n",
      "200  10 0.20 validation: cases: 1322; precision: 0.520; recall: 0.520; fraction: 4.325\n",
      "200  10 0.20       test: cases: 1322; precision: 0.506; recall: 0.506; fraction: 4.551\n",
      "200  20 0.05 validation: cases: 1322; precision: 0.380; recall: 0.380; fraction: 158.215\n",
      "200  20 0.05       test: cases: 1322; precision: 0.399; recall: 0.399; fraction: 153.124\n",
      "200  20 0.10 validation: cases: 1322; precision: 0.519; recall: 0.519; fraction: 3.762\n",
      "200  20 0.10       test: cases: 1322; precision: 0.514; recall: 0.514; fraction: 4.071\n",
      "200  20 0.20 validation: cases: 1322; precision: 0.557; recall: 0.557; fraction: 2.050\n",
      "200  20 0.20       test: cases: 1322; precision: 0.551; recall: 0.551; fraction: 2.084\n",
      "200  50 0.05 validation: cases: 1322; precision: 0.539; recall: 0.539; fraction: 2.517\n",
      "200  50 0.05       test: cases: 1322; precision: 0.537; recall: 0.537; fraction: 2.730\n",
      "200  50 0.10 validation: cases: 1322; precision: 0.556; recall: 0.556; fraction: 1.982\n",
      "200  50 0.10       test: cases: 1322; precision: 0.550; recall: 0.550; fraction: 1.884\n",
      "200  50 0.20 validation: cases: 1322; precision: 0.544; recall: 0.544; fraction: 1.632\n",
      "200  50 0.20       test: cases: 1322; precision: 0.545; recall: 0.545; fraction: 1.789\n",
      "200 100 0.05 validation: cases: 1322; precision: 0.552; recall: 0.552; fraction: 1.994\n",
      "200 100 0.05       test: cases: 1322; precision: 0.556; recall: 0.556; fraction: 1.905\n",
      "200 100 0.10 validation: cases: 1322; precision: 0.544; recall: 0.544; fraction: 1.642\n",
      "200 100 0.10       test: cases: 1322; precision: 0.545; recall: 0.545; fraction: 1.787\n",
      "200 100 0.20 validation: cases: 1322; precision: 0.538; recall: 0.538; fraction: 1.535\n",
      "200 100 0.20       test: cases: 1322; precision: 0.538; recall: 0.538; fraction: 1.693\n",
      "200 200 0.05 validation: cases: 1322; precision: 0.543; recall: 0.543; fraction: 1.671\n",
      "200 200 0.05       test: cases: 1322; precision: 0.547; recall: 0.547; fraction: 1.822\n",
      "200 200 0.10 validation: cases: 1322; precision: 0.540; recall: 0.540; fraction: 1.552\n",
      "200 200 0.10       test: cases: 1322; precision: 0.542; recall: 0.542; fraction: 1.710\n",
      "200 200 0.20 validation: cases: 1322; precision: 0.545; recall: 0.545; fraction: 1.498\n",
      "200 200 0.20       test: cases: 1322; precision: 0.543; recall: 0.543; fraction: 1.688\n",
      "300  10 0.05 validation: cases: 1322; precision: 0.388; recall: 0.388; fraction: inf\n",
      "300  10 0.05       test: cases: 1322; precision: 0.371; recall: 0.371; fraction: inf\n",
      "300  10 0.10 validation: cases: 1322; precision: 0.380; recall: 0.380; fraction: 154.690\n",
      "300  10 0.10       test: cases: 1322; precision: 0.397; recall: 0.397; fraction: 153.907\n",
      "300  10 0.20 validation: cases: 1322; precision: 0.510; recall: 0.510; fraction: 4.202\n",
      "300  10 0.20       test: cases: 1322; precision: 0.501; recall: 0.501; fraction: 4.718\n",
      "300  20 0.05 validation: cases: 1322; precision: 0.380; recall: 0.380; fraction: 155.865\n",
      "300  20 0.05       test: cases: 1322; precision: 0.395; recall: 0.395; fraction: 155.082\n",
      "300  20 0.10 validation: cases: 1322; precision: 0.516; recall: 0.516; fraction: 3.848\n",
      "300  20 0.10       test: cases: 1322; precision: 0.510; recall: 0.510; fraction: 4.331\n",
      "300  20 0.20 validation: cases: 1322; precision: 0.554; recall: 0.554; fraction: 2.036\n",
      "300  20 0.20       test: cases: 1322; precision: 0.551; recall: 0.551; fraction: 2.195\n",
      "300  50 0.05 validation: cases: 1322; precision: 0.536; recall: 0.536; fraction: 2.495\n",
      "300  50 0.05       test: cases: 1322; precision: 0.531; recall: 0.531; fraction: 2.699\n",
      "300  50 0.10 validation: cases: 1322; precision: 0.553; recall: 0.553; fraction: 2.000\n",
      "300  50 0.10       test: cases: 1322; precision: 0.558; recall: 0.558; fraction: 1.872\n",
      "300  50 0.20 validation: cases: 1322; precision: 0.540; recall: 0.540; fraction: 1.596\n",
      "300  50 0.20       test: cases: 1322; precision: 0.543; recall: 0.543; fraction: 1.720\n",
      "300 100 0.05 validation: cases: 1322; precision: 0.552; recall: 0.552; fraction: 1.976\n",
      "300 100 0.05       test: cases: 1322; precision: 0.556; recall: 0.556; fraction: 1.891\n",
      "300 100 0.10 validation: cases: 1322; precision: 0.545; recall: 0.545; fraction: 1.616\n",
      "300 100 0.10       test: cases: 1322; precision: 0.545; recall: 0.545; fraction: 1.797\n",
      "300 100 0.20 validation: cases: 1322; precision: 0.548; recall: 0.548; fraction: 1.559\n",
      "300 100 0.20       test: cases: 1322; precision: 0.540; recall: 0.540; fraction: 1.690\n",
      "300 200 0.05 validation: cases: 1322; precision: 0.544; recall: 0.544; fraction: 1.650\n",
      "300 200 0.05       test: cases: 1322; precision: 0.545; recall: 0.545; fraction: 1.820\n",
      "300 200 0.10 validation: cases: 1322; precision: 0.539; recall: 0.539; fraction: 1.559\n",
      "300 200 0.10       test: cases: 1322; precision: 0.544; recall: 0.544; fraction: 1.703\n",
      "300 200 0.20 validation: cases: 1322; precision: 0.541; recall: 0.541; fraction: 1.545\n",
      "300 200 0.20       test: cases: 1322; precision: 0.542; recall: 0.542; fraction: 1.666\n"
     ]
    }
   ],
   "source": [
    "scoresValidation = {}\n",
    "scoresTest = {}\n",
    "for dim in [10,20,50,100,200,300]:\n",
    "    for epoch in [10,20,50,100,200]:\n",
    "        for lr in [0.05,0.1,0.2]:\n",
    "            predictionCountsValidation,predictionLabelsValidation,predictionCountsTest,predictionLabelsTest = \\\n",
    "                runFasttext(fasttextData,dim=dim,epoch=epoch,lr=lr,squealFlag=False)\n",
    "            key = \",\".join([str(dim),str(epoch),str(lr)])\n",
    "            print(f\"{dim:3} {epoch:3} {lr:0.2f}\",end=\" validation: \")\n",
    "            scoresValidation[key] = evaluate(predictionCountsValidation,predictionLabelsValidation,fasttextData)\n",
    "            print(f\"{dim:3} {epoch:3} {lr:0.2f}\",end=\"       test: \")\n",
    "            scoresTest[key] = evaluate(predictionCountsTest,predictionLabelsTest,fasttextData)"
   ]
  },
  {
   "cell_type": "code",
   "execution_count": 20,
   "metadata": {},
   "outputs": [
    {
     "name": "stdout",
     "output_type": "stream",
     "text": [
      "optimizing accuracy via validation data\n"
     ]
    },
    {
     "data": {
      "text/plain": [
       "[((0.559, 1.9350691096110575), '20,50,0.1'),\n",
       " ((0.558, 1.8928354584092288), '10,50,0.1'),\n",
       " ((0.558, 1.9407002631046346), '50,50,0.1'),\n",
       " ((0.557, 2.049891848816029), '200,20,0.2'),\n",
       " ((0.556, 1.876984126984127), '10,100,0.05'),\n",
       " ((0.556, 1.981661804785187), '200,50,0.1'),\n",
       " ((0.555, 1.907024629761622), '20,100,0.05'),\n",
       " ((0.555, 1.8928354584092288), '50,100,0.05'),\n",
       " ((0.554, 2.0358319776415135), '300,20,0.2'),\n",
       " ((0.553, 1.9996412209526964), '300,50,0.1')]"
      ]
     },
     "execution_count": 20,
     "metadata": {},
     "output_type": "execute_result"
    }
   ],
   "source": [
    "print(\"optimizing accuracy via validation data\")\n",
    "[(scoresValidation[k],k) for k in sorted(scoresValidation.keys(),\\\n",
    "                                         key=lambda k:scoresValidation[k][0],reverse=True)][0:10]"
   ]
  },
  {
   "cell_type": "code",
   "execution_count": 21,
   "metadata": {},
   "outputs": [
    {
     "name": "stdout",
     "output_type": "stream",
     "text": [
      "checking best accuracy for test data\n"
     ]
    },
    {
     "data": {
      "text/plain": [
       "[((0.56, 2.054504693848956), '20,20,0.2'),\n",
       " ((0.559, 1.8330044525399716), '20,100,0.05'),\n",
       " ((0.559, 1.893767889669529), '50,50,0.1'),\n",
       " ((0.558, 1.7929321090913597), '10,50,0.1'),\n",
       " ((0.558, 1.877559456910695), '20,50,0.1'),\n",
       " ((0.558, 1.8720045472748648), '300,50,0.1'),\n",
       " ((0.557, 1.788755969083838), '10,100,0.05'),\n",
       " ((0.557, 1.8302848613640963), '50,100,0.05'),\n",
       " ((0.556, 1.9049570647931304), '200,100,0.05'),\n",
       " ((0.556, 1.8914467310002714), '300,100,0.05')]"
      ]
     },
     "execution_count": 21,
     "metadata": {},
     "output_type": "execute_result"
    }
   ],
   "source": [
    "print(\"checking best accuracy for test data\")\n",
    "[(scoresTest[k],k) for k in sorted(scoresTest.keys(),\\\n",
    "                                         key=lambda k:scoresTest[k][0],reverse=True)][0:10]"
   ]
  },
  {
   "cell_type": "markdown",
   "metadata": {},
   "source": [
    "Facemasks: best validation accuracy 0.56 for '20,50,0.1', associated test accuracy 0.56 (5th score).\n",
    "\n",
    "Social distancing: best validation accuracy 0.65 for '300,10,0.2', associated test accuracy 0.65 (top score)."
   ]
  },
  {
   "cell_type": "code",
   "execution_count": 22,
   "metadata": {},
   "outputs": [
    {
     "name": "stdout",
     "output_type": "stream",
     "text": [
      "optimizing fraction via validation data\n"
     ]
    },
    {
     "data": {
      "text/plain": [
       "[((0.543, 1.480744980114463), '10,200,0.2'),\n",
       " ((0.542, 1.484408232714898), '20,200,0.2'),\n",
       " ((0.544, 1.4909912875545899), '10,200,0.1'),\n",
       " ((0.535, 1.4942210946309307), '50,200,0.2'),\n",
       " ((0.539, 1.496133416227654), '100,200,0.2'),\n",
       " ((0.545, 1.498478452930205), '200,200,0.2'),\n",
       " ((0.541, 1.5235017104269404), '50,100,0.2'),\n",
       " ((0.543, 1.5304457630717312), '20,100,0.2'),\n",
       " ((0.54, 1.5328483466872282), '20,200,0.1'),\n",
       " ((0.538, 1.535441379003954), '200,100,0.2')]"
      ]
     },
     "execution_count": 22,
     "metadata": {},
     "output_type": "execute_result"
    }
   ],
   "source": [
    "print(\"optimizing fraction via validation data\")\n",
    "[(scoresValidation[k],k) for k in sorted(scoresValidation.keys(),\n",
    "                                         key=lambda k:scoresValidation[k][1])][0:10]"
   ]
  },
  {
   "cell_type": "code",
   "execution_count": 23,
   "metadata": {},
   "outputs": [
    {
     "name": "stdout",
     "output_type": "stream",
     "text": [
      "checking fraction for test data\n"
     ]
    },
    {
     "data": {
      "text/plain": [
       "[((0.542, 1.6587773949160605), '20,200,0.2'),\n",
       " ((0.542, 1.666260601208915), '300,200,0.2'),\n",
       " ((0.548, 1.6694105833450095), '100,200,0.2'),\n",
       " ((0.543, 1.6877607379987074), '200,200,0.2'),\n",
       " ((0.543, 1.6894937181822427), '50,200,0.1'),\n",
       " ((0.54, 1.6902873259298432), '300,100,0.2'),\n",
       " ((0.538, 1.692813913860979), '200,100,0.2'),\n",
       " ((0.543, 1.6978670897232504), '10,200,0.2'),\n",
       " ((0.544, 1.702920265585522), '300,200,0.1'),\n",
       " ((0.542, 1.7098229698679714), '20,200,0.1')]"
      ]
     },
     "execution_count": 23,
     "metadata": {},
     "output_type": "execute_result"
    }
   ],
   "source": [
    "print(\"checking fraction for test data\")\n",
    "[(scoresTest[k],k) for k in sorted(scoresTest.keys(),\n",
    "                                         key=lambda k:scoresTest[k][1])][0:10]"
   ]
  },
  {
   "cell_type": "markdown",
   "metadata": {},
   "source": [
    "Facemasks: best validation ratio: 1.48 for '10,200,0.2'; associated test ratio: 1.70 (8th scsore)\n",
    "\n",
    "Social distancing: best validation ratio 0.88 for '200,200,0.2'; associated test accuracy 0.83 (top score)."
   ]
  },
  {
   "cell_type": "code",
   "execution_count": null,
   "metadata": {},
   "outputs": [],
   "source": [
    "N = 5\n",
    "scoresN = {} \n",
    "triplets = [(20,300,0.2),(50,200,0.2),(300,200,0.2),(20,200,0.05),(10,300,0.2)]\n",
    "\n",
    "for triplet in triplets:\n",
    "    dim,epoch,lr = triplet\n",
    "    key = \" \".join([str(dim),str(epoch),str(lr)])\n",
    "    scoresN[key] = []\n",
    "    for i in range(0,N): \n",
    "        predictionCounts,predictionLabels = runFasttext(fasttextData,dim=dim,epoch=epoch,lr=lr,squealFlag=False)\n",
    "        print(dim,epoch,lr,end=\" \")\n",
    "        scoresN[key].append(evaluate(predictionCounts,predictionLabels,fasttextData))"
   ]
  },
  {
   "cell_type": "code",
   "execution_count": null,
   "metadata": {},
   "outputs": [],
   "source": [
    "scoresNaverage = {}\n",
    "for key in scoresN: scoresNaverage[key] = round(np.average([x[1] for x in scoresN[key]]),3)\n",
    "{key:scoresNaverage[key] for key in sorted(scoresNaverage.keys(),key=lambda k:scoresNaverage[k],reverse=True)}"
   ]
  },
  {
   "cell_type": "code",
   "execution_count": null,
   "metadata": {},
   "outputs": [],
   "source": [
    "for dim in [10]:\n",
    "    for epoch in [900]:\n",
    "        for lr in [0.2]:\n",
    "            predictionCounts,predictionLabels = runFasttext(fasttextData,dim=dim,epoch=epoch,lr=lr,squealFlag=False)\n",
    "            print(dim,epoch,lr,end=\" \")\n",
    "            key = \",\".join([str(dim),str(epoch),str(lr)])\n",
    "            scores[key] = evaluate(predictionCounts,predictionLabels,fasttextData)"
   ]
  },
  {
   "cell_type": "markdown",
   "metadata": {},
   "source": [
    "## Run with best parameters"
   ]
  },
  {
   "cell_type": "code",
   "execution_count": 24,
   "metadata": {},
   "outputs": [],
   "source": [
    "def setBestParameters():\n",
    "    if TOPIC == DISTANCE:\n",
    "        # social distancing (202008: 20,300,0.9) (202009:20,10,0.05) (202009:10,10,0.2)\n",
    "        BESTDIM = 200\n",
    "        BESTEPOCH = 200\n",
    "        BESTLR = 0.2\n",
    "    elif TOPIC == FACEMASK:\n",
    "        # facemasks (202008: 10,900,0.2)\n",
    "        BESTDIM = 10\n",
    "        BESTEPOCH = 200\n",
    "        BESTLR = 0.2\n",
    "    else:\n",
    "        print(\"unknown topic!\",file=sys.stderr)\n",
    "        sys.exit(1)\n",
    "    return(BESTDIM,BESTEPOCH,BESTLR)\n",
    "        \n",
    "BESTDIM,BESTEPOCH,BESTLR = setBestParameters()"
   ]
  },
  {
   "cell_type": "code",
   "execution_count": 25,
   "metadata": {},
   "outputs": [
    {
     "name": "stdout",
     "output_type": "stream",
     "text": [
      "finished\n"
     ]
    }
   ],
   "source": [
    "predictionCountsValidation,predictionLabelsValidation,predictionCountsTest,predictionLabelsTest = \\\n",
    "    runFasttext(fasttextData,dim=BESTDIM,epoch=BESTEPOCH,lr=BESTLR)"
   ]
  },
  {
   "cell_type": "code",
   "execution_count": 26,
   "metadata": {},
   "outputs": [
    {
     "name": "stdout",
     "output_type": "stream",
     "text": [
      "cases: 1322; precision: 0.537; recall: 0.537; fraction: 1.467\n",
      "cases: 1322; precision: 0.539; recall: 0.539; fraction: 1.714\n"
     ]
    },
    {
     "data": {
      "text/plain": [
       "(0.539, 1.7139781893880255)"
      ]
     },
     "execution_count": 26,
     "metadata": {},
     "output_type": "execute_result"
    }
   ],
   "source": [
    "evaluate(predictionCountsValidation,predictionLabelsValidation,fasttextData)\n",
    "evaluate(predictionCountsTest,predictionLabelsTest,fasttextData)"
   ]
  },
  {
   "cell_type": "code",
   "execution_count": 27,
   "metadata": {},
   "outputs": [
    {
     "data": {
      "text/plain": [
       "{'__label__IRRELEVANT': 558, '__label__REJECTS': 549, '__label__SUPPORTS': 215}"
      ]
     },
     "execution_count": 27,
     "metadata": {},
     "output_type": "execute_result"
    }
   ],
   "source": [
    "labelCountsGold = {}\n",
    "for i in range(0,len(fasttextData)):\n",
    "    label = fasttextData[i].split()[0]\n",
    "    if label in labelCountsGold: labelCountsGold[label] += 1\n",
    "    else: labelCountsGold[label] = 1\n",
    "labelCountsGold"
   ]
  },
  {
   "cell_type": "code",
   "execution_count": 28,
   "metadata": {},
   "outputs": [
    {
     "name": "stdout",
     "output_type": "stream",
     "text": [
      "baseline accuracy: 0.422\n"
     ]
    }
   ],
   "source": [
    "print(\"baseline accuracy:\",round(max(labelCountsGold.values())/sum(labelCountsGold.values()),3))"
   ]
  },
  {
   "cell_type": "code",
   "execution_count": 29,
   "metadata": {},
   "outputs": [
    {
     "data": {
      "text/plain": [
       "{'__label__IRRELEVANT': 494, '__label__REJECTS': 674, '__label__SUPPORTS': 154}"
      ]
     },
     "execution_count": 29,
     "metadata": {},
     "output_type": "execute_result"
    }
   ],
   "source": [
    "labelCountsPredicted = {}\n",
    "for i in range(0,len(predictionLabelsTest)):\n",
    "    for label in predictionLabelsTest[i][0]:\n",
    "        if label[0] in labelCountsPredicted: labelCountsPredicted[label[0]] += 1\n",
    "        else: labelCountsPredicted[label[0]] = 1\n",
    "labelCountsPredicted"
   ]
  },
  {
   "cell_type": "code",
   "execution_count": 30,
   "metadata": {},
   "outputs": [
    {
     "name": "stdout",
     "output_type": "stream",
     "text": [
      "total absolute deviation 250\n"
     ]
    }
   ],
   "source": [
    "print(\"total absolute deviation\",sum([abs(labelCountsPredicted[l]-labelCountsGold[l]) for l in labelCountsGold]))"
   ]
  },
  {
   "cell_type": "code",
   "execution_count": 31,
   "metadata": {},
   "outputs": [
    {
     "name": "stdout",
     "output_type": "stream",
     "text": [
      "relative deviation per label: {'__label__IRRELEVANT': 0.115, '__label__REJECTS': 0.228, '__label__SUPPORTS': 0.284}\n"
     ]
    }
   ],
   "source": [
    "print(\"relative deviation per label:\",\\\n",
    "      {l:round(abs(labelCountsPredicted[l]-labelCountsGold[l])/labelCountsGold[l],3) for l in labelCountsGold})"
   ]
  },
  {
   "cell_type": "code",
   "execution_count": 32,
   "metadata": {},
   "outputs": [
    {
     "data": {
      "text/html": [
       "<div>\n",
       "<style scoped>\n",
       "    .dataframe tbody tr th:only-of-type {\n",
       "        vertical-align: middle;\n",
       "    }\n",
       "\n",
       "    .dataframe tbody tr th {\n",
       "        vertical-align: top;\n",
       "    }\n",
       "\n",
       "    .dataframe thead th {\n",
       "        text-align: right;\n",
       "    }\n",
       "</style>\n",
       "<table border=\"1\" class=\"dataframe\">\n",
       "  <thead>\n",
       "    <tr style=\"text-align: right;\">\n",
       "      <th>col_0</th>\n",
       "      <th>__label__IRRELEVANT</th>\n",
       "      <th>__label__REJECTS</th>\n",
       "      <th>__label__SUPPORTS</th>\n",
       "    </tr>\n",
       "    <tr>\n",
       "      <th>row_0</th>\n",
       "      <th></th>\n",
       "      <th></th>\n",
       "      <th></th>\n",
       "    </tr>\n",
       "  </thead>\n",
       "  <tbody>\n",
       "    <tr>\n",
       "      <td>__label__IRRELEVANT</td>\n",
       "      <td>195</td>\n",
       "      <td>296</td>\n",
       "      <td>67</td>\n",
       "    </tr>\n",
       "    <tr>\n",
       "      <td>__label__REJECTS</td>\n",
       "      <td>212</td>\n",
       "      <td>274</td>\n",
       "      <td>63</td>\n",
       "    </tr>\n",
       "    <tr>\n",
       "      <td>__label__SUPPORTS</td>\n",
       "      <td>87</td>\n",
       "      <td>104</td>\n",
       "      <td>24</td>\n",
       "    </tr>\n",
       "  </tbody>\n",
       "</table>\n",
       "</div>"
      ],
      "text/plain": [
       "col_0                __label__IRRELEVANT  __label__REJECTS  __label__SUPPORTS\n",
       "row_0                                                                        \n",
       "__label__IRRELEVANT                  195               296                 67\n",
       "__label__REJECTS                     212               274                 63\n",
       "__label__SUPPORTS                     87               104                 24"
      ]
     },
     "execution_count": 32,
     "metadata": {},
     "output_type": "execute_result"
    }
   ],
   "source": [
    "makeConfusionMatrix(fasttextData,predictionLabelsTest)"
   ]
  },
  {
   "cell_type": "markdown",
   "metadata": {},
   "source": [
    "For the mondkapje data, fasttext predicts 63% of the labels correctly without external dictionary and 66% with a Wikipedia dictionary (baseline: 46%). It overestimates the presence of negative labels and underestimates the level of positive and neutral labels. The amount of irrelevant labels is about right"
   ]
  },
  {
   "cell_type": "code",
   "execution_count": 33,
   "metadata": {},
   "outputs": [
    {
     "data": {
      "text/plain": [
       "{'__label__IRRELEVANT': 1.1295546558704452,\n",
       " '__label__REJECTS': 0.814540059347181,\n",
       " '__label__SUPPORTS': 1.396103896103896}"
      ]
     },
     "execution_count": 33,
     "metadata": {},
     "output_type": "execute_result"
    }
   ],
   "source": [
    "multiplicationFactors = {}\n",
    "for label in labelCountsGold:\n",
    "    multiplicationFactors[label] = labelCountsGold[label]/labelCountsPredicted[label]\n",
    "multiplicationFactors"
   ]
  },
  {
   "cell_type": "markdown",
   "metadata": {},
   "source": [
    "For mondkapje tweets, the multiplication factor for the positive label is unrealistically high so we will not use these factors."
   ]
  },
  {
   "cell_type": "code",
   "execution_count": 34,
   "metadata": {},
   "outputs": [
    {
     "name": "stdout",
     "output_type": "stream",
     "text": [
      "1322.0 1322\n"
     ]
    }
   ],
   "source": [
    "predictedNumberOfLabels = 0\n",
    "for label in labelCountsGold:\n",
    "    predictedNumberOfLabels += multiplicationFactors[label]*labelCountsPredicted[label]\n",
    "print(predictedNumberOfLabels,sum(labelCountsGold.values()))"
   ]
  },
  {
   "cell_type": "markdown",
   "metadata": {},
   "source": [
    "## Relation data size - accuracy (skip)"
   ]
  },
  {
   "cell_type": "code",
   "execution_count": null,
   "metadata": {},
   "outputs": [],
   "source": [
    "N = 5\n",
    "expResultsAll = {}\n",
    "for trainingSize in [100,200,500,1000,2000,5000,10000]:\n",
    "    expResultsTrainingSize = []\n",
    "    for i in range(0,N):\n",
    "        selection = ranSelect(fasttextData,trainingSize)\n",
    "        predictionCountsValidation,predictionLabelsValidation,predictionCountsTest,predictionLabelsTest = \\\n",
    "            runFasttext(fasttextData,dim=BESTDIM,epoch=BESTEPOCH,lr=BESTLR,squealFlag=False,maxTrain=trainingSize)\n",
    "        expResultsTrainingSize.append(evaluate(predictionCountsTest,predictionLabelsTest,fasttextData,printResults=False))\n",
    "    average = (np.average([x[0] for x in expResultsTrainingSize]),np.average([x[1] for x in expResultsTrainingSize]))\n",
    "    expResultsAll[len(selection)] = average\n",
    "    print(\"{0:4} {1:0.3f} {2:0.3f}\".format(len(selection),average[0],average[1]))\n",
    "    if len(selection) >= len(fasttextData): break"
   ]
  },
  {
   "cell_type": "code",
   "execution_count": null,
   "metadata": {},
   "outputs": [],
   "source": [
    "del(expResultsAll[list(expResultsAll.keys())[-1]])"
   ]
  },
  {
   "cell_type": "code",
   "execution_count": null,
   "metadata": {},
   "outputs": [],
   "source": [
    "PLOTFILENAME = \"training-size.png\"\n",
    "\n",
    "plt.figure(figsize=(16,6))\n",
    "\n",
    "ax1 = plt.subplot(121)\n",
    "plt.plot(list(expResultsAll.keys()),[x[0] for x in list(expResultsAll.values())])\n",
    "plt.xscale(\"log\")\n",
    "plt.ylabel(\"accuracy\")\n",
    "plt.xlabel(\"training data size\")\n",
    "plt.title(\"Accuracy related to training size\")\n",
    "\n",
    "ax1 = plt.subplot(122)\n",
    "plt.plot(list(expResultsAll.keys()),[x[1] for x in list(expResultsAll.values())])\n",
    "plt.xscale(\"log\")\n",
    "plt.ylabel(\"fraction\")\n",
    "plt.xlabel(\"training data size\")\n",
    "plt.title(\"Fraction score related to training size\")\n",
    "plt.savefig(PLOTFILENAME)\n",
    "plt.show()"
   ]
  },
  {
   "cell_type": "markdown",
   "metadata": {},
   "source": [
    "## Classifying unlabeled tweets"
   ]
  },
  {
   "cell_type": "code",
   "execution_count": 35,
   "metadata": {},
   "outputs": [],
   "source": [
    "import fasttext\n",
    "import matplotlib\n",
    "import numpy as np\n",
    "import os\n",
    "import pandas as pd\n",
    "import re\n",
    "from nltk.tokenize import TweetTokenizer"
   ]
  },
  {
   "cell_type": "code",
   "execution_count": 36,
   "metadata": {},
   "outputs": [],
   "source": [
    "BESTDIM,BESTEPOCH,BESTLR = setBestParameters()"
   ]
  },
  {
   "cell_type": "code",
   "execution_count": 37,
   "metadata": {},
   "outputs": [],
   "source": [
    "BASEDIR = \"/home/erikt/projects/puregome/data/\"\n",
    "DATADIRECTORY = BASEDIR+\"text/\"\n",
    "DATADIRECTORYREDDIT = BASEDIR+\"reddit/text/\"\n",
    "DATADIRECTORYNUNL = BASEDIR+\"nunl/text/\"\n",
    "TWITTER = \"twitter\"\n",
    "REDDIT = \"reddit\"\n",
    "NUNL = \"nunl\"\n",
    "SOURCES = [TWITTER,REDDIT,NUNL]\n",
    "DATADIRECTORIES = {TWITTER:DATADIRECTORY,REDDIT:DATADIRECTORYREDDIT,NUNL:DATADIRECTORYNUNL}\n",
    "FILEFASTTEXT = \"fasttext-\"+TOPIC+\".csv\"\n",
    "LABELPREFIX = \"__label__\"\n",
    "NEGATIVE = LABELPREFIX+\"NEGATIVE\"\n",
    "POSITIVE = LABELPREFIX+\"POSITIVE\"\n",
    "NEUTRAL = LABELPREFIX+\"NEUTRAL\"\n",
    "IRRELEVANT = LABELPREFIX+\"IRRELEVANT\"\n",
    "SUPPORTS = LABELPREFIX+\"SUPPORTS\"\n",
    "REJECTS = LABELPREFIX+\"REJECTS\"\n",
    "TEXT = \"text\"\n",
    "USER = \"user\"\n",
    "TOTAL = \"total\"\n",
    "DIM = BESTDIM\n",
    "EPOCH = BESTEPOCH\n",
    "LR = BESTLR"
   ]
  },
  {
   "cell_type": "code",
   "execution_count": 38,
   "metadata": {},
   "outputs": [],
   "source": [
    "def cleanup(text):\n",
    "    text = re.sub(r\"\\\\n\",\" \",text)\n",
    "    text = re.sub(r\"https://\\S+\",\"\",text)\n",
    "    text = re.sub(r\"\\s+\",\" \",text)\n",
    "    text = text.strip()\n",
    "    return(text)\n",
    "\n",
    "def tokenize(text):\n",
    "    return(\" \".join(TweetTokenizer().tokenize(text)))\n",
    "\n",
    "def preprocess(text):\n",
    "    return(tokenize(cleanup(text)).lower())"
   ]
  },
  {
   "cell_type": "code",
   "execution_count": 39,
   "metadata": {},
   "outputs": [],
   "source": [
    "def makeGrepCommandFromQuery(query):\n",
    "    grepCommand = \"grep\"\n",
    "    for orPart in query.split(\"|\"):\n",
    "        grepCommand += ' -e \"'+orPart+'\"'\n",
    "    return(grepCommand)\n",
    "\n",
    "def readData(datePattern,query,dataDirectory=DATADIRECTORY):\n",
    "    fileList = sorted(os.listdir(dataDirectory))\n",
    "    testData = []\n",
    "    for inFileName in fileList:\n",
    "        if re.search(datePattern,inFileName) and os.path.exists(dataDirectory+inFileName):\n",
    "            try:\n",
    "                fileData = pd.read_csv(dataDirectory+inFileName).drop_duplicates()\n",
    "                matchedText = [line for line in fileData[TEXT] if re.search(query,line,flags=re.IGNORECASE)]\n",
    "                matchedTextPreprocessed = [preprocess(line) for line in matchedText]\n",
    "                testData.extend(matchedTextPreprocessed)\n",
    "            except:\n",
    "                pass\n",
    "    return(testData)\n",
    "    \n",
    "def classify(datePattern,query,model,dataDirectory=DATADIRECTORY):\n",
    "    testData = readData(datePattern,query,dataDirectory)\n",
    "    predictedLabels = model.predict(testData)\n",
    "    predictedGroups = pd.DataFrame(predictedLabels[0]).groupby(0).groups\n",
    "    labelCountsPredicted = {label:len(predictedGroups[label]) for label in predictedGroups}\n",
    "    nbrOfLabels = sum([labelCountsPredicted[label] for label in labelCountsPredicted if label != IRRELEVANT])\n",
    "    labelPercentages = { label:round(100*labelCountsPredicted[label]/nbrOfLabels,1) for label in labelCountsPredicted}\n",
    "    labelPercentages[TOTAL] = nbrOfLabels\n",
    "    return(labelPercentages)"
   ]
  },
  {
   "cell_type": "code",
   "execution_count": 40,
   "metadata": {},
   "outputs": [],
   "source": [
    "import ast\n",
    "\n",
    "RESULTSFILE = \"results-\"+TOPIC+\".csv\"\n",
    "\n",
    "def storeResults(results):\n",
    "     pd.DataFrame(results).T.to_csv(RESULTSFILE,index_label=SOURCE)\n",
    "        \n",
    "def readResults():\n",
    "    df = pd.read_csv(RESULTSFILE,index_col=SOURCE)\n",
    "    for source in df.index:\n",
    "        for date in df.loc[source].index:\n",
    "            try:\n",
    "                df.loc[source][date] = ast.literal_eval(df.loc[source][date])\n",
    "            except: pass\n",
    "    return(removeNan(df.T.to_dict()))\n",
    "\n",
    "def getTotals(results):\n",
    "    totals = {}\n",
    "    for source in results:\n",
    "        for date in results[source]:\n",
    "            try:\n",
    "                if not source in totals: totals[source] = 0\n",
    "                totals[source] += results[source][date][TOTAL]\n",
    "            except: pass\n",
    "    return(totals)\n",
    "\n",
    "def removeNan(results):\n",
    "    for source in results:\n",
    "        toBeDeleted = []\n",
    "        for date in results[source]:\n",
    "            if results[source][date] != results[source][date]:\n",
    "                toBeDeleted.append(date)\n",
    "        for date in toBeDeleted: del(results[source][date])\n",
    "    return(results)\n",
    "\n",
    "results = readResults()\n",
    "totals =  getTotals(results)"
   ]
  },
  {
   "cell_type": "code",
   "execution_count": 41,
   "metadata": {},
   "outputs": [],
   "source": [
    "MAXDAYSPERMONTH = 31\n",
    "\n",
    "if TOPIC == DISTANCE:\n",
    "    QUERY = \"1[.,]5[ -]*m|afstand.*hou|hou.*afstand|anderhalve[ -]*meter\"\n",
    "elif TOPIC == FACEMASK:\n",
    "    QUERY = TOPIC\n",
    "else:\n",
    "    print(\"unknown topic!\",file=sys.stderr)\n",
    "    sys.exit(1)\n",
    "MAXDAYSPERMONTH = 31\n",
    "\n",
    "model = fasttext.train_supervised(FILEFASTTEXT,dim=BESTDIM,epoch=BESTEPOCH,lr=BESTLR)"
   ]
  },
  {
   "cell_type": "markdown",
   "metadata": {},
   "source": [
    "### Recompute results per data source (time-consuming: usually skipped)"
   ]
  },
  {
   "cell_type": "code",
   "execution_count": 42,
   "metadata": {},
   "outputs": [
    {
     "name": "stdout",
     "output_type": "stream",
     "text": [
      "twitter 20200201 91.3 8.7 131.7 126\n",
      "twitter 20200202 90.8 9.2 119.2 120\n",
      "twitter 20200203 80.2 19.8 97.7 86\n",
      "twitter 20200204 92.6 7.4 59.0 122\n",
      "twitter 20200205 64.5 35.5 73.7 76\n",
      "twitter 20200206 83.3 16.7 63.6 66\n",
      "twitter 20200207 74.0 26.0 65.0 100\n",
      "twitter 20200208 84.2 15.8 60.0 95\n",
      "twitter 20200209 71.9 28.1 90.6 32\n",
      "twitter 20200210 79.6 20.4 83.3 54\n",
      "twitter 20200211 96.9 3.1 78.1 32\n",
      "twitter 20200212 60.5 39.5 73.7 38\n",
      "twitter 20200213 90.3 9.7 90.3 31\n",
      "twitter 20200214 78.9 21.1 105.3 19\n",
      "twitter 20200215 83.3 16.7 33.3 30\n",
      "twitter 20200216 93.1 6.9 41.4 29\n",
      "twitter 20200217 81.0 19.0 79.4 63\n",
      "twitter 20200218 87.0 13.0 164.8 54\n",
      "twitter 20200219 95.8 4.2 83.3 24\n",
      "twitter 20200220 87.5 12.5 50.0 16\n",
      "twitter 20200221 92.8 7.2 158.8 97\n",
      "twitter 20200222 77.1 22.9 162.5 144\n",
      "twitter 20200223 82.9 17.1 115.9 82\n",
      "twitter 20200224 87.1 12.9 95.5 201\n",
      "twitter 20200225 85.5 14.5 60.3 785\n",
      "twitter 20200226 78.7 21.3 47.9 980\n",
      "twitter 20200227 79.9 20.1 67.6 1129\n",
      "twitter 20200228 82.1 17.9 79.5 991\n",
      "twitter 20200229 48.3 51.7 38.3 744\n",
      "twitter 20200230 error\n",
      "twitter 20200231 error\n",
      "twitter 20200301 61.1 38.9 59.8 579\n",
      "twitter 20200302 79.8 20.2 153.7 456\n",
      "twitter 20200303 75.2 24.8 169.0 416\n",
      "twitter 20200304 86.7 13.3 100.2 413\n",
      "twitter 20200305 86.0 14.0 113.3 437\n",
      "twitter 20200306 92.8 7.2 65.1 556\n",
      "twitter 20200307 90.4 9.6 88.4 293\n",
      "twitter 20200308 90.5 9.5 73.5 283\n",
      "twitter 20200309 73.2 26.8 47.8 481\n",
      "twitter 20200310 77.9 22.1 51.3 394\n",
      "twitter 20200311 96.0 4.0 53.3 988\n",
      "twitter 20200312 90.4 9.6 60.1 1314\n",
      "twitter 20200313 96.4 3.6 34.3 2534\n",
      "twitter 20200314 93.1 6.9 79.2 899\n",
      "twitter 20200315 90.0 10.0 66.2 1010\n",
      "twitter 20200316 91.6 8.4 97.1 1916\n",
      "twitter 20200317 90.3 9.7 130.7 2759\n",
      "twitter 20200318 86.0 14.0 140.5 3300\n",
      "twitter 20200319 92.6 7.4 126.5 3787\n",
      "twitter 20200320 91.5 8.5 152.1 3467\n",
      "twitter 20200321 73.0 27.0 104.4 4768\n",
      "twitter 20200322 82.3 17.7 88.6 3154\n",
      "twitter 20200323 88.1 11.9 80.2 2612\n",
      "twitter 20200324 90.0 10.0 86.7 1821\n",
      "twitter 20200325 74.2 25.8 85.3 1376\n",
      "twitter 20200326 89.7 10.3 98.1 1529\n",
      "twitter 20200327 90.1 9.9 92.7 1390\n",
      "twitter 20200328 89.3 10.7 86.1 1667\n",
      "twitter 20200329 89.3 10.7 74.2 1452\n",
      "twitter 20200330 86.1 13.9 88.8 1542\n",
      "twitter 20200331 86.2 13.8 99.4 1229\n",
      "twitter 20200401 85.9 14.1 79.7 2339\n",
      "twitter 20200402 91.8 8.2 100.5 2226\n",
      "twitter 20200403 91.1 8.9 52.3 4124\n",
      "twitter 20200404 89.3 10.7 45.6 3199\n",
      "twitter 20200405 88.6 11.4 67.8 1261\n",
      "twitter 20200406 90.3 9.7 76.4 1652\n",
      "twitter 20200407 88.5 11.5 96.8 1698\n",
      "twitter 20200408 76.7 23.3 77.3 2463\n",
      "twitter 20200409 87.6 12.4 97.4 2724\n",
      "twitter 20200410 92.4 7.6 106.3 2598\n",
      "twitter 20200411 94.6 5.4 128.3 2858\n",
      "twitter 20200412 90.1 9.9 142.1 943\n",
      "twitter 20200413 80.0 20.0 36.7 2244\n",
      "twitter 20200414 82.1 17.9 87.7 1388\n",
      "twitter 20200415 90.9 9.1 74.3 5049\n",
      "twitter 20200416 88.5 11.5 75.5 9664\n",
      "twitter 20200417 82.2 17.8 91.2 5838\n",
      "twitter 20200418 81.4 18.6 86.4 4043\n",
      "twitter 20200419 85.3 14.7 90.9 3424\n",
      "twitter 20200420 84.6 15.4 102.4 3190\n",
      "twitter 20200421 90.9 9.1 105.2 3180\n",
      "twitter 20200422 92.0 8.0 78.3 5052\n",
      "twitter 20200423 93.2 6.8 67.3 4944\n",
      "twitter 20200424 88.8 11.2 72.2 4252\n",
      "twitter 20200425 82.3 17.7 83.1 7411\n",
      "twitter 20200426 83.2 16.8 58.0 5504\n",
      "twitter 20200427 84.2 15.8 85.6 2393\n",
      "twitter 20200428 85.7 14.3 123.7 2844\n",
      "twitter 20200429 86.8 13.2 93.5 4843\n",
      "twitter 20200430 84.2 15.8 135.7 3531\n",
      "twitter 20200431 error\n",
      "twitter 20200501 86.1 13.9 67.2 3278\n",
      "twitter 20200502 90.9 9.1 83.1 3289\n",
      "twitter 20200503 92.1 7.9 73.4 2670\n",
      "twitter 20200504 89.6 10.4 79.7 2929\n",
      "twitter 20200505 86.4 13.6 72.9 2328\n",
      "twitter 20200506 87.3 12.7 64.1 8899\n",
      "twitter 20200507 82.8 17.2 71.8 9041\n",
      "twitter 20200508 85.1 14.9 79.4 2870\n",
      "twitter 20200509 85.5 14.5 87.5 1838\n",
      "twitter 20200510 84.9 15.1 72.4 1479\n",
      "twitter 20200511 85.5 14.5 73.8 2373\n",
      "twitter 20200512 82.1 17.9 70.3 2080\n",
      "twitter 20200513 87.0 13.0 73.0 1751\n",
      "twitter 20200514 85.4 14.6 74.5 1779\n",
      "twitter 20200515 86.7 13.3 70.8 1722\n",
      "twitter 20200516 81.8 18.2 82.3 2496\n",
      "twitter 20200517 85.2 14.8 94.5 2013\n",
      "twitter 20200518 86.6 13.4 63.2 2533\n",
      "twitter 20200519 84.6 15.4 70.1 4739\n",
      "twitter 20200520 85.0 15.0 71.0 3584\n",
      "twitter 20200521 87.1 12.9 67.1 2102\n",
      "twitter 20200522 85.8 14.2 96.3 1483\n",
      "twitter 20200523 88.4 11.6 83.4 1101\n",
      "twitter 20200524 85.4 14.6 54.1 1134\n",
      "twitter 20200525 84.3 15.7 115.5 1305\n",
      "twitter 20200526 84.1 15.9 59.4 1486\n",
      "twitter 20200527 86.0 14.0 72.2 1192\n",
      "twitter 20200528 87.6 12.4 68.8 1411\n",
      "twitter 20200529 86.4 13.6 59.3 1132\n",
      "twitter 20200530 91.5 8.5 84.6 1244\n",
      "twitter 20200531 88.8 11.2 57.2 1498\n",
      "twitter 20200601 87.0 13.0 92.5 5097\n",
      "twitter 20200602 85.7 14.3 108.7 3797\n",
      "twitter 20200603 88.2 11.8 87.9 2125\n",
      "twitter 20200604 89.2 10.8 64.5 1567\n",
      "twitter 20200605 82.3 17.7 82.2 1178\n",
      "twitter 20200606 83.5 16.5 68.3 1423\n",
      "twitter 20200607 82.9 17.1 77.2 1302\n",
      "twitter 20200608 87.0 13.0 83.7 912\n",
      "twitter 20200609 90.1 9.9 58.3 1279\n",
      "twitter 20200610 86.3 13.7 76.2 1193\n",
      "twitter 20200611 79.0 21.0 79.0 781\n",
      "twitter 20200612 84.4 15.6 60.8 1154\n",
      "twitter 20200613 84.4 15.6 68.7 871\n",
      "twitter 20200614 58.7 41.3 43.3 921\n",
      "twitter 20200615 80.7 19.3 61.4 998\n",
      "twitter 20200616 89.6 10.4 58.7 1327\n",
      "twitter 20200617 85.3 14.7 83.7 817\n",
      "twitter 20200618 85.5 14.5 94.0 705\n",
      "twitter 20200619 82.2 17.8 73.5 940\n",
      "twitter 20200620 83.2 16.8 84.6 758\n",
      "twitter 20200621 87.5 12.5 49.8 1276\n",
      "twitter 20200622 84.3 15.7 65.5 964\n",
      "twitter 20200623 77.2 22.8 144.7 593\n",
      "twitter 20200624 85.7 14.3 77.9 1202\n",
      "twitter 20200625 80.4 19.6 68.4 787\n",
      "twitter 20200626 83.1 16.9 61.5 628\n",
      "twitter 20200627 82.9 17.1 52.8 562\n",
      "twitter 20200628 80.7 19.3 59.5 571\n",
      "twitter 20200629 73.7 26.3 63.5 814\n",
      "twitter 20200630 84.2 15.8 45.4 833\n",
      "twitter 20200631 error\n",
      "twitter 20200701 85.9 14.1 62.1 786\n",
      "twitter 20200702 64.2 35.8 58.2 905\n",
      "twitter 20200703 75.5 24.5 82.7 649\n",
      "twitter 20200704 82.3 17.7 77.8 513\n",
      "twitter 20200705 85.8 14.2 59.9 810\n",
      "twitter 20200706 84.7 15.3 43.2 1337\n",
      "twitter 20200707 81.7 18.3 92.9 886\n",
      "twitter 20200708 82.0 18.0 62.3 746\n",
      "twitter 20200709 85.2 14.8 69.6 796\n",
      "twitter 20200710 84.9 15.1 54.7 1214\n",
      "twitter 20200711 85.9 14.1 98.0 745\n",
      "twitter 20200712 92.1 7.9 46.1 1810\n",
      "twitter 20200713 85.8 14.2 99.0 816\n",
      "twitter 20200714 85.9 14.1 62.3 1346\n",
      "twitter 20200715 85.1 14.9 97.9 1338\n",
      "twitter 20200716 87.1 12.9 74.4 1532\n",
      "twitter 20200717 81.2 18.8 89.0 1688\n",
      "twitter 20200718 84.0 16.0 82.2 1451\n",
      "twitter 20200719 74.3 25.7 64.4 1416\n",
      "twitter 20200720 81.8 18.2 63.0 1035\n",
      "twitter 20200721 87.1 12.9 51.3 2049\n",
      "twitter 20200722 81.4 18.6 62.9 4873\n",
      "twitter 20200723 85.4 14.6 60.9 8474\n",
      "twitter 20200724 81.6 18.4 55.2 9278\n",
      "twitter 20200725 85.5 14.5 61.5 4398\n",
      "twitter 20200726 79.4 20.6 57.3 4044\n",
      "twitter 20200727 82.3 17.7 63.3 2849\n",
      "twitter 20200728 85.1 14.9 71.0 3848\n",
      "twitter 20200729 84.8 15.2 74.7 6026\n",
      "twitter 20200730 83.9 16.1 74.2 9123\n",
      "twitter 20200731 84.2 15.8 70.2 5358\n",
      "twitter 20200801 88.1 11.9 68.6 3421\n",
      "twitter 20200802 89.4 10.6 65.8 2578\n",
      "twitter 20200803 85.8 14.2 92.2 2165\n",
      "twitter 20200804 84.8 15.2 88.3 2895\n",
      "twitter 20200805 83.3 16.7 100.3 6035\n",
      "twitter 20200806 80.7 19.3 91.7 3962\n",
      "twitter 20200807 83.7 16.3 94.3 2549\n",
      "twitter 20200808 84.0 16.0 82.7 2459\n",
      "twitter 20200809 82.4 17.6 63.2 2327\n",
      "twitter 20200810 86.0 14.0 64.9 2130\n",
      "twitter 20200811 88.1 11.9 70.1 2602\n",
      "twitter 20200812 88.5 11.5 68.8 2266\n",
      "twitter 20200813 85.6 14.4 90.7 1267\n",
      "twitter 20200814 86.6 13.4 93.3 1798\n",
      "twitter 20200815 85.9 14.1 101.2 1551\n",
      "twitter 20200816 79.8 20.2 73.5 2065\n",
      "twitter 20200817 78.3 21.7 64.8 2550\n",
      "twitter 20200818 80.7 19.3 92.3 2311\n",
      "twitter 20200819 85.0 15.0 83.6 2055\n",
      "twitter 20200820 82.9 17.1 78.3 1984\n",
      "twitter 20200821 86.0 14.0 70.7 2246\n",
      "twitter 20200822 85.8 14.2 90.5 1646\n",
      "twitter 20200823 86.5 13.5 69.4 2022\n",
      "twitter 20200824 85.6 14.4 90.7 1582\n",
      "twitter 20200825 79.3 20.7 118.6 1647\n",
      "twitter 20200826 81.3 18.7 67.7 1604\n",
      "twitter 20200827 91.4 8.6 59.9 2047\n",
      "twitter 20200828 88.8 11.2 86.4 2478\n",
      "twitter 20200829 87.0 13.0 47.9 1785\n",
      "twitter 20200830 70.6 29.4 61.3 1286\n",
      "twitter 20200831 88.2 11.8 79.2 1495\n",
      "total relevant found: 431168\n",
      "reddit 20200201 error\n",
      "reddit 20200202 error\n",
      "reddit 20200203 error\n",
      "reddit 20200204 error\n",
      "reddit 20200205 error\n",
      "reddit 20200206 error\n",
      "reddit 20200207 error\n",
      "reddit 20200208 error\n",
      "reddit 20200209 error\n",
      "reddit 20200210 error\n",
      "reddit 20200211 error\n",
      "reddit 20200212 error\n",
      "reddit 20200213 error\n",
      "reddit 20200214 error\n",
      "reddit 20200215 error\n",
      "reddit 20200216 error\n",
      "reddit 20200217 error\n",
      "reddit 20200218 error\n",
      "reddit 20200219 error\n",
      "reddit 20200220 error\n",
      "reddit 20200221 error\n",
      "reddit 20200222 error\n",
      "reddit 20200223 error\n",
      "reddit 20200224 error\n",
      "reddit 20200225 error\n",
      "reddit 20200226 error\n",
      "reddit 20200227 error\n",
      "reddit 20200228 error\n",
      "reddit 20200229 error\n",
      "reddit 20200230 error\n",
      "reddit 20200231 error\n",
      "reddit 20200301 error\n",
      "reddit 20200302 50.0 50.0 75.0 4\n",
      "reddit 20200303 100.0 0 50.0 2\n",
      "reddit 20200304 100.0 0 0 1\n",
      "reddit 20200305 100.0 0 0 1\n",
      "reddit 20200306 100.0 0 66.7 3\n",
      "reddit 20200307 error\n",
      "reddit 20200308 error\n",
      "reddit 20200309 error\n",
      "reddit 20200310 75.0 25.0 100.0 4\n",
      "reddit 20200311 83.3 16.7 66.7 6\n",
      "reddit 20200312 88.9 11.1 77.8 9\n",
      "reddit 20200313 100.0 0 66.7 3\n",
      "reddit 20200314 66.7 33.3 133.3 3\n",
      "reddit 20200315 66.7 33.3 50.0 6\n",
      "reddit 20200316 100.0 0 80.0 5\n",
      "reddit 20200317 66.7 33.3 33.3 6\n",
      "reddit 20200318 73.0 27.0 48.6 37\n",
      "reddit 20200319 75.0 25.0 250.0 4\n",
      "reddit 20200320 91.7 8.3 91.7 12\n",
      "reddit 20200321 83.3 16.7 66.7 18\n",
      "reddit 20200322 83.3 16.7 66.7 12\n",
      "reddit 20200323 70.0 30.0 110.0 10\n",
      "reddit 20200324 66.7 33.3 44.4 9\n",
      "reddit 20200325 100.0 0 200.0 1\n",
      "reddit 20200326 71.4 28.6 100.0 7\n",
      "reddit 20200327 50.0 50.0 300.0 2\n",
      "reddit 20200328 50.0 50.0 150.0 2\n",
      "reddit 20200329 66.7 33.3 200.0 6\n",
      "reddit 20200330 85.7 14.3 0 14\n",
      "reddit 20200331 43.8 56.2 87.5 16\n",
      "reddit 20200401 61.5 38.5 61.5 13\n",
      "reddit 20200402 60.0 40.0 40.0 5\n",
      "reddit 20200403 72.7 27.3 72.7 11\n",
      "reddit 20200404 33.3 66.7 33.3 3\n",
      "reddit 20200405 0 100.0 0 1\n",
      "reddit 20200406 error\n",
      "reddit 20200407 83.3 16.7 50.0 6\n",
      "reddit 20200408 100.0 0 250.0 2\n",
      "reddit 20200409 83.3 16.7 66.7 6\n",
      "reddit 20200410 66.7 33.3 100.0 6\n",
      "reddit 20200411 100.0 0 500.0 1\n",
      "reddit 20200412 100.0 0 300.0 1\n",
      "reddit 20200413 error\n",
      "reddit 20200414 85.7 14.3 100.0 7\n",
      "reddit 20200415 84.6 15.4 46.2 13\n",
      "reddit 20200416 73.1 26.9 38.5 26\n",
      "reddit 20200417 60.0 40.0 100.0 5\n",
      "reddit 20200418 66.7 33.3 33.3 3\n",
      "reddit 20200419 100.0 0 0 1\n",
      "reddit 20200420 100.0 0 300.0 1\n",
      "reddit 20200421 error\n",
      "reddit 20200422 100.0 0 200.0 4\n",
      "reddit 20200423 83.3 16.7 16.7 18\n",
      "reddit 20200424 63.2 36.8 21.1 19\n",
      "reddit 20200425 100.0 0 333.3 3\n",
      "reddit 20200426 0 100.0 300.0 1\n",
      "reddit 20200427 100.0 0 33.3 3\n",
      "reddit 20200428 66.7 33.3 66.7 6\n",
      "reddit 20200429 70.6 29.4 35.3 17\n",
      "reddit 20200430 60.0 40.0 60.0 5\n",
      "reddit 20200431 error\n",
      "reddit 20200501 error\n",
      "reddit 20200502 0 100.0 0 1\n",
      "reddit 20200503 50.0 50.0 100.0 2\n",
      "reddit 20200504 83.3 16.7 83.3 6\n",
      "reddit 20200505 76.2 23.8 42.9 21\n",
      "reddit 20200506 83.0 17.0 72.3 47\n",
      "reddit 20200507 80.6 19.4 91.7 36\n",
      "reddit 20200508 71.4 28.6 61.9 21\n",
      "reddit 20200509 75.0 25.0 25.0 16\n",
      "reddit 20200510 75.0 25.0 175.0 4\n",
      "reddit 20200511 83.3 16.7 83.3 6\n",
      "reddit 20200512 100.0 0 200.0 2\n",
      "reddit 20200513 81.8 18.2 27.3 11\n",
      "reddit 20200514 66.7 33.3 166.7 3\n",
      "reddit 20200515 85.7 14.3 42.9 7\n",
      "reddit 20200516 87.5 12.5 87.5 8\n",
      "reddit 20200517 75.0 25.0 150.0 4\n",
      "reddit 20200518 error\n",
      "reddit 20200519 62.5 37.5 137.5 8\n",
      "reddit 20200520 100.0 0 100.0 2\n",
      "reddit 20200521 100.0 0 100.0 2\n",
      "reddit 20200522 68.4 31.6 26.3 19\n",
      "reddit 20200523 100.0 0 0 1\n",
      "reddit 20200524 error\n",
      "reddit 20200525 100.0 0 100.0 2\n",
      "reddit 20200526 100.0 0 100.0 1\n",
      "reddit 20200527 error\n",
      "reddit 20200528 33.3 66.7 133.3 3\n",
      "reddit 20200529 100.0 0 600.0 1\n",
      "reddit 20200530 83.3 16.7 16.7 6\n",
      "reddit 20200531 100.0 0 200.0 1\n",
      "reddit 20200601 76.9 23.1 23.1 13\n",
      "reddit 20200602 70.0 30.0 110.0 10\n",
      "reddit 20200603 100.0 0 33.3 3\n",
      "reddit 20200604 100.0 0 0 2\n",
      "reddit 20200605 50.0 50.0 50.0 2\n",
      "reddit 20200606 77.8 22.2 66.7 9\n",
      "reddit 20200607 100.0 0 100.0 1\n",
      "reddit 20200608 error\n",
      "reddit 20200609 error\n",
      "reddit 20200610 100.0 0 200.0 1\n",
      "reddit 20200611 57.1 42.9 100.0 7\n",
      "reddit 20200612 100.0 0 0 3\n",
      "reddit 20200613 100.0 0 300.0 1\n",
      "reddit 20200614 100.0 0 100.0 1\n",
      "reddit 20200615 66.7 33.3 100.0 3\n",
      "reddit 20200616 100.0 0 25.0 4\n",
      "reddit 20200617 error\n",
      "reddit 20200618 50.0 50.0 83.3 6\n",
      "reddit 20200619 60.0 40.0 90.0 10\n",
      "reddit 20200620 100.0 0 50.0 2\n",
      "reddit 20200621 0 100.0 300.0 1\n",
      "reddit 20200622 100.0 0 300.0 1\n",
      "reddit 20200623 80.0 20.0 20.0 5\n",
      "reddit 20200624 0 100.0 200.0 1\n",
      "reddit 20200625 error\n",
      "reddit 20200626 error\n",
      "reddit 20200627 100.0 0 100.0 1\n",
      "reddit 20200628 100.0 0 200.0 1\n",
      "reddit 20200629 error\n",
      "reddit 20200630 error\n",
      "reddit 20200631 error\n",
      "reddit 20200701 66.7 33.3 66.7 3\n",
      "reddit 20200702 error\n",
      "reddit 20200703 50.0 50.0 50.0 2\n",
      "reddit 20200704 error\n",
      "reddit 20200705 error\n",
      "reddit 20200706 100.0 0 100.0 1\n",
      "reddit 20200707 100.0 0 14.3 7\n",
      "reddit 20200708 100.0 0 100.0 2\n",
      "reddit 20200709 100.0 0 500.0 1\n",
      "reddit 20200710 100.0 0 66.7 6\n",
      "reddit 20200711 66.7 33.3 100.0 3\n",
      "reddit 20200712 100.0 0 100.0 2\n",
      "reddit 20200713 90.9 9.1 27.3 11\n",
      "reddit 20200714 50.0 50.0 150.0 4\n",
      "reddit 20200715 80.0 20.0 60.0 5\n",
      "reddit 20200716 73.3 26.7 73.3 15\n",
      "reddit 20200717 100.0 0 50.0 2\n",
      "reddit 20200718 error\n",
      "reddit 20200719 100.0 0 200.0 1\n",
      "reddit 20200720 100.0 0 22.2 9\n",
      "reddit 20200721 100.0 0 42.9 14\n",
      "reddit 20200722 62.5 37.5 33.3 24\n",
      "reddit 20200723 80.8 19.2 92.3 26\n",
      "reddit 20200724 56.1 43.9 36.8 57\n",
      "reddit 20200725 75.0 25.0 100.0 8\n",
      "reddit 20200726 60.0 40.0 70.0 10\n",
      "reddit 20200727 83.3 16.7 16.7 12\n",
      "reddit 20200728 86.4 13.6 27.3 22\n",
      "reddit 20200729 64.0 36.0 32.0 25\n",
      "reddit 20200730 81.6 18.4 51.0 49\n",
      "reddit 20200731 81.8 18.2 90.9 22\n",
      "reddit 20200801 88.2 11.8 100.0 17\n",
      "reddit 20200802 82.4 17.6 52.9 17\n",
      "reddit 20200803 100.0 0 40.0 5\n",
      "reddit 20200804 72.7 27.3 127.3 11\n",
      "reddit 20200805 72.7 27.3 72.7 11\n",
      "reddit 20200806 76.9 23.1 61.5 13\n",
      "reddit 20200807 100.0 0 160.0 5\n",
      "reddit 20200808 85.7 14.3 28.6 7\n",
      "reddit 20200809 66.7 33.3 100.0 3\n",
      "reddit 20200810 53.3 46.7 73.3 15\n",
      "reddit 20200811 75.0 25.0 250.0 4\n",
      "reddit 20200812 66.7 33.3 0 3\n",
      "reddit 20200813 66.7 33.3 50.0 6\n",
      "reddit 20200814 75.0 25.0 83.3 12\n",
      "reddit 20200815 50.0 50.0 183.3 6\n",
      "reddit 20200816 66.7 33.3 233.3 3\n",
      "reddit 20200817 75.0 25.0 50.0 4\n",
      "reddit 20200818 83.3 16.7 100.0 6\n",
      "reddit 20200819 71.4 28.6 35.7 14\n",
      "reddit 20200820 73.3 26.7 66.7 15\n",
      "reddit 20200821 100.0 0 80.0 5\n",
      "reddit 20200822 100.0 0 233.3 3\n",
      "reddit 20200823 42.9 57.1 28.6 7\n",
      "reddit 20200824 88.2 11.8 35.3 17\n",
      "reddit 20200825 100.0 0 37.5 8\n",
      "reddit 20200826 81.8 18.2 59.1 22\n",
      "reddit 20200827 100.0 0 80.0 5\n",
      "reddit 20200828 53.8 46.2 46.2 13\n",
      "reddit 20200829 66.7 33.3 100.0 3\n",
      "reddit 20200830 100.0 0 50.0 2\n",
      "reddit 20200831 80.0 20.0 100.0 10\n",
      "total relevant found: 1334\n",
      "nunl 20200201 75.0 25.0 250.0 4\n",
      "nunl 20200202 71.4 28.6 42.9 7\n",
      "nunl 20200203 42.9 57.1 28.6 7\n",
      "nunl 20200204 62.5 37.5 37.5 8\n",
      "nunl 20200205 100.0 0 0 3\n",
      "nunl 20200206 75.0 25.0 125.0 4\n",
      "nunl 20200207 53.8 46.2 84.6 13\n",
      "nunl 20200208 0 100.0 600.0 1\n",
      "nunl 20200209 100.0 0 150.0 2\n",
      "nunl 20200210 100.0 0 33.3 3\n",
      "nunl 20200211 100.0 0 200.0 1\n",
      "nunl 20200212 error\n",
      "nunl 20200213 57.1 42.9 100.0 7\n",
      "nunl 20200214 error\n",
      "nunl 20200215 57.1 42.9 0 7\n",
      "nunl 20200216 error\n",
      "nunl 20200217 78.3 21.7 56.5 23\n",
      "nunl 20200218 100.0 0 300.0 2\n",
      "nunl 20200219 100.0 0 0 1\n",
      "nunl 20200220 error\n",
      "nunl 20200221 error\n",
      "nunl 20200222 50.0 50.0 250.0 2\n",
      "nunl 20200223 75.0 25.0 87.5 8\n",
      "nunl 20200224 61.9 38.1 76.2 21\n",
      "nunl 20200225 72.5 27.5 58.8 51\n",
      "nunl 20200226 64.5 35.5 48.4 31\n",
      "nunl 20200227 82.1 17.9 42.9 28\n",
      "nunl 20200228 58.7 41.3 50.8 63\n",
      "nunl 20200229 76.2 23.8 90.5 21\n",
      "nunl 20200230 error\n",
      "nunl 20200231 error\n",
      "nunl 20200301 65.6 34.4 68.8 32\n",
      "nunl 20200302 75.9 24.1 63.0 54\n",
      "nunl 20200303 71.8 28.2 89.7 39\n",
      "nunl 20200304 59.3 40.7 59.3 27\n",
      "nunl 20200305 75.0 25.0 65.9 44\n",
      "nunl 20200306 69.0 31.0 89.7 29\n",
      "nunl 20200307 70.8 29.2 108.3 24\n",
      "nunl 20200308 92.0 8.0 52.0 25\n",
      "nunl 20200309 50.0 50.0 200.0 4\n",
      "nunl 20200310 77.8 22.2 55.6 9\n",
      "nunl 20200311 73.9 26.1 65.2 23\n",
      "nunl 20200312 83.3 16.7 111.1 36\n",
      "nunl 20200313 78.9 21.1 126.3 38\n",
      "nunl 20200314 85.7 14.3 121.4 14\n",
      "nunl 20200315 75.0 25.0 63.9 36\n",
      "nunl 20200316 78.6 21.4 96.4 28\n",
      "nunl 20200317 77.2 22.8 66.7 57\n",
      "nunl 20200318 73.9 26.1 95.0 199\n",
      "nunl 20200319 75.7 24.3 108.1 136\n",
      "nunl 20200320 70.7 29.3 77.3 75\n",
      "nunl 20200321 79.9 20.1 89.6 134\n",
      "nunl 20200322 83.7 16.3 79.1 86\n",
      "nunl 20200323 81.4 18.6 118.6 43\n",
      "nunl 20200324 75.0 25.0 98.3 60\n",
      "nunl 20200325 58.1 41.9 87.1 31\n",
      "nunl 20200326 83.3 16.7 113.9 36\n",
      "nunl 20200327 76.5 23.5 149.0 51\n",
      "nunl 20200328 73.9 26.1 65.8 111\n",
      "nunl 20200329 88.5 11.5 115.4 26\n",
      "nunl 20200330 84.3 15.7 121.6 51\n",
      "nunl 20200331 80.4 19.6 106.5 46\n",
      "nunl 20200401 79.5 20.5 104.5 44\n",
      "nunl 20200402 73.7 26.3 63.2 76\n",
      "nunl 20200403 67.3 32.7 36.2 315\n",
      "nunl 20200404 69.5 30.5 42.6 190\n",
      "nunl 20200405 68.6 31.4 37.1 35\n",
      "nunl 20200406 63.0 37.0 55.6 54\n",
      "nunl 20200407 66.7 33.3 78.9 57\n",
      "nunl 20200408 80.8 19.2 56.7 104\n",
      "nunl 20200409 79.0 21.0 102.9 138\n",
      "nunl 20200410 69.5 30.5 37.9 351\n",
      "nunl 20200411 78.5 21.5 61.5 135\n",
      "nunl 20200412 69.6 30.4 42.9 56\n",
      "nunl 20200413 81.4 18.6 40.7 59\n",
      "nunl 20200414 78.5 21.5 70.9 79\n",
      "nunl 20200415 82.4 17.6 81.2 85\n",
      "nunl 20200416 80.7 19.3 50.7 280\n",
      "nunl 20200417 79.1 20.9 63.4 134\n",
      "nunl 20200418 74.7 25.3 46.0 87\n",
      "nunl 20200419 57.1 42.9 67.3 49\n",
      "nunl 20200420 73.4 26.6 64.9 154\n",
      "nunl 20200421 74.2 25.8 74.2 89\n",
      "nunl 20200422 78.2 21.8 97.0 101\n",
      "nunl 20200423 74.2 25.8 116.1 31\n",
      "nunl 20200424 79.1 20.9 48.7 115\n",
      "nunl 20200425 67.7 32.3 50.5 99\n",
      "nunl 20200426 79.2 20.8 73.6 72\n",
      "nunl 20200427 75.8 24.2 106.1 33\n",
      "nunl 20200428 76.9 23.1 82.7 52\n",
      "nunl 20200429 77.0 23.0 51.6 122\n",
      "nunl 20200430 79.1 20.9 70.4 115\n",
      "nunl 20200431 error\n",
      "nunl 20200501 70.4 29.6 53.6 125\n",
      "nunl 20200502 83.9 16.1 77.4 31\n",
      "nunl 20200503 71.2 28.8 52.1 146\n",
      "nunl 20200504 70.9 29.1 63.6 206\n",
      "nunl 20200505 75.0 25.0 83.3 48\n",
      "nunl 20200506 72.3 27.7 48.8 375\n",
      "nunl 20200507 72.3 27.7 55.8 455\n",
      "nunl 20200508 70.9 29.1 53.5 127\n",
      "nunl 20200509 76.6 23.4 82.8 64\n",
      "nunl 20200510 77.2 22.8 47.8 92\n",
      "nunl 20200511 69.1 30.9 75.3 97\n",
      "nunl 20200512 68.2 31.8 65.9 44\n",
      "nunl 20200513 72.2 27.8 49.1 108\n",
      "nunl 20200514 77.5 22.5 44.9 89\n",
      "nunl 20200515 78.7 21.3 78.7 47\n",
      "nunl 20200516 70.9 29.1 50.5 103\n",
      "nunl 20200517 86.1 13.9 66.7 36\n",
      "nunl 20200518 66.7 33.3 57.8 45\n",
      "nunl 20200519 66.7 33.3 66.7 96\n",
      "nunl 20200520 61.4 38.6 94.7 57\n",
      "nunl 20200521 68.2 31.8 74.4 129\n",
      "nunl 20200522 75.0 25.0 46.9 64\n",
      "nunl 20200523 60.0 40.0 75.0 20\n",
      "nunl 20200524 50.0 50.0 190.0 10\n",
      "nunl 20200525 84.0 16.0 72.0 25\n",
      "nunl 20200526 80.8 19.2 42.3 26\n",
      "nunl 20200527 66.7 33.3 69.4 36\n",
      "nunl 20200528 76.5 23.5 88.2 34\n",
      "nunl 20200529 87.5 12.5 62.5 24\n",
      "nunl 20200530 69.2 30.8 69.2 26\n",
      "nunl 20200531 72.9 27.1 40.2 107\n",
      "nunl 20200601 64.7 35.3 78.4 51\n",
      "nunl 20200602 68.3 31.7 86.5 104\n",
      "nunl 20200603 75.0 25.0 95.8 24\n",
      "nunl 20200604 79.5 20.5 90.9 44\n",
      "nunl 20200605 48.0 52.0 68.0 25\n",
      "nunl 20200606 73.5 26.5 38.2 34\n",
      "nunl 20200607 74.5 25.5 70.6 51\n",
      "nunl 20200608 80.6 19.4 58.3 36\n",
      "nunl 20200609 71.4 28.6 102.4 42\n",
      "nunl 20200610 74.6 25.4 77.6 67\n",
      "nunl 20200611 66.7 33.3 116.7 6\n",
      "nunl 20200612 72.2 27.8 81.9 72\n",
      "nunl 20200613 50.0 50.0 100.0 18\n",
      "nunl 20200614 76.5 23.5 62.7 51\n",
      "nunl 20200615 73.1 26.9 84.6 26\n",
      "nunl 20200616 79.4 20.6 49.2 63\n",
      "nunl 20200617 73.3 26.7 113.3 15\n",
      "nunl 20200618 83.3 16.7 150.0 6\n",
      "nunl 20200619 62.0 38.0 88.0 50\n",
      "nunl 20200620 72.7 27.3 40.9 22\n",
      "nunl 20200621 65.4 34.6 50.0 26\n",
      "nunl 20200622 66.7 33.3 108.3 12\n",
      "nunl 20200623 74.4 25.6 30.2 43\n",
      "nunl 20200624 73.2 26.8 53.5 71\n",
      "nunl 20200625 76.2 23.8 157.1 21\n",
      "nunl 20200626 78.9 21.1 63.2 19\n",
      "nunl 20200627 45.5 54.5 154.5 11\n",
      "nunl 20200628 55.6 44.4 44.4 18\n",
      "nunl 20200629 61.5 38.5 153.8 13\n",
      "nunl 20200630 71.2 28.8 53.3 212\n",
      "nunl 20200631 error\n",
      "nunl 20200701 73.9 26.1 60.9 23\n",
      "nunl 20200702 83.3 16.7 8.3 12\n",
      "nunl 20200703 100.0 0 0 3\n",
      "nunl 20200704 75.0 25.0 0 4\n",
      "nunl 20200705 73.3 26.7 93.3 15\n",
      "nunl 20200706 70.0 30.0 10.0 30\n",
      "nunl 20200707 85.0 15.0 75.0 80\n",
      "nunl 20200708 81.0 19.0 95.2 21\n",
      "nunl 20200709 80.0 20.0 75.0 20\n",
      "nunl 20200710 77.2 22.8 44.7 114\n",
      "nunl 20200711 66.7 33.3 53.7 108\n",
      "nunl 20200712 59.3 40.7 70.4 27\n",
      "nunl 20200713 85.7 14.3 114.3 7\n",
      "nunl 20200714 55.9 44.1 73.5 34\n",
      "nunl 20200715 56.7 43.3 70.0 30\n",
      "nunl 20200716 70.7 29.3 54.1 242\n",
      "nunl 20200717 67.5 32.5 43.7 126\n",
      "nunl 20200718 81.2 18.8 40.2 112\n",
      "nunl 20200719 69.9 30.1 39.0 146\n",
      "nunl 20200720 61.0 39.0 82.9 41\n",
      "nunl 20200721 72.1 27.9 30.2 129\n",
      "nunl 20200722 70.5 29.5 65.6 241\n",
      "nunl 20200723 74.2 25.8 43.8 811\n",
      "nunl 20200724 71.8 28.2 44.9 815\n",
      "nunl 20200725 68.9 31.1 70.8 106\n",
      "nunl 20200726 78.8 21.2 87.9 33\n",
      "nunl 20200727 75.0 25.0 75.0 52\n",
      "nunl 20200728 71.8 28.2 47.1 323\n",
      "nunl 20200729 65.3 34.7 49.0 202\n",
      "nunl 20200730 71.4 28.6 43.6 888\n",
      "nunl 20200731 69.8 30.2 53.4 262\n",
      "nunl 20200801 72.4 27.6 62.6 214\n",
      "nunl 20200802 82.9 17.1 75.6 41\n",
      "nunl 20200803 73.1 26.9 88.5 26\n",
      "nunl 20200804 71.9 28.1 51.7 317\n",
      "nunl 20200805 71.4 28.6 47.8 644\n",
      "nunl 20200806 73.4 26.6 69.7 271\n",
      "nunl 20200807 70.4 29.6 78.6 98\n",
      "nunl 20200808 60.0 40.0 60.0 15\n",
      "nunl 20200809 72.0 28.0 52.0 25\n",
      "nunl 20200810 73.6 26.4 61.5 91\n",
      "nunl 20200811 69.8 30.2 102.3 43\n",
      "nunl 20200812 79.5 20.5 78.1 73\n",
      "nunl 20200813 71.4 28.6 42.9 7\n",
      "nunl 20200814 72.2 27.8 54.1 209\n",
      "nunl 20200815 68.2 31.8 42.9 154\n",
      "nunl 20200816 72.9 27.1 37.4 107\n",
      "nunl 20200817 72.0 28.0 71.5 193\n",
      "nunl 20200818 67.3 32.7 68.0 150\n",
      "nunl 20200819 68.8 31.2 53.4 247\n",
      "nunl 20200820 69.0 31.0 55.2 87\n",
      "nunl 20200821 70.5 29.5 57.1 156\n",
      "nunl 20200822 73.0 27.0 57.8 185\n",
      "nunl 20200823 72.9 27.1 52.9 85\n",
      "nunl 20200824 70.3 29.7 85.9 64\n",
      "nunl 20200825 73.9 26.1 52.1 142\n",
      "nunl 20200826 73.7 26.3 94.7 19\n",
      "nunl 20200827 75.4 24.6 56.1 57\n",
      "nunl 20200828 74.2 25.8 48.1 360\n",
      "nunl 20200829 65.5 34.5 56.0 84\n",
      "nunl 20200830 67.5 32.5 80.0 40\n",
      "nunl 20200831 74.4 25.6 79.1 43\n",
      "total relevant found: 18682\n"
     ]
    }
   ],
   "source": [
    "results = {}\n",
    "totals = {}\n",
    "for source in SOURCES:\n",
    "    dataDirectory = DATADIRECTORIES[source]\n",
    "    total = 0\n",
    "    results[source] = {}\n",
    "    for month in \"202002 202003 202004 202005 202006 202007 202008\".split():\n",
    "        for day in range(1,MAXDAYSPERMONTH+1):\n",
    "            date = month+str(day).zfill(2)\n",
    "            try:\n",
    "                labels = classify(date,QUERY,model,dataDirectory=dataDirectory)\n",
    "                if not REJECTS in labels: labels[REJECTS] = 0\n",
    "                if not SUPPORTS in labels: labels[SUPPORTS] = 0\n",
    "                if not IRRELEVANT in labels: labels[IRRELEVANT] = 0\n",
    "                if labels[REJECTS]+labels[SUPPORTS]+labels[IRRELEVANT] > 0:\n",
    "                    results[source][date] = labels\n",
    "                    print(source,date,labels[REJECTS],labels[SUPPORTS],labels[IRRELEVANT],labels[TOTAL])\n",
    "                    total += labels[TOTAL]\n",
    "            except:\n",
    "                print(source,date,\"error\")\n",
    "    totals[source] = total\n",
    "    print(\"total relevant found:\",total)"
   ]
  },
  {
   "cell_type": "code",
   "execution_count": 43,
   "metadata": {},
   "outputs": [],
   "source": [
    "#storeResults(results)"
   ]
  },
  {
   "cell_type": "code",
   "execution_count": 44,
   "metadata": {},
   "outputs": [
    {
     "data": {
      "text/plain": [
       "{'twitter': 431168, 'reddit': 1334, 'nunl': 18682}"
      ]
     },
     "execution_count": 44,
     "metadata": {},
     "output_type": "execute_result"
    }
   ],
   "source": [
    "totals"
   ]
  },
  {
   "cell_type": "code",
   "execution_count": 45,
   "metadata": {},
   "outputs": [
    {
     "name": "stdout",
     "output_type": "stream",
     "text": [
      "twitter {'__label__IRRELEVANT': 340888, '__label__REJECTS': 368207, '__label__SUPPORTS': 62961, 'total': 431168}\n",
      "reddit {'__label__IRRELEVANT': 905, '__label__REJECTS': 1012, '__label__SUPPORTS': 322, 'total': 1334}\n",
      "nunl {'__label__IRRELEVANT': 11166, '__label__REJECTS': 13559, '__label__SUPPORTS': 5123, 'total': 18682}\n"
     ]
    }
   ],
   "source": [
    "for platform in \"twitter reddit nunl\".split():\n",
    "    counts = {}\n",
    "    for date in results[platform]:\n",
    "        try:\n",
    "            if TOTAL in results[platform][date] and results[platform][date][TOTAL] > 0:\n",
    "                for label in results[platform][date].keys():\n",
    "                    if not label in counts: counts[label] = 0\n",
    "                    if label == TOTAL: counts[label] += results[platform][date][label]\n",
    "                    else: counts[label] += round(results[platform][date][TOTAL]*results[platform][date][label]/100.0)\n",
    "        except: pass\n",
    "    print(platform,counts)"
   ]
  },
  {
   "cell_type": "markdown",
   "metadata": {},
   "source": [
    "Social distancing:\n",
    "twitter {\"__label__IRRELEVANT\": 73379, \"__label__REJECTS\": 156775, \"__label__SUPPORTS\": 589930, \"total\": 746705}\n",
    "reddit {'__label__SUPPORTS': 2054, 'total': 2240, '__label__REJECTS': 186, '__label__IRRELEVANT': 43}\n",
    "nunl {'__label__SUPPORTS': 24547, 'total': 29500, '__label__REJECTS': 4953, '__label__IRRELEVANT': 585}\n",
    "Face masks:\n",
    "twitter {'__label__IRRELEVANT': 279286, '__label__REJECTS': 313765, '__label__SUPPORTS': 51141, 'total': 364906}\n",
    "reddit {'__label__IRRELEVANT': 703, '__label__REJECTS': 824, '__label__SUPPORTS': 262, 'total': 1086}\n",
    "nunl {'__label__IRRELEVANT': 8939, '__label__REJECTS': 11289, '__label__SUPPORTS': 4181, 'total': 15470}"
   ]
  },
  {
   "cell_type": "markdown",
   "metadata": {},
   "source": [
    "## Visualization over time"
   ]
  },
  {
   "cell_type": "code",
   "execution_count": 46,
   "metadata": {},
   "outputs": [],
   "source": [
    "import datetime\n",
    "import matplotlib\n",
    "import matplotlib.pyplot as plt\n",
    "import matplotlib.dates as mdates\n",
    "from pandas.plotting import register_matplotlib_converters\n",
    "register_matplotlib_converters()"
   ]
  },
  {
   "cell_type": "code",
   "execution_count": 47,
   "metadata": {},
   "outputs": [],
   "source": [
    "def movingAverage(numberList,size):\n",
    "    newList = []\n",
    "    for i in range(0,len(numberList)):\n",
    "        numberUsed = 1\n",
    "        newList.append(numberList[i])\n",
    "        for j in range(1,size):\n",
    "            if i-j >= 0:\n",
    "                newList[i] += numberList[i-j]\n",
    "                numberUsed += 1\n",
    "        newList[i] /= numberUsed\n",
    "    return(newList)"
   ]
  },
  {
   "cell_type": "code",
   "execution_count": 48,
   "metadata": {},
   "outputs": [
    {
     "data": {
      "image/png": "[encoded data removed]",
      "text/plain": [
       "<Figure size 864x432 with 1 Axes>"
      ]
     },
     "metadata": {
      "needs_background": "light"
     },
     "output_type": "display_data"
    }
   ],
   "source": [
    "DATEFORMAT = \"%Y%m%d\"\n",
    "DAYSCOMBINED = 7\n",
    "STARTDATE = \"20200310\"\n",
    "LABELS = {TWITTER:\"Twitter ({0})\".format(totals[TWITTER]),\\\n",
    "          NUNL:\"Nu.nl ({0})\".format(totals[NUNL]),\\\n",
    "          REDDIT:\"Reddit ({0})\".format(totals[REDDIT])}\n",
    "if TOPIC == DISTANCE:\n",
    "    PLOTFILENAME = \"social-distancing-all.png\"\n",
    "elif TOPIC == FACEMASK:\n",
    "    PLOTFILENAME = \"mondkapje-all.png\"\n",
    "else:\n",
    "    print(\"unknown topic!\",file=sys.stderr)\n",
    "    sys.exit(1)\n",
    "\n",
    "x = {}\n",
    "ySupports = {}\n",
    "plt.subplots(figsize=(12,6))\n",
    "font = {\"size\":16}\n",
    "matplotlib.rc(\"font\",**font)\n",
    "ax = plt.subplot(111)\n",
    "for source in [REDDIT,NUNL,TWITTER]:\n",
    "    x[source] = [datetime.datetime.strptime(k,DATEFORMAT) for k in results[source].keys()]\n",
    "    ySupports[source] = movingAverage([results[source][k][SUPPORTS] for k in results[source].keys()],DAYSCOMBINED)\n",
    "    xPart = [x[source][i] for i in range(0,len(x[source])) if x[source][i] >= datetime.datetime.strptime(STARTDATE,DATEFORMAT)] \n",
    "    ySupportsPart = [ySupports[source][i] for i in range(0,len(x[source])) if x[source][i] >= datetime.datetime.strptime(STARTDATE,DATEFORMAT)] \n",
    "    plt.plot_date(xPart,ySupportsPart,fmt=\"-\",label=LABELS[source])\n",
    "plt.legend()\n",
    "plt.ylabel(\"percentage\")\n",
    "plt.xlabel(\"day/month\")\n",
    "if TOPIC == FACEMASK:\n",
    "    plt.title(\"Support for general public not wearing face masks per medium over time\")\n",
    "elif TOPIC == DISTANCE:\n",
    "    plt.title(\"Support for social distancing per medium over time (average over \"+str(DAYSCOMBINED)+\" days)\")\n",
    "else:\n",
    "    print(\"unknown topic!\",file=sys.stderr)\n",
    "    sys.exit(1)    \n",
    "plt.xticks([datetime.datetime.strptime(d,DATEFORMAT) for d in \"20200301 2020401 20200501 20200601 20200701 20200801 20200901\".split()])\n",
    "ax.xaxis.set_major_formatter(mdates.DateFormatter(\"%-d/%-m\"))\n",
    "plt.savefig(PLOTFILENAME)\n",
    "plt.show()"
   ]
  },
  {
   "cell_type": "markdown",
   "metadata": {},
   "source": [
    "## Do not run any further code"
   ]
  },
  {
   "cell_type": "code",
   "execution_count": null,
   "metadata": {},
   "outputs": [],
   "source": [
    "ANNOTATED = \"annotated\"\n",
    "ANNOTATEDFILE = \"manual-annotation.csv\"\n",
    "DATE = \"date\"\n",
    "EENS = \"EENS\"\n",
    "ONEENS = \"ONEENS\"\n",
    "ANDERS = \"ANDERS\"\n",
    "TOTAL = \"total\""
   ]
  },
  {
   "cell_type": "code",
   "execution_count": null,
   "metadata": {},
   "outputs": [],
   "source": [
    "df = pd.read_csv(ANNOTATEDFILE,index_col=DATE,dtype={EENS:\"float\",ONEENS:\"float\",ANDERS:\"float\"})\n",
    "totals = []\n",
    "for i in range(0,len(df)):\n",
    "    total = df.iloc[i][EENS]+df.iloc[i][ONEENS]+df.iloc[i][ANDERS]\n",
    "    if df.iloc[i][EENS]+df.iloc[i][ONEENS] > 0:\n",
    "        df.iloc[i][EENS] = 100*df.iloc[i][EENS]/(total-df.iloc[i][ANDERS])\n",
    "        df.iloc[i][ONEENS] = 100*df.iloc[i][ONEENS]/(total-df.iloc[i][ANDERS])\n",
    "        df.iloc[i][ANDERS] = 100*df.iloc[i][ANDERS]/(total-df.iloc[i][ANDERS])\n",
    "    else: \n",
    "        df.iloc[i][ANDERS] = 100\n",
    "    totals.append(total)\n",
    "df[TOTAL] = totals\n",
    "annotatedDict = df.T.to_dict(orient=\"dict\")\n",
    "annotatedDict = {d:annotatedDict[d] for d in sorted(annotatedDict.keys())}\n",
    "results[ANNOTATED] = annotatedDict"
   ]
  },
  {
   "cell_type": "code",
   "execution_count": null,
   "metadata": {},
   "outputs": [],
   "source": [
    "PLOTFILEANNOTATED = \"manual-annotation.png\"\n",
    "\n",
    "x = {}\n",
    "ySupports = {}\n",
    "plt.subplots(figsize=(12,6))\n",
    "font = {\"size\":12}\n",
    "matplotlib.rc(\"font\",**font)\n",
    "ax = plt.subplot(111)\n",
    "for source in [TWITTER]:\n",
    "    x[source] = [datetime.datetime.strptime(k,DATEFORMAT) for k in results[source].keys()]\n",
    "    ySupports[source] = movingAverage([results[source][k][SUPPORTS] for k in results[source].keys()],DAYSCOMBINED)\n",
    "    xPart = [x[source][i] for i in range(0,len(x[source])) if x[source][i] >= datetime.datetime.strptime(STARTDATE,DATEFORMAT)] \n",
    "    ySupportsPart = [ySupports[source][i] for i in range(0,len(x[source])) if x[source][i] >= datetime.datetime.strptime(STARTDATE,DATEFORMAT)] \n",
    "    plt.plot_date(xPart,ySupportsPart,fmt=\"-\",label=\"predicted\")\n",
    "for source in [ANNOTATED]:\n",
    "    x[source] = [datetime.datetime.strptime(str(k),DATEFORMAT) for k in results[source].keys()]\n",
    "    ySupports[source] = movingAverage([results[source][k][EENS] for k in results[source].keys()],DAYSCOMBINED)\n",
    "    xPart = [x[source][i] for i in range(0,len(x[source])) if x[source][i] >= datetime.datetime.strptime(STARTDATE,DATEFORMAT)] \n",
    "    ySupportsPart = [ySupports[source][i] for i in range(0,len(x[source])) if x[source][i] >= datetime.datetime.strptime(STARTDATE,DATEFORMAT)] \n",
    "    plt.plot_date(xPart,ySupportsPart,fmt=\"-\",label=ANNOTATED)\n",
    "plt.title(\"Support for social distancing per medium over time (average over \"+str(DAYSCOMBINED)+\" days)\")\n",
    "plt.legend()\n",
    "plt.savefig(PLOTFILEANNOTATED)\n",
    "plt.show()"
   ]
  },
  {
   "cell_type": "code",
   "execution_count": null,
   "metadata": {},
   "outputs": [],
   "source": [
    "annotatedValues = []\n",
    "twitterValues = []\n",
    "\n",
    "for i in range(0,len(x[TWITTER])):\n",
    "    date = x[TWITTER][i]\n",
    "    if date >= datetime.datetime.strptime(\"20200310\",DATEFORMAT):\n",
    "        for j in range(0,len(x[ANNOTATED])):\n",
    "            if x[ANNOTATED][j] == date:\n",
    "                twitterValues.append(ySupports[TWITTER][i])\n",
    "                annotatedValues.append(ySupports[ANNOTATED][j])\n",
    "np.corrcoef(annotatedValues,twitterValues)[1][0]"
   ]
  },
  {
   "cell_type": "code",
   "execution_count": null,
   "metadata": {},
   "outputs": [],
   "source": [
    "PLOTFILENAME = \"plot.png\"\n",
    "\n",
    "plt.figure()\n",
    "plt.scatter(annotatedValues,twitterValues)\n",
    "plt.ylabel(\"Predicted support percentages\")\n",
    "plt.xlabel(\"Annotated support percentages\")\n",
    "plt.title(\"Annotated and predicted support for social distancing\")\n",
    "plt.savefig(PLOTFILENAME)\n",
    "plt.show()"
   ]
  },
  {
   "cell_type": "code",
   "execution_count": null,
   "metadata": {},
   "outputs": [],
   "source": [
    "allResults = results\n",
    "results = results[TWITTER]\n",
    "\n",
    "x = [datetime.datetime.strptime(k,DATEFORMAT) for k in results.keys()]\n",
    "ySupports = movingAverage([results[k][SUPPORTS] for k in results.keys()],DAYSCOMBINED)\n",
    "yRejects = movingAverage([results[k][REJECTS] for k in results.keys()],DAYSCOMBINED)\n",
    "yIrrelevant = movingAverage([results[k][IRRELEVANT] for k in results.keys()],DAYSCOMBINED)\n",
    "\n",
    "keyDates = []\n",
    "for i in range(0,len(yIrrelevant)):\n",
    "    if i < len(yIrrelevant)-1 and \\\n",
    "       (yIrrelevant[i] < 100 and yIrrelevant[i+1] >= 100 or yIrrelevant[i] >= 100 and yIrrelevant[i+1] < 100):\n",
    "        keyDates.append(list(results.keys())[i])\n",
    "        print(keyDates[-1])"
   ]
  },
  {
   "cell_type": "code",
   "execution_count": null,
   "metadata": {},
   "outputs": [],
   "source": [
    "STARTDATE = \"20200310\" # keyDates[0]\n",
    "ENDDATE = \"20201231\"\n",
    "\n",
    "results = {k:results[k] for k in sorted(results.keys())}\n",
    "font = {\"size\":14}\n",
    "matplotlib.rc(\"font\",**font)\n",
    "plt.subplots(figsize=(14,7))\n",
    "\n",
    "ax1 = plt.subplot(111)\n",
    "plt.plot_date(x,ySupports,fmt=\"-\",label=\"Supports\")\n",
    "plt.plot_date(x,yRejects,fmt=\"-\",label=\"Rejects\")\n",
    "plt.plot_date(x,yIrrelevant,fmt=\"-\",label=\"Other\")\n",
    "plt.plot_date(x,[100 for i in x],fmt=\"-\",label=\"100%\",color=\"black\")\n",
    "for date in [STARTDATE]:\n",
    "    plt.plot_date([datetime.datetime.strptime(date,DATEFORMAT)],[100],color=\"black\")\n",
    "plt.legend()\n",
    "plt.ylabel(\"percentage\")\n",
    "plt.xlabel(\"day/month\")\n",
    "plt.title(\"stance on the RIVM policy on \"+\"social\")\n",
    "plt.show()"
   ]
  },
  {
   "cell_type": "code",
   "execution_count": null,
   "metadata": {},
   "outputs": [],
   "source": [
    "PLOTFILEOUT = \"social-distancing.png\"\n",
    "#PLOTFILEOUT = \"mondkapje.png\"\n",
    "\n",
    "plt.subplots(figsize=(14,7))\n",
    "\n",
    "dates = [d for d in results.keys()]\n",
    "xPart = [x[i] for i in range(0,len(dates)) if dates[i] >= STARTDATE and dates[i] <= ENDDATE]\n",
    "ySupportsPart = [ySupports[i] for i in range(0,len(dates)) if dates[i] >= STARTDATE and dates[i] <= ENDDATE] \n",
    "yRejectsPart = [yRejects[i] for i in range(0,len(dates)) if dates[i] >= STARTDATE and dates[i] <= ENDDATE]\n",
    "ax1.xaxis.set_major_formatter(mdates.DateFormatter(\"%-d/%-m\"))\n",
    "\n",
    "ax2 = plt.subplot(111)\n",
    "plt.plot_date(xPart,ySupportsPart,fmt=\"-\",label=\"Supports\")\n",
    "plt.plot_date(xPart,yRejectsPart,fmt=\"-\",label=\"Rejects\")\n",
    "plt.legend()\n",
    "plt.ylabel(\"percentage\")\n",
    "plt.xlabel(\"day/month\")\n",
    "plt.title(\"Twitter stance on the RIVM policy on social distancing (average over \"+str(DAYSCOMBINED)+\" days)\")\n",
    "plt.xticks([datetime.datetime.strptime(d,DATEFORMAT) for d in \"20200301 2020401 20200501 20200601 20200701 20200801\".split()])\n",
    "ax2.xaxis.set_major_formatter(mdates.DateFormatter(\"%-d/%-m\"))\n",
    "\n",
    "plt.savefig(PLOTFILEOUT)\n",
    "plt.show()"
   ]
  },
  {
   "cell_type": "code",
   "execution_count": null,
   "metadata": {},
   "outputs": [],
   "source": [
    "counts = {}\n",
    "for text in fasttextData:\n",
    "    label = text.split()[0]\n",
    "    if label in counts: counts[label] += 1\n",
    "    else: counts[label] = 1\n",
    "for label in counts: print(round(counts[label]/len(fasttextData),3),label)"
   ]
  },
  {
   "cell_type": "markdown",
   "metadata": {},
   "source": [
    "## Annotator comparison"
   ]
  },
  {
   "cell_type": "code",
   "execution_count": null,
   "metadata": {},
   "outputs": [],
   "source": [
    "NBROFTESTDATA = 100\n",
    "\n",
    "annotators = []\n",
    "annotatorData = {}\n",
    "kappaData = [{},{}]\n",
    "blockedTweetIds = {}\n",
    "for i in range(0,len(annotations)):\n",
    "    annotator = annotations.iloc[i][0]\n",
    "    tweetId = annotations.iloc[i][2]\n",
    "    tweetLabel = annotations.iloc[i][4]\n",
    "    if not annotator in annotatorData: \n",
    "        annotatorData[annotator] = {}\n",
    "        annotators.append(annotator)\n",
    "    annotatorData[annotator][tweetId] = tweetLabel\n",
    "    if len(annotatorData[annotator]) <= NBROFTESTDATA: blockedTweetIds[tweetId] = True\n",
    "    if len(annotators) >= 2 and not tweetId in blockedTweetIds and \\\n",
    "       tweetId in annotatorData[annotators[0]] and tweetId in annotatorData[annotators[1]]:\n",
    "        kappaData[0][tweetId] = annotatorData[annotators[0]][tweetId]\n",
    "        kappaData[1][tweetId] = annotatorData[annotators[1]][tweetId]"
   ]
  },
  {
   "cell_type": "code",
   "execution_count": null,
   "metadata": {},
   "outputs": [],
   "source": [
    "for annotator in annotatorData:\n",
    "    labelCount = {}\n",
    "    for tweetId in annotatorData[annotator]:\n",
    "        label = annotatorData[annotator][tweetId]\n",
    "        if not label in labelCount: labelCount[label] = 0\n",
    "        labelCount[label] += 1\n",
    "    print(len(annotatorData[annotator]))\n",
    "    for label in labelCount: print(round(labelCount[label]/len(annotatorData[annotator]),3),label)"
   ]
  },
  {
   "cell_type": "code",
   "execution_count": null,
   "metadata": {},
   "outputs": [],
   "source": [
    "from sklearn.metrics import cohen_kappa_score\n",
    "\n",
    "cohen_kappa_score([kappaData[0][tweetId] for tweetId in kappaData[0]],[kappaData[1][tweetId] for tweetId in kappaData[0]])"
   ]
  },
  {
   "cell_type": "code",
   "execution_count": null,
   "metadata": {},
   "outputs": [],
   "source": [
    "MAX = 100\n",
    "\n",
    "total = 0\n",
    "identical = 0\n",
    "for tweetId in annotatorData[mainAnnotator]:\n",
    "    for annotator in annotators:\n",
    "        if not annotator == mainAnnotator and tweetId in annotatorData[annotator]:\n",
    "            total += 1\n",
    "            if total <= MAX:\n",
    "                if annotatorData[annotator][tweetId] == annotatorData[mainAnnotator][tweetId]: identical += 1\n",
    "                else: \n",
    "                    print(tweetId,annotatorData[mainAnnotator][tweetId],annotatorData[annotator][tweetId])\n",
    "                    #print(tweets.loc[tweetId][TEXT])\n",
    "print(total,identical)"
   ]
  },
  {
   "cell_type": "code",
   "execution_count": null,
   "metadata": {},
   "outputs": [],
   "source": []
  }
 ],
 "metadata": {
  "kernelspec": {
   "display_name": "Python 3",
   "language": "python",
   "name": "python3"
  },
  "language_info": {
   "codemirror_mode": {
    "name": "ipython",
    "version": 3
   },
   "file_extension": ".py",
   "mimetype": "text/x-python",
   "name": "python",
   "nbconvert_exporter": "python",
   "pygments_lexer": "ipython3",
   "version": "3.7.3"
  }
 },
 "nbformat": 4,
 "nbformat_minor": 4
}
