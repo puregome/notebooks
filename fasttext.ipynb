{
 "cells": [
  {
   "cell_type": "markdown",
   "metadata": {},
   "source": [
    "# Fasttext tweet classification"
   ]
  },
  {
   "cell_type": "markdown",
   "metadata": {},
   "source": [
    "## Data file creation"
   ]
  },
  {
   "cell_type": "code",
   "execution_count": 1,
   "metadata": {},
   "outputs": [],
   "source": [
    "import datetime\n",
    "import matplotlib.pyplot as plt\n",
    "import matplotlib.dates as mdates\n",
    "import numpy as np\n",
    "import os\n",
    "import pandas as pd\n",
    "import random\n",
    "import re\n",
    "from nltk.tokenize import TweetTokenizer\n",
    "from IPython.display import clear_output"
   ]
  },
  {
   "cell_type": "code",
   "execution_count": 2,
   "metadata": {},
   "outputs": [],
   "source": [
    "DATADIR = \"../data/\"\n",
    "TOPIC = \"distance\"\n",
    "FILETWEETS = TOPIC+\"-tweets.csv\"\n",
    "FILEANNOTATIONS = FILETWEETS+\".human-labels.txt\"\n",
    "FILEFASTTEXT = \"fasttext-\"+TOPIC+\".csv\"\n",
    "LABELPREFIX = \"__label__\"\n",
    "LARGEINT = 9999999999\n",
    "LABEL = \"label\"\n",
    "TEXT = \"text\"\n",
    "USER = \"user\"\n",
    "IDSTR = \"id_str\"\n",
    "ANNOTATOR = \"erikt@xs4all.nl\""
   ]
  },
  {
   "cell_type": "code",
   "execution_count": 3,
   "metadata": {},
   "outputs": [],
   "source": [
    "tweets = pd.read_csv(DATADIR+FILETWEETS,index_col=IDSTR)\n",
    "annotations = pd.read_csv(DATADIR+FILEANNOTATIONS,header=None,sep=\" \")"
   ]
  },
  {
   "cell_type": "code",
   "execution_count": 4,
   "metadata": {},
   "outputs": [],
   "source": [
    "def cleanup(text):\n",
    "    text = re.sub(r\"\\\\n\",\" \",text)\n",
    "    text = re.sub(r\"https://\\S+\",\"\",text)\n",
    "    text = re.sub(r\"\\s+\",\" \",text)\n",
    "    text = text.strip()\n",
    "    return(text)"
   ]
  },
  {
   "cell_type": "code",
   "execution_count": 5,
   "metadata": {},
   "outputs": [],
   "source": [
    "fasttextData = {}\n",
    "for i in range(0,len(annotations)):\n",
    "    annotator = annotations.iloc[i][0]\n",
    "    tweetId = annotations.iloc[i][2]\n",
    "    tweetLabel = annotations.iloc[i][4]\n",
    "    if annotator == ANNOTATOR and tweetId in list(tweets.index):\n",
    "        tweetLabel = annotations.iloc[i][4]\n",
    "        tweetUser = tweets.loc[tweetId][1]\n",
    "        fasttextData[tweetId] = {LABEL:LABELPREFIX+tweetLabel,\\\n",
    "                                 USER:tweetUser,\\\n",
    "                                 TEXT:\" \".join(TweetTokenizer().tokenize(cleanup(tweets.loc[tweetId][TEXT])))}"
   ]
  },
  {
   "cell_type": "code",
   "execution_count": 6,
   "metadata": {},
   "outputs": [],
   "source": [
    "outFile = open(FILEFASTTEXT,\"w\")\n",
    "seenTexts = {}\n",
    "for tweetId in fasttextData:\n",
    "    text = cleanup(fasttextData[tweetId][TEXT])\n",
    "    if not text in seenTexts:\n",
    "        print(fasttextData[tweetId][LABEL],text,file=outFile)\n",
    "        seenTexts[text] = True\n",
    "outFile.close()"
   ]
  },
  {
   "cell_type": "code",
   "execution_count": 7,
   "metadata": {},
   "outputs": [
    {
     "name": "stdout",
     "output_type": "stream",
     "text": [
      "tweets annotated per minute: 5.2 ; 1000 tweets take: 194 minutes\n"
     ]
    }
   ],
   "source": [
    "nbrOfAnnotationMinutes = len(set([str(x)[:12] for x in annotations[1]]))\n",
    "nbrOfAnnotatedTweets = len(set([str(x)[:12] for x in annotations[2]]))\n",
    "print(\"tweets annotated per minute:\",round(nbrOfAnnotatedTweets/nbrOfAnnotationMinutes,1),\"; 1000 tweets take:\",round(1000/(nbrOfAnnotatedTweets/nbrOfAnnotationMinutes)),\"minutes\")"
   ]
  },
  {
   "cell_type": "markdown",
   "metadata": {},
   "source": [
    "## Fasttext run and evaluation"
   ]
  },
  {
   "cell_type": "code",
   "execution_count": 8,
   "metadata": {},
   "outputs": [],
   "source": [
    "import fasttext\n",
    "import random\n",
    "from IPython.display import clear_output"
   ]
  },
  {
   "cell_type": "code",
   "execution_count": 9,
   "metadata": {},
   "outputs": [],
   "source": [
    "PRETRAINEDDIR = \"/home/erikt/projects/newsgac/fasttext-runs/\"\n",
    "WIKIFILENAME = \"wiki.nl.vec\""
   ]
  },
  {
   "cell_type": "code",
   "execution_count": 10,
   "metadata": {},
   "outputs": [],
   "source": [
    "def print_results(N, p, r):\n",
    "    print(\"N\\t\" + str(N))\n",
    "    print(\"P@{}\\t{:.3f}\".format(1, p))\n",
    "    print(\"R@{}\\t{:.3f}\".format(1, r))"
   ]
  },
  {
   "cell_type": "code",
   "execution_count": 11,
   "metadata": {},
   "outputs": [
    {
     "data": {
      "text/plain": [
       "3505"
      ]
     },
     "execution_count": 11,
     "metadata": {},
     "output_type": "execute_result"
    }
   ],
   "source": [
    "fasttextData = []\n",
    "inFile = open(FILEFASTTEXT,\"r\")\n",
    "for line in inFile: fasttextData.append(line.strip())\n",
    "inFile.close()\n",
    "len(fasttextData)"
   ]
  },
  {
   "cell_type": "code",
   "execution_count": 12,
   "metadata": {},
   "outputs": [],
   "source": [
    "DIM = 100\n",
    "EPOCH = 100\n",
    "LR = 0.05\n",
    "N = 10\n",
    "TRAIN = \"TRAIN\"+str(int(random.random()*LARGEINT))\n",
    "TEST = \"TEST\"+str(int(random.random()*LARGEINT))"
   ]
  },
  {
   "cell_type": "code",
   "execution_count": 13,
   "metadata": {},
   "outputs": [],
   "source": [
    "def ranSelect(inList,size):\n",
    "    outList = []\n",
    "    selectionList = list(inList)\n",
    "    while len(outList) < size and len(selectionList) > 0:\n",
    "        index = int(random.random()*len(selectionList))\n",
    "        outList.append(selectionList[index])\n",
    "        del(selectionList[index])\n",
    "    return(outList)"
   ]
  },
  {
   "cell_type": "code",
   "execution_count": 14,
   "metadata": {},
   "outputs": [],
   "source": [
    "def runFasttext(fasttextData,dim=DIM,epoch=EPOCH,lr=LR,n=N,squealFlag=True,maxTrain=None):\n",
    "    predictionCounts = []\n",
    "    predictionLabels = []\n",
    "    for fold in range(0,n):\n",
    "        if squealFlag:\n",
    "            clear_output(wait=True)\n",
    "            print(\"starting fold\",fold)\n",
    "        testStart = round(fold*len(fasttextData)/n)\n",
    "        testEnd = round((fold+1)*len(fasttextData)/n)\n",
    "        trainFile = open(TRAIN,\"w\")\n",
    "        testFile = open(TEST,\"w\")\n",
    "        trainData = []\n",
    "        testData = []\n",
    "        for i in range(0,len(fasttextData)):\n",
    "            data = fasttextData[i]\n",
    "            if i < testStart or i >= testEnd: \n",
    "                print(data,file=trainFile)\n",
    "                trainData.append(data)\n",
    "            else: \n",
    "                print(data,file=testFile)\n",
    "                testData.append(data)\n",
    "        testFile.close()\n",
    "        trainFile.close()\n",
    "        if not maxTrain == None and maxTrain < len(trainData):\n",
    "            trainData = ranSelect(trainData,maxTrain)\n",
    "            trainFile = open(TRAIN,\"w\")\n",
    "            for i in range(0,len(trainData)):\n",
    "                print(trainData[i],file=trainFile)\n",
    "            trainFile.close()\n",
    "        model = fasttext.train_supervised(TRAIN,dim=dim,epoch=epoch,lr=lr)\n",
    "        predictionCounts.append([*model.test(TEST)])\n",
    "        predictionLabels.append(model.predict(testData))\n",
    "        os.unlink(TRAIN)\n",
    "        os.unlink(TEST)\n",
    "    if squealFlag:\n",
    "        clear_output(wait=True)\n",
    "        print(\"finished\")\n",
    "    return(predictionCounts,predictionLabels)"
   ]
  },
  {
   "cell_type": "code",
   "execution_count": 15,
   "metadata": {},
   "outputs": [],
   "source": [
    "def makeConfusionMatrix(fasttextData,predictionLabels):\n",
    "    goldLabels = pd.Series([fasttextData[i].split()[0] for i in range(0,len(fasttextData))])\n",
    "    predictedLabels = pd.Series([x[0] for row in predictionLabels for x in row[0]])\n",
    "    return(pd.crosstab(goldLabels,predictedLabels))"
   ]
  },
  {
   "cell_type": "code",
   "execution_count": 16,
   "metadata": {},
   "outputs": [],
   "source": [
    "def evaluate(predictionCounts,predictionLabels,fasttextData,printResults=True):\n",
    "    caseTotal = 0\n",
    "    pTotal = 0\n",
    "    rTotal = 0\n",
    "    for i in range(0,len(predictionCounts)):\n",
    "        caseTotal += predictionCounts[i][0]\n",
    "        pTotal += predictionCounts[i][0]*predictionCounts[i][1]\n",
    "        rTotal += predictionCounts[i][0]*predictionCounts[i][2]\n",
    "    precision = round(pTotal/caseTotal,3)\n",
    "    recall = round(rTotal/caseTotal,3)\n",
    "    cf = makeConfusionMatrix(fasttextData,predictionLabels)\n",
    "    for label in ['__label__REJECTS','__label__REJECTS','__label__IRRELEVANT']:\n",
    "        if not label in cf: cf[label] = [0 for i in range(0,3)]\n",
    "    factor = sum(cf.loc['__label__SUPPORTS'])*sum([cf.iloc[i]['__label__REJECTS'] for i in range(0,len(cf))])/\\\n",
    "             (sum(cf.loc['__label__REJECTS'])*sum([cf.iloc[i]['__label__SUPPORTS'] for i in range(0,len(cf))]))\n",
    "    if printResults: print(\"cases: {0}; precision: {1}; recall: {2}; factor: {3:0.3f}\".format(caseTotal,precision,recall,factor))\n",
    "    return((precision,factor))"
   ]
  },
  {
   "cell_type": "markdown",
   "metadata": {},
   "source": [
    "## Grid search"
   ]
  },
  {
   "cell_type": "code",
   "execution_count": 17,
   "metadata": {},
   "outputs": [
    {
     "name": "stdout",
     "output_type": "stream",
     "text": [
      "10 10 0.05 cases: 3505; precision: 0.595; recall: 0.595; factor: 0.252\n",
      "10 10 0.1 cases: 3505; precision: 0.637; recall: 0.637; factor: 0.401\n",
      "10 10 0.2 cases: 3505; precision: 0.641; recall: 0.641; factor: 0.608\n",
      "10 20 0.05 cases: 3505; precision: 0.637; recall: 0.637; factor: 0.439\n",
      "10 20 0.1 cases: 3505; precision: 0.64; recall: 0.64; factor: 0.553\n",
      "10 20 0.2 cases: 3505; precision: 0.627; recall: 0.627; factor: 0.678\n",
      "10 50 0.05 cases: 3505; precision: 0.642; recall: 0.642; factor: 0.647\n",
      "10 50 0.1 cases: 3505; precision: 0.63; recall: 0.63; factor: 0.685\n",
      "10 50 0.2 cases: 3505; precision: 0.627; recall: 0.627; factor: 0.680\n",
      "10 100 0.05 cases: 3505; precision: 0.63; recall: 0.63; factor: 0.676\n",
      "10 100 0.1 cases: 3505; precision: 0.629; recall: 0.629; factor: 0.673\n",
      "10 100 0.2 cases: 3505; precision: 0.628; recall: 0.628; factor: 0.685\n",
      "10 200 0.05 cases: 3505; precision: 0.629; recall: 0.629; factor: 0.674\n",
      "10 200 0.1 cases: 3505; precision: 0.625; recall: 0.625; factor: 0.690\n",
      "10 200 0.2 cases: 3505; precision: 0.624; recall: 0.624; factor: 0.685\n",
      "10 300 0.05 cases: 3505; precision: 0.626; recall: 0.626; factor: 0.680\n",
      "10 300 0.1 cases: 3505; precision: 0.627; recall: 0.627; factor: 0.682\n",
      "10 300 0.2 cases: 3505; precision: 0.624; recall: 0.624; factor: 0.713\n",
      "20 10 0.05 cases: 3505; precision: 0.593; recall: 0.593; factor: 0.242\n",
      "20 10 0.1 cases: 3505; precision: 0.634; recall: 0.634; factor: 0.397\n",
      "20 10 0.2 cases: 3505; precision: 0.639; recall: 0.639; factor: 0.625\n",
      "20 20 0.05 cases: 3505; precision: 0.637; recall: 0.637; factor: 0.433\n",
      "20 20 0.1 cases: 3505; precision: 0.643; recall: 0.643; factor: 0.577\n",
      "20 20 0.2 cases: 3505; precision: 0.633; recall: 0.633; factor: 0.613\n",
      "20 50 0.05 cases: 3505; precision: 0.638; recall: 0.638; factor: 0.691\n",
      "20 50 0.1 cases: 3505; precision: 0.632; recall: 0.632; factor: 0.683\n",
      "20 50 0.2 cases: 3505; precision: 0.629; recall: 0.629; factor: 0.701\n",
      "20 100 0.05 cases: 3505; precision: 0.631; recall: 0.631; factor: 0.677\n",
      "20 100 0.1 cases: 3505; precision: 0.63; recall: 0.63; factor: 0.684\n",
      "20 100 0.2 cases: 3505; precision: 0.627; recall: 0.627; factor: 0.693\n",
      "20 200 0.05 cases: 3505; precision: 0.629; recall: 0.629; factor: 0.681\n",
      "20 200 0.1 cases: 3505; precision: 0.627; recall: 0.627; factor: 0.674\n",
      "20 200 0.2 cases: 3505; precision: 0.627; recall: 0.627; factor: 0.687\n",
      "20 300 0.05 cases: 3505; precision: 0.627; recall: 0.627; factor: 0.678\n",
      "20 300 0.1 cases: 3505; precision: 0.625; recall: 0.625; factor: 0.684\n",
      "20 300 0.2 cases: 3505; precision: 0.627; recall: 0.627; factor: 0.692\n",
      "50 10 0.05 cases: 3505; precision: 0.591; recall: 0.591; factor: 0.290\n",
      "50 10 0.1 cases: 3505; precision: 0.632; recall: 0.632; factor: 0.401\n",
      "50 10 0.2 cases: 3505; precision: 0.64; recall: 0.64; factor: 0.595\n",
      "50 20 0.05 cases: 3505; precision: 0.633; recall: 0.633; factor: 0.403\n",
      "50 20 0.1 cases: 3505; precision: 0.638; recall: 0.638; factor: 0.589\n",
      "50 20 0.2 cases: 3505; precision: 0.631; recall: 0.631; factor: 0.670\n",
      "50 50 0.05 cases: 3505; precision: 0.639; recall: 0.639; factor: 0.655\n",
      "50 50 0.1 cases: 3505; precision: 0.629; recall: 0.629; factor: 0.684\n",
      "50 50 0.2 cases: 3505; precision: 0.627; recall: 0.627; factor: 0.691\n",
      "50 100 0.05 cases: 3505; precision: 0.631; recall: 0.631; factor: 0.670\n",
      "50 100 0.1 cases: 3505; precision: 0.629; recall: 0.629; factor: 0.688\n",
      "50 100 0.2 cases: 3505; precision: 0.629; recall: 0.629; factor: 0.689\n",
      "50 200 0.05 cases: 3505; precision: 0.629; recall: 0.629; factor: 0.674\n",
      "50 200 0.1 cases: 3505; precision: 0.627; recall: 0.627; factor: 0.680\n",
      "50 200 0.2 cases: 3505; precision: 0.629; recall: 0.629; factor: 0.695\n",
      "50 300 0.05 cases: 3505; precision: 0.627; recall: 0.627; factor: 0.680\n",
      "50 300 0.1 cases: 3505; precision: 0.626; recall: 0.626; factor: 0.682\n",
      "50 300 0.2 cases: 3505; precision: 0.624; recall: 0.624; factor: 0.705\n",
      "100 10 0.05 cases: 3505; precision: 0.588; recall: 0.588; factor: 0.294\n",
      "100 10 0.1 cases: 3505; precision: 0.631; recall: 0.631; factor: 0.362\n",
      "100 10 0.2 cases: 3505; precision: 0.645; recall: 0.645; factor: 0.616\n",
      "100 20 0.05 cases: 3505; precision: 0.633; recall: 0.633; factor: 0.352\n",
      "100 20 0.1 cases: 3505; precision: 0.639; recall: 0.639; factor: 0.648\n",
      "100 20 0.2 cases: 3505; precision: 0.63; recall: 0.63; factor: 0.693\n",
      "100 50 0.05 cases: 3505; precision: 0.637; recall: 0.637; factor: 0.653\n",
      "100 50 0.1 cases: 3505; precision: 0.633; recall: 0.633; factor: 0.677\n",
      "100 50 0.2 cases: 3505; precision: 0.628; recall: 0.628; factor: 0.689\n",
      "100 100 0.05 cases: 3505; precision: 0.629; recall: 0.629; factor: 0.676\n",
      "100 100 0.1 cases: 3505; precision: 0.627; recall: 0.627; factor: 0.676\n",
      "100 100 0.2 cases: 3505; precision: 0.628; recall: 0.628; factor: 0.688\n",
      "100 200 0.05 cases: 3505; precision: 0.629; recall: 0.629; factor: 0.682\n",
      "100 200 0.1 cases: 3505; precision: 0.626; recall: 0.626; factor: 0.680\n",
      "100 200 0.2 cases: 3505; precision: 0.623; recall: 0.623; factor: 0.685\n",
      "100 300 0.05 cases: 3505; precision: 0.626; recall: 0.626; factor: 0.681\n",
      "100 300 0.1 cases: 3505; precision: 0.627; recall: 0.627; factor: 0.685\n",
      "100 300 0.2 cases: 3505; precision: 0.625; recall: 0.625; factor: 0.692\n",
      "200 10 0.05 cases: 3505; precision: 0.587; recall: 0.587; factor: 0.286\n",
      "200 10 0.1 cases: 3505; precision: 0.63; recall: 0.63; factor: 0.302\n",
      "200 10 0.2 cases: 3505; precision: 0.639; recall: 0.639; factor: 0.636\n",
      "200 20 0.05 cases: 3505; precision: 0.629; recall: 0.629; factor: 0.333\n",
      "200 20 0.1 cases: 3505; precision: 0.638; recall: 0.638; factor: 0.594\n",
      "200 20 0.2 cases: 3505; precision: 0.63; recall: 0.63; factor: 0.683\n",
      "200 50 0.05 cases: 3505; precision: 0.64; recall: 0.64; factor: 0.646\n",
      "200 50 0.1 cases: 3505; precision: 0.631; recall: 0.631; factor: 0.675\n",
      "200 50 0.2 cases: 3505; precision: 0.629; recall: 0.629; factor: 0.691\n",
      "200 100 0.05 cases: 3505; precision: 0.629; recall: 0.629; factor: 0.675\n",
      "200 100 0.1 cases: 3505; precision: 0.627; recall: 0.627; factor: 0.688\n",
      "200 100 0.2 cases: 3505; precision: 0.626; recall: 0.626; factor: 0.692\n",
      "200 200 0.05 cases: 3505; precision: 0.628; recall: 0.628; factor: 0.681\n",
      "200 200 0.1 cases: 3505; precision: 0.625; recall: 0.625; factor: 0.680\n",
      "200 200 0.2 cases: 3505; precision: 0.625; recall: 0.625; factor: 0.688\n",
      "200 300 0.05 cases: 3505; precision: 0.627; recall: 0.627; factor: 0.678\n",
      "200 300 0.1 cases: 3505; precision: 0.624; recall: 0.624; factor: 0.685\n",
      "200 300 0.2 cases: 3505; precision: 0.628; recall: 0.628; factor: 0.691\n",
      "300 10 0.05 cases: 3505; precision: 0.587; recall: 0.587; factor: 0.284\n",
      "300 10 0.1 cases: 3505; precision: 0.628; recall: 0.628; factor: 0.313\n",
      "300 10 0.2 cases: 3505; precision: 0.641; recall: 0.641; factor: 0.603\n",
      "300 20 0.05 cases: 3505; precision: 0.627; recall: 0.627; factor: 0.315\n",
      "300 20 0.1 cases: 3505; precision: 0.635; recall: 0.635; factor: 0.632\n",
      "300 20 0.2 cases: 3505; precision: 0.627; recall: 0.627; factor: 0.692\n",
      "300 50 0.05 cases: 3505; precision: 0.639; recall: 0.639; factor: 0.650\n",
      "300 50 0.1 cases: 3505; precision: 0.628; recall: 0.628; factor: 0.681\n",
      "300 50 0.2 cases: 3505; precision: 0.628; recall: 0.628; factor: 0.693\n",
      "300 100 0.05 cases: 3505; precision: 0.63; recall: 0.63; factor: 0.676\n",
      "300 100 0.1 cases: 3505; precision: 0.627; recall: 0.627; factor: 0.677\n",
      "300 100 0.2 cases: 3505; precision: 0.625; recall: 0.625; factor: 0.684\n",
      "300 200 0.05 cases: 3505; precision: 0.626; recall: 0.626; factor: 0.681\n",
      "300 200 0.1 cases: 3505; precision: 0.627; recall: 0.627; factor: 0.678\n",
      "300 200 0.2 cases: 3505; precision: 0.627; recall: 0.627; factor: 0.695\n",
      "300 300 0.05 cases: 3505; precision: 0.627; recall: 0.627; factor: 0.676\n",
      "300 300 0.1 cases: 3505; precision: 0.625; recall: 0.625; factor: 0.683\n",
      "300 300 0.2 cases: 3505; precision: 0.624; recall: 0.624; factor: 0.689\n"
     ]
    }
   ],
   "source": [
    "scores = {}\n",
    "for dim in [10,20,50,100,200,300]:\n",
    "    for epoch in [10,20,50,100,200,300]:\n",
    "        for lr in [0.05,0.1,0.2]:\n",
    "            predictionCounts,predictionLabels = runFasttext(fasttextData,dim=dim,epoch=epoch,lr=lr,squealFlag=False)\n",
    "            print(dim,epoch,lr,end=\" \")\n",
    "            key = \" \".join([str(dim),str(epoch),str(lr)])\n",
    "            scores[key] = evaluate(predictionCounts,predictionLabels,fasttextData)"
   ]
  },
  {
   "cell_type": "code",
   "execution_count": 23,
   "metadata": {},
   "outputs": [
    {
     "name": "stdout",
     "output_type": "stream",
     "text": [
      "10 1000 0.2 cases: 3505; precision: 0.626; recall: 0.626; factor: 0.701\n"
     ]
    }
   ],
   "source": [
    "dim,epoch,lr = (10,1000,0.2)\n",
    "predictionCounts,predictionLabels = runFasttext(fasttextData,dim=dim,epoch=epoch,lr=lr,squealFlag=False)\n",
    "print(dim,epoch,lr,end=\" \")\n",
    "key = \" \".join([str(dim),str(epoch),str(lr)])\n",
    "scores[key] = evaluate(predictionCounts,predictionLabels,fasttextData)"
   ]
  },
  {
   "cell_type": "code",
   "execution_count": 18,
   "metadata": {},
   "outputs": [
    {
     "data": {
      "text/plain": [
       "[((0.645, 0.6157497728888873), '100 10 0.2'),\n",
       " ((0.643, 0.5772708133971292), '20 20 0.1'),\n",
       " ((0.642, 0.6468049757178155), '10 50 0.05'),\n",
       " ((0.641, 0.6080804207869888), '10 10 0.2'),\n",
       " ((0.641, 0.6029606163053427), '300 10 0.2'),\n",
       " ((0.64, 0.5534921136948062), '10 20 0.1'),\n",
       " ((0.64, 0.5954446006652722), '50 10 0.2'),\n",
       " ((0.64, 0.6462917294524838), '200 50 0.05'),\n",
       " ((0.639, 0.6252043089980978), '20 10 0.2'),\n",
       " ((0.639, 0.6545197619149574), '50 50 0.05')]"
      ]
     },
     "execution_count": 18,
     "metadata": {},
     "output_type": "execute_result"
    }
   ],
   "source": [
    "[(scores[k],k) for k in sorted(scores.keys(),key=lambda k:scores[k][0],reverse=True)][0:10]"
   ]
  },
  {
   "cell_type": "code",
   "execution_count": 24,
   "metadata": {},
   "outputs": [
    {
     "data": {
      "text/plain": [
       "[((0.624, 0.7129848400344775), '10 300 0.2'),\n",
       " ((0.626, 0.7096428365023406), '10 500 0.3'),\n",
       " ((0.625, 0.7093328134195523), '10 500 0.2'),\n",
       " ((0.624, 0.7050547760907169), '50 300 0.2'),\n",
       " ((0.629, 0.7014222395754249), '20 50 0.2'),\n",
       " ((0.626, 0.7009962689386444), '10 1000 0.2'),\n",
       " ((0.624, 0.6999486634418631), '10 300 0.3'),\n",
       " ((0.627, 0.6949199560769809), '300 200 0.2'),\n",
       " ((0.629, 0.6948276978184408), '50 200 0.2'),\n",
       " ((0.627, 0.6931872458062556), '20 100 0.2')]"
      ]
     },
     "execution_count": 24,
     "metadata": {},
     "output_type": "execute_result"
    }
   ],
   "source": [
    "[(scores[k],k) for k in sorted(scores.keys(),key=lambda k:scores[k][1],reverse=True)][0:10]"
   ]
  },
  {
   "cell_type": "markdown",
   "metadata": {},
   "source": [
    "## Run with best parameters"
   ]
  },
  {
   "cell_type": "code",
   "execution_count": 25,
   "metadata": {},
   "outputs": [
    {
     "name": "stdout",
     "output_type": "stream",
     "text": [
      "finished\n"
     ]
    }
   ],
   "source": [
    "BESTDIM = 10\n",
    "BESTEPOCH = 300\n",
    "BESTLR = 0.2\n",
    "\n",
    "predictionCounts,predictionLabels = runFasttext(fasttextData,dim=BESTDIM,epoch=BESTEPOCH,lr=BESTLR)"
   ]
  },
  {
   "cell_type": "code",
   "execution_count": 26,
   "metadata": {},
   "outputs": [
    {
     "name": "stdout",
     "output_type": "stream",
     "text": [
      "cases: 3505; precision: 0.627; recall: 0.627; factor: 0.694\n"
     ]
    },
    {
     "data": {
      "text/plain": [
       "(0.627, 0.6943130390847739)"
      ]
     },
     "execution_count": 26,
     "metadata": {},
     "output_type": "execute_result"
    }
   ],
   "source": [
    "evaluate(predictionCounts,predictionLabels,fasttextData)"
   ]
  },
  {
   "cell_type": "code",
   "execution_count": 27,
   "metadata": {},
   "outputs": [
    {
     "data": {
      "text/plain": [
       "{'__label__REJECTS': 605,\n",
       " '__label__SUPPORTS': 2038,\n",
       " '__label__IRRELEVANT': 862}"
      ]
     },
     "execution_count": 27,
     "metadata": {},
     "output_type": "execute_result"
    }
   ],
   "source": [
    "labelCountsGold = {}\n",
    "for i in range(0,len(fasttextData)):\n",
    "    label = fasttextData[i].split()[0]\n",
    "    if label in labelCountsGold: labelCountsGold[label] += 1\n",
    "    else: labelCountsGold[label] = 1\n",
    "labelCountsGold"
   ]
  },
  {
   "cell_type": "code",
   "execution_count": 28,
   "metadata": {},
   "outputs": [
    {
     "name": "stdout",
     "output_type": "stream",
     "text": [
      "baseline accuracy: 0.581\n"
     ]
    }
   ],
   "source": [
    "print(\"baseline accuracy:\",round(max(labelCountsGold.values())/sum(labelCountsGold.values()),3))"
   ]
  },
  {
   "cell_type": "code",
   "execution_count": 29,
   "metadata": {},
   "outputs": [
    {
     "data": {
      "text/plain": [
       "{'__label__IRRELEVANT': 743,\n",
       " '__label__SUPPORTS': 2290,\n",
       " '__label__REJECTS': 472}"
      ]
     },
     "execution_count": 29,
     "metadata": {},
     "output_type": "execute_result"
    }
   ],
   "source": [
    "labelCountsPredicted = {}\n",
    "for i in range(0,len(predictionLabels)):\n",
    "    for label in predictionLabels[i][0]:\n",
    "        if label[0] in labelCountsPredicted: labelCountsPredicted[label[0]] += 1\n",
    "        else: labelCountsPredicted[label[0]] = 1\n",
    "labelCountsPredicted"
   ]
  },
  {
   "cell_type": "code",
   "execution_count": 30,
   "metadata": {},
   "outputs": [
    {
     "name": "stdout",
     "output_type": "stream",
     "text": [
      "total absolute deviation 504\n"
     ]
    }
   ],
   "source": [
    "print(\"total absolute deviation\",sum([abs(labelCountsPredicted[l]-labelCountsGold[l]) for l in labelCountsGold]))"
   ]
  },
  {
   "cell_type": "code",
   "execution_count": 31,
   "metadata": {},
   "outputs": [
    {
     "name": "stdout",
     "output_type": "stream",
     "text": [
      "relative deviation per label: {'__label__REJECTS': 0.22, '__label__SUPPORTS': 0.124, '__label__IRRELEVANT': 0.138}\n"
     ]
    }
   ],
   "source": [
    "print(\"relative deviation per label:\",\\\n",
    "      {l:round(abs(labelCountsPredicted[l]-labelCountsGold[l])/labelCountsGold[l],3) for l in labelCountsGold})"
   ]
  },
  {
   "cell_type": "code",
   "execution_count": 32,
   "metadata": {},
   "outputs": [
    {
     "data": {
      "text/html": [
       "<div>\n",
       "<style scoped>\n",
       "    .dataframe tbody tr th:only-of-type {\n",
       "        vertical-align: middle;\n",
       "    }\n",
       "\n",
       "    .dataframe tbody tr th {\n",
       "        vertical-align: top;\n",
       "    }\n",
       "\n",
       "    .dataframe thead th {\n",
       "        text-align: right;\n",
       "    }\n",
       "</style>\n",
       "<table border=\"1\" class=\"dataframe\">\n",
       "  <thead>\n",
       "    <tr style=\"text-align: right;\">\n",
       "      <th>col_0</th>\n",
       "      <th>__label__IRRELEVANT</th>\n",
       "      <th>__label__REJECTS</th>\n",
       "      <th>__label__SUPPORTS</th>\n",
       "    </tr>\n",
       "    <tr>\n",
       "      <th>row_0</th>\n",
       "      <th></th>\n",
       "      <th></th>\n",
       "      <th></th>\n",
       "    </tr>\n",
       "  </thead>\n",
       "  <tbody>\n",
       "    <tr>\n",
       "      <td>__label__IRRELEVANT</td>\n",
       "      <td>323</td>\n",
       "      <td>108</td>\n",
       "      <td>431</td>\n",
       "    </tr>\n",
       "    <tr>\n",
       "      <td>__label__REJECTS</td>\n",
       "      <td>142</td>\n",
       "      <td>239</td>\n",
       "      <td>224</td>\n",
       "    </tr>\n",
       "    <tr>\n",
       "      <td>__label__SUPPORTS</td>\n",
       "      <td>278</td>\n",
       "      <td>125</td>\n",
       "      <td>1635</td>\n",
       "    </tr>\n",
       "  </tbody>\n",
       "</table>\n",
       "</div>"
      ],
      "text/plain": [
       "col_0                __label__IRRELEVANT  __label__REJECTS  __label__SUPPORTS\n",
       "row_0                                                                        \n",
       "__label__IRRELEVANT                  323               108                431\n",
       "__label__REJECTS                     142               239                224\n",
       "__label__SUPPORTS                    278               125               1635"
      ]
     },
     "execution_count": 32,
     "metadata": {},
     "output_type": "execute_result"
    }
   ],
   "source": [
    "makeConfusionMatrix(fasttextData,predictionLabels)"
   ]
  },
  {
   "cell_type": "markdown",
   "metadata": {},
   "source": [
    "For the mondkapje data, fasttext predicts 63% of the labels correctly without external dictionary and 66% with a Wikipedia dictionary (baseline: 46%). It overestimates the presence of negative labels and underestimates the level of positive and neutral labels. The amount of irrelevant labels is about right"
   ]
  },
  {
   "cell_type": "code",
   "execution_count": 33,
   "metadata": {},
   "outputs": [
    {
     "data": {
      "text/plain": [
       "{'__label__REJECTS': 1.2817796610169492,\n",
       " '__label__SUPPORTS': 0.8899563318777293,\n",
       " '__label__IRRELEVANT': 1.1601615074024225}"
      ]
     },
     "execution_count": 33,
     "metadata": {},
     "output_type": "execute_result"
    }
   ],
   "source": [
    "multiplicationFactors = {}\n",
    "for label in labelCountsGold:\n",
    "    multiplicationFactors[label] = labelCountsGold[label]/labelCountsPredicted[label]\n",
    "multiplicationFactors"
   ]
  },
  {
   "cell_type": "markdown",
   "metadata": {},
   "source": [
    "For mondkapje tweets, the multiplication factor for the positive label is unrealistically high so we will not use these factors."
   ]
  },
  {
   "cell_type": "code",
   "execution_count": 34,
   "metadata": {},
   "outputs": [
    {
     "name": "stdout",
     "output_type": "stream",
     "text": [
      "3505.0 3505\n"
     ]
    }
   ],
   "source": [
    "predictedNumberOfLabels = 0\n",
    "for label in labelCountsGold:\n",
    "    predictedNumberOfLabels += multiplicationFactors[label]*labelCountsPredicted[label]\n",
    "print(predictedNumberOfLabels,sum(labelCountsGold.values()))"
   ]
  },
  {
   "cell_type": "markdown",
   "metadata": {},
   "source": [
    "## Relation data size - accuracy"
   ]
  },
  {
   "cell_type": "code",
   "execution_count": 35,
   "metadata": {},
   "outputs": [
    {
     "name": "stdout",
     "output_type": "stream",
     "text": [
      " 100 0.546 0.368\n",
      " 200 0.554 0.461\n",
      " 500 0.580 0.593\n",
      "1000 0.597 0.654\n",
      "2000 0.616 0.698\n",
      "3505 0.626 0.700\n"
     ]
    }
   ],
   "source": [
    "N = 5\n",
    "expResultsAll = {}\n",
    "for trainingSize in [100,200,500,1000,2000,5000]:\n",
    "    expResultsTrainingSize = []\n",
    "    for i in range(0,N):\n",
    "        selection = ranSelect(fasttextData,trainingSize)\n",
    "        predictionCounts,predictionLabels = runFasttext(fasttextData,dim=BESTDIM,epoch=BESTEPOCH,lr=BESTLR,squealFlag=False,maxTrain=trainingSize)\n",
    "        expResultsTrainingSize.append(evaluate(predictionCounts,predictionLabels,fasttextData,printResults=False))\n",
    "    average = (np.average([x[0] for x in expResultsTrainingSize]),np.average([x[1] for x in expResultsTrainingSize]))\n",
    "    expResultsAll[len(selection)] = average\n",
    "    print(\"{0:4} {1:0.3f} {2:0.3f}\".format(len(selection),average[0],average[1]))\n",
    "    if len(selection) >= len(fasttextData): break"
   ]
  },
  {
   "cell_type": "code",
   "execution_count": 38,
   "metadata": {},
   "outputs": [
    {
     "data": {
      "image/png": "[encoded data removed]",
      "text/plain": [
       "<Figure size 864x288 with 2 Axes>"
      ]
     },
     "metadata": {
      "needs_background": "light"
     },
     "output_type": "display_data"
    }
   ],
   "source": [
    "plt.figure(figsize=(12,4))\n",
    "\n",
    "ax1 = plt.subplot(121)\n",
    "plt.plot(list(expResultsAll.keys()),[x[0] for x in list(expResultsAll.values())])\n",
    "plt.xscale(\"log\")\n",
    "plt.ylabel(\"percentage\")\n",
    "plt.xlabel(\"training data size\")\n",
    "plt.title(\"accuracy related to traing size\")\n",
    "\n",
    "ax1 = plt.subplot(122)\n",
    "plt.plot(list(expResultsAll.keys()),[x[1] for x in list(expResultsAll.values())])\n",
    "plt.xscale(\"log\")\n",
    "plt.ylabel(\"percentage\")\n",
    "plt.xlabel(\"training data size\")\n",
    "plt.title(\"support/reject fraction related to traing size\")\n",
    "\n",
    "plt.show()"
   ]
  },
  {
   "cell_type": "markdown",
   "metadata": {},
   "source": [
    "## Classifying unlabeled tweets"
   ]
  },
  {
   "cell_type": "code",
   "execution_count": 39,
   "metadata": {},
   "outputs": [],
   "source": [
    "import fasttext\n",
    "import matplotlib\n",
    "import os\n",
    "import pandas as pd\n",
    "import re"
   ]
  },
  {
   "cell_type": "code",
   "execution_count": 40,
   "metadata": {},
   "outputs": [],
   "source": [
    "DATADIRECTORY = \"/home/erikt/projects/puregome/data/text/\"\n",
    "LABELPREFIX = \"__label__\"\n",
    "NEGATIVE = LABELPREFIX+\"NEGATIVE\"\n",
    "POSITIVE = LABELPREFIX+\"POSITIVE\"\n",
    "NEUTRAL = LABELPREFIX+\"NEUTRAL\"\n",
    "IRRELEVANT = LABELPREFIX+\"IRRELEVANT\"\n",
    "SUPPORTS = LABELPREFIX+\"SUPPORTS\"\n",
    "REJECTS = LABELPREFIX+\"REJECTS\"\n",
    "SUPPORT = \"\"\n",
    "TEXT = \"text\"\n",
    "USER = \"user\"\n",
    "DIM = BESTDIM\n",
    "EPOCH = BESTEPOCH\n",
    "LR = BESTLR"
   ]
  },
  {
   "cell_type": "code",
   "execution_count": 41,
   "metadata": {},
   "outputs": [],
   "source": [
    "def makeGrepCommandFromQuery(query):\n",
    "    grepCommand = \"grep\"\n",
    "    for orPart in query.split(\"|\"):\n",
    "        grepCommand += ' -e \"'+orPart+'\"'\n",
    "    return(grepCommand)\n",
    "\n",
    "def readData(datePattern,query):\n",
    "    fileList = sorted(os.listdir(DATADIRECTORY))\n",
    "    tmpFileName = \"classify.\"+str(int(random.random()*LARGEINT))+\".txt\"\n",
    "    testData = []\n",
    "    for inFileName in fileList:\n",
    "        if re.search(datePattern,inFileName):\n",
    "            os.system(\"gunzip -c \"+DATADIRECTORY+inFileName+\" 2>/dev/null| head -1 >\"+tmpFileName)\n",
    "            os.system(\"gunzip -c \"+DATADIRECTORY+inFileName+\" 2>/dev/null| \"+makeGrepCommandFromQuery(query)+\" >> \"+tmpFileName)\n",
    "            try: df = pd.read_csv(tmpFileName)\n",
    "            except: continue\n",
    "            for i in range(0,len(df)):\n",
    "                if re.search(query,df.iloc[i][TEXT],flags=re.IGNORECASE):\n",
    "                    testData.append(df.iloc[i][USER]+\" \"+df.iloc[i][TEXT])\n",
    "            os.unlink(tmpFileName)\n",
    "    return(testData)\n",
    "    \n",
    "def classify(datePattern,query):\n",
    "    testData = readData(datePattern,query)\n",
    "    model = fasttext.train_supervised(FILEFASTTEXT,dim=DIM,epoch=EPOCH,lr=LR)\n",
    "    predictedLabels = model.predict(testData)\n",
    "    predictedGroups = pd.DataFrame(predictedLabels[0]).groupby(0).groups\n",
    "    labelCountsPredicted = {label:len(predictedGroups[label]) for label in predictedGroups}\n",
    "    nbrOfLabels = sum([labelCountsPredicted[label] for label in labelCountsPredicted if label != IRRELEVANT])\n",
    "    labelPercentages = { label:round(100*labelCountsPredicted[label]/nbrOfLabels,1) for label in labelCountsPredicted}\n",
    "    return(labelPercentages)"
   ]
  },
  {
   "cell_type": "code",
   "execution_count": 42,
   "metadata": {},
   "outputs": [
    {
     "name": "stdout",
     "output_type": "stream",
     "text": [
      "20200201 4.0 96.0 206.0\n",
      "20200202 12.5 87.5 262.5\n",
      "20200203 4.7 95.3 131.2\n",
      "20200204 3.3 96.7 110.9\n",
      "20200205 6.0 94.0 154.0\n",
      "20200206 35.9 64.1 223.1\n",
      "20200207 10.2 89.8 228.6\n",
      "20200208 6.1 93.9 218.4\n",
      "20200209 12.3 87.7 164.2\n",
      "20200210 26.9 73.1 101.3\n",
      "20200211 18.8 81.2 577.1\n",
      "20200212 3.0 97.0 163.6\n",
      "20200213 11.2 88.8 165.0\n",
      "20200214 9.2 90.8 172.3\n",
      "20200215 9.1 90.9 268.2\n",
      "20200216 4.9 95.1 149.2\n",
      "20200217 5.2 94.8 187.9\n",
      "20200218 10.4 89.6 144.8\n",
      "20200219 10.0 90.0 352.5\n",
      "20200220 8.7 91.3 821.7\n",
      "20200221 10.0 90.0 427.5\n",
      "20200222 16.3 83.7 258.1\n",
      "20200223 2.2 97.8 129.0\n",
      "20200224 2.9 97.1 267.1\n",
      "20200225 31.3 68.7 191.0\n",
      "20200226 12.9 87.1 265.7\n",
      "20200227 3.0 97.0 114.8\n",
      "20200228 11.6 88.4 100.0\n",
      "20200229 19.1 80.9 170.6\n",
      "20200230 error\n",
      "20200231 error\n",
      "20200301 13.0 87.0 123.0\n",
      "20200302 12.1 87.9 99.0\n",
      "20200303 3.3 96.7 85.6\n",
      "20200304 5.1 94.9 235.6\n",
      "20200305 10.0 90.0 226.2\n",
      "20200306 5.8 94.2 148.9\n",
      "20200307 4.8 95.2 79.2\n",
      "20200308 4.4 95.6 50.0\n",
      "20200309 5.6 94.4 62.0\n",
      "20200310 5.1 94.9 71.5\n",
      "20200311 5.2 94.8 53.7\n",
      "20200312 6.0 94.0 94.2\n",
      "20200313 5.5 94.5 46.9\n",
      "20200314 6.4 93.6 67.0\n",
      "20200315 3.1 96.9 29.9\n",
      "20200316 5.9 94.1 27.9\n",
      "20200317 5.5 94.5 27.6\n",
      "20200318 5.7 94.3 22.2\n",
      "20200319 7.7 92.3 26.4\n",
      "20200320 6.6 93.4 20.3\n",
      "20200321 4.9 95.1 18.2\n",
      "20200322 4.4 95.6 14.8\n",
      "20200323 7.3 92.7 23.3\n",
      "20200324 9.4 90.6 38.4\n",
      "20200325 8.1 91.9 30.0\n",
      "20200326 9.1 90.9 30.7\n",
      "20200327 13.9 86.1 20.8\n",
      "20200328 7.7 92.3 23.8\n",
      "20200329 9.7 90.3 28.2\n",
      "20200330 9.5 90.5 33.1\n",
      "20200331 6.5 93.5 48.3\n",
      "20200401 7.6 92.4 34.7\n",
      "20200402 14.4 85.6 28.6\n",
      "20200403 6.1 93.9 23.5\n",
      "20200404 9.2 90.8 21.6\n",
      "20200405 9.0 91.0 22.1\n",
      "20200406 9.9 90.1 30.1\n",
      "20200407 13.7 86.3 50.3\n",
      "20200408 10.6 89.4 31.7\n",
      "20200409 10.6 89.4 26.9\n",
      "20200410 9.9 90.1 25.9\n",
      "20200411 8.3 91.7 20.1\n",
      "20200412 12.9 87.1 28.6\n",
      "20200413 12.9 87.1 40.8\n",
      "20200414 11.8 88.2 31.1\n",
      "20200415 30.5 69.5 35.3\n",
      "20200416 31.3 68.7 40.3\n",
      "20200417 19.3 80.7 41.8\n",
      "20200418 23.7 76.3 55.6\n",
      "20200419 17.7 82.3 37.0\n",
      "20200420 16.9 83.1 35.7\n",
      "20200421 27.2 72.8 54.4\n",
      "20200422 27.2 72.8 49.3\n",
      "20200423 25.4 74.6 49.0\n",
      "20200424 21.2 78.8 46.7\n",
      "20200425 21.1 78.9 33.3\n",
      "20200426 21.8 78.2 25.9\n",
      "20200427 17.0 83.0 32.9\n",
      "20200428 21.6 78.4 34.6\n",
      "20200429 20.9 79.1 44.0\n",
      "20200430 20.9 79.1 45.0\n",
      "20200431 error\n",
      "20200501 27.0 73.0 36.8\n",
      "20200502 29.3 70.7 27.1\n",
      "20200503 37.5 62.5 29.9\n",
      "20200504 33.6 66.4 37.5\n",
      "20200505 29.0 71.0 30.6\n",
      "20200506 19.5 80.5 41.9\n",
      "20200507 27.6 72.4 35.0\n",
      "20200508 21.1 78.9 43.3\n",
      "20200509 17.1 82.9 31.9\n",
      "20200510 18.1 81.9 30.6\n",
      "20200511 16.5 83.5 29.9\n",
      "20200512 27.2 72.8 41.7\n",
      "20200513 21.7 78.3 44.2\n",
      "20200514 17.6 82.4 26.0\n",
      "20200515 27.2 72.8 35.6\n",
      "20200516 43.6 56.4 44.8\n",
      "20200517 37.1 62.9 40.8\n",
      "20200518 48.9 51.1 37.1\n",
      "20200519 38.3 61.7 34.0\n",
      "20200520 42.5 57.5 35.0\n",
      "20200521 33.3 66.7 32.5\n",
      "20200522 33.6 66.4 34.3\n",
      "20200523 33.0 67.0 31.5\n",
      "20200524 29.1 70.9 34.9\n",
      "20200525 28.4 71.6 43.6\n",
      "20200526 39.5 60.5 39.2\n",
      "20200527 34.4 65.6 32.3\n",
      "20200528 45.3 54.7 27.1\n",
      "20200529 28.7 71.3 47.1\n",
      "20200530 25.3 74.7 45.2\n",
      "20200531 23.7 76.3 40.3\n",
      "20200601 32.6 67.4 49.9\n",
      "20200602 28.8 71.2 49.5\n",
      "20200603 21.8 78.2 45.1\n",
      "20200604 31.0 69.0 48.0\n",
      "20200605 19.7 80.3 61.5\n",
      "20200606 41.7 58.3 37.6\n",
      "20200607 38.3 61.7 40.2\n",
      "20200608 41.3 58.7 31.4\n",
      "20200609 48.0 52.0 61.3\n",
      "20200610 40.2 59.8 47.8\n",
      "20200611 46.3 53.7 50.7\n",
      "20200612 31.2 68.8 44.1\n",
      "20200613 34.4 65.6 35.5\n",
      "20200614 39.3 60.7 28.4\n",
      "20200615 41.4 58.6 44.7\n",
      "20200616 40.0 60.0 38.3\n",
      "20200617 22.3 77.7 35.9\n",
      "20200618 49.5 50.5 28.8\n",
      "20200619 44.0 56.0 35.0\n",
      "20200620 35.4 64.6 50.6\n",
      "20200621 31.4 68.6 69.7\n",
      "20200622 27.5 72.5 34.2\n",
      "20200623 43.4 56.6 39.6\n",
      "20200624 38.2 61.8 51.1\n",
      "20200625 41.5 58.5 53.4\n",
      "20200626 53.8 46.2 38.1\n",
      "20200627 46.6 53.4 51.5\n",
      "20200628 29.0 71.0 42.8\n",
      "20200629 26.9 73.1 57.9\n",
      "20200630 34.5 65.5 54.9\n",
      "20200631 error\n",
      "20200701 34.7 65.3 35.2\n",
      "20200702 40.9 59.1 38.3\n",
      "20200703 27.1 72.9 50.8\n",
      "20200704 31.0 69.0 44.8\n",
      "20200705 24.0 76.0 47.3\n",
      "20200706 23.5 76.5 35.8\n",
      "20200707 34.7 65.3 58.4\n",
      "20200708 32.3 67.7 40.2\n",
      "20200709 31.6 68.4 38.6\n",
      "20200710 42.6 57.4 33.6\n",
      "20200711 24.2 75.8 39.1\n",
      "20200712 28.5 71.5 42.7\n",
      "20200713 26.6 73.4 55.7\n",
      "20200714 21.1 78.9 50.1\n",
      "20200715 21.3 78.7 54.0\n",
      "20200716 error\n",
      "20200717 error\n",
      "20200718 error\n",
      "20200719 error\n",
      "20200720 error\n",
      "20200721 error\n",
      "20200722 error\n",
      "20200723 error\n",
      "20200724 error\n",
      "20200725 error\n",
      "20200726 error\n",
      "20200727 error\n",
      "20200728 error\n",
      "20200729 error\n",
      "20200730 error\n",
      "20200731 error\n"
     ]
    }
   ],
   "source": [
    "QUERY = \"1[.,]5[ -]*m|afstand.*hou|hou.*afstand|anderhalve[ -]*meter\"\n",
    "MAXDAYSPERMONTH = 31\n",
    "\n",
    "results = {}\n",
    "for month in \"202002 202003 202004 202005 202006 202007\".split():\n",
    "    for day in range(1,MAXDAYSPERMONTH+1):\n",
    "        date = month+str(day).zfill(2)\n",
    "        try:\n",
    "            labels = classify(date,QUERY)\n",
    "            if not REJECTS in labels: labels[REJECTS] = 0\n",
    "            if not SUPPORTS in labels: labels[SUPPORTS] = 0\n",
    "            if not IRRELEVANT in labels: labels[IRRELEVANT] = 0\n",
    "            if labels[REJECTS]+labels[SUPPORTS]+labels[IRRELEVANT] > 0:\n",
    "                results[date] = labels\n",
    "            print(date,labels[REJECTS],labels[SUPPORTS],labels[IRRELEVANT])\n",
    "        except:\n",
    "            print(date,\"error\")"
   ]
  },
  {
   "cell_type": "markdown",
   "metadata": {},
   "source": [
    "## Visualization over time"
   ]
  },
  {
   "cell_type": "code",
   "execution_count": 43,
   "metadata": {},
   "outputs": [],
   "source": [
    "def movingAverage(numberList,size):\n",
    "    newList = []\n",
    "    for i in range(0,len(numberList)):\n",
    "        numberUsed = 1\n",
    "        newList.append(numberList[i])\n",
    "        for j in range(1,size):\n",
    "            if i-j >= 0:\n",
    "                newList[i] += numberList[i-j]\n",
    "                numberUsed += 1\n",
    "        newList[i] /= numberUsed\n",
    "    return(newList)"
   ]
  },
  {
   "cell_type": "code",
   "execution_count": 44,
   "metadata": {},
   "outputs": [
    {
     "name": "stderr",
     "output_type": "stream",
     "text": [
      "/home/erikt/anaconda3/envs/python37/lib/python3.7/site-packages/pandas/plotting/_matplotlib/converter.py:103: FutureWarning: Using an implicitly registered datetime converter for a matplotlib plotting method. The converter was registered by pandas on import. Future versions of pandas will require you to explicitly register matplotlib converters.\n",
      "\n",
      "To register the converters:\n",
      "\t>>> from pandas.plotting import register_matplotlib_converters\n",
      "\t>>> register_matplotlib_converters()\n",
      "  warnings.warn(msg, FutureWarning)\n"
     ]
    },
    {
     "data": {
      "image/png": "[encoded data removed]",
      "text/plain": [
       "<Figure size 720x432 with 2 Axes>"
      ]
     },
     "metadata": {
      "needs_background": "light"
     },
     "output_type": "display_data"
    }
   ],
   "source": [
    "DATEFORMAT = \"%Y%m%d\"\n",
    "DAYSCOMBINED = 7\n",
    "STARTDATE = \"20200310\"\n",
    "ENDDATE = \"20201231\"\n",
    "\n",
    "results = {k:results[k] for k in sorted(results.keys())}\n",
    "font = {\"size\":14}\n",
    "matplotlib.rc(\"font\",**font)\n",
    "plt.subplots(figsize=(10,6))\n",
    "x = [datetime.datetime.strptime(k,DATEFORMAT) for k in results.keys()]\n",
    "ySupports = movingAverage([results[k][SUPPORTS] for k in results.keys()],DAYSCOMBINED)\n",
    "yRejects = movingAverage([results[k][REJECTS] for k in results.keys()],DAYSCOMBINED)\n",
    "yIrrelevant = movingAverage([results[k][IRRELEVANT] for k in results.keys()],DAYSCOMBINED)\n",
    "\n",
    "ax1 = plt.subplot(121)\n",
    "plt.plot_date(x,ySupports,fmt=\"-\",label=\"supports\")\n",
    "plt.plot_date(x,yRejects,fmt=\"-\",label=\"rejects\")\n",
    "plt.plot_date(x,yIrrelevant,fmt=\"-\",label=\"irrelevant\")\n",
    "plt.plot_date(x,[100 for i in x],fmt=\"-\",label=\"100%\",color=\"black\")\n",
    "for date in [STARTDATE]:\n",
    "    plt.plot_date([datetime.datetime.strptime(date,DATEFORMAT)],[100],color=\"black\")\n",
    "plt.legend()\n",
    "plt.ylabel(\"percentage\")\n",
    "plt.xlabel(\"day/month\")\n",
    "plt.title(\"   stance on the RIVM policy on \"+\"social\")\n",
    "\n",
    "dates = [d for d in results.keys()]\n",
    "xPart = [x[i] for i in range(0,len(dates)) if dates[i] >= STARTDATE and dates[i] <= ENDDATE]\n",
    "ySupportsPart = [ySupports[i] for i in range(0,len(dates)) if dates[i] >= STARTDATE and dates[i] <= ENDDATE] \n",
    "yRejectsPart = [yRejects[i] for i in range(0,len(dates)) if dates[i] >= STARTDATE and dates[i] <= ENDDATE]\n",
    "ax1.xaxis.set_major_formatter(mdates.DateFormatter(\"%-d/%-m\"))\n",
    "\n",
    "ax2 = plt.subplot(122)\n",
    "plt.plot_date(xPart,ySupportsPart,fmt=\"-\",label=\"supports\")\n",
    "plt.plot_date(xPart,yRejectsPart,fmt=\"-\",label=\"rejects\")\n",
    "plt.legend()\n",
    "plt.xlabel(\"day/month\")\n",
    "plt.title(\"distancing (average over \"+str(DAYSCOMBINED)+\" days)  \")\n",
    "plt.xticks([datetime.datetime.strptime(d,DATEFORMAT) for d in \"20200301 20200401 20200501 20200601 20200701\".split()])\n",
    "ax2.xaxis.set_major_formatter(mdates.DateFormatter(\"%-d/%-m\"))\n",
    "\n",
    "plt.show()"
   ]
  },
  {
   "cell_type": "code",
   "execution_count": 45,
   "metadata": {},
   "outputs": [
    {
     "name": "stdout",
     "output_type": "stream",
     "text": [
      "20200310\n"
     ]
    }
   ],
   "source": [
    "for i in range(0,len(yIrrelevant)):\n",
    "    if i < len(yIrrelevant)-1 and \\\n",
    "       (yIrrelevant[i] < 100 and yIrrelevant[i+1] >= 100 or yIrrelevant[i] >= 100 and yIrrelevant[i+1] < 100):\n",
    "        print(list(results.keys())[i])"
   ]
  },
  {
   "cell_type": "code",
   "execution_count": null,
   "metadata": {},
   "outputs": [],
   "source": []
  }
 ],
 "metadata": {
  "kernelspec": {
   "display_name": "Python 3",
   "language": "python",
   "name": "python3"
  },
  "language_info": {
   "codemirror_mode": {
    "name": "ipython",
    "version": 3
   },
   "file_extension": ".py",
   "mimetype": "text/x-python",
   "name": "python",
   "nbconvert_exporter": "python",
   "pygments_lexer": "ipython3",
   "version": "3.7.3"
  }
 },
 "nbformat": 4,
 "nbformat_minor": 4
}
