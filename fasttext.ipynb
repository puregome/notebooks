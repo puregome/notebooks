{
 "cells": [
  {
   "cell_type": "markdown",
   "metadata": {},
   "source": [
    "# Fasttext tweet classification"
   ]
  },
  {
   "cell_type": "markdown",
   "metadata": {},
   "source": [
    "## Data file creation"
   ]
  },
  {
   "cell_type": "code",
   "execution_count": 24,
   "metadata": {},
   "outputs": [],
   "source": [
    "import datetime\n",
    "import os\n",
    "import pandas as pd\n",
    "import random\n",
    "import re\n",
    "from nltk.tokenize import TweetTokenizer\n",
    "from IPython.display import clear_output"
   ]
  },
  {
   "cell_type": "code",
   "execution_count": 25,
   "metadata": {},
   "outputs": [],
   "source": [
    "TOPIC = \"mondkapje\"\n",
    "FILETWEETS = TOPIC+\"-tweets.csv\"\n",
    "FILEANNOTATIONS = \"human-labels-\"+TOPIC+\"-tweets.txt\"\n",
    "FILEFASTTEXT = \"fasttext-\"+TOPIC+\".csv\"\n",
    "LABELPREFIX = \"__label__\"\n",
    "LARGEINT = 9999999999\n",
    "LABEL = \"label\"\n",
    "TEXT = \"text\"\n",
    "USER = \"user\""
   ]
  },
  {
   "cell_type": "code",
   "execution_count": 26,
   "metadata": {},
   "outputs": [],
   "source": [
    "tweets = pd.read_csv(FILETWEETS,header=None,index_col=0)\n",
    "annotations = pd.read_csv(FILEANNOTATIONS,header=None,sep=\" \")"
   ]
  },
  {
   "cell_type": "code",
   "execution_count": 56,
   "metadata": {},
   "outputs": [],
   "source": [
    "fasttextData = {}\n",
    "for i in range(0,len(annotations)):\n",
    "    tweetId = annotations.iloc[i][2]\n",
    "    tweetLabel = annotations.iloc[i][4]\n",
    "    if tweetId in list(tweets.index):\n",
    "        tweetLabel = annotations.iloc[i][4]\n",
    "        tweetUser = tweets.loc[tweetId][1]\n",
    "        fasttextData[tweetId] = {LABEL:LABELPREFIX+tweetLabel,\\\n",
    "                                 USER:tweetUser,\\\n",
    "                                 TEXT:\" \".join(TweetTokenizer().tokenize(tweets.loc[tweetId][2]))}\n",
    "\n",
    "outFile = open(FILEFASTTEXT,\"w\")\n",
    "seenTexts = {}\n",
    "for tweetId in fasttextData:\n",
    "    if not fasttextData[tweetId][TEXT] in seenTexts:\n",
    "        print(fasttextData[tweetId][LABEL],fasttextData[tweetId][USER],fasttextData[tweetId][TEXT],file=outFile)\n",
    "        seenTexts[fasttextData[tweetId][TEXT]] = True\n",
    "outFile.close()"
   ]
  },
  {
   "cell_type": "markdown",
   "metadata": {},
   "source": [
    "## Fasttext run and evaluation"
   ]
  },
  {
   "cell_type": "code",
   "execution_count": 57,
   "metadata": {},
   "outputs": [],
   "source": [
    "import fasttext\n",
    "from IPython.display import clear_output"
   ]
  },
  {
   "cell_type": "code",
   "execution_count": 58,
   "metadata": {},
   "outputs": [],
   "source": [
    "PRETRAINEDDIR = \"/home/erikt/projects/newsgac/fasttext-runs/\"\n",
    "WIKIFILENAME = \"wiki.nl.vec\""
   ]
  },
  {
   "cell_type": "code",
   "execution_count": 59,
   "metadata": {},
   "outputs": [],
   "source": [
    "def print_results(N, p, r):\n",
    "    print(\"N\\t\" + str(N))\n",
    "    print(\"P@{}\\t{:.3f}\".format(1, p))\n",
    "    print(\"R@{}\\t{:.3f}\".format(1, r))"
   ]
  },
  {
   "cell_type": "code",
   "execution_count": 60,
   "metadata": {},
   "outputs": [],
   "source": [
    "fasttextData = []\n",
    "inFile = open(FILEFASTTEXT,\"r\")\n",
    "for line in inFile: fasttextData.append(line.strip())\n",
    "inFile.close()"
   ]
  },
  {
   "cell_type": "code",
   "execution_count": 61,
   "metadata": {},
   "outputs": [
    {
     "name": "stdout",
     "output_type": "stream",
     "text": [
      "finished\n"
     ]
    }
   ],
   "source": [
    "DIM = 300\n",
    "EPOCH = 100\n",
    "LR = 0.1\n",
    "N = 10\n",
    "TRAIN = \"TRAIN\"+str(int(random.random()*LARGEINT))\n",
    "TEST = \"TEST\"+str(int(random.random()*LARGEINT))\n",
    "\n",
    "predictionCounts = []\n",
    "predictionLabels = []\n",
    "for fold in range(0,N):\n",
    "    clear_output(wait=True)\n",
    "    print(\"starting fold\",fold)\n",
    "    testStart = round(fold*len(fasttextData)/N)\n",
    "    testEnd = round((fold+1)*len(fasttextData)/N)\n",
    "    trainFile = open(TRAIN,\"w\")\n",
    "    testFile = open(TEST,\"w\")\n",
    "    testData = []\n",
    "    for i in range(0,len(fasttextData)):\n",
    "        if i < testStart or i >= testEnd: print(fasttextData[i],file=trainFile)\n",
    "        else: \n",
    "            print(fasttextData[i],file=testFile)\n",
    "            testData.append(fasttextData[i])\n",
    "    testFile.close()\n",
    "    trainFile.close()\n",
    "    model = fasttext.train_supervised(TRAIN,dim=DIM,epoch=EPOCH,lr=LR) # ,pretrainedVectors=PRETRAINEDDIR+WIKIFILENAME)\n",
    "    predictionCounts.append([*model.test(TEST)])\n",
    "    predictionLabels.append(model.predict(testData))\n",
    "    os.unlink(TRAIN)\n",
    "    os.unlink(TEST)\n",
    "clear_output(wait=True)\n",
    "print(\"finished\")"
   ]
  },
  {
   "cell_type": "code",
   "execution_count": 62,
   "metadata": {},
   "outputs": [
    {
     "name": "stdout",
     "output_type": "stream",
     "text": [
      "cases: 593; precision: 0.637; recall: 0.637\n"
     ]
    }
   ],
   "source": [
    "caseTotal = 0\n",
    "pTotal = 0\n",
    "rTotal = 0\n",
    "for i in range(0,len(predictionCounts)):\n",
    "    caseTotal += predictionCounts[i][0]\n",
    "    pTotal += predictionCounts[i][0]*predictionCounts[i][1]\n",
    "    rTotal += predictionCounts[i][0]*predictionCounts[i][2]\n",
    "print(\"cases: {0}; precision: {1}; recall: {2}\".format(caseTotal,round(pTotal/caseTotal,3),round(rTotal/caseTotal,3)))"
   ]
  },
  {
   "cell_type": "code",
   "execution_count": 63,
   "metadata": {},
   "outputs": [],
   "source": [
    "labelCountsGold = {}\n",
    "for i in range(0,len(fasttextData)):\n",
    "    label = fasttextData[i].split()[0]\n",
    "    if label in labelCountsGold: labelCountsGold[label] += 1\n",
    "    else: labelCountsGold[label] = 1"
   ]
  },
  {
   "cell_type": "code",
   "execution_count": 64,
   "metadata": {},
   "outputs": [
    {
     "data": {
      "text/plain": [
       "{'__label__NEUTRAL': 53,\n",
       " '__label__IRRELEVANT': 235,\n",
       " '__label__NEGATIVE': 273,\n",
       " '__label__POSITIVE': 32}"
      ]
     },
     "execution_count": 64,
     "metadata": {},
     "output_type": "execute_result"
    }
   ],
   "source": [
    "labelCountsGold"
   ]
  },
  {
   "cell_type": "code",
   "execution_count": 65,
   "metadata": {},
   "outputs": [],
   "source": [
    "labelCountsPredicted = {}\n",
    "for i in range(0,len(predictionLabels)):\n",
    "    for label in predictionLabels[i][0]:\n",
    "        if label[0] in labelCountsPredicted: labelCountsPredicted[label[0]] += 1\n",
    "        else: labelCountsPredicted[label[0]] = 1"
   ]
  },
  {
   "cell_type": "code",
   "execution_count": 66,
   "metadata": {},
   "outputs": [
    {
     "data": {
      "text/plain": [
       "{'__label__NEUTRAL': 24,\n",
       " '__label__NEGATIVE': 330,\n",
       " '__label__IRRELEVANT': 235,\n",
       " '__label__POSITIVE': 4}"
      ]
     },
     "execution_count": 66,
     "metadata": {},
     "output_type": "execute_result"
    }
   ],
   "source": [
    "labelCountsPredicted"
   ]
  },
  {
   "cell_type": "markdown",
   "metadata": {},
   "source": [
    "Fasttext predicts 63% of the labels correctly without external dictionary and 66% with a Wikipedia dictionary (baseline: 46%). It overestimates the presence of negative labels and underestimates the level of positive and neutral labels. The amount of irrelevant labels is about right"
   ]
  },
  {
   "cell_type": "code",
   "execution_count": 67,
   "metadata": {},
   "outputs": [
    {
     "data": {
      "text/plain": [
       "{'__label__NEUTRAL': 2.2083333333333335,\n",
       " '__label__IRRELEVANT': 1.0,\n",
       " '__label__NEGATIVE': 0.8272727272727273,\n",
       " '__label__POSITIVE': 8.0}"
      ]
     },
     "execution_count": 67,
     "metadata": {},
     "output_type": "execute_result"
    }
   ],
   "source": [
    "multiplicationFactors = {}\n",
    "for label in labelCountsGold:\n",
    "    multiplicationFactors[label] = labelCountsGold[label]/labelCountsPredicted[label]\n",
    "multiplicationFactors"
   ]
  },
  {
   "cell_type": "markdown",
   "metadata": {},
   "source": [
    "The multiplication factor for the positive label is unrealistically high so we will not use these factors."
   ]
  },
  {
   "cell_type": "code",
   "execution_count": 68,
   "metadata": {},
   "outputs": [
    {
     "name": "stdout",
     "output_type": "stream",
     "text": [
      "593.0 593\n"
     ]
    }
   ],
   "source": [
    "predictedNumberOfLabels = 0\n",
    "for label in labelCountsGold:\n",
    "    predictedNumberOfLabels += multiplicationFactors[label]*labelCountsPredicted[label]\n",
    "print(predictedNumberOfLabels,sum(labelCountsGold.values()))"
   ]
  },
  {
   "cell_type": "markdown",
   "metadata": {},
   "source": [
    "## Classifying tweets"
   ]
  },
  {
   "cell_type": "code",
   "execution_count": 107,
   "metadata": {},
   "outputs": [],
   "source": [
    "DATADIRECTORY = \"/home/erikt/projects/puregome/data/text/\"\n",
    "NEGATIVE = \"__label__NEGATIVE\"\n",
    "POSITIVE = \"__label__POSITIVE\"\n",
    "NEUTRAL = \"__label__NEUTRAL\"\n",
    "IRRELEVANT = \"__label__IRRELEVANT\"\n",
    "TEXT = \"text\"\n",
    "USER = \"user\""
   ]
  },
  {
   "cell_type": "code",
   "execution_count": null,
   "metadata": {},
   "outputs": [],
   "source": [
    "results = {}"
   ]
  },
  {
   "cell_type": "code",
   "execution_count": null,
   "metadata": {},
   "outputs": [],
   "source": [
    "def readData(datePattern,query):\n",
    "    fileList = sorted(os.listdir(DATADIRECTORY))\n",
    "    tmpFileName = \"classify.\"+str(int(random.random()*LARGEINT))+\".txt\"\n",
    "    testData = []\n",
    "    for inFileName in fileList:\n",
    "        if re.search(datePattern,inFileName):\n",
    "            os.system(\"gunzip -c \"+DATADIRECTORY+inFileName+\"| head -1 >\"+tmpFileName)\n",
    "            os.system(\"gunzip -c \"+DATADIRECTORY+inFileName+\"| grep \\\"\"+query+\"\\\" >> \"+tmpFileName)\n",
    "            try: df = pd.read_csv(tmpFileName)\n",
    "            except: continue\n",
    "            for i in range(0,len(df)):\n",
    "                if re.search(query,df.iloc[i][TEXT],flags=re.IGNORECASE):\n",
    "                    testData.append(df.iloc[i][USER]+\" \"+df.iloc[i][TEXT])\n",
    "    os.unlink(tmpFileName)\n",
    "    return(testData)\n",
    "    \n",
    "def classify(datePattern,query):\n",
    "    testData = readData(datePattern,query)\n",
    "    model = fasttext.train_supervised(FILEFASTTEXT,dim=DIM,epoch=EPOCH,lr=LR) # ,pretrainedVectors=PRETRAINEDDIR+WIKIFILENAME)\n",
    "    predictedLabels = model.predict(testData)\n",
    "    predictedGroups = pd.DataFrame(predictedLabels[0]).groupby(0).groups\n",
    "    labelCountsPredicted = {label:len(predictedGroups[label]) for label in predictedGroups}\n",
    "    nbrOfLabels = sum([labelCountsPredicted[label] for label in labelCountsPredicted if label != IRRELEVANT])\n",
    "    labelPercentages = { label:round(100*labelCountsPredicted[label]/nbrOfLabels,1) for label in labelCountsPredicted}\n",
    "    return(labelPercentages)"
   ]
  },
  {
   "cell_type": "code",
   "execution_count": 174,
   "metadata": {},
   "outputs": [
    {
     "name": "stdout",
     "output_type": "stream",
     "text": [
      "20200201 68.2 15.3 16.5 142.4\n"
     ]
    }
   ],
   "source": [
    "QUERY = \"mondkapje\"\n",
    "\n",
    "for month in \"202002 202003 202004 202005 202006\".split():\n",
    "    for day in range(1,32):\n",
    "        date = month+str(day).zfill(2)\n",
    "        try:\n",
    "            labels = classify(date,QUERY)\n",
    "            results[date] = labels\n",
    "            print(date,labels[NEGATIVE],labels[NEUTRAL],labels[POSITIVE],labels[IRRELEVANT])\n",
    "        except: pass"
   ]
  },
  {
   "cell_type": "code",
   "execution_count": 155,
   "metadata": {},
   "outputs": [
    {
     "data": {
      "image/png": "[encoded data removed]",
      "text/plain": [
       "<Figure size 432x288 with 1 Axes>"
      ]
     },
     "metadata": {
      "needs_background": "light"
     },
     "output_type": "display_data"
    }
   ],
   "source": [
    "import matplotlib.pyplot as plt\n",
    "\n",
    "DATEFORMAT = \"%Y%m%d\"\n",
    "\n",
    "results ={k:results[k] for k in sorted(results.keys())}\n",
    "plt.plot_date([datetime.datetime.strptime(k,DATEFORMAT) for k in results.keys()],\\\n",
    "              [labels[NEGATIVE]+labels[NEUTRAL] for labels in results.values()],\\\n",
    "              fmt=\"-\",label=\"positive (area above)\")\n",
    "plt.plot_date([datetime.datetime.strptime(k,DATEFORMAT) for k in results.keys()],\\\n",
    "              [labels[NEGATIVE] for labels in results.values()],\\\n",
    "              fmt=\"-\",label=\"negative (area under)\")\n",
    "plt.xticks(rotation=\"vertical\")\n",
    "plt.legend()\n",
    "plt.title(\"stance on the RIVM policy on facemasks for the general public\")\n",
    "plt.ylabel(\"percentage\")\n",
    "plt.show()"
   ]
  },
  {
   "cell_type": "code",
   "execution_count": null,
   "metadata": {},
   "outputs": [],
   "source": []
  }
 ],
 "metadata": {
  "kernelspec": {
   "display_name": "Python 3",
   "language": "python",
   "name": "python3"
  },
  "language_info": {
   "codemirror_mode": {
    "name": "ipython",
    "version": 3
   },
   "file_extension": ".py",
   "mimetype": "text/x-python",
   "name": "python",
   "nbconvert_exporter": "python",
   "pygments_lexer": "ipython3",
   "version": "3.7.3"
  }
 },
 "nbformat": 4,
 "nbformat_minor": 4
}
