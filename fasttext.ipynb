{
 "cells": [
  {
   "cell_type": "markdown",
   "metadata": {},
   "source": [
    "# Fasttext tweet classification"
   ]
  },
  {
   "cell_type": "markdown",
   "metadata": {},
   "source": [
    "## Data file creation"
   ]
  },
  {
   "cell_type": "code",
   "execution_count": 1,
   "metadata": {},
   "outputs": [],
   "source": [
    "import datetime\n",
    "import math\n",
    "import matplotlib.pyplot as plt\n",
    "import matplotlib.dates as mdates\n",
    "import numpy as np\n",
    "import os\n",
    "import pandas as pd\n",
    "import pipes\n",
    "import random\n",
    "import re\n",
    "import tempfile\n",
    "from nltk.tokenize import TweetTokenizer\n",
    "from IPython.display import clear_output"
   ]
  },
  {
   "cell_type": "code",
   "execution_count": 2,
   "metadata": {},
   "outputs": [],
   "source": [
    "DATADIR = \"../data/\"\n",
    "DISTANCE = \"distance\"\n",
    "FACEMASK = \"mondkapje\"\n",
    "TOPIC = DISTANCE\n",
    "#TOPIC = FACEMASK\n",
    "if TOPIC == FACEMASK: FILETWEETS = TOPIC+\"-tweets+nunl.csv\"\n",
    "else: FILETWEETS = TOPIC+\"-tweets.csv\"\n",
    "FILEANNOTATIONS = FILETWEETS+\".human-labels.txt\"\n",
    "FILEFASTTEXT = \"fasttext-\"+TOPIC+\".csv\"\n",
    "LABELPREFIX = \"__label__\"\n",
    "LARGEINT = 9999999999\n",
    "LABEL = \"label\"\n",
    "TEXT = \"text\"\n",
    "USER = \"user\"\n",
    "IDSTR = \"id_str\"\n",
    "IRRELEVANT = \"IRRELEVANT\"\n",
    "NEUTRAL = \"NEUTRAL\"\n",
    "ANDERS = \"ANDERS\"\n",
    "EENS = \"EENS\"\n",
    "ONEENS = \"ONEENS\"\n",
    "SUPPORTS = \"SUPPORTS\"\n",
    "REJECTS = \"REJECTS\"\n",
    "SOURCE = \"source\""
   ]
  },
  {
   "cell_type": "code",
   "execution_count": 3,
   "metadata": {},
   "outputs": [],
   "source": [
    "tweets = pd.read_csv(DATADIR+FILETWEETS,index_col=IDSTR)\n",
    "annotations = pd.read_csv(DATADIR+FILEANNOTATIONS,header=None,sep=\" \")\n",
    "mainAnnotator = annotations.iloc[0][0]"
   ]
  },
  {
   "cell_type": "code",
   "execution_count": 4,
   "metadata": {},
   "outputs": [],
   "source": [
    "def cleanup(text):\n",
    "    text = re.sub(r\"\\\\n\",\" \",text)\n",
    "    text = re.sub(r\"https://\\S+\",\"\",text)\n",
    "    text = re.sub(r\"\\s+\",\" \",text)\n",
    "    text = text.strip()\n",
    "    return(text)\n",
    "\n",
    "def tokenize(text):\n",
    "    return(\" \".join(TweetTokenizer().tokenize(text)))\n",
    "\n",
    "def preprocess(text):\n",
    "    return(tokenize(cleanup(text)).lower())"
   ]
  },
  {
   "cell_type": "code",
   "execution_count": 5,
   "metadata": {},
   "outputs": [],
   "source": [
    "fasttextData = {}\n",
    "for i in range(0,len(annotations)):\n",
    "    annotator = annotations.iloc[i][0]\n",
    "    tweetId = annotations.iloc[i][2]\n",
    "    if annotator == mainAnnotator and tweetId in list(tweets.index):\n",
    "        tweetUser = tweets.loc[tweetId][1]\n",
    "        tweetLabel = annotations.iloc[i][4]\n",
    "        if tweetLabel == NEUTRAL: tweetLabel = IRRELEVANT\n",
    "        if tweetLabel == ANDERS: tweetLabel = IRRELEVANT\n",
    "        if tweetLabel == EENS: tweetLabel = SUPPORTS\n",
    "        if tweetLabel == ONEENS: tweetLabel = REJECTS\n",
    "        fasttextData[tweetId] = {LABEL:LABELPREFIX+tweetLabel,\\\n",
    "                                 USER:tweetUser,\\\n",
    "                                 TEXT:preprocess(tweets.loc[tweetId][TEXT])}"
   ]
  },
  {
   "cell_type": "code",
   "execution_count": 6,
   "metadata": {},
   "outputs": [
    {
     "data": {
      "text/plain": [
       "(5977, 6835, 7286)"
      ]
     },
     "execution_count": 6,
     "metadata": {},
     "output_type": "execute_result"
    }
   ],
   "source": [
    "len(fasttextData),len(tweets),len(annotations)"
   ]
  },
  {
   "cell_type": "code",
   "execution_count": 7,
   "metadata": {},
   "outputs": [],
   "source": [
    "outFile = open(FILEFASTTEXT,\"w\")\n",
    "seenTexts = {}\n",
    "for tweetId in fasttextData:\n",
    "    text = cleanup(fasttextData[tweetId][TEXT])\n",
    "    if not text in seenTexts:\n",
    "        print(fasttextData[tweetId][LABEL],text,file=outFile)\n",
    "        seenTexts[text] = True\n",
    "outFile.close()"
   ]
  },
  {
   "cell_type": "code",
   "execution_count": 8,
   "metadata": {},
   "outputs": [
    {
     "name": "stdout",
     "output_type": "stream",
     "text": [
      "tweets annotated per minute: 5.3 ; 1000 tweets take: 189 minutes\n"
     ]
    }
   ],
   "source": [
    "annotations1 = annotations[annotations[0]==mainAnnotator]\n",
    "nbrOfAnnotationMinutes = len(set([str(x)[:12] for x in annotations1[1]]))\n",
    "nbrOfAnnotatedTweets = len(set([str(x)[:12] for x in annotations1[2]]))\n",
    "print(\"tweets annotated per minute:\",round(nbrOfAnnotatedTweets/nbrOfAnnotationMinutes,1),\"; 1000 tweets take:\",\\\n",
    "      round(1000/(nbrOfAnnotatedTweets/nbrOfAnnotationMinutes)),\"minutes\")"
   ]
  },
  {
   "cell_type": "code",
   "execution_count": 9,
   "metadata": {},
   "outputs": [
    {
     "name": "stdout",
     "output_type": "stream",
     "text": [
      "tweets annotated per minute: 3.6 ; 1000 tweets take: 278 minutes\n"
     ]
    }
   ],
   "source": [
    "annotations2 = annotations[annotations[0]!=mainAnnotator]\n",
    "nbrOfAnnotationMinutes = len(set([str(x)[:12] for x in annotations2[1]]))\n",
    "nbrOfAnnotatedTweets = len(set([str(x)[:12] for x in annotations2[2]]))\n",
    "print(\"tweets annotated per minute:\",round(nbrOfAnnotatedTweets/nbrOfAnnotationMinutes,1),\"; 1000 tweets take:\",\\\n",
    "      round(1000/(nbrOfAnnotatedTweets/nbrOfAnnotationMinutes)),\"minutes\")"
   ]
  },
  {
   "cell_type": "markdown",
   "metadata": {},
   "source": [
    "## Fasttext run and evaluation"
   ]
  },
  {
   "cell_type": "code",
   "execution_count": 10,
   "metadata": {},
   "outputs": [],
   "source": [
    "import fasttext\n",
    "import random\n",
    "from IPython.display import clear_output"
   ]
  },
  {
   "cell_type": "code",
   "execution_count": 11,
   "metadata": {},
   "outputs": [],
   "source": [
    "PRETRAINEDDIR = \"/home/erikt/projects/newsgac/fasttext-runs/\"\n",
    "WIKIFILENAME = \"wiki.nl.vec\""
   ]
  },
  {
   "cell_type": "code",
   "execution_count": 12,
   "metadata": {},
   "outputs": [],
   "source": [
    "def print_results(N, p, r):\n",
    "    print(\"N\\t\" + str(N))\n",
    "    print(\"P@{}\\t{:.3f}\".format(1, p))\n",
    "    print(\"R@{}\\t{:.3f}\".format(1, r))"
   ]
  },
  {
   "cell_type": "code",
   "execution_count": 13,
   "metadata": {},
   "outputs": [
    {
     "data": {
      "text/plain": [
       "5731"
      ]
     },
     "execution_count": 13,
     "metadata": {},
     "output_type": "execute_result"
    }
   ],
   "source": [
    "fasttextData = []\n",
    "inFile = open(FILEFASTTEXT,\"r\")\n",
    "for line in inFile: fasttextData.append(line.strip())\n",
    "inFile.close()\n",
    "len(fasttextData)"
   ]
  },
  {
   "cell_type": "code",
   "execution_count": 14,
   "metadata": {},
   "outputs": [],
   "source": [
    "DIM = 100\n",
    "EPOCH = 100\n",
    "LR = 0.05\n",
    "N = 10\n",
    "TRAIN = \"TRAIN\"+str(int(random.random()*LARGEINT))\n",
    "TEST = \"TEST\"+str(int(random.random()*LARGEINT))\n",
    "VALIDATION = \"VALIDATION\"+str(int(random.random()*LARGEINT))"
   ]
  },
  {
   "cell_type": "code",
   "execution_count": 15,
   "metadata": {},
   "outputs": [],
   "source": [
    "def ranSelect(inList,size):\n",
    "    outList = []\n",
    "    selectionList = list(inList)\n",
    "    while len(outList) < size and len(selectionList) > 0:\n",
    "        index = int(random.random()*len(selectionList))\n",
    "        outList.append(selectionList[index])\n",
    "        del(selectionList[index])\n",
    "    return(outList)"
   ]
  },
  {
   "cell_type": "code",
   "execution_count": 16,
   "metadata": {},
   "outputs": [],
   "source": [
    "def runFasttext(fasttextData,dim=DIM,epoch=EPOCH,lr=LR,n=N,squealFlag=True,maxTrain=None):\n",
    "    predictionCountsTest = []\n",
    "    predictionLabelsTest = []\n",
    "    predictionCountsValidation = []\n",
    "    predictionLabelsValidation = []\n",
    "    for fold in range(0,n):\n",
    "        if squealFlag:\n",
    "            clear_output(wait=True)\n",
    "            print(\"starting fold\",fold)\n",
    "        validationStart = round(fold*len(fasttextData)/n)\n",
    "        validationEnd = round((fold+1)*len(fasttextData)/n)\n",
    "        if fold < n-1: nextFold = fold+1\n",
    "        else: nextFold = 0\n",
    "        testStart = round(nextFold*len(fasttextData)/n)\n",
    "        testEnd = round((nextFold+1)*len(fasttextData)/n)\n",
    "        trainFile = open(TRAIN,\"w\")\n",
    "        testFile = open(TEST,\"w\")\n",
    "        validationFile = open(VALIDATION,\"w\")\n",
    "        trainData = []\n",
    "        validationData = []\n",
    "        testData = []\n",
    "        for i in range(0,len(fasttextData)):\n",
    "            data = fasttextData[i]\n",
    "            if i >= testStart and i < testEnd: \n",
    "                print(data,file=testFile)\n",
    "                testData.append(data)\n",
    "            elif i >= validationStart and i < validationEnd: \n",
    "                print(data,file=validationFile)\n",
    "                validationData.append(data)\n",
    "            else: \n",
    "                print(data,file=trainFile)\n",
    "                trainData.append(data)\n",
    "        testFile.close()\n",
    "        trainFile.close()\n",
    "        validationFile.close()\n",
    "        if not maxTrain == None and maxTrain < len(trainData):\n",
    "            trainData = ranSelect(trainData,maxTrain)\n",
    "            trainFile = open(TRAIN,\"w\")\n",
    "            for i in range(0,len(trainData)):\n",
    "                print(trainData[i],file=trainFile)\n",
    "            trainFile.close()\n",
    "        model = fasttext.train_supervised(TRAIN,dim=dim,epoch=epoch,lr=lr)\n",
    "        predictionCountsValidation.append([*model.test(VALIDATION)])\n",
    "        predictionLabelsValidation.append(model.predict(validationData))\n",
    "        predictionCountsTest.append([*model.test(TEST)])\n",
    "        predictionLabelsTest.append(model.predict(testData))\n",
    "        os.unlink(TRAIN)\n",
    "        os.unlink(TEST)\n",
    "        os.unlink(VALIDATION)\n",
    "    if squealFlag:\n",
    "        clear_output(wait=True)\n",
    "        print(\"finished\")\n",
    "    return(predictionCountsValidation,predictionLabelsValidation,predictionCountsTest,predictionLabelsTest)"
   ]
  },
  {
   "cell_type": "code",
   "execution_count": 17,
   "metadata": {},
   "outputs": [],
   "source": [
    "def makeConfusionMatrix(fasttextData,predictionLabels):\n",
    "    goldLabels = pd.Series([fasttextData[i].split()[0] for i in range(0,len(fasttextData))])\n",
    "    predictedLabels = pd.Series([x[0] for row in predictionLabels for x in row[0]])\n",
    "    return(pd.crosstab(goldLabels,predictedLabels))"
   ]
  },
  {
   "cell_type": "code",
   "execution_count": 18,
   "metadata": {},
   "outputs": [],
   "source": [
    "def evaluate(predictionCounts,predictionLabels,fasttextData,printResults=True):\n",
    "    caseTotal = 0\n",
    "    pTotal = 0\n",
    "    rTotal = 0\n",
    "    for i in range(0,len(predictionCounts)):\n",
    "        caseTotal += predictionCounts[i][0]\n",
    "        pTotal += predictionCounts[i][0]*predictionCounts[i][1]\n",
    "        rTotal += predictionCounts[i][0]*predictionCounts[i][2]\n",
    "    precision = round(pTotal/caseTotal,3)\n",
    "    recall = round(rTotal/caseTotal,3)\n",
    "    cf = makeConfusionMatrix(fasttextData,predictionLabels)\n",
    "    for label in ['__label__REJECTS','__label__SUPPORTS','__label__IRRELEVANT']:\n",
    "        if not label in cf: cf[label] = [0 for i in range(0,len(cf))]\n",
    "    numberOfPredictedSupportLabels = sum([cf.iloc[i]['__label__SUPPORTS'] for i in range(0,len(cf))])\n",
    "    numberOfGoldSupportLabels = sum(cf.loc['__label__SUPPORTS'])\n",
    "    numberOfPredictedRejectLabels = sum([cf.iloc[i]['__label__REJECTS'] for i in range(0,len(cf))])\n",
    "    numberOfGoldRejectLabels = sum(cf.loc['__label__REJECTS'])\n",
    "    fraction = (numberOfPredictedRejectLabels/numberOfPredictedSupportLabels)/(numberOfGoldRejectLabels/numberOfGoldSupportLabels)\n",
    "    if printResults: \n",
    "        print(\"cases: {0}; precision: {1:0.3f}; recall: {2:0.3f}; fraction: {3:0.3f}\".format(caseTotal,precision,recall,fraction))\n",
    "    return((precision,fraction))"
   ]
  },
  {
   "cell_type": "markdown",
   "metadata": {},
   "source": [
    "## Grid search"
   ]
  },
  {
   "cell_type": "code",
   "execution_count": 19,
   "metadata": {},
   "outputs": [
    {
     "name": "stdout",
     "output_type": "stream",
     "text": [
      " 10  10 0.05 validation: cases: 5731; precision: 0.620; recall: 0.620; fraction: 0.449\n",
      " 10  10 0.05       test: cases: 5731; precision: 0.617; recall: 0.617; fraction: 0.440\n",
      " 10  10 0.10 validation: cases: 5731; precision: 0.642; recall: 0.642; fraction: 0.620\n",
      " 10  10 0.10       test: cases: 5731; precision: 0.648; recall: 0.648; fraction: 0.591\n",
      " 10  10 0.20 validation: cases: 5731; precision: 0.647; recall: 0.647; fraction: 0.761\n",
      " 10  10 0.20       test: cases: 5731; precision: 0.653; recall: 0.653; fraction: 0.727\n",
      " 10  20 0.05 validation: cases: 5731; precision: 0.643; recall: 0.643; fraction: 0.631\n",
      " 10  20 0.05       test: cases: 5731; precision: 0.647; recall: 0.647; fraction: 0.609\n",
      " 10  20 0.10 validation: cases: 5731; precision: 0.645; recall: 0.645; fraction: 0.804\n",
      " 10  20 0.10       test: cases: 5731; precision: 0.648; recall: 0.648; fraction: 0.777\n",
      " 10  20 0.20 validation: cases: 5731; precision: 0.637; recall: 0.637; fraction: 0.839\n",
      " 10  20 0.20       test: cases: 5731; precision: 0.639; recall: 0.639; fraction: 0.810\n",
      " 10  50 0.05 validation: cases: 5731; precision: 0.637; recall: 0.637; fraction: 0.812\n",
      " 10  50 0.05       test: cases: 5731; precision: 0.638; recall: 0.638; fraction: 0.790\n",
      " 10  50 0.10 validation: cases: 5731; precision: 0.630; recall: 0.630; fraction: 0.836\n",
      " 10  50 0.10       test: cases: 5731; precision: 0.629; recall: 0.629; fraction: 0.809\n",
      " 10  50 0.20 validation: cases: 5731; precision: 0.629; recall: 0.629; fraction: 0.844\n",
      " 10  50 0.20       test: cases: 5731; precision: 0.630; recall: 0.630; fraction: 0.814\n",
      " 10 100 0.05 validation: cases: 5731; precision: 0.629; recall: 0.629; fraction: 0.835\n",
      " 10 100 0.05       test: cases: 5731; precision: 0.631; recall: 0.631; fraction: 0.815\n",
      " 10 100 0.10 validation: cases: 5731; precision: 0.629; recall: 0.629; fraction: 0.841\n",
      " 10 100 0.10       test: cases: 5731; precision: 0.630; recall: 0.630; fraction: 0.821\n",
      " 10 100 0.20 validation: cases: 5731; precision: 0.629; recall: 0.629; fraction: 0.843\n",
      " 10 100 0.20       test: cases: 5731; precision: 0.629; recall: 0.629; fraction: 0.823\n",
      " 10 200 0.05 validation: cases: 5731; precision: 0.630; recall: 0.630; fraction: 0.843\n",
      " 10 200 0.05       test: cases: 5731; precision: 0.630; recall: 0.630; fraction: 0.818\n",
      " 10 200 0.10 validation: cases: 5731; precision: 0.630; recall: 0.630; fraction: 0.845\n",
      " 10 200 0.10       test: cases: 5731; precision: 0.628; recall: 0.628; fraction: 0.817\n",
      " 10 200 0.20 validation: cases: 5731; precision: 0.629; recall: 0.629; fraction: 0.855\n",
      " 10 200 0.20       test: cases: 5731; precision: 0.630; recall: 0.630; fraction: 0.814\n",
      " 20  10 0.05 validation: cases: 5731; precision: 0.615; recall: 0.615; fraction: 0.463\n",
      " 20  10 0.05       test: cases: 5731; precision: 0.612; recall: 0.612; fraction: 0.429\n",
      " 20  10 0.10 validation: cases: 5731; precision: 0.641; recall: 0.641; fraction: 0.612\n",
      " 20  10 0.10       test: cases: 5731; precision: 0.648; recall: 0.648; fraction: 0.588\n",
      " 20  10 0.20 validation: cases: 5731; precision: 0.650; recall: 0.650; fraction: 0.741\n",
      " 20  10 0.20       test: cases: 5731; precision: 0.653; recall: 0.653; fraction: 0.724\n",
      " 20  20 0.05 validation: cases: 5731; precision: 0.643; recall: 0.643; fraction: 0.632\n",
      " 20  20 0.05       test: cases: 5731; precision: 0.650; recall: 0.650; fraction: 0.593\n",
      " 20  20 0.10 validation: cases: 5731; precision: 0.647; recall: 0.647; fraction: 0.800\n",
      " 20  20 0.10       test: cases: 5731; precision: 0.650; recall: 0.650; fraction: 0.765\n",
      " 20  20 0.20 validation: cases: 5731; precision: 0.638; recall: 0.638; fraction: 0.835\n",
      " 20  20 0.20       test: cases: 5731; precision: 0.638; recall: 0.638; fraction: 0.809\n",
      " 20  50 0.05 validation: cases: 5731; precision: 0.635; recall: 0.635; fraction: 0.793\n",
      " 20  50 0.05       test: cases: 5731; precision: 0.637; recall: 0.637; fraction: 0.768\n",
      " 20  50 0.10 validation: cases: 5731; precision: 0.630; recall: 0.630; fraction: 0.844\n",
      " 20  50 0.10       test: cases: 5731; precision: 0.630; recall: 0.630; fraction: 0.815\n",
      " 20  50 0.20 validation: cases: 5731; precision: 0.630; recall: 0.630; fraction: 0.847\n",
      " 20  50 0.20       test: cases: 5731; precision: 0.629; recall: 0.629; fraction: 0.816\n",
      " 20 100 0.05 validation: cases: 5731; precision: 0.627; recall: 0.627; fraction: 0.846\n",
      " 20 100 0.05       test: cases: 5731; precision: 0.630; recall: 0.630; fraction: 0.811\n",
      " 20 100 0.10 validation: cases: 5731; precision: 0.628; recall: 0.628; fraction: 0.860\n",
      " 20 100 0.10       test: cases: 5731; precision: 0.631; recall: 0.631; fraction: 0.821\n",
      " 20 100 0.20 validation: cases: 5731; precision: 0.628; recall: 0.628; fraction: 0.856\n",
      " 20 100 0.20       test: cases: 5731; precision: 0.626; recall: 0.626; fraction: 0.817\n",
      " 20 200 0.05 validation: cases: 5731; precision: 0.628; recall: 0.628; fraction: 0.852\n",
      " 20 200 0.05       test: cases: 5731; precision: 0.631; recall: 0.631; fraction: 0.812\n",
      " 20 200 0.10 validation: cases: 5731; precision: 0.631; recall: 0.631; fraction: 0.853\n",
      " 20 200 0.10       test: cases: 5731; precision: 0.630; recall: 0.630; fraction: 0.819\n",
      " 20 200 0.20 validation: cases: 5731; precision: 0.629; recall: 0.629; fraction: 0.871\n",
      " 20 200 0.20       test: cases: 5731; precision: 0.626; recall: 0.626; fraction: 0.828\n",
      " 50  10 0.05 validation: cases: 5731; precision: 0.615; recall: 0.615; fraction: 0.487\n",
      " 50  10 0.05       test: cases: 5731; precision: 0.612; recall: 0.612; fraction: 0.454\n",
      " 50  10 0.10 validation: cases: 5731; precision: 0.640; recall: 0.640; fraction: 0.605\n",
      " 50  10 0.10       test: cases: 5731; precision: 0.649; recall: 0.649; fraction: 0.574\n",
      " 50  10 0.20 validation: cases: 5731; precision: 0.649; recall: 0.649; fraction: 0.747\n",
      " 50  10 0.20       test: cases: 5731; precision: 0.649; recall: 0.649; fraction: 0.711\n",
      " 50  20 0.05 validation: cases: 5731; precision: 0.640; recall: 0.640; fraction: 0.649\n",
      " 50  20 0.05       test: cases: 5731; precision: 0.648; recall: 0.648; fraction: 0.616\n",
      " 50  20 0.10 validation: cases: 5731; precision: 0.648; recall: 0.648; fraction: 0.795\n",
      " 50  20 0.10       test: cases: 5731; precision: 0.649; recall: 0.649; fraction: 0.752\n",
      " 50  20 0.20 validation: cases: 5731; precision: 0.638; recall: 0.638; fraction: 0.837\n",
      " 50  20 0.20       test: cases: 5731; precision: 0.639; recall: 0.639; fraction: 0.793\n",
      " 50  50 0.05 validation: cases: 5731; precision: 0.638; recall: 0.638; fraction: 0.798\n",
      " 50  50 0.05       test: cases: 5731; precision: 0.639; recall: 0.639; fraction: 0.762\n",
      " 50  50 0.10 validation: cases: 5731; precision: 0.630; recall: 0.630; fraction: 0.827\n",
      " 50  50 0.10       test: cases: 5731; precision: 0.630; recall: 0.630; fraction: 0.810\n",
      " 50  50 0.20 validation: cases: 5731; precision: 0.627; recall: 0.627; fraction: 0.849\n",
      " 50  50 0.20       test: cases: 5731; precision: 0.631; recall: 0.631; fraction: 0.808\n",
      " 50 100 0.05 validation: cases: 5731; precision: 0.628; recall: 0.628; fraction: 0.841\n",
      " 50 100 0.05       test: cases: 5731; precision: 0.631; recall: 0.631; fraction: 0.805\n",
      " 50 100 0.10 validation: cases: 5731; precision: 0.628; recall: 0.628; fraction: 0.845\n",
      " 50 100 0.10       test: cases: 5731; precision: 0.630; recall: 0.630; fraction: 0.821\n",
      " 50 100 0.20 validation: cases: 5731; precision: 0.629; recall: 0.629; fraction: 0.853\n",
      " 50 100 0.20       test: cases: 5731; precision: 0.627; recall: 0.627; fraction: 0.835\n",
      " 50 200 0.05 validation: cases: 5731; precision: 0.629; recall: 0.629; fraction: 0.852\n",
      " 50 200 0.05       test: cases: 5731; precision: 0.630; recall: 0.630; fraction: 0.815\n",
      " 50 200 0.10 validation: cases: 5731; precision: 0.630; recall: 0.630; fraction: 0.861\n",
      " 50 200 0.10       test: cases: 5731; precision: 0.629; recall: 0.629; fraction: 0.814\n",
      " 50 200 0.20 validation: cases: 5731; precision: 0.629; recall: 0.629; fraction: 0.863\n",
      " 50 200 0.20       test: cases: 5731; precision: 0.627; recall: 0.627; fraction: 0.832\n",
      "100  10 0.05 validation: cases: 5731; precision: 0.607; recall: 0.607; fraction: 0.532\n",
      "100  10 0.05       test: cases: 5731; precision: 0.607; recall: 0.607; fraction: 0.494\n",
      "100  10 0.10 validation: cases: 5731; precision: 0.641; recall: 0.641; fraction: 0.629\n",
      "100  10 0.10       test: cases: 5731; precision: 0.647; recall: 0.647; fraction: 0.603\n",
      "100  10 0.20 validation: cases: 5731; precision: 0.646; recall: 0.646; fraction: 0.743\n",
      "100  10 0.20       test: cases: 5731; precision: 0.650; recall: 0.650; fraction: 0.701\n",
      "100  20 0.05 validation: cases: 5731; precision: 0.640; recall: 0.640; fraction: 0.622\n",
      "100  20 0.05       test: cases: 5731; precision: 0.649; recall: 0.649; fraction: 0.597\n",
      "100  20 0.10 validation: cases: 5731; precision: 0.644; recall: 0.644; fraction: 0.768\n",
      "100  20 0.10       test: cases: 5731; precision: 0.648; recall: 0.648; fraction: 0.741\n",
      "100  20 0.20 validation: cases: 5731; precision: 0.632; recall: 0.632; fraction: 0.828\n",
      "100  20 0.20       test: cases: 5731; precision: 0.636; recall: 0.636; fraction: 0.802\n",
      "100  50 0.05 validation: cases: 5731; precision: 0.639; recall: 0.639; fraction: 0.782\n",
      "100  50 0.05       test: cases: 5731; precision: 0.640; recall: 0.640; fraction: 0.752\n",
      "100  50 0.10 validation: cases: 5731; precision: 0.630; recall: 0.630; fraction: 0.834\n",
      "100  50 0.10       test: cases: 5731; precision: 0.632; recall: 0.632; fraction: 0.802\n",
      "100  50 0.20 validation: cases: 5731; precision: 0.628; recall: 0.628; fraction: 0.845\n",
      "100  50 0.20       test: cases: 5731; precision: 0.630; recall: 0.630; fraction: 0.817\n",
      "100 100 0.05 validation: cases: 5731; precision: 0.628; recall: 0.628; fraction: 0.837\n",
      "100 100 0.05       test: cases: 5731; precision: 0.631; recall: 0.631; fraction: 0.809\n",
      "100 100 0.10 validation: cases: 5731; precision: 0.627; recall: 0.627; fraction: 0.852\n",
      "100 100 0.10       test: cases: 5731; precision: 0.631; recall: 0.631; fraction: 0.809\n",
      "100 100 0.20 validation: cases: 5731; precision: 0.629; recall: 0.629; fraction: 0.854\n",
      "100 100 0.20       test: cases: 5731; precision: 0.629; recall: 0.629; fraction: 0.822\n",
      "100 200 0.05 validation: cases: 5731; precision: 0.629; recall: 0.629; fraction: 0.849\n",
      "100 200 0.05       test: cases: 5731; precision: 0.631; recall: 0.631; fraction: 0.813\n",
      "100 200 0.10 validation: cases: 5731; precision: 0.629; recall: 0.629; fraction: 0.854\n",
      "100 200 0.10       test: cases: 5731; precision: 0.629; recall: 0.629; fraction: 0.816\n",
      "100 200 0.20 validation: cases: 5731; precision: 0.629; recall: 0.629; fraction: 0.856\n",
      "100 200 0.20       test: cases: 5731; precision: 0.628; recall: 0.628; fraction: 0.825\n",
      "200  10 0.05 validation: cases: 5731; precision: 0.603; recall: 0.603; fraction: 0.581\n",
      "200  10 0.05       test: cases: 5731; precision: 0.604; recall: 0.604; fraction: 0.538\n",
      "200  10 0.10 validation: cases: 5731; precision: 0.638; recall: 0.638; fraction: 0.647\n",
      "200  10 0.10       test: cases: 5731; precision: 0.648; recall: 0.648; fraction: 0.628\n",
      "200  10 0.20 validation: cases: 5731; precision: 0.647; recall: 0.647; fraction: 0.738\n",
      "200  10 0.20       test: cases: 5731; precision: 0.651; recall: 0.651; fraction: 0.689\n",
      "200  20 0.05 validation: cases: 5731; precision: 0.638; recall: 0.638; fraction: 0.657\n",
      "200  20 0.05       test: cases: 5731; precision: 0.648; recall: 0.648; fraction: 0.619\n",
      "200  20 0.10 validation: cases: 5731; precision: 0.646; recall: 0.646; fraction: 0.754\n",
      "200  20 0.10       test: cases: 5731; precision: 0.649; recall: 0.649; fraction: 0.716\n",
      "200  20 0.20 validation: cases: 5731; precision: 0.632; recall: 0.632; fraction: 0.801\n",
      "200  20 0.20       test: cases: 5731; precision: 0.637; recall: 0.637; fraction: 0.762\n",
      "200  50 0.05 validation: cases: 5731; precision: 0.639; recall: 0.639; fraction: 0.782\n",
      "200  50 0.05       test: cases: 5731; precision: 0.641; recall: 0.641; fraction: 0.751\n",
      "200  50 0.10 validation: cases: 5731; precision: 0.628; recall: 0.628; fraction: 0.840\n",
      "200  50 0.10       test: cases: 5731; precision: 0.630; recall: 0.630; fraction: 0.809\n",
      "200  50 0.20 validation: cases: 5731; precision: 0.630; recall: 0.630; fraction: 0.840\n",
      "200  50 0.20       test: cases: 5731; precision: 0.631; recall: 0.631; fraction: 0.806\n",
      "200 100 0.05 validation: cases: 5731; precision: 0.628; recall: 0.628; fraction: 0.838\n",
      "200 100 0.05       test: cases: 5731; precision: 0.631; recall: 0.631; fraction: 0.807\n",
      "200 100 0.10 validation: cases: 5731; precision: 0.627; recall: 0.627; fraction: 0.851\n",
      "200 100 0.10       test: cases: 5731; precision: 0.631; recall: 0.631; fraction: 0.812\n",
      "200 100 0.20 validation: cases: 5731; precision: 0.629; recall: 0.629; fraction: 0.854\n",
      "200 100 0.20       test: cases: 5731; precision: 0.628; recall: 0.628; fraction: 0.821\n",
      "200 200 0.05 validation: cases: 5731; precision: 0.627; recall: 0.627; fraction: 0.855\n",
      "200 200 0.05       test: cases: 5731; precision: 0.630; recall: 0.630; fraction: 0.815\n",
      "200 200 0.10 validation: cases: 5731; precision: 0.627; recall: 0.627; fraction: 0.854\n",
      "200 200 0.10       test: cases: 5731; precision: 0.627; recall: 0.627; fraction: 0.817\n",
      "200 200 0.20 validation: cases: 5731; precision: 0.627; recall: 0.627; fraction: 0.872\n",
      "200 200 0.20       test: cases: 5731; precision: 0.626; recall: 0.626; fraction: 0.823\n",
      "300  10 0.05 validation: cases: 5731; precision: 0.601; recall: 0.601; fraction: 0.583\n",
      "300  10 0.05       test: cases: 5731; precision: 0.602; recall: 0.602; fraction: 0.546\n",
      "300  10 0.10 validation: cases: 5731; precision: 0.639; recall: 0.639; fraction: 0.645\n",
      "300  10 0.10       test: cases: 5731; precision: 0.645; recall: 0.645; fraction: 0.622\n",
      "300  10 0.20 validation: cases: 5731; precision: 0.647; recall: 0.647; fraction: 0.721\n",
      "300  10 0.20       test: cases: 5731; precision: 0.650; recall: 0.650; fraction: 0.695\n",
      "300  20 0.05 validation: cases: 5731; precision: 0.639; recall: 0.639; fraction: 0.690\n",
      "300  20 0.05       test: cases: 5731; precision: 0.649; recall: 0.649; fraction: 0.660\n",
      "300  20 0.10 validation: cases: 5731; precision: 0.646; recall: 0.646; fraction: 0.743\n",
      "300  20 0.10       test: cases: 5731; precision: 0.649; recall: 0.649; fraction: 0.700\n",
      "300  20 0.20 validation: cases: 5731; precision: 0.633; recall: 0.633; fraction: 0.820\n",
      "300  20 0.20       test: cases: 5731; precision: 0.635; recall: 0.635; fraction: 0.797\n",
      "300  50 0.05 validation: cases: 5731; precision: 0.639; recall: 0.639; fraction: 0.785\n",
      "300  50 0.05       test: cases: 5731; precision: 0.642; recall: 0.642; fraction: 0.747\n",
      "300  50 0.10 validation: cases: 5731; precision: 0.629; recall: 0.629; fraction: 0.836\n",
      "300  50 0.10       test: cases: 5731; precision: 0.631; recall: 0.631; fraction: 0.810\n",
      "300  50 0.20 validation: cases: 5731; precision: 0.629; recall: 0.629; fraction: 0.853\n",
      "300  50 0.20       test: cases: 5731; precision: 0.630; recall: 0.630; fraction: 0.805\n",
      "300 100 0.05 validation: cases: 5731; precision: 0.629; recall: 0.629; fraction: 0.837\n",
      "300 100 0.05       test: cases: 5731; precision: 0.630; recall: 0.630; fraction: 0.806\n",
      "300 100 0.10 validation: cases: 5731; precision: 0.627; recall: 0.627; fraction: 0.848\n",
      "300 100 0.10       test: cases: 5731; precision: 0.631; recall: 0.631; fraction: 0.812\n",
      "300 100 0.20 validation: cases: 5731; precision: 0.626; recall: 0.626; fraction: 0.867\n",
      "300 100 0.20       test: cases: 5731; precision: 0.627; recall: 0.627; fraction: 0.831\n",
      "300 200 0.05 validation: cases: 5731; precision: 0.627; recall: 0.627; fraction: 0.851\n",
      "300 200 0.05       test: cases: 5731; precision: 0.630; recall: 0.630; fraction: 0.814\n",
      "300 200 0.10 validation: cases: 5731; precision: 0.628; recall: 0.628; fraction: 0.854\n",
      "300 200 0.10       test: cases: 5731; precision: 0.628; recall: 0.628; fraction: 0.820\n",
      "300 200 0.20 validation: cases: 5731; precision: 0.629; recall: 0.629; fraction: 0.856\n",
      "300 200 0.20       test: cases: 5731; precision: 0.628; recall: 0.628; fraction: 0.816\n"
     ]
    }
   ],
   "source": [
    "scoresValidation = {}\n",
    "scoresTest = {}\n",
    "for dim in [10,20,50,100,200,300]:\n",
    "    for epoch in [10,20,50,100,200]:\n",
    "        for lr in [0.05,0.1,0.2]:\n",
    "            predictionCountsValidation,predictionLabelsValidation,predictionCountsTest,predictionLabelsTest = \\\n",
    "                runFasttext(fasttextData,dim=dim,epoch=epoch,lr=lr,squealFlag=False)\n",
    "            key = \",\".join([str(dim),str(epoch),str(lr)])\n",
    "            print(f\"{dim:3} {epoch:3} {lr:0.2f}\",end=\" validation: \")\n",
    "            scoresValidation[key] = evaluate(predictionCountsValidation,predictionLabelsValidation,fasttextData)\n",
    "            print(f\"{dim:3} {epoch:3} {lr:0.2f}\",end=\"       test: \")\n",
    "            scoresTest[key] = evaluate(predictionCountsTest,predictionLabelsTest,fasttextData)"
   ]
  },
  {
   "cell_type": "code",
   "execution_count": 20,
   "metadata": {},
   "outputs": [
    {
     "name": "stdout",
     "output_type": "stream",
     "text": [
      "optimizing accuracy via validation data\n"
     ]
    },
    {
     "data": {
      "text/plain": [
       "[((0.65, 0.7411088259401578), '20,10,0.2'),\n",
       " ((0.649, 0.7467975793693459), '50,10,0.2'),\n",
       " ((0.648, 0.7947299922374941), '50,20,0.1'),\n",
       " ((0.647, 0.7609233981111446), '10,10,0.2'),\n",
       " ((0.647, 0.7998435054773084), '20,20,0.1'),\n",
       " ((0.647, 0.7379429257802663), '200,10,0.2'),\n",
       " ((0.647, 0.720745103357421), '300,10,0.2'),\n",
       " ((0.646, 0.7429302069399638), '100,10,0.2'),\n",
       " ((0.646, 0.7536725730728457), '200,20,0.1'),\n",
       " ((0.646, 0.7427663178411491), '300,20,0.1')]"
      ]
     },
     "execution_count": 20,
     "metadata": {},
     "output_type": "execute_result"
    }
   ],
   "source": [
    "print(\"optimizing accuracy via validation data\")\n",
    "[(scoresValidation[k],k) for k in sorted(scoresValidation.keys(),\\\n",
    "                                         key=lambda k:scoresValidation[k][0],reverse=True)][0:10]"
   ]
  },
  {
   "cell_type": "code",
   "execution_count": 22,
   "metadata": {},
   "outputs": [
    {
     "name": "stdout",
     "output_type": "stream",
     "text": [
      "checking best accuracy for test data\n"
     ]
    },
    {
     "data": {
      "text/plain": [
       "[((0.653, 0.7265888057078721), '10,10,0.2'),\n",
       " ((0.653, 0.7242125104666924), '20,10,0.2'),\n",
       " ((0.651, 0.6893972945834399), '200,10,0.2'),\n",
       " ((0.65, 0.5927687644856481), '20,20,0.05'),\n",
       " ((0.65, 0.7653301344011784), '20,20,0.1'),\n",
       " ((0.65, 0.7013453159465928), '100,10,0.2'),\n",
       " ((0.65, 0.6954786774613338), '300,10,0.2'),\n",
       " ((0.649, 0.5740859385365241), '50,10,0.1'),\n",
       " ((0.649, 0.7109631580349429), '50,10,0.2'),\n",
       " ((0.649, 0.7519034662520578), '50,20,0.1')]"
      ]
     },
     "execution_count": 22,
     "metadata": {},
     "output_type": "execute_result"
    }
   ],
   "source": [
    "print(\"checking best accuracy for test data\")\n",
    "[(scoresTest[k],k) for k in sorted(scoresTest.keys(),\\\n",
    "                                         key=lambda k:scoresTest[k][0],reverse=True)][0:10]"
   ]
  },
  {
   "cell_type": "markdown",
   "metadata": {},
   "source": [
    "Facemasks: best validation accuracy 0.56 for '20,50,0.1', associated test accuracy 0.56 (5th score).\n",
    "\n",
    "Social distancing: best validation accuracy 0.65 for '300,10,0.2', associated test accuracy 0.65 (top score)."
   ]
  },
  {
   "cell_type": "code",
   "execution_count": 23,
   "metadata": {},
   "outputs": [
    {
     "name": "stdout",
     "output_type": "stream",
     "text": [
      "optimizing fraction via validation data\n"
     ]
    },
    {
     "data": {
      "text/plain": [
       "[((0.627, 0.8716711011301781), '200,200,0.2'),\n",
       " ((0.629, 0.8712336029444624), '20,200,0.2'),\n",
       " ((0.626, 0.8673857919589086), '300,100,0.2'),\n",
       " ((0.629, 0.8631103624629622), '50,200,0.2'),\n",
       " ((0.63, 0.8614725818890288), '50,200,0.1'),\n",
       " ((0.628, 0.8596627259237637), '20,100,0.1'),\n",
       " ((0.629, 0.8563909362913231), '100,200,0.2'),\n",
       " ((0.629, 0.8559080971692823), '300,200,0.2'),\n",
       " ((0.628, 0.8558981912186584), '20,100,0.2'),\n",
       " ((0.629, 0.8550011557974395), '10,200,0.2')]"
      ]
     },
     "execution_count": 23,
     "metadata": {},
     "output_type": "execute_result"
    }
   ],
   "source": [
    "print(\"optimizing fraction via validation data\")\n",
    "[(scoresValidation[k],k) for k in sorted(scoresValidation.keys(),\n",
    "                                         key=lambda k:scoresValidation[k][1],reverse=True)][0:10]"
   ]
  },
  {
   "cell_type": "code",
   "execution_count": 24,
   "metadata": {},
   "outputs": [
    {
     "name": "stdout",
     "output_type": "stream",
     "text": [
      "checking fraction for test data\n"
     ]
    },
    {
     "data": {
      "text/plain": [
       "[((0.627, 0.8350709128574757), '50,100,0.2'),\n",
       " ((0.627, 0.8318333489510974), '50,200,0.2'),\n",
       " ((0.627, 0.8314527546561867), '300,100,0.2'),\n",
       " ((0.626, 0.8284089105566657), '20,200,0.2'),\n",
       " ((0.628, 0.8246225189755246), '100,200,0.2'),\n",
       " ((0.629, 0.8232449288451681), '10,100,0.2'),\n",
       " ((0.626, 0.8226399922023491), '200,200,0.2'),\n",
       " ((0.629, 0.8224028518183185), '100,100,0.2'),\n",
       " ((0.63, 0.8214556559049084), '10,100,0.1'),\n",
       " ((0.631, 0.8214556559049084), '20,100,0.1')]"
      ]
     },
     "execution_count": 24,
     "metadata": {},
     "output_type": "execute_result"
    }
   ],
   "source": [
    "print(\"checking fraction for test data\")\n",
    "[(scoresTest[k],k) for k in sorted(scoresTest.keys(),\n",
    "                                         key=lambda k:scoresTest[k][1],reverse=True)][0:10]"
   ]
  },
  {
   "cell_type": "markdown",
   "metadata": {},
   "source": [
    "Facemasks: best validation ratio: 1.48 for '10,200,0.2'; associated test ratio: 1.70 (8th scsore)\n",
    "\n",
    "Social distancing: best validation ratio 0.88 for '200,200,0.2'; associated test accuracy 0.83 (top score)."
   ]
  },
  {
   "cell_type": "markdown",
   "metadata": {},
   "source": [
    "## Check relation accuracy and fraction"
   ]
  },
  {
   "cell_type": "code",
   "execution_count": 56,
   "metadata": {},
   "outputs": [
    {
     "ename": "AttributeError",
     "evalue": "'AxesSubplot' object has no attribute 'xlabel'",
     "output_type": "error",
     "traceback": [
      "\u001b[0;31m---------------------------------------------------------------------------\u001b[0m",
      "\u001b[0;31mAttributeError\u001b[0m                            Traceback (most recent call last)",
      "\u001b[0;32m<ipython-input-56-d2cfc6b328ac>\u001b[0m in \u001b[0;36m<module>\u001b[0;34m\u001b[0m\n\u001b[1;32m     10\u001b[0m \u001b[0my2\u001b[0m \u001b[0;34m=\u001b[0m \u001b[0;34m[\u001b[0m\u001b[0mscoresTest\u001b[0m\u001b[0;34m[\u001b[0m\u001b[0mkey\u001b[0m\u001b[0;34m]\u001b[0m\u001b[0;34m[\u001b[0m\u001b[0;36m1\u001b[0m\u001b[0;34m]\u001b[0m \u001b[0;32mfor\u001b[0m \u001b[0mkey\u001b[0m \u001b[0;32min\u001b[0m \u001b[0mscoresValidation\u001b[0m \u001b[0;32mif\u001b[0m \u001b[0mscoresTest\u001b[0m\u001b[0;34m[\u001b[0m\u001b[0mkey\u001b[0m\u001b[0;34m]\u001b[0m\u001b[0;34m[\u001b[0m\u001b[0;36m0\u001b[0m\u001b[0;34m]\u001b[0m \u001b[0;34m>\u001b[0m \u001b[0mTHRESHOLD\u001b[0m\u001b[0;34m]\u001b[0m\u001b[0;34m\u001b[0m\u001b[0;34m\u001b[0m\u001b[0m\n\u001b[1;32m     11\u001b[0m \u001b[0max2\u001b[0m\u001b[0;34m.\u001b[0m\u001b[0mscatter\u001b[0m\u001b[0;34m(\u001b[0m\u001b[0mx2\u001b[0m\u001b[0;34m,\u001b[0m\u001b[0my2\u001b[0m\u001b[0;34m)\u001b[0m\u001b[0;34m\u001b[0m\u001b[0;34m\u001b[0m\u001b[0m\n\u001b[0;32m---> 12\u001b[0;31m \u001b[0max2\u001b[0m\u001b[0;34m.\u001b[0m\u001b[0mxlabel\u001b[0m\u001b[0;34m(\u001b[0m\u001b[0;34m\"fraction\"\u001b[0m\u001b[0;34m)\u001b[0m\u001b[0;34m\u001b[0m\u001b[0;34m\u001b[0m\u001b[0m\n\u001b[0m\u001b[1;32m     13\u001b[0m \u001b[0mplt\u001b[0m\u001b[0;34m.\u001b[0m\u001b[0mshow\u001b[0m\u001b[0;34m(\u001b[0m\u001b[0;34m)\u001b[0m\u001b[0;34m\u001b[0m\u001b[0;34m\u001b[0m\u001b[0m\n",
      "\u001b[0;31mAttributeError\u001b[0m: 'AxesSubplot' object has no attribute 'xlabel'"
     ]
    },
    {
     "data": {
      "image/png": "[encoded data removed]",
      "text/plain": [
       "<Figure size 432x216 with 2 Axes>"
      ]
     },
     "metadata": {
      "needs_background": "light"
     },
     "output_type": "display_data"
    }
   ],
   "source": [
    "THRESHOLD = 0.62\n",
    "\n",
    "plt.figure(figsize=(6,3))\n",
    "ax1 = plt.subplot(121)\n",
    "x1 = [scoresTest[key][0] for key in scoresValidation]\n",
    "y1 = [scoresTest[key][1] for key in scoresValidation]\n",
    "ax1.scatter(x1,y1)\n",
    "ax2 = plt.subplot(122)\n",
    "x2 = [scoresTest[key][0] for key in scoresValidation if scoresTest[key][0] > THRESHOLD]\n",
    "y2 = [scoresTest[key][1] for key in scoresValidation if scoresTest[key][0] > THRESHOLD]\n",
    "ax2.scatter(x2,y2)\n",
    "plt.xlabel(\"fraction\")\n",
    "plt.ylabel(\"accuracy\")\n",
    "plt.show()"
   ]
  },
  {
   "cell_type": "code",
   "execution_count": 43,
   "metadata": {},
   "outputs": [
    {
     "data": {
      "text/plain": [
       "(-0.03478375251845316, -0.8424871780921388)"
      ]
     },
     "execution_count": 43,
     "metadata": {},
     "output_type": "execute_result"
    }
   ],
   "source": [
    "np.corrcoef(x1,y1)[0][1],np.corrcoef(x2,y2)[0][1]"
   ]
  },
  {
   "cell_type": "code",
   "execution_count": null,
   "metadata": {},
   "outputs": [],
   "source": [
    "N = 5\n",
    "scoresN = {} \n",
    "triplets = [(20,300,0.2),(50,200,0.2),(300,200,0.2),(20,200,0.05),(10,300,0.2)]\n",
    "\n",
    "for triplet in triplets:\n",
    "    dim,epoch,lr = triplet\n",
    "    key = \" \".join([str(dim),str(epoch),str(lr)])\n",
    "    scoresN[key] = []\n",
    "    for i in range(0,N): \n",
    "        predictionCounts,predictionLabels = runFasttext(fasttextData,dim=dim,epoch=epoch,lr=lr,squealFlag=False)\n",
    "        print(dim,epoch,lr,end=\" \")\n",
    "        scoresN[key].append(evaluate(predictionCounts,predictionLabels,fasttextData))"
   ]
  },
  {
   "cell_type": "code",
   "execution_count": null,
   "metadata": {},
   "outputs": [],
   "source": [
    "scoresNaverage = {}\n",
    "for key in scoresN: scoresNaverage[key] = round(np.average([x[1] for x in scoresN[key]]),3)\n",
    "{key:scoresNaverage[key] for key in sorted(scoresNaverage.keys(),key=lambda k:scoresNaverage[k],reverse=True)}"
   ]
  },
  {
   "cell_type": "code",
   "execution_count": null,
   "metadata": {},
   "outputs": [],
   "source": [
    "for dim in [10]:\n",
    "    for epoch in [900]:\n",
    "        for lr in [0.2]:\n",
    "            predictionCounts,predictionLabels = runFasttext(fasttextData,dim=dim,epoch=epoch,lr=lr,squealFlag=False)\n",
    "            print(dim,epoch,lr,end=\" \")\n",
    "            key = \",\".join([str(dim),str(epoch),str(lr)])\n",
    "            scores[key] = evaluate(predictionCounts,predictionLabels,fasttextData)"
   ]
  },
  {
   "cell_type": "markdown",
   "metadata": {},
   "source": [
    "## Run with best parameters"
   ]
  },
  {
   "cell_type": "code",
   "execution_count": 44,
   "metadata": {},
   "outputs": [],
   "source": [
    "def setBestParameters():\n",
    "    if TOPIC == DISTANCE:\n",
    "        # social distancing (202008: 20,300,0.9) (202009a:20,10,0.05) (202009b:10,10,0.2)\n",
    "        BESTDIM = 200\n",
    "        BESTEPOCH = 200\n",
    "        BESTLR = 0.2\n",
    "    elif TOPIC == FACEMASK:\n",
    "        # facemasks (202008: 10,900,0.2)\n",
    "        BESTDIM = 10\n",
    "        BESTEPOCH = 200\n",
    "        BESTLR = 0.2\n",
    "    else:\n",
    "        print(\"unknown topic!\",file=sys.stderr)\n",
    "        sys.exit(1)\n",
    "    return(BESTDIM,BESTEPOCH,BESTLR)\n",
    "        \n",
    "BESTDIM,BESTEPOCH,BESTLR = setBestParameters()"
   ]
  },
  {
   "cell_type": "code",
   "execution_count": 45,
   "metadata": {},
   "outputs": [
    {
     "name": "stdout",
     "output_type": "stream",
     "text": [
      "finished\n"
     ]
    }
   ],
   "source": [
    "predictionCountsValidation,predictionLabelsValidation,predictionCountsTest,predictionLabelsTest = \\\n",
    "    runFasttext(fasttextData,dim=BESTDIM,epoch=BESTEPOCH,lr=BESTLR)"
   ]
  },
  {
   "cell_type": "code",
   "execution_count": 46,
   "metadata": {},
   "outputs": [
    {
     "name": "stdout",
     "output_type": "stream",
     "text": [
      "cases: 5731; precision: 0.629; recall: 0.629; fraction: 0.866\n",
      "cases: 5731; precision: 0.627; recall: 0.627; fraction: 0.828\n"
     ]
    },
    {
     "data": {
      "text/plain": [
       "(0.627, 0.8278594241382266)"
      ]
     },
     "execution_count": 46,
     "metadata": {},
     "output_type": "execute_result"
    }
   ],
   "source": [
    "evaluate(predictionCountsValidation,predictionLabelsValidation,fasttextData)\n",
    "evaluate(predictionCountsTest,predictionLabelsTest,fasttextData)"
   ]
  },
  {
   "cell_type": "code",
   "execution_count": 47,
   "metadata": {},
   "outputs": [
    {
     "data": {
      "text/plain": [
       "{'__label__REJECTS': 1136,\n",
       " '__label__SUPPORTS': 3228,\n",
       " '__label__IRRELEVANT': 1367}"
      ]
     },
     "execution_count": 47,
     "metadata": {},
     "output_type": "execute_result"
    }
   ],
   "source": [
    "labelCountsGold = {}\n",
    "for i in range(0,len(fasttextData)):\n",
    "    label = fasttextData[i].split()[0]\n",
    "    if label in labelCountsGold: labelCountsGold[label] += 1\n",
    "    else: labelCountsGold[label] = 1\n",
    "labelCountsGold"
   ]
  },
  {
   "cell_type": "code",
   "execution_count": 48,
   "metadata": {},
   "outputs": [
    {
     "name": "stdout",
     "output_type": "stream",
     "text": [
      "baseline accuracy: 0.563\n"
     ]
    }
   ],
   "source": [
    "print(\"baseline accuracy:\",round(max(labelCountsGold.values())/sum(labelCountsGold.values()),3))"
   ]
  },
  {
   "cell_type": "code",
   "execution_count": 49,
   "metadata": {},
   "outputs": [
    {
     "data": {
      "text/plain": [
       "{'__label__REJECTS': 1006,\n",
       " '__label__SUPPORTS': 3453,\n",
       " '__label__IRRELEVANT': 1272}"
      ]
     },
     "execution_count": 49,
     "metadata": {},
     "output_type": "execute_result"
    }
   ],
   "source": [
    "labelCountsPredicted = {}\n",
    "for i in range(0,len(predictionLabelsTest)):\n",
    "    for label in predictionLabelsTest[i][0]:\n",
    "        if label[0] in labelCountsPredicted: labelCountsPredicted[label[0]] += 1\n",
    "        else: labelCountsPredicted[label[0]] = 1\n",
    "labelCountsPredicted"
   ]
  },
  {
   "cell_type": "code",
   "execution_count": 50,
   "metadata": {},
   "outputs": [
    {
     "name": "stdout",
     "output_type": "stream",
     "text": [
      "total absolute deviation 450\n"
     ]
    }
   ],
   "source": [
    "print(\"total absolute deviation\",sum([abs(labelCountsPredicted[l]-labelCountsGold[l]) for l in labelCountsGold]))"
   ]
  },
  {
   "cell_type": "code",
   "execution_count": 51,
   "metadata": {},
   "outputs": [
    {
     "name": "stdout",
     "output_type": "stream",
     "text": [
      "relative deviation per label: {'__label__REJECTS': 0.114, '__label__SUPPORTS': 0.07, '__label__IRRELEVANT': 0.069}\n"
     ]
    }
   ],
   "source": [
    "print(\"relative deviation per label:\",\\\n",
    "      {l:round(abs(labelCountsPredicted[l]-labelCountsGold[l])/labelCountsGold[l],3) for l in labelCountsGold})"
   ]
  },
  {
   "cell_type": "code",
   "execution_count": 52,
   "metadata": {},
   "outputs": [
    {
     "data": {
      "text/html": [
       "<div>\n",
       "<style scoped>\n",
       "    .dataframe tbody tr th:only-of-type {\n",
       "        vertical-align: middle;\n",
       "    }\n",
       "\n",
       "    .dataframe tbody tr th {\n",
       "        vertical-align: top;\n",
       "    }\n",
       "\n",
       "    .dataframe thead th {\n",
       "        text-align: right;\n",
       "    }\n",
       "</style>\n",
       "<table border=\"1\" class=\"dataframe\">\n",
       "  <thead>\n",
       "    <tr style=\"text-align: right;\">\n",
       "      <th>col_0</th>\n",
       "      <th>__label__IRRELEVANT</th>\n",
       "      <th>__label__REJECTS</th>\n",
       "      <th>__label__SUPPORTS</th>\n",
       "    </tr>\n",
       "    <tr>\n",
       "      <th>row_0</th>\n",
       "      <th></th>\n",
       "      <th></th>\n",
       "      <th></th>\n",
       "    </tr>\n",
       "  </thead>\n",
       "  <tbody>\n",
       "    <tr>\n",
       "      <td>__label__IRRELEVANT</td>\n",
       "      <td>300</td>\n",
       "      <td>205</td>\n",
       "      <td>862</td>\n",
       "    </tr>\n",
       "    <tr>\n",
       "      <td>__label__REJECTS</td>\n",
       "      <td>265</td>\n",
       "      <td>205</td>\n",
       "      <td>666</td>\n",
       "    </tr>\n",
       "    <tr>\n",
       "      <td>__label__SUPPORTS</td>\n",
       "      <td>707</td>\n",
       "      <td>596</td>\n",
       "      <td>1925</td>\n",
       "    </tr>\n",
       "  </tbody>\n",
       "</table>\n",
       "</div>"
      ],
      "text/plain": [
       "col_0                __label__IRRELEVANT  __label__REJECTS  __label__SUPPORTS\n",
       "row_0                                                                        \n",
       "__label__IRRELEVANT                  300               205                862\n",
       "__label__REJECTS                     265               205                666\n",
       "__label__SUPPORTS                    707               596               1925"
      ]
     },
     "execution_count": 52,
     "metadata": {},
     "output_type": "execute_result"
    }
   ],
   "source": [
    "makeConfusionMatrix(fasttextData,predictionLabelsTest)"
   ]
  },
  {
   "cell_type": "markdown",
   "metadata": {},
   "source": [
    "For the mondkapje data, fasttext predicts 63% of the labels correctly without external dictionary and 66% with a Wikipedia dictionary (baseline: 46%). It overestimates the presence of negative labels and underestimates the level of positive and neutral labels. The amount of irrelevant labels is about right"
   ]
  },
  {
   "cell_type": "code",
   "execution_count": 53,
   "metadata": {},
   "outputs": [
    {
     "data": {
      "text/plain": [
       "{'__label__REJECTS': 1.1292246520874751,\n",
       " '__label__SUPPORTS': 0.9348392701998263,\n",
       " '__label__IRRELEVANT': 1.074685534591195}"
      ]
     },
     "execution_count": 53,
     "metadata": {},
     "output_type": "execute_result"
    }
   ],
   "source": [
    "multiplicationFactors = {}\n",
    "for label in labelCountsGold:\n",
    "    multiplicationFactors[label] = labelCountsGold[label]/labelCountsPredicted[label]\n",
    "multiplicationFactors"
   ]
  },
  {
   "cell_type": "markdown",
   "metadata": {},
   "source": [
    "For mondkapje tweets, the multiplication factor for the positive label is unrealistically high so we will not use these factors."
   ]
  },
  {
   "cell_type": "code",
   "execution_count": 54,
   "metadata": {},
   "outputs": [
    {
     "name": "stdout",
     "output_type": "stream",
     "text": [
      "5731.0 5731\n"
     ]
    }
   ],
   "source": [
    "predictedNumberOfLabels = 0\n",
    "for label in labelCountsGold:\n",
    "    predictedNumberOfLabels += multiplicationFactors[label]*labelCountsPredicted[label]\n",
    "print(predictedNumberOfLabels,sum(labelCountsGold.values()))"
   ]
  },
  {
   "cell_type": "markdown",
   "metadata": {},
   "source": [
    "## Relation data size - accuracy (skip)"
   ]
  },
  {
   "cell_type": "code",
   "execution_count": 55,
   "metadata": {},
   "outputs": [
    {
     "name": "stdout",
     "output_type": "stream",
     "text": [
      " 100 0.537 0.486\n",
      " 200 0.546 0.533\n",
      " 500 0.571 0.677\n",
      "1000 0.589 0.687\n",
      "2000 0.611 0.764\n",
      "5000 0.627 0.825\n",
      "5731 0.627 0.825\n"
     ]
    }
   ],
   "source": [
    "N = 5\n",
    "expResultsAll = {}\n",
    "for trainingSize in [100,200,500,1000,2000,5000,10000]:\n",
    "    expResultsTrainingSize = []\n",
    "    for i in range(0,N):\n",
    "        selection = ranSelect(fasttextData,trainingSize)\n",
    "        predictionCountsValidation,predictionLabelsValidation,predictionCountsTest,predictionLabelsTest = \\\n",
    "            runFasttext(fasttextData,dim=BESTDIM,epoch=BESTEPOCH,lr=BESTLR,squealFlag=False,maxTrain=trainingSize)\n",
    "        expResultsTrainingSize.append(evaluate(predictionCountsTest,predictionLabelsTest,fasttextData,printResults=False))\n",
    "    average = (np.average([x[0] for x in expResultsTrainingSize]),np.average([x[1] for x in expResultsTrainingSize]))\n",
    "    expResultsAll[len(selection)] = average\n",
    "    print(\"{0:4} {1:0.3f} {2:0.3f}\".format(len(selection),average[0],average[1]))\n",
    "    if len(selection) >= len(fasttextData): break"
   ]
  },
  {
   "cell_type": "code",
   "execution_count": 58,
   "metadata": {},
   "outputs": [],
   "source": [
    "del(expResultsAll[list(expResultsAll.keys())[-1]])"
   ]
  },
  {
   "cell_type": "code",
   "execution_count": 59,
   "metadata": {},
   "outputs": [
    {
     "data": {
      "image/png": "[encoded data removed]",
      "text/plain": [
       "<Figure size 1152x432 with 2 Axes>"
      ]
     },
     "metadata": {
      "needs_background": "light"
     },
     "output_type": "display_data"
    }
   ],
   "source": [
    "PLOTFILENAME = \"training-size.png\"\n",
    "\n",
    "plt.figure(figsize=(16,6))\n",
    "\n",
    "ax1 = plt.subplot(121)\n",
    "plt.plot(list(expResultsAll.keys()),[x[0] for x in list(expResultsAll.values())])\n",
    "plt.xscale(\"log\")\n",
    "plt.ylabel(\"accuracy\")\n",
    "plt.xlabel(\"training data size\")\n",
    "plt.title(\"Accuracy related to training size\")\n",
    "\n",
    "ax1 = plt.subplot(122)\n",
    "plt.plot(list(expResultsAll.keys()),[x[1] for x in list(expResultsAll.values())])\n",
    "plt.xscale(\"log\")\n",
    "plt.ylabel(\"fraction\")\n",
    "plt.xlabel(\"training data size\")\n",
    "plt.title(\"Fraction score related to training size\")\n",
    "plt.savefig(PLOTFILENAME)\n",
    "plt.show()"
   ]
  },
  {
   "cell_type": "markdown",
   "metadata": {},
   "source": [
    "## Classifying unlabeled tweets"
   ]
  },
  {
   "cell_type": "code",
   "execution_count": null,
   "metadata": {},
   "outputs": [],
   "source": [
    "import fasttext\n",
    "import matplotlib\n",
    "import numpy as np\n",
    "import os\n",
    "import pandas as pd\n",
    "import re\n",
    "from nltk.tokenize import TweetTokenizer"
   ]
  },
  {
   "cell_type": "code",
   "execution_count": null,
   "metadata": {},
   "outputs": [],
   "source": [
    "BESTDIM,BESTEPOCH,BESTLR = setBestParameters()"
   ]
  },
  {
   "cell_type": "code",
   "execution_count": null,
   "metadata": {},
   "outputs": [],
   "source": [
    "BASEDIR = \"/home/erikt/projects/puregome/data/\"\n",
    "DATADIRECTORY = BASEDIR+\"text/\"\n",
    "DATADIRECTORYREDDIT = BASEDIR+\"reddit/text/\"\n",
    "DATADIRECTORYNUNL = BASEDIR+\"nunl/text/\"\n",
    "TWITTER = \"twitter\"\n",
    "REDDIT = \"reddit\"\n",
    "NUNL = \"nunl\"\n",
    "SOURCES = [TWITTER,REDDIT,NUNL]\n",
    "DATADIRECTORIES = {TWITTER:DATADIRECTORY,REDDIT:DATADIRECTORYREDDIT,NUNL:DATADIRECTORYNUNL}\n",
    "FILEFASTTEXT = \"fasttext-\"+TOPIC+\".csv\"\n",
    "LABELPREFIX = \"__label__\"\n",
    "NEGATIVE = LABELPREFIX+\"NEGATIVE\"\n",
    "POSITIVE = LABELPREFIX+\"POSITIVE\"\n",
    "NEUTRAL = LABELPREFIX+\"NEUTRAL\"\n",
    "IRRELEVANT = LABELPREFIX+\"IRRELEVANT\"\n",
    "SUPPORTS = LABELPREFIX+\"SUPPORTS\"\n",
    "REJECTS = LABELPREFIX+\"REJECTS\"\n",
    "TEXT = \"text\"\n",
    "USER = \"user\"\n",
    "TOTAL = \"total\"\n",
    "DIM = BESTDIM\n",
    "EPOCH = BESTEPOCH\n",
    "LR = BESTLR"
   ]
  },
  {
   "cell_type": "code",
   "execution_count": null,
   "metadata": {},
   "outputs": [],
   "source": [
    "def cleanup(text):\n",
    "    text = re.sub(r\"\\\\n\",\" \",text)\n",
    "    text = re.sub(r\"https://\\S+\",\"\",text)\n",
    "    text = re.sub(r\"\\s+\",\" \",text)\n",
    "    text = text.strip()\n",
    "    return(text)\n",
    "\n",
    "def tokenize(text):\n",
    "    return(\" \".join(TweetTokenizer().tokenize(text)))\n",
    "\n",
    "def preprocess(text):\n",
    "    return(tokenize(cleanup(text)).lower())"
   ]
  },
  {
   "cell_type": "code",
   "execution_count": null,
   "metadata": {},
   "outputs": [],
   "source": [
    "def makeGrepCommandFromQuery(query):\n",
    "    grepCommand = \"grep\"\n",
    "    for orPart in query.split(\"|\"):\n",
    "        grepCommand += ' -e \"'+orPart+'\"'\n",
    "    return(grepCommand)\n",
    "\n",
    "def readData(datePattern,query,dataDirectory=DATADIRECTORY):\n",
    "    fileList = sorted(os.listdir(dataDirectory))\n",
    "    testData = []\n",
    "    for inFileName in fileList:\n",
    "        if re.search(datePattern,inFileName) and os.path.exists(dataDirectory+inFileName):\n",
    "            try:\n",
    "                fileData = pd.read_csv(dataDirectory+inFileName).drop_duplicates()\n",
    "                matchedText = [line for line in fileData[TEXT] if re.search(query,line,flags=re.IGNORECASE)]\n",
    "                matchedTextPreprocessed = [preprocess(line) for line in matchedText]\n",
    "                testData.extend(matchedTextPreprocessed)\n",
    "            except:\n",
    "                pass\n",
    "    return(testData)\n",
    "    \n",
    "def classify(datePattern,query,model,dataDirectory=DATADIRECTORY):\n",
    "    testData = readData(datePattern,query,dataDirectory)\n",
    "    predictedLabels = model.predict(testData)\n",
    "    predictedGroups = pd.DataFrame(predictedLabels[0]).groupby(0).groups\n",
    "    labelCountsPredicted = {label:len(predictedGroups[label]) for label in predictedGroups}\n",
    "    nbrOfLabels = sum([labelCountsPredicted[label] for label in labelCountsPredicted if label != IRRELEVANT])\n",
    "    labelPercentages = { label:round(100*labelCountsPredicted[label]/nbrOfLabels,1) for label in labelCountsPredicted}\n",
    "    labelPercentages[TOTAL] = nbrOfLabels\n",
    "    return(labelPercentages)"
   ]
  },
  {
   "cell_type": "code",
   "execution_count": null,
   "metadata": {},
   "outputs": [],
   "source": [
    "import ast\n",
    "\n",
    "RESULTSFILE = \"results-\"+TOPIC+\".csv\"\n",
    "\n",
    "def storeResults(results):\n",
    "     pd.DataFrame(results).T.to_csv(RESULTSFILE,index_label=SOURCE)\n",
    "        \n",
    "def readResults():\n",
    "    df = pd.read_csv(RESULTSFILE,index_col=SOURCE)\n",
    "    for source in df.index:\n",
    "        for date in df.loc[source].index:\n",
    "            try:\n",
    "                df.loc[source][date] = ast.literal_eval(df.loc[source][date])\n",
    "            except: pass\n",
    "    return(removeNan(df.T.to_dict()))\n",
    "\n",
    "def getTotals(results):\n",
    "    totals = {}\n",
    "    for source in results:\n",
    "        for date in results[source]:\n",
    "            try:\n",
    "                if not source in totals: totals[source] = 0\n",
    "                totals[source] += results[source][date][TOTAL]\n",
    "            except: pass\n",
    "    return(totals)\n",
    "\n",
    "def removeNan(results):\n",
    "    for source in results:\n",
    "        toBeDeleted = []\n",
    "        for date in results[source]:\n",
    "            if results[source][date] != results[source][date]:\n",
    "                toBeDeleted.append(date)\n",
    "        for date in toBeDeleted: del(results[source][date])\n",
    "    return(results)\n",
    "\n",
    "results = readResults()\n",
    "totals =  getTotals(results)"
   ]
  },
  {
   "cell_type": "code",
   "execution_count": null,
   "metadata": {},
   "outputs": [],
   "source": [
    "MAXDAYSPERMONTH = 31\n",
    "\n",
    "if TOPIC == DISTANCE:\n",
    "    QUERY = \"1[.,]5[ -]*m|afstand.*hou|hou.*afstand|anderhalve[ -]*meter\"\n",
    "elif TOPIC == FACEMASK:\n",
    "    QUERY = TOPIC\n",
    "else:\n",
    "    print(\"unknown topic!\",file=sys.stderr)\n",
    "    sys.exit(1)\n",
    "MAXDAYSPERMONTH = 31\n",
    "\n",
    "model = fasttext.train_supervised(FILEFASTTEXT,dim=BESTDIM,epoch=BESTEPOCH,lr=BESTLR)"
   ]
  },
  {
   "cell_type": "markdown",
   "metadata": {},
   "source": [
    "### Recompute results per data source (time-consuming: usually skipped)"
   ]
  },
  {
   "cell_type": "code",
   "execution_count": null,
   "metadata": {},
   "outputs": [],
   "source": [
    "results = {}\n",
    "totals = {}\n",
    "for source in SOURCES:\n",
    "    dataDirectory = DATADIRECTORIES[source]\n",
    "    total = 0\n",
    "    results[source] = {}\n",
    "    for month in \"202002 202003 202004 202005 202006 202007 202008\".split():\n",
    "        for day in range(1,MAXDAYSPERMONTH+1):\n",
    "            date = month+str(day).zfill(2)\n",
    "            try:\n",
    "                labels = classify(date,QUERY,model,dataDirectory=dataDirectory)\n",
    "                if not REJECTS in labels: labels[REJECTS] = 0\n",
    "                if not SUPPORTS in labels: labels[SUPPORTS] = 0\n",
    "                if not IRRELEVANT in labels: labels[IRRELEVANT] = 0\n",
    "                if labels[REJECTS]+labels[SUPPORTS]+labels[IRRELEVANT] > 0:\n",
    "                    results[source][date] = labels\n",
    "                    print(source,date,labels[REJECTS],labels[SUPPORTS],labels[IRRELEVANT],labels[TOTAL])\n",
    "                    total += labels[TOTAL]\n",
    "            except:\n",
    "                print(source,date,\"error\")\n",
    "    totals[source] = total\n",
    "    print(\"total relevant found:\",total)"
   ]
  },
  {
   "cell_type": "code",
   "execution_count": null,
   "metadata": {},
   "outputs": [],
   "source": [
    "#storeResults(results)"
   ]
  },
  {
   "cell_type": "code",
   "execution_count": null,
   "metadata": {},
   "outputs": [],
   "source": [
    "totals"
   ]
  },
  {
   "cell_type": "code",
   "execution_count": null,
   "metadata": {},
   "outputs": [],
   "source": [
    "for platform in \"twitter reddit nunl\".split():\n",
    "    counts = {}\n",
    "    for date in results[platform]:\n",
    "        try:\n",
    "            if TOTAL in results[platform][date] and results[platform][date][TOTAL] > 0:\n",
    "                for label in results[platform][date].keys():\n",
    "                    if not label in counts: counts[label] = 0\n",
    "                    if label == TOTAL: counts[label] += results[platform][date][label]\n",
    "                    else: counts[label] += round(results[platform][date][TOTAL]*results[platform][date][label]/100.0)\n",
    "        except: pass\n",
    "    print(platform,counts)"
   ]
  },
  {
   "cell_type": "markdown",
   "metadata": {},
   "source": [
    "Social distancing:\n",
    "twitter {\"__label__IRRELEVANT\": 73379, \"__label__REJECTS\": 156775, \"__label__SUPPORTS\": 589930, \"total\": 746705}\n",
    "reddit {'__label__SUPPORTS': 2054, 'total': 2240, '__label__REJECTS': 186, '__label__IRRELEVANT': 43}\n",
    "nunl {'__label__SUPPORTS': 24547, 'total': 29500, '__label__REJECTS': 4953, '__label__IRRELEVANT': 585}\n",
    "Face masks:\n",
    "twitter {'__label__IRRELEVANT': 279286, '__label__REJECTS': 313765, '__label__SUPPORTS': 51141, 'total': 364906}\n",
    "reddit {'__label__IRRELEVANT': 703, '__label__REJECTS': 824, '__label__SUPPORTS': 262, 'total': 1086}\n",
    "nunl {'__label__IRRELEVANT': 8939, '__label__REJECTS': 11289, '__label__SUPPORTS': 4181, 'total': 15470}"
   ]
  },
  {
   "cell_type": "markdown",
   "metadata": {},
   "source": [
    "## Visualization over time"
   ]
  },
  {
   "cell_type": "code",
   "execution_count": null,
   "metadata": {},
   "outputs": [],
   "source": [
    "import datetime\n",
    "import matplotlib\n",
    "import matplotlib.pyplot as plt\n",
    "import matplotlib.dates as mdates\n",
    "from pandas.plotting import register_matplotlib_converters\n",
    "register_matplotlib_converters()"
   ]
  },
  {
   "cell_type": "code",
   "execution_count": null,
   "metadata": {},
   "outputs": [],
   "source": [
    "def movingAverage(numberList,size):\n",
    "    newList = []\n",
    "    for i in range(0,len(numberList)):\n",
    "        numberUsed = 1\n",
    "        newList.append(numberList[i])\n",
    "        for j in range(1,size):\n",
    "            if i-j >= 0:\n",
    "                newList[i] += numberList[i-j]\n",
    "                numberUsed += 1\n",
    "        newList[i] /= numberUsed\n",
    "    return(newList)"
   ]
  },
  {
   "cell_type": "code",
   "execution_count": null,
   "metadata": {},
   "outputs": [],
   "source": [
    "DATEFORMAT = \"%Y%m%d\"\n",
    "DAYSCOMBINED = 7\n",
    "STARTDATE = \"20200310\"\n",
    "LABELS = {TWITTER:\"Twitter ({0})\".format(totals[TWITTER]),\\\n",
    "          NUNL:\"Nu.nl ({0})\".format(totals[NUNL]),\\\n",
    "          REDDIT:\"Reddit ({0})\".format(totals[REDDIT])}\n",
    "if TOPIC == DISTANCE:\n",
    "    PLOTFILENAME = \"social-distancing-all.png\"\n",
    "elif TOPIC == FACEMASK:\n",
    "    PLOTFILENAME = \"mondkapje-all.png\"\n",
    "else:\n",
    "    print(\"unknown topic!\",file=sys.stderr)\n",
    "    sys.exit(1)\n",
    "\n",
    "x = {}\n",
    "ySupports = {}\n",
    "plt.subplots(figsize=(12,6))\n",
    "font = {\"size\":16}\n",
    "matplotlib.rc(\"font\",**font)\n",
    "ax = plt.subplot(111)\n",
    "for source in [REDDIT,NUNL,TWITTER]:\n",
    "    x[source] = [datetime.datetime.strptime(k,DATEFORMAT) for k in results[source].keys()]\n",
    "    ySupports[source] = movingAverage([results[source][k][SUPPORTS] for k in results[source].keys()],DAYSCOMBINED)\n",
    "    xPart = [x[source][i] for i in range(0,len(x[source])) if x[source][i] >= datetime.datetime.strptime(STARTDATE,DATEFORMAT)] \n",
    "    ySupportsPart = [ySupports[source][i] for i in range(0,len(x[source])) if x[source][i] >= datetime.datetime.strptime(STARTDATE,DATEFORMAT)] \n",
    "    plt.plot_date(xPart,ySupportsPart,fmt=\"-\",label=LABELS[source])\n",
    "plt.legend()\n",
    "plt.ylabel(\"percentage\")\n",
    "plt.xlabel(\"day/month\")\n",
    "if TOPIC == FACEMASK:\n",
    "    plt.title(\"Support for general public not wearing face masks per medium over time\")\n",
    "elif TOPIC == DISTANCE:\n",
    "    plt.title(\"Support for social distancing per medium over time (average over \"+str(DAYSCOMBINED)+\" days)\")\n",
    "else:\n",
    "    print(\"unknown topic!\",file=sys.stderr)\n",
    "    sys.exit(1)    \n",
    "plt.xticks([datetime.datetime.strptime(d,DATEFORMAT) for d in \"20200301 2020401 20200501 20200601 20200701 20200801 20200901\".split()])\n",
    "ax.xaxis.set_major_formatter(mdates.DateFormatter(\"%-d/%-m\"))\n",
    "plt.savefig(PLOTFILENAME)\n",
    "plt.show()"
   ]
  },
  {
   "cell_type": "markdown",
   "metadata": {},
   "source": [
    "## Do not run any further code"
   ]
  },
  {
   "cell_type": "code",
   "execution_count": null,
   "metadata": {},
   "outputs": [],
   "source": [
    "ANNOTATED = \"annotated\"\n",
    "ANNOTATEDFILE = \"manual-annotation.csv\"\n",
    "DATE = \"date\"\n",
    "EENS = \"EENS\"\n",
    "ONEENS = \"ONEENS\"\n",
    "ANDERS = \"ANDERS\"\n",
    "TOTAL = \"total\""
   ]
  },
  {
   "cell_type": "code",
   "execution_count": null,
   "metadata": {},
   "outputs": [],
   "source": [
    "df = pd.read_csv(ANNOTATEDFILE,index_col=DATE,dtype={EENS:\"float\",ONEENS:\"float\",ANDERS:\"float\"})\n",
    "totals = []\n",
    "for i in range(0,len(df)):\n",
    "    total = df.iloc[i][EENS]+df.iloc[i][ONEENS]+df.iloc[i][ANDERS]\n",
    "    if df.iloc[i][EENS]+df.iloc[i][ONEENS] > 0:\n",
    "        df.iloc[i][EENS] = 100*df.iloc[i][EENS]/(total-df.iloc[i][ANDERS])\n",
    "        df.iloc[i][ONEENS] = 100*df.iloc[i][ONEENS]/(total-df.iloc[i][ANDERS])\n",
    "        df.iloc[i][ANDERS] = 100*df.iloc[i][ANDERS]/(total-df.iloc[i][ANDERS])\n",
    "    else: \n",
    "        df.iloc[i][ANDERS] = 100\n",
    "    totals.append(total)\n",
    "df[TOTAL] = totals\n",
    "annotatedDict = df.T.to_dict(orient=\"dict\")\n",
    "annotatedDict = {d:annotatedDict[d] for d in sorted(annotatedDict.keys())}\n",
    "results[ANNOTATED] = annotatedDict"
   ]
  },
  {
   "cell_type": "code",
   "execution_count": null,
   "metadata": {},
   "outputs": [],
   "source": [
    "PLOTFILEANNOTATED = \"manual-annotation.png\"\n",
    "\n",
    "x = {}\n",
    "ySupports = {}\n",
    "plt.subplots(figsize=(12,6))\n",
    "font = {\"size\":12}\n",
    "matplotlib.rc(\"font\",**font)\n",
    "ax = plt.subplot(111)\n",
    "for source in [TWITTER]:\n",
    "    x[source] = [datetime.datetime.strptime(k,DATEFORMAT) for k in results[source].keys()]\n",
    "    ySupports[source] = movingAverage([results[source][k][SUPPORTS] for k in results[source].keys()],DAYSCOMBINED)\n",
    "    xPart = [x[source][i] for i in range(0,len(x[source])) if x[source][i] >= datetime.datetime.strptime(STARTDATE,DATEFORMAT)] \n",
    "    ySupportsPart = [ySupports[source][i] for i in range(0,len(x[source])) if x[source][i] >= datetime.datetime.strptime(STARTDATE,DATEFORMAT)] \n",
    "    plt.plot_date(xPart,ySupportsPart,fmt=\"-\",label=\"predicted\")\n",
    "for source in [ANNOTATED]:\n",
    "    x[source] = [datetime.datetime.strptime(str(k),DATEFORMAT) for k in results[source].keys()]\n",
    "    ySupports[source] = movingAverage([results[source][k][EENS] for k in results[source].keys()],DAYSCOMBINED)\n",
    "    xPart = [x[source][i] for i in range(0,len(x[source])) if x[source][i] >= datetime.datetime.strptime(STARTDATE,DATEFORMAT)] \n",
    "    ySupportsPart = [ySupports[source][i] for i in range(0,len(x[source])) if x[source][i] >= datetime.datetime.strptime(STARTDATE,DATEFORMAT)] \n",
    "    plt.plot_date(xPart,ySupportsPart,fmt=\"-\",label=ANNOTATED)\n",
    "plt.title(\"Support for social distancing per medium over time (average over \"+str(DAYSCOMBINED)+\" days)\")\n",
    "plt.legend()\n",
    "plt.savefig(PLOTFILEANNOTATED)\n",
    "plt.show()"
   ]
  },
  {
   "cell_type": "code",
   "execution_count": null,
   "metadata": {},
   "outputs": [],
   "source": [
    "annotatedValues = []\n",
    "twitterValues = []\n",
    "\n",
    "for i in range(0,len(x[TWITTER])):\n",
    "    date = x[TWITTER][i]\n",
    "    if date >= datetime.datetime.strptime(\"20200310\",DATEFORMAT):\n",
    "        for j in range(0,len(x[ANNOTATED])):\n",
    "            if x[ANNOTATED][j] == date:\n",
    "                twitterValues.append(ySupports[TWITTER][i])\n",
    "                annotatedValues.append(ySupports[ANNOTATED][j])\n",
    "np.corrcoef(annotatedValues,twitterValues)[1][0]"
   ]
  },
  {
   "cell_type": "code",
   "execution_count": null,
   "metadata": {},
   "outputs": [],
   "source": [
    "PLOTFILENAME = \"plot.png\"\n",
    "\n",
    "plt.figure()\n",
    "plt.scatter(annotatedValues,twitterValues)\n",
    "plt.ylabel(\"Predicted support percentages\")\n",
    "plt.xlabel(\"Annotated support percentages\")\n",
    "plt.title(\"Annotated and predicted support for social distancing\")\n",
    "plt.savefig(PLOTFILENAME)\n",
    "plt.show()"
   ]
  },
  {
   "cell_type": "code",
   "execution_count": null,
   "metadata": {},
   "outputs": [],
   "source": [
    "allResults = results\n",
    "results = results[TWITTER]\n",
    "\n",
    "x = [datetime.datetime.strptime(k,DATEFORMAT) for k in results.keys()]\n",
    "ySupports = movingAverage([results[k][SUPPORTS] for k in results.keys()],DAYSCOMBINED)\n",
    "yRejects = movingAverage([results[k][REJECTS] for k in results.keys()],DAYSCOMBINED)\n",
    "yIrrelevant = movingAverage([results[k][IRRELEVANT] for k in results.keys()],DAYSCOMBINED)\n",
    "\n",
    "keyDates = []\n",
    "for i in range(0,len(yIrrelevant)):\n",
    "    if i < len(yIrrelevant)-1 and \\\n",
    "       (yIrrelevant[i] < 100 and yIrrelevant[i+1] >= 100 or yIrrelevant[i] >= 100 and yIrrelevant[i+1] < 100):\n",
    "        keyDates.append(list(results.keys())[i])\n",
    "        print(keyDates[-1])"
   ]
  },
  {
   "cell_type": "code",
   "execution_count": null,
   "metadata": {},
   "outputs": [],
   "source": [
    "STARTDATE = \"20200310\" # keyDates[0]\n",
    "ENDDATE = \"20201231\"\n",
    "\n",
    "results = {k:results[k] for k in sorted(results.keys())}\n",
    "font = {\"size\":14}\n",
    "matplotlib.rc(\"font\",**font)\n",
    "plt.subplots(figsize=(14,7))\n",
    "\n",
    "ax1 = plt.subplot(111)\n",
    "plt.plot_date(x,ySupports,fmt=\"-\",label=\"Supports\")\n",
    "plt.plot_date(x,yRejects,fmt=\"-\",label=\"Rejects\")\n",
    "plt.plot_date(x,yIrrelevant,fmt=\"-\",label=\"Other\")\n",
    "plt.plot_date(x,[100 for i in x],fmt=\"-\",label=\"100%\",color=\"black\")\n",
    "for date in [STARTDATE]:\n",
    "    plt.plot_date([datetime.datetime.strptime(date,DATEFORMAT)],[100],color=\"black\")\n",
    "plt.legend()\n",
    "plt.ylabel(\"percentage\")\n",
    "plt.xlabel(\"day/month\")\n",
    "plt.title(\"stance on the RIVM policy on \"+\"social\")\n",
    "plt.show()"
   ]
  },
  {
   "cell_type": "code",
   "execution_count": null,
   "metadata": {},
   "outputs": [],
   "source": [
    "PLOTFILEOUT = \"social-distancing.png\"\n",
    "#PLOTFILEOUT = \"mondkapje.png\"\n",
    "\n",
    "plt.subplots(figsize=(14,7))\n",
    "\n",
    "dates = [d for d in results.keys()]\n",
    "xPart = [x[i] for i in range(0,len(dates)) if dates[i] >= STARTDATE and dates[i] <= ENDDATE]\n",
    "ySupportsPart = [ySupports[i] for i in range(0,len(dates)) if dates[i] >= STARTDATE and dates[i] <= ENDDATE] \n",
    "yRejectsPart = [yRejects[i] for i in range(0,len(dates)) if dates[i] >= STARTDATE and dates[i] <= ENDDATE]\n",
    "ax1.xaxis.set_major_formatter(mdates.DateFormatter(\"%-d/%-m\"))\n",
    "\n",
    "ax2 = plt.subplot(111)\n",
    "plt.plot_date(xPart,ySupportsPart,fmt=\"-\",label=\"Supports\")\n",
    "plt.plot_date(xPart,yRejectsPart,fmt=\"-\",label=\"Rejects\")\n",
    "plt.legend()\n",
    "plt.ylabel(\"percentage\")\n",
    "plt.xlabel(\"day/month\")\n",
    "plt.title(\"Twitter stance on the RIVM policy on social distancing (average over \"+str(DAYSCOMBINED)+\" days)\")\n",
    "plt.xticks([datetime.datetime.strptime(d,DATEFORMAT) for d in \"20200301 2020401 20200501 20200601 20200701 20200801\".split()])\n",
    "ax2.xaxis.set_major_formatter(mdates.DateFormatter(\"%-d/%-m\"))\n",
    "\n",
    "plt.savefig(PLOTFILEOUT)\n",
    "plt.show()"
   ]
  },
  {
   "cell_type": "code",
   "execution_count": null,
   "metadata": {},
   "outputs": [],
   "source": [
    "counts = {}\n",
    "for text in fasttextData:\n",
    "    label = text.split()[0]\n",
    "    if label in counts: counts[label] += 1\n",
    "    else: counts[label] = 1\n",
    "for label in counts: print(round(counts[label]/len(fasttextData),3),label)"
   ]
  },
  {
   "cell_type": "markdown",
   "metadata": {},
   "source": [
    "## Annotator comparison"
   ]
  },
  {
   "cell_type": "code",
   "execution_count": null,
   "metadata": {},
   "outputs": [],
   "source": [
    "NBROFTESTDATA = 100\n",
    "\n",
    "annotators = []\n",
    "annotatorData = {}\n",
    "kappaData = [{},{}]\n",
    "blockedTweetIds = {}\n",
    "for i in range(0,len(annotations)):\n",
    "    annotator = annotations.iloc[i][0]\n",
    "    tweetId = annotations.iloc[i][2]\n",
    "    tweetLabel = annotations.iloc[i][4]\n",
    "    if not annotator in annotatorData: \n",
    "        annotatorData[annotator] = {}\n",
    "        annotators.append(annotator)\n",
    "    annotatorData[annotator][tweetId] = tweetLabel\n",
    "    if len(annotatorData[annotator]) <= NBROFTESTDATA: blockedTweetIds[tweetId] = True\n",
    "    if len(annotators) >= 2 and not tweetId in blockedTweetIds and \\\n",
    "       tweetId in annotatorData[annotators[0]] and tweetId in annotatorData[annotators[1]]:\n",
    "        kappaData[0][tweetId] = annotatorData[annotators[0]][tweetId]\n",
    "        kappaData[1][tweetId] = annotatorData[annotators[1]][tweetId]"
   ]
  },
  {
   "cell_type": "code",
   "execution_count": null,
   "metadata": {},
   "outputs": [],
   "source": [
    "for annotator in annotatorData:\n",
    "    labelCount = {}\n",
    "    for tweetId in annotatorData[annotator]:\n",
    "        label = annotatorData[annotator][tweetId]\n",
    "        if not label in labelCount: labelCount[label] = 0\n",
    "        labelCount[label] += 1\n",
    "    print(len(annotatorData[annotator]))\n",
    "    for label in labelCount: print(round(labelCount[label]/len(annotatorData[annotator]),3),label)"
   ]
  },
  {
   "cell_type": "code",
   "execution_count": null,
   "metadata": {},
   "outputs": [],
   "source": [
    "from sklearn.metrics import cohen_kappa_score\n",
    "\n",
    "cohen_kappa_score([kappaData[0][tweetId] for tweetId in kappaData[0]],[kappaData[1][tweetId] for tweetId in kappaData[0]])"
   ]
  },
  {
   "cell_type": "code",
   "execution_count": null,
   "metadata": {},
   "outputs": [],
   "source": [
    "MAX = 100\n",
    "\n",
    "total = 0\n",
    "identical = 0\n",
    "for tweetId in annotatorData[mainAnnotator]:\n",
    "    for annotator in annotators:\n",
    "        if not annotator == mainAnnotator and tweetId in annotatorData[annotator]:\n",
    "            total += 1\n",
    "            if total <= MAX:\n",
    "                if annotatorData[annotator][tweetId] == annotatorData[mainAnnotator][tweetId]: identical += 1\n",
    "                else: \n",
    "                    print(tweetId,annotatorData[mainAnnotator][tweetId],annotatorData[annotator][tweetId])\n",
    "                    #print(tweets.loc[tweetId][TEXT])\n",
    "print(total,identical)"
   ]
  },
  {
   "cell_type": "code",
   "execution_count": null,
   "metadata": {},
   "outputs": [],
   "source": []
  }
 ],
 "metadata": {
  "kernelspec": {
   "display_name": "Python 3",
   "language": "python",
   "name": "python3"
  },
  "language_info": {
   "codemirror_mode": {
    "name": "ipython",
    "version": 3
   },
   "file_extension": ".py",
   "mimetype": "text/x-python",
   "name": "python",
   "nbconvert_exporter": "python",
   "pygments_lexer": "ipython3",
   "version": "3.7.3"
  }
 },
 "nbformat": 4,
 "nbformat_minor": 4
}
