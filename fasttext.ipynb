{
 "cells": [
  {
   "cell_type": "markdown",
   "metadata": {},
   "source": [
    "# Fasttext tweet classification"
   ]
  },
  {
   "cell_type": "markdown",
   "metadata": {},
   "source": [
    "## Data file creation"
   ]
  },
  {
   "cell_type": "code",
   "execution_count": 1,
   "metadata": {},
   "outputs": [],
   "source": [
    "import datetime\n",
    "import os\n",
    "import pandas as pd\n",
    "import random\n",
    "import re\n",
    "from nltk.tokenize import TweetTokenizer\n",
    "from IPython.display import clear_output"
   ]
  },
  {
   "cell_type": "code",
   "execution_count": 2,
   "metadata": {},
   "outputs": [],
   "source": [
    "DATADIR = \"../data/\"\n",
    "TOPIC = \"distance\"\n",
    "FILETWEETS = TOPIC+\"-tweets.csv\"\n",
    "FILEANNOTATIONS = FILETWEETS+\".human-labels.txt\"\n",
    "FILEFASTTEXT = \"fasttext-\"+TOPIC+\".csv\"\n",
    "LABELPREFIX = \"__label__\"\n",
    "LARGEINT = 9999999999\n",
    "LABEL = \"label\"\n",
    "TEXT = \"text\"\n",
    "USER = \"user\"\n",
    "IDSTR = \"id_str\"\n",
    "ANNOTATOR = \"erikt@xs4all.nl\""
   ]
  },
  {
   "cell_type": "code",
   "execution_count": 3,
   "metadata": {},
   "outputs": [],
   "source": [
    "tweets = pd.read_csv(DATADIR+FILETWEETS,index_col=IDSTR)\n",
    "annotations = pd.read_csv(DATADIR+FILEANNOTATIONS,header=None,sep=\" \")"
   ]
  },
  {
   "cell_type": "code",
   "execution_count": 4,
   "metadata": {},
   "outputs": [],
   "source": [
    "fasttextData = {}\n",
    "for i in range(0,len(annotations)):\n",
    "    annotator = annotations.iloc[i][0]\n",
    "    tweetId = annotations.iloc[i][2]\n",
    "    tweetLabel = annotations.iloc[i][4]\n",
    "    if annotator == ANNOTATOR and tweetId in list(tweets.index):\n",
    "        tweetLabel = annotations.iloc[i][4]\n",
    "        tweetUser = tweets.loc[tweetId][1]\n",
    "        fasttextData[tweetId] = {LABEL:LABELPREFIX+tweetLabel,\\\n",
    "                                 USER:tweetUser,\\\n",
    "                                 TEXT:\" \".join(TweetTokenizer().tokenize(tweets.loc[tweetId][TEXT]))}"
   ]
  },
  {
   "cell_type": "code",
   "execution_count": 5,
   "metadata": {},
   "outputs": [],
   "source": [
    "outFile = open(FILEFASTTEXT,\"w\")\n",
    "seenTexts = {}\n",
    "for tweetId in fasttextData:\n",
    "    if not fasttextData[tweetId][TEXT] in seenTexts:\n",
    "        print(fasttextData[tweetId][LABEL],fasttextData[tweetId][TEXT],file=outFile)\n",
    "        seenTexts[fasttextData[tweetId][TEXT]] = True\n",
    "outFile.close()"
   ]
  },
  {
   "cell_type": "code",
   "execution_count": 161,
   "metadata": {},
   "outputs": [
    {
     "name": "stdout",
     "output_type": "stream",
     "text": [
      "tweets annotated per minute: 5.5 ; 1000 tweets take: 183 minutes\n"
     ]
    }
   ],
   "source": [
    "nbrOfAnnotationMinutes = len(set([str(x)[:12] for x in annotations[1]]))\n",
    "nbrOfAnnotatedTweets = len(set([str(x)[:12] for x in annotations[2]]))\n",
    "print(\"tweets annotated per minute:\",round(nbrOfAnnotatedTweets/nbrOfAnnotationMinutes,1),\"; 1000 tweets take:\",round(1000/(nbrOfAnnotatedTweets/nbrOfAnnotationMinutes)),\"minutes\")"
   ]
  },
  {
   "cell_type": "markdown",
   "metadata": {},
   "source": [
    "## Fasttext run and evaluation"
   ]
  },
  {
   "cell_type": "code",
   "execution_count": 6,
   "metadata": {},
   "outputs": [],
   "source": [
    "import fasttext\n",
    "import random\n",
    "from IPython.display import clear_output"
   ]
  },
  {
   "cell_type": "code",
   "execution_count": 7,
   "metadata": {},
   "outputs": [],
   "source": [
    "PRETRAINEDDIR = \"/home/erikt/projects/newsgac/fasttext-runs/\"\n",
    "WIKIFILENAME = \"wiki.nl.vec\""
   ]
  },
  {
   "cell_type": "code",
   "execution_count": 8,
   "metadata": {},
   "outputs": [],
   "source": [
    "def print_results(N, p, r):\n",
    "    print(\"N\\t\" + str(N))\n",
    "    print(\"P@{}\\t{:.3f}\".format(1, p))\n",
    "    print(\"R@{}\\t{:.3f}\".format(1, r))"
   ]
  },
  {
   "cell_type": "code",
   "execution_count": 9,
   "metadata": {},
   "outputs": [],
   "source": [
    "fasttextData = []\n",
    "inFile = open(FILEFASTTEXT,\"r\")\n",
    "for line in inFile: fasttextData.append(line.strip())\n",
    "inFile.close()"
   ]
  },
  {
   "cell_type": "code",
   "execution_count": 10,
   "metadata": {},
   "outputs": [],
   "source": [
    "DIM = 300\n",
    "EPOCH = 100\n",
    "LR = 0.1\n",
    "N = 10\n",
    "TRAIN = \"TRAIN\"+str(int(random.random()*LARGEINT))\n",
    "TEST = \"TEST\"+str(int(random.random()*LARGEINT))"
   ]
  },
  {
   "cell_type": "code",
   "execution_count": 112,
   "metadata": {},
   "outputs": [],
   "source": [
    "def runFasttext(fasttextData,dim=DIM,epoch=EPOCH,lr=LR,n=N,squealFlag=True):\n",
    "    predictionCounts = []\n",
    "    predictionLabels = []\n",
    "    for fold in range(0,n):\n",
    "        if squealFlag:\n",
    "            clear_output(wait=True)\n",
    "            print(\"starting fold\",fold)\n",
    "        testStart = round(fold*len(fasttextData)/n)\n",
    "        testEnd = round((fold+1)*len(fasttextData)/n)\n",
    "        trainFile = open(TRAIN,\"w\")\n",
    "        testFile = open(TEST,\"w\")\n",
    "        testData = []\n",
    "        for i in range(0,len(fasttextData)):\n",
    "            data = fasttextData[i]\n",
    "            if i < testStart or i >= testEnd: \n",
    "                print(data,file=trainFile)\n",
    "            else: \n",
    "                print(data,file=testFile)\n",
    "                testData.append(data)\n",
    "        testFile.close()\n",
    "        trainFile.close()\n",
    "        model = fasttext.train_supervised(TRAIN,dim=dim,epoch=epoch,lr=lr)\n",
    "        predictionCounts.append([*model.test(TEST)])\n",
    "        predictionLabels.append(model.predict(testData))\n",
    "        os.unlink(TRAIN)\n",
    "        os.unlink(TEST)\n",
    "    if squealFlag:\n",
    "        clear_output(wait=True)\n",
    "        print(\"finished\")\n",
    "    return(predictionCounts,predictionLabels)"
   ]
  },
  {
   "cell_type": "code",
   "execution_count": 118,
   "metadata": {},
   "outputs": [],
   "source": [
    "def evaluate(predictionCounts):\n",
    "    caseTotal = 0\n",
    "    pTotal = 0\n",
    "    rTotal = 0\n",
    "    for i in range(0,len(predictionCounts)):\n",
    "        caseTotal += predictionCounts[i][0]\n",
    "        pTotal += predictionCounts[i][0]*predictionCounts[i][1]\n",
    "        rTotal += predictionCounts[i][0]*predictionCounts[i][2]\n",
    "    precision = round(pTotal/caseTotal,3)\n",
    "    recall = round(rTotal/caseTotal,3)\n",
    "    print(\"cases: {0}; precision: {1}; recall: {2}\".format(caseTotal,precision,recall))\n",
    "    return(precision)"
   ]
  },
  {
   "cell_type": "code",
   "execution_count": 120,
   "metadata": {},
   "outputs": [
    {
     "name": "stdout",
     "output_type": "stream",
     "text": [
      "10 10 0.05 cases: 936; precision: 0.682; recall: 0.682\n",
      "10 10 0.1 cases: 936; precision: 0.689; recall: 0.689\n",
      "10 10 0.2 cases: 936; precision: 0.717; recall: 0.717\n",
      "10 20 0.05 cases: 936; precision: 0.689; recall: 0.689\n",
      "10 20 0.1 cases: 936; precision: 0.721; recall: 0.721\n",
      "10 20 0.2 cases: 936; precision: 0.745; recall: 0.745\n",
      "10 50 0.05 cases: 936; precision: 0.738; recall: 0.738\n",
      "10 50 0.1 cases: 936; precision: 0.743; recall: 0.743\n",
      "10 50 0.2 cases: 936; precision: 0.737; recall: 0.737\n",
      "10 100 0.05 cases: 936; precision: 0.743; recall: 0.743\n",
      "10 100 0.1 cases: 936; precision: 0.736; recall: 0.736\n",
      "10 100 0.2 cases: 936; precision: 0.735; recall: 0.735\n",
      "10 200 0.05 cases: 936; precision: 0.737; recall: 0.737\n",
      "10 200 0.1 cases: 936; precision: 0.734; recall: 0.734\n",
      "10 200 0.2 cases: 936; precision: 0.737; recall: 0.737\n",
      "10 300 0.05 cases: 936; precision: 0.736; recall: 0.736\n",
      "10 300 0.1 cases: 936; precision: 0.731; recall: 0.731\n",
      "10 300 0.2 cases: 936; precision: 0.737; recall: 0.737\n",
      "20 10 0.05 cases: 936; precision: 0.682; recall: 0.682\n",
      "20 10 0.1 cases: 936; precision: 0.682; recall: 0.682\n",
      "20 10 0.2 cases: 936; precision: 0.713; recall: 0.713\n",
      "20 20 0.05 cases: 936; precision: 0.689; recall: 0.689\n",
      "20 20 0.1 cases: 936; precision: 0.718; recall: 0.718\n",
      "20 20 0.2 cases: 936; precision: 0.741; recall: 0.741\n",
      "20 50 0.05 cases: 936; precision: 0.723; recall: 0.723\n",
      "20 50 0.1 cases: 936; precision: 0.744; recall: 0.744\n",
      "20 50 0.2 cases: 936; precision: 0.738; recall: 0.738\n",
      "20 100 0.05 cases: 936; precision: 0.747; recall: 0.747\n",
      "20 100 0.1 cases: 936; precision: 0.743; recall: 0.743\n",
      "20 100 0.2 cases: 936; precision: 0.738; recall: 0.738\n",
      "20 200 0.05 cases: 936; precision: 0.738; recall: 0.738\n",
      "20 200 0.1 cases: 936; precision: 0.737; recall: 0.737\n",
      "20 200 0.2 cases: 936; precision: 0.736; recall: 0.736\n",
      "20 300 0.05 cases: 936; precision: 0.738; recall: 0.738\n",
      "20 300 0.1 cases: 936; precision: 0.738; recall: 0.738\n",
      "20 300 0.2 cases: 936; precision: 0.734; recall: 0.734\n",
      "50 10 0.05 cases: 936; precision: 0.682; recall: 0.682\n",
      "50 10 0.1 cases: 936; precision: 0.688; recall: 0.688\n",
      "50 10 0.2 cases: 936; precision: 0.71; recall: 0.71\n",
      "50 20 0.05 cases: 936; precision: 0.691; recall: 0.691\n",
      "50 20 0.1 cases: 936; precision: 0.714; recall: 0.714\n",
      "50 20 0.2 cases: 936; precision: 0.748; recall: 0.748\n",
      "50 50 0.05 cases: 936; precision: 0.725; recall: 0.725\n",
      "50 50 0.1 cases: 936; precision: 0.747; recall: 0.747\n",
      "50 50 0.2 cases: 936; precision: 0.736; recall: 0.736\n",
      "50 100 0.05 cases: 936; precision: 0.747; recall: 0.747\n",
      "50 100 0.1 cases: 936; precision: 0.738; recall: 0.738\n",
      "50 100 0.2 cases: 936; precision: 0.735; recall: 0.735\n",
      "50 200 0.05 cases: 936; precision: 0.738; recall: 0.738\n",
      "50 200 0.1 cases: 936; precision: 0.736; recall: 0.736\n",
      "50 200 0.2 cases: 936; precision: 0.735; recall: 0.735\n",
      "50 300 0.05 cases: 936; precision: 0.739; recall: 0.739\n",
      "50 300 0.1 cases: 936; precision: 0.735; recall: 0.735\n",
      "50 300 0.2 cases: 936; precision: 0.737; recall: 0.737\n",
      "100 10 0.05 cases: 936; precision: 0.682; recall: 0.682\n",
      "100 10 0.1 cases: 936; precision: 0.689; recall: 0.689\n",
      "100 10 0.2 cases: 936; precision: 0.712; recall: 0.712\n",
      "100 20 0.05 cases: 936; precision: 0.689; recall: 0.689\n",
      "100 20 0.1 cases: 936; precision: 0.715; recall: 0.715\n",
      "100 20 0.2 cases: 936; precision: 0.745; recall: 0.745\n",
      "100 50 0.05 cases: 936; precision: 0.723; recall: 0.723\n",
      "100 50 0.1 cases: 936; precision: 0.746; recall: 0.746\n",
      "100 50 0.2 cases: 936; precision: 0.737; recall: 0.737\n",
      "100 100 0.05 cases: 936; precision: 0.749; recall: 0.749\n",
      "100 100 0.1 cases: 936; precision: 0.734; recall: 0.734\n",
      "100 100 0.2 cases: 936; precision: 0.734; recall: 0.734\n",
      "100 200 0.05 cases: 936; precision: 0.74; recall: 0.74\n",
      "100 200 0.1 cases: 936; precision: 0.738; recall: 0.738\n",
      "100 200 0.2 cases: 936; precision: 0.734; recall: 0.734\n",
      "100 300 0.05 cases: 936; precision: 0.739; recall: 0.739\n",
      "100 300 0.1 cases: 936; precision: 0.735; recall: 0.735\n",
      "100 300 0.2 cases: 936; precision: 0.737; recall: 0.737\n",
      "200 10 0.05 cases: 936; precision: 0.682; recall: 0.682\n",
      "200 10 0.1 cases: 936; precision: 0.689; recall: 0.689\n",
      "200 10 0.2 cases: 936; precision: 0.703; recall: 0.703\n",
      "200 20 0.05 cases: 936; precision: 0.688; recall: 0.688\n",
      "200 20 0.1 cases: 936; precision: 0.713; recall: 0.713\n",
      "200 20 0.2 cases: 936; precision: 0.746; recall: 0.746\n",
      "200 50 0.05 cases: 936; precision: 0.722; recall: 0.722\n",
      "200 50 0.1 cases: 936; precision: 0.746; recall: 0.746\n",
      "200 50 0.2 cases: 936; precision: 0.736; recall: 0.736\n",
      "200 100 0.05 cases: 936; precision: 0.749; recall: 0.749\n",
      "200 100 0.1 cases: 936; precision: 0.738; recall: 0.738\n",
      "200 100 0.2 cases: 936; precision: 0.737; recall: 0.737\n",
      "200 200 0.05 cases: 936; precision: 0.74; recall: 0.74\n",
      "200 200 0.1 cases: 936; precision: 0.736; recall: 0.736\n",
      "200 200 0.2 cases: 936; precision: 0.734; recall: 0.734\n",
      "200 300 0.05 cases: 936; precision: 0.74; recall: 0.74\n",
      "200 300 0.1 cases: 936; precision: 0.735; recall: 0.735\n",
      "200 300 0.2 cases: 936; precision: 0.737; recall: 0.737\n",
      "300 10 0.05 cases: 936; precision: 0.682; recall: 0.682\n",
      "300 10 0.1 cases: 936; precision: 0.688; recall: 0.688\n",
      "300 10 0.2 cases: 936; precision: 0.707; recall: 0.707\n",
      "300 20 0.05 cases: 936; precision: 0.689; recall: 0.689\n",
      "300 20 0.1 cases: 936; precision: 0.708; recall: 0.708\n",
      "300 20 0.2 cases: 936; precision: 0.746; recall: 0.746\n",
      "300 50 0.05 cases: 936; precision: 0.725; recall: 0.725\n",
      "300 50 0.1 cases: 936; precision: 0.744; recall: 0.744\n",
      "300 50 0.2 cases: 936; precision: 0.736; recall: 0.736\n",
      "300 100 0.05 cases: 936; precision: 0.747; recall: 0.747\n",
      "300 100 0.1 cases: 936; precision: 0.738; recall: 0.738\n",
      "300 100 0.2 cases: 936; precision: 0.735; recall: 0.735\n",
      "300 200 0.05 cases: 936; precision: 0.739; recall: 0.739\n",
      "300 200 0.1 cases: 936; precision: 0.736; recall: 0.736\n",
      "300 200 0.2 cases: 936; precision: 0.735; recall: 0.735\n",
      "300 300 0.05 cases: 936; precision: 0.74; recall: 0.74\n",
      "300 300 0.1 cases: 936; precision: 0.736; recall: 0.736\n",
      "300 300 0.2 cases: 936; precision: 0.738; recall: 0.738\n"
     ]
    }
   ],
   "source": [
    "scores = {}\n",
    "for dim in [10,20,50,100,200,300]:\n",
    "    for epoch in [10,20,50,100,200,300]:\n",
    "        for lr in [0.05,0.1,0.2]:\n",
    "            predictionCounts,predictionLabels = runFasttext(fasttextData,dim=dim,epoch=epoch,lr=lr,squealFlag=False)\n",
    "            print(dim,epoch,lr,end=\" \")\n",
    "            key = \" \".join([str(dim),str(epoch),str(lr)])\n",
    "            scores[key] = evaluate(predictionCounts)"
   ]
  },
  {
   "cell_type": "code",
   "execution_count": 122,
   "metadata": {},
   "outputs": [
    {
     "data": {
      "text/plain": [
       "[(0.749, '100 100 0.05'),\n",
       " (0.749, '200 100 0.05'),\n",
       " (0.748, '50 20 0.2'),\n",
       " (0.747, '20 100 0.05'),\n",
       " (0.747, '50 50 0.1'),\n",
       " (0.747, '50 100 0.05'),\n",
       " (0.747, '300 100 0.05'),\n",
       " (0.746, '100 50 0.1'),\n",
       " (0.746, '200 20 0.2'),\n",
       " (0.746, '200 50 0.1')]"
      ]
     },
     "execution_count": 122,
     "metadata": {},
     "output_type": "execute_result"
    }
   ],
   "source": [
    "[(scores[k],k) for k in sorted(scores.keys(),key=lambda k:scores[k],reverse=True)][0:10]"
   ]
  },
  {
   "cell_type": "code",
   "execution_count": 133,
   "metadata": {},
   "outputs": [
    {
     "name": "stdout",
     "output_type": "stream",
     "text": [
      "finished\n"
     ]
    }
   ],
   "source": [
    "BESTDIM = 100\n",
    "BESTEPOCH = 100\n",
    "BESTLR = 0.05\n",
    "\n",
    "predictionCounts,predictionLabels = runFasttext(fasttextData,dim=BESTDIM,epoch=BESTEPOCH,lr=BESTLR)"
   ]
  },
  {
   "cell_type": "code",
   "execution_count": 134,
   "metadata": {},
   "outputs": [
    {
     "name": "stdout",
     "output_type": "stream",
     "text": [
      "cases: 936; precision: 0.748; recall: 0.748\n"
     ]
    },
    {
     "data": {
      "text/plain": [
       "0.748"
      ]
     },
     "execution_count": 134,
     "metadata": {},
     "output_type": "execute_result"
    }
   ],
   "source": [
    "evaluate(predictionCounts)"
   ]
  },
  {
   "cell_type": "code",
   "execution_count": 135,
   "metadata": {},
   "outputs": [
    {
     "data": {
      "text/plain": [
       "{'__label__REJECTS': 104, '__label__SUPPORTS': 638, '__label__IRRELEVANT': 194}"
      ]
     },
     "execution_count": 135,
     "metadata": {},
     "output_type": "execute_result"
    }
   ],
   "source": [
    "labelCountsGold = {}\n",
    "for i in range(0,len(fasttextData)):\n",
    "    label = fasttextData[i].split()[0]\n",
    "    if label in labelCountsGold: labelCountsGold[label] += 1\n",
    "    else: labelCountsGold[label] = 1\n",
    "labelCountsGold"
   ]
  },
  {
   "cell_type": "code",
   "execution_count": 136,
   "metadata": {},
   "outputs": [
    {
     "name": "stdout",
     "output_type": "stream",
     "text": [
      "baseline accuracy: 0.682\n"
     ]
    }
   ],
   "source": [
    "print(\"baseline accuracy:\",round(max(labelCountsGold.values())/sum(labelCountsGold.values()),3))"
   ]
  },
  {
   "cell_type": "code",
   "execution_count": 137,
   "metadata": {},
   "outputs": [
    {
     "data": {
      "text/plain": [
       "{'__label__IRRELEVANT': 148, '__label__REJECTS': 61, '__label__SUPPORTS': 727}"
      ]
     },
     "execution_count": 137,
     "metadata": {},
     "output_type": "execute_result"
    }
   ],
   "source": [
    "labelCountsPredicted = {}\n",
    "for i in range(0,len(predictionLabels)):\n",
    "    for label in predictionLabels[i][0]:\n",
    "        if label[0] in labelCountsPredicted: labelCountsPredicted[label[0]] += 1\n",
    "        else: labelCountsPredicted[label[0]] = 1\n",
    "labelCountsPredicted"
   ]
  },
  {
   "cell_type": "code",
   "execution_count": 138,
   "metadata": {},
   "outputs": [
    {
     "name": "stdout",
     "output_type": "stream",
     "text": [
      "total absolute deviation 178\n"
     ]
    }
   ],
   "source": [
    "print(\"total absolute deviation\",sum([abs(labelCountsPredicted[l]-labelCountsGold[l]) for l in labelCountsGold]))"
   ]
  },
  {
   "cell_type": "code",
   "execution_count": 139,
   "metadata": {},
   "outputs": [
    {
     "name": "stdout",
     "output_type": "stream",
     "text": [
      "relative deviation per label: {'__label__REJECTS': 0.413, '__label__SUPPORTS': 0.139, '__label__IRRELEVANT': 0.237}\n"
     ]
    }
   ],
   "source": [
    "print(\"relative deviation per label:\",\\\n",
    "      {l:round(abs(labelCountsPredicted[l]-labelCountsGold[l])/labelCountsGold[l],3) for l in labelCountsGold})"
   ]
  },
  {
   "cell_type": "code",
   "execution_count": 140,
   "metadata": {},
   "outputs": [
    {
     "data": {
      "text/html": [
       "<div>\n",
       "<style scoped>\n",
       "    .dataframe tbody tr th:only-of-type {\n",
       "        vertical-align: middle;\n",
       "    }\n",
       "\n",
       "    .dataframe tbody tr th {\n",
       "        vertical-align: top;\n",
       "    }\n",
       "\n",
       "    .dataframe thead th {\n",
       "        text-align: right;\n",
       "    }\n",
       "</style>\n",
       "<table border=\"1\" class=\"dataframe\">\n",
       "  <thead>\n",
       "    <tr style=\"text-align: right;\">\n",
       "      <th>col_0</th>\n",
       "      <th>__label__IRRELEVANT</th>\n",
       "      <th>__label__REJECTS</th>\n",
       "      <th>__label__SUPPORTS</th>\n",
       "    </tr>\n",
       "    <tr>\n",
       "      <th>row_0</th>\n",
       "      <th></th>\n",
       "      <th></th>\n",
       "      <th></th>\n",
       "    </tr>\n",
       "  </thead>\n",
       "  <tbody>\n",
       "    <tr>\n",
       "      <td>__label__IRRELEVANT</td>\n",
       "      <td>84</td>\n",
       "      <td>21</td>\n",
       "      <td>89</td>\n",
       "    </tr>\n",
       "    <tr>\n",
       "      <td>__label__REJECTS</td>\n",
       "      <td>28</td>\n",
       "      <td>27</td>\n",
       "      <td>49</td>\n",
       "    </tr>\n",
       "    <tr>\n",
       "      <td>__label__SUPPORTS</td>\n",
       "      <td>36</td>\n",
       "      <td>13</td>\n",
       "      <td>589</td>\n",
       "    </tr>\n",
       "  </tbody>\n",
       "</table>\n",
       "</div>"
      ],
      "text/plain": [
       "col_0                __label__IRRELEVANT  __label__REJECTS  __label__SUPPORTS\n",
       "row_0                                                                        \n",
       "__label__IRRELEVANT                   84                21                 89\n",
       "__label__REJECTS                      28                27                 49\n",
       "__label__SUPPORTS                     36                13                589"
      ]
     },
     "execution_count": 140,
     "metadata": {},
     "output_type": "execute_result"
    }
   ],
   "source": [
    "def makeConfusionMatrix(fasttextData,predictionLabels):\n",
    "    goldLabels = pd.Series([fasttextData[i].split()[0] for i in range(0,len(fasttextData))])\n",
    "    predictedLabels = pd.Series([x[0] for row in predictionLabels for x in row[0]])\n",
    "    return(pd.crosstab(goldLabels,predictedLabels))\n",
    "\n",
    "makeConfusionMatrix(fasttextData,predictionLabels)"
   ]
  },
  {
   "cell_type": "markdown",
   "metadata": {},
   "source": [
    "For the mondkapje data, fasttext predicts 63% of the labels correctly without external dictionary and 66% with a Wikipedia dictionary (baseline: 46%). It overestimates the presence of negative labels and underestimates the level of positive and neutral labels. The amount of irrelevant labels is about right"
   ]
  },
  {
   "cell_type": "code",
   "execution_count": 141,
   "metadata": {},
   "outputs": [
    {
     "data": {
      "text/plain": [
       "{'__label__REJECTS': 1.7049180327868851,\n",
       " '__label__SUPPORTS': 0.8775790921595599,\n",
       " '__label__IRRELEVANT': 1.3108108108108107}"
      ]
     },
     "execution_count": 141,
     "metadata": {},
     "output_type": "execute_result"
    }
   ],
   "source": [
    "multiplicationFactors = {}\n",
    "for label in labelCountsGold:\n",
    "    multiplicationFactors[label] = labelCountsGold[label]/labelCountsPredicted[label]\n",
    "multiplicationFactors"
   ]
  },
  {
   "cell_type": "markdown",
   "metadata": {},
   "source": [
    "The multiplication factor for the positive label is unrealistically high so we will not use these factors."
   ]
  },
  {
   "cell_type": "code",
   "execution_count": 142,
   "metadata": {},
   "outputs": [
    {
     "name": "stdout",
     "output_type": "stream",
     "text": [
      "936.0 936\n"
     ]
    }
   ],
   "source": [
    "predictedNumberOfLabels = 0\n",
    "for label in labelCountsGold:\n",
    "    predictedNumberOfLabels += multiplicationFactors[label]*labelCountsPredicted[label]\n",
    "print(predictedNumberOfLabels,sum(labelCountsGold.values()))"
   ]
  },
  {
   "cell_type": "markdown",
   "metadata": {},
   "source": [
    "## Classifying tweets"
   ]
  },
  {
   "cell_type": "code",
   "execution_count": 143,
   "metadata": {},
   "outputs": [],
   "source": [
    "import fasttext\n",
    "import matplotlib\n",
    "import os\n",
    "import pandas as pd\n",
    "import re"
   ]
  },
  {
   "cell_type": "code",
   "execution_count": 144,
   "metadata": {},
   "outputs": [],
   "source": [
    "DATADIRECTORY = \"/home/erikt/projects/puregome/data/text/\"\n",
    "LABELPREFIX = \"__label__\"\n",
    "NEGATIVE = LABELPREFIX+\"NEGATIVE\"\n",
    "POSITIVE = LABELPREFIX+\"POSITIVE\"\n",
    "NEUTRAL = LABELPREFIX+\"NEUTRAL\"\n",
    "IRRELEVANT = LABELPREFIX+\"IRRELEVANT\"\n",
    "SUPPORTS = LABELPREFIX+\"SUPPORTS\"\n",
    "REJECTS = LABELPREFIX+\"REJECTS\"\n",
    "SUPPORT = \"\"\n",
    "TEXT = \"text\"\n",
    "USER = \"user\"\n",
    "DIM = BESTDIM\n",
    "EPOCH = BESTEPOCH\n",
    "LR = BESTLR"
   ]
  },
  {
   "cell_type": "code",
   "execution_count": 145,
   "metadata": {},
   "outputs": [],
   "source": [
    "def makeGrepCommandFromQuery(query):\n",
    "    grepCommand = \"grep\"\n",
    "    for orPart in query.split(\"|\"):\n",
    "        grepCommand += ' -e \"'+orPart+'\"'\n",
    "    return(grepCommand)\n",
    "\n",
    "def readData(datePattern,query):\n",
    "    fileList = sorted(os.listdir(DATADIRECTORY))\n",
    "    tmpFileName = \"classify.\"+str(int(random.random()*LARGEINT))+\".txt\"\n",
    "    testData = []\n",
    "    for inFileName in fileList:\n",
    "        if re.search(datePattern,inFileName):\n",
    "            os.system(\"gunzip -c \"+DATADIRECTORY+inFileName+\"| head -1 >\"+tmpFileName)\n",
    "            os.system(\"gunzip -c \"+DATADIRECTORY+inFileName+\"| \"+makeGrepCommandFromQuery(query)+\" >> \"+tmpFileName)\n",
    "            try: df = pd.read_csv(tmpFileName)\n",
    "            except: continue\n",
    "            for i in range(0,len(df)):\n",
    "                if re.search(query,df.iloc[i][TEXT],flags=re.IGNORECASE):\n",
    "                    testData.append(df.iloc[i][USER]+\" \"+df.iloc[i][TEXT])\n",
    "            os.unlink(tmpFileName)\n",
    "    return(testData)\n",
    "    \n",
    "def classify(datePattern,query):\n",
    "    testData = readData(datePattern,query)\n",
    "    model = fasttext.train_supervised(FILEFASTTEXT,dim=DIM,epoch=EPOCH,lr=LR)\n",
    "    predictedLabels = model.predict(testData)\n",
    "    predictedGroups = pd.DataFrame(predictedLabels[0]).groupby(0).groups\n",
    "    labelCountsPredicted = {label:len(predictedGroups[label]) for label in predictedGroups}\n",
    "    nbrOfLabels = sum([labelCountsPredicted[label] for label in labelCountsPredicted if label != IRRELEVANT])\n",
    "    labelPercentages = { label:round(100*labelCountsPredicted[label]/nbrOfLabels,1) for label in labelCountsPredicted}\n",
    "    return(labelPercentages)"
   ]
  },
  {
   "cell_type": "code",
   "execution_count": 146,
   "metadata": {},
   "outputs": [
    {
     "name": "stdout",
     "output_type": "stream",
     "text": [
      "20200201 3.4 96.6 159.3\n",
      "20200202 5.4 94.6 210.7\n",
      "20200203 1.5 98.5 127.7\n",
      "20200204 5.2 94.8 234.5\n",
      "20200205 1.7 98.3 119.0\n",
      "20200206 1.8 98.2 129.1\n",
      "20200207 7.6 92.4 143.9\n",
      "20200208 8.2 91.8 155.7\n",
      "20200209 10.3 89.7 174.4\n",
      "20200210 9.2 90.8 141.5\n",
      "20200211 4.4 95.6 377.9\n",
      "20200212 4.8 95.2 176.2\n",
      "20200213 4.5 95.5 140.9\n",
      "20200214 8.9 91.1 216.1\n",
      "20200215 9.1 90.9 194.5\n",
      "20200216 1.5 98.5 126.9\n",
      "20200217 5.5 94.5 203.6\n",
      "20200218 10.5 89.5 115.8\n",
      "20200219 1.1 98.9 98.9\n",
      "20200220 3.2 96.8 573.0\n",
      "20200221 4.7 95.3 145.3\n",
      "20200222 11.3 88.7 148.4\n",
      "20200223 3.1 96.9 121.9\n",
      "20200224 3.6 96.4 209.6\n",
      "20200225 22.1 77.9 186.8\n",
      "20200226 1.5 98.5 86.9\n",
      "20200227 1.4 98.6 108.6\n",
      "20200228 3.8 96.2 113.3\n",
      "20200229 14.7 85.3 170.6\n",
      "20200230 error\n",
      "20200231 error\n",
      "20200301 5.7 94.3 81.3\n",
      "20200302 5.4 94.6 75.9\n",
      "20200303 6.2 93.8 74.0\n",
      "20200304 2.4 97.6 132.9\n",
      "20200305 3.8 96.2 234.6\n",
      "20200306 3.4 96.6 98.9\n",
      "20200307 3.1 96.9 130.9\n",
      "20200308 2.2 97.8 68.8\n",
      "20200309 4.7 95.3 47.4\n",
      "20200310 0.6 99.4 53.2\n",
      "20200311 2.4 97.6 54.2\n",
      "20200312 1.3 98.7 110.9\n",
      "20200313 2.3 97.7 55.5\n",
      "20200314 1.9 98.1 71.0\n",
      "20200315 6.8 93.2 29.3\n",
      "20200316 2.3 97.7 46.7\n",
      "20200317 3.2 96.8 36.1\n",
      "20200318 2.2 97.8 37.1\n",
      "20200319 3.4 96.6 49.7\n",
      "20200320 3.0 97.0 31.6\n",
      "20200321 2.5 97.5 29.1\n",
      "20200322 4.0 96.0 22.9\n",
      "20200323 7.0 93.0 46.6\n",
      "20200324 5.3 94.7 65.2\n",
      "20200325 3.7 96.3 47.5\n",
      "20200326 4.2 95.8 53.0\n",
      "20200327 3.4 96.6 73.0\n",
      "20200328 3.8 96.2 44.6\n",
      "20200329 3.3 96.7 52.0\n",
      "20200330 5.2 94.8 49.4\n",
      "20200331 4.3 95.7 56.6\n",
      "20200401 5.4 94.6 60.7\n",
      "20200402 4.6 95.4 53.1\n",
      "20200403 3.7 96.3 41.5\n",
      "20200404 4.0 96.0 54.1\n",
      "20200405 4.3 95.7 50.8\n",
      "20200406 5.4 94.6 55.1\n",
      "20200407 8.1 91.9 79.6\n",
      "20200408 5.5 94.5 59.9\n",
      "20200409 5.9 94.1 56.2\n",
      "20200410 5.4 94.6 47.8\n",
      "20200411 3.4 96.6 35.6\n",
      "20200412 5.2 94.8 48.3\n",
      "20200413 7.2 92.8 64.2\n",
      "20200414 5.6 94.4 55.8\n",
      "20200415 10.2 89.8 85.3\n",
      "20200416 12.9 87.1 107.9\n",
      "20200417 10.3 89.7 109.3\n",
      "20200418 9.4 90.6 109.6\n",
      "20200419 12.2 87.8 83.8\n",
      "20200420 11.0 89.0 70.7\n",
      "20200421 14.3 85.7 88.1\n",
      "20200422 15.1 84.9 85.7\n",
      "20200423 10.9 89.1 89.5\n",
      "20200424 11.7 88.3 100.1\n",
      "20200425 15.8 84.2 80.1\n",
      "20200426 12.1 87.9 61.5\n",
      "20200427 10.5 89.5 80.1\n",
      "20200428 14.4 85.6 86.2\n",
      "20200429 14.7 85.3 90.2\n",
      "20200430 13.8 86.2 83.6\n",
      "20200431 error\n",
      "20200501 21.9 78.1 75.3\n",
      "20200502 25.2 74.8 86.1\n",
      "20200503 14.9 85.1 93.0\n",
      "20200504 20.7 79.3 84.5\n",
      "20200505 16.1 83.9 106.7\n",
      "20200506 12.4 87.6 99.2\n",
      "20200507 16.2 83.8 70.2\n",
      "20200508 11.2 88.8 82.5\n",
      "20200509 11.8 88.2 68.0\n",
      "20200510 13.3 86.7 95.1\n",
      "20200511 10.9 89.1 93.0\n",
      "20200512 16.3 83.7 76.9\n",
      "20200513 10.3 89.7 89.6\n",
      "20200514 6.3 93.7 53.2\n",
      "20200515 15.8 84.2 69.5\n",
      "20200516 17.2 82.8 113.8\n",
      "20200517 16.8 83.2 103.7\n",
      "20200518 17.5 82.5 123.1\n",
      "20200519 15.4 84.6 108.6\n",
      "20200520 30.3 69.7 74.0\n",
      "20200521 16.4 83.6 82.7\n",
      "20200522 17.0 83.0 101.0\n",
      "20200523 17.5 82.5 87.0\n",
      "20200524 14.5 85.5 80.4\n",
      "20200525 14.9 85.1 95.7\n",
      "20200526 27.1 72.9 88.8\n",
      "20200527 20.6 79.4 113.0\n",
      "20200528 19.9 80.1 58.8\n",
      "20200529 16.2 83.8 71.8\n",
      "20200530 15.4 84.6 96.9\n",
      "20200531 21.4 78.6 71.0\n",
      "20200601 29.0 71.0 148.8\n",
      "20200602 24.7 75.3 126.0\n",
      "20200603 20.8 79.2 100.0\n",
      "20200604 25.3 74.7 130.8\n",
      "20200605 12.4 87.6 111.1\n",
      "20200606 15.3 84.7 128.9\n",
      "20200607 24.1 75.9 109.2\n",
      "20200608 25.3 74.7 100.5\n",
      "20200609 22.8 77.2 149.2\n",
      "20200610 28.7 71.3 138.0\n",
      "20200611 37.2 62.8 103.2\n",
      "20200612 18.2 81.8 121.4\n",
      "20200613 18.4 81.6 107.9\n",
      "20200614 21.2 78.8 80.1\n",
      "20200615 25.0 75.0 131.6\n",
      "20200616 19.5 80.5 128.6\n",
      "20200617 10.4 89.6 65.7\n",
      "20200618 47.5 52.5 54.2\n",
      "20200619 29.1 70.9 114.1\n",
      "20200620 25.8 74.2 151.2\n",
      "20200621 20.7 79.3 157.5\n",
      "20200622 14.1 85.9 95.4\n",
      "20200623 24.0 76.0 121.9\n",
      "20200624 18.1 81.9 97.5\n",
      "20200625 21.6 78.4 86.5\n",
      "20200626 16.4 83.6 129.6\n",
      "20200627 23.4 76.6 130.4\n",
      "20200628 27.4 72.6 116.6\n",
      "20200629 18.0 82.0 127.8\n",
      "20200630 19.0 81.0 94.9\n",
      "20200631 error\n",
      "20200701 25.2 74.8 74.1\n",
      "20200702 41.5 58.5 74.7\n",
      "20200703 20.1 79.9 95.4\n",
      "20200704 22.4 77.6 89.6\n",
      "20200705 16.0 84.0 120.1\n",
      "20200706 20.1 79.9 111.6\n",
      "20200707 29.5 70.5 108.4\n",
      "20200708 10.2 89.8 78.7\n",
      "20200709 14.4 85.6 122.7\n",
      "20200710 40.1 59.9 80.6\n",
      "20200711 21.8 78.2 82.6\n",
      "20200712 17.6 82.4 80.1\n",
      "20200713 18.2 81.8 94.4\n",
      "20200714 13.2 86.8 131.8\n",
      "20200715 8.3 91.7 107.8\n",
      "20200716 error\n",
      "20200717 error\n",
      "20200718 error\n",
      "20200719 error\n",
      "20200720 error\n",
      "20200721 error\n",
      "20200722 error\n",
      "20200723 error\n",
      "20200724 error\n",
      "20200725 error\n",
      "20200726 error\n",
      "20200727 error\n",
      "20200728 error\n",
      "20200729 error\n",
      "20200730 error\n",
      "20200731 error\n"
     ]
    }
   ],
   "source": [
    "QUERY = \"1[.,]5[ -]*m|afstand.*hou|hou.*afstand|anderhalve[ -]*meter\"\n",
    "MAXDAYSPERMONTH = 31\n",
    "\n",
    "results = {}\n",
    "for month in \"202002 202003 202004 202005 202006 202007\".split():\n",
    "    for day in range(1,MAXDAYSPERMONTH+1):\n",
    "        date = month+str(day).zfill(2)\n",
    "        try:\n",
    "            labels = classify(date,QUERY)\n",
    "            if not REJECTS in labels: labels[REJECTS] = 0\n",
    "            if not SUPPORTS in labels: labels[SUPPORTS] = 0\n",
    "            if not IRRELEVANT in labels: labels[IRRELEVANT] = 0\n",
    "            if labels[REJECTS]+labels[SUPPORTS]+labels[IRRELEVANT] > 0:\n",
    "                results[date] = labels\n",
    "            print(date,labels[REJECTS],labels[SUPPORTS],labels[IRRELEVANT])\n",
    "        except:\n",
    "            print(date,\"error\")"
   ]
  },
  {
   "cell_type": "code",
   "execution_count": 147,
   "metadata": {},
   "outputs": [],
   "source": [
    "def movingAverage(numberList,size):\n",
    "    newList = []\n",
    "    for i in range(0,len(numberList)):\n",
    "        numberUsed = 1\n",
    "        newList.append(numberList[i])\n",
    "        for j in range(1,size):\n",
    "            if i-j >= 0:\n",
    "                newList[i] += numberList[i-j]\n",
    "                numberUsed += 1\n",
    "        newList[i] /= numberUsed\n",
    "    return(newList)"
   ]
  },
  {
   "cell_type": "code",
   "execution_count": 149,
   "metadata": {},
   "outputs": [
    {
     "data": {
      "image/png": "[encoded data removed]",
      "text/plain": [
       "<Figure size 864x432 with 1 Axes>"
      ]
     },
     "metadata": {
      "needs_background": "light"
     },
     "output_type": "display_data"
    }
   ],
   "source": [
    "import matplotlib.pyplot as plt\n",
    "import matplotlib.dates as mdates\n",
    "\n",
    "DATEFORMAT = \"%Y%m%d\"\n",
    "DAYSCOMBINED = 7\n",
    "STARTDATE = \"20200315\"\n",
    "PEAKID = 101\n",
    "\n",
    "results = {k:results[k] for k in sorted(results.keys())}\n",
    "font = {\"size\":14}\n",
    "matplotlib.rc(\"font\",**font)\n",
    "fig,ax = plt.subplots(figsize=(12,6))\n",
    "x = [datetime.datetime.strptime(k,DATEFORMAT) for k in results.keys() if k >= STARTDATE ]\n",
    "y = movingAverage([results[k][SUPPORTS] for k in results.keys() if k >= STARTDATE],DAYSCOMBINED)\n",
    "plt.plot_date(x,y,fmt=\"-\",label=\"supports\")\n",
    "x = [datetime.datetime.strptime(k,DATEFORMAT) for k in results.keys() if k >= STARTDATE]\n",
    "y = movingAverage([results[k][REJECTS] for k in results.keys() if k >= STARTDATE],DAYSCOMBINED)\n",
    "plt.plot_date(x,y,fmt=\"-\",label=\"rejects\")\n",
    "plt.legend()\n",
    "plt.title(\"stance on the RIVM policy on \"+\"social distancing\"+\" (average over \"+str(DAYSCOMBINED)+\" days)\")\n",
    "plt.ylabel(\"percentage\")\n",
    "ax.xaxis.set_major_formatter(mdates.DateFormatter(\"%d/%m\"))\n",
    "plt.show()"
   ]
  },
  {
   "cell_type": "code",
   "execution_count": null,
   "metadata": {},
   "outputs": [],
   "source": []
  }
 ],
 "metadata": {
  "kernelspec": {
   "display_name": "Python 3",
   "language": "python",
   "name": "python3"
  },
  "language_info": {
   "codemirror_mode": {
    "name": "ipython",
    "version": 3
   },
   "file_extension": ".py",
   "mimetype": "text/x-python",
   "name": "python",
   "nbconvert_exporter": "python",
   "pygments_lexer": "ipython3",
   "version": "3.7.3"
  }
 },
 "nbformat": 4,
 "nbformat_minor": 4
}
