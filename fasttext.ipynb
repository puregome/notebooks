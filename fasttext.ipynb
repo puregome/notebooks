{
 "cells": [
  {
   "cell_type": "markdown",
   "metadata": {},
   "source": [
    "# Fasttext tweet classification"
   ]
  },
  {
   "cell_type": "markdown",
   "metadata": {},
   "source": [
    "## Data file creation"
   ]
  },
  {
   "cell_type": "code",
   "execution_count": 1,
   "metadata": {},
   "outputs": [
    {
     "name": "stderr",
     "output_type": "stream",
     "text": [
      "In /home/erikt/anaconda3/envs/python37/lib/python3.7/site-packages/matplotlib/mpl-data/stylelib/_classic_test.mplstyle: \n",
      "The text.latex.preview rcparam was deprecated in Matplotlib 3.3 and will be removed two minor releases later.\n",
      "In /home/erikt/anaconda3/envs/python37/lib/python3.7/site-packages/matplotlib/mpl-data/stylelib/_classic_test.mplstyle: \n",
      "The mathtext.fallback_to_cm rcparam was deprecated in Matplotlib 3.3 and will be removed two minor releases later.\n",
      "In /home/erikt/anaconda3/envs/python37/lib/python3.7/site-packages/matplotlib/mpl-data/stylelib/_classic_test.mplstyle: Support for setting the 'mathtext.fallback_to_cm' rcParam is deprecated since 3.3 and will be removed two minor releases later; use 'mathtext.fallback : 'cm' instead.\n",
      "In /home/erikt/anaconda3/envs/python37/lib/python3.7/site-packages/matplotlib/mpl-data/stylelib/_classic_test.mplstyle: \n",
      "The validate_bool_maybe_none function was deprecated in Matplotlib 3.3 and will be removed two minor releases later.\n",
      "In /home/erikt/anaconda3/envs/python37/lib/python3.7/site-packages/matplotlib/mpl-data/stylelib/_classic_test.mplstyle: \n",
      "The savefig.jpeg_quality rcparam was deprecated in Matplotlib 3.3 and will be removed two minor releases later.\n",
      "In /home/erikt/anaconda3/envs/python37/lib/python3.7/site-packages/matplotlib/mpl-data/stylelib/_classic_test.mplstyle: \n",
      "The keymap.all_axes rcparam was deprecated in Matplotlib 3.3 and will be removed two minor releases later.\n",
      "In /home/erikt/anaconda3/envs/python37/lib/python3.7/site-packages/matplotlib/mpl-data/stylelib/_classic_test.mplstyle: \n",
      "The animation.avconv_path rcparam was deprecated in Matplotlib 3.3 and will be removed two minor releases later.\n",
      "In /home/erikt/anaconda3/envs/python37/lib/python3.7/site-packages/matplotlib/mpl-data/stylelib/_classic_test.mplstyle: \n",
      "The animation.avconv_args rcparam was deprecated in Matplotlib 3.3 and will be removed two minor releases later.\n"
     ]
    }
   ],
   "source": [
    "import datetime\n",
    "import math\n",
    "import matplotlib.pyplot as plt\n",
    "import matplotlib.dates as mdates\n",
    "import numpy as np\n",
    "import os\n",
    "import pandas as pd\n",
    "import pipes\n",
    "import random\n",
    "import re\n",
    "import tempfile\n",
    "from nltk.tokenize import TweetTokenizer\n",
    "from IPython.display import clear_output"
   ]
  },
  {
   "cell_type": "code",
   "execution_count": 2,
   "metadata": {},
   "outputs": [],
   "source": [
    "DISTANCE = \"distance\"\n",
    "FACEMASK = \"mondkapje\"\n",
    "TOPIC = FACEMASK # <=======================================\n",
    "\n",
    "DATADIR = \"../data/\"\n",
    "if TOPIC == FACEMASK: FILETWEETS = TOPIC+\"-tweets+nunl.csv\"\n",
    "else: FILETWEETS = TOPIC+\"-tweets.csv\"\n",
    "FILEANNOTATIONS = FILETWEETS+\".human-labels.txt\"\n",
    "FILEFASTTEXT = \"fasttext-\"+TOPIC+\".csv\"\n",
    "LABELPREFIX = \"__label__\"\n",
    "LARGEINT = 9999999999\n",
    "LABEL = \"label\"\n",
    "TEXT = \"text\"\n",
    "USER = \"user\"\n",
    "IDSTR = \"id_str\"\n",
    "IRRELEVANT = \"IRRELEVANT\"\n",
    "NEUTRAL = \"NEUTRAL\"\n",
    "ANDERS = \"ANDERS\"\n",
    "EENS = \"EENS\"\n",
    "ONEENS = \"ONEENS\"\n",
    "SUPPORTS = \"SUPPORTS\"\n",
    "REJECTS = \"REJECTS\"\n",
    "SOURCE = \"source\""
   ]
  },
  {
   "cell_type": "code",
   "execution_count": 3,
   "metadata": {},
   "outputs": [],
   "source": [
    "tweets = pd.read_csv(DATADIR+FILETWEETS,index_col=IDSTR)\n",
    "annotations = pd.read_csv(DATADIR+FILEANNOTATIONS,header=None,sep=\" \")\n",
    "mainAnnotator = annotations.iloc[0][0]"
   ]
  },
  {
   "cell_type": "code",
   "execution_count": 4,
   "metadata": {},
   "outputs": [],
   "source": [
    "def cleanup(text):\n",
    "    text = re.sub(r\"\\\\n\",\" \",text)\n",
    "    text = re.sub(r\"https://\\S+\",\"\",text)\n",
    "    text = re.sub(r\"\\s+\",\" \",text)\n",
    "    text = text.strip()\n",
    "    return(text)\n",
    "\n",
    "def tokenize(text):\n",
    "    return(\" \".join(TweetTokenizer().tokenize(text)))\n",
    "\n",
    "def preprocess(text):\n",
    "    return(tokenize(cleanup(text)).lower())"
   ]
  },
  {
   "cell_type": "code",
   "execution_count": 5,
   "metadata": {},
   "outputs": [],
   "source": [
    "fasttextData = {}\n",
    "for i in range(0,len(annotations)):\n",
    "    annotator = annotations.iloc[i][0]\n",
    "    tweetId = annotations.iloc[i][2]\n",
    "    if annotator == mainAnnotator and tweetId in list(tweets.index):\n",
    "        tweetUser = tweets.loc[tweetId][1]\n",
    "        tweetLabel = annotations.iloc[i][4]\n",
    "        if tweetLabel == NEUTRAL: tweetLabel = IRRELEVANT\n",
    "        if tweetLabel == ANDERS: tweetLabel = IRRELEVANT\n",
    "        if tweetLabel == EENS: tweetLabel = SUPPORTS\n",
    "        if tweetLabel == ONEENS: tweetLabel = REJECTS\n",
    "        fasttextData[tweetId] = {LABEL:LABELPREFIX+tweetLabel,\\\n",
    "                                 USER:tweetUser,\\\n",
    "                                 TEXT:preprocess(tweets.loc[tweetId][TEXT])}"
   ]
  },
  {
   "cell_type": "code",
   "execution_count": 6,
   "metadata": {},
   "outputs": [
    {
     "data": {
      "text/plain": [
       "(2681, 8587, 2697)"
      ]
     },
     "execution_count": 6,
     "metadata": {},
     "output_type": "execute_result"
    }
   ],
   "source": [
    "len(fasttextData),len(tweets),len(annotations)"
   ]
  },
  {
   "cell_type": "code",
   "execution_count": 7,
   "metadata": {},
   "outputs": [],
   "source": [
    "outFile = open(FILEFASTTEXT,\"w\")\n",
    "seenTexts = {}\n",
    "for tweetId in fasttextData:\n",
    "    text = cleanup(fasttextData[tweetId][TEXT])\n",
    "    if not text in seenTexts:\n",
    "        print(fasttextData[tweetId][LABEL],text,file=outFile)\n",
    "        seenTexts[text] = True\n",
    "outFile.close()"
   ]
  },
  {
   "cell_type": "code",
   "execution_count": 8,
   "metadata": {},
   "outputs": [
    {
     "name": "stdout",
     "output_type": "stream",
     "text": [
      "tweets annotated per minute: 6.7 ; 1000 tweets take: 149 minutes\n"
     ]
    }
   ],
   "source": [
    "annotations1 = annotations[annotations[0]==mainAnnotator]\n",
    "nbrOfAnnotationMinutes = len(set([str(x)[:12] for x in annotations1[1]]))\n",
    "nbrOfAnnotatedTweets = len(set([str(x)[:12] for x in annotations1[2]]))\n",
    "print(\"tweets annotated per minute:\",round(nbrOfAnnotatedTweets/nbrOfAnnotationMinutes,1),\"; 1000 tweets take:\",\\\n",
    "      round(1000/(nbrOfAnnotatedTweets/nbrOfAnnotationMinutes)),\"minutes\")"
   ]
  },
  {
   "cell_type": "code",
   "execution_count": 9,
   "metadata": {},
   "outputs": [
    {
     "name": "stdout",
     "output_type": "stream",
     "text": [
      "tweets annotated per minute: 1.0 ; 1000 tweets take: 1000 minutes\n"
     ]
    }
   ],
   "source": [
    "annotations2 = annotations[annotations[0]!=mainAnnotator]\n",
    "nbrOfAnnotationMinutes = len(set([str(x)[:12] for x in annotations2[1]]))\n",
    "nbrOfAnnotatedTweets = len(set([str(x)[:12] for x in annotations2[2]]))\n",
    "print(\"tweets annotated per minute:\",round(nbrOfAnnotatedTweets/nbrOfAnnotationMinutes,1),\"; 1000 tweets take:\",\\\n",
    "      round(1000/(nbrOfAnnotatedTweets/nbrOfAnnotationMinutes)),\"minutes\")"
   ]
  },
  {
   "cell_type": "markdown",
   "metadata": {},
   "source": [
    "## Fasttext run and evaluation"
   ]
  },
  {
   "cell_type": "code",
   "execution_count": 10,
   "metadata": {},
   "outputs": [],
   "source": [
    "import fasttext\n",
    "import random\n",
    "from IPython.display import clear_output"
   ]
  },
  {
   "cell_type": "code",
   "execution_count": 11,
   "metadata": {},
   "outputs": [],
   "source": [
    "PRETRAINEDDIR = \"/home/erikt/projects/newsgac/fasttext-runs/\"\n",
    "WIKIFILENAME = \"wiki.nl.vec\""
   ]
  },
  {
   "cell_type": "code",
   "execution_count": 12,
   "metadata": {},
   "outputs": [],
   "source": [
    "def print_results(N, p, r):\n",
    "    print(\"N\\t\" + str(N))\n",
    "    print(\"P@{}\\t{:.3f}\".format(1, p))\n",
    "    print(\"R@{}\\t{:.3f}\".format(1, r))"
   ]
  },
  {
   "cell_type": "code",
   "execution_count": 13,
   "metadata": {},
   "outputs": [
    {
     "data": {
      "text/plain": [
       "1322"
      ]
     },
     "execution_count": 13,
     "metadata": {},
     "output_type": "execute_result"
    }
   ],
   "source": [
    "fasttextData = []\n",
    "inFile = open(FILEFASTTEXT,\"r\")\n",
    "for line in inFile: fasttextData.append(line.strip())\n",
    "inFile.close()\n",
    "len(fasttextData)"
   ]
  },
  {
   "cell_type": "code",
   "execution_count": 14,
   "metadata": {},
   "outputs": [],
   "source": [
    "DIM = 100\n",
    "EPOCH = 100\n",
    "LR = 0.05\n",
    "N = 10\n",
    "TRAIN = \"TRAIN\"+str(int(random.random()*LARGEINT))\n",
    "TEST = \"TEST\"+str(int(random.random()*LARGEINT))\n",
    "VALIDATION = \"VALIDATION\"+str(int(random.random()*LARGEINT))"
   ]
  },
  {
   "cell_type": "code",
   "execution_count": 15,
   "metadata": {},
   "outputs": [],
   "source": [
    "def ranSelect(inList,size):\n",
    "    outList = []\n",
    "    selectionList = list(inList)\n",
    "    while len(outList) < size and len(selectionList) > 0:\n",
    "        index = int(random.random()*len(selectionList))\n",
    "        outList.append(selectionList[index])\n",
    "        del(selectionList[index])\n",
    "    return(outList)"
   ]
  },
  {
   "cell_type": "code",
   "execution_count": 16,
   "metadata": {},
   "outputs": [],
   "source": [
    "def runFasttext(fasttextData,dim=DIM,epoch=EPOCH,lr=LR,n=N,squealFlag=True,maxTrain=None):\n",
    "    predictionCountsTest = []\n",
    "    predictionLabelsTest = []\n",
    "    predictionCountsValidation = []\n",
    "    predictionLabelsValidation = []\n",
    "    for fold in range(0,n):\n",
    "        if squealFlag:\n",
    "            clear_output(wait=True)\n",
    "            print(\"starting fold\",fold)\n",
    "        validationStart = round(fold*len(fasttextData)/n)\n",
    "        validationEnd = round((fold+1)*len(fasttextData)/n)\n",
    "        if fold < n-1: nextFold = fold+1\n",
    "        else: nextFold = 0\n",
    "        testStart = round(nextFold*len(fasttextData)/n)\n",
    "        testEnd = round((nextFold+1)*len(fasttextData)/n)\n",
    "        trainFile = open(TRAIN,\"w\")\n",
    "        testFile = open(TEST,\"w\")\n",
    "        validationFile = open(VALIDATION,\"w\")\n",
    "        trainData = []\n",
    "        validationData = []\n",
    "        testData = []\n",
    "        for i in range(0,len(fasttextData)):\n",
    "            data = fasttextData[i]\n",
    "            if i >= testStart and i < testEnd: \n",
    "                print(data,file=testFile)\n",
    "                testData.append(data)\n",
    "            elif i >= validationStart and i < validationEnd: \n",
    "                print(data,file=validationFile)\n",
    "                validationData.append(data)\n",
    "            else: \n",
    "                print(data,file=trainFile)\n",
    "                trainData.append(data)\n",
    "        testFile.close()\n",
    "        trainFile.close()\n",
    "        validationFile.close()\n",
    "        if not maxTrain == None and maxTrain < len(trainData):\n",
    "            trainData = ranSelect(trainData,maxTrain)\n",
    "            trainFile = open(TRAIN,\"w\")\n",
    "            for i in range(0,len(trainData)):\n",
    "                print(trainData[i],file=trainFile)\n",
    "            trainFile.close()\n",
    "        model = fasttext.train_supervised(TRAIN, dim=dim, epoch=epoch, lr=lr, pretrainedVectors=\"twiqs-model-2020.vec\")\n",
    "        predictionCountsValidation.append([*model.test(VALIDATION)])\n",
    "        predictionLabelsValidation.append(model.predict(validationData))\n",
    "        predictionCountsTest.append([*model.test(TEST)])\n",
    "        predictionLabelsTest.append(model.predict(testData))\n",
    "        print(fold, end=\" \")\n",
    "        evaluate(predictionCountsTest, predictionLabelsTest, fasttextData[testStart:testEnd])\n",
    "        os.unlink(TRAIN)\n",
    "        os.unlink(TEST)\n",
    "        os.unlink(VALIDATION)\n",
    "    if squealFlag:\n",
    "        clear_output(wait=True)\n",
    "        print(\"finished\")\n",
    "    return(predictionCountsValidation,predictionLabelsValidation,predictionCountsTest,predictionLabelsTest)"
   ]
  },
  {
   "cell_type": "code",
   "execution_count": 17,
   "metadata": {},
   "outputs": [],
   "source": [
    "def makeConfusionMatrix(fasttextData,predictionLabels):\n",
    "    goldLabels = pd.Series([fasttextData[i].split()[0] for i in range(0,len(fasttextData))])\n",
    "    predictedLabels = pd.Series([x[0] for row in predictionLabels for x in row[0]])\n",
    "    return(pd.crosstab(goldLabels,predictedLabels))"
   ]
  },
  {
   "cell_type": "code",
   "execution_count": 18,
   "metadata": {},
   "outputs": [],
   "source": [
    "def evaluate(predictionCounts,predictionLabels,fasttextData,printResults=True):\n",
    "    caseTotal = 0\n",
    "    pTotal = 0\n",
    "    rTotal = 0\n",
    "    for i in range(0,len(predictionCounts)):\n",
    "        caseTotal += predictionCounts[i][0]\n",
    "        pTotal += predictionCounts[i][0]*predictionCounts[i][1]\n",
    "        rTotal += predictionCounts[i][0]*predictionCounts[i][2]\n",
    "    precision = round(pTotal/caseTotal,3)\n",
    "    recall = round(rTotal/caseTotal,3)\n",
    "    cf = makeConfusionMatrix(fasttextData,predictionLabels)\n",
    "    for label in ['__label__REJECTS','__label__SUPPORTS','__label__IRRELEVANT']:\n",
    "        if not label in cf: cf[label] = [0 for i in range(0,len(cf))]\n",
    "    numberOfPredictedSupportLabels = sum([cf.iloc[i]['__label__SUPPORTS'] for i in range(0,len(cf))])\n",
    "    numberOfGoldSupportLabels = sum(cf.loc['__label__SUPPORTS'])\n",
    "    numberOfPredictedRejectLabels = sum([cf.iloc[i]['__label__REJECTS'] for i in range(0,len(cf))])\n",
    "    numberOfGoldRejectLabels = sum(cf.loc['__label__REJECTS'])\n",
    "    fraction = (numberOfPredictedRejectLabels/numberOfPredictedSupportLabels)/(numberOfGoldRejectLabels/numberOfGoldSupportLabels)\n",
    "    if printResults: \n",
    "        print(\"cases: {0}; precision: {1:0.3f}; recall: {2:0.3f}; fraction: {3:0.3f}\".format(caseTotal,precision,recall,fraction))\n",
    "    return((precision,fraction))"
   ]
  },
  {
   "cell_type": "markdown",
   "metadata": {},
   "source": [
    "## Grid search (skip)"
   ]
  },
  {
   "cell_type": "code",
   "execution_count": null,
   "metadata": {},
   "outputs": [],
   "source": [
    "scoresValidation = {}\n",
    "scoresTest = {}\n",
    "for dim in [10,20,50,100,200,300]:\n",
    "    for epoch in [10,20,50,100,200]:\n",
    "        for lr in [0.05,0.1,0.2]:\n",
    "            predictionCountsValidation,predictionLabelsValidation,predictionCountsTest,predictionLabelsTest = \\\n",
    "                runFasttext(fasttextData,dim=dim,epoch=epoch,lr=lr,squealFlag=False)\n",
    "            key = \",\".join([str(dim),str(epoch),str(lr)])\n",
    "            print(f\"{dim:3} {epoch:3} {lr:0.2f}\",end=\" validation: \")\n",
    "            scoresValidation[key] = evaluate(predictionCountsValidation,predictionLabelsValidation,fasttextData)\n",
    "            print(f\"{dim:3} {epoch:3} {lr:0.2f}\",end=\"       test: \")\n",
    "            scoresTest[key] = evaluate(predictionCountsTest,predictionLabelsTest,fasttextData)"
   ]
  },
  {
   "cell_type": "code",
   "execution_count": null,
   "metadata": {},
   "outputs": [],
   "source": [
    "print(\"optimizing accuracy via validation data\")\n",
    "[(scoresValidation[k],k) for k in sorted(scoresValidation.keys(),\\\n",
    "                                         key=lambda k:scoresValidation[k][0],reverse=True)][0:10]"
   ]
  },
  {
   "cell_type": "code",
   "execution_count": null,
   "metadata": {},
   "outputs": [],
   "source": [
    "print(\"checking best accuracy for test data\")\n",
    "[(scoresTest[k],k) for k in sorted(scoresTest.keys(),\\\n",
    "                                         key=lambda k:scoresTest[k][0],reverse=True)][0:10]"
   ]
  },
  {
   "cell_type": "markdown",
   "metadata": {},
   "source": [
    "Facemasks: best validation accuracy 0.56 for '20,50,0.1', associated test accuracy 0.56 (5th score).\n",
    "\n",
    "Social distancing: best validation accuracy 0.65 for '300,10,0.2', associated test accuracy 0.65 (top score)."
   ]
  },
  {
   "cell_type": "code",
   "execution_count": null,
   "metadata": {},
   "outputs": [],
   "source": [
    "print(\"optimizing fraction via validation data\")\n",
    "[(scoresValidation[k],k) for k in sorted(scoresValidation.keys(),\n",
    "                                         key=lambda k:scoresValidation[k][1],reverse=True)][0:10]"
   ]
  },
  {
   "cell_type": "code",
   "execution_count": null,
   "metadata": {},
   "outputs": [],
   "source": [
    "print(\"checking fraction for test data\")\n",
    "[(scoresTest[k],k) for k in sorted(scoresTest.keys(),\n",
    "                                         key=lambda k:scoresTest[k][1],reverse=True)][0:10]"
   ]
  },
  {
   "cell_type": "markdown",
   "metadata": {},
   "source": [
    "Facemasks: best validation ratio: 1.48 for '10,200,0.2'; associated test ratio: 1.70 (8th scsore)\n",
    "\n",
    "Social distancing: best validation ratio 0.88 for '200,200,0.2'; associated test accuracy 0.83 (top score)."
   ]
  },
  {
   "cell_type": "markdown",
   "metadata": {},
   "source": [
    "## Check relation accuracy and fraction (skip)"
   ]
  },
  {
   "cell_type": "code",
   "execution_count": null,
   "metadata": {},
   "outputs": [],
   "source": [
    "THRESHOLD = 0.62\n",
    "\n",
    "plt.figure(figsize=(6,3))\n",
    "ax1 = plt.subplot(121)\n",
    "x1 = [scoresTest[key][0] for key in scoresValidation]\n",
    "y1 = [scoresTest[key][1] for key in scoresValidation]\n",
    "ax1.scatter(x1,y1)\n",
    "ax2 = plt.subplot(122)\n",
    "x2 = [scoresTest[key][0] for key in scoresValidation if scoresTest[key][0] > THRESHOLD]\n",
    "y2 = [scoresTest[key][1] for key in scoresValidation if scoresTest[key][0] > THRESHOLD]\n",
    "ax2.scatter(x2,y2)\n",
    "plt.xlabel(\"fraction\")\n",
    "plt.ylabel(\"accuracy\")\n",
    "plt.show()"
   ]
  },
  {
   "cell_type": "code",
   "execution_count": null,
   "metadata": {},
   "outputs": [],
   "source": [
    "np.corrcoef(x1,y1)[0][1],np.corrcoef(x2,y2)[0][1]"
   ]
  },
  {
   "cell_type": "code",
   "execution_count": null,
   "metadata": {},
   "outputs": [],
   "source": [
    "N = 5\n",
    "scoresN = {} \n",
    "triplets = [(20,300,0.2),(50,200,0.2),(300,200,0.2),(20,200,0.05),(10,300,0.2)]\n",
    "\n",
    "for triplet in triplets:\n",
    "    dim,epoch,lr = triplet\n",
    "    key = \" \".join([str(dim),str(epoch),str(lr)])\n",
    "    scoresN[key] = []\n",
    "    for i in range(0,N): \n",
    "        predictionCounts,predictionLabels = runFasttext(fasttextData,dim=dim,epoch=epoch,lr=lr,squealFlag=False)\n",
    "        print(dim,epoch,lr,end=\" \")\n",
    "        scoresN[key].append(evaluate(predictionCounts,predictionLabels,fasttextData))"
   ]
  },
  {
   "cell_type": "code",
   "execution_count": null,
   "metadata": {},
   "outputs": [],
   "source": [
    "scoresNaverage = {}\n",
    "for key in scoresN: scoresNaverage[key] = round(np.average([x[1] for x in scoresN[key]]),3)\n",
    "{key:scoresNaverage[key] for key in sorted(scoresNaverage.keys(),key=lambda k:scoresNaverage[k],reverse=True)}"
   ]
  },
  {
   "cell_type": "code",
   "execution_count": null,
   "metadata": {},
   "outputs": [],
   "source": [
    "for dim in [10]:\n",
    "    for epoch in [900]:\n",
    "        for lr in [0.2]:\n",
    "            predictionCounts,predictionLabels = runFasttext(fasttextData,dim=dim,epoch=epoch,lr=lr,squealFlag=False)\n",
    "            print(dim,epoch,lr,end=\" \")\n",
    "            key = \",\".join([str(dim),str(epoch),str(lr)])\n",
    "            scores[key] = evaluate(predictionCounts,predictionLabels,fasttextData)"
   ]
  },
  {
   "cell_type": "markdown",
   "metadata": {},
   "source": [
    "## Run with best parameters (skip, except for first block)"
   ]
  },
  {
   "cell_type": "code",
   "execution_count": 19,
   "metadata": {},
   "outputs": [],
   "source": [
    "def setBestParameters():\n",
    "    if TOPIC == DISTANCE:\n",
    "        # social distancing (202008: 20,300,0.9) (202009a:20,10,0.05) (202009b:10,10,0.2) (202010:200,200,0.2) (emnlp:10,10,0.2)\n",
    "        BESTDIM = 300 # 20210304: was 200\n",
    "        BESTEPOCH = 200\n",
    "        BESTLR = 0.2\n",
    "    elif TOPIC == FACEMASK:\n",
    "        # facemasks (202008: 10,900,0.2) (202010:10,200,0.2) (emnlp:300,10,0.2)\n",
    "        BESTDIM = 10\n",
    "        BESTEPOCH = 200\n",
    "        BESTLR = 0.2\n",
    "    else:\n",
    "        print(\"unknown topic!\",file=sys.stderr)\n",
    "        sys.exit(1)\n",
    "    return(BESTDIM,BESTEPOCH,BESTLR)\n",
    "        \n",
    "BESTDIM,BESTEPOCH,BESTLR = setBestParameters()"
   ]
  },
  {
   "cell_type": "code",
   "execution_count": null,
   "metadata": {},
   "outputs": [],
   "source": [
    "predictionCountsValidation,predictionLabelsValidation,predictionCountsTest,predictionLabelsTest = \\\n",
    "    runFasttext(fasttextData, dim=BESTDIM, epoch=BESTEPOCH, lr=BESTLR, squealFlag=False)"
   ]
  },
  {
   "cell_type": "code",
   "execution_count": null,
   "metadata": {},
   "outputs": [],
   "source": [
    "evaluate(predictionCountsValidation,predictionLabelsValidation,fasttextData)\n",
    "evaluate(predictionCountsTest,predictionLabelsTest,fasttextData)"
   ]
  },
  {
   "cell_type": "code",
   "execution_count": null,
   "metadata": {},
   "outputs": [],
   "source": [
    "predictionCountsValidation,predictionLabelsValidation,predictionCountsTest,predictionLabelsTest = \\\n",
    "    runFasttext(fasttextData, dim=BESTDIM, epoch=BESTEPOCH, lr=BESTLR, squealFlag=False)"
   ]
  },
  {
   "cell_type": "code",
   "execution_count": null,
   "metadata": {},
   "outputs": [],
   "source": [
    "labelCountsGold = {}\n",
    "for i in range(0,len(fasttextData)):\n",
    "    label = fasttextData[i].split()[0]\n",
    "    if label in labelCountsGold: labelCountsGold[label] += 1\n",
    "    else: labelCountsGold[label] = 1\n",
    "labelCountsGold"
   ]
  },
  {
   "cell_type": "code",
   "execution_count": null,
   "metadata": {},
   "outputs": [],
   "source": [
    "print(\"baseline accuracy:\",round(max(labelCountsGold.values())/sum(labelCountsGold.values()),3))"
   ]
  },
  {
   "cell_type": "code",
   "execution_count": null,
   "metadata": {},
   "outputs": [],
   "source": [
    "labelCountsPredicted = {}\n",
    "for i in range(0,len(predictionLabelsTest)):\n",
    "    for label in predictionLabelsTest[i][0]:\n",
    "        if label[0] in labelCountsPredicted: labelCountsPredicted[label[0]] += 1\n",
    "        else: labelCountsPredicted[label[0]] = 1\n",
    "labelCountsPredicted"
   ]
  },
  {
   "cell_type": "code",
   "execution_count": null,
   "metadata": {},
   "outputs": [],
   "source": [
    "print(\"total absolute deviation\",sum([abs(labelCountsPredicted[l]-labelCountsGold[l]) for l in labelCountsGold]))"
   ]
  },
  {
   "cell_type": "code",
   "execution_count": null,
   "metadata": {},
   "outputs": [],
   "source": [
    "print(\"relative deviation per label:\",\\\n",
    "      {l:round(abs(labelCountsPredicted[l]-labelCountsGold[l])/labelCountsGold[l],3) for l in labelCountsGold})"
   ]
  },
  {
   "cell_type": "code",
   "execution_count": null,
   "metadata": {},
   "outputs": [],
   "source": [
    "makeConfusionMatrix(fasttextData,predictionLabelsTest)"
   ]
  },
  {
   "cell_type": "markdown",
   "metadata": {},
   "source": [
    "For the mondkapje data, fasttext predicts 63% of the labels correctly without external dictionary and 66% with a Wikipedia dictionary (baseline: 46%). It overestimates the presence of negative labels and underestimates the level of positive and neutral labels. The amount of irrelevant labels is about right"
   ]
  },
  {
   "cell_type": "code",
   "execution_count": null,
   "metadata": {},
   "outputs": [],
   "source": [
    "multiplicationFactors = {}\n",
    "for label in labelCountsGold:\n",
    "    multiplicationFactors[label] = labelCountsGold[label]/labelCountsPredicted[label]\n",
    "multiplicationFactors"
   ]
  },
  {
   "cell_type": "markdown",
   "metadata": {},
   "source": [
    "For mondkapje tweets, the multiplication factor for the positive label is unrealistically high so we will not use these factors."
   ]
  },
  {
   "cell_type": "code",
   "execution_count": null,
   "metadata": {},
   "outputs": [],
   "source": [
    "predictedNumberOfLabels = 0\n",
    "for label in labelCountsGold:\n",
    "    predictedNumberOfLabels += multiplicationFactors[label]*labelCountsPredicted[label]\n",
    "print(predictedNumberOfLabels,sum(labelCountsGold.values()))"
   ]
  },
  {
   "cell_type": "markdown",
   "metadata": {},
   "source": [
    "## Relation training data size - accuracy (skip)"
   ]
  },
  {
   "cell_type": "code",
   "execution_count": null,
   "metadata": {},
   "outputs": [],
   "source": [
    "N = 5\n",
    "expResultsAll = {}\n",
    "for trainingSize in [100,200,500,1000,2000,5000,10000]:\n",
    "    expResultsTrainingSize = []\n",
    "    for i in range(0,N):\n",
    "        selection = ranSelect(fasttextData,trainingSize)\n",
    "        predictionCountsValidation,predictionLabelsValidation,predictionCountsTest,predictionLabelsTest = \\\n",
    "            runFasttext(fasttextData,dim=BESTDIM,epoch=BESTEPOCH,lr=BESTLR,squealFlag=False,maxTrain=trainingSize)\n",
    "        expResultsTrainingSize.append(evaluate(predictionCountsTest,predictionLabelsTest,fasttextData,printResults=False))\n",
    "    average = (np.average([x[0] for x in expResultsTrainingSize]),np.average([x[1] for x in expResultsTrainingSize]))\n",
    "    expResultsAll[len(selection)] = average\n",
    "    print(\"{0:4} {1:0.3f} {2:0.3f}\".format(len(selection),average[0],average[1]))\n",
    "    if len(selection) >= len(fasttextData): break"
   ]
  },
  {
   "cell_type": "code",
   "execution_count": null,
   "metadata": {},
   "outputs": [],
   "source": [
    "del(expResultsAll[list(expResultsAll.keys())[-1]])"
   ]
  },
  {
   "cell_type": "code",
   "execution_count": null,
   "metadata": {},
   "outputs": [],
   "source": [
    "PLOTFILENAME = \"training-size.png\"\n",
    "\n",
    "plt.figure(figsize=(16,6))\n",
    "\n",
    "ax1 = plt.subplot(121)\n",
    "plt.plot(list(expResultsAll.keys()),[x[0] for x in list(expResultsAll.values())])\n",
    "plt.xscale(\"log\")\n",
    "plt.ylabel(\"accuracy\")\n",
    "plt.xlabel(\"training data size\")\n",
    "plt.title(\"Accuracy related to training size\")\n",
    "\n",
    "ax1 = plt.subplot(122)\n",
    "plt.plot(list(expResultsAll.keys()),[x[1] for x in list(expResultsAll.values())])\n",
    "plt.xscale(\"log\")\n",
    "plt.ylabel(\"fraction\")\n",
    "plt.xlabel(\"training data size\")\n",
    "plt.title(\"Fraction score related to training size\")\n",
    "plt.savefig(PLOTFILENAME)\n",
    "plt.show()"
   ]
  },
  {
   "cell_type": "markdown",
   "metadata": {},
   "source": [
    "## Classifying unlabeled tweets"
   ]
  },
  {
   "cell_type": "code",
   "execution_count": 20,
   "metadata": {},
   "outputs": [],
   "source": [
    "import fasttext\n",
    "import matplotlib\n",
    "import numpy as np\n",
    "import os\n",
    "import pandas as pd\n",
    "import re\n",
    "from nltk.tokenize import TweetTokenizer"
   ]
  },
  {
   "cell_type": "code",
   "execution_count": 21,
   "metadata": {},
   "outputs": [],
   "source": [
    "BESTDIM,BESTEPOCH,BESTLR = setBestParameters()"
   ]
  },
  {
   "cell_type": "code",
   "execution_count": 22,
   "metadata": {},
   "outputs": [],
   "source": [
    "BASEDIR = \"/home/erikt/projects/puregome/data/\"\n",
    "DATADIRECTORY = BASEDIR+\"text/\"\n",
    "DATADIRECTORYREDDIT = BASEDIR+\"reddit/text/\"\n",
    "DATADIRECTORYNUNL = BASEDIR+\"nunl/text/\"\n",
    "TWITTER = \"twitter\"\n",
    "REDDIT = \"reddit\"\n",
    "NUNL = \"nunl\"\n",
    "SOURCES = [TWITTER,REDDIT,NUNL]\n",
    "DATADIRECTORIES = {TWITTER:DATADIRECTORY,REDDIT:DATADIRECTORYREDDIT,NUNL:DATADIRECTORYNUNL}\n",
    "FILEFASTTEXT = \"fasttext-\"+TOPIC+\".csv\"\n",
    "LABELPREFIX = \"__label__\"\n",
    "NEGATIVE = LABELPREFIX+\"NEGATIVE\"\n",
    "POSITIVE = LABELPREFIX+\"POSITIVE\"\n",
    "NEUTRAL = LABELPREFIX+\"NEUTRAL\"\n",
    "IRRELEVANT = LABELPREFIX+\"IRRELEVANT\"\n",
    "SUPPORTS = LABELPREFIX+\"SUPPORTS\"\n",
    "REJECTS = LABELPREFIX+\"REJECTS\"\n",
    "TEXT = \"text\"\n",
    "USER = \"user\"\n",
    "TOTAL = \"total\"\n",
    "DIM = BESTDIM\n",
    "EPOCH = BESTEPOCH\n",
    "LR = BESTLR"
   ]
  },
  {
   "cell_type": "code",
   "execution_count": 23,
   "metadata": {},
   "outputs": [],
   "source": [
    "def cleanup(text):\n",
    "    text = re.sub(r\"\\\\n\",\" \",text)\n",
    "    text = re.sub(r\"https://\\S+\",\"\",text)\n",
    "    text = re.sub(r\"\\s+\",\" \",text)\n",
    "    text = text.strip()\n",
    "    return(text)\n",
    "\n",
    "def tokenize(text):\n",
    "    return(\" \".join(TweetTokenizer().tokenize(text)))\n",
    "\n",
    "def preprocess(text):\n",
    "    return(tokenize(cleanup(text)).lower())"
   ]
  },
  {
   "cell_type": "code",
   "execution_count": 24,
   "metadata": {},
   "outputs": [],
   "source": [
    "SCREENNAME = \"screenname\"\n",
    "\n",
    "def makeGrepCommandFromQuery(query):\n",
    "    grepCommand = \"grep\"\n",
    "    for orPart in query.split(\"|\"):\n",
    "        grepCommand += ' -e \"'+orPart+'\"'\n",
    "    return(grepCommand)\n",
    "\n",
    "def readData(datePattern,query,dataDirectory=DATADIRECTORY):\n",
    "    fileList = sorted(os.listdir(dataDirectory))\n",
    "    testData = []\n",
    "    for inFileName in fileList:\n",
    "        if re.search(datePattern,inFileName) and os.path.exists(dataDirectory+inFileName):\n",
    "            try:\n",
    "                fileData = pd.read_csv(dataDirectory+inFileName).drop_duplicates()\n",
    "                matchedText = fileData[fileData[TEXT].str.contains(query,case=False)]\n",
    "                matchedTextPreprocessed = matchedText[TEXT].apply(lambda x:preprocess(x))\n",
    "                testData.extend(list(matchedTextPreprocessed))\n",
    "            except:\n",
    "                pass\n",
    "    return(testData)\n",
    "\n",
    "def readDataGeo(datePattern,query,dataDirectory=DATADIRECTORY):\n",
    "    fileList = sorted(os.listdir(dataDirectory))\n",
    "    testData = []\n",
    "    locations = []\n",
    "    for inFileName in fileList:\n",
    "        if re.search(datePattern,inFileName) and os.path.exists(dataDirectory+inFileName):\n",
    "            try:\n",
    "                fileData = pd.read_csv(dataDirectory+inFileName).drop_duplicates()\n",
    "                matchedText = fileData[fileData[TEXT].str.contains(query,case=False)]\n",
    "                matchedTextPreprocessed = matchedText[TEXT].apply(lambda x:preprocess(x))\n",
    "                testData.extend(matchedTextPreprocessed)\n",
    "            except:\n",
    "                pass\n",
    "    return(testData)\n",
    "\n",
    "def classify(datePattern,query,model,dataDirectory=DATADIRECTORY):\n",
    "    testData = readData(datePattern,query,dataDirectory)\n",
    "    predictedLabels = model.predict(testData)\n",
    "    predictedGroups = pd.DataFrame(predictedLabels[0]).groupby(0).groups\n",
    "    labelCountsPredicted = {label:len(predictedGroups[label]) for label in predictedGroups}\n",
    "    nbrOfLabels = sum([labelCountsPredicted[label] for label in labelCountsPredicted if label != IRRELEVANT])\n",
    "    labelPercentages = { label:round(100*labelCountsPredicted[label]/nbrOfLabels,1) for label in labelCountsPredicted}\n",
    "    labelPercentages[TOTAL] = nbrOfLabels\n",
    "    return(labelPercentages)"
   ]
  },
  {
   "cell_type": "code",
   "execution_count": 25,
   "metadata": {},
   "outputs": [],
   "source": [
    "import ast\n",
    "\n",
    "\n",
    "RESULTSFILE = \"results-\"+TOPIC+\".csv\"\n",
    "\n",
    "\n",
    "def storeResults(results, results_file=RESULTSFILE):\n",
    "     pd.DataFrame(results).T.to_csv(results_file, index_label=SOURCE)\n",
    "\n",
    "        \n",
    "def readResults(results_file=RESULTSFILE):\n",
    "    try:\n",
    "        df = pd.read_csv(results_file, index_col=SOURCE)\n",
    "        for source in df.index:\n",
    "            for date in df.loc[source].index:\n",
    "                try:\n",
    "                    df.loc[source][date] = ast.literal_eval(df.loc[source][date])\n",
    "                except: pass\n",
    "        return(removeNan(df.T.to_dict()))\n",
    "    except:\n",
    "        return({})\n",
    "\n",
    "\n",
    "def combineResults(results_target, results_source):\n",
    "    for source in results_source:\n",
    "        if not source in results_target:\n",
    "            results_target[source] = {}\n",
    "        for date in results_source[source]:\n",
    "            if date in results_target[source]:\n",
    "                print(f\"duplicate date: {date}!\")\n",
    "            else:\n",
    "                results_target[source][date] = results_source[source][date]\n",
    "\n",
    "            \n",
    "def getTotals(results):\n",
    "    totals = {}\n",
    "    for source in results:\n",
    "        for date in results[source]:\n",
    "            try:\n",
    "                if not source in totals: totals[source] = 0\n",
    "                totals[source] += results[source][date][TOTAL]\n",
    "            except: pass\n",
    "    return(totals)\n",
    "\n",
    "\n",
    "def removeNan(results):\n",
    "    for source in results:\n",
    "        toBeDeleted = []\n",
    "        for date in results[source]:\n",
    "            if results[source][date] != results[source][date]:\n",
    "                toBeDeleted.append(date)\n",
    "        for date in toBeDeleted: del(results[source][date])\n",
    "    return(results)"
   ]
  },
  {
   "cell_type": "code",
   "execution_count": 31,
   "metadata": {},
   "outputs": [],
   "source": [
    "results2021 = readResults()\n",
    "results2020 = readResults(results_file=RESULTSFILE + \".20201231\")\n",
    "results = {}\n",
    "combineResults(results, results2020)\n",
    "combineResults(results, results2021)\n",
    "totals =  getTotals(results)"
   ]
  },
  {
   "cell_type": "code",
   "execution_count": 27,
   "metadata": {},
   "outputs": [],
   "source": [
    "MAXDAYSPERMONTH = 31\n",
    "MODELFILE = f\"model-{TOPIC}-{BESTDIM}-{BESTEPOCH}-{BESTLR}.bin\"\n",
    "\n",
    "if TOPIC == DISTANCE:\n",
    "    QUERY = \"1[.,]5[ -]*m|afstand.*hou|hou.*afstand|anderhalve[ -]*meter\"\n",
    "elif TOPIC == FACEMASK:\n",
    "    QUERY = TOPIC\n",
    "else:\n",
    "    print(\"unknown topic!\",file=sys.stderr)\n",
    "    sys.exit(1)\n",
    "MAXDAYSPERMONTH = 31\n",
    "\n",
    "model = fasttext.train_supervised(FILEFASTTEXT,dim=BESTDIM,epoch=BESTEPOCH,lr=BESTLR)\n",
    "model.save_model(MODELFILE)"
   ]
  },
  {
   "cell_type": "code",
   "execution_count": 28,
   "metadata": {},
   "outputs": [
    {
     "name": "stderr",
     "output_type": "stream",
     "text": [
      "Warning : `load_model` does not return WordVectorModel or SupervisedModel any more, but a `FastText` object which is very similar.\n"
     ]
    }
   ],
   "source": [
    "model = fasttext.load_model(MODELFILE)"
   ]
  },
  {
   "cell_type": "markdown",
   "metadata": {},
   "source": [
    "### Recompute results per data source (run once per month)"
   ]
  },
  {
   "cell_type": "code",
   "execution_count": 29,
   "metadata": {},
   "outputs": [
    {
     "name": "stdout",
     "output_type": "stream",
     "text": [
      "twitter 20210101 86.3 13.7 91.1 1000\n",
      "twitter 20210102 88.7 11.3 65.9 1491\n",
      "twitter 20210103 90.9 9.1 64.0 2002\n",
      "twitter 20210104 87.3 12.7 50.6 1869\n",
      "twitter 20210105 91.3 8.7 64.3 2257\n",
      "twitter 20210106 76.5 23.5 90.2 2414\n",
      "twitter 20210107 80.9 19.1 97.1 1192\n",
      "twitter 20210108 80.6 19.4 75.8 1229\n",
      "twitter 20210109 87.4 12.6 73.6 1282\n",
      "twitter 20210110 80.2 19.8 54.6 1678\n",
      "twitter 20210111 91.3 8.7 54.3 2070\n",
      "twitter 20210112 88.6 11.4 79.6 1608\n",
      "twitter 20210113 87.6 12.4 97.4 1439\n",
      "twitter 20210114 82.8 17.2 109.1 919\n",
      "twitter 20210115 85.5 14.5 73.0 1165\n",
      "twitter 20210116 82.8 17.2 79.7 1317\n",
      "twitter 20210117 70.9 29.1 97.3 1699\n",
      "twitter 20210118 80.2 19.8 74.5 1794\n",
      "twitter 20210119 77.3 22.7 85.0 1672\n",
      "twitter 20210120 88.0 12.0 88.2 1559\n",
      "twitter 20210121 90.3 9.7 96.7 1408\n",
      "twitter 20210122 90.2 9.8 90.5 1578\n",
      "twitter 20210123 87.9 12.1 88.0 1380\n",
      "twitter 20210124 71.3 28.7 61.7 1874\n",
      "twitter 20210125 73.7 26.3 93.0 1607\n",
      "twitter 20210126 90.0 10.0 79.7 1145\n",
      "twitter 20210127 89.6 10.4 109.5 787\n",
      "twitter 20210128 83.8 16.2 114.0 908\n",
      "twitter 20210129 84.7 15.3 99.6 930\n",
      "twitter 20210130 91.1 8.9 81.4 1033\n",
      "twitter 20210131 82.9 17.1 67.4 1133\n",
      "twitter 20210201 86.2 13.8 130.9 1264\n",
      "twitter 20210202 92.4 7.6 53.5 1973\n",
      "twitter 20210203 88.8 11.2 46.4 2263\n",
      "twitter 20210204 85.0 15.0 116.9 1576\n",
      "twitter 20210205 89.0 11.0 135.2 1433\n",
      "twitter 20210206 67.2 32.8 124.8 1201\n",
      "twitter 20210207 74.4 25.6 96.2 798\n",
      "twitter 20210208 87.6 12.4 85.7 996\n",
      "twitter 20210209 90.3 9.7 117.6 952\n",
      "twitter 20210210 85.2 14.8 115.9 1698\n",
      "twitter 20210211 90.1 9.9 105.6 1002\n",
      "twitter 20210212 78.3 21.7 115.6 859\n",
      "twitter 20210213 77.1 22.9 144.9 729\n",
      "twitter 20210214 88.7 11.3 105.7 912\n",
      "twitter 20210215 92.8 7.2 100.7 1522\n",
      "twitter 20210216 87.4 12.6 69.5 2394\n",
      "twitter 20210217 73.3 26.7 67.9 1194\n",
      "twitter 20210218 85.0 15.0 61.1 1436\n",
      "twitter 20210219 85.3 14.7 80.9 970\n",
      "twitter 20210220 86.3 13.7 65.2 1875\n",
      "twitter 20210221 92.9 7.1 72.4 5138\n",
      "twitter 20210222 90.7 9.3 108.0 2350\n",
      "twitter 20210223 89.5 10.5 84.1 1837\n",
      "twitter 20210224 85.2 14.8 67.9 1905\n",
      "twitter 20210225 85.3 14.7 90.2 1465\n",
      "twitter 20210226 85.6 14.4 110.1 1567\n",
      "twitter 20210227 87.6 12.4 116.0 1020\n",
      "twitter 20210228 79.3 20.7 118.2 1320\n",
      "twitter 20210229 error\n",
      "twitter 20210230 error\n",
      "twitter 20210231 error\n",
      "twitter 20210301 77.4 22.6 82.7 1759\n",
      "twitter 20210302 76.4 23.6 126.4 1355\n",
      "twitter 20210303 87.5 12.5 96.9 1244\n",
      "twitter 20210304 92.1 7.9 69.4 1797\n",
      "twitter 20210305 88.1 11.9 77.0 2077\n",
      "twitter 20210306 71.4 28.6 131.2 2059\n",
      "twitter 20210307 75.0 25.0 193.9 1633\n",
      "twitter 20210308 83.4 16.6 113.6 1443\n",
      "twitter 20210309 87.4 12.6 79.3 1528\n",
      "twitter 20210310 84.5 15.5 90.2 1102\n",
      "twitter 20210311 87.7 12.3 99.8 875\n",
      "twitter 20210312 86.5 13.5 81.8 791\n",
      "twitter 20210313 86.1 13.9 95.7 1159\n",
      "twitter 20210314 84.4 15.6 112.3 1354\n",
      "twitter 20210315 83.8 16.2 135.7 1477\n",
      "twitter 20210316 88.9 11.1 114.4 1021\n",
      "twitter 20210317 86.6 13.4 118.2 1979\n",
      "twitter 20210318 79.1 20.9 93.7 2170\n",
      "twitter 20210319 76.5 23.5 85.4 1589\n",
      "twitter 20210320 87.1 12.9 95.8 1279\n",
      "twitter 20210321 85.7 14.3 175.4 1424\n",
      "twitter 20210322 85.1 14.9 174.8 1380\n",
      "twitter 20210323 83.3 16.7 97.6 2224\n",
      "twitter 20210324 77.9 22.1 101.9 1270\n",
      "twitter 20210325 73.2 26.8 63.7 2047\n",
      "twitter 20210326 81.5 18.5 108.3 805\n",
      "twitter 20210327 78.4 21.6 164.8 1200\n",
      "twitter 20210328 84.0 16.0 137.1 1020\n",
      "twitter 20210329 89.0 11.0 135.2 2166\n",
      "twitter 20210330 84.9 15.1 120.3 1664\n",
      "twitter 20210331 80.9 19.1 76.6 2229\n",
      "total relevant found: 136208\n",
      "reddit 20210101 100.0 0 50.0 2\n",
      "reddit 20210102 0 100.0 0 1\n",
      "reddit 20210103 83.3 16.7 133.3 6\n",
      "reddit 20210104 0 100.0 100.0 1\n",
      "reddit 20210105 0 100.0 100.0 1\n",
      "reddit 20210106 0 100.0 200.0 2\n",
      "reddit 20210107 60.0 40.0 80.0 5\n",
      "reddit 20210108 100.0 0 200.0 1\n",
      "reddit 20210109 50.0 50.0 200.0 2\n",
      "reddit 20210110 66.7 33.3 0 3\n",
      "reddit 20210111 100.0 0 200.0 3\n",
      "reddit 20210112 60.0 40.0 100.0 5\n",
      "reddit 20210113 76.9 23.1 61.5 13\n",
      "reddit 20210114 60.0 40.0 100.0 5\n",
      "reddit 20210115 60.0 40.0 120.0 5\n",
      "reddit 20210116 error\n",
      "reddit 20210117 75.0 25.0 100.0 4\n",
      "reddit 20210118 error\n",
      "reddit 20210119 60.0 40.0 160.0 5\n",
      "reddit 20210120 75.0 25.0 200.0 4\n",
      "reddit 20210121 83.3 16.7 83.3 12\n",
      "reddit 20210122 0 100.0 33.3 3\n",
      "reddit 20210123 50.0 50.0 100.0 2\n",
      "reddit 20210124 50.0 50.0 125.0 4\n",
      "reddit 20210125 60.0 40.0 140.0 5\n",
      "reddit 20210126 100.0 0 200.0 1\n",
      "reddit 20210127 100.0 0 133.3 3\n",
      "reddit 20210128 50.0 50.0 100.0 2\n",
      "reddit 20210129 0 100.0 100.0 1\n",
      "reddit 20210130 100.0 0 0 1\n",
      "reddit 20210131 0 100.0 200.0 1\n",
      "reddit 20210201 100.0 0 600.0 1\n",
      "reddit 20210202 100.0 0 150.0 2\n",
      "reddit 20210203 0 100.0 50.0 2\n",
      "reddit 20210204 50.0 50.0 100.0 4\n",
      "reddit 20210205 33.3 66.7 33.3 3\n",
      "reddit 20210206 error\n",
      "reddit 20210207 error\n",
      "reddit 20210208 100.0 0 400.0 1\n",
      "reddit 20210209 0 100.0 100.0 1\n",
      "reddit 20210210 100.0 0 200.0 1\n",
      "reddit 20210211 87.5 12.5 62.5 8\n",
      "reddit 20210212 50.0 50.0 300.0 2\n",
      "reddit 20210213 100.0 0 150.0 2\n",
      "reddit 20210214 100.0 0 100.0 2\n",
      "reddit 20210215 0 100.0 400.0 1\n",
      "reddit 20210216 72.7 27.3 81.8 11\n",
      "reddit 20210217 0 100.0 300.0 1\n",
      "reddit 20210218 100.0 0 200.0 2\n",
      "reddit 20210219 100.0 0 300.0 1\n",
      "reddit 20210220 100.0 0 116.7 6\n",
      "reddit 20210221 100.0 0 600.0 2\n",
      "reddit 20210222 100.0 0 200.0 7\n",
      "reddit 20210223 42.9 57.1 100.0 7\n",
      "reddit 20210224 50.0 50.0 300.0 2\n",
      "reddit 20210225 100.0 0 250.0 2\n",
      "reddit 20210226 100.0 0 66.7 3\n",
      "reddit 20210227 0 100.0 0 1\n",
      "reddit 20210228 100.0 0 100.0 1\n",
      "reddit 20210229 error\n",
      "reddit 20210230 error\n",
      "reddit 20210231 error\n",
      "reddit 20210301 100.0 0 100.0 1\n",
      "reddit 20210302 66.7 33.3 133.3 3\n",
      "reddit 20210303 100.0 0 100.0 2\n",
      "reddit 20210304 50.0 50.0 250.0 2\n",
      "reddit 20210305 100.0 0 300.0 1\n",
      "reddit 20210306 100.0 0 0 1\n",
      "reddit 20210307 100.0 0 100.0 3\n",
      "reddit 20210308 88.9 11.1 100.0 9\n",
      "reddit 20210309 error\n",
      "reddit 20210310 85.7 14.3 100.0 7\n",
      "reddit 20210311 100.0 0 133.3 3\n",
      "reddit 20210312 error\n",
      "reddit 20210313 error\n",
      "reddit 20210314 100.0 0 600.0 1\n",
      "reddit 20210315 83.3 16.7 33.3 6\n",
      "reddit 20210316 error\n",
      "reddit 20210317 100.0 0 100.0 1\n",
      "reddit 20210318 66.7 33.3 100.0 3\n",
      "reddit 20210319 100.0 0 0 1\n",
      "reddit 20210320 100.0 0 250.0 4\n",
      "reddit 20210321 75.0 25.0 175.0 4\n",
      "reddit 20210322 33.3 66.7 116.7 6\n",
      "reddit 20210323 100.0 0 200.0 3\n",
      "reddit 20210324 error\n",
      "reddit 20210325 100.0 0 120.0 5\n",
      "reddit 20210326 100.0 0 233.3 3\n",
      "reddit 20210327 100.0 0 300.0 1\n",
      "reddit 20210328 100.0 0 500.0 1\n",
      "reddit 20210329 71.4 28.6 128.6 7\n",
      "reddit 20210330 100.0 0 25.0 12\n",
      "reddit 20210331 40.0 60.0 40.0 5\n",
      "total relevant found: 274\n",
      "nunl 20210101 52.9 47.1 76.5 17\n",
      "nunl 20210102 68.2 31.8 59.1 22\n",
      "nunl 20210103 61.1 38.9 77.8 18\n",
      "nunl 20210104 68.3 31.7 119.5 41\n",
      "nunl 20210105 69.6 30.4 135.7 56\n",
      "nunl 20210106 70.9 29.1 67.5 203\n",
      "nunl 20210107 75.9 24.1 77.2 79\n",
      "nunl 20210108 73.5 26.5 73.5 34\n",
      "nunl 20210109 42.9 57.1 100.0 7\n",
      "nunl 20210110 73.2 26.8 68.3 41\n",
      "nunl 20210111 63.6 36.4 93.9 66\n",
      "nunl 20210112 71.6 28.4 111.9 67\n",
      "nunl 20210113 82.4 17.6 68.6 51\n",
      "nunl 20210114 71.4 28.6 71.4 49\n",
      "nunl 20210115 73.8 26.2 66.7 42\n",
      "nunl 20210116 65.0 35.0 155.0 20\n",
      "nunl 20210117 61.9 38.1 96.8 63\n",
      "nunl 20210118 71.3 28.7 83.9 87\n",
      "nunl 20210119 75.5 24.5 81.9 94\n",
      "nunl 20210120 76.1 23.9 122.5 71\n",
      "nunl 20210121 82.7 17.3 105.8 52\n",
      "nunl 20210122 71.4 28.6 80.0 35\n",
      "nunl 20210123 72.9 27.1 85.4 48\n",
      "nunl 20210124 60.8 39.2 102.7 74\n",
      "nunl 20210125 84.2 15.8 119.3 57\n",
      "nunl 20210126 87.0 13.0 91.3 23\n",
      "nunl 20210127 88.9 11.1 188.9 9\n",
      "nunl 20210128 73.1 26.9 150.0 26\n",
      "nunl 20210129 81.8 18.2 140.9 22\n",
      "nunl 20210130 75.8 24.2 84.8 33\n",
      "nunl 20210131 63.8 36.2 78.7 47\n",
      "nunl 20210201 71.4 28.6 103.2 63\n",
      "nunl 20210202 74.4 25.6 137.2 43\n",
      "nunl 20210203 71.0 29.0 94.2 155\n",
      "nunl 20210204 74.4 25.6 110.3 39\n",
      "nunl 20210205 66.7 33.3 70.8 24\n",
      "nunl 20210206 62.5 37.5 118.8 16\n",
      "nunl 20210207 78.6 21.4 121.4 14\n",
      "nunl 20210208 75.0 25.0 91.7 24\n",
      "nunl 20210209 72.1 27.9 90.2 61\n",
      "nunl 20210210 62.5 37.5 68.8 16\n",
      "nunl 20210211 65.7 34.3 102.9 35\n",
      "nunl 20210212 77.8 22.2 111.1 9\n",
      "nunl 20210213 100.0 0 83.3 12\n",
      "nunl 20210214 66.7 33.3 200.0 6\n",
      "nunl 20210215 88.9 11.1 77.8 9\n",
      "nunl 20210216 73.5 26.5 86.7 113\n",
      "nunl 20210217 77.2 22.8 56.1 57\n",
      "nunl 20210218 75.9 24.1 68.5 54\n",
      "nunl 20210219 72.4 27.6 113.8 29\n",
      "nunl 20210220 71.4 28.6 82.1 28\n",
      "nunl 20210221 67.4 32.6 114.0 43\n",
      "nunl 20210222 67.6 32.4 86.5 37\n",
      "nunl 20210223 78.5 21.5 133.8 65\n",
      "nunl 20210224 76.9 23.1 96.2 26\n",
      "nunl 20210225 64.4 35.6 115.6 45\n",
      "nunl 20210226 76.8 23.2 91.1 112\n",
      "nunl 20210227 80.0 20.0 220.0 5\n",
      "nunl 20210228 100.0 0 160.0 5\n",
      "nunl 20210229 error\n",
      "nunl 20210230 error\n",
      "nunl 20210231 error\n",
      "nunl 20210301 74.1 25.9 96.3 27\n",
      "nunl 20210302 75.9 24.1 72.4 29\n",
      "nunl 20210303 80.0 20.0 83.6 55\n",
      "nunl 20210304 82.4 17.6 88.2 34\n",
      "nunl 20210305 73.1 26.9 134.6 26\n",
      "nunl 20210306 68.2 31.8 81.8 22\n",
      "nunl 20210307 77.8 22.2 69.4 36\n",
      "nunl 20210308 75.0 25.0 95.5 44\n",
      "nunl 20210309 68.8 31.2 131.2 16\n",
      "nunl 20210310 70.2 29.8 47.4 57\n",
      "nunl 20210311 66.7 33.3 77.8 18\n",
      "nunl 20210312 82.4 17.6 47.1 17\n",
      "nunl 20210313 83.3 16.7 133.3 6\n",
      "nunl 20210314 75.5 24.5 51.0 49\n",
      "nunl 20210315 82.4 17.6 79.4 34\n",
      "nunl 20210316 72.7 27.3 59.1 22\n",
      "nunl 20210317 71.4 28.6 114.3 7\n",
      "nunl 20210318 66.7 33.3 66.7 3\n",
      "nunl 20210319 85.7 14.3 150.0 14\n",
      "nunl 20210320 62.3 37.7 66.7 69\n",
      "nunl 20210321 68.5 31.5 113.0 54\n",
      "nunl 20210322 75.5 24.5 71.4 49\n",
      "nunl 20210323 66.7 33.3 71.0 69\n",
      "nunl 20210324 64.6 35.4 93.9 82\n",
      "nunl 20210325 66.7 33.3 90.9 66\n",
      "nunl 20210326 100.0 0 100.0 3\n",
      "nunl 20210327 88.9 11.1 88.9 9\n",
      "nunl 20210328 84.6 15.4 84.6 13\n",
      "nunl 20210329 68.2 31.8 59.1 22\n",
      "nunl 20210330 70.4 29.6 70.4 27\n",
      "nunl 20210331 80.6 19.4 90.3 31\n",
      "total relevant found: 3709\n"
     ]
    }
   ],
   "source": [
    "results = {}\n",
    "totals = {}\n",
    "for source in SOURCES:\n",
    "    dataDirectory = DATADIRECTORIES[source]\n",
    "    total = 0\n",
    "    results[source] = {}\n",
    "    for month in \"202101 202102 202103\".split():\n",
    "        for day in range(1,MAXDAYSPERMONTH+1):\n",
    "            date = month+str(day).zfill(2)\n",
    "            try:\n",
    "                labels = classify(date,QUERY,model,dataDirectory=dataDirectory)\n",
    "                if not REJECTS in labels: labels[REJECTS] = 0\n",
    "                if not SUPPORTS in labels: labels[SUPPORTS] = 0\n",
    "                if not IRRELEVANT in labels: labels[IRRELEVANT] = 0\n",
    "                if labels[REJECTS]+labels[SUPPORTS]+labels[IRRELEVANT] > 0:\n",
    "                    results[source][date] = labels\n",
    "                    print(source,date,labels[REJECTS],labels[SUPPORTS],labels[IRRELEVANT],labels[TOTAL])\n",
    "                    total += labels[TOTAL]\n",
    "            except:\n",
    "                print(source,date,\"error\")\n",
    "    totals[source] = total\n",
    "    print(\"total relevant found:\",total)"
   ]
  },
  {
   "cell_type": "code",
   "execution_count": 30,
   "metadata": {},
   "outputs": [],
   "source": [
    "storeResults(results)"
   ]
  },
  {
   "cell_type": "markdown",
   "metadata": {},
   "source": [
    "## Continue here..."
   ]
  },
  {
   "cell_type": "code",
   "execution_count": 32,
   "metadata": {},
   "outputs": [
    {
     "data": {
      "text/plain": [
       "{'twitter': 956214, 'reddit': 2446, 'nunl': 43812}"
      ]
     },
     "execution_count": 32,
     "metadata": {},
     "output_type": "execute_result"
    }
   ],
   "source": [
    "totals"
   ]
  },
  {
   "cell_type": "code",
   "execution_count": 33,
   "metadata": {},
   "outputs": [
    {
     "name": "stdout",
     "output_type": "stream",
     "text": [
      "twitter {'__label__IRRELEVANT': 771093, '__label__REJECTS': 807670, '__label__SUPPORTS': 148542, 'total': 956214}\n",
      "reddit {'__label__IRRELEVANT': 2168, '__label__REJECTS': 1779, '__label__SUPPORTS': 667, 'total': 2446}\n",
      "nunl {'__label__IRRELEVANT': 27364, '__label__REJECTS': 31795, '__label__SUPPORTS': 12017, 'total': 43812}\n"
     ]
    }
   ],
   "source": [
    "for platform in \"twitter reddit nunl\".split():\n",
    "    counts = {}\n",
    "    for date in results[platform]:\n",
    "        try:\n",
    "            if TOTAL in results[platform][date] and results[platform][date][TOTAL] > 0:\n",
    "                for label in results[platform][date].keys():\n",
    "                    if not label in counts: counts[label] = 0\n",
    "                    if label == TOTAL: counts[label] += results[platform][date][label]\n",
    "                    else: counts[label] += round(results[platform][date][TOTAL]*results[platform][date][label]/100.0)\n",
    "        except: pass\n",
    "    print(platform,counts)"
   ]
  },
  {
   "cell_type": "markdown",
   "metadata": {},
   "source": [
    "Social distancing:\n",
    "```\n",
    "twitter {'__label__IRRELEVANT': 310420, '__label__REJECTS': 277596, '__label__SUPPORTS': 725624, 'total': 1003220}\n",
    "reddit {'__label__SUPPORTS': 2585, 'total': 3821, '__label__REJECTS': 1236, '__label__IRRELEVANT': 449}\n",
    "nunl {'__label__SUPPORTS': 40032, 'total': 53345, '__label__REJECTS': 13313, '__label__IRRELEVANT': 7647}\n",
    "```\n",
    "Face masks:\n",
    "```\n",
    "twitter {'__label__IRRELEVANT': 771093, '__label__REJECTS': 807670, '__label__SUPPORTS': 148542, 'total': 956214}\n",
    "reddit {'__label__IRRELEVANT': 2168, '__label__REJECTS': 1779, '__label__SUPPORTS': 667, 'total': 2446}\n",
    "nunl {'__label__IRRELEVANT': 27364, '__label__REJECTS': 31795, '__label__SUPPORTS': 12017, 'total': 43812}\n",
    "```"
   ]
  },
  {
   "cell_type": "code",
   "execution_count": 34,
   "metadata": {},
   "outputs": [
    {
     "data": {
      "text/plain": [
       "{'twitter': 263766, 'reddit': 615, 'nunl': 7082}"
      ]
     },
     "execution_count": 34,
     "metadata": {},
     "output_type": "execute_result"
    }
   ],
   "source": [
    "df = pd.read_csv(RESULTSFILE,index_col=\"source\").T\n",
    "totalsIncludingIrrelevant = {source:0 for source in [TWITTER,REDDIT,NUNL]}\n",
    "for i in range(0,len(df)):\n",
    "    for source in [TWITTER,REDDIT,NUNL]:\n",
    "        try:\n",
    "            dictionary = ast.literal_eval(df.iloc[i][source])\n",
    "        except:\n",
    "            dictionary = {TOTAL:0}\n",
    "        if dictionary[TOTAL] > 0:\n",
    "            totalsIncludingIrrelevant[source] += round((1+dictionary[IRRELEVANT]/100)*dictionary[TOTAL])\n",
    "totalsIncludingIrrelevant"
   ]
  },
  {
   "cell_type": "markdown",
   "metadata": {},
   "source": [
    "## Visualization over time"
   ]
  },
  {
   "cell_type": "code",
   "execution_count": 35,
   "metadata": {},
   "outputs": [],
   "source": [
    "import datetime\n",
    "import matplotlib\n",
    "import matplotlib.pyplot as plt\n",
    "import matplotlib.dates as mdates\n",
    "from pandas.plotting import register_matplotlib_converters\n",
    "register_matplotlib_converters()"
   ]
  },
  {
   "cell_type": "code",
   "execution_count": 36,
   "metadata": {},
   "outputs": [],
   "source": [
    "def movingAverage(numberList,size):\n",
    "    newList = []\n",
    "    start_offset = int(size/2)\n",
    "    for i in range(0,len(numberList)):\n",
    "        newList.append(numberList[i])\n",
    "        numbersUsed = 1\n",
    "        for j in range(-start_offset,size-start_offset):\n",
    "            if i+j >= 0 and i+j < len(numberList) and i+j != i:\n",
    "                newList[i] += numberList[i+j]\n",
    "                numbersUsed += 1\n",
    "        newList[i] /= numbersUsed\n",
    "    return(newList)"
   ]
  },
  {
   "cell_type": "code",
   "execution_count": 37,
   "metadata": {},
   "outputs": [],
   "source": [
    "def pretty_number(number):\n",
    "    digits = str(number)\n",
    "    pretty_digits = \"\"\n",
    "    for i in range(0,len(digits)):\n",
    "        if i > 0 and i % 3 == 0: pretty_digits = \",\"+pretty_digits\n",
    "        pretty_digits = digits[-1-i]+pretty_digits\n",
    "    return(pretty_digits)"
   ]
  },
  {
   "cell_type": "code",
   "execution_count": 38,
   "metadata": {},
   "outputs": [
    {
     "data": {
      "image/png": "[encoded data removed]",
      "text/plain": [
       "<Figure size 864x432 with 1 Axes>"
      ]
     },
     "metadata": {
      "needs_background": "light"
     },
     "output_type": "display_data"
    }
   ],
   "source": [
    "DATEFORMAT = \"%Y%m%d\"\n",
    "DAYSCOMBINED = 30\n",
    "EXTRASMOOTHDAYS = 7\n",
    "STARTDATE = \"20200310\"\n",
    "LABELS = {TWITTER: f\"Twitter ({pretty_number(totals[TWITTER])})\",\\\n",
    "          NUNL: f\"Nu.nl ({pretty_number(totals[NUNL])})\",\\\n",
    "          REDDIT: f\"Reddit ({pretty_number(totals[REDDIT])})\"}\n",
    "if TOPIC == DISTANCE:\n",
    "    PLOTFILENAME = \"social-distancing-all.png\"\n",
    "elif TOPIC == FACEMASK:\n",
    "    PLOTFILENAME = \"mondkapje-all.png\"\n",
    "else:\n",
    "    print(\"unknown topic!\",file=sys.stderr)\n",
    "    sys.exit(1)\n",
    "\n",
    "x = {}\n",
    "ySupports = {}\n",
    "plt.subplots(figsize=(12,6))\n",
    "font = {\"size\":16}\n",
    "matplotlib.rc(\"font\",**font)\n",
    "ax = plt.subplot(111)\n",
    "for source in [REDDIT,NUNL,TWITTER]:\n",
    "    x[source] = [datetime.datetime.strptime(k,DATEFORMAT) for k in results[source].keys()]\n",
    "    ySupports[source] = movingAverage(movingAverage([results[source][k][SUPPORTS] for k in results[source].keys()],DAYSCOMBINED),EXTRASMOOTHDAYS)\n",
    "    xPart = [x[source][i] for i in range(0,len(x[source])) if x[source][i] >= datetime.datetime.strptime(STARTDATE,DATEFORMAT)] \n",
    "    ySupportsPart = [ySupports[source][i] for i in range(0,len(x[source])) if x[source][i] >= datetime.datetime.strptime(STARTDATE,DATEFORMAT)] \n",
    "    plt.plot_date(xPart,ySupportsPart,fmt=\"-\",label=LABELS[source])\n",
    "plt.legend(framealpha=0.3,loc=\"lower right\")\n",
    "plt.ylabel(\"percentage\")\n",
    "plt.xlabel(\"day/month\")\n",
    "if TOPIC == FACEMASK:\n",
    "    plt.title(\"Support for general public not wearing face masks per medium over time\")\n",
    "elif TOPIC == DISTANCE:\n",
    "    plt.title(\"Support for social distancing per medium over time (average over \"+str(DAYSCOMBINED)+\" days)\")\n",
    "else:\n",
    "    print(\"unknown topic!\",file=sys.stderr)\n",
    "    sys.exit(1)    \n",
    "ax.xaxis.set_major_formatter(mdates.DateFormatter(\"%-d/%-m\"))\n",
    "plt.savefig(PLOTFILENAME)\n",
    "plt.show()"
   ]
  },
  {
   "cell_type": "markdown",
   "metadata": {},
   "source": [
    "## Do not run any further code"
   ]
  },
  {
   "cell_type": "code",
   "execution_count": null,
   "metadata": {},
   "outputs": [],
   "source": [
    "ANNOTATED = \"annotated\"\n",
    "ANNOTATEDFILE = \"manual-annotation.csv\"\n",
    "DATE = \"date\"\n",
    "EENS = \"EENS\"\n",
    "ONEENS = \"ONEENS\"\n",
    "ANDERS = \"ANDERS\"\n",
    "TOTAL = \"total\""
   ]
  },
  {
   "cell_type": "code",
   "execution_count": null,
   "metadata": {},
   "outputs": [],
   "source": [
    "df = pd.read_csv(ANNOTATEDFILE,index_col=DATE,dtype={EENS:\"float\",ONEENS:\"float\",ANDERS:\"float\"})\n",
    "totals = []\n",
    "for i in range(0,len(df)):\n",
    "    total = df.iloc[i][EENS]+df.iloc[i][ONEENS]+df.iloc[i][ANDERS]\n",
    "    if df.iloc[i][EENS]+df.iloc[i][ONEENS] > 0:\n",
    "        df.iloc[i][EENS] = 100*df.iloc[i][EENS]/(total-df.iloc[i][ANDERS])\n",
    "        df.iloc[i][ONEENS] = 100*df.iloc[i][ONEENS]/(total-df.iloc[i][ANDERS])\n",
    "        df.iloc[i][ANDERS] = 100*df.iloc[i][ANDERS]/(total-df.iloc[i][ANDERS])\n",
    "    else: \n",
    "        df.iloc[i][ANDERS] = 100\n",
    "    totals.append(total)\n",
    "df[TOTAL] = totals\n",
    "annotatedDict = df.T.to_dict(orient=\"dict\")\n",
    "annotatedDict = {d:annotatedDict[d] for d in sorted(annotatedDict.keys())}\n",
    "results[ANNOTATED] = annotatedDict"
   ]
  },
  {
   "cell_type": "code",
   "execution_count": null,
   "metadata": {},
   "outputs": [],
   "source": [
    "PLOTFILEANNOTATED = \"manual-annotation.png\"\n",
    "\n",
    "x = {}\n",
    "ySupports = {}\n",
    "plt.subplots(figsize=(12,6))\n",
    "font = {\"size\":12}\n",
    "matplotlib.rc(\"font\",**font)\n",
    "ax = plt.subplot(111)\n",
    "for source in [TWITTER]:\n",
    "    x[source] = [datetime.datetime.strptime(k,DATEFORMAT) for k in results[source].keys()]\n",
    "    ySupports[source] = movingAverage([results[source][k][SUPPORTS] for k in results[source].keys()],DAYSCOMBINED)\n",
    "    xPart = [x[source][i] for i in range(0,len(x[source])) if x[source][i] >= datetime.datetime.strptime(STARTDATE,DATEFORMAT)] \n",
    "    ySupportsPart = [ySupports[source][i] for i in range(0,len(x[source])) if x[source][i] >= datetime.datetime.strptime(STARTDATE,DATEFORMAT)] \n",
    "    plt.plot_date(xPart,ySupportsPart,fmt=\"-\",label=\"predicted\")\n",
    "for source in [ANNOTATED]:\n",
    "    x[source] = [datetime.datetime.strptime(str(k),DATEFORMAT) for k in results[source].keys()]\n",
    "    ySupports[source] = movingAverage([results[source][k][EENS] for k in results[source].keys()],DAYSCOMBINED)\n",
    "    xPart = [x[source][i] for i in range(0,len(x[source])) if x[source][i] >= datetime.datetime.strptime(STARTDATE,DATEFORMAT)] \n",
    "    ySupportsPart = [ySupports[source][i] for i in range(0,len(x[source])) if x[source][i] >= datetime.datetime.strptime(STARTDATE,DATEFORMAT)] \n",
    "    plt.plot_date(xPart,ySupportsPart,fmt=\"-\",label=ANNOTATED)\n",
    "plt.title(\"Support for social distancing per medium over time (average over \"+str(DAYSCOMBINED)+\" days)\")\n",
    "plt.legend()\n",
    "plt.savefig(PLOTFILEANNOTATED)\n",
    "plt.show()"
   ]
  },
  {
   "cell_type": "code",
   "execution_count": null,
   "metadata": {},
   "outputs": [],
   "source": [
    "annotatedValues = []\n",
    "twitterValues = []\n",
    "\n",
    "for i in range(0,len(x[TWITTER])):\n",
    "    date = x[TWITTER][i]\n",
    "    if date >= datetime.datetime.strptime(\"20200310\",DATEFORMAT):\n",
    "        for j in range(0,len(x[ANNOTATED])):\n",
    "            if x[ANNOTATED][j] == date:\n",
    "                twitterValues.append(ySupports[TWITTER][i])\n",
    "                annotatedValues.append(ySupports[ANNOTATED][j])\n",
    "np.corrcoef(annotatedValues,twitterValues)[1][0]"
   ]
  },
  {
   "cell_type": "code",
   "execution_count": null,
   "metadata": {},
   "outputs": [],
   "source": [
    "PLOTFILENAME = \"plot.png\"\n",
    "\n",
    "plt.figure()\n",
    "plt.scatter(annotatedValues,twitterValues)\n",
    "plt.ylabel(\"Predicted support percentages\")\n",
    "plt.xlabel(\"Annotated support percentages\")\n",
    "plt.title(\"Annotated and predicted support for social distancing\")\n",
    "plt.savefig(PLOTFILENAME)\n",
    "plt.show()"
   ]
  },
  {
   "cell_type": "code",
   "execution_count": null,
   "metadata": {},
   "outputs": [],
   "source": [
    "allResults = results\n",
    "results = results[TWITTER]\n",
    "\n",
    "x = [datetime.datetime.strptime(k,DATEFORMAT) for k in results.keys()]\n",
    "ySupports = movingAverage([results[k][SUPPORTS] for k in results.keys()],DAYSCOMBINED)\n",
    "yRejects = movingAverage([results[k][REJECTS] for k in results.keys()],DAYSCOMBINED)\n",
    "yIrrelevant = movingAverage([results[k][IRRELEVANT] for k in results.keys()],DAYSCOMBINED)\n",
    "\n",
    "keyDates = []\n",
    "for i in range(0,len(yIrrelevant)):\n",
    "    if i < len(yIrrelevant)-1 and \\\n",
    "       (yIrrelevant[i] < 100 and yIrrelevant[i+1] >= 100 or yIrrelevant[i] >= 100 and yIrrelevant[i+1] < 100):\n",
    "        keyDates.append(list(results.keys())[i])\n",
    "        print(keyDates[-1])"
   ]
  },
  {
   "cell_type": "code",
   "execution_count": null,
   "metadata": {},
   "outputs": [],
   "source": [
    "STARTDATE = \"20200310\" # keyDates[0]\n",
    "ENDDATE = \"20201231\"\n",
    "\n",
    "results = {k:results[k] for k in sorted(results.keys())}\n",
    "font = {\"size\":14}\n",
    "matplotlib.rc(\"font\",**font)\n",
    "plt.subplots(figsize=(14,7))\n",
    "\n",
    "ax1 = plt.subplot(111)\n",
    "plt.plot_date(x,ySupports,fmt=\"-\",label=\"Supports\")\n",
    "plt.plot_date(x,yRejects,fmt=\"-\",label=\"Rejects\")\n",
    "plt.plot_date(x,yIrrelevant,fmt=\"-\",label=\"Other\")\n",
    "plt.plot_date(x,[100 for i in x],fmt=\"-\",label=\"100%\",color=\"black\")\n",
    "for date in [STARTDATE]:\n",
    "    plt.plot_date([datetime.datetime.strptime(date,DATEFORMAT)],[100],color=\"black\")\n",
    "plt.legend()\n",
    "plt.ylabel(\"percentage\")\n",
    "plt.xlabel(\"day/month\")\n",
    "plt.title(\"stance on the RIVM policy on \"+\"social\")\n",
    "plt.show()"
   ]
  },
  {
   "cell_type": "code",
   "execution_count": null,
   "metadata": {},
   "outputs": [],
   "source": [
    "PLOTFILEOUT = \"social-distancing.png\"\n",
    "#PLOTFILEOUT = \"mondkapje.png\"\n",
    "\n",
    "plt.subplots(figsize=(14,7))\n",
    "\n",
    "dates = [d for d in results.keys()]\n",
    "xPart = [x[i] for i in range(0,len(dates)) if dates[i] >= STARTDATE and dates[i] <= ENDDATE]\n",
    "ySupportsPart = [ySupports[i] for i in range(0,len(dates)) if dates[i] >= STARTDATE and dates[i] <= ENDDATE] \n",
    "yRejectsPart = [yRejects[i] for i in range(0,len(dates)) if dates[i] >= STARTDATE and dates[i] <= ENDDATE]\n",
    "ax1.xaxis.set_major_formatter(mdates.DateFormatter(\"%-d/%-m\"))\n",
    "\n",
    "ax2 = plt.subplot(111)\n",
    "plt.plot_date(xPart,ySupportsPart,fmt=\"-\",label=\"Supports\")\n",
    "plt.plot_date(xPart,yRejectsPart,fmt=\"-\",label=\"Rejects\")\n",
    "plt.legend()\n",
    "plt.ylabel(\"percentage\")\n",
    "plt.xlabel(\"day/month\")\n",
    "plt.title(\"Twitter stance on the RIVM policy on social distancing (average over \"+str(DAYSCOMBINED)+\" days)\")\n",
    "plt.xticks([datetime.datetime.strptime(d,DATEFORMAT) for d in \"20200301 2020401 20200501 20200601 20200701 20200801\".split()])\n",
    "ax2.xaxis.set_major_formatter(mdates.DateFormatter(\"%-d/%-m\"))\n",
    "\n",
    "plt.savefig(PLOTFILEOUT)\n",
    "plt.show()"
   ]
  },
  {
   "cell_type": "code",
   "execution_count": null,
   "metadata": {},
   "outputs": [],
   "source": [
    "counts = {}\n",
    "for text in fasttextData:\n",
    "    label = text.split()[0]\n",
    "    if label in counts: counts[label] += 1\n",
    "    else: counts[label] = 1\n",
    "for label in counts: print(round(counts[label]/len(fasttextData),3),label)"
   ]
  },
  {
   "cell_type": "markdown",
   "metadata": {},
   "source": [
    "## Annotator comparison"
   ]
  },
  {
   "cell_type": "code",
   "execution_count": null,
   "metadata": {},
   "outputs": [],
   "source": [
    "NBROFTESTDATA = 100\n",
    "\n",
    "annotators = []\n",
    "annotatorData = {}\n",
    "kappaData = [{},{}]\n",
    "blockedTweetIds = {}\n",
    "for i in range(0,len(annotations)):\n",
    "    annotator = annotations.iloc[i][0]\n",
    "    tweetId = annotations.iloc[i][2]\n",
    "    tweetLabel = annotations.iloc[i][4]\n",
    "    if not annotator in annotatorData: \n",
    "        annotatorData[annotator] = {}\n",
    "        annotators.append(annotator)\n",
    "    annotatorData[annotator][tweetId] = tweetLabel\n",
    "    if len(annotatorData[annotator]) <= NBROFTESTDATA: blockedTweetIds[tweetId] = True\n",
    "    if len(annotators) >= 2 and not tweetId in blockedTweetIds and \\\n",
    "       tweetId in annotatorData[annotators[0]] and tweetId in annotatorData[annotators[1]]:\n",
    "        kappaData[0][tweetId] = annotatorData[annotators[0]][tweetId]\n",
    "        kappaData[1][tweetId] = annotatorData[annotators[1]][tweetId]"
   ]
  },
  {
   "cell_type": "code",
   "execution_count": null,
   "metadata": {},
   "outputs": [],
   "source": [
    "for annotator in annotatorData:\n",
    "    labelCount = {}\n",
    "    for tweetId in annotatorData[annotator]:\n",
    "        label = annotatorData[annotator][tweetId]\n",
    "        if not label in labelCount: labelCount[label] = 0\n",
    "        labelCount[label] += 1\n",
    "    print(len(annotatorData[annotator]))\n",
    "    for label in labelCount: print(round(labelCount[label]/len(annotatorData[annotator]),3),label)"
   ]
  },
  {
   "cell_type": "code",
   "execution_count": null,
   "metadata": {},
   "outputs": [],
   "source": [
    "from sklearn.metrics import cohen_kappa_score\n",
    "\n",
    "cohen_kappa_score([kappaData[0][tweetId] for tweetId in kappaData[0]],[kappaData[1][tweetId] for tweetId in kappaData[0]])"
   ]
  },
  {
   "cell_type": "code",
   "execution_count": null,
   "metadata": {},
   "outputs": [],
   "source": [
    "MAX = 100\n",
    "\n",
    "total = 0\n",
    "identical = 0\n",
    "for tweetId in annotatorData[mainAnnotator]:\n",
    "    for annotator in annotators:\n",
    "        if not annotator == mainAnnotator and tweetId in annotatorData[annotator]:\n",
    "            total += 1\n",
    "            if total <= MAX:\n",
    "                if annotatorData[annotator][tweetId] == annotatorData[mainAnnotator][tweetId]: identical += 1\n",
    "                else: \n",
    "                    print(tweetId,annotatorData[mainAnnotator][tweetId],annotatorData[annotator][tweetId])\n",
    "                    #print(tweets.loc[tweetId][TEXT])\n",
    "print(total,identical)"
   ]
  },
  {
   "cell_type": "code",
   "execution_count": null,
   "metadata": {},
   "outputs": [],
   "source": []
  }
 ],
 "metadata": {
  "kernelspec": {
   "display_name": "python37",
   "language": "python",
   "name": "python37"
  },
  "language_info": {
   "codemirror_mode": {
    "name": "ipython",
    "version": 3
   },
   "file_extension": ".py",
   "mimetype": "text/x-python",
   "name": "python",
   "nbconvert_exporter": "python",
   "pygments_lexer": "ipython3",
   "version": "3.7.3"
  }
 },
 "nbformat": 4,
 "nbformat_minor": 4
}
