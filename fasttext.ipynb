{
 "cells": [
  {
   "cell_type": "markdown",
   "metadata": {},
   "source": [
    "# Fasttext tweet classification"
   ]
  },
  {
   "cell_type": "markdown",
   "metadata": {},
   "source": [
    "## Data file creation"
   ]
  },
  {
   "cell_type": "code",
   "execution_count": 1,
   "metadata": {},
   "outputs": [],
   "source": [
    "import datetime\n",
    "import matplotlib.pyplot as plt\n",
    "import matplotlib.dates as mdates\n",
    "import numpy as np\n",
    "import os\n",
    "import pandas as pd\n",
    "import pipes\n",
    "import random\n",
    "import re\n",
    "import tempfile\n",
    "from nltk.tokenize import TweetTokenizer\n",
    "from IPython.display import clear_output"
   ]
  },
  {
   "cell_type": "code",
   "execution_count": 2,
   "metadata": {},
   "outputs": [],
   "source": [
    "DATADIR = \"../data/\"\n",
    "DISTANCE = \"distance\"\n",
    "FACEMASK = \"mondkapje\"\n",
    "TOPIC = DISTANCE\n",
    "TOPIC = FACEMASK\n",
    "if TOPIC == FACEMASK: FILETWEETS = TOPIC+\"-tweets+nunl.csv\"\n",
    "else: FILETWEETS = TOPIC+\"-tweets.csv\"\n",
    "FILEANNOTATIONS = FILETWEETS+\".human-labels.txt\"\n",
    "FILEFASTTEXT = \"fasttext-\"+TOPIC+\".csv\"\n",
    "LABELPREFIX = \"__label__\"\n",
    "LARGEINT = 9999999999\n",
    "LABEL = \"label\"\n",
    "TEXT = \"text\"\n",
    "USER = \"user\"\n",
    "IDSTR = \"id_str\"\n",
    "IRRELEVANT = \"IRRELEVANT\"\n",
    "NEUTRAL = \"NEUTRAL\"\n",
    "ANDERS = \"ANDERS\"\n",
    "EENS = \"EENS\"\n",
    "ONEENS = \"ONEENS\"\n",
    "SUPPORTS = \"SUPPORTS\"\n",
    "REJECTS = \"REJECTS\""
   ]
  },
  {
   "cell_type": "code",
   "execution_count": 3,
   "metadata": {},
   "outputs": [],
   "source": [
    "tweets = pd.read_csv(DATADIR+FILETWEETS,index_col=IDSTR)\n",
    "annotations = pd.read_csv(DATADIR+FILEANNOTATIONS,header=None,sep=\" \")\n",
    "mainAnnotator = annotations.iloc[0][0]"
   ]
  },
  {
   "cell_type": "code",
   "execution_count": 4,
   "metadata": {},
   "outputs": [],
   "source": [
    "def cleanup(text):\n",
    "    text = re.sub(r\"\\\\n\",\" \",text)\n",
    "    text = re.sub(r\"https://\\S+\",\"\",text)\n",
    "    text = re.sub(r\"\\s+\",\" \",text)\n",
    "    text = text.strip()\n",
    "    return(text)\n",
    "\n",
    "def tokenize(text):\n",
    "    return(\" \".join(TweetTokenizer().tokenize(text)))\n",
    "\n",
    "def preprocess(text):\n",
    "    return(tokenize(cleanup(text)).lower())"
   ]
  },
  {
   "cell_type": "code",
   "execution_count": 5,
   "metadata": {},
   "outputs": [],
   "source": [
    "fasttextData = {}\n",
    "for i in range(0,len(annotations)):\n",
    "    annotator = annotations.iloc[i][0]\n",
    "    tweetId = annotations.iloc[i][2]\n",
    "    if annotator == mainAnnotator and tweetId in list(tweets.index):\n",
    "        tweetUser = tweets.loc[tweetId][1]\n",
    "        tweetLabel = annotations.iloc[i][4]\n",
    "        if tweetLabel == NEUTRAL: tweetLabel = IRRELEVANT\n",
    "        if tweetLabel == ANDERS: tweetLabel = IRRELEVANT\n",
    "        if tweetLabel == EENS: tweetLabel = SUPPORTS\n",
    "        if tweetLabel == ONEENS: tweetLabel = REJECTS\n",
    "        fasttextData[tweetId] = {LABEL:LABELPREFIX+tweetLabel,\\\n",
    "                                 USER:tweetUser,\\\n",
    "                                 TEXT:preprocess(tweets.loc[tweetId][TEXT])}"
   ]
  },
  {
   "cell_type": "code",
   "execution_count": 6,
   "metadata": {},
   "outputs": [
    {
     "data": {
      "text/plain": [
       "(2681, 8587, 2697)"
      ]
     },
     "execution_count": 6,
     "metadata": {},
     "output_type": "execute_result"
    }
   ],
   "source": [
    "len(fasttextData),len(tweets),len(annotations)"
   ]
  },
  {
   "cell_type": "code",
   "execution_count": 7,
   "metadata": {},
   "outputs": [],
   "source": [
    "outFile = open(FILEFASTTEXT,\"w\")\n",
    "seenTexts = {}\n",
    "for tweetId in fasttextData:\n",
    "    text = cleanup(fasttextData[tweetId][TEXT])\n",
    "    if not text in seenTexts:\n",
    "        print(fasttextData[tweetId][LABEL],text,file=outFile)\n",
    "        seenTexts[text] = True\n",
    "outFile.close()"
   ]
  },
  {
   "cell_type": "code",
   "execution_count": 8,
   "metadata": {},
   "outputs": [
    {
     "name": "stdout",
     "output_type": "stream",
     "text": [
      "tweets annotated per minute: 6.7 ; 1000 tweets take: 149 minutes\n"
     ]
    }
   ],
   "source": [
    "annotations1 = annotations[annotations[0]==mainAnnotator]\n",
    "nbrOfAnnotationMinutes = len(set([str(x)[:12] for x in annotations1[1]]))\n",
    "nbrOfAnnotatedTweets = len(set([str(x)[:12] for x in annotations1[2]]))\n",
    "print(\"tweets annotated per minute:\",round(nbrOfAnnotatedTweets/nbrOfAnnotationMinutes,1),\"; 1000 tweets take:\",\\\n",
    "      round(1000/(nbrOfAnnotatedTweets/nbrOfAnnotationMinutes)),\"minutes\")"
   ]
  },
  {
   "cell_type": "code",
   "execution_count": 9,
   "metadata": {},
   "outputs": [
    {
     "name": "stdout",
     "output_type": "stream",
     "text": [
      "tweets annotated per minute: 1.0 ; 1000 tweets take: 1000 minutes\n"
     ]
    }
   ],
   "source": [
    "annotations2 = annotations[annotations[0]!=mainAnnotator]\n",
    "nbrOfAnnotationMinutes = len(set([str(x)[:12] for x in annotations2[1]]))\n",
    "nbrOfAnnotatedTweets = len(set([str(x)[:12] for x in annotations2[2]]))\n",
    "print(\"tweets annotated per minute:\",round(nbrOfAnnotatedTweets/nbrOfAnnotationMinutes,1),\"; 1000 tweets take:\",\\\n",
    "      round(1000/(nbrOfAnnotatedTweets/nbrOfAnnotationMinutes)),\"minutes\")"
   ]
  },
  {
   "cell_type": "markdown",
   "metadata": {},
   "source": [
    "## Fasttext run and evaluation"
   ]
  },
  {
   "cell_type": "code",
   "execution_count": 10,
   "metadata": {},
   "outputs": [],
   "source": [
    "import fasttext\n",
    "import random\n",
    "from IPython.display import clear_output"
   ]
  },
  {
   "cell_type": "code",
   "execution_count": 11,
   "metadata": {},
   "outputs": [],
   "source": [
    "PRETRAINEDDIR = \"/home/erikt/projects/newsgac/fasttext-runs/\"\n",
    "WIKIFILENAME = \"wiki.nl.vec\""
   ]
  },
  {
   "cell_type": "code",
   "execution_count": 12,
   "metadata": {},
   "outputs": [],
   "source": [
    "def print_results(N, p, r):\n",
    "    print(\"N\\t\" + str(N))\n",
    "    print(\"P@{}\\t{:.3f}\".format(1, p))\n",
    "    print(\"R@{}\\t{:.3f}\".format(1, r))"
   ]
  },
  {
   "cell_type": "code",
   "execution_count": 13,
   "metadata": {},
   "outputs": [
    {
     "data": {
      "text/plain": [
       "1322"
      ]
     },
     "execution_count": 13,
     "metadata": {},
     "output_type": "execute_result"
    }
   ],
   "source": [
    "fasttextData = []\n",
    "inFile = open(FILEFASTTEXT,\"r\")\n",
    "for line in inFile: fasttextData.append(line.strip())\n",
    "inFile.close()\n",
    "len(fasttextData)"
   ]
  },
  {
   "cell_type": "code",
   "execution_count": 14,
   "metadata": {},
   "outputs": [],
   "source": [
    "DIM = 100\n",
    "EPOCH = 100\n",
    "LR = 0.05\n",
    "N = 10\n",
    "TRAIN = \"TRAIN\"+str(int(random.random()*LARGEINT))\n",
    "TEST = \"TEST\"+str(int(random.random()*LARGEINT))\n",
    "VALIDATION = \"VALIDATION\"+str(int(random.random()*LARGEINT))"
   ]
  },
  {
   "cell_type": "code",
   "execution_count": 15,
   "metadata": {},
   "outputs": [],
   "source": [
    "def ranSelect(inList,size):\n",
    "    outList = []\n",
    "    selectionList = list(inList)\n",
    "    while len(outList) < size and len(selectionList) > 0:\n",
    "        index = int(random.random()*len(selectionList))\n",
    "        outList.append(selectionList[index])\n",
    "        del(selectionList[index])\n",
    "    return(outList)"
   ]
  },
  {
   "cell_type": "code",
   "execution_count": 16,
   "metadata": {},
   "outputs": [],
   "source": [
    "def runFasttext(fasttextData,dim=DIM,epoch=EPOCH,lr=LR,n=N,squealFlag=True,maxTrain=None):\n",
    "    predictionCountsTest = []\n",
    "    predictionLabelsTest = []\n",
    "    predictionCountsValidation = []\n",
    "    predictionLabelsValidation = []\n",
    "    for fold in range(0,n):\n",
    "        if squealFlag:\n",
    "            clear_output(wait=True)\n",
    "            print(\"starting fold\",fold)\n",
    "        validationStart = round(fold*len(fasttextData)/n)\n",
    "        validationEnd = round((fold+1)*len(fasttextData)/n)\n",
    "        if fold < n-1: nextFold = fold+1\n",
    "        else: nextFold = 0\n",
    "        testStart = round(nextFold*len(fasttextData)/n)\n",
    "        testEnd = round((nextFold+1)*len(fasttextData)/n)\n",
    "        trainFile = open(TRAIN,\"w\")\n",
    "        testFile = open(TEST,\"w\")\n",
    "        validationFile = open(VALIDATION,\"w\")\n",
    "        trainData = []\n",
    "        validationData = []\n",
    "        testData = []\n",
    "        for i in range(0,len(fasttextData)):\n",
    "            data = fasttextData[i]\n",
    "            if i >= testStart and i < testEnd: \n",
    "                print(data,file=testFile)\n",
    "                testData.append(data)\n",
    "            elif i >= validationStart and i < validationEnd: \n",
    "                print(data,file=validationFile)\n",
    "                validationData.append(data)\n",
    "            else: \n",
    "                print(data,file=trainFile)\n",
    "                trainData.append(data)\n",
    "        testFile.close()\n",
    "        trainFile.close()\n",
    "        validationFile.close()\n",
    "        if not maxTrain == None and maxTrain < len(trainData):\n",
    "            trainData = ranSelect(trainData,maxTrain)\n",
    "            trainFile = open(TRAIN,\"w\")\n",
    "            for i in range(0,len(trainData)):\n",
    "                print(trainData[i],file=trainFile)\n",
    "            trainFile.close()\n",
    "        model = fasttext.train_supervised(TRAIN,dim=dim,epoch=epoch,lr=lr)\n",
    "        predictionCountsValidation.append([*model.test(VALIDATION)])\n",
    "        predictionLabelsValidation.append(model.predict(validationData))\n",
    "        predictionCountsTest.append([*model.test(TEST)])\n",
    "        predictionLabelsTest.append(model.predict(testData))\n",
    "        os.unlink(TRAIN)\n",
    "        os.unlink(TEST)\n",
    "        os.unlink(VALIDATION)\n",
    "    if squealFlag:\n",
    "        clear_output(wait=True)\n",
    "        print(\"finished\")\n",
    "    return(predictionCountsValidation,predictionLabelsValidation,predictionCountsTest,predictionLabelsTest)"
   ]
  },
  {
   "cell_type": "code",
   "execution_count": 17,
   "metadata": {},
   "outputs": [],
   "source": [
    "def makeConfusionMatrix(fasttextData,predictionLabels):\n",
    "    goldLabels = pd.Series([fasttextData[i].split()[0] for i in range(0,len(fasttextData))])\n",
    "    predictedLabels = pd.Series([x[0] for row in predictionLabels for x in row[0]])\n",
    "    return(pd.crosstab(goldLabels,predictedLabels))"
   ]
  },
  {
   "cell_type": "code",
   "execution_count": 18,
   "metadata": {},
   "outputs": [],
   "source": [
    "def evaluate(predictionCounts,predictionLabels,fasttextData,printResults=True):\n",
    "    caseTotal = 0\n",
    "    pTotal = 0\n",
    "    rTotal = 0\n",
    "    for i in range(0,len(predictionCounts)):\n",
    "        caseTotal += predictionCounts[i][0]\n",
    "        pTotal += predictionCounts[i][0]*predictionCounts[i][1]\n",
    "        rTotal += predictionCounts[i][0]*predictionCounts[i][2]\n",
    "    precision = round(pTotal/caseTotal,3)\n",
    "    recall = round(rTotal/caseTotal,3)\n",
    "    cf = makeConfusionMatrix(fasttextData,predictionLabels)\n",
    "    for label in ['__label__REJECTS','__label__SUPPORTS','__label__IRRELEVANT']:\n",
    "        if not label in cf: cf[label] = [0 for i in range(0,len(cf))]\n",
    "    factor = sum(cf.loc['__label__SUPPORTS'])*sum([cf.iloc[i]['__label__REJECTS'] for i in range(0,len(cf))])/\\\n",
    "             (sum(cf.loc['__label__REJECTS'])*sum([cf.iloc[i]['__label__SUPPORTS'] for i in range(0,len(cf))]))\n",
    "    if printResults: print(\"cases: {0}; precision: {1}; recall: {2}; factor: {3:0.3f}\".format(caseTotal,precision,recall,factor))\n",
    "    return((precision,factor))"
   ]
  },
  {
   "cell_type": "markdown",
   "metadata": {},
   "source": [
    "## Grid search"
   ]
  },
  {
   "cell_type": "code",
   "execution_count": null,
   "metadata": {},
   "outputs": [],
   "source": [
    "scoresValidation = {}\n",
    "scoresTest = {}\n",
    "for dim in [10,20,50,100,200,300]:\n",
    "    for epoch in [10,20,50,100,200,300]:\n",
    "        for lr in [0.05,0.1,0.2]:\n",
    "            predictionCountsValidation,predictionLabelsValidation,predictionCountsTest,predictionLabelsTest = \\\n",
    "                runFasttext(fasttextData,dim=dim,epoch=epoch,lr=lr,squealFlag=False)\n",
    "            print(dim,epoch,lr,end=\" \")\n",
    "            key = \",\".join([str(dim),str(epoch),str(lr)])\n",
    "            scoresValidation[key] = evaluate(predictionCountsValidation,predictionLabelsValidation,fasttextData)\n",
    "            scoresTest[key] = evaluate(predictionCountsTest,predictionLabelsTest,fasttextData)"
   ]
  },
  {
   "cell_type": "code",
   "execution_count": null,
   "metadata": {},
   "outputs": [],
   "source": [
    "[(scoresValidation[k],k) for k in sorted(scoresValidation.keys(),\\\n",
    "                                         key=lambda k:scoresValidation[k][0],reverse=True)][0:10]"
   ]
  },
  {
   "cell_type": "code",
   "execution_count": null,
   "metadata": {},
   "outputs": [],
   "source": [
    "[(scoresTest[k],k) for k in sorted(scoresTest.keys(),\\\n",
    "                                         key=lambda k:scoresTest[k][0],reverse=True)][0:20]"
   ]
  },
  {
   "cell_type": "markdown",
   "metadata": {},
   "source": [
    "Facemasks: best validation accuracy 0.56 for '100,100,0.05', associated test accuracy 0.55 (14th score).\n",
    "\n",
    "Social distancing: best validation accuracy 0.65 for '300,10,0.2', associated test accuracy 0.65 (2nd score)."
   ]
  },
  {
   "cell_type": "code",
   "execution_count": null,
   "metadata": {},
   "outputs": [],
   "source": [
    "[(scoresValidation[k],k) for k in sorted(scoresValidation.keys(),\n",
    "                                         key=lambda k:scoresValidation[k][1])][0:10]"
   ]
  },
  {
   "cell_type": "code",
   "execution_count": null,
   "metadata": {},
   "outputs": [],
   "source": [
    "[(scoresTest[k],k) for k in sorted(scoresTest.keys(),\n",
    "                                         key=lambda k:scoresTest[k][1])][0:30]"
   ]
  },
  {
   "cell_type": "markdown",
   "metadata": {},
   "source": [
    "Facemasks: best validation ratio: 1.45 for '10,300,0.2'; associated test ratio: 1.72 (26th scsore)\n",
    "\n",
    "Social distancing: best validation ratio 0.62 for '20,10,0.05'; associated test accuracy 0.61 (top score)."
   ]
  },
  {
   "cell_type": "code",
   "execution_count": null,
   "metadata": {},
   "outputs": [],
   "source": [
    "N = 5\n",
    "scoresN = {} \n",
    "triplets = [(20,300,0.2),(50,200,0.2),(300,200,0.2),(20,200,0.05),(10,300,0.2)]\n",
    "\n",
    "for triplet in triplets:\n",
    "    dim,epoch,lr = triplet\n",
    "    key = \" \".join([str(dim),str(epoch),str(lr)])\n",
    "    scoresN[key] = []\n",
    "    for i in range(0,N): \n",
    "        predictionCounts,predictionLabels = runFasttext(fasttextData,dim=dim,epoch=epoch,lr=lr,squealFlag=False)\n",
    "        print(dim,epoch,lr,end=\" \")\n",
    "        scoresN[key].append(evaluate(predictionCounts,predictionLabels,fasttextData))"
   ]
  },
  {
   "cell_type": "code",
   "execution_count": null,
   "metadata": {},
   "outputs": [],
   "source": [
    "scoresNaverage = {}\n",
    "for key in scoresN: scoresNaverage[key] = round(np.average([x[1] for x in scoresN[key]]),3)\n",
    "{key:scoresNaverage[key] for key in sorted(scoresNaverage.keys(),key=lambda k:scoresNaverage[k],reverse=True)}"
   ]
  },
  {
   "cell_type": "code",
   "execution_count": null,
   "metadata": {},
   "outputs": [],
   "source": [
    "for dim in [10]:\n",
    "    for epoch in [900]:\n",
    "        for lr in [0.2]:\n",
    "            predictionCounts,predictionLabels = runFasttext(fasttextData,dim=dim,epoch=epoch,lr=lr,squealFlag=False)\n",
    "            print(dim,epoch,lr,end=\" \")\n",
    "            key = \",\".join([str(dim),str(epoch),str(lr)])\n",
    "            scores[key] = evaluate(predictionCounts,predictionLabels,fasttextData)"
   ]
  },
  {
   "cell_type": "markdown",
   "metadata": {},
   "source": [
    "## Run with best parameters"
   ]
  },
  {
   "cell_type": "code",
   "execution_count": 19,
   "metadata": {},
   "outputs": [],
   "source": [
    "def setBestParameters():\n",
    "    if TOPIC == DISTANCE:\n",
    "        # social distancing (202008: 20,300,0.9) (202009:20,10,0.05)\n",
    "        BESTDIM = 10\n",
    "        BESTEPOCH = 10\n",
    "        BESTLR = 0.2\n",
    "    elif TOPIC == FACEMASK:\n",
    "        # facemasks (202008: 10,900,0.2)\n",
    "        BESTDIM = 10\n",
    "        BESTEPOCH = 300\n",
    "        BESTLR = 0.2\n",
    "    else:\n",
    "        print(\"unknown topic!\",file=sys.stderr)\n",
    "        sys.exit(1)\n",
    "    return(BESTDIM,BESTEPOCH,BESTLR)\n",
    "        \n",
    "BESTDIM,BESTEPOCH,BESTLR = setBestParameters()"
   ]
  },
  {
   "cell_type": "code",
   "execution_count": 20,
   "metadata": {},
   "outputs": [
    {
     "name": "stdout",
     "output_type": "stream",
     "text": [
      "finished\n"
     ]
    }
   ],
   "source": [
    "predictionCountsValidation,predictionLabelsValidation,predictionCountsTest,predictionLabelsTest = \\\n",
    "    runFasttext(fasttextData,dim=BESTDIM,epoch=BESTEPOCH,lr=BESTLR)"
   ]
  },
  {
   "cell_type": "code",
   "execution_count": 21,
   "metadata": {},
   "outputs": [
    {
     "name": "stdout",
     "output_type": "stream",
     "text": [
      "cases: 1322; precision: 0.537; recall: 0.537; factor: 1.444\n",
      "cases: 1322; precision: 0.546; recall: 0.546; factor: 1.702\n"
     ]
    },
    {
     "data": {
      "text/plain": [
       "(0.546, 1.7020456774555135)"
      ]
     },
     "execution_count": 21,
     "metadata": {},
     "output_type": "execute_result"
    }
   ],
   "source": [
    "evaluate(predictionCountsValidation,predictionLabelsValidation,fasttextData)\n",
    "evaluate(predictionCountsTest,predictionLabelsTest,fasttextData)"
   ]
  },
  {
   "cell_type": "code",
   "execution_count": 22,
   "metadata": {},
   "outputs": [
    {
     "data": {
      "text/plain": [
       "{'__label__IRRELEVANT': 558, '__label__REJECTS': 549, '__label__SUPPORTS': 215}"
      ]
     },
     "execution_count": 22,
     "metadata": {},
     "output_type": "execute_result"
    }
   ],
   "source": [
    "labelCountsGold = {}\n",
    "for i in range(0,len(fasttextData)):\n",
    "    label = fasttextData[i].split()[0]\n",
    "    if label in labelCountsGold: labelCountsGold[label] += 1\n",
    "    else: labelCountsGold[label] = 1\n",
    "labelCountsGold"
   ]
  },
  {
   "cell_type": "code",
   "execution_count": 23,
   "metadata": {},
   "outputs": [
    {
     "name": "stdout",
     "output_type": "stream",
     "text": [
      "baseline accuracy: 0.422\n"
     ]
    }
   ],
   "source": [
    "print(\"baseline accuracy:\",round(max(labelCountsGold.values())/sum(labelCountsGold.values()),3))"
   ]
  },
  {
   "cell_type": "code",
   "execution_count": 24,
   "metadata": {},
   "outputs": [
    {
     "data": {
      "text/plain": [
       "{'__label__IRRELEVANT': 488, '__label__REJECTS': 678, '__label__SUPPORTS': 156}"
      ]
     },
     "execution_count": 24,
     "metadata": {},
     "output_type": "execute_result"
    }
   ],
   "source": [
    "labelCountsPredicted = {}\n",
    "for i in range(0,len(predictionLabelsTest)):\n",
    "    for label in predictionLabelsTest[i][0]:\n",
    "        if label[0] in labelCountsPredicted: labelCountsPredicted[label[0]] += 1\n",
    "        else: labelCountsPredicted[label[0]] = 1\n",
    "labelCountsPredicted"
   ]
  },
  {
   "cell_type": "code",
   "execution_count": 25,
   "metadata": {},
   "outputs": [
    {
     "name": "stdout",
     "output_type": "stream",
     "text": [
      "total absolute deviation 258\n"
     ]
    }
   ],
   "source": [
    "print(\"total absolute deviation\",sum([abs(labelCountsPredicted[l]-labelCountsGold[l]) for l in labelCountsGold]))"
   ]
  },
  {
   "cell_type": "code",
   "execution_count": 26,
   "metadata": {},
   "outputs": [
    {
     "name": "stdout",
     "output_type": "stream",
     "text": [
      "relative deviation per label: {'__label__IRRELEVANT': 0.125, '__label__REJECTS': 0.235, '__label__SUPPORTS': 0.274}\n"
     ]
    }
   ],
   "source": [
    "print(\"relative deviation per label:\",\\\n",
    "      {l:round(abs(labelCountsPredicted[l]-labelCountsGold[l])/labelCountsGold[l],3) for l in labelCountsGold})"
   ]
  },
  {
   "cell_type": "code",
   "execution_count": 27,
   "metadata": {},
   "outputs": [
    {
     "data": {
      "text/html": [
       "<div>\n",
       "<style scoped>\n",
       "    .dataframe tbody tr th:only-of-type {\n",
       "        vertical-align: middle;\n",
       "    }\n",
       "\n",
       "    .dataframe tbody tr th {\n",
       "        vertical-align: top;\n",
       "    }\n",
       "\n",
       "    .dataframe thead th {\n",
       "        text-align: right;\n",
       "    }\n",
       "</style>\n",
       "<table border=\"1\" class=\"dataframe\">\n",
       "  <thead>\n",
       "    <tr style=\"text-align: right;\">\n",
       "      <th>col_0</th>\n",
       "      <th>__label__IRRELEVANT</th>\n",
       "      <th>__label__REJECTS</th>\n",
       "      <th>__label__SUPPORTS</th>\n",
       "    </tr>\n",
       "    <tr>\n",
       "      <th>row_0</th>\n",
       "      <th></th>\n",
       "      <th></th>\n",
       "      <th></th>\n",
       "    </tr>\n",
       "  </thead>\n",
       "  <tbody>\n",
       "    <tr>\n",
       "      <td>__label__IRRELEVANT</td>\n",
       "      <td>194</td>\n",
       "      <td>296</td>\n",
       "      <td>68</td>\n",
       "    </tr>\n",
       "    <tr>\n",
       "      <td>__label__REJECTS</td>\n",
       "      <td>209</td>\n",
       "      <td>278</td>\n",
       "      <td>62</td>\n",
       "    </tr>\n",
       "    <tr>\n",
       "      <td>__label__SUPPORTS</td>\n",
       "      <td>85</td>\n",
       "      <td>104</td>\n",
       "      <td>26</td>\n",
       "    </tr>\n",
       "  </tbody>\n",
       "</table>\n",
       "</div>"
      ],
      "text/plain": [
       "col_0                __label__IRRELEVANT  __label__REJECTS  __label__SUPPORTS\n",
       "row_0                                                                        \n",
       "__label__IRRELEVANT                  194               296                 68\n",
       "__label__REJECTS                     209               278                 62\n",
       "__label__SUPPORTS                     85               104                 26"
      ]
     },
     "execution_count": 27,
     "metadata": {},
     "output_type": "execute_result"
    }
   ],
   "source": [
    "makeConfusionMatrix(fasttextData,predictionLabelsTest)"
   ]
  },
  {
   "cell_type": "markdown",
   "metadata": {},
   "source": [
    "For the mondkapje data, fasttext predicts 63% of the labels correctly without external dictionary and 66% with a Wikipedia dictionary (baseline: 46%). It overestimates the presence of negative labels and underestimates the level of positive and neutral labels. The amount of irrelevant labels is about right"
   ]
  },
  {
   "cell_type": "code",
   "execution_count": 28,
   "metadata": {},
   "outputs": [
    {
     "data": {
      "text/plain": [
       "{'__label__IRRELEVANT': 1.1434426229508197,\n",
       " '__label__REJECTS': 0.8097345132743363,\n",
       " '__label__SUPPORTS': 1.3782051282051282}"
      ]
     },
     "execution_count": 28,
     "metadata": {},
     "output_type": "execute_result"
    }
   ],
   "source": [
    "multiplicationFactors = {}\n",
    "for label in labelCountsGold:\n",
    "    multiplicationFactors[label] = labelCountsGold[label]/labelCountsPredicted[label]\n",
    "multiplicationFactors"
   ]
  },
  {
   "cell_type": "markdown",
   "metadata": {},
   "source": [
    "For mondkapje tweets, the multiplication factor for the positive label is unrealistically high so we will not use these factors."
   ]
  },
  {
   "cell_type": "code",
   "execution_count": 29,
   "metadata": {},
   "outputs": [
    {
     "name": "stdout",
     "output_type": "stream",
     "text": [
      "1322.0 1322\n"
     ]
    }
   ],
   "source": [
    "predictedNumberOfLabels = 0\n",
    "for label in labelCountsGold:\n",
    "    predictedNumberOfLabels += multiplicationFactors[label]*labelCountsPredicted[label]\n",
    "print(predictedNumberOfLabels,sum(labelCountsGold.values()))"
   ]
  },
  {
   "cell_type": "markdown",
   "metadata": {},
   "source": [
    "## Relation data size - accuracy"
   ]
  },
  {
   "cell_type": "code",
   "execution_count": null,
   "metadata": {},
   "outputs": [],
   "source": [
    "N = 5\n",
    "expResultsAll = {}\n",
    "for trainingSize in [100,200,500,1000,2000,5000,10000]:\n",
    "    expResultsTrainingSize = []\n",
    "    for i in range(0,N):\n",
    "        selection = ranSelect(fasttextData,trainingSize)\n",
    "        predictionCountsValidation,predictionLabelsValidation,predictionCountsTest,predictionLabelsTest = \\\n",
    "            runFasttext(fasttextData,dim=BESTDIM,epoch=BESTEPOCH,lr=BESTLR,squealFlag=False,maxTrain=trainingSize)\n",
    "        expResultsTrainingSize.append(evaluate(predictionCountsTest,predictionLabelsTest,fasttextData,printResults=False))\n",
    "    average = (np.average([x[0] for x in expResultsTrainingSize]),np.average([x[1] for x in expResultsTrainingSize]))\n",
    "    expResultsAll[len(selection)] = average\n",
    "    print(\"{0:4} {1:0.3f} {2:0.3f}\".format(len(selection),average[0],average[1]))\n",
    "    if len(selection) >= len(fasttextData): break"
   ]
  },
  {
   "cell_type": "code",
   "execution_count": null,
   "metadata": {},
   "outputs": [],
   "source": [
    "del(expResultsAll[list(expResultsAll.keys())[-1]])"
   ]
  },
  {
   "cell_type": "code",
   "execution_count": null,
   "metadata": {},
   "outputs": [],
   "source": [
    "plt.figure(figsize=(16,6))\n",
    "\n",
    "ax1 = plt.subplot(121)\n",
    "plt.plot(list(expResultsAll.keys()),[x[0] for x in list(expResultsAll.values())])\n",
    "plt.xscale(\"log\")\n",
    "plt.ylabel(\"accuracy\")\n",
    "plt.xlabel(\"training data size\")\n",
    "plt.title(\"Accuracy related to training size\")\n",
    "\n",
    "ax1 = plt.subplot(122)\n",
    "plt.plot(list(expResultsAll.keys()),[x[1] for x in list(expResultsAll.values())])\n",
    "plt.xscale(\"log\")\n",
    "plt.ylabel(\"fraction\")\n",
    "plt.xlabel(\"training data size\")\n",
    "plt.title(\"Rejects/Supports fraction related to training size\")\n",
    "\n",
    "plt.show()"
   ]
  },
  {
   "cell_type": "markdown",
   "metadata": {},
   "source": [
    "## Classifying unlabeled tweets"
   ]
  },
  {
   "cell_type": "code",
   "execution_count": 30,
   "metadata": {},
   "outputs": [],
   "source": [
    "import fasttext\n",
    "import matplotlib\n",
    "import numpy as np\n",
    "import os\n",
    "import pandas as pd\n",
    "import re\n",
    "from nltk.tokenize import TweetTokenizer"
   ]
  },
  {
   "cell_type": "code",
   "execution_count": 31,
   "metadata": {},
   "outputs": [],
   "source": [
    "BESTDIM,BESTEPOCH,BESTLR = setBestParameters()"
   ]
  },
  {
   "cell_type": "code",
   "execution_count": 32,
   "metadata": {},
   "outputs": [],
   "source": [
    "BASEDIR = \"/home/erikt/projects/puregome/data/\"\n",
    "DATADIRECTORY = BASEDIR+\"text/\"\n",
    "DATADIRECTORYREDDIT = BASEDIR+\"reddit/text/\"\n",
    "DATADIRECTORYNUNL = BASEDIR+\"nunl/text/\"\n",
    "TWITTER = \"twitter\"\n",
    "REDDIT = \"reddit\"\n",
    "NUNL = \"nunl\"\n",
    "SOURCES = [TWITTER,REDDIT,NUNL]\n",
    "DATADIRECTORIES = {TWITTER:DATADIRECTORY,REDDIT:DATADIRECTORYREDDIT,NUNL:DATADIRECTORYNUNL}\n",
    "FILEFASTTEXT = \"fasttext-\"+TOPIC+\".csv\"\n",
    "LABELPREFIX = \"__label__\"\n",
    "NEGATIVE = LABELPREFIX+\"NEGATIVE\"\n",
    "POSITIVE = LABELPREFIX+\"POSITIVE\"\n",
    "NEUTRAL = LABELPREFIX+\"NEUTRAL\"\n",
    "IRRELEVANT = LABELPREFIX+\"IRRELEVANT\"\n",
    "SUPPORTS = LABELPREFIX+\"SUPPORTS\"\n",
    "REJECTS = LABELPREFIX+\"REJECTS\"\n",
    "TEXT = \"text\"\n",
    "USER = \"user\"\n",
    "TOTAL = \"total\"\n",
    "DIM = BESTDIM\n",
    "EPOCH = BESTEPOCH\n",
    "LR = BESTLR"
   ]
  },
  {
   "cell_type": "code",
   "execution_count": 33,
   "metadata": {},
   "outputs": [],
   "source": [
    "def cleanup(text):\n",
    "    text = re.sub(r\"\\\\n\",\" \",text)\n",
    "    text = re.sub(r\"https://\\S+\",\"\",text)\n",
    "    text = re.sub(r\"\\s+\",\" \",text)\n",
    "    text = text.strip()\n",
    "    return(text)\n",
    "\n",
    "def tokenize(text):\n",
    "    return(\" \".join(TweetTokenizer().tokenize(text)))\n",
    "\n",
    "def preprocess(text):\n",
    "    return(tokenize(cleanup(text)).lower())"
   ]
  },
  {
   "cell_type": "code",
   "execution_count": 34,
   "metadata": {},
   "outputs": [],
   "source": [
    "def makeGrepCommandFromQuery(query):\n",
    "    grepCommand = \"grep\"\n",
    "    for orPart in query.split(\"|\"):\n",
    "        grepCommand += ' -e \"'+orPart+'\"'\n",
    "    return(grepCommand)\n",
    "\n",
    "def readData(datePattern,query,dataDirectory=DATADIRECTORY):\n",
    "    fileList = sorted(os.listdir(dataDirectory))\n",
    "    testData = []\n",
    "    for inFileName in fileList:\n",
    "        if re.search(datePattern,inFileName) and os.path.exists(dataDirectory+inFileName):\n",
    "            try:\n",
    "                fileData = pd.read_csv(dataDirectory+inFileName).drop_duplicates()\n",
    "                matchedText = [line for line in fileData[TEXT] if re.search(query,line,flags=re.IGNORECASE)]\n",
    "                matchedTextPreprocessed = [preprocess(line) for line in matchedText]\n",
    "                testData.extend(matchedTextPreprocessed)\n",
    "            except:\n",
    "                pass\n",
    "    return(testData)\n",
    "    \n",
    "def classify(datePattern,query,model,dataDirectory=DATADIRECTORY):\n",
    "    testData = readData(datePattern,query,dataDirectory)\n",
    "    predictedLabels = model.predict(testData)\n",
    "    predictedGroups = pd.DataFrame(predictedLabels[0]).groupby(0).groups\n",
    "    labelCountsPredicted = {label:len(predictedGroups[label]) for label in predictedGroups}\n",
    "    nbrOfLabels = sum([labelCountsPredicted[label] for label in labelCountsPredicted if label != IRRELEVANT])\n",
    "    labelPercentages = { label:round(100*labelCountsPredicted[label]/nbrOfLabels,1) for label in labelCountsPredicted}\n",
    "    labelPercentages[TOTAL] = nbrOfLabels\n",
    "    return(labelPercentages)"
   ]
  },
  {
   "cell_type": "code",
   "execution_count": 35,
   "metadata": {},
   "outputs": [],
   "source": [
    "MAXDAYSPERMONTH = 31\n",
    "\n",
    "if TOPIC == DISTANCE:\n",
    "    QUERY = \"1[.,]5[ -]*m|afstand.*hou|hou.*afstand|anderhalve[ -]*meter\"\n",
    "elif TOPIC == FACEMASK:\n",
    "    QUERY = TOPIC\n",
    "else:\n",
    "    print(\"unknown topic!\",file=sys.stderr)\n",
    "    sys.exit(1)\n",
    "MAXDAYSPERMONTH = 31\n",
    "\n",
    "model = fasttext.train_supervised(FILEFASTTEXT,dim=BESTDIM,epoch=BESTEPOCH,lr=BESTLR)"
   ]
  },
  {
   "cell_type": "code",
   "execution_count": 36,
   "metadata": {},
   "outputs": [
    {
     "name": "stdout",
     "output_type": "stream",
     "text": [
      "twitter 20200201 93.0 7.0 128.1 128\n",
      "twitter 20200202 91.9 8.1 112.1 124\n",
      "twitter 20200203 80.0 20.0 100.0 85\n",
      "twitter 20200204 93.7 6.3 54.0 126\n",
      "twitter 20200205 64.9 35.1 71.4 77\n",
      "twitter 20200206 82.1 17.9 61.2 67\n",
      "twitter 20200207 74.8 25.2 60.2 103\n",
      "twitter 20200208 92.0 8.0 74.7 87\n",
      "twitter 20200209 73.5 26.5 79.4 34\n",
      "twitter 20200210 80.4 19.6 76.8 56\n",
      "twitter 20200211 97.0 3.0 72.7 33\n",
      "twitter 20200212 59.0 41.0 69.2 39\n",
      "twitter 20200213 90.3 9.7 90.3 31\n",
      "twitter 20200214 78.9 21.1 105.3 19\n",
      "twitter 20200215 83.3 16.7 33.3 30\n",
      "twitter 20200216 90.3 9.7 32.3 31\n",
      "twitter 20200217 83.6 16.4 85.2 61\n",
      "twitter 20200218 90.6 9.4 169.8 53\n",
      "twitter 20200219 92.3 7.7 69.2 26\n",
      "twitter 20200220 88.2 11.8 41.2 17\n",
      "twitter 20200221 92.7 7.3 161.5 96\n",
      "twitter 20200222 78.7 21.3 152.0 150\n",
      "twitter 20200223 81.7 18.3 115.9 82\n",
      "twitter 20200224 87.0 13.0 88.9 208\n",
      "twitter 20200225 83.3 16.7 60.7 783\n",
      "twitter 20200226 79.1 20.9 47.9 980\n",
      "twitter 20200227 79.7 20.3 66.0 1140\n",
      "twitter 20200228 82.4 17.6 79.2 993\n",
      "twitter 20200229 48.0 52.0 38.5 743\n",
      "twitter 20200230 error\n",
      "twitter 20200231 error\n",
      "twitter 20200301 60.7 39.3 60.0 578\n",
      "twitter 20200302 80.9 19.1 160.0 445\n",
      "twitter 20200303 81.8 18.2 164.5 423\n",
      "twitter 20200304 84.5 15.5 96.9 420\n",
      "twitter 20200305 87.8 12.2 80.6 516\n",
      "twitter 20200306 93.6 6.4 63.9 560\n",
      "twitter 20200307 91.0 9.0 84.6 299\n",
      "twitter 20200308 90.4 9.6 68.7 291\n",
      "twitter 20200309 73.7 26.3 48.4 479\n",
      "twitter 20200310 79.9 20.1 51.3 394\n",
      "twitter 20200311 96.0 4.0 50.9 1004\n",
      "twitter 20200312 90.7 9.3 58.4 1328\n",
      "twitter 20200313 96.3 3.7 33.6 2546\n",
      "twitter 20200314 93.0 7.0 78.2 904\n",
      "twitter 20200315 91.0 9.0 68.4 997\n",
      "twitter 20200316 91.6 8.4 95.0 1937\n",
      "twitter 20200317 91.4 8.6 129.3 2776\n",
      "twitter 20200318 87.4 12.6 136.3 3359\n",
      "twitter 20200319 91.8 8.2 127.3 3774\n",
      "twitter 20200320 91.1 8.9 146.7 3543\n",
      "twitter 20200321 73.5 26.5 103.1 4798\n",
      "twitter 20200322 82.9 17.1 84.4 3225\n",
      "twitter 20200323 88.5 11.5 77.7 2649\n",
      "twitter 20200324 90.4 9.6 82.8 1859\n",
      "twitter 20200325 74.2 25.8 83.1 1393\n",
      "twitter 20200326 89.7 10.3 93.3 1567\n",
      "twitter 20200327 90.6 9.4 89.8 1411\n",
      "twitter 20200328 89.6 10.4 93.7 1602\n",
      "twitter 20200329 89.5 10.5 73.2 1461\n",
      "twitter 20200330 87.0 13.0 85.8 1567\n",
      "twitter 20200331 87.7 12.3 87.2 1309\n",
      "twitter 20200401 85.9 14.1 83.5 2291\n",
      "twitter 20200402 93.0 7.0 70.2 2623\n",
      "twitter 20200403 91.3 8.7 45.3 4324\n",
      "twitter 20200404 89.5 10.5 44.4 3226\n",
      "twitter 20200405 89.0 11.0 64.4 1287\n",
      "twitter 20200406 90.5 9.5 74.0 1675\n",
      "twitter 20200407 88.3 11.7 94.4 1719\n",
      "twitter 20200408 77.2 22.8 76.3 2478\n",
      "twitter 20200409 88.7 11.3 88.8 2847\n",
      "twitter 20200410 92.9 7.1 95.0 2749\n",
      "twitter 20200411 94.7 5.3 130.0 2837\n",
      "twitter 20200412 90.5 9.5 139.1 955\n",
      "twitter 20200413 80.0 20.0 36.6 2245\n",
      "twitter 20200414 82.3 17.7 85.4 1405\n",
      "twitter 20200415 90.9 9.1 68.0 5238\n",
      "twitter 20200416 88.5 11.5 71.6 9880\n",
      "twitter 20200417 83.4 16.6 78.7 6244\n",
      "twitter 20200418 82.2 17.8 84.0 4096\n",
      "twitter 20200419 85.9 14.1 88.5 3467\n",
      "twitter 20200420 85.5 14.5 95.3 3305\n",
      "twitter 20200421 90.8 9.2 101.2 3243\n",
      "twitter 20200422 92.2 7.8 77.6 5071\n",
      "twitter 20200423 94.0 6.0 65.0 5014\n",
      "twitter 20200424 89.0 11.0 70.9 4284\n",
      "twitter 20200425 81.2 18.8 79.7 7548\n",
      "twitter 20200426 82.5 17.5 55.7 5584\n",
      "twitter 20200427 84.0 16.0 84.1 2412\n",
      "twitter 20200428 85.9 14.1 119.1 2903\n",
      "twitter 20200429 87.2 12.8 91.9 4884\n",
      "twitter 20200430 83.8 16.2 129.1 3632\n",
      "twitter 20200431 error\n",
      "twitter 20200501 86.1 13.9 63.5 3353\n",
      "twitter 20200502 90.8 9.2 90.1 3168\n",
      "twitter 20200503 92.4 7.6 73.6 2667\n",
      "twitter 20200504 88.5 11.5 74.0 3025\n",
      "twitter 20200505 86.6 13.4 69.1 2380\n",
      "twitter 20200506 88.0 12.0 62.7 8979\n",
      "twitter 20200507 82.9 17.1 70.5 9109\n",
      "twitter 20200508 85.3 14.7 77.1 2907\n",
      "twitter 20200509 86.0 14.0 82.2 1891\n",
      "twitter 20200510 84.4 15.6 70.9 1492\n",
      "twitter 20200511 85.9 14.1 71.9 2400\n",
      "twitter 20200512 82.9 17.1 68.2 2107\n",
      "twitter 20200513 88.1 11.9 67.9 1805\n",
      "twitter 20200514 86.4 13.6 69.4 1832\n",
      "twitter 20200515 86.9 13.1 69.4 1736\n",
      "twitter 20200516 82.1 17.9 79.2 2538\n",
      "twitter 20200517 86.4 13.6 95.9 1998\n",
      "twitter 20200518 87.5 12.5 58.6 2607\n",
      "twitter 20200519 85.2 14.8 62.0 4978\n",
      "twitter 20200520 86.2 13.8 56.4 3919\n",
      "twitter 20200521 87.5 12.5 64.7 2133\n",
      "twitter 20200522 86.8 13.2 88.0 1548\n",
      "twitter 20200523 88.2 11.8 81.6 1112\n",
      "twitter 20200524 86.0 14.0 52.1 1149\n",
      "twitter 20200525 85.0 15.0 113.5 1317\n",
      "twitter 20200526 84.0 16.0 56.8 1510\n",
      "twitter 20200527 85.8 14.2 70.4 1205\n",
      "twitter 20200528 88.7 11.3 61.6 1474\n",
      "twitter 20200529 86.8 13.2 62.9 1107\n",
      "twitter 20200530 92.3 7.7 82.4 1259\n",
      "twitter 20200531 89.0 11.0 58.1 1490\n",
      "twitter 20200601 87.1 12.9 89.6 5174\n",
      "twitter 20200602 85.8 14.2 104.7 3870\n",
      "twitter 20200603 88.4 11.6 84.3 2166\n",
      "twitter 20200604 89.7 10.3 60.5 1606\n",
      "twitter 20200605 83.1 16.9 77.6 1208\n",
      "twitter 20200606 83.8 16.2 63.8 1462\n",
      "twitter 20200607 83.2 16.8 76.5 1307\n",
      "twitter 20200608 87.1 12.9 80.3 929\n",
      "twitter 20200609 90.4 9.6 57.6 1285\n",
      "twitter 20200610 86.8 13.2 73.6 1211\n",
      "twitter 20200611 84.4 15.6 75.8 795\n",
      "twitter 20200612 84.4 15.6 59.7 1162\n",
      "twitter 20200613 84.8 15.2 64.7 892\n",
      "twitter 20200614 71.6 28.4 41.5 933\n",
      "twitter 20200615 81.5 18.5 60.1 1006\n",
      "twitter 20200616 91.3 8.7 58.0 1333\n",
      "twitter 20200617 85.8 14.2 82.2 824\n",
      "twitter 20200618 86.5 13.5 91.1 716\n",
      "twitter 20200619 82.0 18.0 73.1 942\n",
      "twitter 20200620 84.2 15.8 84.6 758\n",
      "twitter 20200621 87.7 12.3 49.9 1275\n",
      "twitter 20200622 84.5 15.5 63.3 977\n",
      "twitter 20200623 77.4 22.6 143.0 597\n",
      "twitter 20200624 86.7 13.3 78.0 1201\n",
      "twitter 20200625 80.5 19.5 68.1 788\n",
      "twitter 20200626 82.7 17.3 60.7 631\n",
      "twitter 20200627 83.0 17.0 52.0 565\n",
      "twitter 20200628 82.0 18.0 57.9 577\n",
      "twitter 20200629 74.4 25.6 59.4 835\n",
      "twitter 20200630 84.4 15.6 44.2 840\n",
      "twitter 20200631 error\n",
      "twitter 20200701 85.9 14.1 61.3 790\n",
      "twitter 20200702 69.3 30.7 55.1 923\n",
      "twitter 20200703 76.0 24.0 81.6 653\n",
      "twitter 20200704 81.6 18.4 72.7 528\n",
      "twitter 20200705 85.5 14.5 57.9 820\n",
      "twitter 20200706 84.6 15.4 41.7 1351\n",
      "twitter 20200707 81.7 18.3 89.7 901\n",
      "twitter 20200708 82.3 17.7 58.5 764\n",
      "twitter 20200709 85.3 14.7 66.9 809\n",
      "twitter 20200710 84.8 15.2 53.9 1220\n",
      "twitter 20200711 87.3 12.7 94.6 758\n",
      "twitter 20200712 92.1 7.9 45.6 1816\n",
      "twitter 20200713 86.2 13.8 97.8 821\n",
      "twitter 20200714 86.4 13.6 58.4 1379\n",
      "twitter 20200715 87.0 13.0 76.3 1502\n",
      "twitter 20200716 87.6 12.4 72.7 1547\n",
      "twitter 20200717 82.4 17.6 87.4 1702\n",
      "twitter 20200718 84.4 15.6 79.6 1472\n",
      "twitter 20200719 74.8 25.2 61.9 1438\n",
      "twitter 20200720 81.4 18.6 59.0 1061\n",
      "twitter 20200721 87.0 13.0 54.3 2010\n",
      "twitter 20200722 81.4 18.6 64.3 4833\n",
      "twitter 20200723 85.7 14.3 59.8 8528\n",
      "twitter 20200724 82.0 18.0 54.4 9329\n",
      "twitter 20200725 84.7 15.3 60.7 4419\n",
      "twitter 20200726 77.6 22.4 56.2 4074\n",
      "twitter 20200727 82.6 17.4 59.8 2912\n",
      "twitter 20200728 82.0 18.0 62.4 4052\n",
      "twitter 20200729 85.4 14.6 68.1 6262\n",
      "twitter 20200730 84.1 15.9 72.3 9224\n",
      "twitter 20200731 84.0 16.0 68.5 5411\n",
      "total relevant found: 366651\n",
      "reddit 20200201 error\n",
      "reddit 20200202 error\n",
      "reddit 20200203 error\n",
      "reddit 20200204 error\n",
      "reddit 20200205 error\n",
      "reddit 20200206 error\n",
      "reddit 20200207 error\n",
      "reddit 20200208 error\n",
      "reddit 20200209 error\n",
      "reddit 20200210 error\n",
      "reddit 20200211 error\n",
      "reddit 20200212 error\n",
      "reddit 20200213 error\n",
      "reddit 20200214 error\n",
      "reddit 20200215 error\n",
      "reddit 20200216 error\n",
      "reddit 20200217 error\n",
      "reddit 20200218 error\n",
      "reddit 20200219 error\n",
      "reddit 20200220 error\n",
      "reddit 20200221 error\n",
      "reddit 20200222 error\n",
      "reddit 20200223 error\n",
      "reddit 20200224 error\n",
      "reddit 20200225 error\n",
      "reddit 20200226 error\n",
      "reddit 20200227 error\n",
      "reddit 20200228 error\n",
      "reddit 20200229 error\n",
      "reddit 20200230 error\n",
      "reddit 20200231 error\n",
      "reddit 20200301 error\n",
      "reddit 20200302 50.0 50.0 75.0 4\n",
      "reddit 20200303 100.0 0 50.0 2\n",
      "reddit 20200304 100.0 0 0 1\n",
      "reddit 20200305 100.0 0 0 1\n",
      "reddit 20200306 100.0 0 66.7 3\n",
      "reddit 20200307 error\n",
      "reddit 20200308 error\n",
      "reddit 20200309 error\n",
      "reddit 20200310 80.0 20.0 60.0 5\n",
      "reddit 20200311 83.3 16.7 66.7 6\n",
      "reddit 20200312 77.8 22.2 77.8 9\n",
      "reddit 20200313 100.0 0 66.7 3\n",
      "reddit 20200314 66.7 33.3 133.3 3\n",
      "reddit 20200315 66.7 33.3 50.0 6\n",
      "reddit 20200316 100.0 0 80.0 5\n",
      "reddit 20200317 66.7 33.3 33.3 6\n",
      "reddit 20200318 73.0 27.0 48.6 37\n",
      "reddit 20200319 75.0 25.0 250.0 4\n",
      "reddit 20200320 100.0 0 130.0 10\n",
      "reddit 20200321 78.9 21.1 57.9 19\n",
      "reddit 20200322 84.6 15.4 53.8 13\n",
      "reddit 20200323 70.0 30.0 110.0 10\n",
      "reddit 20200324 66.7 33.3 44.4 9\n",
      "reddit 20200325 100.0 0 200.0 1\n",
      "reddit 20200326 71.4 28.6 100.0 7\n",
      "reddit 20200327 50.0 50.0 300.0 2\n",
      "reddit 20200328 50.0 50.0 150.0 2\n",
      "reddit 20200329 71.4 28.6 157.1 7\n",
      "reddit 20200330 84.6 15.4 7.7 13\n",
      "reddit 20200331 50.0 50.0 87.5 16\n",
      "reddit 20200401 64.3 35.7 50.0 14\n",
      "reddit 20200402 60.0 40.0 40.0 5\n",
      "reddit 20200403 72.7 27.3 72.7 11\n",
      "reddit 20200404 33.3 66.7 33.3 3\n",
      "reddit 20200405 0 100.0 0 1\n",
      "reddit 20200406 error\n",
      "reddit 20200407 83.3 16.7 50.0 6\n",
      "reddit 20200408 100.0 0 250.0 2\n",
      "reddit 20200409 83.3 16.7 66.7 6\n",
      "reddit 20200410 66.7 33.3 100.0 6\n",
      "reddit 20200411 100.0 0 500.0 1\n",
      "reddit 20200412 100.0 0 300.0 1\n",
      "reddit 20200413 error\n",
      "reddit 20200414 85.7 14.3 100.0 7\n",
      "reddit 20200415 85.7 14.3 35.7 14\n",
      "reddit 20200416 70.4 29.6 33.3 27\n",
      "reddit 20200417 60.0 40.0 100.0 5\n",
      "reddit 20200418 66.7 33.3 33.3 3\n",
      "reddit 20200419 100.0 0 0 1\n",
      "reddit 20200420 100.0 0 300.0 1\n",
      "reddit 20200421 error\n",
      "reddit 20200422 100.0 0 300.0 3\n",
      "reddit 20200423 84.2 15.8 10.5 19\n",
      "reddit 20200424 63.2 36.8 21.1 19\n",
      "reddit 20200425 100.0 0 333.3 3\n",
      "reddit 20200426 0 100.0 300.0 1\n",
      "reddit 20200427 100.0 0 33.3 3\n",
      "reddit 20200428 66.7 33.3 66.7 6\n",
      "reddit 20200429 75.0 25.0 43.8 16\n",
      "reddit 20200430 60.0 40.0 60.0 5\n",
      "reddit 20200431 error\n",
      "reddit 20200501 error\n",
      "reddit 20200502 0 100.0 0 1\n",
      "reddit 20200503 50.0 50.0 100.0 2\n",
      "reddit 20200504 80.0 20.0 120.0 5\n",
      "reddit 20200505 85.0 15.0 50.0 20\n",
      "reddit 20200506 83.3 16.7 68.8 48\n",
      "reddit 20200507 81.6 18.4 81.6 38\n",
      "reddit 20200508 75.0 25.0 70.0 20\n",
      "reddit 20200509 75.0 25.0 25.0 16\n",
      "reddit 20200510 75.0 25.0 175.0 4\n",
      "reddit 20200511 83.3 16.7 83.3 6\n",
      "reddit 20200512 100.0 0 200.0 2\n",
      "reddit 20200513 81.8 18.2 27.3 11\n",
      "reddit 20200514 66.7 33.3 166.7 3\n",
      "reddit 20200515 85.7 14.3 42.9 7\n",
      "reddit 20200516 71.4 28.6 114.3 7\n",
      "reddit 20200517 75.0 25.0 150.0 4\n",
      "reddit 20200518 error\n",
      "reddit 20200519 62.5 37.5 137.5 8\n",
      "reddit 20200520 100.0 0 100.0 2\n",
      "reddit 20200521 100.0 0 100.0 2\n",
      "reddit 20200522 68.4 31.6 26.3 19\n",
      "reddit 20200523 100.0 0 0 1\n",
      "reddit 20200524 error\n",
      "reddit 20200525 100.0 0 100.0 2\n",
      "reddit 20200526 100.0 0 100.0 1\n",
      "reddit 20200527 error\n",
      "reddit 20200528 33.3 66.7 133.3 3\n",
      "reddit 20200529 100.0 0 600.0 1\n",
      "reddit 20200530 80.0 20.0 40.0 5\n",
      "reddit 20200531 100.0 0 200.0 1\n",
      "reddit 20200601 76.9 23.1 23.1 13\n",
      "reddit 20200602 80.0 20.0 110.0 10\n",
      "reddit 20200603 100.0 0 33.3 3\n",
      "reddit 20200604 100.0 0 0 2\n",
      "reddit 20200605 50.0 50.0 50.0 2\n",
      "reddit 20200606 77.8 22.2 66.7 9\n",
      "reddit 20200607 100.0 0 100.0 1\n",
      "reddit 20200608 error\n",
      "reddit 20200609 error\n",
      "reddit 20200610 100.0 0 200.0 1\n",
      "reddit 20200611 50.0 50.0 133.3 6\n",
      "reddit 20200612 100.0 0 0 3\n",
      "reddit 20200613 100.0 0 300.0 1\n",
      "reddit 20200614 100.0 0 100.0 1\n",
      "reddit 20200615 66.7 33.3 100.0 3\n",
      "reddit 20200616 100.0 0 25.0 4\n",
      "reddit 20200617 error\n",
      "reddit 20200618 50.0 50.0 83.3 6\n",
      "reddit 20200619 55.6 44.4 111.1 9\n",
      "reddit 20200620 100.0 0 50.0 2\n",
      "reddit 20200621 66.7 33.3 33.3 3\n",
      "reddit 20200622 100.0 0 300.0 1\n",
      "reddit 20200623 80.0 20.0 40.0 5\n",
      "reddit 20200624 error\n",
      "reddit 20200625 error\n",
      "reddit 20200626 error\n",
      "reddit 20200627 100.0 0 100.0 1\n",
      "reddit 20200628 100.0 0 200.0 1\n",
      "reddit 20200629 error\n",
      "reddit 20200630 error\n",
      "reddit 20200631 error\n",
      "reddit 20200701 66.7 33.3 66.7 3\n",
      "reddit 20200702 error\n",
      "reddit 20200703 50.0 50.0 50.0 2\n",
      "reddit 20200704 error\n",
      "reddit 20200705 error\n",
      "reddit 20200706 100.0 0 100.0 1\n",
      "reddit 20200707 100.0 0 14.3 7\n",
      "reddit 20200708 100.0 0 100.0 2\n",
      "reddit 20200709 100.0 0 200.0 2\n",
      "reddit 20200710 100.0 0 100.0 5\n",
      "reddit 20200711 75.0 25.0 50.0 4\n",
      "reddit 20200712 100.0 0 100.0 2\n",
      "reddit 20200713 90.9 9.1 27.3 11\n",
      "reddit 20200714 66.7 33.3 233.3 3\n",
      "reddit 20200715 80.0 20.0 60.0 5\n",
      "reddit 20200716 70.6 29.4 70.6 17\n",
      "reddit 20200717 100.0 0 50.0 2\n",
      "reddit 20200718 error\n",
      "reddit 20200719 100.0 0 200.0 1\n",
      "reddit 20200720 100.0 0 20.0 10\n",
      "reddit 20200721 100.0 0 33.3 15\n",
      "reddit 20200722 64.3 35.7 28.6 28\n",
      "reddit 20200723 80.6 19.4 80.6 31\n",
      "reddit 20200724 59.3 40.7 35.6 59\n",
      "reddit 20200725 75.0 25.0 100.0 8\n",
      "reddit 20200726 66.7 33.3 88.9 9\n",
      "reddit 20200727 83.3 16.7 16.7 12\n",
      "reddit 20200728 87.5 12.5 25.0 24\n",
      "reddit 20200729 61.5 38.5 38.5 26\n",
      "reddit 20200730 78.0 22.0 58.0 50\n",
      "reddit 20200731 76.2 23.8 100.0 21\n",
      "total relevant found: 1079\n",
      "nunl 20200201 75.0 25.0 250.0 4\n",
      "nunl 20200202 71.4 28.6 42.9 7\n",
      "nunl 20200203 42.9 57.1 28.6 7\n",
      "nunl 20200204 71.4 28.6 57.1 7\n",
      "nunl 20200205 100.0 0 0 3\n",
      "nunl 20200206 75.0 25.0 125.0 4\n",
      "nunl 20200207 57.1 42.9 71.4 14\n",
      "nunl 20200208 0 100.0 600.0 1\n",
      "nunl 20200209 100.0 0 150.0 2\n",
      "nunl 20200210 100.0 0 33.3 3\n",
      "nunl 20200211 100.0 0 200.0 1\n",
      "nunl 20200212 error\n",
      "nunl 20200213 50.0 50.0 75.0 8\n",
      "nunl 20200214 error\n",
      "nunl 20200215 57.1 42.9 0 7\n",
      "nunl 20200216 error\n",
      "nunl 20200217 78.3 21.7 56.5 23\n",
      "nunl 20200218 100.0 0 300.0 2\n",
      "nunl 20200219 100.0 0 0 1\n",
      "nunl 20200220 error\n",
      "nunl 20200221 error\n",
      "nunl 20200222 50.0 50.0 250.0 2\n",
      "nunl 20200223 62.5 37.5 87.5 8\n",
      "nunl 20200224 61.9 38.1 76.2 21\n",
      "nunl 20200225 77.4 22.6 52.8 53\n",
      "nunl 20200226 67.7 32.3 48.4 31\n",
      "nunl 20200227 85.7 14.3 42.9 28\n",
      "nunl 20200228 58.1 41.9 53.2 62\n",
      "nunl 20200229 77.3 22.7 81.8 22\n",
      "nunl 20200230 error\n",
      "nunl 20200231 error\n",
      "nunl 20200301 63.6 36.4 63.6 33\n",
      "nunl 20200302 76.9 23.1 69.2 52\n",
      "nunl 20200303 73.7 26.3 94.7 38\n",
      "nunl 20200304 59.3 40.7 59.3 27\n",
      "nunl 20200305 74.5 25.5 55.3 47\n",
      "nunl 20200306 69.0 31.0 89.7 29\n",
      "nunl 20200307 70.8 29.2 108.3 24\n",
      "nunl 20200308 92.0 8.0 52.0 25\n",
      "nunl 20200309 50.0 50.0 200.0 4\n",
      "nunl 20200310 77.8 22.2 55.6 9\n",
      "nunl 20200311 73.9 26.1 65.2 23\n",
      "nunl 20200312 86.1 13.9 111.1 36\n",
      "nunl 20200313 77.5 22.5 115.0 40\n",
      "nunl 20200314 84.6 15.4 138.5 13\n",
      "nunl 20200315 77.1 22.9 68.6 35\n",
      "nunl 20200316 78.6 21.4 96.4 28\n",
      "nunl 20200317 77.6 22.4 63.8 58\n",
      "nunl 20200318 74.0 26.0 98.0 196\n",
      "nunl 20200319 76.1 23.9 105.1 138\n",
      "nunl 20200320 69.3 30.7 77.3 75\n",
      "nunl 20200321 78.8 21.2 85.4 137\n",
      "nunl 20200322 83.0 17.0 75.0 88\n",
      "nunl 20200323 79.1 20.9 118.6 43\n",
      "nunl 20200324 72.4 27.6 105.2 58\n",
      "nunl 20200325 62.1 37.9 100.0 29\n",
      "nunl 20200326 83.3 16.7 113.9 36\n",
      "nunl 20200327 73.5 26.5 159.2 49\n",
      "nunl 20200328 73.5 26.5 62.8 113\n",
      "nunl 20200329 88.5 11.5 115.4 26\n",
      "nunl 20200330 85.7 14.3 130.6 49\n",
      "nunl 20200331 80.9 19.1 102.1 47\n",
      "nunl 20200401 80.4 19.6 95.7 46\n",
      "nunl 20200402 71.8 28.2 59.0 78\n",
      "nunl 20200403 67.4 32.6 35.8 316\n",
      "nunl 20200404 69.9 30.1 38.3 196\n",
      "nunl 20200405 67.6 32.4 41.2 34\n",
      "nunl 20200406 62.1 37.9 44.8 58\n",
      "nunl 20200407 65.5 34.5 85.5 55\n",
      "nunl 20200408 80.6 19.4 58.3 103\n",
      "nunl 20200409 78.6 21.4 93.1 145\n",
      "nunl 20200410 69.3 30.7 37.5 352\n",
      "nunl 20200411 78.3 21.7 58.0 138\n",
      "nunl 20200412 69.6 30.4 42.9 56\n",
      "nunl 20200413 81.7 18.3 38.3 60\n",
      "nunl 20200414 77.8 22.2 66.7 81\n",
      "nunl 20200415 83.7 16.3 79.1 86\n",
      "nunl 20200416 80.9 19.1 49.6 282\n",
      "nunl 20200417 79.1 20.9 63.4 134\n",
      "nunl 20200418 75.0 25.0 44.3 88\n",
      "nunl 20200419 57.1 42.9 67.3 49\n",
      "nunl 20200420 73.7 26.3 67.1 152\n",
      "nunl 20200421 73.1 26.9 66.7 93\n",
      "nunl 20200422 78.8 21.2 91.3 104\n",
      "nunl 20200423 74.2 25.8 116.1 31\n",
      "nunl 20200424 77.2 22.8 50.0 114\n",
      "nunl 20200425 69.3 30.7 47.5 101\n",
      "nunl 20200426 80.3 19.7 64.5 76\n",
      "nunl 20200427 77.1 22.9 94.3 35\n",
      "nunl 20200428 75.5 24.5 79.2 53\n",
      "nunl 20200429 75.8 24.2 49.2 124\n",
      "nunl 20200430 79.8 20.2 71.9 114\n",
      "nunl 20200431 error\n",
      "nunl 20200501 69.9 30.1 56.1 123\n",
      "nunl 20200502 83.9 16.1 77.4 31\n",
      "nunl 20200503 72.8 27.2 51.0 147\n",
      "nunl 20200504 69.6 30.4 62.8 207\n",
      "nunl 20200505 72.9 27.1 83.3 48\n",
      "nunl 20200506 72.4 27.6 48.0 377\n",
      "nunl 20200507 71.8 28.2 53.8 461\n",
      "nunl 20200508 71.3 28.7 51.2 129\n",
      "nunl 20200509 76.6 23.4 82.8 64\n",
      "nunl 20200510 76.3 23.7 40.2 97\n",
      "nunl 20200511 69.4 30.6 73.5 98\n",
      "nunl 20200512 68.2 31.8 65.9 44\n",
      "nunl 20200513 75.0 25.0 49.1 108\n",
      "nunl 20200514 78.4 21.6 46.6 88\n",
      "nunl 20200515 78.7 21.3 78.7 47\n",
      "nunl 20200516 72.8 27.2 50.5 103\n",
      "nunl 20200517 85.3 14.7 76.5 34\n",
      "nunl 20200518 68.1 31.9 51.1 47\n",
      "nunl 20200519 64.6 35.4 61.6 99\n",
      "nunl 20200520 63.8 36.2 91.4 58\n",
      "nunl 20200521 70.5 29.5 70.5 132\n",
      "nunl 20200522 73.8 26.2 44.6 65\n",
      "nunl 20200523 59.1 40.9 59.1 22\n",
      "nunl 20200524 50.0 50.0 190.0 10\n",
      "nunl 20200525 84.0 16.0 72.0 25\n",
      "nunl 20200526 80.8 19.2 42.3 26\n",
      "nunl 20200527 67.6 32.4 64.9 37\n",
      "nunl 20200528 76.5 23.5 88.2 34\n",
      "nunl 20200529 87.0 13.0 69.6 23\n",
      "nunl 20200530 68.0 32.0 76.0 25\n",
      "nunl 20200531 73.4 26.6 37.6 109\n",
      "nunl 20200601 66.7 33.3 68.5 54\n",
      "nunl 20200602 70.9 29.1 88.3 103\n",
      "nunl 20200603 73.1 26.9 92.3 26\n",
      "nunl 20200604 80.0 20.0 86.7 45\n",
      "nunl 20200605 48.0 52.0 68.0 25\n",
      "nunl 20200606 74.3 25.7 34.3 35\n",
      "nunl 20200607 73.6 26.4 64.2 53\n",
      "nunl 20200608 80.6 19.4 58.3 36\n",
      "nunl 20200609 72.1 27.9 97.7 43\n",
      "nunl 20200610 72.1 27.9 75.0 68\n",
      "nunl 20200611 66.7 33.3 116.7 6\n",
      "nunl 20200612 72.0 28.0 74.7 75\n",
      "nunl 20200613 50.0 50.0 100.0 18\n",
      "nunl 20200614 77.6 22.4 69.4 49\n",
      "nunl 20200615 73.1 26.9 84.6 26\n",
      "nunl 20200616 75.4 24.6 44.6 65\n",
      "nunl 20200617 70.6 29.4 88.2 17\n",
      "nunl 20200618 83.3 16.7 150.0 6\n",
      "nunl 20200619 63.3 36.7 91.8 49\n",
      "nunl 20200620 69.6 30.4 34.8 23\n",
      "nunl 20200621 65.4 34.6 50.0 26\n",
      "nunl 20200622 66.7 33.3 108.3 12\n",
      "nunl 20200623 74.4 25.6 30.2 43\n",
      "nunl 20200624 73.6 26.4 51.4 72\n",
      "nunl 20200625 76.2 23.8 157.1 21\n",
      "nunl 20200626 73.7 26.3 63.2 19\n",
      "nunl 20200627 58.3 41.7 133.3 12\n",
      "nunl 20200628 52.6 47.4 36.8 19\n",
      "nunl 20200629 61.5 38.5 153.8 13\n",
      "nunl 20200630 71.0 29.0 49.8 217\n",
      "nunl 20200631 error\n",
      "nunl 20200701 70.8 29.2 54.2 24\n",
      "nunl 20200702 81.8 18.2 18.2 11\n",
      "nunl 20200703 100.0 0 0 3\n",
      "nunl 20200704 66.7 33.3 33.3 3\n",
      "nunl 20200705 75.0 25.0 81.2 16\n",
      "nunl 20200706 70.0 30.0 10.0 30\n",
      "nunl 20200707 82.9 17.1 70.7 82\n",
      "nunl 20200708 81.0 19.0 95.2 21\n",
      "nunl 20200709 80.0 20.0 75.0 20\n",
      "nunl 20200710 74.8 25.2 43.5 115\n",
      "nunl 20200711 65.7 34.3 53.7 108\n",
      "nunl 20200712 60.7 39.3 64.3 28\n",
      "nunl 20200713 85.7 14.3 114.3 7\n",
      "nunl 20200714 62.9 37.1 68.6 35\n",
      "nunl 20200715 56.7 43.3 70.0 30\n",
      "nunl 20200716 72.1 27.9 51.0 247\n",
      "nunl 20200717 65.9 34.1 47.2 123\n",
      "nunl 20200718 79.5 20.5 40.2 112\n",
      "nunl 20200719 70.0 30.0 35.3 150\n",
      "nunl 20200720 62.2 37.8 66.7 45\n",
      "nunl 20200721 73.1 26.9 29.2 130\n",
      "nunl 20200722 70.7 29.3 62.0 300\n",
      "nunl 20200723 74.6 25.4 40.8 1604\n",
      "nunl 20200724 73.0 27.0 44.6 870\n",
      "nunl 20200725 70.1 29.9 69.2 107\n",
      "nunl 20200726 78.8 21.2 87.9 33\n",
      "nunl 20200727 74.1 25.9 68.5 54\n",
      "nunl 20200728 71.2 28.8 47.1 323\n",
      "nunl 20200729 65.0 35.0 48.3 203\n",
      "nunl 20200730 71.9 28.1 43.3 890\n",
      "nunl 20200731 69.6 30.4 52.9 263\n",
      "total relevant found: 15461\n"
     ]
    }
   ],
   "source": [
    "results = {}\n",
    "totals = {}\n",
    "for source in SOURCES:\n",
    "    dataDirectory = DATADIRECTORIES[source]\n",
    "    total = 0\n",
    "    results[source] = {}\n",
    "    for month in \"202002 202003 202004 202005 202006 202007\".split():\n",
    "        for day in range(1,MAXDAYSPERMONTH+1):\n",
    "            date = month+str(day).zfill(2)\n",
    "            try:\n",
    "                labels = classify(date,QUERY,model,dataDirectory=dataDirectory)\n",
    "                if not REJECTS in labels: labels[REJECTS] = 0\n",
    "                if not SUPPORTS in labels: labels[SUPPORTS] = 0\n",
    "                if not IRRELEVANT in labels: labels[IRRELEVANT] = 0\n",
    "                if labels[REJECTS]+labels[SUPPORTS]+labels[IRRELEVANT] > 0:\n",
    "                    results[source][date] = labels\n",
    "                    print(source,date,labels[REJECTS],labels[SUPPORTS],labels[IRRELEVANT],labels[TOTAL])\n",
    "                    total += labels[TOTAL]\n",
    "            except:\n",
    "                print(source,date,\"error\")\n",
    "    totals[source] = total\n",
    "    print(\"total relevant found:\",total)"
   ]
  },
  {
   "cell_type": "code",
   "execution_count": 37,
   "metadata": {},
   "outputs": [
    {
     "data": {
      "text/plain": [
       "{'twitter': 366651, 'reddit': 1079, 'nunl': 15461}"
      ]
     },
     "execution_count": 37,
     "metadata": {},
     "output_type": "execute_result"
    }
   ],
   "source": [
    "totals"
   ]
  },
  {
   "cell_type": "code",
   "execution_count": 38,
   "metadata": {},
   "outputs": [
    {
     "name": "stdout",
     "output_type": "stream",
     "text": [
      "twitter {'__label__IRRELEVANT': 277506, '__label__REJECTS': 314777, '__label__SUPPORTS': 51874, 'total': 366651}\n",
      "reddit {'__label__IRRELEVANT': 707, '__label__REJECTS': 820, '__label__SUPPORTS': 259, 'total': 1079}\n",
      "nunl {'__label__IRRELEVANT': 8946, '__label__REJECTS': 11283, '__label__SUPPORTS': 4178, 'total': 15461}\n"
     ]
    }
   ],
   "source": [
    "for platform in \"twitter reddit nunl\".split():\n",
    "    counts = {}\n",
    "    for date in results[platform]:\n",
    "        if TOTAL in results[platform][date] and results[platform][date][TOTAL] > 0:\n",
    "            for label in results[platform][date].keys():\n",
    "                if not label in counts: counts[label] = 0\n",
    "                if label == TOTAL: counts[label] += results[platform][date][label]\n",
    "                else: counts[label] += round(results[platform][date][TOTAL]*results[platform][date][label]/100.0)\n",
    "    print(platform,counts)"
   ]
  },
  {
   "cell_type": "markdown",
   "metadata": {},
   "source": [
    "Social distancing:\n",
    "twitter {'__label__IRRELEVANT': 73379, '__label__REJECTS': 156775, '__label__SUPPORTS': 589930, 'total': 746705}\n",
    "reddit {'__label__SUPPORTS': 2054, 'total': 2240, '__label__REJECTS': 186, '__label__IRRELEVANT': 43}\n",
    "nunl {'__label__SUPPORTS': 24547, 'total': 29500, '__label__REJECTS': 4953, '__label__IRRELEVANT': 585}\n",
    "Face masks:\n",
    "twitter {'__label__IRRELEVANT': 279286, '__label__REJECTS': 313765, '__label__SUPPORTS': 51141, 'total': 364906}\n",
    "reddit {'__label__IRRELEVANT': 703, '__label__REJECTS': 824, '__label__SUPPORTS': 262, 'total': 1086}\n",
    "nunl {'__label__IRRELEVANT': 8939, '__label__REJECTS': 11289, '__label__SUPPORTS': 4181, 'total': 15470}"
   ]
  },
  {
   "cell_type": "markdown",
   "metadata": {},
   "source": [
    "## Visualization over time"
   ]
  },
  {
   "cell_type": "code",
   "execution_count": 39,
   "metadata": {},
   "outputs": [],
   "source": [
    "import datetime\n",
    "import matplotlib\n",
    "import matplotlib.pyplot as plt\n",
    "import matplotlib.dates as mdates\n",
    "from pandas.plotting import register_matplotlib_converters\n",
    "register_matplotlib_converters()"
   ]
  },
  {
   "cell_type": "code",
   "execution_count": 40,
   "metadata": {},
   "outputs": [],
   "source": [
    "def movingAverage(numberList,size):\n",
    "    newList = []\n",
    "    for i in range(0,len(numberList)):\n",
    "        numberUsed = 1\n",
    "        newList.append(numberList[i])\n",
    "        for j in range(1,size):\n",
    "            if i-j >= 0:\n",
    "                newList[i] += numberList[i-j]\n",
    "                numberUsed += 1\n",
    "        newList[i] /= numberUsed\n",
    "    return(newList)"
   ]
  },
  {
   "cell_type": "code",
   "execution_count": 41,
   "metadata": {},
   "outputs": [
    {
     "data": {
      "image/png": "[encoded data removed]",
      "text/plain": [
       "<Figure size 864x432 with 1 Axes>"
      ]
     },
     "metadata": {
      "needs_background": "light"
     },
     "output_type": "display_data"
    }
   ],
   "source": [
    "DATEFORMAT = \"%Y%m%d\"\n",
    "DAYSCOMBINED = 7\n",
    "STARTDATE = \"20200310\"\n",
    "LABELS = {TWITTER:\"Twitter ({0})\".format(totals[TWITTER]),\\\n",
    "          NUNL:\"Nu.nl ({0})\".format(totals[NUNL]),\\\n",
    "          REDDIT:\"Reddit ({0})\".format(totals[REDDIT])}\n",
    "if TOPIC == DISTANCE:\n",
    "    PLOTFILENAME = \"social-distancing-all.png\"\n",
    "elif TOPIC == FACEMASK:\n",
    "    PLOTFILENAME = \"mondkapje-all.png\"\n",
    "else:\n",
    "    print(\"unknown topic!\",file=sys.stderr)\n",
    "    sys.exit(1)\n",
    "\n",
    "x = {}\n",
    "ySupports = {}\n",
    "plt.subplots(figsize=(12,6))\n",
    "font = {\"size\":16}\n",
    "matplotlib.rc(\"font\",**font)\n",
    "ax = plt.subplot(111)\n",
    "for source in [REDDIT,NUNL,TWITTER]:\n",
    "    x[source] = [datetime.datetime.strptime(k,DATEFORMAT) for k in results[source].keys()]\n",
    "    ySupports[source] = movingAverage([results[source][k][SUPPORTS] for k in results[source].keys()],DAYSCOMBINED)\n",
    "    xPart = [x[source][i] for i in range(0,len(x[source])) if x[source][i] >= datetime.datetime.strptime(STARTDATE,DATEFORMAT)] \n",
    "    ySupportsPart = [ySupports[source][i] for i in range(0,len(x[source])) if x[source][i] >= datetime.datetime.strptime(STARTDATE,DATEFORMAT)] \n",
    "    plt.plot_date(xPart,ySupportsPart,fmt=\"-\",label=LABELS[source])\n",
    "plt.legend()\n",
    "plt.ylabel(\"percentage\")\n",
    "plt.xlabel(\"day/month\")\n",
    "if TOPIC == FACEMASK:\n",
    "    plt.title(\"Support for general public not wearing face masks per medium over time\")\n",
    "elif TOPIC == DISTANCE:\n",
    "    plt.title(\"Support for social distancing per medium over time (average over \"+str(DAYSCOMBINED)+\" days)\")\n",
    "else:\n",
    "    print(\"unknown topic!\",file=sys.stderr)\n",
    "    sys.exit(1)    \n",
    "plt.xticks([datetime.datetime.strptime(d,DATEFORMAT) for d in \"20200301 2020401 20200501 20200601 20200701 20200801\".split()])\n",
    "ax.xaxis.set_major_formatter(mdates.DateFormatter(\"%-d/%-m\"))\n",
    "plt.savefig(PLOTFILENAME)\n",
    "plt.show()"
   ]
  },
  {
   "cell_type": "markdown",
   "metadata": {},
   "source": [
    "## Do not run any further code"
   ]
  },
  {
   "cell_type": "code",
   "execution_count": null,
   "metadata": {},
   "outputs": [],
   "source": [
    "ANNOTATED = \"annotated\"\n",
    "ANNOTATEDFILE = \"manual-annotation.csv\"\n",
    "DATE = \"date\"\n",
    "EENS = \"EENS\"\n",
    "ONEENS = \"ONEENS\"\n",
    "ANDERS = \"ANDERS\"\n",
    "TOTAL = \"total\""
   ]
  },
  {
   "cell_type": "code",
   "execution_count": null,
   "metadata": {},
   "outputs": [],
   "source": [
    "df = pd.read_csv(ANNOTATEDFILE,index_col=DATE,dtype={EENS:\"float\",ONEENS:\"float\",ANDERS:\"float\"})\n",
    "totals = []\n",
    "for i in range(0,len(df)):\n",
    "    total = df.iloc[i][EENS]+df.iloc[i][ONEENS]+df.iloc[i][ANDERS]\n",
    "    if df.iloc[i][EENS]+df.iloc[i][ONEENS] > 0:\n",
    "        df.iloc[i][EENS] = 100*df.iloc[i][EENS]/(total-df.iloc[i][ANDERS])\n",
    "        df.iloc[i][ONEENS] = 100*df.iloc[i][ONEENS]/(total-df.iloc[i][ANDERS])\n",
    "        df.iloc[i][ANDERS] = 100*df.iloc[i][ANDERS]/(total-df.iloc[i][ANDERS])\n",
    "    else: \n",
    "        df.iloc[i][ANDERS] = 100\n",
    "    totals.append(total)\n",
    "df[TOTAL] = totals\n",
    "annotatedDict = df.T.to_dict(orient=\"dict\")\n",
    "annotatedDict = {d:annotatedDict[d] for d in sorted(annotatedDict.keys())}\n",
    "results[ANNOTATED] = annotatedDict"
   ]
  },
  {
   "cell_type": "code",
   "execution_count": null,
   "metadata": {},
   "outputs": [],
   "source": [
    "PLOTFILEANNOTATED = \"manual-annotation.png\"\n",
    "\n",
    "x = {}\n",
    "ySupports = {}\n",
    "plt.subplots(figsize=(12,6))\n",
    "font = {\"size\":12}\n",
    "matplotlib.rc(\"font\",**font)\n",
    "ax = plt.subplot(111)\n",
    "for source in [TWITTER]:\n",
    "    x[source] = [datetime.datetime.strptime(k,DATEFORMAT) for k in results[source].keys()]\n",
    "    ySupports[source] = movingAverage([results[source][k][SUPPORTS] for k in results[source].keys()],DAYSCOMBINED)\n",
    "    xPart = [x[source][i] for i in range(0,len(x[source])) if x[source][i] >= datetime.datetime.strptime(STARTDATE,DATEFORMAT)] \n",
    "    ySupportsPart = [ySupports[source][i] for i in range(0,len(x[source])) if x[source][i] >= datetime.datetime.strptime(STARTDATE,DATEFORMAT)] \n",
    "    plt.plot_date(xPart,ySupportsPart,fmt=\"-\",label=\"predicted\")\n",
    "for source in [ANNOTATED]:\n",
    "    x[source] = [datetime.datetime.strptime(str(k),DATEFORMAT) for k in results[source].keys()]\n",
    "    ySupports[source] = movingAverage([results[source][k][EENS] for k in results[source].keys()],DAYSCOMBINED)\n",
    "    xPart = [x[source][i] for i in range(0,len(x[source])) if x[source][i] >= datetime.datetime.strptime(STARTDATE,DATEFORMAT)] \n",
    "    ySupportsPart = [ySupports[source][i] for i in range(0,len(x[source])) if x[source][i] >= datetime.datetime.strptime(STARTDATE,DATEFORMAT)] \n",
    "    plt.plot_date(xPart,ySupportsPart,fmt=\"-\",label=ANNOTATED)\n",
    "plt.title(\"Support for social distancing per medium over time (average over \"+str(DAYSCOMBINED)+\" days)\")\n",
    "plt.legend()\n",
    "plt.savefig(PLOTFILEANNOTATED)\n",
    "plt.show()"
   ]
  },
  {
   "cell_type": "code",
   "execution_count": null,
   "metadata": {},
   "outputs": [],
   "source": [
    "annotatedValues = []\n",
    "twitterValues = []\n",
    "\n",
    "for i in range(0,len(x[TWITTER])):\n",
    "    date = x[TWITTER][i]\n",
    "    if date >= datetime.datetime.strptime(\"20200310\",DATEFORMAT):\n",
    "        for j in range(0,len(x[ANNOTATED])):\n",
    "            if x[ANNOTATED][j] == date:\n",
    "                twitterValues.append(ySupports[TWITTER][i])\n",
    "                annotatedValues.append(ySupports[ANNOTATED][j])\n",
    "np.corrcoef(annotatedValues,twitterValues)[1][0]"
   ]
  },
  {
   "cell_type": "code",
   "execution_count": null,
   "metadata": {},
   "outputs": [],
   "source": [
    "PLOTFILENAME = \"plot.png\"\n",
    "\n",
    "plt.figure()\n",
    "plt.scatter(annotatedValues,twitterValues)\n",
    "plt.ylabel(\"Predicted support percentages\")\n",
    "plt.xlabel(\"Annotated support percentages\")\n",
    "plt.title(\"Annotated and predicted support for social distancing\")\n",
    "plt.savefig(PLOTFILENAME)\n",
    "plt.show()"
   ]
  },
  {
   "cell_type": "code",
   "execution_count": null,
   "metadata": {},
   "outputs": [],
   "source": [
    "allResults = results\n",
    "results = results[TWITTER]\n",
    "x = [datetime.datetime.strptime(k,DATEFORMAT) for k in results.keys()]\n",
    "ySupports = movingAverage([results[k][SUPPORTS] for k in results.keys()],DAYSCOMBINED)\n",
    "yRejects = movingAverage([results[k][REJECTS] for k in results.keys()],DAYSCOMBINED)\n",
    "yIrrelevant = movingAverage([results[k][IRRELEVANT] for k in results.keys()],DAYSCOMBINED)\n",
    "\n",
    "keyDates = []\n",
    "for i in range(0,len(yIrrelevant)):\n",
    "    if i < len(yIrrelevant)-1 and \\\n",
    "       (yIrrelevant[i] < 100 and yIrrelevant[i+1] >= 100 or yIrrelevant[i] >= 100 and yIrrelevant[i+1] < 100):\n",
    "        keyDates.append(list(results.keys())[i])\n",
    "        print(keyDates[-1])"
   ]
  },
  {
   "cell_type": "code",
   "execution_count": null,
   "metadata": {},
   "outputs": [],
   "source": [
    "STARTDATE = \"20200310\" # keyDates[0]\n",
    "ENDDATE = \"20201231\"\n",
    "PLOTFILEOUT = \"social-distancing.png\"\n",
    "PLOTFILEOUT = \"mondkapje.png\"\n",
    "\n",
    "results = {k:results[k] for k in sorted(results.keys())}\n",
    "font = {\"size\":14}\n",
    "matplotlib.rc(\"font\",**font)\n",
    "plt.subplots(figsize=(14,7))\n",
    "\n",
    "ax1 = plt.subplot(121)\n",
    "plt.plot_date(x,ySupports,fmt=\"-\",label=\"Supports\")\n",
    "plt.plot_date(x,yRejects,fmt=\"-\",label=\"Rejects\")\n",
    "plt.plot_date(x,yIrrelevant,fmt=\"-\",label=\"Other\")\n",
    "plt.plot_date(x,[100 for i in x],fmt=\"-\",label=\"100%\",color=\"black\")\n",
    "for date in [STARTDATE]:\n",
    "    plt.plot_date([datetime.datetime.strptime(date,DATEFORMAT)],[100],color=\"black\")\n",
    "plt.legend()\n",
    "plt.ylabel(\"percentage\")\n",
    "plt.xlabel(\"day/month\")\n",
    "plt.title(\"stance on the RIVM policy on \"+\"social\")\n",
    "\n",
    "dates = [d for d in results.keys()]\n",
    "xPart = [x[i] for i in range(0,len(dates)) if dates[i] >= STARTDATE and dates[i] <= ENDDATE]\n",
    "ySupportsPart = [ySupports[i] for i in range(0,len(dates)) if dates[i] >= STARTDATE and dates[i] <= ENDDATE] \n",
    "yRejectsPart = [yRejects[i] for i in range(0,len(dates)) if dates[i] >= STARTDATE and dates[i] <= ENDDATE]\n",
    "ax1.xaxis.set_major_formatter(mdates.DateFormatter(\"%-d/%-m\"))\n",
    "\n",
    "ax2 = plt.subplot(122)\n",
    "plt.plot_date(xPart,ySupportsPart,fmt=\"-\",label=\"Supports\")\n",
    "plt.plot_date(xPart,yRejectsPart,fmt=\"-\",label=\"Rejects\")\n",
    "plt.legend()\n",
    "plt.ylabel(\"percentage\")\n",
    "plt.xlabel(\"day/month\")\n",
    "plt.title(\"Nu.nl on social distancing (average over \"+str(DAYSCOMBINED)+\" days)\")\n",
    "plt.xticks([datetime.datetime.strptime(d,DATEFORMAT) for d in \"20200301 2020401 20200501 20200601 20200701 20200801\".split()])\n",
    "ax2.xaxis.set_major_formatter(mdates.DateFormatter(\"%-d/%-m\"))\n",
    "\n",
    "plt.savefig(PLOTFILEOUT)\n",
    "plt.show()"
   ]
  },
  {
   "cell_type": "code",
   "execution_count": null,
   "metadata": {},
   "outputs": [],
   "source": [
    "counts = {}\n",
    "for text in fasttextData:\n",
    "    label = text.split()[0]\n",
    "    if label in counts: counts[label] += 1\n",
    "    else: counts[label] = 1\n",
    "for label in counts: print(round(counts[label]/len(fasttextData),3),label)"
   ]
  },
  {
   "cell_type": "markdown",
   "metadata": {},
   "source": [
    "## Annotator comparison"
   ]
  },
  {
   "cell_type": "code",
   "execution_count": null,
   "metadata": {},
   "outputs": [],
   "source": [
    "NBROFTESTDATA = 100\n",
    "\n",
    "annotators = []\n",
    "annotatorData = {}\n",
    "kappaData = [{},{}]\n",
    "blockedTweetIds = {}\n",
    "for i in range(0,len(annotations)):\n",
    "    annotator = annotations.iloc[i][0]\n",
    "    tweetId = annotations.iloc[i][2]\n",
    "    tweetLabel = annotations.iloc[i][4]\n",
    "    if not annotator in annotatorData: \n",
    "        annotatorData[annotator] = {}\n",
    "        annotators.append(annotator)\n",
    "    annotatorData[annotator][tweetId] = tweetLabel\n",
    "    if len(annotatorData[annotator]) <= NBROFTESTDATA: blockedTweetIds[tweetId] = True\n",
    "    if len(annotators) >= 2 and not tweetId in blockedTweetIds and \\\n",
    "       tweetId in annotatorData[annotators[0]] and tweetId in annotatorData[annotators[1]]:\n",
    "        kappaData[0][tweetId] = annotatorData[annotators[0]][tweetId]\n",
    "        kappaData[1][tweetId] = annotatorData[annotators[1]][tweetId]"
   ]
  },
  {
   "cell_type": "code",
   "execution_count": null,
   "metadata": {},
   "outputs": [],
   "source": [
    "for annotator in annotatorData:\n",
    "    labelCount = {}\n",
    "    for tweetId in annotatorData[annotator]:\n",
    "        label = annotatorData[annotator][tweetId]\n",
    "        if not label in labelCount: labelCount[label] = 0\n",
    "        labelCount[label] += 1\n",
    "    print(len(annotatorData[annotator]))\n",
    "    for label in labelCount: print(round(labelCount[label]/len(annotatorData[annotator]),3),label)"
   ]
  },
  {
   "cell_type": "code",
   "execution_count": null,
   "metadata": {},
   "outputs": [],
   "source": [
    "from sklearn.metrics import cohen_kappa_score\n",
    "\n",
    "cohen_kappa_score([kappaData[0][tweetId] for tweetId in kappaData[0]],[kappaData[1][tweetId] for tweetId in kappaData[0]])"
   ]
  },
  {
   "cell_type": "code",
   "execution_count": null,
   "metadata": {},
   "outputs": [],
   "source": [
    "MAX = 100\n",
    "\n",
    "total = 0\n",
    "identical = 0\n",
    "for tweetId in annotatorData[mainAnnotator]:\n",
    "    for annotator in annotators:\n",
    "        if not annotator == mainAnnotator and tweetId in annotatorData[annotator]:\n",
    "            total += 1\n",
    "            if total <= MAX:\n",
    "                if annotatorData[annotator][tweetId] == annotatorData[mainAnnotator][tweetId]: identical += 1\n",
    "                else: \n",
    "                    print(tweetId,annotatorData[mainAnnotator][tweetId],annotatorData[annotator][tweetId])\n",
    "                    #print(tweets.loc[tweetId][TEXT])\n",
    "print(total,identical)"
   ]
  },
  {
   "cell_type": "code",
   "execution_count": null,
   "metadata": {},
   "outputs": [],
   "source": []
  }
 ],
 "metadata": {
  "kernelspec": {
   "display_name": "Python 3",
   "language": "python",
   "name": "python3"
  },
  "language_info": {
   "codemirror_mode": {
    "name": "ipython",
    "version": 3
   },
   "file_extension": ".py",
   "mimetype": "text/x-python",
   "name": "python",
   "nbconvert_exporter": "python",
   "pygments_lexer": "ipython3",
   "version": "3.7.3"
  }
 },
 "nbformat": 4,
 "nbformat_minor": 4
}
