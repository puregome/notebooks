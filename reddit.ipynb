{
 "cells": [
  {
   "cell_type": "markdown",
   "metadata": {},
   "source": [
    "# Process Reddit comments"
   ]
  },
  {
   "cell_type": "code",
   "execution_count": 1,
   "metadata": {},
   "outputs": [],
   "source": [
    "import csv\n",
    "import datetime\n",
    "import os\n",
    "import pandas as pd\n",
    "import pipes\n",
    "import re\n",
    "import sys\n",
    "import tempfile\n",
    "import matplotlib.pyplot as plt\n",
    "from IPython.display import clear_output\n",
    "from nltk.tokenize import TweetTokenizer\n",
    "\n",
    "from pandas.plotting import register_matplotlib_converters\n",
    "register_matplotlib_converters()"
   ]
  },
  {
   "cell_type": "code",
   "execution_count": 2,
   "metadata": {},
   "outputs": [],
   "source": [
    "DATADIRIN = \"../data/reddit/comments/\"\n",
    "DATADIROUT = \"../data/reddit/text/\"\n",
    "DATEFORMATOUT = \"%Y%m%d-%H\"\n",
    "SUBREDDIT = \"subreddit\"\n",
    "CREATED = \"created\"\n",
    "ID = \"id\"\n",
    "AUTHOR = \"author\"\n",
    "BODY = \"body\"\n",
    "PARENT = \"parent\"\n",
    "FILESUFFIX = \".out.gz\"\n",
    "IDSTR = \"id_str\"\n",
    "REPLYID = \"in_reply_to_status_id_str\"\n",
    "USER = \"user\"\n",
    "VERIFIED = \"verified\"\n",
    "TEXT = \"text\"\n",
    "DELETED = \"[deleted]\"\n",
    "REMOVED = \"[removed]\""
   ]
  },
  {
   "cell_type": "code",
   "execution_count": 3,
   "metadata": {},
   "outputs": [],
   "source": [
    "def squeal(text=None):\n",
    "    clear_output(wait=True)\n",
    "    if not text is None: print(text)"
   ]
  },
  {
   "cell_type": "code",
   "execution_count": 4,
   "metadata": {},
   "outputs": [],
   "source": [
    "def makeDateString(date):\n",
    "    return(datetime.datetime.strftime(datetime.datetime.fromtimestamp(date),DATEFORMATOUT))"
   ]
  },
  {
   "cell_type": "code",
   "execution_count": 5,
   "metadata": {},
   "outputs": [],
   "source": [
    "def cleanup(text):\n",
    "    text = re.sub(r\"\\\\n\",\" \",text)\n",
    "    text = re.sub(r\"https://\\S+\",\"\",text)\n",
    "    text = re.sub(r\"\\s+\",\" \",text)\n",
    "    text = text.strip()\n",
    "    return(text)\n",
    "\n",
    "def tokenize(text):\n",
    "    return(\" \".join(TweetTokenizer().tokenize(text)))\n",
    "\n",
    "def preprocess(text):\n",
    "    return(tokenize(cleanup(text)).lower())"
   ]
  },
  {
   "cell_type": "markdown",
   "metadata": {},
   "source": [
    "## Language identification"
   ]
  },
  {
   "cell_type": "code",
   "execution_count": 6,
   "metadata": {},
   "outputs": [],
   "source": [
    "TEXTCATDIR = \"/home/erikt/software/textcat/\"\n",
    "TEXTCAT = \"text_cat\"\n",
    "PERL = \"/usr/bin/perl\"\n",
    "TEXTUNKNOWN = \"I don't know; Perhaps this is a language I haven't seen before?\"\n",
    "UNKNOWN = \"unknown\"\n",
    "OR = \" or \"\n",
    "DUTCH = \"dutch\"\n",
    "AFRIKAANS = \"afrikaans\"\n",
    "FRISIAN = \"frisian\""
   ]
  },
  {
   "cell_type": "code",
   "execution_count": 7,
   "metadata": {},
   "outputs": [],
   "source": [
    "def createPipe(command):\n",
    "    pipe  = pipes.Template()\n",
    "    pipe.append(command,\"--\")\n",
    "    return(pipe)\n",
    "\n",
    "def writeAllPipeInput(pipe,text):\n",
    "    tmpFile = tempfile.NamedTemporaryFile(delete=False)\n",
    "    f = pipe.open(tmpFile.name,\"w\")\n",
    "    f.write(text)\n",
    "    f.close()\n",
    "    return(tmpFile.name)\n",
    "\n",
    "def readPipeOutput(tmpFileName):\n",
    "    tmpFile = open(tmpFileName,\"r\")\n",
    "    textOut = \"\"\n",
    "    for line in tmpFile: textOut += line\n",
    "    tmpFile.close()\n",
    "    os.unlink(tmpFileName)\n",
    "    return(textOut)\n",
    "\n",
    "def textcatString2List(text):\n",
    "    if text == TEXTUNKNOWN: return([UNKNOWN])\n",
    "    else: return(text.split(OR))\n",
    "\n",
    "def textcatLocal(textIn):\n",
    "    pipe = createPipe(PERL+\" \"+TEXTCATDIR+TEXTCAT)\n",
    "    tmpFileName = writeAllPipeInput(pipe,textIn)\n",
    "    textOut = readPipeOutput(tmpFileName)\n",
    "    return(textcatString2List(textOut.strip()))"
   ]
  },
  {
   "cell_type": "markdown",
   "metadata": {},
   "source": [
    "## Get all comments from crawled files"
   ]
  },
  {
   "cell_type": "code",
   "execution_count": 9,
   "metadata": {},
   "outputs": [
    {
     "name": "stdout",
     "output_type": "stream",
     "text": [
      "52666\n"
     ]
    }
   ],
   "source": [
    "comments = []\n",
    "files = sorted(os.listdir(DATADIRIN))\n",
    "for i in range(0,len(files)):\n",
    "    inFileName = files[i]\n",
    "    squeal(\" \".join([str(i),str(len(comments)),inFileName]))\n",
    "    df = pd.read_csv(DATADIRIN+inFileName)\n",
    "    for i in range(0,len(df)):\n",
    "        date = df.iloc[i][CREATED]\n",
    "        idStr = df.iloc[i][SUBREDDIT]+\"_\"+df.iloc[i][ID]\n",
    "        parent = df.iloc[i][PARENT]\n",
    "        user = df.iloc[i][AUTHOR]\n",
    "        text = re.sub(r\"\\n\",\" \",df.iloc[i][BODY])\n",
    "        if text == DELETED or text == REMOVED: continue\n",
    "        preprocessedText = preprocess(text)\n",
    "        languages = textcatLocal(preprocessedText)\n",
    "        if DUTCH in languages or AFRIKAANS in languages or FRISIAN in languages:\n",
    "            comments.append((makeDateString(date),idStr,parent,user,None,text))\n",
    "squeal(str(len(comments)))"
   ]
  },
  {
   "cell_type": "code",
   "execution_count": null,
   "metadata": {},
   "outputs": [],
   "source": [
    "comments"
   ]
  },
  {
   "cell_type": "markdown",
   "metadata": {},
   "source": [
    "## Store all comments in hour files"
   ]
  },
  {
   "cell_type": "code",
   "execution_count": 10,
   "metadata": {},
   "outputs": [
    {
     "name": "stdout",
     "output_type": "stream",
     "text": [
      "52600\n"
     ]
    }
   ],
   "source": [
    "idStr = \"\"\n",
    "replyId = \"\"\n",
    "verified = \"\"\n",
    "for i in range(0,len(comments)):\n",
    "    if i%100 == 0: squeal(i)\n",
    "    comment = comments[i]\n",
    "    date = comment[0]\n",
    "    user = comment[3]\n",
    "    text = comment[5]\n",
    "    outFileName = DATADIROUT+date+FILESUFFIX\n",
    "    if os.path.exists(outFileName):\n",
    "        dfOut = pd.read_csv(outFileName,compression=\"gzip\")\n",
    "        dfOut.loc[len(dfOut)] = [idStr,replyId,user,verified,text]\n",
    "    else:\n",
    "        dfOut = pd.DataFrame([{IDSTR:idStr,REPLYID:replyId,USER:user,VERIFIED:verified,TEXT:text}])\n",
    "    dfOut.to_csv(outFileName,index=False,compression=\"gzip\")"
   ]
  },
  {
   "cell_type": "code",
   "execution_count": 25,
   "metadata": {},
   "outputs": [],
   "source": [
    "commentsDays = []\n",
    "for comment in comments:\n",
    "    comment = list(comment)\n",
    "    comment[0] = comment[0][:8]\n",
    "    commentsDays.append(comment)"
   ]
  },
  {
   "cell_type": "code",
   "execution_count": 23,
   "metadata": {},
   "outputs": [],
   "source": [
    "df = pd.DataFrame(commentsDays)\n",
    "groups = df.groupby(0).groups\n",
    "dates = {f:len(groups[f]) for f in groups}"
   ]
  },
  {
   "cell_type": "code",
   "execution_count": 24,
   "metadata": {},
   "outputs": [
    {
     "data": {
      "image/png": "[encoded data removed]",
      "text/plain": [
       "<Figure size 720x360 with 1 Axes>"
      ]
     },
     "metadata": {
      "needs_background": "light"
     },
     "output_type": "display_data"
    }
   ],
   "source": [
    "DATEFORMATDAY = \"%Y%m%d\"\n",
    "\n",
    "x = [datetime.datetime.strptime(d,DATEFORMATDAY) for d in dates]\n",
    "y = [dates[d] for d in dates]\n",
    "\n",
    "plt.figure(figsize=(10,5))\n",
    "plt.plot_date(x,y,fmt=\"-\")\n",
    "plt.show()"
   ]
  },
  {
   "cell_type": "code",
   "execution_count": null,
   "metadata": {},
   "outputs": [],
   "source": []
  }
 ],
 "metadata": {
  "kernelspec": {
   "display_name": "Python 3",
   "language": "python",
   "name": "python3"
  },
  "language_info": {
   "codemirror_mode": {
    "name": "ipython",
    "version": 3
   },
   "file_extension": ".py",
   "mimetype": "text/x-python",
   "name": "python",
   "nbconvert_exporter": "python",
   "pygments_lexer": "ipython3",
   "version": "3.7.3"
  }
 },
 "nbformat": 4,
 "nbformat_minor": 4
}
