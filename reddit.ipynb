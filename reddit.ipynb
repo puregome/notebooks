{
 "cells": [
  {
   "cell_type": "markdown",
   "metadata": {},
   "source": [
    "# Process Reddit comments"
   ]
  },
  {
   "cell_type": "code",
   "execution_count": 16,
   "metadata": {},
   "outputs": [],
   "source": [
    "import csv\n",
    "import datetime\n",
    "import os\n",
    "import pandas as pd\n",
    "import pipes\n",
    "import re\n",
    "import sys\n",
    "import tempfile\n",
    "import matplotlib.pyplot as plt\n",
    "import matplotlib.dates as mdates\n",
    "from IPython.display import clear_output\n",
    "from nltk.tokenize import TweetTokenizer\n",
    "\n",
    "from pandas.plotting import register_matplotlib_converters\n",
    "register_matplotlib_converters()"
   ]
  },
  {
   "cell_type": "code",
   "execution_count": 2,
   "metadata": {},
   "outputs": [],
   "source": [
    "DATADIRIN = \"../data/reddit/comments/\"\n",
    "DATADIROUT = \"../data/reddit/text/\"\n",
    "DATEFORMATOUT = \"%Y%m%d-%H\"\n",
    "SUBREDDIT = \"subreddit\"\n",
    "CREATED = \"created\"\n",
    "ID = \"id\"\n",
    "AUTHOR = \"author\"\n",
    "BODY = \"body\"\n",
    "PARENT = \"parent\"\n",
    "FILESUFFIX = \".out.gz\"\n",
    "IDSTR = \"id_str\"\n",
    "REPLYID = \"in_reply_to_status_id_str\"\n",
    "USER = \"user\"\n",
    "VERIFIED = \"verified\"\n",
    "TEXT = \"text\"\n",
    "DELETED = \"[deleted]\"\n",
    "REMOVED = \"[removed]\""
   ]
  },
  {
   "cell_type": "code",
   "execution_count": 3,
   "metadata": {},
   "outputs": [],
   "source": [
    "def squeal(text=None):\n",
    "    clear_output(wait=True)\n",
    "    if not text is None: print(text)"
   ]
  },
  {
   "cell_type": "code",
   "execution_count": 4,
   "metadata": {},
   "outputs": [],
   "source": [
    "def makeDateString(date):\n",
    "    return(datetime.datetime.strftime(datetime.datetime.fromtimestamp(date),DATEFORMATOUT))"
   ]
  },
  {
   "cell_type": "code",
   "execution_count": 5,
   "metadata": {},
   "outputs": [],
   "source": [
    "def cleanup(text):\n",
    "    text = re.sub(r\"\\\\n\",\" \",text)\n",
    "    text = re.sub(r\"https://\\S+\",\"\",text)\n",
    "    text = re.sub(r\"\\s+\",\" \",text)\n",
    "    text = text.strip()\n",
    "    return(text)\n",
    "\n",
    "def tokenize(text):\n",
    "    return(\" \".join(TweetTokenizer().tokenize(text)))\n",
    "\n",
    "def preprocess(text):\n",
    "    return(tokenize(cleanup(text)).lower())"
   ]
  },
  {
   "cell_type": "markdown",
   "metadata": {},
   "source": [
    "## Language identification with langid"
   ]
  },
  {
   "cell_type": "code",
   "execution_count": 6,
   "metadata": {},
   "outputs": [],
   "source": [
    "import langid"
   ]
  },
  {
   "cell_type": "code",
   "execution_count": 7,
   "metadata": {},
   "outputs": [],
   "source": [
    "NL = \"nl\"\n",
    "DE = \"de\"\n",
    "AF = \"af\""
   ]
  },
  {
   "cell_type": "markdown",
   "metadata": {},
   "source": [
    "## Get all comments from crawled files"
   ]
  },
  {
   "cell_type": "code",
   "execution_count": 8,
   "metadata": {},
   "outputs": [
    {
     "name": "stdout",
     "output_type": "stream",
     "text": [
      "52965\n"
     ]
    }
   ],
   "source": [
    "comments = []\n",
    "files = sorted(os.listdir(DATADIRIN))\n",
    "for i in range(0,len(files)):\n",
    "    inFileName = files[i]\n",
    "    squeal(\" \".join([str(i),str(len(comments)),inFileName]))\n",
    "    df = pd.read_csv(DATADIRIN+inFileName)\n",
    "    for i in range(0,len(df)):\n",
    "        date = df.iloc[i][CREATED]\n",
    "        idStr = df.iloc[i][SUBREDDIT]+\"_\"+df.iloc[i][ID]\n",
    "        parent = df.iloc[i][PARENT]\n",
    "        user = df.iloc[i][AUTHOR]\n",
    "        text = re.sub(r\"\\n\",\" \",df.iloc[i][BODY])\n",
    "        if text == DELETED or text == REMOVED: continue\n",
    "        preprocessedText = preprocess(text)\n",
    "        language = langid.classify(preprocessedText)[0]\n",
    "        if language in [NL,AF,DE]:\n",
    "            comments.append((makeDateString(date),idStr,parent,user,None,text))\n",
    "squeal(str(len(comments)))"
   ]
  },
  {
   "cell_type": "markdown",
   "metadata": {},
   "source": [
    "## Store all comments in hour files"
   ]
  },
  {
   "cell_type": "code",
   "execution_count": 11,
   "metadata": {},
   "outputs": [
    {
     "name": "stdout",
     "output_type": "stream",
     "text": [
      "52964\n"
     ]
    }
   ],
   "source": [
    "idStr = \"\"\n",
    "replyId = \"\"\n",
    "verified = \"\"\n",
    "dataPerHour = {}\n",
    "for i in range(0,len(comments)):\n",
    "    if i%1000 == 0: squeal(i)\n",
    "    comment = comments[i]\n",
    "    date = comment[0]\n",
    "    user = comment[3]\n",
    "    text = comment[5]\n",
    "    if not date in dataPerHour: dataPerHour[date] = []\n",
    "    dataPerHour[date].append({IDSTR:idStr,REPLYID:replyId,USER:user,VERIFIED:verified,TEXT:text})\n",
    "squeal(i)"
   ]
  },
  {
   "cell_type": "code",
   "execution_count": 12,
   "metadata": {},
   "outputs": [],
   "source": [
    "for date in sorted(dataPerHour.keys()):\n",
    "    squeal(date)\n",
    "    outFileName = DATADIROUT+date+FILESUFFIX\n",
    "    pd.DataFrame(dataPerHour[date]).to_csv(outFileName,index=False,compression=\"gzip\")"
   ]
  },
  {
   "cell_type": "code",
   "execution_count": 13,
   "metadata": {},
   "outputs": [],
   "source": [
    "commentsDays = []\n",
    "for comment in comments:\n",
    "    comment = list(comment)\n",
    "    comment[0] = comment[0][:8]\n",
    "    commentsDays.append(comment)"
   ]
  },
  {
   "cell_type": "code",
   "execution_count": 14,
   "metadata": {},
   "outputs": [],
   "source": [
    "df = pd.DataFrame(commentsDays)\n",
    "groups = df.groupby(0).groups\n",
    "dates = {f:len(groups[f]) for f in groups}"
   ]
  },
  {
   "cell_type": "code",
   "execution_count": 21,
   "metadata": {},
   "outputs": [
    {
     "data": {
      "image/png": "[encoded data removed]",
      "text/plain": [
       "<Figure size 720x360 with 1 Axes>"
      ]
     },
     "metadata": {
      "needs_background": "light"
     },
     "output_type": "display_data"
    }
   ],
   "source": [
    "DATEFORMATDAY = \"%Y%m%d\"\n",
    "PLOTFILENAME = \"frequency-reddit.png\"\n",
    "\n",
    "x = [datetime.datetime.strptime(d,DATEFORMATDAY) for d in dates if d < \"20200801\"]\n",
    "y = [dates[d] for d in dates if d < \"20200801\"]\n",
    "\n",
    "plt.subplots(figsize=(10,5))\n",
    "ax = plt.subplot(111)\n",
    "plt.plot_date(x,y,fmt=\"-\")\n",
    "plt.xlabel(\"day/month\")\n",
    "ax.xaxis.set_major_formatter(mdates.DateFormatter(\"%-d/%-m\"))\n",
    "plt.title(\"Dutch Reddit posts on the COVID-19 pandemic per day\")\n",
    "plt.savefig(PLOTFILENAME)\n",
    "plt.show()"
   ]
  },
  {
   "cell_type": "code",
   "execution_count": null,
   "metadata": {},
   "outputs": [],
   "source": []
  }
 ],
 "metadata": {
  "kernelspec": {
   "display_name": "Python 3",
   "language": "python",
   "name": "python3"
  },
  "language_info": {
   "codemirror_mode": {
    "name": "ipython",
    "version": 3
   },
   "file_extension": ".py",
   "mimetype": "text/x-python",
   "name": "python",
   "nbconvert_exporter": "python",
   "pygments_lexer": "ipython3",
   "version": "3.7.3"
  }
 },
 "nbformat": 4,
 "nbformat_minor": 4
}
