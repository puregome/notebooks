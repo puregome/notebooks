{
 "cells": [
  {
   "cell_type": "markdown",
   "id": "cc566603-dcf3-4915-99b0-1345ffee9b26",
   "metadata": {},
   "source": [
    "# Botometer test\n",
    "\n",
    "Documentation: https://github.com/IUNetSci/botometer-python"
   ]
  },
  {
   "cell_type": "markdown",
   "id": "3d71d21d-2ca6-4818-8e96-4af8ebcae3a3",
   "metadata": {},
   "source": [
    "## 1. Load modules"
   ]
  },
  {
   "cell_type": "code",
   "execution_count": null,
   "id": "8f199102-ee06-4d02-a591-05ef7aabfeb1",
   "metadata": {},
   "outputs": [],
   "source": [
    "import botometer\n",
    "from dotenv import load_dotenv\n",
    "import json\n",
    "import os\n",
    "import pandas as pd\n",
    "from time import sleep"
   ]
  },
  {
   "cell_type": "code",
   "execution_count": null,
   "id": "a996e164-eda8-4b96-a80e-1e3424d0eae6",
   "metadata": {},
   "outputs": [],
   "source": [
    "load_dotenv()"
   ]
  },
  {
   "cell_type": "code",
   "execution_count": null,
   "id": "5cf31816-f92b-4af0-98e6-d7e3bd486b80",
   "metadata": {},
   "outputs": [],
   "source": [
    "rapidapi_key = os.getenv(\"RAPIDAPI_KEY\")\n",
    "twitter_app_auth = {\n",
    "    'consumer_key': os.getenv(\"TWITTER_CONSUMER_KEY\"),\n",
    "    'consumer_secret': os.getenv(\"TWITTER_CONSUMER_SECRET\"),\n",
    "    'access_token': os.getenv(\"TWITTER_ACCESS_TOKEN_KEY\"),\n",
    "    'access_token_secret': os.getenv(\"TWITTER_ACCESS_TOKEN_SECRET\"),\n",
    "}\n",
    "\n",
    "bom = botometer.Botometer(wait_on_ratelimit=True,\n",
    "                          rapidapi_key=rapidapi_key,\n",
    "                          **twitter_app_auth)"
   ]
  },
  {
   "cell_type": "markdown",
   "id": "18df496c-6996-4fb4-af27-aa26dd57c394",
   "metadata": {},
   "source": [
    "## 2. Functions"
   ]
  },
  {
   "cell_type": "code",
   "execution_count": null,
   "id": "4043aba9-2f03-41be-a895-57e4ebb8079e",
   "metadata": {},
   "outputs": [],
   "source": [
    "DATA_FILE_NAME = \"botometer-test.json\"\n",
    "\n",
    "\n",
    "def store_results(results):\n",
    "    out_file = open(DATA_FILE_NAME, \"w\")\n",
    "    print(json.dumps(results), file=out_file)\n",
    "    out_file.close()\n",
    "\n",
    "    \n",
    "def read_results():\n",
    "    in_file = open(DATA_FILE_NAME, \"r\")\n",
    "    text = \"\"\n",
    "    for line in in_file:\n",
    "        text += line\n",
    "    in_file.close()\n",
    "    return json.loads(text)\n",
    "\n",
    "\n",
    "def expand_results(screen_names, results):\n",
    "    for account in [ ]:\n",
    "        print(f\"processing {account}...\")\n",
    "        results[account] = bom.check_account(f\"@{account}\")\n",
    "        sleep(2)\n",
    "        \n",
    "        \n",
    "def show_results(results):\n",
    "    data = []\n",
    "    for screen_name in dict(sorted(results.items(), key=lambda x: x[1][\"cap\"][\"universal\"], reverse=True)):\n",
    "        user_data = results[screen_name]\n",
    "        data.append({\"bot_score\": f\"{user_data['cap']['universal']:.2f}\", \"language\": user_data[\"user\"][\"majority_lang\"], \"screen_name\": user_data[\"user\"][\"user_data\"][\"screen_name\"]})\n",
    "    return pd.DataFrame(data)"
   ]
  },
  {
   "cell_type": "markdown",
   "id": "4458f746-8ce3-43d0-b2d6-7c808fc75dad",
   "metadata": {},
   "source": [
    "## 3. Process data"
   ]
  },
  {
   "cell_type": "code",
   "execution_count": null,
   "id": "f86bddab-ea57-40b2-9079-2fc931334ca9",
   "metadata": {},
   "outputs": [],
   "source": [
    "results = read_results()"
   ]
  },
  {
   "cell_type": "code",
   "execution_count": null,
   "id": "71eb9b95-f113-42d0-9cca-c80fbf85c7e4",
   "metadata": {},
   "outputs": [],
   "source": [
    "process_results([])"
   ]
  },
  {
   "cell_type": "code",
   "execution_count": null,
   "id": "ba7370c7-dc24-47e4-ab72-60119ab1eff9",
   "metadata": {},
   "outputs": [],
   "source": [
    "store_results(results)"
   ]
  },
  {
   "cell_type": "code",
   "execution_count": null,
   "id": "9295a6a3-cadf-4f31-a586-b936db7b3ef4",
   "metadata": {},
   "outputs": [],
   "source": [
    "show_results(results)"
   ]
  },
  {
   "cell_type": "code",
   "execution_count": null,
   "id": "145e9e9d-2c45-4b1b-89ba-123df30b04b9",
   "metadata": {},
   "outputs": [],
   "source": []
  }
 ],
 "metadata": {
  "kernelspec": {
   "display_name": "python37",
   "language": "python",
   "name": "python37"
  },
  "language_info": {
   "codemirror_mode": {
    "name": "ipython",
    "version": 3
   },
   "file_extension": ".py",
   "mimetype": "text/x-python",
   "name": "python",
   "nbconvert_exporter": "python",
   "pygments_lexer": "ipython3",
   "version": "3.7.3"
  }
 },
 "nbformat": 4,
 "nbformat_minor": 5
}
