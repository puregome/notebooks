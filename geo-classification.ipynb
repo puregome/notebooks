{
 "cells": [
  {
   "cell_type": "markdown",
   "metadata": {},
   "source": [
    "## Geo classification\n",
    "\n",
    "Divide tweets based on their geographic location and perform stance analysis per group."
   ]
  },
  {
   "cell_type": "code",
   "execution_count": 1,
   "metadata": {},
   "outputs": [],
   "source": [
    "import ast\n",
    "import fasttext\n",
    "import os\n",
    "import pandas as pd\n",
    "import re\n",
    "import sys\n",
    "\n",
    "from IPython.display import clear_output\n",
    "from nltk.tokenize import TweetTokenizer"
   ]
  },
  {
   "cell_type": "code",
   "execution_count": 17,
   "metadata": {},
   "outputs": [],
   "source": [
    "BELGIUM = \"Belgium\"\n",
    "BESTDIM = 200\n",
    "BESTEPOCH = 200\n",
    "BESTLR = 0.2\n",
    "DATE = \"date\"\n",
    "DISTANCE = \"distance\"\n",
    "FACEMASK = \"mondkapje\"\n",
    "IRRELEVANT = \"IRRELEVANT\"\n",
    "MONTH = \"202006\"\n",
    "NETHERLANDS = \"Netherlands\"\n",
    "MAXDAYSPERMONTH = 31\n",
    "QUERYDISTANCE = \"1[.,]5[ -]*m|afstand.*hou|hou.*afstand|anderhalve[ -]*meter\"\n",
    "QUERYFACEMASK = FACEMASK\n",
    "NIELSEN = \"nielsen\"\n",
    "SCREENNAME = \"screenname\"\n",
    "TEXT = \"text\"\n",
    "TEXTDATADIRECTORY = \"../data/text/\"\n",
    "TOPIC = DISTANCE\n",
    "TOTAL = \"total\"\n",
    "USER = \"user\"\n",
    "\n",
    "LOCATIONFILE = F\"locations-{MONTH}.csv\"\n",
    "MODELFILE = f\"model-{TOPIC}-{BESTDIM}-{BESTEPOCH}-{BESTLR}.bin\""
   ]
  },
  {
   "cell_type": "code",
   "execution_count": 3,
   "metadata": {},
   "outputs": [],
   "source": [
    "def squeal(text=None):\n",
    "    clear_output(wait=True)\n",
    "    if not text is None: print(text)\n",
    "        \n",
    "def cleanup(text):\n",
    "    text = re.sub(r\"\\\\n\",\" \",text)\n",
    "    text = re.sub(r\"https://\\S+\",\"\",text)\n",
    "    text = re.sub(r\"\\s+\",\" \",text)\n",
    "    text = text.strip()\n",
    "    return(text)\n",
    "\n",
    "def tokenize(text):\n",
    "    return(\" \".join(TweetTokenizer().tokenize(text)))\n",
    "\n",
    "def preprocess(text):\n",
    "    return(tokenize(cleanup(text)).lower())\n",
    "\n",
    "def selectBelgiumNetherlands(locationDf,locationFile):\n",
    "    locationsDict = { locationsDf.index[i]:locationsDf.iloc[i] for i in range(0,len(locationsDf)) \\\n",
    "                      if re.search(f\"{BELGIUM}|{NETHERLANDS}\",locationsDf.iloc[i][NIELSEN]) }\n",
    "    pd.DataFrame(locationsDict).T.to_csv(locationFile,index_label=SCREENNAME)\n",
    "\n",
    "def readDataGeo(datePattern,query,locationsDf,dataDirectory=TEXTDATADIRECTORY):\n",
    "    fileList = sorted(os.listdir(dataDirectory))\n",
    "    testData = {}\n",
    "    for inFileName in fileList:\n",
    "        if re.search(datePattern,inFileName) and os.path.exists(dataDirectory+inFileName):\n",
    "            squeal(inFileName)\n",
    "            try:\n",
    "                fileData = pd.read_csv(dataDirectory+inFileName).drop_duplicates()\n",
    "                for i in range(0,len(fileData)):\n",
    "                    user = fileData.iloc[i][USER]\n",
    "                    if user in locationsDf.index:\n",
    "                        nielsen = locationsDf.loc[user][NIELSEN]\n",
    "                        if not nielsen in testData: testData[nielsen] = []\n",
    "                        testData[nielsen].append(preprocess(fileData.iloc[i][TEXT]))\n",
    "            except:\n",
    "                pass\n",
    "    return(testData)\n",
    "\n",
    "def classifyGeo(datePattern,query,model,locationsDf,dataDirectory=TEXTDATADIRECTORY):\n",
    "    labelPercentages = {}\n",
    "    testData = readDataGeo(datePattern,query,locationsDf,dataDirectory)\n",
    "    for location in testData:\n",
    "        predictedLabels = model.predict(testData[location])\n",
    "        predictedGroups = pd.DataFrame(predictedLabels[0]).groupby(0).groups\n",
    "        labelCountsPredicted = {label:len(predictedGroups[label]) for label in predictedGroups}\n",
    "        nbrOfLabels = sum([labelCountsPredicted[label] for label in labelCountsPredicted if label != IRRELEVANT])\n",
    "        labelPercentages[location] = { label:round(100*labelCountsPredicted[label]/nbrOfLabels,1) for label in labelCountsPredicted}\n",
    "        labelPercentages[location][TOTAL] = nbrOfLabels\n",
    "    return(labelPercentages)"
   ]
  },
  {
   "cell_type": "code",
   "execution_count": 4,
   "metadata": {},
   "outputs": [
    {
     "name": "stderr",
     "output_type": "stream",
     "text": [
      "Warning : `load_model` does not return WordVectorModel or SupervisedModel any more, but a `FastText` object which is very similar.\n"
     ]
    }
   ],
   "source": [
    "locationsDf = pd.read_csv(LOCATIONFILE,index_col=SCREENNAME)\n",
    "fastTextModel = fasttext.load_model(MODELFILE)\n",
    "#selectBelgiumNetherlands(locationsDf,LOCATIONFILE)"
   ]
  },
  {
   "cell_type": "markdown",
   "metadata": {},
   "source": [
    "### (time-consuming...)"
   ]
  },
  {
   "cell_type": "code",
   "execution_count": 5,
   "metadata": {},
   "outputs": [
    {
     "name": "stdout",
     "output_type": "stream",
     "text": [
      "20200731-23.out.gz\n"
     ]
    }
   ],
   "source": [
    "results = {}\n",
    "for month in MONTH.split():\n",
    "    for day in range(1,MAXDAYSPERMONTH+1):\n",
    "        date = month+str(day).zfill(2)\n",
    "        results[date] = classifyGeo(date,QUERYDISTANCE,fastTextModel,locationsDf)"
   ]
  },
  {
   "cell_type": "code",
   "execution_count": 7,
   "metadata": {},
   "outputs": [],
   "source": [
    "pd.DataFrame(results).T.to_csv(f\"results-{TOPIC}-{MONTH}.csv\",index_label=DATE)"
   ]
  },
  {
   "cell_type": "markdown",
   "metadata": {},
   "source": [
    "## Visualization"
   ]
  },
  {
   "cell_type": "code",
   "execution_count": 8,
   "metadata": {},
   "outputs": [],
   "source": [
    "import datetime\n",
    "import matplotlib.pyplot as plt\n",
    "\n",
    "from pandas.plotting import register_matplotlib_converters\n",
    "register_matplotlib_converters()"
   ]
  },
  {
   "cell_type": "code",
   "execution_count": 15,
   "metadata": {},
   "outputs": [],
   "source": [
    "DATEFORMAT = \"%Y%m%d\"\n",
    "SUPPORTS = \"__label__SUPPORTS\"\n",
    "REJECTS = \"__label__REJECTS\"\n",
    "PLOTFILENAME = f\"stance-{DISTANCE}-geo.png\"\n",
    "WEEKLENGTH = 7"
   ]
  },
  {
   "cell_type": "code",
   "execution_count": 14,
   "metadata": {},
   "outputs": [],
   "source": [
    "def movingAverage(numberList,size):\n",
    "    newList = []\n",
    "    for i in range(0,len(numberList)):\n",
    "        numberUsed = 1\n",
    "        newList.append(numberList[i])\n",
    "        for j in range(1,size):\n",
    "            if i-j >= 0:\n",
    "                newList[i] += numberList[i-j]\n",
    "                numberUsed += 1\n",
    "        newList[i] /= numberUsed\n",
    "    return(newList)"
   ]
  },
  {
   "cell_type": "code",
   "execution_count": 16,
   "metadata": {},
   "outputs": [
    {
     "data": {
      "image/png": "[encoded data removed]",
      "text/plain": [
       "<Figure size 720x360 with 1 Axes>"
      ]
     },
     "metadata": {
      "needs_background": "light"
     },
     "output_type": "display_data"
    }
   ],
   "source": [
    "results = {}\n",
    "for month in \"202006 202007 202008\".split():\n",
    "    resultsDf = pd.read_csv(f\"results-{TOPIC}-{month}.csv\",index_col=DATE)\n",
    "    results = {**results,**(resultsDf.T.to_dict())}\n",
    "\n",
    "for date in sorted(results.keys()):\n",
    "    toBeDeleted = []\n",
    "    for nielsen in results[date].keys():\n",
    "        try:\n",
    "            results[date][nielsen] = ast.literal_eval(results[date][nielsen])\n",
    "        except:\n",
    "            toBeDeleted.append((date,nielsen))\n",
    "    for date,nielsen in toBeDeleted: del(results[date][nielsen])\n",
    "\n",
    "for date in sorted(results.keys()):\n",
    "    for country in [BELGIUM,NETHERLANDS]:\n",
    "        if not country in results[date]: results[date][country] = {}\n",
    "        for nielsen in results[date].keys():\n",
    "            if nielsen != country and re.search(country,nielsen):\n",
    "                for label in results[date][nielsen]:\n",
    "                    if label != TOTAL:\n",
    "                        if not label in results[date][country]: results[date][country][label] = 0\n",
    "                        results[date][country][label] = (results[date][country][label]*results[date][country][TOTAL]+\\\n",
    "                                                         results[date][nielsen][label]*results[date][nielsen][TOTAL])/\\\n",
    "                                                        (results[date][country][TOTAL]+results[date][nielsen][TOTAL])\n",
    "                for label in results[date][nielsen]:\n",
    "                    results[date][BELGIUM][TOTAL] += results[date][nielsen][TOTAL]\n",
    "        \n",
    "x = {}\n",
    "y = {}\n",
    "for date in sorted(results.keys()):\n",
    "    for nielsen in sorted(results[date].keys()):\n",
    "        if not re.search(NIELSEN,nielsen.lower()):\n",
    "            if not SUPPORTS in results[date][nielsen]: results[date][nielsen][SUPPORTS] = 0.0\n",
    "            if not REJECTS in results[date][nielsen]: results[date][nielsen][REJECTS] = 0.0\n",
    "            if results[date][nielsen][SUPPORTS] + results[date][nielsen][REJECTS] > 0:\n",
    "                if not nielsen in x:\n",
    "                    x[nielsen] = []\n",
    "                    y[nielsen] = []\n",
    "                x[nielsen].append(datetime.datetime.strptime(str(date),DATEFORMAT))\n",
    "                y[nielsen].append(results[date][nielsen][SUPPORTS]/(results[date][nielsen][SUPPORTS]+results[date][nielsen][REJECTS]))\n",
    "\n",
    "plt.figure(figsize=(10,5))\n",
    "for nielsen in x:\n",
    "    plt.plot_date(x[nielsen],movingAverage(y[nielsen],WEEKLENGTH),fmt=\"-\",label=nielsen)\n",
    "plt.legend()\n",
    "plt.savefig(PLOTFILENAME)\n",
    "plt.show()"
   ]
  },
  {
   "cell_type": "markdown",
   "metadata": {},
   "source": [
    "## Sandbox"
   ]
  },
  {
   "cell_type": "code",
   "execution_count": null,
   "metadata": {},
   "outputs": [],
   "source": []
  }
 ],
 "metadata": {
  "kernelspec": {
   "display_name": "Python 3",
   "language": "python",
   "name": "python3"
  },
  "language_info": {
   "codemirror_mode": {
    "name": "ipython",
    "version": 3
   },
   "file_extension": ".py",
   "mimetype": "text/x-python",
   "name": "python",
   "nbconvert_exporter": "python",
   "pygments_lexer": "ipython3",
   "version": "3.7.3"
  }
 },
 "nbformat": 4,
 "nbformat_minor": 4
}
