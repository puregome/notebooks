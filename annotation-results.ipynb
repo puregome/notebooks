{
 "cells": [
  {
   "cell_type": "markdown",
   "metadata": {},
   "source": [
    "## Annotation results\n",
    "\n",
    "Extract annotations of specific user from annotation files."
   ]
  },
  {
   "cell_type": "code",
   "execution_count": null,
   "metadata": {},
   "outputs": [],
   "source": [
    "import pandas as pd"
   ]
  },
  {
   "cell_type": "code",
   "execution_count": null,
   "metadata": {},
   "outputs": [],
   "source": [
    "ANNOTATION_DATA_FILE = \"csv/202009-distance-twitter.csv\"\n",
    "ANNOTATIONS_FILE = \"csv/202009-distance-twitter.csv.human-labels.txt\""
   ]
  },
  {
   "cell_type": "code",
   "execution_count": null,
   "metadata": {},
   "outputs": [],
   "source": [
    "def read_annotations():\n",
    "    annotation_data_df = pd.read_csv(ANNOTATION_DATA_FILE,index_col=\"id_str\")\n",
    "    annotations_df = pd.read_csv(ANNOTATIONS_FILE,header=None,sep=\" \")\n",
    "    return(annotation_data_df, annotations_df)\n",
    "\n",
    "annotation_data_df, annotations_df = read_annotations()"
   ]
  },
  {
   "cell_type": "code",
   "execution_count": null,
   "metadata": {},
   "outputs": [],
   "source": [
    "def show_data(data):\n",
    "    try:\n",
    "        return(data[:3])\n",
    "    except:\n",
    "        return(list(data.items())[:3])"
   ]
  },
  {
   "cell_type": "code",
   "execution_count": null,
   "metadata": {},
   "outputs": [],
   "source": [
    "show_data(annotation_data_df)"
   ]
  },
  {
   "cell_type": "code",
   "execution_count": null,
   "metadata": {},
   "outputs": [],
   "source": [
    "show_data(annotations_df)"
   ]
  },
  {
   "cell_type": "code",
   "execution_count": null,
   "metadata": {},
   "outputs": [],
   "source": [
    "def combine_annotations(annotation_data_df, annotations_df, target_annotator=\"\"):\n",
    "    annotations_dict = {}\n",
    "    annotators = {}\n",
    "    for i in range(0,len(annotations_df)):\n",
    "        current_annotator = annotations_df.iloc[i][0]\n",
    "        id_str = annotations_df.iloc[i][2]\n",
    "        label = annotations_df.iloc[i][4]\n",
    "        tweet_text = annotation_data_df.loc[id_str][\"text\"]\n",
    "        if target_annotator == \"\" or current_annotator == target_annotator:\n",
    "            annotations_dict[id_str] = {\"annotator\": current_annotator, \"label\": label, \"tweet_text\": tweet_text}\n",
    "            annotators[current_annotator] = True\n",
    "    return(annotations_dict, annotators)\n",
    "\n",
    "annotations_dict, annotators = combine_annotations(annotation_data_df, annotations_df, target_annotator='')\n",
    "print(annotators, len(annotations_dict))\n",
    "show_data(annotations_dict)"
   ]
  },
  {
   "cell_type": "code",
   "execution_count": null,
   "metadata": {},
   "outputs": [],
   "source": [
    "def save_data(data_dict, filename=\"tweets.csv\"):\n",
    "    pd.DataFrame.from_dict(data_dict).T.to_csv(filename,index_label=\"id_str\")\n",
    "    \n",
    "save_data(annotations_dict)"
   ]
  },
  {
   "cell_type": "code",
   "execution_count": null,
   "metadata": {},
   "outputs": [],
   "source": []
  }
 ],
 "metadata": {
  "kernelspec": {
   "display_name": "Python 3",
   "language": "python",
   "name": "python3"
  },
  "language_info": {
   "codemirror_mode": {
    "name": "ipython",
    "version": 3
   },
   "file_extension": ".py",
   "mimetype": "text/x-python",
   "name": "python",
   "nbconvert_exporter": "python",
   "pygments_lexer": "ipython3",
   "version": "3.6.11"
  }
 },
 "nbformat": 4,
 "nbformat_minor": 4
}
