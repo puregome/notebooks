{
 "cells": [
  {
   "cell_type": "markdown",
   "metadata": {},
   "source": [
    "# Annotated Graphs\n",
    "\n",
    "Make a graph for annotated data. The annoted data sets do not include time mete data so these need to be extracted of the json files.\n",
    "\n",
    "See also the notebook annotation-graphs, which provides a more efficient implementation for hour-level time retrieval."
   ]
  },
  {
   "cell_type": "markdown",
   "metadata": {},
   "source": [
    "## Read annotated data"
   ]
  },
  {
   "cell_type": "code",
   "execution_count": 1,
   "metadata": {},
   "outputs": [],
   "source": [
    "import pandas as pd"
   ]
  },
  {
   "cell_type": "code",
   "execution_count": 2,
   "metadata": {},
   "outputs": [],
   "source": [
    "TOPIC = \"eenzaam\"\n",
    "\n",
    "if TOPIC == \"distance\":\n",
    "    DATA_FILE = f\"../{TOPIC}-tweets.csv\"\n",
    "elif TOPIC == \"mondkapje\":\n",
    "    DATA_FILE = f\"{TOPIC}-202003-202103-1000.csv\"\n",
    "elif TOPIC == \"testing\":\n",
    "    DATA_FILE = f\"{TOPIC}-202003-202012.csv\"\n",
    "elif TOPIC == \"vaccin\":\n",
    "    DATA_FILE = f\"{TOPIC}-202001-202101-1000.csv\"\n",
    "elif TOPIC == \"eenzaam\":\n",
    "    DATA_FILE = f\"{TOPIC}_2020.csv\"\n",
    "else:\n",
    "    assert False, f\"unknown value for TOPIC: {TOPIC}\"\n",
    "DATA_DIR = \"../data/annotation/\"\n",
    "LABEL_FILE = DATA_FILE + \".human-labels.txt\"\n",
    "data_file_no_directory = DATA_FILE.split(\"/\")[-1]\n",
    "TIME_FILE = \"csv/time_data.\" + data_file_no_directory"
   ]
  },
  {
   "cell_type": "code",
   "execution_count": 3,
   "metadata": {},
   "outputs": [],
   "source": [
    "data = pd.read_csv(DATA_DIR + DATA_FILE)\n",
    "data.sort_values(by=['id_str'])\n",
    "label_data_raw = pd.read_csv(DATA_DIR + LABEL_FILE, header=None, sep=\" \")\n",
    "label_data_raw.sort_values(by=[2])\n",
    "\n",
    "label_data = {}\n",
    "for row in label_data_raw.iterrows():\n",
    "    annotator = row[1][0]\n",
    "    id_str = row[1][2]\n",
    "    label = row[1][4]\n",
    "    if annotator == \"erikt@xs4all.nl\":\n",
    "        label_data[id_str] = label"
   ]
  },
  {
   "cell_type": "code",
   "execution_count": 4,
   "metadata": {},
   "outputs": [
    {
     "data": {
      "text/plain": [
       "(718, 612)"
      ]
     },
     "execution_count": 4,
     "metadata": {},
     "output_type": "execute_result"
    }
   ],
   "source": [
    "len(data), len(label_data)"
   ]
  },
  {
   "cell_type": "code",
   "execution_count": 5,
   "metadata": {},
   "outputs": [
    {
     "data": {
      "text/plain": [
       "IRRELEVANT    0.526144\n",
       "RELEVANT      0.473856\n",
       "dtype: float64"
      ]
     },
     "execution_count": 5,
     "metadata": {},
     "output_type": "execute_result"
    }
   ],
   "source": [
    "pd.Series(label_data).value_counts()/len(label_data)"
   ]
  },
  {
   "cell_type": "markdown",
   "metadata": {},
   "source": [
    "## Get time meta data"
   ]
  },
  {
   "cell_type": "code",
   "execution_count": 6,
   "metadata": {},
   "outputs": [],
   "source": [
    "import gzip\n",
    "import json\n",
    "import numpy as np\n",
    "import os\n",
    "import re\n",
    "from IPython.display import clear_output"
   ]
  },
  {
   "cell_type": "code",
   "execution_count": 7,
   "metadata": {},
   "outputs": [],
   "source": [
    "JSON_DIR = \"/home/erikt/media/20190525/files/cloud/twitter/2020\"\n",
    "FIRST_TWEET_IDS_FILE = \"csv/first_tweet_ids.csv\""
   ]
  },
  {
   "cell_type": "code",
   "execution_count": 8,
   "metadata": {},
   "outputs": [],
   "source": [
    "def squeal(text=None):\n",
    "    clear_output(wait=True)\n",
    "    if not text is None: print(text)"
   ]
  },
  {
   "cell_type": "code",
   "execution_count": 12,
   "metadata": {},
   "outputs": [],
   "source": [
    "if False:\n",
    "    first_tweet_ids = {}\n",
    "    for month in range(1, 3+1):\n",
    "        squeal(month)\n",
    "        month_dir = JSON_DIR + str(month).zfill(2) + \"/\"\n",
    "        file_names = sorted(os.listdir(month_dir))\n",
    "        for file_name in file_names:\n",
    "            infile = gzip.open(month_dir + file_name)\n",
    "            line = infile.readline()\n",
    "            infile.close()\n",
    "            json_data = json.loads(line)\n",
    "            first_tweet_ids[month_dir + file_name] = json_data['id_str']"
   ]
  },
  {
   "cell_type": "code",
   "execution_count": 13,
   "metadata": {},
   "outputs": [],
   "source": [
    "if False:\n",
    "    pd.DataFrame([{\"file_name\": file_name, \"id_str\": first_tweet_ids[file_name]} for file_name in first_tweet_ids]).to_csv(FIRST_TWEET_IDS_FILE, index=False)"
   ]
  },
  {
   "cell_type": "code",
   "execution_count": 14,
   "metadata": {},
   "outputs": [],
   "source": [
    "first_tweet_ids = pd.read_csv(FIRST_TWEET_IDS_FILE).to_dict('records')"
   ]
  },
  {
   "cell_type": "code",
   "execution_count": 16,
   "metadata": {},
   "outputs": [
    {
     "name": "stdout",
     "output_type": "stream",
     "text": [
      "Thu Dec 31 13:59:15 +0000 2020\n"
     ]
    }
   ],
   "source": [
    "first_tweet_ids_pointer = 0\n",
    "try:\n",
    "    time_data = pd.read_csv(TIME_FILE, index_col=\"id_str\").to_dict(orient=\"series\")['created_at']\n",
    "except:\n",
    "    time_data = {}\n",
    "for row in data.iterrows():\n",
    "    id_str = row[1]['id_str']\n",
    "    if id_str in label_data.keys() and id_str not in time_data:\n",
    "        id_str_found = False\n",
    "        while first_tweet_ids[first_tweet_ids_pointer+1]['id_str'] < id_str and first_tweet_ids_pointer < len(first_tweet_ids)-1:\n",
    "            first_tweet_ids_pointer += 1\n",
    "        while first_tweet_ids[first_tweet_ids_pointer]['id_str'] > id_str and first_tweet_ids_pointer > 0:\n",
    "            first_tweet_ids_pointer -= 1\n",
    "        infile = gzip.open(first_tweet_ids[first_tweet_ids_pointer]['file_name'])\n",
    "        for line in infile:\n",
    "            json_data = json.loads(line)\n",
    "            if json_data['id_str'] == str(id_str):\n",
    "                time_data[json_data['id_str']] = json_data['created_at']\n",
    "                squeal(json_data['created_at'])\n",
    "                id_str_found = True\n",
    "                break\n",
    "        infile.close()\n",
    "        if not id_str_found and first_tweet_ids_pointer > 0:\n",
    "            first_tweet_ids_pointer -= 1\n",
    "            infile = gzip.open(first_tweet_ids[first_tweet_ids_pointer]['file_name'])\n",
    "            for line in infile:\n",
    "                json_data = json.loads(line)\n",
    "                if json_data['id_str'] == str(id_str):\n",
    "                    time_data[json_data['id_str']] = json_data['created_at']\n",
    "                    squeal(json_data['created_at'])\n",
    "                    id_str_found = True\n",
    "                    break\n",
    "            infile.close()"
   ]
  },
  {
   "cell_type": "code",
   "execution_count": 17,
   "metadata": {},
   "outputs": [
    {
     "data": {
      "text/plain": [
       "612"
      ]
     },
     "execution_count": 17,
     "metadata": {},
     "output_type": "execute_result"
    }
   ],
   "source": [
    "len(time_data.keys())"
   ]
  },
  {
   "cell_type": "code",
   "execution_count": 18,
   "metadata": {},
   "outputs": [],
   "source": [
    "pd.DataFrame([{'id_str': id_str, 'created_at': time_data[id_str]} for id_str in time_data.keys()]).to_csv(\"csv/time_data.\" + data_file_no_directory, index=False)"
   ]
  },
  {
   "cell_type": "markdown",
   "metadata": {},
   "source": [
    "## Make graph"
   ]
  },
  {
   "cell_type": "code",
   "execution_count": 22,
   "metadata": {},
   "outputs": [
    {
     "name": "stderr",
     "output_type": "stream",
     "text": [
      "In /home/erikt/anaconda3/envs/python37/lib/python3.7/site-packages/matplotlib/mpl-data/stylelib/_classic_test.mplstyle: \n",
      "The text.latex.preview rcparam was deprecated in Matplotlib 3.3 and will be removed two minor releases later.\n",
      "In /home/erikt/anaconda3/envs/python37/lib/python3.7/site-packages/matplotlib/mpl-data/stylelib/_classic_test.mplstyle: \n",
      "The mathtext.fallback_to_cm rcparam was deprecated in Matplotlib 3.3 and will be removed two minor releases later.\n",
      "In /home/erikt/anaconda3/envs/python37/lib/python3.7/site-packages/matplotlib/mpl-data/stylelib/_classic_test.mplstyle: Support for setting the 'mathtext.fallback_to_cm' rcParam is deprecated since 3.3 and will be removed two minor releases later; use 'mathtext.fallback : 'cm' instead.\n",
      "In /home/erikt/anaconda3/envs/python37/lib/python3.7/site-packages/matplotlib/mpl-data/stylelib/_classic_test.mplstyle: \n",
      "The validate_bool_maybe_none function was deprecated in Matplotlib 3.3 and will be removed two minor releases later.\n",
      "In /home/erikt/anaconda3/envs/python37/lib/python3.7/site-packages/matplotlib/mpl-data/stylelib/_classic_test.mplstyle: \n",
      "The savefig.jpeg_quality rcparam was deprecated in Matplotlib 3.3 and will be removed two minor releases later.\n",
      "In /home/erikt/anaconda3/envs/python37/lib/python3.7/site-packages/matplotlib/mpl-data/stylelib/_classic_test.mplstyle: \n",
      "The keymap.all_axes rcparam was deprecated in Matplotlib 3.3 and will be removed two minor releases later.\n",
      "In /home/erikt/anaconda3/envs/python37/lib/python3.7/site-packages/matplotlib/mpl-data/stylelib/_classic_test.mplstyle: \n",
      "The animation.avconv_path rcparam was deprecated in Matplotlib 3.3 and will be removed two minor releases later.\n",
      "In /home/erikt/anaconda3/envs/python37/lib/python3.7/site-packages/matplotlib/mpl-data/stylelib/_classic_test.mplstyle: \n",
      "The animation.avconv_args rcparam was deprecated in Matplotlib 3.3 and will be removed two minor releases later.\n"
     ]
    }
   ],
   "source": [
    "import datetime\n",
    "import matplotlib.pyplot as plt\n",
    "import matplotlib.dates as mdates"
   ]
  },
  {
   "cell_type": "code",
   "execution_count": 26,
   "metadata": {},
   "outputs": [],
   "source": [
    "data_file_no_directory = DATA_FILE.split(\"/\")[-1]\n",
    "TIME_FILE = \"csv/time_data.\" + data_file_no_directory"
   ]
  },
  {
   "cell_type": "code",
   "execution_count": 27,
   "metadata": {},
   "outputs": [],
   "source": [
    "time_data = pd.read_csv(TIME_FILE, index_col=\"id_str\")"
   ]
  },
  {
   "cell_type": "code",
   "execution_count": 28,
   "metadata": {},
   "outputs": [],
   "source": [
    "def make_graph_data_list(label_data, time_data):\n",
    "    graph_data_dict = {}\n",
    "    for id_str in label_data:\n",
    "        label = label_data[id_str]\n",
    "        if label == \"EENS\" or label == \"ONEENS\":\n",
    "            if id_str in time_data.index:\n",
    "                graph_data_dict[id_str] = { \"label\": label, \"created_at\": time_data.loc[id_str]['created_at'] }\n",
    "        elif label == \"ANDERS\" or label == \"NEUTRAL\":\n",
    "            if id_str in graph_data_dict:\n",
    "                del(graph_data_dict[id_str])\n",
    "        else:\n",
    "            print(f\"make_graph_data: cannot happen: {label}\")\n",
    "    return([{'label': graph_data_dict[id_str]['label'], 'created_at': graph_data_dict[id_str]['created_at']} for id_str in sorted(graph_data_dict.keys())])"
   ]
  },
  {
   "cell_type": "code",
   "execution_count": 29,
   "metadata": {},
   "outputs": [],
   "source": [
    "N = 100\n",
    "\n",
    "\n",
    "def percentage(window):\n",
    "    total_count = 0\n",
    "    support_count = 0\n",
    "    for row in window:\n",
    "        total_count += 1\n",
    "        if row['label'] == \"EENS\":\n",
    "            support_count += 1\n",
    "    return(100 * support_count / total_count)\n",
    "\n",
    "\n",
    "def select_graph_data(graph_data_list):\n",
    "    window = []\n",
    "    x = []\n",
    "    y = []\n",
    "    for i in range(0, len(graph_data_list)):\n",
    "        window.append(graph_data_list[i])\n",
    "        if len(window) >= N:\n",
    "            selected_time_index = int((N-1)*(i-N+1)/(len(graph_data_list)-N+1))\n",
    "            assert selected_time_index >= 0, f\"select_graph_data: select_time_index {select_time_index} must be non-negative!\"\n",
    "            x.append(datetime.datetime.strptime(window[selected_time_index]['created_at'], \"%a %b %d %H:%M:%S %z %Y\"))\n",
    "            y.append(percentage(window))\n",
    "        while len(window) >= N:\n",
    "            window.pop(0)\n",
    "    return(x, y)"
   ]
  },
  {
   "cell_type": "code",
   "execution_count": 30,
   "metadata": {},
   "outputs": [],
   "source": [
    "graph_data_list = make_graph_data_list(label_data, time_data)"
   ]
  },
  {
   "cell_type": "code",
   "execution_count": 31,
   "metadata": {},
   "outputs": [],
   "source": [
    "x, y = select_graph_data(graph_data_list)"
   ]
  },
  {
   "cell_type": "code",
   "execution_count": 32,
   "metadata": {},
   "outputs": [
    {
     "data": {
      "image/png": "[encoded data removed]",
      "text/plain": [
       "<Figure size 432x288 with 1 Axes>"
      ]
     },
     "metadata": {
      "needs_background": "light"
     },
     "output_type": "display_data"
    }
   ],
   "source": [
    "fig, ax = plt.subplots()\n",
    "ax.xaxis.set_major_formatter(mdates.DateFormatter(\"%m\"))\n",
    "ax.plot_date(x, y, fmt=\"-\")\n",
    "plt.ylim(0, 100)\n",
    "plt.xlabel(\"months in the years 2020 and 2021\")\n",
    "plt.ylabel(\"percentage support\")\n",
    "plt.title(f\"support for {TOPIC} (annotated data)\")\n",
    "plt.savefig(f\"annotated-{TOPIC}.png\")\n",
    "plt.show()"
   ]
  },
  {
   "cell_type": "markdown",
   "metadata": {},
   "source": [
    "## Mood graph"
   ]
  },
  {
   "cell_type": "code",
   "execution_count": 81,
   "metadata": {},
   "outputs": [],
   "source": [
    "def make_x_y(dates):\n",
    "    data = {}\n",
    "    for date in dates:\n",
    "        month = date.month\n",
    "        if month not in data:\n",
    "            data[month] = 0\n",
    "        data[month] += 1\n",
    "    return [x for x in sorted(data.keys())], [data[x] for x in sorted(data.keys())]"
   ]
  },
  {
   "cell_type": "code",
   "execution_count": 98,
   "metadata": {},
   "outputs": [],
   "source": [
    "relevant_data = { id_str: time_data.loc[id_str] for id_str in time_data.index if label_data[int(id_str)] == 'RELEVANT' }\n",
    "irrelevant_data = { id_str: time_data.loc[id_str] for id_str in time_data.index if label_data[int(id_str)] == 'IRRELEVANT' }"
   ]
  },
  {
   "cell_type": "code",
   "execution_count": 100,
   "metadata": {},
   "outputs": [],
   "source": [
    "dates_relevant = [datetime.datetime.strptime(relevant_data[id_str], \"%a %b %d %H:%M:%S %z %Y\") for id_str in relevant_data]\n",
    "dates_irrelevant = [datetime.datetime.strptime(irrelevant_data[id_str], \"%a %b %d %H:%M:%S %z %Y\") for id_str in irrelevant_data]\n",
    "x_relevant, y_relevant = make_x_y(dates_relevant)\n",
    "x_irrelevant, y_irrelevant = make_x_y(dates_irrelevant)"
   ]
  },
  {
   "cell_type": "code",
   "execution_count": 120,
   "metadata": {},
   "outputs": [
    {
     "data": {
      "image/png": "[encoded data removed]",
      "text/plain": [
       "<Figure size 432x288 with 1 Axes>"
      ]
     },
     "metadata": {
      "needs_background": "light"
     },
     "output_type": "display_data"
    }
   ],
   "source": [
    "fig, ax = plt.subplots()\n",
    "plt.bar(x_relevant, y_relevant, label=f\"expressing loneliness ({len(dates_relevant)})\")\n",
    "plt.bar(x_irrelevant, y_irrelevant, bottom=y_relevant, label=f\"other ({len(dates_irrelevant)})\")\n",
    "for i in range(0, len(y_relevant)):\n",
    "    plt.text(x_relevant[i] - 0.38, y_relevant[i] + y_irrelevant[i] + 2, f\"{int(100*y_relevant[i]/(y_relevant[i] + y_irrelevant[i]))}%\")\n",
    "plt.ylim([0, 110])\n",
    "plt.xticks(range(1,13))\n",
    "plt.xlabel(\"months in the year 2020\")\n",
    "plt.ylabel(\"frequency loneliness tweets\")\n",
    "plt.title(\"612 annotated loneliness tweets of 2020\")\n",
    "plt.legend()\n",
    "plt.savefig(\"loneliness_annotated_2020.png\")\n",
    "plt.show()"
   ]
  },
  {
   "cell_type": "code",
   "execution_count": null,
   "metadata": {},
   "outputs": [],
   "source": []
  }
 ],
 "metadata": {
  "kernelspec": {
   "display_name": "python37",
   "language": "python",
   "name": "python37"
  },
  "language_info": {
   "codemirror_mode": {
    "name": "ipython",
    "version": 3
   },
   "file_extension": ".py",
   "mimetype": "text/x-python",
   "name": "python",
   "nbconvert_exporter": "python",
   "pygments_lexer": "ipython3",
   "version": "3.7.3"
  }
 },
 "nbformat": 4,
 "nbformat_minor": 4
}
