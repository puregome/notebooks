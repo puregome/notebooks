{
 "cells": [
  {
   "cell_type": "markdown",
   "metadata": {},
   "source": [
    "# Annotated Graphs\n",
    "\n",
    "Make a graph for annotated data. The annoted data sets do not include time mete data so these need to be extracted of the json files.\n",
    "\n",
    "See also the notebook annotation-graphs, which provides a more efficient implementation for hour-level time retrieval."
   ]
  },
  {
   "cell_type": "markdown",
   "metadata": {},
   "source": [
    "## Read annotated data"
   ]
  },
  {
   "cell_type": "code",
   "execution_count": 20,
   "metadata": {},
   "outputs": [],
   "source": [
    "import json\n",
    "import pandas as pd\n",
    "import re"
   ]
  },
  {
   "cell_type": "code",
   "execution_count": 2,
   "metadata": {},
   "outputs": [],
   "source": [
    "TOPIC = \"blij\"\n",
    "TOPIC_EN = {\"blij\": \"happiness\", \"eenzaam\": \"loneliness\"}[TOPIC]\n",
    "\n",
    "if TOPIC == \"distance\":\n",
    "    DATA_FILE = f\"../{TOPIC}-tweets.csv\"\n",
    "elif TOPIC == \"mondkapje\":\n",
    "    DATA_FILE = f\"{TOPIC}-202003-202103-1000.csv\"\n",
    "elif TOPIC == \"testing\":\n",
    "    DATA_FILE = f\"{TOPIC}-202003-202012.csv\"\n",
    "elif TOPIC == \"vaccin\":\n",
    "    DATA_FILE = f\"{TOPIC}-202001-202101-1000.csv\"\n",
    "elif TOPIC == \"eenzaam\" or TOPIC == \"blij\":\n",
    "    DATA_FILE = f\"{TOPIC}_2020.csv\"\n",
    "else:\n",
    "    assert False, f\"unknown value for TOPIC: {TOPIC}\"\n",
    "DATA_DIR = \"../data/annotation/\"\n",
    "LABEL_FILE = DATA_FILE + \".human-labels.txt\"\n",
    "data_file_no_directory = DATA_FILE.split(\"/\")[-1]\n",
    "TIME_FILE = \"csv/time_data.\" + data_file_no_directory"
   ]
  },
  {
   "cell_type": "code",
   "execution_count": 3,
   "metadata": {},
   "outputs": [],
   "source": [
    "data = pd.read_csv(DATA_DIR + DATA_FILE)\n",
    "data.sort_values(by=['id_str'])\n",
    "label_data_raw = pd.read_csv(DATA_DIR + LABEL_FILE, header=None, sep=\" \")\n",
    "label_data_raw.sort_values(by=[2])\n",
    "\n",
    "label_data = {}\n",
    "for row in label_data_raw.iterrows():\n",
    "    annotator = row[1][0]\n",
    "    id_str = row[1][2]\n",
    "    label = row[1][4]\n",
    "    if annotator == \"erikt@xs4all.nl\":\n",
    "        label_data[id_str] = label"
   ]
  },
  {
   "cell_type": "code",
   "execution_count": 4,
   "metadata": {},
   "outputs": [
    {
     "data": {
      "text/plain": [
       "(620, 600)"
      ]
     },
     "execution_count": 4,
     "metadata": {},
     "output_type": "execute_result"
    }
   ],
   "source": [
    "len(data), len(label_data)"
   ]
  },
  {
   "cell_type": "code",
   "execution_count": 5,
   "metadata": {},
   "outputs": [
    {
     "data": {
      "text/plain": [
       "RELEVANT      0.723333\n",
       "IRRELEVANT    0.276667\n",
       "dtype: float64"
      ]
     },
     "execution_count": 5,
     "metadata": {},
     "output_type": "execute_result"
    }
   ],
   "source": [
    "pd.Series(label_data).value_counts()/len(label_data)"
   ]
  },
  {
   "cell_type": "code",
   "execution_count": 9,
   "metadata": {},
   "outputs": [
    {
     "data": {
      "text/plain": [
       "id_str                                                     1212445577050574848\n",
       "in_reply_to_status_id_str                                                  NaN\n",
       "user                                                              freckledaisy\n",
       "verified                                                                   NaN\n",
       "text                         Zo blij dat ons gezin totaal niet van de verpl...\n",
       "location                                                                   NaN\n",
       "Name: 0, dtype: object"
      ]
     },
     "execution_count": 9,
     "metadata": {},
     "output_type": "execute_result"
    }
   ],
   "source": [
    "data.iloc[0]"
   ]
  },
  {
   "cell_type": "code",
   "execution_count": 24,
   "metadata": {},
   "outputs": [],
   "source": [
    "def make_doccano_data(data, label_data):\n",
    "    doccano_data = []\n",
    "    for i, row in data.iterrows():\n",
    "        if row[\"id_str\"] in label_data:\n",
    "            doccano_data.append({ \"text\": re.sub(r\"\\\\n\", \" \", row[\"text\"]), \"label\": label_data[row[\"id_str\"]] })\n",
    "    return doccano_data"
   ]
  },
  {
   "cell_type": "code",
   "execution_count": 18,
   "metadata": {},
   "outputs": [],
   "source": [
    "def write_doccano_data(doccano_data, file_name):\n",
    "    out_file = open(file_name, \"w\")\n",
    "    for data in doccano_data:\n",
    "        print(json.dumps(data), file=out_file)\n",
    "    out_file.close()"
   ]
  },
  {
   "cell_type": "code",
   "execution_count": 25,
   "metadata": {},
   "outputs": [],
   "source": [
    "write_doccano_data(make_doccano_data(data, label_data), f\"doccano_{TOPIC}.json\")"
   ]
  },
  {
   "cell_type": "markdown",
   "metadata": {},
   "source": [
    "## Get time meta data"
   ]
  },
  {
   "cell_type": "code",
   "execution_count": 6,
   "metadata": {},
   "outputs": [],
   "source": [
    "import gzip\n",
    "import json\n",
    "import numpy as np\n",
    "import os\n",
    "import re\n",
    "from IPython.display import clear_output"
   ]
  },
  {
   "cell_type": "code",
   "execution_count": 7,
   "metadata": {},
   "outputs": [],
   "source": [
    "JSON_DIR = \"/home/erikt/media/20190525/files/cloud/twitter/2020\"\n",
    "FIRST_TWEET_IDS_FILE = \"csv/first_tweet_ids.csv\""
   ]
  },
  {
   "cell_type": "code",
   "execution_count": 8,
   "metadata": {},
   "outputs": [],
   "source": [
    "def squeal(text=None):\n",
    "    clear_output(wait=True)\n",
    "    if not text is None: print(text)"
   ]
  },
  {
   "cell_type": "code",
   "execution_count": 9,
   "metadata": {},
   "outputs": [],
   "source": [
    "if False:\n",
    "    first_tweet_ids = {}\n",
    "    for month in range(1, 3+1):\n",
    "        squeal(month)\n",
    "        month_dir = JSON_DIR + str(month).zfill(2) + \"/\"\n",
    "        file_names = sorted(os.listdir(month_dir))\n",
    "        for file_name in file_names:\n",
    "            infile = gzip.open(month_dir + file_name)\n",
    "            line = infile.readline()\n",
    "            infile.close()\n",
    "            json_data = json.loads(line)\n",
    "            first_tweet_ids[month_dir + file_name] = json_data['id_str']"
   ]
  },
  {
   "cell_type": "code",
   "execution_count": 10,
   "metadata": {},
   "outputs": [],
   "source": [
    "if False:\n",
    "    pd.DataFrame([{\"file_name\": file_name, \"id_str\": first_tweet_ids[file_name]} for file_name in first_tweet_ids]).to_csv(FIRST_TWEET_IDS_FILE, index=False)"
   ]
  },
  {
   "cell_type": "code",
   "execution_count": 11,
   "metadata": {},
   "outputs": [],
   "source": [
    "first_tweet_ids = pd.read_csv(FIRST_TWEET_IDS_FILE).to_dict('records')"
   ]
  },
  {
   "cell_type": "code",
   "execution_count": 22,
   "metadata": {},
   "outputs": [],
   "source": [
    "first_tweet_ids_pointer = 0\n",
    "try:\n",
    "    time_data = pd.read_csv(TIME_FILE, index_col=\"id_str\").to_dict(orient=\"series\")['created_at']\n",
    "except:\n",
    "    time_data = {}\n",
    "for row in data.iterrows():\n",
    "    id_str = row[1]['id_str']\n",
    "    if id_str in label_data.keys() and id_str not in time_data:\n",
    "        id_str_found = False\n",
    "        while first_tweet_ids[first_tweet_ids_pointer+1]['id_str'] < id_str and \\\n",
    "              first_tweet_ids_pointer < len(first_tweet_ids)-1:\n",
    "            first_tweet_ids_pointer += 1\n",
    "        while first_tweet_ids[first_tweet_ids_pointer]['id_str'] > id_str and first_tweet_ids_pointer > 0:\n",
    "            first_tweet_ids_pointer -= 1\n",
    "        #print(first_tweet_ids[first_tweet_ids_pointer]['file_name'])\n",
    "        #print(id_str, first_tweet_ids[first_tweet_ids_pointer]['file_name'].split(\"/\")[-1].split(\".\")[0])\n",
    "        time_data[id_str] = first_tweet_ids[first_tweet_ids_pointer]['file_name'].split(\"/\")[-1].split(\".\")[0]\n",
    "        #infile = gzip.open(first_tweet_ids[first_tweet_ids_pointer]['file_name'])\n",
    "        #for line in infile:\n",
    "        #    json_data = json.loads(line)\n",
    "        #    if json_data['id_str'] == str(id_str):\n",
    "        #        time_data[json_data['id_str']] = json_data['created_at']\n",
    "        #        squeal(json_data['created_at'])\n",
    "        #        id_str_found = True\n",
    "        #        break\n",
    "        #infile.close()\n",
    "        #if not id_str_found and first_tweet_ids_pointer > 0:\n",
    "        #    first_tweet_ids_pointer -= 1\n",
    "        #    infile = gzip.open(first_tweet_ids[first_tweet_ids_pointer]['file_name'])\n",
    "        #    for line in infile:\n",
    "        #        json_data = json.loads(line)\n",
    "        #        if json_data['id_str'] == str(id_str):\n",
    "        #            time_data[json_data['id_str']] = json_data['created_at']\n",
    "        #            squeal(json_data['created_at'])\n",
    "        #            id_str_found = True\n",
    "        #            break\n",
    "        #    infile.close()"
   ]
  },
  {
   "cell_type": "code",
   "execution_count": 33,
   "metadata": {},
   "outputs": [],
   "source": [
    "def file_date_to_json_date(file_date):\n",
    "    return datetime.datetime.strftime(datetime.datetime.strptime(file_date, \"%Y%m%d-%H\"), \"%a %b %d %H:%M:%S +0000 %Y\")"
   ]
  },
  {
   "cell_type": "code",
   "execution_count": 23,
   "metadata": {},
   "outputs": [
    {
     "data": {
      "text/plain": [
       "600"
      ]
     },
     "execution_count": 23,
     "metadata": {},
     "output_type": "execute_result"
    }
   ],
   "source": [
    "len(time_data.keys())"
   ]
  },
  {
   "cell_type": "code",
   "execution_count": 35,
   "metadata": {},
   "outputs": [],
   "source": [
    "pd.DataFrame([{'id_str': id_str, 'created_at': file_date_to_json_date(time_data[id_str])} \n",
    "              for id_str in time_data.keys()]).to_csv(\"csv/time_data.\" + data_file_no_directory, index=False)"
   ]
  },
  {
   "cell_type": "markdown",
   "metadata": {},
   "source": [
    "## Make graph"
   ]
  },
  {
   "cell_type": "code",
   "execution_count": 111,
   "metadata": {},
   "outputs": [],
   "source": [
    "import datetime\n",
    "import matplotlib.pyplot as plt\n",
    "import matplotlib.dates as mdates"
   ]
  },
  {
   "cell_type": "code",
   "execution_count": 112,
   "metadata": {},
   "outputs": [],
   "source": [
    "data_file_no_directory = DATA_FILE.split(\"/\")[-1]\n",
    "TIME_FILE = \"csv/time_data.\" + data_file_no_directory"
   ]
  },
  {
   "cell_type": "code",
   "execution_count": 113,
   "metadata": {},
   "outputs": [],
   "source": [
    "time_data = pd.read_csv(TIME_FILE, index_col=\"id_str\")"
   ]
  },
  {
   "cell_type": "code",
   "execution_count": 114,
   "metadata": {},
   "outputs": [],
   "source": [
    "def make_graph_data_list(label_data, time_data):\n",
    "    graph_data_dict = {}\n",
    "    for id_str in label_data:\n",
    "        label = label_data[id_str]\n",
    "        if label == \"EENS\" or label == \"ONEENS\" or label == \"RELEVANT\":\n",
    "            if id_str in time_data.index:\n",
    "                graph_data_dict[id_str] = { \"label\": label, \"created_at\": time_data.loc[id_str]['created_at'] }\n",
    "        elif label == \"ANDERS\" or label == \"NEUTRAL\" or label == \"IRRELEVANT\":\n",
    "            if id_str in graph_data_dict:\n",
    "                del(graph_data_dict[id_str])\n",
    "        else:\n",
    "            print(f\"make_graph_data: cannot happen: {label}\")\n",
    "    return([{'label': graph_data_dict[id_str]['label'], 'created_at': graph_data_dict[id_str]['created_at']} for id_str in sorted(graph_data_dict.keys())])"
   ]
  },
  {
   "cell_type": "code",
   "execution_count": 115,
   "metadata": {},
   "outputs": [],
   "source": [
    "N = 100\n",
    "\n",
    "\n",
    "def percentage(window):\n",
    "    total_count = 0\n",
    "    support_count = 0\n",
    "    for row in window:\n",
    "        total_count += 1\n",
    "        if row['label'] == \"EENS\":\n",
    "            support_count += 1\n",
    "    return(100 * support_count / total_count)\n",
    "\n",
    "\n",
    "def select_graph_data(graph_data_list):\n",
    "    window = []\n",
    "    x = []\n",
    "    y = []\n",
    "    for i in range(0, len(graph_data_list)):\n",
    "        window.append(graph_data_list[i])\n",
    "        if len(window) >= N:\n",
    "            selected_time_index = int((N-1)*(i-N+1)/(len(graph_data_list)-N+1))\n",
    "            assert selected_time_index >= 0, f\"select_graph_data: select_time_index {select_time_index} must be non-negative!\"\n",
    "            x.append(datetime.datetime.strptime(window[selected_time_index]['created_at'], \"%a %b %d %H:%M:%S %z %Y\"))\n",
    "            y.append(percentage(window))\n",
    "        while len(window) >= N:\n",
    "            window.pop(0)\n",
    "    return(x, y)"
   ]
  },
  {
   "cell_type": "code",
   "execution_count": 116,
   "metadata": {},
   "outputs": [],
   "source": [
    "graph_data_list = make_graph_data_list(label_data, time_data)"
   ]
  },
  {
   "cell_type": "code",
   "execution_count": 117,
   "metadata": {},
   "outputs": [],
   "source": [
    "x, y = select_graph_data(graph_data_list)"
   ]
  },
  {
   "cell_type": "code",
   "execution_count": 118,
   "metadata": {},
   "outputs": [
    {
     "data": {
      "image/png": "[encoded data removed]",
      "text/plain": [
       "<Figure size 432x288 with 1 Axes>"
      ]
     },
     "metadata": {
      "needs_background": "light"
     },
     "output_type": "display_data"
    }
   ],
   "source": [
    "fig, ax = plt.subplots()\n",
    "ax.xaxis.set_major_formatter(mdates.DateFormatter(\"%m\"))\n",
    "ax.plot_date(x, y, fmt=\"-\")\n",
    "plt.ylim(0, 100)\n",
    "plt.xlabel(\"months in the years 2020 and 2021\")\n",
    "plt.ylabel(\"percentage support\")\n",
    "plt.title(f\"support for {TOPIC} (annotated data)\")\n",
    "plt.savefig(f\"annotated-{TOPIC}.png\")\n",
    "plt.show()"
   ]
  },
  {
   "cell_type": "markdown",
   "metadata": {},
   "source": [
    "## Mood graph"
   ]
  },
  {
   "cell_type": "code",
   "execution_count": 119,
   "metadata": {},
   "outputs": [],
   "source": [
    "def make_x_y(dates):\n",
    "    data = {}\n",
    "    for date in dates:\n",
    "        month = date.month\n",
    "        if month not in data:\n",
    "            data[month] = 0\n",
    "        data[month] += 1\n",
    "    return [x for x in sorted(data.keys())], [data[x] for x in sorted(data.keys())]"
   ]
  },
  {
   "cell_type": "code",
   "execution_count": 120,
   "metadata": {},
   "outputs": [],
   "source": [
    "relevant_data = { id_str: time_data.loc[id_str]['created_at'] for id_str in time_data.index if label_data[int(id_str)] == 'RELEVANT' }\n",
    "irrelevant_data = { id_str: time_data.loc[id_str]['created_at'] for id_str in time_data.index if label_data[int(id_str)] == 'IRRELEVANT' }"
   ]
  },
  {
   "cell_type": "code",
   "execution_count": 121,
   "metadata": {},
   "outputs": [],
   "source": [
    "dates_relevant = [datetime.datetime.strptime(relevant_data[id_str], \"%a %b %d %H:%M:%S %z %Y\") for id_str in relevant_data]\n",
    "dates_irrelevant = [datetime.datetime.strptime(irrelevant_data[id_str], \"%a %b %d %H:%M:%S %z %Y\") for id_str in irrelevant_data]\n",
    "x_relevant, y_relevant = make_x_y(dates_relevant)\n",
    "x_irrelevant, y_irrelevant = make_x_y(dates_irrelevant)"
   ]
  },
  {
   "cell_type": "code",
   "execution_count": 122,
   "metadata": {},
   "outputs": [
    {
     "data": {
      "image/png": "[encoded data removed]",
      "text/plain": [
       "<Figure size 432x288 with 1 Axes>"
      ]
     },
     "metadata": {
      "needs_background": "light"
     },
     "output_type": "display_data"
    }
   ],
   "source": [
    "fig, ax = plt.subplots()\n",
    "plt.bar(x_relevant, y_relevant, label=f\"expressing {TOPIC_EN} ({len(dates_relevant)})\")\n",
    "plt.bar(x_irrelevant, y_irrelevant, bottom=y_relevant, label=f\"other ({len(dates_irrelevant)})\")\n",
    "for i in range(0, len(y_relevant)):\n",
    "    plt.text(x_relevant[i] - 0.38, y_relevant[i] + 2, f\"{int(100*y_relevant[i]/(y_relevant[i] + y_irrelevant[i]))}%\")\n",
    "plt.ylim([0, 110])\n",
    "plt.xticks(range(1,13))\n",
    "plt.xlabel(\"months in the year 2020\")\n",
    "plt.ylabel(f\"frequency {TOPIC_EN} tweets\")\n",
    "plt.title(f\"{len(label_data)} annotated {TOPIC_EN} tweets of 2020\")\n",
    "plt.legend()\n",
    "plt.show()"
   ]
  },
  {
   "cell_type": "code",
   "execution_count": 123,
   "metadata": {},
   "outputs": [],
   "source": [
    "month_counts_2020 = [ 15418685, 14851673, 21180942, 18715900, 18044679, 25944877,\n",
    "                      21840960, 20314042, 20118797, 21987100, 19393478, 20249944 ] "
   ]
  },
  {
   "cell_type": "code",
   "execution_count": 124,
   "metadata": {},
   "outputs": [
    {
     "data": {
      "image/png": "[encoded data removed]",
      "text/plain": [
       "<Figure size 432x288 with 1 Axes>"
      ]
     },
     "metadata": {
      "needs_background": "light"
     },
     "output_type": "display_data"
    }
   ],
   "source": [
    "y_relative = [ y_relevant[i]/(month_counts_2020[i]*month_counts_2020[i]) for i in range(0, len(y_relevant)) ]\n",
    "\n",
    "fig, ax = plt.subplots()\n",
    "plt.bar(x_relevant, y_relative, label=f\"expressing {TOPIC_EN}\")\n",
    "plt.xticks(range(1,13))\n",
    "plt.yticks([])\n",
    "plt.xlabel(\"months in the year 2020\")\n",
    "plt.title(f\"{TOPIC_EN} based on annotated tweets of 2020\")\n",
    "plt.savefig(f\"{TOPIC_EN}_annotated_2020.png\")\n",
    "plt.show()"
   ]
  },
  {
   "cell_type": "code",
   "execution_count": null,
   "metadata": {},
   "outputs": [],
   "source": []
  }
 ],
 "metadata": {
  "kernelspec": {
   "display_name": "python37",
   "language": "python",
   "name": "python37"
  },
  "language_info": {
   "codemirror_mode": {
    "name": "ipython",
    "version": 3
   },
   "file_extension": ".py",
   "mimetype": "text/x-python",
   "name": "python",
   "nbconvert_exporter": "python",
   "pygments_lexer": "ipython3",
   "version": "3.7.3"
  }
 },
 "nbformat": 4,
 "nbformat_minor": 4
}
