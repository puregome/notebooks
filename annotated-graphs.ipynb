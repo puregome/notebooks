{
 "cells": [
  {
   "cell_type": "markdown",
   "metadata": {},
   "source": [
    "# Annotated Graphs\n",
    "\n",
    "Make a graph for annotated data. The annoted data sets do not include time mete data so these need to be extracted of the json files.\n",
    "\n",
    "See also the notebook annotation-graphs, which provides a more efficient implementation for hour-level time retrieval."
   ]
  },
  {
   "cell_type": "markdown",
   "metadata": {},
   "source": [
    "## Read annotated data"
   ]
  },
  {
   "cell_type": "code",
   "execution_count": 232,
   "metadata": {},
   "outputs": [],
   "source": [
    "import pandas as pd"
   ]
  },
  {
   "cell_type": "code",
   "execution_count": 330,
   "metadata": {},
   "outputs": [],
   "source": [
    "TOPIC = \"distance\"\n",
    "\n",
    "if TOPIC == \"distance\":\n",
    "    DATA_FILE = f\"../{TOPIC}-tweets.csv\"\n",
    "elif TOPIC == \"mondkapje\":\n",
    "    DATA_FILE = f\"{TOPIC}-202003-202103-1000.csv\"\n",
    "elif TOPIC == \"testing\":\n",
    "    DATA_FILE = f\"{TOPIC}-202003-202012.csv\"\n",
    "elif TOPIC == \"vaccin\":\n",
    "    DATA_FILE = f\"{TOPIC}-202001-202101-1000.csv\"\n",
    "DATA_DIR = \"../data/annotation/\"\n",
    "LABEL_FILE = DATA_FILE + \".human-labels.txt\""
   ]
  },
  {
   "cell_type": "code",
   "execution_count": 333,
   "metadata": {},
   "outputs": [
    {
     "data": {
      "text/html": [
       "<div>\n",
       "<style scoped>\n",
       "    .dataframe tbody tr th:only-of-type {\n",
       "        vertical-align: middle;\n",
       "    }\n",
       "\n",
       "    .dataframe tbody tr th {\n",
       "        vertical-align: top;\n",
       "    }\n",
       "\n",
       "    .dataframe thead th {\n",
       "        text-align: right;\n",
       "    }\n",
       "</style>\n",
       "<table border=\"1\" class=\"dataframe\">\n",
       "  <thead>\n",
       "    <tr style=\"text-align: right;\">\n",
       "      <th></th>\n",
       "      <th>0</th>\n",
       "      <th>1</th>\n",
       "      <th>2</th>\n",
       "      <th>3</th>\n",
       "      <th>4</th>\n",
       "    </tr>\n",
       "  </thead>\n",
       "  <tbody>\n",
       "    <tr>\n",
       "      <td>0</td>\n",
       "      <td>erikt@xs4all.nl</td>\n",
       "      <td>20200714143955</td>\n",
       "      <td>1255811493528027142</td>\n",
       "      <td>0</td>\n",
       "      <td>ONEENS</td>\n",
       "    </tr>\n",
       "    <tr>\n",
       "      <td>1</td>\n",
       "      <td>erikt@xs4all.nl</td>\n",
       "      <td>20200714144029</td>\n",
       "      <td>1268107342220005377</td>\n",
       "      <td>2</td>\n",
       "      <td>EENS</td>\n",
       "    </tr>\n",
       "    <tr>\n",
       "      <td>2</td>\n",
       "      <td>erikt@xs4all.nl</td>\n",
       "      <td>20200714144052</td>\n",
       "      <td>1267584204696702980</td>\n",
       "      <td>4</td>\n",
       "      <td>EENS</td>\n",
       "    </tr>\n",
       "    <tr>\n",
       "      <td>3</td>\n",
       "      <td>erikt@xs4all.nl</td>\n",
       "      <td>20200714144052</td>\n",
       "      <td>1267715572822937606</td>\n",
       "      <td>5</td>\n",
       "      <td>EENS</td>\n",
       "    </tr>\n",
       "    <tr>\n",
       "      <td>4</td>\n",
       "      <td>erikt@xs4all.nl</td>\n",
       "      <td>20200714144128</td>\n",
       "      <td>1227669121673965580</td>\n",
       "      <td>9</td>\n",
       "      <td>ANDERS</td>\n",
       "    </tr>\n",
       "    <tr>\n",
       "      <td>...</td>\n",
       "      <td>...</td>\n",
       "      <td>...</td>\n",
       "      <td>...</td>\n",
       "      <td>...</td>\n",
       "      <td>...</td>\n",
       "    </tr>\n",
       "    <tr>\n",
       "      <td>7281</td>\n",
       "      <td>n.k.breedveld@uu.nl</td>\n",
       "      <td>20200802142246</td>\n",
       "      <td>1259888385663041547</td>\n",
       "      <td>997</td>\n",
       "      <td>ANDERS</td>\n",
       "    </tr>\n",
       "    <tr>\n",
       "      <td>7282</td>\n",
       "      <td>n.k.breedveld@uu.nl</td>\n",
       "      <td>20200802142255</td>\n",
       "      <td>1267545781017419776</td>\n",
       "      <td>998</td>\n",
       "      <td>ONEENS</td>\n",
       "    </tr>\n",
       "    <tr>\n",
       "      <td>7283</td>\n",
       "      <td>n.k.breedveld@uu.nl</td>\n",
       "      <td>20200802142306</td>\n",
       "      <td>1264072298321059840</td>\n",
       "      <td>999</td>\n",
       "      <td>ANDERS</td>\n",
       "    </tr>\n",
       "    <tr>\n",
       "      <td>7284</td>\n",
       "      <td>n.k.breedveld@uu.nl</td>\n",
       "      <td>20200802142309</td>\n",
       "      <td>1264072298321059840</td>\n",
       "      <td>999</td>\n",
       "      <td>EENS</td>\n",
       "    </tr>\n",
       "    <tr>\n",
       "      <td>7285</td>\n",
       "      <td>n.k.breedveld@uu.nl</td>\n",
       "      <td>20200803110123</td>\n",
       "      <td>1239868641543413760</td>\n",
       "      <td>1000</td>\n",
       "      <td>EENS</td>\n",
       "    </tr>\n",
       "  </tbody>\n",
       "</table>\n",
       "<p>7286 rows × 5 columns</p>\n",
       "</div>"
      ],
      "text/plain": [
       "                        0               1                    2     3       4\n",
       "0         erikt@xs4all.nl  20200714143955  1255811493528027142     0  ONEENS\n",
       "1         erikt@xs4all.nl  20200714144029  1268107342220005377     2    EENS\n",
       "2         erikt@xs4all.nl  20200714144052  1267584204696702980     4    EENS\n",
       "3         erikt@xs4all.nl  20200714144052  1267715572822937606     5    EENS\n",
       "4         erikt@xs4all.nl  20200714144128  1227669121673965580     9  ANDERS\n",
       "...                   ...             ...                  ...   ...     ...\n",
       "7281  n.k.breedveld@uu.nl  20200802142246  1259888385663041547   997  ANDERS\n",
       "7282  n.k.breedveld@uu.nl  20200802142255  1267545781017419776   998  ONEENS\n",
       "7283  n.k.breedveld@uu.nl  20200802142306  1264072298321059840   999  ANDERS\n",
       "7284  n.k.breedveld@uu.nl  20200802142309  1264072298321059840   999    EENS\n",
       "7285  n.k.breedveld@uu.nl  20200803110123  1239868641543413760  1000    EENS\n",
       "\n",
       "[7286 rows x 5 columns]"
      ]
     },
     "execution_count": 333,
     "metadata": {},
     "output_type": "execute_result"
    }
   ],
   "source": [
    "label_data_raw"
   ]
  },
  {
   "cell_type": "code",
   "execution_count": 334,
   "metadata": {},
   "outputs": [],
   "source": [
    "data = pd.read_csv(DATA_DIR + DATA_FILE)\n",
    "data.sort_values(by=['id_str'])\n",
    "label_data_raw = pd.read_csv(DATA_DIR + LABEL_FILE, header=None, sep=\" \")\n",
    "label_data_raw.sort_values(by=[2])\n",
    "\n",
    "label_data = {}\n",
    "for row in label_data_raw.iterrows():\n",
    "    annotator = row[1][0]\n",
    "    id_str = row[1][2]\n",
    "    label = row[1][4]\n",
    "    if annotator == \"erikt@xs4all.nl\":\n",
    "        label_data[id_str] = label"
   ]
  },
  {
   "cell_type": "code",
   "execution_count": 335,
   "metadata": {},
   "outputs": [
    {
     "data": {
      "text/plain": [
       "(6835, 5977)"
      ]
     },
     "execution_count": 335,
     "metadata": {},
     "output_type": "execute_result"
    }
   ],
   "source": [
    "len(data), len(label_data)"
   ]
  },
  {
   "cell_type": "markdown",
   "metadata": {},
   "source": [
    "## Get time meta data"
   ]
  },
  {
   "cell_type": "code",
   "execution_count": 336,
   "metadata": {},
   "outputs": [],
   "source": [
    "import gzip\n",
    "import json\n",
    "import os\n",
    "from IPython.display import clear_output"
   ]
  },
  {
   "cell_type": "code",
   "execution_count": 337,
   "metadata": {},
   "outputs": [],
   "source": [
    "JSON_DIR = \"/home/erikt/media/20190525/files/cloud/twitter/2020\"\n",
    "FIRST_TWEET_IDS_FILE = \"csv/first_tweet_ids.csv\""
   ]
  },
  {
   "cell_type": "code",
   "execution_count": 338,
   "metadata": {},
   "outputs": [],
   "source": [
    "def squeal(text=None):\n",
    "    clear_output(wait=True)\n",
    "    if not text is None: print(text)"
   ]
  },
  {
   "cell_type": "code",
   "execution_count": 339,
   "metadata": {},
   "outputs": [],
   "source": [
    "if False:\n",
    "    first_tweet_ids = {}\n",
    "    for month in range(1, 3+1):\n",
    "        squeal(month)\n",
    "        month_dir = JSON_DIR + str(month).zfill(2) + \"/\"\n",
    "        file_names = sorted(os.listdir(month_dir))\n",
    "        for file_name in file_names:\n",
    "            infile = gzip.open(month_dir + file_name)\n",
    "            line = infile.readline()\n",
    "            infile.close()\n",
    "            json_data = json.loads(line)\n",
    "            first_tweet_ids[month_dir + file_name] = json_data['id_str']"
   ]
  },
  {
   "cell_type": "code",
   "execution_count": 340,
   "metadata": {},
   "outputs": [],
   "source": [
    "if False:\n",
    "    pd.DataFrame([{\"file_name\": file_name, \"id_str\": first_tweet_ids[file_name]} for file_name in first_tweet_ids]).to_csv(FIRST_TWEET_IDS_FILE, index=False)"
   ]
  },
  {
   "cell_type": "code",
   "execution_count": 341,
   "metadata": {},
   "outputs": [],
   "source": [
    "first_tweet_ids = pd.read_csv(FIRST_TWEET_IDS_FILE).to_dict('records')"
   ]
  },
  {
   "cell_type": "code",
   "execution_count": null,
   "metadata": {},
   "outputs": [
    {
     "name": "stdout",
     "output_type": "stream",
     "text": [
      "Sun Apr 19 10:09:01 +0000 2020\n"
     ]
    }
   ],
   "source": [
    "first_tweet_ids_pointer = 0\n",
    "time_data = {}\n",
    "for row in data.iterrows():\n",
    "    id_str = row[1]['id_str']\n",
    "    if id_str in label_data.keys() and label_data[id_str] != \"ANDERS\":\n",
    "        while first_tweet_ids[first_tweet_ids_pointer+1]['id_str'] < id_str and first_tweet_ids_pointer < len(first_tweet_ids)-1:\n",
    "            first_tweet_ids_pointer += 1\n",
    "        while first_tweet_ids[first_tweet_ids_pointer]['id_str'] > id_str and first_tweet_ids_pointer > 0:\n",
    "            first_tweet_ids_pointer -= 1\n",
    "        infile = gzip.open(first_tweet_ids[first_tweet_ids_pointer]['file_name'])\n",
    "        for line in infile:\n",
    "            json_data = json.loads(line)\n",
    "            if json_data['id_str'] == str(id_str):\n",
    "                time_data[json_data['id_str']] = json_data['created_at']\n",
    "                squeal(json_data['created_at'])\n",
    "        infile.close()"
   ]
  },
  {
   "cell_type": "code",
   "execution_count": 289,
   "metadata": {},
   "outputs": [],
   "source": [
    "pd.DataFrame([{'id_str': id_str, 'created_at': time_data[id_str]} for id_str in time_data]).to_csv(\"csv/time_data.\"+DATA_FILE, index=False)"
   ]
  },
  {
   "cell_type": "markdown",
   "metadata": {},
   "source": [
    "## Make graph"
   ]
  },
  {
   "cell_type": "code",
   "execution_count": 290,
   "metadata": {},
   "outputs": [],
   "source": [
    "import datetime\n",
    "import matplotlib.pyplot as plt\n",
    "import matplotlib.dates as mdates"
   ]
  },
  {
   "cell_type": "code",
   "execution_count": 319,
   "metadata": {},
   "outputs": [],
   "source": [
    "TIME_FILE = \"csv/time_data.\" + DATA_FILE"
   ]
  },
  {
   "cell_type": "code",
   "execution_count": 320,
   "metadata": {},
   "outputs": [],
   "source": [
    "label_data = pd.read_csv(DATA_DIR + LABEL_FILE, header=None, sep=\" \")\n",
    "time_data = pd.read_csv(TIME_FILE, index_col=\"id_str\")"
   ]
  },
  {
   "cell_type": "code",
   "execution_count": 321,
   "metadata": {},
   "outputs": [],
   "source": [
    "def make_graph_data_list(label_data, time_data):\n",
    "    graph_data_dict = {}\n",
    "    for row in label_data.iterrows():\n",
    "        label = row[1][4]\n",
    "        id_str = row[1][2]\n",
    "        if label == \"EENS\" or label == \"ONEENS\":\n",
    "            if id_str in time_data.index:\n",
    "                graph_data_dict[id_str] = { \"label\": label, \"created_at\": time_data.loc[id_str]['created_at'] }\n",
    "        elif label == \"ANDERS\":\n",
    "            if id_str in graph_data_dict:\n",
    "                del(graph_data_dict[id_str])\n",
    "        else:\n",
    "            print(f\"make_graph_data: cannot happen: {label}\")\n",
    "    return([{'label': graph_data_dict[id_str]['label'], 'created_at': graph_data_dict[id_str]['created_at']} for id_str in sorted(graph_data_dict.keys())])"
   ]
  },
  {
   "cell_type": "code",
   "execution_count": 326,
   "metadata": {},
   "outputs": [],
   "source": [
    "N = 100\n",
    "\n",
    "\n",
    "def percentage(window):\n",
    "    total_count = 0\n",
    "    support_count = 0\n",
    "    for row in window:\n",
    "        total_count += 1\n",
    "        if row['label'] == \"EENS\":\n",
    "            support_count += 1\n",
    "    return(100 * support_count / total_count)\n",
    "\n",
    "\n",
    "def select_graph_data(graph_data_list):\n",
    "    window = []\n",
    "    x = []\n",
    "    y = []\n",
    "    for i in range(0, len(graph_data_list)):\n",
    "        window.append(graph_data_list[i])\n",
    "        if len(window) >= N:\n",
    "            selected_time_index = int((N-1)*(i-N+1)/(len(graph_data_list)-N+1))\n",
    "            x.append(datetime.datetime.strptime(window[selected_time_index]['created_at'], \"%a %b %d %H:%M:%S %z %Y\"))\n",
    "            y.append(percentage(window))\n",
    "        while len(window) >= N:\n",
    "            window.pop(0)\n",
    "    return(x, y)"
   ]
  },
  {
   "cell_type": "code",
   "execution_count": 327,
   "metadata": {},
   "outputs": [],
   "source": [
    "graph_data_list = make_graph_data_list(label_data, time_data)"
   ]
  },
  {
   "cell_type": "code",
   "execution_count": 328,
   "metadata": {},
   "outputs": [],
   "source": [
    "x, y = select_graph_data(graph_data_list)"
   ]
  },
  {
   "cell_type": "code",
   "execution_count": 329,
   "metadata": {},
   "outputs": [
    {
     "data": {
      "image/png": "[encoded data removed]",
      "text/plain": [
       "<Figure size 432x288 with 1 Axes>"
      ]
     },
     "metadata": {
      "needs_background": "light"
     },
     "output_type": "display_data"
    }
   ],
   "source": [
    "fig, ax = plt.subplots()\n",
    "ax.xaxis.set_major_formatter(mdates.DateFormatter(\"%m\"))\n",
    "ax.plot_date(x, y, fmt=\"-\")\n",
    "plt.ylim(0, 100)\n",
    "plt.xlabel(\"months in the years 2020 and 2021\")\n",
    "plt.ylabel(\"percentage support\")\n",
    "plt.title(f\"support for wearing face masks (annotated data)\")\n",
    "plt.savefig(f\"annotated-{TOPIC}.png\")\n",
    "plt.show()"
   ]
  },
  {
   "cell_type": "code",
   "execution_count": null,
   "metadata": {},
   "outputs": [],
   "source": []
  },
  {
   "cell_type": "code",
   "execution_count": null,
   "metadata": {},
   "outputs": [],
   "source": []
  }
 ],
 "metadata": {
  "kernelspec": {
   "display_name": "python37",
   "language": "python",
   "name": "python37"
  },
  "language_info": {
   "codemirror_mode": {
    "name": "ipython",
    "version": 3
   },
   "file_extension": ".py",
   "mimetype": "text/x-python",
   "name": "python",
   "nbconvert_exporter": "python",
   "pygments_lexer": "ipython3",
   "version": "3.7.3"
  }
 },
 "nbformat": 4,
 "nbformat_minor": 4
}
