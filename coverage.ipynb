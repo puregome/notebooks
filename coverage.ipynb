{
 "cells": [
  {
   "cell_type": "markdown",
   "metadata": {},
   "source": [
    "# Coverage tests for collected tweets\n",
    "\n",
    "Estimate what percentage of Dutch tweets are collected by twiqs.nl"
   ]
  },
  {
   "cell_type": "code",
   "execution_count": 1,
   "metadata": {},
   "outputs": [],
   "source": [
    "import math\n",
    "import os\n",
    "import pandas as pd\n",
    "import re\n",
    "import sys\n",
    "from IPython.display import clear_output"
   ]
  },
  {
   "cell_type": "code",
   "execution_count": 2,
   "metadata": {},
   "outputs": [],
   "source": [
    "DATADIR = \"/home/erikt/projects/puregome/data/text/\""
   ]
  },
  {
   "cell_type": "code",
   "execution_count": 3,
   "metadata": {},
   "outputs": [],
   "source": [
    "def squeal(text=None):\n",
    "    clear_output(wait=True)\n",
    "    if not text is None: print(text)"
   ]
  },
  {
   "cell_type": "code",
   "execution_count": 4,
   "metadata": {},
   "outputs": [],
   "source": [
    "IDSTR = \"id_str\"\n",
    "INREPLYTOSTATUSIDSTR = \"in_reply_to_status_id_str\"\n",
    "\n",
    "def getReplyPercentage(filePattern,filePatternReference):\n",
    "    files = sorted(os.listdir(DATADIR))\n",
    "    targetFiles = {}\n",
    "    counter = 0\n",
    "    for inFileName in files:\n",
    "        if re.search(filePattern,inFileName):\n",
    "            counter += 1\n",
    "            df = pd.read_csv(DATADIR+inFileName,dtype={INREPLYTOSTATUSIDSTR:object})\n",
    "            counter += len(df)\n",
    "            for idStr in df[INREPLYTOSTATUSIDSTR]:\n",
    "                if type(idStr) == type(\"abc\"):\n",
    "                    targetFiles[idStr] = False\n",
    "    for inFileName in files:\n",
    "        if re.search(filePatternReference,inFileName):\n",
    "            df = pd.read_csv(DATADIR+inFileName,dtype={IDSTR:object})\n",
    "            for idStr in df[IDSTR]: \n",
    "                if idStr in targetFiles: targetFiles[idStr] = True\n",
    "            squeal(inFileName)\n",
    "    squeal(\"\")\n",
    "    return(len([x for x in targetFiles if targetFiles[x]]),len(targetFiles),counter)"
   ]
  },
  {
   "cell_type": "code",
   "execution_count": null,
   "metadata": {},
   "outputs": [],
   "source": [
    "filePattern = \"20200609\"\n",
    "filePatternReference = \"202006\"\n",
    "lenPart,lenAll,counter = getReplyPercentage(filePattern,filePatternReference)\n",
    "print(\"target date: {0}; reference: {1}; percentage: {2}%; total count: {3}\".format(filePattern,filePatternReference,\\\n",
    "                                                                                   round(100*lenPart/lenAll,1),counter))"
   ]
  },
  {
   "cell_type": "code",
   "execution_count": null,
   "metadata": {},
   "outputs": [],
   "source": [
    "filePattern = \"20200610\"\n",
    "lenPart,lenAll,counter = getReplyPercentage(filePattern,filePatternReference)\n",
    "print(\"target date: {0}; reference: {1}; percentage: {2}%; total count: {3}\".format(filePattern,filePatternReference,\\\n",
    "                                                                                   round(100*lenPart/lenAll,1),counter))"
   ]
  },
  {
   "cell_type": "code",
   "execution_count": null,
   "metadata": {},
   "outputs": [],
   "source": [
    "filePattern = \"20200611\"\n",
    "lenPart,lenAll,counter = getReplyPercentage(filePattern,filePatternReference)\n",
    "print(\"target date: {0}; reference: {1}; percentage: {2}%; total count: {3}\".format(filePattern,filePatternReference,\\\n",
    "                                                                                   round(100*lenPart/lenAll,1),counter))"
   ]
  },
  {
   "cell_type": "markdown",
   "metadata": {},
   "source": [
    "## Find best keywords"
   ]
  },
  {
   "cell_type": "code",
   "execution_count": 4,
   "metadata": {},
   "outputs": [],
   "source": [
    "from nltk.tokenize import TweetTokenizer"
   ]
  },
  {
   "cell_type": "code",
   "execution_count": 23,
   "metadata": {},
   "outputs": [
    {
     "name": "stdout",
     "output_type": "stream",
     "text": [
      "1403909\n"
     ]
    }
   ],
   "source": [
    "FILEPATTERN = \"202005|202006\"\n",
    "TEXT = \"text\"\n",
    "BASELEXICON = ()\n",
    "MAXLEXICONSIZE = 800\n",
    "ALLCOUNT = 596893 # 5623571 # 22798953 # 22798953\n",
    "LEFT200 = 61599\n",
    "LEFT100 = 80258 # 349598 # 1724488 # 1231745\n",
    "LEFT200100 = 43622 # 179089 # 801171 # 732526\n",
    "LEFT300200100 = 34583 # 130887 # 557205 # 531315\n",
    "LEFT400300200100 = 29528 # 109099 # 451231 # 439565\n",
    "LEFT500400300200100 = 0 # # 394609 # 387447\n",
    "LEFT600500400300200100 = 0 # # 357003 # 352026\n",
    "LEFT700600500400300200100 = 0 # # 329054 # 324628\n",
    "LEFT800700600500400300200100 = 0 # # 306745 # 303422\n",
    "\n",
    "def cleanupText(text):\n",
    "    text = re.sub(r\"\\\\n\",\" \",text.lower())\n",
    "    text = re.sub(r\"[#@]\",\" \",text)\n",
    "    return(text)\n",
    "\n",
    "def tokenize(tokenizer,text):\n",
    "    tokens = tokenizer.tokenize(text)\n",
    "    return(\" \".join(sorted(list(set(tokens)))))\n",
    "\n",
    "def getTweets():\n",
    "    files = sorted(os.listdir(DATADIR))\n",
    "    tokenizer = TweetTokenizer()\n",
    "    tweets = {}\n",
    "    for inFileName in files:\n",
    "        if re.search(FILEPATTERN,inFileName):\n",
    "            squeal(inFileName)\n",
    "            df = pd.read_csv(DATADIR+inFileName)\n",
    "            for text in df[TEXT]:\n",
    "                text = cleanupText(text)\n",
    "                text = tokenize(tokenizer,text)\n",
    "                tweets[text] = True\n",
    "    return(tweets)\n",
    "\n",
    "tweets = getTweets()\n",
    "\n",
    "lexicon = list(BASELEXICON)\n",
    "processedTweetCounts = []\n",
    "while len(lexicon) < MAXLEXICONSIZE:\n",
    "    frequencies = {}\n",
    "    processedTweetCount = 0\n",
    "    counter = 0\n",
    "    toBeDeleted = []\n",
    "    for text in tweets.keys():\n",
    "        counter += 1\n",
    "        if counter%10000 == 0: squeal(str(counter)+\"/\"+str(len(tweets))+\" \"+str(len(lexicon)))\n",
    "        tokens = text.split()\n",
    "        if len(set(lexicon).intersection(tokens)) > 1:\n",
    "            toBeDeleted.append(text)\n",
    "        else:\n",
    "            processedTweetCount += 1\n",
    "            for token in tokens:\n",
    "                if not token in lexicon:\n",
    "                    if token in frequencies: frequencies[token] += 1\n",
    "                    else: frequencies[token] = 1\n",
    "    squeal(\"deleting preselected tweets...\")\n",
    "    for text in toBeDeleted:\n",
    "        del(tweets[text])\n",
    "    squeal(str(processedTweetCount))\n",
    "    processedTweetCounts.append(processedTweetCount)\n",
    "    sortedFrequencies = {k:frequencies[k] for k in sorted(frequencies.keys(),key=lambda k:frequencies[k],reverse=True)}\n",
    "    topToken = [k for k in sortedFrequencies.keys() if re.search(r\"[a-z0-9]\",k) or \\\n",
    "                                                       (len(k) > 1 and k != \"..\" and k != \"...\" or\n",
    "                                                       (len(k) == 1 and ord(k) >= 127000 and ord(k) < 130000))][0]\n",
    "    lexicon.append(topToken) "
   ]
  },
  {
   "cell_type": "code",
   "execution_count": 35,
   "metadata": {},
   "outputs": [
    {
     "name": "stdout",
     "output_type": "stream",
     "text": [
      "de een en je van op voor ook die zijn 1 wel nog zo 😂 geen aan 2 mijn naar ze mooi me omg via of er heeft nieuwe al goedemorgen over vacature 👍 🤣 3 eens ameen 😘 kan p dus gewoon ga gaat 😍 i mij morgen 😉 rit leuk fijne open 2020 waar jullie hij 😊 5 sterkte mee he 🏻 vandaag tweet p2000 yes o waarom gaan zeg wtf jaar dankjewel even hahahahaha my werk 7 tijd nooit daar alles e allemaal politie nie m nou sinds amsterdam heerlijk x haar terug inderdaad den maam dm 0 10 graag 😔 im goede komen helemaal 🙏 a1 uur gelukkig goeie 9 foto queen eerste zie geweldig fijn beetje hebben bijna bro 😎 onder k niemand 🤔 lol beter help 🏼 update 🔥 joonie bezig lief nieuw hahahahah baby leuke mag 19 km gezellig 12 eindelijk kom 18 iedereen rotterdam zegt 🥳 <3 teen 01 wauw by hem 👇 🙄 💕 rosé iemand mood idee sorry denk dankje this uw le thierrybaudet 😋 halen nemen zal ingeborgvraagt snel vester maken xxx blonde donde goeiemorgen ma 😀 rivm mn 🙈 at volgende xd thuis 🎉 😜 gezien ongeval go tuurlijk youtube maap ka 100 ewdevlieger idd stream toe water that se 🍀 hoezo 👀 per vanavond ee daniel geeft alweer eu maaf r beterschap 😃 word hahah weet ;) et zit 🤪 or omw weekend proud jndkgrf huis weten h nodig men plezier 😱 terecht 🏽 jouw jammer 23 es verder prachtige poor links an mis lijkt legend 21 keer zoiets 16 geld ie vrouw coronavirus 64 vvd school :-) 😬 💙 stray_kids mondkapjes haan boy date vraag duidelijk jouwbaan team achter euro tijdens lee br hihi shit 🤭 jazeker 99 vooral 😩 😏 echte ek code eten 😆 hugodejonge oop hey genoeg thanks joostniemoller zoom w gemaakt minder auto tz tier dood flop her eigenlijk goedemiddag nunl nl blij war 🥴 d lees link winner groen opnieuw laten fucking ach eh moon groenlinks vol vanaf 03 q its genieten pas wet _17 walgelijk zwarte up duit good ervan 77 uhm hebt zaterdag dagen ygofficialblink ofzo ;-) antwerpen wacht aub valentine makan mogelijk verschrikkelijk more zij extra 70 boep hahahha nederlandse 79 drie tweede test 🙃 vrtweer 🙋 hahahahha oopsie 07 omdat ever nederlands overleden start slap 30 woorden vroeg né tsla cheers omgg vakantie mam 🤢 samen vro\n",
      "het ik is in niet dat rt met maar wat te dit weer bij ja dan echt goed we jij lekker deze uit nu dag toch als c veel u 😭 was ben heel door hahaha meer haha hoor a na mooie heb hier moet nee zeker 4 wie s oh man 🥺 hahahaha gefeliciteerd ok the n om wil jou top doen 20 altijd hoe tegen wordt so and weg to mensen onze gedaan best dank 2020-06- 😁 telegraaf t stop no 🥰 kijk 71 nos 6 tot zonder on super :) wij prachtig 8 hè worden komt laat you af hi klopt :( da hahahah woof alle letsel zou nieuws net gij what slaap 😳 iets alleen doe ni it ons erg 😅 buiten kangen nvm a2 klaar corona twitter welke gelijk oof ff niks yeah hahahahahaha nederland 🤗 gwn misschien bedankt pfft v das doet 11 natuurlijk bent hoop hou maakt succes __ for minpres stan b bts_twt staat 13 zelf grote welkom blijft 👌 wtaf der had jaa 💜 hele wanneer vs twee geniet smakelijk ah 15 🤩 kween utrecht kijken wierdduk eerst lang maak do zeer snap video binnen ver ne bark 😢 kunnen not laatste helaas big 💪 vroom wow ke moeder gaaf online eigen dts right steeds herkenbaar 😡 moeten maandag 14 😌 el 24 zo'n vreselijk kut ter wolf pls same gratis 💋 nowplaying shet zoals ig 17 black 💀 precies avond oeps anders ten hun haat blijven jennie 🙂 jamet groot 😄 fuck hé zich 50 ge ha jan 💚 leven beste cute slapen vrij uiteraard andere 💖 yea damn superjan donarturito 🤮 yep draadje nice krijgt klinkt zien groningen get ___ from eet juist 🏾 paar 69 geertwilderspvv erikmouthaanrtl wassup 💔 niets plan hahahahahah zin gecondoleerd vast congrats d66 zelfs god ist daarom now la hahahahahahaha volgens lieve normaal gg wonderland beke oops stuk oké 25 live hello hard onde gen jawel boven knap realdonaldtrump willen prima week verhaal meu zoekt 👏 verkocht straks rtlnieuws bestie ooit gezocht werken gevonden dietukkerfries oke 22 😇 neen king que gemeente welk thank 31 halsema hetzelfde bijzonder as 75 allen koffie hee 🖤 wakker medewerker be jungkook werkt hoi 🌹 lezen biep funny robjetten want bedoel doei been aanrijding joh heet 2019 chief meter kanker ich oe 👊 raar trump g ziek subtanyarl 010 netherlands 🤤 neden 83 chrisklomp gezegd rug f woop\n"
     ]
    }
   ],
   "source": [
    "outFile = open(\"tmp.txt\",\"w\")\n",
    "print(\"track=\",end=\"\",file=outFile)\n",
    "print(\",\".join([lexicon[i] for i in range(0,len(lexicon)) if i % 2 == 0]),file=outFile)\n",
    "print(\"track=\",end=\"\",file=outFile)\n",
    "print(\",\".join([lexicon[i] for i in range(0,len(lexicon)) if i % 2 != 0]),file=outFile)\n",
    "outFile.close()\n",
    "print(\" \".join([lexicon[i] for i in range(0,len(lexicon)) if i % 2 == 0]))\n",
    "print(\" \".join([lexicon[i] for i in range(0,len(lexicon)) if i % 2 != 0]))"
   ]
  },
  {
   "cell_type": "code",
   "execution_count": 30,
   "metadata": {},
   "outputs": [
    {
     "name": "stdout",
     "output_type": "stream",
     "text": [
      "20200619-10.out.gz\n"
     ]
    }
   ],
   "source": [
    "tweets = getTweets()"
   ]
  },
  {
   "cell_type": "code",
   "execution_count": 32,
   "metadata": {},
   "outputs": [
    {
     "name": "stdout",
     "output_type": "stream",
     "text": [
      "0 22798953\n",
      "100 1313071\n",
      "200 769719\n",
      "300 559828\n",
      "400 462469\n",
      "500 406252\n",
      "600 368855\n",
      "700 341173\n"
     ]
    }
   ],
   "source": [
    "tweetsCopy = tweets\n",
    "for i in range(0,len(lexicon)):\n",
    "    if i % 100 == 0: print(i,len(tweetsCopy))\n",
    "    toBeDeleted = []\n",
    "    for text in tweetsCopy.keys():\n",
    "        tokens = text.split()\n",
    "        if len(set([lexicon[i]]).intersection(tokens)) > 0:\n",
    "            toBeDeleted.append(text)\n",
    "    for text in toBeDeleted:\n",
    "        del(tweetsCopy[text])"
   ]
  },
  {
   "cell_type": "code",
   "execution_count": 33,
   "metadata": {},
   "outputs": [
    {
     "name": "stdout",
     "output_type": "stream",
     "text": [
      "799 318973\n"
     ]
    }
   ],
   "source": [
    "print(i,len(tweetsCopy))"
   ]
  },
  {
   "cell_type": "code",
   "execution_count": 64,
   "metadata": {},
   "outputs": [
    {
     "name": "stdout",
     "output_type": "stream",
     "text": [
      "22798953 1231745 732526 531315 439565 387447 352026 324628\n"
     ]
    }
   ],
   "source": [
    "print(\" \".join([str(processedTweetCounts[i]) for i in range(0,800,100)]))"
   ]
  },
  {
   "cell_type": "code",
   "execution_count": 45,
   "metadata": {},
   "outputs": [],
   "source": [
    "sortedFrequencies = {k:frequencies[k] for k in sorted(frequencies.keys(),key=lambda k:frequencies[k],reverse=True)}\n",
    "topTokens800 = [k for k in sortedFrequencies.keys() if re.search(r\"[a-z0-9]\",k) or \\\n",
    "                                                       (len(k) > 1 and k != \"..\" and k != \"...\" or\n",
    "                                                       (len(k) == 1 and ord(k) >= 127000 and ord(k) < 130000))][0:100]"
   ]
  },
  {
   "cell_type": "code",
   "execution_count": 46,
   "metadata": {},
   "outputs": [
    {
     "name": "stdout",
     "output_type": "stream",
     "text": [
      "de,het,en,een,is,ik,van,in,dat,niet,je,op,voor,met,die,maar,te,ook,zijn,er,als,dan,wat,aan,wel,nog,om,dit,ze,zo,bij,geen,of,nu,al,rt,we,kan,over,heb,naar,1,meer,weer,mijn,deze,heeft,uit,was,mensen,door,hebben,ben,toch,echt,dus,goed,moet,ja,gaat,worden,veel,daar,gaan,hij,hoe,me,hier,mij,eens,wordt,doen,zou,2,kunnen,jij,waar,gewoon,heel,wil,😂,alleen,via,mee,u,jaar,moeten,iets,tot,dag,hun,ga,even,tegen,weet,had,na,ons,maken,jullie\n",
      "omg,lekker,mooi,vacature,ameen,goedemorgen,😭,hahaha,nieuwe,😘,👍,mooie,haha,a,gefeliciteerd,😍,hahahaha,i,hoor,morgen,oh,3,🥺,s,ok,🤣,rit,open,fijne,tweet,zeker,🏻,p2000,dankjewel,amsterdam,😊,o,leuk,the,sterkte,man,c,a1,yes,and,2020,😉,2020-06-,top,slaap,hahahahaha,to,wie,4,n,5,e,m,werk,gedaan,so,wtf,no,20,0000,stop,my,🥰,maam,h,mm,km,nee,wind,0,he,vandaag,super,best,🙏,graag,hi,😁,7,foto,weg,tijd,x,altijd,🤗,im,you,a2,10,woof,zeg,prachtig,on,🍀,onze\n",
      "waarom,politie,inderdaad,71,hahahah,:(,heerlijk,klopt,nie,kangen,tz,zonder,allemaal,oof,letsel,vester,pfft,nooit,komen,persinformatie,nou,:),queen,af,telegraaf,niemand,joonie,help,nvm,alles,gij,hahahahah,teen,staysafe,kijk,terug,k,ni,wtaf,nos,goeie,geweldig,bijna,😔,jou,what,t,hahahahahaha,baby,update,8,hè,😳,gelukkig,fijn,6,welke,den,beetje,haar,ongeval,goede,v,buiten,helemaal,bedankt,da,gezellig,hoop,😅,nederland,eindelijk,😎,🔥,🤔,<3,zie,mood,welkom,klaar,9,twitter,wauw,bts_twt,smakelijk,kween,aanrijding,dankje,b,eerste,leuke,ff,wolf,stan,alle,💜,big,gelijk,vroom,for\n",
      "nemen,blonde,misschien,xxx,by,net,natuurlijk,vs,laat,gwn,beke,goeiemorgen,ne,onder,jaa,geniet,ee,ka,nieuw,zelf,👇,minpres,🙄,shet,tuurlijk,uw,beterschap,komt,nieuws,daniel,oeps,uur,kijken,ver,dank,wij,19,niks,maakt,💕,et,hoezo,🏼,ke,do,lang,rotterdam,wanneer,ervan,rosé,vreselijk,black,volgende,ter,11,iemand,doe,12,iedereen,se,alweer,18,wierdduk,jazeker,stream,zeer,thuis,herkenbaar,uiteraard,doet,biep,boep,es,haattweetje,nowplaying,beter,corona,rivm,erg,hele,kut,eerst,gaaf,maak,snel,ewdevlieger,binnen,wassup,code,ingeborgvraagt,ig,😡,gecondoleerd,toe,jennie,01,staat,vanavond,grote,keer\n",
      "zal,gezien,prachtige,succes,utrecht,zoiets,jndkgrf,from,maaf,meu,neen,🤩,an,terecht,le,laatste,goedemiddag,helaas,maap,flop,maandag,ah,zegt,lief,ge,né,donarturito,ie,thierrybaudet,woop,eu,oopsie,winner,paar,hem,links,video,gratis,poor,😋,💚,blijft,tsla,🥳,jawel,walgelijk,it,👌,sorry,bro,joostniemoller,huis,🤮,ma,lee,daarom,nodig,verkocht,🙈,moeder,🤪,64,beste,lol,at,duidelijk,dts,13,this,jouwbaan,wet,😜,👀,jouw,or,leven,ooit,superjan,el,go,doei,get,oké,fuck,💪,100,😌,hee,bestie,mondkapjes,dalende,💙,15,welk,i'm,ten,misdaadcijfers,😢,draadje,hugodejonge\n",
      "legend,ofzo,neden,que,💀,hello,verschrikkelijk,pls,anders,twee,dios,zit,groningen,fruit,dm,blijven,idd,denk,belgium,enzo,meet,tuig,online,ikutt,allen,zoals,kom,jamet,hé,dietukkerfries,onderwerp,😩,💋,😱,ft,;),not,hou,😀,groenlinks,hihi,💖,zo'n,vrouw,vvd,q,der,team,school,slap,zin,xd,men,blij,andere,omdat,wonderland,zoekt,nl,vrtweer,😬,🏾,f,:/,same,gg,damn,schatje,hahahahahah,achter,wow,water,dood,verder,sex,vrij,jan,_17,🏽,p,mn,rug,proud,laten,straks,das,🥴,holy,__,niets,netherlands,stray_kids,ziek,gelukkige,verjaardag,koffie,heerlijke,noot,😏,23\n",
      "nadineforhm,andnadine,omfg,geld,hahahahahahaha,netflixnl,werken,😆,willen,firstswithvv,bijzonder,echte,wakker,gezocht,duit,word,boven,netjes,genieten,🤭,zelfs,:-),nintendoswitch,hey,omw,leren,24,knuffel,dagen,deluxe,kraken,gevonden,linkse,jezus,eten,mondkapje,zoom,2.0,😃,king,ouwe,hoi,d,🤢,knap,oop,w,zaterdag,beef,uhm,stad,up,auto,😄,geweldige,🎉,50,welterusten,stelletje,zalig,gente,cute,per,ongelooflijk,gemaakt,good,volgens,🖤,152,zwolle,gemes,slapen,14,mirjam,belachelijk,vraag,ha,laviejanroos,omgg,date,been,namkook,moonbin,jungkook,ongerijmd,🤤,groen,zwarte,stuk,precies,2019,17,prima,zekers,valentine,wonwoo,sterk,realdonaldtrump,gerapporteerd,kanker\n",
      "zien,oe,aameen,hahah,krijgt,boeie,omggg,por,ygofficialblink,la,genel,werkse,engineer,zoveel,eigenlijk,genoeg,vooral,🙂,moon,ns,oops,jeetje,haan,jinkook,159,klein,tingz,vakantie,happy,wait,chrisaalberts,chrisklomp,jinnie,vro,sb19official,geertwilderspvv,teef,haat,blijkbaar,nicohey,his,fkn,raar,snap,💔,zoe,aaron,lezen,21,halen,overleden,euro,📷,leer,war,chief,keren,led,vrouwvdvrijheid,yep,kamer,fucking,congrats,99,slaapwel,👏,amen,gemeente,tijdens,🤧,welkam,verstandig,erikmouthaanrtl,25,robjetten,ko,amp,indrukwekkend,vol,zonde,zelfde,d66,afschuwelijk,70,😻,zielig,knettergek,vlog,pff,slecht,31,62,chips,les,kapot,🙃,goedzo,jesus,meter,cheers\n"
     ]
    }
   ],
   "source": [
    "print(\",\".join(topTokens100))\n",
    "print(\",\".join(topTokens200))\n",
    "print(\",\".join(topTokens300))\n",
    "print(\",\".join(topTokens400))\n",
    "print(\",\".join(topTokens500))\n",
    "print(\",\".join(topTokens600))\n",
    "print(\",\".join(topTokens700))\n",
    "print(\",\".join(topTokens800))"
   ]
  },
  {
   "cell_type": "code",
   "execution_count": 16,
   "metadata": {},
   "outputs": [
    {
     "name": "stdout",
     "output_type": "stream",
     "text": [
      "de,het,en,een,is,ik,van,dat,in,niet,je,op,voor,die,maar,met,te,ook,zijn,er,als,dan,wat,aan,dit,om,wel,nog,ze,zo,bij,geen,nu,over,rt,of,al,we,kan,naar,meer,mensen,heb,1,deze,heeft,was,weer,door,uit,mijn,hebben,ben,toch,moet,dus,echt,goed,worden,ja,gaat,daar,veel,gaan,hier,hij,hoe,wordt,eens,me,mij,doen,jij,zou,waar,kunnen,gewoon,2,heel,tegen,wil,alleen,mee,hun,moeten,u,via,iets,had,😂,tot,ga,jullie,even,weet,maken,alle,dag,na,jaar,lekker,vacature,mooi,goedemorgen,omg,nieuwe,gefeliciteerd,a,😘,👍,mooie,😭,morgen,hoor,open,tweet,😍,zeker,o,p2000,rit,and,fijne,🤣,🏻,slaap,sterkte,amsterdam,leuk,the,😊,n,3,s,to,2020-06-,0000,dankjewel,werk,hahaha,wie,gedaan,10,😉,so,i,haha,2020,🥺,man,a1,c,nee,best,he,11,5,graag,vandaag,oh,4,weg,m,wind,mm,tijd,altijd,top,hahahaha,🥰,foto,h,goede,allemaal,e,0,km,uur,zeg,🍀,onze,nie,🤗,letsel,goeie,20,😁,prachtig,komen,🔴,🙏,no,tz,71,nou,my,den,12,8,💋,waarom,woof,zonder,inderdaad,af,klopt,nooit,ok,x,heerlijk,alles,teen,gij,haar,terug,kijk,xxx,niemand,telegraaf,nos,helemaal,hahahahaha,yes,wtf,beetje,eerste,da,welke,super,bijna,wolf,on,bark,zie,geweldig,jou,wierdduk,gezellig,minpres,gelijk,gelukkig,hè,eindelijk,bedankt,twitter,hoop,maam,by,stop,buiten,laat,klaar,7,update,net,fijn,:),👇,😳,🔥,smakelijk,welkom,6,9,leuke,🤔,natuurlijk,vs,ne,wauw,kween,onder,misschien,ka,netflixlifee,gwn,niks,halsema,t,uw,erg,geertwilderspvv,ameen,😅,goeiemorgen,😎,ons,ee,ver,do,dankje,se,geniet,😔,dank,nieuws,komt,🏼,queen,ke,beterschap,help,im,wtaf,et,baby,for,:(,tuurlijk,es,wanneer,jaa,kijken,doe,k,what,iedereen,zelf,hahahah,💜,oeps,wassup,lang,snel,wij,pfft,rotterdam,jndkgrf,mood,nowplaying,hoezo,a2,alweer,iemand,boep,haattweetje,biep,gecondoleerd,ingeborgvraagt,nieuw,ff,doet,stan,v,nederland,volgende,daniel,eerst,vreselijk,ie,tsla,maakt,toe,hahahahahaha,beter,nemen,kangen,you,ter,links,ge,hi,kut,vroom,uiteraard,💕,staat,19,<3,herkenbaar,black,18,zeer,wet,hele,maak,ewdevlieger,utrecht,oof,code,nvm,joonie,thuis,b,corona,🙄,tuig,an,ig,beke,😡,shet,ni,blonde,jazeker,joostniemoller,zal,hahahahah,zegt,💚,\n"
     ]
    }
   ],
   "source": [
    "for token in topTokens100+topTokens200+topTokens300+topTokens400: print(token,end=\",\")\n",
    "print()"
   ]
  },
  {
   "cell_type": "code",
   "execution_count": null,
   "metadata": {},
   "outputs": [],
   "source": []
  }
 ],
 "metadata": {
  "kernelspec": {
   "display_name": "Python 3",
   "language": "python",
   "name": "python3"
  },
  "language_info": {
   "codemirror_mode": {
    "name": "ipython",
    "version": 3
   },
   "file_extension": ".py",
   "mimetype": "text/x-python",
   "name": "python",
   "nbconvert_exporter": "python",
   "pygments_lexer": "ipython3",
   "version": "3.7.3"
  }
 },
 "nbformat": 4,
 "nbformat_minor": 4
}
