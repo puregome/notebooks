{
 "cells": [
  {
   "cell_type": "markdown",
   "metadata": {},
   "source": [
    "# Coverage tests for collected tweets\n",
    "\n",
    "Estimate what percentage of Dutch tweets are collected by twiqs.nl"
   ]
  },
  {
   "cell_type": "code",
   "execution_count": 1,
   "metadata": {},
   "outputs": [],
   "source": [
    "import math\n",
    "import os\n",
    "import pandas as pd\n",
    "import re\n",
    "import sys\n",
    "from IPython.display import clear_output"
   ]
  },
  {
   "cell_type": "code",
   "execution_count": 2,
   "metadata": {},
   "outputs": [],
   "source": [
    "DATADIR = \"/home/erikt/projects/puregome/data/text/\""
   ]
  },
  {
   "cell_type": "code",
   "execution_count": 3,
   "metadata": {},
   "outputs": [],
   "source": [
    "def squeal(text=None):\n",
    "    clear_output(wait=True)\n",
    "    if not text is None: print(text)"
   ]
  },
  {
   "cell_type": "code",
   "execution_count": 4,
   "metadata": {},
   "outputs": [],
   "source": [
    "IDSTR = \"id_str\"\n",
    "INREPLYTOSTATUSIDSTR = \"in_reply_to_status_id_str\"\n",
    "\n",
    "def getReplyPercentage(filePattern,filePatternReference):\n",
    "    files = sorted(os.listdir(DATADIR))\n",
    "    targetFiles = {}\n",
    "    counter = 0\n",
    "    for inFileName in files:\n",
    "        if re.search(filePattern,inFileName):\n",
    "            counter += 1\n",
    "            df = pd.read_csv(DATADIR+inFileName,dtype={INREPLYTOSTATUSIDSTR:object})\n",
    "            counter += len(df)\n",
    "            for idStr in df[INREPLYTOSTATUSIDSTR]:\n",
    "                if type(idStr) == type(\"abc\"):\n",
    "                    targetFiles[idStr] = False\n",
    "    for inFileName in files:\n",
    "        if re.search(filePatternReference,inFileName):\n",
    "            df = pd.read_csv(DATADIR+inFileName,dtype={IDSTR:object})\n",
    "            for idStr in df[IDSTR]: \n",
    "                if idStr in targetFiles: targetFiles[idStr] = True\n",
    "            squeal(inFileName)\n",
    "    squeal(\"\")\n",
    "    return(len([x for x in targetFiles if targetFiles[x]]),len(targetFiles),counter)"
   ]
  },
  {
   "cell_type": "code",
   "execution_count": null,
   "metadata": {},
   "outputs": [],
   "source": [
    "filePattern = \"20200609\"\n",
    "filePatternReference = \"202006\"\n",
    "lenPart,lenAll,counter = getReplyPercentage(filePattern,filePatternReference)\n",
    "print(\"target date: {0}; reference: {1}; percentage: {2}%; total count: {3}\".format(filePattern,filePatternReference,\\\n",
    "                                                                                   round(100*lenPart/lenAll,1),counter))"
   ]
  },
  {
   "cell_type": "code",
   "execution_count": null,
   "metadata": {},
   "outputs": [],
   "source": [
    "filePattern = \"20200610\"\n",
    "lenPart,lenAll,counter = getReplyPercentage(filePattern,filePatternReference)\n",
    "print(\"target date: {0}; reference: {1}; percentage: {2}%; total count: {3}\".format(filePattern,filePatternReference,\\\n",
    "                                                                                   round(100*lenPart/lenAll,1),counter))"
   ]
  },
  {
   "cell_type": "code",
   "execution_count": null,
   "metadata": {},
   "outputs": [],
   "source": [
    "filePattern = \"20200611\"\n",
    "lenPart,lenAll,counter = getReplyPercentage(filePattern,filePatternReference)\n",
    "print(\"target date: {0}; reference: {1}; percentage: {2}%; total count: {3}\".format(filePattern,filePatternReference,\\\n",
    "                                                                                   round(100*lenPart/lenAll,1),counter))"
   ]
  },
  {
   "cell_type": "markdown",
   "metadata": {},
   "source": [
    "## Find best keywords"
   ]
  },
  {
   "cell_type": "code",
   "execution_count": 4,
   "metadata": {},
   "outputs": [],
   "source": [
    "from nltk.tokenize import TweetTokenizer"
   ]
  },
  {
   "cell_type": "code",
   "execution_count": 60,
   "metadata": {},
   "outputs": [
    {
     "name": "stdout",
     "output_type": "stream",
     "text": [
      "303422\n"
     ]
    }
   ],
   "source": [
    "FILEPATTERN = \"202005|202006\"\n",
    "TEXT = \"text\"\n",
    "BASELEXICON = ()\n",
    "MAXLEXICONSIZE = 800\n",
    "ALLCOUNT = 596893 # 5623571 # 22798953 # 22798953\n",
    "LEFT200 = 61599\n",
    "LEFT100 = 80258 # 349598 # 1724488 # 1231745\n",
    "LEFT200100 = 43622 # 179089 # 801171 # 732526\n",
    "LEFT300200100 = 34583 # 130887 # 557205 # 531315\n",
    "LEFT400300200100 = 29528 # 109099 # 451231 # 439565\n",
    "LEFT500400300200100 = 0 # # 394609 # 387447\n",
    "LEFT600500400300200100 = 0 # # 357003 # 352026\n",
    "LEFT700600500400300200100 = 0 # # 329054 # 324628\n",
    "LEFT800700600500400300200100 = 0 # # 306745 # 303422\n",
    "\n",
    "def cleanupText(text):\n",
    "    text = re.sub(r\"\\\\n\",\" \",text.lower())\n",
    "    text = re.sub(r\"[#@]\",\" \",text)\n",
    "    return(text)\n",
    "\n",
    "def tokenize(tokenizer,text):\n",
    "    tokens = tokenizer.tokenize(text)\n",
    "    return(\" \".join(sorted(list(set(tokens)))))\n",
    "\n",
    "def getTweets():\n",
    "    files = sorted(os.listdir(DATADIR))\n",
    "    tokenizer = TweetTokenizer()\n",
    "    tweets = {}\n",
    "    for inFileName in files:\n",
    "        if re.search(FILEPATTERN,inFileName):\n",
    "            squeal(inFileName)\n",
    "            df = pd.read_csv(DATADIR+inFileName)\n",
    "            for text in df[TEXT]:\n",
    "                text = cleanupText(text)\n",
    "                text = tokenize(tokenizer,text)\n",
    "                tweets[text] = True\n",
    "    return(tweets)\n",
    "\n",
    "tweets = getTweets()\n",
    "\n",
    "lexicon = list(BASELEXICON)\n",
    "processedTweetCounts = []\n",
    "while len(lexicon) < MAXLEXICONSIZE:\n",
    "    frequencies = {}\n",
    "    processedTweetCount = 0\n",
    "    toBeDeleted = []\n",
    "    counter = 0\n",
    "    for text in tweets.keys():\n",
    "        counter += 1\n",
    "        if counter%10000 == 0: squeal(str(counter)+\"/\"+str(len(tweets))+\" \"+str(len(lexicon)))\n",
    "        tokens = text.split()\n",
    "        if len(set(lexicon).intersection(tokens)) > 0:\n",
    "            toBeDeleted.append(text)\n",
    "        else:\n",
    "            processedTweetCount += 1\n",
    "            for token in tokens:\n",
    "                if token in frequencies: frequencies[token] += 1\n",
    "                else: frequencies[token] = 1\n",
    "    squeal(\"deleting preselected tweets...\")\n",
    "    for text in toBeDeleted: del(tweets[text])\n",
    "    squeal(processedTweetCount)\n",
    "    processedTweetCounts.append(processedTweetCount)\n",
    "    sortedFrequencies = {k:frequencies[k] for k in sorted(frequencies.keys(),key=lambda k:frequencies[k],reverse=True)}\n",
    "    topToken = [k for k in sortedFrequencies.keys() if re.search(r\"[a-z0-9]\",k) or \\\n",
    "                                                       (len(k) > 1 and k != \"..\" and k != \"...\" or\n",
    "                                                       (len(k) == 1 and ord(k) >= 127000 and ord(k) < 130000))][0]\n",
    "    lexicon.append(topToken) "
   ]
  },
  {
   "cell_type": "code",
   "execution_count": 65,
   "metadata": {},
   "outputs": [
    {
     "name": "stdout",
     "output_type": "stream",
     "text": [
      "de ik een het en je is in rt niet op van voor dat ook 1 met die maar zijn ja weer 😂 te omg wat bij zo lekker 2 mooi dit geen goed wel echt nog mijn goedemorgen we me vacature aan ameen dan naar dag 😭 uit jij veel hahaha of u eens via ze deze a haha mooie morgen toch gefeliciteerd 3 i ok hahahaha open oh 🤣 heel al rit zeker s als 👍 over tweet nieuwe 🥺 hoor dankjewel 😍 c wie sterkte na was gewoon the 2020 leuk door o meer nu yes heeft weg and fijne top hahahahaha gedaan ben n to ga 😉 no mij wtf onze woof 20 kan waar dus stop altijd 4 hier doen e best letsel 😘 moet so nee x gaat prachtig waarom hi man jaar nie heerlijk super inderdaad he 5 71 jullie tijd :( 🏻 hahahah on klopt vandaag tegen im zonder allemaal nooit maam nou kangen 😊 hij oof 😁 pfft my wordt komen zeg 🥰 daar even :) a1 you k niemand queen om gaan af telegraaf help gij mensen terug teen goeie nvm joonie alles t wil 7 leuke wtaf hahahahah kijk update geweldig amsterdam what bijna ni gelukkig nos fijn welke hahahahahaha jou er beetje goede buiten haar tot baby v gezellig hoop hoe a2 😳 bedankt 😔 8 graag eindelijk 🔥 heb zie dankje kween wauw 6 den klaar mood smakelijk hè km politie 😎 <3 eerste alle vroom ff twitter werk stan gelijk 🤔 worden nemen laat misschien b 10 0 wij net blonde 😅 for 🙏 da by goeiemorgen natuurlijk xxx vs gwn helemaal 9 welkom zelf onder ne geniet mee ka jaa 💜 beterschap p2000 ee nieuw 👇 minpres foto 🙄 shet ons zou tuurlijk komt daniel nieuws uw dank oeps uur rotterdam 💕 hoezo et maakt kijken do wanneer niks ke iemand alleen vreselijk 19 ter m lang rosé volgende ver jazeker alweer biep iets black 2020-06- es herkenbaar uiteraard se iedereen 11 wierdduk thuis zeer nederland gaaf wassup 🏼 hele kut ig nowplaying code doe 🤗 erg stream eerst 18 doet ingeborgvraagt maak 12 ewdevlieger gecondoleerd hebben 😡 h staat snel succes binnen maken beter zal prachtige toe gezien utrecht zoiets bts_twt jndkgrf from vanavond meu maaf laatste rivm an neen goedemiddag terecht 01 le 🤩 helaas corona maap maandag ge paar zegt lief winner grote woop flop links né poor donarturito ie thierrybaudet oopsie tsla video jawel blijft ah 😋 hem it slaap walgelijk 💚 eu nodig huis sorry daarom gratis moeder verkocht lee bro 🥳 ma dts at 👌 wet 64 el or joostniemoller 🤪 leven beste duidelijk 👀 dalende lol 🙈 doei 🤮 hee fuck this bestie mondkapjes welk superjan draadje get 100 😜 legend twee go 😌 ofzo verschrikkelijk 13 anders neden hugodejonge 💙 jouw pls 💀 que ten blijven hello zit groningen fruit 15 dios dm 💪 idd belgium 😢 had oké meet zoals online not ikutt denk enzo allen tuig onderwerp jamet 💋 ongeval hou dietukkerfries hé ft 😩 ;) 😀 hihi zo'n omdat vrouw 😱 school kom slap zin team groenlinks vrtweer 💖 q wonderland laten f dood :/ andere blij xd wow proud nl men holy rug hahahahahah _17 der jan 😬 water straks p netherlands ziek gg geld damn verder koffie same werken achter omw mn omfg nadineforhm heerlijke 🥴 vrij gelukkige straykids netflixnl moeten noot vvd 🏽 😏 hahahahahahaha niets echte 😆 willen keer 23 schatje boven wakker bijzonder 🏾 gezocht netjes duit genieten nintendoswitch sex zelfs knuffel 🤭 hey deluxe leren ooit 24 zoom kraken i'm zoekt :-) king jezus mondkapje d uhm dagen knap linkse beef hoi welterusten up gevonden gente 🤢 stad w zaterdag ouwe 50 good 😄 volgens 🎉 slapen per cute oop belachelijk stelletje 🖤 been gemes omgg 2.0 geweldige moonbin ongelooflijk kunnen zalig zwolle jungkook vraag zwarte namkook __ ygofficialblink auto gerapporteerd 152 😃 gemaakt sterk zien ongerijmd eten wonwoo das kanker ns genoeg ha oe 2019 groen zekers omggg prima 🤤 aameen hahah realdonaldtrump laviejanroos krijgt por boeie hun werkse date engineer zoveel eigenlijk genel la moon haan klein 159 jeetje happy jinnie stuk valentine 🙂 jinkook 17 wait vakantie vooral precies tingz oops teef jennie fkn geertwilderspvv his chrisaalberts vro chrisklomp aaron zoe snap sb19official 21 blijkbaar keren war overleden halen leer led dingen 📷 gemeente welkam 14 raar fucking slaapwel verstandig amen euro lezen zonde tijdens indrukwekkend vol 💔 kamer 👏 chief 31 😻 zelfde zielig vlog pff haat afschuwelijk chips yep steeds amp gelukt goedzo d66 slecht sterling 25 feyenoord zombie congrats knettergek ziekenhuis 62 laptop 35 kook ieuw cheers 70 erikmouthaanrtl omds vanuit totaal as 🤧 ko hoogeveen les thanks 99 be street lieve amei ckmkb vrouwvdvrijheid wimdaniels 🙃 omgggg kpop hetzelfde waanzin hoy\n"
     ]
    }
   ],
   "source": [
    "outFile = open(\"tmp.txt\",\"w\")\n",
    "print(\" \".join(lexicon[0:400]),file=outFile)\n",
    "print(\" \".join(lexicon[400:800]),file=outFile)\n",
    "outFile.close()\n",
    "print(\" \".join(lexicon[0:800]))"
   ]
  },
  {
   "cell_type": "code",
   "execution_count": 64,
   "metadata": {},
   "outputs": [
    {
     "name": "stdout",
     "output_type": "stream",
     "text": [
      "22798953 1231745 732526 531315 439565 387447 352026 324628\n"
     ]
    }
   ],
   "source": [
    "print(\" \".join([str(processedTweetCounts[i]) for i in range(0,800,100)]))"
   ]
  },
  {
   "cell_type": "code",
   "execution_count": 45,
   "metadata": {},
   "outputs": [],
   "source": [
    "sortedFrequencies = {k:frequencies[k] for k in sorted(frequencies.keys(),key=lambda k:frequencies[k],reverse=True)}\n",
    "topTokens800 = [k for k in sortedFrequencies.keys() if re.search(r\"[a-z0-9]\",k) or \\\n",
    "                                                       (len(k) > 1 and k != \"..\" and k != \"...\" or\n",
    "                                                       (len(k) == 1 and ord(k) >= 127000 and ord(k) < 130000))][0:100]"
   ]
  },
  {
   "cell_type": "code",
   "execution_count": 46,
   "metadata": {},
   "outputs": [
    {
     "name": "stdout",
     "output_type": "stream",
     "text": [
      "de,het,en,een,is,ik,van,in,dat,niet,je,op,voor,met,die,maar,te,ook,zijn,er,als,dan,wat,aan,wel,nog,om,dit,ze,zo,bij,geen,of,nu,al,rt,we,kan,over,heb,naar,1,meer,weer,mijn,deze,heeft,uit,was,mensen,door,hebben,ben,toch,echt,dus,goed,moet,ja,gaat,worden,veel,daar,gaan,hij,hoe,me,hier,mij,eens,wordt,doen,zou,2,kunnen,jij,waar,gewoon,heel,wil,😂,alleen,via,mee,u,jaar,moeten,iets,tot,dag,hun,ga,even,tegen,weet,had,na,ons,maken,jullie\n",
      "omg,lekker,mooi,vacature,ameen,goedemorgen,😭,hahaha,nieuwe,😘,👍,mooie,haha,a,gefeliciteerd,😍,hahahaha,i,hoor,morgen,oh,3,🥺,s,ok,🤣,rit,open,fijne,tweet,zeker,🏻,p2000,dankjewel,amsterdam,😊,o,leuk,the,sterkte,man,c,a1,yes,and,2020,😉,2020-06-,top,slaap,hahahahaha,to,wie,4,n,5,e,m,werk,gedaan,so,wtf,no,20,0000,stop,my,🥰,maam,h,mm,km,nee,wind,0,he,vandaag,super,best,🙏,graag,hi,😁,7,foto,weg,tijd,x,altijd,🤗,im,you,a2,10,woof,zeg,prachtig,on,🍀,onze\n",
      "waarom,politie,inderdaad,71,hahahah,:(,heerlijk,klopt,nie,kangen,tz,zonder,allemaal,oof,letsel,vester,pfft,nooit,komen,persinformatie,nou,:),queen,af,telegraaf,niemand,joonie,help,nvm,alles,gij,hahahahah,teen,staysafe,kijk,terug,k,ni,wtaf,nos,goeie,geweldig,bijna,😔,jou,what,t,hahahahahaha,baby,update,8,hè,😳,gelukkig,fijn,6,welke,den,beetje,haar,ongeval,goede,v,buiten,helemaal,bedankt,da,gezellig,hoop,😅,nederland,eindelijk,😎,🔥,🤔,<3,zie,mood,welkom,klaar,9,twitter,wauw,bts_twt,smakelijk,kween,aanrijding,dankje,b,eerste,leuke,ff,wolf,stan,alle,💜,big,gelijk,vroom,for\n",
      "nemen,blonde,misschien,xxx,by,net,natuurlijk,vs,laat,gwn,beke,goeiemorgen,ne,onder,jaa,geniet,ee,ka,nieuw,zelf,👇,minpres,🙄,shet,tuurlijk,uw,beterschap,komt,nieuws,daniel,oeps,uur,kijken,ver,dank,wij,19,niks,maakt,💕,et,hoezo,🏼,ke,do,lang,rotterdam,wanneer,ervan,rosé,vreselijk,black,volgende,ter,11,iemand,doe,12,iedereen,se,alweer,18,wierdduk,jazeker,stream,zeer,thuis,herkenbaar,uiteraard,doet,biep,boep,es,haattweetje,nowplaying,beter,corona,rivm,erg,hele,kut,eerst,gaaf,maak,snel,ewdevlieger,binnen,wassup,code,ingeborgvraagt,ig,😡,gecondoleerd,toe,jennie,01,staat,vanavond,grote,keer\n",
      "zal,gezien,prachtige,succes,utrecht,zoiets,jndkgrf,from,maaf,meu,neen,🤩,an,terecht,le,laatste,goedemiddag,helaas,maap,flop,maandag,ah,zegt,lief,ge,né,donarturito,ie,thierrybaudet,woop,eu,oopsie,winner,paar,hem,links,video,gratis,poor,😋,💚,blijft,tsla,🥳,jawel,walgelijk,it,👌,sorry,bro,joostniemoller,huis,🤮,ma,lee,daarom,nodig,verkocht,🙈,moeder,🤪,64,beste,lol,at,duidelijk,dts,13,this,jouwbaan,wet,😜,👀,jouw,or,leven,ooit,superjan,el,go,doei,get,oké,fuck,💪,100,😌,hee,bestie,mondkapjes,dalende,💙,15,welk,i'm,ten,misdaadcijfers,😢,draadje,hugodejonge\n",
      "legend,ofzo,neden,que,💀,hello,verschrikkelijk,pls,anders,twee,dios,zit,groningen,fruit,dm,blijven,idd,denk,belgium,enzo,meet,tuig,online,ikutt,allen,zoals,kom,jamet,hé,dietukkerfries,onderwerp,😩,💋,😱,ft,;),not,hou,😀,groenlinks,hihi,💖,zo'n,vrouw,vvd,q,der,team,school,slap,zin,xd,men,blij,andere,omdat,wonderland,zoekt,nl,vrtweer,😬,🏾,f,:/,same,gg,damn,schatje,hahahahahah,achter,wow,water,dood,verder,sex,vrij,jan,_17,🏽,p,mn,rug,proud,laten,straks,das,🥴,holy,__,niets,netherlands,stray_kids,ziek,gelukkige,verjaardag,koffie,heerlijke,noot,😏,23\n",
      "nadineforhm,andnadine,omfg,geld,hahahahahahaha,netflixnl,werken,😆,willen,firstswithvv,bijzonder,echte,wakker,gezocht,duit,word,boven,netjes,genieten,🤭,zelfs,:-),nintendoswitch,hey,omw,leren,24,knuffel,dagen,deluxe,kraken,gevonden,linkse,jezus,eten,mondkapje,zoom,2.0,😃,king,ouwe,hoi,d,🤢,knap,oop,w,zaterdag,beef,uhm,stad,up,auto,😄,geweldige,🎉,50,welterusten,stelletje,zalig,gente,cute,per,ongelooflijk,gemaakt,good,volgens,🖤,152,zwolle,gemes,slapen,14,mirjam,belachelijk,vraag,ha,laviejanroos,omgg,date,been,namkook,moonbin,jungkook,ongerijmd,🤤,groen,zwarte,stuk,precies,2019,17,prima,zekers,valentine,wonwoo,sterk,realdonaldtrump,gerapporteerd,kanker\n",
      "zien,oe,aameen,hahah,krijgt,boeie,omggg,por,ygofficialblink,la,genel,werkse,engineer,zoveel,eigenlijk,genoeg,vooral,🙂,moon,ns,oops,jeetje,haan,jinkook,159,klein,tingz,vakantie,happy,wait,chrisaalberts,chrisklomp,jinnie,vro,sb19official,geertwilderspvv,teef,haat,blijkbaar,nicohey,his,fkn,raar,snap,💔,zoe,aaron,lezen,21,halen,overleden,euro,📷,leer,war,chief,keren,led,vrouwvdvrijheid,yep,kamer,fucking,congrats,99,slaapwel,👏,amen,gemeente,tijdens,🤧,welkam,verstandig,erikmouthaanrtl,25,robjetten,ko,amp,indrukwekkend,vol,zonde,zelfde,d66,afschuwelijk,70,😻,zielig,knettergek,vlog,pff,slecht,31,62,chips,les,kapot,🙃,goedzo,jesus,meter,cheers\n"
     ]
    }
   ],
   "source": [
    "print(\",\".join(topTokens100))\n",
    "print(\",\".join(topTokens200))\n",
    "print(\",\".join(topTokens300))\n",
    "print(\",\".join(topTokens400))\n",
    "print(\",\".join(topTokens500))\n",
    "print(\",\".join(topTokens600))\n",
    "print(\",\".join(topTokens700))\n",
    "print(\",\".join(topTokens800))"
   ]
  },
  {
   "cell_type": "code",
   "execution_count": 16,
   "metadata": {},
   "outputs": [
    {
     "name": "stdout",
     "output_type": "stream",
     "text": [
      "de,het,en,een,is,ik,van,dat,in,niet,je,op,voor,die,maar,met,te,ook,zijn,er,als,dan,wat,aan,dit,om,wel,nog,ze,zo,bij,geen,nu,over,rt,of,al,we,kan,naar,meer,mensen,heb,1,deze,heeft,was,weer,door,uit,mijn,hebben,ben,toch,moet,dus,echt,goed,worden,ja,gaat,daar,veel,gaan,hier,hij,hoe,wordt,eens,me,mij,doen,jij,zou,waar,kunnen,gewoon,2,heel,tegen,wil,alleen,mee,hun,moeten,u,via,iets,had,😂,tot,ga,jullie,even,weet,maken,alle,dag,na,jaar,lekker,vacature,mooi,goedemorgen,omg,nieuwe,gefeliciteerd,a,😘,👍,mooie,😭,morgen,hoor,open,tweet,😍,zeker,o,p2000,rit,and,fijne,🤣,🏻,slaap,sterkte,amsterdam,leuk,the,😊,n,3,s,to,2020-06-,0000,dankjewel,werk,hahaha,wie,gedaan,10,😉,so,i,haha,2020,🥺,man,a1,c,nee,best,he,11,5,graag,vandaag,oh,4,weg,m,wind,mm,tijd,altijd,top,hahahaha,🥰,foto,h,goede,allemaal,e,0,km,uur,zeg,🍀,onze,nie,🤗,letsel,goeie,20,😁,prachtig,komen,🔴,🙏,no,tz,71,nou,my,den,12,8,💋,waarom,woof,zonder,inderdaad,af,klopt,nooit,ok,x,heerlijk,alles,teen,gij,haar,terug,kijk,xxx,niemand,telegraaf,nos,helemaal,hahahahaha,yes,wtf,beetje,eerste,da,welke,super,bijna,wolf,on,bark,zie,geweldig,jou,wierdduk,gezellig,minpres,gelijk,gelukkig,hè,eindelijk,bedankt,twitter,hoop,maam,by,stop,buiten,laat,klaar,7,update,net,fijn,:),👇,😳,🔥,smakelijk,welkom,6,9,leuke,🤔,natuurlijk,vs,ne,wauw,kween,onder,misschien,ka,netflixlifee,gwn,niks,halsema,t,uw,erg,geertwilderspvv,ameen,😅,goeiemorgen,😎,ons,ee,ver,do,dankje,se,geniet,😔,dank,nieuws,komt,🏼,queen,ke,beterschap,help,im,wtaf,et,baby,for,:(,tuurlijk,es,wanneer,jaa,kijken,doe,k,what,iedereen,zelf,hahahah,💜,oeps,wassup,lang,snel,wij,pfft,rotterdam,jndkgrf,mood,nowplaying,hoezo,a2,alweer,iemand,boep,haattweetje,biep,gecondoleerd,ingeborgvraagt,nieuw,ff,doet,stan,v,nederland,volgende,daniel,eerst,vreselijk,ie,tsla,maakt,toe,hahahahahaha,beter,nemen,kangen,you,ter,links,ge,hi,kut,vroom,uiteraard,💕,staat,19,<3,herkenbaar,black,18,zeer,wet,hele,maak,ewdevlieger,utrecht,oof,code,nvm,joonie,thuis,b,corona,🙄,tuig,an,ig,beke,😡,shet,ni,blonde,jazeker,joostniemoller,zal,hahahahah,zegt,💚,\n"
     ]
    }
   ],
   "source": [
    "for token in topTokens100+topTokens200+topTokens300+topTokens400: print(token,end=\",\")\n",
    "print()"
   ]
  },
  {
   "cell_type": "code",
   "execution_count": null,
   "metadata": {},
   "outputs": [],
   "source": []
  }
 ],
 "metadata": {
  "kernelspec": {
   "display_name": "Python 3",
   "language": "python",
   "name": "python3"
  },
  "language_info": {
   "codemirror_mode": {
    "name": "ipython",
    "version": 3
   },
   "file_extension": ".py",
   "mimetype": "text/x-python",
   "name": "python",
   "nbconvert_exporter": "python",
   "pygments_lexer": "ipython3",
   "version": "3.7.3"
  }
 },
 "nbformat": 4,
 "nbformat_minor": 4
}
