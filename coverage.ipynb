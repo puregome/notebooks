{
 "cells": [
  {
   "cell_type": "markdown",
   "metadata": {},
   "source": [
    "# Coverage tests for collected tweets\n",
    "\n",
    "Estimate what percentage of Dutch tweets are collected by twiqs.nl"
   ]
  },
  {
   "cell_type": "code",
   "execution_count": 1,
   "metadata": {},
   "outputs": [],
   "source": [
    "import math\n",
    "import os\n",
    "import pandas as pd\n",
    "import re\n",
    "import sys\n",
    "from IPython.display import clear_output"
   ]
  },
  {
   "cell_type": "code",
   "execution_count": 2,
   "metadata": {},
   "outputs": [],
   "source": [
    "DATADIR = \"/home/erikt/projects/puregome/data/text/\""
   ]
  },
  {
   "cell_type": "code",
   "execution_count": 3,
   "metadata": {},
   "outputs": [],
   "source": [
    "def squeal(text=None):\n",
    "    clear_output(wait=True)\n",
    "    if not text is None: print(text)"
   ]
  },
  {
   "cell_type": "code",
   "execution_count": 4,
   "metadata": {},
   "outputs": [],
   "source": [
    "IDSTR = \"id_str\"\n",
    "INREPLYTOSTATUSIDSTR = \"in_reply_to_status_id_str\"\n",
    "\n",
    "def getReplyPercentage(filePattern,filePatternReference):\n",
    "    files = sorted(os.listdir(DATADIR))\n",
    "    targetFiles = {}\n",
    "    counter = 0\n",
    "    for inFileName in files:\n",
    "        if re.search(filePattern,inFileName):\n",
    "            counter += 1\n",
    "            df = pd.read_csv(DATADIR+inFileName,dtype={INREPLYTOSTATUSIDSTR:object})\n",
    "            counter += len(df)\n",
    "            for idStr in df[INREPLYTOSTATUSIDSTR]:\n",
    "                if type(idStr) == type(\"abc\"):\n",
    "                    targetFiles[idStr] = False\n",
    "    for inFileName in files:\n",
    "        if re.search(filePatternReference,inFileName):\n",
    "            df = pd.read_csv(DATADIR+inFileName,dtype={IDSTR:object})\n",
    "            for idStr in df[IDSTR]: \n",
    "                if idStr in targetFiles: targetFiles[idStr] = True\n",
    "            squeal(inFileName)\n",
    "    squeal(\"\")\n",
    "    return(len([x for x in targetFiles if targetFiles[x]]),len(targetFiles),counter)"
   ]
  },
  {
   "cell_type": "code",
   "execution_count": null,
   "metadata": {},
   "outputs": [],
   "source": [
    "filePattern = \"20200609\"\n",
    "filePatternReference = \"202006\"\n",
    "lenPart,lenAll,counter = getReplyPercentage(filePattern,filePatternReference)\n",
    "print(\"target date: {0}; reference: {1}; percentage: {2}%; total count: {3}\".format(filePattern,filePatternReference,\\\n",
    "                                                                                   round(100*lenPart/lenAll,1),counter))"
   ]
  },
  {
   "cell_type": "code",
   "execution_count": null,
   "metadata": {},
   "outputs": [],
   "source": [
    "filePattern = \"20200610\"\n",
    "lenPart,lenAll,counter = getReplyPercentage(filePattern,filePatternReference)\n",
    "print(\"target date: {0}; reference: {1}; percentage: {2}%; total count: {3}\".format(filePattern,filePatternReference,\\\n",
    "                                                                                   round(100*lenPart/lenAll,1),counter))"
   ]
  },
  {
   "cell_type": "code",
   "execution_count": null,
   "metadata": {},
   "outputs": [],
   "source": [
    "filePattern = \"20200611\"\n",
    "lenPart,lenAll,counter = getReplyPercentage(filePattern,filePatternReference)\n",
    "print(\"target date: {0}; reference: {1}; percentage: {2}%; total count: {3}\".format(filePattern,filePatternReference,\\\n",
    "                                                                                   round(100*lenPart/lenAll,1),counter))"
   ]
  },
  {
   "cell_type": "markdown",
   "metadata": {},
   "source": [
    "## Find best keywords"
   ]
  },
  {
   "cell_type": "code",
   "execution_count": 4,
   "metadata": {},
   "outputs": [],
   "source": [
    "from nltk.tokenize import TweetTokenizer"
   ]
  },
  {
   "cell_type": "code",
   "execution_count": 23,
   "metadata": {},
   "outputs": [
    {
     "name": "stdout",
     "output_type": "stream",
     "text": [
      "1403909\n"
     ]
    }
   ],
   "source": [
    "FILEPATTERN = \"202005|202006\"\n",
    "TEXT = \"text\"\n",
    "BASELEXICON = ()\n",
    "MAXLEXICONSIZE = 800\n",
    "ALLCOUNT = 596893 # 5623571 # 22798953 # 22798953\n",
    "LEFT200 = 61599\n",
    "LEFT100 = 80258 # 349598 # 1724488 # 1231745\n",
    "LEFT200100 = 43622 # 179089 # 801171 # 732526\n",
    "LEFT300200100 = 34583 # 130887 # 557205 # 531315\n",
    "LEFT400300200100 = 29528 # 109099 # 451231 # 439565\n",
    "LEFT500400300200100 = 0 # # 394609 # 387447\n",
    "LEFT600500400300200100 = 0 # # 357003 # 352026\n",
    "LEFT700600500400300200100 = 0 # # 329054 # 324628\n",
    "LEFT800700600500400300200100 = 0 # # 306745 # 303422\n",
    "\n",
    "def cleanupText(text):\n",
    "    text = re.sub(r\"\\\\n\",\" \",text.lower())\n",
    "    text = re.sub(r\"[#@]\",\" \",text)\n",
    "    return(text)\n",
    "\n",
    "def tokenize(tokenizer,text):\n",
    "    tokens = tokenizer.tokenize(text)\n",
    "    return(\" \".join(sorted(list(set(tokens)))))\n",
    "\n",
    "def getTweets():\n",
    "    files = sorted(os.listdir(DATADIR))\n",
    "    tokenizer = TweetTokenizer()\n",
    "    tweets = {}\n",
    "    for inFileName in files:\n",
    "        if re.search(FILEPATTERN,inFileName):\n",
    "            squeal(inFileName)\n",
    "            df = pd.read_csv(DATADIR+inFileName)\n",
    "            for text in df[TEXT]:\n",
    "                text = cleanupText(text)\n",
    "                text = tokenize(tokenizer,text)\n",
    "                tweets[text] = True\n",
    "    return(tweets)\n",
    "\n",
    "tweets = getTweets()\n",
    "\n",
    "lexicon = list(BASELEXICON)\n",
    "processedTweetCounts = []\n",
    "while len(lexicon) < MAXLEXICONSIZE:\n",
    "    frequencies = {}\n",
    "    processedTweetCount = 0\n",
    "    counter = 0\n",
    "    toBeDeleted = []\n",
    "    for text in tweets.keys():\n",
    "        counter += 1\n",
    "        if counter%10000 == 0: squeal(str(counter)+\"/\"+str(len(tweets))+\" \"+str(len(lexicon)))\n",
    "        tokens = text.split()\n",
    "        if len(set(lexicon).intersection(tokens)) > 1:\n",
    "            toBeDeleted.append(text)\n",
    "        else:\n",
    "            processedTweetCount += 1\n",
    "            for token in tokens:\n",
    "                if not token in lexicon:\n",
    "                    if token in frequencies: frequencies[token] += 1\n",
    "                    else: frequencies[token] = 1\n",
    "    squeal(\"deleting preselected tweets...\")\n",
    "    for text in toBeDeleted:\n",
    "        del(tweets[text])\n",
    "    squeal(str(processedTweetCount))\n",
    "    processedTweetCounts.append(processedTweetCount)\n",
    "    sortedFrequencies = {k:frequencies[k] for k in sorted(frequencies.keys(),key=lambda k:frequencies[k],reverse=True)}\n",
    "    topToken = [k for k in sortedFrequencies.keys() if re.search(r\"[a-z0-9]\",k) or \\\n",
    "                                                       (len(k) > 1 and k != \"..\" and k != \"...\" or\n",
    "                                                       (len(k) == 1 and ord(k) >= 127000 and ord(k) < 130000))][0]\n",
    "    lexicon.append(topToken) "
   ]
  },
  {
   "cell_type": "code",
   "execution_count": 38,
   "metadata": {},
   "outputs": [
    {
     "name": "stdout",
     "output_type": "stream",
     "text": [
      "de ik en in van dat voor met die wat 1 dit nog bij 😂 dan aan goed mijn jij ze deze me nu via toch er c nieuwe u goedemorgen was vacature heel 🤣 hahaha eens haha 😘 a p mooie gewoon hier gaat nee i 4 morgen s rit man fijne hahahaha 2020 ok jullie n 😊 wil sterkte top he 20 vandaag hoe p2000 wordt o and gaan to wtf onze dankjewel best hahahahaha 2020-06- werk telegraaf tijd stop daar 🥰 e 71 politie 6 m zonder sinds super heerlijk wij haar 8 inderdaad worden maam laat 0 af graag klopt im da komen woof 🙏 letsel uur nieuws goeie gij foto slaap eerste iets geweldig doe beetje it bijna erg 😎 buiten k nvm 🤔 klaar beter twitter 🏼 gelijk 🔥 ff bezig yeah nieuw nederland baby gwn mag bedankt km v 12 doet kom natuurlijk iedereen hoop zegt maakt <3 __ 01 minpres by b 👇 staat 💕 zelf iemand welkom idee 👌 denk der this jaa le hele 😋 vs nemen geniet ingeborgvraagt ah vester 🤩 xxx utrecht donde wierdduk ma lang rivm do 🙈 snap volgende binnen thuis ne 😜 😢 ongeval not tuurlijk helaas maap 💪 100 wow idd moeder toe online that dts 🍀 steeds 👀 😡 vanavond maandag daniel 😌 alweer 24 maaf vreselijk beterschap ter word pls weet gratis et nowplaying 🤪 zoals omw 17 proud 💀 huis avond h anders men hun 😱 blijven 🏽 🙂 jammer groot es fuck prachtige zich links ge mis jan legend leven keer cute 16 vrij ie andere coronavirus yea vvd superjan :-) 🤮 💙 draadje mondkapjes krijgt boy zien vraag get jouwbaan from achter juist tijdens paar br geertwilderspvv shit wassup jazeker niets vooral hahahahahah 😏 gecondoleerd ek congrats eten zelfs hugodejonge ist hey now thanks hahahahahahaha zoom lieve gemaakt gg auto beke tier stuk flop 25 eigenlijk hello nunl onde blij jawel 🥴 knap lees willen winner week opnieuw meu fucking 👏 eh straks groenlinks bestie vanaf gezocht q gevonden genieten oke wet 😇 walgelijk king up gemeente good thank 77 halsema hebt bijzonder dagen 75 ofzo koffie antwerpen 🖤 aub medewerker makan jungkook verschrikkelijk hoi zij lezen 70 funny hahahha want 79 doei tweede aanrijding 🙃 heet 🙋 chief oopsie kanker omdat oe nederlands raar start g 30 subtanyarl vroeg netherlands tsla neden omgg chrisklomp mam rug samen woop\n",
      "het een is je niet op rt ook maar zijn te wel weer zo ja geen echt 2 we naar lekker mooi uit omg dag of als heeft veel al 😭 over ben 👍 door 3 meer ameen hoor kan na dus heb ga moet 😍 zeker mij wie 😉 oh leuk 🥺 open gefeliciteerd waar the hij om 5 jou mee doen 🏻 altijd tweet tegen yes so waarom weg zeg mensen jaar gedaan even dank my 😁 7 t nooit no alles kijk allemaal nos nie tot nou on amsterdam :) x prachtig terug hè den komt dm you 10 hi 😔 :( goede hahahah helemaal alle a1 zou gelukkig net 9 what queen 😳 zie alleen fijn ni hebben ons bro 😅 onder kangen niemand a2 lol corona help welke update oof joonie niks lief hahahahahaha hahahahah 🤗 leuke misschien 19 pfft gezellig das eindelijk 11 18 bent rotterdam hou 🥳 succes teen for wauw stan hem bts_twt 🙄 13 rosé grote mood blijft sorry wtaf dankje had uw 💜 thierrybaudet wanneer halen twee zal smakelijk snel 15 maken kween blonde kijken goeiemorgen eerst 😀 maak mn zeer at video xd ver 🎉 bark gezien kunnen go laatste youtube big ka vroom ewdevlieger ke stream gaaf water eigen se right hoezo herkenbaar per moeten ee 14 geeft el eu zo'n r kut 😃 wolf hahah same ;) 💋 zit shet or ig weekend black jndkgrf precies weten oeps nodig ten plezier haat terecht jennie jouw jamet 23 😄 verder hé poor 50 an ha lijkt 💚 21 beste zoiets slapen geld uiteraard vrouw 💖 64 damn school donarturito 😬 yep stray_kids nice haan klinkt date groningen duidelijk ___ team eet euro 🏾 lee 69 hihi erikmouthaanrtl 🤭 💔 99 plan 😩 zin echte vast code d66 😆 god oop daarom genoeg la joostniemoller volgens w normaal minder wonderland tz oops dood oké her live goedemiddag hard nl gen war boven d realdonaldtrump link prima groen verhaal laten zoekt ach verkocht moon rtlnieuws vol ooit 03 werken its dietukkerfries pas 22 _17 neen zwarte que duit welk ervan 31 uhm hetzelfde zaterdag as ygofficialblink allen ;-) hee wacht wakker valentine be mogelijk werkt more 🌹 extra biep boep robjetten nederlandse bedoel drie been test joh vrtweer 2019 hahahahha meter 07 ich ever 👊 overleden trump slap ziek woorden 010 né 🤤 cheers 83 vakantie gezegd 🤢 f vro\n"
     ]
    }
   ],
   "source": [
    "outFile = open(\"tmp.txt\",\"w\")\n",
    "print(\"track=\",end=\"\",file=outFile)\n",
    "print(\",\".join([lexicon[i] for i in range(0,len(lexicon)) if i % 4 == 0 or i % 4 == 3]),file=outFile)\n",
    "print(\"track=\",end=\"\",file=outFile)\n",
    "print(\",\".join([lexicon[i] for i in range(0,len(lexicon)) if i % 4 == 1 or i % 4 == 2]),file=outFile)\n",
    "outFile.close()\n",
    "print(\" \".join([lexicon[i] for i in range(0,len(lexicon)) if i % 4 == 0 or i % 4 == 3]))\n",
    "print(\" \".join([lexicon[i] for i in range(0,len(lexicon)) if i % 4 == 1 or i % 4 == 2]))"
   ]
  },
  {
   "cell_type": "code",
   "execution_count": 30,
   "metadata": {},
   "outputs": [
    {
     "name": "stdout",
     "output_type": "stream",
     "text": [
      "20200619-10.out.gz\n"
     ]
    }
   ],
   "source": [
    "tweets = getTweets()"
   ]
  },
  {
   "cell_type": "code",
   "execution_count": 32,
   "metadata": {},
   "outputs": [
    {
     "name": "stdout",
     "output_type": "stream",
     "text": [
      "0 22798953\n",
      "100 1313071\n",
      "200 769719\n",
      "300 559828\n",
      "400 462469\n",
      "500 406252\n",
      "600 368855\n",
      "700 341173\n"
     ]
    }
   ],
   "source": [
    "tweetsCopy = tweets\n",
    "for i in range(0,len(lexicon)):\n",
    "    if i % 100 == 0: print(i,len(tweetsCopy))\n",
    "    toBeDeleted = []\n",
    "    for text in tweetsCopy.keys():\n",
    "        tokens = text.split()\n",
    "        if len(set([lexicon[i]]).intersection(tokens)) > 0:\n",
    "            toBeDeleted.append(text)\n",
    "    for text in toBeDeleted:\n",
    "        del(tweetsCopy[text])"
   ]
  },
  {
   "cell_type": "code",
   "execution_count": 33,
   "metadata": {},
   "outputs": [
    {
     "name": "stdout",
     "output_type": "stream",
     "text": [
      "799 318973\n"
     ]
    }
   ],
   "source": [
    "print(i,len(tweetsCopy))"
   ]
  },
  {
   "cell_type": "code",
   "execution_count": 64,
   "metadata": {},
   "outputs": [
    {
     "name": "stdout",
     "output_type": "stream",
     "text": [
      "22798953 1231745 732526 531315 439565 387447 352026 324628\n"
     ]
    }
   ],
   "source": [
    "print(\" \".join([str(processedTweetCounts[i]) for i in range(0,800,100)]))"
   ]
  },
  {
   "cell_type": "code",
   "execution_count": 45,
   "metadata": {},
   "outputs": [],
   "source": [
    "sortedFrequencies = {k:frequencies[k] for k in sorted(frequencies.keys(),key=lambda k:frequencies[k],reverse=True)}\n",
    "topTokens800 = [k for k in sortedFrequencies.keys() if re.search(r\"[a-z0-9]\",k) or \\\n",
    "                                                       (len(k) > 1 and k != \"..\" and k != \"...\" or\n",
    "                                                       (len(k) == 1 and ord(k) >= 127000 and ord(k) < 130000))][0:100]"
   ]
  },
  {
   "cell_type": "code",
   "execution_count": 46,
   "metadata": {},
   "outputs": [
    {
     "name": "stdout",
     "output_type": "stream",
     "text": [
      "de,het,en,een,is,ik,van,in,dat,niet,je,op,voor,met,die,maar,te,ook,zijn,er,als,dan,wat,aan,wel,nog,om,dit,ze,zo,bij,geen,of,nu,al,rt,we,kan,over,heb,naar,1,meer,weer,mijn,deze,heeft,uit,was,mensen,door,hebben,ben,toch,echt,dus,goed,moet,ja,gaat,worden,veel,daar,gaan,hij,hoe,me,hier,mij,eens,wordt,doen,zou,2,kunnen,jij,waar,gewoon,heel,wil,😂,alleen,via,mee,u,jaar,moeten,iets,tot,dag,hun,ga,even,tegen,weet,had,na,ons,maken,jullie\n",
      "omg,lekker,mooi,vacature,ameen,goedemorgen,😭,hahaha,nieuwe,😘,👍,mooie,haha,a,gefeliciteerd,😍,hahahaha,i,hoor,morgen,oh,3,🥺,s,ok,🤣,rit,open,fijne,tweet,zeker,🏻,p2000,dankjewel,amsterdam,😊,o,leuk,the,sterkte,man,c,a1,yes,and,2020,😉,2020-06-,top,slaap,hahahahaha,to,wie,4,n,5,e,m,werk,gedaan,so,wtf,no,20,0000,stop,my,🥰,maam,h,mm,km,nee,wind,0,he,vandaag,super,best,🙏,graag,hi,😁,7,foto,weg,tijd,x,altijd,🤗,im,you,a2,10,woof,zeg,prachtig,on,🍀,onze\n",
      "waarom,politie,inderdaad,71,hahahah,:(,heerlijk,klopt,nie,kangen,tz,zonder,allemaal,oof,letsel,vester,pfft,nooit,komen,persinformatie,nou,:),queen,af,telegraaf,niemand,joonie,help,nvm,alles,gij,hahahahah,teen,staysafe,kijk,terug,k,ni,wtaf,nos,goeie,geweldig,bijna,😔,jou,what,t,hahahahahaha,baby,update,8,hè,😳,gelukkig,fijn,6,welke,den,beetje,haar,ongeval,goede,v,buiten,helemaal,bedankt,da,gezellig,hoop,😅,nederland,eindelijk,😎,🔥,🤔,<3,zie,mood,welkom,klaar,9,twitter,wauw,bts_twt,smakelijk,kween,aanrijding,dankje,b,eerste,leuke,ff,wolf,stan,alle,💜,big,gelijk,vroom,for\n",
      "nemen,blonde,misschien,xxx,by,net,natuurlijk,vs,laat,gwn,beke,goeiemorgen,ne,onder,jaa,geniet,ee,ka,nieuw,zelf,👇,minpres,🙄,shet,tuurlijk,uw,beterschap,komt,nieuws,daniel,oeps,uur,kijken,ver,dank,wij,19,niks,maakt,💕,et,hoezo,🏼,ke,do,lang,rotterdam,wanneer,ervan,rosé,vreselijk,black,volgende,ter,11,iemand,doe,12,iedereen,se,alweer,18,wierdduk,jazeker,stream,zeer,thuis,herkenbaar,uiteraard,doet,biep,boep,es,haattweetje,nowplaying,beter,corona,rivm,erg,hele,kut,eerst,gaaf,maak,snel,ewdevlieger,binnen,wassup,code,ingeborgvraagt,ig,😡,gecondoleerd,toe,jennie,01,staat,vanavond,grote,keer\n",
      "zal,gezien,prachtige,succes,utrecht,zoiets,jndkgrf,from,maaf,meu,neen,🤩,an,terecht,le,laatste,goedemiddag,helaas,maap,flop,maandag,ah,zegt,lief,ge,né,donarturito,ie,thierrybaudet,woop,eu,oopsie,winner,paar,hem,links,video,gratis,poor,😋,💚,blijft,tsla,🥳,jawel,walgelijk,it,👌,sorry,bro,joostniemoller,huis,🤮,ma,lee,daarom,nodig,verkocht,🙈,moeder,🤪,64,beste,lol,at,duidelijk,dts,13,this,jouwbaan,wet,😜,👀,jouw,or,leven,ooit,superjan,el,go,doei,get,oké,fuck,💪,100,😌,hee,bestie,mondkapjes,dalende,💙,15,welk,i'm,ten,misdaadcijfers,😢,draadje,hugodejonge\n",
      "legend,ofzo,neden,que,💀,hello,verschrikkelijk,pls,anders,twee,dios,zit,groningen,fruit,dm,blijven,idd,denk,belgium,enzo,meet,tuig,online,ikutt,allen,zoals,kom,jamet,hé,dietukkerfries,onderwerp,😩,💋,😱,ft,;),not,hou,😀,groenlinks,hihi,💖,zo'n,vrouw,vvd,q,der,team,school,slap,zin,xd,men,blij,andere,omdat,wonderland,zoekt,nl,vrtweer,😬,🏾,f,:/,same,gg,damn,schatje,hahahahahah,achter,wow,water,dood,verder,sex,vrij,jan,_17,🏽,p,mn,rug,proud,laten,straks,das,🥴,holy,__,niets,netherlands,stray_kids,ziek,gelukkige,verjaardag,koffie,heerlijke,noot,😏,23\n",
      "nadineforhm,andnadine,omfg,geld,hahahahahahaha,netflixnl,werken,😆,willen,firstswithvv,bijzonder,echte,wakker,gezocht,duit,word,boven,netjes,genieten,🤭,zelfs,:-),nintendoswitch,hey,omw,leren,24,knuffel,dagen,deluxe,kraken,gevonden,linkse,jezus,eten,mondkapje,zoom,2.0,😃,king,ouwe,hoi,d,🤢,knap,oop,w,zaterdag,beef,uhm,stad,up,auto,😄,geweldige,🎉,50,welterusten,stelletje,zalig,gente,cute,per,ongelooflijk,gemaakt,good,volgens,🖤,152,zwolle,gemes,slapen,14,mirjam,belachelijk,vraag,ha,laviejanroos,omgg,date,been,namkook,moonbin,jungkook,ongerijmd,🤤,groen,zwarte,stuk,precies,2019,17,prima,zekers,valentine,wonwoo,sterk,realdonaldtrump,gerapporteerd,kanker\n",
      "zien,oe,aameen,hahah,krijgt,boeie,omggg,por,ygofficialblink,la,genel,werkse,engineer,zoveel,eigenlijk,genoeg,vooral,🙂,moon,ns,oops,jeetje,haan,jinkook,159,klein,tingz,vakantie,happy,wait,chrisaalberts,chrisklomp,jinnie,vro,sb19official,geertwilderspvv,teef,haat,blijkbaar,nicohey,his,fkn,raar,snap,💔,zoe,aaron,lezen,21,halen,overleden,euro,📷,leer,war,chief,keren,led,vrouwvdvrijheid,yep,kamer,fucking,congrats,99,slaapwel,👏,amen,gemeente,tijdens,🤧,welkam,verstandig,erikmouthaanrtl,25,robjetten,ko,amp,indrukwekkend,vol,zonde,zelfde,d66,afschuwelijk,70,😻,zielig,knettergek,vlog,pff,slecht,31,62,chips,les,kapot,🙃,goedzo,jesus,meter,cheers\n"
     ]
    }
   ],
   "source": [
    "print(\",\".join(topTokens100))\n",
    "print(\",\".join(topTokens200))\n",
    "print(\",\".join(topTokens300))\n",
    "print(\",\".join(topTokens400))\n",
    "print(\",\".join(topTokens500))\n",
    "print(\",\".join(topTokens600))\n",
    "print(\",\".join(topTokens700))\n",
    "print(\",\".join(topTokens800))"
   ]
  },
  {
   "cell_type": "code",
   "execution_count": 16,
   "metadata": {},
   "outputs": [
    {
     "name": "stdout",
     "output_type": "stream",
     "text": [
      "de,het,en,een,is,ik,van,dat,in,niet,je,op,voor,die,maar,met,te,ook,zijn,er,als,dan,wat,aan,dit,om,wel,nog,ze,zo,bij,geen,nu,over,rt,of,al,we,kan,naar,meer,mensen,heb,1,deze,heeft,was,weer,door,uit,mijn,hebben,ben,toch,moet,dus,echt,goed,worden,ja,gaat,daar,veel,gaan,hier,hij,hoe,wordt,eens,me,mij,doen,jij,zou,waar,kunnen,gewoon,2,heel,tegen,wil,alleen,mee,hun,moeten,u,via,iets,had,😂,tot,ga,jullie,even,weet,maken,alle,dag,na,jaar,lekker,vacature,mooi,goedemorgen,omg,nieuwe,gefeliciteerd,a,😘,👍,mooie,😭,morgen,hoor,open,tweet,😍,zeker,o,p2000,rit,and,fijne,🤣,🏻,slaap,sterkte,amsterdam,leuk,the,😊,n,3,s,to,2020-06-,0000,dankjewel,werk,hahaha,wie,gedaan,10,😉,so,i,haha,2020,🥺,man,a1,c,nee,best,he,11,5,graag,vandaag,oh,4,weg,m,wind,mm,tijd,altijd,top,hahahaha,🥰,foto,h,goede,allemaal,e,0,km,uur,zeg,🍀,onze,nie,🤗,letsel,goeie,20,😁,prachtig,komen,🔴,🙏,no,tz,71,nou,my,den,12,8,💋,waarom,woof,zonder,inderdaad,af,klopt,nooit,ok,x,heerlijk,alles,teen,gij,haar,terug,kijk,xxx,niemand,telegraaf,nos,helemaal,hahahahaha,yes,wtf,beetje,eerste,da,welke,super,bijna,wolf,on,bark,zie,geweldig,jou,wierdduk,gezellig,minpres,gelijk,gelukkig,hè,eindelijk,bedankt,twitter,hoop,maam,by,stop,buiten,laat,klaar,7,update,net,fijn,:),👇,😳,🔥,smakelijk,welkom,6,9,leuke,🤔,natuurlijk,vs,ne,wauw,kween,onder,misschien,ka,netflixlifee,gwn,niks,halsema,t,uw,erg,geertwilderspvv,ameen,😅,goeiemorgen,😎,ons,ee,ver,do,dankje,se,geniet,😔,dank,nieuws,komt,🏼,queen,ke,beterschap,help,im,wtaf,et,baby,for,:(,tuurlijk,es,wanneer,jaa,kijken,doe,k,what,iedereen,zelf,hahahah,💜,oeps,wassup,lang,snel,wij,pfft,rotterdam,jndkgrf,mood,nowplaying,hoezo,a2,alweer,iemand,boep,haattweetje,biep,gecondoleerd,ingeborgvraagt,nieuw,ff,doet,stan,v,nederland,volgende,daniel,eerst,vreselijk,ie,tsla,maakt,toe,hahahahahaha,beter,nemen,kangen,you,ter,links,ge,hi,kut,vroom,uiteraard,💕,staat,19,<3,herkenbaar,black,18,zeer,wet,hele,maak,ewdevlieger,utrecht,oof,code,nvm,joonie,thuis,b,corona,🙄,tuig,an,ig,beke,😡,shet,ni,blonde,jazeker,joostniemoller,zal,hahahahah,zegt,💚,\n"
     ]
    }
   ],
   "source": [
    "for token in topTokens100+topTokens200+topTokens300+topTokens400: print(token,end=\",\")\n",
    "print()"
   ]
  },
  {
   "cell_type": "code",
   "execution_count": null,
   "metadata": {},
   "outputs": [],
   "source": []
  }
 ],
 "metadata": {
  "kernelspec": {
   "display_name": "Python 3",
   "language": "python",
   "name": "python3"
  },
  "language_info": {
   "codemirror_mode": {
    "name": "ipython",
    "version": 3
   },
   "file_extension": ".py",
   "mimetype": "text/x-python",
   "name": "python",
   "nbconvert_exporter": "python",
   "pygments_lexer": "ipython3",
   "version": "3.7.3"
  }
 },
 "nbformat": 4,
 "nbformat_minor": 4
}
