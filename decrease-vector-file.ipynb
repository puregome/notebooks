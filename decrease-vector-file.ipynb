{
 "cells": [
  {
   "cell_type": "markdown",
   "metadata": {},
   "source": [
    "# Decrease vector file\n",
    "\n",
    "Remove the vectors for low-frequency tokens"
   ]
  },
  {
   "cell_type": "code",
   "execution_count": 53,
   "metadata": {},
   "outputs": [],
   "source": [
    "import gzip\n",
    "import os\n",
    "import re\n",
    "from IPython.display import clear_output"
   ]
  },
  {
   "cell_type": "code",
   "execution_count": 54,
   "metadata": {},
   "outputs": [],
   "source": [
    "def squeal(text=None):\n",
    "    clear_output(wait=True)\n",
    "    if not text is None: print(text)"
   ]
  },
  {
   "cell_type": "code",
   "execution_count": 55,
   "metadata": {},
   "outputs": [],
   "source": [
    "def get_token_frequencies_from_text_files(file_pattern):\n",
    "    base_dir = \"/home/erikt/media/My Passport/erikt/puregome/data/txt/\"\n",
    "    file_list = sorted(os.listdir(base_dir))\n",
    "    frequencies = {}\n",
    "    for file_name in file_list:\n",
    "        if re.search(file_pattern, file_name):\n",
    "            squeal(file_name)\n",
    "            infile = gzip.open(base_dir+file_name, \"r\")\n",
    "            for line in infile:\n",
    "                for token in line.strip().split():\n",
    "                    if type(token) != str:\n",
    "                        token = token.decode()\n",
    "                    if token in frequencies:\n",
    "                        frequencies[token] += 1\n",
    "                    else:\n",
    "                        frequencies[token] = 1\n",
    "            infile.close()\n",
    "    return(frequencies)"
   ]
  },
  {
   "cell_type": "code",
   "execution_count": 56,
   "metadata": {},
   "outputs": [
    {
     "name": "stdout",
     "output_type": "stream",
     "text": [
      "201812.txt.gz\n"
     ]
    }
   ],
   "source": [
    "frequencies = get_token_frequencies_from_text_files(r'^2018\\d\\d')"
   ]
  },
  {
   "cell_type": "code",
   "execution_count": 61,
   "metadata": {},
   "outputs": [],
   "source": [
    "def decrease_vector_file(file_name, frequencies, min_freq):\n",
    "    vector_file_in = open(file_name, \"r\")\n",
    "    vector_file_out = open(re.sub(\".vec\", f\"-{min_freq}.vec\", file_name), \"w\")\n",
    "    counter = 0\n",
    "    for line in vector_file_in:\n",
    "        token = line.strip().split()[0]\n",
    "        counter += 1\n",
    "        if (token in frequencies and frequencies[token] >= min_freq):\n",
    "            print(line, file=vector_file_out, end=\"\")\n",
    "    vector_file_out.close()\n",
    "    vector_file_in.close()"
   ]
  },
  {
   "cell_type": "code",
   "execution_count": 62,
   "metadata": {},
   "outputs": [],
   "source": [
    "decrease_vector_file(\"/home/erikt/tmp/twiqs-model-2018.vec\", frequencies, 25)"
   ]
  },
  {
   "cell_type": "code",
   "execution_count": null,
   "metadata": {},
   "outputs": [],
   "source": []
  }
 ],
 "metadata": {
  "kernelspec": {
   "display_name": "python37",
   "language": "python",
   "name": "python37"
  },
  "language_info": {
   "codemirror_mode": {
    "name": "ipython",
    "version": 3
   },
   "file_extension": ".py",
   "mimetype": "text/x-python",
   "name": "python",
   "nbconvert_exporter": "python",
   "pygments_lexer": "ipython3",
   "version": "3.7.3"
  }
 },
 "nbformat": 4,
 "nbformat_minor": 4
}
