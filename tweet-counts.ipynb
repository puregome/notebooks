{
 "cells": [
  {
   "cell_type": "markdown",
   "metadata": {},
   "source": [
    "## Count terms appearing in tweets\n",
    "\n",
    "This notebook produces the graph with frequency counts of Dutch tweets related to the COVID-19 crisis. It relies on the texts of the tweets in the directory data/text and will count all the tweets in that directory. The notebook should be run every month after the tweets in the directory have been updated. Tweet counts are cached but generating the counts for one month will still take more than seven hours."
   ]
  },
  {
   "cell_type": "code",
   "execution_count": 2,
   "metadata": {},
   "outputs": [],
   "source": [
    "import gzip\n",
    "import json\n",
    "import os\n",
    "import pandas as pd\n",
    "import re\n",
    "\n",
    "DATADIR = \"../data/text/\""
   ]
  },
  {
   "cell_type": "code",
   "execution_count": 3,
   "metadata": {},
   "outputs": [],
   "source": [
    "TEXT = \"text\"\n",
    "FULLTEXT = \"full_text\"\n",
    "EXTENDEDTWEET = \"extended_tweet\"\n",
    "RETWEETEDSTATUS = \"retweeted_status\"\n",
    "\n",
    "def getTweetText(jsonData):\n",
    "    text = \"\"\n",
    "    if TEXT in jsonData: \n",
    "        text = jsonData[TEXT]\n",
    "    if EXTENDEDTWEET in jsonData and \\\n",
    "       FULLTEXT in jsonData[EXTENDEDTWEET]:\n",
    "        text = jsonData[EXTENDEDTWEET][FULLTEXT]\n",
    "    if RETWEETEDSTATUS in jsonData and \\\n",
    "       EXTENDEDTWEET in jsonData[RETWEETEDSTATUS] and \\\n",
    "       FULLTEXT in jsonData[RETWEETEDSTATUS][EXTENDEDTWEET]:\n",
    "        text = jsonData[RETWEETEDSTATUS][EXTENDEDTWEET][FULLTEXT]\n",
    "    return(text)"
   ]
  },
  {
   "cell_type": "code",
   "execution_count": 3,
   "metadata": {},
   "outputs": [],
   "source": [
    "from datetime import datetime, timedelta\n",
    "\n",
    "DATEFORMAT = \"%a %b %d %H:%M:%S %z %Y\"\n",
    "SUMMERTIMEDATE = datetime.strptime(\"Sun Mar 29 02:00:00 +0000 2020\",DATEFORMAT)\n",
    "WINTERTIMEDATE = datetime.strptime(\"Sun Oct 25 03:00:00 +0000 2020\",DATEFORMAT)\n",
    "\n",
    "def getTweetDate(jsonData):\n",
    "    dateString = jsonData[\"created_at\"]\n",
    "    dateData = datetime.strptime(dateString,DATEFORMAT)+timedelta(hours=1)\n",
    "    if dateData >= SUMMERTIMEDATE:\n",
    "        if dateData >= WINTERTIMEDATE: sys.exit(\"cannot happen\")\n",
    "        dateData += timedelta(hours=1)\n",
    "    return(int(dateData.strftime(\"%Y%m%d\")))"
   ]
  },
  {
   "cell_type": "code",
   "execution_count": 4,
   "metadata": {},
   "outputs": [],
   "source": [
    "CSVSUFFIX = \".csv\"\n",
    "DUTCH = \"nl\"\n",
    "IDSTR = \"id_str\"\n",
    "TOPIC = \"topic\"\n",
    "DISTANCE = \"distance\"\n",
    "TOPICQUERY = \"corona|covid|huisarts|mondkapje|rivm|blijfthuis|flattenthecurve|houvol\"\n",
    "DISTANCEQUERY = \"1[.,]5[ -]*m|afstand.*hou|hou.*afstand|anderhalve[ -]*meter\"\n",
    "\n",
    "fileNames = sorted(os.listdir(DATADIR))\n",
    "\n",
    "def saveCounts(counts,outFileName):\n",
    "    pd.DataFrame.from_dict(counts,orient=\"index\").to_csv(outFileName,header=False)\n",
    "\n",
    "def readCounts(inFileName):\n",
    "    countsDf = pd.read_csv(inFileName,header=None,index_col=0)\n",
    "    return(countsDf.to_dict()[1])\n",
    "\n",
    "def combineDicts(a,b):\n",
    "    return(dict(list(a.items())+list(b.items())))\n",
    "\n",
    "def search(query,countsIn):\n",
    "    countsOut = {}\n",
    "    countsInKeys = [ str(x) for x in countsIn ]\n",
    "    seen = {}\n",
    "    for inFileName in fileNames:\n",
    "        date = inFileName[0:8]\n",
    "        if re.search(r\"2*z\",inFileName) and not date in countsInKeys:\n",
    "            inFile = gzip.open(DATADIR+inFileName,mode=\"rt\")\n",
    "            for line in inFile:\n",
    "                jsonData = json.loads(line)\n",
    "                tweetText = getTweetText(jsonData)\n",
    "                tweetDate = getTweetDate(jsonData)\n",
    "                tweetLang = jsonData[\"lang\"]\n",
    "                if tweetLang == DUTCH and re.search(query,tweetText,flags=re.IGNORECASE):\n",
    "                    if tweetDate in countsOut: countsOut[tweetDate] += 1\n",
    "                    else: countsOut[tweetDate] = 1\n",
    "            inFile.close()\n",
    "            if not date in seen:\n",
    "                print(date)\n",
    "                seen[date] = True\n",
    "    countsOut = combineDicts(countsIn,countsOut)\n",
    "    countsOut = {k:v for k, v in sorted(countsOut.items(), key=lambda item: item[0])}\n",
    "    return(countsOut)\n",
    "\n",
    "def searchText(query,countsIn):\n",
    "    countsOut = {}\n",
    "    countsInKeys = [ str(x) for x in countsIn ]\n",
    "    query = query.lower()\n",
    "    if query == TOPIC: query = TOPICQUERY\n",
    "    elif query == DISTANCE: query = DISTANCEQUERY\n",
    "    for inFileName in fileNames:\n",
    "        date = inFileName[0:8]\n",
    "        if re.search(r\"2*z\",inFileName) and not date in countsInKeys:\n",
    "            if not date in countsOut: \n",
    "                countsOut[date] = 0\n",
    "                print(date,query)\n",
    "            df = pd.read_csv(DATADIR+inFileName,index_col=IDSTR)\n",
    "            for i in range(0,len(df)):\n",
    "                if re.search(query,df.iloc[i][TEXT].lower()):\n",
    "                    countsOut[date] += 1\n",
    "    countsOut = combineDicts(countsIn,countsOut)\n",
    "    countsOut = {str(k):v for k, v in sorted(countsOut.items(), key=lambda item: str(item[0]))}\n",
    "    return(countsOut)"
   ]
  },
  {
   "cell_type": "code",
   "execution_count": 5,
   "metadata": {},
   "outputs": [],
   "source": [
    "rivm = readCounts(\"rivm.csv\")\n",
    "corona = readCounts(\"corona.csv\")\n",
    "covid = readCounts(\"covid.csv\")\n",
    "mondkapje = readCounts(\"mondkapje.csv\")\n",
    "topic = readCounts(\"topic.csv\")\n",
    "distance = readCounts(DISTANCE+CSVSUFFIX)"
   ]
  },
  {
   "cell_type": "code",
   "execution_count": 6,
   "metadata": {},
   "outputs": [],
   "source": [
    "def deleteLastElement(myDict):\n",
    "    del(myDict[list(myDict.keys())[-1]])\n",
    "\n",
    "if False:\n",
    "    deleteLastElement(rivm)\n",
    "    rivm = searchText(\"rivm\",rivm)\n",
    "    saveCounts(rivm,\"rivm.csv\")\n",
    "    deleteLastElement(corona)\n",
    "    corona = searchText(\"corona\",corona)\n",
    "    saveCounts(corona,\"corona.csv\")\n",
    "    deleteLastElement(covid)\n",
    "    covid = searchText(\"covid\",covid)\n",
    "    saveCounts(covid,\"covid.csv\")\n",
    "    deleteLastElement(mondkapje)\n",
    "    mondkapje = searchText(\"mondkapje\",mondkapje)\n",
    "    saveCounts(mondkapje,\"mondkapje.csv\")\n",
    "    deleteLastElement(topic)\n",
    "    topic = searchText(\"topic\",topic)\n",
    "    saveCounts(topic,\"topic.csv\")   "
   ]
  },
  {
   "cell_type": "code",
   "execution_count": 7,
   "metadata": {},
   "outputs": [],
   "source": [
    "import math\n",
    "from warnings import warn\n",
    "\n",
    "WEEKLENGTH = 7\n",
    "\n",
    "def summarize(myDict,index,count):\n",
    "    counter = 0\n",
    "    mySum = 0\n",
    "    myKeys = list(myDict.keys())\n",
    "    for i in range(0,count):\n",
    "        if index-i >= 0 and not math.isnan(myDict[myKeys[index-i]]):\n",
    "            counter += 1\n",
    "            mySum += myDict[myKeys[index-i]]\n",
    "            if myKeys[index-i] > myKeys[index]:\n",
    "                warn(\"keys are not sorted!\")\n",
    "    if counter == 0: return(math.nan)\n",
    "    else: return(mySum/counter)\n",
    "\n",
    "rivm7 = {list(rivm.keys())[i]:summarize(rivm,i,WEEKLENGTH) for i in range(0,len(rivm))}\n",
    "corona7 = {list(corona.keys())[i]:summarize(corona,i,WEEKLENGTH) for i in range(0,len(corona))}\n",
    "covid7 = {list(covid.keys())[i]:summarize(covid,i,WEEKLENGTH) for i in range(0,len(covid))}\n",
    "mondkapje7 = {list(mondkapje.keys())[i]:summarize(mondkapje,i,WEEKLENGTH) for i in range(0,len(mondkapje))}\n",
    "topic7 = {list(topic.keys())[i]:summarize(topic,i,WEEKLENGTH) for i in range(0,len(topic))}\n",
    "distance7 = {list(distance.keys())[i]:summarize(distance,i,WEEKLENGTH) for i in range(0,len(distance))}"
   ]
  },
  {
   "cell_type": "markdown",
   "metadata": {},
   "source": [
    "### Plot absolute values"
   ]
  },
  {
   "cell_type": "code",
   "execution_count": 8,
   "metadata": {},
   "outputs": [],
   "source": [
    "from pandas.plotting import register_matplotlib_converters\n",
    "register_matplotlib_converters()"
   ]
  },
  {
   "cell_type": "code",
   "execution_count": 9,
   "metadata": {},
   "outputs": [
    {
     "data": {
      "text/plain": [
       "<Figure size 1500x900 with 1 Axes>"
      ]
     },
     "metadata": {},
     "output_type": "display_data"
    }
   ],
   "source": [
    "from datetime import datetime\n",
    "import matplotlib.pyplot as plt\n",
    "import matplotlib.dates as mdates\n",
    "import matplotlib\n",
    "#%matplotlib inline\n",
    "\n",
    "DATEFORMATPLOT = \"%Y%m%d\"\n",
    "PLOTFILEOUT = \"tweet-frequencies.png\"\n",
    "\n",
    "def getWeekendDates(dateStrings):\n",
    "    weekendDates = []\n",
    "    for ds in dateStrings:\n",
    "        d = datetime.strptime(str(ds),DATEFORMATPLOT)\n",
    "        if d == 0 or d == 6: weekendDates.append(d)\n",
    "            \n",
    "def stringArrayToDates(stringList,dateFormat=DATEFORMATPLOT):\n",
    "    return([datetime.strptime(str(date),dateFormat) for date in stringList])\n",
    "\n",
    "def makeLabel(name,myDict):\n",
    "    return(name+\" (\"+str(sum(myDict.values()))+\")\")\n",
    "\n",
    "weakendDates = getWeekendDates(rivm.keys())\n",
    "font = {\"size\":16}\n",
    "matplotlib.rc(\"font\",**font)\n",
    "plt.figure(figsize=(15,9))\n",
    "ax1 = plt.subplot(111)\n",
    "ax1.plot_date(stringArrayToDates(topic.keys()),list(topic.values()),xdate=True,fmt=\"-\",label=makeLabel(\"topic\",topic))\n",
    "ax1.plot_date(stringArrayToDates(corona.keys()),list(corona.values()),xdate=True,fmt=\"-\",label=makeLabel(\"corona\",corona))\n",
    "ax1.plot_date(stringArrayToDates(covid.keys()),list(covid.values()),xdate=True,fmt=\"-\",label=makeLabel(\"covid\",covid))\n",
    "ax1.plot_date(stringArrayToDates(rivm.keys()),list(rivm.values()),xdate=True,fmt=\"-\",label=makeLabel(\"rivm\",rivm))\n",
    "ax1.plot_date(stringArrayToDates(distance.keys()),list(distance.values()),xdate=True,fmt=\"-\",label=makeLabel(\"distancing\",distance))\n",
    "ax1.plot_date(stringArrayToDates(mondkapje.keys()),list(mondkapje.values()),xdate=True,fmt=\"-\",label=makeLabel(\"mondkapje\",mondkapje))\n",
    "ax1.xaxis.set_major_formatter(mdates.DateFormatter(\"%-d/%-m\"))\n",
    "dummy = ax1.legend()\n",
    "plt.title(\"Daily frequencies of Dutch tweets with pandemic words\")\n",
    "plt.xlabel(\"day/month\")\n",
    "plt.ylabel(\"count\")\n",
    "plt.savefig(PLOTFILEOUT)\n",
    "plt.show()"
   ]
  },
  {
   "cell_type": "code",
   "execution_count": 10,
   "metadata": {},
   "outputs": [
    {
     "data": {
      "text/plain": [
       "{'202002': 278082,\n",
       " '202003': 3152638,\n",
       " '202004': 2115728,\n",
       " '202005': 1264650,\n",
       " '202006': 921481,\n",
       " '202007': 922992,\n",
       " '202008': 1078644}"
      ]
     },
     "execution_count": 10,
     "metadata": {},
     "output_type": "execute_result"
    }
   ],
   "source": [
    "monthCounts = {}\n",
    "for date in topic:\n",
    "    month = str(date)[0:6]\n",
    "    if not month in monthCounts: monthCounts[month] = 0\n",
    "    monthCounts[month] += topic[date]\n",
    "monthCounts"
   ]
  },
  {
   "cell_type": "markdown",
   "metadata": {},
   "source": [
    "### Plot normalized values"
   ]
  },
  {
   "cell_type": "code",
   "execution_count": 11,
   "metadata": {},
   "outputs": [],
   "source": [
    "import pandas as pd\n",
    "\n",
    "def normalize(dateCounts,countsIn):\n",
    "    countsOut = {}\n",
    "    for key in countsIn:\n",
    "        if int(key) in dateCounts.index: \n",
    "            countsOut[key] = countsIn[key]/dateCounts.loc[int(key)][\"count\"]\n",
    "    return(countsOut)\n",
    "\n",
    "dateCounts = pd.read_csv(DATADIR+\"../date-counts.csv\",index_col=[\"date\"])"
   ]
  },
  {
   "cell_type": "code",
   "execution_count": 12,
   "metadata": {},
   "outputs": [],
   "source": [
    "rivmNorm = normalize(dateCounts,rivm)\n",
    "coronaNorm = normalize(dateCounts,corona)\n",
    "covidNorm = normalize(dateCounts,covid)\n",
    "mondkapjeNorm = normalize(dateCounts,mondkapje)\n",
    "topicNorm = normalize(dateCounts,topic)\n",
    "\n",
    "rivmNorm7 = {list(rivmNorm.keys())[i]:summarize(rivmNorm,i,WEEKLENGTH) for i in range(0,len(rivmNorm))}\n",
    "coronaNorm7 = {list(coronaNorm.keys())[i]:summarize(coronaNorm,i,WEEKLENGTH) for i in range(0,len(coronaNorm))}\n",
    "covidNorm7 = {list(covidNorm.keys())[i]:summarize(covidNorm,i,WEEKLENGTH) for i in range(0,len(covidNorm))}\n",
    "mondkapjeNorm7 = {list(mondkapjeNorm.keys())[i]:summarize(mondkapjeNorm,i,WEEKLENGTH) for i in range(0,len(mondkapjeNorm))}\n",
    "topicNorm7 = {list(topicNorm.keys())[i]:summarize(topicNorm,i,WEEKLENGTH) for i in range(0,len(topicNorm))}"
   ]
  },
  {
   "cell_type": "code",
   "execution_count": 13,
   "metadata": {},
   "outputs": [
    {
     "data": {
      "image/png": "[encoded data removed]",
      "text/plain": [
       "<Figure size 720x576 with 1 Axes>"
      ]
     },
     "metadata": {
      "needs_background": "light"
     },
     "output_type": "display_data"
    }
   ],
   "source": [
    "plt.figure(figsize=(10,8))\n",
    "ax2 = plt.subplot(111)\n",
    "ax2.plot_date(stringArrayToDates(topicNorm7.keys()),list(topicNorm7.values()),xdate=True,fmt=\"-\",label=makeLabel(\"topic\",topic))\n",
    "ax2.plot_date(stringArrayToDates(coronaNorm7.keys()),list(coronaNorm7.values()),xdate=True,fmt=\"-\",label=makeLabel(\"corona\",corona))\n",
    "ax2.plot_date(stringArrayToDates(covidNorm7.keys()),list(covidNorm7.values()),xdate=True,fmt=\"-\",label=makeLabel(\"covid\",covid))\n",
    "ax2.plot_date(stringArrayToDates(mondkapjeNorm7.keys()),list(mondkapjeNorm7.values()),xdate=True,fmt=\"-\",label=makeLabel(\"mondkapje\",mondkapje))\n",
    "ax2.plot_date(stringArrayToDates(rivmNorm7.keys()),list(rivmNorm7.values()),xdate=True,fmt=\"-\",label=makeLabel(\"rivm\",rivm))\n",
    "plt.title(\"Daily fractions of Dutch tweets with pandemic words (moving average over 7 days)\")\n",
    "plt.xticks([datetime.strptime(d,DATEFORMATPLOT) for d in \"20200301 20200401 20200501 20200601 20200701 20200801\".split()])\n",
    "dummy = ax2.legend()"
   ]
  },
  {
   "cell_type": "markdown",
   "metadata": {},
   "source": [
    "## Content analysis"
   ]
  },
  {
   "cell_type": "code",
   "execution_count": 4,
   "metadata": {},
   "outputs": [
    {
     "data": {
      "text/plain": [
       "7841"
      ]
     },
     "execution_count": 4,
     "metadata": {},
     "output_type": "execute_result"
    }
   ],
   "source": [
    "import gzip\n",
    "import json\n",
    "import os\n",
    "import numpy as np\n",
    "import pandas as pd\n",
    "import re\n",
    "\n",
    "DATADIR = \"../data/all/\"\n",
    "ID = \"id_str\"\n",
    "LANG = \"lang\"\n",
    "USER = \"user\"\n",
    "SCREENNAME = \"screen_name\"\n",
    "RIVM = \"rivm\"\n",
    "DUTCH = \"nl\"\n",
    "TARGETDATES = [\"20200412\",\"20200413\",\"20200414\",\"20200415\",\"20200416\",\"20200417\",\"20200418\"]\n",
    "QUERY = \"mondkapje\"\n",
    "\n",
    "def removeNewlines(text):\n",
    "    return(re.sub(r\"\\n\",\" \",text))\n",
    "\n",
    "fileNames = os.listdir(DATADIR)\n",
    "texts = {}\n",
    "dates = {}\n",
    "for inFileName in fileNames:\n",
    "    inFileDate = inFileName[0:8]\n",
    "    if inFileDate in TARGETDATES:\n",
    "        inFile = gzip.open(DATADIR+inFileName,mode=\"rt\")\n",
    "        for line in inFile:\n",
    "            jsonData = json.loads(line)\n",
    "            tweetText = removeNewlines(getTweetText(jsonData))\n",
    "            tweetLang = jsonData[LANG]\n",
    "            tweetId = jsonData[ID]\n",
    "            tweetUser = jsonData[USER][SCREENNAME]\n",
    "            if tweetLang == DUTCH and \\\n",
    "               re.search(QUERY,tweetText,flags=re.IGNORECASE) and \\\n",
    "               re.search(RIVM,tweetText,flags=re.IGNORECASE):\n",
    "                texts[tweetId] = {\"user\":tweetUser,\"text\":tweetText}\n",
    "                dates[tweetId] = int(inFileDate)\n",
    "        inFile.close()\n",
    "len(texts)"
   ]
  },
  {
   "cell_type": "code",
   "execution_count": 5,
   "metadata": {},
   "outputs": [],
   "source": [
    "pd.DataFrame.from_dict(texts,orient=\"index\").to_csv(\"mondkapje-tweets.csv\",header=False)"
   ]
  },
  {
   "cell_type": "code",
   "execution_count": 22,
   "metadata": {},
   "outputs": [],
   "source": [
    "ANNOTATIONFILE = DATADIR+\"../\"+\"mondkapje-tweets.csv.human-labels.txt\"\n",
    "\n",
    "def readAnnotations(annotationFile):\n",
    "    inFile = open(annotationFile,\"r\")\n",
    "    annotations = {}\n",
    "    minutes = {}\n",
    "    for line in inFile:\n",
    "        (userName,date,tweetId,nbr,label) = line.strip().split()\n",
    "        if not userName in annotations: \n",
    "            annotations[userName] = {}\n",
    "            minutes[userName] = {}\n",
    "        annotations[userName][tweetId] = label\n",
    "        minutes[userName][date[0:12]] = True\n",
    "    inFile.close()\n",
    "    for userName in annotations:\n",
    "        print(\"annotation time of user {0}: {1:d} messages in {2:d} minutes ({3:0.1f} tweets per minute)\".\\\n",
    "              format(userName,len(annotations[userName]),len(minutes[userName]),round(len(annotations[userName])/len(minutes[userName]),1)))\n",
    "    return(annotations)\n",
    "\n",
    "annotations = readAnnotations(ANNOTATIONFILE)"
   ]
  },
  {
   "cell_type": "code",
   "execution_count": 23,
   "metadata": {},
   "outputs": [],
   "source": [
    "for annotationFile in \"202007-distance-twitter.csv.human-labels.txt 202007-distance-nunl.csv.human-labels.txt \\\n",
    "                       202007-distance-reddit.csv.human-labels.txt\".split():\n",
    "    dummy = readAnnotations(\"../data/\"+annotationFile)"
   ]
  },
  {
   "cell_type": "code",
   "execution_count": 24,
   "metadata": {},
   "outputs": [],
   "source": [
    "dummy = readAnnotations(\"../data/\"+\"distance-tweets.csv.human-labels.txt\")"
   ]
  },
  {
   "cell_type": "code",
   "execution_count": null,
   "metadata": {},
   "outputs": [],
   "source": [
    "IRRELEVANT = \"IRRELEVANT\"\n",
    "NEUTRAL = \"NEUTRAL\"\n",
    "NEGATIVE = \"NEGATIVE\"\n",
    "POSITIVE = \"POSITIVE\"\n",
    "\n",
    "labelsPerDate = {}\n",
    "totals = {}\n",
    "for tweetId in dates:\n",
    "    if tweetId in annotations and annotations[tweetId] != IRRELEVANT:\n",
    "        date = int(dates[tweetId])\n",
    "        label = annotations[tweetId]\n",
    "        if not date in labelsPerDate: labelsPerDate[date] = {}\n",
    "        labelsPerDate[date][label] = labelsPerDate[date][label]+1 if label in labelsPerDate[date] else 1\n",
    "        totals[label] = totals[label]+1 if label in totals else 1\n",
    "labelsPerDate"
   ]
  },
  {
   "cell_type": "code",
   "execution_count": null,
   "metadata": {},
   "outputs": [],
   "source": [
    "import matplotlib\n",
    "import matplotlib.pyplot as plt\n",
    "\n",
    "labels = {\"NEGATIVE\":\"rejects\",\"POSITIVE\":\"supports\",\"NEUTRAL\":\"neutral\"}\n",
    "percentages = {key:round(100*totals[key]/sum(totals.values())) for key in totals}\n",
    "font = {\"size\":16}\n",
    "matplotlib.rc(\"font\",**font)\n",
    "\n",
    "for date in labelsPerDate:\n",
    "    for label in [NEGATIVE,NEUTRAL,POSITIVE]:\n",
    "        if not label in labelsPerDate[date]:\n",
    "            labelsPerDate[date][label] = 0\n",
    "\n",
    "negative = [labelsPerDate[date][NEGATIVE] for date in labelsPerDate.keys()]\n",
    "neutral = [labelsPerDate[date][NEUTRAL] for date in labelsPerDate.keys()]\n",
    "positive = [labelsPerDate[date][POSITIVE] for date in labelsPerDate.keys()]\n",
    "negplusneu = [negative[i]+neutral[i] for i in range(0,len(neutral))]\n",
    "plt.figure(figsize=(12,8))\n",
    "plt.bar(list(labelsPerDate.keys()),positive,label=labels[POSITIVE]+\" (\"+str(percentages[POSITIVE])+\"%)\",bottom=negplusneu)\n",
    "plt.bar(list(labelsPerDate.keys()),neutral,label=labels[NEUTRAL]+\" (\"+str(percentages[NEUTRAL])+\"%)\",bottom=negative)\n",
    "plt.bar(list(labelsPerDate.keys()),negative,label=labels[NEGATIVE]+\" (\"+str(percentages[NEGATIVE])+\"%)\",color=\"r\")\n",
    "plt.title(\"Twitter stance on RIVM advising against facemask use by general public\")\n",
    "plt.xticks(list(labelsPerDate.keys()),[\"Fri 17/4\",\"Wed 15/4\",\"Sun 12/4\",\"Thu 16/4\",\"Mon 13/4\",\"Tue 14/4\"])\n",
    "plt.legend()\n",
    "plt.show()"
   ]
  },
  {
   "cell_type": "markdown",
   "metadata": {},
   "source": [
    "## twiqs.nl tweets per month (alltime)"
   ]
  },
  {
   "cell_type": "code",
   "execution_count": null,
   "metadata": {},
   "outputs": [],
   "source": [
    "from datetime import datetime\n",
    "import pandas as pd\n",
    "import re\n",
    "import matplotlib\n",
    "import matplotlib.pyplot as plt"
   ]
  },
  {
   "cell_type": "code",
   "execution_count": null,
   "metadata": {},
   "outputs": [],
   "source": [
    "DATAFILE = \"../data/months.txt\"\n",
    "DATEFORMAT = \"%Y%m\""
   ]
  },
  {
   "cell_type": "code",
   "execution_count": null,
   "metadata": {},
   "outputs": [],
   "source": [
    "df = pd.read_csv(DATAFILE,sep=\" \",header=None,index_col=0)"
   ]
  },
  {
   "cell_type": "code",
   "execution_count": null,
   "metadata": {},
   "outputs": [],
   "source": [
    "font = {\"size\":14}\n",
    "matplotlib.rc(\"font\",**font)\n",
    "plt.figure(figsize=(12,8))\n",
    "ax2 = plt.subplot(111)\n",
    "ax2.set_ylim([0,90000000])\n",
    "ax2.plot_date([datetime.strptime(str(month),DATEFORMAT) for month in df.index if month > 201100],\\\n",
    "               [df.loc[month][1] for month in df.index if month > 201100],fmt=\"-\")\n",
    "plt.title(\"number of Dutch tweets collected by twiqs.nl per month\")\n",
    "plt.show()"
   ]
  },
  {
   "cell_type": "code",
   "execution_count": null,
   "metadata": {},
   "outputs": [],
   "source": []
  }
 ],
 "metadata": {
  "kernelspec": {
   "display_name": "Python 3",
   "language": "python",
   "name": "python3"
  },
  "language_info": {
   "codemirror_mode": {
    "name": "ipython",
    "version": 3
   },
   "file_extension": ".py",
   "mimetype": "text/x-python",
   "name": "python",
   "nbconvert_exporter": "python",
   "pygments_lexer": "ipython3",
   "version": "3.7.3"
  }
 },
 "nbformat": 4,
 "nbformat_minor": 4
}
