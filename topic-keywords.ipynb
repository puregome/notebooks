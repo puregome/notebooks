{
 "cells": [
  {
   "cell_type": "markdown",
   "metadata": {},
   "source": [
    "# Topic keywords\n",
    "\n",
    "Check which words are typical for topic tweets in different time frames. Uses the Ttest."
   ]
  },
  {
   "cell_type": "code",
   "execution_count": 1,
   "metadata": {},
   "outputs": [],
   "source": [
    "import csv\n",
    "import datetime\n",
    "import math\n",
    "import matplotlib.pyplot as plt\n",
    "import os\n",
    "import pandas as pd\n",
    "import random\n",
    "import re\n",
    "import sys\n",
    "from IPython.display import clear_output\n",
    "from nltk.tokenize import TweetTokenizer\n",
    "from collections import Counter\n",
    "sys.path.append(\"/home/erikt/projects/newsgac/fasttext-runs\")\n",
    "import tscore"
   ]
  },
  {
   "cell_type": "code",
   "execution_count": 2,
   "metadata": {},
   "outputs": [],
   "source": [
    "DATADIR = \"/home/erikt/projects/puregome/data/text/\"\n",
    "ID = \"id_str\"\n",
    "REPLYID = \"in_reply_to_status_id_str\"\n",
    "TEXT = \"text\"\n",
    "TOKEN = \"token\"\n",
    "USER = \"user\""
   ]
  },
  {
   "cell_type": "code",
   "execution_count": 3,
   "metadata": {},
   "outputs": [],
   "source": [
    "def squeal(text=None):\n",
    "    clear_output(wait=True)\n",
    "    if not text is None: print(text)"
   ]
  },
  {
   "cell_type": "markdown",
   "metadata": {},
   "source": [
    "## Count tweets with topic words"
   ]
  },
  {
   "cell_type": "code",
   "execution_count": 4,
   "metadata": {},
   "outputs": [],
   "source": [
    "def countTweets(datePattern, query):\n",
    "    count_query = 0\n",
    "    count_all = 0\n",
    "    fileList = sorted(os.listdir(DATADIR))\n",
    "    for inFileName in fileList:\n",
    "        if re.search(datePattern, inFileName):\n",
    "            squeal(inFileName)\n",
    "            df = pd.read_csv(DATADIR+inFileName,compression=\"gzip\",index_col=ID)\n",
    "            count_query += len(df[df[TEXT].str.contains(query, flags=re.IGNORECASE)])\n",
    "            count_all += len(df)\n",
    "    return(count_query, count_all)"
   ]
  },
  {
   "cell_type": "code",
   "execution_count": 5,
   "metadata": {},
   "outputs": [
    {
     "name": "stdout",
     "output_type": "stream",
     "text": [
      "20200522-23.out.gz\n",
      "29868 599613 corona|covid\n"
     ]
    }
   ],
   "source": [
    "FILEPATTERN = \"20200522\"\n",
    "\n",
    "for query in \"corona|covid\".split():\n",
    "    count_query, count_all = countTweets(FILEPATTERN,query)\n",
    "    print(count_query, count_all, query)"
   ]
  },
  {
   "cell_type": "markdown",
   "metadata": {},
   "source": [
    "## Find other relevant words in topic tweets"
   ]
  },
  {
   "cell_type": "code",
   "execution_count": 6,
   "metadata": {},
   "outputs": [],
   "source": [
    "import warnings\n",
    "warnings.simplefilter(\"ignore\")"
   ]
  },
  {
   "cell_type": "code",
   "execution_count": 7,
   "metadata": {},
   "outputs": [],
   "source": [
    "AT = r\"@\"\n",
    "HASH = r\"#\"\n",
    "\n",
    "def get_tokens_of_matched_tweets(file_pattern, query, query2, spy=True):\n",
    "    file_list = sorted(os.listdir(DATADIR))\n",
    "    match_tokens = {}\n",
    "    non_match_tokens = {}\n",
    "    for file_name in file_list:\n",
    "        if re.search('^' + file_pattern, file_name):\n",
    "            if spy: squeal(file_name)\n",
    "            df = pd.read_csv(DATADIR+file_name, index_col=ID)\n",
    "            if query2 == \"\":\n",
    "                matching_rows = df[TEXT].str.contains(query, flags=re.IGNORECASE)\n",
    "            else:\n",
    "                matching_rows = df[TEXT].str.contains(query, flags=re.IGNORECASE) & df[TEXT].str.contains(query2, flags=re.IGNORECASE)\n",
    "            df_match = df[matching_rows]\n",
    "            df_non_match = df[matching_rows == False]\n",
    "            text = \"\"\n",
    "            for i in range(0, len(df_match)):\n",
    "                text += \" \" + re.sub(\"\\\\\\\\n\", \" \", str(df_match.iloc[i][TEXT]))\n",
    "            for token, count in Counter(TweetTokenizer().tokenize(text.lower())).items():\n",
    "                if not token in match_tokens: \n",
    "                    match_tokens[token] = count\n",
    "                else: \n",
    "                    match_tokens[token] += count\n",
    "            text = \"\"\n",
    "            for i in range(0, len(df_non_match)):\n",
    "                text += \" \" + re.sub(\"\\\\\\\\n\", \" \", str(df_non_match.iloc[i][TEXT]))\n",
    "            for token, count in Counter(TweetTokenizer().tokenize(text.lower())).items(): \n",
    "                if count > 1:\n",
    "                    if not token in non_match_tokens: \n",
    "                        non_match_tokens[token] = count\n",
    "                    else: \n",
    "                        non_match_tokens[token] += count\n",
    "    match_tokens_clean = { t:match_tokens[t] for t in match_tokens if not re.search(\"^http\", t, flags=re.IGNORECASE) and \n",
    "                                                                      not re.search(\"^@[a-z]\", t, flags=re.IGNORECASE) }\n",
    "    non_match_tokens_clean = { t:non_match_tokens[t] for t in non_match_tokens if not re.search(\"^http\", t, flags=re.IGNORECASE) and \n",
    "                                                                                  not re.search(\"^@[a-z]\", t, flags=re.IGNORECASE) }\n",
    "    return(match_tokens_clean, non_match_tokens_clean)\n",
    "\n",
    "\n",
    "def readData(fileName):\n",
    "    return(pd.read_csv(fileName,index_col=TOKEN).to_dict())\n",
    "\n",
    "def writeData(data,fileName):\n",
    "    pd.DataFrame(data).to_csv(fileName,index_label=TOKEN)\n",
    "    \n",
    "def findKeysStartingWithChar(data,char):\n",
    "    keysStartingWithChar = []\n",
    "    for key in data:\n",
    "        try:\n",
    "            if re.search(r\"^\"+char+r\"\\w\",key):\n",
    "                shortKey = key[1:]\n",
    "                if shortKey in data: keysStartingWithChar.append(shortKey)\n",
    "        except: pass\n",
    "    return(keysStartingWithChar)\n",
    "\n",
    "def combineKeysStartingWithChar(data,char,keysStartingWithChar):\n",
    "    for key in keysStartingWithChar:\n",
    "        data[key] += data[char+key]\n",
    "        del(data[char+key])\n",
    "    return(data)\n",
    "\n",
    "def combineInitialHashAt(data):\n",
    "    keysStartingWithHash = findKeysStartingWithChar(data,HASH)\n",
    "    data = combineKeysStartingWithChar(data,HASH,keysStartingWithHash)\n",
    "    keysStartingWithAt = findKeysStartingWithChar(data,AT)\n",
    "    data = combineKeysStartingWithChar(data,AT,keysStartingWithAt)\n",
    "    return(data)"
   ]
  },
  {
   "cell_type": "code",
   "execution_count": 8,
   "metadata": {},
   "outputs": [],
   "source": [
    "NBROFEXAMPLES = 20\n",
    "\n",
    "def dictTopN(dictionary,n=NBROFEXAMPLES):\n",
    "    return([(x[1],x[0]) for x in dictionary.items()][0:n])\n",
    "\n",
    "def dictBottomN(dictionary,n=NBROFEXAMPLES):\n",
    "    return([(x[1],x[0]) for x in dictionary.items()][-n:])"
   ]
  },
  {
   "cell_type": "code",
   "execution_count": 9,
   "metadata": {},
   "outputs": [],
   "source": [
    "NBROFTOKENS = \"totalFreq\"\n",
    "NBROFTYPES = \"nbrOfWords\"\n",
    "WORDFREQS = \"wordFreqs\"\n",
    "\n",
    "def makeTscoreData(tokenList):\n",
    "    data = { NBROFTOKENS:0, NBROFTYPES:0, WORDFREQS:{} }\n",
    "    for token in tokenList:\n",
    "        if not math.isnan(tokenList[token]):\n",
    "            data[WORDFREQS][token] = tokenList[token]\n",
    "            data[NBROFTYPES] += 1\n",
    "            data[NBROFTOKENS] += tokenList[token]\n",
    "    return(data)\n",
    "\n",
    "def sortTscores(tscores):\n",
    "    return({token:tscores[token] for token in sorted(tscores.keys(),key=lambda t:tscores[t],reverse=True)})"
   ]
  },
  {
   "cell_type": "code",
   "execution_count": 24,
   "metadata": {},
   "outputs": [],
   "source": [
    "QUERY_DISTANCE= r\"1[.,]5[ -]*m|afstand.*hou|hou.*afstand|anderhalve[ -]*meter\"\n",
    "QUERY_TOPIC = \"corona|covid|mondkapje|rivm|blijfthuis|houvol|huisarts|flattenthecurve\"\n",
    "QUERY_TOPIC_SMALL = \"corona|covid\"\n",
    "QUERY_TRAVEL = \"reis|reizen\"\n",
    "QUERY_WASH_HANDS = \"hand.*was|was.*hand|pfizer|astra\"\n",
    "HAPPY_QUERY = r'\\b(geluk|gelukkig|gelukkige|blij|happy)\\b'\n",
    "LONELY_QUERY = r'eenza|alleen.*voel|voel.*alleen|lonely|loneli'\n",
    "IK_QUERY = r'\\b(ik|mij|mijn|me|mn|m\\'n|zelf|mezelf|mijzelf|i)\\b'\n",
    "# 20220127 added: herstelbewij|^cst$\n",
    "# 20220127 removed: apartheid\n",
    "CTB_QUERY = r'(ctb|qr|toegangsbewij|testbewij|coronapas|vaccinatiepas|vaccinpas|\\bcodes\\b|2g|3g|1g|herstelbewij|^cst$)'\n",
    "# 20211202 added: booster|vax|mrna|inject\n",
    "QUERY_VACCIN = \"vaccin|ingeënt|ingeent|inent|prik|spuit|bijwerking|-->|💉|pfizer|moderna|astrazeneca|astra|zeneca|novavax|biontech|booster|vax|mrna|inject\"\n",
    "TOPICQUERY = \"corona|covid|huisarts|mondkapje|rivm|blijfthuis|flattenthecurve|houvol\"\n",
    "TESTQUERY = r'\\btest|getest|sneltest|pcr'\n",
    "LOCKDOWNQUERY = \"lock.down|lockdown\"\n",
    "DISTANCEQUERY = \"1[.,]5[ -]*m|afstand.*hou|hou.*afstand|anderhalve[ -]*meter\"\n",
    "# 20220127 added: delta|omicron|omikron|antistof|serologi|immuun|immuni|^ema$|^lareb$|^ifr$|aerosol\n",
    "PANDEMICQUERY = \"|\".join([TOPICQUERY, TESTQUERY, QUERY_VACCIN, LOCKDOWNQUERY, DISTANCEQUERY, CTB_QUERY,\n",
    "                                      r'virus|besmet|ziekenhui|\\bic\\b|intensive.care|^zorg|vaccin|[^ad]arts|uitbraak|uitbrak|pandemie|ggd|'+\n",
    "                                      r'mondkapje|quarantaine|\\bwho\\b|avondklok|variant|verple|sympto|e.golf|mutant|^omt$|umc|hcq|'+\n",
    "                                      r'hydroxychloroquine|virolo|zkh|oversterfte|patiënt|patient|intensivist|🦠|ivermectin|'+\n",
    "                                      r'delta|omicron|omikron|antistof|serologi|immuun|immuni|^ema$|^lareb$|^ifr$|aerosol'])\n",
    "\n",
    "def show_top_tokens(file_pattern, query, query2=\"\", n=200, spy=False):\n",
    "    queryTokens = {}\n",
    "    nonQueryTokens = {}\n",
    "    tscoresDataQuery = {}\n",
    "    tscoresDataNonQuery = {}\n",
    "    query_tokens, non_query_tokens = get_tokens_of_matched_tweets(file_pattern, query, query2=query2, spy=spy)\n",
    "    tscores_data_query = makeTscoreData(query_tokens)\n",
    "    tscores_data_non_query = makeTscoreData(non_query_tokens)\n",
    "    print(file_pattern, end=\" \")\n",
    "    for x in dictTopN(sortTscores(tscore.computeTscore(tscores_data_query, tscores_data_non_query)), n=n): \n",
    "        if re.search(query, x[1]):\n",
    "            print(x[1], end=\" \")\n",
    "        else:\n",
    "            print(f'\\x1b[31m{x[1]}\\x1b[30m', end=\" \")\n",
    "    print()"
   ]
  },
  {
   "cell_type": "code",
   "execution_count": 26,
   "metadata": {},
   "outputs": [
    {
     "name": "stdout",
     "output_type": "stream",
     "text": [
      "20210601-23.out.gz\n",
      "20210601 vaccin corona vaccinatie vaccineren mondkapjes prik covid vaccins gevaccineerd pfizer virus moderna pandemie \u001b[31mmensen\u001b[30m ic \u001b[31m%\u001b[30m rivm \u001b[31mmiljoen\u001b[30m vaccinaties testen prikken \u001b[31mkrijgen\u001b[30m who \u001b[31m19\u001b[30m besmettingen bijwerkingen \u001b[31mna\u001b[30m test \u001b[31mspike\u001b[30m mondkapje coronavirus huisarts #vaccinatie \u001b[31mkans\u001b[30m \u001b[31mlienden\u001b[30m mrna besmet ziekenhuis \u001b[31mgeen\u001b[30m besmetting ggd astrazeneca \u001b[31masteroïde\u001b[30m gevaccineerden \u001b[31mdoden\u001b[30m lockdown \u001b[31martsen\u001b[30m mondkapjesdeal variant \u001b[31mlaten\u001b[30m 💉 \u001b[31mafspraak\u001b[30m \u001b[31mcijfers\u001b[30m \u001b[31marts\u001b[30m patiënten \u001b[31mziek\u001b[30m \u001b[31mdr\u001b[30m #mondkapjes immuunsysteem \u001b[31mstaatssteun\u001b[30m gevaccineerde \u001b[31musa\u001b[30m \u001b[31mzonder\u001b[30m \u001b[31mzich\u001b[30m \u001b[31meiwit\u001b[30m \u001b[31m1981\u001b[30m \u001b[31mwetenschap\u001b[30m verpleegkundigen \u001b[31mbrengt\u001b[30m \u001b[31m2020\u001b[30m getest \u001b[31mbreaking\u001b[30m \u001b[31mnemen\u001b[30m \u001b[31mkreeg\u001b[30m #coronavirus \u001b[31mjanssen\u001b[30m vaccinatiegraad \u001b[31m28\u001b[30m #corona \u001b[31mpropaganda\u001b[30m \u001b[31mgehad\u001b[30m \u001b[31mdissel\u001b[30m \u001b[31morder\u001b[30m virologen \u001b[31mgolf\u001b[30m #mondkapjesplicht \u001b[31mtv\u001b[30m \u001b[31manderen\u001b[30m \u001b[31mlicht\u001b[30m \u001b[31mseptember\u001b[30m \u001b[31mduitse\u001b[30m \u001b[31mwauw\u001b[30m niet-gevaccineerden virussen \u001b[31mvanwege\u001b[30m \u001b[31m2e\u001b[30m \u001b[31mnetwerk\u001b[30m \u001b[31mhoren\u001b[30m \u001b[31mgaven\u001b[30m \u001b[31msars\u001b[30m \u001b[31mwaarheid\u001b[30m \u001b[31moverleden\u001b[30m \u001b[31mmedische\u001b[30m \u001b[31msolidariteit\u001b[30m \u001b[31mmiljoenen\u001b[30m \u001b[31mwegzetten\u001b[30m \u001b[31maerosolen\u001b[30m \u001b[31mvanaf\u001b[30m uitbraak \u001b[31monbruikbare\u001b[30m \u001b[31mmaatregelen\u001b[30m \u001b[31mname\u001b[30m \u001b[31msteeds\u001b[30m besmettelijk \u001b[31mwuhan\u001b[30m \u001b[31mgriep\u001b[30m \u001b[31menkel\u001b[30m \u001b[31mtoegang\u001b[30m \u001b[31moverdragen\u001b[30m \u001b[31mrisico\u001b[30m \u001b[31m.\u001b[30m \u001b[31mtenpenney\u001b[30m viroloog #pfizer \u001b[31mafstand\u001b[30m \u001b[31mgeboren\u001b[30m #covid19 \u001b[31mcashen\u001b[30m \u001b[31mwetenschappers\u001b[30m injecteren \u001b[31m0,002\u001b[30m \u001b[31m0,0002\u001b[30m \u001b[31msymbolisme\u001b[30m \u001b[31mlogischer\u001b[30m \u001b[31m☄\u001b[30m #coronamaatregelen \u001b[31maz\u001b[30m quarantaine spuit \u001b[31m1,5\u001b[30m bijwerking #vaccinaties \u001b[31m11:30\u001b[30m \u001b[31mopzetten\u001b[30m \u001b[31moverwegingen\u001b[30m \u001b[31mdood\u001b[30m vaccinatieafspraak \u001b[31mbeurt\u001b[30m \u001b[31mlareb\u001b[30m \u001b[31mvoorkomen\u001b[30m \u001b[31m#beau\u001b[30m varianten \u001b[31mhelm\u001b[30m ziekenhuizen biontech \u001b[31m@0987654321id\u001b[30m \u001b[31m@010wijk11\u001b[30m spuiten astra \u001b[31m23.000\u001b[30m \u001b[31mgommers\u001b[30m \u001b[31mweken\u001b[30m coronacrisis #astrazeneca \u001b[31mopgerichte\u001b[30m \u001b[31mkinderen\u001b[30m \u001b[31mone\u001b[30m \u001b[31mifr\u001b[30m \u001b[31mnobelprijswinnaar\u001b[30m \u001b[31mdrukte\u001b[30m \u001b[31mopgenomen\u001b[30m \u001b[31mvertrouwt\u001b[30m #vaccineren \u001b[31moverheidsgeld\u001b[30m \u001b[31mzak\u001b[30m #vaccin \u001b[31mbijstandfraude\u001b[30m \u001b[31mondermijnend\u001b[30m \u001b[31maanbiedingen\u001b[30m \u001b[31mmails\u001b[30m \u001b[31monethisch\u001b[30m \u001b[31mscheppen\u001b[30m \u001b[31monrecht\u001b[30m \u001b[31mtegen\u001b[30m #coronavaccinatie coronamaatregelen geprikt #rivm \u001b[31mgroter\u001b[30m \u001b[31mtermijn\u001b[30m \u001b[31mvideo\u001b[30m \u001b[31mduitsland\u001b[30m \u001b[31minfectie\u001b[30m \u001b[31melens\u001b[30m #coronavaccin \u001b[31mzegt\u001b[30m \u001b[31mleveren\u001b[30m #covid19nl \u001b[31m\"\u001b[30m \u001b[31mstudie\u001b[30m \n"
     ]
    }
   ],
   "source": [
    "show_top_tokens(\"20210601\", PANDEMICQUERY, spy=True)"
   ]
  },
  {
   "cell_type": "code",
   "execution_count": 25,
   "metadata": {},
   "outputs": [
    {
     "name": "stdout",
     "output_type": "stream",
     "text": [
      "20211201-23.out.gz\n",
      "20211201 corona #coronadebat gevaccineerd covid ongevaccineerden vaccins ic vaccin vaccineren ziekenhuis vaccinatie #vaccinatieplicht \u001b[31m%\u001b[30m gevaccineerden qr ziekenhuizen vaccinatieplicht \u001b[31mde\u001b[30m virus \u001b[31m19\u001b[30m 2g testen prikken besmettingen patiënten prik #coronatoegangsbewijs pandemie test oversterfte vaccinaties booster bijwerkingen #qrsamenleving \u001b[31mpositieve\u001b[30m \u001b[31mmaatregelen\u001b[30m \u001b[31maantal\u001b[30m boosters pfizer rivm variant \u001b[31mgesloten\u001b[30m gevaccineerde \u001b[31martsen\u001b[30m \u001b[31m20\u001b[30m \u001b[31mwerken\u001b[30m #corona vaccinatiegraad \u001b[31mnovember\u001b[30m mondkapjes mondkapje lockdown #2g ongevaccineerde \u001b[31mlaten\u001b[30m \u001b[31mmensen\u001b[30m #coronamaatregelen ggd \u001b[31mkomen\u001b[30m \u001b[31mwonen\u001b[30m \u001b[31m⚠\u001b[30m \u001b[31mdoden\u001b[30m \u001b[31mgolf\u001b[30m besmet \u001b[31mwe\u001b[30m zorg coronapas \u001b[31mvon\u001b[30m \u001b[31mleyen\u001b[30m \u001b[31m“\u001b[30m \u001b[31m#codezwart\u001b[30m \u001b[31m”\u001b[30m \u001b[31mvolledig\u001b[30m who \u001b[31mkuipers\u001b[30m \u001b[31mdata\u001b[30m \u001b[31mjonge\u001b[30m #coronavirus #coronapas \u001b[31maandeel\u001b[30m \u001b[31mopgenomen\u001b[30m \u001b[31mdissel\u001b[30m #qrcode \u001b[31monwettig\u001b[30m getest \u001b[31marts\u001b[30m \u001b[31mrechtbank\u001b[30m \u001b[31mstraks\u001b[30m pcr immuunsysteem \u001b[31m70\u001b[30m boosterprik \u001b[31msportschool\u001b[30m \u001b[31meerste\u001b[30m \u001b[31mcode\u001b[30m verpleegkundigen immuniteit \u001b[31mkinderen\u001b[30m coronapatiënten huisarts \u001b[31muitsluiting\u001b[30m patiënt \u001b[31mtegen\u001b[30m \u001b[31mmaanden\u001b[30m \u001b[31mcijfers\u001b[30m omicron \u001b[31mtoename\u001b[30m \u001b[31moostenrijk\u001b[30m \u001b[31meu\u001b[30m \u001b[31mwooow\u001b[30m boosteren \u001b[31mverplichte\u001b[30m 💉 #covid19 besmettelijk ongevaccineerd \u001b[31mmeer\u001b[30m omt \u001b[31mziek\u001b[30m \u001b[31mbezette\u001b[30m \u001b[31messentiële\u001b[30m \u001b[31mlanden\u001b[30m quarantaine \u001b[31m21\u001b[30m coronavirus \u001b[31mdringt\u001b[30m qr-code \u001b[31mwallonië\u001b[30m \u001b[31m80\u001b[30m \u001b[31mboetes\u001b[30m #vaccinatiedwang #2gnee \u001b[31m1,5\u001b[30m \u001b[31m-\u001b[30m \u001b[31millusies\u001b[30m #ongevaccineerden mrna \u001b[31mseh\u001b[30m \u001b[31malle\u001b[30m \u001b[31mgriep\u001b[30m \u001b[31mmachtsgreep\u001b[30m zorgsalarissen \u001b[31mrenden\u001b[30m \u001b[31mmotie-wilders\u001b[30m \u001b[31muitgezochte\u001b[30m omikron \u001b[31mcwz\u001b[30m \u001b[31mvoorstelt\u001b[30m \u001b[31m30\u001b[30m varianten coronadoden \u001b[31mziekte\u001b[30m \u001b[31mnu\u001b[30m besmetten \u001b[31mwinkels\u001b[30m \u001b[31msnelle\u001b[30m \u001b[31mernstige\u001b[30m \u001b[31mkans\u001b[30m coronabeleid \u001b[31mgezonde\u001b[30m \u001b[31mschuld\u001b[30m \u001b[31mhugo\u001b[30m \u001b[31mpolitieagenten\u001b[30m coronamaatregelen \u001b[31m🇦\u001b[30m \u001b[31mverplicht\u001b[30m \u001b[31mhoreca\u001b[30m \u001b[31msterfte\u001b[30m \u001b[31mrutte\u001b[30m \u001b[31mmijnwerkers\u001b[30m lockdowns \u001b[31mverzet\u001b[30m geprikt #boosterprik qr-codes \u001b[31mgeen\u001b[30m \u001b[31mperth\u001b[30m besmetting ic-bedden spuit \u001b[31mdwingen\u001b[30m \u001b[31monverklaarbare\u001b[30m \u001b[31mzonder\u001b[30m \u001b[31mwerkuniformen\u001b[30m \u001b[31mzwemles\u001b[30m \u001b[31mstigmatisering\u001b[30m cst \u001b[31mstudies\u001b[30m \u001b[31mniet\u001b[30m \u001b[31montnomen\u001b[30m #omicron \u001b[31mpositief\u001b[30m \u001b[31maustralische\u001b[30m \u001b[31mpostcodegebieden\u001b[30m \u001b[31mherhaalt\u001b[30m #oversterfte \u001b[31mstijging\u001b[30m \u001b[31mexperimenteel\u001b[30m verpleegsters \u001b[31mbedden\u001b[30m \n"
     ]
    }
   ],
   "source": [
    "show_top_tokens(\"20211201\", PANDEMICQUERY, spy=True)"
   ]
  },
  {
   "cell_type": "code",
   "execution_count": 23,
   "metadata": {},
   "outputs": [
    {
     "name": "stdout",
     "output_type": "stream",
     "text": [
      "20220114-23.out.gz\n",
      "20220114- 2g qr corona lockdown covid besmettingen virus booster omicron \u001b[31mcode\u001b[30m vaccin quarantaine vaccinatie ic ziekenhuis mondkapjes testen ctb rivm \u001b[31m#nederlandgaatopen\u001b[30m vaccins #qrcode coronapas gevaccineerd prikken gevaccineerden \u001b[31mmaatregelen\u001b[30m pandemie ziekenhuizen \u001b[31momikron\u001b[30m \u001b[31m#persconferentie\u001b[30m ongevaccineerden mondkapje vaccineren \u001b[31mmeer\u001b[30m \u001b[31mmodellen\u001b[30m test lockdowns #coronamaatregelen \u001b[31mgeen\u001b[30m bijwerkingen #2g \u001b[31mopen\u001b[30m \u001b[31mzonder\u001b[30m qr-code vaccinaties besmet \u001b[31mgriep\u001b[30m \u001b[31mimmuunsysteem\u001b[30m prik 3g boosters \u001b[31m19\u001b[30m \u001b[31msamenleving\u001b[30m #stopdelockdown delta \u001b[31m\"\u001b[30m \u001b[31mziek\u001b[30m #lockdown #geenqr variant \u001b[31mtegen\u001b[30m oversterfte #coronapas \u001b[31maantal\u001b[30m immuniteit besmettelijk omt coronabeleid \u001b[31mpositieve\u001b[30m coronavirus boosterprik ziekenhuisopnames \u001b[31muitsluiting\u001b[30m coronamaatregelen \u001b[31mminder\u001b[30m \u001b[31mema\u001b[30m \u001b[31mnu\u001b[30m \u001b[31m#horeca\u001b[30m \u001b[31mmemo\u001b[30m \u001b[31mverwijderde\u001b[30m getest \u001b[31mverplichte\u001b[30m mondkapjesplicht gevaccineerde \u001b[31mduitsland\u001b[30m \u001b[31mnatuurlijke\u001b[30m #2gregel \u001b[31m‼\u001b[30m #corona \u001b[31mhoreca\u001b[30m vaccinatieplicht \u001b[31mdoor\u001b[30m besmetting pfizer \u001b[31mde\u001b[30m \u001b[31mchinese\u001b[30m \u001b[31mondernemers\u001b[30m \u001b[31mpolio\u001b[30m \u001b[31mcijfers\u001b[30m \u001b[31mmilitaire\u001b[30m \u001b[31mpositief\u001b[30m \u001b[31mengeland\u001b[30m \u001b[31m#horecaopen\u001b[30m \u001b[31m%\u001b[30m zorglast patiënten \u001b[31mstop\u001b[30m \u001b[31mper\u001b[30m \u001b[31mmensen\u001b[30m \u001b[31mwetenschappers\u001b[30m \u001b[31mamerikaanse\u001b[30m \u001b[31m#allesopen\u001b[30m \u001b[31marts\u001b[30m \u001b[31mdalen\u001b[30m boosteren \u001b[31montwikkeld\u001b[30m bijwerking \u001b[31m#kuipers\u001b[30m \u001b[31mschokkende\u001b[30m \u001b[31mhoger\u001b[30m #oversterfte \u001b[31montwrichting\u001b[30m \u001b[31m🔹\u001b[30m \u001b[31mna\u001b[30m \u001b[31mwerkt\u001b[30m \u001b[31m2018\u001b[30m qrcode besmetten \u001b[31m1,5\u001b[30m \u001b[31mmeldingen\u001b[30m pcr \u001b[31mjongeren\u001b[30m ongevaccineerde #stoplockdownnu \u001b[31mcafé\u001b[30m \u001b[31mhet\u001b[30m \u001b[31martsen\u001b[30m \u001b[31monderbouwing\u001b[30m #eindelockdownnu \u001b[31montwricht\u001b[30m \u001b[31mweg\u001b[30m \u001b[31mopnames\u001b[30m \u001b[31mlaten\u001b[30m \u001b[31mgehad\u001b[30m \u001b[31m#stopdewaanzin\u001b[30m #booster \u001b[31mwe\u001b[30m #omicron 1g \u001b[31mrechtmatigheid\u001b[30m \u001b[31mhanteert\u001b[30m \u001b[31mrestaurant\u001b[30m ggd \u001b[31mmet\u001b[30m \u001b[31mrecord\u001b[30m \u001b[31mgrafiek\u001b[30m \u001b[31mlager\u001b[30m \u001b[31msteeds\u001b[30m \u001b[31mgezondheid\u001b[30m \u001b[31minbreuk\u001b[30m \u001b[31mlareb\u001b[30m \u001b[31mverwerpt\u001b[30m #vaccinatieplicht \u001b[31mbuitensporige\u001b[30m \u001b[31mberoep\u001b[30m \u001b[31mfilmpje\u001b[30m \u001b[31mpats\u001b[30m \u001b[31mstoppen\u001b[30m #qrankzinnigheid \u001b[31mafstand\u001b[30m #coronatoegangsbewijs geboosterd \u001b[31mdragen\u001b[30m \u001b[31mdicht\u001b[30m \u001b[31mbiden\u001b[30m niet-gevaccineerden \u001b[31mdata\u001b[30m \u001b[31mwerkvloer\u001b[30m \u001b[31mondanks\u001b[30m #covid19 \u001b[31mbezoeken\u001b[30m \u001b[31mziekmakend\u001b[30m \u001b[31mdecember\u001b[30m \u001b[31mlanden\u001b[30m \u001b[31mernstige\u001b[30m \u001b[31mziekte\u001b[30m \u001b[31mdus\u001b[30m \u001b[31m#steundehoreca\u001b[30m \u001b[31mconclusie\u001b[30m 💉 \u001b[31mmaatregel\u001b[30m \u001b[31mrechtvaardigen\u001b[30m \u001b[31mlanger\u001b[30m ongevaccineerd \u001b[31minvoeren\u001b[30m besmette \u001b[31mkuipers\u001b[30m \u001b[31mrapport\u001b[30m \u001b[31m#omikron\u001b[30m \n"
     ]
    }
   ],
   "source": [
    "show_top_tokens(\"20220114\", PANDEMICQUERY, spy=True)"
   ]
  },
  {
   "cell_type": "code",
   "execution_count": 20,
   "metadata": {},
   "outputs": [
    {
     "name": "stdout",
     "output_type": "stream",
     "text": [
      "20211029-23.out.gz\n",
      "20211029 qr coronapas de data code #coronamaatregelen #coronapas qr-code qrcode werk echte toegang tonen worden te ontzeggen vaccinatiegraad #apartheidspas tegen gevaccineerd maatregel qr-codes vaccinatiedwang #qrcode staatsgeheim informeren facto buitenlandse afpakken qr-pas directe keuzes families inkomen aanval hugo normale omt gevaccineerden actuele totale hun miljoenen gebruikt crisis grondrechten ollongren restricties nepnieuws-verwijt qr-discriminatie bevragen gratuit behelst geschonden manipuleert nederlanders punt blijkbaar verantwoordelijke tevoren uk alsof #fvd doel bereiken overlijdens maken pandemie % tijdens hand 75 ziekenhuisopnames ziekenhuisdata gedaan patiënten beste 80 reactie lancet nut kappen kans buitensluiten onderscheid prullenbak hieruit om #nooitmeerlockdown dus gezondheidsraad gevolgtrekkingen besmettingen discriminatie eindelijk slaat e wisten nergens horeca ziekenhuizen staan wanneer krijgt geven maart nooit allemaal zien “ #qrterreur bezwoer #hugodeqrankzinnige sorteren via enkel rechters 2020 aparte herhaling niet spanje haar test 17 meer plekken minister verboden basismaatregelen december invoering 🤥 #qrsamenleving woorden omdat apartheid en strijd #coronatoegangsbewijs positieve af weer #hugodejonge reden laat cijfers grondwet hardwerkende besmetten #geenqr terecht codes #vaccinatieplicht ” testen - regels uitbreiding advies weken konden #vaccinatiedwang sinds 1,5 overal pas horecaondernemer verlinken wordt ongevaccineerden vaccinatiepas komen groen verplichte ingevoerd bulan 🤦 🇹 geen tot is coronapaspoort geopenbaard sportscholen 🇮 vinkje opgelopen verbergt europees wil #corona een liegt uitbreiden mét #medischeapartheid parlement feest democratisch \n"
     ]
    }
   ],
   "source": [
    "show_top_tokens(\"20211029\", CTB_QUERY, spy=True)"
   ]
  },
  {
   "cell_type": "code",
   "execution_count": 17,
   "metadata": {},
   "outputs": [
    {
     "name": "stdout",
     "output_type": "stream",
     "text": [
      "20211130-23.out.gz\n",
      "20211130 qr code 2g #coronatoegangsbewijs #qrsamenleving winkels eerste qr-code tegen #qrcode #coronapas cu achterban coronapas #2g zwart de essentiële ctb leden kamer motie uw niet-essentiële qr-codes #coronatoegangsbewijzen inzet gestemd voor bewijst stemmen #geenqr uitzien wíj dermate uitbreiden #coronamaatregelen vrijheidsberoving florida onwettig jl christenunie gehersenspoeld gevaccineerd partijcongres kamerfractie helaas leiders onbegrijpelijk 😮 heldere 🧵 zulke heeft onderstaande 3g nodig dienstverlening velen denken partij stemde schande ongekend knip mogelijk uitspraak wetsvoorstel europa aangegeven segers verlaten onbetrouwbaar waard rechtbank ziel ongevaccineerden steunt vrijheid #fvd stel controleren neus vaccins wallonië uitsluiting kapper om #qr straks gemaakt coronatoegangsbewijs zonder gevaccineerden € leven anders hadden weken opzeggingen qrcode aangenomen probleempje kamerfracties kamp overtreding binnen vandaag 1ste #qrankzinnigheid wetsontwerp werkstraf 3.600 weigeraars 7.200 omgezet weigering ontstaan lidmaatschap ' #2gregel vaccinatieplicht coronatoegangsbewijzen #coronavirus inperking voorwendselen gaat oostenrijk god discriminatie 20 beleid bestrijden kleren zoveelste weg uitbreiding opzeggen fysiek ingang verklaard apartheid credit ‼ systeem #christenunie maatschappij controle #qrindekliko #ctb vaccinatiepaspoorten vrijheidsbeweging gedaan het bijwonen events corona massaal protesteren uitsluiten boete besmettingen - bijzonder #hugodeqrankzinnige valse vaccinatiestatus te kost ernstige #qrterreur verbergen discriminerende fase #knettergek hakken klaar zwijgen codes november social inefficiënte introduceren bij invoeren dwang geldbulkwagens prik-automaat milieubewuste autobezitters laadpaal betekent zand daarover herstelbewijs #eerstekamer rooskleurig onzorgvuldig stop 3/2 \n"
     ]
    }
   ],
   "source": [
    "show_top_tokens(\"20211130\", CTB_QUERY, spy=True)"
   ]
  },
  {
   "cell_type": "code",
   "execution_count": 11,
   "metadata": {},
   "outputs": [
    {
     "name": "stdout",
     "output_type": "stream",
     "text": [
      "202105 corona covid 19 - #coronamaatregelen #covid19 #corona #coronavirus coronavirus vaccin coronamaatregelen tegen coronacrisis vaccinatie griep #covid19nl maatregelen vaccins virus mensen #coronavaccin % overleden patiënten ic 2020 doden aantal na gevaccineerd positief #coronapaspoort coronapaspoort testen vaccineren coronavaccin ziekenhuizen ziek #vaccinatie ivermectine getest #covid ' ziekenhuis besmettingen artsen gehad door coronabeleid coronavaccins coronapatiënten rivm coronaregels bijwerkingen cijfers pandemie india via opgenomen klachten test tijdelijke vaccinaties zorg coronatijd besmet overlijden onderzoek besmetting #testsamenleving #coronadebat prik risico long miljoen wuhan wet pfizer worden coronavaccinatie #longcovid #coronavaccinatie jonge krijgen #coronacrisis #ivermectine sterven totaal #covid_19 paspoort angst huidig coronabesmettingen \" mondkapjes sterfgevallen de gevaccineerden lab #vaccinatiepaspoort gevaccineerde behandeling ( coronacijfers kinderen ifr vanwege coronaprik verspreiding #ikweiger wetenschappers ) crisis positieve miljard kans maanden geen ziekte uitbraak ernstige februari variant medicijn coronadoden coronapas #lockdown lockdown #vaccin #vaccineren ernstig amerikaanse pcr aerosolen sterfte jaar dissel immuunsysteem gevolgen gevallen gezonde coronatest covid-vaccins medische medicijnen dr overheid miljarden coronabesmetting weken alle geneesmiddel volledig groter texas coronapandemie opnames #testmaatschappij indirecte coronajaar #coronahoax infectie geregistreerd arts #fvd slechts versoepelingen huisarts oversterfte ivm beleid mogelijk coronasteun maart bewijs #vaccinatieplicht reizen behandelen besmettelijk ruim griepje landen #rivm wetenschappelijke influenza over minder geneesmiddelen immuniteit levensjaren aanpak who effect ziekenhuisopnames symptomen 65 #vaccinaties bereik 28 coronaproof \n",
      "202106 corona covid 19 #covid19 - #coronavirus #corona coronavirus vaccin #coronamaatregelen % kinderen vaccineren coronacrisis vaccinatie virus #coronavaccinatie ic #coronadebat gevaccineerd coronamaatregelen vaccins #covid19nl tegen na maatregelen overleden mensen coronaregels aantal doden griep positief gehad patiënten bijwerkingen ziek #vaccinatie prik 2020 getest testen crisis coronavaccin besmettingen ziekenhuis vaccinaties coronabeleid coronavaccins de ivermectine #voorweinigcovid rivm risico kans #coronacheckapp besmet artsen cijfers gezonde krijgen opgenomen \" who long overlijden ifr klachten pandemie #covid door fauci vanwege test variant sterven ziekenhuizen coronaprik besmetting jonge totaal jongeren maanden coronatijd coronabesmettingen jaar prikken coronavaccinatie positieve infectie antistoffen wereldwijd #vaccin #coronapaspoort huidig #coronacrisis #longcovid gevaccineerde coronadoden amerikaanse ( vrijheid dissel #mondkapjesplicht #fvd ernstige ziekte #coronavaccin volledig verspreiding tijdens coronapandemie angst waren wuhan coronapaspoort steeds ggd toegang app normaal coronapatiënten #ivermectine zorg jun vaccinatiegraad alle miljoen middel lockdown #vaccineren voorkomen arts delta ) het #deltavariant geen #wuhanlableak 0,15 coronacijfers koppelt groter onder effect mrna chinese per hugo behandeling coronasteun gekoppeld inenten miljoenen versoepelingen ernstig lab a-status gestorven vorig ic-capaciteit ' longcovid sterfte dood overheid nu 1,5 sterfgevallen gevaccineerden bewijs deltavariant india blijkt september worden #versoepelingen onderzoek paspoort afgelopen immuniteit ziekenhuisopnames afspraak #rivm via ouderen senaat + msm najaar ambtsmisdrijf experimenteel gezondheid #lableaktheory gevallen voorbij mondkapje studie coronacheck digitale \n",
      "202107 corona covid 19 #coronamaatregelen #corona #covid19 - #coronadebat #coronavirus coronavirus #coronavaccinatie tegen coronamaatregelen #covid19nl ic % mensen gevaccineerd maatregelen virus testen vaccin griep long vaccinatie positief ziekenhuis #vaccinatie besmettingen test aantal coronabeleid vaccins coronacrisis positieve getest ziek a-status #vaccinatieplicht doden de overleden patiënten vaccineren jongeren opgenomen coronabesmettingen kabinet #fvd ' ziekte klachten 2020 krijgen ifr kamer ziekenhuizen gevaccineerden na #longcovid status besmet over #covid longcovid rivm hugo jonge alle #persconferentie medische coronapatiënten #voorweinigcovid cijfers coronavaccin #nooitmeerlockdown lockdowns ebola gehad huidig ✅ debat pandemie vaccinaties #rutte coronatest ziekenhuisopnames coronacheck rutte 0,15 jul deltavariant door overlijden beleid + a bijwerkingen #astatus coronaregels sterven besmetting liggen a-lijst coronapas coronavaccins risico coronadoden #coronavaccin coronavaccinatie coronapaspoort pcr-test prik vws \" coronagevallen totaal volledig kans #coronahoax antistoffen #bvnl ministerie coronaprik #hugodejongekanniks geen vanwege app apartheid volksgezondheid pcr #hugodejonge gevaarlijk 1,5 #deltavariant infectie frankrijk varianten ernstig crisis #coronacrisis ( coronatijd #covid_19 ) long-covid 17.474 reset ventilatie who coronakaart demonstraties sinds het coronabesmetting #coronabesmettingen nieuwe ernstige ggd opnames verplicht #rivm experimentele ivm nu gevaccineerde leugen gevolgen artsen paniek stemming variant kamerleden cdc #frankrijk gevallen corr perc kinderen symptomen lijst coronadebat coronacijfers uk langdurige @2ekamertweets #testenvoortoegang stijging #vaccin #ikprikniet vrijheid mondkapjes tweede toegang speech 0 negatieve overlijdens influenza klaus \n",
      "202108 corona covid 19 - #coronavirus #coronamaatregelen #corona #vaccinatieplicht #covid19 coronavirus #coronabeleid gevaccineerd tegen % vaccinatie vaccin coronamaatregelen ziekenhuis ic virus mensen #covid19nl maatregelen 2020 patiënten overleden #coronadebat gevaccineerden griep vaccins #vaccinatiedwang testen ziek coronabeleid door #coronavaccinatie ) positief coronacrisis ( vaccineren ongevaccineerden coronapas #vaccinatie doden opgenomen ' ziekenhuizen #covid coronavaccins bijwerkingen gehad cijfers na artsen geen getest \" aantal coronapatiënten – besmettingen volledig test prik #vaccinaties ivermectine coronavaccin gevaccineerde rivm besmet #covid_19 long pandemie ernstige coronaregels ziekte infectie media worden #nooitmeerlockdown overlijden injectie gemeld ernstig beleid kans vaccinaties coronadoden krijgen sterven lockdown antistoffen alle risico “ huidig vanwege volksgezondheid #voorweinigcovid zorg klachten nasser #vaccinatieschade dood mohammad jonge #corona_origin_untold_secret positieve pfizer israël #longcovid ” kinderen meer imam gezonde #coronavaccin urk 1,5 voorkomen #bvnl coronapaspoort immuunsysteem arts pcr beschermd per denemarken jongeren overheid ziekenhuisopnames besmetting who australië #coronacrisis coronavaccinatie medicijn longcovid reguliere coronabesmetting sinds sterfgevallen het aug onderzoek influenza crisis coronabesmettingen miljoen immuun deltavariant #belangvannederland géén #medischeapartheid covid-patiënten medische hoax doodsoorzaak variant bpoc straf coronaprik gezond coronatijd totaal duitse #vaccin coronatest ivm lareb moderna prikken beschermt spoedwet #coronapaspoort bewijs 20 gezeik immuniteit bescherming opnames massaal cdc #vrijheid al-yemeni lockdowns verplicht sars-cov wereldwijd bild vóór duizenden overleed natuurlijke — 12 ongevaccineerd uitbraak lab \n",
      "202109 #coronapas corona covid coronapas 19 #coronamaatregelen tegen #coronadebat #coronapaspoort #vaccinatiedwang #coronatoegangsbewijs horeca #corona de coronamaatregelen #coronavirus coronatoegangsbewijs - maatregelen #medischeapartheid gevaccineerd vaccinatie invoering #qrcode virus ic mensen #persconferentie #covid19 griep ziekenhuis coronabeleid overleden coronavirus keijzer vaccin handhaven gevaccineerden vaccineren jonge % testen na #covid19nl kabinet coronacrisis qr-code medische prik ongevaccineerden #coronabeleid restaurant patiënten zorg alle geen #horeca #vaccinatieplicht géén 1,5 mona ongevaccineerd vaccins test volksgezondheid ziekenhuizen #qrsamenleving coronapaspoort coronaregels coronacheck verplichte #ikweiger verplicht samenleving ontslagen #hugodeqrankzinnige ziek vaccinatiegraad #fvd coronabewijs pas invoeren #apartheidspas staatssecretaris stemde vrijheid besmetten tweedeling #bvnl denemarken ingevoerd ) rivm doden #covid app coronatoegangsbewijzen positief noorwegen coronapatiënten controle zich apartheidsmaatschappij besmettingen zonder coronavaccin #nooitmeerlockdown getest beleid ( #monakeizer ' #vaccinatie culturele #covid_19 gehad long klachten vanaf apartheid terras dwang vaccinaties opgenomen antistoffen 25 zweden meer gevaccineerde vaccinatiedwang immuniteit risico sterven bijwerkingen kritiek controleren besmet vrijheden kinderen toegang worden #hugodejonge discriminatie vanwege geding 2020 coronacheck-app sector binnen toegangsbewijs ziekte artsen maes voeren inzake bewijs dus drang demissionair middel ivermectine opnames meerderheid systeem overheid overlijden maatregel hugo restaurants #rutte vinkje weigeren #vrijheid verworpen cijfers laten qr #longcovid ziekenhuisopnames paspoort patienten ernstig pandemie wordt grondrechten ‘ door #testenvoortoegang omt coronasteun #coronacheckapp meter stemming ondernemers september #coronavaccinatie infectie gezondheid maatschappij crisis \n",
      "202110 corona covid #coronapas #coronamaatregelen coronapas 19 ic gevaccineerd griep % ziekenhuis #corona #coronavirus coronapatiënten patiënten tegen maatregelen - de coronamaatregelen #covid19 #vaccinatiedwang vaccin ziekenhuizen testen gevaccineerden mensen coronabeleid zorg vaccinatie ongevaccineerden aantal opgenomen #qrcode overleden test virus liggen positief coronacrisis 2020 coronavirus #covid19nl ⁩ cijfers hugo #coronatoegangsbewijs gevaccineerde geen ⁦ coronatoegangsbewijs #persconferentie volledig na besmettingen ongevaccineerd vaccins #vaccinatieplicht ziek #coronapaspoort \" vaccineren bedden ” doden getest artsen gehad “ jonge ' besmet #covid volksgezondheid #qrsamenleving horeca bijwerkingen isala maanden druk ongevaccineerde vaccinatiegraad opnames positieve vaccinaties het waanzin huidig door crisis coronavaccins krijgen patienten rivm coronavaccin operaties probleem coronabesmettingen ziekte prik 1,5 umc totaal omt #ongevaccineerden #bvnl coronadoden sinds kans #hugodejonge klachten invoering coronaprik bewijs ernstige ggd oversterfte beleid steeds coronabewijs coronapatienten onderliggend ivermectine #covid_19 sterfgevallen vorig blijkt #vaccinatie schijnveiligheid overlijden long zweden pandemie angst laten covid-patiënten immuniteit vergelijken safe besmetting vrijheid maastricht infectie #zorginfarct grondwet #vaccinatieschade lijden ziekenhuisopnames okt lockdowns coronacijfers zonder risico influenza afdeling ticket patiënt werkvloer coronagevallen bron golf coronacheck coronapaspoort nu verplicht stop discriminerende ‘ grondrechten bescherming gevallen bruls lockdown tekort personeel ic's gezondheidszorg levi afgelopen coronaregels dus italië overheid besmetten #coronabeleid terwijl #hugodeqrankzinnige negatief bevolking vinkje uitbraak bezet strengere media extra discriminatie qrcode #longcovid toegang coronastatus \n"
     ]
    }
   ],
   "source": [
    "for month in \"202105 202106 202107 202108 202109 202110\".split():\n",
    "    show_top_tokens(month, QUERY_TOPIC_SMALL)"
   ]
  },
  {
   "cell_type": "code",
   "execution_count": 20,
   "metadata": {},
   "outputs": [
    {
     "name": "stdout",
     "output_type": "stream",
     "text": [
      "20211031-23.out.gz\n",
      "20211031 #coronapas qr code coronapas bruls werkvloer qr-code werk #bruls #coronamaatregelen italië voor #qrcode #corona mijn toegang #coronavirus apartheid 👏 #geenqr verplicht #vaccinatiedwang geen tegen leerlingen wiskundedocent massaal leerlingenenquete bied skills gegevens #coronapaspoort gezonde men restaurant waarderen #vaccinatieplicht volksgezondheid pleit please maandag uitleg humor vaccinatiedwang beschikbaar om ingevoerd momenteel dus bleek retweet willen online dm meerderheid qr-pas overheid ingezet zonder welnee qrcode krijgen verbazen sprake de thuis 🇨 retweeten werkend coronamaatregelen besmettelijk mensen leven demonstreren miljoenen vaccinatiepas immuunsysteem verplichte werkgever ondertussen vanwege besmetten discriminatie protesten #qrsamenleving bevorderen restaurants krabbé #welevennietinchina inzetten #persconferentie weken blijf weigert #buitenhof zal wanneer zorginfarct accepteert controle breed durven jeroen leidt beschermen qrpas #jinek bereik tot gevaccineerden gezond we teugels gisteravond 2min strakker medische segregatie aantrekt problemen 30kg ranst afgevallen testmaatschappij vitaliteitsdeskundige econometrist toeten bankrekeningen ach steunpakketten algehele geblokkeerd daarbij steeds inzien maatschappij blazen reguliere onvoorstelbaar merkt #qrterreur werkgevers gebruik 82 keus . australië opnames werkelijk alsnog maak china wordt zomaar europa mogen ellende 1,5 #coronapassen certificaat beelden #coronatoegangsbewijs #verplichtevaccinaties covid-gezondheidspakket 200 maart zermatt helpt vragen pas 🇭 pijnstillers #ivermectine salvador invoering groter gestopt straat absolute veiligheidsberaad aard komen weigeren zink coronatoegangsbewijs heer #freechoice bewijzen zorg invoeren overlijdt onrechttv polarisatie walliserkanne graag dit plaatsen genomen vitamine horeca \n"
     ]
    }
   ],
   "source": [
    "show_top_tokens(\"20211031\", CTB_QUERY, spy=True)"
   ]
  },
  {
   "cell_type": "code",
   "execution_count": 16,
   "metadata": {},
   "outputs": [
    {
     "name": "stdout",
     "output_type": "stream",
     "text": [
      "20210531-23.out.gz\n",
      "202105 ik alleen eenzaam ! voel me eenzaamheid gevoel mij voelen ben voelt mijn zo maar eenzame heb eigen n , #maatjegezocht wereld voelde als mag #eenzamejongeren #walgelijk moraalstoel anne zittende vergelijkingen maanden zelf recept pleindansjes #keeponmoving vijfjarig stilzitten pyjama dansje #vrijheid enz niveau ouderen meedoen frank onmenselijk dat kracht chinese kan mensen meisje mis leidt hoog slingeren piano lonely pest omdat doodeng bezoek #durftevragen hobby speel erg het corona i . beste joden duurt soms ziet 22 en muziek bejaarden leegte depressie steeds woon quarantaine m zit achtergelaten ookal vanavond niet vertrouwen lieve opgesloten erge denken.zat vermagering genas je schoonmoeder 5x overleed politiek bezig onderstaand 92 pure 😪 iedereen gestorven gevoeld rondom sommige doet 7 wensen drama vrienden bepaalde pijn herdenk triest vele vooral limburg-brabant boswandelingen doodsstrijd ongeventileerde kamers guur nederweert aangemaakt gevoelens gamen metal #eenzaamheid verstrekken chillen gepast gevoelig waarbij klein heel leven overleden festivals vrij contact duo meer deed sluipenderwijs indrukwekkender begrijp jarige bestaande jezus vaak medicijnen speciaal dodenherdenking verdriet prima heen invoelbaar ofzo verhaal gefrustreerd mezelf lessen #hemels boenwas 992 werklui 4s zwembadje sotheby crispy ayn lijdensweg picasso herlezen wereldleed speakers bach draadje limburg vergeten lege opsluiten dagen daarna zoek blauwe hoe terecht wzc janker liefde weekje \n"
     ]
    }
   ],
   "source": [
    "show_top_tokens(\"202105\", LONELY_QUERY, query2=IK_QUERY, spy=True)"
   ]
  },
  {
   "cell_type": "code",
   "execution_count": 15,
   "metadata": {},
   "outputs": [
    {
     "name": "stdout",
     "output_type": "stream",
     "text": [
      "20210531-23.out.gz\n",
      "202105 ik blij gelukkig ben mijn heb dat geluk zo mij me mee happy maar heel word was zelf had gehad wel erg daar maakt niet echt ook ❤ vind wens moeder hoop gelukkige prik veel nog mn weer m'n kon nu ontzettend er 🥰 denk hoef met mezelf toen oprecht jou woon eindelijk leven kreeg voel . super krijg soms trots 🥳 mag dochter want beetje kan oudste ken positiefs maken vandaag wees profvoetballer lieve papieren depressie doorstaan 🙏 moderna weet even hem vagina 😊 injecties okay voetballen kwam hier zie chun dankbaar aardig excited verjaardag charcuterie kaasland altijd schotels kei srry montagnier bestellingen nobelprijswinnaar dingen support school vond fijn lief al combineren hardop voelt bestelling vrienden zó uitleg mondkap n werk 😅 twitter luc moest injectie zoon allernieuwste last i verblijden snap kaas zou kind pais _ vree goed creaties zag experimentele :) like persbedeling follow gekregen 875 voortzet meemaak verhult insta verlegenheid mocht dief ging verdedigen appie ✨ birthday muilkorf ouders 7,50 knijpen voetbal ze gerekend betekenen ga favoriet gestart zijn mrna afgelopen daaromtrent kracht gevoel enige gestemd 💖 merendeel medelijden sektarische action beschilderd geweest enorm keer flats serum anders dacht vader sta kinderen hierna pijn #happy zinvol \n"
     ]
    }
   ],
   "source": [
    "show_top_tokens(\"202105\", HAPPY_QUERY, query2=IK_QUERY, spy=True)"
   ]
  },
  {
   "cell_type": "code",
   "execution_count": 11,
   "metadata": {},
   "outputs": [
    {
     "name": "stdout",
     "output_type": "stream",
     "text": [
      "20210131-23.out.gz\n",
      "20210131 thuis thuiswerken dicht werken , scholen winkels avondklok reizen 🤔 meer 👇 maar ... gewoon 80 gaat werkt werkgevers ouders procent bewijzen niemand wel rutte grote wat vrijheid #thuiswerken kantoor zegt werk minder #nieuwsuur er bedrijven kinderen ? thuiswerk kan door kantoren na niet corona hun kantoorleven kantoorgebouwen noodgedwongen vlucht coronacrisis ná toekomst thuiswerkers structureel thuiswerkende genomen school kantoorplannen files hetzelfde ✔ gevolgen 25 zo'n denken kids sluiting grootste schrappen werkgever informatie ✅ kunnen kantoorruimte verkeer % mogelijk thuisonderwijs online thuiswerkt nodig ontmoeten wifi besmettingen zoom #coronamaatregelen #alleensamen kpn nederlandse ⤵ ziggo #scholendicht tips werkplek verantwoordelijk snelweg gaan verplichte werknemers contacten belangrijke gewerkt zwaar #corona verplicht verspreiding zal onderdrukking blijf afstand thuiswerker kantoorpersoneel effectief fijn knopen infrastructuur voorkomen lockdown thuiswerkplek #werkgevers #bnrmobility gevolg investeren tijdens meeting sluiten #coronavirus mogen morgen combineren nieuwsuur schoolsluiting file asfalt evt huishouden winkel ontmoet oneens janken ipv houden extra leerlingen volhouden bezorgen prioriteit blijven veel energie bso #a27 belangrijk #kantoorruimte #amelisweerd min klagende werkomgeving naderende ⬆ stelling coronavirus achterhoofd bevorderen weer vergaderen teams conclusie werknemer coronapandemie leerkracht minister meet drukker moesten voordeel :/ hoef wegen iedereen etc zolang langs oproepen beperken helder klas houding woningen nergens #longziekte #ergotherapeut stoplichtmodel lepeltheorie thuiswerktips nicolaashoeve thuiswerkvakantie #hotel #benb \n"
     ]
    }
   ],
   "source": [
    "show_top_tokens(\"20210131\", \n",
    "                r'(thuiswerk|thuis.werk|werk.thuis)', \n",
    "                spy=True)"
   ]
  },
  {
   "cell_type": "code",
   "execution_count": 11,
   "metadata": {},
   "outputs": [
    {
     "name": "stdout",
     "output_type": "stream",
     "text": [
      "20210331-23.out.gz\n",
      "20210331 avondklok uur 22.00 #avondklok later gaat langer vanaf buiten informatie licht 4.30 31 maart #alleensamen blijft om woensdag ⤵ per tussen steeds omdat de maatregelen ga vanavond dodelijker én 22:00 meer uurtje ️ naar tijdens vandaag lockdown 21.00 besmettelijker strengere gemodelleerd #britsevariant vk kuipers bewijs gek #coronamaatregelen < eerder gehouden straat geldt minder 20 #lockdown zoals we paar ; zei alcohol schenkt terug dagen tot 22 allemaal 04:30 verboden 21:00 woensdagavond #corona boete dus zonder 21 beroep dicht frankrijk #pvda nachts 10 npo ingang effect variant mondkapjes groepjes net avonds andere winkels politie • patrouilleren klok ronde s drank overtreders handhaven hapjes rechter rusten 04.30 ramadan zomertijd 🚨 verlenging marcheert opeenvolgende boekarest roemenië britse #museumplein strenge tij protesten t politiestaat afschaffen verschoven wet ochtends menselijk ingrijpen lanceerde liveblog overal jongeren partijvoorzitter avond ingaan volgt april álle misleiding uitspraak mogen pro hoger kleine vonnis 19:00 regels demonstratie burgemeester % verzetten #mondkapjes masker overdag handhaving #zomertijd thuis trivialiseert daarom 🕙 #hogerberoep holocaust terrassen staatskas vergeet belgische graaien vergelijkt #op1npo werkgeversverklaring directe beboeten geldige #politie vooruit verklaring maatregel verzet wo #sp uitlaten 5.000 19u derde tijdstip spoedwet breaking aanvechten haarlemmermeer tien ii jullie #denhaag gebeurt nergens eraf basis betaalt pasen 22u negeren ergens \n"
     ]
    }
   ],
   "source": [
    "show_top_tokens(\"20210331\", \n",
    "                r'avondklok', \n",
    "                spy=True)"
   ]
  },
  {
   "cell_type": "code",
   "execution_count": 11,
   "metadata": {},
   "outputs": [
    {
     "name": "stdout",
     "output_type": "stream",
     "text": [
      "202104 corona covid 19 #coronamaatregelen #corona #coronavirus #covid19 #coronadebat - ic coronacrisis coronamaatregelen mensen vaccin coronavirus maatregelen coronabeleid patiënten griep #covid19nl virus aantal % doden tegen ziekenhuis door overleden coronapaspoort ziekenhuizen besmettingen #coronavaccin coronapatiënten risico positief vaccinatie de #lockdown testen kans #vaccinatie na india #covid vaccineren getest opgenomen vaccins coronaregels gevaccineerd overlijden 2020 cijfers rivm #zerocovid #stopdelockdown #versoepelingen coronatijd test bijwerkingen #fvd jonge #coronacrisis sterven liggen coronadoden coronavaccin lockdown totaal #coronapaspoort tijdens jaar coronabesmettingen beleid miljoen zorg ziek #rivm #astrazeneca klachten besmet kabinet meer ifr positieve crisis maanden sterfgevallen avondklok pandemie huidig coronawet #longcovid sterfte vanwege coronavaccins #avondklok ivermectine besmetting ernstige ziekenhuisopnames wappies variant coronatest apr bevolking artsen alle open coronacijfers 60 #zerocoviddayofaction in influenza coronavaccinatie #vaccin mogelijk stap coronapandemie bedden ic's brazilië gehad #coronavaccinatie angst ziekte coronaproof \" medische krijgen terrassen we opnames landen covid-patiënten dood long + wereldwijd verspreiding versoepelingen #testsamenleving nauwelijks duitsland effect golf hcq ivm inwoners coronaprik britse 🚜 regels dissel griepje ) lockdowns patiënt #ivermectine 📽 per infectie #horeca immuniteit #terrassen medicijn overlijdens aan sinds ondanks voorstander gevolgen ernstig demonstratie versoepelen buitenlucht aanpak omt vrijheid weken ( onderzoek vorig trombose #covid_19 verspreiden vaccinaties tijdelijk hydroxychloroquine overheid 70 intensive zweden behandeling strategie gestorven minder ⤵ gevaccineerden oversterfte \n",
      "202103 corona covid #coronamaatregelen 19 #corona #coronavirus coronamaatregelen griep #covid19 coronavirus maatregelen virus coronacrisis tegen - coronabeleid #coronadebat mensen vaccin #lockdown vaccineren #covid19nl doden #fvd #coronapaspoort aantal volstrekt testen #coronavaccin coronapaspoort #avondklok ic door dissel overleden na 2020 risico positief % 70 besmettingen bijwerkingen stierven getest patiënten vaccinatie vaccins de 151 lockdown immuunsysteem coronavaccin coronaregels < besmet ziekenhuis #stopdelockdown rivm ziekenhuizen coronatijd test ifr ziek verwaarloosbaar onbekend vergelijkbaar eraan coronabesmettingen heftig ) #vaccinatie duidelijkheid kabinet #covid vaccinaties cijfers zorg jaar termijn-effect lockdowns beleid het coronacijfers ( coronavaccins opgenomen crisis coronadoden \" angst lange #coronacrisis absoluut overlijden artsen klachten #persconferentie #zerocovid sterven gevaccineerd jonge #stemnederlandterug mrt #longcovid vanwege jaap huidig ggd regels sterftecijfer pandemie ivermectine coronapatiënten coronaproof effect golf coronatest ' positieve hugo quarantaine motie #rivm vrijheid corona-uitbraak who sterfgevallen alle sterfte gehad variant “ in besmetting tijdens ivm corona-maatregelen dood meer #vaccin ” verspreiding ondanks laten overheid vrijheden 📽 totaal groep grootte duitsland via medicijnen haga ernstig weken volksgezondheid fragment modellen ernstige reguliere coronaprik avondklok vitamine houden waanzin aanpak + oversterfte kans coronapandemie heftige we uitbraak coronasteun long #ikspreekmeuit #mondkapjesplicht huisartsen #vaccinatiepaspoort ondernemers griepje impact d belgië versoepelingen massaal waarin lijden onderzoek strenge gezonde zware wybren medewerkers bevolking zich griepprik tijdelijke \n",
      "202102 corona covid #coronamaatregelen 19 #corona #coronavirus #covid19 coronamaatregelen coronacrisis coronavirus - maatregelen #lockdown #coronadebat coronabeleid virus vaccin overleden #covid19nl doden tegen #avondklok de besmettingen griep na patiënten vaccinatie door #fvd ic aantal mensen testen getest #coronavaccin coronatijd ziekenhuis positief #vaccinatie coronaregels crisis jongeren #coronaregels variant % cijfers kabinet \" lockdown #stopdelockdown ziekenhuizen #persconferentie zorg coronavaccin besmet #stemnederlandterug onderliggende ' overlijden #coronacrisis vaccineren artsen wetenschappers angst vaccins kinderen #zerocovid ouderen rivm britse ziek coronavaccins 2020 gedwongen duitse coronapatiënten #covid pandemie medicijn sterven we coronabesmettingen opgenomen test klachten dood vanwege #longcovid worden omt #vaccin positieve golf beleid lijden aanpak coronadoden regering coronaproof totaal #rivm coronaprik oversterfte het huidig maanden tijdens uitbraak #horeca bijwerkingen isolatie coronapandemie onderliggend varianten corona-uitbraak coronacijfers coronawet via jaar coronatesten jonge gevaccineerd kluytmans zweden ⤵ #coronabeleid krijgen ) israël mondkapjes #vanangstnaarvertrouwen #alleensamen rutte ivm onder verpleeghuis who corona-maatregelen schade gevolgen coronatest feb verspreiding huisarts vaccinaties quarantaine prik coronavaccinatie reguliere ggd influenza avondklok verlengd gezonde overheid ivermectine long ernstige pfizer #omt open alle ziekte minder #ivermectine #rutte over #persco maart aan groter scholen 352 hugo weken griepje bewoners #covid_19 geregistreerd #lockdownnl besmetting winkels overbelast umcg #kutcorona medisch arts omt-lid sterfgevallen coronabesmetting corona-aanpak #scholenopen overlijdens intensive bewijs gemeentes mutatie wereldwijd 70 \n",
      "202101 corona covid 19 #corona #coronamaatregelen #coronavirus #covid19 #coronadebat coronavirus - coronamaatregelen coronacrisis vaccin maatregelen #avondklok #lockdown virus #covid19nl tegen aantal #coronavaccin % mensen britse coronavaccin patiënten de ic coronabeleid griep overleden variant positief doden getest #fvd door vaccinatie besmettingen testen ziekenhuis #vaccinatie coronatijd na #coronaprotest #covid zorg in ziekenhuizen #coronacrisis crisis #vaccin coronadoden besmet opgenomen vanwege ziek vaccineren cijfers coronapatiënten test coronaregels over vaccins rivm coronabesmettingen lockdown “ huisarts coronavariant ggd #coronabeleid totaal verspreiding ” coronavaccins sterven positieve overlijden pandemie artsen huidig kabinet ouderen ivermectine pfizer lijden besmetting we coronatest duitsland #covid_19 ivm het gevaccineerd krijgen tijdens aanpak \" mondkapjes 2020 oversterfte tot #alleensamen onderliggend #rutte minder ⤵ bedden #stopdelockdown #avondklokdebat arts angst coronaproof gevolgen coronasystemen klachten dood uitbraak coronacijfers jonge ziekte golf maanden afdeling bijwerkingen liggen coronavaccinatie nederland zuid-afrikaanse lockdowns varianten privégegevens infectie #persconferentie beleid sterfte build patiënt #rivm reset ✔ zorgpersoneel gezonde corona-aanpak controle ' italië ondanks corona-maatregelen sterfgevallen zich hoax covid-patiënten #vaccinatiestrategie corona-uitbraak medische vaccinaties vd ernstige 💉 📽 coronapandemie hugo sterft intensive griepje avondklok prik patienten beschermen better landen pcr scholen quarantaine care miljoen 70 who 23 onderliggende overlijdt economie #vaccineren coronawet bestrijden immuunsysteem nevenschade + dissel #coronarellen meer blijkt medewerkers statistieken geen zorgen maatregel ‘ \n"
     ]
    }
   ],
   "source": [
    "for month in \"202104 202103 202102 202101\".split():\n",
    "    show_top_tokens(month, r'corona|covid', spy=False)"
   ]
  },
  {
   "cell_type": "code",
   "execution_count": 21,
   "metadata": {},
   "outputs": [
    {
     "name": "stdout",
     "output_type": "stream",
     "text": [
      "20201130-23.out.gz\n",
      "20201130 ik je heb ben mij me jij jullie dat jou ga vind als bent hebt jouw mijn weet kan denk niet doe wil kun dan moet maar krijg kunt snap ook had wel ken wat zou hoop dacht zie voel hou kom hoe begrijp bedoel vond zeggen zeg of echt stel iets geloof mee hoor iemand wilt neem lijkt benieuwd vraag doorgeleerd mag al hooggeleerd bijltjes-dag daar achten smetten wens blij sta hoef zo jezelf hem zag soms mezelf word dank denken ? mn hoogleraren nogal maak aangifte dm zelf m'n woon belgie-japan dus gewoon doen even nou wist probeer verwelkomen verteld gevraagd vermoed meenemen ooit sorry uitgemaakt zit meld kon gestemd altijd vreugde graag gwn eens volgens stuur gehad wilde mis bang haat durf zal zei houd toen gelezen racistische fantastische noem ergens geef las dingen vrees volg loop geleerd gezien kinderspel volgers kreeg verwacht app want oogst gevoelige voorstellen helemaal vrij vader ogen omdat ommetje gedaan gevoel #detijdloze hoorde vaak haal examens persoonlijk bed types missen hoi bewijs keer oprecht gronde kies draag lachwekkend officieren nooit merk tweet opiniemakers meen gemist zíj da fractie spreek messenger schrijf twitter belasting-benaming idee tweets niks ́ kmoet uitblazen snel 19u45 betaal \n"
     ]
    }
   ],
   "source": [
    "show_top_tokens(\"20201130\", \n",
    "                r'\\b(ik|mij|me|jij|je|jou|jouw|jullie|heb|ben)\\b', \n",
    "                spy=True)"
   ]
  },
  {
   "cell_type": "code",
   "execution_count": 16,
   "metadata": {},
   "outputs": [
    {
     "name": "stdout",
     "output_type": "stream",
     "text": [
      "20210331-23.out.gz\n",
      "20210331 gelukkig blij ben ik dat zo word mijn ⛔ mee had goed weer mag heel met 💐 gehad 🥊 buurman beleving js werkend gekomen immuunsysteem maakt zes ️ arrogantie 🥰 sprak kus geven nog er gebeurd heb pieter schuld erg 🧚 eruit ♥ 🤭 💞 ander geleden 🧡 bundel boerenverstand #eenvandaag #nosjournaal macht 🥳 publiek gehouden maar ✨ wel arm slechts gezond mus m'n #pvv-team ! zijn 🍀 wees vanaf 4e ziet prive klant kiesraad 🌞 waanzinnig iemand digitale onderzoeksjournalistiek geïnformeerd paar eer ons superblij gestemd eindelijk oom opvallende niet eigen uitstaat flitsen reageren #ziekvoorgezond #groenlinks meuk speciaal noodgedwongen #vergeetonsniethugo langskomen situatie strot dode 😀 bijdruk geldsysteem pro-eu vergis hefboom super aangesloten week opblazen munt rammen ♀ aanvallen waardoor maatregelen 🏻 versneld moedwillig oh #ollongren bank geleid #vivaldi #pandemiewet blijft slag grafiek oprecht ontzettend ze x tevreden trots echt centrale bepalen daar stond #moslimbroederschap 👊 50.000 hij mensen haar hebben net schikt gestelden documenten gestrekt eisenjij vonnis luistert lot huishoudelij europese was :) gezicht #zorg tv autosector bent 1000x 20.35 passion eerlijk wilders 1e opgeslagen allen onzin medisch patiëntendossier z'n bende even gister verandermanagers wacht aangeven bestuurskundigen #klimaat grenzen 😁 geruststelling yess buren wens #onzeboerderij zorgt been 😃 we steun \n"
     ]
    }
   ],
   "source": [
    "show_top_tokens(\"20210331\", \n",
    "                r'\\bgelukkig\\b|blij\\b', \n",
    "                spy=True)"
   ]
  },
  {
   "cell_type": "code",
   "execution_count": 19,
   "metadata": {},
   "outputs": [
    {
     "name": "stdout",
     "output_type": "stream",
     "text": [
      "20210331-23.out.gz\n",
      "20210331 alleen maar niet kijken uur 22.00 breder lockdowngekkies regeringsnarratief water praten uitpraten #alleensamen nog nat ruimte heen nam besmettelijkheid kunt hem . licht actieve onmogelijk bewijst pcr besmetting alsnog mensen eens 4.30 avondklok anders blijven langer haga klaar ⤵ krijgt #fvd testen stellen negatief om waarom staat door paar eenzaam doctrine steunt dbrink informatie gaat als ollongren kulldorff omdat test #vvd want eenzame dat arib blijft later vast vaccinaties chaos héle ellende stuurt rede scoringsdrang halfwassen rondvliegen stukslaat stijf pilletje adrenaline aangericht nederland #gaswinning onacceptabel miljard daling verwijten virus plussers mafkezen #landverrader 24u rondliep klungelig schokkende totale blaadje verzoek #groningen zwaar rest kiezers smsjes opvallend mutatie viel buitenspel eenzaamheid mag rustig gebruiken kosten gespreksverslagen ratten vuurwerk eventjes ambtenaren notities aanpakken 1,5 werkt vuile incl rutte kreeg meer havardwetenschapper risico-ouderen doortweeten akeligs kijkt elites instemming opvatting “ geen tweette 60 zette appjes buiten betalen ook bekendheid fvd woensdag niemand acht fysiek kabinet wij martin waarheid lockdown kant kunnen #verkenners gesnoerd 31 baas dierenkwakzalver 18-55 > verhaal gehuild afgewezen openbaar klachten gaande kwetsbaren moeten ab alleenstaande opsluiting leeftijdsgroep brief voel gevaar gebruikt min steeds kan andere besluiten omtzigt spel vertegenwoordigers hoekstra afzeikt #ahmadrezadjalali #executie #saveahmadreza #freedjalali ogen mevrouw denken fysieke alstu betuttelracisme \n"
     ]
    }
   ],
   "source": [
    "show_top_tokens(\"20210331\", \n",
    "                r'eenzaam|eenzam|alleen', \n",
    "                spy=True)"
   ]
  },
  {
   "cell_type": "code",
   "execution_count": 18,
   "metadata": {},
   "outputs": [
    {
     "name": "stdout",
     "output_type": "stream",
     "text": [
      "20210331-23.out.gz\n",
      "20210331 bang angst paniek moe stress ben brazilië corona te doden osterhaus ab jullie angstporno = pandemie lege tijdens paniekzaaier 2009 man podium miquel kostelijk ekkelenkamp buitenproportioneel #coronavirus pompen schoot jan-en-alleman verbergen veranderd samenleving buitenlucht lichaamstaal borstademhaling duidend psychoanalyse tong bijten 318500 2110000 0,0015 17.500000 0,00094 inwoneraantal 16.500 leg 4000 lippen 00 snapt eerdmans boetes blik heden houding oké #functieelders gedeeld zaaien mensen delen overleden hou depressie plek regels gesloten tent lezen gespreksverslag maanden al iedereen deel hallen ontvangst niets gelijk angstig 100.000 openbaring word #op1 hiervan belangstelling maken jennifer publicatie #meidenvanholland #gekkepetertje return enig vóór inzien aanpraten nederland cijfers meiden holland eerlijkheid depressief #depressief geven #functieeldersdebat bange #positieomtzigt deze bent angstzaaier wybren zogenaamd graaiende en medew binnenkort super gesmeekt schoppen maatregels aankaartte campagne ollongren onnodig diep opsluit zorgen #ploumen #klaver tij vaccinatielijn gewaardeerd spuiten flag false voor nep verliezen paniekerig golf #kaag herhaal duimen mexicaanse hebt viroloog geheugenverlies angstoornissen 👿 virologen #arib banger leven jagen keren armen peeuw houden liegen paniekerige paniekzaaien bevolking kennelijk opheldering geschorst langst draaien b12 lopen bizarre angsthazen vaccinatie vegen om curve leggen moves gemotiveerde extreem langste ofzo heeft kostbare ranst blubber imaginaire oppoetsen oprakelen griep prikkers raken relaxed tb slangenkuil imploderen controle 900.000 ratje intro \n"
     ]
    }
   ],
   "source": [
    "show_top_tokens(\"20210331\", \n",
    "                r'moe\\b|depress|depri|bang|angst|paniek|stress', \n",
    "                spy=True)"
   ]
  },
  {
   "cell_type": "code",
   "execution_count": 17,
   "metadata": {},
   "outputs": [
    {
     "name": "stdout",
     "output_type": "stream",
     "text": [
      "20201130-23.out.gz\n",
      "20201130 mijn ouders familie vader moeder vrienden collega zoon vriend haar dochter vriendin collega's hij broer zoontje > kinderen oma vond opa damien school zus vriendelijk neef tante hun ’ (8 verandert vriende boze kind buurman compensatie n zíj belasting-benaming ́ ogen vriendjes onzin aaahhh messenger cringe altij zooooo vibe neefje ic denkt waarbij #trotsedochter taakstraffer #rommel mn nice erin ruimt bedankje gij families vriendinnen gedeactiveerd erom hahahaha bernhard vrijwillig vriendje lijn mooier ontvangen schouders moeders anonieme gevraagd ze lacht gooien uitgemaakt ma da das absurd altijd vriendelijke idioten ge diegene haat irritante broertje leo oom belasting genoemd twitter soms ⃣ ;) ni 🤬 wezenlijke melden getreiterd stereotypen lucassen bericht uitgekeerd hiermee anti-joodse nicht naar najaarsnota uitvoeringskosten prinsjesdag zusje sturen dm 235 boreale . . . . . hem ik dezelfde stukje kerst ♥ m'n micha straat naam unfocussed emine middelvinger en samen wist account kinderopvangtoeslagschandaal kijken dochters rest focussen paniek kleinkinderen \" ideologie kleinzoon 🤍 chef vaders herenigd yazidi-meisje isis-terroristen gevangenschap christina vastgehouden kutkarakter inhalige werd ziet vieren emotioneel functie machteloosheid vriendschap miljoen mag beschrijven neefs dofheid 🇱 darth die momenten waarin man lichtje . . . . van staren slavernij uw vaderland broers dikke én bevriend #yazidigenocide s 🇮 leuk lichtjes statushouders meermalen zei jack wapens \n"
     ]
    }
   ],
   "source": [
    "show_top_tokens(\"20201130\", \n",
    "                r'\\bopa|\\boma|vader|moeder|ouders|broer|\\bzus|zoon|dochter|kleinkind|\\boom|tante|neef|nicht|zwager|schoonzus|familie|'\n",
    "                'vriend|\\bmaat\\b|\\bmaatje|\\bmaten\\b|collega|\\bbaas|chef|buurman|buurvouw|\\bkennis', \n",
    "                spy=True)"
   ]
  },
  {
   "cell_type": "code",
   "execution_count": 13,
   "metadata": {},
   "outputs": [
    {
     "name": "stdout",
     "output_type": "stream",
     "text": [
      "202002 coronavirus #coronavirus corona virus het china #corona in besmet #covid19 italië nederland mensen quarantaine @rivm - griep #coronavragen besmetting chinese besmettingen over covid doden patiënt uitbraak 19 rivm paniek ggd ziekenhuis #covid2019 eerste #covidー19 huisarts vragen vanwege via wuhan verspreiding #coronavirusnederland maatregelen gevallen : #rivm vastgesteld corona-virus #coronavirusoutbreak informatie coronapatiënt tilburg getest #virus contactonderzoek patiënten chinezen handen #china weken aantal dagen besmette symptomen iran cruiseschip grens update ziek @coronanederland mondkapjes met contact voorkomen viroloog wereldwijd wassen landen #covid #wuhan blok iraanse #coronavirius @telegraaf nieuwe europa nieuws @nos bruins epidemie positief gestart overleden breaking 😷 mondkapje pandemie testen who grenscontroles incubatietijd besmettelijk gevolgen bang nederlanders coronabesmetting gezondheid minister chinees japan #covid_19 bevestigd passagiers geval besmetten lombardije nu grenzen aziaten ziekte arts limburg dood 2 zorgen bekend volksgezondheid diemen belgië mogelijk advies italiaanse bereikt #iran hoest hoesten test #tilburg griepje nieuwsblik verspreid kruis voorbereid vaccin kwestie @nunl virussen syriërs vanavond tenerife geweest angst #ncov uitgebroken reisadvies erdogan verspreiden zich beurzen labonderzoek genezen diagnose loon zand hotel #patiënt dokter nos https://t.co/80e0vcvakc https://t.co/ugqpidj7tl erger duitse getroffen frankrijk nl uitzending #schengen dodental overheid #sarscov2 italie autoriteiten uitzonderingsclausules aanknopingspunten antwoorden coronagebied tegen doorgang noord-italië risico https://t.co/dqwxcypmon westerdam heeft meldt 🦠 #coronavirusus uit #italie dode verspreidt zieke \n",
      "202004 corona #corona #coronavirus coronavirus coronacrisis #covid19 covid #coronacrisis 19 de - door in #coronadebat tijdens #coronavirusnederland #covid19nl maatregelen #coronanederland #coronavirusnl over tegen coronamaatregelen patiënten coronapatiënten overleden aantal virus #coronamaatregelen doden #covidー19 #covid_19 #samentegencorona getest vanwege crisis van via coronatijd ziekenhuis gevolgen besmet #covid2019 strijd ic china corona-app testen verspreiding #rivm tijden \" kabinet aan #blijfthuis het aanpak #alleensamen #coronaapp nederland #covid19be we #coronanl rivm samen coronadoden #rutte ouderen getroffen ' zorg corona-crisis positief mensen #covid2019nl impact cijfers controle onderzoek zorgmedewerkers beschermingsmiddelen #pvv app huisarts #wilders griep opgenomen corona-apps onze verpleeghuizen rutte ziekenhuizen coronatijden #mondkapjes uitbraak besmettingen pandemie #nieuwsuur #covid #lockdown patiënt artsen bestrijding na informatie vaccin krijgen wetenschappers economie test bestrijden gemeld intensive miljoen lees overlijden genezen onder #persconferentie mondkapjes mogelijk sterven wereldwijd besmetting verband minder motie ziek 👇 ivm zich ondanks hulp minister nl overledenen sterfgevallen personeel oproep zorgverleners #samensterk medicijn care jongeren corona-virus totaal blijkt v februari update corona-maatregelen weken apps verpleeghuis risico klachten ziekenhuisopnames coronabonds coronapatiënt arts & worden zorgen alle symptomen afgelopen economische legt tekort #china ondernemers voorkomen #op1 sinds bedrijven 👉 medische inwoners sterfte coronaregels corona-patiënten corona-doden april nieuwe onderzoekers @rivm wuhan kwetsbare experts thuis landen 1,5 #zorg privacy ggd coronapandemie + kamer zorgpersoneel #nederland \n",
      "202005 corona #corona covid coronacrisis coronavirus 19 #coronavirus #covid19 #coronacrisis - de door #coronamaatregelen in maatregelen virus tijdens coronamaatregelen crisis doden coronatijd #coronadebat #covid19nl aantal patiënten tegen #covid_19 #coronavirusnl testen vanwege besmet kabinet via rivm #coronavirusnederland over #rivm #covidー19 besmettingen #coronanederland onderzoek coronadoden getest coronapatiënten we vaccin gevolgen #samentegencorona overleden tijden verspreiding aanpak #lockdown griep ziekenhuis 👉 na impact versoepeling ic rutte @rivm huisarts lees stap corona-crisis lockdown zorg minister china #persconferentie uitbraak #alleensamen meter test artsen #covid coronabeleid positief pandemie chinese #mondkapjes inwoners nieuwe getroffen hydroxychloroquine miljoen elens ouderen #rutte strijd coronabesmettingen \" besmetting coronatijden controle #covid__19 van klachten coronaregels mei afstand weken mensen 1,5 mogelijk coronaproof cijfers ' @hugodejonge #covid19be het ondernemers verpleeghuizen nl economie zink #stopdelockdown extra ziekenhuisopnames anderhalve corona-uitbraak nederland bedrijven vanaf ziekenhuizen ⤵ ivm overheid ondanks blijkt corona-maatregelen update medicijn who genezen ziekte onze onafhankelijk corona-app #hydroxychloroquine ziek oversterfte verband patiënt informatie corona-aanpak personeel arts wuhan persconferentie versoepelen duitsland #anderhalvemetersamenleving coronagolf nauwelijks gevolg per golf dissel onder symptomen medewerkers meer @minpres krijgen juni ggd 🇪 landen @kellyovercorona samen wereldwijd risico voorwaarden gezondheid slachthuizen maart versoepeld gates premier #nieuwsuur chloroquine maanden piek #wilders economische horeca 27 met verspreidt veehouderij overlijden sinds zich worden #anderhalvemeter middel sterfgevallen #blijfthuis \n",
      "202006 corona covid de #corona 19 coronacrisis coronavirus #coronavirus #covid19 in coronamaatregelen maatregelen #coronacrisis door virus tijdens #coronamaatregelen coronatijd - #coronadebat coronawet doden vanwege #coronawet tegen crisis coronaregels demonstratie dam aantal vaccin regels rivm het testen #halsema @minpres halsema #covid19nl kabinet besmettingen nieuwe tweede van besmet verspreiding voor over @hugodejonge maanden meter ouderen patiënten golf zorg onderzoek 1,5 #covid_19 weken #coronavirusnl beroep afstand per lockdown houden #amsterdam aan alle 👉 jonge overleden aanpak @rivm op coronadoden uitbraak na china ic economie overheid coronabesmettingen ziekenhuis getest #rivm gevolgen klachten meer ondernemers ivm nu coronapatiënten test via tijden #anderhalvemeter we wet spoedwet nederland pandemie ⤵ hugo lees impact corona-crisis cijfers demonstreren femke juni corona-app coronabeleid ' minister #rutte positief coronaproof risico rutte ggd corona-maatregelen tijdelijke wereldwijd ondanks griep mensen verslaan miljoen getroffen #spoedwet klemmend verboden #viruswaanzin coronagolf samen corona-uitbraak zorgmedewerkers burgermeester controle handhaven juli #wilders burgers collectief corona-aanpak #alleensamen corona-regels gericht maakten artsen #lockdown coronatest keuzes #pvv en vliegtuigen horeca #demonstratie blijkt angst economische medicijn verpleeghuizen #blijfthuis burgemeester hoax zich volksgezondheid extra zware mondkapjes #covidー19 om volle boete ruim demonstraties gezondheid besmetting coronavaccin coronatijden duizenden mogelijk #coronanederland moeilijke #covid euro gebleken onder arts ziekenhuizen coronapandemie grondrechten personen mag laars zorgen beleid #samentegencorona umc \n",
      "202007 corona covid 19 #corona coronavirus #coronavirus coronacrisis #covid19 de - aantal coronamaatregelen besmettingen maatregelen #coronamaatregelen in virus rivm testen #coronacrisis door doden coronabesmettingen #covid19nl tijdens vaccin het golf we tweede 👉 patiënten @rivm coronatijd mensen getest besmet artsen positief griep test maanden crisis vanwege #covid_19 #rivm overleden \" over klachten afstand cijfers 1,5 verspreiding gevallen coronaregels tegen nieuwe coronagolf ic houden #covidー19 ivm lockdown meter coronawet coronadoden coronapatiënten #viruswaanzin stijgt mondkapjes @hugodejonge ziek meer controle via #covid__19 coronavaccin uitbraak #mondkapjes #coronawet onderzoek na pandemie stijging @viruswaanzin gevolgen regels @coronaquatsch coronatest #coronavirusnl ondanks angst medicijn landen corona-app aanpak #covid quarantaine onder aan #lockdown #hugodejonge besmetting belgië overheid ziekenhuis ggd ziekenhuizen economie impact who totaal ' wereldwijd #rutte dagen coronaproof @coronaconnectie kabinet zorg coronabeleid getroffen app opgenomen #covid19be tot @demasquecorona #spoedwet rutte voorkomen jonge gestorven toename arts #samentegencorona basisregels #alleensamen #covid-19 nu corona-maatregelen symptomen ouderenzorg ouderen hoax nederland #nieuwsuur huisarts lees per coronacijfers coronarichtlijnen maart brandbrief blijkt hydroxychloroquine europese hugo @burgerfront1 regering gates leidden #anderhalvemeter verpleeghuizen corona-uitbraak milde ✅ vermijd @coronavaccinnee besmette volksgezondheid neemt @nieuwsuur stierf tests tijden ‘ griepje 👇 wéér medische china meldde mogelijk onveiligheid #antwerpen zich economische horeca coronafonds 2e @minvws stijgen ettema bezoek corr behandeling afgelopen verpleegkundigen weken \n",
      "202008 corona covid #corona 19 coronavirus #coronadebat #covid19 #coronavirus coronacrisis #coronamaatregelen maatregelen - coronamaatregelen virus aantal de doden besmettingen #covid19nl testen griep test door mensen #coronacrisis coronabesmettingen vanwege coronaregels besmet @hugodejonge #covid_19 getest quarantaine kabinet ivm positief rivm tegen vaccin kamer tweede regels over coronatest coronatijd verspreiding klachten houden coronamelder ic ggd coronabeleid tijdens golf jonge we #persconferentie crisis totaal aan @rivm maanden #wilders cijfers #coronamelder patiënten artsen corona-app #rivm app motie hugo #grapperhaus coalitie overleden rutte besmetting #coronavirusnl grapperhaus ziekenhuis miljoen ventilatie \" minister in ' zich opgenomen worden pandemie #coronawet ziekenhuizen coronadoden via economie afstand coronapatiënten pcr coronaproof positieve ziek verplicht controle #spoedwet blijkt het #covid mondkapjes ⁦ coronawet overheid verplichte corr meer mrd scholen zorgpersoneel + overtreden ⁩ sijbesma hoax coronavaccin gevolgen #viruswaanzin dissel alle #coronaregels milde sluiten huisarts 1,5 coronasteun geen opnames uitbraak coronadebat onder #rutte zorg #alleensamen salaris aanpak hcq corona-maatregelen tests persconferentie berlijn #hugodejonge vaccins 👇 lockdown #lockdown coronagevallen zorgen vóór beleid #mondkapjes boetes ‼ rent coronabonus coronagolf #coronahoax coronagezant ziekte gevaar volksgezondheid oversterfte financiële #anderhalvemeter zorgmedewerkers per landelijke spoedwet coronabesmetting krijgen astrazeneca ➔ twentse horeca arts hydroxychloroquine besmettelijk ⤵ pcr-test ziekenhuisopnames sterven #covid__19 onderzoek bestrijding besmette stijging salarisverhoging 2e toename @minpres ouderen getroffen wet \n",
      "202009 corona covid #corona 19 coronavirus #covid19 #coronadebat #coronamaatregelen maatregelen #coronavirus coronacrisis coronamaatregelen aantal virus de besmettingen - coronaregels testen #covid19nl doden ic griep test getest patiënten #grapperhaus @hugodejonge coronabesmettingen mensen positief kabinet coronabeleid totaal coronatest #coronacrisis besmet #persconferentie rivm vaccin #fvd ziekenhuis grapperhaus rutte vanwege we jonge #covid_19 het maanden opgenomen klachten regels coronatijd ivm cijfers minister golf zorg in overleden coronaproof crisis verspreiding horeca coronavaccin @rivm coronawet positieve ziekenhuizen lockdown pcr-test @minpres scholen door ggd coronapatiënten hugo beleid #spoedwet coronadoden #mondkapjes #rivm maart aanpak #coronawet #coronaregels tweede besmetting tijdens overheid over #covid pcr ' opnames quarantaine corr #ikdoenietmeermee statistieken artsen mondkapjes #pcrgate ziekenhuisopnames nu per angst gevolgen #coronatest ziek tests krijgen coronatests #ikdoewelmee economie coronatesten hoax tegen houden zorgmedewerkers #alleensamen meer corona-maatregelen gevallen overtreden weken #covidー19 pandemie corona-app zich #rutte #coronavirusnl dissel strafblad onderzoek 1,5 huidig reguliere medewerkers @wybrenvanhaga bewezen uitslag alle coronagolf worden strengere coronacijfers lab sterfgevallen coronabesmetting symptomen coronaboetes coronadebat grappersmaus laten ouderen moeten arts overlijden coronaboete controle uitbraak @thierrybaudet terwijl persconferentie who spoedwet wegens voorkomen bruiloft broekers verdacht economische getroffen #tweedegolf april afstand snol nieuwe onder dhabi abu #covid__19 regio's huisarts % hcq kamer #coronavaccin risico stijging informatie testcapaciteit boete impact wereldwijd via https://t.co/csg3rreysl afgelopen #hugodejonge \n",
      "202010 corona covid #corona 19 #coronamaatregelen #covid19 coronavirus #coronavirus maatregelen coronamaatregelen #covid19nl - coronacrisis #coronadebat virus patiënten griep de ziekenhuizen zorg ziekenhuis positief aantal ic besmettingen + kabinet coronapatiënten mensen getest coronabesmettingen door besmet coronaregels #lockdown totaal #coronacrisis #spoedwet test doden testen coronatijd ivm #fvd positieve golf coronabeleid opgenomen #covid_19 overleden app #coronawet vanwege in % maanden rivm krijgen we #covid coronamelder tegen coronawet verspreiding lockdown cijfers #coronamelder coronatest #persconferentie crisis #pcrgate @hugodejonge controle tweede artsen vaccin reguliere klachten #covid__19 coronaproof rutte regels tijdens #coronaregels #alleensamen quarantaine coronagolf #mondkapjes extra nieuwe horeca corona-app ziek minder #rutte gisteren corr huidig #wilders alle #samentegencorona #rivm #horeca aanpak covid-patiënten coronadoden @minpres who duitsland 7d het coronacijfers okt opnames niet-westerse pcr-test \" onder coronavaccin zorgmedewerkers verspreiden #coronavirusnl meer @rivm pcr overlijden over besmetting statistieken strengere beleid worden angst ) nederland #coronapandemie informatie aan houden ggd gevolgen pandemie hugo trump ⤵ ( weken kamer onderzoek huisarts jonge hoax getroffen #covid19be nu uitgesteld helplijn afdeling gezin ouderen dagen personeel afgelopen griepje economie ifr coronabesmetting uitnodigen bedden wetenschappers sinds scholen #pvv coronagevallen gevallen corona-maatregelen wet coronatests sterfte verdacht oversterfte inwoners patiënt medicijn mortaliteit opgelopen patienten operaties hydroxychloroquine arts 1,5 hcq samen gehad uitslag snol ondanks ziekte https://t.co/csg3rreysl wegens \n",
      "202011 corona covid 19 #corona #coronamaatregelen #covid19 coronavirus - coronacrisis #covid19nl vaccin #coronavirus maatregelen coronamaatregelen aantal + virus besmettingen griep door #coronadebat coronavaccin coronatijd de testen mensen coronabesmettingen doden getest test positief patiënten vanwege kabinet in overleden @hugodejonge ic zorg positieve tegen coronaregels cijfers ziekenhuizen #coronacrisis vaccinatie we opgenomen besmet ziekenhuis tijdens coronabeleid #pcrgate sinds lockdown #vaccin 7d 󠁧 huidig coronapatiënten #coronavaccin crisis weken veilig pandemie coronaproof normaal rivm #covid_19 coronavaccins #covid % golf ivm gisteren besmetting vaccins who * artsen @rivm nieuwe ' nov totaal ziek #vaccinatie pcr-test #lockdown jonge minder #persconferentie okt pcr #mondkapjes #pcrtest gevolgen coronatest #alleensamen @minpres \" daling vaccineren #vaccinatieplicht maanden inwoners quarantaine #samentegencorona nertsen dagen onder geen per #mondkapjesplicht denemarken ) economie verspreiding werkzaam hugo regels 󠁢 󠁿 coronagolf overlijdens horeca 🏴 extra bemerk 100.000 coronacijfers ⤵ ( pfizer coronadoden ziekte statistieken ondanks mondkapjes aanpak mogelijk oversterfte getroffen ggd coronawet na lcps hoax opleveren genou opnames bocht #ditismijnzorg vaccinatieplicht 󠁥 󠁮 risico @edwinveldhuizen impact klachten gelden #rivm coronatesten over coronagevallen #coronavirusnl regering duurt coronapandemie arts ervoor corr cbd rutte stijging tweede #fvd via patiënt #spoedwet omgeving coronatijden bijwerkingen veiligheid wereldwijd overlijden schande #blijfthuis informatie meer duitse 🟣 feesten tijden sterven beleid personeel het aangenomen angst \n",
      "202012 corona covid 19 #coronamaatregelen #corona #covid19 - coronavirus #coronavirus coronacrisis #covid19nl maatregelen griep coronamaatregelen vaccin #coronadebat #lockdown kabinet virus #fvd de aantal #coronavaccin coronavaccin zorg patiënten mensen besmettingen cijfers ic doden overleden positief % door ziekenhuizen getest coronabeleid + test tegen ziekenhuis coronatijd rivm #coronacrisis lockdown ' vanwege artsen opgenomen tijdens vaccinatie #covid_19 coronabesmettingen het verspreiding coronaregels in testen #covid horeca #vaccinatie #vaccin besmet positieve variant pcr crisis vaccineren huidig pfizer who ziek #coronabeleid we vrijheid #persconferentie aanpak oversterfte bedden jonge coronatest coronaproof golf #rutte @hugodejonge ivm \" nederland totaal coronavaccins rutte coronacijfers zweden feiten mutatie sterven coronapatiënten #alleensamen ziekte vaccins #lockdownnl corona-maatregelen gevaarlijk over #mondkapjesplicht pandemie hoax personeel capaciteit klachten lockdowns coronadoden onacceptabel weken 17 scholen maanden @wybrenvanhaga geen ⤵ mrd reguliere * beleid inwoners patienten verspreidt update britse mondkapjes #codezwart #horeca coronatesten bijwerkingen extra @rivm #vaccinatieplicht ziekenhuisschip gevolgen zich overlijden angst wantrouwen ouderen regering nederlanders ivermectine na #pcrgate intensive beschermen maart informatie #avondklok opgelopen corona-beleid totale besmetting ernstig voorkomen #rivm nieuwe #mondkapjes volksgezondheid coronapandemie alle #blijfthuis januari terwijl influenza huisarts media contacten economie stageplek coronagevallen bron statistieken zieke motie afgelopen ernstige corr gestorven #hugodejonge wetenschappers covid-patiënten ondanks miljoen @minpres tests coronavariant hugo via #longcovid dood #coronahoax cbd dicht \n"
     ]
    }
   ],
   "source": [
    "for month in \"202002 202004 202005 202006 202007 202008 202009 202010 202011 202012\".split():\n",
    "    show_top_tokens(month, r'corona|covid', spy=False)"
   ]
  },
  {
   "cell_type": "code",
   "execution_count": 11,
   "metadata": {},
   "outputs": [
    {
     "name": "stdout",
     "output_type": "stream",
     "text": [
      "20210131-23.out.gz\n",
      "^202101 corona covid 19 #corona #coronamaatregelen #coronavirus #covid19 #coronadebat coronavirus - coronamaatregelen coronacrisis vaccin maatregelen #avondklok #lockdown virus #covid19nl tegen de aantal % mensen #coronavaccin britse coronavaccin patiënten ic coronabeleid griep overleden variant positief doden door getest #fvd vaccinatie besmettingen testen ziekenhuis in #vaccinatie na coronatijd #coronaprotest zorg #covid ziekenhuizen #coronacrisis crisis #vaccin coronadoden besmet vanwege opgenomen over vaccineren ziek cijfers test coronapatiënten coronaregels vaccins rivm lockdown coronabesmettingen “ huisarts ggd coronavariant ” totaal #coronabeleid verspreiding coronavaccins sterven positieve het pandemie overlijden artsen we kabinet huidig ouderen ivermectine pfizer lijden besmetting \" coronatest @hugodejonge duitsland krijgen #covid_19 ivm tijdens gevaccineerd 2020 tot aanpak mondkapjes oversterfte minder #alleensamen #rutte onderliggend ⤵ bedden #stopdelockdown #avondklokdebat arts angst gevolgen coronaproof coronasystemen klachten dood jonge uitbraak ziekte coronacijfers maanden nederland golf liggen ' afdeling bijwerkingen coronavaccinatie lockdowns zuid-afrikaanse varianten beleid #persconferentie privégegevens infectie sterfte build @rivm patiënt reset zich gezonde #rivm ✔ zorgpersoneel controle corona-aanpak ondanks italië corona-maatregelen sterfgevallen @who hoax #vaccinatiestrategie vd covid-patiënten medische vaccinaties corona-uitbraak ernstige 💉 avondklok hugo 📽 coronapandemie sterft intensive meer griepje prik beschermen landen geen patienten scholen better pcr quarantaine miljoen care 70 who ‘ 23 economie onderliggende + overlijdt #vaccineren bestrijden coronawet kinderen immuunsysteem blijkt dissel nevenschade zorgen \n"
     ]
    }
   ],
   "source": [
    "show_top_tokens(\"^202101\", r'corona|covid', spy=True)"
   ]
  },
  {
   "cell_type": "code",
   "execution_count": 12,
   "metadata": {},
   "outputs": [
    {
     "name": "stdout",
     "output_type": "stream",
     "text": [
      "20200331-23.out.gz\n",
      "^202003 corona #coronavirus coronavirus #corona #covid19 #coronavirusnederland #coronacrisis coronacrisis covid #coronavirusnl #coronanederland maatregelen #covid19nl 19 #coronadebat #covid_19 het - vanwege in virus nederland verspreiding patiënten #covidー19 #covid2019nl door tegen over overleden #rivm #covid2019 besmet aantal ziekenhuis coronapatiënten getest #coronahulp crisis aanpak besmettingen kabinet rivm italië #covid19nederland de #samentegencorona #covid19be doden #lockdown gevolgen mensen we strijd #coronanl testen scholen corona-virus om #rutte tijdens ivm zorg informatie coronamaatregelen ziekenhuizen uitbraak positief alle update ic #blijfthuis corona-crisis bestrijden van via #wilders rutte nieuwe #pvv #coronalied besmetting vragen griep totaal mogelijk klachten tijden ouderen #covid-19 bestrijding verband intensive voorkomen rondom afstand #coronavirusnetherlands #coronalul onze ziek corona-patiënten gevallen #hamsteren getroffen china te #socialdistancing ggd test patiënt gesloten huisarts beademing #coronavid19 houd #lockdownnl impact beschermen thuis #scholendicht sterven @rivm nederlandse corona-maatregelen collega wegens miljoen #nieuwsuur overleven #fvd huisartsen debat care minister coronadoden hulp roche #coronavirusupdate eu lees coronabesmettingen opgenomen ondernemers #covid extra jongeren nemen 1,5 koorts milde anesthesist #zorg verdere beperken zorgen bedden offer controle coronapatiënt miljard landen #coronapandemie evenementen verliezen symptomen onwaarschijnlijk farmaceut kroeg #groepsimmuniteit #samensterk zorgverleners #houdafstand sinds weken cijfers risico kwetsbare ⤵ oproep krijgen intensieve bevolking #stayathome blijf helpen inwoners dicht ➡ ontwikkelingen #eu persconferentie vastgesteld \" #socialdistance ( 450 italiaanse medewerkers afgelast #nederland \n"
     ]
    }
   ],
   "source": [
    "show_top_tokens(\"^202003\", r'corona|covid', spy=True)"
   ]
  },
  {
   "cell_type": "code",
   "execution_count": 13,
   "metadata": {},
   "outputs": [
    {
     "name": "stdout",
     "output_type": "stream",
     "text": [
      "20210131-23.out.gz\n",
      "^20210131 ic - p op mensen ( % bedden totaal ) 100k treft / 🇳 🇱 + zkh \" ziekenhuis ic's covid 60 personeel artsen lockdown opgenomen liggen aantal 700 evenementen opnames etc jan 2400 c19 sportscholen p= 1500k 1000k leerl 600k 25k https://t.co/lvnm2bq4ya 10k 70k 4m 250k wv kermis theater student 90 kapper clubs ca ziekenhuizen https://t.co/sgrrmonmf9 horeca ): huidig winkel 27 zorg accepteren verpleegkundigen positief https://t.co/fbckeomuog patiënten doodgaan ernstig kind #stopdelockdown overlijden patiënt bed leer scholen ic-verpleegkundige belangrijke oproep besmettingen overlijdt daalt verplaatst repatriëring https://t.co/3uwyolioe8 42 ondersteunt pubers ondersteuning onvoldoende #covid19 6 vader 🇩 646 maatregelen fig 75 #rutte #covid19nl 72 🇪 142 vanaf update getest ic-opnames 1.573 omt risico ic-bedden 30 capaciteit 14 +3.700 13.998 978.475 vanuit óók #goedzo https://t.co/7rfppio2ca liegende yess #nosjournaal #npo1 overleden 20:00 vaccin #msm zender 3.714 @annstrikje corr perc griep 226.298 11,2 https://t.co/mvoqen2aoh reëel toegediend ic-artsen positieve ivm #coronaspreekuur lagen ● r 25 ic-verpleegkundigen ' verhalen corona haalt #buildbackbetterdebat momenteel 10 40 #ic leeg man inwoners vpk 19 1766 #vvd overgewicht nou strategie ligt er 2 😎 verdwenen beeld #scholenopen dec zh waarvan verpleegafdeling 4w pd risicofactoren 29 @spnl covid-unit signaalwaarde publicaties vh bijwerking werking heropening jaar mannen veiliger gezondheidswinst 56 ic-capaciteit patienten portugal \n"
     ]
    }
   ],
   "source": [
    "show_top_tokens(\"^20210131\", r'\\bic\\b', spy=True)"
   ]
  },
  {
   "cell_type": "code",
   "execution_count": 12,
   "metadata": {},
   "outputs": [
    {
     "name": "stdout",
     "output_type": "stream",
     "text": [
      "20210131-23.out.gz\n",
      "^20210131 % long ziekte corona ( griep ) patiënten ; beschermen kanker diabetes 92 hartziekte obesitas nier gehospitaliseerde https://t.co/vdez5lc8k0 sciensano focus zwakke 32 bestaande 23 75 rapport leer 28 virus 11 groep 9 feiten rest normaal longcovid + leven shot beter aalter logistiek 58 @survivalitis ultieme papa job zoekt brugge vaste regio tip walgelijk iemand longen china had / omt voorkomen covid longontsteking al longread #longcovid menselijkheid ollongren faciliteren https://t.co/wu6eavrxus coronaschade misdaden medeplichtig herhalen doden risico toenemen hualong 1161 kernreactor https://t.co/q6gj83iy86 gebouwde commercieel line ontworpen mw klimaat @2ekamertweets ruimte vele one on tot waarin bouwen onderweg generatie , – vijf serie krijgt variant betekent ziekenhuizen zal kabinet ِ along to bedrijf britse zouden later eerste ruim genomen @longnetherlands advies neemt jaar overheid َ blijkt druk @kajsaollongren mijn volgende @long_goldsilver @bosveldklong was ♡ laten ganga aartis bijnor ballia 1,100 5-10 river 5x ziek soon sites long-keel #delaydiscounting https://t.co/dra9cq1z4b blaaskanker vruchtbaar beroerte @ntisec from hartaanval sigaret hart @gracelongollo longkanker besteed daarvan @elongated_musk @toilucknow at belangen zeker @longtallerne #dtv #omt @rroy9944 chronisch @openrotterdam blind omiya jongeren @cdavandaag komen mensen 50 miljard ass 3 kwetsbaar 4x إ ّ ل my @christenunie say isoleren vh kwetsbare verraadster collaborateur bilderberger ek nederlanden druppels gezondheidsrisico zieke risicogroepen #prinsesbeatrix \n"
     ]
    }
   ],
   "source": [
    "show_top_tokens(\"^20210131\", r'long', spy=True)"
   ]
  },
  {
   "cell_type": "code",
   "execution_count": 22,
   "metadata": {},
   "outputs": [
    {
     "name": "stdout",
     "output_type": "stream",
     "text": [
      "20210131-23.out.gz\n",
      "^20210131 corona virus vaccin covid avondklok lockdown vaccins gevaccineerd vaccineren vaccinatie 19 besmettingen scholen ic variant testen maatregelen aantal de prikken ziekenhuis #avondklok vaccinaties pandemie mensen #coronamaatregelen getest positief na who % test #corona cijfers #lockdown rivm golf ziekenhuizen @hugodejonge coronamaatregelen pcr britse kinderen griep #coronaspreekuur #covid19 quarantaine het zorg doden ggd #coronavirus beu besmet afstand ziek @rivm prik besmetting week pfizer hcq mondkapjes mondkapje bewoners 1,5 artsen basisscholen patiënten 💉 @margabult overleden + virologen test-schandaal nu #covid19nl coronavirus #covid we hydroxychloroquine waren economie vanwege #scholendicht astrazeneca lockdowns blijkt #stopdelockdown 📽 arts kloppen overlijdens kregen dood opruiers worden tegen verspreiding dalen positieve ouderen klas coronabeleid leraren engelse beleid @who corona-uitbraak coronacrisis 30-1- varianten men omt #vaccinatie \" besmettelijk coronadoden minder reguliere 👊 besmetten er derde p #scholenopen crisis 2020 milaan alle winkels horeca @nos sneller @arieslob https://t.co/1qzacge4ga inenting kunnen #rutte medische overlijden houden groep dicht avondklokrellen spuit bestrijden openen personeel zwitserland tegenkomen maanden mogen medewerkers bedden besloten hugo virussen bevolking ziekte effect gaan viroloog meer ziekenhuisopnames krijgen wordt ziektes 🙄 anderhalf risico klachten eu umcg lansingerland #pcrtest totaal ontdooide . binnenkomst protesten bewaard jonge oversterfte uitbraak verplicht #stemzeweg #vaccinatiestrategie huisarts 🇩 adviezen leerkrachten aarhus weken ministerie kwetsbaren nexit #vaccin ontkomen in patiënt toe onderzoeken https://t.co/u9rerqs0vz 100k gemeld rond media sneltesten hebben nederlandse #wnlopzondag zult verpleegkundigen veilig ongevaccineerd dan binnen intensivisten @viruswaarheid 1 per logica etc #rivm geen terwijl gevaar s-avonds opnames effectief opgenomen https://t.co/imwujbreil afdeling treft nauwelijks vk sterven bootjes inentingen zelfquarantaine hun zkh intensive opgehokt uk onvoldoende bijwerkingen 🦠 blijven floreren betogen verpleeghuizen maatschappij berekening gevolgen dagen care #omt gezondheidswinst vervolging onomwonden huisartsen 8) laten staakt vanaf #avondklokrellen lak ( pleit bonden @rikkleinentink r geprikt ouders doses ingezet pleiten israel #ggd duizenden staken bescherming verpleegkundige gezette farmaceuten gezondheid symptomen ingeënt steeds omgekeerde 400 reizen juf gestraft voorkomen niet aangezien onderzoek begrip hoeveel @hommel_b begonnen @minpres #vaccineren @borgerpieter toestand enschede https://t.co/xxl2cj8pzl @mgdbertelli coronavaccins gates veiligheid gezet zich besmettelijker uitbraken @2ekamertweets liggen bureaucratische kabinet covid-patiënten 90 gooien pcr-test tvl-steun rijschoolhouder tennistrainer https://t.co/sfyrmmwf0o sars-cov verpleeghuis 14.000 aanpak tests mrna slechts reëel #coronaprotest toegediend heesch miljoen gevaccineerden c19 protest heelwijk ivermectine 75 @blckbxnews voorjaar 🇮 besmettingscijfers mutanten verlenging medicijnen lijden #vvd 60 waarvan onbewust wrang bron zweden pas vervolgd immuunsysteem kwetsbare gezonde medicijn 28 wél schade wuhan 3e indicatie coronatijd eumaffiabende gevolg #opendebat massaal kind 200k moeten gooit medicatie zitten onderliggende hoogste hoe hartstikke bezwaar héél waarin kantoor coronawandelingen 🇰 videochats chatgesprekken werken europa \n"
     ]
    }
   ],
   "source": [
    "show_top_tokens(\"^20210131\"   , r'corona|covid|huisarts|mondkapje|rivm|blijfthuis|flattenthecurve|houvol|virus|besmet|ziekenhui|\\bic\\b|'+\n",
    "                                r'intensive.care|^zorg|vaccin|[^ad]arts|uitbraak|pandemie|ggd|mondkapje|quarantaine|\\bwho\\b|avondklok|'+\n",
    "                                r'variant|verple|sympto|e.golf|pfizer|moderna|astrazeneca|astra|zeneca|novavax|biontech|\\btest|getest|'+\n",
    "                                r'sneltest|pcr|vaccin|ingeënt|ingeent|inent|prik|spuit|bijwerking|-->|💉|lock.down|lockdown|1[.,]5[ -]*m|'+\n",
    "                                r'afstand.*hou|hou.*afstand|anderhalve[ -]*meter|mutant|^omt$|hcq|hydroxychloroquine|umc|virolo|zkh|'+\n",
    "                                r'oversterfte|patiënt|patient|intensivist|🦠|uitbrak|ivermectin', \n",
    "                                spy=True, n=400)"
   ]
  },
  {
   "cell_type": "code",
   "execution_count": 15,
   "metadata": {},
   "outputs": [
    {
     "name": "stdout",
     "output_type": "stream",
     "text": [
      "20210131-23.out.gz\n",
      "^20210131 vaccin pfizer astrazeneca bewaard bewoners koud #coronaspreekuur binnen uur prikken ontdooide binnenkomst toestand overlijdens anderhalf kregen gevaccineerd begonnen zorg 3 na werk worden wij met moeten miljoen ze .. zijn hoe vaccins moderna dit nu * eu kan levert @astrazeneca mijn doses overleden in @ema_news @gezondheidsraad @hugodejonge effectief viroloog / % 9 55 👇 toegediend astra en goedgekeurd 48 kwartier #astrazeneca 40 65 italië kwamen leden bevat effectiviteit zeneca the heen onder boechtvandenaldi vaccine coronavaccin mrna vertrouwen astrazeneca-vaccin getest resultaten bijwerking articles betrefd twijfels looking below plussers vaccinoorlog not it's see #pfizer gegevens zaterdag kwartaal artikelen blunder rij zuid-afrika good janssen https://t.co/bjdoqm6gza astrazenica 60 @demorgen dosis virus vaccinatie noemt all hadden pfizer-vaccin @pfizernl leert farmaceuten 66 bijsluiter mocht beschermt werkelijkheid injectie ziekenhuisopname for europese kortom minder ergste toe az lezen bedrijf europa tonen meldingen definition estimates https://t.co/garbdry6vm astra-zeneca ruimer sars-cov contract experimentele lauw covid ve beloofde adenovirus doorgaans ouderen duwt vrees #gentech #chimpansee #gmo #menselijke foetuscellen #hek293 gentechnologie #denkzelfna https://t.co/e6k6fcj3gm enthousiast gemodificeerd gekweekt #experimentele plaatsen afspraken géén extra 100 #ikprikhetnooit case genetisch bel omlaag @geertbourgeois die https://t.co/dfnbzujgex levering draadje italiaanse coronastrategie productie oa vk #coronavaccin keurt nogal #coronavirus duitsers groep openheid ceo betwisten coronavaccins bescherming biontech bierevenement génen nutshell pestgedrag \n"
     ]
    }
   ],
   "source": [
    "show_top_tokens(\"^20210131\", r'pfizer|moderna|astrazeneca|astra|zeneca|novavax|biontech', spy=True)"
   ]
  },
  {
   "cell_type": "code",
   "execution_count": 14,
   "metadata": {},
   "outputs": [
    {
     "name": "stdout",
     "output_type": "stream",
     "text": [
      "20201231-16.out.gz\n",
      "^20201231-16 vaccin vaccinatie vaccineren vaccins indirecte vaccinatieplicht nl probleem liberale ziekenhuizen d66 gommers zover @ddstandaard partijen kuipers vvd zouden maandag \" verwacht gevaccineerd pfizer week directe liggen 200.000 vrijwillige https://t.co/zl1fej1o3u tegen #fvd zit forum democratie jonge qua koelkast eventbranche wereldtop #coronavaccin organisatie vrijwel enkel ziekenhuispersoneel vaccinaties terwijl @joostniemoller prik moeite @thierrybaudet gaan slechter @hugodejonge #vaccinatiestrategie @wybrenvanhaga registratie leg trek lijkt beginnen niet ervaring sector bijwerkingen zich events crowd deadlines #takeaction oproep ticket werk communicatie management uitnodigen verbinding nederland hugo covid slecht #vaccinatie sterft zonder aanstaande ingeënt vrijwilli neer niets virus zijn it begrijp personeel 26 zullen bevolking coronavaccin het tunnel getest is doden ‼ te @shossontwits kabinet steeds luister artsen ingewikkeld % vrijwillig spuiten @irenriquecortes eve #covid19 symbolisch #vaccin gevaccineerde --> @benwoldring landen 💉 https://t.co/evfn2ys4do inenten én met @isayael2020 - corona sterven israël verpleeghuispersoneel levensreddend eerst gezin #coronavirus zichzelf @rosenthal_uri zorgpersoneel 24 voorrang duitsland #vaccincovid #vaccineren prikken zorginfarct termijn willen onderliggend veerkracht collega aantal 🇩 weigeren @nos @vogelvrijeharts ggd naast massaal https://t.co/obgyp1atyl 99,935 https://t.co/2wodxacliz verpleeghuizen licht lijden toegang weiger dinsdag zwaar @nieuwsuur dreigt #corona mouwen opstropen gevaccineerden pfizer-vaccin 37,273 78.109 🇪 advies bekend ondertussen #covid hen kennis bevestigen plan basis tegemoet wie genoeg leggen koortsachtige dadeloosheid spuit spuitje vaccineer vaccine vaccinatieprogramma \n"
     ]
    }
   ],
   "source": [
    "show_top_tokens(\"^20201231-16\", r'vaccin|pfizer|ingeënt|ingeent|inent|prik|spuit|bijwerking', spy=True)"
   ]
  },
  {
   "cell_type": "code",
   "execution_count": 23,
   "metadata": {},
   "outputs": [
    {
     "name": "stdout",
     "output_type": "stream",
     "text": [
      "20210124-23.out.gz\n",
      "^20210124 #eindhoven eindhoven in #amsterdam station amsterdam politie geplunderd #rellen rellen winkels ondernemers geplaagde riem https://t.co/bko9hkxpzr naam demonstranten #urk vrijheid hart beelden geweld uit steken waterkanon tuig dit jumbo urk plunderen geslagen alle demonstraties worden zojuist relschoppers onder en #tuig #coronaprotest plunderingen #museumplein #schilderswijk vrouw #demonstratie slopen protest #politie werkelijk @gem_eindhoven herkent vernielingen #avondklokprotest tientallen vreedzame demonstratie traangas vandaag binnenstad #tilburg ontgelden treinverkeer wie nu door gekste rt paard vanwege politiepaarden @brabostudent #venlo onderuit haag optreden hard https://t.co/wkp71cnjjs protesteren respect politiepaard afgesloten confrontatie https://t.co/u9bih0l5vf probeerden kappen https://t.co/eokknu0xw6 auto gestaakt #musemplein demonstreren tegen dame vuurwerk bebloede naïef misbruik #doeermeewatjewil https://t.co/dfnuke4fxp stad https://t.co/lhndn5tzxh treinstation leest den collega buitenlandse geschrokken nadat https://t.co/avi8a7fk3r agent vierluik paarden https://t.co/inq27yda1l zwakzinnige emoties noemen 💙 eén #denhaag schandalige eindhovense @hartvnl hoofd schreef golfballen gezicht met zie #enschede gesloten @samhvnl tilburg onrust #coronamaatregelen jezus actie raad centrum livestream oké ongehoord @cwbbakker #stein https://t.co/gtkhdgayui venlo #helmond jongen messen @jjorritsma040 vreedzaam maken @omroepbrabant wapens mathildelaan heet zooitje #video grijpt muur stein ingezet jongeren 18 gif'jes https://t.co/yaa6lwnlfd losgebroken https://t.co/bwc0jcohr9 vreselijk trieste vanuit bedoel centraal #avondklok https://t.co/nmidfvdxcb beëindig onze brand liefdevolle @quintenvdmolen septemberplein #pleurop gewond erachter 💔 het lof stenen rellend wist s #iksteundepolitie moest sterkte @gelehesjesnl begonnen horecaondernemer terreur loopt daarom chaos hulp \n"
     ]
    }
   ],
   "source": [
    "show_top_tokens(\"^20210124\", r'eindhoven', spy=True)"
   ]
  },
  {
   "cell_type": "code",
   "execution_count": 21,
   "metadata": {},
   "outputs": [
    {
     "name": "stdout",
     "output_type": "stream",
     "text": [
      "20210124-23.out.gz\n",
      "^20210124 #eindhoven eindhoven in #amsterdam station amsterdam politie geplunderd #rellen rellen winkels ondernemers geplaagde riem https://t.co/bko9hkxpzr naam demonstranten #urk vrijheid hart beelden geweld uit steken waterkanon tuig dit jumbo urk plunderen geslagen alle demonstraties worden zojuist relschoppers onder en #tuig #coronaprotest plunderingen #museumplein #schilderswijk vrouw #demonstratie slopen protest #politie werkelijk @gem_eindhoven herkent vernielingen #avondklokprotest tientallen vreedzame demonstratie traangas vandaag binnenstad #tilburg ontgelden treinverkeer wie nu door gekste rt paard vanwege politiepaarden @brabostudent #venlo onderuit haag optreden hard https://t.co/wkp71cnjjs protesteren respect politiepaard afgesloten confrontatie https://t.co/u9bih0l5vf probeerden kappen https://t.co/eokknu0xw6 auto gestaakt #musemplein demonstreren tegen dame vuurwerk bebloede naïef misbruik #doeermeewatjewil https://t.co/dfnuke4fxp stad https://t.co/lhndn5tzxh treinstation leest den collega buitenlandse geschrokken nadat https://t.co/avi8a7fk3r agent vierluik paarden https://t.co/inq27yda1l zwakzinnige emoties noemen 💙 eén #denhaag schandalige eindhovense @hartvnl hoofd schreef golfballen gezicht met zie #enschede gesloten @samhvnl tilburg onrust #coronamaatregelen jezus actie raad centrum livestream oké ongehoord @cwbbakker #stein https://t.co/gtkhdgayui venlo #helmond jongen messen @jjorritsma040 vreedzaam maken @omroepbrabant wapens mathildelaan heet zooitje #video grijpt muur stein ingezet jongeren 18 gif'jes https://t.co/yaa6lwnlfd losgebroken https://t.co/bwc0jcohr9 vreselijk trieste vanuit bedoel centraal #avondklok https://t.co/nmidfvdxcb beëindig onze brand liefdevolle @quintenvdmolen septemberplein #pleurop gewond erachter 💔 het lof stenen rellend wist s #iksteundepolitie moest sterkte @gelehesjesnl begonnen horecaondernemer terreur loopt daarom chaos hulp \n"
     ]
    }
   ],
   "source": [
    "show_top_tokens(\"^20210124\", r'eindhoven', spy=True)"
   ]
  },
  {
   "cell_type": "code",
   "execution_count": null,
   "metadata": {},
   "outputs": [],
   "source": [
    "show_top_tokens(\"^2021012[34]\", r'avondklok', spy=True)"
   ]
  },
  {
   "cell_type": "code",
   "execution_count": 11,
   "metadata": {},
   "outputs": [
    {
     "name": "stdout",
     "output_type": "stream",
     "text": [
      "20201231-23.out.gz\n",
      "^(20200[7-9]|20201) corona covid #corona 19 #coronamaatregelen #covid19 coronavirus de #coronavirus - coronacrisis maatregelen coronamaatregelen #coronadebat virus aantal #covid19nl besmettingen griep in mensen door doden het vaccin testen patiënten kabinet positief getest test ic coronabesmettingen we #coronacrisis zorg coronaregels rivm besmet ziekenhuis vanwege ziekenhuizen coronatijd tegen @hugodejonge overleden cijfers coronabeleid #covid_19 tijdens + golf coronavaccin #lockdown totaal over ivm lockdown opgenomen maanden crisis coronapatiënten ' coronatest artsen verspreiding positieve \" #fvd klachten tweede % #persconferentie rutte regels @rivm . aan jonge #covid meer quarantaine coronaproof ziek horeca #spoedwet #rivm nieuwe houden coronawet coronadoden besmetting pandemie #coronawet aanpak ggd #mondkapjes pcr #coronavaccin geen krijgen hugo who nu #alleensamen @minpres gevolgen weken #rutte alle beleid coronagolf mondkapjes onder met controle economie corona-app via worden #coronavirusnl coronamelder overheid angst vaccinatie corr app zich scholen en hoax huidig #pcrgate pcr-test #grapperhaus afstand minister per coronacijfers 1,5 #vaccin na kamer extra ) corona-maatregelen gevallen opnames #coronamelder onderzoek statistieken ( nederland #samentegencorona huisarts maart ziekte #coronaregels #covid__19 ouderen uitbraak vaccins minder reguliere oversterfte tests sinds arts miljoen ondanks overlijden ⤵ zorgmedewerkers getroffen stijging #covidー19 sterven grapperhaus afgelopen van gisteren coronatesten personeel impact ziekenhuisopnames #mondkapjesplicht bedden voorkomen dagen informatie coronagevallen wereldwijd coronatests blijkt zweden vaccineren risico #hugodejonge #horeca symptomen \n"
     ]
    }
   ],
   "source": [
    "show_top_tokens(\"^(20200[7-9]|20201)\", r'corona|covid', spy=True)"
   ]
  },
  {
   "cell_type": "code",
   "execution_count": 25,
   "metadata": {},
   "outputs": [
    {
     "name": "stdout",
     "output_type": "stream",
     "text": [
      "20201231-23.out.gz\n",
      "^(2020) corona #corona covid coronavirus #coronavirus 19 #covid19 coronacrisis maatregelen #coronacrisis #coronamaatregelen virus - #coronadebat #covid19nl de coronamaatregelen aantal in door patiënten doden #coronavirusnederland besmettingen #coronavirusnl testen besmet crisis vanwege #covid_19 rivm mensen getest griep #coronanederland het kabinet ziekenhuis verspreiding tijdens ic overleden we zorg positief tegen vaccin coronapatiënten coronatijd #rivm ziekenhuizen #covidー19 test over @rivm coronabesmettingen #lockdown nederland coronaregels aanpak rutte cijfers ivm china gevolgen #samentegencorona lockdown weken italië klachten afstand besmetting coronabeleid tijden opgenomen totaal artsen uitbraak ziek via coronadoden #rutte scholen ouderen @hugodejonge coronavaccin #persconferentie #covid alle pandemie golf #covid2019 #covid19be #blijfthuis #covid2019nl economie ggd mondkapjes aan #alleensamen coronatest thuis getroffen quarantaine huisarts controle nieuwe 1,5 houden #mondkapjes nu mogelijk corona-crisis informatie + @minpres impact corona-app #fvd positieve maanden regels overheid coronaproof maart coronawet minister #coronanl tweede who miljoen strijd sterven gevallen krijgen patiënt #coronawet corona-maatregelen extra zorgmedewerkers voorkomen horeca risico april landen \" ondernemers corona-virus symptomen meter jonge bestrijding arts intensive onder #spoedwet #wilders bestrijden bedden personeel zich #coronahulp inwoners coronagolf lees ondanks wereldwijd ziekte overlijden economische gezondheid ⤵ onderzoek coronatijden angst medische medicijn verband update #covid-19 zorgen verpleeghuizen sterfgevallen % worden onze volksgezondheid hoax medewerkers persconferentie #coronavaccin gesloten tests samen per coronacijfers #covid19nederland na #nieuwsuur vragen \n"
     ]
    }
   ],
   "source": [
    "show_top_tokens(\"^(2020)\", r'corona|covid', spy=True)"
   ]
  },
  {
   "cell_type": "code",
   "execution_count": null,
   "metadata": {},
   "outputs": [],
   "source": [
    "show_top_tokens(\"^202001\", r'corona|covid', spy=True)"
   ]
  },
  {
   "cell_type": "code",
   "execution_count": null,
   "metadata": {},
   "outputs": [],
   "source": [
    "show_top_tokens(\"^202002\", r'corona|covid', spy=True)"
   ]
  },
  {
   "cell_type": "code",
   "execution_count": null,
   "metadata": {},
   "outputs": [],
   "source": [
    "show_top_tokens(\"^202003\", r'corona|covid', spy=True)"
   ]
  },
  {
   "cell_type": "code",
   "execution_count": null,
   "metadata": {},
   "outputs": [],
   "source": [
    "show_top_tokens(\"^202004\", r'corona|covid', spy=True)"
   ]
  },
  {
   "cell_type": "code",
   "execution_count": null,
   "metadata": {},
   "outputs": [],
   "source": [
    "show_top_tokens(\"^202005\", r'corona|covid', spy=True)"
   ]
  },
  {
   "cell_type": "code",
   "execution_count": null,
   "metadata": {},
   "outputs": [],
   "source": [
    "show_top_tokens(\"^202006\", r'corona|covid', spy=True)"
   ]
  },
  {
   "cell_type": "code",
   "execution_count": null,
   "metadata": {},
   "outputs": [],
   "source": [
    "show_top_tokens(\"^202007\", r'corona|covid', spy=True)"
   ]
  },
  {
   "cell_type": "code",
   "execution_count": null,
   "metadata": {},
   "outputs": [],
   "source": [
    "show_top_tokens(\"^202008\", r'corona|covid', spy=True)"
   ]
  },
  {
   "cell_type": "code",
   "execution_count": null,
   "metadata": {},
   "outputs": [],
   "source": [
    "show_top_tokens(\"^202009\", r'corona|covid', spy=True)"
   ]
  },
  {
   "cell_type": "code",
   "execution_count": null,
   "metadata": {},
   "outputs": [],
   "source": [
    "show_top_tokens(\"^202010\", r'corona|covid', spy=True)"
   ]
  },
  {
   "cell_type": "code",
   "execution_count": null,
   "metadata": {},
   "outputs": [],
   "source": [
    "show_top_tokens(\"^202011\", r'corona|covid', spy=True)"
   ]
  },
  {
   "cell_type": "code",
   "execution_count": null,
   "metadata": {},
   "outputs": [],
   "source": [
    "show_top_tokens(\"^202012\", r'corona|covid', spy=True)"
   ]
  },
  {
   "cell_type": "code",
   "execution_count": null,
   "metadata": {},
   "outputs": [],
   "source": [
    "show_top_tokens(\"20200831\", r'\\b(je|jij|jou|jouw|jezelf|u|uw|ge|gij|aub)\\b', spy=True)"
   ]
  },
  {
   "cell_type": "code",
   "execution_count": null,
   "metadata": {},
   "outputs": [],
   "source": [
    "show_top_tokens(\"20200630\", r'\\btest|getest|sneltest|pcr', spy=True,\n",
    "                query2=(\"verkoud|snot|ziek|sympto|griep|koorts|verhoging|pijn|hoest|nie[sz]|klacht|loopneus|benauwd|vermoeid\"+\n",
    "                        \"|(verlies|verlo).*(reuk|smaak)|(reuk|smaak).*(verlies|verlo)\"))"
   ]
  },
  {
   "cell_type": "code",
   "execution_count": null,
   "metadata": {},
   "outputs": [],
   "source": [
    "show_top_tokens(\"20210114\", r'avondklok', spy=True)"
   ]
  },
  {
   "cell_type": "code",
   "execution_count": null,
   "metadata": {},
   "outputs": [],
   "source": [
    "show_top_tokens(\"20200831\", r'\\b(geluk|gelukkig|gelukkige|blij|happy)\\b', spy=True)"
   ]
  },
  {
   "cell_type": "code",
   "execution_count": null,
   "metadata": {},
   "outputs": [],
   "source": [
    "show_top_tokens(\"20201031\", r'eenza|alleen|isolatie|isolee?r', spy=True)"
   ]
  },
  {
   "cell_type": "code",
   "execution_count": null,
   "metadata": {},
   "outputs": [],
   "source": [
    "show_top_tokens(\"20200831\", r'\\b(ik|mij|mijn|me|mn|m\\'n|zelf|mezelf|mijzelf|i)\\b', spy=True)"
   ]
  },
  {
   "cell_type": "code",
   "execution_count": null,
   "metadata": {},
   "outputs": [],
   "source": [
    "show_top_tokens(\"20200831\", r'\\btest|getest|sneltest|pcr', spy=True)"
   ]
  },
  {
   "cell_type": "code",
   "execution_count": null,
   "metadata": {},
   "outputs": [],
   "source": [
    "show_top_tokens(\"20201130\",\n",
    "    (r'shit|fuck|klote|kanker|kut|lul|dom|reet|gvd|strot|waanzin|nep|rotzooi|idio|schaamtelo|fake|strot|'+\n",
    "     r'zeik|stom|onbeschoft|oprot|bekrompen|ongelo|bah|kwalijk|onbekwa|achterlijk|jat|schand|triest|puinho|'+\n",
    "     r'immore|kleptocratie|nepotism|absurd|misselijkma|\\bbek\\b|\\brot\\b|\\bkk\\b'),\n",
    "    spy=True)"
   ]
  },
  {
   "cell_type": "code",
   "execution_count": null,
   "metadata": {},
   "outputs": [],
   "source": [
    "MONTH = \"202012\"\n",
    "\n",
    "for day in range(1,32):\n",
    "    show_top_tokens(MONTH+str(day).zfill(2), QUERY_TOPIC_SMALL)"
   ]
  },
  {
   "cell_type": "code",
   "execution_count": null,
   "metadata": {},
   "outputs": [],
   "source": [
    "top_tokens = {}\n",
    "infile = open(\"202012-tokens.txt\",\"r\")\n",
    "for line in infile:\n",
    "    tokens = line.strip().split()\n",
    "    date = tokens.pop(0)\n",
    "    top_tokens[date] = tokens\n",
    "infile.close()"
   ]
  },
  {
   "cell_type": "code",
   "execution_count": null,
   "metadata": {},
   "outputs": [],
   "source": [
    "top_tokens_freq = {}\n",
    "for date in top_tokens:\n",
    "    top_tokens_freq[int(date)] = {}\n",
    "    for i in range(0,len(top_tokens[date])):\n",
    "        token = top_tokens[date][i]\n",
    "        if i < 10: top_tokens_freq[int(date)][token] = 3\n",
    "        elif i < 100: top_tokens_freq[int(date)][token] = 2\n",
    "        else: top_tokens_freq[int(date)][token] = 1"
   ]
  },
  {
   "cell_type": "code",
   "execution_count": null,
   "metadata": {},
   "outputs": [],
   "source": [
    "top_tokens_freq7 = {}\n",
    "for date in top_tokens_freq:\n",
    "     for d in range(date-3,date+4):\n",
    "            if d in top_tokens_freq:\n",
    "                for token in top_tokens_freq[date]:\n",
    "                    if not token in top_tokens_freq7: top_tokens_freq7[token] = {d:top_tokens_freq[date][token]}\n",
    "                    elif d not in top_tokens_freq7[token]: top_tokens_freq7[token][d] = top_tokens_freq[date][token]\n",
    "                    else: top_tokens_freq7[token][d] += top_tokens_freq[date][token]"
   ]
  },
  {
   "cell_type": "code",
   "execution_count": null,
   "metadata": {},
   "outputs": [],
   "source": [
    "interesting_tokens = [\"virus\",\"griep\",\"vaccin\",\"overleden\",\"besmettingen\",\"doden\",\"kabinet\",\"ic\",\"test\",\"pfizer\",\"lockdown\",\"variant\"]\n",
    "\n",
    "plt.subplots(figsize=(24,6))\n",
    "for token in top_tokens_freq7:\n",
    "    if sum(top_tokens_freq7[token].values()) > 100 and token in interesting_tokens:\n",
    "        plt.plot_date([datetime.datetime.strptime(str(d),\"%Y%m%d\") for d in top_tokens_freq7[token].keys()], \n",
    "                      [x-0.4*random.random()+0.1 for x in top_tokens_freq7[token].values()], fmt=\"-\", label=token)\n",
    "plt.legend(loc=\"upper left\")\n",
    "plt.show()"
   ]
  },
  {
   "cell_type": "markdown",
   "metadata": {},
   "source": [
    "## Month vocabulary analysis"
   ]
  },
  {
   "cell_type": "code",
   "execution_count": 26,
   "metadata": {},
   "outputs": [],
   "source": [
    "month_data = {}\n",
    "data_file = open(\"month-topics.txt\", \"r\")\n",
    "for line in data_file:\n",
    "    fields = line.strip().split()\n",
    "    month = fields.pop(0)\n",
    "    month_data[month] = fields\n",
    "data_file.close()"
   ]
  },
  {
   "cell_type": "code",
   "execution_count": 27,
   "metadata": {},
   "outputs": [
    {
     "name": "stdout",
     "output_type": "stream",
     "text": [
      "^202001 virus china corona wuhan chinese mensen uitbraak doden nederland besmet besmettingen frankrijk rovirus rvirus gevallen europa maatregelen patiënten duitsland eerste \n",
      "^202002 virus corona china besmet italië nederland mensen  quarantaine rivm griep vragen besmetting chinese besmettingen covid doden patiënt uitbraak paniek \n",
      "^202003 corona virus nederland crisis covid maatregelen debat  verspreiding patiënten overleden aantal rivm besmet ziekenhuis getest mensen hulp besmettingen kabinet \n",
      "^202004 corona virus crisis covid  debat nederland maatregelen patiënten aantal overleden doden samentegencorona getest ziekenhuis tijd gevolgen besmet ic china \n",
      "^202005 corona covid crisis virus  maatregelen doden tijd debat aantal patiënten testen kabinet nederland besmet rivm onderzoek besmettingen getest vaccin \n",
      "^202006 corona covid crisis virus maatregelen  tijd doden debat wet demonstratie dam aantal regels vaccin rivm halsema minpres testen nieuwe \n",
      "^202007 corona covid virus crisis  aantal besmettingen maatregelen rivm testen doden mensen vaccin tweede golf 👉 patiënten tijd getest besmet \n",
      "^202008 corona covid virus debat crisis maatregelen  aantal doden besmettingen mensen testen griep test hugodejonge besmet regels getest kabinet quarantaine \n",
      "^202009 corona covid virus debat maatregelen crisis aantal  besmettingen testen regels doden mensen ic griep test getest hugodejonge grapperhaus patiënten \n",
      "^202010 corona covid maatregelen virus  crisis debat patiënten griep zorg ziekenhuizen ziekenhuis aantal positief mensen ic besmettingen kabinet getest besmet \n",
      "^202011 corona covid maatregelen  virus crisis vaccin aantal besmettingen griep mensen debat tijd testen doden getest test positief patiënten kabinet \n",
      "^202012 corona covid maatregelen  virus crisis griep vaccin kabinet debat lockdown fvd mensen aantal zorg patiënten besmettingen cijfers ic doden \n",
      "^(20200[7-9]|20201) corona covid maatregelen virus  crisis debat aantal besmettingen griep mensen doden vaccin testen patiënten kabinet positief getest test ic \n",
      "^202101 corona covid maatregelen virus debat  crisis vaccin avondklok lockdown aantal britse mensen variant patiënten ic beleid griep overleden positief \n",
      "^(2020) corona covid virus crisis maatregelen  debat aantal patiënten doden nederland besmettingen testen besmet rivm mensen getest griep kabinet ziekenhuis \n"
     ]
    }
   ],
   "source": [
    "MAX_WORDS = 20\n",
    "STOP_WORDS = [ \"de\", \"het\", \"in\", \"over\", \"via\", \"tijdens\", \"tegen\", \"vanwege\", \"door\", \"voor\", \"op\", \"van\", \"aan\", \"om\", \"en\", \"meer\", \"per\", \"na\", \"sinds\", \"tot\",\n",
    "               \"we\", \"alle\", \"zich\", \"huidig\", \"extra\", \"meer\", \"minder\", \"ivm\", \"geen\", \"virusnl\", \"virusnederland\", \n",
    "               \":\", '-', '+', '%', '\"', \"'\", \".\", \"(\", \")\",'19', '19nl', '_19', 'ー19', '2019nl', '2019', '__19', '19be', 'sen' ]\n",
    "\n",
    "for month in month_data:\n",
    "    seen = {}\n",
    "    counter = 0\n",
    "    print(month, end=\" \")\n",
    "    for i in range(0,len(month_data[month])):\n",
    "        word = month_data[month][i]\n",
    "        word = re.sub(\"^#\", \"\", word)\n",
    "        word = re.sub(\"^@\", \"\", word)\n",
    "        word = re.sub(r'^corona(.)', r'\\1', word)\n",
    "        word = re.sub(r'^covid(.)', r'\\1', word)\n",
    "        word = re.sub(r'^virus(.)', r'\\1', word)\n",
    "        word = re.sub(r'^nl$', 'nederland', word)\n",
    "        word = re.sub(\"^-\", \"\", word)\n",
    "        if word not in seen and word not in STOP_WORDS:\n",
    "            print(word, end=\" \")\n",
    "            seen[word] = True\n",
    "            counter += 1\n",
    "            if counter >= MAX_WORDS:\n",
    "                break\n",
    "    print()"
   ]
  },
  {
   "cell_type": "markdown",
   "metadata": {},
   "source": [
    "## Analysis frequencies \"de\" and \"ik\" in corona|covid tweets"
   ]
  },
  {
   "cell_type": "code",
   "execution_count": 28,
   "metadata": {},
   "outputs": [],
   "source": [
    "def count_words(file_pattern, query1, query2, spy=True):\n",
    "    file_list = sorted(os.listdir(DATADIR))\n",
    "    nbr_of_matches1 = 0\n",
    "    nbr_of_matches2 = 0\n",
    "    for file_name in file_list:\n",
    "        if re.search(file_pattern,file_name):\n",
    "            if spy: squeal(file_name+\" \"+file_pattern+\" \"+query2)\n",
    "            df = pd.read_csv(DATADIR+file_name, index_col=ID)\n",
    "            matching_rows1 = df[TEXT].str.contains(query1, flags=re.IGNORECASE)\n",
    "            matching_rows2 = df[TEXT].str.contains(query2, flags=re.IGNORECASE)\n",
    "            try:\n",
    "                nbr_of_matches1 += matching_rows1.value_counts()[True]\n",
    "            except:\n",
    "                pass\n",
    "            try:\n",
    "                nbr_of_matches2 += (matching_rows1 & matching_rows2).value_counts()[True]\n",
    "            except:\n",
    "                pass\n",
    "    return(nbr_of_matches1, nbr_of_matches2)"
   ]
  },
  {
   "cell_type": "code",
   "execution_count": 29,
   "metadata": {},
   "outputs": [
    {
     "name": "stdout",
     "output_type": "stream",
     "text": [
      "20201231-23.out.gz 20201231 \\bik\\b\n"
     ]
    }
   ],
   "source": [
    "base_pattern = \"corona|covid\"\n",
    "\n",
    "results = {\"de\":{}, \"ik\":{}}\n",
    "for month in range(1, 13):\n",
    "    for day in range(1,32):\n",
    "        file_pattern = \"2020\"+str(month).zfill(2)+str(day).zfill(2)\n",
    "        results[\"de\"][file_pattern] = count_words(file_pattern, base_pattern, r'\\bde\\b')\n",
    "        results[\"ik\"][file_pattern] = count_words(file_pattern, base_pattern, r'\\bik\\b')"
   ]
  },
  {
   "cell_type": "code",
   "execution_count": 30,
   "metadata": {},
   "outputs": [
    {
     "data": {
      "image/png": "[encoded data removed]",
      "text/plain": [
       "<Figure size 432x288 with 1 Axes>"
      ]
     },
     "metadata": {
      "needs_background": "light"
     },
     "output_type": "display_data"
    }
   ],
   "source": [
    "DATE_PATTERN = \"%Y%m%d\"\n",
    "\n",
    "for word in [\"de\", \"ik\"]:\n",
    "    x = []\n",
    "    y = []\n",
    "    for date in results[word]:\n",
    "        if results[word][date][0] != 0:\n",
    "            x.append(datetime.datetime.strptime(date, DATE_PATTERN))\n",
    "            y.append(results[word][date][1]/results[word][date][0])\n",
    "    plt.plot_date(x, y, fmt=\"-\", label=word)\n",
    "\n",
    "plt.title(f\"percentage of 'de' and 'ik' in corona|covid tweets \")\n",
    "plt.legend()\n",
    "plt.show()"
   ]
  },
  {
   "cell_type": "markdown",
   "metadata": {},
   "source": [
    "## Old code"
   ]
  },
  {
   "cell_type": "code",
   "execution_count": null,
   "metadata": {},
   "outputs": [],
   "source": [
    "FILENAME202002 = \"query-tokens-202002-202003.csv\"\n",
    "FILENAME202004 = \"query-tokens-202004-202005.csv\"\n",
    "NON = \"non-\"\n",
    "WEEKS = {\"2020020[2-8]\":\"20200202\",\"20200209|2020021[0-5]\":\"20200209\",\"2020021[6-9]|2020022[0-2]\":\"20200216\",\"2020022[3-9]\":\"20200223\",\\\n",
    "         \"2020030[1-7]\":\"20200301\",\"2020030[89]|2020031[0-4]\":\"20200308\",\"2020031[5-9]|2020032[01]\":\"20200315\",\"2020032[2-8]\":\"20200322\",\\\n",
    "                                   \"20200329|20200330|2020040[1-4]\":\"20200329\",\\\n",
    "         \"2020040[5-9]|2020041[01]\":\"20200405\",\"2020041[2-8]\":\"20200412\",\"20200419|2020042[0-5]\":\"20200419\",\"2020042[6-9]|2020043|2020050[1-2]\":\"20200426\",\\\n",
    "         \"2020050[3-9]\":\"20200503\",\"2020051[0-6]\":\"20200510\",\"2020051[7-9]|2020052[0-3]\":\"20200517\"}"
   ]
  },
  {
   "cell_type": "code",
   "execution_count": null,
   "metadata": {},
   "outputs": [],
   "source": [
    "queryTokens202002 = readData(FILENAME202004)\n",
    "nonQueryTokens202002 = readData(NON+FILENAME202004)\n",
    "tscoresDataQuery = {}\n",
    "tscoresDataNonQuery = {}\n",
    "tscores = {}\n",
    "for query in queryTokens202002:\n",
    "    tscoresDataQuery[query] = makeTscoreData(combineInitialHashAt(queryTokens202002[query]))\n",
    "    tscoresDataNonQuery[query] = makeTscoreData(combineInitialHashAt(nonQueryTokens202002[query]))\n",
    "    print(query)\n",
    "    tscores[query] = sortTscores(tscore.computeTscore(tscoresDataQuery[query],tscoresDataNonQuery[query]))\n",
    "    for x in dictTopN(tscores[query]): print(round(x[0],1),x[1])"
   ]
  },
  {
   "cell_type": "code",
   "execution_count": null,
   "metadata": {},
   "outputs": [],
   "source": [
    "# writeData(tscores,\"tscores-202004-202005.csv\")"
   ]
  },
  {
   "cell_type": "code",
   "execution_count": null,
   "metadata": {},
   "outputs": [],
   "source": [
    "tscores202002 = readData(\"tscores-202002-202003.csv\")\n",
    "tscores202004 = readData(\"tscores-202004-202005.csv\")"
   ]
  },
  {
   "cell_type": "code",
   "execution_count": null,
   "metadata": {},
   "outputs": [],
   "source": [
    "TOPICS = \"maatregelen mondkapje anderhalve besmet rivm \".split()\n",
    "\n",
    "data = {}\n",
    "for topic in TOPICS:\n",
    "    for date in tscores202002.keys():\n",
    "        if not topic in data: data[topic] = {}\n",
    "        data[topic][date] = tscores202002[date][topic]\n",
    "    for date in tscores202004.keys():\n",
    "        data[topic][date] = tscores202004[date][topic]"
   ]
  },
  {
   "cell_type": "code",
   "execution_count": null,
   "metadata": {},
   "outputs": [],
   "source": [
    "from datetime import datetime\n",
    "import matplotlib.pyplot as plt\n",
    "from matplotlib.dates import DateFormatter\n",
    "\n",
    "DATEFORMAT = \"%Y%m%d\"\n",
    "\n",
    "fig,ax = plt.subplots(figsize=(8,4))\n",
    "ax.xaxis.set_major_formatter(DateFormatter(\"%d %b\"))\n",
    "for topic in TOPICS:\n",
    "    plt.plot_date([datetime.strptime(WEEKS[date],DATEFORMAT) for date in data[topic]],list(data[topic].values()),label=topic,fmt=\"-\")\n",
    "ax.set(xlabel=\"date (weeks)\",ylabel=\"t-scores\")\n",
    "plt.title(\"t-scores for relevant words, comparing selected topic tweets with unselected tweets\")\n",
    "plt.legend()\n",
    "plt.show()"
   ]
  },
  {
   "cell_type": "markdown",
   "metadata": {},
   "source": [
    "**Note**: We expected only positive scores for topic words but the graph shows that *anderhalve* had negative scores  in two weeks. This means that most of the tweets containing this word are outside our topic tweets. We checked a sample of these missing tweets and most of them turned out to be on-topic, but they lacked the words *corona* and *covid*."
   ]
  },
  {
   "cell_type": "code",
   "execution_count": null,
   "metadata": {},
   "outputs": [],
   "source": [
    "data[\"anderhalve\"]"
   ]
  },
  {
   "cell_type": "code",
   "execution_count": null,
   "metadata": {},
   "outputs": [],
   "source": [
    "for date in tscores202002: \n",
    "    print(\"#####\",date)\n",
    "    for x in dictTopN(sortTscores(tscores202002[date]),n=50): print(round(x[0],1),x[1])\n",
    "for date in tscores202004:\n",
    "    print(\"#####\",date)\n",
    "    for x in dictTopN(sortTscores(tscores202004[date]),n=50): print(round(x[0],1),x[1])"
   ]
  },
  {
   "cell_type": "code",
   "execution_count": null,
   "metadata": {},
   "outputs": [],
   "source": [
    "queryTokens202004 = readData(FILENAME202004)\n",
    "nonQueryTokens202004 = readData(NON+FILENAME202004)\n",
    "for query in queryTokens202004:\n",
    "    tscoresDataQuery[query] = makeTscoreData(combineInitialHashAt(queryTokens202004[query]))\n",
    "    tscoresDataNonQuery[query] = makeTscoreData(combineInitialHashAt(nonQueryTokens202004[query]))\n",
    "    print(query)\n",
    "    for x in dictTopN(sortTscores(tscore.computeTscore(tscoresDataQuery[query],tscoresDataNonQuery[query]))): print(round(x[0],1),x[1])"
   ]
  },
  {
   "cell_type": "code",
   "execution_count": null,
   "metadata": {},
   "outputs": [],
   "source": [
    "#writeData(queryTokens,\"query-tokens-202004-202005.csv\")\n",
    "#writeData(nonQueryTokens,\"non-query-tokens-202004-202005.csv\")"
   ]
  },
  {
   "cell_type": "code",
   "execution_count": null,
   "metadata": {},
   "outputs": [],
   "source": [
    "query = \"2020051[7-9]|2020052[0-3]\"\n",
    "for x in dictTopN(sortTscores(tscore.computeTscore(tscoresDataQuery[query],tscoresDataNonQuery[query])),n=40): print(round(x[0],1),x[1])"
   ]
  },
  {
   "cell_type": "code",
   "execution_count": null,
   "metadata": {},
   "outputs": [],
   "source": [
    "FILEPATTERN = \"20200601\" \n",
    "QUERY= r\"1.5m|1,5m|afstand.*hou|hou.*afstand|anderhalve\"\n",
    "\n",
    "queryTokens = {}\n",
    "nonQueryTokens = {}\n",
    "tscoresDataQuery = {}\n",
    "tscoresDataNonQuery = {}\n",
    "queryTokens[FILEPATTERN],nonQueryTokens[FILEPATTERN] = getTokensOfMatchedTweets(FILEPATTERN,QUERY)\n",
    "tscoresDataQuery[FILEPATTERN] = makeTscoreData(queryTokens[FILEPATTERN])\n",
    "tscoresDataNonQuery[FILEPATTERN] = makeTscoreData(nonQueryTokens[FILEPATTERN])\n",
    "for x in dictTopN(sortTscores(tscore.computeTscore(tscoresDataQuery[FILEPATTERN],tscoresDataNonQuery[FILEPATTERN])),n=40): \n",
    "    print(round(x[0],1),x[1])"
   ]
  },
  {
   "cell_type": "markdown",
   "metadata": {},
   "source": [
    "**Note**: the query \"zorg\" produces many false positives. There are irrelevant types (\"bezorgd\" and \"bezorgen\"), irrelevant syntactical forms (\"ik zorg dat\" and \"Zorg dat je\") and even the correct sense is not always related to the pandemic topic (\"zorg voor ouderen/gehandicapten\")."
   ]
  },
  {
   "cell_type": "markdown",
   "metadata": {},
   "source": [
    "## Estimate coverage of crawler by looking back for messages with replies"
   ]
  },
  {
   "cell_type": "code",
   "execution_count": null,
   "metadata": {},
   "outputs": [],
   "source": [
    "DATEPATTERN = \"20200522\"\n",
    "\n",
    "fileList = sorted(os.listdir(DATADIR))\n",
    "seenIds = {}\n",
    "for inFileName in fileList:\n",
    "    if re.search(DATEPATTERN,inFileName):\n",
    "        df = pd.read_csv(DATADIR+inFileName,compression=\"gzip\",dtype=str)\n",
    "        known = 0\n",
    "        unknown = 0\n",
    "        for i in range(0,len(df)):\n",
    "            idstr = df.iloc[i][ID]\n",
    "            seenIds[idstr] = True\n",
    "            replyParent = df.iloc[i][REPLYID]\n",
    "            if str(replyParent) != \"nan\":\n",
    "                if replyParent in seenIds: known += 1\n",
    "                else: unknown += 1\n",
    "        print(\"{0} {1:.3f}\".format(inFileName,round(known/(known+unknown),3)))"
   ]
  },
  {
   "cell_type": "code",
   "execution_count": null,
   "metadata": {},
   "outputs": [],
   "source": []
  }
 ],
 "metadata": {
  "kernelspec": {
   "display_name": "Python 3",
   "language": "python",
   "name": "python3"
  },
  "language_info": {
   "codemirror_mode": {
    "name": "ipython",
    "version": 3
   },
   "file_extension": ".py",
   "mimetype": "text/x-python",
   "name": "python",
   "nbconvert_exporter": "python",
   "pygments_lexer": "ipython3",
   "version": "3.7.3"
  }
 },
 "nbformat": 4,
 "nbformat_minor": 4
}
