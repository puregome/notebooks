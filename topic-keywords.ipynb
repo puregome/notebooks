{
 "cells": [
  {
   "cell_type": "markdown",
   "metadata": {},
   "source": [
    "# Topic keywords\n",
    "\n",
    "Check which words are typical for topic tweets in different time frames"
   ]
  },
  {
   "cell_type": "code",
   "execution_count": 1,
   "metadata": {},
   "outputs": [],
   "source": [
    "import csv\n",
    "import datetime\n",
    "import math\n",
    "import matplotlib.pyplot as plt\n",
    "import os\n",
    "import pandas as pd\n",
    "import random\n",
    "import re\n",
    "import sys\n",
    "from IPython.display import clear_output\n",
    "from nltk.tokenize import TweetTokenizer\n",
    "from collections import Counter\n",
    "sys.path.append(\"/home/erikt/projects/newsgac/fasttext-runs\")\n",
    "import tscore"
   ]
  },
  {
   "cell_type": "code",
   "execution_count": 2,
   "metadata": {},
   "outputs": [],
   "source": [
    "DATADIR = \"/home/erikt/projects/puregome/data/text/\"\n",
    "ID = \"id_str\"\n",
    "REPLYID = \"in_reply_to_status_id_str\"\n",
    "TEXT = \"text\"\n",
    "TOKEN = \"token\"\n",
    "USER = \"user\""
   ]
  },
  {
   "cell_type": "code",
   "execution_count": 3,
   "metadata": {},
   "outputs": [],
   "source": [
    "def squeal(text=None):\n",
    "    clear_output(wait=True)\n",
    "    if not text is None: print(text)"
   ]
  },
  {
   "cell_type": "markdown",
   "metadata": {},
   "source": [
    "## Count tweets with topic words"
   ]
  },
  {
   "cell_type": "code",
   "execution_count": 4,
   "metadata": {},
   "outputs": [],
   "source": [
    "def countTweets(datePattern, query):\n",
    "    count_query = 0\n",
    "    count_all = 0\n",
    "    fileList = sorted(os.listdir(DATADIR))\n",
    "    for inFileName in fileList:\n",
    "        if re.search(datePattern, inFileName):\n",
    "            squeal(inFileName)\n",
    "            df = pd.read_csv(DATADIR+inFileName,compression=\"gzip\",index_col=ID)\n",
    "            count_query += len(df[df[TEXT].str.contains(query, flags=re.IGNORECASE)])\n",
    "            count_all += len(df)\n",
    "    return(count_query, count_all)"
   ]
  },
  {
   "cell_type": "code",
   "execution_count": 5,
   "metadata": {},
   "outputs": [
    {
     "name": "stdout",
     "output_type": "stream",
     "text": [
      "20200522-23.out.gz\n",
      "29868 599613 corona|covid\n"
     ]
    }
   ],
   "source": [
    "FILEPATTERN = \"20200522\"\n",
    "\n",
    "for query in \"corona|covid\".split():\n",
    "    count_query, count_all = countTweets(FILEPATTERN,query)\n",
    "    print(count_query, count_all, query)"
   ]
  },
  {
   "cell_type": "markdown",
   "metadata": {},
   "source": [
    "## Find other relevant words in topic tweets"
   ]
  },
  {
   "cell_type": "code",
   "execution_count": 6,
   "metadata": {},
   "outputs": [],
   "source": [
    "import warnings\n",
    "warnings.simplefilter(\"ignore\")"
   ]
  },
  {
   "cell_type": "code",
   "execution_count": 24,
   "metadata": {},
   "outputs": [],
   "source": [
    "AT = r\"@\"\n",
    "HASH = r\"#\"\n",
    "\n",
    "def get_tokens_of_matched_tweets(file_pattern, query, query2, spy=True):\n",
    "    file_list = sorted(os.listdir(DATADIR))\n",
    "    match_tokens = {}\n",
    "    non_match_tokens = {}\n",
    "    for file_name in file_list:\n",
    "        if re.search(file_pattern,file_name):\n",
    "            if spy: squeal(file_name)\n",
    "            df = pd.read_csv(DATADIR+file_name, index_col=ID)\n",
    "            if query2 == \"\":\n",
    "                matching_rows = df[TEXT].str.contains(query, flags=re.IGNORECASE)\n",
    "            else:\n",
    "                matching_rows = df[TEXT].str.contains(query, flags=re.IGNORECASE) & df[TEXT].str.contains(query2, flags=re.IGNORECASE)\n",
    "            df_match = df[matching_rows]\n",
    "            df_non_match = df[matching_rows == False]\n",
    "            text = \"\"\n",
    "            for i in range(0, len(df_match)):\n",
    "                text += \" \" + re.sub(\"\\\\\\\\n\", \" \", str(df_match.iloc[i][TEXT]))\n",
    "            for token, count in Counter(TweetTokenizer().tokenize(text.lower())).items(): \n",
    "                if not token in match_tokens: \n",
    "                    match_tokens[token] = count\n",
    "                else: \n",
    "                    match_tokens[token] += count\n",
    "            text = \"\"\n",
    "            for i in range(0, len(df_non_match)):\n",
    "                text += \" \" + re.sub(\"\\\\\\\\n\", \" \", str(df_non_match.iloc[i][TEXT]))\n",
    "            for token, count in Counter(TweetTokenizer().tokenize(text.lower())).items(): \n",
    "                if count > 1:\n",
    "                    if not token in non_match_tokens: \n",
    "                        non_match_tokens[token] = count\n",
    "                    else: \n",
    "                        non_match_tokens[token] += count\n",
    "    return(match_tokens, non_match_tokens)\n",
    "\n",
    "\n",
    "def readData(fileName):\n",
    "    return(pd.read_csv(fileName,index_col=TOKEN).to_dict())\n",
    "\n",
    "def writeData(data,fileName):\n",
    "    pd.DataFrame(data).to_csv(fileName,index_label=TOKEN)\n",
    "    \n",
    "def findKeysStartingWithChar(data,char):\n",
    "    keysStartingWithChar = []\n",
    "    for key in data:\n",
    "        try:\n",
    "            if re.search(r\"^\"+char+r\"\\w\",key):\n",
    "                shortKey = key[1:]\n",
    "                if shortKey in data: keysStartingWithChar.append(shortKey)\n",
    "        except: pass\n",
    "    return(keysStartingWithChar)\n",
    "\n",
    "def combineKeysStartingWithChar(data,char,keysStartingWithChar):\n",
    "    for key in keysStartingWithChar:\n",
    "        data[key] += data[char+key]\n",
    "        del(data[char+key])\n",
    "    return(data)\n",
    "\n",
    "def combineInitialHashAt(data):\n",
    "    keysStartingWithHash = findKeysStartingWithChar(data,HASH)\n",
    "    data = combineKeysStartingWithChar(data,HASH,keysStartingWithHash)\n",
    "    keysStartingWithAt = findKeysStartingWithChar(data,AT)\n",
    "    data = combineKeysStartingWithChar(data,AT,keysStartingWithAt)\n",
    "    return(data)"
   ]
  },
  {
   "cell_type": "code",
   "execution_count": 8,
   "metadata": {},
   "outputs": [],
   "source": [
    "NBROFEXAMPLES = 20\n",
    "\n",
    "def dictTopN(dictionary,n=NBROFEXAMPLES):\n",
    "    return([(x[1],x[0]) for x in dictionary.items()][0:n])\n",
    "\n",
    "def dictBottomN(dictionary,n=NBROFEXAMPLES):\n",
    "    return([(x[1],x[0]) for x in dictionary.items()][-n:])"
   ]
  },
  {
   "cell_type": "code",
   "execution_count": 9,
   "metadata": {},
   "outputs": [],
   "source": [
    "NBROFTOKENS = \"totalFreq\"\n",
    "NBROFTYPES = \"nbrOfWords\"\n",
    "WORDFREQS = \"wordFreqs\"\n",
    "\n",
    "def makeTscoreData(tokenList):\n",
    "    data = { NBROFTOKENS:0, NBROFTYPES:0, WORDFREQS:{} }\n",
    "    for token in tokenList:\n",
    "        if not math.isnan(tokenList[token]):\n",
    "            data[WORDFREQS][token] = tokenList[token]\n",
    "            data[NBROFTYPES] += 1\n",
    "            data[NBROFTOKENS] += tokenList[token]\n",
    "    return(data)\n",
    "\n",
    "def sortTscores(tscores):\n",
    "    return({token:tscores[token] for token in sorted(tscores.keys(),key=lambda t:tscores[t],reverse=True)})"
   ]
  },
  {
   "cell_type": "code",
   "execution_count": 10,
   "metadata": {},
   "outputs": [],
   "source": [
    "QUERY_DISTANCE= r\"1[.,]5[ -]*m|afstand.*hou|hou.*afstand|anderhalve[ -]*meter\"\n",
    "QUERY_TOPIC = \"corona|covid|mondkapje|rivm|blijfthuis|houvol|huisarts|flattenthecurve\"\n",
    "QUERY_TOPIC_SMALL = \"corona|covid\"\n",
    "QUERY_TRAVEL = \"reis|reizen\"\n",
    "QUERY_WASH_HANDS = \"hand.*was|was.*hand|pfizer|astra\"\n",
    "QUERY_VACCIN = \"vaccin|inent|spuit|prik\"\n",
    "\n",
    "def show_top_tokens(file_pattern, query, query2=\"\", n=200, spy=False):\n",
    "    queryTokens = {}\n",
    "    nonQueryTokens = {}\n",
    "    tscoresDataQuery = {}\n",
    "    tscoresDataNonQuery = {}\n",
    "    query_tokens, non_query_tokens = get_tokens_of_matched_tweets(file_pattern, query, query2=query2, spy=spy)\n",
    "    tscores_data_query = makeTscoreData(query_tokens)\n",
    "    tscores_data_non_query = makeTscoreData(non_query_tokens)\n",
    "    print(file_pattern, end=\" \")\n",
    "    for x in dictTopN(sortTscores(tscore.computeTscore(tscores_data_query, tscores_data_non_query)), n=n): \n",
    "        print(x[1], end=\" \")\n",
    "    print()"
   ]
  },
  {
   "cell_type": "code",
   "execution_count": 23,
   "metadata": {},
   "outputs": [
    {
     "name": "stdout",
     "output_type": "stream",
     "text": [
      "20210124-23.out.gz\n",
      "^20210124 #eindhoven eindhoven in #amsterdam station amsterdam politie geplunderd #rellen rellen winkels ondernemers geplaagde riem https://t.co/bko9hkxpzr naam demonstranten #urk vrijheid hart beelden geweld uit steken waterkanon tuig dit jumbo urk plunderen geslagen alle demonstraties worden zojuist relschoppers onder en #tuig #coronaprotest plunderingen #museumplein #schilderswijk vrouw #demonstratie slopen protest #politie werkelijk @gem_eindhoven herkent vernielingen #avondklokprotest tientallen vreedzame demonstratie traangas vandaag binnenstad #tilburg ontgelden treinverkeer wie nu door gekste rt paard vanwege politiepaarden @brabostudent #venlo onderuit haag optreden hard https://t.co/wkp71cnjjs protesteren respect politiepaard afgesloten confrontatie https://t.co/u9bih0l5vf probeerden kappen https://t.co/eokknu0xw6 auto gestaakt #musemplein demonstreren tegen dame vuurwerk bebloede naïef misbruik #doeermeewatjewil https://t.co/dfnuke4fxp stad https://t.co/lhndn5tzxh treinstation leest den collega buitenlandse geschrokken nadat https://t.co/avi8a7fk3r agent vierluik paarden https://t.co/inq27yda1l zwakzinnige emoties noemen 💙 eén #denhaag schandalige eindhovense @hartvnl hoofd schreef golfballen gezicht met zie #enschede gesloten @samhvnl tilburg onrust #coronamaatregelen jezus actie raad centrum livestream oké ongehoord @cwbbakker #stein https://t.co/gtkhdgayui venlo #helmond jongen messen @jjorritsma040 vreedzaam maken @omroepbrabant wapens mathildelaan heet zooitje #video grijpt muur stein ingezet jongeren 18 gif'jes https://t.co/yaa6lwnlfd losgebroken https://t.co/bwc0jcohr9 vreselijk trieste vanuit bedoel centraal #avondklok https://t.co/nmidfvdxcb beëindig onze brand liefdevolle @quintenvdmolen septemberplein #pleurop gewond erachter 💔 het lof stenen rellend wist s #iksteundepolitie moest sterkte @gelehesjesnl begonnen horecaondernemer terreur loopt daarom chaos hulp \n"
     ]
    }
   ],
   "source": [
    "show_top_tokens(\"^20210124\", r'eindhoven', spy=True)"
   ]
  },
  {
   "cell_type": "code",
   "execution_count": 21,
   "metadata": {},
   "outputs": [
    {
     "name": "stdout",
     "output_type": "stream",
     "text": [
      "20210124-23.out.gz\n",
      "^20210124 #eindhoven eindhoven in #amsterdam station amsterdam politie geplunderd #rellen rellen winkels ondernemers geplaagde riem https://t.co/bko9hkxpzr naam demonstranten #urk vrijheid hart beelden geweld uit steken waterkanon tuig dit jumbo urk plunderen geslagen alle demonstraties worden zojuist relschoppers onder en #tuig #coronaprotest plunderingen #museumplein #schilderswijk vrouw #demonstratie slopen protest #politie werkelijk @gem_eindhoven herkent vernielingen #avondklokprotest tientallen vreedzame demonstratie traangas vandaag binnenstad #tilburg ontgelden treinverkeer wie nu door gekste rt paard vanwege politiepaarden @brabostudent #venlo onderuit haag optreden hard https://t.co/wkp71cnjjs protesteren respect politiepaard afgesloten confrontatie https://t.co/u9bih0l5vf probeerden kappen https://t.co/eokknu0xw6 auto gestaakt #musemplein demonstreren tegen dame vuurwerk bebloede naïef misbruik #doeermeewatjewil https://t.co/dfnuke4fxp stad https://t.co/lhndn5tzxh treinstation leest den collega buitenlandse geschrokken nadat https://t.co/avi8a7fk3r agent vierluik paarden https://t.co/inq27yda1l zwakzinnige emoties noemen 💙 eén #denhaag schandalige eindhovense @hartvnl hoofd schreef golfballen gezicht met zie #enschede gesloten @samhvnl tilburg onrust #coronamaatregelen jezus actie raad centrum livestream oké ongehoord @cwbbakker #stein https://t.co/gtkhdgayui venlo #helmond jongen messen @jjorritsma040 vreedzaam maken @omroepbrabant wapens mathildelaan heet zooitje #video grijpt muur stein ingezet jongeren 18 gif'jes https://t.co/yaa6lwnlfd losgebroken https://t.co/bwc0jcohr9 vreselijk trieste vanuit bedoel centraal #avondklok https://t.co/nmidfvdxcb beëindig onze brand liefdevolle @quintenvdmolen septemberplein #pleurop gewond erachter 💔 het lof stenen rellend wist s #iksteundepolitie moest sterkte @gelehesjesnl begonnen horecaondernemer terreur loopt daarom chaos hulp \n"
     ]
    }
   ],
   "source": [
    "show_top_tokens(\"^20210124\", r'eindhoven', spy=True)"
   ]
  },
  {
   "cell_type": "code",
   "execution_count": null,
   "metadata": {},
   "outputs": [],
   "source": [
    "show_top_tokens(\"^2021012[34]\", r'avondklok', spy=True)"
   ]
  },
  {
   "cell_type": "code",
   "execution_count": 11,
   "metadata": {},
   "outputs": [
    {
     "name": "stdout",
     "output_type": "stream",
     "text": [
      "20201231-23.out.gz\n",
      "^(20200[7-9]|20201) corona covid #corona 19 #coronamaatregelen #covid19 coronavirus de #coronavirus - coronacrisis maatregelen coronamaatregelen #coronadebat virus aantal #covid19nl besmettingen griep in mensen door doden het vaccin testen patiënten kabinet positief getest test ic coronabesmettingen we #coronacrisis zorg coronaregels rivm besmet ziekenhuis vanwege ziekenhuizen coronatijd tegen @hugodejonge overleden cijfers coronabeleid #covid_19 tijdens + golf coronavaccin #lockdown totaal over ivm lockdown opgenomen maanden crisis coronapatiënten ' coronatest artsen verspreiding positieve \" #fvd klachten tweede % #persconferentie rutte regels @rivm . aan jonge #covid meer quarantaine coronaproof ziek horeca #spoedwet #rivm nieuwe houden coronawet coronadoden besmetting pandemie #coronawet aanpak ggd #mondkapjes pcr #coronavaccin geen krijgen hugo who nu #alleensamen @minpres gevolgen weken #rutte alle beleid coronagolf mondkapjes onder met controle economie corona-app via worden #coronavirusnl coronamelder overheid angst vaccinatie corr app zich scholen en hoax huidig #pcrgate pcr-test #grapperhaus afstand minister per coronacijfers 1,5 #vaccin na kamer extra ) corona-maatregelen gevallen opnames #coronamelder onderzoek statistieken ( nederland #samentegencorona huisarts maart ziekte #coronaregels #covid__19 ouderen uitbraak vaccins minder reguliere oversterfte tests sinds arts miljoen ondanks overlijden ⤵ zorgmedewerkers getroffen stijging #covidー19 sterven grapperhaus afgelopen van gisteren coronatesten personeel impact ziekenhuisopnames #mondkapjesplicht bedden voorkomen dagen informatie coronagevallen wereldwijd coronatests blijkt zweden vaccineren risico #hugodejonge #horeca symptomen \n"
     ]
    }
   ],
   "source": [
    "show_top_tokens(\"^(20200[7-9]|20201)\", r'corona|covid', spy=True)"
   ]
  },
  {
   "cell_type": "code",
   "execution_count": 25,
   "metadata": {},
   "outputs": [
    {
     "name": "stdout",
     "output_type": "stream",
     "text": [
      "20201231-23.out.gz\n",
      "^(2020) corona #corona covid coronavirus #coronavirus 19 #covid19 coronacrisis maatregelen #coronacrisis #coronamaatregelen virus - #coronadebat #covid19nl de coronamaatregelen aantal in door patiënten doden #coronavirusnederland besmettingen #coronavirusnl testen besmet crisis vanwege #covid_19 rivm mensen getest griep #coronanederland het kabinet ziekenhuis verspreiding tijdens ic overleden we zorg positief tegen vaccin coronapatiënten coronatijd #rivm ziekenhuizen #covidー19 test over @rivm coronabesmettingen #lockdown nederland coronaregels aanpak rutte cijfers ivm china gevolgen #samentegencorona lockdown weken italië klachten afstand besmetting coronabeleid tijden opgenomen totaal artsen uitbraak ziek via coronadoden #rutte scholen ouderen @hugodejonge coronavaccin #persconferentie #covid alle pandemie golf #covid2019 #covid19be #blijfthuis #covid2019nl economie ggd mondkapjes aan #alleensamen coronatest thuis getroffen quarantaine huisarts controle nieuwe 1,5 houden #mondkapjes nu mogelijk corona-crisis informatie + @minpres impact corona-app #fvd positieve maanden regels overheid coronaproof maart coronawet minister #coronanl tweede who miljoen strijd sterven gevallen krijgen patiënt #coronawet corona-maatregelen extra zorgmedewerkers voorkomen horeca risico april landen \" ondernemers corona-virus symptomen meter jonge bestrijding arts intensive onder #spoedwet #wilders bestrijden bedden personeel zich #coronahulp inwoners coronagolf lees ondanks wereldwijd ziekte overlijden economische gezondheid ⤵ onderzoek coronatijden angst medische medicijn verband update #covid-19 zorgen verpleeghuizen sterfgevallen % worden onze volksgezondheid hoax medewerkers persconferentie #coronavaccin gesloten tests samen per coronacijfers #covid19nederland na #nieuwsuur vragen \n"
     ]
    }
   ],
   "source": [
    "show_top_tokens(\"^(2020)\", r'corona|covid', spy=True)"
   ]
  },
  {
   "cell_type": "code",
   "execution_count": null,
   "metadata": {},
   "outputs": [],
   "source": [
    "show_top_tokens(\"^202001\", r'corona|covid', spy=True)"
   ]
  },
  {
   "cell_type": "code",
   "execution_count": null,
   "metadata": {},
   "outputs": [],
   "source": [
    "show_top_tokens(\"^202002\", r'corona|covid', spy=True)"
   ]
  },
  {
   "cell_type": "code",
   "execution_count": null,
   "metadata": {},
   "outputs": [],
   "source": [
    "show_top_tokens(\"^202003\", r'corona|covid', spy=True)"
   ]
  },
  {
   "cell_type": "code",
   "execution_count": null,
   "metadata": {},
   "outputs": [],
   "source": [
    "show_top_tokens(\"^202004\", r'corona|covid', spy=True)"
   ]
  },
  {
   "cell_type": "code",
   "execution_count": null,
   "metadata": {},
   "outputs": [],
   "source": [
    "show_top_tokens(\"^202005\", r'corona|covid', spy=True)"
   ]
  },
  {
   "cell_type": "code",
   "execution_count": null,
   "metadata": {},
   "outputs": [],
   "source": [
    "show_top_tokens(\"^202006\", r'corona|covid', spy=True)"
   ]
  },
  {
   "cell_type": "code",
   "execution_count": null,
   "metadata": {},
   "outputs": [],
   "source": [
    "show_top_tokens(\"^202007\", r'corona|covid', spy=True)"
   ]
  },
  {
   "cell_type": "code",
   "execution_count": null,
   "metadata": {},
   "outputs": [],
   "source": [
    "show_top_tokens(\"^202008\", r'corona|covid', spy=True)"
   ]
  },
  {
   "cell_type": "code",
   "execution_count": null,
   "metadata": {},
   "outputs": [],
   "source": [
    "show_top_tokens(\"^202009\", r'corona|covid', spy=True)"
   ]
  },
  {
   "cell_type": "code",
   "execution_count": null,
   "metadata": {},
   "outputs": [],
   "source": [
    "show_top_tokens(\"^202010\", r'corona|covid', spy=True)"
   ]
  },
  {
   "cell_type": "code",
   "execution_count": null,
   "metadata": {},
   "outputs": [],
   "source": [
    "show_top_tokens(\"^202011\", r'corona|covid', spy=True)"
   ]
  },
  {
   "cell_type": "code",
   "execution_count": null,
   "metadata": {},
   "outputs": [],
   "source": [
    "show_top_tokens(\"^202012\", r'corona|covid', spy=True)"
   ]
  },
  {
   "cell_type": "code",
   "execution_count": null,
   "metadata": {},
   "outputs": [],
   "source": [
    "show_top_tokens(\"20200831\", r'\\b(je|jij|jou|jouw|jezelf|u|uw|ge|gij|aub)\\b', spy=True)"
   ]
  },
  {
   "cell_type": "code",
   "execution_count": null,
   "metadata": {},
   "outputs": [],
   "source": [
    "show_top_tokens(\"20200630\", r'\\btest|getest|sneltest|pcr', spy=True,\n",
    "                query2=(\"verkoud|snot|ziek|sympto|griep|koorts|verhoging|pijn|hoest|nie[sz]|klacht|loopneus|benauwd|vermoeid\"+\n",
    "                        \"|(verlies|verlo).*(reuk|smaak)|(reuk|smaak).*(verlies|verlo)\"))"
   ]
  },
  {
   "cell_type": "code",
   "execution_count": null,
   "metadata": {},
   "outputs": [],
   "source": [
    "show_top_tokens(\"20210114\", r'avondklok', spy=True)"
   ]
  },
  {
   "cell_type": "code",
   "execution_count": null,
   "metadata": {},
   "outputs": [],
   "source": [
    "show_top_tokens(\"20200831\", r'\\b(geluk|gelukkig|gelukkige|blij|happy)\\b', spy=True)"
   ]
  },
  {
   "cell_type": "code",
   "execution_count": null,
   "metadata": {},
   "outputs": [],
   "source": [
    "show_top_tokens(\"20201031\", r'eenza|alleen|isolatie|isolee?r', spy=True)"
   ]
  },
  {
   "cell_type": "code",
   "execution_count": null,
   "metadata": {},
   "outputs": [],
   "source": [
    "show_top_tokens(\"20200831\", r'\\b(ik|mij|mijn|me|mn|m\\'n|zelf|mezelf|mijzelf|i)\\b', spy=True)"
   ]
  },
  {
   "cell_type": "code",
   "execution_count": null,
   "metadata": {},
   "outputs": [],
   "source": [
    "show_top_tokens(\"20200831\", r'\\btest|getest|sneltest|pcr', spy=True)"
   ]
  },
  {
   "cell_type": "code",
   "execution_count": null,
   "metadata": {},
   "outputs": [],
   "source": [
    "show_top_tokens(\"20201130\",\n",
    "    (r'shit|fuck|klote|kanker|kut|lul|dom|reet|gvd|strot|waanzin|nep|rotzooi|idio|schaamtelo|fake|strot|'+\n",
    "     r'zeik|stom|onbeschoft|oprot|bekrompen|ongelo|bah|kwalijk|onbekwa|achterlijk|jat|schand|triest|puinho|'+\n",
    "     r'immore|kleptocratie|nepotism|absurd|misselijkma|\\bbek\\b|\\brot\\b|\\bkk\\b'),\n",
    "    spy=True)"
   ]
  },
  {
   "cell_type": "code",
   "execution_count": null,
   "metadata": {},
   "outputs": [],
   "source": [
    "MONTH = \"202012\"\n",
    "\n",
    "for day in range(1,32):\n",
    "    show_top_tokens(MONTH+str(day).zfill(2), QUERY_TOPIC_SMALL)"
   ]
  },
  {
   "cell_type": "code",
   "execution_count": null,
   "metadata": {},
   "outputs": [],
   "source": [
    "top_tokens = {}\n",
    "infile = open(\"202012-tokens.txt\",\"r\")\n",
    "for line in infile:\n",
    "    tokens = line.strip().split()\n",
    "    date = tokens.pop(0)\n",
    "    top_tokens[date] = tokens\n",
    "infile.close()"
   ]
  },
  {
   "cell_type": "code",
   "execution_count": null,
   "metadata": {},
   "outputs": [],
   "source": [
    "top_tokens_freq = {}\n",
    "for date in top_tokens:\n",
    "    top_tokens_freq[int(date)] = {}\n",
    "    for i in range(0,len(top_tokens[date])):\n",
    "        token = top_tokens[date][i]\n",
    "        if i < 10: top_tokens_freq[int(date)][token] = 3\n",
    "        elif i < 100: top_tokens_freq[int(date)][token] = 2\n",
    "        else: top_tokens_freq[int(date)][token] = 1"
   ]
  },
  {
   "cell_type": "code",
   "execution_count": null,
   "metadata": {},
   "outputs": [],
   "source": [
    "top_tokens_freq7 = {}\n",
    "for date in top_tokens_freq:\n",
    "     for d in range(date-3,date+4):\n",
    "            if d in top_tokens_freq:\n",
    "                for token in top_tokens_freq[date]:\n",
    "                    if not token in top_tokens_freq7: top_tokens_freq7[token] = {d:top_tokens_freq[date][token]}\n",
    "                    elif d not in top_tokens_freq7[token]: top_tokens_freq7[token][d] = top_tokens_freq[date][token]\n",
    "                    else: top_tokens_freq7[token][d] += top_tokens_freq[date][token]"
   ]
  },
  {
   "cell_type": "code",
   "execution_count": null,
   "metadata": {},
   "outputs": [],
   "source": [
    "interesting_tokens = [\"virus\",\"griep\",\"vaccin\",\"overleden\",\"besmettingen\",\"doden\",\"kabinet\",\"ic\",\"test\",\"pfizer\",\"lockdown\",\"variant\"]\n",
    "\n",
    "plt.subplots(figsize=(24,6))\n",
    "for token in top_tokens_freq7:\n",
    "    if sum(top_tokens_freq7[token].values()) > 100 and token in interesting_tokens:\n",
    "        plt.plot_date([datetime.datetime.strptime(str(d),\"%Y%m%d\") for d in top_tokens_freq7[token].keys()], \n",
    "                      [x-0.4*random.random()+0.1 for x in top_tokens_freq7[token].values()], fmt=\"-\", label=token)\n",
    "plt.legend(loc=\"upper left\")\n",
    "plt.show()"
   ]
  },
  {
   "cell_type": "markdown",
   "metadata": {},
   "source": [
    "## Month vocabulary analysis"
   ]
  },
  {
   "cell_type": "code",
   "execution_count": 26,
   "metadata": {},
   "outputs": [],
   "source": [
    "month_data = {}\n",
    "data_file = open(\"month-topics.txt\", \"r\")\n",
    "for line in data_file:\n",
    "    fields = line.strip().split()\n",
    "    month = fields.pop(0)\n",
    "    month_data[month] = fields\n",
    "data_file.close()"
   ]
  },
  {
   "cell_type": "code",
   "execution_count": 27,
   "metadata": {},
   "outputs": [
    {
     "name": "stdout",
     "output_type": "stream",
     "text": [
      "^202001 virus china corona wuhan chinese mensen uitbraak doden nederland besmet besmettingen frankrijk rovirus rvirus gevallen europa maatregelen patiënten duitsland eerste \n",
      "^202002 virus corona china besmet italië nederland mensen  quarantaine rivm griep vragen besmetting chinese besmettingen covid doden patiënt uitbraak paniek \n",
      "^202003 corona virus nederland crisis covid maatregelen debat  verspreiding patiënten overleden aantal rivm besmet ziekenhuis getest mensen hulp besmettingen kabinet \n",
      "^202004 corona virus crisis covid  debat nederland maatregelen patiënten aantal overleden doden samentegencorona getest ziekenhuis tijd gevolgen besmet ic china \n",
      "^202005 corona covid crisis virus  maatregelen doden tijd debat aantal patiënten testen kabinet nederland besmet rivm onderzoek besmettingen getest vaccin \n",
      "^202006 corona covid crisis virus maatregelen  tijd doden debat wet demonstratie dam aantal regels vaccin rivm halsema minpres testen nieuwe \n",
      "^202007 corona covid virus crisis  aantal besmettingen maatregelen rivm testen doden mensen vaccin tweede golf 👉 patiënten tijd getest besmet \n",
      "^202008 corona covid virus debat crisis maatregelen  aantal doden besmettingen mensen testen griep test hugodejonge besmet regels getest kabinet quarantaine \n",
      "^202009 corona covid virus debat maatregelen crisis aantal  besmettingen testen regels doden mensen ic griep test getest hugodejonge grapperhaus patiënten \n",
      "^202010 corona covid maatregelen virus  crisis debat patiënten griep zorg ziekenhuizen ziekenhuis aantal positief mensen ic besmettingen kabinet getest besmet \n",
      "^202011 corona covid maatregelen  virus crisis vaccin aantal besmettingen griep mensen debat tijd testen doden getest test positief patiënten kabinet \n",
      "^202012 corona covid maatregelen  virus crisis griep vaccin kabinet debat lockdown fvd mensen aantal zorg patiënten besmettingen cijfers ic doden \n",
      "^(20200[7-9]|20201) corona covid maatregelen virus  crisis debat aantal besmettingen griep mensen doden vaccin testen patiënten kabinet positief getest test ic \n",
      "^202101 corona covid maatregelen virus debat  crisis vaccin avondklok lockdown aantal britse mensen variant patiënten ic beleid griep overleden positief \n",
      "^(2020) corona covid virus crisis maatregelen  debat aantal patiënten doden nederland besmettingen testen besmet rivm mensen getest griep kabinet ziekenhuis \n"
     ]
    }
   ],
   "source": [
    "MAX_WORDS = 20\n",
    "STOP_WORDS = [ \"de\", \"het\", \"in\", \"over\", \"via\", \"tijdens\", \"tegen\", \"vanwege\", \"door\", \"voor\", \"op\", \"van\", \"aan\", \"om\", \"en\", \"meer\", \"per\", \"na\", \"sinds\", \"tot\",\n",
    "               \"we\", \"alle\", \"zich\", \"huidig\", \"extra\", \"meer\", \"minder\", \"ivm\", \"geen\", \"virusnl\", \"virusnederland\", \n",
    "               \":\", '-', '+', '%', '\"', \"'\", \".\", \"(\", \")\",'19', '19nl', '_19', 'ー19', '2019nl', '2019', '__19', '19be', 'sen' ]\n",
    "\n",
    "for month in month_data:\n",
    "    seen = {}\n",
    "    counter = 0\n",
    "    print(month, end=\" \")\n",
    "    for i in range(0,len(month_data[month])):\n",
    "        word = month_data[month][i]\n",
    "        word = re.sub(\"^#\", \"\", word)\n",
    "        word = re.sub(\"^@\", \"\", word)\n",
    "        word = re.sub(r'^corona(.)', r'\\1', word)\n",
    "        word = re.sub(r'^covid(.)', r'\\1', word)\n",
    "        word = re.sub(r'^virus(.)', r'\\1', word)\n",
    "        word = re.sub(r'^nl$', 'nederland', word)\n",
    "        word = re.sub(\"^-\", \"\", word)\n",
    "        if word not in seen and word not in STOP_WORDS:\n",
    "            print(word, end=\" \")\n",
    "            seen[word] = True\n",
    "            counter += 1\n",
    "            if counter >= MAX_WORDS:\n",
    "                break\n",
    "    print()"
   ]
  },
  {
   "cell_type": "markdown",
   "metadata": {},
   "source": [
    "## Analysis frequencies \"de\" and \"ik\" in corona|covid tweets"
   ]
  },
  {
   "cell_type": "code",
   "execution_count": 28,
   "metadata": {},
   "outputs": [],
   "source": [
    "def count_words(file_pattern, query1, query2, spy=True):\n",
    "    file_list = sorted(os.listdir(DATADIR))\n",
    "    nbr_of_matches1 = 0\n",
    "    nbr_of_matches2 = 0\n",
    "    for file_name in file_list:\n",
    "        if re.search(file_pattern,file_name):\n",
    "            if spy: squeal(file_name+\" \"+file_pattern+\" \"+query2)\n",
    "            df = pd.read_csv(DATADIR+file_name, index_col=ID)\n",
    "            matching_rows1 = df[TEXT].str.contains(query1, flags=re.IGNORECASE)\n",
    "            matching_rows2 = df[TEXT].str.contains(query2, flags=re.IGNORECASE)\n",
    "            try:\n",
    "                nbr_of_matches1 += matching_rows1.value_counts()[True]\n",
    "            except:\n",
    "                pass\n",
    "            try:\n",
    "                nbr_of_matches2 += (matching_rows1 & matching_rows2).value_counts()[True]\n",
    "            except:\n",
    "                pass\n",
    "    return(nbr_of_matches1, nbr_of_matches2)"
   ]
  },
  {
   "cell_type": "code",
   "execution_count": 29,
   "metadata": {},
   "outputs": [
    {
     "name": "stdout",
     "output_type": "stream",
     "text": [
      "20201231-23.out.gz 20201231 \\bik\\b\n"
     ]
    }
   ],
   "source": [
    "base_pattern = \"corona|covid\"\n",
    "\n",
    "results = {\"de\":{}, \"ik\":{}}\n",
    "for month in range(1, 13):\n",
    "    for day in range(1,32):\n",
    "        file_pattern = \"2020\"+str(month).zfill(2)+str(day).zfill(2)\n",
    "        results[\"de\"][file_pattern] = count_words(file_pattern, base_pattern, r'\\bde\\b')\n",
    "        results[\"ik\"][file_pattern] = count_words(file_pattern, base_pattern, r'\\bik\\b')"
   ]
  },
  {
   "cell_type": "code",
   "execution_count": 30,
   "metadata": {},
   "outputs": [
    {
     "data": {
      "image/png": "[encoded data removed]",
      "text/plain": [
       "<Figure size 432x288 with 1 Axes>"
      ]
     },
     "metadata": {
      "needs_background": "light"
     },
     "output_type": "display_data"
    }
   ],
   "source": [
    "DATE_PATTERN = \"%Y%m%d\"\n",
    "\n",
    "for word in [\"de\", \"ik\"]:\n",
    "    x = []\n",
    "    y = []\n",
    "    for date in results[word]:\n",
    "        if results[word][date][0] != 0:\n",
    "            x.append(datetime.datetime.strptime(date, DATE_PATTERN))\n",
    "            y.append(results[word][date][1]/results[word][date][0])\n",
    "    plt.plot_date(x, y, fmt=\"-\", label=word)\n",
    "\n",
    "plt.title(f\"percentage of 'de' and 'ik' in corona|covid tweets \")\n",
    "plt.legend()\n",
    "plt.show()"
   ]
  },
  {
   "cell_type": "markdown",
   "metadata": {},
   "source": [
    "## Old code"
   ]
  },
  {
   "cell_type": "code",
   "execution_count": null,
   "metadata": {},
   "outputs": [],
   "source": [
    "FILENAME202002 = \"query-tokens-202002-202003.csv\"\n",
    "FILENAME202004 = \"query-tokens-202004-202005.csv\"\n",
    "NON = \"non-\"\n",
    "WEEKS = {\"2020020[2-8]\":\"20200202\",\"20200209|2020021[0-5]\":\"20200209\",\"2020021[6-9]|2020022[0-2]\":\"20200216\",\"2020022[3-9]\":\"20200223\",\\\n",
    "         \"2020030[1-7]\":\"20200301\",\"2020030[89]|2020031[0-4]\":\"20200308\",\"2020031[5-9]|2020032[01]\":\"20200315\",\"2020032[2-8]\":\"20200322\",\\\n",
    "                                   \"20200329|20200330|2020040[1-4]\":\"20200329\",\\\n",
    "         \"2020040[5-9]|2020041[01]\":\"20200405\",\"2020041[2-8]\":\"20200412\",\"20200419|2020042[0-5]\":\"20200419\",\"2020042[6-9]|2020043|2020050[1-2]\":\"20200426\",\\\n",
    "         \"2020050[3-9]\":\"20200503\",\"2020051[0-6]\":\"20200510\",\"2020051[7-9]|2020052[0-3]\":\"20200517\"}"
   ]
  },
  {
   "cell_type": "code",
   "execution_count": null,
   "metadata": {},
   "outputs": [],
   "source": [
    "queryTokens202002 = readData(FILENAME202004)\n",
    "nonQueryTokens202002 = readData(NON+FILENAME202004)\n",
    "tscoresDataQuery = {}\n",
    "tscoresDataNonQuery = {}\n",
    "tscores = {}\n",
    "for query in queryTokens202002:\n",
    "    tscoresDataQuery[query] = makeTscoreData(combineInitialHashAt(queryTokens202002[query]))\n",
    "    tscoresDataNonQuery[query] = makeTscoreData(combineInitialHashAt(nonQueryTokens202002[query]))\n",
    "    print(query)\n",
    "    tscores[query] = sortTscores(tscore.computeTscore(tscoresDataQuery[query],tscoresDataNonQuery[query]))\n",
    "    for x in dictTopN(tscores[query]): print(round(x[0],1),x[1])"
   ]
  },
  {
   "cell_type": "code",
   "execution_count": null,
   "metadata": {},
   "outputs": [],
   "source": [
    "# writeData(tscores,\"tscores-202004-202005.csv\")"
   ]
  },
  {
   "cell_type": "code",
   "execution_count": null,
   "metadata": {},
   "outputs": [],
   "source": [
    "tscores202002 = readData(\"tscores-202002-202003.csv\")\n",
    "tscores202004 = readData(\"tscores-202004-202005.csv\")"
   ]
  },
  {
   "cell_type": "code",
   "execution_count": null,
   "metadata": {},
   "outputs": [],
   "source": [
    "TOPICS = \"maatregelen mondkapje anderhalve besmet rivm \".split()\n",
    "\n",
    "data = {}\n",
    "for topic in TOPICS:\n",
    "    for date in tscores202002.keys():\n",
    "        if not topic in data: data[topic] = {}\n",
    "        data[topic][date] = tscores202002[date][topic]\n",
    "    for date in tscores202004.keys():\n",
    "        data[topic][date] = tscores202004[date][topic]"
   ]
  },
  {
   "cell_type": "code",
   "execution_count": null,
   "metadata": {},
   "outputs": [],
   "source": [
    "from datetime import datetime\n",
    "import matplotlib.pyplot as plt\n",
    "from matplotlib.dates import DateFormatter\n",
    "\n",
    "DATEFORMAT = \"%Y%m%d\"\n",
    "\n",
    "fig,ax = plt.subplots(figsize=(8,4))\n",
    "ax.xaxis.set_major_formatter(DateFormatter(\"%d %b\"))\n",
    "for topic in TOPICS:\n",
    "    plt.plot_date([datetime.strptime(WEEKS[date],DATEFORMAT) for date in data[topic]],list(data[topic].values()),label=topic,fmt=\"-\")\n",
    "ax.set(xlabel=\"date (weeks)\",ylabel=\"t-scores\")\n",
    "plt.title(\"t-scores for relevant words, comparing selected topic tweets with unselected tweets\")\n",
    "plt.legend()\n",
    "plt.show()"
   ]
  },
  {
   "cell_type": "markdown",
   "metadata": {},
   "source": [
    "**Note**: We expected only positive scores for topic words but the graph shows that *anderhalve* had negative scores  in two weeks. This means that most of the tweets containing this word are outside our topic tweets. We checked a sample of these missing tweets and most of them turned out to be on-topic, but they lacked the words *corona* and *covid*."
   ]
  },
  {
   "cell_type": "code",
   "execution_count": null,
   "metadata": {},
   "outputs": [],
   "source": [
    "data[\"anderhalve\"]"
   ]
  },
  {
   "cell_type": "code",
   "execution_count": null,
   "metadata": {},
   "outputs": [],
   "source": [
    "for date in tscores202002: \n",
    "    print(\"#####\",date)\n",
    "    for x in dictTopN(sortTscores(tscores202002[date]),n=50): print(round(x[0],1),x[1])\n",
    "for date in tscores202004:\n",
    "    print(\"#####\",date)\n",
    "    for x in dictTopN(sortTscores(tscores202004[date]),n=50): print(round(x[0],1),x[1])"
   ]
  },
  {
   "cell_type": "code",
   "execution_count": null,
   "metadata": {},
   "outputs": [],
   "source": [
    "queryTokens202004 = readData(FILENAME202004)\n",
    "nonQueryTokens202004 = readData(NON+FILENAME202004)\n",
    "for query in queryTokens202004:\n",
    "    tscoresDataQuery[query] = makeTscoreData(combineInitialHashAt(queryTokens202004[query]))\n",
    "    tscoresDataNonQuery[query] = makeTscoreData(combineInitialHashAt(nonQueryTokens202004[query]))\n",
    "    print(query)\n",
    "    for x in dictTopN(sortTscores(tscore.computeTscore(tscoresDataQuery[query],tscoresDataNonQuery[query]))): print(round(x[0],1),x[1])"
   ]
  },
  {
   "cell_type": "code",
   "execution_count": null,
   "metadata": {},
   "outputs": [],
   "source": [
    "#writeData(queryTokens,\"query-tokens-202004-202005.csv\")\n",
    "#writeData(nonQueryTokens,\"non-query-tokens-202004-202005.csv\")"
   ]
  },
  {
   "cell_type": "code",
   "execution_count": null,
   "metadata": {},
   "outputs": [],
   "source": [
    "query = \"2020051[7-9]|2020052[0-3]\"\n",
    "for x in dictTopN(sortTscores(tscore.computeTscore(tscoresDataQuery[query],tscoresDataNonQuery[query])),n=40): print(round(x[0],1),x[1])"
   ]
  },
  {
   "cell_type": "code",
   "execution_count": null,
   "metadata": {},
   "outputs": [],
   "source": [
    "FILEPATTERN = \"20200601\" \n",
    "QUERY= r\"1.5m|1,5m|afstand.*hou|hou.*afstand|anderhalve\"\n",
    "\n",
    "queryTokens = {}\n",
    "nonQueryTokens = {}\n",
    "tscoresDataQuery = {}\n",
    "tscoresDataNonQuery = {}\n",
    "queryTokens[FILEPATTERN],nonQueryTokens[FILEPATTERN] = getTokensOfMatchedTweets(FILEPATTERN,QUERY)\n",
    "tscoresDataQuery[FILEPATTERN] = makeTscoreData(queryTokens[FILEPATTERN])\n",
    "tscoresDataNonQuery[FILEPATTERN] = makeTscoreData(nonQueryTokens[FILEPATTERN])\n",
    "for x in dictTopN(sortTscores(tscore.computeTscore(tscoresDataQuery[FILEPATTERN],tscoresDataNonQuery[FILEPATTERN])),n=40): \n",
    "    print(round(x[0],1),x[1])"
   ]
  },
  {
   "cell_type": "markdown",
   "metadata": {},
   "source": [
    "**Note**: the query \"zorg\" produces many false positives. There are irrelevant types (\"bezorgd\" and \"bezorgen\"), irrelevant syntactical forms (\"ik zorg dat\" and \"Zorg dat je\") and even the correct sense is not always related to the pandemic topic (\"zorg voor ouderen/gehandicapten\")."
   ]
  },
  {
   "cell_type": "markdown",
   "metadata": {},
   "source": [
    "## Estimate coverage of crawler by looking back for messages with replies"
   ]
  },
  {
   "cell_type": "code",
   "execution_count": null,
   "metadata": {},
   "outputs": [],
   "source": [
    "DATEPATTERN = \"20200522\"\n",
    "\n",
    "fileList = sorted(os.listdir(DATADIR))\n",
    "seenIds = {}\n",
    "for inFileName in fileList:\n",
    "    if re.search(DATEPATTERN,inFileName):\n",
    "        df = pd.read_csv(DATADIR+inFileName,compression=\"gzip\",dtype=str)\n",
    "        known = 0\n",
    "        unknown = 0\n",
    "        for i in range(0,len(df)):\n",
    "            idstr = df.iloc[i][ID]\n",
    "            seenIds[idstr] = True\n",
    "            replyParent = df.iloc[i][REPLYID]\n",
    "            if str(replyParent) != \"nan\":\n",
    "                if replyParent in seenIds: known += 1\n",
    "                else: unknown += 1\n",
    "        print(\"{0} {1:.3f}\".format(inFileName,round(known/(known+unknown),3)))"
   ]
  },
  {
   "cell_type": "code",
   "execution_count": null,
   "metadata": {},
   "outputs": [],
   "source": []
  }
 ],
 "metadata": {
  "kernelspec": {
   "display_name": "Python 3",
   "language": "python",
   "name": "python3"
  },
  "language_info": {
   "codemirror_mode": {
    "name": "ipython",
    "version": 3
   },
   "file_extension": ".py",
   "mimetype": "text/x-python",
   "name": "python",
   "nbconvert_exporter": "python",
   "pygments_lexer": "ipython3",
   "version": "3.6.11"
  }
 },
 "nbformat": 4,
 "nbformat_minor": 4
}
