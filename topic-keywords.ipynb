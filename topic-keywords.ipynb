{
 "cells": [
  {
   "cell_type": "markdown",
   "metadata": {},
   "source": [
    "# Topic keywords\n",
    "\n",
    "Check which words are typical for topic tweets in different time frames"
   ]
  },
  {
   "cell_type": "code",
   "execution_count": 1,
   "metadata": {},
   "outputs": [],
   "source": [
    "import csv\n",
    "import math\n",
    "import os\n",
    "import pandas as pd\n",
    "import re\n",
    "import sys\n",
    "from IPython.display import clear_output\n",
    "from nltk.tokenize import TweetTokenizer\n",
    "sys.path.append(\"/home/erikt/projects/newsgac/fasttext-runs\")\n",
    "import tscore"
   ]
  },
  {
   "cell_type": "code",
   "execution_count": 2,
   "metadata": {},
   "outputs": [],
   "source": [
    "DATADIR = \"/home/erikt/projects/puregome/data/text/\"\n",
    "ID = \"id_str\"\n",
    "REPLYID = \"in_reply_to_status_id_str\"\n",
    "TEXT = \"text\"\n",
    "TOKEN = \"token\"\n",
    "USER = \"user\""
   ]
  },
  {
   "cell_type": "code",
   "execution_count": 3,
   "metadata": {},
   "outputs": [],
   "source": [
    "def squeal(text=None):\n",
    "    clear_output(wait=True)\n",
    "    if not text is None: print(text)"
   ]
  },
  {
   "cell_type": "markdown",
   "metadata": {},
   "source": [
    "## Count tweets with topic words"
   ]
  },
  {
   "cell_type": "code",
   "execution_count": 4,
   "metadata": {},
   "outputs": [],
   "source": [
    "def countTweets(datePattern,query):\n",
    "    count = 0\n",
    "    fileList = sorted(os.listdir(DATADIR))\n",
    "    for inFileName in fileList:\n",
    "        if re.search(datePattern,inFileName):\n",
    "            squeal(inFileName)\n",
    "            df = pd.read_csv(DATADIR+inFileName,compression=\"gzip\",index_col=ID)\n",
    "            for i in range(0,len(df)):\n",
    "                text = df.iloc[i][TEXT]\n",
    "                if re.search(query,text): count += 1\n",
    "    return(count)"
   ]
  },
  {
   "cell_type": "code",
   "execution_count": 5,
   "metadata": {},
   "outputs": [],
   "source": [
    "def countTweetsReplies(datePattern,query):\n",
    "    count = 0\n",
    "    selectedIds = {}\n",
    "    fileList = sorted(os.listdir(DATADIR))\n",
    "    for inFileName in fileList:\n",
    "        if re.search(datePattern,inFileName):\n",
    "            squeal(inFileName)\n",
    "            df = pd.read_csv(DATADIR+inFileName,compression=\"gzip\",index_col=ID)\n",
    "            for i in range(0,len(df)):\n",
    "                text = df.iloc[i][TEXT]\n",
    "                replyParent = df.iloc[i][REPLYID]\n",
    "                if re.search(query,text) or replyParent in selectedIds: \n",
    "                    count += 1\n",
    "                    idstr = df.index[i]\n",
    "                    selectedIds[idstr] = True\n",
    "    return(count)"
   ]
  },
  {
   "cell_type": "code",
   "execution_count": null,
   "metadata": {},
   "outputs": [],
   "source": [
    "FILEPATTERN = \"20200522\"\n",
    "\n",
    "for query in \"corona corona|covid corona|covid|flattenthecurve corona|covid|blijfthuis corona|covid|rivm\\\n",
    "              corona|covid|mondkapje corona|covid|huisarts corona|covid|houvol corona|covid|zorg\".split():\n",
    "    count = countTweets(FILEPATTERN,query)\n",
    "    print(count,query)"
   ]
  },
  {
   "cell_type": "code",
   "execution_count": null,
   "metadata": {},
   "outputs": [],
   "source": [
    "FILEPATTERN = \"20200522\"\n",
    "\n",
    "for query in \"corona corona|covid corona|covid|flattenthecurve corona|covid|blijfthuis corona|covid|rivm\\\n",
    "              corona|covid|mondkapje corona|covid|huisarts corona|covid|houvol corona|covid|zorg\".split():\n",
    "    count = countTweetsReplies(FILEPATTERN,query)\n",
    "    print(count,query)"
   ]
  },
  {
   "cell_type": "markdown",
   "metadata": {},
   "source": [
    "**Note**: the query \"zorg\" produces many false positives. There are irrelevant types (\"bezorgd\" and \"bezorgen\"), irrelevant syntactical forms (\"ik zorg dat\" and \"Zorg dat je\") and even the correct sense is not always related to the pandemic topic (\"zorg voor ouderen/gehandicapten\")."
   ]
  },
  {
   "cell_type": "markdown",
   "metadata": {},
   "source": [
    "## Find other relevant words in topic tweets"
   ]
  },
  {
   "cell_type": "code",
   "execution_count": 15,
   "metadata": {},
   "outputs": [],
   "source": [
    "AT = r\"@\"\n",
    "HASH = r\"#\"\n",
    "\n",
    "def getTokensOfMatchedTweets(filePattern,query):\n",
    "    fileList = sorted(os.listdir(DATADIR))\n",
    "    matchTokens = {}\n",
    "    nonMatchTokens = {}\n",
    "    for inFileName in fileList:\n",
    "        if re.search(filePattern,inFileName):\n",
    "            squeal(inFileName)\n",
    "            df = pd.read_csv(DATADIR+inFileName,compression=\"gzip\",index_col=ID)\n",
    "            for i in range(0,len(df)):\n",
    "                text = df.iloc[i][TEXT]\n",
    "                if re.search(query,text):\n",
    "                    for token in TweetTokenizer().tokenize(text.lower()): \n",
    "                        if not token in matchTokens: matchTokens[token] = 0\n",
    "                        matchTokens[token] += 1\n",
    "                else:\n",
    "                    for token in TweetTokenizer().tokenize(text.lower()): \n",
    "                        if not token in nonMatchTokens: nonMatchTokens[token] = 0\n",
    "                        nonMatchTokens[token] += 1\n",
    "    return(matchTokens,nonMatchTokens)\n",
    "\n",
    "\n",
    "def readData(fileName):\n",
    "    return(pd.read_csv(fileName,index_col=TOKEN).to_dict())\n",
    "\n",
    "def writeData(data,fileName):\n",
    "    pd.DataFrame(data).to_csv(fileName,index_label=TOKEN)\n",
    "    \n",
    "def findKeysStartingWithChar(data,char):\n",
    "    keysStartingWithChar = []\n",
    "    for key in data:\n",
    "        try:\n",
    "            if re.search(r\"^\"+char+r\"\\w\",key):\n",
    "                shortKey = key[1:]\n",
    "                if shortKey in data: keysStartingWithChar.append(shortKey)\n",
    "        except: pass\n",
    "    return(keysStartingWithChar)\n",
    "\n",
    "def combineKeysStartingWithChar(data,char,keysStartingWithChar):\n",
    "    for key in keysStartingWithChar:\n",
    "        data[key] += data[char+key]\n",
    "        del(data[char+key])\n",
    "    return(data)\n",
    "\n",
    "def combineInitialHashAt(data):\n",
    "    keysStartingWithHash = findKeysStartingWithChar(data,HASH)\n",
    "    data = combineKeysStartingWithChar(data,HASH,keysStartingWithHash)\n",
    "    keysStartingWithAt = findKeysStartingWithChar(data,AT)\n",
    "    data = combineKeysStartingWithChar(data,AT,keysStartingWithAt)\n",
    "    return(data)"
   ]
  },
  {
   "cell_type": "code",
   "execution_count": 7,
   "metadata": {},
   "outputs": [],
   "source": [
    "NBROFEXAMPLES = 20\n",
    "\n",
    "def dictTopN(dictionary,n=NBROFEXAMPLES):\n",
    "    return([(x[1],x[0]) for x in dictionary.items()][0:n])\n",
    "\n",
    "def dictBottomN(dictionary,n=NBROFEXAMPLES):\n",
    "    return([(x[1],x[0]) for x in dictionary.items()][-n:])"
   ]
  },
  {
   "cell_type": "code",
   "execution_count": 8,
   "metadata": {},
   "outputs": [],
   "source": [
    "NBROFTOKENS = \"totalFreq\"\n",
    "NBROFTYPES = \"nbrOfWords\"\n",
    "WORDFREQS = \"wordFreqs\"\n",
    "\n",
    "def makeTscoreData(tokenList):\n",
    "    data = { NBROFTOKENS:0, NBROFTYPES:0, WORDFREQS:{} }\n",
    "    for token in tokenList:\n",
    "        if not math.isnan(tokenList[token]):\n",
    "            data[WORDFREQS][token] = tokenList[token]\n",
    "            data[NBROFTYPES] += 1\n",
    "            data[NBROFTOKENS] += tokenList[token]\n",
    "    return(data)\n",
    "\n",
    "def sortTscores(tscores):\n",
    "    return({token:tscores[token] for token in sorted(tscores.keys(),key=lambda t:tscores[t],reverse=True)})"
   ]
  },
  {
   "cell_type": "code",
   "execution_count": 24,
   "metadata": {},
   "outputs": [
    {
     "name": "stdout",
     "output_type": "stream",
     "text": [
      "20200501-23.out.gz\n"
     ]
    }
   ],
   "source": [
    "FILEPATTERN = \"20200501\" \n",
    "QUERY= r\"1[.,]5[ -]*m|afstand.*hou|hou.*afstand|anderhalve[ -]*meter\"\n",
    "\n",
    "queryTokens = {}\n",
    "nonQueryTokens = {}\n",
    "tscoresDataQuery = {}\n",
    "tscoresDataNonQuery = {}\n",
    "queryTokens[FILEPATTERN],nonQueryTokens[FILEPATTERN] = getTokensOfMatchedTweets(FILEPATTERN,QUERY)\n",
    "tscoresDataQuery[FILEPATTERN] = makeTscoreData(queryTokens[FILEPATTERN])\n",
    "tscoresDataNonQuery[FILEPATTERN] = makeTscoreData(nonQueryTokens[FILEPATTERN])"
   ]
  },
  {
   "cell_type": "code",
   "execution_count": 25,
   "metadata": {},
   "outputs": [
    {
     "name": "stdout",
     "output_type": "stream",
     "text": [
      "45.6 meter\n",
      "42.3 1,5\n",
      "37.8 afstand\n",
      "25.7 houden\n",
      "24.7 anderhalve\n",
      "22.0 1.5\n",
      "21.8 m\n",
      "18.0 samenleving\n",
      "17.3 #anderhalvemetersamenleving\n",
      "16.2 horeca\n",
      "16.0 rutte\n",
      "15.1 \\\n",
      "14.7 mondkapjes\n",
      "13.7 wet\n",
      "12.9 elkaar\n",
      "12.6 n\n",
      "12.6 trein\n",
      "12.4 tram\n",
      "12.3 op\n",
      "11.9 bus\n"
     ]
    }
   ],
   "source": [
    "for x in dictTopN(sortTscores(tscore.computeTscore(tscoresDataQuery[FILEPATTERN],tscoresDataNonQuery[FILEPATTERN])),n=20): \n",
    "    print(round(x[0],1),x[1])"
   ]
  },
  {
   "cell_type": "code",
   "execution_count": 12,
   "metadata": {},
   "outputs": [
    {
     "name": "stdout",
     "output_type": "stream",
     "text": [
      "-45.6 george\n",
      "-46.4 amerikaanse\n",
      "-46.6 zwart\n",
      "-46.7 media\n",
      "-46.9 jou\n",
      "-47.0 moeilijke\n",
      "-47.8 ook\n",
      "-48.1 beroep\n",
      "-48.1 me\n",
      "-49.9 plaats\n",
      "-50.4 al\n",
      "-50.6 geweld\n",
      "-53.4 zijn\n",
      "-54.7 zwarte\n",
      "-62.5 iemand\n",
      "-64.8 jaar\n",
      "-67.6 trump\n",
      "-71.1 het\n",
      "-72.7 rt\n",
      "-93.7 ik\n"
     ]
    }
   ],
   "source": [
    "for x in dictBottomN(sortTscores(tscore.computeTscore(tscoresDataQuery[FILEPATTERN],tscoresDataNonQuery[FILEPATTERN])),n=20): \n",
    "    print(round(x[0],1),x[1])"
   ]
  },
  {
   "cell_type": "code",
   "execution_count": null,
   "metadata": {},
   "outputs": [],
   "source": [
    "FILENAME202002 = \"query-tokens-202002-202003.csv\"\n",
    "FILENAME202004 = \"query-tokens-202004-202005.csv\"\n",
    "NON = \"non-\"\n",
    "WEEKS = {\"2020020[2-8]\":\"20200202\",\"20200209|2020021[0-5]\":\"20200209\",\"2020021[6-9]|2020022[0-2]\":\"20200216\",\"2020022[3-9]\":\"20200223\",\\\n",
    "         \"2020030[1-7]\":\"20200301\",\"2020030[89]|2020031[0-4]\":\"20200308\",\"2020031[5-9]|2020032[01]\":\"20200315\",\"2020032[2-8]\":\"20200322\",\\\n",
    "                                   \"20200329|20200330|2020040[1-4]\":\"20200329\",\\\n",
    "         \"2020040[5-9]|2020041[01]\":\"20200405\",\"2020041[2-8]\":\"20200412\",\"20200419|2020042[0-5]\":\"20200419\",\"2020042[6-9]|2020043|2020050[1-2]\":\"20200426\",\\\n",
    "         \"2020050[3-9]\":\"20200503\",\"2020051[0-6]\":\"20200510\",\"2020051[7-9]|2020052[0-3]\":\"20200517\"}"
   ]
  },
  {
   "cell_type": "code",
   "execution_count": null,
   "metadata": {},
   "outputs": [],
   "source": [
    "queryTokens202002 = readData(FILENAME202004)\n",
    "nonQueryTokens202002 = readData(NON+FILENAME202004)\n",
    "tscoresDataQuery = {}\n",
    "tscoresDataNonQuery = {}\n",
    "tscores = {}\n",
    "for query in queryTokens202002:\n",
    "    tscoresDataQuery[query] = makeTscoreData(combineInitialHashAt(queryTokens202002[query]))\n",
    "    tscoresDataNonQuery[query] = makeTscoreData(combineInitialHashAt(nonQueryTokens202002[query]))\n",
    "    print(query)\n",
    "    tscores[query] = sortTscores(tscore.computeTscore(tscoresDataQuery[query],tscoresDataNonQuery[query]))\n",
    "    for x in dictTopN(tscores[query]): print(round(x[0],1),x[1])"
   ]
  },
  {
   "cell_type": "code",
   "execution_count": null,
   "metadata": {},
   "outputs": [],
   "source": [
    "# writeData(tscores,\"tscores-202004-202005.csv\")"
   ]
  },
  {
   "cell_type": "code",
   "execution_count": null,
   "metadata": {},
   "outputs": [],
   "source": [
    "tscores202002 = readData(\"tscores-202002-202003.csv\")\n",
    "tscores202004 = readData(\"tscores-202004-202005.csv\")"
   ]
  },
  {
   "cell_type": "code",
   "execution_count": null,
   "metadata": {},
   "outputs": [],
   "source": [
    "TOPICS = \"maatregelen mondkapje anderhalve besmet rivm \".split()\n",
    "\n",
    "data = {}\n",
    "for topic in TOPICS:\n",
    "    for date in tscores202002.keys():\n",
    "        if not topic in data: data[topic] = {}\n",
    "        data[topic][date] = tscores202002[date][topic]\n",
    "    for date in tscores202004.keys():\n",
    "        data[topic][date] = tscores202004[date][topic]"
   ]
  },
  {
   "cell_type": "code",
   "execution_count": null,
   "metadata": {},
   "outputs": [],
   "source": [
    "from datetime import datetime\n",
    "import matplotlib.pyplot as plt\n",
    "from matplotlib.dates import DateFormatter\n",
    "\n",
    "DATEFORMAT = \"%Y%m%d\"\n",
    "\n",
    "fig,ax = plt.subplots(figsize=(8,4))\n",
    "ax.xaxis.set_major_formatter(DateFormatter(\"%d %b\"))\n",
    "for topic in TOPICS:\n",
    "    plt.plot_date([datetime.strptime(WEEKS[date],DATEFORMAT) for date in data[topic]],list(data[topic].values()),label=topic,fmt=\"-\")\n",
    "ax.set(xlabel=\"date (weeks)\",ylabel=\"t-scores\")\n",
    "plt.title(\"t-scores for relevant words, comparing selected topic tweets with unselected tweets\")\n",
    "plt.legend()\n",
    "plt.show()"
   ]
  },
  {
   "cell_type": "markdown",
   "metadata": {},
   "source": [
    "**Note**: We expected only positive scores for topic words but the graph shows that *anderhalve* had negative scores  in two weeks. This means that most of the tweets containing this word are outside our topic tweets. We checked a sample of these missing tweets and most of them turned out to be on-topic, but they lacked the words *corona* and *covid*."
   ]
  },
  {
   "cell_type": "code",
   "execution_count": null,
   "metadata": {},
   "outputs": [],
   "source": [
    "data[\"anderhalve\"]"
   ]
  },
  {
   "cell_type": "code",
   "execution_count": null,
   "metadata": {},
   "outputs": [],
   "source": [
    "for date in tscores202002: \n",
    "    print(\"#####\",date)\n",
    "    for x in dictTopN(sortTscores(tscores202002[date]),n=50): print(round(x[0],1),x[1])\n",
    "for date in tscores202004:\n",
    "    print(\"#####\",date)\n",
    "    for x in dictTopN(sortTscores(tscores202004[date]),n=50): print(round(x[0],1),x[1])"
   ]
  },
  {
   "cell_type": "code",
   "execution_count": null,
   "metadata": {},
   "outputs": [],
   "source": [
    "queryTokens202004 = readData(FILENAME202004)\n",
    "nonQueryTokens202004 = readData(NON+FILENAME202004)\n",
    "for query in queryTokens202004:\n",
    "    tscoresDataQuery[query] = makeTscoreData(combineInitialHashAt(queryTokens202004[query]))\n",
    "    tscoresDataNonQuery[query] = makeTscoreData(combineInitialHashAt(nonQueryTokens202004[query]))\n",
    "    print(query)\n",
    "    for x in dictTopN(sortTscores(tscore.computeTscore(tscoresDataQuery[query],tscoresDataNonQuery[query]))): print(round(x[0],1),x[1])"
   ]
  },
  {
   "cell_type": "code",
   "execution_count": null,
   "metadata": {},
   "outputs": [],
   "source": [
    "#writeData(queryTokens,\"query-tokens-202004-202005.csv\")\n",
    "#writeData(nonQueryTokens,\"non-query-tokens-202004-202005.csv\")"
   ]
  },
  {
   "cell_type": "code",
   "execution_count": null,
   "metadata": {},
   "outputs": [],
   "source": [
    "query = \"2020051[7-9]|2020052[0-3]\"\n",
    "for x in dictTopN(sortTscores(tscore.computeTscore(tscoresDataQuery[query],tscoresDataNonQuery[query])),n=40): print(round(x[0],1),x[1])"
   ]
  },
  {
   "cell_type": "code",
   "execution_count": null,
   "metadata": {},
   "outputs": [],
   "source": [
    "FILEPATTERN = \"20200601\" \n",
    "QUERY= r\"1.5m|1,5m|afstand.*hou|hou.*afstand|anderhalve\"\n",
    "\n",
    "queryTokens = {}\n",
    "nonQueryTokens = {}\n",
    "tscoresDataQuery = {}\n",
    "tscoresDataNonQuery = {}\n",
    "queryTokens[FILEPATTERN],nonQueryTokens[FILEPATTERN] = getTokensOfMatchedTweets(FILEPATTERN,QUERY)\n",
    "tscoresDataQuery[FILEPATTERN] = makeTscoreData(queryTokens[FILEPATTERN])\n",
    "tscoresDataNonQuery[FILEPATTERN] = makeTscoreData(nonQueryTokens[FILEPATTERN])\n",
    "for x in dictTopN(sortTscores(tscore.computeTscore(tscoresDataQuery[FILEPATTERN],tscoresDataNonQuery[FILEPATTERN])),n=40): \n",
    "    print(round(x[0],1),x[1])"
   ]
  },
  {
   "cell_type": "markdown",
   "metadata": {},
   "source": [
    "**Note**: the query \"zorg\" produces many false positives. There are irrelevant types (\"bezorgd\" and \"bezorgen\"), irrelevant syntactical forms (\"ik zorg dat\" and \"Zorg dat je\") and even the correct sense is not always related to the pandemic topic (\"zorg voor ouderen/gehandicapten\")."
   ]
  },
  {
   "cell_type": "markdown",
   "metadata": {},
   "source": [
    "## Estimate coverage of crawler by looking back for messages with replies"
   ]
  },
  {
   "cell_type": "code",
   "execution_count": null,
   "metadata": {},
   "outputs": [],
   "source": [
    "DATEPATTERN = \"20200522\"\n",
    "\n",
    "fileList = sorted(os.listdir(DATADIR))\n",
    "seenIds = {}\n",
    "for inFileName in fileList:\n",
    "    if re.search(DATEPATTERN,inFileName):\n",
    "        df = pd.read_csv(DATADIR+inFileName,compression=\"gzip\",dtype=str)\n",
    "        known = 0\n",
    "        unknown = 0\n",
    "        for i in range(0,len(df)):\n",
    "            idstr = df.iloc[i][ID]\n",
    "            seenIds[idstr] = True\n",
    "            replyParent = df.iloc[i][REPLYID]\n",
    "            if str(replyParent) != \"nan\":\n",
    "                if replyParent in seenIds: known += 1\n",
    "                else: unknown += 1\n",
    "        print(\"{0} {1:.3f}\".format(inFileName,round(known/(known+unknown),3)))"
   ]
  },
  {
   "cell_type": "code",
   "execution_count": null,
   "metadata": {},
   "outputs": [],
   "source": []
  }
 ],
 "metadata": {
  "kernelspec": {
   "display_name": "Python 3",
   "language": "python",
   "name": "python3"
  },
  "language_info": {
   "codemirror_mode": {
    "name": "ipython",
    "version": 3
   },
   "file_extension": ".py",
   "mimetype": "text/x-python",
   "name": "python",
   "nbconvert_exporter": "python",
   "pygments_lexer": "ipython3",
   "version": "3.7.3"
  }
 },
 "nbformat": 4,
 "nbformat_minor": 4
}
