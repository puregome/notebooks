{
 "cells": [
  {
   "cell_type": "markdown",
   "metadata": {},
   "source": [
    "# Maps\n",
    "\n",
    "Generate maps from tweet data"
   ]
  },
  {
   "cell_type": "code",
   "execution_count": 1,
   "metadata": {},
   "outputs": [],
   "source": [
    "import matplotlib.image as mpimg\n",
    "import matplotlib.pyplot as plt\n",
    "import os\n",
    "import pandas as pd\n",
    "import re\n",
    "\n",
    "from IPython.display import clear_output"
   ]
  },
  {
   "cell_type": "code",
   "execution_count": 2,
   "metadata": {},
   "outputs": [],
   "source": [
    "BE = \"BE\"\n",
    "COORDINATESFILE = \"coordinates.csv\"\n",
    "COUNTRY = \"country\"\n",
    "DATADIRLOCATIONS = \"../data/locations/\"\n",
    "DATADIRTEXT = \"../data/text/\"\n",
    "IDSTR = \"id_str\"\n",
    "LATITUDE = \"latitude\"\n",
    "LOCATION = \"location\"\n",
    "LOCATIONLOWER = \"location_lower\"\n",
    "LONGITUDE = \"longitude\"\n",
    "NL = \"NL\"\n",
    "SCREENNAME = \"screenname\"\n",
    "TEXT = \"text\"\n",
    "UNKNOWN = \"-\"\n",
    "USER = \"user\""
   ]
  },
  {
   "cell_type": "code",
   "execution_count": 3,
   "metadata": {},
   "outputs": [],
   "source": [
    "MINFIRSTLOCATIONPARTLEN = 8\n",
    "\n",
    "def squeal(text=None):\n",
    "    clear_output(wait=True)\n",
    "    if not text is None: print(text)\n",
    "\n",
    "def read_coordinates():\n",
    "    df = pd.read_csv(DATADIRLOCATIONS+COORDINATESFILE)\n",
    "    return(df[df[COUNTRY]==NL])\n",
    "\n",
    "def read_user_locations(user_location_file):\n",
    "    return(pd.read_csv(DATADIRLOCATIONS+user_location_file,index_col=SCREENNAME))\n",
    "\n",
    "def add_clean_locations(user_locations):\n",
    "    locations = []\n",
    "    for i in range(0,len(user_locations)):\n",
    "        first_field_slash = str(user_locations.iloc[i][COUNTRY]).split(\"/\")[0].strip()\n",
    "        first_field_hyphen = first_field_slash.split(\" - \")[0].strip()\n",
    "        first_field_comma = first_field_hyphen.split(\",\")[0].strip()\n",
    "        try: first_field_space = str(first_field_comma).split()[0]\n",
    "        except: first_field_space = \"\"\n",
    "        if len(first_field_space) >= MINFIRSTLOCATIONPARTLEN: first_field_comma = first_field_space\n",
    "        first_field_comma = re.sub(\" *(nederland|the netherlands|netherlands|\\(nl\\)|belgië|belgie|belgium|\\(be\\))$\",\"\",\\\n",
    "                                   first_field_comma,flags=re.IGNORECASE)\n",
    "        first_field_comma = re.sub(\"[.?!:;]*$\",\"\",first_field_comma)\n",
    "        locations.append(first_field_comma.lower())\n",
    "    user_locations[LOCATIONLOWER] = locations\n",
    "    return(user_locations)\n",
    "\n",
    "def read_tweets(file_pattern):\n",
    "    file_name_list = sorted(os.listdir(DATADIRTEXT))\n",
    "    tweets_list = []\n",
    "    for file_name in file_name_list:\n",
    "        if re.search(file_pattern,file_name):\n",
    "            squeal(file_name)\n",
    "            tweets_list.append(pd.read_csv(DATADIRTEXT+file_name,index_col=IDSTR,compression=\"gzip\"))\n",
    "    return(pd.concat(tweets_list).drop_duplicates())"
   ]
  },
  {
   "cell_type": "code",
   "execution_count": 4,
   "metadata": {},
   "outputs": [
    {
     "name": "stdout",
     "output_type": "stream",
     "text": [
      "20200731-23.out.gz\n"
     ]
    }
   ],
   "source": [
    "MONTH = \"202007\"\n",
    "\n",
    "tweets = read_tweets(MONTH)"
   ]
  },
  {
   "cell_type": "code",
   "execution_count": 5,
   "metadata": {},
   "outputs": [],
   "source": [
    "LOCATIONSFILE = f\"locations-{MONTH}.csv\"\n",
    "\n",
    "user_locations = read_user_locations(LOCATIONSFILE)\n",
    "user_locations = user_locations[user_locations[COUNTRY] != UNKNOWN]\n",
    "user_locations = add_clean_locations(user_locations)"
   ]
  },
  {
   "cell_type": "code",
   "execution_count": 6,
   "metadata": {},
   "outputs": [],
   "source": [
    "coordinates = read_coordinates()\n",
    "coordinates[LOCATIONLOWER] = [location.lower() for location in coordinates[LOCATION]]\n",
    "coordinates = coordinates.set_index(LOCATIONLOWER)\n",
    "user_locations_with_coordinates = user_locations[user_locations[LOCATIONLOWER].isin(coordinates.index)]"
   ]
  },
  {
   "cell_type": "code",
   "execution_count": null,
   "metadata": {},
   "outputs": [
    {
     "name": "stdout",
     "output_type": "stream",
     "text": [
      "2000\n"
     ]
    }
   ],
   "source": [
    "#QUERYTOPIC = \"corona|covid|mondkapje|rivm|blijfthuis|houvol|huisarts|flattenthecurve\"\n",
    "#QUERYTOPIC = \"mondkapje\"\n",
    "QUERYTOPIC = \"1[.,]5[ -]*m|afstand.*hou|hou.*afstand|anderhalve[ -]*meter\"\n",
    "#QUERYTOPIC = \"\"\n",
    "\n",
    "location_counts = {}\n",
    "counter = 0\n",
    "if QUERYTOPIC == \"\":\n",
    "    selected_tweets = tweets[tweets[USER].isin(user_locations_with_coordinates.index)]\n",
    "    selected_tweet_groups = selected_tweets.groupby([USER])\n",
    "    for user in selected_tweet_groups.groups:\n",
    "        location = user_locations_with_coordinates.loc[user][LOCATIONLOWER]\n",
    "        if not location in location_counts: location_counts[location] = 0\n",
    "        location_counts[location] += len(selected_tweet_groups.groups[user])\n",
    "        counter += 1\n",
    "        if counter % 1000 == 0: squeal(counter)        \n",
    "else:\n",
    "    regex = re.compile(QUERYTOPIC,flags=re.IGNORECASE)\n",
    "    df = tweets[tweets[USER].isin(user_locations_with_coordinates.index)]\n",
    "    for i in range(0,len(df)):\n",
    "        if regex.search(str(df.iloc[i][TEXT])):\n",
    "            user = df.iloc[i][USER]\n",
    "            location = user_locations_with_coordinates.loc[user][LOCATIONLOWER]\n",
    "            if not location in location_counts: location_counts[location] = 1\n",
    "            else: location_counts[location] += 1\n",
    "            counter += 1\n",
    "            if counter % 100 == 0: squeal(counter)        \n",
    "squeal(counter)\n",
    "\n",
    "location_counts = {location:location_counts[location] \n",
    "                   for location in sorted(location_counts.keys(),key=lambda l:location_counts[l],reverse=True)}"
   ]
  },
  {
   "cell_type": "code",
   "execution_count": null,
   "metadata": {},
   "outputs": [],
   "source": [
    "print(f\"found: {sum(location_counts.values())} tweets; coverage: {round(sum(location_counts.values())/len(tweets)*100,1)}%\")"
   ]
  },
  {
   "cell_type": "code",
   "execution_count": null,
   "metadata": {},
   "outputs": [],
   "source": [
    "def make_plot_data(location_counts,coordinates):\n",
    "    x = []\n",
    "    y = []\n",
    "    data_values = []\n",
    "    labels = []\n",
    "    seen = {}\n",
    "    for location in location_counts:\n",
    "        key = str(coordinates.loc[location][LONGITUDE])+\" \"+str(coordinates.loc[location][LATITUDE])\n",
    "        if not key in seen:\n",
    "            if key != \"nan nan\":\n",
    "                x.append(coordinates.loc[location][LONGITUDE])\n",
    "                y.append(coordinates.loc[location][LATITUDE])\n",
    "                data_values.append(location_counts[location])\n",
    "                labels.append(location)\n",
    "                seen[key] = len(x)-1\n",
    "        else:\n",
    "            data_values[seen[key]] = data_values[seen[key]]+location_counts[location]\n",
    "    return(x,y,data_values,labels)"
   ]
  },
  {
   "cell_type": "code",
   "execution_count": null,
   "metadata": {},
   "outputs": [],
   "source": [
    "x,y,data_values,labels = make_plot_data(location_counts,coordinates)\n",
    "len(data_values)"
   ]
  },
  {
   "cell_type": "code",
   "execution_count": null,
   "metadata": {},
   "outputs": [],
   "source": [
    "def find_missing_locations(x,y,coordinates):\n",
    "    keys = {}\n",
    "    for i in range(0,len(x)):\n",
    "        key = \" \".join([str(x[i]),str(y[i])])\n",
    "        keys[key] = True\n",
    "    for location in coordinates.index:\n",
    "        key = \" \".join([str(coordinates.loc[location][LONGITUDE]),str(coordinates.loc[location][LATITUDE])])\n",
    "        if not key in keys.keys(): print(location)\n",
    "find_missing_locations(x,y,coordinates)"
   ]
  },
  {
   "cell_type": "code",
   "execution_count": null,
   "metadata": {},
   "outputs": [],
   "source": [
    "[(data_values[i],labels[i]) for i in sorted(range(0,len(data_values)),key=lambda j:data_values[j],reverse=True)][:10]"
   ]
  },
  {
   "cell_type": "code",
   "execution_count": null,
   "metadata": {},
   "outputs": [],
   "source": [
    "[(data_values[i],labels[i],int(coordinates.loc[labels[i]][\"population_size\"])) \\\n",
    "                               for i in sorted(range(0,len(data_values)),key=lambda j:data_values[j],reverse=True)][-20:]"
   ]
  },
  {
   "cell_type": "code",
   "execution_count": null,
   "metadata": {},
   "outputs": [],
   "source": [
    "BLOBFACTOR = 0.01*778888/location_counts[\"amsterdam\"]\n",
    "FONTSIZE = 7\n",
    "PLOTFILENAME = f\"map-{MONTH}.png\"\n",
    "\n",
    "img_netherlands = mpimg.imread(\"nederland.png\")\n",
    "plt.figure(figsize=(12.5,15))\n",
    "plt.imshow(img_netherlands,alpha=0.4,extent=[3.3,7.2,50.75,53.55],aspect=\"auto\")\n",
    "plt.scatter(x,y,s=[data_value*BLOBFACTOR for data_value in data_values],alpha=0.6)\n",
    "seen = {}\n",
    "for i in range(0,len(labels)): plt.annotate(labels[i],(x[i],y[i]),fontsize=FONTSIZE)\n",
    "plt.savefig(PLOTFILENAME)\n",
    "plt.show()"
   ]
  },
  {
   "cell_type": "code",
   "execution_count": null,
   "metadata": {},
   "outputs": [],
   "source": [
    "import matplotlib\n",
    "\n",
    "PLOTFILENAME = f\"correlation-{MONTH}.png\"\n",
    "\n",
    "font = {\"size\":14}\n",
    "matplotlib.rc(\"font\",**font)\n",
    "\n",
    "x_correlation = []\n",
    "y_correlation = []\n",
    "labels_correlation = []\n",
    "for i in range(0,len(data_values)):\n",
    "    location = labels[i]\n",
    "    nbr_of_tweets = data_values[i]\n",
    "    population_size = int(coordinates.loc[location][\"population_size\"])\n",
    "    if population_size == population_size: \n",
    "        x_correlation.append(population_size)\n",
    "        y_correlation.append(nbr_of_tweets)\n",
    "        labels_correlation.append(location)\n",
    "\n",
    "plt.figure(figsize=(6,4))\n",
    "plt.scatter(x_correlation,y_correlation)\n",
    "plt.xscale(\"log\")\n",
    "plt.yscale(\"log\")\n",
    "plt.xlabel(\"population size\")\n",
    "plt.ylabel(\"number of tweets\")\n",
    "plt.tight_layout()\n",
    "plt.savefig(PLOTFILENAME)\n",
    "plt.show()"
   ]
  },
  {
   "cell_type": "markdown",
   "metadata": {},
   "source": [
    "## time-consuming..."
   ]
  },
  {
   "cell_type": "code",
   "execution_count": null,
   "metadata": {},
   "outputs": [],
   "source": [
    "def get_locations_without_coordinates():\n",
    "    user_locations_without_coordinates = user_locations[~user_locations[LOCATIONLOWER].isin(coordinates.index)]\n",
    "\n",
    "    missing_location_counts = {}\n",
    "    counter = 0\n",
    "    selected_tweets = tweets[tweets[USER].isin(user_locations_without_coordinates.index)]\n",
    "    selected_tweet_groups = selected_tweets.groupby([USER])\n",
    "    for user in selected_tweet_groups.groups:\n",
    "        location = user_locations_without_coordinates.loc[user][LOCATIONLOWER]\n",
    "        if not location in missing_location_counts: missing_location_counts[location] = 0\n",
    "        missing_location_counts[location] += len(selected_tweet_groups.groups[user])\n",
    "        counter += 1\n",
    "        if counter % 1000 == 0: squeal(counter)        \n",
    "    return(missing_location_counts)"
   ]
  },
  {
   "cell_type": "code",
   "execution_count": null,
   "metadata": {},
   "outputs": [],
   "source": [
    "#missing_location_counts = get_locations_without_coordinates()\n",
    "#{location:missing_location_counts[location] \\\n",
    "#    for location in sorted(missing_location_counts.keys(),key=lambda l:missing_location_counts[l],reverse=True)}"
   ]
  },
  {
   "cell_type": "code",
   "execution_count": null,
   "metadata": {},
   "outputs": [],
   "source": []
  }
 ],
 "metadata": {
  "kernelspec": {
   "display_name": "Python 3",
   "language": "python",
   "name": "python3"
  },
  "language_info": {
   "codemirror_mode": {
    "name": "ipython",
    "version": 3
   },
   "file_extension": ".py",
   "mimetype": "text/x-python",
   "name": "python",
   "nbconvert_exporter": "python",
   "pygments_lexer": "ipython3",
   "version": "3.7.3"
  }
 },
 "nbformat": 4,
 "nbformat_minor": 4
}
