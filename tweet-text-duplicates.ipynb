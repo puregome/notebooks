{
 "cells": [
  {
   "cell_type": "markdown",
   "metadata": {},
   "source": [
    "# Tweet text duplicates\n",
    "\n",
    "Count tweets with the same text"
   ]
  },
  {
   "cell_type": "code",
   "execution_count": null,
   "metadata": {},
   "outputs": [],
   "source": [
    "import os\n",
    "import pandas as pd\n",
    "import re"
   ]
  },
  {
   "cell_type": "code",
   "execution_count": null,
   "metadata": {},
   "outputs": [],
   "source": [
    "DATADIR = \"/home/erikt/projects/puregome/data/text/\"\n",
    "TEXT = \"text\""
   ]
  },
  {
   "cell_type": "code",
   "execution_count": null,
   "metadata": {},
   "outputs": [],
   "source": [
    "SPYNBR = 400\n",
    "FILEPATTERN = \"20200703\"\n",
    "\n",
    "files = sorted(os.listdir(DATADIR))\n",
    "tweetTexts = {}\n",
    "for inFileName in files:\n",
    "    if re.search(FILEPATTERN,inFileName):\n",
    "        df = pd.read_csv(DATADIR+inFileName)\n",
    "        for i in range(0,len(df)):\n",
    "            text = df.iloc[i][TEXT]\n",
    "            if not text in tweetTexts: tweetTexts[text] = 1\n",
    "            else:\n",
    "                tweetTexts[text] += 1\n",
    "                if tweetTexts[text] == SPYNBR: print(text)"
   ]
  },
  {
   "cell_type": "code",
   "execution_count": null,
   "metadata": {},
   "outputs": [],
   "source": [
    "MAX = 20\n",
    "\n",
    "counter = 0\n",
    "for text in sorted(tweetTexts.keys(),key=lambda k:tweetTexts[k],reverse=True):\n",
    "    print(counter,tweetTexts[text],text)\n",
    "    counter += 1\n",
    "    if counter > MAX: break"
   ]
  },
  {
   "cell_type": "code",
   "execution_count": null,
   "metadata": {},
   "outputs": [],
   "source": []
  }
 ],
 "metadata": {
  "kernelspec": {
   "display_name": "Python 3",
   "language": "python",
   "name": "python3"
  },
  "language_info": {
   "codemirror_mode": {
    "name": "ipython",
    "version": 3
   },
   "file_extension": ".py",
   "mimetype": "text/x-python",
   "name": "python",
   "nbconvert_exporter": "python",
   "pygments_lexer": "ipython3",
   "version": "3.7.3"
  }
 },
 "nbformat": 4,
 "nbformat_minor": 4
}
